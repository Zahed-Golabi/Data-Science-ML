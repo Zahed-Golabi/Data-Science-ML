{
 "cells": [
  {
   "cell_type": "markdown",
   "id": "e39dcf8b",
   "metadata": {},
   "source": [
    "# Python Crash Course Exercises and Solutions\n",
    "\n",
    "This is an optional exercise to test your understanding of Python Basics.\n"
   ]
  },
  {
   "cell_type": "markdown",
   "id": "334e6548",
   "metadata": {},
   "source": [
    "### Exercises"
   ]
  },
  {
   "cell_type": "markdown",
   "id": "565d06ad",
   "metadata": {},
   "source": [
    "<b>What is 7 to the power of 4?</b>"
   ]
  },
  {
   "cell_type": "code",
   "execution_count": 1,
   "id": "6eba1a5f",
   "metadata": {},
   "outputs": [
    {
     "data": {
      "text/plain": [
       "2401"
      ]
     },
     "execution_count": 1,
     "metadata": {},
     "output_type": "execute_result"
    }
   ],
   "source": [
    "7 ** 4"
   ]
  },
  {
   "cell_type": "markdown",
   "id": "02371bd9",
   "metadata": {},
   "source": [
    "<b>split this string into a list</b>\n"
   ]
  },
  {
   "cell_type": "code",
   "execution_count": 2,
   "id": "884c8d80",
   "metadata": {},
   "outputs": [],
   "source": [
    "s = \"Hi there Zahed!\"\n",
    "my_list = s.split()"
   ]
  },
  {
   "cell_type": "code",
   "execution_count": 3,
   "id": "479e18b2",
   "metadata": {},
   "outputs": [
    {
     "data": {
      "text/plain": [
       "['Hi', 'there', 'Zahed!']"
      ]
     },
     "execution_count": 3,
     "metadata": {},
     "output_type": "execute_result"
    }
   ],
   "source": [
    "my_list"
   ]
  },
  {
   "cell_type": "markdown",
   "id": "739514cb",
   "metadata": {},
   "source": [
    "<b>Given the variables<br> planet = \"Earth\", diameter = 12742</b>\n"
   ]
  },
  {
   "cell_type": "code",
   "execution_count": 24,
   "id": "ea81b9ee",
   "metadata": {},
   "outputs": [
    {
     "name": "stdout",
     "output_type": "stream",
     "text": [
      "The planet is Earth and its diameter is: 12742\n"
     ]
    }
   ],
   "source": [
    "planet = \"Earth\"\n",
    "diameter = 12742\n",
    "print(\"The planet is {} and its diameter is: {}\".format(planet, diameter))\n",
    "\n"
   ]
  },
  {
   "cell_type": "markdown",
   "id": "d51ef912",
   "metadata": {},
   "source": [
    "<b>Given this nest dictionary grab the word \"hello\"</b>\n"
   ]
  },
  {
   "cell_type": "code",
   "execution_count": 6,
   "id": "8cbb2660",
   "metadata": {},
   "outputs": [],
   "source": [
    "d = {\"k1\":[1,2,3,{\"tricky\":[\"oh\",\"man\", \"inception\", {\"target\":[1,2,3,\"hello\"]}]}]}"
   ]
  },
  {
   "cell_type": "code",
   "execution_count": 25,
   "id": "68a49e2e",
   "metadata": {},
   "outputs": [
    {
     "data": {
      "text/plain": [
       "'hello'"
      ]
     },
     "execution_count": 25,
     "metadata": {},
     "output_type": "execute_result"
    }
   ],
   "source": [
    "d[\"k1\"][3][\"tricky\"][3][\"target\"][-1]"
   ]
  },
  {
   "cell_type": "markdown",
   "id": "863f44be",
   "metadata": {},
   "source": [
    "<b>create a function that grabs the email website domain from a string in the form user@domain.com</b>\n"
   ]
  },
  {
   "cell_type": "code",
   "execution_count": 8,
   "id": "96ee392f",
   "metadata": {},
   "outputs": [],
   "source": [
    "def domainGet(domain):\n",
    "    return domain.split(\"@\")[1]"
   ]
  },
  {
   "cell_type": "code",
   "execution_count": 9,
   "id": "4048451a",
   "metadata": {},
   "outputs": [
    {
     "data": {
      "text/plain": [
       "'domain.com'"
      ]
     },
     "execution_count": 9,
     "metadata": {},
     "output_type": "execute_result"
    }
   ],
   "source": [
    "domainGet(\"user@domain.com\")"
   ]
  },
  {
   "cell_type": "markdown",
   "id": "cfac60c0",
   "metadata": {},
   "source": [
    "<b>Create a basic function that returns True if the word 'dog' is contained in the input string</b>\n"
   ]
  },
  {
   "cell_type": "code",
   "execution_count": 26,
   "id": "92f71b3d",
   "metadata": {},
   "outputs": [],
   "source": [
    "def findDog(name):\n",
    "    name = name.lower()\n",
    "    return \"dog\" in name.split()"
   ]
  },
  {
   "cell_type": "code",
   "execution_count": 27,
   "id": "53a93198",
   "metadata": {},
   "outputs": [
    {
     "data": {
      "text/plain": [
       "True"
      ]
     },
     "execution_count": 27,
     "metadata": {},
     "output_type": "execute_result"
    }
   ],
   "source": [
    "findDog(\"Is there a dog here?\")"
   ]
  },
  {
   "cell_type": "markdown",
   "id": "13e81a90",
   "metadata": {},
   "source": [
    "<b>Create a function that counts the number of times the word \"dog\" occurs in a string</b>\n"
   ]
  },
  {
   "cell_type": "code",
   "execution_count": 12,
   "id": "f0ebb7aa",
   "metadata": {},
   "outputs": [],
   "source": [
    "def countDog(s):\n",
    "    s = s.lower()\n",
    "    return s.count(\"dog\")"
   ]
  },
  {
   "cell_type": "code",
   "execution_count": 13,
   "id": "c0bd9482",
   "metadata": {},
   "outputs": [
    {
     "data": {
      "text/plain": [
       "2"
      ]
     },
     "execution_count": 13,
     "metadata": {},
     "output_type": "execute_result"
    }
   ],
   "source": [
    "countDog(\"This dog runs faster than the other dog dude!\")"
   ]
  },
  {
   "cell_type": "markdown",
   "id": "1043821a",
   "metadata": {},
   "source": [
    "\n",
    "Use lambda expressions and the filter function\n",
    "to filter out words from a list that don't start with the letter\n",
    "'s'. For example\n",
    "\n",
    "seq = [\"soup\", \"dog\", \"salad\", \"cat\", \"great\"]\n",
    "\n",
    "should be filtered down to:\n",
    "[\"soup\", \"salad\"]\n",
    "\n",
    "\n"
   ]
  },
  {
   "cell_type": "code",
   "execution_count": 20,
   "id": "9de4362b",
   "metadata": {},
   "outputs": [],
   "source": [
    "seq = [\"soup\", \"dog\", \"salad\", \"cat\", \"great\"]\n",
    "\n",
    "out = list(filter(lambda var: var.startswith(\"s\"), seq))"
   ]
  },
  {
   "cell_type": "code",
   "execution_count": 21,
   "id": "7d72cd8f",
   "metadata": {},
   "outputs": [
    {
     "data": {
      "text/plain": [
       "['soup', 'salad']"
      ]
     },
     "execution_count": 21,
     "metadata": {},
     "output_type": "execute_result"
    }
   ],
   "source": [
    "out"
   ]
  },
  {
   "cell_type": "markdown",
   "id": "cadc0256",
   "metadata": {},
   "source": [
    "<h2> Fianl Problem </h2>\n",
    "\n",
    "You are driving a little too fast, and a police officer \n",
    "    stops you. Write a function to return one of 3 possible results: \"No Ticket\", \"Small Ticket\", or \"Big Ticket\". \n",
    "    if your speed is 60 or less, the result is \"No Ticket\"\n",
    "    if speed is between 61 and 80 inclusive, the result is \"Small Ticket\".\n",
    "    if speed is 81 or morem the result is \"Big Ticket\". Unless it is your birthday (encoded boolean value in the parameters of the function)-- on your birthday, your speed can be 5 higher in all cases\n"
   ]
  },
  {
   "cell_type": "code",
   "execution_count": 22,
   "id": "ea0a062a",
   "metadata": {},
   "outputs": [],
   "source": [
    "def caught_speeding(speed, is_birthday):\n",
    "    \n",
    "    if is_birthday:\n",
    "        speed = speed - 5\n",
    "    \n",
    "    if speed <= 60:\n",
    "        return \"No Ticket\"\n",
    "    elif 61 <= speed <= 80:\n",
    "        return \"Small Ticket\"\n",
    "    else:\n",
    "        return \"Big Ticket\""
   ]
  },
  {
   "cell_type": "code",
   "execution_count": 23,
   "id": "d28c6565",
   "metadata": {},
   "outputs": [
    {
     "data": {
      "text/plain": [
       "'Small Ticket'"
      ]
     },
     "execution_count": 23,
     "metadata": {},
     "output_type": "execute_result"
    }
   ],
   "source": [
    "caught_speeding(81, True)"
   ]
  },
  {
   "cell_type": "code",
   "execution_count": 28,
   "id": "7e4b2f3f",
   "metadata": {},
   "outputs": [
    {
     "data": {
      "text/plain": [
       "'Big Ticket'"
      ]
     },
     "execution_count": 28,
     "metadata": {},
     "output_type": "execute_result"
    }
   ],
   "source": [
    "caught_speeding(81, False)"
   ]
  },
  {
   "cell_type": "markdown",
   "id": "e69d0f51",
   "metadata": {},
   "source": [
    "<h2> Well Done! </h2>"
   ]
  },
  {
   "cell_type": "code",
   "execution_count": null,
   "id": "9b23d4b9",
   "metadata": {},
   "outputs": [],
   "source": []
  }
 ],
 "metadata": {
  "kernelspec": {
   "display_name": "Python 3 (ipykernel)",
   "language": "python",
   "name": "python3"
  },
  "language_info": {
   "codemirror_mode": {
    "name": "ipython",
    "version": 3
   },
   "file_extension": ".py",
   "mimetype": "text/x-python",
   "name": "python",
   "nbconvert_exporter": "python",
   "pygments_lexer": "ipython3",
   "version": "3.9.12"
  }
 },
 "nbformat": 4,
 "nbformat_minor": 5
}
