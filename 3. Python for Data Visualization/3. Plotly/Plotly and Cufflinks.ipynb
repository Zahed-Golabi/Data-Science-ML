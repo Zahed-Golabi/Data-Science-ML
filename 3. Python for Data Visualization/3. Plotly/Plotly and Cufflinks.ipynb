{
 "cells": [
  {
   "cell_type": "markdown",
   "id": "90c6be79",
   "metadata": {},
   "source": [
    "<h1> Plotly and Cufflinks </h1>\n",
    "\n",
    "- Plotly is an interactive visualizaion library\n",
    "- Cufflinks connects plotly with pandas\n",
    "- Before we we explore these libraries you'll need to install them."
   ]
  },
  {
   "cell_type": "markdown",
   "id": "d1ca6b6e",
   "metadata": {},
   "source": [
    "<b> ```pip install plotly``` </b>"
   ]
  },
  {
   "cell_type": "markdown",
   "id": "485ce030",
   "metadata": {},
   "source": [
    "<b>```pip install cufflinks```</b>"
   ]
  },
  {
   "cell_type": "code",
   "execution_count": 1,
   "id": "85ecc6fe",
   "metadata": {},
   "outputs": [],
   "source": [
    "import numpy as np\n",
    "import pandas as pd"
   ]
  },
  {
   "cell_type": "code",
   "execution_count": 2,
   "id": "815bf04e",
   "metadata": {},
   "outputs": [],
   "source": [
    "from plotly import __version__"
   ]
  },
  {
   "cell_type": "code",
   "execution_count": 3,
   "id": "d4c0ab87",
   "metadata": {},
   "outputs": [],
   "source": [
    "import cufflinks as cf"
   ]
  },
  {
   "cell_type": "code",
   "execution_count": 4,
   "id": "78fce3f2",
   "metadata": {},
   "outputs": [],
   "source": [
    "from plotly.offline import download_plotlyjs, init_notebook_mode, plot,iplot"
   ]
  },
  {
   "cell_type": "code",
   "execution_count": 5,
   "id": "0e92ee07",
   "metadata": {},
   "outputs": [
    {
     "data": {
      "text/html": [
       "        <script type=\"text/javascript\">\n",
       "        window.PlotlyConfig = {MathJaxConfig: 'local'};\n",
       "        if (window.MathJax) {MathJax.Hub.Config({SVG: {font: \"STIX-Web\"}});}\n",
       "        if (typeof require !== 'undefined') {\n",
       "        require.undef(\"plotly\");\n",
       "        requirejs.config({\n",
       "            paths: {\n",
       "                'plotly': ['https://cdn.plot.ly/plotly-2.9.0.min']\n",
       "            }\n",
       "        });\n",
       "        require(['plotly'], function(Plotly) {\n",
       "            window._Plotly = Plotly;\n",
       "        });\n",
       "        }\n",
       "        </script>\n",
       "        "
      ]
     },
     "metadata": {},
     "output_type": "display_data"
    }
   ],
   "source": [
    "init_notebook_mode(connected=True)"
   ]
  },
  {
   "cell_type": "code",
   "execution_count": 6,
   "id": "dd30841c",
   "metadata": {},
   "outputs": [
    {
     "data": {
      "text/html": [
       "        <script type=\"text/javascript\">\n",
       "        window.PlotlyConfig = {MathJaxConfig: 'local'};\n",
       "        if (window.MathJax) {MathJax.Hub.Config({SVG: {font: \"STIX-Web\"}});}\n",
       "        if (typeof require !== 'undefined') {\n",
       "        require.undef(\"plotly\");\n",
       "        requirejs.config({\n",
       "            paths: {\n",
       "                'plotly': ['https://cdn.plot.ly/plotly-2.9.0.min']\n",
       "            }\n",
       "        });\n",
       "        require(['plotly'], function(Plotly) {\n",
       "            window._Plotly = Plotly;\n",
       "        });\n",
       "        }\n",
       "        </script>\n",
       "        "
      ]
     },
     "metadata": {},
     "output_type": "display_data"
    }
   ],
   "source": [
    "cf.go_offline()"
   ]
  },
  {
   "cell_type": "code",
   "execution_count": 13,
   "id": "8fdb8acd",
   "metadata": {},
   "outputs": [],
   "source": [
    "# DATA\n",
    "df1 = pd.DataFrame(np.random.randn(100,4), columns=\"A B C D\".split())"
   ]
  },
  {
   "cell_type": "code",
   "execution_count": 14,
   "id": "4f28febf",
   "metadata": {},
   "outputs": [],
   "source": [
    "df2 = pd.DataFrame({\"Category\":[\"A\",\"B\",\"C\"], \"Values\":[32,43,50]})"
   ]
  },
  {
   "cell_type": "code",
   "execution_count": 15,
   "id": "ac93d30f",
   "metadata": {},
   "outputs": [
    {
     "data": {
      "text/html": [
       "<div>\n",
       "<style scoped>\n",
       "    .dataframe tbody tr th:only-of-type {\n",
       "        vertical-align: middle;\n",
       "    }\n",
       "\n",
       "    .dataframe tbody tr th {\n",
       "        vertical-align: top;\n",
       "    }\n",
       "\n",
       "    .dataframe thead th {\n",
       "        text-align: right;\n",
       "    }\n",
       "</style>\n",
       "<table border=\"1\" class=\"dataframe\">\n",
       "  <thead>\n",
       "    <tr style=\"text-align: right;\">\n",
       "      <th></th>\n",
       "      <th>Category</th>\n",
       "      <th>Values</th>\n",
       "    </tr>\n",
       "  </thead>\n",
       "  <tbody>\n",
       "    <tr>\n",
       "      <th>0</th>\n",
       "      <td>A</td>\n",
       "      <td>32</td>\n",
       "    </tr>\n",
       "    <tr>\n",
       "      <th>1</th>\n",
       "      <td>B</td>\n",
       "      <td>43</td>\n",
       "    </tr>\n",
       "    <tr>\n",
       "      <th>2</th>\n",
       "      <td>C</td>\n",
       "      <td>50</td>\n",
       "    </tr>\n",
       "  </tbody>\n",
       "</table>\n",
       "</div>"
      ],
      "text/plain": [
       "  Category  Values\n",
       "0        A      32\n",
       "1        B      43\n",
       "2        C      50"
      ]
     },
     "execution_count": 15,
     "metadata": {},
     "output_type": "execute_result"
    }
   ],
   "source": [
    "df2"
   ]
  },
  {
   "cell_type": "code",
   "execution_count": 16,
   "id": "c7cf248c",
   "metadata": {},
   "outputs": [
    {
     "data": {
      "text/html": [
       "<div>\n",
       "<style scoped>\n",
       "    .dataframe tbody tr th:only-of-type {\n",
       "        vertical-align: middle;\n",
       "    }\n",
       "\n",
       "    .dataframe tbody tr th {\n",
       "        vertical-align: top;\n",
       "    }\n",
       "\n",
       "    .dataframe thead th {\n",
       "        text-align: right;\n",
       "    }\n",
       "</style>\n",
       "<table border=\"1\" class=\"dataframe\">\n",
       "  <thead>\n",
       "    <tr style=\"text-align: right;\">\n",
       "      <th></th>\n",
       "      <th>A</th>\n",
       "      <th>B</th>\n",
       "      <th>C</th>\n",
       "      <th>D</th>\n",
       "    </tr>\n",
       "  </thead>\n",
       "  <tbody>\n",
       "    <tr>\n",
       "      <th>0</th>\n",
       "      <td>-0.671584</td>\n",
       "      <td>2.258471</td>\n",
       "      <td>0.971549</td>\n",
       "      <td>1.278867</td>\n",
       "    </tr>\n",
       "    <tr>\n",
       "      <th>1</th>\n",
       "      <td>-0.015694</td>\n",
       "      <td>-0.730280</td>\n",
       "      <td>0.178056</td>\n",
       "      <td>0.546349</td>\n",
       "    </tr>\n",
       "    <tr>\n",
       "      <th>2</th>\n",
       "      <td>-1.237787</td>\n",
       "      <td>-0.263944</td>\n",
       "      <td>1.022621</td>\n",
       "      <td>-0.845827</td>\n",
       "    </tr>\n",
       "    <tr>\n",
       "      <th>3</th>\n",
       "      <td>0.025037</td>\n",
       "      <td>-1.690725</td>\n",
       "      <td>-0.869438</td>\n",
       "      <td>1.891968</td>\n",
       "    </tr>\n",
       "    <tr>\n",
       "      <th>4</th>\n",
       "      <td>-0.145294</td>\n",
       "      <td>0.125404</td>\n",
       "      <td>-0.231662</td>\n",
       "      <td>0.027130</td>\n",
       "    </tr>\n",
       "    <tr>\n",
       "      <th>...</th>\n",
       "      <td>...</td>\n",
       "      <td>...</td>\n",
       "      <td>...</td>\n",
       "      <td>...</td>\n",
       "    </tr>\n",
       "    <tr>\n",
       "      <th>95</th>\n",
       "      <td>-1.145636</td>\n",
       "      <td>-1.347006</td>\n",
       "      <td>1.064908</td>\n",
       "      <td>1.325960</td>\n",
       "    </tr>\n",
       "    <tr>\n",
       "      <th>96</th>\n",
       "      <td>0.564701</td>\n",
       "      <td>0.006209</td>\n",
       "      <td>-0.562386</td>\n",
       "      <td>1.146304</td>\n",
       "    </tr>\n",
       "    <tr>\n",
       "      <th>97</th>\n",
       "      <td>1.407930</td>\n",
       "      <td>-1.499857</td>\n",
       "      <td>-0.583403</td>\n",
       "      <td>0.161924</td>\n",
       "    </tr>\n",
       "    <tr>\n",
       "      <th>98</th>\n",
       "      <td>0.701535</td>\n",
       "      <td>-0.888770</td>\n",
       "      <td>0.160861</td>\n",
       "      <td>-0.430256</td>\n",
       "    </tr>\n",
       "    <tr>\n",
       "      <th>99</th>\n",
       "      <td>0.299681</td>\n",
       "      <td>-0.439459</td>\n",
       "      <td>1.124462</td>\n",
       "      <td>1.252212</td>\n",
       "    </tr>\n",
       "  </tbody>\n",
       "</table>\n",
       "<p>100 rows × 4 columns</p>\n",
       "</div>"
      ],
      "text/plain": [
       "           A         B         C         D\n",
       "0  -0.671584  2.258471  0.971549  1.278867\n",
       "1  -0.015694 -0.730280  0.178056  0.546349\n",
       "2  -1.237787 -0.263944  1.022621 -0.845827\n",
       "3   0.025037 -1.690725 -0.869438  1.891968\n",
       "4  -0.145294  0.125404 -0.231662  0.027130\n",
       "..       ...       ...       ...       ...\n",
       "95 -1.145636 -1.347006  1.064908  1.325960\n",
       "96  0.564701  0.006209 -0.562386  1.146304\n",
       "97  1.407930 -1.499857 -0.583403  0.161924\n",
       "98  0.701535 -0.888770  0.160861 -0.430256\n",
       "99  0.299681 -0.439459  1.124462  1.252212\n",
       "\n",
       "[100 rows x 4 columns]"
      ]
     },
     "execution_count": 16,
     "metadata": {},
     "output_type": "execute_result"
    }
   ],
   "source": [
    "df"
   ]
  },
  {
   "cell_type": "code",
   "execution_count": 17,
   "id": "4a2b70be",
   "metadata": {},
   "outputs": [
    {
     "data": {
      "text/plain": [
       "<AxesSubplot:>"
      ]
     },
     "execution_count": 17,
     "metadata": {},
     "output_type": "execute_result"
    },
    {
     "data": {
      "image/png": "[encoded data removed]",
      "text/plain": [
       "<Figure size 432x288 with 1 Axes>"
      ]
     },
     "metadata": {
      "needs_background": "light"
     },
     "output_type": "display_data"
    }
   ],
   "source": [
    "df1.plot()"
   ]
  },
  {
   "cell_type": "code",
   "execution_count": 18,
   "id": "34c21d54",
   "metadata": {},
   "outputs": [
    {
     "data": {
      "application/vnd.plotly.v1+json": {
       "config": {
        "linkText": "Export to plot.ly",
        "plotlyServerURL": "https://plot.ly",
        "showLink": true
       },
       "data": [
        {
         "line": {
          "color": "rgba(255, 153, 51, 1.0)",
          "dash": "solid",
          "shape": "linear",
          "width": 1.3
         },
         "mode": "lines",
         "name": "A",
         "text": "",
         "type": "scatter",
         "x": [
          0,
          1,
          2,
          3,
          4,
          5,
          6,
          7,
          8,
          9,
          10,
          11,
          12,
          13,
          14,
          15,
          16,
          17,
          18,
          19,
          20,
          21,
          22,
          23,
          24,
          25,
          26,
          27,
          28,
          29,
          30,
          31,
          32,
          33,
          34,
          35,
          36,
          37,
          38,
          39,
          40,
          41,
          42,
          43,
          44,
          45,
          46,
          47,
          48,
          49,
          50,
          51,
          52,
          53,
          54,
          55,
          56,
          57,
          58,
          59,
          60,
          61,
          62,
          63,
          64,
          65,
          66,
          67,
          68,
          69,
          70,
          71,
          72,
          73,
          74,
          75,
          76,
          77,
          78,
          79,
          80,
          81,
          82,
          83,
          84,
          85,
          86,
          87,
          88,
          89,
          90,
          91,
          92,
          93,
          94,
          95,
          96,
          97,
          98,
          99
         ],
         "y": [
          -1.5860134090116866,
          0.9274341987192442,
          -0.9762444473030839,
          1.156816478828888,
          -0.242393020431529,
          0.3658661061076631,
          -0.32884347637865063,
          -0.7843856618643812,
          -0.16230849353665586,
          0.2160566141325843,
          0.09488267160010981,
          -0.7473716756146999,
          1.7440517401864175,
          -1.0011753997767863,
          -0.18215840764473576,
          0.4018796805877871,
          -0.6135309871435983,
          -2.079389212549666,
          0.23106022177266736,
          -0.45571564831106187,
          1.3188535756734368,
          -1.2484686619627932,
          -2.1557349157011396,
          -0.6413749067969102,
          1.984261532573052,
          0.5012010530631451,
          0.21512083602091397,
          -0.558205527705548,
          0.14204517265741703,
          -0.6511171286850072,
          0.9760822312705928,
          -1.1989746858724355,
          -0.44233800472944795,
          0.6020080772279828,
          0.5310322898976169,
          1.1303903707259588,
          1.5142447071264193,
          -0.04358317734529377,
          1.0306022371577925,
          1.0400904170808154,
          0.64883519571506,
          -2.173258432759064,
          -0.07614582456348083,
          1.0405839611686214,
          -0.39711742884277623,
          0.32766189492180053,
          -0.8436067376188089,
          -0.017269384493230185,
          1.571276688331357,
          1.9963152622649702,
          0.3819524247516574,
          1.4410320918970343,
          -0.6663318032774534,
          1.18225971311963,
          1.0579046463052426,
          1.1432416134662429,
          1.2242524339330336,
          0.46146197162961955,
          -0.7767414148887288,
          0.10307340698574169,
          1.337178188616223,
          -0.8274151443552817,
          -0.7644470953586763,
          -1.2106145802497552,
          0.1403479523423119,
          0.001975554072475761,
          -0.6174465550500117,
          0.4688231976483499,
          0.7645685844346921,
          0.7685313514609825,
          -0.4062139130708948,
          -2.2476389899473324,
          -1.2813236664358285,
          0.4990740133928327,
          -0.6578116017019612,
          -0.6640628389585511,
          -0.357864798989924,
          -1.6729457194027304,
          2.442991825496139,
          -1.8462353301991539,
          0.6879530972282243,
          0.3797085093935498,
          -0.14877442120258536,
          -0.6595086088687263,
          0.314284369048765,
          1.1818518556481579,
          -0.27023116685307313,
          0.16911123724350882,
          -0.2684950791947941,
          -0.0407394969368081,
          1.6707519519124296,
          0.13156203612669848,
          0.6916032574356988,
          -0.4677181913508789,
          -0.9554953899235631,
          1.156425864392585,
          0.18059611632298583,
          0.7366316662288631,
          0.22040930005047488,
          -0.5615539396878966
         ]
        },
        {
         "line": {
          "color": "rgba(55, 128, 191, 1.0)",
          "dash": "solid",
          "shape": "linear",
          "width": 1.3
         },
         "mode": "lines",
         "name": "B",
         "text": "",
         "type": "scatter",
         "x": [
          0,
          1,
          2,
          3,
          4,
          5,
          6,
          7,
          8,
          9,
          10,
          11,
          12,
          13,
          14,
          15,
          16,
          17,
          18,
          19,
          20,
          21,
          22,
          23,
          24,
          25,
          26,
          27,
          28,
          29,
          30,
          31,
          32,
          33,
          34,
          35,
          36,
          37,
          38,
          39,
          40,
          41,
          42,
          43,
          44,
          45,
          46,
          47,
          48,
          49,
          50,
          51,
          52,
          53,
          54,
          55,
          56,
          57,
          58,
          59,
          60,
          61,
          62,
          63,
          64,
          65,
          66,
          67,
          68,
          69,
          70,
          71,
          72,
          73,
          74,
          75,
          76,
          77,
          78,
          79,
          80,
          81,
          82,
          83,
          84,
          85,
          86,
          87,
          88,
          89,
          90,
          91,
          92,
          93,
          94,
          95,
          96,
          97,
          98,
          99
         ],
         "y": [
          -1.4373918705042834,
          1.012094339901708,
          -0.21652566691947905,
          0.155969167306907,
          -1.07942763093398,
          0.20683358045049557,
          0.8692509076328989,
          -0.618003101032969,
          0.41388713373849545,
          0.6015927758472617,
          0.2558943998116105,
          -0.08881501037531885,
          1.3541734631029874,
          0.995809863280057,
          0.7263856151715177,
          -1.0591484235788549,
          0.39381445199982873,
          1.7728519694416973,
          1.5141025549905125,
          -1.1309931207032557,
          -0.24284635706874916,
          -2.4180943861802717,
          -0.9764200427817595,
          -0.8680768958339593,
          -0.012230281168851885,
          -1.3461840623160013,
          -0.7087201022918612,
          -0.11886541084736676,
          -0.5197069118420652,
          -0.2436616969585116,
          1.9456565046865473,
          0.23279137355585014,
          0.04895733084297942,
          0.12821037869834914,
          0.6897370757826575,
          1.2343281233883965,
          0.5489868801540693,
          -0.7580452649185184,
          0.07331698303838807,
          -1.6378487175535115,
          0.4090673635059884,
          -1.2688772159442079,
          0.8374865036983186,
          -0.48010953933761474,
          1.8953222757757793,
          -1.9953568853667585,
          0.9337421560975021,
          0.1903635545851463,
          0.032122216843723725,
          -1.0528435662630606,
          0.7354169754139546,
          -1.970688296634273,
          -2.0076414457309584,
          -0.5471945912678408,
          -1.0571038427600974,
          -0.5417501938583631,
          1.0895795665464028,
          0.5273906678370488,
          0.525575673958645,
          -0.5631397651548465,
          -1.4112390099841932,
          -0.726011083664482,
          -0.8055890887078467,
          -0.6532186704886714,
          -0.9327206830188016,
          -0.8414431577485073,
          -0.21930229929038692,
          0.7544907994981428,
          -0.6614284701557894,
          0.3894082107651065,
          -0.10239934381508001,
          0.7270716572767006,
          -1.634429013162857,
          -0.09688286899455396,
          0.742219960027465,
          0.14921293689844325,
          1.8972003824444315,
          -0.5952226721267857,
          0.7262172332121369,
          -0.44877811398083706,
          1.54088568921494,
          -1.8801772347486403,
          -0.8728125960536823,
          0.9178486890316006,
          -2.1198904634754823,
          1.2097381010266304,
          0.49755262397929584,
          -0.01739364386996017,
          -0.2575823229109491,
          1.3636811408227858,
          0.7659608286370856,
          0.22823943905443764,
          -1.8518334086621562,
          0.04086011505021188,
          -0.3345488201186656,
          1.215808878038551,
          -0.5448535031254441,
          -0.5566181986016897,
          1.295128386720408,
          -1.742161390290768
         ]
        },
        {
         "line": {
          "color": "rgba(50, 171, 96, 1.0)",
          "dash": "solid",
          "shape": "linear",
          "width": 1.3
         },
         "mode": "lines",
         "name": "C",
         "text": "",
         "type": "scatter",
         "x": [
          0,
          1,
          2,
          3,
          4,
          5,
          6,
          7,
          8,
          9,
          10,
          11,
          12,
          13,
          14,
          15,
          16,
          17,
          18,
          19,
          20,
          21,
          22,
          23,
          24,
          25,
          26,
          27,
          28,
          29,
          30,
          31,
          32,
          33,
          34,
          35,
          36,
          37,
          38,
          39,
          40,
          41,
          42,
          43,
          44,
          45,
          46,
          47,
          48,
          49,
          50,
          51,
          52,
          53,
          54,
          55,
          56,
          57,
          58,
          59,
          60,
          61,
          62,
          63,
          64,
          65,
          66,
          67,
          68,
          69,
          70,
          71,
          72,
          73,
          74,
          75,
          76,
          77,
          78,
          79,
          80,
          81,
          82,
          83,
          84,
          85,
          86,
          87,
          88,
          89,
          90,
          91,
          92,
          93,
          94,
          95,
          96,
          97,
          98,
          99
         ],
         "y": [
          -0.35693894919680014,
          -0.44298828459749096,
          0.03430739534846451,
          1.3384382870315716,
          -1.1428156383211547,
          0.7578239741191998,
          -1.9176705101154023,
          -0.3987040805699978,
          -0.38863022814550585,
          0.6602704507659432,
          -1.0584851563705215,
          0.22309006444887244,
          2.1071369676660754,
          1.1825891082105318,
          1.590233736456399,
          -0.3237087595920645,
          -0.9161429886911839,
          -0.021693423773626434,
          -0.5301214552100546,
          0.8914827249890813,
          -1.597686296403704,
          0.2531769882495246,
          0.7613040148990067,
          -0.2931784096664254,
          2.836511279211788,
          0.2842390623875921,
          0.3369421974664682,
          0.8841831778072965,
          -0.8043745860884061,
          -0.2735478697401933,
          1.1499670618427587,
          -1.2212952575609632,
          1.1674182793260595,
          -0.009508541728902122,
          0.2858711524223337,
          0.45029884423982075,
          -1.0155339336802705,
          -1.4637930312086553,
          0.46892976223938676,
          -0.9738708167142774,
          -1.3206841641927398,
          -0.17984660382480194,
          1.4083997880093475,
          -0.40130791750622713,
          -1.0612790239740046,
          1.9037000060508449,
          -0.22470899732809524,
          1.1835620393234376,
          -0.4311288702661489,
          -1.8227444838552331,
          -0.05642857829923661,
          -0.7008898442152856,
          1.5101592596359499,
          -0.1201096958876723,
          0.9684858713315022,
          1.427890669447111,
          0.2783561315299243,
          0.4739913923393477,
          -0.12507807470335897,
          -0.9689319740227837,
          -0.4178594476307902,
          0.8445577725293718,
          0.18459347598907042,
          0.23395624144710025,
          0.9332700506844089,
          0.5306612071504125,
          -2.7025413846186876,
          -0.7093283947007025,
          1.4011570726079778,
          -1.5880138330259133,
          -0.7496208501000143,
          -0.6710628988846881,
          3.993716604441798,
          0.4786124707818054,
          -0.027142079302184652,
          -0.29790958374635024,
          0.48105535591669907,
          -0.14714312540729008,
          -0.4469572820232003,
          0.7991945750316954,
          1.2321491165464722,
          0.3469066482968893,
          1.1768792551282279,
          0.4685751798163601,
          -1.602153423486592,
          -1.8592550744277052,
          0.16892756903730544,
          -0.4827354037486433,
          -0.8647135454452588,
          0.2271835895981944,
          -0.008704946496307483,
          0.4793715999496075,
          -0.2776855199196532,
          -0.3455334449010767,
          -0.06731792219814585,
          -1.2921071252798175,
          -0.432972397337691,
          -1.360560392011897,
          0.6325374536480637,
          0.06535798422993336
         ]
        },
        {
         "line": {
          "color": "rgba(128, 0, 128, 1.0)",
          "dash": "solid",
          "shape": "linear",
          "width": 1.3
         },
         "mode": "lines",
         "name": "D",
         "text": "",
         "type": "scatter",
         "x": [
          0,
          1,
          2,
          3,
          4,
          5,
          6,
          7,
          8,
          9,
          10,
          11,
          12,
          13,
          14,
          15,
          16,
          17,
          18,
          19,
          20,
          21,
          22,
          23,
          24,
          25,
          26,
          27,
          28,
          29,
          30,
          31,
          32,
          33,
          34,
          35,
          36,
          37,
          38,
          39,
          40,
          41,
          42,
          43,
          44,
          45,
          46,
          47,
          48,
          49,
          50,
          51,
          52,
          53,
          54,
          55,
          56,
          57,
          58,
          59,
          60,
          61,
          62,
          63,
          64,
          65,
          66,
          67,
          68,
          69,
          70,
          71,
          72,
          73,
          74,
          75,
          76,
          77,
          78,
          79,
          80,
          81,
          82,
          83,
          84,
          85,
          86,
          87,
          88,
          89,
          90,
          91,
          92,
          93,
          94,
          95,
          96,
          97,
          98,
          99
         ],
         "y": [
          -0.26419919477570775,
          -0.3833716249225878,
          -1.2696551041547883,
          -0.48605251456015774,
          -0.30423884736963247,
          -0.0645788103805999,
          -0.19541927814759988,
          -0.2505002443784337,
          0.6515345950646415,
          -0.29165728579839506,
          -0.6289814145064836,
          -1.585960785998414,
          0.22190061917534687,
          0.44451507131241647,
          0.18772205438789583,
          0.7335921135111559,
          -1.4983392093396157,
          -0.8115706702319209,
          0.6563765821860691,
          -1.811454806130691,
          2.1880322836589396,
          0.4058785384134912,
          -0.2798906532631842,
          0.6239965210646597,
          0.3850377828102407,
          0.03536015762474186,
          0.7261945531686689,
          -0.7748252739970212,
          1.6938925441279562,
          -0.1379854942397674,
          0.18704556263236757,
          -0.09698463502260408,
          0.48452704695990967,
          -0.23449439841267203,
          -1.602239913297058,
          -1.6864492709907315,
          0.04185106828676807,
          0.029346881046487833,
          0.5491124253096286,
          -0.5372092351003203,
          1.52901346352164,
          1.781749863016587,
          -0.6662247419898313,
          -0.3156369593696865,
          0.21329605060367274,
          1.2258435615211334,
          -1.8289380618697493,
          -0.26788220097808646,
          -0.07455854739153477,
          -0.6059474322930166,
          -0.19383887681198314,
          -1.117251100665062,
          0.08665391907503127,
          0.40248745145134646,
          0.6506160318308362,
          0.191211127025122,
          -0.2122137839816685,
          0.8170177114567692,
          -1.8077056254718267,
          -1.0508438579663801,
          -0.3808657717400491,
          -0.1399989298698318,
          -0.5099243537561512,
          -1.8250672146810114,
          0.3761687835746612,
          0.5212536083947612,
          0.7158733138498051,
          0.058066621567422635,
          1.2580555199518404,
          -2.341944264994159,
          0.34029396506244564,
          0.6622617617636951,
          1.2163195643369034,
          1.2566907631988964,
          -0.8809667157727177,
          0.20405056070311292,
          0.011787955272438396,
          0.1367241230646484,
          -0.7464896578795776,
          -0.17904803624682292,
          1.3613276277104176,
          0.34060254482757263,
          -0.3074509326724941,
          -1.0894768827432082,
          -0.37397061504417745,
          0.12902358282737114,
          -1.7150459991982883,
          -0.3995271591467073,
          -1.8442276446783992,
          -1.7423338792127907,
          -0.0609238600430849,
          0.332444412428923,
          0.8172947771135305,
          -1.7485293176553298,
          1.4233176686204365,
          0.7357141104004886,
          0.07853624542171758,
          1.5415481984730797,
          -1.349073319944147,
          0.5883781558965498
         ]
        }
       ],
       "layout": {
        "legend": {
         "bgcolor": "#F5F6F9",
         "font": {
          "color": "#4D5663"
         }
        },
        "paper_bgcolor": "#F5F6F9",
        "plot_bgcolor": "#F5F6F9",
        "template": {
         "data": {
          "bar": [
           {
            "error_x": {
             "color": "#2a3f5f"
            },
            "error_y": {
             "color": "#2a3f5f"
            },
            "marker": {
             "line": {
              "color": "#E5ECF6",
              "width": 0.5
             },
             "pattern": {
              "fillmode": "overlay",
              "size": 10,
              "solidity": 0.2
             }
            },
            "type": "bar"
           }
          ],
          "barpolar": [
           {
            "marker": {
             "line": {
              "color": "#E5ECF6",
              "width": 0.5
             },
             "pattern": {
              "fillmode": "overlay",
              "size": 10,
              "solidity": 0.2
             }
            },
            "type": "barpolar"
           }
          ],
          "carpet": [
           {
            "aaxis": {
             "endlinecolor": "#2a3f5f",
             "gridcolor": "white",
             "linecolor": "white",
             "minorgridcolor": "white",
             "startlinecolor": "#2a3f5f"
            },
            "baxis": {
             "endlinecolor": "#2a3f5f",
             "gridcolor": "white",
             "linecolor": "white",
             "minorgridcolor": "white",
             "startlinecolor": "#2a3f5f"
            },
            "type": "carpet"
           }
          ],
          "choropleth": [
           {
            "colorbar": {
             "outlinewidth": 0,
             "ticks": ""
            },
            "type": "choropleth"
           }
          ],
          "contour": [
           {
            "colorbar": {
             "outlinewidth": 0,
             "ticks": ""
            },
            "colorscale": [
             [
              0,
              "#0d0887"
             ],
             [
              0.1111111111111111,
              "#46039f"
             ],
             [
              0.2222222222222222,
              "#7201a8"
             ],
             [
              0.3333333333333333,
              "#9c179e"
             ],
             [
              0.4444444444444444,
              "#bd3786"
             ],
             [
              0.5555555555555556,
              "#d8576b"
             ],
             [
              0.6666666666666666,
              "#ed7953"
             ],
             [
              0.7777777777777778,
              "#fb9f3a"
             ],
             [
              0.8888888888888888,
              "#fdca26"
             ],
             [
              1,
              "#f0f921"
             ]
            ],
            "type": "contour"
           }
          ],
          "contourcarpet": [
           {
            "colorbar": {
             "outlinewidth": 0,
             "ticks": ""
            },
            "type": "contourcarpet"
           }
          ],
          "heatmap": [
           {
            "colorbar": {
             "outlinewidth": 0,
             "ticks": ""
            },
            "colorscale": [
             [
              0,
              "#0d0887"
             ],
             [
              0.1111111111111111,
              "#46039f"
             ],
             [
              0.2222222222222222,
              "#7201a8"
             ],
             [
              0.3333333333333333,
              "#9c179e"
             ],
             [
              0.4444444444444444,
              "#bd3786"
             ],
             [
              0.5555555555555556,
              "#d8576b"
             ],
             [
              0.6666666666666666,
              "#ed7953"
             ],
             [
              0.7777777777777778,
              "#fb9f3a"
             ],
             [
              0.8888888888888888,
              "#fdca26"
             ],
             [
              1,
              "#f0f921"
             ]
            ],
            "type": "heatmap"
           }
          ],
          "heatmapgl": [
           {
            "colorbar": {
             "outlinewidth": 0,
             "ticks": ""
            },
            "colorscale": [
             [
              0,
              "#0d0887"
             ],
             [
              0.1111111111111111,
              "#46039f"
             ],
             [
              0.2222222222222222,
              "#7201a8"
             ],
             [
              0.3333333333333333,
              "#9c179e"
             ],
             [
              0.4444444444444444,
              "#bd3786"
             ],
             [
              0.5555555555555556,
              "#d8576b"
             ],
             [
              0.6666666666666666,
              "#ed7953"
             ],
             [
              0.7777777777777778,
              "#fb9f3a"
             ],
             [
              0.8888888888888888,
              "#fdca26"
             ],
             [
              1,
              "#f0f921"
             ]
            ],
            "type": "heatmapgl"
           }
          ],
          "histogram": [
           {
            "marker": {
             "pattern": {
              "fillmode": "overlay",
              "size": 10,
              "solidity": 0.2
             }
            },
            "type": "histogram"
           }
          ],
          "histogram2d": [
           {
            "colorbar": {
             "outlinewidth": 0,
             "ticks": ""
            },
            "colorscale": [
             [
              0,
              "#0d0887"
             ],
             [
              0.1111111111111111,
              "#46039f"
             ],
             [
              0.2222222222222222,
              "#7201a8"
             ],
             [
              0.3333333333333333,
              "#9c179e"
             ],
             [
              0.4444444444444444,
              "#bd3786"
             ],
             [
              0.5555555555555556,
              "#d8576b"
             ],
             [
              0.6666666666666666,
              "#ed7953"
             ],
             [
              0.7777777777777778,
              "#fb9f3a"
             ],
             [
              0.8888888888888888,
              "#fdca26"
             ],
             [
              1,
              "#f0f921"
             ]
            ],
            "type": "histogram2d"
           }
          ],
          "histogram2dcontour": [
           {
            "colorbar": {
             "outlinewidth": 0,
             "ticks": ""
            },
            "colorscale": [
             [
              0,
              "#0d0887"
             ],
             [
              0.1111111111111111,
              "#46039f"
             ],
             [
              0.2222222222222222,
              "#7201a8"
             ],
             [
              0.3333333333333333,
              "#9c179e"
             ],
             [
              0.4444444444444444,
              "#bd3786"
             ],
             [
              0.5555555555555556,
              "#d8576b"
             ],
             [
              0.6666666666666666,
              "#ed7953"
             ],
             [
              0.7777777777777778,
              "#fb9f3a"
             ],
             [
              0.8888888888888888,
              "#fdca26"
             ],
             [
              1,
              "#f0f921"
             ]
            ],
            "type": "histogram2dcontour"
           }
          ],
          "mesh3d": [
           {
            "colorbar": {
             "outlinewidth": 0,
             "ticks": ""
            },
            "type": "mesh3d"
           }
          ],
          "parcoords": [
           {
            "line": {
             "colorbar": {
              "outlinewidth": 0,
              "ticks": ""
             }
            },
            "type": "parcoords"
           }
          ],
          "pie": [
           {
            "automargin": true,
            "type": "pie"
           }
          ],
          "scatter": [
           {
            "marker": {
             "colorbar": {
              "outlinewidth": 0,
              "ticks": ""
             }
            },
            "type": "scatter"
           }
          ],
          "scatter3d": [
           {
            "line": {
             "colorbar": {
              "outlinewidth": 0,
              "ticks": ""
             }
            },
            "marker": {
             "colorbar": {
              "outlinewidth": 0,
              "ticks": ""
             }
            },
            "type": "scatter3d"
           }
          ],
          "scattercarpet": [
           {
            "marker": {
             "colorbar": {
              "outlinewidth": 0,
              "ticks": ""
             }
            },
            "type": "scattercarpet"
           }
          ],
          "scattergeo": [
           {
            "marker": {
             "colorbar": {
              "outlinewidth": 0,
              "ticks": ""
             }
            },
            "type": "scattergeo"
           }
          ],
          "scattergl": [
           {
            "marker": {
             "colorbar": {
              "outlinewidth": 0,
              "ticks": ""
             }
            },
            "type": "scattergl"
           }
          ],
          "scattermapbox": [
           {
            "marker": {
             "colorbar": {
              "outlinewidth": 0,
              "ticks": ""
             }
            },
            "type": "scattermapbox"
           }
          ],
          "scatterpolar": [
           {
            "marker": {
             "colorbar": {
              "outlinewidth": 0,
              "ticks": ""
             }
            },
            "type": "scatterpolar"
           }
          ],
          "scatterpolargl": [
           {
            "marker": {
             "colorbar": {
              "outlinewidth": 0,
              "ticks": ""
             }
            },
            "type": "scatterpolargl"
           }
          ],
          "scatterternary": [
           {
            "marker": {
             "colorbar": {
              "outlinewidth": 0,
              "ticks": ""
             }
            },
            "type": "scatterternary"
           }
          ],
          "surface": [
           {
            "colorbar": {
             "outlinewidth": 0,
             "ticks": ""
            },
            "colorscale": [
             [
              0,
              "#0d0887"
             ],
             [
              0.1111111111111111,
              "#46039f"
             ],
             [
              0.2222222222222222,
              "#7201a8"
             ],
             [
              0.3333333333333333,
              "#9c179e"
             ],
             [
              0.4444444444444444,
              "#bd3786"
             ],
             [
              0.5555555555555556,
              "#d8576b"
             ],
             [
              0.6666666666666666,
              "#ed7953"
             ],
             [
              0.7777777777777778,
              "#fb9f3a"
             ],
             [
              0.8888888888888888,
              "#fdca26"
             ],
             [
              1,
              "#f0f921"
             ]
            ],
            "type": "surface"
           }
          ],
          "table": [
           {
            "cells": {
             "fill": {
              "color": "#EBF0F8"
             },
             "line": {
              "color": "white"
             }
            },
            "header": {
             "fill": {
              "color": "#C8D4E3"
             },
             "line": {
              "color": "white"
             }
            },
            "type": "table"
           }
          ]
         },
         "layout": {
          "annotationdefaults": {
           "arrowcolor": "#2a3f5f",
           "arrowhead": 0,
           "arrowwidth": 1
          },
          "autotypenumbers": "strict",
          "coloraxis": {
           "colorbar": {
            "outlinewidth": 0,
            "ticks": ""
           }
          },
          "colorscale": {
           "diverging": [
            [
             0,
             "#8e0152"
            ],
            [
             0.1,
             "#c51b7d"
            ],
            [
             0.2,
             "#de77ae"
            ],
            [
             0.3,
             "#f1b6da"
            ],
            [
             0.4,
             "#fde0ef"
            ],
            [
             0.5,
             "#f7f7f7"
            ],
            [
             0.6,
             "#e6f5d0"
            ],
            [
             0.7,
             "#b8e186"
            ],
            [
             0.8,
             "#7fbc41"
            ],
            [
             0.9,
             "#4d9221"
            ],
            [
             1,
             "#276419"
            ]
           ],
           "sequential": [
            [
             0,
             "#0d0887"
            ],
            [
             0.1111111111111111,
             "#46039f"
            ],
            [
             0.2222222222222222,
             "#7201a8"
            ],
            [
             0.3333333333333333,
             "#9c179e"
            ],
            [
             0.4444444444444444,
             "#bd3786"
            ],
            [
             0.5555555555555556,
             "#d8576b"
            ],
            [
             0.6666666666666666,
             "#ed7953"
            ],
            [
             0.7777777777777778,
             "#fb9f3a"
            ],
            [
             0.8888888888888888,
             "#fdca26"
            ],
            [
             1,
             "#f0f921"
            ]
           ],
           "sequentialminus": [
            [
             0,
             "#0d0887"
            ],
            [
             0.1111111111111111,
             "#46039f"
            ],
            [
             0.2222222222222222,
             "#7201a8"
            ],
            [
             0.3333333333333333,
             "#9c179e"
            ],
            [
             0.4444444444444444,
             "#bd3786"
            ],
            [
             0.5555555555555556,
             "#d8576b"
            ],
            [
             0.6666666666666666,
             "#ed7953"
            ],
            [
             0.7777777777777778,
             "#fb9f3a"
            ],
            [
             0.8888888888888888,
             "#fdca26"
            ],
            [
             1,
             "#f0f921"
            ]
           ]
          },
          "colorway": [
           "#636efa",
           "#EF553B",
           "#00cc96",
           "#ab63fa",
           "#FFA15A",
           "#19d3f3",
           "#FF6692",
           "#B6E880",
           "#FF97FF",
           "#FECB52"
          ],
          "font": {
           "color": "#2a3f5f"
          },
          "geo": {
           "bgcolor": "white",
           "lakecolor": "white",
           "landcolor": "#E5ECF6",
           "showlakes": true,
           "showland": true,
           "subunitcolor": "white"
          },
          "hoverlabel": {
           "align": "left"
          },
          "hovermode": "closest",
          "mapbox": {
           "style": "light"
          },
          "paper_bgcolor": "white",
          "plot_bgcolor": "#E5ECF6",
          "polar": {
           "angularaxis": {
            "gridcolor": "white",
            "linecolor": "white",
            "ticks": ""
           },
           "bgcolor": "#E5ECF6",
           "radialaxis": {
            "gridcolor": "white",
            "linecolor": "white",
            "ticks": ""
           }
          },
          "scene": {
           "xaxis": {
            "backgroundcolor": "#E5ECF6",
            "gridcolor": "white",
            "gridwidth": 2,
            "linecolor": "white",
            "showbackground": true,
            "ticks": "",
            "zerolinecolor": "white"
           },
           "yaxis": {
            "backgroundcolor": "#E5ECF6",
            "gridcolor": "white",
            "gridwidth": 2,
            "linecolor": "white",
            "showbackground": true,
            "ticks": "",
            "zerolinecolor": "white"
           },
           "zaxis": {
            "backgroundcolor": "#E5ECF6",
            "gridcolor": "white",
            "gridwidth": 2,
            "linecolor": "white",
            "showbackground": true,
            "ticks": "",
            "zerolinecolor": "white"
           }
          },
          "shapedefaults": {
           "line": {
            "color": "#2a3f5f"
           }
          },
          "ternary": {
           "aaxis": {
            "gridcolor": "white",
            "linecolor": "white",
            "ticks": ""
           },
           "baxis": {
            "gridcolor": "white",
            "linecolor": "white",
            "ticks": ""
           },
           "bgcolor": "#E5ECF6",
           "caxis": {
            "gridcolor": "white",
            "linecolor": "white",
            "ticks": ""
           }
          },
          "title": {
           "x": 0.05
          },
          "xaxis": {
           "automargin": true,
           "gridcolor": "white",
           "linecolor": "white",
           "ticks": "",
           "title": {
            "standoff": 15
           },
           "zerolinecolor": "white",
           "zerolinewidth": 2
          },
          "yaxis": {
           "automargin": true,
           "gridcolor": "white",
           "linecolor": "white",
           "ticks": "",
           "title": {
            "standoff": 15
           },
           "zerolinecolor": "white",
           "zerolinewidth": 2
          }
         }
        },
        "title": {
         "font": {
          "color": "#4D5663"
         }
        },
        "xaxis": {
         "gridcolor": "#E1E5ED",
         "showgrid": true,
         "tickfont": {
          "color": "#4D5663"
         },
         "title": {
          "font": {
           "color": "#4D5663"
          },
          "text": ""
         },
         "zerolinecolor": "#E1E5ED"
        },
        "yaxis": {
         "gridcolor": "#E1E5ED",
         "showgrid": true,
         "tickfont": {
          "color": "#4D5663"
         },
         "title": {
          "font": {
           "color": "#4D5663"
          },
          "text": ""
         },
         "zerolinecolor": "#E1E5ED"
        }
       }
      },
      "text/html": [
       "<div>                            <div id=\"4a55c77d-ab8d-4161-9f1b-55a02e395224\" class=\"plotly-graph-div\" style=\"height:525px; width:100%;\"></div>            <script type=\"text/javascript\">                require([\"plotly\"], function(Plotly) {                    window.PLOTLYENV=window.PLOTLYENV || {};\n",
       "                    window.PLOTLYENV.BASE_URL='https://plot.ly';                                    if (document.getElementById(\"4a55c77d-ab8d-4161-9f1b-55a02e395224\")) {                    Plotly.newPlot(                        \"4a55c77d-ab8d-4161-9f1b-55a02e395224\",                        [{\"line\":{\"color\":\"rgba(255, 153, 51, 1.0)\",\"dash\":\"solid\",\"shape\":\"linear\",\"width\":1.3},\"mode\":\"lines\",\"name\":\"A\",\"text\":\"\",\"x\":[0,1,2,3,4,5,6,7,8,9,10,11,12,13,14,15,16,17,18,19,20,21,22,23,24,25,26,27,28,29,30,31,32,33,34,35,36,37,38,39,40,41,42,43,44,45,46,47,48,49,50,51,52,53,54,55,56,57,58,59,60,61,62,63,64,65,66,67,68,69,70,71,72,73,74,75,76,77,78,79,80,81,82,83,84,85,86,87,88,89,90,91,92,93,94,95,96,97,98,99],\"y\":[-1.5860134090116866,0.9274341987192442,-0.9762444473030839,1.156816478828888,-0.242393020431529,0.3658661061076631,-0.32884347637865063,-0.7843856618643812,-0.16230849353665586,0.2160566141325843,0.09488267160010981,-0.7473716756146999,1.7440517401864175,-1.0011753997767863,-0.18215840764473576,0.4018796805877871,-0.6135309871435983,-2.079389212549666,0.23106022177266736,-0.45571564831106187,1.3188535756734368,-1.2484686619627932,-2.1557349157011396,-0.6413749067969102,1.984261532573052,0.5012010530631451,0.21512083602091397,-0.558205527705548,0.14204517265741703,-0.6511171286850072,0.9760822312705928,-1.1989746858724355,-0.44233800472944795,0.6020080772279828,0.5310322898976169,1.1303903707259588,1.5142447071264193,-0.04358317734529377,1.0306022371577925,1.0400904170808154,0.64883519571506,-2.173258432759064,-0.07614582456348083,1.0405839611686214,-0.39711742884277623,0.32766189492180053,-0.8436067376188089,-0.017269384493230185,1.571276688331357,1.9963152622649702,0.3819524247516574,1.4410320918970343,-0.6663318032774534,1.18225971311963,1.0579046463052426,1.1432416134662429,1.2242524339330336,0.46146197162961955,-0.7767414148887288,0.10307340698574169,1.337178188616223,-0.8274151443552817,-0.7644470953586763,-1.2106145802497552,0.1403479523423119,0.001975554072475761,-0.6174465550500117,0.4688231976483499,0.7645685844346921,0.7685313514609825,-0.4062139130708948,-2.2476389899473324,-1.2813236664358285,0.4990740133928327,-0.6578116017019612,-0.6640628389585511,-0.357864798989924,-1.6729457194027304,2.442991825496139,-1.8462353301991539,0.6879530972282243,0.3797085093935498,-0.14877442120258536,-0.6595086088687263,0.314284369048765,1.1818518556481579,-0.27023116685307313,0.16911123724350882,-0.2684950791947941,-0.0407394969368081,1.6707519519124296,0.13156203612669848,0.6916032574356988,-0.4677181913508789,-0.9554953899235631,1.156425864392585,0.18059611632298583,0.7366316662288631,0.22040930005047488,-0.5615539396878966],\"type\":\"scatter\"},{\"line\":{\"color\":\"rgba(55, 128, 191, 1.0)\",\"dash\":\"solid\",\"shape\":\"linear\",\"width\":1.3},\"mode\":\"lines\",\"name\":\"B\",\"text\":\"\",\"x\":[0,1,2,3,4,5,6,7,8,9,10,11,12,13,14,15,16,17,18,19,20,21,22,23,24,25,26,27,28,29,30,31,32,33,34,35,36,37,38,39,40,41,42,43,44,45,46,47,48,49,50,51,52,53,54,55,56,57,58,59,60,61,62,63,64,65,66,67,68,69,70,71,72,73,74,75,76,77,78,79,80,81,82,83,84,85,86,87,88,89,90,91,92,93,94,95,96,97,98,99],\"y\":[-1.4373918705042834,1.012094339901708,-0.21652566691947905,0.155969167306907,-1.07942763093398,0.20683358045049557,0.8692509076328989,-0.618003101032969,0.41388713373849545,0.6015927758472617,0.2558943998116105,-0.08881501037531885,1.3541734631029874,0.995809863280057,0.7263856151715177,-1.0591484235788549,0.39381445199982873,1.7728519694416973,1.5141025549905125,-1.1309931207032557,-0.24284635706874916,-2.4180943861802717,-0.9764200427817595,-0.8680768958339593,-0.012230281168851885,-1.3461840623160013,-0.7087201022918612,-0.11886541084736676,-0.5197069118420652,-0.2436616969585116,1.9456565046865473,0.23279137355585014,0.04895733084297942,0.12821037869834914,0.6897370757826575,1.2343281233883965,0.5489868801540693,-0.7580452649185184,0.07331698303838807,-1.6378487175535115,0.4090673635059884,-1.2688772159442079,0.8374865036983186,-0.48010953933761474,1.8953222757757793,-1.9953568853667585,0.9337421560975021,0.1903635545851463,0.032122216843723725,-1.0528435662630606,0.7354169754139546,-1.970688296634273,-2.0076414457309584,-0.5471945912678408,-1.0571038427600974,-0.5417501938583631,1.0895795665464028,0.5273906678370488,0.525575673958645,-0.5631397651548465,-1.4112390099841932,-0.726011083664482,-0.8055890887078467,-0.6532186704886714,-0.9327206830188016,-0.8414431577485073,-0.21930229929038692,0.7544907994981428,-0.6614284701557894,0.3894082107651065,-0.10239934381508001,0.7270716572767006,-1.634429013162857,-0.09688286899455396,0.742219960027465,0.14921293689844325,1.8972003824444315,-0.5952226721267857,0.7262172332121369,-0.44877811398083706,1.54088568921494,-1.8801772347486403,-0.8728125960536823,0.9178486890316006,-2.1198904634754823,1.2097381010266304,0.49755262397929584,-0.01739364386996017,-0.2575823229109491,1.3636811408227858,0.7659608286370856,0.22823943905443764,-1.8518334086621562,0.04086011505021188,-0.3345488201186656,1.215808878038551,-0.5448535031254441,-0.5566181986016897,1.295128386720408,-1.742161390290768],\"type\":\"scatter\"},{\"line\":{\"color\":\"rgba(50, 171, 96, 1.0)\",\"dash\":\"solid\",\"shape\":\"linear\",\"width\":1.3},\"mode\":\"lines\",\"name\":\"C\",\"text\":\"\",\"x\":[0,1,2,3,4,5,6,7,8,9,10,11,12,13,14,15,16,17,18,19,20,21,22,23,24,25,26,27,28,29,30,31,32,33,34,35,36,37,38,39,40,41,42,43,44,45,46,47,48,49,50,51,52,53,54,55,56,57,58,59,60,61,62,63,64,65,66,67,68,69,70,71,72,73,74,75,76,77,78,79,80,81,82,83,84,85,86,87,88,89,90,91,92,93,94,95,96,97,98,99],\"y\":[-0.35693894919680014,-0.44298828459749096,0.03430739534846451,1.3384382870315716,-1.1428156383211547,0.7578239741191998,-1.9176705101154023,-0.3987040805699978,-0.38863022814550585,0.6602704507659432,-1.0584851563705215,0.22309006444887244,2.1071369676660754,1.1825891082105318,1.590233736456399,-0.3237087595920645,-0.9161429886911839,-0.021693423773626434,-0.5301214552100546,0.8914827249890813,-1.597686296403704,0.2531769882495246,0.7613040148990067,-0.2931784096664254,2.836511279211788,0.2842390623875921,0.3369421974664682,0.8841831778072965,-0.8043745860884061,-0.2735478697401933,1.1499670618427587,-1.2212952575609632,1.1674182793260595,-0.009508541728902122,0.2858711524223337,0.45029884423982075,-1.0155339336802705,-1.4637930312086553,0.46892976223938676,-0.9738708167142774,-1.3206841641927398,-0.17984660382480194,1.4083997880093475,-0.40130791750622713,-1.0612790239740046,1.9037000060508449,-0.22470899732809524,1.1835620393234376,-0.4311288702661489,-1.8227444838552331,-0.05642857829923661,-0.7008898442152856,1.5101592596359499,-0.1201096958876723,0.9684858713315022,1.427890669447111,0.2783561315299243,0.4739913923393477,-0.12507807470335897,-0.9689319740227837,-0.4178594476307902,0.8445577725293718,0.18459347598907042,0.23395624144710025,0.9332700506844089,0.5306612071504125,-2.7025413846186876,-0.7093283947007025,1.4011570726079778,-1.5880138330259133,-0.7496208501000143,-0.6710628988846881,3.993716604441798,0.4786124707818054,-0.027142079302184652,-0.29790958374635024,0.48105535591669907,-0.14714312540729008,-0.4469572820232003,0.7991945750316954,1.2321491165464722,0.3469066482968893,1.1768792551282279,0.4685751798163601,-1.602153423486592,-1.8592550744277052,0.16892756903730544,-0.4827354037486433,-0.8647135454452588,0.2271835895981944,-0.008704946496307483,0.4793715999496075,-0.2776855199196532,-0.3455334449010767,-0.06731792219814585,-1.2921071252798175,-0.432972397337691,-1.360560392011897,0.6325374536480637,0.06535798422993336],\"type\":\"scatter\"},{\"line\":{\"color\":\"rgba(128, 0, 128, 1.0)\",\"dash\":\"solid\",\"shape\":\"linear\",\"width\":1.3},\"mode\":\"lines\",\"name\":\"D\",\"text\":\"\",\"x\":[0,1,2,3,4,5,6,7,8,9,10,11,12,13,14,15,16,17,18,19,20,21,22,23,24,25,26,27,28,29,30,31,32,33,34,35,36,37,38,39,40,41,42,43,44,45,46,47,48,49,50,51,52,53,54,55,56,57,58,59,60,61,62,63,64,65,66,67,68,69,70,71,72,73,74,75,76,77,78,79,80,81,82,83,84,85,86,87,88,89,90,91,92,93,94,95,96,97,98,99],\"y\":[-0.26419919477570775,-0.3833716249225878,-1.2696551041547883,-0.48605251456015774,-0.30423884736963247,-0.0645788103805999,-0.19541927814759988,-0.2505002443784337,0.6515345950646415,-0.29165728579839506,-0.6289814145064836,-1.585960785998414,0.22190061917534687,0.44451507131241647,0.18772205438789583,0.7335921135111559,-1.4983392093396157,-0.8115706702319209,0.6563765821860691,-1.811454806130691,2.1880322836589396,0.4058785384134912,-0.2798906532631842,0.6239965210646597,0.3850377828102407,0.03536015762474186,0.7261945531686689,-0.7748252739970212,1.6938925441279562,-0.1379854942397674,0.18704556263236757,-0.09698463502260408,0.48452704695990967,-0.23449439841267203,-1.602239913297058,-1.6864492709907315,0.04185106828676807,0.029346881046487833,0.5491124253096286,-0.5372092351003203,1.52901346352164,1.781749863016587,-0.6662247419898313,-0.3156369593696865,0.21329605060367274,1.2258435615211334,-1.8289380618697493,-0.26788220097808646,-0.07455854739153477,-0.6059474322930166,-0.19383887681198314,-1.117251100665062,0.08665391907503127,0.40248745145134646,0.6506160318308362,0.191211127025122,-0.2122137839816685,0.8170177114567692,-1.8077056254718267,-1.0508438579663801,-0.3808657717400491,-0.1399989298698318,-0.5099243537561512,-1.8250672146810114,0.3761687835746612,0.5212536083947612,0.7158733138498051,0.058066621567422635,1.2580555199518404,-2.341944264994159,0.34029396506244564,0.6622617617636951,1.2163195643369034,1.2566907631988964,-0.8809667157727177,0.20405056070311292,0.011787955272438396,0.1367241230646484,-0.7464896578795776,-0.17904803624682292,1.3613276277104176,0.34060254482757263,-0.3074509326724941,-1.0894768827432082,-0.37397061504417745,0.12902358282737114,-1.7150459991982883,-0.3995271591467073,-1.8442276446783992,-1.7423338792127907,-0.0609238600430849,0.332444412428923,0.8172947771135305,-1.7485293176553298,1.4233176686204365,0.7357141104004886,0.07853624542171758,1.5415481984730797,-1.349073319944147,0.5883781558965498],\"type\":\"scatter\"}],                        {\"legend\":{\"bgcolor\":\"#F5F6F9\",\"font\":{\"color\":\"#4D5663\"}},\"paper_bgcolor\":\"#F5F6F9\",\"plot_bgcolor\":\"#F5F6F9\",\"template\":{\"data\":{\"barpolar\":[{\"marker\":{\"line\":{\"color\":\"#E5ECF6\",\"width\":0.5},\"pattern\":{\"fillmode\":\"overlay\",\"size\":10,\"solidity\":0.2}},\"type\":\"barpolar\"}],\"bar\":[{\"error_x\":{\"color\":\"#2a3f5f\"},\"error_y\":{\"color\":\"#2a3f5f\"},\"marker\":{\"line\":{\"color\":\"#E5ECF6\",\"width\":0.5},\"pattern\":{\"fillmode\":\"overlay\",\"size\":10,\"solidity\":0.2}},\"type\":\"bar\"}],\"carpet\":[{\"aaxis\":{\"endlinecolor\":\"#2a3f5f\",\"gridcolor\":\"white\",\"linecolor\":\"white\",\"minorgridcolor\":\"white\",\"startlinecolor\":\"#2a3f5f\"},\"baxis\":{\"endlinecolor\":\"#2a3f5f\",\"gridcolor\":\"white\",\"linecolor\":\"white\",\"minorgridcolor\":\"white\",\"startlinecolor\":\"#2a3f5f\"},\"type\":\"carpet\"}],\"choropleth\":[{\"colorbar\":{\"outlinewidth\":0,\"ticks\":\"\"},\"type\":\"choropleth\"}],\"contourcarpet\":[{\"colorbar\":{\"outlinewidth\":0,\"ticks\":\"\"},\"type\":\"contourcarpet\"}],\"contour\":[{\"colorbar\":{\"outlinewidth\":0,\"ticks\":\"\"},\"colorscale\":[[0.0,\"#0d0887\"],[0.1111111111111111,\"#46039f\"],[0.2222222222222222,\"#7201a8\"],[0.3333333333333333,\"#9c179e\"],[0.4444444444444444,\"#bd3786\"],[0.5555555555555556,\"#d8576b\"],[0.6666666666666666,\"#ed7953\"],[0.7777777777777778,\"#fb9f3a\"],[0.8888888888888888,\"#fdca26\"],[1.0,\"#f0f921\"]],\"type\":\"contour\"}],\"heatmapgl\":[{\"colorbar\":{\"outlinewidth\":0,\"ticks\":\"\"},\"colorscale\":[[0.0,\"#0d0887\"],[0.1111111111111111,\"#46039f\"],[0.2222222222222222,\"#7201a8\"],[0.3333333333333333,\"#9c179e\"],[0.4444444444444444,\"#bd3786\"],[0.5555555555555556,\"#d8576b\"],[0.6666666666666666,\"#ed7953\"],[0.7777777777777778,\"#fb9f3a\"],[0.8888888888888888,\"#fdca26\"],[1.0,\"#f0f921\"]],\"type\":\"heatmapgl\"}],\"heatmap\":[{\"colorbar\":{\"outlinewidth\":0,\"ticks\":\"\"},\"colorscale\":[[0.0,\"#0d0887\"],[0.1111111111111111,\"#46039f\"],[0.2222222222222222,\"#7201a8\"],[0.3333333333333333,\"#9c179e\"],[0.4444444444444444,\"#bd3786\"],[0.5555555555555556,\"#d8576b\"],[0.6666666666666666,\"#ed7953\"],[0.7777777777777778,\"#fb9f3a\"],[0.8888888888888888,\"#fdca26\"],[1.0,\"#f0f921\"]],\"type\":\"heatmap\"}],\"histogram2dcontour\":[{\"colorbar\":{\"outlinewidth\":0,\"ticks\":\"\"},\"colorscale\":[[0.0,\"#0d0887\"],[0.1111111111111111,\"#46039f\"],[0.2222222222222222,\"#7201a8\"],[0.3333333333333333,\"#9c179e\"],[0.4444444444444444,\"#bd3786\"],[0.5555555555555556,\"#d8576b\"],[0.6666666666666666,\"#ed7953\"],[0.7777777777777778,\"#fb9f3a\"],[0.8888888888888888,\"#fdca26\"],[1.0,\"#f0f921\"]],\"type\":\"histogram2dcontour\"}],\"histogram2d\":[{\"colorbar\":{\"outlinewidth\":0,\"ticks\":\"\"},\"colorscale\":[[0.0,\"#0d0887\"],[0.1111111111111111,\"#46039f\"],[0.2222222222222222,\"#7201a8\"],[0.3333333333333333,\"#9c179e\"],[0.4444444444444444,\"#bd3786\"],[0.5555555555555556,\"#d8576b\"],[0.6666666666666666,\"#ed7953\"],[0.7777777777777778,\"#fb9f3a\"],[0.8888888888888888,\"#fdca26\"],[1.0,\"#f0f921\"]],\"type\":\"histogram2d\"}],\"histogram\":[{\"marker\":{\"pattern\":{\"fillmode\":\"overlay\",\"size\":10,\"solidity\":0.2}},\"type\":\"histogram\"}],\"mesh3d\":[{\"colorbar\":{\"outlinewidth\":0,\"ticks\":\"\"},\"type\":\"mesh3d\"}],\"parcoords\":[{\"line\":{\"colorbar\":{\"outlinewidth\":0,\"ticks\":\"\"}},\"type\":\"parcoords\"}],\"pie\":[{\"automargin\":true,\"type\":\"pie\"}],\"scatter3d\":[{\"line\":{\"colorbar\":{\"outlinewidth\":0,\"ticks\":\"\"}},\"marker\":{\"colorbar\":{\"outlinewidth\":0,\"ticks\":\"\"}},\"type\":\"scatter3d\"}],\"scattercarpet\":[{\"marker\":{\"colorbar\":{\"outlinewidth\":0,\"ticks\":\"\"}},\"type\":\"scattercarpet\"}],\"scattergeo\":[{\"marker\":{\"colorbar\":{\"outlinewidth\":0,\"ticks\":\"\"}},\"type\":\"scattergeo\"}],\"scattergl\":[{\"marker\":{\"colorbar\":{\"outlinewidth\":0,\"ticks\":\"\"}},\"type\":\"scattergl\"}],\"scattermapbox\":[{\"marker\":{\"colorbar\":{\"outlinewidth\":0,\"ticks\":\"\"}},\"type\":\"scattermapbox\"}],\"scatterpolargl\":[{\"marker\":{\"colorbar\":{\"outlinewidth\":0,\"ticks\":\"\"}},\"type\":\"scatterpolargl\"}],\"scatterpolar\":[{\"marker\":{\"colorbar\":{\"outlinewidth\":0,\"ticks\":\"\"}},\"type\":\"scatterpolar\"}],\"scatter\":[{\"marker\":{\"colorbar\":{\"outlinewidth\":0,\"ticks\":\"\"}},\"type\":\"scatter\"}],\"scatterternary\":[{\"marker\":{\"colorbar\":{\"outlinewidth\":0,\"ticks\":\"\"}},\"type\":\"scatterternary\"}],\"surface\":[{\"colorbar\":{\"outlinewidth\":0,\"ticks\":\"\"},\"colorscale\":[[0.0,\"#0d0887\"],[0.1111111111111111,\"#46039f\"],[0.2222222222222222,\"#7201a8\"],[0.3333333333333333,\"#9c179e\"],[0.4444444444444444,\"#bd3786\"],[0.5555555555555556,\"#d8576b\"],[0.6666666666666666,\"#ed7953\"],[0.7777777777777778,\"#fb9f3a\"],[0.8888888888888888,\"#fdca26\"],[1.0,\"#f0f921\"]],\"type\":\"surface\"}],\"table\":[{\"cells\":{\"fill\":{\"color\":\"#EBF0F8\"},\"line\":{\"color\":\"white\"}},\"header\":{\"fill\":{\"color\":\"#C8D4E3\"},\"line\":{\"color\":\"white\"}},\"type\":\"table\"}]},\"layout\":{\"annotationdefaults\":{\"arrowcolor\":\"#2a3f5f\",\"arrowhead\":0,\"arrowwidth\":1},\"autotypenumbers\":\"strict\",\"coloraxis\":{\"colorbar\":{\"outlinewidth\":0,\"ticks\":\"\"}},\"colorscale\":{\"diverging\":[[0,\"#8e0152\"],[0.1,\"#c51b7d\"],[0.2,\"#de77ae\"],[0.3,\"#f1b6da\"],[0.4,\"#fde0ef\"],[0.5,\"#f7f7f7\"],[0.6,\"#e6f5d0\"],[0.7,\"#b8e186\"],[0.8,\"#7fbc41\"],[0.9,\"#4d9221\"],[1,\"#276419\"]],\"sequential\":[[0.0,\"#0d0887\"],[0.1111111111111111,\"#46039f\"],[0.2222222222222222,\"#7201a8\"],[0.3333333333333333,\"#9c179e\"],[0.4444444444444444,\"#bd3786\"],[0.5555555555555556,\"#d8576b\"],[0.6666666666666666,\"#ed7953\"],[0.7777777777777778,\"#fb9f3a\"],[0.8888888888888888,\"#fdca26\"],[1.0,\"#f0f921\"]],\"sequentialminus\":[[0.0,\"#0d0887\"],[0.1111111111111111,\"#46039f\"],[0.2222222222222222,\"#7201a8\"],[0.3333333333333333,\"#9c179e\"],[0.4444444444444444,\"#bd3786\"],[0.5555555555555556,\"#d8576b\"],[0.6666666666666666,\"#ed7953\"],[0.7777777777777778,\"#fb9f3a\"],[0.8888888888888888,\"#fdca26\"],[1.0,\"#f0f921\"]]},\"colorway\":[\"#636efa\",\"#EF553B\",\"#00cc96\",\"#ab63fa\",\"#FFA15A\",\"#19d3f3\",\"#FF6692\",\"#B6E880\",\"#FF97FF\",\"#FECB52\"],\"font\":{\"color\":\"#2a3f5f\"},\"geo\":{\"bgcolor\":\"white\",\"lakecolor\":\"white\",\"landcolor\":\"#E5ECF6\",\"showlakes\":true,\"showland\":true,\"subunitcolor\":\"white\"},\"hoverlabel\":{\"align\":\"left\"},\"hovermode\":\"closest\",\"mapbox\":{\"style\":\"light\"},\"paper_bgcolor\":\"white\",\"plot_bgcolor\":\"#E5ECF6\",\"polar\":{\"angularaxis\":{\"gridcolor\":\"white\",\"linecolor\":\"white\",\"ticks\":\"\"},\"bgcolor\":\"#E5ECF6\",\"radialaxis\":{\"gridcolor\":\"white\",\"linecolor\":\"white\",\"ticks\":\"\"}},\"scene\":{\"xaxis\":{\"backgroundcolor\":\"#E5ECF6\",\"gridcolor\":\"white\",\"gridwidth\":2,\"linecolor\":\"white\",\"showbackground\":true,\"ticks\":\"\",\"zerolinecolor\":\"white\"},\"yaxis\":{\"backgroundcolor\":\"#E5ECF6\",\"gridcolor\":\"white\",\"gridwidth\":2,\"linecolor\":\"white\",\"showbackground\":true,\"ticks\":\"\",\"zerolinecolor\":\"white\"},\"zaxis\":{\"backgroundcolor\":\"#E5ECF6\",\"gridcolor\":\"white\",\"gridwidth\":2,\"linecolor\":\"white\",\"showbackground\":true,\"ticks\":\"\",\"zerolinecolor\":\"white\"}},\"shapedefaults\":{\"line\":{\"color\":\"#2a3f5f\"}},\"ternary\":{\"aaxis\":{\"gridcolor\":\"white\",\"linecolor\":\"white\",\"ticks\":\"\"},\"baxis\":{\"gridcolor\":\"white\",\"linecolor\":\"white\",\"ticks\":\"\"},\"bgcolor\":\"#E5ECF6\",\"caxis\":{\"gridcolor\":\"white\",\"linecolor\":\"white\",\"ticks\":\"\"}},\"title\":{\"x\":0.05},\"xaxis\":{\"automargin\":true,\"gridcolor\":\"white\",\"linecolor\":\"white\",\"ticks\":\"\",\"title\":{\"standoff\":15},\"zerolinecolor\":\"white\",\"zerolinewidth\":2},\"yaxis\":{\"automargin\":true,\"gridcolor\":\"white\",\"linecolor\":\"white\",\"ticks\":\"\",\"title\":{\"standoff\":15},\"zerolinecolor\":\"white\",\"zerolinewidth\":2}}},\"title\":{\"font\":{\"color\":\"#4D5663\"}},\"xaxis\":{\"gridcolor\":\"#E1E5ED\",\"showgrid\":true,\"tickfont\":{\"color\":\"#4D5663\"},\"title\":{\"font\":{\"color\":\"#4D5663\"},\"text\":\"\"},\"zerolinecolor\":\"#E1E5ED\"},\"yaxis\":{\"gridcolor\":\"#E1E5ED\",\"showgrid\":true,\"tickfont\":{\"color\":\"#4D5663\"},\"title\":{\"font\":{\"color\":\"#4D5663\"},\"text\":\"\"},\"zerolinecolor\":\"#E1E5ED\"}},                        {\"showLink\": true, \"linkText\": \"Export to plot.ly\", \"plotlyServerURL\": \"https://plot.ly\", \"responsive\": true}                    ).then(function(){\n",
       "                            \n",
       "var gd = document.getElementById('4a55c77d-ab8d-4161-9f1b-55a02e395224');\n",
       "var x = new MutationObserver(function (mutations, observer) {{\n",
       "        var display = window.getComputedStyle(gd).display;\n",
       "        if (!display || display === 'none') {{\n",
       "            console.log([gd, 'removed!']);\n",
       "            Plotly.purge(gd);\n",
       "            observer.disconnect();\n",
       "        }}\n",
       "}});\n",
       "\n",
       "// Listen for the removal of the full notebook cells\n",
       "var notebookContainer = gd.closest('#notebook-container');\n",
       "if (notebookContainer) {{\n",
       "    x.observe(notebookContainer, {childList: true});\n",
       "}}\n",
       "\n",
       "// Listen for the clearing of the current output cell\n",
       "var outputEl = gd.closest('.output');\n",
       "if (outputEl) {{\n",
       "    x.observe(outputEl, {childList: true});\n",
       "}}\n",
       "\n",
       "                        })                };                });            </script>        </div>"
      ]
     },
     "metadata": {},
     "output_type": "display_data"
    }
   ],
   "source": [
    "df1.iplot()"
   ]
  },
  {
   "cell_type": "code",
   "execution_count": 21,
   "id": "03341a16",
   "metadata": {},
   "outputs": [
    {
     "data": {
      "application/vnd.plotly.v1+json": {
       "config": {
        "linkText": "Export to plot.ly",
        "plotlyServerURL": "https://plot.ly",
        "showLink": true
       },
       "data": [
        {
         "line": {
          "color": "rgba(255, 153, 51, 1.0)",
          "dash": "solid",
          "shape": "linear",
          "width": 1.3
         },
         "marker": {
          "size": 12,
          "symbol": "circle"
         },
         "mode": "markers",
         "name": "B",
         "text": "",
         "type": "scatter",
         "x": [
          -0.6715841140505145,
          -0.015693512274722023,
          -1.2377868022190277,
          0.02503655607096757,
          -0.14529398503449995,
          -1.0551956430573703,
          0.23233137831534484,
          -0.2956574504198168,
          -0.5577910399776433,
          1.3738652338159894,
          -2.9623175823727816,
          1.4904430345297184,
          1.039183339678253,
          -0.7113259936440596,
          -1.1842573167447745,
          0.08276897728234352,
          0.329475561063558,
          0.4884573064355324,
          0.33170945240886557,
          -1.623491342611854,
          -0.2787006945859761,
          0.3451219421823229,
          -0.8463179724936395,
          1.198615884615791,
          -1.21520995130495,
          0.08357517582237833,
          -0.9168333966717761,
          0.14444471685492827,
          -0.7587977901216573,
          -0.5716253932588715,
          -0.5155445307260258,
          0.039690930351866376,
          0.45206315536669267,
          0.25822078314915525,
          0.6795014499531823,
          -0.5258381951483264,
          -0.5831900803018422,
          0.9433672570698973,
          -1.2172033264702742,
          0.4070804402188379,
          0.9984241995599689,
          0.17547655482258462,
          -0.4864382830689831,
          -1.1725144840193726,
          1.2159970426643887,
          2.2007383884166125,
          -1.447909129888451,
          -1.2405381762638814,
          0.08017130631382811,
          -2.4146038180313445,
          0.24500705463654993,
          1.0955121238600343,
          0.07840931223258185,
          -1.0910806569187692,
          0.8837375823403211,
          -0.6788158992187295,
          -0.11096246412127025,
          -0.18905143074917843,
          -0.18057514475557498,
          0.6162366738892845,
          0.16758644721112217,
          -1.552022094532808,
          -0.15980187798785894,
          0.684059048953964,
          0.08319961960883286,
          -0.1393646482722601,
          -2.504160913360558,
          0.5878659446965919,
          1.635811129335889,
          1.9114127993924863,
          -0.7805028079982012,
          0.1596568880233185,
          0.04155434974831334,
          1.0035541939648416,
          0.8908357638671642,
          0.1327051615657846,
          -0.3952116467445707,
          0.7864341312472358,
          0.38666747641392035,
          0.14471853623258493,
          1.431655710690944,
          -0.11781504624255924,
          1.4974434253457516,
          -0.7964145225371747,
          -1.3699600853577067,
          -0.9618089897181643,
          -0.827111687389078,
          -0.7046529758368414,
          0.8828852015707367,
          -0.706753026854823,
          -1.390935846156628,
          -1.0817460195694732,
          0.9059710010262795,
          1.6281493928309418,
          -1.5741581898416985,
          -1.1456360795171043,
          0.5647014328630369,
          1.4079302677481942,
          0.7015348136215821,
          0.2996814140958031
         ],
         "y": [
          2.2584707094043437,
          -0.7302799304607928,
          -0.2639441560358485,
          -1.6907250644742915,
          0.1254040074044843,
          1.3653684572122151,
          -0.8993710510320301,
          1.3637219597500265,
          -0.9949884716772304,
          1.3124196810371618,
          0.13120330179599704,
          0.24421489269566785,
          -0.27027514734432023,
          2.4192473141037873,
          0.07051174070187619,
          1.1454944026229976,
          1.3978441309027008,
          -0.8020321670729008,
          0.23465940010652886,
          0.27772437241707726,
          -0.023704226665142523,
          1.0647734889326985,
          -0.1299940741540082,
          -0.8947487564886276,
          -0.8601967942699728,
          -0.31182841235252173,
          0.7008025244702615,
          1.462640550182099,
          -0.7168406874680995,
          -0.533752063962401,
          -0.3383209072280021,
          2.141940772311467,
          -0.2179188511702646,
          0.7234207747726848,
          -1.539763104939272,
          -0.208167932281236,
          -0.7514823675298156,
          0.035625121367857726,
          0.9241782089734557,
          0.25995515135379726,
          0.8840298645904345,
          1.621531593225492,
          -1.0862693306485376,
          -0.9298244982592239,
          1.0305804958400764,
          -0.3028330445145502,
          -0.3412703213179675,
          0.24259140471291563,
          0.7725146061486692,
          -0.5627322260108164,
          -1.3362173833170023,
          -0.8364666429820613,
          -1.8649422541480647,
          -0.04000503321453959,
          -0.516321928580932,
          0.08082616339686961,
          1.3944373699957966,
          -0.17216818877174742,
          -0.5934447292701355,
          0.10764914753318927,
          -0.2667606811527233,
          -1.0162205575249617,
          -0.1144380817846967,
          1.4406345038428472,
          -0.7425514219222027,
          -1.0606788949699955,
          -1.586021525034324,
          -0.12104202346651638,
          0.8521010224489876,
          -0.9966586709814385,
          -0.7121334921084088,
          -0.4637882083535036,
          -0.11250665600437545,
          -0.8411356640052431,
          -0.7045662925272004,
          -0.6948250878248523,
          0.5000878197913172,
          -0.3528712808109637,
          -0.09557363709951629,
          0.11364046061839493,
          -1.015457474819926,
          0.36528363055720064,
          0.6711251693871432,
          0.7601384575280092,
          0.4321696477454787,
          0.6833655360978901,
          1.7310669374017902,
          0.4262696812048567,
          -0.2656194098492696,
          1.5645661055838156,
          -0.033652820429172794,
          -1.0858452674326182,
          -0.9708252180947552,
          1.771751835446405,
          -0.7925116693718385,
          -1.3470060707018487,
          0.006208722375716201,
          -1.499857075979689,
          -0.8887702919102793,
          -0.43945889066964533
         ]
        }
       ],
       "layout": {
        "legend": {
         "bgcolor": "#F5F6F9",
         "font": {
          "color": "#4D5663"
         }
        },
        "paper_bgcolor": "#F5F6F9",
        "plot_bgcolor": "#F5F6F9",
        "template": {
         "data": {
          "bar": [
           {
            "error_x": {
             "color": "#2a3f5f"
            },
            "error_y": {
             "color": "#2a3f5f"
            },
            "marker": {
             "line": {
              "color": "#E5ECF6",
              "width": 0.5
             },
             "pattern": {
              "fillmode": "overlay",
              "size": 10,
              "solidity": 0.2
             }
            },
            "type": "bar"
           }
          ],
          "barpolar": [
           {
            "marker": {
             "line": {
              "color": "#E5ECF6",
              "width": 0.5
             },
             "pattern": {
              "fillmode": "overlay",
              "size": 10,
              "solidity": 0.2
             }
            },
            "type": "barpolar"
           }
          ],
          "carpet": [
           {
            "aaxis": {
             "endlinecolor": "#2a3f5f",
             "gridcolor": "white",
             "linecolor": "white",
             "minorgridcolor": "white",
             "startlinecolor": "#2a3f5f"
            },
            "baxis": {
             "endlinecolor": "#2a3f5f",
             "gridcolor": "white",
             "linecolor": "white",
             "minorgridcolor": "white",
             "startlinecolor": "#2a3f5f"
            },
            "type": "carpet"
           }
          ],
          "choropleth": [
           {
            "colorbar": {
             "outlinewidth": 0,
             "ticks": ""
            },
            "type": "choropleth"
           }
          ],
          "contour": [
           {
            "colorbar": {
             "outlinewidth": 0,
             "ticks": ""
            },
            "colorscale": [
             [
              0,
              "#0d0887"
             ],
             [
              0.1111111111111111,
              "#46039f"
             ],
             [
              0.2222222222222222,
              "#7201a8"
             ],
             [
              0.3333333333333333,
              "#9c179e"
             ],
             [
              0.4444444444444444,
              "#bd3786"
             ],
             [
              0.5555555555555556,
              "#d8576b"
             ],
             [
              0.6666666666666666,
              "#ed7953"
             ],
             [
              0.7777777777777778,
              "#fb9f3a"
             ],
             [
              0.8888888888888888,
              "#fdca26"
             ],
             [
              1,
              "#f0f921"
             ]
            ],
            "type": "contour"
           }
          ],
          "contourcarpet": [
           {
            "colorbar": {
             "outlinewidth": 0,
             "ticks": ""
            },
            "type": "contourcarpet"
           }
          ],
          "heatmap": [
           {
            "colorbar": {
             "outlinewidth": 0,
             "ticks": ""
            },
            "colorscale": [
             [
              0,
              "#0d0887"
             ],
             [
              0.1111111111111111,
              "#46039f"
             ],
             [
              0.2222222222222222,
              "#7201a8"
             ],
             [
              0.3333333333333333,
              "#9c179e"
             ],
             [
              0.4444444444444444,
              "#bd3786"
             ],
             [
              0.5555555555555556,
              "#d8576b"
             ],
             [
              0.6666666666666666,
              "#ed7953"
             ],
             [
              0.7777777777777778,
              "#fb9f3a"
             ],
             [
              0.8888888888888888,
              "#fdca26"
             ],
             [
              1,
              "#f0f921"
             ]
            ],
            "type": "heatmap"
           }
          ],
          "heatmapgl": [
           {
            "colorbar": {
             "outlinewidth": 0,
             "ticks": ""
            },
            "colorscale": [
             [
              0,
              "#0d0887"
             ],
             [
              0.1111111111111111,
              "#46039f"
             ],
             [
              0.2222222222222222,
              "#7201a8"
             ],
             [
              0.3333333333333333,
              "#9c179e"
             ],
             [
              0.4444444444444444,
              "#bd3786"
             ],
             [
              0.5555555555555556,
              "#d8576b"
             ],
             [
              0.6666666666666666,
              "#ed7953"
             ],
             [
              0.7777777777777778,
              "#fb9f3a"
             ],
             [
              0.8888888888888888,
              "#fdca26"
             ],
             [
              1,
              "#f0f921"
             ]
            ],
            "type": "heatmapgl"
           }
          ],
          "histogram": [
           {
            "marker": {
             "pattern": {
              "fillmode": "overlay",
              "size": 10,
              "solidity": 0.2
             }
            },
            "type": "histogram"
           }
          ],
          "histogram2d": [
           {
            "colorbar": {
             "outlinewidth": 0,
             "ticks": ""
            },
            "colorscale": [
             [
              0,
              "#0d0887"
             ],
             [
              0.1111111111111111,
              "#46039f"
             ],
             [
              0.2222222222222222,
              "#7201a8"
             ],
             [
              0.3333333333333333,
              "#9c179e"
             ],
             [
              0.4444444444444444,
              "#bd3786"
             ],
             [
              0.5555555555555556,
              "#d8576b"
             ],
             [
              0.6666666666666666,
              "#ed7953"
             ],
             [
              0.7777777777777778,
              "#fb9f3a"
             ],
             [
              0.8888888888888888,
              "#fdca26"
             ],
             [
              1,
              "#f0f921"
             ]
            ],
            "type": "histogram2d"
           }
          ],
          "histogram2dcontour": [
           {
            "colorbar": {
             "outlinewidth": 0,
             "ticks": ""
            },
            "colorscale": [
             [
              0,
              "#0d0887"
             ],
             [
              0.1111111111111111,
              "#46039f"
             ],
             [
              0.2222222222222222,
              "#7201a8"
             ],
             [
              0.3333333333333333,
              "#9c179e"
             ],
             [
              0.4444444444444444,
              "#bd3786"
             ],
             [
              0.5555555555555556,
              "#d8576b"
             ],
             [
              0.6666666666666666,
              "#ed7953"
             ],
             [
              0.7777777777777778,
              "#fb9f3a"
             ],
             [
              0.8888888888888888,
              "#fdca26"
             ],
             [
              1,
              "#f0f921"
             ]
            ],
            "type": "histogram2dcontour"
           }
          ],
          "mesh3d": [
           {
            "colorbar": {
             "outlinewidth": 0,
             "ticks": ""
            },
            "type": "mesh3d"
           }
          ],
          "parcoords": [
           {
            "line": {
             "colorbar": {
              "outlinewidth": 0,
              "ticks": ""
             }
            },
            "type": "parcoords"
           }
          ],
          "pie": [
           {
            "automargin": true,
            "type": "pie"
           }
          ],
          "scatter": [
           {
            "marker": {
             "colorbar": {
              "outlinewidth": 0,
              "ticks": ""
             }
            },
            "type": "scatter"
           }
          ],
          "scatter3d": [
           {
            "line": {
             "colorbar": {
              "outlinewidth": 0,
              "ticks": ""
             }
            },
            "marker": {
             "colorbar": {
              "outlinewidth": 0,
              "ticks": ""
             }
            },
            "type": "scatter3d"
           }
          ],
          "scattercarpet": [
           {
            "marker": {
             "colorbar": {
              "outlinewidth": 0,
              "ticks": ""
             }
            },
            "type": "scattercarpet"
           }
          ],
          "scattergeo": [
           {
            "marker": {
             "colorbar": {
              "outlinewidth": 0,
              "ticks": ""
             }
            },
            "type": "scattergeo"
           }
          ],
          "scattergl": [
           {
            "marker": {
             "colorbar": {
              "outlinewidth": 0,
              "ticks": ""
             }
            },
            "type": "scattergl"
           }
          ],
          "scattermapbox": [
           {
            "marker": {
             "colorbar": {
              "outlinewidth": 0,
              "ticks": ""
             }
            },
            "type": "scattermapbox"
           }
          ],
          "scatterpolar": [
           {
            "marker": {
             "colorbar": {
              "outlinewidth": 0,
              "ticks": ""
             }
            },
            "type": "scatterpolar"
           }
          ],
          "scatterpolargl": [
           {
            "marker": {
             "colorbar": {
              "outlinewidth": 0,
              "ticks": ""
             }
            },
            "type": "scatterpolargl"
           }
          ],
          "scatterternary": [
           {
            "marker": {
             "colorbar": {
              "outlinewidth": 0,
              "ticks": ""
             }
            },
            "type": "scatterternary"
           }
          ],
          "surface": [
           {
            "colorbar": {
             "outlinewidth": 0,
             "ticks": ""
            },
            "colorscale": [
             [
              0,
              "#0d0887"
             ],
             [
              0.1111111111111111,
              "#46039f"
             ],
             [
              0.2222222222222222,
              "#7201a8"
             ],
             [
              0.3333333333333333,
              "#9c179e"
             ],
             [
              0.4444444444444444,
              "#bd3786"
             ],
             [
              0.5555555555555556,
              "#d8576b"
             ],
             [
              0.6666666666666666,
              "#ed7953"
             ],
             [
              0.7777777777777778,
              "#fb9f3a"
             ],
             [
              0.8888888888888888,
              "#fdca26"
             ],
             [
              1,
              "#f0f921"
             ]
            ],
            "type": "surface"
           }
          ],
          "table": [
           {
            "cells": {
             "fill": {
              "color": "#EBF0F8"
             },
             "line": {
              "color": "white"
             }
            },
            "header": {
             "fill": {
              "color": "#C8D4E3"
             },
             "line": {
              "color": "white"
             }
            },
            "type": "table"
           }
          ]
         },
         "layout": {
          "annotationdefaults": {
           "arrowcolor": "#2a3f5f",
           "arrowhead": 0,
           "arrowwidth": 1
          },
          "autotypenumbers": "strict",
          "coloraxis": {
           "colorbar": {
            "outlinewidth": 0,
            "ticks": ""
           }
          },
          "colorscale": {
           "diverging": [
            [
             0,
             "#8e0152"
            ],
            [
             0.1,
             "#c51b7d"
            ],
            [
             0.2,
             "#de77ae"
            ],
            [
             0.3,
             "#f1b6da"
            ],
            [
             0.4,
             "#fde0ef"
            ],
            [
             0.5,
             "#f7f7f7"
            ],
            [
             0.6,
             "#e6f5d0"
            ],
            [
             0.7,
             "#b8e186"
            ],
            [
             0.8,
             "#7fbc41"
            ],
            [
             0.9,
             "#4d9221"
            ],
            [
             1,
             "#276419"
            ]
           ],
           "sequential": [
            [
             0,
             "#0d0887"
            ],
            [
             0.1111111111111111,
             "#46039f"
            ],
            [
             0.2222222222222222,
             "#7201a8"
            ],
            [
             0.3333333333333333,
             "#9c179e"
            ],
            [
             0.4444444444444444,
             "#bd3786"
            ],
            [
             0.5555555555555556,
             "#d8576b"
            ],
            [
             0.6666666666666666,
             "#ed7953"
            ],
            [
             0.7777777777777778,
             "#fb9f3a"
            ],
            [
             0.8888888888888888,
             "#fdca26"
            ],
            [
             1,
             "#f0f921"
            ]
           ],
           "sequentialminus": [
            [
             0,
             "#0d0887"
            ],
            [
             0.1111111111111111,
             "#46039f"
            ],
            [
             0.2222222222222222,
             "#7201a8"
            ],
            [
             0.3333333333333333,
             "#9c179e"
            ],
            [
             0.4444444444444444,
             "#bd3786"
            ],
            [
             0.5555555555555556,
             "#d8576b"
            ],
            [
             0.6666666666666666,
             "#ed7953"
            ],
            [
             0.7777777777777778,
             "#fb9f3a"
            ],
            [
             0.8888888888888888,
             "#fdca26"
            ],
            [
             1,
             "#f0f921"
            ]
           ]
          },
          "colorway": [
           "#636efa",
           "#EF553B",
           "#00cc96",
           "#ab63fa",
           "#FFA15A",
           "#19d3f3",
           "#FF6692",
           "#B6E880",
           "#FF97FF",
           "#FECB52"
          ],
          "font": {
           "color": "#2a3f5f"
          },
          "geo": {
           "bgcolor": "white",
           "lakecolor": "white",
           "landcolor": "#E5ECF6",
           "showlakes": true,
           "showland": true,
           "subunitcolor": "white"
          },
          "hoverlabel": {
           "align": "left"
          },
          "hovermode": "closest",
          "mapbox": {
           "style": "light"
          },
          "paper_bgcolor": "white",
          "plot_bgcolor": "#E5ECF6",
          "polar": {
           "angularaxis": {
            "gridcolor": "white",
            "linecolor": "white",
            "ticks": ""
           },
           "bgcolor": "#E5ECF6",
           "radialaxis": {
            "gridcolor": "white",
            "linecolor": "white",
            "ticks": ""
           }
          },
          "scene": {
           "xaxis": {
            "backgroundcolor": "#E5ECF6",
            "gridcolor": "white",
            "gridwidth": 2,
            "linecolor": "white",
            "showbackground": true,
            "ticks": "",
            "zerolinecolor": "white"
           },
           "yaxis": {
            "backgroundcolor": "#E5ECF6",
            "gridcolor": "white",
            "gridwidth": 2,
            "linecolor": "white",
            "showbackground": true,
            "ticks": "",
            "zerolinecolor": "white"
           },
           "zaxis": {
            "backgroundcolor": "#E5ECF6",
            "gridcolor": "white",
            "gridwidth": 2,
            "linecolor": "white",
            "showbackground": true,
            "ticks": "",
            "zerolinecolor": "white"
           }
          },
          "shapedefaults": {
           "line": {
            "color": "#2a3f5f"
           }
          },
          "ternary": {
           "aaxis": {
            "gridcolor": "white",
            "linecolor": "white",
            "ticks": ""
           },
           "baxis": {
            "gridcolor": "white",
            "linecolor": "white",
            "ticks": ""
           },
           "bgcolor": "#E5ECF6",
           "caxis": {
            "gridcolor": "white",
            "linecolor": "white",
            "ticks": ""
           }
          },
          "title": {
           "x": 0.05
          },
          "xaxis": {
           "automargin": true,
           "gridcolor": "white",
           "linecolor": "white",
           "ticks": "",
           "title": {
            "standoff": 15
           },
           "zerolinecolor": "white",
           "zerolinewidth": 2
          },
          "yaxis": {
           "automargin": true,
           "gridcolor": "white",
           "linecolor": "white",
           "ticks": "",
           "title": {
            "standoff": 15
           },
           "zerolinecolor": "white",
           "zerolinewidth": 2
          }
         }
        },
        "title": {
         "font": {
          "color": "#4D5663"
         }
        },
        "xaxis": {
         "gridcolor": "#E1E5ED",
         "showgrid": true,
         "tickfont": {
          "color": "#4D5663"
         },
         "title": {
          "font": {
           "color": "#4D5663"
          },
          "text": ""
         },
         "zerolinecolor": "#E1E5ED"
        },
        "yaxis": {
         "gridcolor": "#E1E5ED",
         "showgrid": true,
         "tickfont": {
          "color": "#4D5663"
         },
         "title": {
          "font": {
           "color": "#4D5663"
          },
          "text": ""
         },
         "zerolinecolor": "#E1E5ED"
        }
       }
      },
      "text/html": [
       "<div>                            <div id=\"86b881e3-209e-4243-86b1-7af56876e1a6\" class=\"plotly-graph-div\" style=\"height:525px; width:100%;\"></div>            <script type=\"text/javascript\">                require([\"plotly\"], function(Plotly) {                    window.PLOTLYENV=window.PLOTLYENV || {};\n",
       "                    window.PLOTLYENV.BASE_URL='https://plot.ly';                                    if (document.getElementById(\"86b881e3-209e-4243-86b1-7af56876e1a6\")) {                    Plotly.newPlot(                        \"86b881e3-209e-4243-86b1-7af56876e1a6\",                        [{\"line\":{\"color\":\"rgba(255, 153, 51, 1.0)\",\"dash\":\"solid\",\"shape\":\"linear\",\"width\":1.3},\"marker\":{\"size\":12,\"symbol\":\"circle\"},\"mode\":\"markers\",\"name\":\"B\",\"text\":\"\",\"x\":[-0.6715841140505145,-0.015693512274722023,-1.2377868022190277,0.02503655607096757,-0.14529398503449995,-1.0551956430573703,0.23233137831534484,-0.2956574504198168,-0.5577910399776433,1.3738652338159894,-2.9623175823727816,1.4904430345297184,1.039183339678253,-0.7113259936440596,-1.1842573167447745,0.08276897728234352,0.329475561063558,0.4884573064355324,0.33170945240886557,-1.623491342611854,-0.2787006945859761,0.3451219421823229,-0.8463179724936395,1.198615884615791,-1.21520995130495,0.08357517582237833,-0.9168333966717761,0.14444471685492827,-0.7587977901216573,-0.5716253932588715,-0.5155445307260258,0.039690930351866376,0.45206315536669267,0.25822078314915525,0.6795014499531823,-0.5258381951483264,-0.5831900803018422,0.9433672570698973,-1.2172033264702742,0.4070804402188379,0.9984241995599689,0.17547655482258462,-0.4864382830689831,-1.1725144840193726,1.2159970426643887,2.2007383884166125,-1.447909129888451,-1.2405381762638814,0.08017130631382811,-2.4146038180313445,0.24500705463654993,1.0955121238600343,0.07840931223258185,-1.0910806569187692,0.8837375823403211,-0.6788158992187295,-0.11096246412127025,-0.18905143074917843,-0.18057514475557498,0.6162366738892845,0.16758644721112217,-1.552022094532808,-0.15980187798785894,0.684059048953964,0.08319961960883286,-0.1393646482722601,-2.504160913360558,0.5878659446965919,1.635811129335889,1.9114127993924863,-0.7805028079982012,0.1596568880233185,0.04155434974831334,1.0035541939648416,0.8908357638671642,0.1327051615657846,-0.3952116467445707,0.7864341312472358,0.38666747641392035,0.14471853623258493,1.431655710690944,-0.11781504624255924,1.4974434253457516,-0.7964145225371747,-1.3699600853577067,-0.9618089897181643,-0.827111687389078,-0.7046529758368414,0.8828852015707367,-0.706753026854823,-1.390935846156628,-1.0817460195694732,0.9059710010262795,1.6281493928309418,-1.5741581898416985,-1.1456360795171043,0.5647014328630369,1.4079302677481942,0.7015348136215821,0.2996814140958031],\"y\":[2.2584707094043437,-0.7302799304607928,-0.2639441560358485,-1.6907250644742915,0.1254040074044843,1.3653684572122151,-0.8993710510320301,1.3637219597500265,-0.9949884716772304,1.3124196810371618,0.13120330179599704,0.24421489269566785,-0.27027514734432023,2.4192473141037873,0.07051174070187619,1.1454944026229976,1.3978441309027008,-0.8020321670729008,0.23465940010652886,0.27772437241707726,-0.023704226665142523,1.0647734889326985,-0.1299940741540082,-0.8947487564886276,-0.8601967942699728,-0.31182841235252173,0.7008025244702615,1.462640550182099,-0.7168406874680995,-0.533752063962401,-0.3383209072280021,2.141940772311467,-0.2179188511702646,0.7234207747726848,-1.539763104939272,-0.208167932281236,-0.7514823675298156,0.035625121367857726,0.9241782089734557,0.25995515135379726,0.8840298645904345,1.621531593225492,-1.0862693306485376,-0.9298244982592239,1.0305804958400764,-0.3028330445145502,-0.3412703213179675,0.24259140471291563,0.7725146061486692,-0.5627322260108164,-1.3362173833170023,-0.8364666429820613,-1.8649422541480647,-0.04000503321453959,-0.516321928580932,0.08082616339686961,1.3944373699957966,-0.17216818877174742,-0.5934447292701355,0.10764914753318927,-0.2667606811527233,-1.0162205575249617,-0.1144380817846967,1.4406345038428472,-0.7425514219222027,-1.0606788949699955,-1.586021525034324,-0.12104202346651638,0.8521010224489876,-0.9966586709814385,-0.7121334921084088,-0.4637882083535036,-0.11250665600437545,-0.8411356640052431,-0.7045662925272004,-0.6948250878248523,0.5000878197913172,-0.3528712808109637,-0.09557363709951629,0.11364046061839493,-1.015457474819926,0.36528363055720064,0.6711251693871432,0.7601384575280092,0.4321696477454787,0.6833655360978901,1.7310669374017902,0.4262696812048567,-0.2656194098492696,1.5645661055838156,-0.033652820429172794,-1.0858452674326182,-0.9708252180947552,1.771751835446405,-0.7925116693718385,-1.3470060707018487,0.006208722375716201,-1.499857075979689,-0.8887702919102793,-0.43945889066964533],\"type\":\"scatter\"}],                        {\"legend\":{\"bgcolor\":\"#F5F6F9\",\"font\":{\"color\":\"#4D5663\"}},\"paper_bgcolor\":\"#F5F6F9\",\"plot_bgcolor\":\"#F5F6F9\",\"template\":{\"data\":{\"barpolar\":[{\"marker\":{\"line\":{\"color\":\"#E5ECF6\",\"width\":0.5},\"pattern\":{\"fillmode\":\"overlay\",\"size\":10,\"solidity\":0.2}},\"type\":\"barpolar\"}],\"bar\":[{\"error_x\":{\"color\":\"#2a3f5f\"},\"error_y\":{\"color\":\"#2a3f5f\"},\"marker\":{\"line\":{\"color\":\"#E5ECF6\",\"width\":0.5},\"pattern\":{\"fillmode\":\"overlay\",\"size\":10,\"solidity\":0.2}},\"type\":\"bar\"}],\"carpet\":[{\"aaxis\":{\"endlinecolor\":\"#2a3f5f\",\"gridcolor\":\"white\",\"linecolor\":\"white\",\"minorgridcolor\":\"white\",\"startlinecolor\":\"#2a3f5f\"},\"baxis\":{\"endlinecolor\":\"#2a3f5f\",\"gridcolor\":\"white\",\"linecolor\":\"white\",\"minorgridcolor\":\"white\",\"startlinecolor\":\"#2a3f5f\"},\"type\":\"carpet\"}],\"choropleth\":[{\"colorbar\":{\"outlinewidth\":0,\"ticks\":\"\"},\"type\":\"choropleth\"}],\"contourcarpet\":[{\"colorbar\":{\"outlinewidth\":0,\"ticks\":\"\"},\"type\":\"contourcarpet\"}],\"contour\":[{\"colorbar\":{\"outlinewidth\":0,\"ticks\":\"\"},\"colorscale\":[[0.0,\"#0d0887\"],[0.1111111111111111,\"#46039f\"],[0.2222222222222222,\"#7201a8\"],[0.3333333333333333,\"#9c179e\"],[0.4444444444444444,\"#bd3786\"],[0.5555555555555556,\"#d8576b\"],[0.6666666666666666,\"#ed7953\"],[0.7777777777777778,\"#fb9f3a\"],[0.8888888888888888,\"#fdca26\"],[1.0,\"#f0f921\"]],\"type\":\"contour\"}],\"heatmapgl\":[{\"colorbar\":{\"outlinewidth\":0,\"ticks\":\"\"},\"colorscale\":[[0.0,\"#0d0887\"],[0.1111111111111111,\"#46039f\"],[0.2222222222222222,\"#7201a8\"],[0.3333333333333333,\"#9c179e\"],[0.4444444444444444,\"#bd3786\"],[0.5555555555555556,\"#d8576b\"],[0.6666666666666666,\"#ed7953\"],[0.7777777777777778,\"#fb9f3a\"],[0.8888888888888888,\"#fdca26\"],[1.0,\"#f0f921\"]],\"type\":\"heatmapgl\"}],\"heatmap\":[{\"colorbar\":{\"outlinewidth\":0,\"ticks\":\"\"},\"colorscale\":[[0.0,\"#0d0887\"],[0.1111111111111111,\"#46039f\"],[0.2222222222222222,\"#7201a8\"],[0.3333333333333333,\"#9c179e\"],[0.4444444444444444,\"#bd3786\"],[0.5555555555555556,\"#d8576b\"],[0.6666666666666666,\"#ed7953\"],[0.7777777777777778,\"#fb9f3a\"],[0.8888888888888888,\"#fdca26\"],[1.0,\"#f0f921\"]],\"type\":\"heatmap\"}],\"histogram2dcontour\":[{\"colorbar\":{\"outlinewidth\":0,\"ticks\":\"\"},\"colorscale\":[[0.0,\"#0d0887\"],[0.1111111111111111,\"#46039f\"],[0.2222222222222222,\"#7201a8\"],[0.3333333333333333,\"#9c179e\"],[0.4444444444444444,\"#bd3786\"],[0.5555555555555556,\"#d8576b\"],[0.6666666666666666,\"#ed7953\"],[0.7777777777777778,\"#fb9f3a\"],[0.8888888888888888,\"#fdca26\"],[1.0,\"#f0f921\"]],\"type\":\"histogram2dcontour\"}],\"histogram2d\":[{\"colorbar\":{\"outlinewidth\":0,\"ticks\":\"\"},\"colorscale\":[[0.0,\"#0d0887\"],[0.1111111111111111,\"#46039f\"],[0.2222222222222222,\"#7201a8\"],[0.3333333333333333,\"#9c179e\"],[0.4444444444444444,\"#bd3786\"],[0.5555555555555556,\"#d8576b\"],[0.6666666666666666,\"#ed7953\"],[0.7777777777777778,\"#fb9f3a\"],[0.8888888888888888,\"#fdca26\"],[1.0,\"#f0f921\"]],\"type\":\"histogram2d\"}],\"histogram\":[{\"marker\":{\"pattern\":{\"fillmode\":\"overlay\",\"size\":10,\"solidity\":0.2}},\"type\":\"histogram\"}],\"mesh3d\":[{\"colorbar\":{\"outlinewidth\":0,\"ticks\":\"\"},\"type\":\"mesh3d\"}],\"parcoords\":[{\"line\":{\"colorbar\":{\"outlinewidth\":0,\"ticks\":\"\"}},\"type\":\"parcoords\"}],\"pie\":[{\"automargin\":true,\"type\":\"pie\"}],\"scatter3d\":[{\"line\":{\"colorbar\":{\"outlinewidth\":0,\"ticks\":\"\"}},\"marker\":{\"colorbar\":{\"outlinewidth\":0,\"ticks\":\"\"}},\"type\":\"scatter3d\"}],\"scattercarpet\":[{\"marker\":{\"colorbar\":{\"outlinewidth\":0,\"ticks\":\"\"}},\"type\":\"scattercarpet\"}],\"scattergeo\":[{\"marker\":{\"colorbar\":{\"outlinewidth\":0,\"ticks\":\"\"}},\"type\":\"scattergeo\"}],\"scattergl\":[{\"marker\":{\"colorbar\":{\"outlinewidth\":0,\"ticks\":\"\"}},\"type\":\"scattergl\"}],\"scattermapbox\":[{\"marker\":{\"colorbar\":{\"outlinewidth\":0,\"ticks\":\"\"}},\"type\":\"scattermapbox\"}],\"scatterpolargl\":[{\"marker\":{\"colorbar\":{\"outlinewidth\":0,\"ticks\":\"\"}},\"type\":\"scatterpolargl\"}],\"scatterpolar\":[{\"marker\":{\"colorbar\":{\"outlinewidth\":0,\"ticks\":\"\"}},\"type\":\"scatterpolar\"}],\"scatter\":[{\"marker\":{\"colorbar\":{\"outlinewidth\":0,\"ticks\":\"\"}},\"type\":\"scatter\"}],\"scatterternary\":[{\"marker\":{\"colorbar\":{\"outlinewidth\":0,\"ticks\":\"\"}},\"type\":\"scatterternary\"}],\"surface\":[{\"colorbar\":{\"outlinewidth\":0,\"ticks\":\"\"},\"colorscale\":[[0.0,\"#0d0887\"],[0.1111111111111111,\"#46039f\"],[0.2222222222222222,\"#7201a8\"],[0.3333333333333333,\"#9c179e\"],[0.4444444444444444,\"#bd3786\"],[0.5555555555555556,\"#d8576b\"],[0.6666666666666666,\"#ed7953\"],[0.7777777777777778,\"#fb9f3a\"],[0.8888888888888888,\"#fdca26\"],[1.0,\"#f0f921\"]],\"type\":\"surface\"}],\"table\":[{\"cells\":{\"fill\":{\"color\":\"#EBF0F8\"},\"line\":{\"color\":\"white\"}},\"header\":{\"fill\":{\"color\":\"#C8D4E3\"},\"line\":{\"color\":\"white\"}},\"type\":\"table\"}]},\"layout\":{\"annotationdefaults\":{\"arrowcolor\":\"#2a3f5f\",\"arrowhead\":0,\"arrowwidth\":1},\"autotypenumbers\":\"strict\",\"coloraxis\":{\"colorbar\":{\"outlinewidth\":0,\"ticks\":\"\"}},\"colorscale\":{\"diverging\":[[0,\"#8e0152\"],[0.1,\"#c51b7d\"],[0.2,\"#de77ae\"],[0.3,\"#f1b6da\"],[0.4,\"#fde0ef\"],[0.5,\"#f7f7f7\"],[0.6,\"#e6f5d0\"],[0.7,\"#b8e186\"],[0.8,\"#7fbc41\"],[0.9,\"#4d9221\"],[1,\"#276419\"]],\"sequential\":[[0.0,\"#0d0887\"],[0.1111111111111111,\"#46039f\"],[0.2222222222222222,\"#7201a8\"],[0.3333333333333333,\"#9c179e\"],[0.4444444444444444,\"#bd3786\"],[0.5555555555555556,\"#d8576b\"],[0.6666666666666666,\"#ed7953\"],[0.7777777777777778,\"#fb9f3a\"],[0.8888888888888888,\"#fdca26\"],[1.0,\"#f0f921\"]],\"sequentialminus\":[[0.0,\"#0d0887\"],[0.1111111111111111,\"#46039f\"],[0.2222222222222222,\"#7201a8\"],[0.3333333333333333,\"#9c179e\"],[0.4444444444444444,\"#bd3786\"],[0.5555555555555556,\"#d8576b\"],[0.6666666666666666,\"#ed7953\"],[0.7777777777777778,\"#fb9f3a\"],[0.8888888888888888,\"#fdca26\"],[1.0,\"#f0f921\"]]},\"colorway\":[\"#636efa\",\"#EF553B\",\"#00cc96\",\"#ab63fa\",\"#FFA15A\",\"#19d3f3\",\"#FF6692\",\"#B6E880\",\"#FF97FF\",\"#FECB52\"],\"font\":{\"color\":\"#2a3f5f\"},\"geo\":{\"bgcolor\":\"white\",\"lakecolor\":\"white\",\"landcolor\":\"#E5ECF6\",\"showlakes\":true,\"showland\":true,\"subunitcolor\":\"white\"},\"hoverlabel\":{\"align\":\"left\"},\"hovermode\":\"closest\",\"mapbox\":{\"style\":\"light\"},\"paper_bgcolor\":\"white\",\"plot_bgcolor\":\"#E5ECF6\",\"polar\":{\"angularaxis\":{\"gridcolor\":\"white\",\"linecolor\":\"white\",\"ticks\":\"\"},\"bgcolor\":\"#E5ECF6\",\"radialaxis\":{\"gridcolor\":\"white\",\"linecolor\":\"white\",\"ticks\":\"\"}},\"scene\":{\"xaxis\":{\"backgroundcolor\":\"#E5ECF6\",\"gridcolor\":\"white\",\"gridwidth\":2,\"linecolor\":\"white\",\"showbackground\":true,\"ticks\":\"\",\"zerolinecolor\":\"white\"},\"yaxis\":{\"backgroundcolor\":\"#E5ECF6\",\"gridcolor\":\"white\",\"gridwidth\":2,\"linecolor\":\"white\",\"showbackground\":true,\"ticks\":\"\",\"zerolinecolor\":\"white\"},\"zaxis\":{\"backgroundcolor\":\"#E5ECF6\",\"gridcolor\":\"white\",\"gridwidth\":2,\"linecolor\":\"white\",\"showbackground\":true,\"ticks\":\"\",\"zerolinecolor\":\"white\"}},\"shapedefaults\":{\"line\":{\"color\":\"#2a3f5f\"}},\"ternary\":{\"aaxis\":{\"gridcolor\":\"white\",\"linecolor\":\"white\",\"ticks\":\"\"},\"baxis\":{\"gridcolor\":\"white\",\"linecolor\":\"white\",\"ticks\":\"\"},\"bgcolor\":\"#E5ECF6\",\"caxis\":{\"gridcolor\":\"white\",\"linecolor\":\"white\",\"ticks\":\"\"}},\"title\":{\"x\":0.05},\"xaxis\":{\"automargin\":true,\"gridcolor\":\"white\",\"linecolor\":\"white\",\"ticks\":\"\",\"title\":{\"standoff\":15},\"zerolinecolor\":\"white\",\"zerolinewidth\":2},\"yaxis\":{\"automargin\":true,\"gridcolor\":\"white\",\"linecolor\":\"white\",\"ticks\":\"\",\"title\":{\"standoff\":15},\"zerolinecolor\":\"white\",\"zerolinewidth\":2}}},\"title\":{\"font\":{\"color\":\"#4D5663\"}},\"xaxis\":{\"gridcolor\":\"#E1E5ED\",\"showgrid\":true,\"tickfont\":{\"color\":\"#4D5663\"},\"title\":{\"font\":{\"color\":\"#4D5663\"},\"text\":\"\"},\"zerolinecolor\":\"#E1E5ED\"},\"yaxis\":{\"gridcolor\":\"#E1E5ED\",\"showgrid\":true,\"tickfont\":{\"color\":\"#4D5663\"},\"title\":{\"font\":{\"color\":\"#4D5663\"},\"text\":\"\"},\"zerolinecolor\":\"#E1E5ED\"}},                        {\"showLink\": true, \"linkText\": \"Export to plot.ly\", \"plotlyServerURL\": \"https://plot.ly\", \"responsive\": true}                    ).then(function(){\n",
       "                            \n",
       "var gd = document.getElementById('86b881e3-209e-4243-86b1-7af56876e1a6');\n",
       "var x = new MutationObserver(function (mutations, observer) {{\n",
       "        var display = window.getComputedStyle(gd).display;\n",
       "        if (!display || display === 'none') {{\n",
       "            console.log([gd, 'removed!']);\n",
       "            Plotly.purge(gd);\n",
       "            observer.disconnect();\n",
       "        }}\n",
       "}});\n",
       "\n",
       "// Listen for the removal of the full notebook cells\n",
       "var notebookContainer = gd.closest('#notebook-container');\n",
       "if (notebookContainer) {{\n",
       "    x.observe(notebookContainer, {childList: true});\n",
       "}}\n",
       "\n",
       "// Listen for the clearing of the current output cell\n",
       "var outputEl = gd.closest('.output');\n",
       "if (outputEl) {{\n",
       "    x.observe(outputEl, {childList: true});\n",
       "}}\n",
       "\n",
       "                        })                };                });            </script>        </div>"
      ]
     },
     "metadata": {},
     "output_type": "display_data"
    }
   ],
   "source": [
    "df.iplot(kind=\"scatter\", x=\"A\", y=\"B\", mode=\"markers\")"
   ]
  },
  {
   "cell_type": "code",
   "execution_count": 23,
   "id": "b8fe4b55",
   "metadata": {},
   "outputs": [
    {
     "data": {
      "application/vnd.plotly.v1+json": {
       "config": {
        "linkText": "Export to plot.ly",
        "plotlyServerURL": "https://plot.ly",
        "showLink": true
       },
       "data": [
        {
         "marker": {
          "color": "rgba(255, 153, 51, 0.6)",
          "line": {
           "color": "rgba(255, 153, 51, 1.0)",
           "width": 1
          }
         },
         "name": "Values",
         "orientation": "v",
         "text": "",
         "type": "bar",
         "x": [
          "A",
          "B",
          "C"
         ],
         "y": [
          32,
          43,
          50
         ]
        }
       ],
       "layout": {
        "legend": {
         "bgcolor": "#F5F6F9",
         "font": {
          "color": "#4D5663"
         }
        },
        "paper_bgcolor": "#F5F6F9",
        "plot_bgcolor": "#F5F6F9",
        "template": {
         "data": {
          "bar": [
           {
            "error_x": {
             "color": "#2a3f5f"
            },
            "error_y": {
             "color": "#2a3f5f"
            },
            "marker": {
             "line": {
              "color": "#E5ECF6",
              "width": 0.5
             },
             "pattern": {
              "fillmode": "overlay",
              "size": 10,
              "solidity": 0.2
             }
            },
            "type": "bar"
           }
          ],
          "barpolar": [
           {
            "marker": {
             "line": {
              "color": "#E5ECF6",
              "width": 0.5
             },
             "pattern": {
              "fillmode": "overlay",
              "size": 10,
              "solidity": 0.2
             }
            },
            "type": "barpolar"
           }
          ],
          "carpet": [
           {
            "aaxis": {
             "endlinecolor": "#2a3f5f",
             "gridcolor": "white",
             "linecolor": "white",
             "minorgridcolor": "white",
             "startlinecolor": "#2a3f5f"
            },
            "baxis": {
             "endlinecolor": "#2a3f5f",
             "gridcolor": "white",
             "linecolor": "white",
             "minorgridcolor": "white",
             "startlinecolor": "#2a3f5f"
            },
            "type": "carpet"
           }
          ],
          "choropleth": [
           {
            "colorbar": {
             "outlinewidth": 0,
             "ticks": ""
            },
            "type": "choropleth"
           }
          ],
          "contour": [
           {
            "colorbar": {
             "outlinewidth": 0,
             "ticks": ""
            },
            "colorscale": [
             [
              0,
              "#0d0887"
             ],
             [
              0.1111111111111111,
              "#46039f"
             ],
             [
              0.2222222222222222,
              "#7201a8"
             ],
             [
              0.3333333333333333,
              "#9c179e"
             ],
             [
              0.4444444444444444,
              "#bd3786"
             ],
             [
              0.5555555555555556,
              "#d8576b"
             ],
             [
              0.6666666666666666,
              "#ed7953"
             ],
             [
              0.7777777777777778,
              "#fb9f3a"
             ],
             [
              0.8888888888888888,
              "#fdca26"
             ],
             [
              1,
              "#f0f921"
             ]
            ],
            "type": "contour"
           }
          ],
          "contourcarpet": [
           {
            "colorbar": {
             "outlinewidth": 0,
             "ticks": ""
            },
            "type": "contourcarpet"
           }
          ],
          "heatmap": [
           {
            "colorbar": {
             "outlinewidth": 0,
             "ticks": ""
            },
            "colorscale": [
             [
              0,
              "#0d0887"
             ],
             [
              0.1111111111111111,
              "#46039f"
             ],
             [
              0.2222222222222222,
              "#7201a8"
             ],
             [
              0.3333333333333333,
              "#9c179e"
             ],
             [
              0.4444444444444444,
              "#bd3786"
             ],
             [
              0.5555555555555556,
              "#d8576b"
             ],
             [
              0.6666666666666666,
              "#ed7953"
             ],
             [
              0.7777777777777778,
              "#fb9f3a"
             ],
             [
              0.8888888888888888,
              "#fdca26"
             ],
             [
              1,
              "#f0f921"
             ]
            ],
            "type": "heatmap"
           }
          ],
          "heatmapgl": [
           {
            "colorbar": {
             "outlinewidth": 0,
             "ticks": ""
            },
            "colorscale": [
             [
              0,
              "#0d0887"
             ],
             [
              0.1111111111111111,
              "#46039f"
             ],
             [
              0.2222222222222222,
              "#7201a8"
             ],
             [
              0.3333333333333333,
              "#9c179e"
             ],
             [
              0.4444444444444444,
              "#bd3786"
             ],
             [
              0.5555555555555556,
              "#d8576b"
             ],
             [
              0.6666666666666666,
              "#ed7953"
             ],
             [
              0.7777777777777778,
              "#fb9f3a"
             ],
             [
              0.8888888888888888,
              "#fdca26"
             ],
             [
              1,
              "#f0f921"
             ]
            ],
            "type": "heatmapgl"
           }
          ],
          "histogram": [
           {
            "marker": {
             "pattern": {
              "fillmode": "overlay",
              "size": 10,
              "solidity": 0.2
             }
            },
            "type": "histogram"
           }
          ],
          "histogram2d": [
           {
            "colorbar": {
             "outlinewidth": 0,
             "ticks": ""
            },
            "colorscale": [
             [
              0,
              "#0d0887"
             ],
             [
              0.1111111111111111,
              "#46039f"
             ],
             [
              0.2222222222222222,
              "#7201a8"
             ],
             [
              0.3333333333333333,
              "#9c179e"
             ],
             [
              0.4444444444444444,
              "#bd3786"
             ],
             [
              0.5555555555555556,
              "#d8576b"
             ],
             [
              0.6666666666666666,
              "#ed7953"
             ],
             [
              0.7777777777777778,
              "#fb9f3a"
             ],
             [
              0.8888888888888888,
              "#fdca26"
             ],
             [
              1,
              "#f0f921"
             ]
            ],
            "type": "histogram2d"
           }
          ],
          "histogram2dcontour": [
           {
            "colorbar": {
             "outlinewidth": 0,
             "ticks": ""
            },
            "colorscale": [
             [
              0,
              "#0d0887"
             ],
             [
              0.1111111111111111,
              "#46039f"
             ],
             [
              0.2222222222222222,
              "#7201a8"
             ],
             [
              0.3333333333333333,
              "#9c179e"
             ],
             [
              0.4444444444444444,
              "#bd3786"
             ],
             [
              0.5555555555555556,
              "#d8576b"
             ],
             [
              0.6666666666666666,
              "#ed7953"
             ],
             [
              0.7777777777777778,
              "#fb9f3a"
             ],
             [
              0.8888888888888888,
              "#fdca26"
             ],
             [
              1,
              "#f0f921"
             ]
            ],
            "type": "histogram2dcontour"
           }
          ],
          "mesh3d": [
           {
            "colorbar": {
             "outlinewidth": 0,
             "ticks": ""
            },
            "type": "mesh3d"
           }
          ],
          "parcoords": [
           {
            "line": {
             "colorbar": {
              "outlinewidth": 0,
              "ticks": ""
             }
            },
            "type": "parcoords"
           }
          ],
          "pie": [
           {
            "automargin": true,
            "type": "pie"
           }
          ],
          "scatter": [
           {
            "marker": {
             "colorbar": {
              "outlinewidth": 0,
              "ticks": ""
             }
            },
            "type": "scatter"
           }
          ],
          "scatter3d": [
           {
            "line": {
             "colorbar": {
              "outlinewidth": 0,
              "ticks": ""
             }
            },
            "marker": {
             "colorbar": {
              "outlinewidth": 0,
              "ticks": ""
             }
            },
            "type": "scatter3d"
           }
          ],
          "scattercarpet": [
           {
            "marker": {
             "colorbar": {
              "outlinewidth": 0,
              "ticks": ""
             }
            },
            "type": "scattercarpet"
           }
          ],
          "scattergeo": [
           {
            "marker": {
             "colorbar": {
              "outlinewidth": 0,
              "ticks": ""
             }
            },
            "type": "scattergeo"
           }
          ],
          "scattergl": [
           {
            "marker": {
             "colorbar": {
              "outlinewidth": 0,
              "ticks": ""
             }
            },
            "type": "scattergl"
           }
          ],
          "scattermapbox": [
           {
            "marker": {
             "colorbar": {
              "outlinewidth": 0,
              "ticks": ""
             }
            },
            "type": "scattermapbox"
           }
          ],
          "scatterpolar": [
           {
            "marker": {
             "colorbar": {
              "outlinewidth": 0,
              "ticks": ""
             }
            },
            "type": "scatterpolar"
           }
          ],
          "scatterpolargl": [
           {
            "marker": {
             "colorbar": {
              "outlinewidth": 0,
              "ticks": ""
             }
            },
            "type": "scatterpolargl"
           }
          ],
          "scatterternary": [
           {
            "marker": {
             "colorbar": {
              "outlinewidth": 0,
              "ticks": ""
             }
            },
            "type": "scatterternary"
           }
          ],
          "surface": [
           {
            "colorbar": {
             "outlinewidth": 0,
             "ticks": ""
            },
            "colorscale": [
             [
              0,
              "#0d0887"
             ],
             [
              0.1111111111111111,
              "#46039f"
             ],
             [
              0.2222222222222222,
              "#7201a8"
             ],
             [
              0.3333333333333333,
              "#9c179e"
             ],
             [
              0.4444444444444444,
              "#bd3786"
             ],
             [
              0.5555555555555556,
              "#d8576b"
             ],
             [
              0.6666666666666666,
              "#ed7953"
             ],
             [
              0.7777777777777778,
              "#fb9f3a"
             ],
             [
              0.8888888888888888,
              "#fdca26"
             ],
             [
              1,
              "#f0f921"
             ]
            ],
            "type": "surface"
           }
          ],
          "table": [
           {
            "cells": {
             "fill": {
              "color": "#EBF0F8"
             },
             "line": {
              "color": "white"
             }
            },
            "header": {
             "fill": {
              "color": "#C8D4E3"
             },
             "line": {
              "color": "white"
             }
            },
            "type": "table"
           }
          ]
         },
         "layout": {
          "annotationdefaults": {
           "arrowcolor": "#2a3f5f",
           "arrowhead": 0,
           "arrowwidth": 1
          },
          "autotypenumbers": "strict",
          "coloraxis": {
           "colorbar": {
            "outlinewidth": 0,
            "ticks": ""
           }
          },
          "colorscale": {
           "diverging": [
            [
             0,
             "#8e0152"
            ],
            [
             0.1,
             "#c51b7d"
            ],
            [
             0.2,
             "#de77ae"
            ],
            [
             0.3,
             "#f1b6da"
            ],
            [
             0.4,
             "#fde0ef"
            ],
            [
             0.5,
             "#f7f7f7"
            ],
            [
             0.6,
             "#e6f5d0"
            ],
            [
             0.7,
             "#b8e186"
            ],
            [
             0.8,
             "#7fbc41"
            ],
            [
             0.9,
             "#4d9221"
            ],
            [
             1,
             "#276419"
            ]
           ],
           "sequential": [
            [
             0,
             "#0d0887"
            ],
            [
             0.1111111111111111,
             "#46039f"
            ],
            [
             0.2222222222222222,
             "#7201a8"
            ],
            [
             0.3333333333333333,
             "#9c179e"
            ],
            [
             0.4444444444444444,
             "#bd3786"
            ],
            [
             0.5555555555555556,
             "#d8576b"
            ],
            [
             0.6666666666666666,
             "#ed7953"
            ],
            [
             0.7777777777777778,
             "#fb9f3a"
            ],
            [
             0.8888888888888888,
             "#fdca26"
            ],
            [
             1,
             "#f0f921"
            ]
           ],
           "sequentialminus": [
            [
             0,
             "#0d0887"
            ],
            [
             0.1111111111111111,
             "#46039f"
            ],
            [
             0.2222222222222222,
             "#7201a8"
            ],
            [
             0.3333333333333333,
             "#9c179e"
            ],
            [
             0.4444444444444444,
             "#bd3786"
            ],
            [
             0.5555555555555556,
             "#d8576b"
            ],
            [
             0.6666666666666666,
             "#ed7953"
            ],
            [
             0.7777777777777778,
             "#fb9f3a"
            ],
            [
             0.8888888888888888,
             "#fdca26"
            ],
            [
             1,
             "#f0f921"
            ]
           ]
          },
          "colorway": [
           "#636efa",
           "#EF553B",
           "#00cc96",
           "#ab63fa",
           "#FFA15A",
           "#19d3f3",
           "#FF6692",
           "#B6E880",
           "#FF97FF",
           "#FECB52"
          ],
          "font": {
           "color": "#2a3f5f"
          },
          "geo": {
           "bgcolor": "white",
           "lakecolor": "white",
           "landcolor": "#E5ECF6",
           "showlakes": true,
           "showland": true,
           "subunitcolor": "white"
          },
          "hoverlabel": {
           "align": "left"
          },
          "hovermode": "closest",
          "mapbox": {
           "style": "light"
          },
          "paper_bgcolor": "white",
          "plot_bgcolor": "#E5ECF6",
          "polar": {
           "angularaxis": {
            "gridcolor": "white",
            "linecolor": "white",
            "ticks": ""
           },
           "bgcolor": "#E5ECF6",
           "radialaxis": {
            "gridcolor": "white",
            "linecolor": "white",
            "ticks": ""
           }
          },
          "scene": {
           "xaxis": {
            "backgroundcolor": "#E5ECF6",
            "gridcolor": "white",
            "gridwidth": 2,
            "linecolor": "white",
            "showbackground": true,
            "ticks": "",
            "zerolinecolor": "white"
           },
           "yaxis": {
            "backgroundcolor": "#E5ECF6",
            "gridcolor": "white",
            "gridwidth": 2,
            "linecolor": "white",
            "showbackground": true,
            "ticks": "",
            "zerolinecolor": "white"
           },
           "zaxis": {
            "backgroundcolor": "#E5ECF6",
            "gridcolor": "white",
            "gridwidth": 2,
            "linecolor": "white",
            "showbackground": true,
            "ticks": "",
            "zerolinecolor": "white"
           }
          },
          "shapedefaults": {
           "line": {
            "color": "#2a3f5f"
           }
          },
          "ternary": {
           "aaxis": {
            "gridcolor": "white",
            "linecolor": "white",
            "ticks": ""
           },
           "baxis": {
            "gridcolor": "white",
            "linecolor": "white",
            "ticks": ""
           },
           "bgcolor": "#E5ECF6",
           "caxis": {
            "gridcolor": "white",
            "linecolor": "white",
            "ticks": ""
           }
          },
          "title": {
           "x": 0.05
          },
          "xaxis": {
           "automargin": true,
           "gridcolor": "white",
           "linecolor": "white",
           "ticks": "",
           "title": {
            "standoff": 15
           },
           "zerolinecolor": "white",
           "zerolinewidth": 2
          },
          "yaxis": {
           "automargin": true,
           "gridcolor": "white",
           "linecolor": "white",
           "ticks": "",
           "title": {
            "standoff": 15
           },
           "zerolinecolor": "white",
           "zerolinewidth": 2
          }
         }
        },
        "title": {
         "font": {
          "color": "#4D5663"
         }
        },
        "xaxis": {
         "gridcolor": "#E1E5ED",
         "showgrid": true,
         "tickfont": {
          "color": "#4D5663"
         },
         "title": {
          "font": {
           "color": "#4D5663"
          },
          "text": ""
         },
         "zerolinecolor": "#E1E5ED"
        },
        "yaxis": {
         "gridcolor": "#E1E5ED",
         "showgrid": true,
         "tickfont": {
          "color": "#4D5663"
         },
         "title": {
          "font": {
           "color": "#4D5663"
          },
          "text": ""
         },
         "zerolinecolor": "#E1E5ED"
        }
       }
      },
      "text/html": [
       "<div>                            <div id=\"e5ce19ab-c765-4792-bda1-17eed8706573\" class=\"plotly-graph-div\" style=\"height:525px; width:100%;\"></div>            <script type=\"text/javascript\">                require([\"plotly\"], function(Plotly) {                    window.PLOTLYENV=window.PLOTLYENV || {};\n",
       "                    window.PLOTLYENV.BASE_URL='https://plot.ly';                                    if (document.getElementById(\"e5ce19ab-c765-4792-bda1-17eed8706573\")) {                    Plotly.newPlot(                        \"e5ce19ab-c765-4792-bda1-17eed8706573\",                        [{\"marker\":{\"color\":\"rgba(255, 153, 51, 0.6)\",\"line\":{\"color\":\"rgba(255, 153, 51, 1.0)\",\"width\":1}},\"name\":\"Values\",\"orientation\":\"v\",\"text\":\"\",\"x\":[\"A\",\"B\",\"C\"],\"y\":[32,43,50],\"type\":\"bar\"}],                        {\"legend\":{\"bgcolor\":\"#F5F6F9\",\"font\":{\"color\":\"#4D5663\"}},\"paper_bgcolor\":\"#F5F6F9\",\"plot_bgcolor\":\"#F5F6F9\",\"template\":{\"data\":{\"barpolar\":[{\"marker\":{\"line\":{\"color\":\"#E5ECF6\",\"width\":0.5},\"pattern\":{\"fillmode\":\"overlay\",\"size\":10,\"solidity\":0.2}},\"type\":\"barpolar\"}],\"bar\":[{\"error_x\":{\"color\":\"#2a3f5f\"},\"error_y\":{\"color\":\"#2a3f5f\"},\"marker\":{\"line\":{\"color\":\"#E5ECF6\",\"width\":0.5},\"pattern\":{\"fillmode\":\"overlay\",\"size\":10,\"solidity\":0.2}},\"type\":\"bar\"}],\"carpet\":[{\"aaxis\":{\"endlinecolor\":\"#2a3f5f\",\"gridcolor\":\"white\",\"linecolor\":\"white\",\"minorgridcolor\":\"white\",\"startlinecolor\":\"#2a3f5f\"},\"baxis\":{\"endlinecolor\":\"#2a3f5f\",\"gridcolor\":\"white\",\"linecolor\":\"white\",\"minorgridcolor\":\"white\",\"startlinecolor\":\"#2a3f5f\"},\"type\":\"carpet\"}],\"choropleth\":[{\"colorbar\":{\"outlinewidth\":0,\"ticks\":\"\"},\"type\":\"choropleth\"}],\"contourcarpet\":[{\"colorbar\":{\"outlinewidth\":0,\"ticks\":\"\"},\"type\":\"contourcarpet\"}],\"contour\":[{\"colorbar\":{\"outlinewidth\":0,\"ticks\":\"\"},\"colorscale\":[[0.0,\"#0d0887\"],[0.1111111111111111,\"#46039f\"],[0.2222222222222222,\"#7201a8\"],[0.3333333333333333,\"#9c179e\"],[0.4444444444444444,\"#bd3786\"],[0.5555555555555556,\"#d8576b\"],[0.6666666666666666,\"#ed7953\"],[0.7777777777777778,\"#fb9f3a\"],[0.8888888888888888,\"#fdca26\"],[1.0,\"#f0f921\"]],\"type\":\"contour\"}],\"heatmapgl\":[{\"colorbar\":{\"outlinewidth\":0,\"ticks\":\"\"},\"colorscale\":[[0.0,\"#0d0887\"],[0.1111111111111111,\"#46039f\"],[0.2222222222222222,\"#7201a8\"],[0.3333333333333333,\"#9c179e\"],[0.4444444444444444,\"#bd3786\"],[0.5555555555555556,\"#d8576b\"],[0.6666666666666666,\"#ed7953\"],[0.7777777777777778,\"#fb9f3a\"],[0.8888888888888888,\"#fdca26\"],[1.0,\"#f0f921\"]],\"type\":\"heatmapgl\"}],\"heatmap\":[{\"colorbar\":{\"outlinewidth\":0,\"ticks\":\"\"},\"colorscale\":[[0.0,\"#0d0887\"],[0.1111111111111111,\"#46039f\"],[0.2222222222222222,\"#7201a8\"],[0.3333333333333333,\"#9c179e\"],[0.4444444444444444,\"#bd3786\"],[0.5555555555555556,\"#d8576b\"],[0.6666666666666666,\"#ed7953\"],[0.7777777777777778,\"#fb9f3a\"],[0.8888888888888888,\"#fdca26\"],[1.0,\"#f0f921\"]],\"type\":\"heatmap\"}],\"histogram2dcontour\":[{\"colorbar\":{\"outlinewidth\":0,\"ticks\":\"\"},\"colorscale\":[[0.0,\"#0d0887\"],[0.1111111111111111,\"#46039f\"],[0.2222222222222222,\"#7201a8\"],[0.3333333333333333,\"#9c179e\"],[0.4444444444444444,\"#bd3786\"],[0.5555555555555556,\"#d8576b\"],[0.6666666666666666,\"#ed7953\"],[0.7777777777777778,\"#fb9f3a\"],[0.8888888888888888,\"#fdca26\"],[1.0,\"#f0f921\"]],\"type\":\"histogram2dcontour\"}],\"histogram2d\":[{\"colorbar\":{\"outlinewidth\":0,\"ticks\":\"\"},\"colorscale\":[[0.0,\"#0d0887\"],[0.1111111111111111,\"#46039f\"],[0.2222222222222222,\"#7201a8\"],[0.3333333333333333,\"#9c179e\"],[0.4444444444444444,\"#bd3786\"],[0.5555555555555556,\"#d8576b\"],[0.6666666666666666,\"#ed7953\"],[0.7777777777777778,\"#fb9f3a\"],[0.8888888888888888,\"#fdca26\"],[1.0,\"#f0f921\"]],\"type\":\"histogram2d\"}],\"histogram\":[{\"marker\":{\"pattern\":{\"fillmode\":\"overlay\",\"size\":10,\"solidity\":0.2}},\"type\":\"histogram\"}],\"mesh3d\":[{\"colorbar\":{\"outlinewidth\":0,\"ticks\":\"\"},\"type\":\"mesh3d\"}],\"parcoords\":[{\"line\":{\"colorbar\":{\"outlinewidth\":0,\"ticks\":\"\"}},\"type\":\"parcoords\"}],\"pie\":[{\"automargin\":true,\"type\":\"pie\"}],\"scatter3d\":[{\"line\":{\"colorbar\":{\"outlinewidth\":0,\"ticks\":\"\"}},\"marker\":{\"colorbar\":{\"outlinewidth\":0,\"ticks\":\"\"}},\"type\":\"scatter3d\"}],\"scattercarpet\":[{\"marker\":{\"colorbar\":{\"outlinewidth\":0,\"ticks\":\"\"}},\"type\":\"scattercarpet\"}],\"scattergeo\":[{\"marker\":{\"colorbar\":{\"outlinewidth\":0,\"ticks\":\"\"}},\"type\":\"scattergeo\"}],\"scattergl\":[{\"marker\":{\"colorbar\":{\"outlinewidth\":0,\"ticks\":\"\"}},\"type\":\"scattergl\"}],\"scattermapbox\":[{\"marker\":{\"colorbar\":{\"outlinewidth\":0,\"ticks\":\"\"}},\"type\":\"scattermapbox\"}],\"scatterpolargl\":[{\"marker\":{\"colorbar\":{\"outlinewidth\":0,\"ticks\":\"\"}},\"type\":\"scatterpolargl\"}],\"scatterpolar\":[{\"marker\":{\"colorbar\":{\"outlinewidth\":0,\"ticks\":\"\"}},\"type\":\"scatterpolar\"}],\"scatter\":[{\"marker\":{\"colorbar\":{\"outlinewidth\":0,\"ticks\":\"\"}},\"type\":\"scatter\"}],\"scatterternary\":[{\"marker\":{\"colorbar\":{\"outlinewidth\":0,\"ticks\":\"\"}},\"type\":\"scatterternary\"}],\"surface\":[{\"colorbar\":{\"outlinewidth\":0,\"ticks\":\"\"},\"colorscale\":[[0.0,\"#0d0887\"],[0.1111111111111111,\"#46039f\"],[0.2222222222222222,\"#7201a8\"],[0.3333333333333333,\"#9c179e\"],[0.4444444444444444,\"#bd3786\"],[0.5555555555555556,\"#d8576b\"],[0.6666666666666666,\"#ed7953\"],[0.7777777777777778,\"#fb9f3a\"],[0.8888888888888888,\"#fdca26\"],[1.0,\"#f0f921\"]],\"type\":\"surface\"}],\"table\":[{\"cells\":{\"fill\":{\"color\":\"#EBF0F8\"},\"line\":{\"color\":\"white\"}},\"header\":{\"fill\":{\"color\":\"#C8D4E3\"},\"line\":{\"color\":\"white\"}},\"type\":\"table\"}]},\"layout\":{\"annotationdefaults\":{\"arrowcolor\":\"#2a3f5f\",\"arrowhead\":0,\"arrowwidth\":1},\"autotypenumbers\":\"strict\",\"coloraxis\":{\"colorbar\":{\"outlinewidth\":0,\"ticks\":\"\"}},\"colorscale\":{\"diverging\":[[0,\"#8e0152\"],[0.1,\"#c51b7d\"],[0.2,\"#de77ae\"],[0.3,\"#f1b6da\"],[0.4,\"#fde0ef\"],[0.5,\"#f7f7f7\"],[0.6,\"#e6f5d0\"],[0.7,\"#b8e186\"],[0.8,\"#7fbc41\"],[0.9,\"#4d9221\"],[1,\"#276419\"]],\"sequential\":[[0.0,\"#0d0887\"],[0.1111111111111111,\"#46039f\"],[0.2222222222222222,\"#7201a8\"],[0.3333333333333333,\"#9c179e\"],[0.4444444444444444,\"#bd3786\"],[0.5555555555555556,\"#d8576b\"],[0.6666666666666666,\"#ed7953\"],[0.7777777777777778,\"#fb9f3a\"],[0.8888888888888888,\"#fdca26\"],[1.0,\"#f0f921\"]],\"sequentialminus\":[[0.0,\"#0d0887\"],[0.1111111111111111,\"#46039f\"],[0.2222222222222222,\"#7201a8\"],[0.3333333333333333,\"#9c179e\"],[0.4444444444444444,\"#bd3786\"],[0.5555555555555556,\"#d8576b\"],[0.6666666666666666,\"#ed7953\"],[0.7777777777777778,\"#fb9f3a\"],[0.8888888888888888,\"#fdca26\"],[1.0,\"#f0f921\"]]},\"colorway\":[\"#636efa\",\"#EF553B\",\"#00cc96\",\"#ab63fa\",\"#FFA15A\",\"#19d3f3\",\"#FF6692\",\"#B6E880\",\"#FF97FF\",\"#FECB52\"],\"font\":{\"color\":\"#2a3f5f\"},\"geo\":{\"bgcolor\":\"white\",\"lakecolor\":\"white\",\"landcolor\":\"#E5ECF6\",\"showlakes\":true,\"showland\":true,\"subunitcolor\":\"white\"},\"hoverlabel\":{\"align\":\"left\"},\"hovermode\":\"closest\",\"mapbox\":{\"style\":\"light\"},\"paper_bgcolor\":\"white\",\"plot_bgcolor\":\"#E5ECF6\",\"polar\":{\"angularaxis\":{\"gridcolor\":\"white\",\"linecolor\":\"white\",\"ticks\":\"\"},\"bgcolor\":\"#E5ECF6\",\"radialaxis\":{\"gridcolor\":\"white\",\"linecolor\":\"white\",\"ticks\":\"\"}},\"scene\":{\"xaxis\":{\"backgroundcolor\":\"#E5ECF6\",\"gridcolor\":\"white\",\"gridwidth\":2,\"linecolor\":\"white\",\"showbackground\":true,\"ticks\":\"\",\"zerolinecolor\":\"white\"},\"yaxis\":{\"backgroundcolor\":\"#E5ECF6\",\"gridcolor\":\"white\",\"gridwidth\":2,\"linecolor\":\"white\",\"showbackground\":true,\"ticks\":\"\",\"zerolinecolor\":\"white\"},\"zaxis\":{\"backgroundcolor\":\"#E5ECF6\",\"gridcolor\":\"white\",\"gridwidth\":2,\"linecolor\":\"white\",\"showbackground\":true,\"ticks\":\"\",\"zerolinecolor\":\"white\"}},\"shapedefaults\":{\"line\":{\"color\":\"#2a3f5f\"}},\"ternary\":{\"aaxis\":{\"gridcolor\":\"white\",\"linecolor\":\"white\",\"ticks\":\"\"},\"baxis\":{\"gridcolor\":\"white\",\"linecolor\":\"white\",\"ticks\":\"\"},\"bgcolor\":\"#E5ECF6\",\"caxis\":{\"gridcolor\":\"white\",\"linecolor\":\"white\",\"ticks\":\"\"}},\"title\":{\"x\":0.05},\"xaxis\":{\"automargin\":true,\"gridcolor\":\"white\",\"linecolor\":\"white\",\"ticks\":\"\",\"title\":{\"standoff\":15},\"zerolinecolor\":\"white\",\"zerolinewidth\":2},\"yaxis\":{\"automargin\":true,\"gridcolor\":\"white\",\"linecolor\":\"white\",\"ticks\":\"\",\"title\":{\"standoff\":15},\"zerolinecolor\":\"white\",\"zerolinewidth\":2}}},\"title\":{\"font\":{\"color\":\"#4D5663\"}},\"xaxis\":{\"gridcolor\":\"#E1E5ED\",\"showgrid\":true,\"tickfont\":{\"color\":\"#4D5663\"},\"title\":{\"font\":{\"color\":\"#4D5663\"},\"text\":\"\"},\"zerolinecolor\":\"#E1E5ED\"},\"yaxis\":{\"gridcolor\":\"#E1E5ED\",\"showgrid\":true,\"tickfont\":{\"color\":\"#4D5663\"},\"title\":{\"font\":{\"color\":\"#4D5663\"},\"text\":\"\"},\"zerolinecolor\":\"#E1E5ED\"}},                        {\"showLink\": true, \"linkText\": \"Export to plot.ly\", \"plotlyServerURL\": \"https://plot.ly\", \"responsive\": true}                    ).then(function(){\n",
       "                            \n",
       "var gd = document.getElementById('e5ce19ab-c765-4792-bda1-17eed8706573');\n",
       "var x = new MutationObserver(function (mutations, observer) {{\n",
       "        var display = window.getComputedStyle(gd).display;\n",
       "        if (!display || display === 'none') {{\n",
       "            console.log([gd, 'removed!']);\n",
       "            Plotly.purge(gd);\n",
       "            observer.disconnect();\n",
       "        }}\n",
       "}});\n",
       "\n",
       "// Listen for the removal of the full notebook cells\n",
       "var notebookContainer = gd.closest('#notebook-container');\n",
       "if (notebookContainer) {{\n",
       "    x.observe(notebookContainer, {childList: true});\n",
       "}}\n",
       "\n",
       "// Listen for the clearing of the current output cell\n",
       "var outputEl = gd.closest('.output');\n",
       "if (outputEl) {{\n",
       "    x.observe(outputEl, {childList: true});\n",
       "}}\n",
       "\n",
       "                        })                };                });            </script>        </div>"
      ]
     },
     "metadata": {},
     "output_type": "display_data"
    }
   ],
   "source": [
    "df2.iplot(kind=\"bar\", x=\"Category\", y=\"Values\")"
   ]
  },
  {
   "cell_type": "code",
   "execution_count": 27,
   "id": "054c8cfa",
   "metadata": {},
   "outputs": [
    {
     "data": {
      "application/vnd.plotly.v1+json": {
       "config": {
        "linkText": "Export to plot.ly",
        "plotlyServerURL": "https://plot.ly",
        "showLink": true
       },
       "data": [
        {
         "marker": {
          "color": "rgba(255, 153, 51, 0.6)",
          "line": {
           "color": "rgba(255, 153, 51, 1.0)",
           "width": 1
          }
         },
         "name": "A",
         "orientation": "v",
         "text": "",
         "type": "bar",
         "x": [
          0,
          1,
          2,
          3,
          4,
          5,
          6,
          7,
          8,
          9,
          10,
          11,
          12,
          13,
          14,
          15,
          16,
          17,
          18,
          19,
          20,
          21,
          22,
          23,
          24,
          25,
          26,
          27,
          28,
          29,
          30,
          31,
          32,
          33,
          34,
          35,
          36,
          37,
          38,
          39,
          40,
          41,
          42,
          43,
          44,
          45,
          46,
          47,
          48,
          49,
          50,
          51,
          52,
          53,
          54,
          55,
          56,
          57,
          58,
          59,
          60,
          61,
          62,
          63,
          64,
          65,
          66,
          67,
          68,
          69,
          70,
          71,
          72,
          73,
          74,
          75,
          76,
          77,
          78,
          79,
          80,
          81,
          82,
          83,
          84,
          85,
          86,
          87,
          88,
          89,
          90,
          91,
          92,
          93,
          94,
          95,
          96,
          97,
          98,
          99
         ],
         "y": [
          -1.5860134090116866,
          0.9274341987192442,
          -0.9762444473030839,
          1.156816478828888,
          -0.242393020431529,
          0.3658661061076631,
          -0.32884347637865063,
          -0.7843856618643812,
          -0.16230849353665586,
          0.2160566141325843,
          0.09488267160010981,
          -0.7473716756146999,
          1.7440517401864175,
          -1.0011753997767863,
          -0.18215840764473576,
          0.4018796805877871,
          -0.6135309871435983,
          -2.079389212549666,
          0.23106022177266736,
          -0.45571564831106187,
          1.3188535756734368,
          -1.2484686619627932,
          -2.1557349157011396,
          -0.6413749067969102,
          1.984261532573052,
          0.5012010530631451,
          0.21512083602091397,
          -0.558205527705548,
          0.14204517265741703,
          -0.6511171286850072,
          0.9760822312705928,
          -1.1989746858724355,
          -0.44233800472944795,
          0.6020080772279828,
          0.5310322898976169,
          1.1303903707259588,
          1.5142447071264193,
          -0.04358317734529377,
          1.0306022371577925,
          1.0400904170808154,
          0.64883519571506,
          -2.173258432759064,
          -0.07614582456348083,
          1.0405839611686214,
          -0.39711742884277623,
          0.32766189492180053,
          -0.8436067376188089,
          -0.017269384493230185,
          1.571276688331357,
          1.9963152622649702,
          0.3819524247516574,
          1.4410320918970343,
          -0.6663318032774534,
          1.18225971311963,
          1.0579046463052426,
          1.1432416134662429,
          1.2242524339330336,
          0.46146197162961955,
          -0.7767414148887288,
          0.10307340698574169,
          1.337178188616223,
          -0.8274151443552817,
          -0.7644470953586763,
          -1.2106145802497552,
          0.1403479523423119,
          0.001975554072475761,
          -0.6174465550500117,
          0.4688231976483499,
          0.7645685844346921,
          0.7685313514609825,
          -0.4062139130708948,
          -2.2476389899473324,
          -1.2813236664358285,
          0.4990740133928327,
          -0.6578116017019612,
          -0.6640628389585511,
          -0.357864798989924,
          -1.6729457194027304,
          2.442991825496139,
          -1.8462353301991539,
          0.6879530972282243,
          0.3797085093935498,
          -0.14877442120258536,
          -0.6595086088687263,
          0.314284369048765,
          1.1818518556481579,
          -0.27023116685307313,
          0.16911123724350882,
          -0.2684950791947941,
          -0.0407394969368081,
          1.6707519519124296,
          0.13156203612669848,
          0.6916032574356988,
          -0.4677181913508789,
          -0.9554953899235631,
          1.156425864392585,
          0.18059611632298583,
          0.7366316662288631,
          0.22040930005047488,
          -0.5615539396878966
         ]
        },
        {
         "marker": {
          "color": "rgba(55, 128, 191, 0.6)",
          "line": {
           "color": "rgba(55, 128, 191, 1.0)",
           "width": 1
          }
         },
         "name": "B",
         "orientation": "v",
         "text": "",
         "type": "bar",
         "x": [
          0,
          1,
          2,
          3,
          4,
          5,
          6,
          7,
          8,
          9,
          10,
          11,
          12,
          13,
          14,
          15,
          16,
          17,
          18,
          19,
          20,
          21,
          22,
          23,
          24,
          25,
          26,
          27,
          28,
          29,
          30,
          31,
          32,
          33,
          34,
          35,
          36,
          37,
          38,
          39,
          40,
          41,
          42,
          43,
          44,
          45,
          46,
          47,
          48,
          49,
          50,
          51,
          52,
          53,
          54,
          55,
          56,
          57,
          58,
          59,
          60,
          61,
          62,
          63,
          64,
          65,
          66,
          67,
          68,
          69,
          70,
          71,
          72,
          73,
          74,
          75,
          76,
          77,
          78,
          79,
          80,
          81,
          82,
          83,
          84,
          85,
          86,
          87,
          88,
          89,
          90,
          91,
          92,
          93,
          94,
          95,
          96,
          97,
          98,
          99
         ],
         "y": [
          -1.4373918705042834,
          1.012094339901708,
          -0.21652566691947905,
          0.155969167306907,
          -1.07942763093398,
          0.20683358045049557,
          0.8692509076328989,
          -0.618003101032969,
          0.41388713373849545,
          0.6015927758472617,
          0.2558943998116105,
          -0.08881501037531885,
          1.3541734631029874,
          0.995809863280057,
          0.7263856151715177,
          -1.0591484235788549,
          0.39381445199982873,
          1.7728519694416973,
          1.5141025549905125,
          -1.1309931207032557,
          -0.24284635706874916,
          -2.4180943861802717,
          -0.9764200427817595,
          -0.8680768958339593,
          -0.012230281168851885,
          -1.3461840623160013,
          -0.7087201022918612,
          -0.11886541084736676,
          -0.5197069118420652,
          -0.2436616969585116,
          1.9456565046865473,
          0.23279137355585014,
          0.04895733084297942,
          0.12821037869834914,
          0.6897370757826575,
          1.2343281233883965,
          0.5489868801540693,
          -0.7580452649185184,
          0.07331698303838807,
          -1.6378487175535115,
          0.4090673635059884,
          -1.2688772159442079,
          0.8374865036983186,
          -0.48010953933761474,
          1.8953222757757793,
          -1.9953568853667585,
          0.9337421560975021,
          0.1903635545851463,
          0.032122216843723725,
          -1.0528435662630606,
          0.7354169754139546,
          -1.970688296634273,
          -2.0076414457309584,
          -0.5471945912678408,
          -1.0571038427600974,
          -0.5417501938583631,
          1.0895795665464028,
          0.5273906678370488,
          0.525575673958645,
          -0.5631397651548465,
          -1.4112390099841932,
          -0.726011083664482,
          -0.8055890887078467,
          -0.6532186704886714,
          -0.9327206830188016,
          -0.8414431577485073,
          -0.21930229929038692,
          0.7544907994981428,
          -0.6614284701557894,
          0.3894082107651065,
          -0.10239934381508001,
          0.7270716572767006,
          -1.634429013162857,
          -0.09688286899455396,
          0.742219960027465,
          0.14921293689844325,
          1.8972003824444315,
          -0.5952226721267857,
          0.7262172332121369,
          -0.44877811398083706,
          1.54088568921494,
          -1.8801772347486403,
          -0.8728125960536823,
          0.9178486890316006,
          -2.1198904634754823,
          1.2097381010266304,
          0.49755262397929584,
          -0.01739364386996017,
          -0.2575823229109491,
          1.3636811408227858,
          0.7659608286370856,
          0.22823943905443764,
          -1.8518334086621562,
          0.04086011505021188,
          -0.3345488201186656,
          1.215808878038551,
          -0.5448535031254441,
          -0.5566181986016897,
          1.295128386720408,
          -1.742161390290768
         ]
        },
        {
         "marker": {
          "color": "rgba(50, 171, 96, 0.6)",
          "line": {
           "color": "rgba(50, 171, 96, 1.0)",
           "width": 1
          }
         },
         "name": "C",
         "orientation": "v",
         "text": "",
         "type": "bar",
         "x": [
          0,
          1,
          2,
          3,
          4,
          5,
          6,
          7,
          8,
          9,
          10,
          11,
          12,
          13,
          14,
          15,
          16,
          17,
          18,
          19,
          20,
          21,
          22,
          23,
          24,
          25,
          26,
          27,
          28,
          29,
          30,
          31,
          32,
          33,
          34,
          35,
          36,
          37,
          38,
          39,
          40,
          41,
          42,
          43,
          44,
          45,
          46,
          47,
          48,
          49,
          50,
          51,
          52,
          53,
          54,
          55,
          56,
          57,
          58,
          59,
          60,
          61,
          62,
          63,
          64,
          65,
          66,
          67,
          68,
          69,
          70,
          71,
          72,
          73,
          74,
          75,
          76,
          77,
          78,
          79,
          80,
          81,
          82,
          83,
          84,
          85,
          86,
          87,
          88,
          89,
          90,
          91,
          92,
          93,
          94,
          95,
          96,
          97,
          98,
          99
         ],
         "y": [
          -0.35693894919680014,
          -0.44298828459749096,
          0.03430739534846451,
          1.3384382870315716,
          -1.1428156383211547,
          0.7578239741191998,
          -1.9176705101154023,
          -0.3987040805699978,
          -0.38863022814550585,
          0.6602704507659432,
          -1.0584851563705215,
          0.22309006444887244,
          2.1071369676660754,
          1.1825891082105318,
          1.590233736456399,
          -0.3237087595920645,
          -0.9161429886911839,
          -0.021693423773626434,
          -0.5301214552100546,
          0.8914827249890813,
          -1.597686296403704,
          0.2531769882495246,
          0.7613040148990067,
          -0.2931784096664254,
          2.836511279211788,
          0.2842390623875921,
          0.3369421974664682,
          0.8841831778072965,
          -0.8043745860884061,
          -0.2735478697401933,
          1.1499670618427587,
          -1.2212952575609632,
          1.1674182793260595,
          -0.009508541728902122,
          0.2858711524223337,
          0.45029884423982075,
          -1.0155339336802705,
          -1.4637930312086553,
          0.46892976223938676,
          -0.9738708167142774,
          -1.3206841641927398,
          -0.17984660382480194,
          1.4083997880093475,
          -0.40130791750622713,
          -1.0612790239740046,
          1.9037000060508449,
          -0.22470899732809524,
          1.1835620393234376,
          -0.4311288702661489,
          -1.8227444838552331,
          -0.05642857829923661,
          -0.7008898442152856,
          1.5101592596359499,
          -0.1201096958876723,
          0.9684858713315022,
          1.427890669447111,
          0.2783561315299243,
          0.4739913923393477,
          -0.12507807470335897,
          -0.9689319740227837,
          -0.4178594476307902,
          0.8445577725293718,
          0.18459347598907042,
          0.23395624144710025,
          0.9332700506844089,
          0.5306612071504125,
          -2.7025413846186876,
          -0.7093283947007025,
          1.4011570726079778,
          -1.5880138330259133,
          -0.7496208501000143,
          -0.6710628988846881,
          3.993716604441798,
          0.4786124707818054,
          -0.027142079302184652,
          -0.29790958374635024,
          0.48105535591669907,
          -0.14714312540729008,
          -0.4469572820232003,
          0.7991945750316954,
          1.2321491165464722,
          0.3469066482968893,
          1.1768792551282279,
          0.4685751798163601,
          -1.602153423486592,
          -1.8592550744277052,
          0.16892756903730544,
          -0.4827354037486433,
          -0.8647135454452588,
          0.2271835895981944,
          -0.008704946496307483,
          0.4793715999496075,
          -0.2776855199196532,
          -0.3455334449010767,
          -0.06731792219814585,
          -1.2921071252798175,
          -0.432972397337691,
          -1.360560392011897,
          0.6325374536480637,
          0.06535798422993336
         ]
        },
        {
         "marker": {
          "color": "rgba(128, 0, 128, 0.6)",
          "line": {
           "color": "rgba(128, 0, 128, 1.0)",
           "width": 1
          }
         },
         "name": "D",
         "orientation": "v",
         "text": "",
         "type": "bar",
         "x": [
          0,
          1,
          2,
          3,
          4,
          5,
          6,
          7,
          8,
          9,
          10,
          11,
          12,
          13,
          14,
          15,
          16,
          17,
          18,
          19,
          20,
          21,
          22,
          23,
          24,
          25,
          26,
          27,
          28,
          29,
          30,
          31,
          32,
          33,
          34,
          35,
          36,
          37,
          38,
          39,
          40,
          41,
          42,
          43,
          44,
          45,
          46,
          47,
          48,
          49,
          50,
          51,
          52,
          53,
          54,
          55,
          56,
          57,
          58,
          59,
          60,
          61,
          62,
          63,
          64,
          65,
          66,
          67,
          68,
          69,
          70,
          71,
          72,
          73,
          74,
          75,
          76,
          77,
          78,
          79,
          80,
          81,
          82,
          83,
          84,
          85,
          86,
          87,
          88,
          89,
          90,
          91,
          92,
          93,
          94,
          95,
          96,
          97,
          98,
          99
         ],
         "y": [
          -0.26419919477570775,
          -0.3833716249225878,
          -1.2696551041547883,
          -0.48605251456015774,
          -0.30423884736963247,
          -0.0645788103805999,
          -0.19541927814759988,
          -0.2505002443784337,
          0.6515345950646415,
          -0.29165728579839506,
          -0.6289814145064836,
          -1.585960785998414,
          0.22190061917534687,
          0.44451507131241647,
          0.18772205438789583,
          0.7335921135111559,
          -1.4983392093396157,
          -0.8115706702319209,
          0.6563765821860691,
          -1.811454806130691,
          2.1880322836589396,
          0.4058785384134912,
          -0.2798906532631842,
          0.6239965210646597,
          0.3850377828102407,
          0.03536015762474186,
          0.7261945531686689,
          -0.7748252739970212,
          1.6938925441279562,
          -0.1379854942397674,
          0.18704556263236757,
          -0.09698463502260408,
          0.48452704695990967,
          -0.23449439841267203,
          -1.602239913297058,
          -1.6864492709907315,
          0.04185106828676807,
          0.029346881046487833,
          0.5491124253096286,
          -0.5372092351003203,
          1.52901346352164,
          1.781749863016587,
          -0.6662247419898313,
          -0.3156369593696865,
          0.21329605060367274,
          1.2258435615211334,
          -1.8289380618697493,
          -0.26788220097808646,
          -0.07455854739153477,
          -0.6059474322930166,
          -0.19383887681198314,
          -1.117251100665062,
          0.08665391907503127,
          0.40248745145134646,
          0.6506160318308362,
          0.191211127025122,
          -0.2122137839816685,
          0.8170177114567692,
          -1.8077056254718267,
          -1.0508438579663801,
          -0.3808657717400491,
          -0.1399989298698318,
          -0.5099243537561512,
          -1.8250672146810114,
          0.3761687835746612,
          0.5212536083947612,
          0.7158733138498051,
          0.058066621567422635,
          1.2580555199518404,
          -2.341944264994159,
          0.34029396506244564,
          0.6622617617636951,
          1.2163195643369034,
          1.2566907631988964,
          -0.8809667157727177,
          0.20405056070311292,
          0.011787955272438396,
          0.1367241230646484,
          -0.7464896578795776,
          -0.17904803624682292,
          1.3613276277104176,
          0.34060254482757263,
          -0.3074509326724941,
          -1.0894768827432082,
          -0.37397061504417745,
          0.12902358282737114,
          -1.7150459991982883,
          -0.3995271591467073,
          -1.8442276446783992,
          -1.7423338792127907,
          -0.0609238600430849,
          0.332444412428923,
          0.8172947771135305,
          -1.7485293176553298,
          1.4233176686204365,
          0.7357141104004886,
          0.07853624542171758,
          1.5415481984730797,
          -1.349073319944147,
          0.5883781558965498
         ]
        }
       ],
       "layout": {
        "legend": {
         "bgcolor": "#F5F6F9",
         "font": {
          "color": "#4D5663"
         }
        },
        "paper_bgcolor": "#F5F6F9",
        "plot_bgcolor": "#F5F6F9",
        "template": {
         "data": {
          "bar": [
           {
            "error_x": {
             "color": "#2a3f5f"
            },
            "error_y": {
             "color": "#2a3f5f"
            },
            "marker": {
             "line": {
              "color": "#E5ECF6",
              "width": 0.5
             },
             "pattern": {
              "fillmode": "overlay",
              "size": 10,
              "solidity": 0.2
             }
            },
            "type": "bar"
           }
          ],
          "barpolar": [
           {
            "marker": {
             "line": {
              "color": "#E5ECF6",
              "width": 0.5
             },
             "pattern": {
              "fillmode": "overlay",
              "size": 10,
              "solidity": 0.2
             }
            },
            "type": "barpolar"
           }
          ],
          "carpet": [
           {
            "aaxis": {
             "endlinecolor": "#2a3f5f",
             "gridcolor": "white",
             "linecolor": "white",
             "minorgridcolor": "white",
             "startlinecolor": "#2a3f5f"
            },
            "baxis": {
             "endlinecolor": "#2a3f5f",
             "gridcolor": "white",
             "linecolor": "white",
             "minorgridcolor": "white",
             "startlinecolor": "#2a3f5f"
            },
            "type": "carpet"
           }
          ],
          "choropleth": [
           {
            "colorbar": {
             "outlinewidth": 0,
             "ticks": ""
            },
            "type": "choropleth"
           }
          ],
          "contour": [
           {
            "colorbar": {
             "outlinewidth": 0,
             "ticks": ""
            },
            "colorscale": [
             [
              0,
              "#0d0887"
             ],
             [
              0.1111111111111111,
              "#46039f"
             ],
             [
              0.2222222222222222,
              "#7201a8"
             ],
             [
              0.3333333333333333,
              "#9c179e"
             ],
             [
              0.4444444444444444,
              "#bd3786"
             ],
             [
              0.5555555555555556,
              "#d8576b"
             ],
             [
              0.6666666666666666,
              "#ed7953"
             ],
             [
              0.7777777777777778,
              "#fb9f3a"
             ],
             [
              0.8888888888888888,
              "#fdca26"
             ],
             [
              1,
              "#f0f921"
             ]
            ],
            "type": "contour"
           }
          ],
          "contourcarpet": [
           {
            "colorbar": {
             "outlinewidth": 0,
             "ticks": ""
            },
            "type": "contourcarpet"
           }
          ],
          "heatmap": [
           {
            "colorbar": {
             "outlinewidth": 0,
             "ticks": ""
            },
            "colorscale": [
             [
              0,
              "#0d0887"
             ],
             [
              0.1111111111111111,
              "#46039f"
             ],
             [
              0.2222222222222222,
              "#7201a8"
             ],
             [
              0.3333333333333333,
              "#9c179e"
             ],
             [
              0.4444444444444444,
              "#bd3786"
             ],
             [
              0.5555555555555556,
              "#d8576b"
             ],
             [
              0.6666666666666666,
              "#ed7953"
             ],
             [
              0.7777777777777778,
              "#fb9f3a"
             ],
             [
              0.8888888888888888,
              "#fdca26"
             ],
             [
              1,
              "#f0f921"
             ]
            ],
            "type": "heatmap"
           }
          ],
          "heatmapgl": [
           {
            "colorbar": {
             "outlinewidth": 0,
             "ticks": ""
            },
            "colorscale": [
             [
              0,
              "#0d0887"
             ],
             [
              0.1111111111111111,
              "#46039f"
             ],
             [
              0.2222222222222222,
              "#7201a8"
             ],
             [
              0.3333333333333333,
              "#9c179e"
             ],
             [
              0.4444444444444444,
              "#bd3786"
             ],
             [
              0.5555555555555556,
              "#d8576b"
             ],
             [
              0.6666666666666666,
              "#ed7953"
             ],
             [
              0.7777777777777778,
              "#fb9f3a"
             ],
             [
              0.8888888888888888,
              "#fdca26"
             ],
             [
              1,
              "#f0f921"
             ]
            ],
            "type": "heatmapgl"
           }
          ],
          "histogram": [
           {
            "marker": {
             "pattern": {
              "fillmode": "overlay",
              "size": 10,
              "solidity": 0.2
             }
            },
            "type": "histogram"
           }
          ],
          "histogram2d": [
           {
            "colorbar": {
             "outlinewidth": 0,
             "ticks": ""
            },
            "colorscale": [
             [
              0,
              "#0d0887"
             ],
             [
              0.1111111111111111,
              "#46039f"
             ],
             [
              0.2222222222222222,
              "#7201a8"
             ],
             [
              0.3333333333333333,
              "#9c179e"
             ],
             [
              0.4444444444444444,
              "#bd3786"
             ],
             [
              0.5555555555555556,
              "#d8576b"
             ],
             [
              0.6666666666666666,
              "#ed7953"
             ],
             [
              0.7777777777777778,
              "#fb9f3a"
             ],
             [
              0.8888888888888888,
              "#fdca26"
             ],
             [
              1,
              "#f0f921"
             ]
            ],
            "type": "histogram2d"
           }
          ],
          "histogram2dcontour": [
           {
            "colorbar": {
             "outlinewidth": 0,
             "ticks": ""
            },
            "colorscale": [
             [
              0,
              "#0d0887"
             ],
             [
              0.1111111111111111,
              "#46039f"
             ],
             [
              0.2222222222222222,
              "#7201a8"
             ],
             [
              0.3333333333333333,
              "#9c179e"
             ],
             [
              0.4444444444444444,
              "#bd3786"
             ],
             [
              0.5555555555555556,
              "#d8576b"
             ],
             [
              0.6666666666666666,
              "#ed7953"
             ],
             [
              0.7777777777777778,
              "#fb9f3a"
             ],
             [
              0.8888888888888888,
              "#fdca26"
             ],
             [
              1,
              "#f0f921"
             ]
            ],
            "type": "histogram2dcontour"
           }
          ],
          "mesh3d": [
           {
            "colorbar": {
             "outlinewidth": 0,
             "ticks": ""
            },
            "type": "mesh3d"
           }
          ],
          "parcoords": [
           {
            "line": {
             "colorbar": {
              "outlinewidth": 0,
              "ticks": ""
             }
            },
            "type": "parcoords"
           }
          ],
          "pie": [
           {
            "automargin": true,
            "type": "pie"
           }
          ],
          "scatter": [
           {
            "marker": {
             "colorbar": {
              "outlinewidth": 0,
              "ticks": ""
             }
            },
            "type": "scatter"
           }
          ],
          "scatter3d": [
           {
            "line": {
             "colorbar": {
              "outlinewidth": 0,
              "ticks": ""
             }
            },
            "marker": {
             "colorbar": {
              "outlinewidth": 0,
              "ticks": ""
             }
            },
            "type": "scatter3d"
           }
          ],
          "scattercarpet": [
           {
            "marker": {
             "colorbar": {
              "outlinewidth": 0,
              "ticks": ""
             }
            },
            "type": "scattercarpet"
           }
          ],
          "scattergeo": [
           {
            "marker": {
             "colorbar": {
              "outlinewidth": 0,
              "ticks": ""
             }
            },
            "type": "scattergeo"
           }
          ],
          "scattergl": [
           {
            "marker": {
             "colorbar": {
              "outlinewidth": 0,
              "ticks": ""
             }
            },
            "type": "scattergl"
           }
          ],
          "scattermapbox": [
           {
            "marker": {
             "colorbar": {
              "outlinewidth": 0,
              "ticks": ""
             }
            },
            "type": "scattermapbox"
           }
          ],
          "scatterpolar": [
           {
            "marker": {
             "colorbar": {
              "outlinewidth": 0,
              "ticks": ""
             }
            },
            "type": "scatterpolar"
           }
          ],
          "scatterpolargl": [
           {
            "marker": {
             "colorbar": {
              "outlinewidth": 0,
              "ticks": ""
             }
            },
            "type": "scatterpolargl"
           }
          ],
          "scatterternary": [
           {
            "marker": {
             "colorbar": {
              "outlinewidth": 0,
              "ticks": ""
             }
            },
            "type": "scatterternary"
           }
          ],
          "surface": [
           {
            "colorbar": {
             "outlinewidth": 0,
             "ticks": ""
            },
            "colorscale": [
             [
              0,
              "#0d0887"
             ],
             [
              0.1111111111111111,
              "#46039f"
             ],
             [
              0.2222222222222222,
              "#7201a8"
             ],
             [
              0.3333333333333333,
              "#9c179e"
             ],
             [
              0.4444444444444444,
              "#bd3786"
             ],
             [
              0.5555555555555556,
              "#d8576b"
             ],
             [
              0.6666666666666666,
              "#ed7953"
             ],
             [
              0.7777777777777778,
              "#fb9f3a"
             ],
             [
              0.8888888888888888,
              "#fdca26"
             ],
             [
              1,
              "#f0f921"
             ]
            ],
            "type": "surface"
           }
          ],
          "table": [
           {
            "cells": {
             "fill": {
              "color": "#EBF0F8"
             },
             "line": {
              "color": "white"
             }
            },
            "header": {
             "fill": {
              "color": "#C8D4E3"
             },
             "line": {
              "color": "white"
             }
            },
            "type": "table"
           }
          ]
         },
         "layout": {
          "annotationdefaults": {
           "arrowcolor": "#2a3f5f",
           "arrowhead": 0,
           "arrowwidth": 1
          },
          "autotypenumbers": "strict",
          "coloraxis": {
           "colorbar": {
            "outlinewidth": 0,
            "ticks": ""
           }
          },
          "colorscale": {
           "diverging": [
            [
             0,
             "#8e0152"
            ],
            [
             0.1,
             "#c51b7d"
            ],
            [
             0.2,
             "#de77ae"
            ],
            [
             0.3,
             "#f1b6da"
            ],
            [
             0.4,
             "#fde0ef"
            ],
            [
             0.5,
             "#f7f7f7"
            ],
            [
             0.6,
             "#e6f5d0"
            ],
            [
             0.7,
             "#b8e186"
            ],
            [
             0.8,
             "#7fbc41"
            ],
            [
             0.9,
             "#4d9221"
            ],
            [
             1,
             "#276419"
            ]
           ],
           "sequential": [
            [
             0,
             "#0d0887"
            ],
            [
             0.1111111111111111,
             "#46039f"
            ],
            [
             0.2222222222222222,
             "#7201a8"
            ],
            [
             0.3333333333333333,
             "#9c179e"
            ],
            [
             0.4444444444444444,
             "#bd3786"
            ],
            [
             0.5555555555555556,
             "#d8576b"
            ],
            [
             0.6666666666666666,
             "#ed7953"
            ],
            [
             0.7777777777777778,
             "#fb9f3a"
            ],
            [
             0.8888888888888888,
             "#fdca26"
            ],
            [
             1,
             "#f0f921"
            ]
           ],
           "sequentialminus": [
            [
             0,
             "#0d0887"
            ],
            [
             0.1111111111111111,
             "#46039f"
            ],
            [
             0.2222222222222222,
             "#7201a8"
            ],
            [
             0.3333333333333333,
             "#9c179e"
            ],
            [
             0.4444444444444444,
             "#bd3786"
            ],
            [
             0.5555555555555556,
             "#d8576b"
            ],
            [
             0.6666666666666666,
             "#ed7953"
            ],
            [
             0.7777777777777778,
             "#fb9f3a"
            ],
            [
             0.8888888888888888,
             "#fdca26"
            ],
            [
             1,
             "#f0f921"
            ]
           ]
          },
          "colorway": [
           "#636efa",
           "#EF553B",
           "#00cc96",
           "#ab63fa",
           "#FFA15A",
           "#19d3f3",
           "#FF6692",
           "#B6E880",
           "#FF97FF",
           "#FECB52"
          ],
          "font": {
           "color": "#2a3f5f"
          },
          "geo": {
           "bgcolor": "white",
           "lakecolor": "white",
           "landcolor": "#E5ECF6",
           "showlakes": true,
           "showland": true,
           "subunitcolor": "white"
          },
          "hoverlabel": {
           "align": "left"
          },
          "hovermode": "closest",
          "mapbox": {
           "style": "light"
          },
          "paper_bgcolor": "white",
          "plot_bgcolor": "#E5ECF6",
          "polar": {
           "angularaxis": {
            "gridcolor": "white",
            "linecolor": "white",
            "ticks": ""
           },
           "bgcolor": "#E5ECF6",
           "radialaxis": {
            "gridcolor": "white",
            "linecolor": "white",
            "ticks": ""
           }
          },
          "scene": {
           "xaxis": {
            "backgroundcolor": "#E5ECF6",
            "gridcolor": "white",
            "gridwidth": 2,
            "linecolor": "white",
            "showbackground": true,
            "ticks": "",
            "zerolinecolor": "white"
           },
           "yaxis": {
            "backgroundcolor": "#E5ECF6",
            "gridcolor": "white",
            "gridwidth": 2,
            "linecolor": "white",
            "showbackground": true,
            "ticks": "",
            "zerolinecolor": "white"
           },
           "zaxis": {
            "backgroundcolor": "#E5ECF6",
            "gridcolor": "white",
            "gridwidth": 2,
            "linecolor": "white",
            "showbackground": true,
            "ticks": "",
            "zerolinecolor": "white"
           }
          },
          "shapedefaults": {
           "line": {
            "color": "#2a3f5f"
           }
          },
          "ternary": {
           "aaxis": {
            "gridcolor": "white",
            "linecolor": "white",
            "ticks": ""
           },
           "baxis": {
            "gridcolor": "white",
            "linecolor": "white",
            "ticks": ""
           },
           "bgcolor": "#E5ECF6",
           "caxis": {
            "gridcolor": "white",
            "linecolor": "white",
            "ticks": ""
           }
          },
          "title": {
           "x": 0.05
          },
          "xaxis": {
           "automargin": true,
           "gridcolor": "white",
           "linecolor": "white",
           "ticks": "",
           "title": {
            "standoff": 15
           },
           "zerolinecolor": "white",
           "zerolinewidth": 2
          },
          "yaxis": {
           "automargin": true,
           "gridcolor": "white",
           "linecolor": "white",
           "ticks": "",
           "title": {
            "standoff": 15
           },
           "zerolinecolor": "white",
           "zerolinewidth": 2
          }
         }
        },
        "title": {
         "font": {
          "color": "#4D5663"
         }
        },
        "xaxis": {
         "gridcolor": "#E1E5ED",
         "showgrid": true,
         "tickfont": {
          "color": "#4D5663"
         },
         "title": {
          "font": {
           "color": "#4D5663"
          },
          "text": ""
         },
         "zerolinecolor": "#E1E5ED"
        },
        "yaxis": {
         "gridcolor": "#E1E5ED",
         "showgrid": true,
         "tickfont": {
          "color": "#4D5663"
         },
         "title": {
          "font": {
           "color": "#4D5663"
          },
          "text": ""
         },
         "zerolinecolor": "#E1E5ED"
        }
       }
      },
      "text/html": [
       "<div>                            <div id=\"6cf9f3aa-fc2d-411d-8a2c-572bfda5f34d\" class=\"plotly-graph-div\" style=\"height:525px; width:100%;\"></div>            <script type=\"text/javascript\">                require([\"plotly\"], function(Plotly) {                    window.PLOTLYENV=window.PLOTLYENV || {};\n",
       "                    window.PLOTLYENV.BASE_URL='https://plot.ly';                                    if (document.getElementById(\"6cf9f3aa-fc2d-411d-8a2c-572bfda5f34d\")) {                    Plotly.newPlot(                        \"6cf9f3aa-fc2d-411d-8a2c-572bfda5f34d\",                        [{\"marker\":{\"color\":\"rgba(255, 153, 51, 0.6)\",\"line\":{\"color\":\"rgba(255, 153, 51, 1.0)\",\"width\":1}},\"name\":\"A\",\"orientation\":\"v\",\"text\":\"\",\"x\":[0,1,2,3,4,5,6,7,8,9,10,11,12,13,14,15,16,17,18,19,20,21,22,23,24,25,26,27,28,29,30,31,32,33,34,35,36,37,38,39,40,41,42,43,44,45,46,47,48,49,50,51,52,53,54,55,56,57,58,59,60,61,62,63,64,65,66,67,68,69,70,71,72,73,74,75,76,77,78,79,80,81,82,83,84,85,86,87,88,89,90,91,92,93,94,95,96,97,98,99],\"y\":[-1.5860134090116866,0.9274341987192442,-0.9762444473030839,1.156816478828888,-0.242393020431529,0.3658661061076631,-0.32884347637865063,-0.7843856618643812,-0.16230849353665586,0.2160566141325843,0.09488267160010981,-0.7473716756146999,1.7440517401864175,-1.0011753997767863,-0.18215840764473576,0.4018796805877871,-0.6135309871435983,-2.079389212549666,0.23106022177266736,-0.45571564831106187,1.3188535756734368,-1.2484686619627932,-2.1557349157011396,-0.6413749067969102,1.984261532573052,0.5012010530631451,0.21512083602091397,-0.558205527705548,0.14204517265741703,-0.6511171286850072,0.9760822312705928,-1.1989746858724355,-0.44233800472944795,0.6020080772279828,0.5310322898976169,1.1303903707259588,1.5142447071264193,-0.04358317734529377,1.0306022371577925,1.0400904170808154,0.64883519571506,-2.173258432759064,-0.07614582456348083,1.0405839611686214,-0.39711742884277623,0.32766189492180053,-0.8436067376188089,-0.017269384493230185,1.571276688331357,1.9963152622649702,0.3819524247516574,1.4410320918970343,-0.6663318032774534,1.18225971311963,1.0579046463052426,1.1432416134662429,1.2242524339330336,0.46146197162961955,-0.7767414148887288,0.10307340698574169,1.337178188616223,-0.8274151443552817,-0.7644470953586763,-1.2106145802497552,0.1403479523423119,0.001975554072475761,-0.6174465550500117,0.4688231976483499,0.7645685844346921,0.7685313514609825,-0.4062139130708948,-2.2476389899473324,-1.2813236664358285,0.4990740133928327,-0.6578116017019612,-0.6640628389585511,-0.357864798989924,-1.6729457194027304,2.442991825496139,-1.8462353301991539,0.6879530972282243,0.3797085093935498,-0.14877442120258536,-0.6595086088687263,0.314284369048765,1.1818518556481579,-0.27023116685307313,0.16911123724350882,-0.2684950791947941,-0.0407394969368081,1.6707519519124296,0.13156203612669848,0.6916032574356988,-0.4677181913508789,-0.9554953899235631,1.156425864392585,0.18059611632298583,0.7366316662288631,0.22040930005047488,-0.5615539396878966],\"type\":\"bar\"},{\"marker\":{\"color\":\"rgba(55, 128, 191, 0.6)\",\"line\":{\"color\":\"rgba(55, 128, 191, 1.0)\",\"width\":1}},\"name\":\"B\",\"orientation\":\"v\",\"text\":\"\",\"x\":[0,1,2,3,4,5,6,7,8,9,10,11,12,13,14,15,16,17,18,19,20,21,22,23,24,25,26,27,28,29,30,31,32,33,34,35,36,37,38,39,40,41,42,43,44,45,46,47,48,49,50,51,52,53,54,55,56,57,58,59,60,61,62,63,64,65,66,67,68,69,70,71,72,73,74,75,76,77,78,79,80,81,82,83,84,85,86,87,88,89,90,91,92,93,94,95,96,97,98,99],\"y\":[-1.4373918705042834,1.012094339901708,-0.21652566691947905,0.155969167306907,-1.07942763093398,0.20683358045049557,0.8692509076328989,-0.618003101032969,0.41388713373849545,0.6015927758472617,0.2558943998116105,-0.08881501037531885,1.3541734631029874,0.995809863280057,0.7263856151715177,-1.0591484235788549,0.39381445199982873,1.7728519694416973,1.5141025549905125,-1.1309931207032557,-0.24284635706874916,-2.4180943861802717,-0.9764200427817595,-0.8680768958339593,-0.012230281168851885,-1.3461840623160013,-0.7087201022918612,-0.11886541084736676,-0.5197069118420652,-0.2436616969585116,1.9456565046865473,0.23279137355585014,0.04895733084297942,0.12821037869834914,0.6897370757826575,1.2343281233883965,0.5489868801540693,-0.7580452649185184,0.07331698303838807,-1.6378487175535115,0.4090673635059884,-1.2688772159442079,0.8374865036983186,-0.48010953933761474,1.8953222757757793,-1.9953568853667585,0.9337421560975021,0.1903635545851463,0.032122216843723725,-1.0528435662630606,0.7354169754139546,-1.970688296634273,-2.0076414457309584,-0.5471945912678408,-1.0571038427600974,-0.5417501938583631,1.0895795665464028,0.5273906678370488,0.525575673958645,-0.5631397651548465,-1.4112390099841932,-0.726011083664482,-0.8055890887078467,-0.6532186704886714,-0.9327206830188016,-0.8414431577485073,-0.21930229929038692,0.7544907994981428,-0.6614284701557894,0.3894082107651065,-0.10239934381508001,0.7270716572767006,-1.634429013162857,-0.09688286899455396,0.742219960027465,0.14921293689844325,1.8972003824444315,-0.5952226721267857,0.7262172332121369,-0.44877811398083706,1.54088568921494,-1.8801772347486403,-0.8728125960536823,0.9178486890316006,-2.1198904634754823,1.2097381010266304,0.49755262397929584,-0.01739364386996017,-0.2575823229109491,1.3636811408227858,0.7659608286370856,0.22823943905443764,-1.8518334086621562,0.04086011505021188,-0.3345488201186656,1.215808878038551,-0.5448535031254441,-0.5566181986016897,1.295128386720408,-1.742161390290768],\"type\":\"bar\"},{\"marker\":{\"color\":\"rgba(50, 171, 96, 0.6)\",\"line\":{\"color\":\"rgba(50, 171, 96, 1.0)\",\"width\":1}},\"name\":\"C\",\"orientation\":\"v\",\"text\":\"\",\"x\":[0,1,2,3,4,5,6,7,8,9,10,11,12,13,14,15,16,17,18,19,20,21,22,23,24,25,26,27,28,29,30,31,32,33,34,35,36,37,38,39,40,41,42,43,44,45,46,47,48,49,50,51,52,53,54,55,56,57,58,59,60,61,62,63,64,65,66,67,68,69,70,71,72,73,74,75,76,77,78,79,80,81,82,83,84,85,86,87,88,89,90,91,92,93,94,95,96,97,98,99],\"y\":[-0.35693894919680014,-0.44298828459749096,0.03430739534846451,1.3384382870315716,-1.1428156383211547,0.7578239741191998,-1.9176705101154023,-0.3987040805699978,-0.38863022814550585,0.6602704507659432,-1.0584851563705215,0.22309006444887244,2.1071369676660754,1.1825891082105318,1.590233736456399,-0.3237087595920645,-0.9161429886911839,-0.021693423773626434,-0.5301214552100546,0.8914827249890813,-1.597686296403704,0.2531769882495246,0.7613040148990067,-0.2931784096664254,2.836511279211788,0.2842390623875921,0.3369421974664682,0.8841831778072965,-0.8043745860884061,-0.2735478697401933,1.1499670618427587,-1.2212952575609632,1.1674182793260595,-0.009508541728902122,0.2858711524223337,0.45029884423982075,-1.0155339336802705,-1.4637930312086553,0.46892976223938676,-0.9738708167142774,-1.3206841641927398,-0.17984660382480194,1.4083997880093475,-0.40130791750622713,-1.0612790239740046,1.9037000060508449,-0.22470899732809524,1.1835620393234376,-0.4311288702661489,-1.8227444838552331,-0.05642857829923661,-0.7008898442152856,1.5101592596359499,-0.1201096958876723,0.9684858713315022,1.427890669447111,0.2783561315299243,0.4739913923393477,-0.12507807470335897,-0.9689319740227837,-0.4178594476307902,0.8445577725293718,0.18459347598907042,0.23395624144710025,0.9332700506844089,0.5306612071504125,-2.7025413846186876,-0.7093283947007025,1.4011570726079778,-1.5880138330259133,-0.7496208501000143,-0.6710628988846881,3.993716604441798,0.4786124707818054,-0.027142079302184652,-0.29790958374635024,0.48105535591669907,-0.14714312540729008,-0.4469572820232003,0.7991945750316954,1.2321491165464722,0.3469066482968893,1.1768792551282279,0.4685751798163601,-1.602153423486592,-1.8592550744277052,0.16892756903730544,-0.4827354037486433,-0.8647135454452588,0.2271835895981944,-0.008704946496307483,0.4793715999496075,-0.2776855199196532,-0.3455334449010767,-0.06731792219814585,-1.2921071252798175,-0.432972397337691,-1.360560392011897,0.6325374536480637,0.06535798422993336],\"type\":\"bar\"},{\"marker\":{\"color\":\"rgba(128, 0, 128, 0.6)\",\"line\":{\"color\":\"rgba(128, 0, 128, 1.0)\",\"width\":1}},\"name\":\"D\",\"orientation\":\"v\",\"text\":\"\",\"x\":[0,1,2,3,4,5,6,7,8,9,10,11,12,13,14,15,16,17,18,19,20,21,22,23,24,25,26,27,28,29,30,31,32,33,34,35,36,37,38,39,40,41,42,43,44,45,46,47,48,49,50,51,52,53,54,55,56,57,58,59,60,61,62,63,64,65,66,67,68,69,70,71,72,73,74,75,76,77,78,79,80,81,82,83,84,85,86,87,88,89,90,91,92,93,94,95,96,97,98,99],\"y\":[-0.26419919477570775,-0.3833716249225878,-1.2696551041547883,-0.48605251456015774,-0.30423884736963247,-0.0645788103805999,-0.19541927814759988,-0.2505002443784337,0.6515345950646415,-0.29165728579839506,-0.6289814145064836,-1.585960785998414,0.22190061917534687,0.44451507131241647,0.18772205438789583,0.7335921135111559,-1.4983392093396157,-0.8115706702319209,0.6563765821860691,-1.811454806130691,2.1880322836589396,0.4058785384134912,-0.2798906532631842,0.6239965210646597,0.3850377828102407,0.03536015762474186,0.7261945531686689,-0.7748252739970212,1.6938925441279562,-0.1379854942397674,0.18704556263236757,-0.09698463502260408,0.48452704695990967,-0.23449439841267203,-1.602239913297058,-1.6864492709907315,0.04185106828676807,0.029346881046487833,0.5491124253096286,-0.5372092351003203,1.52901346352164,1.781749863016587,-0.6662247419898313,-0.3156369593696865,0.21329605060367274,1.2258435615211334,-1.8289380618697493,-0.26788220097808646,-0.07455854739153477,-0.6059474322930166,-0.19383887681198314,-1.117251100665062,0.08665391907503127,0.40248745145134646,0.6506160318308362,0.191211127025122,-0.2122137839816685,0.8170177114567692,-1.8077056254718267,-1.0508438579663801,-0.3808657717400491,-0.1399989298698318,-0.5099243537561512,-1.8250672146810114,0.3761687835746612,0.5212536083947612,0.7158733138498051,0.058066621567422635,1.2580555199518404,-2.341944264994159,0.34029396506244564,0.6622617617636951,1.2163195643369034,1.2566907631988964,-0.8809667157727177,0.20405056070311292,0.011787955272438396,0.1367241230646484,-0.7464896578795776,-0.17904803624682292,1.3613276277104176,0.34060254482757263,-0.3074509326724941,-1.0894768827432082,-0.37397061504417745,0.12902358282737114,-1.7150459991982883,-0.3995271591467073,-1.8442276446783992,-1.7423338792127907,-0.0609238600430849,0.332444412428923,0.8172947771135305,-1.7485293176553298,1.4233176686204365,0.7357141104004886,0.07853624542171758,1.5415481984730797,-1.349073319944147,0.5883781558965498],\"type\":\"bar\"}],                        {\"legend\":{\"bgcolor\":\"#F5F6F9\",\"font\":{\"color\":\"#4D5663\"}},\"paper_bgcolor\":\"#F5F6F9\",\"plot_bgcolor\":\"#F5F6F9\",\"template\":{\"data\":{\"barpolar\":[{\"marker\":{\"line\":{\"color\":\"#E5ECF6\",\"width\":0.5},\"pattern\":{\"fillmode\":\"overlay\",\"size\":10,\"solidity\":0.2}},\"type\":\"barpolar\"}],\"bar\":[{\"error_x\":{\"color\":\"#2a3f5f\"},\"error_y\":{\"color\":\"#2a3f5f\"},\"marker\":{\"line\":{\"color\":\"#E5ECF6\",\"width\":0.5},\"pattern\":{\"fillmode\":\"overlay\",\"size\":10,\"solidity\":0.2}},\"type\":\"bar\"}],\"carpet\":[{\"aaxis\":{\"endlinecolor\":\"#2a3f5f\",\"gridcolor\":\"white\",\"linecolor\":\"white\",\"minorgridcolor\":\"white\",\"startlinecolor\":\"#2a3f5f\"},\"baxis\":{\"endlinecolor\":\"#2a3f5f\",\"gridcolor\":\"white\",\"linecolor\":\"white\",\"minorgridcolor\":\"white\",\"startlinecolor\":\"#2a3f5f\"},\"type\":\"carpet\"}],\"choropleth\":[{\"colorbar\":{\"outlinewidth\":0,\"ticks\":\"\"},\"type\":\"choropleth\"}],\"contourcarpet\":[{\"colorbar\":{\"outlinewidth\":0,\"ticks\":\"\"},\"type\":\"contourcarpet\"}],\"contour\":[{\"colorbar\":{\"outlinewidth\":0,\"ticks\":\"\"},\"colorscale\":[[0.0,\"#0d0887\"],[0.1111111111111111,\"#46039f\"],[0.2222222222222222,\"#7201a8\"],[0.3333333333333333,\"#9c179e\"],[0.4444444444444444,\"#bd3786\"],[0.5555555555555556,\"#d8576b\"],[0.6666666666666666,\"#ed7953\"],[0.7777777777777778,\"#fb9f3a\"],[0.8888888888888888,\"#fdca26\"],[1.0,\"#f0f921\"]],\"type\":\"contour\"}],\"heatmapgl\":[{\"colorbar\":{\"outlinewidth\":0,\"ticks\":\"\"},\"colorscale\":[[0.0,\"#0d0887\"],[0.1111111111111111,\"#46039f\"],[0.2222222222222222,\"#7201a8\"],[0.3333333333333333,\"#9c179e\"],[0.4444444444444444,\"#bd3786\"],[0.5555555555555556,\"#d8576b\"],[0.6666666666666666,\"#ed7953\"],[0.7777777777777778,\"#fb9f3a\"],[0.8888888888888888,\"#fdca26\"],[1.0,\"#f0f921\"]],\"type\":\"heatmapgl\"}],\"heatmap\":[{\"colorbar\":{\"outlinewidth\":0,\"ticks\":\"\"},\"colorscale\":[[0.0,\"#0d0887\"],[0.1111111111111111,\"#46039f\"],[0.2222222222222222,\"#7201a8\"],[0.3333333333333333,\"#9c179e\"],[0.4444444444444444,\"#bd3786\"],[0.5555555555555556,\"#d8576b\"],[0.6666666666666666,\"#ed7953\"],[0.7777777777777778,\"#fb9f3a\"],[0.8888888888888888,\"#fdca26\"],[1.0,\"#f0f921\"]],\"type\":\"heatmap\"}],\"histogram2dcontour\":[{\"colorbar\":{\"outlinewidth\":0,\"ticks\":\"\"},\"colorscale\":[[0.0,\"#0d0887\"],[0.1111111111111111,\"#46039f\"],[0.2222222222222222,\"#7201a8\"],[0.3333333333333333,\"#9c179e\"],[0.4444444444444444,\"#bd3786\"],[0.5555555555555556,\"#d8576b\"],[0.6666666666666666,\"#ed7953\"],[0.7777777777777778,\"#fb9f3a\"],[0.8888888888888888,\"#fdca26\"],[1.0,\"#f0f921\"]],\"type\":\"histogram2dcontour\"}],\"histogram2d\":[{\"colorbar\":{\"outlinewidth\":0,\"ticks\":\"\"},\"colorscale\":[[0.0,\"#0d0887\"],[0.1111111111111111,\"#46039f\"],[0.2222222222222222,\"#7201a8\"],[0.3333333333333333,\"#9c179e\"],[0.4444444444444444,\"#bd3786\"],[0.5555555555555556,\"#d8576b\"],[0.6666666666666666,\"#ed7953\"],[0.7777777777777778,\"#fb9f3a\"],[0.8888888888888888,\"#fdca26\"],[1.0,\"#f0f921\"]],\"type\":\"histogram2d\"}],\"histogram\":[{\"marker\":{\"pattern\":{\"fillmode\":\"overlay\",\"size\":10,\"solidity\":0.2}},\"type\":\"histogram\"}],\"mesh3d\":[{\"colorbar\":{\"outlinewidth\":0,\"ticks\":\"\"},\"type\":\"mesh3d\"}],\"parcoords\":[{\"line\":{\"colorbar\":{\"outlinewidth\":0,\"ticks\":\"\"}},\"type\":\"parcoords\"}],\"pie\":[{\"automargin\":true,\"type\":\"pie\"}],\"scatter3d\":[{\"line\":{\"colorbar\":{\"outlinewidth\":0,\"ticks\":\"\"}},\"marker\":{\"colorbar\":{\"outlinewidth\":0,\"ticks\":\"\"}},\"type\":\"scatter3d\"}],\"scattercarpet\":[{\"marker\":{\"colorbar\":{\"outlinewidth\":0,\"ticks\":\"\"}},\"type\":\"scattercarpet\"}],\"scattergeo\":[{\"marker\":{\"colorbar\":{\"outlinewidth\":0,\"ticks\":\"\"}},\"type\":\"scattergeo\"}],\"scattergl\":[{\"marker\":{\"colorbar\":{\"outlinewidth\":0,\"ticks\":\"\"}},\"type\":\"scattergl\"}],\"scattermapbox\":[{\"marker\":{\"colorbar\":{\"outlinewidth\":0,\"ticks\":\"\"}},\"type\":\"scattermapbox\"}],\"scatterpolargl\":[{\"marker\":{\"colorbar\":{\"outlinewidth\":0,\"ticks\":\"\"}},\"type\":\"scatterpolargl\"}],\"scatterpolar\":[{\"marker\":{\"colorbar\":{\"outlinewidth\":0,\"ticks\":\"\"}},\"type\":\"scatterpolar\"}],\"scatter\":[{\"marker\":{\"colorbar\":{\"outlinewidth\":0,\"ticks\":\"\"}},\"type\":\"scatter\"}],\"scatterternary\":[{\"marker\":{\"colorbar\":{\"outlinewidth\":0,\"ticks\":\"\"}},\"type\":\"scatterternary\"}],\"surface\":[{\"colorbar\":{\"outlinewidth\":0,\"ticks\":\"\"},\"colorscale\":[[0.0,\"#0d0887\"],[0.1111111111111111,\"#46039f\"],[0.2222222222222222,\"#7201a8\"],[0.3333333333333333,\"#9c179e\"],[0.4444444444444444,\"#bd3786\"],[0.5555555555555556,\"#d8576b\"],[0.6666666666666666,\"#ed7953\"],[0.7777777777777778,\"#fb9f3a\"],[0.8888888888888888,\"#fdca26\"],[1.0,\"#f0f921\"]],\"type\":\"surface\"}],\"table\":[{\"cells\":{\"fill\":{\"color\":\"#EBF0F8\"},\"line\":{\"color\":\"white\"}},\"header\":{\"fill\":{\"color\":\"#C8D4E3\"},\"line\":{\"color\":\"white\"}},\"type\":\"table\"}]},\"layout\":{\"annotationdefaults\":{\"arrowcolor\":\"#2a3f5f\",\"arrowhead\":0,\"arrowwidth\":1},\"autotypenumbers\":\"strict\",\"coloraxis\":{\"colorbar\":{\"outlinewidth\":0,\"ticks\":\"\"}},\"colorscale\":{\"diverging\":[[0,\"#8e0152\"],[0.1,\"#c51b7d\"],[0.2,\"#de77ae\"],[0.3,\"#f1b6da\"],[0.4,\"#fde0ef\"],[0.5,\"#f7f7f7\"],[0.6,\"#e6f5d0\"],[0.7,\"#b8e186\"],[0.8,\"#7fbc41\"],[0.9,\"#4d9221\"],[1,\"#276419\"]],\"sequential\":[[0.0,\"#0d0887\"],[0.1111111111111111,\"#46039f\"],[0.2222222222222222,\"#7201a8\"],[0.3333333333333333,\"#9c179e\"],[0.4444444444444444,\"#bd3786\"],[0.5555555555555556,\"#d8576b\"],[0.6666666666666666,\"#ed7953\"],[0.7777777777777778,\"#fb9f3a\"],[0.8888888888888888,\"#fdca26\"],[1.0,\"#f0f921\"]],\"sequentialminus\":[[0.0,\"#0d0887\"],[0.1111111111111111,\"#46039f\"],[0.2222222222222222,\"#7201a8\"],[0.3333333333333333,\"#9c179e\"],[0.4444444444444444,\"#bd3786\"],[0.5555555555555556,\"#d8576b\"],[0.6666666666666666,\"#ed7953\"],[0.7777777777777778,\"#fb9f3a\"],[0.8888888888888888,\"#fdca26\"],[1.0,\"#f0f921\"]]},\"colorway\":[\"#636efa\",\"#EF553B\",\"#00cc96\",\"#ab63fa\",\"#FFA15A\",\"#19d3f3\",\"#FF6692\",\"#B6E880\",\"#FF97FF\",\"#FECB52\"],\"font\":{\"color\":\"#2a3f5f\"},\"geo\":{\"bgcolor\":\"white\",\"lakecolor\":\"white\",\"landcolor\":\"#E5ECF6\",\"showlakes\":true,\"showland\":true,\"subunitcolor\":\"white\"},\"hoverlabel\":{\"align\":\"left\"},\"hovermode\":\"closest\",\"mapbox\":{\"style\":\"light\"},\"paper_bgcolor\":\"white\",\"plot_bgcolor\":\"#E5ECF6\",\"polar\":{\"angularaxis\":{\"gridcolor\":\"white\",\"linecolor\":\"white\",\"ticks\":\"\"},\"bgcolor\":\"#E5ECF6\",\"radialaxis\":{\"gridcolor\":\"white\",\"linecolor\":\"white\",\"ticks\":\"\"}},\"scene\":{\"xaxis\":{\"backgroundcolor\":\"#E5ECF6\",\"gridcolor\":\"white\",\"gridwidth\":2,\"linecolor\":\"white\",\"showbackground\":true,\"ticks\":\"\",\"zerolinecolor\":\"white\"},\"yaxis\":{\"backgroundcolor\":\"#E5ECF6\",\"gridcolor\":\"white\",\"gridwidth\":2,\"linecolor\":\"white\",\"showbackground\":true,\"ticks\":\"\",\"zerolinecolor\":\"white\"},\"zaxis\":{\"backgroundcolor\":\"#E5ECF6\",\"gridcolor\":\"white\",\"gridwidth\":2,\"linecolor\":\"white\",\"showbackground\":true,\"ticks\":\"\",\"zerolinecolor\":\"white\"}},\"shapedefaults\":{\"line\":{\"color\":\"#2a3f5f\"}},\"ternary\":{\"aaxis\":{\"gridcolor\":\"white\",\"linecolor\":\"white\",\"ticks\":\"\"},\"baxis\":{\"gridcolor\":\"white\",\"linecolor\":\"white\",\"ticks\":\"\"},\"bgcolor\":\"#E5ECF6\",\"caxis\":{\"gridcolor\":\"white\",\"linecolor\":\"white\",\"ticks\":\"\"}},\"title\":{\"x\":0.05},\"xaxis\":{\"automargin\":true,\"gridcolor\":\"white\",\"linecolor\":\"white\",\"ticks\":\"\",\"title\":{\"standoff\":15},\"zerolinecolor\":\"white\",\"zerolinewidth\":2},\"yaxis\":{\"automargin\":true,\"gridcolor\":\"white\",\"linecolor\":\"white\",\"ticks\":\"\",\"title\":{\"standoff\":15},\"zerolinecolor\":\"white\",\"zerolinewidth\":2}}},\"title\":{\"font\":{\"color\":\"#4D5663\"}},\"xaxis\":{\"gridcolor\":\"#E1E5ED\",\"showgrid\":true,\"tickfont\":{\"color\":\"#4D5663\"},\"title\":{\"font\":{\"color\":\"#4D5663\"},\"text\":\"\"},\"zerolinecolor\":\"#E1E5ED\"},\"yaxis\":{\"gridcolor\":\"#E1E5ED\",\"showgrid\":true,\"tickfont\":{\"color\":\"#4D5663\"},\"title\":{\"font\":{\"color\":\"#4D5663\"},\"text\":\"\"},\"zerolinecolor\":\"#E1E5ED\"}},                        {\"showLink\": true, \"linkText\": \"Export to plot.ly\", \"plotlyServerURL\": \"https://plot.ly\", \"responsive\": true}                    ).then(function(){\n",
       "                            \n",
       "var gd = document.getElementById('6cf9f3aa-fc2d-411d-8a2c-572bfda5f34d');\n",
       "var x = new MutationObserver(function (mutations, observer) {{\n",
       "        var display = window.getComputedStyle(gd).display;\n",
       "        if (!display || display === 'none') {{\n",
       "            console.log([gd, 'removed!']);\n",
       "            Plotly.purge(gd);\n",
       "            observer.disconnect();\n",
       "        }}\n",
       "}});\n",
       "\n",
       "// Listen for the removal of the full notebook cells\n",
       "var notebookContainer = gd.closest('#notebook-container');\n",
       "if (notebookContainer) {{\n",
       "    x.observe(notebookContainer, {childList: true});\n",
       "}}\n",
       "\n",
       "// Listen for the clearing of the current output cell\n",
       "var outputEl = gd.closest('.output');\n",
       "if (outputEl) {{\n",
       "    x.observe(outputEl, {childList: true});\n",
       "}}\n",
       "\n",
       "                        })                };                });            </script>        </div>"
      ]
     },
     "metadata": {},
     "output_type": "display_data"
    }
   ],
   "source": [
    "df1.iplot(kind=\"bar\")"
   ]
  },
  {
   "cell_type": "code",
   "execution_count": 28,
   "id": "4c8c49a2",
   "metadata": {},
   "outputs": [
    {
     "data": {
      "application/vnd.plotly.v1+json": {
       "config": {
        "linkText": "Export to plot.ly",
        "plotlyServerURL": "https://plot.ly",
        "showLink": true
       },
       "data": [
        {
         "marker": {
          "color": "rgba(255, 153, 51, 0.6)",
          "line": {
           "color": "rgba(255, 153, 51, 1.0)",
           "width": 1
          }
         },
         "name": "None",
         "orientation": "v",
         "text": "",
         "type": "bar",
         "x": [
          "A",
          "B",
          "C",
          "D"
         ],
         "y": [
          100,
          100,
          100,
          100
         ]
        }
       ],
       "layout": {
        "legend": {
         "bgcolor": "#F5F6F9",
         "font": {
          "color": "#4D5663"
         }
        },
        "paper_bgcolor": "#F5F6F9",
        "plot_bgcolor": "#F5F6F9",
        "template": {
         "data": {
          "bar": [
           {
            "error_x": {
             "color": "#2a3f5f"
            },
            "error_y": {
             "color": "#2a3f5f"
            },
            "marker": {
             "line": {
              "color": "#E5ECF6",
              "width": 0.5
             },
             "pattern": {
              "fillmode": "overlay",
              "size": 10,
              "solidity": 0.2
             }
            },
            "type": "bar"
           }
          ],
          "barpolar": [
           {
            "marker": {
             "line": {
              "color": "#E5ECF6",
              "width": 0.5
             },
             "pattern": {
              "fillmode": "overlay",
              "size": 10,
              "solidity": 0.2
             }
            },
            "type": "barpolar"
           }
          ],
          "carpet": [
           {
            "aaxis": {
             "endlinecolor": "#2a3f5f",
             "gridcolor": "white",
             "linecolor": "white",
             "minorgridcolor": "white",
             "startlinecolor": "#2a3f5f"
            },
            "baxis": {
             "endlinecolor": "#2a3f5f",
             "gridcolor": "white",
             "linecolor": "white",
             "minorgridcolor": "white",
             "startlinecolor": "#2a3f5f"
            },
            "type": "carpet"
           }
          ],
          "choropleth": [
           {
            "colorbar": {
             "outlinewidth": 0,
             "ticks": ""
            },
            "type": "choropleth"
           }
          ],
          "contour": [
           {
            "colorbar": {
             "outlinewidth": 0,
             "ticks": ""
            },
            "colorscale": [
             [
              0,
              "#0d0887"
             ],
             [
              0.1111111111111111,
              "#46039f"
             ],
             [
              0.2222222222222222,
              "#7201a8"
             ],
             [
              0.3333333333333333,
              "#9c179e"
             ],
             [
              0.4444444444444444,
              "#bd3786"
             ],
             [
              0.5555555555555556,
              "#d8576b"
             ],
             [
              0.6666666666666666,
              "#ed7953"
             ],
             [
              0.7777777777777778,
              "#fb9f3a"
             ],
             [
              0.8888888888888888,
              "#fdca26"
             ],
             [
              1,
              "#f0f921"
             ]
            ],
            "type": "contour"
           }
          ],
          "contourcarpet": [
           {
            "colorbar": {
             "outlinewidth": 0,
             "ticks": ""
            },
            "type": "contourcarpet"
           }
          ],
          "heatmap": [
           {
            "colorbar": {
             "outlinewidth": 0,
             "ticks": ""
            },
            "colorscale": [
             [
              0,
              "#0d0887"
             ],
             [
              0.1111111111111111,
              "#46039f"
             ],
             [
              0.2222222222222222,
              "#7201a8"
             ],
             [
              0.3333333333333333,
              "#9c179e"
             ],
             [
              0.4444444444444444,
              "#bd3786"
             ],
             [
              0.5555555555555556,
              "#d8576b"
             ],
             [
              0.6666666666666666,
              "#ed7953"
             ],
             [
              0.7777777777777778,
              "#fb9f3a"
             ],
             [
              0.8888888888888888,
              "#fdca26"
             ],
             [
              1,
              "#f0f921"
             ]
            ],
            "type": "heatmap"
           }
          ],
          "heatmapgl": [
           {
            "colorbar": {
             "outlinewidth": 0,
             "ticks": ""
            },
            "colorscale": [
             [
              0,
              "#0d0887"
             ],
             [
              0.1111111111111111,
              "#46039f"
             ],
             [
              0.2222222222222222,
              "#7201a8"
             ],
             [
              0.3333333333333333,
              "#9c179e"
             ],
             [
              0.4444444444444444,
              "#bd3786"
             ],
             [
              0.5555555555555556,
              "#d8576b"
             ],
             [
              0.6666666666666666,
              "#ed7953"
             ],
             [
              0.7777777777777778,
              "#fb9f3a"
             ],
             [
              0.8888888888888888,
              "#fdca26"
             ],
             [
              1,
              "#f0f921"
             ]
            ],
            "type": "heatmapgl"
           }
          ],
          "histogram": [
           {
            "marker": {
             "pattern": {
              "fillmode": "overlay",
              "size": 10,
              "solidity": 0.2
             }
            },
            "type": "histogram"
           }
          ],
          "histogram2d": [
           {
            "colorbar": {
             "outlinewidth": 0,
             "ticks": ""
            },
            "colorscale": [
             [
              0,
              "#0d0887"
             ],
             [
              0.1111111111111111,
              "#46039f"
             ],
             [
              0.2222222222222222,
              "#7201a8"
             ],
             [
              0.3333333333333333,
              "#9c179e"
             ],
             [
              0.4444444444444444,
              "#bd3786"
             ],
             [
              0.5555555555555556,
              "#d8576b"
             ],
             [
              0.6666666666666666,
              "#ed7953"
             ],
             [
              0.7777777777777778,
              "#fb9f3a"
             ],
             [
              0.8888888888888888,
              "#fdca26"
             ],
             [
              1,
              "#f0f921"
             ]
            ],
            "type": "histogram2d"
           }
          ],
          "histogram2dcontour": [
           {
            "colorbar": {
             "outlinewidth": 0,
             "ticks": ""
            },
            "colorscale": [
             [
              0,
              "#0d0887"
             ],
             [
              0.1111111111111111,
              "#46039f"
             ],
             [
              0.2222222222222222,
              "#7201a8"
             ],
             [
              0.3333333333333333,
              "#9c179e"
             ],
             [
              0.4444444444444444,
              "#bd3786"
             ],
             [
              0.5555555555555556,
              "#d8576b"
             ],
             [
              0.6666666666666666,
              "#ed7953"
             ],
             [
              0.7777777777777778,
              "#fb9f3a"
             ],
             [
              0.8888888888888888,
              "#fdca26"
             ],
             [
              1,
              "#f0f921"
             ]
            ],
            "type": "histogram2dcontour"
           }
          ],
          "mesh3d": [
           {
            "colorbar": {
             "outlinewidth": 0,
             "ticks": ""
            },
            "type": "mesh3d"
           }
          ],
          "parcoords": [
           {
            "line": {
             "colorbar": {
              "outlinewidth": 0,
              "ticks": ""
             }
            },
            "type": "parcoords"
           }
          ],
          "pie": [
           {
            "automargin": true,
            "type": "pie"
           }
          ],
          "scatter": [
           {
            "marker": {
             "colorbar": {
              "outlinewidth": 0,
              "ticks": ""
             }
            },
            "type": "scatter"
           }
          ],
          "scatter3d": [
           {
            "line": {
             "colorbar": {
              "outlinewidth": 0,
              "ticks": ""
             }
            },
            "marker": {
             "colorbar": {
              "outlinewidth": 0,
              "ticks": ""
             }
            },
            "type": "scatter3d"
           }
          ],
          "scattercarpet": [
           {
            "marker": {
             "colorbar": {
              "outlinewidth": 0,
              "ticks": ""
             }
            },
            "type": "scattercarpet"
           }
          ],
          "scattergeo": [
           {
            "marker": {
             "colorbar": {
              "outlinewidth": 0,
              "ticks": ""
             }
            },
            "type": "scattergeo"
           }
          ],
          "scattergl": [
           {
            "marker": {
             "colorbar": {
              "outlinewidth": 0,
              "ticks": ""
             }
            },
            "type": "scattergl"
           }
          ],
          "scattermapbox": [
           {
            "marker": {
             "colorbar": {
              "outlinewidth": 0,
              "ticks": ""
             }
            },
            "type": "scattermapbox"
           }
          ],
          "scatterpolar": [
           {
            "marker": {
             "colorbar": {
              "outlinewidth": 0,
              "ticks": ""
             }
            },
            "type": "scatterpolar"
           }
          ],
          "scatterpolargl": [
           {
            "marker": {
             "colorbar": {
              "outlinewidth": 0,
              "ticks": ""
             }
            },
            "type": "scatterpolargl"
           }
          ],
          "scatterternary": [
           {
            "marker": {
             "colorbar": {
              "outlinewidth": 0,
              "ticks": ""
             }
            },
            "type": "scatterternary"
           }
          ],
          "surface": [
           {
            "colorbar": {
             "outlinewidth": 0,
             "ticks": ""
            },
            "colorscale": [
             [
              0,
              "#0d0887"
             ],
             [
              0.1111111111111111,
              "#46039f"
             ],
             [
              0.2222222222222222,
              "#7201a8"
             ],
             [
              0.3333333333333333,
              "#9c179e"
             ],
             [
              0.4444444444444444,
              "#bd3786"
             ],
             [
              0.5555555555555556,
              "#d8576b"
             ],
             [
              0.6666666666666666,
              "#ed7953"
             ],
             [
              0.7777777777777778,
              "#fb9f3a"
             ],
             [
              0.8888888888888888,
              "#fdca26"
             ],
             [
              1,
              "#f0f921"
             ]
            ],
            "type": "surface"
           }
          ],
          "table": [
           {
            "cells": {
             "fill": {
              "color": "#EBF0F8"
             },
             "line": {
              "color": "white"
             }
            },
            "header": {
             "fill": {
              "color": "#C8D4E3"
             },
             "line": {
              "color": "white"
             }
            },
            "type": "table"
           }
          ]
         },
         "layout": {
          "annotationdefaults": {
           "arrowcolor": "#2a3f5f",
           "arrowhead": 0,
           "arrowwidth": 1
          },
          "autotypenumbers": "strict",
          "coloraxis": {
           "colorbar": {
            "outlinewidth": 0,
            "ticks": ""
           }
          },
          "colorscale": {
           "diverging": [
            [
             0,
             "#8e0152"
            ],
            [
             0.1,
             "#c51b7d"
            ],
            [
             0.2,
             "#de77ae"
            ],
            [
             0.3,
             "#f1b6da"
            ],
            [
             0.4,
             "#fde0ef"
            ],
            [
             0.5,
             "#f7f7f7"
            ],
            [
             0.6,
             "#e6f5d0"
            ],
            [
             0.7,
             "#b8e186"
            ],
            [
             0.8,
             "#7fbc41"
            ],
            [
             0.9,
             "#4d9221"
            ],
            [
             1,
             "#276419"
            ]
           ],
           "sequential": [
            [
             0,
             "#0d0887"
            ],
            [
             0.1111111111111111,
             "#46039f"
            ],
            [
             0.2222222222222222,
             "#7201a8"
            ],
            [
             0.3333333333333333,
             "#9c179e"
            ],
            [
             0.4444444444444444,
             "#bd3786"
            ],
            [
             0.5555555555555556,
             "#d8576b"
            ],
            [
             0.6666666666666666,
             "#ed7953"
            ],
            [
             0.7777777777777778,
             "#fb9f3a"
            ],
            [
             0.8888888888888888,
             "#fdca26"
            ],
            [
             1,
             "#f0f921"
            ]
           ],
           "sequentialminus": [
            [
             0,
             "#0d0887"
            ],
            [
             0.1111111111111111,
             "#46039f"
            ],
            [
             0.2222222222222222,
             "#7201a8"
            ],
            [
             0.3333333333333333,
             "#9c179e"
            ],
            [
             0.4444444444444444,
             "#bd3786"
            ],
            [
             0.5555555555555556,
             "#d8576b"
            ],
            [
             0.6666666666666666,
             "#ed7953"
            ],
            [
             0.7777777777777778,
             "#fb9f3a"
            ],
            [
             0.8888888888888888,
             "#fdca26"
            ],
            [
             1,
             "#f0f921"
            ]
           ]
          },
          "colorway": [
           "#636efa",
           "#EF553B",
           "#00cc96",
           "#ab63fa",
           "#FFA15A",
           "#19d3f3",
           "#FF6692",
           "#B6E880",
           "#FF97FF",
           "#FECB52"
          ],
          "font": {
           "color": "#2a3f5f"
          },
          "geo": {
           "bgcolor": "white",
           "lakecolor": "white",
           "landcolor": "#E5ECF6",
           "showlakes": true,
           "showland": true,
           "subunitcolor": "white"
          },
          "hoverlabel": {
           "align": "left"
          },
          "hovermode": "closest",
          "mapbox": {
           "style": "light"
          },
          "paper_bgcolor": "white",
          "plot_bgcolor": "#E5ECF6",
          "polar": {
           "angularaxis": {
            "gridcolor": "white",
            "linecolor": "white",
            "ticks": ""
           },
           "bgcolor": "#E5ECF6",
           "radialaxis": {
            "gridcolor": "white",
            "linecolor": "white",
            "ticks": ""
           }
          },
          "scene": {
           "xaxis": {
            "backgroundcolor": "#E5ECF6",
            "gridcolor": "white",
            "gridwidth": 2,
            "linecolor": "white",
            "showbackground": true,
            "ticks": "",
            "zerolinecolor": "white"
           },
           "yaxis": {
            "backgroundcolor": "#E5ECF6",
            "gridcolor": "white",
            "gridwidth": 2,
            "linecolor": "white",
            "showbackground": true,
            "ticks": "",
            "zerolinecolor": "white"
           },
           "zaxis": {
            "backgroundcolor": "#E5ECF6",
            "gridcolor": "white",
            "gridwidth": 2,
            "linecolor": "white",
            "showbackground": true,
            "ticks": "",
            "zerolinecolor": "white"
           }
          },
          "shapedefaults": {
           "line": {
            "color": "#2a3f5f"
           }
          },
          "ternary": {
           "aaxis": {
            "gridcolor": "white",
            "linecolor": "white",
            "ticks": ""
           },
           "baxis": {
            "gridcolor": "white",
            "linecolor": "white",
            "ticks": ""
           },
           "bgcolor": "#E5ECF6",
           "caxis": {
            "gridcolor": "white",
            "linecolor": "white",
            "ticks": ""
           }
          },
          "title": {
           "x": 0.05
          },
          "xaxis": {
           "automargin": true,
           "gridcolor": "white",
           "linecolor": "white",
           "ticks": "",
           "title": {
            "standoff": 15
           },
           "zerolinecolor": "white",
           "zerolinewidth": 2
          },
          "yaxis": {
           "automargin": true,
           "gridcolor": "white",
           "linecolor": "white",
           "ticks": "",
           "title": {
            "standoff": 15
           },
           "zerolinecolor": "white",
           "zerolinewidth": 2
          }
         }
        },
        "title": {
         "font": {
          "color": "#4D5663"
         }
        },
        "xaxis": {
         "gridcolor": "#E1E5ED",
         "showgrid": true,
         "tickfont": {
          "color": "#4D5663"
         },
         "title": {
          "font": {
           "color": "#4D5663"
          },
          "text": ""
         },
         "zerolinecolor": "#E1E5ED"
        },
        "yaxis": {
         "gridcolor": "#E1E5ED",
         "showgrid": true,
         "tickfont": {
          "color": "#4D5663"
         },
         "title": {
          "font": {
           "color": "#4D5663"
          },
          "text": ""
         },
         "zerolinecolor": "#E1E5ED"
        }
       }
      },
      "text/html": [
       "<div>                            <div id=\"04fe7e9f-7b45-42f1-80d2-505633f65095\" class=\"plotly-graph-div\" style=\"height:525px; width:100%;\"></div>            <script type=\"text/javascript\">                require([\"plotly\"], function(Plotly) {                    window.PLOTLYENV=window.PLOTLYENV || {};\n",
       "                    window.PLOTLYENV.BASE_URL='https://plot.ly';                                    if (document.getElementById(\"04fe7e9f-7b45-42f1-80d2-505633f65095\")) {                    Plotly.newPlot(                        \"04fe7e9f-7b45-42f1-80d2-505633f65095\",                        [{\"marker\":{\"color\":\"rgba(255, 153, 51, 0.6)\",\"line\":{\"color\":\"rgba(255, 153, 51, 1.0)\",\"width\":1}},\"name\":\"None\",\"orientation\":\"v\",\"text\":\"\",\"x\":[\"A\",\"B\",\"C\",\"D\"],\"y\":[100,100,100,100],\"type\":\"bar\"}],                        {\"legend\":{\"bgcolor\":\"#F5F6F9\",\"font\":{\"color\":\"#4D5663\"}},\"paper_bgcolor\":\"#F5F6F9\",\"plot_bgcolor\":\"#F5F6F9\",\"template\":{\"data\":{\"barpolar\":[{\"marker\":{\"line\":{\"color\":\"#E5ECF6\",\"width\":0.5},\"pattern\":{\"fillmode\":\"overlay\",\"size\":10,\"solidity\":0.2}},\"type\":\"barpolar\"}],\"bar\":[{\"error_x\":{\"color\":\"#2a3f5f\"},\"error_y\":{\"color\":\"#2a3f5f\"},\"marker\":{\"line\":{\"color\":\"#E5ECF6\",\"width\":0.5},\"pattern\":{\"fillmode\":\"overlay\",\"size\":10,\"solidity\":0.2}},\"type\":\"bar\"}],\"carpet\":[{\"aaxis\":{\"endlinecolor\":\"#2a3f5f\",\"gridcolor\":\"white\",\"linecolor\":\"white\",\"minorgridcolor\":\"white\",\"startlinecolor\":\"#2a3f5f\"},\"baxis\":{\"endlinecolor\":\"#2a3f5f\",\"gridcolor\":\"white\",\"linecolor\":\"white\",\"minorgridcolor\":\"white\",\"startlinecolor\":\"#2a3f5f\"},\"type\":\"carpet\"}],\"choropleth\":[{\"colorbar\":{\"outlinewidth\":0,\"ticks\":\"\"},\"type\":\"choropleth\"}],\"contourcarpet\":[{\"colorbar\":{\"outlinewidth\":0,\"ticks\":\"\"},\"type\":\"contourcarpet\"}],\"contour\":[{\"colorbar\":{\"outlinewidth\":0,\"ticks\":\"\"},\"colorscale\":[[0.0,\"#0d0887\"],[0.1111111111111111,\"#46039f\"],[0.2222222222222222,\"#7201a8\"],[0.3333333333333333,\"#9c179e\"],[0.4444444444444444,\"#bd3786\"],[0.5555555555555556,\"#d8576b\"],[0.6666666666666666,\"#ed7953\"],[0.7777777777777778,\"#fb9f3a\"],[0.8888888888888888,\"#fdca26\"],[1.0,\"#f0f921\"]],\"type\":\"contour\"}],\"heatmapgl\":[{\"colorbar\":{\"outlinewidth\":0,\"ticks\":\"\"},\"colorscale\":[[0.0,\"#0d0887\"],[0.1111111111111111,\"#46039f\"],[0.2222222222222222,\"#7201a8\"],[0.3333333333333333,\"#9c179e\"],[0.4444444444444444,\"#bd3786\"],[0.5555555555555556,\"#d8576b\"],[0.6666666666666666,\"#ed7953\"],[0.7777777777777778,\"#fb9f3a\"],[0.8888888888888888,\"#fdca26\"],[1.0,\"#f0f921\"]],\"type\":\"heatmapgl\"}],\"heatmap\":[{\"colorbar\":{\"outlinewidth\":0,\"ticks\":\"\"},\"colorscale\":[[0.0,\"#0d0887\"],[0.1111111111111111,\"#46039f\"],[0.2222222222222222,\"#7201a8\"],[0.3333333333333333,\"#9c179e\"],[0.4444444444444444,\"#bd3786\"],[0.5555555555555556,\"#d8576b\"],[0.6666666666666666,\"#ed7953\"],[0.7777777777777778,\"#fb9f3a\"],[0.8888888888888888,\"#fdca26\"],[1.0,\"#f0f921\"]],\"type\":\"heatmap\"}],\"histogram2dcontour\":[{\"colorbar\":{\"outlinewidth\":0,\"ticks\":\"\"},\"colorscale\":[[0.0,\"#0d0887\"],[0.1111111111111111,\"#46039f\"],[0.2222222222222222,\"#7201a8\"],[0.3333333333333333,\"#9c179e\"],[0.4444444444444444,\"#bd3786\"],[0.5555555555555556,\"#d8576b\"],[0.6666666666666666,\"#ed7953\"],[0.7777777777777778,\"#fb9f3a\"],[0.8888888888888888,\"#fdca26\"],[1.0,\"#f0f921\"]],\"type\":\"histogram2dcontour\"}],\"histogram2d\":[{\"colorbar\":{\"outlinewidth\":0,\"ticks\":\"\"},\"colorscale\":[[0.0,\"#0d0887\"],[0.1111111111111111,\"#46039f\"],[0.2222222222222222,\"#7201a8\"],[0.3333333333333333,\"#9c179e\"],[0.4444444444444444,\"#bd3786\"],[0.5555555555555556,\"#d8576b\"],[0.6666666666666666,\"#ed7953\"],[0.7777777777777778,\"#fb9f3a\"],[0.8888888888888888,\"#fdca26\"],[1.0,\"#f0f921\"]],\"type\":\"histogram2d\"}],\"histogram\":[{\"marker\":{\"pattern\":{\"fillmode\":\"overlay\",\"size\":10,\"solidity\":0.2}},\"type\":\"histogram\"}],\"mesh3d\":[{\"colorbar\":{\"outlinewidth\":0,\"ticks\":\"\"},\"type\":\"mesh3d\"}],\"parcoords\":[{\"line\":{\"colorbar\":{\"outlinewidth\":0,\"ticks\":\"\"}},\"type\":\"parcoords\"}],\"pie\":[{\"automargin\":true,\"type\":\"pie\"}],\"scatter3d\":[{\"line\":{\"colorbar\":{\"outlinewidth\":0,\"ticks\":\"\"}},\"marker\":{\"colorbar\":{\"outlinewidth\":0,\"ticks\":\"\"}},\"type\":\"scatter3d\"}],\"scattercarpet\":[{\"marker\":{\"colorbar\":{\"outlinewidth\":0,\"ticks\":\"\"}},\"type\":\"scattercarpet\"}],\"scattergeo\":[{\"marker\":{\"colorbar\":{\"outlinewidth\":0,\"ticks\":\"\"}},\"type\":\"scattergeo\"}],\"scattergl\":[{\"marker\":{\"colorbar\":{\"outlinewidth\":0,\"ticks\":\"\"}},\"type\":\"scattergl\"}],\"scattermapbox\":[{\"marker\":{\"colorbar\":{\"outlinewidth\":0,\"ticks\":\"\"}},\"type\":\"scattermapbox\"}],\"scatterpolargl\":[{\"marker\":{\"colorbar\":{\"outlinewidth\":0,\"ticks\":\"\"}},\"type\":\"scatterpolargl\"}],\"scatterpolar\":[{\"marker\":{\"colorbar\":{\"outlinewidth\":0,\"ticks\":\"\"}},\"type\":\"scatterpolar\"}],\"scatter\":[{\"marker\":{\"colorbar\":{\"outlinewidth\":0,\"ticks\":\"\"}},\"type\":\"scatter\"}],\"scatterternary\":[{\"marker\":{\"colorbar\":{\"outlinewidth\":0,\"ticks\":\"\"}},\"type\":\"scatterternary\"}],\"surface\":[{\"colorbar\":{\"outlinewidth\":0,\"ticks\":\"\"},\"colorscale\":[[0.0,\"#0d0887\"],[0.1111111111111111,\"#46039f\"],[0.2222222222222222,\"#7201a8\"],[0.3333333333333333,\"#9c179e\"],[0.4444444444444444,\"#bd3786\"],[0.5555555555555556,\"#d8576b\"],[0.6666666666666666,\"#ed7953\"],[0.7777777777777778,\"#fb9f3a\"],[0.8888888888888888,\"#fdca26\"],[1.0,\"#f0f921\"]],\"type\":\"surface\"}],\"table\":[{\"cells\":{\"fill\":{\"color\":\"#EBF0F8\"},\"line\":{\"color\":\"white\"}},\"header\":{\"fill\":{\"color\":\"#C8D4E3\"},\"line\":{\"color\":\"white\"}},\"type\":\"table\"}]},\"layout\":{\"annotationdefaults\":{\"arrowcolor\":\"#2a3f5f\",\"arrowhead\":0,\"arrowwidth\":1},\"autotypenumbers\":\"strict\",\"coloraxis\":{\"colorbar\":{\"outlinewidth\":0,\"ticks\":\"\"}},\"colorscale\":{\"diverging\":[[0,\"#8e0152\"],[0.1,\"#c51b7d\"],[0.2,\"#de77ae\"],[0.3,\"#f1b6da\"],[0.4,\"#fde0ef\"],[0.5,\"#f7f7f7\"],[0.6,\"#e6f5d0\"],[0.7,\"#b8e186\"],[0.8,\"#7fbc41\"],[0.9,\"#4d9221\"],[1,\"#276419\"]],\"sequential\":[[0.0,\"#0d0887\"],[0.1111111111111111,\"#46039f\"],[0.2222222222222222,\"#7201a8\"],[0.3333333333333333,\"#9c179e\"],[0.4444444444444444,\"#bd3786\"],[0.5555555555555556,\"#d8576b\"],[0.6666666666666666,\"#ed7953\"],[0.7777777777777778,\"#fb9f3a\"],[0.8888888888888888,\"#fdca26\"],[1.0,\"#f0f921\"]],\"sequentialminus\":[[0.0,\"#0d0887\"],[0.1111111111111111,\"#46039f\"],[0.2222222222222222,\"#7201a8\"],[0.3333333333333333,\"#9c179e\"],[0.4444444444444444,\"#bd3786\"],[0.5555555555555556,\"#d8576b\"],[0.6666666666666666,\"#ed7953\"],[0.7777777777777778,\"#fb9f3a\"],[0.8888888888888888,\"#fdca26\"],[1.0,\"#f0f921\"]]},\"colorway\":[\"#636efa\",\"#EF553B\",\"#00cc96\",\"#ab63fa\",\"#FFA15A\",\"#19d3f3\",\"#FF6692\",\"#B6E880\",\"#FF97FF\",\"#FECB52\"],\"font\":{\"color\":\"#2a3f5f\"},\"geo\":{\"bgcolor\":\"white\",\"lakecolor\":\"white\",\"landcolor\":\"#E5ECF6\",\"showlakes\":true,\"showland\":true,\"subunitcolor\":\"white\"},\"hoverlabel\":{\"align\":\"left\"},\"hovermode\":\"closest\",\"mapbox\":{\"style\":\"light\"},\"paper_bgcolor\":\"white\",\"plot_bgcolor\":\"#E5ECF6\",\"polar\":{\"angularaxis\":{\"gridcolor\":\"white\",\"linecolor\":\"white\",\"ticks\":\"\"},\"bgcolor\":\"#E5ECF6\",\"radialaxis\":{\"gridcolor\":\"white\",\"linecolor\":\"white\",\"ticks\":\"\"}},\"scene\":{\"xaxis\":{\"backgroundcolor\":\"#E5ECF6\",\"gridcolor\":\"white\",\"gridwidth\":2,\"linecolor\":\"white\",\"showbackground\":true,\"ticks\":\"\",\"zerolinecolor\":\"white\"},\"yaxis\":{\"backgroundcolor\":\"#E5ECF6\",\"gridcolor\":\"white\",\"gridwidth\":2,\"linecolor\":\"white\",\"showbackground\":true,\"ticks\":\"\",\"zerolinecolor\":\"white\"},\"zaxis\":{\"backgroundcolor\":\"#E5ECF6\",\"gridcolor\":\"white\",\"gridwidth\":2,\"linecolor\":\"white\",\"showbackground\":true,\"ticks\":\"\",\"zerolinecolor\":\"white\"}},\"shapedefaults\":{\"line\":{\"color\":\"#2a3f5f\"}},\"ternary\":{\"aaxis\":{\"gridcolor\":\"white\",\"linecolor\":\"white\",\"ticks\":\"\"},\"baxis\":{\"gridcolor\":\"white\",\"linecolor\":\"white\",\"ticks\":\"\"},\"bgcolor\":\"#E5ECF6\",\"caxis\":{\"gridcolor\":\"white\",\"linecolor\":\"white\",\"ticks\":\"\"}},\"title\":{\"x\":0.05},\"xaxis\":{\"automargin\":true,\"gridcolor\":\"white\",\"linecolor\":\"white\",\"ticks\":\"\",\"title\":{\"standoff\":15},\"zerolinecolor\":\"white\",\"zerolinewidth\":2},\"yaxis\":{\"automargin\":true,\"gridcolor\":\"white\",\"linecolor\":\"white\",\"ticks\":\"\",\"title\":{\"standoff\":15},\"zerolinecolor\":\"white\",\"zerolinewidth\":2}}},\"title\":{\"font\":{\"color\":\"#4D5663\"}},\"xaxis\":{\"gridcolor\":\"#E1E5ED\",\"showgrid\":true,\"tickfont\":{\"color\":\"#4D5663\"},\"title\":{\"font\":{\"color\":\"#4D5663\"},\"text\":\"\"},\"zerolinecolor\":\"#E1E5ED\"},\"yaxis\":{\"gridcolor\":\"#E1E5ED\",\"showgrid\":true,\"tickfont\":{\"color\":\"#4D5663\"},\"title\":{\"font\":{\"color\":\"#4D5663\"},\"text\":\"\"},\"zerolinecolor\":\"#E1E5ED\"}},                        {\"showLink\": true, \"linkText\": \"Export to plot.ly\", \"plotlyServerURL\": \"https://plot.ly\", \"responsive\": true}                    ).then(function(){\n",
       "                            \n",
       "var gd = document.getElementById('04fe7e9f-7b45-42f1-80d2-505633f65095');\n",
       "var x = new MutationObserver(function (mutations, observer) {{\n",
       "        var display = window.getComputedStyle(gd).display;\n",
       "        if (!display || display === 'none') {{\n",
       "            console.log([gd, 'removed!']);\n",
       "            Plotly.purge(gd);\n",
       "            observer.disconnect();\n",
       "        }}\n",
       "}});\n",
       "\n",
       "// Listen for the removal of the full notebook cells\n",
       "var notebookContainer = gd.closest('#notebook-container');\n",
       "if (notebookContainer) {{\n",
       "    x.observe(notebookContainer, {childList: true});\n",
       "}}\n",
       "\n",
       "// Listen for the clearing of the current output cell\n",
       "var outputEl = gd.closest('.output');\n",
       "if (outputEl) {{\n",
       "    x.observe(outputEl, {childList: true});\n",
       "}}\n",
       "\n",
       "                        })                };                });            </script>        </div>"
      ]
     },
     "metadata": {},
     "output_type": "display_data"
    }
   ],
   "source": [
    "df1.count().iplot(kind=\"bar\")"
   ]
  },
  {
   "cell_type": "code",
   "execution_count": 29,
   "id": "deb80986",
   "metadata": {},
   "outputs": [
    {
     "data": {
      "application/vnd.plotly.v1+json": {
       "config": {
        "linkText": "Export to plot.ly",
        "plotlyServerURL": "https://plot.ly",
        "showLink": true
       },
       "data": [
        {
         "marker": {
          "color": "rgba(255, 153, 51, 0.6)",
          "line": {
           "color": "rgba(255, 153, 51, 1.0)",
           "width": 1
          }
         },
         "name": "None",
         "orientation": "v",
         "text": "",
         "type": "bar",
         "x": [
          "A",
          "B",
          "C",
          "D"
         ],
         "y": [
          5.6718770428493865,
          -9.460009454339716,
          2.5822783894832377,
          -9.722424964381915
         ]
        }
       ],
       "layout": {
        "legend": {
         "bgcolor": "#F5F6F9",
         "font": {
          "color": "#4D5663"
         }
        },
        "paper_bgcolor": "#F5F6F9",
        "plot_bgcolor": "#F5F6F9",
        "template": {
         "data": {
          "bar": [
           {
            "error_x": {
             "color": "#2a3f5f"
            },
            "error_y": {
             "color": "#2a3f5f"
            },
            "marker": {
             "line": {
              "color": "#E5ECF6",
              "width": 0.5
             },
             "pattern": {
              "fillmode": "overlay",
              "size": 10,
              "solidity": 0.2
             }
            },
            "type": "bar"
           }
          ],
          "barpolar": [
           {
            "marker": {
             "line": {
              "color": "#E5ECF6",
              "width": 0.5
             },
             "pattern": {
              "fillmode": "overlay",
              "size": 10,
              "solidity": 0.2
             }
            },
            "type": "barpolar"
           }
          ],
          "carpet": [
           {
            "aaxis": {
             "endlinecolor": "#2a3f5f",
             "gridcolor": "white",
             "linecolor": "white",
             "minorgridcolor": "white",
             "startlinecolor": "#2a3f5f"
            },
            "baxis": {
             "endlinecolor": "#2a3f5f",
             "gridcolor": "white",
             "linecolor": "white",
             "minorgridcolor": "white",
             "startlinecolor": "#2a3f5f"
            },
            "type": "carpet"
           }
          ],
          "choropleth": [
           {
            "colorbar": {
             "outlinewidth": 0,
             "ticks": ""
            },
            "type": "choropleth"
           }
          ],
          "contour": [
           {
            "colorbar": {
             "outlinewidth": 0,
             "ticks": ""
            },
            "colorscale": [
             [
              0,
              "#0d0887"
             ],
             [
              0.1111111111111111,
              "#46039f"
             ],
             [
              0.2222222222222222,
              "#7201a8"
             ],
             [
              0.3333333333333333,
              "#9c179e"
             ],
             [
              0.4444444444444444,
              "#bd3786"
             ],
             [
              0.5555555555555556,
              "#d8576b"
             ],
             [
              0.6666666666666666,
              "#ed7953"
             ],
             [
              0.7777777777777778,
              "#fb9f3a"
             ],
             [
              0.8888888888888888,
              "#fdca26"
             ],
             [
              1,
              "#f0f921"
             ]
            ],
            "type": "contour"
           }
          ],
          "contourcarpet": [
           {
            "colorbar": {
             "outlinewidth": 0,
             "ticks": ""
            },
            "type": "contourcarpet"
           }
          ],
          "heatmap": [
           {
            "colorbar": {
             "outlinewidth": 0,
             "ticks": ""
            },
            "colorscale": [
             [
              0,
              "#0d0887"
             ],
             [
              0.1111111111111111,
              "#46039f"
             ],
             [
              0.2222222222222222,
              "#7201a8"
             ],
             [
              0.3333333333333333,
              "#9c179e"
             ],
             [
              0.4444444444444444,
              "#bd3786"
             ],
             [
              0.5555555555555556,
              "#d8576b"
             ],
             [
              0.6666666666666666,
              "#ed7953"
             ],
             [
              0.7777777777777778,
              "#fb9f3a"
             ],
             [
              0.8888888888888888,
              "#fdca26"
             ],
             [
              1,
              "#f0f921"
             ]
            ],
            "type": "heatmap"
           }
          ],
          "heatmapgl": [
           {
            "colorbar": {
             "outlinewidth": 0,
             "ticks": ""
            },
            "colorscale": [
             [
              0,
              "#0d0887"
             ],
             [
              0.1111111111111111,
              "#46039f"
             ],
             [
              0.2222222222222222,
              "#7201a8"
             ],
             [
              0.3333333333333333,
              "#9c179e"
             ],
             [
              0.4444444444444444,
              "#bd3786"
             ],
             [
              0.5555555555555556,
              "#d8576b"
             ],
             [
              0.6666666666666666,
              "#ed7953"
             ],
             [
              0.7777777777777778,
              "#fb9f3a"
             ],
             [
              0.8888888888888888,
              "#fdca26"
             ],
             [
              1,
              "#f0f921"
             ]
            ],
            "type": "heatmapgl"
           }
          ],
          "histogram": [
           {
            "marker": {
             "pattern": {
              "fillmode": "overlay",
              "size": 10,
              "solidity": 0.2
             }
            },
            "type": "histogram"
           }
          ],
          "histogram2d": [
           {
            "colorbar": {
             "outlinewidth": 0,
             "ticks": ""
            },
            "colorscale": [
             [
              0,
              "#0d0887"
             ],
             [
              0.1111111111111111,
              "#46039f"
             ],
             [
              0.2222222222222222,
              "#7201a8"
             ],
             [
              0.3333333333333333,
              "#9c179e"
             ],
             [
              0.4444444444444444,
              "#bd3786"
             ],
             [
              0.5555555555555556,
              "#d8576b"
             ],
             [
              0.6666666666666666,
              "#ed7953"
             ],
             [
              0.7777777777777778,
              "#fb9f3a"
             ],
             [
              0.8888888888888888,
              "#fdca26"
             ],
             [
              1,
              "#f0f921"
             ]
            ],
            "type": "histogram2d"
           }
          ],
          "histogram2dcontour": [
           {
            "colorbar": {
             "outlinewidth": 0,
             "ticks": ""
            },
            "colorscale": [
             [
              0,
              "#0d0887"
             ],
             [
              0.1111111111111111,
              "#46039f"
             ],
             [
              0.2222222222222222,
              "#7201a8"
             ],
             [
              0.3333333333333333,
              "#9c179e"
             ],
             [
              0.4444444444444444,
              "#bd3786"
             ],
             [
              0.5555555555555556,
              "#d8576b"
             ],
             [
              0.6666666666666666,
              "#ed7953"
             ],
             [
              0.7777777777777778,
              "#fb9f3a"
             ],
             [
              0.8888888888888888,
              "#fdca26"
             ],
             [
              1,
              "#f0f921"
             ]
            ],
            "type": "histogram2dcontour"
           }
          ],
          "mesh3d": [
           {
            "colorbar": {
             "outlinewidth": 0,
             "ticks": ""
            },
            "type": "mesh3d"
           }
          ],
          "parcoords": [
           {
            "line": {
             "colorbar": {
              "outlinewidth": 0,
              "ticks": ""
             }
            },
            "type": "parcoords"
           }
          ],
          "pie": [
           {
            "automargin": true,
            "type": "pie"
           }
          ],
          "scatter": [
           {
            "marker": {
             "colorbar": {
              "outlinewidth": 0,
              "ticks": ""
             }
            },
            "type": "scatter"
           }
          ],
          "scatter3d": [
           {
            "line": {
             "colorbar": {
              "outlinewidth": 0,
              "ticks": ""
             }
            },
            "marker": {
             "colorbar": {
              "outlinewidth": 0,
              "ticks": ""
             }
            },
            "type": "scatter3d"
           }
          ],
          "scattercarpet": [
           {
            "marker": {
             "colorbar": {
              "outlinewidth": 0,
              "ticks": ""
             }
            },
            "type": "scattercarpet"
           }
          ],
          "scattergeo": [
           {
            "marker": {
             "colorbar": {
              "outlinewidth": 0,
              "ticks": ""
             }
            },
            "type": "scattergeo"
           }
          ],
          "scattergl": [
           {
            "marker": {
             "colorbar": {
              "outlinewidth": 0,
              "ticks": ""
             }
            },
            "type": "scattergl"
           }
          ],
          "scattermapbox": [
           {
            "marker": {
             "colorbar": {
              "outlinewidth": 0,
              "ticks": ""
             }
            },
            "type": "scattermapbox"
           }
          ],
          "scatterpolar": [
           {
            "marker": {
             "colorbar": {
              "outlinewidth": 0,
              "ticks": ""
             }
            },
            "type": "scatterpolar"
           }
          ],
          "scatterpolargl": [
           {
            "marker": {
             "colorbar": {
              "outlinewidth": 0,
              "ticks": ""
             }
            },
            "type": "scatterpolargl"
           }
          ],
          "scatterternary": [
           {
            "marker": {
             "colorbar": {
              "outlinewidth": 0,
              "ticks": ""
             }
            },
            "type": "scatterternary"
           }
          ],
          "surface": [
           {
            "colorbar": {
             "outlinewidth": 0,
             "ticks": ""
            },
            "colorscale": [
             [
              0,
              "#0d0887"
             ],
             [
              0.1111111111111111,
              "#46039f"
             ],
             [
              0.2222222222222222,
              "#7201a8"
             ],
             [
              0.3333333333333333,
              "#9c179e"
             ],
             [
              0.4444444444444444,
              "#bd3786"
             ],
             [
              0.5555555555555556,
              "#d8576b"
             ],
             [
              0.6666666666666666,
              "#ed7953"
             ],
             [
              0.7777777777777778,
              "#fb9f3a"
             ],
             [
              0.8888888888888888,
              "#fdca26"
             ],
             [
              1,
              "#f0f921"
             ]
            ],
            "type": "surface"
           }
          ],
          "table": [
           {
            "cells": {
             "fill": {
              "color": "#EBF0F8"
             },
             "line": {
              "color": "white"
             }
            },
            "header": {
             "fill": {
              "color": "#C8D4E3"
             },
             "line": {
              "color": "white"
             }
            },
            "type": "table"
           }
          ]
         },
         "layout": {
          "annotationdefaults": {
           "arrowcolor": "#2a3f5f",
           "arrowhead": 0,
           "arrowwidth": 1
          },
          "autotypenumbers": "strict",
          "coloraxis": {
           "colorbar": {
            "outlinewidth": 0,
            "ticks": ""
           }
          },
          "colorscale": {
           "diverging": [
            [
             0,
             "#8e0152"
            ],
            [
             0.1,
             "#c51b7d"
            ],
            [
             0.2,
             "#de77ae"
            ],
            [
             0.3,
             "#f1b6da"
            ],
            [
             0.4,
             "#fde0ef"
            ],
            [
             0.5,
             "#f7f7f7"
            ],
            [
             0.6,
             "#e6f5d0"
            ],
            [
             0.7,
             "#b8e186"
            ],
            [
             0.8,
             "#7fbc41"
            ],
            [
             0.9,
             "#4d9221"
            ],
            [
             1,
             "#276419"
            ]
           ],
           "sequential": [
            [
             0,
             "#0d0887"
            ],
            [
             0.1111111111111111,
             "#46039f"
            ],
            [
             0.2222222222222222,
             "#7201a8"
            ],
            [
             0.3333333333333333,
             "#9c179e"
            ],
            [
             0.4444444444444444,
             "#bd3786"
            ],
            [
             0.5555555555555556,
             "#d8576b"
            ],
            [
             0.6666666666666666,
             "#ed7953"
            ],
            [
             0.7777777777777778,
             "#fb9f3a"
            ],
            [
             0.8888888888888888,
             "#fdca26"
            ],
            [
             1,
             "#f0f921"
            ]
           ],
           "sequentialminus": [
            [
             0,
             "#0d0887"
            ],
            [
             0.1111111111111111,
             "#46039f"
            ],
            [
             0.2222222222222222,
             "#7201a8"
            ],
            [
             0.3333333333333333,
             "#9c179e"
            ],
            [
             0.4444444444444444,
             "#bd3786"
            ],
            [
             0.5555555555555556,
             "#d8576b"
            ],
            [
             0.6666666666666666,
             "#ed7953"
            ],
            [
             0.7777777777777778,
             "#fb9f3a"
            ],
            [
             0.8888888888888888,
             "#fdca26"
            ],
            [
             1,
             "#f0f921"
            ]
           ]
          },
          "colorway": [
           "#636efa",
           "#EF553B",
           "#00cc96",
           "#ab63fa",
           "#FFA15A",
           "#19d3f3",
           "#FF6692",
           "#B6E880",
           "#FF97FF",
           "#FECB52"
          ],
          "font": {
           "color": "#2a3f5f"
          },
          "geo": {
           "bgcolor": "white",
           "lakecolor": "white",
           "landcolor": "#E5ECF6",
           "showlakes": true,
           "showland": true,
           "subunitcolor": "white"
          },
          "hoverlabel": {
           "align": "left"
          },
          "hovermode": "closest",
          "mapbox": {
           "style": "light"
          },
          "paper_bgcolor": "white",
          "plot_bgcolor": "#E5ECF6",
          "polar": {
           "angularaxis": {
            "gridcolor": "white",
            "linecolor": "white",
            "ticks": ""
           },
           "bgcolor": "#E5ECF6",
           "radialaxis": {
            "gridcolor": "white",
            "linecolor": "white",
            "ticks": ""
           }
          },
          "scene": {
           "xaxis": {
            "backgroundcolor": "#E5ECF6",
            "gridcolor": "white",
            "gridwidth": 2,
            "linecolor": "white",
            "showbackground": true,
            "ticks": "",
            "zerolinecolor": "white"
           },
           "yaxis": {
            "backgroundcolor": "#E5ECF6",
            "gridcolor": "white",
            "gridwidth": 2,
            "linecolor": "white",
            "showbackground": true,
            "ticks": "",
            "zerolinecolor": "white"
           },
           "zaxis": {
            "backgroundcolor": "#E5ECF6",
            "gridcolor": "white",
            "gridwidth": 2,
            "linecolor": "white",
            "showbackground": true,
            "ticks": "",
            "zerolinecolor": "white"
           }
          },
          "shapedefaults": {
           "line": {
            "color": "#2a3f5f"
           }
          },
          "ternary": {
           "aaxis": {
            "gridcolor": "white",
            "linecolor": "white",
            "ticks": ""
           },
           "baxis": {
            "gridcolor": "white",
            "linecolor": "white",
            "ticks": ""
           },
           "bgcolor": "#E5ECF6",
           "caxis": {
            "gridcolor": "white",
            "linecolor": "white",
            "ticks": ""
           }
          },
          "title": {
           "x": 0.05
          },
          "xaxis": {
           "automargin": true,
           "gridcolor": "white",
           "linecolor": "white",
           "ticks": "",
           "title": {
            "standoff": 15
           },
           "zerolinecolor": "white",
           "zerolinewidth": 2
          },
          "yaxis": {
           "automargin": true,
           "gridcolor": "white",
           "linecolor": "white",
           "ticks": "",
           "title": {
            "standoff": 15
           },
           "zerolinecolor": "white",
           "zerolinewidth": 2
          }
         }
        },
        "title": {
         "font": {
          "color": "#4D5663"
         }
        },
        "xaxis": {
         "gridcolor": "#E1E5ED",
         "showgrid": true,
         "tickfont": {
          "color": "#4D5663"
         },
         "title": {
          "font": {
           "color": "#4D5663"
          },
          "text": ""
         },
         "zerolinecolor": "#E1E5ED"
        },
        "yaxis": {
         "gridcolor": "#E1E5ED",
         "showgrid": true,
         "tickfont": {
          "color": "#4D5663"
         },
         "title": {
          "font": {
           "color": "#4D5663"
          },
          "text": ""
         },
         "zerolinecolor": "#E1E5ED"
        }
       }
      },
      "text/html": [
       "<div>                            <div id=\"c300485d-2148-4520-a662-90e41f4350cb\" class=\"plotly-graph-div\" style=\"height:525px; width:100%;\"></div>            <script type=\"text/javascript\">                require([\"plotly\"], function(Plotly) {                    window.PLOTLYENV=window.PLOTLYENV || {};\n",
       "                    window.PLOTLYENV.BASE_URL='https://plot.ly';                                    if (document.getElementById(\"c300485d-2148-4520-a662-90e41f4350cb\")) {                    Plotly.newPlot(                        \"c300485d-2148-4520-a662-90e41f4350cb\",                        [{\"marker\":{\"color\":\"rgba(255, 153, 51, 0.6)\",\"line\":{\"color\":\"rgba(255, 153, 51, 1.0)\",\"width\":1}},\"name\":\"None\",\"orientation\":\"v\",\"text\":\"\",\"x\":[\"A\",\"B\",\"C\",\"D\"],\"y\":[5.6718770428493865,-9.460009454339716,2.5822783894832377,-9.722424964381915],\"type\":\"bar\"}],                        {\"legend\":{\"bgcolor\":\"#F5F6F9\",\"font\":{\"color\":\"#4D5663\"}},\"paper_bgcolor\":\"#F5F6F9\",\"plot_bgcolor\":\"#F5F6F9\",\"template\":{\"data\":{\"barpolar\":[{\"marker\":{\"line\":{\"color\":\"#E5ECF6\",\"width\":0.5},\"pattern\":{\"fillmode\":\"overlay\",\"size\":10,\"solidity\":0.2}},\"type\":\"barpolar\"}],\"bar\":[{\"error_x\":{\"color\":\"#2a3f5f\"},\"error_y\":{\"color\":\"#2a3f5f\"},\"marker\":{\"line\":{\"color\":\"#E5ECF6\",\"width\":0.5},\"pattern\":{\"fillmode\":\"overlay\",\"size\":10,\"solidity\":0.2}},\"type\":\"bar\"}],\"carpet\":[{\"aaxis\":{\"endlinecolor\":\"#2a3f5f\",\"gridcolor\":\"white\",\"linecolor\":\"white\",\"minorgridcolor\":\"white\",\"startlinecolor\":\"#2a3f5f\"},\"baxis\":{\"endlinecolor\":\"#2a3f5f\",\"gridcolor\":\"white\",\"linecolor\":\"white\",\"minorgridcolor\":\"white\",\"startlinecolor\":\"#2a3f5f\"},\"type\":\"carpet\"}],\"choropleth\":[{\"colorbar\":{\"outlinewidth\":0,\"ticks\":\"\"},\"type\":\"choropleth\"}],\"contourcarpet\":[{\"colorbar\":{\"outlinewidth\":0,\"ticks\":\"\"},\"type\":\"contourcarpet\"}],\"contour\":[{\"colorbar\":{\"outlinewidth\":0,\"ticks\":\"\"},\"colorscale\":[[0.0,\"#0d0887\"],[0.1111111111111111,\"#46039f\"],[0.2222222222222222,\"#7201a8\"],[0.3333333333333333,\"#9c179e\"],[0.4444444444444444,\"#bd3786\"],[0.5555555555555556,\"#d8576b\"],[0.6666666666666666,\"#ed7953\"],[0.7777777777777778,\"#fb9f3a\"],[0.8888888888888888,\"#fdca26\"],[1.0,\"#f0f921\"]],\"type\":\"contour\"}],\"heatmapgl\":[{\"colorbar\":{\"outlinewidth\":0,\"ticks\":\"\"},\"colorscale\":[[0.0,\"#0d0887\"],[0.1111111111111111,\"#46039f\"],[0.2222222222222222,\"#7201a8\"],[0.3333333333333333,\"#9c179e\"],[0.4444444444444444,\"#bd3786\"],[0.5555555555555556,\"#d8576b\"],[0.6666666666666666,\"#ed7953\"],[0.7777777777777778,\"#fb9f3a\"],[0.8888888888888888,\"#fdca26\"],[1.0,\"#f0f921\"]],\"type\":\"heatmapgl\"}],\"heatmap\":[{\"colorbar\":{\"outlinewidth\":0,\"ticks\":\"\"},\"colorscale\":[[0.0,\"#0d0887\"],[0.1111111111111111,\"#46039f\"],[0.2222222222222222,\"#7201a8\"],[0.3333333333333333,\"#9c179e\"],[0.4444444444444444,\"#bd3786\"],[0.5555555555555556,\"#d8576b\"],[0.6666666666666666,\"#ed7953\"],[0.7777777777777778,\"#fb9f3a\"],[0.8888888888888888,\"#fdca26\"],[1.0,\"#f0f921\"]],\"type\":\"heatmap\"}],\"histogram2dcontour\":[{\"colorbar\":{\"outlinewidth\":0,\"ticks\":\"\"},\"colorscale\":[[0.0,\"#0d0887\"],[0.1111111111111111,\"#46039f\"],[0.2222222222222222,\"#7201a8\"],[0.3333333333333333,\"#9c179e\"],[0.4444444444444444,\"#bd3786\"],[0.5555555555555556,\"#d8576b\"],[0.6666666666666666,\"#ed7953\"],[0.7777777777777778,\"#fb9f3a\"],[0.8888888888888888,\"#fdca26\"],[1.0,\"#f0f921\"]],\"type\":\"histogram2dcontour\"}],\"histogram2d\":[{\"colorbar\":{\"outlinewidth\":0,\"ticks\":\"\"},\"colorscale\":[[0.0,\"#0d0887\"],[0.1111111111111111,\"#46039f\"],[0.2222222222222222,\"#7201a8\"],[0.3333333333333333,\"#9c179e\"],[0.4444444444444444,\"#bd3786\"],[0.5555555555555556,\"#d8576b\"],[0.6666666666666666,\"#ed7953\"],[0.7777777777777778,\"#fb9f3a\"],[0.8888888888888888,\"#fdca26\"],[1.0,\"#f0f921\"]],\"type\":\"histogram2d\"}],\"histogram\":[{\"marker\":{\"pattern\":{\"fillmode\":\"overlay\",\"size\":10,\"solidity\":0.2}},\"type\":\"histogram\"}],\"mesh3d\":[{\"colorbar\":{\"outlinewidth\":0,\"ticks\":\"\"},\"type\":\"mesh3d\"}],\"parcoords\":[{\"line\":{\"colorbar\":{\"outlinewidth\":0,\"ticks\":\"\"}},\"type\":\"parcoords\"}],\"pie\":[{\"automargin\":true,\"type\":\"pie\"}],\"scatter3d\":[{\"line\":{\"colorbar\":{\"outlinewidth\":0,\"ticks\":\"\"}},\"marker\":{\"colorbar\":{\"outlinewidth\":0,\"ticks\":\"\"}},\"type\":\"scatter3d\"}],\"scattercarpet\":[{\"marker\":{\"colorbar\":{\"outlinewidth\":0,\"ticks\":\"\"}},\"type\":\"scattercarpet\"}],\"scattergeo\":[{\"marker\":{\"colorbar\":{\"outlinewidth\":0,\"ticks\":\"\"}},\"type\":\"scattergeo\"}],\"scattergl\":[{\"marker\":{\"colorbar\":{\"outlinewidth\":0,\"ticks\":\"\"}},\"type\":\"scattergl\"}],\"scattermapbox\":[{\"marker\":{\"colorbar\":{\"outlinewidth\":0,\"ticks\":\"\"}},\"type\":\"scattermapbox\"}],\"scatterpolargl\":[{\"marker\":{\"colorbar\":{\"outlinewidth\":0,\"ticks\":\"\"}},\"type\":\"scatterpolargl\"}],\"scatterpolar\":[{\"marker\":{\"colorbar\":{\"outlinewidth\":0,\"ticks\":\"\"}},\"type\":\"scatterpolar\"}],\"scatter\":[{\"marker\":{\"colorbar\":{\"outlinewidth\":0,\"ticks\":\"\"}},\"type\":\"scatter\"}],\"scatterternary\":[{\"marker\":{\"colorbar\":{\"outlinewidth\":0,\"ticks\":\"\"}},\"type\":\"scatterternary\"}],\"surface\":[{\"colorbar\":{\"outlinewidth\":0,\"ticks\":\"\"},\"colorscale\":[[0.0,\"#0d0887\"],[0.1111111111111111,\"#46039f\"],[0.2222222222222222,\"#7201a8\"],[0.3333333333333333,\"#9c179e\"],[0.4444444444444444,\"#bd3786\"],[0.5555555555555556,\"#d8576b\"],[0.6666666666666666,\"#ed7953\"],[0.7777777777777778,\"#fb9f3a\"],[0.8888888888888888,\"#fdca26\"],[1.0,\"#f0f921\"]],\"type\":\"surface\"}],\"table\":[{\"cells\":{\"fill\":{\"color\":\"#EBF0F8\"},\"line\":{\"color\":\"white\"}},\"header\":{\"fill\":{\"color\":\"#C8D4E3\"},\"line\":{\"color\":\"white\"}},\"type\":\"table\"}]},\"layout\":{\"annotationdefaults\":{\"arrowcolor\":\"#2a3f5f\",\"arrowhead\":0,\"arrowwidth\":1},\"autotypenumbers\":\"strict\",\"coloraxis\":{\"colorbar\":{\"outlinewidth\":0,\"ticks\":\"\"}},\"colorscale\":{\"diverging\":[[0,\"#8e0152\"],[0.1,\"#c51b7d\"],[0.2,\"#de77ae\"],[0.3,\"#f1b6da\"],[0.4,\"#fde0ef\"],[0.5,\"#f7f7f7\"],[0.6,\"#e6f5d0\"],[0.7,\"#b8e186\"],[0.8,\"#7fbc41\"],[0.9,\"#4d9221\"],[1,\"#276419\"]],\"sequential\":[[0.0,\"#0d0887\"],[0.1111111111111111,\"#46039f\"],[0.2222222222222222,\"#7201a8\"],[0.3333333333333333,\"#9c179e\"],[0.4444444444444444,\"#bd3786\"],[0.5555555555555556,\"#d8576b\"],[0.6666666666666666,\"#ed7953\"],[0.7777777777777778,\"#fb9f3a\"],[0.8888888888888888,\"#fdca26\"],[1.0,\"#f0f921\"]],\"sequentialminus\":[[0.0,\"#0d0887\"],[0.1111111111111111,\"#46039f\"],[0.2222222222222222,\"#7201a8\"],[0.3333333333333333,\"#9c179e\"],[0.4444444444444444,\"#bd3786\"],[0.5555555555555556,\"#d8576b\"],[0.6666666666666666,\"#ed7953\"],[0.7777777777777778,\"#fb9f3a\"],[0.8888888888888888,\"#fdca26\"],[1.0,\"#f0f921\"]]},\"colorway\":[\"#636efa\",\"#EF553B\",\"#00cc96\",\"#ab63fa\",\"#FFA15A\",\"#19d3f3\",\"#FF6692\",\"#B6E880\",\"#FF97FF\",\"#FECB52\"],\"font\":{\"color\":\"#2a3f5f\"},\"geo\":{\"bgcolor\":\"white\",\"lakecolor\":\"white\",\"landcolor\":\"#E5ECF6\",\"showlakes\":true,\"showland\":true,\"subunitcolor\":\"white\"},\"hoverlabel\":{\"align\":\"left\"},\"hovermode\":\"closest\",\"mapbox\":{\"style\":\"light\"},\"paper_bgcolor\":\"white\",\"plot_bgcolor\":\"#E5ECF6\",\"polar\":{\"angularaxis\":{\"gridcolor\":\"white\",\"linecolor\":\"white\",\"ticks\":\"\"},\"bgcolor\":\"#E5ECF6\",\"radialaxis\":{\"gridcolor\":\"white\",\"linecolor\":\"white\",\"ticks\":\"\"}},\"scene\":{\"xaxis\":{\"backgroundcolor\":\"#E5ECF6\",\"gridcolor\":\"white\",\"gridwidth\":2,\"linecolor\":\"white\",\"showbackground\":true,\"ticks\":\"\",\"zerolinecolor\":\"white\"},\"yaxis\":{\"backgroundcolor\":\"#E5ECF6\",\"gridcolor\":\"white\",\"gridwidth\":2,\"linecolor\":\"white\",\"showbackground\":true,\"ticks\":\"\",\"zerolinecolor\":\"white\"},\"zaxis\":{\"backgroundcolor\":\"#E5ECF6\",\"gridcolor\":\"white\",\"gridwidth\":2,\"linecolor\":\"white\",\"showbackground\":true,\"ticks\":\"\",\"zerolinecolor\":\"white\"}},\"shapedefaults\":{\"line\":{\"color\":\"#2a3f5f\"}},\"ternary\":{\"aaxis\":{\"gridcolor\":\"white\",\"linecolor\":\"white\",\"ticks\":\"\"},\"baxis\":{\"gridcolor\":\"white\",\"linecolor\":\"white\",\"ticks\":\"\"},\"bgcolor\":\"#E5ECF6\",\"caxis\":{\"gridcolor\":\"white\",\"linecolor\":\"white\",\"ticks\":\"\"}},\"title\":{\"x\":0.05},\"xaxis\":{\"automargin\":true,\"gridcolor\":\"white\",\"linecolor\":\"white\",\"ticks\":\"\",\"title\":{\"standoff\":15},\"zerolinecolor\":\"white\",\"zerolinewidth\":2},\"yaxis\":{\"automargin\":true,\"gridcolor\":\"white\",\"linecolor\":\"white\",\"ticks\":\"\",\"title\":{\"standoff\":15},\"zerolinecolor\":\"white\",\"zerolinewidth\":2}}},\"title\":{\"font\":{\"color\":\"#4D5663\"}},\"xaxis\":{\"gridcolor\":\"#E1E5ED\",\"showgrid\":true,\"tickfont\":{\"color\":\"#4D5663\"},\"title\":{\"font\":{\"color\":\"#4D5663\"},\"text\":\"\"},\"zerolinecolor\":\"#E1E5ED\"},\"yaxis\":{\"gridcolor\":\"#E1E5ED\",\"showgrid\":true,\"tickfont\":{\"color\":\"#4D5663\"},\"title\":{\"font\":{\"color\":\"#4D5663\"},\"text\":\"\"},\"zerolinecolor\":\"#E1E5ED\"}},                        {\"showLink\": true, \"linkText\": \"Export to plot.ly\", \"plotlyServerURL\": \"https://plot.ly\", \"responsive\": true}                    ).then(function(){\n",
       "                            \n",
       "var gd = document.getElementById('c300485d-2148-4520-a662-90e41f4350cb');\n",
       "var x = new MutationObserver(function (mutations, observer) {{\n",
       "        var display = window.getComputedStyle(gd).display;\n",
       "        if (!display || display === 'none') {{\n",
       "            console.log([gd, 'removed!']);\n",
       "            Plotly.purge(gd);\n",
       "            observer.disconnect();\n",
       "        }}\n",
       "}});\n",
       "\n",
       "// Listen for the removal of the full notebook cells\n",
       "var notebookContainer = gd.closest('#notebook-container');\n",
       "if (notebookContainer) {{\n",
       "    x.observe(notebookContainer, {childList: true});\n",
       "}}\n",
       "\n",
       "// Listen for the clearing of the current output cell\n",
       "var outputEl = gd.closest('.output');\n",
       "if (outputEl) {{\n",
       "    x.observe(outputEl, {childList: true});\n",
       "}}\n",
       "\n",
       "                        })                };                });            </script>        </div>"
      ]
     },
     "metadata": {},
     "output_type": "display_data"
    }
   ],
   "source": [
    " df1.sum().iplot(kind=\"bar\")"
   ]
  },
  {
   "cell_type": "code",
   "execution_count": 31,
   "id": "9bc20140",
   "metadata": {},
   "outputs": [
    {
     "data": {
      "application/vnd.plotly.v1+json": {
       "config": {
        "linkText": "Export to plot.ly",
        "plotlyServerURL": "https://plot.ly",
        "showLink": true
       },
       "data": [
        {
         "boxpoints": false,
         "line": {
          "width": 1.3
         },
         "marker": {
          "color": "rgba(255, 153, 51, 1.0)"
         },
         "name": "A",
         "orientation": "v",
         "type": "box",
         "y": [
          -0.6715841140505145,
          -0.015693512274722023,
          -1.2377868022190277,
          0.02503655607096757,
          -0.14529398503449995,
          -1.0551956430573703,
          0.23233137831534484,
          -0.2956574504198168,
          -0.5577910399776433,
          1.3738652338159894,
          -2.9623175823727816,
          1.4904430345297184,
          1.039183339678253,
          -0.7113259936440596,
          -1.1842573167447745,
          0.08276897728234352,
          0.329475561063558,
          0.4884573064355324,
          0.33170945240886557,
          -1.623491342611854,
          -0.2787006945859761,
          0.3451219421823229,
          -0.8463179724936395,
          1.198615884615791,
          -1.21520995130495,
          0.08357517582237833,
          -0.9168333966717761,
          0.14444471685492827,
          -0.7587977901216573,
          -0.5716253932588715,
          -0.5155445307260258,
          0.039690930351866376,
          0.45206315536669267,
          0.25822078314915525,
          0.6795014499531823,
          -0.5258381951483264,
          -0.5831900803018422,
          0.9433672570698973,
          -1.2172033264702742,
          0.4070804402188379,
          0.9984241995599689,
          0.17547655482258462,
          -0.4864382830689831,
          -1.1725144840193726,
          1.2159970426643887,
          2.2007383884166125,
          -1.447909129888451,
          -1.2405381762638814,
          0.08017130631382811,
          -2.4146038180313445,
          0.24500705463654993,
          1.0955121238600343,
          0.07840931223258185,
          -1.0910806569187692,
          0.8837375823403211,
          -0.6788158992187295,
          -0.11096246412127025,
          -0.18905143074917843,
          -0.18057514475557498,
          0.6162366738892845,
          0.16758644721112217,
          -1.552022094532808,
          -0.15980187798785894,
          0.684059048953964,
          0.08319961960883286,
          -0.1393646482722601,
          -2.504160913360558,
          0.5878659446965919,
          1.635811129335889,
          1.9114127993924863,
          -0.7805028079982012,
          0.1596568880233185,
          0.04155434974831334,
          1.0035541939648416,
          0.8908357638671642,
          0.1327051615657846,
          -0.3952116467445707,
          0.7864341312472358,
          0.38666747641392035,
          0.14471853623258493,
          1.431655710690944,
          -0.11781504624255924,
          1.4974434253457516,
          -0.7964145225371747,
          -1.3699600853577067,
          -0.9618089897181643,
          -0.827111687389078,
          -0.7046529758368414,
          0.8828852015707367,
          -0.706753026854823,
          -1.390935846156628,
          -1.0817460195694732,
          0.9059710010262795,
          1.6281493928309418,
          -1.5741581898416985,
          -1.1456360795171043,
          0.5647014328630369,
          1.4079302677481942,
          0.7015348136215821,
          0.2996814140958031
         ]
        },
        {
         "boxpoints": false,
         "line": {
          "width": 1.3
         },
         "marker": {
          "color": "rgba(55, 128, 191, 1.0)"
         },
         "name": "B",
         "orientation": "v",
         "type": "box",
         "y": [
          2.2584707094043437,
          -0.7302799304607928,
          -0.2639441560358485,
          -1.6907250644742915,
          0.1254040074044843,
          1.3653684572122151,
          -0.8993710510320301,
          1.3637219597500265,
          -0.9949884716772304,
          1.3124196810371618,
          0.13120330179599704,
          0.24421489269566785,
          -0.27027514734432023,
          2.4192473141037873,
          0.07051174070187619,
          1.1454944026229976,
          1.3978441309027008,
          -0.8020321670729008,
          0.23465940010652886,
          0.27772437241707726,
          -0.023704226665142523,
          1.0647734889326985,
          -0.1299940741540082,
          -0.8947487564886276,
          -0.8601967942699728,
          -0.31182841235252173,
          0.7008025244702615,
          1.462640550182099,
          -0.7168406874680995,
          -0.533752063962401,
          -0.3383209072280021,
          2.141940772311467,
          -0.2179188511702646,
          0.7234207747726848,
          -1.539763104939272,
          -0.208167932281236,
          -0.7514823675298156,
          0.035625121367857726,
          0.9241782089734557,
          0.25995515135379726,
          0.8840298645904345,
          1.621531593225492,
          -1.0862693306485376,
          -0.9298244982592239,
          1.0305804958400764,
          -0.3028330445145502,
          -0.3412703213179675,
          0.24259140471291563,
          0.7725146061486692,
          -0.5627322260108164,
          -1.3362173833170023,
          -0.8364666429820613,
          -1.8649422541480647,
          -0.04000503321453959,
          -0.516321928580932,
          0.08082616339686961,
          1.3944373699957966,
          -0.17216818877174742,
          -0.5934447292701355,
          0.10764914753318927,
          -0.2667606811527233,
          -1.0162205575249617,
          -0.1144380817846967,
          1.4406345038428472,
          -0.7425514219222027,
          -1.0606788949699955,
          -1.586021525034324,
          -0.12104202346651638,
          0.8521010224489876,
          -0.9966586709814385,
          -0.7121334921084088,
          -0.4637882083535036,
          -0.11250665600437545,
          -0.8411356640052431,
          -0.7045662925272004,
          -0.6948250878248523,
          0.5000878197913172,
          -0.3528712808109637,
          -0.09557363709951629,
          0.11364046061839493,
          -1.015457474819926,
          0.36528363055720064,
          0.6711251693871432,
          0.7601384575280092,
          0.4321696477454787,
          0.6833655360978901,
          1.7310669374017902,
          0.4262696812048567,
          -0.2656194098492696,
          1.5645661055838156,
          -0.033652820429172794,
          -1.0858452674326182,
          -0.9708252180947552,
          1.771751835446405,
          -0.7925116693718385,
          -1.3470060707018487,
          0.006208722375716201,
          -1.499857075979689,
          -0.8887702919102793,
          -0.43945889066964533
         ]
        },
        {
         "boxpoints": false,
         "line": {
          "width": 1.3
         },
         "marker": {
          "color": "rgba(50, 171, 96, 1.0)"
         },
         "name": "C",
         "orientation": "v",
         "type": "box",
         "y": [
          0.9715485590504849,
          0.17805578079037374,
          1.0226214736510901,
          -0.8694381195156575,
          -0.2316616538513763,
          -0.23514648178048406,
          -0.9084366733358773,
          0.7082960893309674,
          -1.9153067609093344,
          0.49221579376002955,
          -0.05003965714440723,
          -1.5680370294502035,
          0.14448221072270265,
          0.3073580790559129,
          -0.6840199805478799,
          -0.9381329948562944,
          -1.9087349212901707,
          -1.3269052489638635,
          0.7081186471450253,
          -0.6756607826885137,
          2.309573885547715,
          -0.6744408554771967,
          -1.4535000664961162,
          0.15164881301305483,
          0.6961187255522358,
          0.8725241037169394,
          0.01979758044591536,
          -2.0999640292701853,
          0.5247366656699252,
          0.5773432872959063,
          1.277207740501427,
          0.9583546716298691,
          -0.2331429642108506,
          -1.0527977933110753,
          0.45463559994258035,
          0.0011469180817339204,
          -0.1939706845144443,
          -1.6231410749321515,
          1.532026544518872,
          1.1603622659164887,
          -1.3804331823497566,
          0.36900899034704016,
          -1.3417912842517399,
          1.2395811511921635,
          -0.021129116765842865,
          -1.557394979474704,
          0.870542918565471,
          -1.0155395128582034,
          2.200040684246524,
          0.23668204943963497,
          -0.9497257565370577,
          0.2211962306990893,
          1.7023136503709666,
          -0.2737581003282735,
          1.00249312945178,
          1.211561846991026,
          0.3219714204720471,
          0.2996112156365192,
          -1.0321357177428103,
          1.6807342640809886,
          -1.2506099480148745,
          0.33464862133670836,
          0.1898629938142908,
          0.9675282440215491,
          -0.3537828166578415,
          1.5126369413241667,
          0.6176407204564663,
          -2.163546102762687,
          0.2478291332533252,
          0.455503278492527,
          1.3607904406045999,
          -0.3425062352366064,
          0.4030918801177125,
          0.8520217405723798,
          -0.5534302121023642,
          -1.1974868026525782,
          0.4460212772296304,
          -1.0305096922042194,
          -0.4515010192496534,
          1.0174930183935191,
          0.5053496144030297,
          -1.6408859443445472,
          -1.3365466135761324,
          0.13205516684893642,
          0.9030577153865585,
          1.4137698249332808,
          -0.44152078212550944,
          1.5099785124243106,
          -1.8088220005603304,
          -0.8505127001965405,
          -0.930186014824073,
          -1.0502128999293106,
          0.7582441720151186,
          1.3916847146647193,
          -0.0316486389386445,
          1.0649078768796696,
          -0.5623862247786948,
          -0.5834027047758633,
          0.16086133678899775,
          1.1244623697081284
         ]
        },
        {
         "boxpoints": false,
         "line": {
          "width": 1.3
         },
         "marker": {
          "color": "rgba(128, 0, 128, 1.0)"
         },
         "name": "D",
         "orientation": "v",
         "type": "box",
         "y": [
          1.2788671126878617,
          0.5463490627005372,
          -0.8458274852088671,
          1.891968284906087,
          0.027129520621435557,
          0.9076544818601713,
          1.1428718918578358,
          -0.3596387227045708,
          0.2500227533355477,
          -0.07322678785550782,
          -0.20911214212065374,
          0.523723621573591,
          0.4259764247672888,
          -1.1968758184322306,
          -0.8054767941949154,
          1.8900072380345485,
          0.8452113436466301,
          -0.25414609073347877,
          0.03570855246577367,
          0.14575503135915918,
          2.189428173696937,
          -0.07187860253400183,
          -0.7418466311463111,
          -0.505340193235467,
          -0.4959876377616374,
          -0.21749317450560904,
          0.10492539817008403,
          -0.059598361653984966,
          -0.884962776942417,
          1.3091537990351603,
          1.7323272249030568,
          -1.1585055113970915,
          -1.4797572809249315,
          1.5501511744148435,
          -0.40991876351239337,
          -0.09463390578367643,
          -0.4961731048584968,
          -0.12116479609004391,
          1.5429867747832684,
          2.083823626126322,
          -1.3405618577286778,
          -0.013274360478629371,
          1.4704827400113714,
          -0.09230518925486603,
          -0.1814328005222361,
          1.1937710999811717,
          -0.17038391795488023,
          0.40313263628071977,
          -0.37281732453145733,
          0.3707495163122737,
          0.30920736594324405,
          -0.5702771593764394,
          0.49741067835785063,
          0.3251355812421022,
          0.26196593782269134,
          0.8972217561696456,
          0.21324090680672533,
          -0.592522484752052,
          0.3189074515402922,
          0.46513692270318635,
          -0.2758476538032941,
          0.7688813450982438,
          -0.3319192869248297,
          -1.0340902467079396,
          -0.47875869327376647,
          0.4948476815535337,
          0.5958264226747494,
          0.6503139300524439,
          -1.4830468087573092,
          -0.6463031033931556,
          -0.30555585754444564,
          0.21901772500633013,
          0.6548728016080407,
          1.1596515508110465,
          -0.9449083897526811,
          -0.8559496144959297,
          1.1764890071657674,
          -2.7626589596873967,
          0.34726352104614705,
          -2.0534746469817633,
          -0.0778792691985187,
          -0.79091489232892,
          -1.783799382189531,
          0.876754632425876,
          -0.5064195302925444,
          -0.5587688290364335,
          -0.10191596449244297,
          1.1109009231629037,
          1.3054030990977499,
          1.706073511150618,
          -0.8962883920903764,
          1.1202847972825045,
          -1.6472410388756322,
          -1.6999419548084038,
          0.9423173222319073,
          1.3259604804878835,
          1.1463039571620701,
          0.16192374138738494,
          -0.4302555224507472,
          1.2522124410555802
         ]
        }
       ],
       "layout": {
        "legend": {
         "bgcolor": "#F5F6F9",
         "font": {
          "color": "#4D5663"
         }
        },
        "paper_bgcolor": "#F5F6F9",
        "plot_bgcolor": "#F5F6F9",
        "template": {
         "data": {
          "bar": [
           {
            "error_x": {
             "color": "#2a3f5f"
            },
            "error_y": {
             "color": "#2a3f5f"
            },
            "marker": {
             "line": {
              "color": "#E5ECF6",
              "width": 0.5
             },
             "pattern": {
              "fillmode": "overlay",
              "size": 10,
              "solidity": 0.2
             }
            },
            "type": "bar"
           }
          ],
          "barpolar": [
           {
            "marker": {
             "line": {
              "color": "#E5ECF6",
              "width": 0.5
             },
             "pattern": {
              "fillmode": "overlay",
              "size": 10,
              "solidity": 0.2
             }
            },
            "type": "barpolar"
           }
          ],
          "carpet": [
           {
            "aaxis": {
             "endlinecolor": "#2a3f5f",
             "gridcolor": "white",
             "linecolor": "white",
             "minorgridcolor": "white",
             "startlinecolor": "#2a3f5f"
            },
            "baxis": {
             "endlinecolor": "#2a3f5f",
             "gridcolor": "white",
             "linecolor": "white",
             "minorgridcolor": "white",
             "startlinecolor": "#2a3f5f"
            },
            "type": "carpet"
           }
          ],
          "choropleth": [
           {
            "colorbar": {
             "outlinewidth": 0,
             "ticks": ""
            },
            "type": "choropleth"
           }
          ],
          "contour": [
           {
            "colorbar": {
             "outlinewidth": 0,
             "ticks": ""
            },
            "colorscale": [
             [
              0,
              "#0d0887"
             ],
             [
              0.1111111111111111,
              "#46039f"
             ],
             [
              0.2222222222222222,
              "#7201a8"
             ],
             [
              0.3333333333333333,
              "#9c179e"
             ],
             [
              0.4444444444444444,
              "#bd3786"
             ],
             [
              0.5555555555555556,
              "#d8576b"
             ],
             [
              0.6666666666666666,
              "#ed7953"
             ],
             [
              0.7777777777777778,
              "#fb9f3a"
             ],
             [
              0.8888888888888888,
              "#fdca26"
             ],
             [
              1,
              "#f0f921"
             ]
            ],
            "type": "contour"
           }
          ],
          "contourcarpet": [
           {
            "colorbar": {
             "outlinewidth": 0,
             "ticks": ""
            },
            "type": "contourcarpet"
           }
          ],
          "heatmap": [
           {
            "colorbar": {
             "outlinewidth": 0,
             "ticks": ""
            },
            "colorscale": [
             [
              0,
              "#0d0887"
             ],
             [
              0.1111111111111111,
              "#46039f"
             ],
             [
              0.2222222222222222,
              "#7201a8"
             ],
             [
              0.3333333333333333,
              "#9c179e"
             ],
             [
              0.4444444444444444,
              "#bd3786"
             ],
             [
              0.5555555555555556,
              "#d8576b"
             ],
             [
              0.6666666666666666,
              "#ed7953"
             ],
             [
              0.7777777777777778,
              "#fb9f3a"
             ],
             [
              0.8888888888888888,
              "#fdca26"
             ],
             [
              1,
              "#f0f921"
             ]
            ],
            "type": "heatmap"
           }
          ],
          "heatmapgl": [
           {
            "colorbar": {
             "outlinewidth": 0,
             "ticks": ""
            },
            "colorscale": [
             [
              0,
              "#0d0887"
             ],
             [
              0.1111111111111111,
              "#46039f"
             ],
             [
              0.2222222222222222,
              "#7201a8"
             ],
             [
              0.3333333333333333,
              "#9c179e"
             ],
             [
              0.4444444444444444,
              "#bd3786"
             ],
             [
              0.5555555555555556,
              "#d8576b"
             ],
             [
              0.6666666666666666,
              "#ed7953"
             ],
             [
              0.7777777777777778,
              "#fb9f3a"
             ],
             [
              0.8888888888888888,
              "#fdca26"
             ],
             [
              1,
              "#f0f921"
             ]
            ],
            "type": "heatmapgl"
           }
          ],
          "histogram": [
           {
            "marker": {
             "pattern": {
              "fillmode": "overlay",
              "size": 10,
              "solidity": 0.2
             }
            },
            "type": "histogram"
           }
          ],
          "histogram2d": [
           {
            "colorbar": {
             "outlinewidth": 0,
             "ticks": ""
            },
            "colorscale": [
             [
              0,
              "#0d0887"
             ],
             [
              0.1111111111111111,
              "#46039f"
             ],
             [
              0.2222222222222222,
              "#7201a8"
             ],
             [
              0.3333333333333333,
              "#9c179e"
             ],
             [
              0.4444444444444444,
              "#bd3786"
             ],
             [
              0.5555555555555556,
              "#d8576b"
             ],
             [
              0.6666666666666666,
              "#ed7953"
             ],
             [
              0.7777777777777778,
              "#fb9f3a"
             ],
             [
              0.8888888888888888,
              "#fdca26"
             ],
             [
              1,
              "#f0f921"
             ]
            ],
            "type": "histogram2d"
           }
          ],
          "histogram2dcontour": [
           {
            "colorbar": {
             "outlinewidth": 0,
             "ticks": ""
            },
            "colorscale": [
             [
              0,
              "#0d0887"
             ],
             [
              0.1111111111111111,
              "#46039f"
             ],
             [
              0.2222222222222222,
              "#7201a8"
             ],
             [
              0.3333333333333333,
              "#9c179e"
             ],
             [
              0.4444444444444444,
              "#bd3786"
             ],
             [
              0.5555555555555556,
              "#d8576b"
             ],
             [
              0.6666666666666666,
              "#ed7953"
             ],
             [
              0.7777777777777778,
              "#fb9f3a"
             ],
             [
              0.8888888888888888,
              "#fdca26"
             ],
             [
              1,
              "#f0f921"
             ]
            ],
            "type": "histogram2dcontour"
           }
          ],
          "mesh3d": [
           {
            "colorbar": {
             "outlinewidth": 0,
             "ticks": ""
            },
            "type": "mesh3d"
           }
          ],
          "parcoords": [
           {
            "line": {
             "colorbar": {
              "outlinewidth": 0,
              "ticks": ""
             }
            },
            "type": "parcoords"
           }
          ],
          "pie": [
           {
            "automargin": true,
            "type": "pie"
           }
          ],
          "scatter": [
           {
            "marker": {
             "colorbar": {
              "outlinewidth": 0,
              "ticks": ""
             }
            },
            "type": "scatter"
           }
          ],
          "scatter3d": [
           {
            "line": {
             "colorbar": {
              "outlinewidth": 0,
              "ticks": ""
             }
            },
            "marker": {
             "colorbar": {
              "outlinewidth": 0,
              "ticks": ""
             }
            },
            "type": "scatter3d"
           }
          ],
          "scattercarpet": [
           {
            "marker": {
             "colorbar": {
              "outlinewidth": 0,
              "ticks": ""
             }
            },
            "type": "scattercarpet"
           }
          ],
          "scattergeo": [
           {
            "marker": {
             "colorbar": {
              "outlinewidth": 0,
              "ticks": ""
             }
            },
            "type": "scattergeo"
           }
          ],
          "scattergl": [
           {
            "marker": {
             "colorbar": {
              "outlinewidth": 0,
              "ticks": ""
             }
            },
            "type": "scattergl"
           }
          ],
          "scattermapbox": [
           {
            "marker": {
             "colorbar": {
              "outlinewidth": 0,
              "ticks": ""
             }
            },
            "type": "scattermapbox"
           }
          ],
          "scatterpolar": [
           {
            "marker": {
             "colorbar": {
              "outlinewidth": 0,
              "ticks": ""
             }
            },
            "type": "scatterpolar"
           }
          ],
          "scatterpolargl": [
           {
            "marker": {
             "colorbar": {
              "outlinewidth": 0,
              "ticks": ""
             }
            },
            "type": "scatterpolargl"
           }
          ],
          "scatterternary": [
           {
            "marker": {
             "colorbar": {
              "outlinewidth": 0,
              "ticks": ""
             }
            },
            "type": "scatterternary"
           }
          ],
          "surface": [
           {
            "colorbar": {
             "outlinewidth": 0,
             "ticks": ""
            },
            "colorscale": [
             [
              0,
              "#0d0887"
             ],
             [
              0.1111111111111111,
              "#46039f"
             ],
             [
              0.2222222222222222,
              "#7201a8"
             ],
             [
              0.3333333333333333,
              "#9c179e"
             ],
             [
              0.4444444444444444,
              "#bd3786"
             ],
             [
              0.5555555555555556,
              "#d8576b"
             ],
             [
              0.6666666666666666,
              "#ed7953"
             ],
             [
              0.7777777777777778,
              "#fb9f3a"
             ],
             [
              0.8888888888888888,
              "#fdca26"
             ],
             [
              1,
              "#f0f921"
             ]
            ],
            "type": "surface"
           }
          ],
          "table": [
           {
            "cells": {
             "fill": {
              "color": "#EBF0F8"
             },
             "line": {
              "color": "white"
             }
            },
            "header": {
             "fill": {
              "color": "#C8D4E3"
             },
             "line": {
              "color": "white"
             }
            },
            "type": "table"
           }
          ]
         },
         "layout": {
          "annotationdefaults": {
           "arrowcolor": "#2a3f5f",
           "arrowhead": 0,
           "arrowwidth": 1
          },
          "autotypenumbers": "strict",
          "coloraxis": {
           "colorbar": {
            "outlinewidth": 0,
            "ticks": ""
           }
          },
          "colorscale": {
           "diverging": [
            [
             0,
             "#8e0152"
            ],
            [
             0.1,
             "#c51b7d"
            ],
            [
             0.2,
             "#de77ae"
            ],
            [
             0.3,
             "#f1b6da"
            ],
            [
             0.4,
             "#fde0ef"
            ],
            [
             0.5,
             "#f7f7f7"
            ],
            [
             0.6,
             "#e6f5d0"
            ],
            [
             0.7,
             "#b8e186"
            ],
            [
             0.8,
             "#7fbc41"
            ],
            [
             0.9,
             "#4d9221"
            ],
            [
             1,
             "#276419"
            ]
           ],
           "sequential": [
            [
             0,
             "#0d0887"
            ],
            [
             0.1111111111111111,
             "#46039f"
            ],
            [
             0.2222222222222222,
             "#7201a8"
            ],
            [
             0.3333333333333333,
             "#9c179e"
            ],
            [
             0.4444444444444444,
             "#bd3786"
            ],
            [
             0.5555555555555556,
             "#d8576b"
            ],
            [
             0.6666666666666666,
             "#ed7953"
            ],
            [
             0.7777777777777778,
             "#fb9f3a"
            ],
            [
             0.8888888888888888,
             "#fdca26"
            ],
            [
             1,
             "#f0f921"
            ]
           ],
           "sequentialminus": [
            [
             0,
             "#0d0887"
            ],
            [
             0.1111111111111111,
             "#46039f"
            ],
            [
             0.2222222222222222,
             "#7201a8"
            ],
            [
             0.3333333333333333,
             "#9c179e"
            ],
            [
             0.4444444444444444,
             "#bd3786"
            ],
            [
             0.5555555555555556,
             "#d8576b"
            ],
            [
             0.6666666666666666,
             "#ed7953"
            ],
            [
             0.7777777777777778,
             "#fb9f3a"
            ],
            [
             0.8888888888888888,
             "#fdca26"
            ],
            [
             1,
             "#f0f921"
            ]
           ]
          },
          "colorway": [
           "#636efa",
           "#EF553B",
           "#00cc96",
           "#ab63fa",
           "#FFA15A",
           "#19d3f3",
           "#FF6692",
           "#B6E880",
           "#FF97FF",
           "#FECB52"
          ],
          "font": {
           "color": "#2a3f5f"
          },
          "geo": {
           "bgcolor": "white",
           "lakecolor": "white",
           "landcolor": "#E5ECF6",
           "showlakes": true,
           "showland": true,
           "subunitcolor": "white"
          },
          "hoverlabel": {
           "align": "left"
          },
          "hovermode": "closest",
          "mapbox": {
           "style": "light"
          },
          "paper_bgcolor": "white",
          "plot_bgcolor": "#E5ECF6",
          "polar": {
           "angularaxis": {
            "gridcolor": "white",
            "linecolor": "white",
            "ticks": ""
           },
           "bgcolor": "#E5ECF6",
           "radialaxis": {
            "gridcolor": "white",
            "linecolor": "white",
            "ticks": ""
           }
          },
          "scene": {
           "xaxis": {
            "backgroundcolor": "#E5ECF6",
            "gridcolor": "white",
            "gridwidth": 2,
            "linecolor": "white",
            "showbackground": true,
            "ticks": "",
            "zerolinecolor": "white"
           },
           "yaxis": {
            "backgroundcolor": "#E5ECF6",
            "gridcolor": "white",
            "gridwidth": 2,
            "linecolor": "white",
            "showbackground": true,
            "ticks": "",
            "zerolinecolor": "white"
           },
           "zaxis": {
            "backgroundcolor": "#E5ECF6",
            "gridcolor": "white",
            "gridwidth": 2,
            "linecolor": "white",
            "showbackground": true,
            "ticks": "",
            "zerolinecolor": "white"
           }
          },
          "shapedefaults": {
           "line": {
            "color": "#2a3f5f"
           }
          },
          "ternary": {
           "aaxis": {
            "gridcolor": "white",
            "linecolor": "white",
            "ticks": ""
           },
           "baxis": {
            "gridcolor": "white",
            "linecolor": "white",
            "ticks": ""
           },
           "bgcolor": "#E5ECF6",
           "caxis": {
            "gridcolor": "white",
            "linecolor": "white",
            "ticks": ""
           }
          },
          "title": {
           "x": 0.05
          },
          "xaxis": {
           "automargin": true,
           "gridcolor": "white",
           "linecolor": "white",
           "ticks": "",
           "title": {
            "standoff": 15
           },
           "zerolinecolor": "white",
           "zerolinewidth": 2
          },
          "yaxis": {
           "automargin": true,
           "gridcolor": "white",
           "linecolor": "white",
           "ticks": "",
           "title": {
            "standoff": 15
           },
           "zerolinecolor": "white",
           "zerolinewidth": 2
          }
         }
        },
        "title": {
         "font": {
          "color": "#4D5663"
         }
        },
        "xaxis": {
         "gridcolor": "#E1E5ED",
         "showgrid": true,
         "tickfont": {
          "color": "#4D5663"
         },
         "title": {
          "font": {
           "color": "#4D5663"
          },
          "text": ""
         },
         "zerolinecolor": "#E1E5ED"
        },
        "yaxis": {
         "gridcolor": "#E1E5ED",
         "showgrid": true,
         "tickfont": {
          "color": "#4D5663"
         },
         "title": {
          "font": {
           "color": "#4D5663"
          },
          "text": ""
         },
         "zerolinecolor": "#E1E5ED"
        }
       }
      },
      "text/html": [
       "<div>                            <div id=\"7e3238e5-0d87-4b7c-888c-f17cdc57a4ad\" class=\"plotly-graph-div\" style=\"height:525px; width:100%;\"></div>            <script type=\"text/javascript\">                require([\"plotly\"], function(Plotly) {                    window.PLOTLYENV=window.PLOTLYENV || {};\n",
       "                    window.PLOTLYENV.BASE_URL='https://plot.ly';                                    if (document.getElementById(\"7e3238e5-0d87-4b7c-888c-f17cdc57a4ad\")) {                    Plotly.newPlot(                        \"7e3238e5-0d87-4b7c-888c-f17cdc57a4ad\",                        [{\"boxpoints\":false,\"line\":{\"width\":1.3},\"marker\":{\"color\":\"rgba(255, 153, 51, 1.0)\"},\"name\":\"A\",\"orientation\":\"v\",\"y\":[-0.6715841140505145,-0.015693512274722023,-1.2377868022190277,0.02503655607096757,-0.14529398503449995,-1.0551956430573703,0.23233137831534484,-0.2956574504198168,-0.5577910399776433,1.3738652338159894,-2.9623175823727816,1.4904430345297184,1.039183339678253,-0.7113259936440596,-1.1842573167447745,0.08276897728234352,0.329475561063558,0.4884573064355324,0.33170945240886557,-1.623491342611854,-0.2787006945859761,0.3451219421823229,-0.8463179724936395,1.198615884615791,-1.21520995130495,0.08357517582237833,-0.9168333966717761,0.14444471685492827,-0.7587977901216573,-0.5716253932588715,-0.5155445307260258,0.039690930351866376,0.45206315536669267,0.25822078314915525,0.6795014499531823,-0.5258381951483264,-0.5831900803018422,0.9433672570698973,-1.2172033264702742,0.4070804402188379,0.9984241995599689,0.17547655482258462,-0.4864382830689831,-1.1725144840193726,1.2159970426643887,2.2007383884166125,-1.447909129888451,-1.2405381762638814,0.08017130631382811,-2.4146038180313445,0.24500705463654993,1.0955121238600343,0.07840931223258185,-1.0910806569187692,0.8837375823403211,-0.6788158992187295,-0.11096246412127025,-0.18905143074917843,-0.18057514475557498,0.6162366738892845,0.16758644721112217,-1.552022094532808,-0.15980187798785894,0.684059048953964,0.08319961960883286,-0.1393646482722601,-2.504160913360558,0.5878659446965919,1.635811129335889,1.9114127993924863,-0.7805028079982012,0.1596568880233185,0.04155434974831334,1.0035541939648416,0.8908357638671642,0.1327051615657846,-0.3952116467445707,0.7864341312472358,0.38666747641392035,0.14471853623258493,1.431655710690944,-0.11781504624255924,1.4974434253457516,-0.7964145225371747,-1.3699600853577067,-0.9618089897181643,-0.827111687389078,-0.7046529758368414,0.8828852015707367,-0.706753026854823,-1.390935846156628,-1.0817460195694732,0.9059710010262795,1.6281493928309418,-1.5741581898416985,-1.1456360795171043,0.5647014328630369,1.4079302677481942,0.7015348136215821,0.2996814140958031],\"type\":\"box\"},{\"boxpoints\":false,\"line\":{\"width\":1.3},\"marker\":{\"color\":\"rgba(55, 128, 191, 1.0)\"},\"name\":\"B\",\"orientation\":\"v\",\"y\":[2.2584707094043437,-0.7302799304607928,-0.2639441560358485,-1.6907250644742915,0.1254040074044843,1.3653684572122151,-0.8993710510320301,1.3637219597500265,-0.9949884716772304,1.3124196810371618,0.13120330179599704,0.24421489269566785,-0.27027514734432023,2.4192473141037873,0.07051174070187619,1.1454944026229976,1.3978441309027008,-0.8020321670729008,0.23465940010652886,0.27772437241707726,-0.023704226665142523,1.0647734889326985,-0.1299940741540082,-0.8947487564886276,-0.8601967942699728,-0.31182841235252173,0.7008025244702615,1.462640550182099,-0.7168406874680995,-0.533752063962401,-0.3383209072280021,2.141940772311467,-0.2179188511702646,0.7234207747726848,-1.539763104939272,-0.208167932281236,-0.7514823675298156,0.035625121367857726,0.9241782089734557,0.25995515135379726,0.8840298645904345,1.621531593225492,-1.0862693306485376,-0.9298244982592239,1.0305804958400764,-0.3028330445145502,-0.3412703213179675,0.24259140471291563,0.7725146061486692,-0.5627322260108164,-1.3362173833170023,-0.8364666429820613,-1.8649422541480647,-0.04000503321453959,-0.516321928580932,0.08082616339686961,1.3944373699957966,-0.17216818877174742,-0.5934447292701355,0.10764914753318927,-0.2667606811527233,-1.0162205575249617,-0.1144380817846967,1.4406345038428472,-0.7425514219222027,-1.0606788949699955,-1.586021525034324,-0.12104202346651638,0.8521010224489876,-0.9966586709814385,-0.7121334921084088,-0.4637882083535036,-0.11250665600437545,-0.8411356640052431,-0.7045662925272004,-0.6948250878248523,0.5000878197913172,-0.3528712808109637,-0.09557363709951629,0.11364046061839493,-1.015457474819926,0.36528363055720064,0.6711251693871432,0.7601384575280092,0.4321696477454787,0.6833655360978901,1.7310669374017902,0.4262696812048567,-0.2656194098492696,1.5645661055838156,-0.033652820429172794,-1.0858452674326182,-0.9708252180947552,1.771751835446405,-0.7925116693718385,-1.3470060707018487,0.006208722375716201,-1.499857075979689,-0.8887702919102793,-0.43945889066964533],\"type\":\"box\"},{\"boxpoints\":false,\"line\":{\"width\":1.3},\"marker\":{\"color\":\"rgba(50, 171, 96, 1.0)\"},\"name\":\"C\",\"orientation\":\"v\",\"y\":[0.9715485590504849,0.17805578079037374,1.0226214736510901,-0.8694381195156575,-0.2316616538513763,-0.23514648178048406,-0.9084366733358773,0.7082960893309674,-1.9153067609093344,0.49221579376002955,-0.05003965714440723,-1.5680370294502035,0.14448221072270265,0.3073580790559129,-0.6840199805478799,-0.9381329948562944,-1.9087349212901707,-1.3269052489638635,0.7081186471450253,-0.6756607826885137,2.309573885547715,-0.6744408554771967,-1.4535000664961162,0.15164881301305483,0.6961187255522358,0.8725241037169394,0.01979758044591536,-2.0999640292701853,0.5247366656699252,0.5773432872959063,1.277207740501427,0.9583546716298691,-0.2331429642108506,-1.0527977933110753,0.45463559994258035,0.0011469180817339204,-0.1939706845144443,-1.6231410749321515,1.532026544518872,1.1603622659164887,-1.3804331823497566,0.36900899034704016,-1.3417912842517399,1.2395811511921635,-0.021129116765842865,-1.557394979474704,0.870542918565471,-1.0155395128582034,2.200040684246524,0.23668204943963497,-0.9497257565370577,0.2211962306990893,1.7023136503709666,-0.2737581003282735,1.00249312945178,1.211561846991026,0.3219714204720471,0.2996112156365192,-1.0321357177428103,1.6807342640809886,-1.2506099480148745,0.33464862133670836,0.1898629938142908,0.9675282440215491,-0.3537828166578415,1.5126369413241667,0.6176407204564663,-2.163546102762687,0.2478291332533252,0.455503278492527,1.3607904406045999,-0.3425062352366064,0.4030918801177125,0.8520217405723798,-0.5534302121023642,-1.1974868026525782,0.4460212772296304,-1.0305096922042194,-0.4515010192496534,1.0174930183935191,0.5053496144030297,-1.6408859443445472,-1.3365466135761324,0.13205516684893642,0.9030577153865585,1.4137698249332808,-0.44152078212550944,1.5099785124243106,-1.8088220005603304,-0.8505127001965405,-0.930186014824073,-1.0502128999293106,0.7582441720151186,1.3916847146647193,-0.0316486389386445,1.0649078768796696,-0.5623862247786948,-0.5834027047758633,0.16086133678899775,1.1244623697081284],\"type\":\"box\"},{\"boxpoints\":false,\"line\":{\"width\":1.3},\"marker\":{\"color\":\"rgba(128, 0, 128, 1.0)\"},\"name\":\"D\",\"orientation\":\"v\",\"y\":[1.2788671126878617,0.5463490627005372,-0.8458274852088671,1.891968284906087,0.027129520621435557,0.9076544818601713,1.1428718918578358,-0.3596387227045708,0.2500227533355477,-0.07322678785550782,-0.20911214212065374,0.523723621573591,0.4259764247672888,-1.1968758184322306,-0.8054767941949154,1.8900072380345485,0.8452113436466301,-0.25414609073347877,0.03570855246577367,0.14575503135915918,2.189428173696937,-0.07187860253400183,-0.7418466311463111,-0.505340193235467,-0.4959876377616374,-0.21749317450560904,0.10492539817008403,-0.059598361653984966,-0.884962776942417,1.3091537990351603,1.7323272249030568,-1.1585055113970915,-1.4797572809249315,1.5501511744148435,-0.40991876351239337,-0.09463390578367643,-0.4961731048584968,-0.12116479609004391,1.5429867747832684,2.083823626126322,-1.3405618577286778,-0.013274360478629371,1.4704827400113714,-0.09230518925486603,-0.1814328005222361,1.1937710999811717,-0.17038391795488023,0.40313263628071977,-0.37281732453145733,0.3707495163122737,0.30920736594324405,-0.5702771593764394,0.49741067835785063,0.3251355812421022,0.26196593782269134,0.8972217561696456,0.21324090680672533,-0.592522484752052,0.3189074515402922,0.46513692270318635,-0.2758476538032941,0.7688813450982438,-0.3319192869248297,-1.0340902467079396,-0.47875869327376647,0.4948476815535337,0.5958264226747494,0.6503139300524439,-1.4830468087573092,-0.6463031033931556,-0.30555585754444564,0.21901772500633013,0.6548728016080407,1.1596515508110465,-0.9449083897526811,-0.8559496144959297,1.1764890071657674,-2.7626589596873967,0.34726352104614705,-2.0534746469817633,-0.0778792691985187,-0.79091489232892,-1.783799382189531,0.876754632425876,-0.5064195302925444,-0.5587688290364335,-0.10191596449244297,1.1109009231629037,1.3054030990977499,1.706073511150618,-0.8962883920903764,1.1202847972825045,-1.6472410388756322,-1.6999419548084038,0.9423173222319073,1.3259604804878835,1.1463039571620701,0.16192374138738494,-0.4302555224507472,1.2522124410555802],\"type\":\"box\"}],                        {\"legend\":{\"bgcolor\":\"#F5F6F9\",\"font\":{\"color\":\"#4D5663\"}},\"paper_bgcolor\":\"#F5F6F9\",\"plot_bgcolor\":\"#F5F6F9\",\"template\":{\"data\":{\"barpolar\":[{\"marker\":{\"line\":{\"color\":\"#E5ECF6\",\"width\":0.5},\"pattern\":{\"fillmode\":\"overlay\",\"size\":10,\"solidity\":0.2}},\"type\":\"barpolar\"}],\"bar\":[{\"error_x\":{\"color\":\"#2a3f5f\"},\"error_y\":{\"color\":\"#2a3f5f\"},\"marker\":{\"line\":{\"color\":\"#E5ECF6\",\"width\":0.5},\"pattern\":{\"fillmode\":\"overlay\",\"size\":10,\"solidity\":0.2}},\"type\":\"bar\"}],\"carpet\":[{\"aaxis\":{\"endlinecolor\":\"#2a3f5f\",\"gridcolor\":\"white\",\"linecolor\":\"white\",\"minorgridcolor\":\"white\",\"startlinecolor\":\"#2a3f5f\"},\"baxis\":{\"endlinecolor\":\"#2a3f5f\",\"gridcolor\":\"white\",\"linecolor\":\"white\",\"minorgridcolor\":\"white\",\"startlinecolor\":\"#2a3f5f\"},\"type\":\"carpet\"}],\"choropleth\":[{\"colorbar\":{\"outlinewidth\":0,\"ticks\":\"\"},\"type\":\"choropleth\"}],\"contourcarpet\":[{\"colorbar\":{\"outlinewidth\":0,\"ticks\":\"\"},\"type\":\"contourcarpet\"}],\"contour\":[{\"colorbar\":{\"outlinewidth\":0,\"ticks\":\"\"},\"colorscale\":[[0.0,\"#0d0887\"],[0.1111111111111111,\"#46039f\"],[0.2222222222222222,\"#7201a8\"],[0.3333333333333333,\"#9c179e\"],[0.4444444444444444,\"#bd3786\"],[0.5555555555555556,\"#d8576b\"],[0.6666666666666666,\"#ed7953\"],[0.7777777777777778,\"#fb9f3a\"],[0.8888888888888888,\"#fdca26\"],[1.0,\"#f0f921\"]],\"type\":\"contour\"}],\"heatmapgl\":[{\"colorbar\":{\"outlinewidth\":0,\"ticks\":\"\"},\"colorscale\":[[0.0,\"#0d0887\"],[0.1111111111111111,\"#46039f\"],[0.2222222222222222,\"#7201a8\"],[0.3333333333333333,\"#9c179e\"],[0.4444444444444444,\"#bd3786\"],[0.5555555555555556,\"#d8576b\"],[0.6666666666666666,\"#ed7953\"],[0.7777777777777778,\"#fb9f3a\"],[0.8888888888888888,\"#fdca26\"],[1.0,\"#f0f921\"]],\"type\":\"heatmapgl\"}],\"heatmap\":[{\"colorbar\":{\"outlinewidth\":0,\"ticks\":\"\"},\"colorscale\":[[0.0,\"#0d0887\"],[0.1111111111111111,\"#46039f\"],[0.2222222222222222,\"#7201a8\"],[0.3333333333333333,\"#9c179e\"],[0.4444444444444444,\"#bd3786\"],[0.5555555555555556,\"#d8576b\"],[0.6666666666666666,\"#ed7953\"],[0.7777777777777778,\"#fb9f3a\"],[0.8888888888888888,\"#fdca26\"],[1.0,\"#f0f921\"]],\"type\":\"heatmap\"}],\"histogram2dcontour\":[{\"colorbar\":{\"outlinewidth\":0,\"ticks\":\"\"},\"colorscale\":[[0.0,\"#0d0887\"],[0.1111111111111111,\"#46039f\"],[0.2222222222222222,\"#7201a8\"],[0.3333333333333333,\"#9c179e\"],[0.4444444444444444,\"#bd3786\"],[0.5555555555555556,\"#d8576b\"],[0.6666666666666666,\"#ed7953\"],[0.7777777777777778,\"#fb9f3a\"],[0.8888888888888888,\"#fdca26\"],[1.0,\"#f0f921\"]],\"type\":\"histogram2dcontour\"}],\"histogram2d\":[{\"colorbar\":{\"outlinewidth\":0,\"ticks\":\"\"},\"colorscale\":[[0.0,\"#0d0887\"],[0.1111111111111111,\"#46039f\"],[0.2222222222222222,\"#7201a8\"],[0.3333333333333333,\"#9c179e\"],[0.4444444444444444,\"#bd3786\"],[0.5555555555555556,\"#d8576b\"],[0.6666666666666666,\"#ed7953\"],[0.7777777777777778,\"#fb9f3a\"],[0.8888888888888888,\"#fdca26\"],[1.0,\"#f0f921\"]],\"type\":\"histogram2d\"}],\"histogram\":[{\"marker\":{\"pattern\":{\"fillmode\":\"overlay\",\"size\":10,\"solidity\":0.2}},\"type\":\"histogram\"}],\"mesh3d\":[{\"colorbar\":{\"outlinewidth\":0,\"ticks\":\"\"},\"type\":\"mesh3d\"}],\"parcoords\":[{\"line\":{\"colorbar\":{\"outlinewidth\":0,\"ticks\":\"\"}},\"type\":\"parcoords\"}],\"pie\":[{\"automargin\":true,\"type\":\"pie\"}],\"scatter3d\":[{\"line\":{\"colorbar\":{\"outlinewidth\":0,\"ticks\":\"\"}},\"marker\":{\"colorbar\":{\"outlinewidth\":0,\"ticks\":\"\"}},\"type\":\"scatter3d\"}],\"scattercarpet\":[{\"marker\":{\"colorbar\":{\"outlinewidth\":0,\"ticks\":\"\"}},\"type\":\"scattercarpet\"}],\"scattergeo\":[{\"marker\":{\"colorbar\":{\"outlinewidth\":0,\"ticks\":\"\"}},\"type\":\"scattergeo\"}],\"scattergl\":[{\"marker\":{\"colorbar\":{\"outlinewidth\":0,\"ticks\":\"\"}},\"type\":\"scattergl\"}],\"scattermapbox\":[{\"marker\":{\"colorbar\":{\"outlinewidth\":0,\"ticks\":\"\"}},\"type\":\"scattermapbox\"}],\"scatterpolargl\":[{\"marker\":{\"colorbar\":{\"outlinewidth\":0,\"ticks\":\"\"}},\"type\":\"scatterpolargl\"}],\"scatterpolar\":[{\"marker\":{\"colorbar\":{\"outlinewidth\":0,\"ticks\":\"\"}},\"type\":\"scatterpolar\"}],\"scatter\":[{\"marker\":{\"colorbar\":{\"outlinewidth\":0,\"ticks\":\"\"}},\"type\":\"scatter\"}],\"scatterternary\":[{\"marker\":{\"colorbar\":{\"outlinewidth\":0,\"ticks\":\"\"}},\"type\":\"scatterternary\"}],\"surface\":[{\"colorbar\":{\"outlinewidth\":0,\"ticks\":\"\"},\"colorscale\":[[0.0,\"#0d0887\"],[0.1111111111111111,\"#46039f\"],[0.2222222222222222,\"#7201a8\"],[0.3333333333333333,\"#9c179e\"],[0.4444444444444444,\"#bd3786\"],[0.5555555555555556,\"#d8576b\"],[0.6666666666666666,\"#ed7953\"],[0.7777777777777778,\"#fb9f3a\"],[0.8888888888888888,\"#fdca26\"],[1.0,\"#f0f921\"]],\"type\":\"surface\"}],\"table\":[{\"cells\":{\"fill\":{\"color\":\"#EBF0F8\"},\"line\":{\"color\":\"white\"}},\"header\":{\"fill\":{\"color\":\"#C8D4E3\"},\"line\":{\"color\":\"white\"}},\"type\":\"table\"}]},\"layout\":{\"annotationdefaults\":{\"arrowcolor\":\"#2a3f5f\",\"arrowhead\":0,\"arrowwidth\":1},\"autotypenumbers\":\"strict\",\"coloraxis\":{\"colorbar\":{\"outlinewidth\":0,\"ticks\":\"\"}},\"colorscale\":{\"diverging\":[[0,\"#8e0152\"],[0.1,\"#c51b7d\"],[0.2,\"#de77ae\"],[0.3,\"#f1b6da\"],[0.4,\"#fde0ef\"],[0.5,\"#f7f7f7\"],[0.6,\"#e6f5d0\"],[0.7,\"#b8e186\"],[0.8,\"#7fbc41\"],[0.9,\"#4d9221\"],[1,\"#276419\"]],\"sequential\":[[0.0,\"#0d0887\"],[0.1111111111111111,\"#46039f\"],[0.2222222222222222,\"#7201a8\"],[0.3333333333333333,\"#9c179e\"],[0.4444444444444444,\"#bd3786\"],[0.5555555555555556,\"#d8576b\"],[0.6666666666666666,\"#ed7953\"],[0.7777777777777778,\"#fb9f3a\"],[0.8888888888888888,\"#fdca26\"],[1.0,\"#f0f921\"]],\"sequentialminus\":[[0.0,\"#0d0887\"],[0.1111111111111111,\"#46039f\"],[0.2222222222222222,\"#7201a8\"],[0.3333333333333333,\"#9c179e\"],[0.4444444444444444,\"#bd3786\"],[0.5555555555555556,\"#d8576b\"],[0.6666666666666666,\"#ed7953\"],[0.7777777777777778,\"#fb9f3a\"],[0.8888888888888888,\"#fdca26\"],[1.0,\"#f0f921\"]]},\"colorway\":[\"#636efa\",\"#EF553B\",\"#00cc96\",\"#ab63fa\",\"#FFA15A\",\"#19d3f3\",\"#FF6692\",\"#B6E880\",\"#FF97FF\",\"#FECB52\"],\"font\":{\"color\":\"#2a3f5f\"},\"geo\":{\"bgcolor\":\"white\",\"lakecolor\":\"white\",\"landcolor\":\"#E5ECF6\",\"showlakes\":true,\"showland\":true,\"subunitcolor\":\"white\"},\"hoverlabel\":{\"align\":\"left\"},\"hovermode\":\"closest\",\"mapbox\":{\"style\":\"light\"},\"paper_bgcolor\":\"white\",\"plot_bgcolor\":\"#E5ECF6\",\"polar\":{\"angularaxis\":{\"gridcolor\":\"white\",\"linecolor\":\"white\",\"ticks\":\"\"},\"bgcolor\":\"#E5ECF6\",\"radialaxis\":{\"gridcolor\":\"white\",\"linecolor\":\"white\",\"ticks\":\"\"}},\"scene\":{\"xaxis\":{\"backgroundcolor\":\"#E5ECF6\",\"gridcolor\":\"white\",\"gridwidth\":2,\"linecolor\":\"white\",\"showbackground\":true,\"ticks\":\"\",\"zerolinecolor\":\"white\"},\"yaxis\":{\"backgroundcolor\":\"#E5ECF6\",\"gridcolor\":\"white\",\"gridwidth\":2,\"linecolor\":\"white\",\"showbackground\":true,\"ticks\":\"\",\"zerolinecolor\":\"white\"},\"zaxis\":{\"backgroundcolor\":\"#E5ECF6\",\"gridcolor\":\"white\",\"gridwidth\":2,\"linecolor\":\"white\",\"showbackground\":true,\"ticks\":\"\",\"zerolinecolor\":\"white\"}},\"shapedefaults\":{\"line\":{\"color\":\"#2a3f5f\"}},\"ternary\":{\"aaxis\":{\"gridcolor\":\"white\",\"linecolor\":\"white\",\"ticks\":\"\"},\"baxis\":{\"gridcolor\":\"white\",\"linecolor\":\"white\",\"ticks\":\"\"},\"bgcolor\":\"#E5ECF6\",\"caxis\":{\"gridcolor\":\"white\",\"linecolor\":\"white\",\"ticks\":\"\"}},\"title\":{\"x\":0.05},\"xaxis\":{\"automargin\":true,\"gridcolor\":\"white\",\"linecolor\":\"white\",\"ticks\":\"\",\"title\":{\"standoff\":15},\"zerolinecolor\":\"white\",\"zerolinewidth\":2},\"yaxis\":{\"automargin\":true,\"gridcolor\":\"white\",\"linecolor\":\"white\",\"ticks\":\"\",\"title\":{\"standoff\":15},\"zerolinecolor\":\"white\",\"zerolinewidth\":2}}},\"title\":{\"font\":{\"color\":\"#4D5663\"}},\"xaxis\":{\"gridcolor\":\"#E1E5ED\",\"showgrid\":true,\"tickfont\":{\"color\":\"#4D5663\"},\"title\":{\"font\":{\"color\":\"#4D5663\"},\"text\":\"\"},\"zerolinecolor\":\"#E1E5ED\"},\"yaxis\":{\"gridcolor\":\"#E1E5ED\",\"showgrid\":true,\"tickfont\":{\"color\":\"#4D5663\"},\"title\":{\"font\":{\"color\":\"#4D5663\"},\"text\":\"\"},\"zerolinecolor\":\"#E1E5ED\"}},                        {\"showLink\": true, \"linkText\": \"Export to plot.ly\", \"plotlyServerURL\": \"https://plot.ly\", \"responsive\": true}                    ).then(function(){\n",
       "                            \n",
       "var gd = document.getElementById('7e3238e5-0d87-4b7c-888c-f17cdc57a4ad');\n",
       "var x = new MutationObserver(function (mutations, observer) {{\n",
       "        var display = window.getComputedStyle(gd).display;\n",
       "        if (!display || display === 'none') {{\n",
       "            console.log([gd, 'removed!']);\n",
       "            Plotly.purge(gd);\n",
       "            observer.disconnect();\n",
       "        }}\n",
       "}});\n",
       "\n",
       "// Listen for the removal of the full notebook cells\n",
       "var notebookContainer = gd.closest('#notebook-container');\n",
       "if (notebookContainer) {{\n",
       "    x.observe(notebookContainer, {childList: true});\n",
       "}}\n",
       "\n",
       "// Listen for the clearing of the current output cell\n",
       "var outputEl = gd.closest('.output');\n",
       "if (outputEl) {{\n",
       "    x.observe(outputEl, {childList: true});\n",
       "}}\n",
       "\n",
       "                        })                };                });            </script>        </div>"
      ]
     },
     "metadata": {},
     "output_type": "display_data"
    }
   ],
   "source": [
    "df.iplot(kind=\"box\")"
   ]
  },
  {
   "cell_type": "code",
   "execution_count": 32,
   "id": "5d2b330b",
   "metadata": {},
   "outputs": [],
   "source": [
    "df3 = pd.DataFrame({\"x\":[1,2,3,4,5], \"y\":[10,20,30,20,10], \"z\":[500,400,300,200,100]})"
   ]
  },
  {
   "cell_type": "code",
   "execution_count": 33,
   "id": "28810ca5",
   "metadata": {},
   "outputs": [
    {
     "data": {
      "text/html": [
       "<div>\n",
       "<style scoped>\n",
       "    .dataframe tbody tr th:only-of-type {\n",
       "        vertical-align: middle;\n",
       "    }\n",
       "\n",
       "    .dataframe tbody tr th {\n",
       "        vertical-align: top;\n",
       "    }\n",
       "\n",
       "    .dataframe thead th {\n",
       "        text-align: right;\n",
       "    }\n",
       "</style>\n",
       "<table border=\"1\" class=\"dataframe\">\n",
       "  <thead>\n",
       "    <tr style=\"text-align: right;\">\n",
       "      <th></th>\n",
       "      <th>x</th>\n",
       "      <th>y</th>\n",
       "      <th>z</th>\n",
       "    </tr>\n",
       "  </thead>\n",
       "  <tbody>\n",
       "    <tr>\n",
       "      <th>0</th>\n",
       "      <td>1</td>\n",
       "      <td>10</td>\n",
       "      <td>500</td>\n",
       "    </tr>\n",
       "    <tr>\n",
       "      <th>1</th>\n",
       "      <td>2</td>\n",
       "      <td>20</td>\n",
       "      <td>400</td>\n",
       "    </tr>\n",
       "    <tr>\n",
       "      <th>2</th>\n",
       "      <td>3</td>\n",
       "      <td>30</td>\n",
       "      <td>300</td>\n",
       "    </tr>\n",
       "    <tr>\n",
       "      <th>3</th>\n",
       "      <td>4</td>\n",
       "      <td>20</td>\n",
       "      <td>200</td>\n",
       "    </tr>\n",
       "    <tr>\n",
       "      <th>4</th>\n",
       "      <td>5</td>\n",
       "      <td>10</td>\n",
       "      <td>100</td>\n",
       "    </tr>\n",
       "  </tbody>\n",
       "</table>\n",
       "</div>"
      ],
      "text/plain": [
       "   x   y    z\n",
       "0  1  10  500\n",
       "1  2  20  400\n",
       "2  3  30  300\n",
       "3  4  20  200\n",
       "4  5  10  100"
      ]
     },
     "execution_count": 33,
     "metadata": {},
     "output_type": "execute_result"
    }
   ],
   "source": [
    "df3"
   ]
  },
  {
   "cell_type": "code",
   "execution_count": 34,
   "id": "f3dfc515",
   "metadata": {},
   "outputs": [
    {
     "data": {
      "application/vnd.plotly.v1+json": {
       "config": {
        "linkText": "Export to plot.ly",
        "plotlyServerURL": "https://plot.ly",
        "showLink": true
       },
       "data": [
        {
         "colorscale": [
          [
           0,
           "rgb(255, 153, 51)"
          ],
          [
           0.1111111111111111,
           "rgb(55, 128, 191)"
          ],
          [
           0.2222222222222222,
           "rgb(50, 171, 96)"
          ],
          [
           0.3333333333333333,
           "rgb(128, 0, 128)"
          ],
          [
           0.4444444444444444,
           "rgb(219, 64, 82)"
          ],
          [
           0.5555555555555556,
           "rgb(0, 128, 128)"
          ],
          [
           0.6666666666666666,
           "rgb(255, 255, 51)"
          ],
          [
           0.7777777777777778,
           "rgb(128, 128, 0)"
          ],
          [
           0.8888888888888888,
           "rgb(251, 128, 114)"
          ],
          [
           1,
           "rgb(128, 177, 211)"
          ]
         ],
         "type": "surface",
         "x": [
          0,
          1,
          2,
          3,
          4
         ],
         "y": [
          "x",
          "y",
          "z"
         ],
         "z": [
          [
           1,
           2,
           3,
           4,
           5
          ],
          [
           10,
           20,
           30,
           20,
           10
          ],
          [
           500,
           400,
           300,
           200,
           100
          ]
         ]
        }
       ],
       "layout": {
        "legend": {
         "bgcolor": "#F5F6F9",
         "font": {
          "color": "#4D5663"
         }
        },
        "paper_bgcolor": "#F5F6F9",
        "plot_bgcolor": "#F5F6F9",
        "template": {
         "data": {
          "bar": [
           {
            "error_x": {
             "color": "#2a3f5f"
            },
            "error_y": {
             "color": "#2a3f5f"
            },
            "marker": {
             "line": {
              "color": "#E5ECF6",
              "width": 0.5
             },
             "pattern": {
              "fillmode": "overlay",
              "size": 10,
              "solidity": 0.2
             }
            },
            "type": "bar"
           }
          ],
          "barpolar": [
           {
            "marker": {
             "line": {
              "color": "#E5ECF6",
              "width": 0.5
             },
             "pattern": {
              "fillmode": "overlay",
              "size": 10,
              "solidity": 0.2
             }
            },
            "type": "barpolar"
           }
          ],
          "carpet": [
           {
            "aaxis": {
             "endlinecolor": "#2a3f5f",
             "gridcolor": "white",
             "linecolor": "white",
             "minorgridcolor": "white",
             "startlinecolor": "#2a3f5f"
            },
            "baxis": {
             "endlinecolor": "#2a3f5f",
             "gridcolor": "white",
             "linecolor": "white",
             "minorgridcolor": "white",
             "startlinecolor": "#2a3f5f"
            },
            "type": "carpet"
           }
          ],
          "choropleth": [
           {
            "colorbar": {
             "outlinewidth": 0,
             "ticks": ""
            },
            "type": "choropleth"
           }
          ],
          "contour": [
           {
            "colorbar": {
             "outlinewidth": 0,
             "ticks": ""
            },
            "colorscale": [
             [
              0,
              "#0d0887"
             ],
             [
              0.1111111111111111,
              "#46039f"
             ],
             [
              0.2222222222222222,
              "#7201a8"
             ],
             [
              0.3333333333333333,
              "#9c179e"
             ],
             [
              0.4444444444444444,
              "#bd3786"
             ],
             [
              0.5555555555555556,
              "#d8576b"
             ],
             [
              0.6666666666666666,
              "#ed7953"
             ],
             [
              0.7777777777777778,
              "#fb9f3a"
             ],
             [
              0.8888888888888888,
              "#fdca26"
             ],
             [
              1,
              "#f0f921"
             ]
            ],
            "type": "contour"
           }
          ],
          "contourcarpet": [
           {
            "colorbar": {
             "outlinewidth": 0,
             "ticks": ""
            },
            "type": "contourcarpet"
           }
          ],
          "heatmap": [
           {
            "colorbar": {
             "outlinewidth": 0,
             "ticks": ""
            },
            "colorscale": [
             [
              0,
              "#0d0887"
             ],
             [
              0.1111111111111111,
              "#46039f"
             ],
             [
              0.2222222222222222,
              "#7201a8"
             ],
             [
              0.3333333333333333,
              "#9c179e"
             ],
             [
              0.4444444444444444,
              "#bd3786"
             ],
             [
              0.5555555555555556,
              "#d8576b"
             ],
             [
              0.6666666666666666,
              "#ed7953"
             ],
             [
              0.7777777777777778,
              "#fb9f3a"
             ],
             [
              0.8888888888888888,
              "#fdca26"
             ],
             [
              1,
              "#f0f921"
             ]
            ],
            "type": "heatmap"
           }
          ],
          "heatmapgl": [
           {
            "colorbar": {
             "outlinewidth": 0,
             "ticks": ""
            },
            "colorscale": [
             [
              0,
              "#0d0887"
             ],
             [
              0.1111111111111111,
              "#46039f"
             ],
             [
              0.2222222222222222,
              "#7201a8"
             ],
             [
              0.3333333333333333,
              "#9c179e"
             ],
             [
              0.4444444444444444,
              "#bd3786"
             ],
             [
              0.5555555555555556,
              "#d8576b"
             ],
             [
              0.6666666666666666,
              "#ed7953"
             ],
             [
              0.7777777777777778,
              "#fb9f3a"
             ],
             [
              0.8888888888888888,
              "#fdca26"
             ],
             [
              1,
              "#f0f921"
             ]
            ],
            "type": "heatmapgl"
           }
          ],
          "histogram": [
           {
            "marker": {
             "pattern": {
              "fillmode": "overlay",
              "size": 10,
              "solidity": 0.2
             }
            },
            "type": "histogram"
           }
          ],
          "histogram2d": [
           {
            "colorbar": {
             "outlinewidth": 0,
             "ticks": ""
            },
            "colorscale": [
             [
              0,
              "#0d0887"
             ],
             [
              0.1111111111111111,
              "#46039f"
             ],
             [
              0.2222222222222222,
              "#7201a8"
             ],
             [
              0.3333333333333333,
              "#9c179e"
             ],
             [
              0.4444444444444444,
              "#bd3786"
             ],
             [
              0.5555555555555556,
              "#d8576b"
             ],
             [
              0.6666666666666666,
              "#ed7953"
             ],
             [
              0.7777777777777778,
              "#fb9f3a"
             ],
             [
              0.8888888888888888,
              "#fdca26"
             ],
             [
              1,
              "#f0f921"
             ]
            ],
            "type": "histogram2d"
           }
          ],
          "histogram2dcontour": [
           {
            "colorbar": {
             "outlinewidth": 0,
             "ticks": ""
            },
            "colorscale": [
             [
              0,
              "#0d0887"
             ],
             [
              0.1111111111111111,
              "#46039f"
             ],
             [
              0.2222222222222222,
              "#7201a8"
             ],
             [
              0.3333333333333333,
              "#9c179e"
             ],
             [
              0.4444444444444444,
              "#bd3786"
             ],
             [
              0.5555555555555556,
              "#d8576b"
             ],
             [
              0.6666666666666666,
              "#ed7953"
             ],
             [
              0.7777777777777778,
              "#fb9f3a"
             ],
             [
              0.8888888888888888,
              "#fdca26"
             ],
             [
              1,
              "#f0f921"
             ]
            ],
            "type": "histogram2dcontour"
           }
          ],
          "mesh3d": [
           {
            "colorbar": {
             "outlinewidth": 0,
             "ticks": ""
            },
            "type": "mesh3d"
           }
          ],
          "parcoords": [
           {
            "line": {
             "colorbar": {
              "outlinewidth": 0,
              "ticks": ""
             }
            },
            "type": "parcoords"
           }
          ],
          "pie": [
           {
            "automargin": true,
            "type": "pie"
           }
          ],
          "scatter": [
           {
            "marker": {
             "colorbar": {
              "outlinewidth": 0,
              "ticks": ""
             }
            },
            "type": "scatter"
           }
          ],
          "scatter3d": [
           {
            "line": {
             "colorbar": {
              "outlinewidth": 0,
              "ticks": ""
             }
            },
            "marker": {
             "colorbar": {
              "outlinewidth": 0,
              "ticks": ""
             }
            },
            "type": "scatter3d"
           }
          ],
          "scattercarpet": [
           {
            "marker": {
             "colorbar": {
              "outlinewidth": 0,
              "ticks": ""
             }
            },
            "type": "scattercarpet"
           }
          ],
          "scattergeo": [
           {
            "marker": {
             "colorbar": {
              "outlinewidth": 0,
              "ticks": ""
             }
            },
            "type": "scattergeo"
           }
          ],
          "scattergl": [
           {
            "marker": {
             "colorbar": {
              "outlinewidth": 0,
              "ticks": ""
             }
            },
            "type": "scattergl"
           }
          ],
          "scattermapbox": [
           {
            "marker": {
             "colorbar": {
              "outlinewidth": 0,
              "ticks": ""
             }
            },
            "type": "scattermapbox"
           }
          ],
          "scatterpolar": [
           {
            "marker": {
             "colorbar": {
              "outlinewidth": 0,
              "ticks": ""
             }
            },
            "type": "scatterpolar"
           }
          ],
          "scatterpolargl": [
           {
            "marker": {
             "colorbar": {
              "outlinewidth": 0,
              "ticks": ""
             }
            },
            "type": "scatterpolargl"
           }
          ],
          "scatterternary": [
           {
            "marker": {
             "colorbar": {
              "outlinewidth": 0,
              "ticks": ""
             }
            },
            "type": "scatterternary"
           }
          ],
          "surface": [
           {
            "colorbar": {
             "outlinewidth": 0,
             "ticks": ""
            },
            "colorscale": [
             [
              0,
              "#0d0887"
             ],
             [
              0.1111111111111111,
              "#46039f"
             ],
             [
              0.2222222222222222,
              "#7201a8"
             ],
             [
              0.3333333333333333,
              "#9c179e"
             ],
             [
              0.4444444444444444,
              "#bd3786"
             ],
             [
              0.5555555555555556,
              "#d8576b"
             ],
             [
              0.6666666666666666,
              "#ed7953"
             ],
             [
              0.7777777777777778,
              "#fb9f3a"
             ],
             [
              0.8888888888888888,
              "#fdca26"
             ],
             [
              1,
              "#f0f921"
             ]
            ],
            "type": "surface"
           }
          ],
          "table": [
           {
            "cells": {
             "fill": {
              "color": "#EBF0F8"
             },
             "line": {
              "color": "white"
             }
            },
            "header": {
             "fill": {
              "color": "#C8D4E3"
             },
             "line": {
              "color": "white"
             }
            },
            "type": "table"
           }
          ]
         },
         "layout": {
          "annotationdefaults": {
           "arrowcolor": "#2a3f5f",
           "arrowhead": 0,
           "arrowwidth": 1
          },
          "autotypenumbers": "strict",
          "coloraxis": {
           "colorbar": {
            "outlinewidth": 0,
            "ticks": ""
           }
          },
          "colorscale": {
           "diverging": [
            [
             0,
             "#8e0152"
            ],
            [
             0.1,
             "#c51b7d"
            ],
            [
             0.2,
             "#de77ae"
            ],
            [
             0.3,
             "#f1b6da"
            ],
            [
             0.4,
             "#fde0ef"
            ],
            [
             0.5,
             "#f7f7f7"
            ],
            [
             0.6,
             "#e6f5d0"
            ],
            [
             0.7,
             "#b8e186"
            ],
            [
             0.8,
             "#7fbc41"
            ],
            [
             0.9,
             "#4d9221"
            ],
            [
             1,
             "#276419"
            ]
           ],
           "sequential": [
            [
             0,
             "#0d0887"
            ],
            [
             0.1111111111111111,
             "#46039f"
            ],
            [
             0.2222222222222222,
             "#7201a8"
            ],
            [
             0.3333333333333333,
             "#9c179e"
            ],
            [
             0.4444444444444444,
             "#bd3786"
            ],
            [
             0.5555555555555556,
             "#d8576b"
            ],
            [
             0.6666666666666666,
             "#ed7953"
            ],
            [
             0.7777777777777778,
             "#fb9f3a"
            ],
            [
             0.8888888888888888,
             "#fdca26"
            ],
            [
             1,
             "#f0f921"
            ]
           ],
           "sequentialminus": [
            [
             0,
             "#0d0887"
            ],
            [
             0.1111111111111111,
             "#46039f"
            ],
            [
             0.2222222222222222,
             "#7201a8"
            ],
            [
             0.3333333333333333,
             "#9c179e"
            ],
            [
             0.4444444444444444,
             "#bd3786"
            ],
            [
             0.5555555555555556,
             "#d8576b"
            ],
            [
             0.6666666666666666,
             "#ed7953"
            ],
            [
             0.7777777777777778,
             "#fb9f3a"
            ],
            [
             0.8888888888888888,
             "#fdca26"
            ],
            [
             1,
             "#f0f921"
            ]
           ]
          },
          "colorway": [
           "#636efa",
           "#EF553B",
           "#00cc96",
           "#ab63fa",
           "#FFA15A",
           "#19d3f3",
           "#FF6692",
           "#B6E880",
           "#FF97FF",
           "#FECB52"
          ],
          "font": {
           "color": "#2a3f5f"
          },
          "geo": {
           "bgcolor": "white",
           "lakecolor": "white",
           "landcolor": "#E5ECF6",
           "showlakes": true,
           "showland": true,
           "subunitcolor": "white"
          },
          "hoverlabel": {
           "align": "left"
          },
          "hovermode": "closest",
          "mapbox": {
           "style": "light"
          },
          "paper_bgcolor": "white",
          "plot_bgcolor": "#E5ECF6",
          "polar": {
           "angularaxis": {
            "gridcolor": "white",
            "linecolor": "white",
            "ticks": ""
           },
           "bgcolor": "#E5ECF6",
           "radialaxis": {
            "gridcolor": "white",
            "linecolor": "white",
            "ticks": ""
           }
          },
          "scene": {
           "xaxis": {
            "backgroundcolor": "#E5ECF6",
            "gridcolor": "white",
            "gridwidth": 2,
            "linecolor": "white",
            "showbackground": true,
            "ticks": "",
            "zerolinecolor": "white"
           },
           "yaxis": {
            "backgroundcolor": "#E5ECF6",
            "gridcolor": "white",
            "gridwidth": 2,
            "linecolor": "white",
            "showbackground": true,
            "ticks": "",
            "zerolinecolor": "white"
           },
           "zaxis": {
            "backgroundcolor": "#E5ECF6",
            "gridcolor": "white",
            "gridwidth": 2,
            "linecolor": "white",
            "showbackground": true,
            "ticks": "",
            "zerolinecolor": "white"
           }
          },
          "shapedefaults": {
           "line": {
            "color": "#2a3f5f"
           }
          },
          "ternary": {
           "aaxis": {
            "gridcolor": "white",
            "linecolor": "white",
            "ticks": ""
           },
           "baxis": {
            "gridcolor": "white",
            "linecolor": "white",
            "ticks": ""
           },
           "bgcolor": "#E5ECF6",
           "caxis": {
            "gridcolor": "white",
            "linecolor": "white",
            "ticks": ""
           }
          },
          "title": {
           "x": 0.05
          },
          "xaxis": {
           "automargin": true,
           "gridcolor": "white",
           "linecolor": "white",
           "ticks": "",
           "title": {
            "standoff": 15
           },
           "zerolinecolor": "white",
           "zerolinewidth": 2
          },
          "yaxis": {
           "automargin": true,
           "gridcolor": "white",
           "linecolor": "white",
           "ticks": "",
           "title": {
            "standoff": 15
           },
           "zerolinecolor": "white",
           "zerolinewidth": 2
          }
         }
        },
        "title": {
         "font": {
          "color": "#4D5663"
         }
        },
        "xaxis": {
         "gridcolor": "#E1E5ED",
         "showgrid": true,
         "tickfont": {
          "color": "#4D5663"
         },
         "title": {
          "font": {
           "color": "#4D5663"
          },
          "text": ""
         },
         "zerolinecolor": "#E1E5ED"
        },
        "yaxis": {
         "gridcolor": "#E1E5ED",
         "showgrid": true,
         "tickfont": {
          "color": "#4D5663"
         },
         "title": {
          "font": {
           "color": "#4D5663"
          },
          "text": ""
         },
         "zerolinecolor": "#E1E5ED"
        }
       }
      },
      "text/html": [
       "<div>                            <div id=\"bba3c48c-14fe-4123-855c-b315eca8b2e2\" class=\"plotly-graph-div\" style=\"height:525px; width:100%;\"></div>            <script type=\"text/javascript\">                require([\"plotly\"], function(Plotly) {                    window.PLOTLYENV=window.PLOTLYENV || {};\n",
       "                    window.PLOTLYENV.BASE_URL='https://plot.ly';                                    if (document.getElementById(\"bba3c48c-14fe-4123-855c-b315eca8b2e2\")) {                    Plotly.newPlot(                        \"bba3c48c-14fe-4123-855c-b315eca8b2e2\",                        [{\"colorscale\":[[0.0,\"rgb(255, 153, 51)\"],[0.1111111111111111,\"rgb(55, 128, 191)\"],[0.2222222222222222,\"rgb(50, 171, 96)\"],[0.3333333333333333,\"rgb(128, 0, 128)\"],[0.4444444444444444,\"rgb(219, 64, 82)\"],[0.5555555555555556,\"rgb(0, 128, 128)\"],[0.6666666666666666,\"rgb(255, 255, 51)\"],[0.7777777777777778,\"rgb(128, 128, 0)\"],[0.8888888888888888,\"rgb(251, 128, 114)\"],[1.0,\"rgb(128, 177, 211)\"]],\"x\":[0,1,2,3,4],\"y\":[\"x\",\"y\",\"z\"],\"z\":[[1,2,3,4,5],[10,20,30,20,10],[500,400,300,200,100]],\"type\":\"surface\"}],                        {\"legend\":{\"bgcolor\":\"#F5F6F9\",\"font\":{\"color\":\"#4D5663\"}},\"paper_bgcolor\":\"#F5F6F9\",\"plot_bgcolor\":\"#F5F6F9\",\"template\":{\"data\":{\"barpolar\":[{\"marker\":{\"line\":{\"color\":\"#E5ECF6\",\"width\":0.5},\"pattern\":{\"fillmode\":\"overlay\",\"size\":10,\"solidity\":0.2}},\"type\":\"barpolar\"}],\"bar\":[{\"error_x\":{\"color\":\"#2a3f5f\"},\"error_y\":{\"color\":\"#2a3f5f\"},\"marker\":{\"line\":{\"color\":\"#E5ECF6\",\"width\":0.5},\"pattern\":{\"fillmode\":\"overlay\",\"size\":10,\"solidity\":0.2}},\"type\":\"bar\"}],\"carpet\":[{\"aaxis\":{\"endlinecolor\":\"#2a3f5f\",\"gridcolor\":\"white\",\"linecolor\":\"white\",\"minorgridcolor\":\"white\",\"startlinecolor\":\"#2a3f5f\"},\"baxis\":{\"endlinecolor\":\"#2a3f5f\",\"gridcolor\":\"white\",\"linecolor\":\"white\",\"minorgridcolor\":\"white\",\"startlinecolor\":\"#2a3f5f\"},\"type\":\"carpet\"}],\"choropleth\":[{\"colorbar\":{\"outlinewidth\":0,\"ticks\":\"\"},\"type\":\"choropleth\"}],\"contourcarpet\":[{\"colorbar\":{\"outlinewidth\":0,\"ticks\":\"\"},\"type\":\"contourcarpet\"}],\"contour\":[{\"colorbar\":{\"outlinewidth\":0,\"ticks\":\"\"},\"colorscale\":[[0.0,\"#0d0887\"],[0.1111111111111111,\"#46039f\"],[0.2222222222222222,\"#7201a8\"],[0.3333333333333333,\"#9c179e\"],[0.4444444444444444,\"#bd3786\"],[0.5555555555555556,\"#d8576b\"],[0.6666666666666666,\"#ed7953\"],[0.7777777777777778,\"#fb9f3a\"],[0.8888888888888888,\"#fdca26\"],[1.0,\"#f0f921\"]],\"type\":\"contour\"}],\"heatmapgl\":[{\"colorbar\":{\"outlinewidth\":0,\"ticks\":\"\"},\"colorscale\":[[0.0,\"#0d0887\"],[0.1111111111111111,\"#46039f\"],[0.2222222222222222,\"#7201a8\"],[0.3333333333333333,\"#9c179e\"],[0.4444444444444444,\"#bd3786\"],[0.5555555555555556,\"#d8576b\"],[0.6666666666666666,\"#ed7953\"],[0.7777777777777778,\"#fb9f3a\"],[0.8888888888888888,\"#fdca26\"],[1.0,\"#f0f921\"]],\"type\":\"heatmapgl\"}],\"heatmap\":[{\"colorbar\":{\"outlinewidth\":0,\"ticks\":\"\"},\"colorscale\":[[0.0,\"#0d0887\"],[0.1111111111111111,\"#46039f\"],[0.2222222222222222,\"#7201a8\"],[0.3333333333333333,\"#9c179e\"],[0.4444444444444444,\"#bd3786\"],[0.5555555555555556,\"#d8576b\"],[0.6666666666666666,\"#ed7953\"],[0.7777777777777778,\"#fb9f3a\"],[0.8888888888888888,\"#fdca26\"],[1.0,\"#f0f921\"]],\"type\":\"heatmap\"}],\"histogram2dcontour\":[{\"colorbar\":{\"outlinewidth\":0,\"ticks\":\"\"},\"colorscale\":[[0.0,\"#0d0887\"],[0.1111111111111111,\"#46039f\"],[0.2222222222222222,\"#7201a8\"],[0.3333333333333333,\"#9c179e\"],[0.4444444444444444,\"#bd3786\"],[0.5555555555555556,\"#d8576b\"],[0.6666666666666666,\"#ed7953\"],[0.7777777777777778,\"#fb9f3a\"],[0.8888888888888888,\"#fdca26\"],[1.0,\"#f0f921\"]],\"type\":\"histogram2dcontour\"}],\"histogram2d\":[{\"colorbar\":{\"outlinewidth\":0,\"ticks\":\"\"},\"colorscale\":[[0.0,\"#0d0887\"],[0.1111111111111111,\"#46039f\"],[0.2222222222222222,\"#7201a8\"],[0.3333333333333333,\"#9c179e\"],[0.4444444444444444,\"#bd3786\"],[0.5555555555555556,\"#d8576b\"],[0.6666666666666666,\"#ed7953\"],[0.7777777777777778,\"#fb9f3a\"],[0.8888888888888888,\"#fdca26\"],[1.0,\"#f0f921\"]],\"type\":\"histogram2d\"}],\"histogram\":[{\"marker\":{\"pattern\":{\"fillmode\":\"overlay\",\"size\":10,\"solidity\":0.2}},\"type\":\"histogram\"}],\"mesh3d\":[{\"colorbar\":{\"outlinewidth\":0,\"ticks\":\"\"},\"type\":\"mesh3d\"}],\"parcoords\":[{\"line\":{\"colorbar\":{\"outlinewidth\":0,\"ticks\":\"\"}},\"type\":\"parcoords\"}],\"pie\":[{\"automargin\":true,\"type\":\"pie\"}],\"scatter3d\":[{\"line\":{\"colorbar\":{\"outlinewidth\":0,\"ticks\":\"\"}},\"marker\":{\"colorbar\":{\"outlinewidth\":0,\"ticks\":\"\"}},\"type\":\"scatter3d\"}],\"scattercarpet\":[{\"marker\":{\"colorbar\":{\"outlinewidth\":0,\"ticks\":\"\"}},\"type\":\"scattercarpet\"}],\"scattergeo\":[{\"marker\":{\"colorbar\":{\"outlinewidth\":0,\"ticks\":\"\"}},\"type\":\"scattergeo\"}],\"scattergl\":[{\"marker\":{\"colorbar\":{\"outlinewidth\":0,\"ticks\":\"\"}},\"type\":\"scattergl\"}],\"scattermapbox\":[{\"marker\":{\"colorbar\":{\"outlinewidth\":0,\"ticks\":\"\"}},\"type\":\"scattermapbox\"}],\"scatterpolargl\":[{\"marker\":{\"colorbar\":{\"outlinewidth\":0,\"ticks\":\"\"}},\"type\":\"scatterpolargl\"}],\"scatterpolar\":[{\"marker\":{\"colorbar\":{\"outlinewidth\":0,\"ticks\":\"\"}},\"type\":\"scatterpolar\"}],\"scatter\":[{\"marker\":{\"colorbar\":{\"outlinewidth\":0,\"ticks\":\"\"}},\"type\":\"scatter\"}],\"scatterternary\":[{\"marker\":{\"colorbar\":{\"outlinewidth\":0,\"ticks\":\"\"}},\"type\":\"scatterternary\"}],\"surface\":[{\"colorbar\":{\"outlinewidth\":0,\"ticks\":\"\"},\"colorscale\":[[0.0,\"#0d0887\"],[0.1111111111111111,\"#46039f\"],[0.2222222222222222,\"#7201a8\"],[0.3333333333333333,\"#9c179e\"],[0.4444444444444444,\"#bd3786\"],[0.5555555555555556,\"#d8576b\"],[0.6666666666666666,\"#ed7953\"],[0.7777777777777778,\"#fb9f3a\"],[0.8888888888888888,\"#fdca26\"],[1.0,\"#f0f921\"]],\"type\":\"surface\"}],\"table\":[{\"cells\":{\"fill\":{\"color\":\"#EBF0F8\"},\"line\":{\"color\":\"white\"}},\"header\":{\"fill\":{\"color\":\"#C8D4E3\"},\"line\":{\"color\":\"white\"}},\"type\":\"table\"}]},\"layout\":{\"annotationdefaults\":{\"arrowcolor\":\"#2a3f5f\",\"arrowhead\":0,\"arrowwidth\":1},\"autotypenumbers\":\"strict\",\"coloraxis\":{\"colorbar\":{\"outlinewidth\":0,\"ticks\":\"\"}},\"colorscale\":{\"diverging\":[[0,\"#8e0152\"],[0.1,\"#c51b7d\"],[0.2,\"#de77ae\"],[0.3,\"#f1b6da\"],[0.4,\"#fde0ef\"],[0.5,\"#f7f7f7\"],[0.6,\"#e6f5d0\"],[0.7,\"#b8e186\"],[0.8,\"#7fbc41\"],[0.9,\"#4d9221\"],[1,\"#276419\"]],\"sequential\":[[0.0,\"#0d0887\"],[0.1111111111111111,\"#46039f\"],[0.2222222222222222,\"#7201a8\"],[0.3333333333333333,\"#9c179e\"],[0.4444444444444444,\"#bd3786\"],[0.5555555555555556,\"#d8576b\"],[0.6666666666666666,\"#ed7953\"],[0.7777777777777778,\"#fb9f3a\"],[0.8888888888888888,\"#fdca26\"],[1.0,\"#f0f921\"]],\"sequentialminus\":[[0.0,\"#0d0887\"],[0.1111111111111111,\"#46039f\"],[0.2222222222222222,\"#7201a8\"],[0.3333333333333333,\"#9c179e\"],[0.4444444444444444,\"#bd3786\"],[0.5555555555555556,\"#d8576b\"],[0.6666666666666666,\"#ed7953\"],[0.7777777777777778,\"#fb9f3a\"],[0.8888888888888888,\"#fdca26\"],[1.0,\"#f0f921\"]]},\"colorway\":[\"#636efa\",\"#EF553B\",\"#00cc96\",\"#ab63fa\",\"#FFA15A\",\"#19d3f3\",\"#FF6692\",\"#B6E880\",\"#FF97FF\",\"#FECB52\"],\"font\":{\"color\":\"#2a3f5f\"},\"geo\":{\"bgcolor\":\"white\",\"lakecolor\":\"white\",\"landcolor\":\"#E5ECF6\",\"showlakes\":true,\"showland\":true,\"subunitcolor\":\"white\"},\"hoverlabel\":{\"align\":\"left\"},\"hovermode\":\"closest\",\"mapbox\":{\"style\":\"light\"},\"paper_bgcolor\":\"white\",\"plot_bgcolor\":\"#E5ECF6\",\"polar\":{\"angularaxis\":{\"gridcolor\":\"white\",\"linecolor\":\"white\",\"ticks\":\"\"},\"bgcolor\":\"#E5ECF6\",\"radialaxis\":{\"gridcolor\":\"white\",\"linecolor\":\"white\",\"ticks\":\"\"}},\"scene\":{\"xaxis\":{\"backgroundcolor\":\"#E5ECF6\",\"gridcolor\":\"white\",\"gridwidth\":2,\"linecolor\":\"white\",\"showbackground\":true,\"ticks\":\"\",\"zerolinecolor\":\"white\"},\"yaxis\":{\"backgroundcolor\":\"#E5ECF6\",\"gridcolor\":\"white\",\"gridwidth\":2,\"linecolor\":\"white\",\"showbackground\":true,\"ticks\":\"\",\"zerolinecolor\":\"white\"},\"zaxis\":{\"backgroundcolor\":\"#E5ECF6\",\"gridcolor\":\"white\",\"gridwidth\":2,\"linecolor\":\"white\",\"showbackground\":true,\"ticks\":\"\",\"zerolinecolor\":\"white\"}},\"shapedefaults\":{\"line\":{\"color\":\"#2a3f5f\"}},\"ternary\":{\"aaxis\":{\"gridcolor\":\"white\",\"linecolor\":\"white\",\"ticks\":\"\"},\"baxis\":{\"gridcolor\":\"white\",\"linecolor\":\"white\",\"ticks\":\"\"},\"bgcolor\":\"#E5ECF6\",\"caxis\":{\"gridcolor\":\"white\",\"linecolor\":\"white\",\"ticks\":\"\"}},\"title\":{\"x\":0.05},\"xaxis\":{\"automargin\":true,\"gridcolor\":\"white\",\"linecolor\":\"white\",\"ticks\":\"\",\"title\":{\"standoff\":15},\"zerolinecolor\":\"white\",\"zerolinewidth\":2},\"yaxis\":{\"automargin\":true,\"gridcolor\":\"white\",\"linecolor\":\"white\",\"ticks\":\"\",\"title\":{\"standoff\":15},\"zerolinecolor\":\"white\",\"zerolinewidth\":2}}},\"title\":{\"font\":{\"color\":\"#4D5663\"}},\"xaxis\":{\"gridcolor\":\"#E1E5ED\",\"showgrid\":true,\"tickfont\":{\"color\":\"#4D5663\"},\"title\":{\"font\":{\"color\":\"#4D5663\"},\"text\":\"\"},\"zerolinecolor\":\"#E1E5ED\"},\"yaxis\":{\"gridcolor\":\"#E1E5ED\",\"showgrid\":true,\"tickfont\":{\"color\":\"#4D5663\"},\"title\":{\"font\":{\"color\":\"#4D5663\"},\"text\":\"\"},\"zerolinecolor\":\"#E1E5ED\"}},                        {\"showLink\": true, \"linkText\": \"Export to plot.ly\", \"plotlyServerURL\": \"https://plot.ly\", \"responsive\": true}                    ).then(function(){\n",
       "                            \n",
       "var gd = document.getElementById('bba3c48c-14fe-4123-855c-b315eca8b2e2');\n",
       "var x = new MutationObserver(function (mutations, observer) {{\n",
       "        var display = window.getComputedStyle(gd).display;\n",
       "        if (!display || display === 'none') {{\n",
       "            console.log([gd, 'removed!']);\n",
       "            Plotly.purge(gd);\n",
       "            observer.disconnect();\n",
       "        }}\n",
       "}});\n",
       "\n",
       "// Listen for the removal of the full notebook cells\n",
       "var notebookContainer = gd.closest('#notebook-container');\n",
       "if (notebookContainer) {{\n",
       "    x.observe(notebookContainer, {childList: true});\n",
       "}}\n",
       "\n",
       "// Listen for the clearing of the current output cell\n",
       "var outputEl = gd.closest('.output');\n",
       "if (outputEl) {{\n",
       "    x.observe(outputEl, {childList: true});\n",
       "}}\n",
       "\n",
       "                        })                };                });            </script>        </div>"
      ]
     },
     "metadata": {},
     "output_type": "display_data"
    }
   ],
   "source": [
    "df3.iplot(kind=\"surface\")"
   ]
  },
  {
   "cell_type": "code",
   "execution_count": 35,
   "id": "6be6ee35",
   "metadata": {},
   "outputs": [],
   "source": [
    "df4 = pd.DataFrame({\"x\":[1,2,3,4,5], \"y\":[10,20,30,20,10], \"z\":[5,4,3,2,1]})"
   ]
  },
  {
   "cell_type": "code",
   "execution_count": 36,
   "id": "9f6dcd59",
   "metadata": {},
   "outputs": [
    {
     "data": {
      "application/vnd.plotly.v1+json": {
       "config": {
        "linkText": "Export to plot.ly",
        "plotlyServerURL": "https://plot.ly",
        "showLink": true
       },
       "data": [
        {
         "colorscale": [
          [
           0,
           "rgb(255, 153, 51)"
          ],
          [
           0.1111111111111111,
           "rgb(55, 128, 191)"
          ],
          [
           0.2222222222222222,
           "rgb(50, 171, 96)"
          ],
          [
           0.3333333333333333,
           "rgb(128, 0, 128)"
          ],
          [
           0.4444444444444444,
           "rgb(219, 64, 82)"
          ],
          [
           0.5555555555555556,
           "rgb(0, 128, 128)"
          ],
          [
           0.6666666666666666,
           "rgb(255, 255, 51)"
          ],
          [
           0.7777777777777778,
           "rgb(128, 128, 0)"
          ],
          [
           0.8888888888888888,
           "rgb(251, 128, 114)"
          ],
          [
           1,
           "rgb(128, 177, 211)"
          ]
         ],
         "type": "surface",
         "x": [
          0,
          1,
          2,
          3,
          4
         ],
         "y": [
          "x",
          "y",
          "z"
         ],
         "z": [
          [
           1,
           2,
           3,
           4,
           5
          ],
          [
           10,
           20,
           30,
           20,
           10
          ],
          [
           5,
           4,
           3,
           2,
           1
          ]
         ]
        }
       ],
       "layout": {
        "legend": {
         "bgcolor": "#F5F6F9",
         "font": {
          "color": "#4D5663"
         }
        },
        "paper_bgcolor": "#F5F6F9",
        "plot_bgcolor": "#F5F6F9",
        "template": {
         "data": {
          "bar": [
           {
            "error_x": {
             "color": "#2a3f5f"
            },
            "error_y": {
             "color": "#2a3f5f"
            },
            "marker": {
             "line": {
              "color": "#E5ECF6",
              "width": 0.5
             },
             "pattern": {
              "fillmode": "overlay",
              "size": 10,
              "solidity": 0.2
             }
            },
            "type": "bar"
           }
          ],
          "barpolar": [
           {
            "marker": {
             "line": {
              "color": "#E5ECF6",
              "width": 0.5
             },
             "pattern": {
              "fillmode": "overlay",
              "size": 10,
              "solidity": 0.2
             }
            },
            "type": "barpolar"
           }
          ],
          "carpet": [
           {
            "aaxis": {
             "endlinecolor": "#2a3f5f",
             "gridcolor": "white",
             "linecolor": "white",
             "minorgridcolor": "white",
             "startlinecolor": "#2a3f5f"
            },
            "baxis": {
             "endlinecolor": "#2a3f5f",
             "gridcolor": "white",
             "linecolor": "white",
             "minorgridcolor": "white",
             "startlinecolor": "#2a3f5f"
            },
            "type": "carpet"
           }
          ],
          "choropleth": [
           {
            "colorbar": {
             "outlinewidth": 0,
             "ticks": ""
            },
            "type": "choropleth"
           }
          ],
          "contour": [
           {
            "colorbar": {
             "outlinewidth": 0,
             "ticks": ""
            },
            "colorscale": [
             [
              0,
              "#0d0887"
             ],
             [
              0.1111111111111111,
              "#46039f"
             ],
             [
              0.2222222222222222,
              "#7201a8"
             ],
             [
              0.3333333333333333,
              "#9c179e"
             ],
             [
              0.4444444444444444,
              "#bd3786"
             ],
             [
              0.5555555555555556,
              "#d8576b"
             ],
             [
              0.6666666666666666,
              "#ed7953"
             ],
             [
              0.7777777777777778,
              "#fb9f3a"
             ],
             [
              0.8888888888888888,
              "#fdca26"
             ],
             [
              1,
              "#f0f921"
             ]
            ],
            "type": "contour"
           }
          ],
          "contourcarpet": [
           {
            "colorbar": {
             "outlinewidth": 0,
             "ticks": ""
            },
            "type": "contourcarpet"
           }
          ],
          "heatmap": [
           {
            "colorbar": {
             "outlinewidth": 0,
             "ticks": ""
            },
            "colorscale": [
             [
              0,
              "#0d0887"
             ],
             [
              0.1111111111111111,
              "#46039f"
             ],
             [
              0.2222222222222222,
              "#7201a8"
             ],
             [
              0.3333333333333333,
              "#9c179e"
             ],
             [
              0.4444444444444444,
              "#bd3786"
             ],
             [
              0.5555555555555556,
              "#d8576b"
             ],
             [
              0.6666666666666666,
              "#ed7953"
             ],
             [
              0.7777777777777778,
              "#fb9f3a"
             ],
             [
              0.8888888888888888,
              "#fdca26"
             ],
             [
              1,
              "#f0f921"
             ]
            ],
            "type": "heatmap"
           }
          ],
          "heatmapgl": [
           {
            "colorbar": {
             "outlinewidth": 0,
             "ticks": ""
            },
            "colorscale": [
             [
              0,
              "#0d0887"
             ],
             [
              0.1111111111111111,
              "#46039f"
             ],
             [
              0.2222222222222222,
              "#7201a8"
             ],
             [
              0.3333333333333333,
              "#9c179e"
             ],
             [
              0.4444444444444444,
              "#bd3786"
             ],
             [
              0.5555555555555556,
              "#d8576b"
             ],
             [
              0.6666666666666666,
              "#ed7953"
             ],
             [
              0.7777777777777778,
              "#fb9f3a"
             ],
             [
              0.8888888888888888,
              "#fdca26"
             ],
             [
              1,
              "#f0f921"
             ]
            ],
            "type": "heatmapgl"
           }
          ],
          "histogram": [
           {
            "marker": {
             "pattern": {
              "fillmode": "overlay",
              "size": 10,
              "solidity": 0.2
             }
            },
            "type": "histogram"
           }
          ],
          "histogram2d": [
           {
            "colorbar": {
             "outlinewidth": 0,
             "ticks": ""
            },
            "colorscale": [
             [
              0,
              "#0d0887"
             ],
             [
              0.1111111111111111,
              "#46039f"
             ],
             [
              0.2222222222222222,
              "#7201a8"
             ],
             [
              0.3333333333333333,
              "#9c179e"
             ],
             [
              0.4444444444444444,
              "#bd3786"
             ],
             [
              0.5555555555555556,
              "#d8576b"
             ],
             [
              0.6666666666666666,
              "#ed7953"
             ],
             [
              0.7777777777777778,
              "#fb9f3a"
             ],
             [
              0.8888888888888888,
              "#fdca26"
             ],
             [
              1,
              "#f0f921"
             ]
            ],
            "type": "histogram2d"
           }
          ],
          "histogram2dcontour": [
           {
            "colorbar": {
             "outlinewidth": 0,
             "ticks": ""
            },
            "colorscale": [
             [
              0,
              "#0d0887"
             ],
             [
              0.1111111111111111,
              "#46039f"
             ],
             [
              0.2222222222222222,
              "#7201a8"
             ],
             [
              0.3333333333333333,
              "#9c179e"
             ],
             [
              0.4444444444444444,
              "#bd3786"
             ],
             [
              0.5555555555555556,
              "#d8576b"
             ],
             [
              0.6666666666666666,
              "#ed7953"
             ],
             [
              0.7777777777777778,
              "#fb9f3a"
             ],
             [
              0.8888888888888888,
              "#fdca26"
             ],
             [
              1,
              "#f0f921"
             ]
            ],
            "type": "histogram2dcontour"
           }
          ],
          "mesh3d": [
           {
            "colorbar": {
             "outlinewidth": 0,
             "ticks": ""
            },
            "type": "mesh3d"
           }
          ],
          "parcoords": [
           {
            "line": {
             "colorbar": {
              "outlinewidth": 0,
              "ticks": ""
             }
            },
            "type": "parcoords"
           }
          ],
          "pie": [
           {
            "automargin": true,
            "type": "pie"
           }
          ],
          "scatter": [
           {
            "marker": {
             "colorbar": {
              "outlinewidth": 0,
              "ticks": ""
             }
            },
            "type": "scatter"
           }
          ],
          "scatter3d": [
           {
            "line": {
             "colorbar": {
              "outlinewidth": 0,
              "ticks": ""
             }
            },
            "marker": {
             "colorbar": {
              "outlinewidth": 0,
              "ticks": ""
             }
            },
            "type": "scatter3d"
           }
          ],
          "scattercarpet": [
           {
            "marker": {
             "colorbar": {
              "outlinewidth": 0,
              "ticks": ""
             }
            },
            "type": "scattercarpet"
           }
          ],
          "scattergeo": [
           {
            "marker": {
             "colorbar": {
              "outlinewidth": 0,
              "ticks": ""
             }
            },
            "type": "scattergeo"
           }
          ],
          "scattergl": [
           {
            "marker": {
             "colorbar": {
              "outlinewidth": 0,
              "ticks": ""
             }
            },
            "type": "scattergl"
           }
          ],
          "scattermapbox": [
           {
            "marker": {
             "colorbar": {
              "outlinewidth": 0,
              "ticks": ""
             }
            },
            "type": "scattermapbox"
           }
          ],
          "scatterpolar": [
           {
            "marker": {
             "colorbar": {
              "outlinewidth": 0,
              "ticks": ""
             }
            },
            "type": "scatterpolar"
           }
          ],
          "scatterpolargl": [
           {
            "marker": {
             "colorbar": {
              "outlinewidth": 0,
              "ticks": ""
             }
            },
            "type": "scatterpolargl"
           }
          ],
          "scatterternary": [
           {
            "marker": {
             "colorbar": {
              "outlinewidth": 0,
              "ticks": ""
             }
            },
            "type": "scatterternary"
           }
          ],
          "surface": [
           {
            "colorbar": {
             "outlinewidth": 0,
             "ticks": ""
            },
            "colorscale": [
             [
              0,
              "#0d0887"
             ],
             [
              0.1111111111111111,
              "#46039f"
             ],
             [
              0.2222222222222222,
              "#7201a8"
             ],
             [
              0.3333333333333333,
              "#9c179e"
             ],
             [
              0.4444444444444444,
              "#bd3786"
             ],
             [
              0.5555555555555556,
              "#d8576b"
             ],
             [
              0.6666666666666666,
              "#ed7953"
             ],
             [
              0.7777777777777778,
              "#fb9f3a"
             ],
             [
              0.8888888888888888,
              "#fdca26"
             ],
             [
              1,
              "#f0f921"
             ]
            ],
            "type": "surface"
           }
          ],
          "table": [
           {
            "cells": {
             "fill": {
              "color": "#EBF0F8"
             },
             "line": {
              "color": "white"
             }
            },
            "header": {
             "fill": {
              "color": "#C8D4E3"
             },
             "line": {
              "color": "white"
             }
            },
            "type": "table"
           }
          ]
         },
         "layout": {
          "annotationdefaults": {
           "arrowcolor": "#2a3f5f",
           "arrowhead": 0,
           "arrowwidth": 1
          },
          "autotypenumbers": "strict",
          "coloraxis": {
           "colorbar": {
            "outlinewidth": 0,
            "ticks": ""
           }
          },
          "colorscale": {
           "diverging": [
            [
             0,
             "#8e0152"
            ],
            [
             0.1,
             "#c51b7d"
            ],
            [
             0.2,
             "#de77ae"
            ],
            [
             0.3,
             "#f1b6da"
            ],
            [
             0.4,
             "#fde0ef"
            ],
            [
             0.5,
             "#f7f7f7"
            ],
            [
             0.6,
             "#e6f5d0"
            ],
            [
             0.7,
             "#b8e186"
            ],
            [
             0.8,
             "#7fbc41"
            ],
            [
             0.9,
             "#4d9221"
            ],
            [
             1,
             "#276419"
            ]
           ],
           "sequential": [
            [
             0,
             "#0d0887"
            ],
            [
             0.1111111111111111,
             "#46039f"
            ],
            [
             0.2222222222222222,
             "#7201a8"
            ],
            [
             0.3333333333333333,
             "#9c179e"
            ],
            [
             0.4444444444444444,
             "#bd3786"
            ],
            [
             0.5555555555555556,
             "#d8576b"
            ],
            [
             0.6666666666666666,
             "#ed7953"
            ],
            [
             0.7777777777777778,
             "#fb9f3a"
            ],
            [
             0.8888888888888888,
             "#fdca26"
            ],
            [
             1,
             "#f0f921"
            ]
           ],
           "sequentialminus": [
            [
             0,
             "#0d0887"
            ],
            [
             0.1111111111111111,
             "#46039f"
            ],
            [
             0.2222222222222222,
             "#7201a8"
            ],
            [
             0.3333333333333333,
             "#9c179e"
            ],
            [
             0.4444444444444444,
             "#bd3786"
            ],
            [
             0.5555555555555556,
             "#d8576b"
            ],
            [
             0.6666666666666666,
             "#ed7953"
            ],
            [
             0.7777777777777778,
             "#fb9f3a"
            ],
            [
             0.8888888888888888,
             "#fdca26"
            ],
            [
             1,
             "#f0f921"
            ]
           ]
          },
          "colorway": [
           "#636efa",
           "#EF553B",
           "#00cc96",
           "#ab63fa",
           "#FFA15A",
           "#19d3f3",
           "#FF6692",
           "#B6E880",
           "#FF97FF",
           "#FECB52"
          ],
          "font": {
           "color": "#2a3f5f"
          },
          "geo": {
           "bgcolor": "white",
           "lakecolor": "white",
           "landcolor": "#E5ECF6",
           "showlakes": true,
           "showland": true,
           "subunitcolor": "white"
          },
          "hoverlabel": {
           "align": "left"
          },
          "hovermode": "closest",
          "mapbox": {
           "style": "light"
          },
          "paper_bgcolor": "white",
          "plot_bgcolor": "#E5ECF6",
          "polar": {
           "angularaxis": {
            "gridcolor": "white",
            "linecolor": "white",
            "ticks": ""
           },
           "bgcolor": "#E5ECF6",
           "radialaxis": {
            "gridcolor": "white",
            "linecolor": "white",
            "ticks": ""
           }
          },
          "scene": {
           "xaxis": {
            "backgroundcolor": "#E5ECF6",
            "gridcolor": "white",
            "gridwidth": 2,
            "linecolor": "white",
            "showbackground": true,
            "ticks": "",
            "zerolinecolor": "white"
           },
           "yaxis": {
            "backgroundcolor": "#E5ECF6",
            "gridcolor": "white",
            "gridwidth": 2,
            "linecolor": "white",
            "showbackground": true,
            "ticks": "",
            "zerolinecolor": "white"
           },
           "zaxis": {
            "backgroundcolor": "#E5ECF6",
            "gridcolor": "white",
            "gridwidth": 2,
            "linecolor": "white",
            "showbackground": true,
            "ticks": "",
            "zerolinecolor": "white"
           }
          },
          "shapedefaults": {
           "line": {
            "color": "#2a3f5f"
           }
          },
          "ternary": {
           "aaxis": {
            "gridcolor": "white",
            "linecolor": "white",
            "ticks": ""
           },
           "baxis": {
            "gridcolor": "white",
            "linecolor": "white",
            "ticks": ""
           },
           "bgcolor": "#E5ECF6",
           "caxis": {
            "gridcolor": "white",
            "linecolor": "white",
            "ticks": ""
           }
          },
          "title": {
           "x": 0.05
          },
          "xaxis": {
           "automargin": true,
           "gridcolor": "white",
           "linecolor": "white",
           "ticks": "",
           "title": {
            "standoff": 15
           },
           "zerolinecolor": "white",
           "zerolinewidth": 2
          },
          "yaxis": {
           "automargin": true,
           "gridcolor": "white",
           "linecolor": "white",
           "ticks": "",
           "title": {
            "standoff": 15
           },
           "zerolinecolor": "white",
           "zerolinewidth": 2
          }
         }
        },
        "title": {
         "font": {
          "color": "#4D5663"
         }
        },
        "xaxis": {
         "gridcolor": "#E1E5ED",
         "showgrid": true,
         "tickfont": {
          "color": "#4D5663"
         },
         "title": {
          "font": {
           "color": "#4D5663"
          },
          "text": ""
         },
         "zerolinecolor": "#E1E5ED"
        },
        "yaxis": {
         "gridcolor": "#E1E5ED",
         "showgrid": true,
         "tickfont": {
          "color": "#4D5663"
         },
         "title": {
          "font": {
           "color": "#4D5663"
          },
          "text": ""
         },
         "zerolinecolor": "#E1E5ED"
        }
       }
      },
      "text/html": [
       "<div>                            <div id=\"30ecf766-2b8c-4b71-92e5-dd05c0e8999e\" class=\"plotly-graph-div\" style=\"height:525px; width:100%;\"></div>            <script type=\"text/javascript\">                require([\"plotly\"], function(Plotly) {                    window.PLOTLYENV=window.PLOTLYENV || {};\n",
       "                    window.PLOTLYENV.BASE_URL='https://plot.ly';                                    if (document.getElementById(\"30ecf766-2b8c-4b71-92e5-dd05c0e8999e\")) {                    Plotly.newPlot(                        \"30ecf766-2b8c-4b71-92e5-dd05c0e8999e\",                        [{\"colorscale\":[[0.0,\"rgb(255, 153, 51)\"],[0.1111111111111111,\"rgb(55, 128, 191)\"],[0.2222222222222222,\"rgb(50, 171, 96)\"],[0.3333333333333333,\"rgb(128, 0, 128)\"],[0.4444444444444444,\"rgb(219, 64, 82)\"],[0.5555555555555556,\"rgb(0, 128, 128)\"],[0.6666666666666666,\"rgb(255, 255, 51)\"],[0.7777777777777778,\"rgb(128, 128, 0)\"],[0.8888888888888888,\"rgb(251, 128, 114)\"],[1.0,\"rgb(128, 177, 211)\"]],\"x\":[0,1,2,3,4],\"y\":[\"x\",\"y\",\"z\"],\"z\":[[1,2,3,4,5],[10,20,30,20,10],[5,4,3,2,1]],\"type\":\"surface\"}],                        {\"legend\":{\"bgcolor\":\"#F5F6F9\",\"font\":{\"color\":\"#4D5663\"}},\"paper_bgcolor\":\"#F5F6F9\",\"plot_bgcolor\":\"#F5F6F9\",\"template\":{\"data\":{\"barpolar\":[{\"marker\":{\"line\":{\"color\":\"#E5ECF6\",\"width\":0.5},\"pattern\":{\"fillmode\":\"overlay\",\"size\":10,\"solidity\":0.2}},\"type\":\"barpolar\"}],\"bar\":[{\"error_x\":{\"color\":\"#2a3f5f\"},\"error_y\":{\"color\":\"#2a3f5f\"},\"marker\":{\"line\":{\"color\":\"#E5ECF6\",\"width\":0.5},\"pattern\":{\"fillmode\":\"overlay\",\"size\":10,\"solidity\":0.2}},\"type\":\"bar\"}],\"carpet\":[{\"aaxis\":{\"endlinecolor\":\"#2a3f5f\",\"gridcolor\":\"white\",\"linecolor\":\"white\",\"minorgridcolor\":\"white\",\"startlinecolor\":\"#2a3f5f\"},\"baxis\":{\"endlinecolor\":\"#2a3f5f\",\"gridcolor\":\"white\",\"linecolor\":\"white\",\"minorgridcolor\":\"white\",\"startlinecolor\":\"#2a3f5f\"},\"type\":\"carpet\"}],\"choropleth\":[{\"colorbar\":{\"outlinewidth\":0,\"ticks\":\"\"},\"type\":\"choropleth\"}],\"contourcarpet\":[{\"colorbar\":{\"outlinewidth\":0,\"ticks\":\"\"},\"type\":\"contourcarpet\"}],\"contour\":[{\"colorbar\":{\"outlinewidth\":0,\"ticks\":\"\"},\"colorscale\":[[0.0,\"#0d0887\"],[0.1111111111111111,\"#46039f\"],[0.2222222222222222,\"#7201a8\"],[0.3333333333333333,\"#9c179e\"],[0.4444444444444444,\"#bd3786\"],[0.5555555555555556,\"#d8576b\"],[0.6666666666666666,\"#ed7953\"],[0.7777777777777778,\"#fb9f3a\"],[0.8888888888888888,\"#fdca26\"],[1.0,\"#f0f921\"]],\"type\":\"contour\"}],\"heatmapgl\":[{\"colorbar\":{\"outlinewidth\":0,\"ticks\":\"\"},\"colorscale\":[[0.0,\"#0d0887\"],[0.1111111111111111,\"#46039f\"],[0.2222222222222222,\"#7201a8\"],[0.3333333333333333,\"#9c179e\"],[0.4444444444444444,\"#bd3786\"],[0.5555555555555556,\"#d8576b\"],[0.6666666666666666,\"#ed7953\"],[0.7777777777777778,\"#fb9f3a\"],[0.8888888888888888,\"#fdca26\"],[1.0,\"#f0f921\"]],\"type\":\"heatmapgl\"}],\"heatmap\":[{\"colorbar\":{\"outlinewidth\":0,\"ticks\":\"\"},\"colorscale\":[[0.0,\"#0d0887\"],[0.1111111111111111,\"#46039f\"],[0.2222222222222222,\"#7201a8\"],[0.3333333333333333,\"#9c179e\"],[0.4444444444444444,\"#bd3786\"],[0.5555555555555556,\"#d8576b\"],[0.6666666666666666,\"#ed7953\"],[0.7777777777777778,\"#fb9f3a\"],[0.8888888888888888,\"#fdca26\"],[1.0,\"#f0f921\"]],\"type\":\"heatmap\"}],\"histogram2dcontour\":[{\"colorbar\":{\"outlinewidth\":0,\"ticks\":\"\"},\"colorscale\":[[0.0,\"#0d0887\"],[0.1111111111111111,\"#46039f\"],[0.2222222222222222,\"#7201a8\"],[0.3333333333333333,\"#9c179e\"],[0.4444444444444444,\"#bd3786\"],[0.5555555555555556,\"#d8576b\"],[0.6666666666666666,\"#ed7953\"],[0.7777777777777778,\"#fb9f3a\"],[0.8888888888888888,\"#fdca26\"],[1.0,\"#f0f921\"]],\"type\":\"histogram2dcontour\"}],\"histogram2d\":[{\"colorbar\":{\"outlinewidth\":0,\"ticks\":\"\"},\"colorscale\":[[0.0,\"#0d0887\"],[0.1111111111111111,\"#46039f\"],[0.2222222222222222,\"#7201a8\"],[0.3333333333333333,\"#9c179e\"],[0.4444444444444444,\"#bd3786\"],[0.5555555555555556,\"#d8576b\"],[0.6666666666666666,\"#ed7953\"],[0.7777777777777778,\"#fb9f3a\"],[0.8888888888888888,\"#fdca26\"],[1.0,\"#f0f921\"]],\"type\":\"histogram2d\"}],\"histogram\":[{\"marker\":{\"pattern\":{\"fillmode\":\"overlay\",\"size\":10,\"solidity\":0.2}},\"type\":\"histogram\"}],\"mesh3d\":[{\"colorbar\":{\"outlinewidth\":0,\"ticks\":\"\"},\"type\":\"mesh3d\"}],\"parcoords\":[{\"line\":{\"colorbar\":{\"outlinewidth\":0,\"ticks\":\"\"}},\"type\":\"parcoords\"}],\"pie\":[{\"automargin\":true,\"type\":\"pie\"}],\"scatter3d\":[{\"line\":{\"colorbar\":{\"outlinewidth\":0,\"ticks\":\"\"}},\"marker\":{\"colorbar\":{\"outlinewidth\":0,\"ticks\":\"\"}},\"type\":\"scatter3d\"}],\"scattercarpet\":[{\"marker\":{\"colorbar\":{\"outlinewidth\":0,\"ticks\":\"\"}},\"type\":\"scattercarpet\"}],\"scattergeo\":[{\"marker\":{\"colorbar\":{\"outlinewidth\":0,\"ticks\":\"\"}},\"type\":\"scattergeo\"}],\"scattergl\":[{\"marker\":{\"colorbar\":{\"outlinewidth\":0,\"ticks\":\"\"}},\"type\":\"scattergl\"}],\"scattermapbox\":[{\"marker\":{\"colorbar\":{\"outlinewidth\":0,\"ticks\":\"\"}},\"type\":\"scattermapbox\"}],\"scatterpolargl\":[{\"marker\":{\"colorbar\":{\"outlinewidth\":0,\"ticks\":\"\"}},\"type\":\"scatterpolargl\"}],\"scatterpolar\":[{\"marker\":{\"colorbar\":{\"outlinewidth\":0,\"ticks\":\"\"}},\"type\":\"scatterpolar\"}],\"scatter\":[{\"marker\":{\"colorbar\":{\"outlinewidth\":0,\"ticks\":\"\"}},\"type\":\"scatter\"}],\"scatterternary\":[{\"marker\":{\"colorbar\":{\"outlinewidth\":0,\"ticks\":\"\"}},\"type\":\"scatterternary\"}],\"surface\":[{\"colorbar\":{\"outlinewidth\":0,\"ticks\":\"\"},\"colorscale\":[[0.0,\"#0d0887\"],[0.1111111111111111,\"#46039f\"],[0.2222222222222222,\"#7201a8\"],[0.3333333333333333,\"#9c179e\"],[0.4444444444444444,\"#bd3786\"],[0.5555555555555556,\"#d8576b\"],[0.6666666666666666,\"#ed7953\"],[0.7777777777777778,\"#fb9f3a\"],[0.8888888888888888,\"#fdca26\"],[1.0,\"#f0f921\"]],\"type\":\"surface\"}],\"table\":[{\"cells\":{\"fill\":{\"color\":\"#EBF0F8\"},\"line\":{\"color\":\"white\"}},\"header\":{\"fill\":{\"color\":\"#C8D4E3\"},\"line\":{\"color\":\"white\"}},\"type\":\"table\"}]},\"layout\":{\"annotationdefaults\":{\"arrowcolor\":\"#2a3f5f\",\"arrowhead\":0,\"arrowwidth\":1},\"autotypenumbers\":\"strict\",\"coloraxis\":{\"colorbar\":{\"outlinewidth\":0,\"ticks\":\"\"}},\"colorscale\":{\"diverging\":[[0,\"#8e0152\"],[0.1,\"#c51b7d\"],[0.2,\"#de77ae\"],[0.3,\"#f1b6da\"],[0.4,\"#fde0ef\"],[0.5,\"#f7f7f7\"],[0.6,\"#e6f5d0\"],[0.7,\"#b8e186\"],[0.8,\"#7fbc41\"],[0.9,\"#4d9221\"],[1,\"#276419\"]],\"sequential\":[[0.0,\"#0d0887\"],[0.1111111111111111,\"#46039f\"],[0.2222222222222222,\"#7201a8\"],[0.3333333333333333,\"#9c179e\"],[0.4444444444444444,\"#bd3786\"],[0.5555555555555556,\"#d8576b\"],[0.6666666666666666,\"#ed7953\"],[0.7777777777777778,\"#fb9f3a\"],[0.8888888888888888,\"#fdca26\"],[1.0,\"#f0f921\"]],\"sequentialminus\":[[0.0,\"#0d0887\"],[0.1111111111111111,\"#46039f\"],[0.2222222222222222,\"#7201a8\"],[0.3333333333333333,\"#9c179e\"],[0.4444444444444444,\"#bd3786\"],[0.5555555555555556,\"#d8576b\"],[0.6666666666666666,\"#ed7953\"],[0.7777777777777778,\"#fb9f3a\"],[0.8888888888888888,\"#fdca26\"],[1.0,\"#f0f921\"]]},\"colorway\":[\"#636efa\",\"#EF553B\",\"#00cc96\",\"#ab63fa\",\"#FFA15A\",\"#19d3f3\",\"#FF6692\",\"#B6E880\",\"#FF97FF\",\"#FECB52\"],\"font\":{\"color\":\"#2a3f5f\"},\"geo\":{\"bgcolor\":\"white\",\"lakecolor\":\"white\",\"landcolor\":\"#E5ECF6\",\"showlakes\":true,\"showland\":true,\"subunitcolor\":\"white\"},\"hoverlabel\":{\"align\":\"left\"},\"hovermode\":\"closest\",\"mapbox\":{\"style\":\"light\"},\"paper_bgcolor\":\"white\",\"plot_bgcolor\":\"#E5ECF6\",\"polar\":{\"angularaxis\":{\"gridcolor\":\"white\",\"linecolor\":\"white\",\"ticks\":\"\"},\"bgcolor\":\"#E5ECF6\",\"radialaxis\":{\"gridcolor\":\"white\",\"linecolor\":\"white\",\"ticks\":\"\"}},\"scene\":{\"xaxis\":{\"backgroundcolor\":\"#E5ECF6\",\"gridcolor\":\"white\",\"gridwidth\":2,\"linecolor\":\"white\",\"showbackground\":true,\"ticks\":\"\",\"zerolinecolor\":\"white\"},\"yaxis\":{\"backgroundcolor\":\"#E5ECF6\",\"gridcolor\":\"white\",\"gridwidth\":2,\"linecolor\":\"white\",\"showbackground\":true,\"ticks\":\"\",\"zerolinecolor\":\"white\"},\"zaxis\":{\"backgroundcolor\":\"#E5ECF6\",\"gridcolor\":\"white\",\"gridwidth\":2,\"linecolor\":\"white\",\"showbackground\":true,\"ticks\":\"\",\"zerolinecolor\":\"white\"}},\"shapedefaults\":{\"line\":{\"color\":\"#2a3f5f\"}},\"ternary\":{\"aaxis\":{\"gridcolor\":\"white\",\"linecolor\":\"white\",\"ticks\":\"\"},\"baxis\":{\"gridcolor\":\"white\",\"linecolor\":\"white\",\"ticks\":\"\"},\"bgcolor\":\"#E5ECF6\",\"caxis\":{\"gridcolor\":\"white\",\"linecolor\":\"white\",\"ticks\":\"\"}},\"title\":{\"x\":0.05},\"xaxis\":{\"automargin\":true,\"gridcolor\":\"white\",\"linecolor\":\"white\",\"ticks\":\"\",\"title\":{\"standoff\":15},\"zerolinecolor\":\"white\",\"zerolinewidth\":2},\"yaxis\":{\"automargin\":true,\"gridcolor\":\"white\",\"linecolor\":\"white\",\"ticks\":\"\",\"title\":{\"standoff\":15},\"zerolinecolor\":\"white\",\"zerolinewidth\":2}}},\"title\":{\"font\":{\"color\":\"#4D5663\"}},\"xaxis\":{\"gridcolor\":\"#E1E5ED\",\"showgrid\":true,\"tickfont\":{\"color\":\"#4D5663\"},\"title\":{\"font\":{\"color\":\"#4D5663\"},\"text\":\"\"},\"zerolinecolor\":\"#E1E5ED\"},\"yaxis\":{\"gridcolor\":\"#E1E5ED\",\"showgrid\":true,\"tickfont\":{\"color\":\"#4D5663\"},\"title\":{\"font\":{\"color\":\"#4D5663\"},\"text\":\"\"},\"zerolinecolor\":\"#E1E5ED\"}},                        {\"showLink\": true, \"linkText\": \"Export to plot.ly\", \"plotlyServerURL\": \"https://plot.ly\", \"responsive\": true}                    ).then(function(){\n",
       "                            \n",
       "var gd = document.getElementById('30ecf766-2b8c-4b71-92e5-dd05c0e8999e');\n",
       "var x = new MutationObserver(function (mutations, observer) {{\n",
       "        var display = window.getComputedStyle(gd).display;\n",
       "        if (!display || display === 'none') {{\n",
       "            console.log([gd, 'removed!']);\n",
       "            Plotly.purge(gd);\n",
       "            observer.disconnect();\n",
       "        }}\n",
       "}});\n",
       "\n",
       "// Listen for the removal of the full notebook cells\n",
       "var notebookContainer = gd.closest('#notebook-container');\n",
       "if (notebookContainer) {{\n",
       "    x.observe(notebookContainer, {childList: true});\n",
       "}}\n",
       "\n",
       "// Listen for the clearing of the current output cell\n",
       "var outputEl = gd.closest('.output');\n",
       "if (outputEl) {{\n",
       "    x.observe(outputEl, {childList: true});\n",
       "}}\n",
       "\n",
       "                        })                };                });            </script>        </div>"
      ]
     },
     "metadata": {},
     "output_type": "display_data"
    }
   ],
   "source": [
    "df4.iplot(kind=\"surface\")"
   ]
  },
  {
   "cell_type": "code",
   "execution_count": 37,
   "id": "03a81782",
   "metadata": {},
   "outputs": [
    {
     "data": {
      "application/vnd.plotly.v1+json": {
       "config": {
        "linkText": "Export to plot.ly",
        "plotlyServerURL": "https://plot.ly",
        "showLink": true
       },
       "data": [
        {
         "histfunc": "count",
         "histnorm": "",
         "marker": {
          "color": "rgba(255, 153, 51, 1.0)",
          "line": {
           "color": "#4D5663",
           "width": 1.3
          }
         },
         "name": "A",
         "opacity": 0.8,
         "orientation": "v",
         "type": "histogram",
         "x": [
          -0.6715841140505145,
          -0.015693512274722023,
          -1.2377868022190277,
          0.02503655607096757,
          -0.14529398503449995,
          -1.0551956430573703,
          0.23233137831534484,
          -0.2956574504198168,
          -0.5577910399776433,
          1.3738652338159894,
          -2.9623175823727816,
          1.4904430345297184,
          1.039183339678253,
          -0.7113259936440596,
          -1.1842573167447745,
          0.08276897728234352,
          0.329475561063558,
          0.4884573064355324,
          0.33170945240886557,
          -1.623491342611854,
          -0.2787006945859761,
          0.3451219421823229,
          -0.8463179724936395,
          1.198615884615791,
          -1.21520995130495,
          0.08357517582237833,
          -0.9168333966717761,
          0.14444471685492827,
          -0.7587977901216573,
          -0.5716253932588715,
          -0.5155445307260258,
          0.039690930351866376,
          0.45206315536669267,
          0.25822078314915525,
          0.6795014499531823,
          -0.5258381951483264,
          -0.5831900803018422,
          0.9433672570698973,
          -1.2172033264702742,
          0.4070804402188379,
          0.9984241995599689,
          0.17547655482258462,
          -0.4864382830689831,
          -1.1725144840193726,
          1.2159970426643887,
          2.2007383884166125,
          -1.447909129888451,
          -1.2405381762638814,
          0.08017130631382811,
          -2.4146038180313445,
          0.24500705463654993,
          1.0955121238600343,
          0.07840931223258185,
          -1.0910806569187692,
          0.8837375823403211,
          -0.6788158992187295,
          -0.11096246412127025,
          -0.18905143074917843,
          -0.18057514475557498,
          0.6162366738892845,
          0.16758644721112217,
          -1.552022094532808,
          -0.15980187798785894,
          0.684059048953964,
          0.08319961960883286,
          -0.1393646482722601,
          -2.504160913360558,
          0.5878659446965919,
          1.635811129335889,
          1.9114127993924863,
          -0.7805028079982012,
          0.1596568880233185,
          0.04155434974831334,
          1.0035541939648416,
          0.8908357638671642,
          0.1327051615657846,
          -0.3952116467445707,
          0.7864341312472358,
          0.38666747641392035,
          0.14471853623258493,
          1.431655710690944,
          -0.11781504624255924,
          1.4974434253457516,
          -0.7964145225371747,
          -1.3699600853577067,
          -0.9618089897181643,
          -0.827111687389078,
          -0.7046529758368414,
          0.8828852015707367,
          -0.706753026854823,
          -1.390935846156628,
          -1.0817460195694732,
          0.9059710010262795,
          1.6281493928309418,
          -1.5741581898416985,
          -1.1456360795171043,
          0.5647014328630369,
          1.4079302677481942,
          0.7015348136215821,
          0.2996814140958031
         ]
        }
       ],
       "layout": {
        "barmode": "overlay",
        "legend": {
         "bgcolor": "#F5F6F9",
         "font": {
          "color": "#4D5663"
         }
        },
        "paper_bgcolor": "#F5F6F9",
        "plot_bgcolor": "#F5F6F9",
        "template": {
         "data": {
          "bar": [
           {
            "error_x": {
             "color": "#2a3f5f"
            },
            "error_y": {
             "color": "#2a3f5f"
            },
            "marker": {
             "line": {
              "color": "#E5ECF6",
              "width": 0.5
             },
             "pattern": {
              "fillmode": "overlay",
              "size": 10,
              "solidity": 0.2
             }
            },
            "type": "bar"
           }
          ],
          "barpolar": [
           {
            "marker": {
             "line": {
              "color": "#E5ECF6",
              "width": 0.5
             },
             "pattern": {
              "fillmode": "overlay",
              "size": 10,
              "solidity": 0.2
             }
            },
            "type": "barpolar"
           }
          ],
          "carpet": [
           {
            "aaxis": {
             "endlinecolor": "#2a3f5f",
             "gridcolor": "white",
             "linecolor": "white",
             "minorgridcolor": "white",
             "startlinecolor": "#2a3f5f"
            },
            "baxis": {
             "endlinecolor": "#2a3f5f",
             "gridcolor": "white",
             "linecolor": "white",
             "minorgridcolor": "white",
             "startlinecolor": "#2a3f5f"
            },
            "type": "carpet"
           }
          ],
          "choropleth": [
           {
            "colorbar": {
             "outlinewidth": 0,
             "ticks": ""
            },
            "type": "choropleth"
           }
          ],
          "contour": [
           {
            "colorbar": {
             "outlinewidth": 0,
             "ticks": ""
            },
            "colorscale": [
             [
              0,
              "#0d0887"
             ],
             [
              0.1111111111111111,
              "#46039f"
             ],
             [
              0.2222222222222222,
              "#7201a8"
             ],
             [
              0.3333333333333333,
              "#9c179e"
             ],
             [
              0.4444444444444444,
              "#bd3786"
             ],
             [
              0.5555555555555556,
              "#d8576b"
             ],
             [
              0.6666666666666666,
              "#ed7953"
             ],
             [
              0.7777777777777778,
              "#fb9f3a"
             ],
             [
              0.8888888888888888,
              "#fdca26"
             ],
             [
              1,
              "#f0f921"
             ]
            ],
            "type": "contour"
           }
          ],
          "contourcarpet": [
           {
            "colorbar": {
             "outlinewidth": 0,
             "ticks": ""
            },
            "type": "contourcarpet"
           }
          ],
          "heatmap": [
           {
            "colorbar": {
             "outlinewidth": 0,
             "ticks": ""
            },
            "colorscale": [
             [
              0,
              "#0d0887"
             ],
             [
              0.1111111111111111,
              "#46039f"
             ],
             [
              0.2222222222222222,
              "#7201a8"
             ],
             [
              0.3333333333333333,
              "#9c179e"
             ],
             [
              0.4444444444444444,
              "#bd3786"
             ],
             [
              0.5555555555555556,
              "#d8576b"
             ],
             [
              0.6666666666666666,
              "#ed7953"
             ],
             [
              0.7777777777777778,
              "#fb9f3a"
             ],
             [
              0.8888888888888888,
              "#fdca26"
             ],
             [
              1,
              "#f0f921"
             ]
            ],
            "type": "heatmap"
           }
          ],
          "heatmapgl": [
           {
            "colorbar": {
             "outlinewidth": 0,
             "ticks": ""
            },
            "colorscale": [
             [
              0,
              "#0d0887"
             ],
             [
              0.1111111111111111,
              "#46039f"
             ],
             [
              0.2222222222222222,
              "#7201a8"
             ],
             [
              0.3333333333333333,
              "#9c179e"
             ],
             [
              0.4444444444444444,
              "#bd3786"
             ],
             [
              0.5555555555555556,
              "#d8576b"
             ],
             [
              0.6666666666666666,
              "#ed7953"
             ],
             [
              0.7777777777777778,
              "#fb9f3a"
             ],
             [
              0.8888888888888888,
              "#fdca26"
             ],
             [
              1,
              "#f0f921"
             ]
            ],
            "type": "heatmapgl"
           }
          ],
          "histogram": [
           {
            "marker": {
             "pattern": {
              "fillmode": "overlay",
              "size": 10,
              "solidity": 0.2
             }
            },
            "type": "histogram"
           }
          ],
          "histogram2d": [
           {
            "colorbar": {
             "outlinewidth": 0,
             "ticks": ""
            },
            "colorscale": [
             [
              0,
              "#0d0887"
             ],
             [
              0.1111111111111111,
              "#46039f"
             ],
             [
              0.2222222222222222,
              "#7201a8"
             ],
             [
              0.3333333333333333,
              "#9c179e"
             ],
             [
              0.4444444444444444,
              "#bd3786"
             ],
             [
              0.5555555555555556,
              "#d8576b"
             ],
             [
              0.6666666666666666,
              "#ed7953"
             ],
             [
              0.7777777777777778,
              "#fb9f3a"
             ],
             [
              0.8888888888888888,
              "#fdca26"
             ],
             [
              1,
              "#f0f921"
             ]
            ],
            "type": "histogram2d"
           }
          ],
          "histogram2dcontour": [
           {
            "colorbar": {
             "outlinewidth": 0,
             "ticks": ""
            },
            "colorscale": [
             [
              0,
              "#0d0887"
             ],
             [
              0.1111111111111111,
              "#46039f"
             ],
             [
              0.2222222222222222,
              "#7201a8"
             ],
             [
              0.3333333333333333,
              "#9c179e"
             ],
             [
              0.4444444444444444,
              "#bd3786"
             ],
             [
              0.5555555555555556,
              "#d8576b"
             ],
             [
              0.6666666666666666,
              "#ed7953"
             ],
             [
              0.7777777777777778,
              "#fb9f3a"
             ],
             [
              0.8888888888888888,
              "#fdca26"
             ],
             [
              1,
              "#f0f921"
             ]
            ],
            "type": "histogram2dcontour"
           }
          ],
          "mesh3d": [
           {
            "colorbar": {
             "outlinewidth": 0,
             "ticks": ""
            },
            "type": "mesh3d"
           }
          ],
          "parcoords": [
           {
            "line": {
             "colorbar": {
              "outlinewidth": 0,
              "ticks": ""
             }
            },
            "type": "parcoords"
           }
          ],
          "pie": [
           {
            "automargin": true,
            "type": "pie"
           }
          ],
          "scatter": [
           {
            "marker": {
             "colorbar": {
              "outlinewidth": 0,
              "ticks": ""
             }
            },
            "type": "scatter"
           }
          ],
          "scatter3d": [
           {
            "line": {
             "colorbar": {
              "outlinewidth": 0,
              "ticks": ""
             }
            },
            "marker": {
             "colorbar": {
              "outlinewidth": 0,
              "ticks": ""
             }
            },
            "type": "scatter3d"
           }
          ],
          "scattercarpet": [
           {
            "marker": {
             "colorbar": {
              "outlinewidth": 0,
              "ticks": ""
             }
            },
            "type": "scattercarpet"
           }
          ],
          "scattergeo": [
           {
            "marker": {
             "colorbar": {
              "outlinewidth": 0,
              "ticks": ""
             }
            },
            "type": "scattergeo"
           }
          ],
          "scattergl": [
           {
            "marker": {
             "colorbar": {
              "outlinewidth": 0,
              "ticks": ""
             }
            },
            "type": "scattergl"
           }
          ],
          "scattermapbox": [
           {
            "marker": {
             "colorbar": {
              "outlinewidth": 0,
              "ticks": ""
             }
            },
            "type": "scattermapbox"
           }
          ],
          "scatterpolar": [
           {
            "marker": {
             "colorbar": {
              "outlinewidth": 0,
              "ticks": ""
             }
            },
            "type": "scatterpolar"
           }
          ],
          "scatterpolargl": [
           {
            "marker": {
             "colorbar": {
              "outlinewidth": 0,
              "ticks": ""
             }
            },
            "type": "scatterpolargl"
           }
          ],
          "scatterternary": [
           {
            "marker": {
             "colorbar": {
              "outlinewidth": 0,
              "ticks": ""
             }
            },
            "type": "scatterternary"
           }
          ],
          "surface": [
           {
            "colorbar": {
             "outlinewidth": 0,
             "ticks": ""
            },
            "colorscale": [
             [
              0,
              "#0d0887"
             ],
             [
              0.1111111111111111,
              "#46039f"
             ],
             [
              0.2222222222222222,
              "#7201a8"
             ],
             [
              0.3333333333333333,
              "#9c179e"
             ],
             [
              0.4444444444444444,
              "#bd3786"
             ],
             [
              0.5555555555555556,
              "#d8576b"
             ],
             [
              0.6666666666666666,
              "#ed7953"
             ],
             [
              0.7777777777777778,
              "#fb9f3a"
             ],
             [
              0.8888888888888888,
              "#fdca26"
             ],
             [
              1,
              "#f0f921"
             ]
            ],
            "type": "surface"
           }
          ],
          "table": [
           {
            "cells": {
             "fill": {
              "color": "#EBF0F8"
             },
             "line": {
              "color": "white"
             }
            },
            "header": {
             "fill": {
              "color": "#C8D4E3"
             },
             "line": {
              "color": "white"
             }
            },
            "type": "table"
           }
          ]
         },
         "layout": {
          "annotationdefaults": {
           "arrowcolor": "#2a3f5f",
           "arrowhead": 0,
           "arrowwidth": 1
          },
          "autotypenumbers": "strict",
          "coloraxis": {
           "colorbar": {
            "outlinewidth": 0,
            "ticks": ""
           }
          },
          "colorscale": {
           "diverging": [
            [
             0,
             "#8e0152"
            ],
            [
             0.1,
             "#c51b7d"
            ],
            [
             0.2,
             "#de77ae"
            ],
            [
             0.3,
             "#f1b6da"
            ],
            [
             0.4,
             "#fde0ef"
            ],
            [
             0.5,
             "#f7f7f7"
            ],
            [
             0.6,
             "#e6f5d0"
            ],
            [
             0.7,
             "#b8e186"
            ],
            [
             0.8,
             "#7fbc41"
            ],
            [
             0.9,
             "#4d9221"
            ],
            [
             1,
             "#276419"
            ]
           ],
           "sequential": [
            [
             0,
             "#0d0887"
            ],
            [
             0.1111111111111111,
             "#46039f"
            ],
            [
             0.2222222222222222,
             "#7201a8"
            ],
            [
             0.3333333333333333,
             "#9c179e"
            ],
            [
             0.4444444444444444,
             "#bd3786"
            ],
            [
             0.5555555555555556,
             "#d8576b"
            ],
            [
             0.6666666666666666,
             "#ed7953"
            ],
            [
             0.7777777777777778,
             "#fb9f3a"
            ],
            [
             0.8888888888888888,
             "#fdca26"
            ],
            [
             1,
             "#f0f921"
            ]
           ],
           "sequentialminus": [
            [
             0,
             "#0d0887"
            ],
            [
             0.1111111111111111,
             "#46039f"
            ],
            [
             0.2222222222222222,
             "#7201a8"
            ],
            [
             0.3333333333333333,
             "#9c179e"
            ],
            [
             0.4444444444444444,
             "#bd3786"
            ],
            [
             0.5555555555555556,
             "#d8576b"
            ],
            [
             0.6666666666666666,
             "#ed7953"
            ],
            [
             0.7777777777777778,
             "#fb9f3a"
            ],
            [
             0.8888888888888888,
             "#fdca26"
            ],
            [
             1,
             "#f0f921"
            ]
           ]
          },
          "colorway": [
           "#636efa",
           "#EF553B",
           "#00cc96",
           "#ab63fa",
           "#FFA15A",
           "#19d3f3",
           "#FF6692",
           "#B6E880",
           "#FF97FF",
           "#FECB52"
          ],
          "font": {
           "color": "#2a3f5f"
          },
          "geo": {
           "bgcolor": "white",
           "lakecolor": "white",
           "landcolor": "#E5ECF6",
           "showlakes": true,
           "showland": true,
           "subunitcolor": "white"
          },
          "hoverlabel": {
           "align": "left"
          },
          "hovermode": "closest",
          "mapbox": {
           "style": "light"
          },
          "paper_bgcolor": "white",
          "plot_bgcolor": "#E5ECF6",
          "polar": {
           "angularaxis": {
            "gridcolor": "white",
            "linecolor": "white",
            "ticks": ""
           },
           "bgcolor": "#E5ECF6",
           "radialaxis": {
            "gridcolor": "white",
            "linecolor": "white",
            "ticks": ""
           }
          },
          "scene": {
           "xaxis": {
            "backgroundcolor": "#E5ECF6",
            "gridcolor": "white",
            "gridwidth": 2,
            "linecolor": "white",
            "showbackground": true,
            "ticks": "",
            "zerolinecolor": "white"
           },
           "yaxis": {
            "backgroundcolor": "#E5ECF6",
            "gridcolor": "white",
            "gridwidth": 2,
            "linecolor": "white",
            "showbackground": true,
            "ticks": "",
            "zerolinecolor": "white"
           },
           "zaxis": {
            "backgroundcolor": "#E5ECF6",
            "gridcolor": "white",
            "gridwidth": 2,
            "linecolor": "white",
            "showbackground": true,
            "ticks": "",
            "zerolinecolor": "white"
           }
          },
          "shapedefaults": {
           "line": {
            "color": "#2a3f5f"
           }
          },
          "ternary": {
           "aaxis": {
            "gridcolor": "white",
            "linecolor": "white",
            "ticks": ""
           },
           "baxis": {
            "gridcolor": "white",
            "linecolor": "white",
            "ticks": ""
           },
           "bgcolor": "#E5ECF6",
           "caxis": {
            "gridcolor": "white",
            "linecolor": "white",
            "ticks": ""
           }
          },
          "title": {
           "x": 0.05
          },
          "xaxis": {
           "automargin": true,
           "gridcolor": "white",
           "linecolor": "white",
           "ticks": "",
           "title": {
            "standoff": 15
           },
           "zerolinecolor": "white",
           "zerolinewidth": 2
          },
          "yaxis": {
           "automargin": true,
           "gridcolor": "white",
           "linecolor": "white",
           "ticks": "",
           "title": {
            "standoff": 15
           },
           "zerolinecolor": "white",
           "zerolinewidth": 2
          }
         }
        },
        "title": {
         "font": {
          "color": "#4D5663"
         }
        },
        "xaxis": {
         "gridcolor": "#E1E5ED",
         "showgrid": true,
         "tickfont": {
          "color": "#4D5663"
         },
         "title": {
          "font": {
           "color": "#4D5663"
          },
          "text": ""
         },
         "zerolinecolor": "#E1E5ED"
        },
        "yaxis": {
         "gridcolor": "#E1E5ED",
         "showgrid": true,
         "tickfont": {
          "color": "#4D5663"
         },
         "title": {
          "font": {
           "color": "#4D5663"
          },
          "text": ""
         },
         "zerolinecolor": "#E1E5ED"
        }
       }
      },
      "text/html": [
       "<div>                            <div id=\"ad4f8271-0c33-4666-b58c-dfdbfcaf29d9\" class=\"plotly-graph-div\" style=\"height:525px; width:100%;\"></div>            <script type=\"text/javascript\">                require([\"plotly\"], function(Plotly) {                    window.PLOTLYENV=window.PLOTLYENV || {};\n",
       "                    window.PLOTLYENV.BASE_URL='https://plot.ly';                                    if (document.getElementById(\"ad4f8271-0c33-4666-b58c-dfdbfcaf29d9\")) {                    Plotly.newPlot(                        \"ad4f8271-0c33-4666-b58c-dfdbfcaf29d9\",                        [{\"histfunc\":\"count\",\"histnorm\":\"\",\"marker\":{\"color\":\"rgba(255, 153, 51, 1.0)\",\"line\":{\"color\":\"#4D5663\",\"width\":1.3}},\"name\":\"A\",\"opacity\":0.8,\"orientation\":\"v\",\"x\":[-0.6715841140505145,-0.015693512274722023,-1.2377868022190277,0.02503655607096757,-0.14529398503449995,-1.0551956430573703,0.23233137831534484,-0.2956574504198168,-0.5577910399776433,1.3738652338159894,-2.9623175823727816,1.4904430345297184,1.039183339678253,-0.7113259936440596,-1.1842573167447745,0.08276897728234352,0.329475561063558,0.4884573064355324,0.33170945240886557,-1.623491342611854,-0.2787006945859761,0.3451219421823229,-0.8463179724936395,1.198615884615791,-1.21520995130495,0.08357517582237833,-0.9168333966717761,0.14444471685492827,-0.7587977901216573,-0.5716253932588715,-0.5155445307260258,0.039690930351866376,0.45206315536669267,0.25822078314915525,0.6795014499531823,-0.5258381951483264,-0.5831900803018422,0.9433672570698973,-1.2172033264702742,0.4070804402188379,0.9984241995599689,0.17547655482258462,-0.4864382830689831,-1.1725144840193726,1.2159970426643887,2.2007383884166125,-1.447909129888451,-1.2405381762638814,0.08017130631382811,-2.4146038180313445,0.24500705463654993,1.0955121238600343,0.07840931223258185,-1.0910806569187692,0.8837375823403211,-0.6788158992187295,-0.11096246412127025,-0.18905143074917843,-0.18057514475557498,0.6162366738892845,0.16758644721112217,-1.552022094532808,-0.15980187798785894,0.684059048953964,0.08319961960883286,-0.1393646482722601,-2.504160913360558,0.5878659446965919,1.635811129335889,1.9114127993924863,-0.7805028079982012,0.1596568880233185,0.04155434974831334,1.0035541939648416,0.8908357638671642,0.1327051615657846,-0.3952116467445707,0.7864341312472358,0.38666747641392035,0.14471853623258493,1.431655710690944,-0.11781504624255924,1.4974434253457516,-0.7964145225371747,-1.3699600853577067,-0.9618089897181643,-0.827111687389078,-0.7046529758368414,0.8828852015707367,-0.706753026854823,-1.390935846156628,-1.0817460195694732,0.9059710010262795,1.6281493928309418,-1.5741581898416985,-1.1456360795171043,0.5647014328630369,1.4079302677481942,0.7015348136215821,0.2996814140958031],\"type\":\"histogram\"}],                        {\"barmode\":\"overlay\",\"legend\":{\"bgcolor\":\"#F5F6F9\",\"font\":{\"color\":\"#4D5663\"}},\"paper_bgcolor\":\"#F5F6F9\",\"plot_bgcolor\":\"#F5F6F9\",\"template\":{\"data\":{\"barpolar\":[{\"marker\":{\"line\":{\"color\":\"#E5ECF6\",\"width\":0.5},\"pattern\":{\"fillmode\":\"overlay\",\"size\":10,\"solidity\":0.2}},\"type\":\"barpolar\"}],\"bar\":[{\"error_x\":{\"color\":\"#2a3f5f\"},\"error_y\":{\"color\":\"#2a3f5f\"},\"marker\":{\"line\":{\"color\":\"#E5ECF6\",\"width\":0.5},\"pattern\":{\"fillmode\":\"overlay\",\"size\":10,\"solidity\":0.2}},\"type\":\"bar\"}],\"carpet\":[{\"aaxis\":{\"endlinecolor\":\"#2a3f5f\",\"gridcolor\":\"white\",\"linecolor\":\"white\",\"minorgridcolor\":\"white\",\"startlinecolor\":\"#2a3f5f\"},\"baxis\":{\"endlinecolor\":\"#2a3f5f\",\"gridcolor\":\"white\",\"linecolor\":\"white\",\"minorgridcolor\":\"white\",\"startlinecolor\":\"#2a3f5f\"},\"type\":\"carpet\"}],\"choropleth\":[{\"colorbar\":{\"outlinewidth\":0,\"ticks\":\"\"},\"type\":\"choropleth\"}],\"contourcarpet\":[{\"colorbar\":{\"outlinewidth\":0,\"ticks\":\"\"},\"type\":\"contourcarpet\"}],\"contour\":[{\"colorbar\":{\"outlinewidth\":0,\"ticks\":\"\"},\"colorscale\":[[0.0,\"#0d0887\"],[0.1111111111111111,\"#46039f\"],[0.2222222222222222,\"#7201a8\"],[0.3333333333333333,\"#9c179e\"],[0.4444444444444444,\"#bd3786\"],[0.5555555555555556,\"#d8576b\"],[0.6666666666666666,\"#ed7953\"],[0.7777777777777778,\"#fb9f3a\"],[0.8888888888888888,\"#fdca26\"],[1.0,\"#f0f921\"]],\"type\":\"contour\"}],\"heatmapgl\":[{\"colorbar\":{\"outlinewidth\":0,\"ticks\":\"\"},\"colorscale\":[[0.0,\"#0d0887\"],[0.1111111111111111,\"#46039f\"],[0.2222222222222222,\"#7201a8\"],[0.3333333333333333,\"#9c179e\"],[0.4444444444444444,\"#bd3786\"],[0.5555555555555556,\"#d8576b\"],[0.6666666666666666,\"#ed7953\"],[0.7777777777777778,\"#fb9f3a\"],[0.8888888888888888,\"#fdca26\"],[1.0,\"#f0f921\"]],\"type\":\"heatmapgl\"}],\"heatmap\":[{\"colorbar\":{\"outlinewidth\":0,\"ticks\":\"\"},\"colorscale\":[[0.0,\"#0d0887\"],[0.1111111111111111,\"#46039f\"],[0.2222222222222222,\"#7201a8\"],[0.3333333333333333,\"#9c179e\"],[0.4444444444444444,\"#bd3786\"],[0.5555555555555556,\"#d8576b\"],[0.6666666666666666,\"#ed7953\"],[0.7777777777777778,\"#fb9f3a\"],[0.8888888888888888,\"#fdca26\"],[1.0,\"#f0f921\"]],\"type\":\"heatmap\"}],\"histogram2dcontour\":[{\"colorbar\":{\"outlinewidth\":0,\"ticks\":\"\"},\"colorscale\":[[0.0,\"#0d0887\"],[0.1111111111111111,\"#46039f\"],[0.2222222222222222,\"#7201a8\"],[0.3333333333333333,\"#9c179e\"],[0.4444444444444444,\"#bd3786\"],[0.5555555555555556,\"#d8576b\"],[0.6666666666666666,\"#ed7953\"],[0.7777777777777778,\"#fb9f3a\"],[0.8888888888888888,\"#fdca26\"],[1.0,\"#f0f921\"]],\"type\":\"histogram2dcontour\"}],\"histogram2d\":[{\"colorbar\":{\"outlinewidth\":0,\"ticks\":\"\"},\"colorscale\":[[0.0,\"#0d0887\"],[0.1111111111111111,\"#46039f\"],[0.2222222222222222,\"#7201a8\"],[0.3333333333333333,\"#9c179e\"],[0.4444444444444444,\"#bd3786\"],[0.5555555555555556,\"#d8576b\"],[0.6666666666666666,\"#ed7953\"],[0.7777777777777778,\"#fb9f3a\"],[0.8888888888888888,\"#fdca26\"],[1.0,\"#f0f921\"]],\"type\":\"histogram2d\"}],\"histogram\":[{\"marker\":{\"pattern\":{\"fillmode\":\"overlay\",\"size\":10,\"solidity\":0.2}},\"type\":\"histogram\"}],\"mesh3d\":[{\"colorbar\":{\"outlinewidth\":0,\"ticks\":\"\"},\"type\":\"mesh3d\"}],\"parcoords\":[{\"line\":{\"colorbar\":{\"outlinewidth\":0,\"ticks\":\"\"}},\"type\":\"parcoords\"}],\"pie\":[{\"automargin\":true,\"type\":\"pie\"}],\"scatter3d\":[{\"line\":{\"colorbar\":{\"outlinewidth\":0,\"ticks\":\"\"}},\"marker\":{\"colorbar\":{\"outlinewidth\":0,\"ticks\":\"\"}},\"type\":\"scatter3d\"}],\"scattercarpet\":[{\"marker\":{\"colorbar\":{\"outlinewidth\":0,\"ticks\":\"\"}},\"type\":\"scattercarpet\"}],\"scattergeo\":[{\"marker\":{\"colorbar\":{\"outlinewidth\":0,\"ticks\":\"\"}},\"type\":\"scattergeo\"}],\"scattergl\":[{\"marker\":{\"colorbar\":{\"outlinewidth\":0,\"ticks\":\"\"}},\"type\":\"scattergl\"}],\"scattermapbox\":[{\"marker\":{\"colorbar\":{\"outlinewidth\":0,\"ticks\":\"\"}},\"type\":\"scattermapbox\"}],\"scatterpolargl\":[{\"marker\":{\"colorbar\":{\"outlinewidth\":0,\"ticks\":\"\"}},\"type\":\"scatterpolargl\"}],\"scatterpolar\":[{\"marker\":{\"colorbar\":{\"outlinewidth\":0,\"ticks\":\"\"}},\"type\":\"scatterpolar\"}],\"scatter\":[{\"marker\":{\"colorbar\":{\"outlinewidth\":0,\"ticks\":\"\"}},\"type\":\"scatter\"}],\"scatterternary\":[{\"marker\":{\"colorbar\":{\"outlinewidth\":0,\"ticks\":\"\"}},\"type\":\"scatterternary\"}],\"surface\":[{\"colorbar\":{\"outlinewidth\":0,\"ticks\":\"\"},\"colorscale\":[[0.0,\"#0d0887\"],[0.1111111111111111,\"#46039f\"],[0.2222222222222222,\"#7201a8\"],[0.3333333333333333,\"#9c179e\"],[0.4444444444444444,\"#bd3786\"],[0.5555555555555556,\"#d8576b\"],[0.6666666666666666,\"#ed7953\"],[0.7777777777777778,\"#fb9f3a\"],[0.8888888888888888,\"#fdca26\"],[1.0,\"#f0f921\"]],\"type\":\"surface\"}],\"table\":[{\"cells\":{\"fill\":{\"color\":\"#EBF0F8\"},\"line\":{\"color\":\"white\"}},\"header\":{\"fill\":{\"color\":\"#C8D4E3\"},\"line\":{\"color\":\"white\"}},\"type\":\"table\"}]},\"layout\":{\"annotationdefaults\":{\"arrowcolor\":\"#2a3f5f\",\"arrowhead\":0,\"arrowwidth\":1},\"autotypenumbers\":\"strict\",\"coloraxis\":{\"colorbar\":{\"outlinewidth\":0,\"ticks\":\"\"}},\"colorscale\":{\"diverging\":[[0,\"#8e0152\"],[0.1,\"#c51b7d\"],[0.2,\"#de77ae\"],[0.3,\"#f1b6da\"],[0.4,\"#fde0ef\"],[0.5,\"#f7f7f7\"],[0.6,\"#e6f5d0\"],[0.7,\"#b8e186\"],[0.8,\"#7fbc41\"],[0.9,\"#4d9221\"],[1,\"#276419\"]],\"sequential\":[[0.0,\"#0d0887\"],[0.1111111111111111,\"#46039f\"],[0.2222222222222222,\"#7201a8\"],[0.3333333333333333,\"#9c179e\"],[0.4444444444444444,\"#bd3786\"],[0.5555555555555556,\"#d8576b\"],[0.6666666666666666,\"#ed7953\"],[0.7777777777777778,\"#fb9f3a\"],[0.8888888888888888,\"#fdca26\"],[1.0,\"#f0f921\"]],\"sequentialminus\":[[0.0,\"#0d0887\"],[0.1111111111111111,\"#46039f\"],[0.2222222222222222,\"#7201a8\"],[0.3333333333333333,\"#9c179e\"],[0.4444444444444444,\"#bd3786\"],[0.5555555555555556,\"#d8576b\"],[0.6666666666666666,\"#ed7953\"],[0.7777777777777778,\"#fb9f3a\"],[0.8888888888888888,\"#fdca26\"],[1.0,\"#f0f921\"]]},\"colorway\":[\"#636efa\",\"#EF553B\",\"#00cc96\",\"#ab63fa\",\"#FFA15A\",\"#19d3f3\",\"#FF6692\",\"#B6E880\",\"#FF97FF\",\"#FECB52\"],\"font\":{\"color\":\"#2a3f5f\"},\"geo\":{\"bgcolor\":\"white\",\"lakecolor\":\"white\",\"landcolor\":\"#E5ECF6\",\"showlakes\":true,\"showland\":true,\"subunitcolor\":\"white\"},\"hoverlabel\":{\"align\":\"left\"},\"hovermode\":\"closest\",\"mapbox\":{\"style\":\"light\"},\"paper_bgcolor\":\"white\",\"plot_bgcolor\":\"#E5ECF6\",\"polar\":{\"angularaxis\":{\"gridcolor\":\"white\",\"linecolor\":\"white\",\"ticks\":\"\"},\"bgcolor\":\"#E5ECF6\",\"radialaxis\":{\"gridcolor\":\"white\",\"linecolor\":\"white\",\"ticks\":\"\"}},\"scene\":{\"xaxis\":{\"backgroundcolor\":\"#E5ECF6\",\"gridcolor\":\"white\",\"gridwidth\":2,\"linecolor\":\"white\",\"showbackground\":true,\"ticks\":\"\",\"zerolinecolor\":\"white\"},\"yaxis\":{\"backgroundcolor\":\"#E5ECF6\",\"gridcolor\":\"white\",\"gridwidth\":2,\"linecolor\":\"white\",\"showbackground\":true,\"ticks\":\"\",\"zerolinecolor\":\"white\"},\"zaxis\":{\"backgroundcolor\":\"#E5ECF6\",\"gridcolor\":\"white\",\"gridwidth\":2,\"linecolor\":\"white\",\"showbackground\":true,\"ticks\":\"\",\"zerolinecolor\":\"white\"}},\"shapedefaults\":{\"line\":{\"color\":\"#2a3f5f\"}},\"ternary\":{\"aaxis\":{\"gridcolor\":\"white\",\"linecolor\":\"white\",\"ticks\":\"\"},\"baxis\":{\"gridcolor\":\"white\",\"linecolor\":\"white\",\"ticks\":\"\"},\"bgcolor\":\"#E5ECF6\",\"caxis\":{\"gridcolor\":\"white\",\"linecolor\":\"white\",\"ticks\":\"\"}},\"title\":{\"x\":0.05},\"xaxis\":{\"automargin\":true,\"gridcolor\":\"white\",\"linecolor\":\"white\",\"ticks\":\"\",\"title\":{\"standoff\":15},\"zerolinecolor\":\"white\",\"zerolinewidth\":2},\"yaxis\":{\"automargin\":true,\"gridcolor\":\"white\",\"linecolor\":\"white\",\"ticks\":\"\",\"title\":{\"standoff\":15},\"zerolinecolor\":\"white\",\"zerolinewidth\":2}}},\"title\":{\"font\":{\"color\":\"#4D5663\"}},\"xaxis\":{\"gridcolor\":\"#E1E5ED\",\"showgrid\":true,\"tickfont\":{\"color\":\"#4D5663\"},\"title\":{\"font\":{\"color\":\"#4D5663\"},\"text\":\"\"},\"zerolinecolor\":\"#E1E5ED\"},\"yaxis\":{\"gridcolor\":\"#E1E5ED\",\"showgrid\":true,\"tickfont\":{\"color\":\"#4D5663\"},\"title\":{\"font\":{\"color\":\"#4D5663\"},\"text\":\"\"},\"zerolinecolor\":\"#E1E5ED\"}},                        {\"showLink\": true, \"linkText\": \"Export to plot.ly\", \"plotlyServerURL\": \"https://plot.ly\", \"responsive\": true}                    ).then(function(){\n",
       "                            \n",
       "var gd = document.getElementById('ad4f8271-0c33-4666-b58c-dfdbfcaf29d9');\n",
       "var x = new MutationObserver(function (mutations, observer) {{\n",
       "        var display = window.getComputedStyle(gd).display;\n",
       "        if (!display || display === 'none') {{\n",
       "            console.log([gd, 'removed!']);\n",
       "            Plotly.purge(gd);\n",
       "            observer.disconnect();\n",
       "        }}\n",
       "}});\n",
       "\n",
       "// Listen for the removal of the full notebook cells\n",
       "var notebookContainer = gd.closest('#notebook-container');\n",
       "if (notebookContainer) {{\n",
       "    x.observe(notebookContainer, {childList: true});\n",
       "}}\n",
       "\n",
       "// Listen for the clearing of the current output cell\n",
       "var outputEl = gd.closest('.output');\n",
       "if (outputEl) {{\n",
       "    x.observe(outputEl, {childList: true});\n",
       "}}\n",
       "\n",
       "                        })                };                });            </script>        </div>"
      ]
     },
     "metadata": {},
     "output_type": "display_data"
    }
   ],
   "source": [
    "df[\"A\"].iplot(kind=\"hist\")"
   ]
  },
  {
   "cell_type": "code",
   "execution_count": 39,
   "id": "de3d0f71",
   "metadata": {},
   "outputs": [
    {
     "data": {
      "application/vnd.plotly.v1+json": {
       "config": {
        "linkText": "Export to plot.ly",
        "plotlyServerURL": "https://plot.ly",
        "showLink": true
       },
       "data": [
        {
         "histfunc": "count",
         "histnorm": "",
         "marker": {
          "color": "rgba(255, 153, 51, 1.0)",
          "line": {
           "color": "#4D5663",
           "width": 1.3
          }
         },
         "name": "A",
         "nbinsx": 45,
         "opacity": 0.8,
         "orientation": "v",
         "type": "histogram",
         "x": [
          -0.6715841140505145,
          -0.015693512274722023,
          -1.2377868022190277,
          0.02503655607096757,
          -0.14529398503449995,
          -1.0551956430573703,
          0.23233137831534484,
          -0.2956574504198168,
          -0.5577910399776433,
          1.3738652338159894,
          -2.9623175823727816,
          1.4904430345297184,
          1.039183339678253,
          -0.7113259936440596,
          -1.1842573167447745,
          0.08276897728234352,
          0.329475561063558,
          0.4884573064355324,
          0.33170945240886557,
          -1.623491342611854,
          -0.2787006945859761,
          0.3451219421823229,
          -0.8463179724936395,
          1.198615884615791,
          -1.21520995130495,
          0.08357517582237833,
          -0.9168333966717761,
          0.14444471685492827,
          -0.7587977901216573,
          -0.5716253932588715,
          -0.5155445307260258,
          0.039690930351866376,
          0.45206315536669267,
          0.25822078314915525,
          0.6795014499531823,
          -0.5258381951483264,
          -0.5831900803018422,
          0.9433672570698973,
          -1.2172033264702742,
          0.4070804402188379,
          0.9984241995599689,
          0.17547655482258462,
          -0.4864382830689831,
          -1.1725144840193726,
          1.2159970426643887,
          2.2007383884166125,
          -1.447909129888451,
          -1.2405381762638814,
          0.08017130631382811,
          -2.4146038180313445,
          0.24500705463654993,
          1.0955121238600343,
          0.07840931223258185,
          -1.0910806569187692,
          0.8837375823403211,
          -0.6788158992187295,
          -0.11096246412127025,
          -0.18905143074917843,
          -0.18057514475557498,
          0.6162366738892845,
          0.16758644721112217,
          -1.552022094532808,
          -0.15980187798785894,
          0.684059048953964,
          0.08319961960883286,
          -0.1393646482722601,
          -2.504160913360558,
          0.5878659446965919,
          1.635811129335889,
          1.9114127993924863,
          -0.7805028079982012,
          0.1596568880233185,
          0.04155434974831334,
          1.0035541939648416,
          0.8908357638671642,
          0.1327051615657846,
          -0.3952116467445707,
          0.7864341312472358,
          0.38666747641392035,
          0.14471853623258493,
          1.431655710690944,
          -0.11781504624255924,
          1.4974434253457516,
          -0.7964145225371747,
          -1.3699600853577067,
          -0.9618089897181643,
          -0.827111687389078,
          -0.7046529758368414,
          0.8828852015707367,
          -0.706753026854823,
          -1.390935846156628,
          -1.0817460195694732,
          0.9059710010262795,
          1.6281493928309418,
          -1.5741581898416985,
          -1.1456360795171043,
          0.5647014328630369,
          1.4079302677481942,
          0.7015348136215821,
          0.2996814140958031
         ]
        }
       ],
       "layout": {
        "barmode": "overlay",
        "legend": {
         "bgcolor": "#F5F6F9",
         "font": {
          "color": "#4D5663"
         }
        },
        "paper_bgcolor": "#F5F6F9",
        "plot_bgcolor": "#F5F6F9",
        "template": {
         "data": {
          "bar": [
           {
            "error_x": {
             "color": "#2a3f5f"
            },
            "error_y": {
             "color": "#2a3f5f"
            },
            "marker": {
             "line": {
              "color": "#E5ECF6",
              "width": 0.5
             },
             "pattern": {
              "fillmode": "overlay",
              "size": 10,
              "solidity": 0.2
             }
            },
            "type": "bar"
           }
          ],
          "barpolar": [
           {
            "marker": {
             "line": {
              "color": "#E5ECF6",
              "width": 0.5
             },
             "pattern": {
              "fillmode": "overlay",
              "size": 10,
              "solidity": 0.2
             }
            },
            "type": "barpolar"
           }
          ],
          "carpet": [
           {
            "aaxis": {
             "endlinecolor": "#2a3f5f",
             "gridcolor": "white",
             "linecolor": "white",
             "minorgridcolor": "white",
             "startlinecolor": "#2a3f5f"
            },
            "baxis": {
             "endlinecolor": "#2a3f5f",
             "gridcolor": "white",
             "linecolor": "white",
             "minorgridcolor": "white",
             "startlinecolor": "#2a3f5f"
            },
            "type": "carpet"
           }
          ],
          "choropleth": [
           {
            "colorbar": {
             "outlinewidth": 0,
             "ticks": ""
            },
            "type": "choropleth"
           }
          ],
          "contour": [
           {
            "colorbar": {
             "outlinewidth": 0,
             "ticks": ""
            },
            "colorscale": [
             [
              0,
              "#0d0887"
             ],
             [
              0.1111111111111111,
              "#46039f"
             ],
             [
              0.2222222222222222,
              "#7201a8"
             ],
             [
              0.3333333333333333,
              "#9c179e"
             ],
             [
              0.4444444444444444,
              "#bd3786"
             ],
             [
              0.5555555555555556,
              "#d8576b"
             ],
             [
              0.6666666666666666,
              "#ed7953"
             ],
             [
              0.7777777777777778,
              "#fb9f3a"
             ],
             [
              0.8888888888888888,
              "#fdca26"
             ],
             [
              1,
              "#f0f921"
             ]
            ],
            "type": "contour"
           }
          ],
          "contourcarpet": [
           {
            "colorbar": {
             "outlinewidth": 0,
             "ticks": ""
            },
            "type": "contourcarpet"
           }
          ],
          "heatmap": [
           {
            "colorbar": {
             "outlinewidth": 0,
             "ticks": ""
            },
            "colorscale": [
             [
              0,
              "#0d0887"
             ],
             [
              0.1111111111111111,
              "#46039f"
             ],
             [
              0.2222222222222222,
              "#7201a8"
             ],
             [
              0.3333333333333333,
              "#9c179e"
             ],
             [
              0.4444444444444444,
              "#bd3786"
             ],
             [
              0.5555555555555556,
              "#d8576b"
             ],
             [
              0.6666666666666666,
              "#ed7953"
             ],
             [
              0.7777777777777778,
              "#fb9f3a"
             ],
             [
              0.8888888888888888,
              "#fdca26"
             ],
             [
              1,
              "#f0f921"
             ]
            ],
            "type": "heatmap"
           }
          ],
          "heatmapgl": [
           {
            "colorbar": {
             "outlinewidth": 0,
             "ticks": ""
            },
            "colorscale": [
             [
              0,
              "#0d0887"
             ],
             [
              0.1111111111111111,
              "#46039f"
             ],
             [
              0.2222222222222222,
              "#7201a8"
             ],
             [
              0.3333333333333333,
              "#9c179e"
             ],
             [
              0.4444444444444444,
              "#bd3786"
             ],
             [
              0.5555555555555556,
              "#d8576b"
             ],
             [
              0.6666666666666666,
              "#ed7953"
             ],
             [
              0.7777777777777778,
              "#fb9f3a"
             ],
             [
              0.8888888888888888,
              "#fdca26"
             ],
             [
              1,
              "#f0f921"
             ]
            ],
            "type": "heatmapgl"
           }
          ],
          "histogram": [
           {
            "marker": {
             "pattern": {
              "fillmode": "overlay",
              "size": 10,
              "solidity": 0.2
             }
            },
            "type": "histogram"
           }
          ],
          "histogram2d": [
           {
            "colorbar": {
             "outlinewidth": 0,
             "ticks": ""
            },
            "colorscale": [
             [
              0,
              "#0d0887"
             ],
             [
              0.1111111111111111,
              "#46039f"
             ],
             [
              0.2222222222222222,
              "#7201a8"
             ],
             [
              0.3333333333333333,
              "#9c179e"
             ],
             [
              0.4444444444444444,
              "#bd3786"
             ],
             [
              0.5555555555555556,
              "#d8576b"
             ],
             [
              0.6666666666666666,
              "#ed7953"
             ],
             [
              0.7777777777777778,
              "#fb9f3a"
             ],
             [
              0.8888888888888888,
              "#fdca26"
             ],
             [
              1,
              "#f0f921"
             ]
            ],
            "type": "histogram2d"
           }
          ],
          "histogram2dcontour": [
           {
            "colorbar": {
             "outlinewidth": 0,
             "ticks": ""
            },
            "colorscale": [
             [
              0,
              "#0d0887"
             ],
             [
              0.1111111111111111,
              "#46039f"
             ],
             [
              0.2222222222222222,
              "#7201a8"
             ],
             [
              0.3333333333333333,
              "#9c179e"
             ],
             [
              0.4444444444444444,
              "#bd3786"
             ],
             [
              0.5555555555555556,
              "#d8576b"
             ],
             [
              0.6666666666666666,
              "#ed7953"
             ],
             [
              0.7777777777777778,
              "#fb9f3a"
             ],
             [
              0.8888888888888888,
              "#fdca26"
             ],
             [
              1,
              "#f0f921"
             ]
            ],
            "type": "histogram2dcontour"
           }
          ],
          "mesh3d": [
           {
            "colorbar": {
             "outlinewidth": 0,
             "ticks": ""
            },
            "type": "mesh3d"
           }
          ],
          "parcoords": [
           {
            "line": {
             "colorbar": {
              "outlinewidth": 0,
              "ticks": ""
             }
            },
            "type": "parcoords"
           }
          ],
          "pie": [
           {
            "automargin": true,
            "type": "pie"
           }
          ],
          "scatter": [
           {
            "marker": {
             "colorbar": {
              "outlinewidth": 0,
              "ticks": ""
             }
            },
            "type": "scatter"
           }
          ],
          "scatter3d": [
           {
            "line": {
             "colorbar": {
              "outlinewidth": 0,
              "ticks": ""
             }
            },
            "marker": {
             "colorbar": {
              "outlinewidth": 0,
              "ticks": ""
             }
            },
            "type": "scatter3d"
           }
          ],
          "scattercarpet": [
           {
            "marker": {
             "colorbar": {
              "outlinewidth": 0,
              "ticks": ""
             }
            },
            "type": "scattercarpet"
           }
          ],
          "scattergeo": [
           {
            "marker": {
             "colorbar": {
              "outlinewidth": 0,
              "ticks": ""
             }
            },
            "type": "scattergeo"
           }
          ],
          "scattergl": [
           {
            "marker": {
             "colorbar": {
              "outlinewidth": 0,
              "ticks": ""
             }
            },
            "type": "scattergl"
           }
          ],
          "scattermapbox": [
           {
            "marker": {
             "colorbar": {
              "outlinewidth": 0,
              "ticks": ""
             }
            },
            "type": "scattermapbox"
           }
          ],
          "scatterpolar": [
           {
            "marker": {
             "colorbar": {
              "outlinewidth": 0,
              "ticks": ""
             }
            },
            "type": "scatterpolar"
           }
          ],
          "scatterpolargl": [
           {
            "marker": {
             "colorbar": {
              "outlinewidth": 0,
              "ticks": ""
             }
            },
            "type": "scatterpolargl"
           }
          ],
          "scatterternary": [
           {
            "marker": {
             "colorbar": {
              "outlinewidth": 0,
              "ticks": ""
             }
            },
            "type": "scatterternary"
           }
          ],
          "surface": [
           {
            "colorbar": {
             "outlinewidth": 0,
             "ticks": ""
            },
            "colorscale": [
             [
              0,
              "#0d0887"
             ],
             [
              0.1111111111111111,
              "#46039f"
             ],
             [
              0.2222222222222222,
              "#7201a8"
             ],
             [
              0.3333333333333333,
              "#9c179e"
             ],
             [
              0.4444444444444444,
              "#bd3786"
             ],
             [
              0.5555555555555556,
              "#d8576b"
             ],
             [
              0.6666666666666666,
              "#ed7953"
             ],
             [
              0.7777777777777778,
              "#fb9f3a"
             ],
             [
              0.8888888888888888,
              "#fdca26"
             ],
             [
              1,
              "#f0f921"
             ]
            ],
            "type": "surface"
           }
          ],
          "table": [
           {
            "cells": {
             "fill": {
              "color": "#EBF0F8"
             },
             "line": {
              "color": "white"
             }
            },
            "header": {
             "fill": {
              "color": "#C8D4E3"
             },
             "line": {
              "color": "white"
             }
            },
            "type": "table"
           }
          ]
         },
         "layout": {
          "annotationdefaults": {
           "arrowcolor": "#2a3f5f",
           "arrowhead": 0,
           "arrowwidth": 1
          },
          "autotypenumbers": "strict",
          "coloraxis": {
           "colorbar": {
            "outlinewidth": 0,
            "ticks": ""
           }
          },
          "colorscale": {
           "diverging": [
            [
             0,
             "#8e0152"
            ],
            [
             0.1,
             "#c51b7d"
            ],
            [
             0.2,
             "#de77ae"
            ],
            [
             0.3,
             "#f1b6da"
            ],
            [
             0.4,
             "#fde0ef"
            ],
            [
             0.5,
             "#f7f7f7"
            ],
            [
             0.6,
             "#e6f5d0"
            ],
            [
             0.7,
             "#b8e186"
            ],
            [
             0.8,
             "#7fbc41"
            ],
            [
             0.9,
             "#4d9221"
            ],
            [
             1,
             "#276419"
            ]
           ],
           "sequential": [
            [
             0,
             "#0d0887"
            ],
            [
             0.1111111111111111,
             "#46039f"
            ],
            [
             0.2222222222222222,
             "#7201a8"
            ],
            [
             0.3333333333333333,
             "#9c179e"
            ],
            [
             0.4444444444444444,
             "#bd3786"
            ],
            [
             0.5555555555555556,
             "#d8576b"
            ],
            [
             0.6666666666666666,
             "#ed7953"
            ],
            [
             0.7777777777777778,
             "#fb9f3a"
            ],
            [
             0.8888888888888888,
             "#fdca26"
            ],
            [
             1,
             "#f0f921"
            ]
           ],
           "sequentialminus": [
            [
             0,
             "#0d0887"
            ],
            [
             0.1111111111111111,
             "#46039f"
            ],
            [
             0.2222222222222222,
             "#7201a8"
            ],
            [
             0.3333333333333333,
             "#9c179e"
            ],
            [
             0.4444444444444444,
             "#bd3786"
            ],
            [
             0.5555555555555556,
             "#d8576b"
            ],
            [
             0.6666666666666666,
             "#ed7953"
            ],
            [
             0.7777777777777778,
             "#fb9f3a"
            ],
            [
             0.8888888888888888,
             "#fdca26"
            ],
            [
             1,
             "#f0f921"
            ]
           ]
          },
          "colorway": [
           "#636efa",
           "#EF553B",
           "#00cc96",
           "#ab63fa",
           "#FFA15A",
           "#19d3f3",
           "#FF6692",
           "#B6E880",
           "#FF97FF",
           "#FECB52"
          ],
          "font": {
           "color": "#2a3f5f"
          },
          "geo": {
           "bgcolor": "white",
           "lakecolor": "white",
           "landcolor": "#E5ECF6",
           "showlakes": true,
           "showland": true,
           "subunitcolor": "white"
          },
          "hoverlabel": {
           "align": "left"
          },
          "hovermode": "closest",
          "mapbox": {
           "style": "light"
          },
          "paper_bgcolor": "white",
          "plot_bgcolor": "#E5ECF6",
          "polar": {
           "angularaxis": {
            "gridcolor": "white",
            "linecolor": "white",
            "ticks": ""
           },
           "bgcolor": "#E5ECF6",
           "radialaxis": {
            "gridcolor": "white",
            "linecolor": "white",
            "ticks": ""
           }
          },
          "scene": {
           "xaxis": {
            "backgroundcolor": "#E5ECF6",
            "gridcolor": "white",
            "gridwidth": 2,
            "linecolor": "white",
            "showbackground": true,
            "ticks": "",
            "zerolinecolor": "white"
           },
           "yaxis": {
            "backgroundcolor": "#E5ECF6",
            "gridcolor": "white",
            "gridwidth": 2,
            "linecolor": "white",
            "showbackground": true,
            "ticks": "",
            "zerolinecolor": "white"
           },
           "zaxis": {
            "backgroundcolor": "#E5ECF6",
            "gridcolor": "white",
            "gridwidth": 2,
            "linecolor": "white",
            "showbackground": true,
            "ticks": "",
            "zerolinecolor": "white"
           }
          },
          "shapedefaults": {
           "line": {
            "color": "#2a3f5f"
           }
          },
          "ternary": {
           "aaxis": {
            "gridcolor": "white",
            "linecolor": "white",
            "ticks": ""
           },
           "baxis": {
            "gridcolor": "white",
            "linecolor": "white",
            "ticks": ""
           },
           "bgcolor": "#E5ECF6",
           "caxis": {
            "gridcolor": "white",
            "linecolor": "white",
            "ticks": ""
           }
          },
          "title": {
           "x": 0.05
          },
          "xaxis": {
           "automargin": true,
           "gridcolor": "white",
           "linecolor": "white",
           "ticks": "",
           "title": {
            "standoff": 15
           },
           "zerolinecolor": "white",
           "zerolinewidth": 2
          },
          "yaxis": {
           "automargin": true,
           "gridcolor": "white",
           "linecolor": "white",
           "ticks": "",
           "title": {
            "standoff": 15
           },
           "zerolinecolor": "white",
           "zerolinewidth": 2
          }
         }
        },
        "title": {
         "font": {
          "color": "#4D5663"
         }
        },
        "xaxis": {
         "gridcolor": "#E1E5ED",
         "showgrid": true,
         "tickfont": {
          "color": "#4D5663"
         },
         "title": {
          "font": {
           "color": "#4D5663"
          },
          "text": ""
         },
         "zerolinecolor": "#E1E5ED"
        },
        "yaxis": {
         "gridcolor": "#E1E5ED",
         "showgrid": true,
         "tickfont": {
          "color": "#4D5663"
         },
         "title": {
          "font": {
           "color": "#4D5663"
          },
          "text": ""
         },
         "zerolinecolor": "#E1E5ED"
        }
       }
      },
      "text/html": [
       "<div>                            <div id=\"34067399-09f6-4ab6-89b3-6683b271cd08\" class=\"plotly-graph-div\" style=\"height:525px; width:100%;\"></div>            <script type=\"text/javascript\">                require([\"plotly\"], function(Plotly) {                    window.PLOTLYENV=window.PLOTLYENV || {};\n",
       "                    window.PLOTLYENV.BASE_URL='https://plot.ly';                                    if (document.getElementById(\"34067399-09f6-4ab6-89b3-6683b271cd08\")) {                    Plotly.newPlot(                        \"34067399-09f6-4ab6-89b3-6683b271cd08\",                        [{\"histfunc\":\"count\",\"histnorm\":\"\",\"marker\":{\"color\":\"rgba(255, 153, 51, 1.0)\",\"line\":{\"color\":\"#4D5663\",\"width\":1.3}},\"name\":\"A\",\"nbinsx\":45,\"opacity\":0.8,\"orientation\":\"v\",\"x\":[-0.6715841140505145,-0.015693512274722023,-1.2377868022190277,0.02503655607096757,-0.14529398503449995,-1.0551956430573703,0.23233137831534484,-0.2956574504198168,-0.5577910399776433,1.3738652338159894,-2.9623175823727816,1.4904430345297184,1.039183339678253,-0.7113259936440596,-1.1842573167447745,0.08276897728234352,0.329475561063558,0.4884573064355324,0.33170945240886557,-1.623491342611854,-0.2787006945859761,0.3451219421823229,-0.8463179724936395,1.198615884615791,-1.21520995130495,0.08357517582237833,-0.9168333966717761,0.14444471685492827,-0.7587977901216573,-0.5716253932588715,-0.5155445307260258,0.039690930351866376,0.45206315536669267,0.25822078314915525,0.6795014499531823,-0.5258381951483264,-0.5831900803018422,0.9433672570698973,-1.2172033264702742,0.4070804402188379,0.9984241995599689,0.17547655482258462,-0.4864382830689831,-1.1725144840193726,1.2159970426643887,2.2007383884166125,-1.447909129888451,-1.2405381762638814,0.08017130631382811,-2.4146038180313445,0.24500705463654993,1.0955121238600343,0.07840931223258185,-1.0910806569187692,0.8837375823403211,-0.6788158992187295,-0.11096246412127025,-0.18905143074917843,-0.18057514475557498,0.6162366738892845,0.16758644721112217,-1.552022094532808,-0.15980187798785894,0.684059048953964,0.08319961960883286,-0.1393646482722601,-2.504160913360558,0.5878659446965919,1.635811129335889,1.9114127993924863,-0.7805028079982012,0.1596568880233185,0.04155434974831334,1.0035541939648416,0.8908357638671642,0.1327051615657846,-0.3952116467445707,0.7864341312472358,0.38666747641392035,0.14471853623258493,1.431655710690944,-0.11781504624255924,1.4974434253457516,-0.7964145225371747,-1.3699600853577067,-0.9618089897181643,-0.827111687389078,-0.7046529758368414,0.8828852015707367,-0.706753026854823,-1.390935846156628,-1.0817460195694732,0.9059710010262795,1.6281493928309418,-1.5741581898416985,-1.1456360795171043,0.5647014328630369,1.4079302677481942,0.7015348136215821,0.2996814140958031],\"type\":\"histogram\"}],                        {\"barmode\":\"overlay\",\"legend\":{\"bgcolor\":\"#F5F6F9\",\"font\":{\"color\":\"#4D5663\"}},\"paper_bgcolor\":\"#F5F6F9\",\"plot_bgcolor\":\"#F5F6F9\",\"template\":{\"data\":{\"barpolar\":[{\"marker\":{\"line\":{\"color\":\"#E5ECF6\",\"width\":0.5},\"pattern\":{\"fillmode\":\"overlay\",\"size\":10,\"solidity\":0.2}},\"type\":\"barpolar\"}],\"bar\":[{\"error_x\":{\"color\":\"#2a3f5f\"},\"error_y\":{\"color\":\"#2a3f5f\"},\"marker\":{\"line\":{\"color\":\"#E5ECF6\",\"width\":0.5},\"pattern\":{\"fillmode\":\"overlay\",\"size\":10,\"solidity\":0.2}},\"type\":\"bar\"}],\"carpet\":[{\"aaxis\":{\"endlinecolor\":\"#2a3f5f\",\"gridcolor\":\"white\",\"linecolor\":\"white\",\"minorgridcolor\":\"white\",\"startlinecolor\":\"#2a3f5f\"},\"baxis\":{\"endlinecolor\":\"#2a3f5f\",\"gridcolor\":\"white\",\"linecolor\":\"white\",\"minorgridcolor\":\"white\",\"startlinecolor\":\"#2a3f5f\"},\"type\":\"carpet\"}],\"choropleth\":[{\"colorbar\":{\"outlinewidth\":0,\"ticks\":\"\"},\"type\":\"choropleth\"}],\"contourcarpet\":[{\"colorbar\":{\"outlinewidth\":0,\"ticks\":\"\"},\"type\":\"contourcarpet\"}],\"contour\":[{\"colorbar\":{\"outlinewidth\":0,\"ticks\":\"\"},\"colorscale\":[[0.0,\"#0d0887\"],[0.1111111111111111,\"#46039f\"],[0.2222222222222222,\"#7201a8\"],[0.3333333333333333,\"#9c179e\"],[0.4444444444444444,\"#bd3786\"],[0.5555555555555556,\"#d8576b\"],[0.6666666666666666,\"#ed7953\"],[0.7777777777777778,\"#fb9f3a\"],[0.8888888888888888,\"#fdca26\"],[1.0,\"#f0f921\"]],\"type\":\"contour\"}],\"heatmapgl\":[{\"colorbar\":{\"outlinewidth\":0,\"ticks\":\"\"},\"colorscale\":[[0.0,\"#0d0887\"],[0.1111111111111111,\"#46039f\"],[0.2222222222222222,\"#7201a8\"],[0.3333333333333333,\"#9c179e\"],[0.4444444444444444,\"#bd3786\"],[0.5555555555555556,\"#d8576b\"],[0.6666666666666666,\"#ed7953\"],[0.7777777777777778,\"#fb9f3a\"],[0.8888888888888888,\"#fdca26\"],[1.0,\"#f0f921\"]],\"type\":\"heatmapgl\"}],\"heatmap\":[{\"colorbar\":{\"outlinewidth\":0,\"ticks\":\"\"},\"colorscale\":[[0.0,\"#0d0887\"],[0.1111111111111111,\"#46039f\"],[0.2222222222222222,\"#7201a8\"],[0.3333333333333333,\"#9c179e\"],[0.4444444444444444,\"#bd3786\"],[0.5555555555555556,\"#d8576b\"],[0.6666666666666666,\"#ed7953\"],[0.7777777777777778,\"#fb9f3a\"],[0.8888888888888888,\"#fdca26\"],[1.0,\"#f0f921\"]],\"type\":\"heatmap\"}],\"histogram2dcontour\":[{\"colorbar\":{\"outlinewidth\":0,\"ticks\":\"\"},\"colorscale\":[[0.0,\"#0d0887\"],[0.1111111111111111,\"#46039f\"],[0.2222222222222222,\"#7201a8\"],[0.3333333333333333,\"#9c179e\"],[0.4444444444444444,\"#bd3786\"],[0.5555555555555556,\"#d8576b\"],[0.6666666666666666,\"#ed7953\"],[0.7777777777777778,\"#fb9f3a\"],[0.8888888888888888,\"#fdca26\"],[1.0,\"#f0f921\"]],\"type\":\"histogram2dcontour\"}],\"histogram2d\":[{\"colorbar\":{\"outlinewidth\":0,\"ticks\":\"\"},\"colorscale\":[[0.0,\"#0d0887\"],[0.1111111111111111,\"#46039f\"],[0.2222222222222222,\"#7201a8\"],[0.3333333333333333,\"#9c179e\"],[0.4444444444444444,\"#bd3786\"],[0.5555555555555556,\"#d8576b\"],[0.6666666666666666,\"#ed7953\"],[0.7777777777777778,\"#fb9f3a\"],[0.8888888888888888,\"#fdca26\"],[1.0,\"#f0f921\"]],\"type\":\"histogram2d\"}],\"histogram\":[{\"marker\":{\"pattern\":{\"fillmode\":\"overlay\",\"size\":10,\"solidity\":0.2}},\"type\":\"histogram\"}],\"mesh3d\":[{\"colorbar\":{\"outlinewidth\":0,\"ticks\":\"\"},\"type\":\"mesh3d\"}],\"parcoords\":[{\"line\":{\"colorbar\":{\"outlinewidth\":0,\"ticks\":\"\"}},\"type\":\"parcoords\"}],\"pie\":[{\"automargin\":true,\"type\":\"pie\"}],\"scatter3d\":[{\"line\":{\"colorbar\":{\"outlinewidth\":0,\"ticks\":\"\"}},\"marker\":{\"colorbar\":{\"outlinewidth\":0,\"ticks\":\"\"}},\"type\":\"scatter3d\"}],\"scattercarpet\":[{\"marker\":{\"colorbar\":{\"outlinewidth\":0,\"ticks\":\"\"}},\"type\":\"scattercarpet\"}],\"scattergeo\":[{\"marker\":{\"colorbar\":{\"outlinewidth\":0,\"ticks\":\"\"}},\"type\":\"scattergeo\"}],\"scattergl\":[{\"marker\":{\"colorbar\":{\"outlinewidth\":0,\"ticks\":\"\"}},\"type\":\"scattergl\"}],\"scattermapbox\":[{\"marker\":{\"colorbar\":{\"outlinewidth\":0,\"ticks\":\"\"}},\"type\":\"scattermapbox\"}],\"scatterpolargl\":[{\"marker\":{\"colorbar\":{\"outlinewidth\":0,\"ticks\":\"\"}},\"type\":\"scatterpolargl\"}],\"scatterpolar\":[{\"marker\":{\"colorbar\":{\"outlinewidth\":0,\"ticks\":\"\"}},\"type\":\"scatterpolar\"}],\"scatter\":[{\"marker\":{\"colorbar\":{\"outlinewidth\":0,\"ticks\":\"\"}},\"type\":\"scatter\"}],\"scatterternary\":[{\"marker\":{\"colorbar\":{\"outlinewidth\":0,\"ticks\":\"\"}},\"type\":\"scatterternary\"}],\"surface\":[{\"colorbar\":{\"outlinewidth\":0,\"ticks\":\"\"},\"colorscale\":[[0.0,\"#0d0887\"],[0.1111111111111111,\"#46039f\"],[0.2222222222222222,\"#7201a8\"],[0.3333333333333333,\"#9c179e\"],[0.4444444444444444,\"#bd3786\"],[0.5555555555555556,\"#d8576b\"],[0.6666666666666666,\"#ed7953\"],[0.7777777777777778,\"#fb9f3a\"],[0.8888888888888888,\"#fdca26\"],[1.0,\"#f0f921\"]],\"type\":\"surface\"}],\"table\":[{\"cells\":{\"fill\":{\"color\":\"#EBF0F8\"},\"line\":{\"color\":\"white\"}},\"header\":{\"fill\":{\"color\":\"#C8D4E3\"},\"line\":{\"color\":\"white\"}},\"type\":\"table\"}]},\"layout\":{\"annotationdefaults\":{\"arrowcolor\":\"#2a3f5f\",\"arrowhead\":0,\"arrowwidth\":1},\"autotypenumbers\":\"strict\",\"coloraxis\":{\"colorbar\":{\"outlinewidth\":0,\"ticks\":\"\"}},\"colorscale\":{\"diverging\":[[0,\"#8e0152\"],[0.1,\"#c51b7d\"],[0.2,\"#de77ae\"],[0.3,\"#f1b6da\"],[0.4,\"#fde0ef\"],[0.5,\"#f7f7f7\"],[0.6,\"#e6f5d0\"],[0.7,\"#b8e186\"],[0.8,\"#7fbc41\"],[0.9,\"#4d9221\"],[1,\"#276419\"]],\"sequential\":[[0.0,\"#0d0887\"],[0.1111111111111111,\"#46039f\"],[0.2222222222222222,\"#7201a8\"],[0.3333333333333333,\"#9c179e\"],[0.4444444444444444,\"#bd3786\"],[0.5555555555555556,\"#d8576b\"],[0.6666666666666666,\"#ed7953\"],[0.7777777777777778,\"#fb9f3a\"],[0.8888888888888888,\"#fdca26\"],[1.0,\"#f0f921\"]],\"sequentialminus\":[[0.0,\"#0d0887\"],[0.1111111111111111,\"#46039f\"],[0.2222222222222222,\"#7201a8\"],[0.3333333333333333,\"#9c179e\"],[0.4444444444444444,\"#bd3786\"],[0.5555555555555556,\"#d8576b\"],[0.6666666666666666,\"#ed7953\"],[0.7777777777777778,\"#fb9f3a\"],[0.8888888888888888,\"#fdca26\"],[1.0,\"#f0f921\"]]},\"colorway\":[\"#636efa\",\"#EF553B\",\"#00cc96\",\"#ab63fa\",\"#FFA15A\",\"#19d3f3\",\"#FF6692\",\"#B6E880\",\"#FF97FF\",\"#FECB52\"],\"font\":{\"color\":\"#2a3f5f\"},\"geo\":{\"bgcolor\":\"white\",\"lakecolor\":\"white\",\"landcolor\":\"#E5ECF6\",\"showlakes\":true,\"showland\":true,\"subunitcolor\":\"white\"},\"hoverlabel\":{\"align\":\"left\"},\"hovermode\":\"closest\",\"mapbox\":{\"style\":\"light\"},\"paper_bgcolor\":\"white\",\"plot_bgcolor\":\"#E5ECF6\",\"polar\":{\"angularaxis\":{\"gridcolor\":\"white\",\"linecolor\":\"white\",\"ticks\":\"\"},\"bgcolor\":\"#E5ECF6\",\"radialaxis\":{\"gridcolor\":\"white\",\"linecolor\":\"white\",\"ticks\":\"\"}},\"scene\":{\"xaxis\":{\"backgroundcolor\":\"#E5ECF6\",\"gridcolor\":\"white\",\"gridwidth\":2,\"linecolor\":\"white\",\"showbackground\":true,\"ticks\":\"\",\"zerolinecolor\":\"white\"},\"yaxis\":{\"backgroundcolor\":\"#E5ECF6\",\"gridcolor\":\"white\",\"gridwidth\":2,\"linecolor\":\"white\",\"showbackground\":true,\"ticks\":\"\",\"zerolinecolor\":\"white\"},\"zaxis\":{\"backgroundcolor\":\"#E5ECF6\",\"gridcolor\":\"white\",\"gridwidth\":2,\"linecolor\":\"white\",\"showbackground\":true,\"ticks\":\"\",\"zerolinecolor\":\"white\"}},\"shapedefaults\":{\"line\":{\"color\":\"#2a3f5f\"}},\"ternary\":{\"aaxis\":{\"gridcolor\":\"white\",\"linecolor\":\"white\",\"ticks\":\"\"},\"baxis\":{\"gridcolor\":\"white\",\"linecolor\":\"white\",\"ticks\":\"\"},\"bgcolor\":\"#E5ECF6\",\"caxis\":{\"gridcolor\":\"white\",\"linecolor\":\"white\",\"ticks\":\"\"}},\"title\":{\"x\":0.05},\"xaxis\":{\"automargin\":true,\"gridcolor\":\"white\",\"linecolor\":\"white\",\"ticks\":\"\",\"title\":{\"standoff\":15},\"zerolinecolor\":\"white\",\"zerolinewidth\":2},\"yaxis\":{\"automargin\":true,\"gridcolor\":\"white\",\"linecolor\":\"white\",\"ticks\":\"\",\"title\":{\"standoff\":15},\"zerolinecolor\":\"white\",\"zerolinewidth\":2}}},\"title\":{\"font\":{\"color\":\"#4D5663\"}},\"xaxis\":{\"gridcolor\":\"#E1E5ED\",\"showgrid\":true,\"tickfont\":{\"color\":\"#4D5663\"},\"title\":{\"font\":{\"color\":\"#4D5663\"},\"text\":\"\"},\"zerolinecolor\":\"#E1E5ED\"},\"yaxis\":{\"gridcolor\":\"#E1E5ED\",\"showgrid\":true,\"tickfont\":{\"color\":\"#4D5663\"},\"title\":{\"font\":{\"color\":\"#4D5663\"},\"text\":\"\"},\"zerolinecolor\":\"#E1E5ED\"}},                        {\"showLink\": true, \"linkText\": \"Export to plot.ly\", \"plotlyServerURL\": \"https://plot.ly\", \"responsive\": true}                    ).then(function(){\n",
       "                            \n",
       "var gd = document.getElementById('34067399-09f6-4ab6-89b3-6683b271cd08');\n",
       "var x = new MutationObserver(function (mutations, observer) {{\n",
       "        var display = window.getComputedStyle(gd).display;\n",
       "        if (!display || display === 'none') {{\n",
       "            console.log([gd, 'removed!']);\n",
       "            Plotly.purge(gd);\n",
       "            observer.disconnect();\n",
       "        }}\n",
       "}});\n",
       "\n",
       "// Listen for the removal of the full notebook cells\n",
       "var notebookContainer = gd.closest('#notebook-container');\n",
       "if (notebookContainer) {{\n",
       "    x.observe(notebookContainer, {childList: true});\n",
       "}}\n",
       "\n",
       "// Listen for the clearing of the current output cell\n",
       "var outputEl = gd.closest('.output');\n",
       "if (outputEl) {{\n",
       "    x.observe(outputEl, {childList: true});\n",
       "}}\n",
       "\n",
       "                        })                };                });            </script>        </div>"
      ]
     },
     "metadata": {},
     "output_type": "display_data"
    }
   ],
   "source": [
    "df[\"A\"].iplot(kind=\"hist\", bins=45)"
   ]
  },
  {
   "cell_type": "code",
   "execution_count": 40,
   "id": "7de7aff7",
   "metadata": {},
   "outputs": [
    {
     "data": {
      "application/vnd.plotly.v1+json": {
       "config": {
        "linkText": "Export to plot.ly",
        "plotlyServerURL": "https://plot.ly",
        "showLink": true
       },
       "data": [
        {
         "histfunc": "count",
         "histnorm": "",
         "marker": {
          "color": "rgba(255, 153, 51, 1.0)",
          "line": {
           "color": "#4D5663",
           "width": 1.3
          }
         },
         "name": "A",
         "opacity": 0.8,
         "orientation": "v",
         "type": "histogram",
         "x": [
          -0.6715841140505145,
          -0.015693512274722023,
          -1.2377868022190277,
          0.02503655607096757,
          -0.14529398503449995,
          -1.0551956430573703,
          0.23233137831534484,
          -0.2956574504198168,
          -0.5577910399776433,
          1.3738652338159894,
          -2.9623175823727816,
          1.4904430345297184,
          1.039183339678253,
          -0.7113259936440596,
          -1.1842573167447745,
          0.08276897728234352,
          0.329475561063558,
          0.4884573064355324,
          0.33170945240886557,
          -1.623491342611854,
          -0.2787006945859761,
          0.3451219421823229,
          -0.8463179724936395,
          1.198615884615791,
          -1.21520995130495,
          0.08357517582237833,
          -0.9168333966717761,
          0.14444471685492827,
          -0.7587977901216573,
          -0.5716253932588715,
          -0.5155445307260258,
          0.039690930351866376,
          0.45206315536669267,
          0.25822078314915525,
          0.6795014499531823,
          -0.5258381951483264,
          -0.5831900803018422,
          0.9433672570698973,
          -1.2172033264702742,
          0.4070804402188379,
          0.9984241995599689,
          0.17547655482258462,
          -0.4864382830689831,
          -1.1725144840193726,
          1.2159970426643887,
          2.2007383884166125,
          -1.447909129888451,
          -1.2405381762638814,
          0.08017130631382811,
          -2.4146038180313445,
          0.24500705463654993,
          1.0955121238600343,
          0.07840931223258185,
          -1.0910806569187692,
          0.8837375823403211,
          -0.6788158992187295,
          -0.11096246412127025,
          -0.18905143074917843,
          -0.18057514475557498,
          0.6162366738892845,
          0.16758644721112217,
          -1.552022094532808,
          -0.15980187798785894,
          0.684059048953964,
          0.08319961960883286,
          -0.1393646482722601,
          -2.504160913360558,
          0.5878659446965919,
          1.635811129335889,
          1.9114127993924863,
          -0.7805028079982012,
          0.1596568880233185,
          0.04155434974831334,
          1.0035541939648416,
          0.8908357638671642,
          0.1327051615657846,
          -0.3952116467445707,
          0.7864341312472358,
          0.38666747641392035,
          0.14471853623258493,
          1.431655710690944,
          -0.11781504624255924,
          1.4974434253457516,
          -0.7964145225371747,
          -1.3699600853577067,
          -0.9618089897181643,
          -0.827111687389078,
          -0.7046529758368414,
          0.8828852015707367,
          -0.706753026854823,
          -1.390935846156628,
          -1.0817460195694732,
          0.9059710010262795,
          1.6281493928309418,
          -1.5741581898416985,
          -1.1456360795171043,
          0.5647014328630369,
          1.4079302677481942,
          0.7015348136215821,
          0.2996814140958031
         ]
        },
        {
         "histfunc": "count",
         "histnorm": "",
         "marker": {
          "color": "rgba(55, 128, 191, 1.0)",
          "line": {
           "color": "#4D5663",
           "width": 1.3
          }
         },
         "name": "B",
         "opacity": 0.8,
         "orientation": "v",
         "type": "histogram",
         "x": [
          2.2584707094043437,
          -0.7302799304607928,
          -0.2639441560358485,
          -1.6907250644742915,
          0.1254040074044843,
          1.3653684572122151,
          -0.8993710510320301,
          1.3637219597500265,
          -0.9949884716772304,
          1.3124196810371618,
          0.13120330179599704,
          0.24421489269566785,
          -0.27027514734432023,
          2.4192473141037873,
          0.07051174070187619,
          1.1454944026229976,
          1.3978441309027008,
          -0.8020321670729008,
          0.23465940010652886,
          0.27772437241707726,
          -0.023704226665142523,
          1.0647734889326985,
          -0.1299940741540082,
          -0.8947487564886276,
          -0.8601967942699728,
          -0.31182841235252173,
          0.7008025244702615,
          1.462640550182099,
          -0.7168406874680995,
          -0.533752063962401,
          -0.3383209072280021,
          2.141940772311467,
          -0.2179188511702646,
          0.7234207747726848,
          -1.539763104939272,
          -0.208167932281236,
          -0.7514823675298156,
          0.035625121367857726,
          0.9241782089734557,
          0.25995515135379726,
          0.8840298645904345,
          1.621531593225492,
          -1.0862693306485376,
          -0.9298244982592239,
          1.0305804958400764,
          -0.3028330445145502,
          -0.3412703213179675,
          0.24259140471291563,
          0.7725146061486692,
          -0.5627322260108164,
          -1.3362173833170023,
          -0.8364666429820613,
          -1.8649422541480647,
          -0.04000503321453959,
          -0.516321928580932,
          0.08082616339686961,
          1.3944373699957966,
          -0.17216818877174742,
          -0.5934447292701355,
          0.10764914753318927,
          -0.2667606811527233,
          -1.0162205575249617,
          -0.1144380817846967,
          1.4406345038428472,
          -0.7425514219222027,
          -1.0606788949699955,
          -1.586021525034324,
          -0.12104202346651638,
          0.8521010224489876,
          -0.9966586709814385,
          -0.7121334921084088,
          -0.4637882083535036,
          -0.11250665600437545,
          -0.8411356640052431,
          -0.7045662925272004,
          -0.6948250878248523,
          0.5000878197913172,
          -0.3528712808109637,
          -0.09557363709951629,
          0.11364046061839493,
          -1.015457474819926,
          0.36528363055720064,
          0.6711251693871432,
          0.7601384575280092,
          0.4321696477454787,
          0.6833655360978901,
          1.7310669374017902,
          0.4262696812048567,
          -0.2656194098492696,
          1.5645661055838156,
          -0.033652820429172794,
          -1.0858452674326182,
          -0.9708252180947552,
          1.771751835446405,
          -0.7925116693718385,
          -1.3470060707018487,
          0.006208722375716201,
          -1.499857075979689,
          -0.8887702919102793,
          -0.43945889066964533
         ]
        },
        {
         "histfunc": "count",
         "histnorm": "",
         "marker": {
          "color": "rgba(50, 171, 96, 1.0)",
          "line": {
           "color": "#4D5663",
           "width": 1.3
          }
         },
         "name": "C",
         "opacity": 0.8,
         "orientation": "v",
         "type": "histogram",
         "x": [
          0.9715485590504849,
          0.17805578079037374,
          1.0226214736510901,
          -0.8694381195156575,
          -0.2316616538513763,
          -0.23514648178048406,
          -0.9084366733358773,
          0.7082960893309674,
          -1.9153067609093344,
          0.49221579376002955,
          -0.05003965714440723,
          -1.5680370294502035,
          0.14448221072270265,
          0.3073580790559129,
          -0.6840199805478799,
          -0.9381329948562944,
          -1.9087349212901707,
          -1.3269052489638635,
          0.7081186471450253,
          -0.6756607826885137,
          2.309573885547715,
          -0.6744408554771967,
          -1.4535000664961162,
          0.15164881301305483,
          0.6961187255522358,
          0.8725241037169394,
          0.01979758044591536,
          -2.0999640292701853,
          0.5247366656699252,
          0.5773432872959063,
          1.277207740501427,
          0.9583546716298691,
          -0.2331429642108506,
          -1.0527977933110753,
          0.45463559994258035,
          0.0011469180817339204,
          -0.1939706845144443,
          -1.6231410749321515,
          1.532026544518872,
          1.1603622659164887,
          -1.3804331823497566,
          0.36900899034704016,
          -1.3417912842517399,
          1.2395811511921635,
          -0.021129116765842865,
          -1.557394979474704,
          0.870542918565471,
          -1.0155395128582034,
          2.200040684246524,
          0.23668204943963497,
          -0.9497257565370577,
          0.2211962306990893,
          1.7023136503709666,
          -0.2737581003282735,
          1.00249312945178,
          1.211561846991026,
          0.3219714204720471,
          0.2996112156365192,
          -1.0321357177428103,
          1.6807342640809886,
          -1.2506099480148745,
          0.33464862133670836,
          0.1898629938142908,
          0.9675282440215491,
          -0.3537828166578415,
          1.5126369413241667,
          0.6176407204564663,
          -2.163546102762687,
          0.2478291332533252,
          0.455503278492527,
          1.3607904406045999,
          -0.3425062352366064,
          0.4030918801177125,
          0.8520217405723798,
          -0.5534302121023642,
          -1.1974868026525782,
          0.4460212772296304,
          -1.0305096922042194,
          -0.4515010192496534,
          1.0174930183935191,
          0.5053496144030297,
          -1.6408859443445472,
          -1.3365466135761324,
          0.13205516684893642,
          0.9030577153865585,
          1.4137698249332808,
          -0.44152078212550944,
          1.5099785124243106,
          -1.8088220005603304,
          -0.8505127001965405,
          -0.930186014824073,
          -1.0502128999293106,
          0.7582441720151186,
          1.3916847146647193,
          -0.0316486389386445,
          1.0649078768796696,
          -0.5623862247786948,
          -0.5834027047758633,
          0.16086133678899775,
          1.1244623697081284
         ]
        },
        {
         "histfunc": "count",
         "histnorm": "",
         "marker": {
          "color": "rgba(128, 0, 128, 1.0)",
          "line": {
           "color": "#4D5663",
           "width": 1.3
          }
         },
         "name": "D",
         "opacity": 0.8,
         "orientation": "v",
         "type": "histogram",
         "x": [
          1.2788671126878617,
          0.5463490627005372,
          -0.8458274852088671,
          1.891968284906087,
          0.027129520621435557,
          0.9076544818601713,
          1.1428718918578358,
          -0.3596387227045708,
          0.2500227533355477,
          -0.07322678785550782,
          -0.20911214212065374,
          0.523723621573591,
          0.4259764247672888,
          -1.1968758184322306,
          -0.8054767941949154,
          1.8900072380345485,
          0.8452113436466301,
          -0.25414609073347877,
          0.03570855246577367,
          0.14575503135915918,
          2.189428173696937,
          -0.07187860253400183,
          -0.7418466311463111,
          -0.505340193235467,
          -0.4959876377616374,
          -0.21749317450560904,
          0.10492539817008403,
          -0.059598361653984966,
          -0.884962776942417,
          1.3091537990351603,
          1.7323272249030568,
          -1.1585055113970915,
          -1.4797572809249315,
          1.5501511744148435,
          -0.40991876351239337,
          -0.09463390578367643,
          -0.4961731048584968,
          -0.12116479609004391,
          1.5429867747832684,
          2.083823626126322,
          -1.3405618577286778,
          -0.013274360478629371,
          1.4704827400113714,
          -0.09230518925486603,
          -0.1814328005222361,
          1.1937710999811717,
          -0.17038391795488023,
          0.40313263628071977,
          -0.37281732453145733,
          0.3707495163122737,
          0.30920736594324405,
          -0.5702771593764394,
          0.49741067835785063,
          0.3251355812421022,
          0.26196593782269134,
          0.8972217561696456,
          0.21324090680672533,
          -0.592522484752052,
          0.3189074515402922,
          0.46513692270318635,
          -0.2758476538032941,
          0.7688813450982438,
          -0.3319192869248297,
          -1.0340902467079396,
          -0.47875869327376647,
          0.4948476815535337,
          0.5958264226747494,
          0.6503139300524439,
          -1.4830468087573092,
          -0.6463031033931556,
          -0.30555585754444564,
          0.21901772500633013,
          0.6548728016080407,
          1.1596515508110465,
          -0.9449083897526811,
          -0.8559496144959297,
          1.1764890071657674,
          -2.7626589596873967,
          0.34726352104614705,
          -2.0534746469817633,
          -0.0778792691985187,
          -0.79091489232892,
          -1.783799382189531,
          0.876754632425876,
          -0.5064195302925444,
          -0.5587688290364335,
          -0.10191596449244297,
          1.1109009231629037,
          1.3054030990977499,
          1.706073511150618,
          -0.8962883920903764,
          1.1202847972825045,
          -1.6472410388756322,
          -1.6999419548084038,
          0.9423173222319073,
          1.3259604804878835,
          1.1463039571620701,
          0.16192374138738494,
          -0.4302555224507472,
          1.2522124410555802
         ]
        }
       ],
       "layout": {
        "barmode": "overlay",
        "legend": {
         "bgcolor": "#F5F6F9",
         "font": {
          "color": "#4D5663"
         }
        },
        "paper_bgcolor": "#F5F6F9",
        "plot_bgcolor": "#F5F6F9",
        "template": {
         "data": {
          "bar": [
           {
            "error_x": {
             "color": "#2a3f5f"
            },
            "error_y": {
             "color": "#2a3f5f"
            },
            "marker": {
             "line": {
              "color": "#E5ECF6",
              "width": 0.5
             },
             "pattern": {
              "fillmode": "overlay",
              "size": 10,
              "solidity": 0.2
             }
            },
            "type": "bar"
           }
          ],
          "barpolar": [
           {
            "marker": {
             "line": {
              "color": "#E5ECF6",
              "width": 0.5
             },
             "pattern": {
              "fillmode": "overlay",
              "size": 10,
              "solidity": 0.2
             }
            },
            "type": "barpolar"
           }
          ],
          "carpet": [
           {
            "aaxis": {
             "endlinecolor": "#2a3f5f",
             "gridcolor": "white",
             "linecolor": "white",
             "minorgridcolor": "white",
             "startlinecolor": "#2a3f5f"
            },
            "baxis": {
             "endlinecolor": "#2a3f5f",
             "gridcolor": "white",
             "linecolor": "white",
             "minorgridcolor": "white",
             "startlinecolor": "#2a3f5f"
            },
            "type": "carpet"
           }
          ],
          "choropleth": [
           {
            "colorbar": {
             "outlinewidth": 0,
             "ticks": ""
            },
            "type": "choropleth"
           }
          ],
          "contour": [
           {
            "colorbar": {
             "outlinewidth": 0,
             "ticks": ""
            },
            "colorscale": [
             [
              0,
              "#0d0887"
             ],
             [
              0.1111111111111111,
              "#46039f"
             ],
             [
              0.2222222222222222,
              "#7201a8"
             ],
             [
              0.3333333333333333,
              "#9c179e"
             ],
             [
              0.4444444444444444,
              "#bd3786"
             ],
             [
              0.5555555555555556,
              "#d8576b"
             ],
             [
              0.6666666666666666,
              "#ed7953"
             ],
             [
              0.7777777777777778,
              "#fb9f3a"
             ],
             [
              0.8888888888888888,
              "#fdca26"
             ],
             [
              1,
              "#f0f921"
             ]
            ],
            "type": "contour"
           }
          ],
          "contourcarpet": [
           {
            "colorbar": {
             "outlinewidth": 0,
             "ticks": ""
            },
            "type": "contourcarpet"
           }
          ],
          "heatmap": [
           {
            "colorbar": {
             "outlinewidth": 0,
             "ticks": ""
            },
            "colorscale": [
             [
              0,
              "#0d0887"
             ],
             [
              0.1111111111111111,
              "#46039f"
             ],
             [
              0.2222222222222222,
              "#7201a8"
             ],
             [
              0.3333333333333333,
              "#9c179e"
             ],
             [
              0.4444444444444444,
              "#bd3786"
             ],
             [
              0.5555555555555556,
              "#d8576b"
             ],
             [
              0.6666666666666666,
              "#ed7953"
             ],
             [
              0.7777777777777778,
              "#fb9f3a"
             ],
             [
              0.8888888888888888,
              "#fdca26"
             ],
             [
              1,
              "#f0f921"
             ]
            ],
            "type": "heatmap"
           }
          ],
          "heatmapgl": [
           {
            "colorbar": {
             "outlinewidth": 0,
             "ticks": ""
            },
            "colorscale": [
             [
              0,
              "#0d0887"
             ],
             [
              0.1111111111111111,
              "#46039f"
             ],
             [
              0.2222222222222222,
              "#7201a8"
             ],
             [
              0.3333333333333333,
              "#9c179e"
             ],
             [
              0.4444444444444444,
              "#bd3786"
             ],
             [
              0.5555555555555556,
              "#d8576b"
             ],
             [
              0.6666666666666666,
              "#ed7953"
             ],
             [
              0.7777777777777778,
              "#fb9f3a"
             ],
             [
              0.8888888888888888,
              "#fdca26"
             ],
             [
              1,
              "#f0f921"
             ]
            ],
            "type": "heatmapgl"
           }
          ],
          "histogram": [
           {
            "marker": {
             "pattern": {
              "fillmode": "overlay",
              "size": 10,
              "solidity": 0.2
             }
            },
            "type": "histogram"
           }
          ],
          "histogram2d": [
           {
            "colorbar": {
             "outlinewidth": 0,
             "ticks": ""
            },
            "colorscale": [
             [
              0,
              "#0d0887"
             ],
             [
              0.1111111111111111,
              "#46039f"
             ],
             [
              0.2222222222222222,
              "#7201a8"
             ],
             [
              0.3333333333333333,
              "#9c179e"
             ],
             [
              0.4444444444444444,
              "#bd3786"
             ],
             [
              0.5555555555555556,
              "#d8576b"
             ],
             [
              0.6666666666666666,
              "#ed7953"
             ],
             [
              0.7777777777777778,
              "#fb9f3a"
             ],
             [
              0.8888888888888888,
              "#fdca26"
             ],
             [
              1,
              "#f0f921"
             ]
            ],
            "type": "histogram2d"
           }
          ],
          "histogram2dcontour": [
           {
            "colorbar": {
             "outlinewidth": 0,
             "ticks": ""
            },
            "colorscale": [
             [
              0,
              "#0d0887"
             ],
             [
              0.1111111111111111,
              "#46039f"
             ],
             [
              0.2222222222222222,
              "#7201a8"
             ],
             [
              0.3333333333333333,
              "#9c179e"
             ],
             [
              0.4444444444444444,
              "#bd3786"
             ],
             [
              0.5555555555555556,
              "#d8576b"
             ],
             [
              0.6666666666666666,
              "#ed7953"
             ],
             [
              0.7777777777777778,
              "#fb9f3a"
             ],
             [
              0.8888888888888888,
              "#fdca26"
             ],
             [
              1,
              "#f0f921"
             ]
            ],
            "type": "histogram2dcontour"
           }
          ],
          "mesh3d": [
           {
            "colorbar": {
             "outlinewidth": 0,
             "ticks": ""
            },
            "type": "mesh3d"
           }
          ],
          "parcoords": [
           {
            "line": {
             "colorbar": {
              "outlinewidth": 0,
              "ticks": ""
             }
            },
            "type": "parcoords"
           }
          ],
          "pie": [
           {
            "automargin": true,
            "type": "pie"
           }
          ],
          "scatter": [
           {
            "marker": {
             "colorbar": {
              "outlinewidth": 0,
              "ticks": ""
             }
            },
            "type": "scatter"
           }
          ],
          "scatter3d": [
           {
            "line": {
             "colorbar": {
              "outlinewidth": 0,
              "ticks": ""
             }
            },
            "marker": {
             "colorbar": {
              "outlinewidth": 0,
              "ticks": ""
             }
            },
            "type": "scatter3d"
           }
          ],
          "scattercarpet": [
           {
            "marker": {
             "colorbar": {
              "outlinewidth": 0,
              "ticks": ""
             }
            },
            "type": "scattercarpet"
           }
          ],
          "scattergeo": [
           {
            "marker": {
             "colorbar": {
              "outlinewidth": 0,
              "ticks": ""
             }
            },
            "type": "scattergeo"
           }
          ],
          "scattergl": [
           {
            "marker": {
             "colorbar": {
              "outlinewidth": 0,
              "ticks": ""
             }
            },
            "type": "scattergl"
           }
          ],
          "scattermapbox": [
           {
            "marker": {
             "colorbar": {
              "outlinewidth": 0,
              "ticks": ""
             }
            },
            "type": "scattermapbox"
           }
          ],
          "scatterpolar": [
           {
            "marker": {
             "colorbar": {
              "outlinewidth": 0,
              "ticks": ""
             }
            },
            "type": "scatterpolar"
           }
          ],
          "scatterpolargl": [
           {
            "marker": {
             "colorbar": {
              "outlinewidth": 0,
              "ticks": ""
             }
            },
            "type": "scatterpolargl"
           }
          ],
          "scatterternary": [
           {
            "marker": {
             "colorbar": {
              "outlinewidth": 0,
              "ticks": ""
             }
            },
            "type": "scatterternary"
           }
          ],
          "surface": [
           {
            "colorbar": {
             "outlinewidth": 0,
             "ticks": ""
            },
            "colorscale": [
             [
              0,
              "#0d0887"
             ],
             [
              0.1111111111111111,
              "#46039f"
             ],
             [
              0.2222222222222222,
              "#7201a8"
             ],
             [
              0.3333333333333333,
              "#9c179e"
             ],
             [
              0.4444444444444444,
              "#bd3786"
             ],
             [
              0.5555555555555556,
              "#d8576b"
             ],
             [
              0.6666666666666666,
              "#ed7953"
             ],
             [
              0.7777777777777778,
              "#fb9f3a"
             ],
             [
              0.8888888888888888,
              "#fdca26"
             ],
             [
              1,
              "#f0f921"
             ]
            ],
            "type": "surface"
           }
          ],
          "table": [
           {
            "cells": {
             "fill": {
              "color": "#EBF0F8"
             },
             "line": {
              "color": "white"
             }
            },
            "header": {
             "fill": {
              "color": "#C8D4E3"
             },
             "line": {
              "color": "white"
             }
            },
            "type": "table"
           }
          ]
         },
         "layout": {
          "annotationdefaults": {
           "arrowcolor": "#2a3f5f",
           "arrowhead": 0,
           "arrowwidth": 1
          },
          "autotypenumbers": "strict",
          "coloraxis": {
           "colorbar": {
            "outlinewidth": 0,
            "ticks": ""
           }
          },
          "colorscale": {
           "diverging": [
            [
             0,
             "#8e0152"
            ],
            [
             0.1,
             "#c51b7d"
            ],
            [
             0.2,
             "#de77ae"
            ],
            [
             0.3,
             "#f1b6da"
            ],
            [
             0.4,
             "#fde0ef"
            ],
            [
             0.5,
             "#f7f7f7"
            ],
            [
             0.6,
             "#e6f5d0"
            ],
            [
             0.7,
             "#b8e186"
            ],
            [
             0.8,
             "#7fbc41"
            ],
            [
             0.9,
             "#4d9221"
            ],
            [
             1,
             "#276419"
            ]
           ],
           "sequential": [
            [
             0,
             "#0d0887"
            ],
            [
             0.1111111111111111,
             "#46039f"
            ],
            [
             0.2222222222222222,
             "#7201a8"
            ],
            [
             0.3333333333333333,
             "#9c179e"
            ],
            [
             0.4444444444444444,
             "#bd3786"
            ],
            [
             0.5555555555555556,
             "#d8576b"
            ],
            [
             0.6666666666666666,
             "#ed7953"
            ],
            [
             0.7777777777777778,
             "#fb9f3a"
            ],
            [
             0.8888888888888888,
             "#fdca26"
            ],
            [
             1,
             "#f0f921"
            ]
           ],
           "sequentialminus": [
            [
             0,
             "#0d0887"
            ],
            [
             0.1111111111111111,
             "#46039f"
            ],
            [
             0.2222222222222222,
             "#7201a8"
            ],
            [
             0.3333333333333333,
             "#9c179e"
            ],
            [
             0.4444444444444444,
             "#bd3786"
            ],
            [
             0.5555555555555556,
             "#d8576b"
            ],
            [
             0.6666666666666666,
             "#ed7953"
            ],
            [
             0.7777777777777778,
             "#fb9f3a"
            ],
            [
             0.8888888888888888,
             "#fdca26"
            ],
            [
             1,
             "#f0f921"
            ]
           ]
          },
          "colorway": [
           "#636efa",
           "#EF553B",
           "#00cc96",
           "#ab63fa",
           "#FFA15A",
           "#19d3f3",
           "#FF6692",
           "#B6E880",
           "#FF97FF",
           "#FECB52"
          ],
          "font": {
           "color": "#2a3f5f"
          },
          "geo": {
           "bgcolor": "white",
           "lakecolor": "white",
           "landcolor": "#E5ECF6",
           "showlakes": true,
           "showland": true,
           "subunitcolor": "white"
          },
          "hoverlabel": {
           "align": "left"
          },
          "hovermode": "closest",
          "mapbox": {
           "style": "light"
          },
          "paper_bgcolor": "white",
          "plot_bgcolor": "#E5ECF6",
          "polar": {
           "angularaxis": {
            "gridcolor": "white",
            "linecolor": "white",
            "ticks": ""
           },
           "bgcolor": "#E5ECF6",
           "radialaxis": {
            "gridcolor": "white",
            "linecolor": "white",
            "ticks": ""
           }
          },
          "scene": {
           "xaxis": {
            "backgroundcolor": "#E5ECF6",
            "gridcolor": "white",
            "gridwidth": 2,
            "linecolor": "white",
            "showbackground": true,
            "ticks": "",
            "zerolinecolor": "white"
           },
           "yaxis": {
            "backgroundcolor": "#E5ECF6",
            "gridcolor": "white",
            "gridwidth": 2,
            "linecolor": "white",
            "showbackground": true,
            "ticks": "",
            "zerolinecolor": "white"
           },
           "zaxis": {
            "backgroundcolor": "#E5ECF6",
            "gridcolor": "white",
            "gridwidth": 2,
            "linecolor": "white",
            "showbackground": true,
            "ticks": "",
            "zerolinecolor": "white"
           }
          },
          "shapedefaults": {
           "line": {
            "color": "#2a3f5f"
           }
          },
          "ternary": {
           "aaxis": {
            "gridcolor": "white",
            "linecolor": "white",
            "ticks": ""
           },
           "baxis": {
            "gridcolor": "white",
            "linecolor": "white",
            "ticks": ""
           },
           "bgcolor": "#E5ECF6",
           "caxis": {
            "gridcolor": "white",
            "linecolor": "white",
            "ticks": ""
           }
          },
          "title": {
           "x": 0.05
          },
          "xaxis": {
           "automargin": true,
           "gridcolor": "white",
           "linecolor": "white",
           "ticks": "",
           "title": {
            "standoff": 15
           },
           "zerolinecolor": "white",
           "zerolinewidth": 2
          },
          "yaxis": {
           "automargin": true,
           "gridcolor": "white",
           "linecolor": "white",
           "ticks": "",
           "title": {
            "standoff": 15
           },
           "zerolinecolor": "white",
           "zerolinewidth": 2
          }
         }
        },
        "title": {
         "font": {
          "color": "#4D5663"
         }
        },
        "xaxis": {
         "gridcolor": "#E1E5ED",
         "showgrid": true,
         "tickfont": {
          "color": "#4D5663"
         },
         "title": {
          "font": {
           "color": "#4D5663"
          },
          "text": ""
         },
         "zerolinecolor": "#E1E5ED"
        },
        "yaxis": {
         "gridcolor": "#E1E5ED",
         "showgrid": true,
         "tickfont": {
          "color": "#4D5663"
         },
         "title": {
          "font": {
           "color": "#4D5663"
          },
          "text": ""
         },
         "zerolinecolor": "#E1E5ED"
        }
       }
      },
      "text/html": [
       "<div>                            <div id=\"db33299d-2dfa-4209-bc5d-b33c8c05a268\" class=\"plotly-graph-div\" style=\"height:525px; width:100%;\"></div>            <script type=\"text/javascript\">                require([\"plotly\"], function(Plotly) {                    window.PLOTLYENV=window.PLOTLYENV || {};\n",
       "                    window.PLOTLYENV.BASE_URL='https://plot.ly';                                    if (document.getElementById(\"db33299d-2dfa-4209-bc5d-b33c8c05a268\")) {                    Plotly.newPlot(                        \"db33299d-2dfa-4209-bc5d-b33c8c05a268\",                        [{\"histfunc\":\"count\",\"histnorm\":\"\",\"marker\":{\"color\":\"rgba(255, 153, 51, 1.0)\",\"line\":{\"color\":\"#4D5663\",\"width\":1.3}},\"name\":\"A\",\"opacity\":0.8,\"orientation\":\"v\",\"x\":[-0.6715841140505145,-0.015693512274722023,-1.2377868022190277,0.02503655607096757,-0.14529398503449995,-1.0551956430573703,0.23233137831534484,-0.2956574504198168,-0.5577910399776433,1.3738652338159894,-2.9623175823727816,1.4904430345297184,1.039183339678253,-0.7113259936440596,-1.1842573167447745,0.08276897728234352,0.329475561063558,0.4884573064355324,0.33170945240886557,-1.623491342611854,-0.2787006945859761,0.3451219421823229,-0.8463179724936395,1.198615884615791,-1.21520995130495,0.08357517582237833,-0.9168333966717761,0.14444471685492827,-0.7587977901216573,-0.5716253932588715,-0.5155445307260258,0.039690930351866376,0.45206315536669267,0.25822078314915525,0.6795014499531823,-0.5258381951483264,-0.5831900803018422,0.9433672570698973,-1.2172033264702742,0.4070804402188379,0.9984241995599689,0.17547655482258462,-0.4864382830689831,-1.1725144840193726,1.2159970426643887,2.2007383884166125,-1.447909129888451,-1.2405381762638814,0.08017130631382811,-2.4146038180313445,0.24500705463654993,1.0955121238600343,0.07840931223258185,-1.0910806569187692,0.8837375823403211,-0.6788158992187295,-0.11096246412127025,-0.18905143074917843,-0.18057514475557498,0.6162366738892845,0.16758644721112217,-1.552022094532808,-0.15980187798785894,0.684059048953964,0.08319961960883286,-0.1393646482722601,-2.504160913360558,0.5878659446965919,1.635811129335889,1.9114127993924863,-0.7805028079982012,0.1596568880233185,0.04155434974831334,1.0035541939648416,0.8908357638671642,0.1327051615657846,-0.3952116467445707,0.7864341312472358,0.38666747641392035,0.14471853623258493,1.431655710690944,-0.11781504624255924,1.4974434253457516,-0.7964145225371747,-1.3699600853577067,-0.9618089897181643,-0.827111687389078,-0.7046529758368414,0.8828852015707367,-0.706753026854823,-1.390935846156628,-1.0817460195694732,0.9059710010262795,1.6281493928309418,-1.5741581898416985,-1.1456360795171043,0.5647014328630369,1.4079302677481942,0.7015348136215821,0.2996814140958031],\"type\":\"histogram\"},{\"histfunc\":\"count\",\"histnorm\":\"\",\"marker\":{\"color\":\"rgba(55, 128, 191, 1.0)\",\"line\":{\"color\":\"#4D5663\",\"width\":1.3}},\"name\":\"B\",\"opacity\":0.8,\"orientation\":\"v\",\"x\":[2.2584707094043437,-0.7302799304607928,-0.2639441560358485,-1.6907250644742915,0.1254040074044843,1.3653684572122151,-0.8993710510320301,1.3637219597500265,-0.9949884716772304,1.3124196810371618,0.13120330179599704,0.24421489269566785,-0.27027514734432023,2.4192473141037873,0.07051174070187619,1.1454944026229976,1.3978441309027008,-0.8020321670729008,0.23465940010652886,0.27772437241707726,-0.023704226665142523,1.0647734889326985,-0.1299940741540082,-0.8947487564886276,-0.8601967942699728,-0.31182841235252173,0.7008025244702615,1.462640550182099,-0.7168406874680995,-0.533752063962401,-0.3383209072280021,2.141940772311467,-0.2179188511702646,0.7234207747726848,-1.539763104939272,-0.208167932281236,-0.7514823675298156,0.035625121367857726,0.9241782089734557,0.25995515135379726,0.8840298645904345,1.621531593225492,-1.0862693306485376,-0.9298244982592239,1.0305804958400764,-0.3028330445145502,-0.3412703213179675,0.24259140471291563,0.7725146061486692,-0.5627322260108164,-1.3362173833170023,-0.8364666429820613,-1.8649422541480647,-0.04000503321453959,-0.516321928580932,0.08082616339686961,1.3944373699957966,-0.17216818877174742,-0.5934447292701355,0.10764914753318927,-0.2667606811527233,-1.0162205575249617,-0.1144380817846967,1.4406345038428472,-0.7425514219222027,-1.0606788949699955,-1.586021525034324,-0.12104202346651638,0.8521010224489876,-0.9966586709814385,-0.7121334921084088,-0.4637882083535036,-0.11250665600437545,-0.8411356640052431,-0.7045662925272004,-0.6948250878248523,0.5000878197913172,-0.3528712808109637,-0.09557363709951629,0.11364046061839493,-1.015457474819926,0.36528363055720064,0.6711251693871432,0.7601384575280092,0.4321696477454787,0.6833655360978901,1.7310669374017902,0.4262696812048567,-0.2656194098492696,1.5645661055838156,-0.033652820429172794,-1.0858452674326182,-0.9708252180947552,1.771751835446405,-0.7925116693718385,-1.3470060707018487,0.006208722375716201,-1.499857075979689,-0.8887702919102793,-0.43945889066964533],\"type\":\"histogram\"},{\"histfunc\":\"count\",\"histnorm\":\"\",\"marker\":{\"color\":\"rgba(50, 171, 96, 1.0)\",\"line\":{\"color\":\"#4D5663\",\"width\":1.3}},\"name\":\"C\",\"opacity\":0.8,\"orientation\":\"v\",\"x\":[0.9715485590504849,0.17805578079037374,1.0226214736510901,-0.8694381195156575,-0.2316616538513763,-0.23514648178048406,-0.9084366733358773,0.7082960893309674,-1.9153067609093344,0.49221579376002955,-0.05003965714440723,-1.5680370294502035,0.14448221072270265,0.3073580790559129,-0.6840199805478799,-0.9381329948562944,-1.9087349212901707,-1.3269052489638635,0.7081186471450253,-0.6756607826885137,2.309573885547715,-0.6744408554771967,-1.4535000664961162,0.15164881301305483,0.6961187255522358,0.8725241037169394,0.01979758044591536,-2.0999640292701853,0.5247366656699252,0.5773432872959063,1.277207740501427,0.9583546716298691,-0.2331429642108506,-1.0527977933110753,0.45463559994258035,0.0011469180817339204,-0.1939706845144443,-1.6231410749321515,1.532026544518872,1.1603622659164887,-1.3804331823497566,0.36900899034704016,-1.3417912842517399,1.2395811511921635,-0.021129116765842865,-1.557394979474704,0.870542918565471,-1.0155395128582034,2.200040684246524,0.23668204943963497,-0.9497257565370577,0.2211962306990893,1.7023136503709666,-0.2737581003282735,1.00249312945178,1.211561846991026,0.3219714204720471,0.2996112156365192,-1.0321357177428103,1.6807342640809886,-1.2506099480148745,0.33464862133670836,0.1898629938142908,0.9675282440215491,-0.3537828166578415,1.5126369413241667,0.6176407204564663,-2.163546102762687,0.2478291332533252,0.455503278492527,1.3607904406045999,-0.3425062352366064,0.4030918801177125,0.8520217405723798,-0.5534302121023642,-1.1974868026525782,0.4460212772296304,-1.0305096922042194,-0.4515010192496534,1.0174930183935191,0.5053496144030297,-1.6408859443445472,-1.3365466135761324,0.13205516684893642,0.9030577153865585,1.4137698249332808,-0.44152078212550944,1.5099785124243106,-1.8088220005603304,-0.8505127001965405,-0.930186014824073,-1.0502128999293106,0.7582441720151186,1.3916847146647193,-0.0316486389386445,1.0649078768796696,-0.5623862247786948,-0.5834027047758633,0.16086133678899775,1.1244623697081284],\"type\":\"histogram\"},{\"histfunc\":\"count\",\"histnorm\":\"\",\"marker\":{\"color\":\"rgba(128, 0, 128, 1.0)\",\"line\":{\"color\":\"#4D5663\",\"width\":1.3}},\"name\":\"D\",\"opacity\":0.8,\"orientation\":\"v\",\"x\":[1.2788671126878617,0.5463490627005372,-0.8458274852088671,1.891968284906087,0.027129520621435557,0.9076544818601713,1.1428718918578358,-0.3596387227045708,0.2500227533355477,-0.07322678785550782,-0.20911214212065374,0.523723621573591,0.4259764247672888,-1.1968758184322306,-0.8054767941949154,1.8900072380345485,0.8452113436466301,-0.25414609073347877,0.03570855246577367,0.14575503135915918,2.189428173696937,-0.07187860253400183,-0.7418466311463111,-0.505340193235467,-0.4959876377616374,-0.21749317450560904,0.10492539817008403,-0.059598361653984966,-0.884962776942417,1.3091537990351603,1.7323272249030568,-1.1585055113970915,-1.4797572809249315,1.5501511744148435,-0.40991876351239337,-0.09463390578367643,-0.4961731048584968,-0.12116479609004391,1.5429867747832684,2.083823626126322,-1.3405618577286778,-0.013274360478629371,1.4704827400113714,-0.09230518925486603,-0.1814328005222361,1.1937710999811717,-0.17038391795488023,0.40313263628071977,-0.37281732453145733,0.3707495163122737,0.30920736594324405,-0.5702771593764394,0.49741067835785063,0.3251355812421022,0.26196593782269134,0.8972217561696456,0.21324090680672533,-0.592522484752052,0.3189074515402922,0.46513692270318635,-0.2758476538032941,0.7688813450982438,-0.3319192869248297,-1.0340902467079396,-0.47875869327376647,0.4948476815535337,0.5958264226747494,0.6503139300524439,-1.4830468087573092,-0.6463031033931556,-0.30555585754444564,0.21901772500633013,0.6548728016080407,1.1596515508110465,-0.9449083897526811,-0.8559496144959297,1.1764890071657674,-2.7626589596873967,0.34726352104614705,-2.0534746469817633,-0.0778792691985187,-0.79091489232892,-1.783799382189531,0.876754632425876,-0.5064195302925444,-0.5587688290364335,-0.10191596449244297,1.1109009231629037,1.3054030990977499,1.706073511150618,-0.8962883920903764,1.1202847972825045,-1.6472410388756322,-1.6999419548084038,0.9423173222319073,1.3259604804878835,1.1463039571620701,0.16192374138738494,-0.4302555224507472,1.2522124410555802],\"type\":\"histogram\"}],                        {\"barmode\":\"overlay\",\"legend\":{\"bgcolor\":\"#F5F6F9\",\"font\":{\"color\":\"#4D5663\"}},\"paper_bgcolor\":\"#F5F6F9\",\"plot_bgcolor\":\"#F5F6F9\",\"template\":{\"data\":{\"barpolar\":[{\"marker\":{\"line\":{\"color\":\"#E5ECF6\",\"width\":0.5},\"pattern\":{\"fillmode\":\"overlay\",\"size\":10,\"solidity\":0.2}},\"type\":\"barpolar\"}],\"bar\":[{\"error_x\":{\"color\":\"#2a3f5f\"},\"error_y\":{\"color\":\"#2a3f5f\"},\"marker\":{\"line\":{\"color\":\"#E5ECF6\",\"width\":0.5},\"pattern\":{\"fillmode\":\"overlay\",\"size\":10,\"solidity\":0.2}},\"type\":\"bar\"}],\"carpet\":[{\"aaxis\":{\"endlinecolor\":\"#2a3f5f\",\"gridcolor\":\"white\",\"linecolor\":\"white\",\"minorgridcolor\":\"white\",\"startlinecolor\":\"#2a3f5f\"},\"baxis\":{\"endlinecolor\":\"#2a3f5f\",\"gridcolor\":\"white\",\"linecolor\":\"white\",\"minorgridcolor\":\"white\",\"startlinecolor\":\"#2a3f5f\"},\"type\":\"carpet\"}],\"choropleth\":[{\"colorbar\":{\"outlinewidth\":0,\"ticks\":\"\"},\"type\":\"choropleth\"}],\"contourcarpet\":[{\"colorbar\":{\"outlinewidth\":0,\"ticks\":\"\"},\"type\":\"contourcarpet\"}],\"contour\":[{\"colorbar\":{\"outlinewidth\":0,\"ticks\":\"\"},\"colorscale\":[[0.0,\"#0d0887\"],[0.1111111111111111,\"#46039f\"],[0.2222222222222222,\"#7201a8\"],[0.3333333333333333,\"#9c179e\"],[0.4444444444444444,\"#bd3786\"],[0.5555555555555556,\"#d8576b\"],[0.6666666666666666,\"#ed7953\"],[0.7777777777777778,\"#fb9f3a\"],[0.8888888888888888,\"#fdca26\"],[1.0,\"#f0f921\"]],\"type\":\"contour\"}],\"heatmapgl\":[{\"colorbar\":{\"outlinewidth\":0,\"ticks\":\"\"},\"colorscale\":[[0.0,\"#0d0887\"],[0.1111111111111111,\"#46039f\"],[0.2222222222222222,\"#7201a8\"],[0.3333333333333333,\"#9c179e\"],[0.4444444444444444,\"#bd3786\"],[0.5555555555555556,\"#d8576b\"],[0.6666666666666666,\"#ed7953\"],[0.7777777777777778,\"#fb9f3a\"],[0.8888888888888888,\"#fdca26\"],[1.0,\"#f0f921\"]],\"type\":\"heatmapgl\"}],\"heatmap\":[{\"colorbar\":{\"outlinewidth\":0,\"ticks\":\"\"},\"colorscale\":[[0.0,\"#0d0887\"],[0.1111111111111111,\"#46039f\"],[0.2222222222222222,\"#7201a8\"],[0.3333333333333333,\"#9c179e\"],[0.4444444444444444,\"#bd3786\"],[0.5555555555555556,\"#d8576b\"],[0.6666666666666666,\"#ed7953\"],[0.7777777777777778,\"#fb9f3a\"],[0.8888888888888888,\"#fdca26\"],[1.0,\"#f0f921\"]],\"type\":\"heatmap\"}],\"histogram2dcontour\":[{\"colorbar\":{\"outlinewidth\":0,\"ticks\":\"\"},\"colorscale\":[[0.0,\"#0d0887\"],[0.1111111111111111,\"#46039f\"],[0.2222222222222222,\"#7201a8\"],[0.3333333333333333,\"#9c179e\"],[0.4444444444444444,\"#bd3786\"],[0.5555555555555556,\"#d8576b\"],[0.6666666666666666,\"#ed7953\"],[0.7777777777777778,\"#fb9f3a\"],[0.8888888888888888,\"#fdca26\"],[1.0,\"#f0f921\"]],\"type\":\"histogram2dcontour\"}],\"histogram2d\":[{\"colorbar\":{\"outlinewidth\":0,\"ticks\":\"\"},\"colorscale\":[[0.0,\"#0d0887\"],[0.1111111111111111,\"#46039f\"],[0.2222222222222222,\"#7201a8\"],[0.3333333333333333,\"#9c179e\"],[0.4444444444444444,\"#bd3786\"],[0.5555555555555556,\"#d8576b\"],[0.6666666666666666,\"#ed7953\"],[0.7777777777777778,\"#fb9f3a\"],[0.8888888888888888,\"#fdca26\"],[1.0,\"#f0f921\"]],\"type\":\"histogram2d\"}],\"histogram\":[{\"marker\":{\"pattern\":{\"fillmode\":\"overlay\",\"size\":10,\"solidity\":0.2}},\"type\":\"histogram\"}],\"mesh3d\":[{\"colorbar\":{\"outlinewidth\":0,\"ticks\":\"\"},\"type\":\"mesh3d\"}],\"parcoords\":[{\"line\":{\"colorbar\":{\"outlinewidth\":0,\"ticks\":\"\"}},\"type\":\"parcoords\"}],\"pie\":[{\"automargin\":true,\"type\":\"pie\"}],\"scatter3d\":[{\"line\":{\"colorbar\":{\"outlinewidth\":0,\"ticks\":\"\"}},\"marker\":{\"colorbar\":{\"outlinewidth\":0,\"ticks\":\"\"}},\"type\":\"scatter3d\"}],\"scattercarpet\":[{\"marker\":{\"colorbar\":{\"outlinewidth\":0,\"ticks\":\"\"}},\"type\":\"scattercarpet\"}],\"scattergeo\":[{\"marker\":{\"colorbar\":{\"outlinewidth\":0,\"ticks\":\"\"}},\"type\":\"scattergeo\"}],\"scattergl\":[{\"marker\":{\"colorbar\":{\"outlinewidth\":0,\"ticks\":\"\"}},\"type\":\"scattergl\"}],\"scattermapbox\":[{\"marker\":{\"colorbar\":{\"outlinewidth\":0,\"ticks\":\"\"}},\"type\":\"scattermapbox\"}],\"scatterpolargl\":[{\"marker\":{\"colorbar\":{\"outlinewidth\":0,\"ticks\":\"\"}},\"type\":\"scatterpolargl\"}],\"scatterpolar\":[{\"marker\":{\"colorbar\":{\"outlinewidth\":0,\"ticks\":\"\"}},\"type\":\"scatterpolar\"}],\"scatter\":[{\"marker\":{\"colorbar\":{\"outlinewidth\":0,\"ticks\":\"\"}},\"type\":\"scatter\"}],\"scatterternary\":[{\"marker\":{\"colorbar\":{\"outlinewidth\":0,\"ticks\":\"\"}},\"type\":\"scatterternary\"}],\"surface\":[{\"colorbar\":{\"outlinewidth\":0,\"ticks\":\"\"},\"colorscale\":[[0.0,\"#0d0887\"],[0.1111111111111111,\"#46039f\"],[0.2222222222222222,\"#7201a8\"],[0.3333333333333333,\"#9c179e\"],[0.4444444444444444,\"#bd3786\"],[0.5555555555555556,\"#d8576b\"],[0.6666666666666666,\"#ed7953\"],[0.7777777777777778,\"#fb9f3a\"],[0.8888888888888888,\"#fdca26\"],[1.0,\"#f0f921\"]],\"type\":\"surface\"}],\"table\":[{\"cells\":{\"fill\":{\"color\":\"#EBF0F8\"},\"line\":{\"color\":\"white\"}},\"header\":{\"fill\":{\"color\":\"#C8D4E3\"},\"line\":{\"color\":\"white\"}},\"type\":\"table\"}]},\"layout\":{\"annotationdefaults\":{\"arrowcolor\":\"#2a3f5f\",\"arrowhead\":0,\"arrowwidth\":1},\"autotypenumbers\":\"strict\",\"coloraxis\":{\"colorbar\":{\"outlinewidth\":0,\"ticks\":\"\"}},\"colorscale\":{\"diverging\":[[0,\"#8e0152\"],[0.1,\"#c51b7d\"],[0.2,\"#de77ae\"],[0.3,\"#f1b6da\"],[0.4,\"#fde0ef\"],[0.5,\"#f7f7f7\"],[0.6,\"#e6f5d0\"],[0.7,\"#b8e186\"],[0.8,\"#7fbc41\"],[0.9,\"#4d9221\"],[1,\"#276419\"]],\"sequential\":[[0.0,\"#0d0887\"],[0.1111111111111111,\"#46039f\"],[0.2222222222222222,\"#7201a8\"],[0.3333333333333333,\"#9c179e\"],[0.4444444444444444,\"#bd3786\"],[0.5555555555555556,\"#d8576b\"],[0.6666666666666666,\"#ed7953\"],[0.7777777777777778,\"#fb9f3a\"],[0.8888888888888888,\"#fdca26\"],[1.0,\"#f0f921\"]],\"sequentialminus\":[[0.0,\"#0d0887\"],[0.1111111111111111,\"#46039f\"],[0.2222222222222222,\"#7201a8\"],[0.3333333333333333,\"#9c179e\"],[0.4444444444444444,\"#bd3786\"],[0.5555555555555556,\"#d8576b\"],[0.6666666666666666,\"#ed7953\"],[0.7777777777777778,\"#fb9f3a\"],[0.8888888888888888,\"#fdca26\"],[1.0,\"#f0f921\"]]},\"colorway\":[\"#636efa\",\"#EF553B\",\"#00cc96\",\"#ab63fa\",\"#FFA15A\",\"#19d3f3\",\"#FF6692\",\"#B6E880\",\"#FF97FF\",\"#FECB52\"],\"font\":{\"color\":\"#2a3f5f\"},\"geo\":{\"bgcolor\":\"white\",\"lakecolor\":\"white\",\"landcolor\":\"#E5ECF6\",\"showlakes\":true,\"showland\":true,\"subunitcolor\":\"white\"},\"hoverlabel\":{\"align\":\"left\"},\"hovermode\":\"closest\",\"mapbox\":{\"style\":\"light\"},\"paper_bgcolor\":\"white\",\"plot_bgcolor\":\"#E5ECF6\",\"polar\":{\"angularaxis\":{\"gridcolor\":\"white\",\"linecolor\":\"white\",\"ticks\":\"\"},\"bgcolor\":\"#E5ECF6\",\"radialaxis\":{\"gridcolor\":\"white\",\"linecolor\":\"white\",\"ticks\":\"\"}},\"scene\":{\"xaxis\":{\"backgroundcolor\":\"#E5ECF6\",\"gridcolor\":\"white\",\"gridwidth\":2,\"linecolor\":\"white\",\"showbackground\":true,\"ticks\":\"\",\"zerolinecolor\":\"white\"},\"yaxis\":{\"backgroundcolor\":\"#E5ECF6\",\"gridcolor\":\"white\",\"gridwidth\":2,\"linecolor\":\"white\",\"showbackground\":true,\"ticks\":\"\",\"zerolinecolor\":\"white\"},\"zaxis\":{\"backgroundcolor\":\"#E5ECF6\",\"gridcolor\":\"white\",\"gridwidth\":2,\"linecolor\":\"white\",\"showbackground\":true,\"ticks\":\"\",\"zerolinecolor\":\"white\"}},\"shapedefaults\":{\"line\":{\"color\":\"#2a3f5f\"}},\"ternary\":{\"aaxis\":{\"gridcolor\":\"white\",\"linecolor\":\"white\",\"ticks\":\"\"},\"baxis\":{\"gridcolor\":\"white\",\"linecolor\":\"white\",\"ticks\":\"\"},\"bgcolor\":\"#E5ECF6\",\"caxis\":{\"gridcolor\":\"white\",\"linecolor\":\"white\",\"ticks\":\"\"}},\"title\":{\"x\":0.05},\"xaxis\":{\"automargin\":true,\"gridcolor\":\"white\",\"linecolor\":\"white\",\"ticks\":\"\",\"title\":{\"standoff\":15},\"zerolinecolor\":\"white\",\"zerolinewidth\":2},\"yaxis\":{\"automargin\":true,\"gridcolor\":\"white\",\"linecolor\":\"white\",\"ticks\":\"\",\"title\":{\"standoff\":15},\"zerolinecolor\":\"white\",\"zerolinewidth\":2}}},\"title\":{\"font\":{\"color\":\"#4D5663\"}},\"xaxis\":{\"gridcolor\":\"#E1E5ED\",\"showgrid\":true,\"tickfont\":{\"color\":\"#4D5663\"},\"title\":{\"font\":{\"color\":\"#4D5663\"},\"text\":\"\"},\"zerolinecolor\":\"#E1E5ED\"},\"yaxis\":{\"gridcolor\":\"#E1E5ED\",\"showgrid\":true,\"tickfont\":{\"color\":\"#4D5663\"},\"title\":{\"font\":{\"color\":\"#4D5663\"},\"text\":\"\"},\"zerolinecolor\":\"#E1E5ED\"}},                        {\"showLink\": true, \"linkText\": \"Export to plot.ly\", \"plotlyServerURL\": \"https://plot.ly\", \"responsive\": true}                    ).then(function(){\n",
       "                            \n",
       "var gd = document.getElementById('db33299d-2dfa-4209-bc5d-b33c8c05a268');\n",
       "var x = new MutationObserver(function (mutations, observer) {{\n",
       "        var display = window.getComputedStyle(gd).display;\n",
       "        if (!display || display === 'none') {{\n",
       "            console.log([gd, 'removed!']);\n",
       "            Plotly.purge(gd);\n",
       "            observer.disconnect();\n",
       "        }}\n",
       "}});\n",
       "\n",
       "// Listen for the removal of the full notebook cells\n",
       "var notebookContainer = gd.closest('#notebook-container');\n",
       "if (notebookContainer) {{\n",
       "    x.observe(notebookContainer, {childList: true});\n",
       "}}\n",
       "\n",
       "// Listen for the clearing of the current output cell\n",
       "var outputEl = gd.closest('.output');\n",
       "if (outputEl) {{\n",
       "    x.observe(outputEl, {childList: true});\n",
       "}}\n",
       "\n",
       "                        })                };                });            </script>        </div>"
      ]
     },
     "metadata": {},
     "output_type": "display_data"
    }
   ],
   "source": [
    "df.iplot(kind=\"hist\")"
   ]
  },
  {
   "cell_type": "code",
   "execution_count": 43,
   "id": "9a6dca08",
   "metadata": {},
   "outputs": [
    {
     "name": "stderr",
     "output_type": "stream",
     "text": [
      "C:\\Users\\IT Center\\AppData\\Roaming\\Python\\Python39\\site-packages\\cufflinks\\plotlytools.py:849: FutureWarning:\n",
      "\n",
      "The pandas.np module is deprecated and will be removed from pandas in a future version. Import numpy directly instead.\n",
      "\n",
      "C:\\Users\\IT Center\\AppData\\Roaming\\Python\\Python39\\site-packages\\cufflinks\\plotlytools.py:850: FutureWarning:\n",
      "\n",
      "The pandas.np module is deprecated and will be removed from pandas in a future version. Import numpy directly instead.\n",
      "\n"
     ]
    },
    {
     "data": {
      "application/vnd.plotly.v1+json": {
       "config": {
        "linkText": "Export to plot.ly",
        "plotlyServerURL": "https://plot.ly",
        "showLink": true
       },
       "data": [
        {
         "line": {
          "color": "rgba(255, 153, 51, 1.0)",
          "dash": "solid",
          "shape": "linear",
          "width": 1.3
         },
         "mode": "lines",
         "name": "A",
         "text": "",
         "type": "scatter",
         "x": [
          0,
          1,
          2,
          3,
          4,
          5,
          6,
          7,
          8,
          9,
          10,
          11,
          12,
          13,
          14,
          15,
          16,
          17,
          18,
          19,
          20,
          21,
          22,
          23,
          24,
          25,
          26,
          27,
          28,
          29,
          30,
          31,
          32,
          33,
          34,
          35,
          36,
          37,
          38,
          39,
          40,
          41,
          42,
          43,
          44,
          45,
          46,
          47,
          48,
          49,
          50,
          51,
          52,
          53,
          54,
          55,
          56,
          57,
          58,
          59,
          60,
          61,
          62,
          63,
          64,
          65,
          66,
          67,
          68,
          69,
          70,
          71,
          72,
          73,
          74,
          75,
          76,
          77,
          78,
          79,
          80,
          81,
          82,
          83,
          84,
          85,
          86,
          87,
          88,
          89,
          90,
          91,
          92,
          93,
          94,
          95,
          96,
          97,
          98,
          99
         ],
         "y": [
          -0.6715841140505145,
          -0.015693512274722023,
          -1.2377868022190277,
          0.02503655607096757,
          -0.14529398503449995,
          -1.0551956430573703,
          0.23233137831534484,
          -0.2956574504198168,
          -0.5577910399776433,
          1.3738652338159894,
          -2.9623175823727816,
          1.4904430345297184,
          1.039183339678253,
          -0.7113259936440596,
          -1.1842573167447745,
          0.08276897728234352,
          0.329475561063558,
          0.4884573064355324,
          0.33170945240886557,
          -1.623491342611854,
          -0.2787006945859761,
          0.3451219421823229,
          -0.8463179724936395,
          1.198615884615791,
          -1.21520995130495,
          0.08357517582237833,
          -0.9168333966717761,
          0.14444471685492827,
          -0.7587977901216573,
          -0.5716253932588715,
          -0.5155445307260258,
          0.039690930351866376,
          0.45206315536669267,
          0.25822078314915525,
          0.6795014499531823,
          -0.5258381951483264,
          -0.5831900803018422,
          0.9433672570698973,
          -1.2172033264702742,
          0.4070804402188379,
          0.9984241995599689,
          0.17547655482258462,
          -0.4864382830689831,
          -1.1725144840193726,
          1.2159970426643887,
          2.2007383884166125,
          -1.447909129888451,
          -1.2405381762638814,
          0.08017130631382811,
          -2.4146038180313445,
          0.24500705463654993,
          1.0955121238600343,
          0.07840931223258185,
          -1.0910806569187692,
          0.8837375823403211,
          -0.6788158992187295,
          -0.11096246412127025,
          -0.18905143074917843,
          -0.18057514475557498,
          0.6162366738892845,
          0.16758644721112217,
          -1.552022094532808,
          -0.15980187798785894,
          0.684059048953964,
          0.08319961960883286,
          -0.1393646482722601,
          -2.504160913360558,
          0.5878659446965919,
          1.635811129335889,
          1.9114127993924863,
          -0.7805028079982012,
          0.1596568880233185,
          0.04155434974831334,
          1.0035541939648416,
          0.8908357638671642,
          0.1327051615657846,
          -0.3952116467445707,
          0.7864341312472358,
          0.38666747641392035,
          0.14471853623258493,
          1.431655710690944,
          -0.11781504624255924,
          1.4974434253457516,
          -0.7964145225371747,
          -1.3699600853577067,
          -0.9618089897181643,
          -0.827111687389078,
          -0.7046529758368414,
          0.8828852015707367,
          -0.706753026854823,
          -1.390935846156628,
          -1.0817460195694732,
          0.9059710010262795,
          1.6281493928309418,
          -1.5741581898416985,
          -1.1456360795171043,
          0.5647014328630369,
          1.4079302677481942,
          0.7015348136215821,
          0.2996814140958031
         ]
        },
        {
         "line": {
          "color": "rgba(55, 128, 191, 1.0)",
          "dash": "solid",
          "shape": "linear",
          "width": 1.3
         },
         "mode": "lines",
         "name": "B",
         "text": "",
         "type": "scatter",
         "x": [
          0,
          1,
          2,
          3,
          4,
          5,
          6,
          7,
          8,
          9,
          10,
          11,
          12,
          13,
          14,
          15,
          16,
          17,
          18,
          19,
          20,
          21,
          22,
          23,
          24,
          25,
          26,
          27,
          28,
          29,
          30,
          31,
          32,
          33,
          34,
          35,
          36,
          37,
          38,
          39,
          40,
          41,
          42,
          43,
          44,
          45,
          46,
          47,
          48,
          49,
          50,
          51,
          52,
          53,
          54,
          55,
          56,
          57,
          58,
          59,
          60,
          61,
          62,
          63,
          64,
          65,
          66,
          67,
          68,
          69,
          70,
          71,
          72,
          73,
          74,
          75,
          76,
          77,
          78,
          79,
          80,
          81,
          82,
          83,
          84,
          85,
          86,
          87,
          88,
          89,
          90,
          91,
          92,
          93,
          94,
          95,
          96,
          97,
          98,
          99
         ],
         "y": [
          2.2584707094043437,
          -0.7302799304607928,
          -0.2639441560358485,
          -1.6907250644742915,
          0.1254040074044843,
          1.3653684572122151,
          -0.8993710510320301,
          1.3637219597500265,
          -0.9949884716772304,
          1.3124196810371618,
          0.13120330179599704,
          0.24421489269566785,
          -0.27027514734432023,
          2.4192473141037873,
          0.07051174070187619,
          1.1454944026229976,
          1.3978441309027008,
          -0.8020321670729008,
          0.23465940010652886,
          0.27772437241707726,
          -0.023704226665142523,
          1.0647734889326985,
          -0.1299940741540082,
          -0.8947487564886276,
          -0.8601967942699728,
          -0.31182841235252173,
          0.7008025244702615,
          1.462640550182099,
          -0.7168406874680995,
          -0.533752063962401,
          -0.3383209072280021,
          2.141940772311467,
          -0.2179188511702646,
          0.7234207747726848,
          -1.539763104939272,
          -0.208167932281236,
          -0.7514823675298156,
          0.035625121367857726,
          0.9241782089734557,
          0.25995515135379726,
          0.8840298645904345,
          1.621531593225492,
          -1.0862693306485376,
          -0.9298244982592239,
          1.0305804958400764,
          -0.3028330445145502,
          -0.3412703213179675,
          0.24259140471291563,
          0.7725146061486692,
          -0.5627322260108164,
          -1.3362173833170023,
          -0.8364666429820613,
          -1.8649422541480647,
          -0.04000503321453959,
          -0.516321928580932,
          0.08082616339686961,
          1.3944373699957966,
          -0.17216818877174742,
          -0.5934447292701355,
          0.10764914753318927,
          -0.2667606811527233,
          -1.0162205575249617,
          -0.1144380817846967,
          1.4406345038428472,
          -0.7425514219222027,
          -1.0606788949699955,
          -1.586021525034324,
          -0.12104202346651638,
          0.8521010224489876,
          -0.9966586709814385,
          -0.7121334921084088,
          -0.4637882083535036,
          -0.11250665600437545,
          -0.8411356640052431,
          -0.7045662925272004,
          -0.6948250878248523,
          0.5000878197913172,
          -0.3528712808109637,
          -0.09557363709951629,
          0.11364046061839493,
          -1.015457474819926,
          0.36528363055720064,
          0.6711251693871432,
          0.7601384575280092,
          0.4321696477454787,
          0.6833655360978901,
          1.7310669374017902,
          0.4262696812048567,
          -0.2656194098492696,
          1.5645661055838156,
          -0.033652820429172794,
          -1.0858452674326182,
          -0.9708252180947552,
          1.771751835446405,
          -0.7925116693718385,
          -1.3470060707018487,
          0.006208722375716201,
          -1.499857075979689,
          -0.8887702919102793,
          -0.43945889066964533
         ]
        },
        {
         "connectgaps": false,
         "fill": "tozeroy",
         "line": {
          "color": "green",
          "dash": "solid",
          "shape": "linear",
          "width": 0.5
         },
         "mode": "lines",
         "name": "Spread",
         "showlegend": false,
         "type": "scatter",
         "x": [
          0,
          1,
          2,
          3,
          4,
          5,
          6,
          7,
          8,
          9,
          10,
          11,
          12,
          13,
          14,
          15,
          16,
          17,
          18,
          19,
          20,
          21,
          22,
          23,
          24,
          25,
          26,
          27,
          28,
          29,
          30,
          31,
          32,
          33,
          34,
          35,
          36,
          37,
          38,
          39,
          40,
          41,
          42,
          43,
          44,
          45,
          46,
          47,
          48,
          49,
          50,
          51,
          52,
          53,
          54,
          55,
          56,
          57,
          58,
          59,
          60,
          61,
          62,
          63,
          64,
          65,
          66,
          67,
          68,
          69,
          70,
          71,
          72,
          73,
          74,
          75,
          76,
          77,
          78,
          79,
          80,
          81,
          82,
          83,
          84,
          85,
          86,
          87,
          88,
          89,
          90,
          91,
          92,
          93,
          94,
          95,
          96,
          97,
          98,
          99
         ],
         "xaxis": "x2",
         "y": [
          "",
          0.7145864181860707,
          "",
          1.715761620545259,
          "",
          "",
          1.131702429347375,
          "",
          0.437197431699587,
          0.06144555277882757,
          "",
          1.2462281418340506,
          1.3094584870225732,
          "",
          "",
          "",
          "",
          1.2904894735084333,
          0.09705005230233671,
          "",
          "",
          "",
          "",
          2.0933646411044187,
          "",
          0.39540358817490007,
          "",
          "",
          "",
          "",
          "",
          "",
          0.6699820065369573,
          "",
          2.219264554892454,
          "",
          0.1682922872279734,
          0.9077421357020397,
          "",
          0.14712528886504062,
          0.11439433496953433,
          "",
          0.5998310475795545,
          "",
          0.1854165468243123,
          2.503571432931163,
          "",
          "",
          "",
          "",
          1.5812244379535523,
          1.9319787668420956,
          1.9433515663806467,
          "",
          1.400059510921253,
          "",
          "",
          "",
          0.41286958451456046,
          0.5085875263560953,
          0.4343471283638455,
          "",
          "",
          "",
          0.8257510415310355,
          0.9213142466977353,
          "",
          0.7089079681631083,
          0.7837101068869015,
          2.9080714703739248,
          "",
          0.6234450963768221,
          0.1540610057526888,
          1.8446898579700846,
          1.5954020563943647,
          0.8275302493906369,
          "",
          1.1393054120581996,
          0.4822411135134366,
          0.03107807561419,
          2.44711318551087,
          "",
          0.8263182559586084,
          "",
          "",
          "",
          "",
          "",
          1.1485046114200064,
          "",
          "",
          0.0040992478631449725,
          1.8767962191210348,
          "",
          "",
          0.2013699911847444,
          0.5584927104873206,
          2.9077873437278834,
          1.5903051055318613,
          0.7391403047654485
         ],
         "yaxis": "y2"
        },
        {
         "connectgaps": false,
         "fill": "tozeroy",
         "line": {
          "color": "red",
          "dash": "solid",
          "shape": "linear",
          "width": 0.5
         },
         "mode": "lines",
         "name": "Spread",
         "showlegend": false,
         "type": "scatter",
         "x": [
          0,
          1,
          2,
          3,
          4,
          5,
          6,
          7,
          8,
          9,
          10,
          11,
          12,
          13,
          14,
          15,
          16,
          17,
          18,
          19,
          20,
          21,
          22,
          23,
          24,
          25,
          26,
          27,
          28,
          29,
          30,
          31,
          32,
          33,
          34,
          35,
          36,
          37,
          38,
          39,
          40,
          41,
          42,
          43,
          44,
          45,
          46,
          47,
          48,
          49,
          50,
          51,
          52,
          53,
          54,
          55,
          56,
          57,
          58,
          59,
          60,
          61,
          62,
          63,
          64,
          65,
          66,
          67,
          68,
          69,
          70,
          71,
          72,
          73,
          74,
          75,
          76,
          77,
          78,
          79,
          80,
          81,
          82,
          83,
          84,
          85,
          86,
          87,
          88,
          89,
          90,
          91,
          92,
          93,
          94,
          95,
          96,
          97,
          98,
          99
         ],
         "xaxis": "x2",
         "y": [
          -2.9300548234548582,
          "",
          -0.9738426461831793,
          "",
          -0.27069799243898424,
          -2.4205641002695852,
          "",
          -1.6593794101698434,
          "",
          "",
          -3.093520884168779,
          "",
          "",
          -3.130573307747847,
          -1.2547690574466508,
          -1.0627254253406542,
          -1.0683685698391427,
          "",
          "",
          -1.9012157150289313,
          -0.2549964679208336,
          -0.7196515467503757,
          -0.7163238983396313,
          "",
          -0.35501315703497716,
          "",
          -1.6176359211420377,
          -1.3181958333271706,
          -0.04195710265355779,
          -0.03787332929647047,
          -0.17722362349802367,
          -2.1022498419596007,
          "",
          -0.4651999916235296,
          "",
          -0.31767026286709044,
          "",
          "",
          -2.1413815354437298,
          "",
          "",
          -1.4460550384029074,
          "",
          -0.24268998576014877,
          "",
          "",
          -1.1066388085704835,
          -1.483129580976797,
          -0.6923432998348411,
          -1.8518715920205282,
          "",
          "",
          "",
          -1.0510756237042296,
          "",
          -0.7596420626155992,
          -1.505399834117067,
          -0.01688324197743102,
          "",
          "",
          "",
          -0.5358015370078464,
          -0.04536379620316225,
          -0.7565754548888832,
          "",
          "",
          -0.9181393883262341,
          "",
          "",
          "",
          -0.06836931588979234,
          "",
          "",
          "",
          "",
          "",
          -0.895299466535888,
          "",
          "",
          "",
          "",
          -0.4830986767997599,
          "",
          -1.556552980065184,
          -1.8021297331031856,
          -1.6451745258160544,
          -2.558178624790868,
          -1.1309226570416981,
          "",
          -2.271319132438639,
          -1.357283025727455,
          "",
          "",
          -0.14360244261546318,
          -0.78164652046986,
          "",
          "",
          "",
          "",
          ""
         ],
         "yaxis": "y2"
        }
       ],
       "layout": {
        "hovermode": "x",
        "legend": {
         "bgcolor": "#F5F6F9",
         "font": {
          "color": "#4D5663"
         }
        },
        "paper_bgcolor": "#F5F6F9",
        "plot_bgcolor": "#F5F6F9",
        "template": {
         "data": {
          "bar": [
           {
            "error_x": {
             "color": "#2a3f5f"
            },
            "error_y": {
             "color": "#2a3f5f"
            },
            "marker": {
             "line": {
              "color": "#E5ECF6",
              "width": 0.5
             },
             "pattern": {
              "fillmode": "overlay",
              "size": 10,
              "solidity": 0.2
             }
            },
            "type": "bar"
           }
          ],
          "barpolar": [
           {
            "marker": {
             "line": {
              "color": "#E5ECF6",
              "width": 0.5
             },
             "pattern": {
              "fillmode": "overlay",
              "size": 10,
              "solidity": 0.2
             }
            },
            "type": "barpolar"
           }
          ],
          "carpet": [
           {
            "aaxis": {
             "endlinecolor": "#2a3f5f",
             "gridcolor": "white",
             "linecolor": "white",
             "minorgridcolor": "white",
             "startlinecolor": "#2a3f5f"
            },
            "baxis": {
             "endlinecolor": "#2a3f5f",
             "gridcolor": "white",
             "linecolor": "white",
             "minorgridcolor": "white",
             "startlinecolor": "#2a3f5f"
            },
            "type": "carpet"
           }
          ],
          "choropleth": [
           {
            "colorbar": {
             "outlinewidth": 0,
             "ticks": ""
            },
            "type": "choropleth"
           }
          ],
          "contour": [
           {
            "colorbar": {
             "outlinewidth": 0,
             "ticks": ""
            },
            "colorscale": [
             [
              0,
              "#0d0887"
             ],
             [
              0.1111111111111111,
              "#46039f"
             ],
             [
              0.2222222222222222,
              "#7201a8"
             ],
             [
              0.3333333333333333,
              "#9c179e"
             ],
             [
              0.4444444444444444,
              "#bd3786"
             ],
             [
              0.5555555555555556,
              "#d8576b"
             ],
             [
              0.6666666666666666,
              "#ed7953"
             ],
             [
              0.7777777777777778,
              "#fb9f3a"
             ],
             [
              0.8888888888888888,
              "#fdca26"
             ],
             [
              1,
              "#f0f921"
             ]
            ],
            "type": "contour"
           }
          ],
          "contourcarpet": [
           {
            "colorbar": {
             "outlinewidth": 0,
             "ticks": ""
            },
            "type": "contourcarpet"
           }
          ],
          "heatmap": [
           {
            "colorbar": {
             "outlinewidth": 0,
             "ticks": ""
            },
            "colorscale": [
             [
              0,
              "#0d0887"
             ],
             [
              0.1111111111111111,
              "#46039f"
             ],
             [
              0.2222222222222222,
              "#7201a8"
             ],
             [
              0.3333333333333333,
              "#9c179e"
             ],
             [
              0.4444444444444444,
              "#bd3786"
             ],
             [
              0.5555555555555556,
              "#d8576b"
             ],
             [
              0.6666666666666666,
              "#ed7953"
             ],
             [
              0.7777777777777778,
              "#fb9f3a"
             ],
             [
              0.8888888888888888,
              "#fdca26"
             ],
             [
              1,
              "#f0f921"
             ]
            ],
            "type": "heatmap"
           }
          ],
          "heatmapgl": [
           {
            "colorbar": {
             "outlinewidth": 0,
             "ticks": ""
            },
            "colorscale": [
             [
              0,
              "#0d0887"
             ],
             [
              0.1111111111111111,
              "#46039f"
             ],
             [
              0.2222222222222222,
              "#7201a8"
             ],
             [
              0.3333333333333333,
              "#9c179e"
             ],
             [
              0.4444444444444444,
              "#bd3786"
             ],
             [
              0.5555555555555556,
              "#d8576b"
             ],
             [
              0.6666666666666666,
              "#ed7953"
             ],
             [
              0.7777777777777778,
              "#fb9f3a"
             ],
             [
              0.8888888888888888,
              "#fdca26"
             ],
             [
              1,
              "#f0f921"
             ]
            ],
            "type": "heatmapgl"
           }
          ],
          "histogram": [
           {
            "marker": {
             "pattern": {
              "fillmode": "overlay",
              "size": 10,
              "solidity": 0.2
             }
            },
            "type": "histogram"
           }
          ],
          "histogram2d": [
           {
            "colorbar": {
             "outlinewidth": 0,
             "ticks": ""
            },
            "colorscale": [
             [
              0,
              "#0d0887"
             ],
             [
              0.1111111111111111,
              "#46039f"
             ],
             [
              0.2222222222222222,
              "#7201a8"
             ],
             [
              0.3333333333333333,
              "#9c179e"
             ],
             [
              0.4444444444444444,
              "#bd3786"
             ],
             [
              0.5555555555555556,
              "#d8576b"
             ],
             [
              0.6666666666666666,
              "#ed7953"
             ],
             [
              0.7777777777777778,
              "#fb9f3a"
             ],
             [
              0.8888888888888888,
              "#fdca26"
             ],
             [
              1,
              "#f0f921"
             ]
            ],
            "type": "histogram2d"
           }
          ],
          "histogram2dcontour": [
           {
            "colorbar": {
             "outlinewidth": 0,
             "ticks": ""
            },
            "colorscale": [
             [
              0,
              "#0d0887"
             ],
             [
              0.1111111111111111,
              "#46039f"
             ],
             [
              0.2222222222222222,
              "#7201a8"
             ],
             [
              0.3333333333333333,
              "#9c179e"
             ],
             [
              0.4444444444444444,
              "#bd3786"
             ],
             [
              0.5555555555555556,
              "#d8576b"
             ],
             [
              0.6666666666666666,
              "#ed7953"
             ],
             [
              0.7777777777777778,
              "#fb9f3a"
             ],
             [
              0.8888888888888888,
              "#fdca26"
             ],
             [
              1,
              "#f0f921"
             ]
            ],
            "type": "histogram2dcontour"
           }
          ],
          "mesh3d": [
           {
            "colorbar": {
             "outlinewidth": 0,
             "ticks": ""
            },
            "type": "mesh3d"
           }
          ],
          "parcoords": [
           {
            "line": {
             "colorbar": {
              "outlinewidth": 0,
              "ticks": ""
             }
            },
            "type": "parcoords"
           }
          ],
          "pie": [
           {
            "automargin": true,
            "type": "pie"
           }
          ],
          "scatter": [
           {
            "marker": {
             "colorbar": {
              "outlinewidth": 0,
              "ticks": ""
             }
            },
            "type": "scatter"
           }
          ],
          "scatter3d": [
           {
            "line": {
             "colorbar": {
              "outlinewidth": 0,
              "ticks": ""
             }
            },
            "marker": {
             "colorbar": {
              "outlinewidth": 0,
              "ticks": ""
             }
            },
            "type": "scatter3d"
           }
          ],
          "scattercarpet": [
           {
            "marker": {
             "colorbar": {
              "outlinewidth": 0,
              "ticks": ""
             }
            },
            "type": "scattercarpet"
           }
          ],
          "scattergeo": [
           {
            "marker": {
             "colorbar": {
              "outlinewidth": 0,
              "ticks": ""
             }
            },
            "type": "scattergeo"
           }
          ],
          "scattergl": [
           {
            "marker": {
             "colorbar": {
              "outlinewidth": 0,
              "ticks": ""
             }
            },
            "type": "scattergl"
           }
          ],
          "scattermapbox": [
           {
            "marker": {
             "colorbar": {
              "outlinewidth": 0,
              "ticks": ""
             }
            },
            "type": "scattermapbox"
           }
          ],
          "scatterpolar": [
           {
            "marker": {
             "colorbar": {
              "outlinewidth": 0,
              "ticks": ""
             }
            },
            "type": "scatterpolar"
           }
          ],
          "scatterpolargl": [
           {
            "marker": {
             "colorbar": {
              "outlinewidth": 0,
              "ticks": ""
             }
            },
            "type": "scatterpolargl"
           }
          ],
          "scatterternary": [
           {
            "marker": {
             "colorbar": {
              "outlinewidth": 0,
              "ticks": ""
             }
            },
            "type": "scatterternary"
           }
          ],
          "surface": [
           {
            "colorbar": {
             "outlinewidth": 0,
             "ticks": ""
            },
            "colorscale": [
             [
              0,
              "#0d0887"
             ],
             [
              0.1111111111111111,
              "#46039f"
             ],
             [
              0.2222222222222222,
              "#7201a8"
             ],
             [
              0.3333333333333333,
              "#9c179e"
             ],
             [
              0.4444444444444444,
              "#bd3786"
             ],
             [
              0.5555555555555556,
              "#d8576b"
             ],
             [
              0.6666666666666666,
              "#ed7953"
             ],
             [
              0.7777777777777778,
              "#fb9f3a"
             ],
             [
              0.8888888888888888,
              "#fdca26"
             ],
             [
              1,
              "#f0f921"
             ]
            ],
            "type": "surface"
           }
          ],
          "table": [
           {
            "cells": {
             "fill": {
              "color": "#EBF0F8"
             },
             "line": {
              "color": "white"
             }
            },
            "header": {
             "fill": {
              "color": "#C8D4E3"
             },
             "line": {
              "color": "white"
             }
            },
            "type": "table"
           }
          ]
         },
         "layout": {
          "annotationdefaults": {
           "arrowcolor": "#2a3f5f",
           "arrowhead": 0,
           "arrowwidth": 1
          },
          "autotypenumbers": "strict",
          "coloraxis": {
           "colorbar": {
            "outlinewidth": 0,
            "ticks": ""
           }
          },
          "colorscale": {
           "diverging": [
            [
             0,
             "#8e0152"
            ],
            [
             0.1,
             "#c51b7d"
            ],
            [
             0.2,
             "#de77ae"
            ],
            [
             0.3,
             "#f1b6da"
            ],
            [
             0.4,
             "#fde0ef"
            ],
            [
             0.5,
             "#f7f7f7"
            ],
            [
             0.6,
             "#e6f5d0"
            ],
            [
             0.7,
             "#b8e186"
            ],
            [
             0.8,
             "#7fbc41"
            ],
            [
             0.9,
             "#4d9221"
            ],
            [
             1,
             "#276419"
            ]
           ],
           "sequential": [
            [
             0,
             "#0d0887"
            ],
            [
             0.1111111111111111,
             "#46039f"
            ],
            [
             0.2222222222222222,
             "#7201a8"
            ],
            [
             0.3333333333333333,
             "#9c179e"
            ],
            [
             0.4444444444444444,
             "#bd3786"
            ],
            [
             0.5555555555555556,
             "#d8576b"
            ],
            [
             0.6666666666666666,
             "#ed7953"
            ],
            [
             0.7777777777777778,
             "#fb9f3a"
            ],
            [
             0.8888888888888888,
             "#fdca26"
            ],
            [
             1,
             "#f0f921"
            ]
           ],
           "sequentialminus": [
            [
             0,
             "#0d0887"
            ],
            [
             0.1111111111111111,
             "#46039f"
            ],
            [
             0.2222222222222222,
             "#7201a8"
            ],
            [
             0.3333333333333333,
             "#9c179e"
            ],
            [
             0.4444444444444444,
             "#bd3786"
            ],
            [
             0.5555555555555556,
             "#d8576b"
            ],
            [
             0.6666666666666666,
             "#ed7953"
            ],
            [
             0.7777777777777778,
             "#fb9f3a"
            ],
            [
             0.8888888888888888,
             "#fdca26"
            ],
            [
             1,
             "#f0f921"
            ]
           ]
          },
          "colorway": [
           "#636efa",
           "#EF553B",
           "#00cc96",
           "#ab63fa",
           "#FFA15A",
           "#19d3f3",
           "#FF6692",
           "#B6E880",
           "#FF97FF",
           "#FECB52"
          ],
          "font": {
           "color": "#2a3f5f"
          },
          "geo": {
           "bgcolor": "white",
           "lakecolor": "white",
           "landcolor": "#E5ECF6",
           "showlakes": true,
           "showland": true,
           "subunitcolor": "white"
          },
          "hoverlabel": {
           "align": "left"
          },
          "hovermode": "closest",
          "mapbox": {
           "style": "light"
          },
          "paper_bgcolor": "white",
          "plot_bgcolor": "#E5ECF6",
          "polar": {
           "angularaxis": {
            "gridcolor": "white",
            "linecolor": "white",
            "ticks": ""
           },
           "bgcolor": "#E5ECF6",
           "radialaxis": {
            "gridcolor": "white",
            "linecolor": "white",
            "ticks": ""
           }
          },
          "scene": {
           "xaxis": {
            "backgroundcolor": "#E5ECF6",
            "gridcolor": "white",
            "gridwidth": 2,
            "linecolor": "white",
            "showbackground": true,
            "ticks": "",
            "zerolinecolor": "white"
           },
           "yaxis": {
            "backgroundcolor": "#E5ECF6",
            "gridcolor": "white",
            "gridwidth": 2,
            "linecolor": "white",
            "showbackground": true,
            "ticks": "",
            "zerolinecolor": "white"
           },
           "zaxis": {
            "backgroundcolor": "#E5ECF6",
            "gridcolor": "white",
            "gridwidth": 2,
            "linecolor": "white",
            "showbackground": true,
            "ticks": "",
            "zerolinecolor": "white"
           }
          },
          "shapedefaults": {
           "line": {
            "color": "#2a3f5f"
           }
          },
          "ternary": {
           "aaxis": {
            "gridcolor": "white",
            "linecolor": "white",
            "ticks": ""
           },
           "baxis": {
            "gridcolor": "white",
            "linecolor": "white",
            "ticks": ""
           },
           "bgcolor": "#E5ECF6",
           "caxis": {
            "gridcolor": "white",
            "linecolor": "white",
            "ticks": ""
           }
          },
          "title": {
           "x": 0.05
          },
          "xaxis": {
           "automargin": true,
           "gridcolor": "white",
           "linecolor": "white",
           "ticks": "",
           "title": {
            "standoff": 15
           },
           "zerolinecolor": "white",
           "zerolinewidth": 2
          },
          "yaxis": {
           "automargin": true,
           "gridcolor": "white",
           "linecolor": "white",
           "ticks": "",
           "title": {
            "standoff": 15
           },
           "zerolinecolor": "white",
           "zerolinewidth": 2
          }
         }
        },
        "title": {
         "font": {
          "color": "#4D5663"
         }
        },
        "xaxis": {
         "gridcolor": "#E1E5ED",
         "showgrid": true,
         "tickfont": {
          "color": "#4D5663"
         },
         "title": {
          "font": {
           "color": "#4D5663"
          },
          "text": ""
         },
         "zerolinecolor": "#E1E5ED"
        },
        "xaxis2": {
         "anchor": "y2",
         "gridcolor": "#E1E5ED",
         "showgrid": true,
         "showticklabels": false,
         "tickfont": {
          "color": "#4D5663"
         },
         "title": {
          "font": {
           "color": "#4D5663"
          },
          "text": ""
         },
         "zerolinecolor": "#E1E5ED"
        },
        "yaxis": {
         "domain": [
          0.3,
          1
         ],
         "gridcolor": "#E1E5ED",
         "showgrid": true,
         "tickfont": {
          "color": "#4D5663"
         },
         "title": {
          "font": {
           "color": "#4D5663"
          },
          "text": ""
         },
         "zerolinecolor": "#E1E5ED"
        },
        "yaxis2": {
         "domain": [
          0,
          0.25
         ],
         "gridcolor": "#E1E5ED",
         "showgrid": true,
         "tickfont": {
          "color": "#4D5663"
         },
         "title": {
          "font": {
           "color": "#4D5663"
          },
          "text": "Spread"
         },
         "zerolinecolor": "#E1E5ED"
        }
       }
      },
      "text/html": [
       "<div>                            <div id=\"f067bf35-0e5e-42fc-91d8-b58312cfcc22\" class=\"plotly-graph-div\" style=\"height:525px; width:100%;\"></div>            <script type=\"text/javascript\">                require([\"plotly\"], function(Plotly) {                    window.PLOTLYENV=window.PLOTLYENV || {};\n",
       "                    window.PLOTLYENV.BASE_URL='https://plot.ly';                                    if (document.getElementById(\"f067bf35-0e5e-42fc-91d8-b58312cfcc22\")) {                    Plotly.newPlot(                        \"f067bf35-0e5e-42fc-91d8-b58312cfcc22\",                        [{\"line\":{\"color\":\"rgba(255, 153, 51, 1.0)\",\"dash\":\"solid\",\"shape\":\"linear\",\"width\":1.3},\"mode\":\"lines\",\"name\":\"A\",\"text\":\"\",\"x\":[0,1,2,3,4,5,6,7,8,9,10,11,12,13,14,15,16,17,18,19,20,21,22,23,24,25,26,27,28,29,30,31,32,33,34,35,36,37,38,39,40,41,42,43,44,45,46,47,48,49,50,51,52,53,54,55,56,57,58,59,60,61,62,63,64,65,66,67,68,69,70,71,72,73,74,75,76,77,78,79,80,81,82,83,84,85,86,87,88,89,90,91,92,93,94,95,96,97,98,99],\"y\":[-0.6715841140505145,-0.015693512274722023,-1.2377868022190277,0.02503655607096757,-0.14529398503449995,-1.0551956430573703,0.23233137831534484,-0.2956574504198168,-0.5577910399776433,1.3738652338159894,-2.9623175823727816,1.4904430345297184,1.039183339678253,-0.7113259936440596,-1.1842573167447745,0.08276897728234352,0.329475561063558,0.4884573064355324,0.33170945240886557,-1.623491342611854,-0.2787006945859761,0.3451219421823229,-0.8463179724936395,1.198615884615791,-1.21520995130495,0.08357517582237833,-0.9168333966717761,0.14444471685492827,-0.7587977901216573,-0.5716253932588715,-0.5155445307260258,0.039690930351866376,0.45206315536669267,0.25822078314915525,0.6795014499531823,-0.5258381951483264,-0.5831900803018422,0.9433672570698973,-1.2172033264702742,0.4070804402188379,0.9984241995599689,0.17547655482258462,-0.4864382830689831,-1.1725144840193726,1.2159970426643887,2.2007383884166125,-1.447909129888451,-1.2405381762638814,0.08017130631382811,-2.4146038180313445,0.24500705463654993,1.0955121238600343,0.07840931223258185,-1.0910806569187692,0.8837375823403211,-0.6788158992187295,-0.11096246412127025,-0.18905143074917843,-0.18057514475557498,0.6162366738892845,0.16758644721112217,-1.552022094532808,-0.15980187798785894,0.684059048953964,0.08319961960883286,-0.1393646482722601,-2.504160913360558,0.5878659446965919,1.635811129335889,1.9114127993924863,-0.7805028079982012,0.1596568880233185,0.04155434974831334,1.0035541939648416,0.8908357638671642,0.1327051615657846,-0.3952116467445707,0.7864341312472358,0.38666747641392035,0.14471853623258493,1.431655710690944,-0.11781504624255924,1.4974434253457516,-0.7964145225371747,-1.3699600853577067,-0.9618089897181643,-0.827111687389078,-0.7046529758368414,0.8828852015707367,-0.706753026854823,-1.390935846156628,-1.0817460195694732,0.9059710010262795,1.6281493928309418,-1.5741581898416985,-1.1456360795171043,0.5647014328630369,1.4079302677481942,0.7015348136215821,0.2996814140958031],\"type\":\"scatter\"},{\"line\":{\"color\":\"rgba(55, 128, 191, 1.0)\",\"dash\":\"solid\",\"shape\":\"linear\",\"width\":1.3},\"mode\":\"lines\",\"name\":\"B\",\"text\":\"\",\"x\":[0,1,2,3,4,5,6,7,8,9,10,11,12,13,14,15,16,17,18,19,20,21,22,23,24,25,26,27,28,29,30,31,32,33,34,35,36,37,38,39,40,41,42,43,44,45,46,47,48,49,50,51,52,53,54,55,56,57,58,59,60,61,62,63,64,65,66,67,68,69,70,71,72,73,74,75,76,77,78,79,80,81,82,83,84,85,86,87,88,89,90,91,92,93,94,95,96,97,98,99],\"y\":[2.2584707094043437,-0.7302799304607928,-0.2639441560358485,-1.6907250644742915,0.1254040074044843,1.3653684572122151,-0.8993710510320301,1.3637219597500265,-0.9949884716772304,1.3124196810371618,0.13120330179599704,0.24421489269566785,-0.27027514734432023,2.4192473141037873,0.07051174070187619,1.1454944026229976,1.3978441309027008,-0.8020321670729008,0.23465940010652886,0.27772437241707726,-0.023704226665142523,1.0647734889326985,-0.1299940741540082,-0.8947487564886276,-0.8601967942699728,-0.31182841235252173,0.7008025244702615,1.462640550182099,-0.7168406874680995,-0.533752063962401,-0.3383209072280021,2.141940772311467,-0.2179188511702646,0.7234207747726848,-1.539763104939272,-0.208167932281236,-0.7514823675298156,0.035625121367857726,0.9241782089734557,0.25995515135379726,0.8840298645904345,1.621531593225492,-1.0862693306485376,-0.9298244982592239,1.0305804958400764,-0.3028330445145502,-0.3412703213179675,0.24259140471291563,0.7725146061486692,-0.5627322260108164,-1.3362173833170023,-0.8364666429820613,-1.8649422541480647,-0.04000503321453959,-0.516321928580932,0.08082616339686961,1.3944373699957966,-0.17216818877174742,-0.5934447292701355,0.10764914753318927,-0.2667606811527233,-1.0162205575249617,-0.1144380817846967,1.4406345038428472,-0.7425514219222027,-1.0606788949699955,-1.586021525034324,-0.12104202346651638,0.8521010224489876,-0.9966586709814385,-0.7121334921084088,-0.4637882083535036,-0.11250665600437545,-0.8411356640052431,-0.7045662925272004,-0.6948250878248523,0.5000878197913172,-0.3528712808109637,-0.09557363709951629,0.11364046061839493,-1.015457474819926,0.36528363055720064,0.6711251693871432,0.7601384575280092,0.4321696477454787,0.6833655360978901,1.7310669374017902,0.4262696812048567,-0.2656194098492696,1.5645661055838156,-0.033652820429172794,-1.0858452674326182,-0.9708252180947552,1.771751835446405,-0.7925116693718385,-1.3470060707018487,0.006208722375716201,-1.499857075979689,-0.8887702919102793,-0.43945889066964533],\"type\":\"scatter\"},{\"connectgaps\":false,\"fill\":\"tozeroy\",\"line\":{\"color\":\"green\",\"dash\":\"solid\",\"shape\":\"linear\",\"width\":0.5},\"mode\":\"lines\",\"name\":\"Spread\",\"showlegend\":false,\"x\":[0,1,2,3,4,5,6,7,8,9,10,11,12,13,14,15,16,17,18,19,20,21,22,23,24,25,26,27,28,29,30,31,32,33,34,35,36,37,38,39,40,41,42,43,44,45,46,47,48,49,50,51,52,53,54,55,56,57,58,59,60,61,62,63,64,65,66,67,68,69,70,71,72,73,74,75,76,77,78,79,80,81,82,83,84,85,86,87,88,89,90,91,92,93,94,95,96,97,98,99],\"xaxis\":\"x2\",\"y\":[\"\",0.7145864181860707,\"\",1.715761620545259,\"\",\"\",1.131702429347375,\"\",0.437197431699587,0.06144555277882757,\"\",1.2462281418340506,1.3094584870225732,\"\",\"\",\"\",\"\",1.2904894735084333,0.09705005230233671,\"\",\"\",\"\",\"\",2.0933646411044187,\"\",0.39540358817490007,\"\",\"\",\"\",\"\",\"\",\"\",0.6699820065369573,\"\",2.219264554892454,\"\",0.1682922872279734,0.9077421357020397,\"\",0.14712528886504062,0.11439433496953433,\"\",0.5998310475795545,\"\",0.1854165468243123,2.503571432931163,\"\",\"\",\"\",\"\",1.5812244379535523,1.9319787668420956,1.9433515663806467,\"\",1.400059510921253,\"\",\"\",\"\",0.41286958451456046,0.5085875263560953,0.4343471283638455,\"\",\"\",\"\",0.8257510415310355,0.9213142466977353,\"\",0.7089079681631083,0.7837101068869015,2.9080714703739248,\"\",0.6234450963768221,0.1540610057526888,1.8446898579700846,1.5954020563943647,0.8275302493906369,\"\",1.1393054120581996,0.4822411135134366,0.03107807561419,2.44711318551087,\"\",0.8263182559586084,\"\",\"\",\"\",\"\",\"\",1.1485046114200064,\"\",\"\",0.0040992478631449725,1.8767962191210348,\"\",\"\",0.2013699911847444,0.5584927104873206,2.9077873437278834,1.5903051055318613,0.7391403047654485],\"yaxis\":\"y2\",\"type\":\"scatter\"},{\"connectgaps\":false,\"fill\":\"tozeroy\",\"line\":{\"color\":\"red\",\"dash\":\"solid\",\"shape\":\"linear\",\"width\":0.5},\"mode\":\"lines\",\"name\":\"Spread\",\"showlegend\":false,\"x\":[0,1,2,3,4,5,6,7,8,9,10,11,12,13,14,15,16,17,18,19,20,21,22,23,24,25,26,27,28,29,30,31,32,33,34,35,36,37,38,39,40,41,42,43,44,45,46,47,48,49,50,51,52,53,54,55,56,57,58,59,60,61,62,63,64,65,66,67,68,69,70,71,72,73,74,75,76,77,78,79,80,81,82,83,84,85,86,87,88,89,90,91,92,93,94,95,96,97,98,99],\"xaxis\":\"x2\",\"y\":[-2.9300548234548582,\"\",-0.9738426461831793,\"\",-0.27069799243898424,-2.4205641002695852,\"\",-1.6593794101698434,\"\",\"\",-3.093520884168779,\"\",\"\",-3.130573307747847,-1.2547690574466508,-1.0627254253406542,-1.0683685698391427,\"\",\"\",-1.9012157150289313,-0.2549964679208336,-0.7196515467503757,-0.7163238983396313,\"\",-0.35501315703497716,\"\",-1.6176359211420377,-1.3181958333271706,-0.04195710265355779,-0.03787332929647047,-0.17722362349802367,-2.1022498419596007,\"\",-0.4651999916235296,\"\",-0.31767026286709044,\"\",\"\",-2.1413815354437298,\"\",\"\",-1.4460550384029074,\"\",-0.24268998576014877,\"\",\"\",-1.1066388085704835,-1.483129580976797,-0.6923432998348411,-1.8518715920205282,\"\",\"\",\"\",-1.0510756237042296,\"\",-0.7596420626155992,-1.505399834117067,-0.01688324197743102,\"\",\"\",\"\",-0.5358015370078464,-0.04536379620316225,-0.7565754548888832,\"\",\"\",-0.9181393883262341,\"\",\"\",\"\",-0.06836931588979234,\"\",\"\",\"\",\"\",\"\",-0.895299466535888,\"\",\"\",\"\",\"\",-0.4830986767997599,\"\",-1.556552980065184,-1.8021297331031856,-1.6451745258160544,-2.558178624790868,-1.1309226570416981,\"\",-2.271319132438639,-1.357283025727455,\"\",\"\",-0.14360244261546318,-0.78164652046986,\"\",\"\",\"\",\"\",\"\"],\"yaxis\":\"y2\",\"type\":\"scatter\"}],                        {\"hovermode\":\"x\",\"legend\":{\"bgcolor\":\"#F5F6F9\",\"font\":{\"color\":\"#4D5663\"}},\"paper_bgcolor\":\"#F5F6F9\",\"plot_bgcolor\":\"#F5F6F9\",\"template\":{\"data\":{\"barpolar\":[{\"marker\":{\"line\":{\"color\":\"#E5ECF6\",\"width\":0.5},\"pattern\":{\"fillmode\":\"overlay\",\"size\":10,\"solidity\":0.2}},\"type\":\"barpolar\"}],\"bar\":[{\"error_x\":{\"color\":\"#2a3f5f\"},\"error_y\":{\"color\":\"#2a3f5f\"},\"marker\":{\"line\":{\"color\":\"#E5ECF6\",\"width\":0.5},\"pattern\":{\"fillmode\":\"overlay\",\"size\":10,\"solidity\":0.2}},\"type\":\"bar\"}],\"carpet\":[{\"aaxis\":{\"endlinecolor\":\"#2a3f5f\",\"gridcolor\":\"white\",\"linecolor\":\"white\",\"minorgridcolor\":\"white\",\"startlinecolor\":\"#2a3f5f\"},\"baxis\":{\"endlinecolor\":\"#2a3f5f\",\"gridcolor\":\"white\",\"linecolor\":\"white\",\"minorgridcolor\":\"white\",\"startlinecolor\":\"#2a3f5f\"},\"type\":\"carpet\"}],\"choropleth\":[{\"colorbar\":{\"outlinewidth\":0,\"ticks\":\"\"},\"type\":\"choropleth\"}],\"contourcarpet\":[{\"colorbar\":{\"outlinewidth\":0,\"ticks\":\"\"},\"type\":\"contourcarpet\"}],\"contour\":[{\"colorbar\":{\"outlinewidth\":0,\"ticks\":\"\"},\"colorscale\":[[0.0,\"#0d0887\"],[0.1111111111111111,\"#46039f\"],[0.2222222222222222,\"#7201a8\"],[0.3333333333333333,\"#9c179e\"],[0.4444444444444444,\"#bd3786\"],[0.5555555555555556,\"#d8576b\"],[0.6666666666666666,\"#ed7953\"],[0.7777777777777778,\"#fb9f3a\"],[0.8888888888888888,\"#fdca26\"],[1.0,\"#f0f921\"]],\"type\":\"contour\"}],\"heatmapgl\":[{\"colorbar\":{\"outlinewidth\":0,\"ticks\":\"\"},\"colorscale\":[[0.0,\"#0d0887\"],[0.1111111111111111,\"#46039f\"],[0.2222222222222222,\"#7201a8\"],[0.3333333333333333,\"#9c179e\"],[0.4444444444444444,\"#bd3786\"],[0.5555555555555556,\"#d8576b\"],[0.6666666666666666,\"#ed7953\"],[0.7777777777777778,\"#fb9f3a\"],[0.8888888888888888,\"#fdca26\"],[1.0,\"#f0f921\"]],\"type\":\"heatmapgl\"}],\"heatmap\":[{\"colorbar\":{\"outlinewidth\":0,\"ticks\":\"\"},\"colorscale\":[[0.0,\"#0d0887\"],[0.1111111111111111,\"#46039f\"],[0.2222222222222222,\"#7201a8\"],[0.3333333333333333,\"#9c179e\"],[0.4444444444444444,\"#bd3786\"],[0.5555555555555556,\"#d8576b\"],[0.6666666666666666,\"#ed7953\"],[0.7777777777777778,\"#fb9f3a\"],[0.8888888888888888,\"#fdca26\"],[1.0,\"#f0f921\"]],\"type\":\"heatmap\"}],\"histogram2dcontour\":[{\"colorbar\":{\"outlinewidth\":0,\"ticks\":\"\"},\"colorscale\":[[0.0,\"#0d0887\"],[0.1111111111111111,\"#46039f\"],[0.2222222222222222,\"#7201a8\"],[0.3333333333333333,\"#9c179e\"],[0.4444444444444444,\"#bd3786\"],[0.5555555555555556,\"#d8576b\"],[0.6666666666666666,\"#ed7953\"],[0.7777777777777778,\"#fb9f3a\"],[0.8888888888888888,\"#fdca26\"],[1.0,\"#f0f921\"]],\"type\":\"histogram2dcontour\"}],\"histogram2d\":[{\"colorbar\":{\"outlinewidth\":0,\"ticks\":\"\"},\"colorscale\":[[0.0,\"#0d0887\"],[0.1111111111111111,\"#46039f\"],[0.2222222222222222,\"#7201a8\"],[0.3333333333333333,\"#9c179e\"],[0.4444444444444444,\"#bd3786\"],[0.5555555555555556,\"#d8576b\"],[0.6666666666666666,\"#ed7953\"],[0.7777777777777778,\"#fb9f3a\"],[0.8888888888888888,\"#fdca26\"],[1.0,\"#f0f921\"]],\"type\":\"histogram2d\"}],\"histogram\":[{\"marker\":{\"pattern\":{\"fillmode\":\"overlay\",\"size\":10,\"solidity\":0.2}},\"type\":\"histogram\"}],\"mesh3d\":[{\"colorbar\":{\"outlinewidth\":0,\"ticks\":\"\"},\"type\":\"mesh3d\"}],\"parcoords\":[{\"line\":{\"colorbar\":{\"outlinewidth\":0,\"ticks\":\"\"}},\"type\":\"parcoords\"}],\"pie\":[{\"automargin\":true,\"type\":\"pie\"}],\"scatter3d\":[{\"line\":{\"colorbar\":{\"outlinewidth\":0,\"ticks\":\"\"}},\"marker\":{\"colorbar\":{\"outlinewidth\":0,\"ticks\":\"\"}},\"type\":\"scatter3d\"}],\"scattercarpet\":[{\"marker\":{\"colorbar\":{\"outlinewidth\":0,\"ticks\":\"\"}},\"type\":\"scattercarpet\"}],\"scattergeo\":[{\"marker\":{\"colorbar\":{\"outlinewidth\":0,\"ticks\":\"\"}},\"type\":\"scattergeo\"}],\"scattergl\":[{\"marker\":{\"colorbar\":{\"outlinewidth\":0,\"ticks\":\"\"}},\"type\":\"scattergl\"}],\"scattermapbox\":[{\"marker\":{\"colorbar\":{\"outlinewidth\":0,\"ticks\":\"\"}},\"type\":\"scattermapbox\"}],\"scatterpolargl\":[{\"marker\":{\"colorbar\":{\"outlinewidth\":0,\"ticks\":\"\"}},\"type\":\"scatterpolargl\"}],\"scatterpolar\":[{\"marker\":{\"colorbar\":{\"outlinewidth\":0,\"ticks\":\"\"}},\"type\":\"scatterpolar\"}],\"scatter\":[{\"marker\":{\"colorbar\":{\"outlinewidth\":0,\"ticks\":\"\"}},\"type\":\"scatter\"}],\"scatterternary\":[{\"marker\":{\"colorbar\":{\"outlinewidth\":0,\"ticks\":\"\"}},\"type\":\"scatterternary\"}],\"surface\":[{\"colorbar\":{\"outlinewidth\":0,\"ticks\":\"\"},\"colorscale\":[[0.0,\"#0d0887\"],[0.1111111111111111,\"#46039f\"],[0.2222222222222222,\"#7201a8\"],[0.3333333333333333,\"#9c179e\"],[0.4444444444444444,\"#bd3786\"],[0.5555555555555556,\"#d8576b\"],[0.6666666666666666,\"#ed7953\"],[0.7777777777777778,\"#fb9f3a\"],[0.8888888888888888,\"#fdca26\"],[1.0,\"#f0f921\"]],\"type\":\"surface\"}],\"table\":[{\"cells\":{\"fill\":{\"color\":\"#EBF0F8\"},\"line\":{\"color\":\"white\"}},\"header\":{\"fill\":{\"color\":\"#C8D4E3\"},\"line\":{\"color\":\"white\"}},\"type\":\"table\"}]},\"layout\":{\"annotationdefaults\":{\"arrowcolor\":\"#2a3f5f\",\"arrowhead\":0,\"arrowwidth\":1},\"autotypenumbers\":\"strict\",\"coloraxis\":{\"colorbar\":{\"outlinewidth\":0,\"ticks\":\"\"}},\"colorscale\":{\"diverging\":[[0,\"#8e0152\"],[0.1,\"#c51b7d\"],[0.2,\"#de77ae\"],[0.3,\"#f1b6da\"],[0.4,\"#fde0ef\"],[0.5,\"#f7f7f7\"],[0.6,\"#e6f5d0\"],[0.7,\"#b8e186\"],[0.8,\"#7fbc41\"],[0.9,\"#4d9221\"],[1,\"#276419\"]],\"sequential\":[[0.0,\"#0d0887\"],[0.1111111111111111,\"#46039f\"],[0.2222222222222222,\"#7201a8\"],[0.3333333333333333,\"#9c179e\"],[0.4444444444444444,\"#bd3786\"],[0.5555555555555556,\"#d8576b\"],[0.6666666666666666,\"#ed7953\"],[0.7777777777777778,\"#fb9f3a\"],[0.8888888888888888,\"#fdca26\"],[1.0,\"#f0f921\"]],\"sequentialminus\":[[0.0,\"#0d0887\"],[0.1111111111111111,\"#46039f\"],[0.2222222222222222,\"#7201a8\"],[0.3333333333333333,\"#9c179e\"],[0.4444444444444444,\"#bd3786\"],[0.5555555555555556,\"#d8576b\"],[0.6666666666666666,\"#ed7953\"],[0.7777777777777778,\"#fb9f3a\"],[0.8888888888888888,\"#fdca26\"],[1.0,\"#f0f921\"]]},\"colorway\":[\"#636efa\",\"#EF553B\",\"#00cc96\",\"#ab63fa\",\"#FFA15A\",\"#19d3f3\",\"#FF6692\",\"#B6E880\",\"#FF97FF\",\"#FECB52\"],\"font\":{\"color\":\"#2a3f5f\"},\"geo\":{\"bgcolor\":\"white\",\"lakecolor\":\"white\",\"landcolor\":\"#E5ECF6\",\"showlakes\":true,\"showland\":true,\"subunitcolor\":\"white\"},\"hoverlabel\":{\"align\":\"left\"},\"hovermode\":\"closest\",\"mapbox\":{\"style\":\"light\"},\"paper_bgcolor\":\"white\",\"plot_bgcolor\":\"#E5ECF6\",\"polar\":{\"angularaxis\":{\"gridcolor\":\"white\",\"linecolor\":\"white\",\"ticks\":\"\"},\"bgcolor\":\"#E5ECF6\",\"radialaxis\":{\"gridcolor\":\"white\",\"linecolor\":\"white\",\"ticks\":\"\"}},\"scene\":{\"xaxis\":{\"backgroundcolor\":\"#E5ECF6\",\"gridcolor\":\"white\",\"gridwidth\":2,\"linecolor\":\"white\",\"showbackground\":true,\"ticks\":\"\",\"zerolinecolor\":\"white\"},\"yaxis\":{\"backgroundcolor\":\"#E5ECF6\",\"gridcolor\":\"white\",\"gridwidth\":2,\"linecolor\":\"white\",\"showbackground\":true,\"ticks\":\"\",\"zerolinecolor\":\"white\"},\"zaxis\":{\"backgroundcolor\":\"#E5ECF6\",\"gridcolor\":\"white\",\"gridwidth\":2,\"linecolor\":\"white\",\"showbackground\":true,\"ticks\":\"\",\"zerolinecolor\":\"white\"}},\"shapedefaults\":{\"line\":{\"color\":\"#2a3f5f\"}},\"ternary\":{\"aaxis\":{\"gridcolor\":\"white\",\"linecolor\":\"white\",\"ticks\":\"\"},\"baxis\":{\"gridcolor\":\"white\",\"linecolor\":\"white\",\"ticks\":\"\"},\"bgcolor\":\"#E5ECF6\",\"caxis\":{\"gridcolor\":\"white\",\"linecolor\":\"white\",\"ticks\":\"\"}},\"title\":{\"x\":0.05},\"xaxis\":{\"automargin\":true,\"gridcolor\":\"white\",\"linecolor\":\"white\",\"ticks\":\"\",\"title\":{\"standoff\":15},\"zerolinecolor\":\"white\",\"zerolinewidth\":2},\"yaxis\":{\"automargin\":true,\"gridcolor\":\"white\",\"linecolor\":\"white\",\"ticks\":\"\",\"title\":{\"standoff\":15},\"zerolinecolor\":\"white\",\"zerolinewidth\":2}}},\"title\":{\"font\":{\"color\":\"#4D5663\"}},\"xaxis\":{\"gridcolor\":\"#E1E5ED\",\"showgrid\":true,\"tickfont\":{\"color\":\"#4D5663\"},\"title\":{\"font\":{\"color\":\"#4D5663\"},\"text\":\"\"},\"zerolinecolor\":\"#E1E5ED\"},\"yaxis\":{\"domain\":[0.3,1],\"gridcolor\":\"#E1E5ED\",\"showgrid\":true,\"tickfont\":{\"color\":\"#4D5663\"},\"title\":{\"font\":{\"color\":\"#4D5663\"},\"text\":\"\"},\"zerolinecolor\":\"#E1E5ED\"},\"yaxis2\":{\"domain\":[0,0.25],\"gridcolor\":\"#E1E5ED\",\"showgrid\":true,\"tickfont\":{\"color\":\"#4D5663\"},\"title\":{\"font\":{\"color\":\"#4D5663\"},\"text\":\"Spread\"},\"zerolinecolor\":\"#E1E5ED\"},\"xaxis2\":{\"anchor\":\"y2\",\"gridcolor\":\"#E1E5ED\",\"showgrid\":true,\"showticklabels\":false,\"tickfont\":{\"color\":\"#4D5663\"},\"title\":{\"font\":{\"color\":\"#4D5663\"},\"text\":\"\"},\"zerolinecolor\":\"#E1E5ED\"}},                        {\"showLink\": true, \"linkText\": \"Export to plot.ly\", \"plotlyServerURL\": \"https://plot.ly\", \"responsive\": true}                    ).then(function(){\n",
       "                            \n",
       "var gd = document.getElementById('f067bf35-0e5e-42fc-91d8-b58312cfcc22');\n",
       "var x = new MutationObserver(function (mutations, observer) {{\n",
       "        var display = window.getComputedStyle(gd).display;\n",
       "        if (!display || display === 'none') {{\n",
       "            console.log([gd, 'removed!']);\n",
       "            Plotly.purge(gd);\n",
       "            observer.disconnect();\n",
       "        }}\n",
       "}});\n",
       "\n",
       "// Listen for the removal of the full notebook cells\n",
       "var notebookContainer = gd.closest('#notebook-container');\n",
       "if (notebookContainer) {{\n",
       "    x.observe(notebookContainer, {childList: true});\n",
       "}}\n",
       "\n",
       "// Listen for the clearing of the current output cell\n",
       "var outputEl = gd.closest('.output');\n",
       "if (outputEl) {{\n",
       "    x.observe(outputEl, {childList: true});\n",
       "}}\n",
       "\n",
       "                        })                };                });            </script>        </div>"
      ]
     },
     "metadata": {},
     "output_type": "display_data"
    }
   ],
   "source": [
    "df[[\"A\",\"B\"]].iplot(kind=\"spread\")"
   ]
  },
  {
   "cell_type": "code",
   "execution_count": 45,
   "id": "b883cc6e",
   "metadata": {},
   "outputs": [
    {
     "data": {
      "application/vnd.plotly.v1+json": {
       "config": {
        "linkText": "Export to plot.ly",
        "plotlyServerURL": "https://plot.ly",
        "showLink": true
       },
       "data": [
        {
         "marker": {
          "color": [
           "rgb(255, 153, 51)",
           "rgb(55, 128, 191)",
           "rgb(50, 171, 96)",
           "rgb(128, 0, 128)",
           "rgb(219, 64, 82)",
           "rgb(0, 128, 128)",
           "rgb(255, 255, 51)",
           "rgb(128, 128, 0)",
           "rgb(251, 128, 114)",
           "rgb(128, 177, 211)"
          ],
          "line": {
           "width": 1.3
          },
          "size": [
           82,
           64,
           83,
           40,
           55,
           55,
           40,
           76,
           17,
           71,
           59,
           25,
           63,
           67,
           45,
           39,
           17,
           30,
           76,
           45,
           112,
           45,
           27,
           63,
           75,
           79,
           60,
           13,
           72,
           73,
           88,
           81,
           55,
           36,
           70,
           60,
           56,
           24,
           94,
           86,
           29,
           68,
           30,
           88,
           59,
           25,
           79,
           37,
           109,
           65,
           39,
           65,
           98,
           54,
           82,
           87,
           67,
           67,
           37,
           97,
           32,
           67,
           64,
           81,
           52,
           94,
           74,
           12,
           65,
           70,
           90,
           52,
           69,
           79,
           47,
           33,
           70,
           37,
           50,
           83,
           71,
           23,
           30,
           63,
           80,
           91,
           50,
           94,
           19,
           41,
           39,
           36,
           77,
           91,
           59,
           84,
           47,
           47,
           63,
           85
          ],
          "symbol": "circle"
         },
         "mode": "markers",
         "text": "",
         "type": "scatter",
         "x": [
          -0.6715841140505145,
          -0.015693512274722023,
          -1.2377868022190277,
          0.02503655607096757,
          -0.14529398503449995,
          -1.0551956430573703,
          0.23233137831534484,
          -0.2956574504198168,
          -0.5577910399776433,
          1.3738652338159894,
          -2.9623175823727816,
          1.4904430345297184,
          1.039183339678253,
          -0.7113259936440596,
          -1.1842573167447745,
          0.08276897728234352,
          0.329475561063558,
          0.4884573064355324,
          0.33170945240886557,
          -1.623491342611854,
          -0.2787006945859761,
          0.3451219421823229,
          -0.8463179724936395,
          1.198615884615791,
          -1.21520995130495,
          0.08357517582237833,
          -0.9168333966717761,
          0.14444471685492827,
          -0.7587977901216573,
          -0.5716253932588715,
          -0.5155445307260258,
          0.039690930351866376,
          0.45206315536669267,
          0.25822078314915525,
          0.6795014499531823,
          -0.5258381951483264,
          -0.5831900803018422,
          0.9433672570698973,
          -1.2172033264702742,
          0.4070804402188379,
          0.9984241995599689,
          0.17547655482258462,
          -0.4864382830689831,
          -1.1725144840193726,
          1.2159970426643887,
          2.2007383884166125,
          -1.447909129888451,
          -1.2405381762638814,
          0.08017130631382811,
          -2.4146038180313445,
          0.24500705463654993,
          1.0955121238600343,
          0.07840931223258185,
          -1.0910806569187692,
          0.8837375823403211,
          -0.6788158992187295,
          -0.11096246412127025,
          -0.18905143074917843,
          -0.18057514475557498,
          0.6162366738892845,
          0.16758644721112217,
          -1.552022094532808,
          -0.15980187798785894,
          0.684059048953964,
          0.08319961960883286,
          -0.1393646482722601,
          -2.504160913360558,
          0.5878659446965919,
          1.635811129335889,
          1.9114127993924863,
          -0.7805028079982012,
          0.1596568880233185,
          0.04155434974831334,
          1.0035541939648416,
          0.8908357638671642,
          0.1327051615657846,
          -0.3952116467445707,
          0.7864341312472358,
          0.38666747641392035,
          0.14471853623258493,
          1.431655710690944,
          -0.11781504624255924,
          1.4974434253457516,
          -0.7964145225371747,
          -1.3699600853577067,
          -0.9618089897181643,
          -0.827111687389078,
          -0.7046529758368414,
          0.8828852015707367,
          -0.706753026854823,
          -1.390935846156628,
          -1.0817460195694732,
          0.9059710010262795,
          1.6281493928309418,
          -1.5741581898416985,
          -1.1456360795171043,
          0.5647014328630369,
          1.4079302677481942,
          0.7015348136215821,
          0.2996814140958031
         ],
         "y": [
          2.2584707094043437,
          -0.7302799304607928,
          -0.2639441560358485,
          -1.6907250644742915,
          0.1254040074044843,
          1.3653684572122151,
          -0.8993710510320301,
          1.3637219597500265,
          -0.9949884716772304,
          1.3124196810371618,
          0.13120330179599704,
          0.24421489269566785,
          -0.27027514734432023,
          2.4192473141037873,
          0.07051174070187619,
          1.1454944026229976,
          1.3978441309027008,
          -0.8020321670729008,
          0.23465940010652886,
          0.27772437241707726,
          -0.023704226665142523,
          1.0647734889326985,
          -0.1299940741540082,
          -0.8947487564886276,
          -0.8601967942699728,
          -0.31182841235252173,
          0.7008025244702615,
          1.462640550182099,
          -0.7168406874680995,
          -0.533752063962401,
          -0.3383209072280021,
          2.141940772311467,
          -0.2179188511702646,
          0.7234207747726848,
          -1.539763104939272,
          -0.208167932281236,
          -0.7514823675298156,
          0.035625121367857726,
          0.9241782089734557,
          0.25995515135379726,
          0.8840298645904345,
          1.621531593225492,
          -1.0862693306485376,
          -0.9298244982592239,
          1.0305804958400764,
          -0.3028330445145502,
          -0.3412703213179675,
          0.24259140471291563,
          0.7725146061486692,
          -0.5627322260108164,
          -1.3362173833170023,
          -0.8364666429820613,
          -1.8649422541480647,
          -0.04000503321453959,
          -0.516321928580932,
          0.08082616339686961,
          1.3944373699957966,
          -0.17216818877174742,
          -0.5934447292701355,
          0.10764914753318927,
          -0.2667606811527233,
          -1.0162205575249617,
          -0.1144380817846967,
          1.4406345038428472,
          -0.7425514219222027,
          -1.0606788949699955,
          -1.586021525034324,
          -0.12104202346651638,
          0.8521010224489876,
          -0.9966586709814385,
          -0.7121334921084088,
          -0.4637882083535036,
          -0.11250665600437545,
          -0.8411356640052431,
          -0.7045662925272004,
          -0.6948250878248523,
          0.5000878197913172,
          -0.3528712808109637,
          -0.09557363709951629,
          0.11364046061839493,
          -1.015457474819926,
          0.36528363055720064,
          0.6711251693871432,
          0.7601384575280092,
          0.4321696477454787,
          0.6833655360978901,
          1.7310669374017902,
          0.4262696812048567,
          -0.2656194098492696,
          1.5645661055838156,
          -0.033652820429172794,
          -1.0858452674326182,
          -0.9708252180947552,
          1.771751835446405,
          -0.7925116693718385,
          -1.3470060707018487,
          0.006208722375716201,
          -1.499857075979689,
          -0.8887702919102793,
          -0.43945889066964533
         ]
        }
       ],
       "layout": {
        "legend": {
         "bgcolor": "#F5F6F9",
         "font": {
          "color": "#4D5663"
         }
        },
        "paper_bgcolor": "#F5F6F9",
        "plot_bgcolor": "#F5F6F9",
        "template": {
         "data": {
          "bar": [
           {
            "error_x": {
             "color": "#2a3f5f"
            },
            "error_y": {
             "color": "#2a3f5f"
            },
            "marker": {
             "line": {
              "color": "#E5ECF6",
              "width": 0.5
             },
             "pattern": {
              "fillmode": "overlay",
              "size": 10,
              "solidity": 0.2
             }
            },
            "type": "bar"
           }
          ],
          "barpolar": [
           {
            "marker": {
             "line": {
              "color": "#E5ECF6",
              "width": 0.5
             },
             "pattern": {
              "fillmode": "overlay",
              "size": 10,
              "solidity": 0.2
             }
            },
            "type": "barpolar"
           }
          ],
          "carpet": [
           {
            "aaxis": {
             "endlinecolor": "#2a3f5f",
             "gridcolor": "white",
             "linecolor": "white",
             "minorgridcolor": "white",
             "startlinecolor": "#2a3f5f"
            },
            "baxis": {
             "endlinecolor": "#2a3f5f",
             "gridcolor": "white",
             "linecolor": "white",
             "minorgridcolor": "white",
             "startlinecolor": "#2a3f5f"
            },
            "type": "carpet"
           }
          ],
          "choropleth": [
           {
            "colorbar": {
             "outlinewidth": 0,
             "ticks": ""
            },
            "type": "choropleth"
           }
          ],
          "contour": [
           {
            "colorbar": {
             "outlinewidth": 0,
             "ticks": ""
            },
            "colorscale": [
             [
              0,
              "#0d0887"
             ],
             [
              0.1111111111111111,
              "#46039f"
             ],
             [
              0.2222222222222222,
              "#7201a8"
             ],
             [
              0.3333333333333333,
              "#9c179e"
             ],
             [
              0.4444444444444444,
              "#bd3786"
             ],
             [
              0.5555555555555556,
              "#d8576b"
             ],
             [
              0.6666666666666666,
              "#ed7953"
             ],
             [
              0.7777777777777778,
              "#fb9f3a"
             ],
             [
              0.8888888888888888,
              "#fdca26"
             ],
             [
              1,
              "#f0f921"
             ]
            ],
            "type": "contour"
           }
          ],
          "contourcarpet": [
           {
            "colorbar": {
             "outlinewidth": 0,
             "ticks": ""
            },
            "type": "contourcarpet"
           }
          ],
          "heatmap": [
           {
            "colorbar": {
             "outlinewidth": 0,
             "ticks": ""
            },
            "colorscale": [
             [
              0,
              "#0d0887"
             ],
             [
              0.1111111111111111,
              "#46039f"
             ],
             [
              0.2222222222222222,
              "#7201a8"
             ],
             [
              0.3333333333333333,
              "#9c179e"
             ],
             [
              0.4444444444444444,
              "#bd3786"
             ],
             [
              0.5555555555555556,
              "#d8576b"
             ],
             [
              0.6666666666666666,
              "#ed7953"
             ],
             [
              0.7777777777777778,
              "#fb9f3a"
             ],
             [
              0.8888888888888888,
              "#fdca26"
             ],
             [
              1,
              "#f0f921"
             ]
            ],
            "type": "heatmap"
           }
          ],
          "heatmapgl": [
           {
            "colorbar": {
             "outlinewidth": 0,
             "ticks": ""
            },
            "colorscale": [
             [
              0,
              "#0d0887"
             ],
             [
              0.1111111111111111,
              "#46039f"
             ],
             [
              0.2222222222222222,
              "#7201a8"
             ],
             [
              0.3333333333333333,
              "#9c179e"
             ],
             [
              0.4444444444444444,
              "#bd3786"
             ],
             [
              0.5555555555555556,
              "#d8576b"
             ],
             [
              0.6666666666666666,
              "#ed7953"
             ],
             [
              0.7777777777777778,
              "#fb9f3a"
             ],
             [
              0.8888888888888888,
              "#fdca26"
             ],
             [
              1,
              "#f0f921"
             ]
            ],
            "type": "heatmapgl"
           }
          ],
          "histogram": [
           {
            "marker": {
             "pattern": {
              "fillmode": "overlay",
              "size": 10,
              "solidity": 0.2
             }
            },
            "type": "histogram"
           }
          ],
          "histogram2d": [
           {
            "colorbar": {
             "outlinewidth": 0,
             "ticks": ""
            },
            "colorscale": [
             [
              0,
              "#0d0887"
             ],
             [
              0.1111111111111111,
              "#46039f"
             ],
             [
              0.2222222222222222,
              "#7201a8"
             ],
             [
              0.3333333333333333,
              "#9c179e"
             ],
             [
              0.4444444444444444,
              "#bd3786"
             ],
             [
              0.5555555555555556,
              "#d8576b"
             ],
             [
              0.6666666666666666,
              "#ed7953"
             ],
             [
              0.7777777777777778,
              "#fb9f3a"
             ],
             [
              0.8888888888888888,
              "#fdca26"
             ],
             [
              1,
              "#f0f921"
             ]
            ],
            "type": "histogram2d"
           }
          ],
          "histogram2dcontour": [
           {
            "colorbar": {
             "outlinewidth": 0,
             "ticks": ""
            },
            "colorscale": [
             [
              0,
              "#0d0887"
             ],
             [
              0.1111111111111111,
              "#46039f"
             ],
             [
              0.2222222222222222,
              "#7201a8"
             ],
             [
              0.3333333333333333,
              "#9c179e"
             ],
             [
              0.4444444444444444,
              "#bd3786"
             ],
             [
              0.5555555555555556,
              "#d8576b"
             ],
             [
              0.6666666666666666,
              "#ed7953"
             ],
             [
              0.7777777777777778,
              "#fb9f3a"
             ],
             [
              0.8888888888888888,
              "#fdca26"
             ],
             [
              1,
              "#f0f921"
             ]
            ],
            "type": "histogram2dcontour"
           }
          ],
          "mesh3d": [
           {
            "colorbar": {
             "outlinewidth": 0,
             "ticks": ""
            },
            "type": "mesh3d"
           }
          ],
          "parcoords": [
           {
            "line": {
             "colorbar": {
              "outlinewidth": 0,
              "ticks": ""
             }
            },
            "type": "parcoords"
           }
          ],
          "pie": [
           {
            "automargin": true,
            "type": "pie"
           }
          ],
          "scatter": [
           {
            "marker": {
             "colorbar": {
              "outlinewidth": 0,
              "ticks": ""
             }
            },
            "type": "scatter"
           }
          ],
          "scatter3d": [
           {
            "line": {
             "colorbar": {
              "outlinewidth": 0,
              "ticks": ""
             }
            },
            "marker": {
             "colorbar": {
              "outlinewidth": 0,
              "ticks": ""
             }
            },
            "type": "scatter3d"
           }
          ],
          "scattercarpet": [
           {
            "marker": {
             "colorbar": {
              "outlinewidth": 0,
              "ticks": ""
             }
            },
            "type": "scattercarpet"
           }
          ],
          "scattergeo": [
           {
            "marker": {
             "colorbar": {
              "outlinewidth": 0,
              "ticks": ""
             }
            },
            "type": "scattergeo"
           }
          ],
          "scattergl": [
           {
            "marker": {
             "colorbar": {
              "outlinewidth": 0,
              "ticks": ""
             }
            },
            "type": "scattergl"
           }
          ],
          "scattermapbox": [
           {
            "marker": {
             "colorbar": {
              "outlinewidth": 0,
              "ticks": ""
             }
            },
            "type": "scattermapbox"
           }
          ],
          "scatterpolar": [
           {
            "marker": {
             "colorbar": {
              "outlinewidth": 0,
              "ticks": ""
             }
            },
            "type": "scatterpolar"
           }
          ],
          "scatterpolargl": [
           {
            "marker": {
             "colorbar": {
              "outlinewidth": 0,
              "ticks": ""
             }
            },
            "type": "scatterpolargl"
           }
          ],
          "scatterternary": [
           {
            "marker": {
             "colorbar": {
              "outlinewidth": 0,
              "ticks": ""
             }
            },
            "type": "scatterternary"
           }
          ],
          "surface": [
           {
            "colorbar": {
             "outlinewidth": 0,
             "ticks": ""
            },
            "colorscale": [
             [
              0,
              "#0d0887"
             ],
             [
              0.1111111111111111,
              "#46039f"
             ],
             [
              0.2222222222222222,
              "#7201a8"
             ],
             [
              0.3333333333333333,
              "#9c179e"
             ],
             [
              0.4444444444444444,
              "#bd3786"
             ],
             [
              0.5555555555555556,
              "#d8576b"
             ],
             [
              0.6666666666666666,
              "#ed7953"
             ],
             [
              0.7777777777777778,
              "#fb9f3a"
             ],
             [
              0.8888888888888888,
              "#fdca26"
             ],
             [
              1,
              "#f0f921"
             ]
            ],
            "type": "surface"
           }
          ],
          "table": [
           {
            "cells": {
             "fill": {
              "color": "#EBF0F8"
             },
             "line": {
              "color": "white"
             }
            },
            "header": {
             "fill": {
              "color": "#C8D4E3"
             },
             "line": {
              "color": "white"
             }
            },
            "type": "table"
           }
          ]
         },
         "layout": {
          "annotationdefaults": {
           "arrowcolor": "#2a3f5f",
           "arrowhead": 0,
           "arrowwidth": 1
          },
          "autotypenumbers": "strict",
          "coloraxis": {
           "colorbar": {
            "outlinewidth": 0,
            "ticks": ""
           }
          },
          "colorscale": {
           "diverging": [
            [
             0,
             "#8e0152"
            ],
            [
             0.1,
             "#c51b7d"
            ],
            [
             0.2,
             "#de77ae"
            ],
            [
             0.3,
             "#f1b6da"
            ],
            [
             0.4,
             "#fde0ef"
            ],
            [
             0.5,
             "#f7f7f7"
            ],
            [
             0.6,
             "#e6f5d0"
            ],
            [
             0.7,
             "#b8e186"
            ],
            [
             0.8,
             "#7fbc41"
            ],
            [
             0.9,
             "#4d9221"
            ],
            [
             1,
             "#276419"
            ]
           ],
           "sequential": [
            [
             0,
             "#0d0887"
            ],
            [
             0.1111111111111111,
             "#46039f"
            ],
            [
             0.2222222222222222,
             "#7201a8"
            ],
            [
             0.3333333333333333,
             "#9c179e"
            ],
            [
             0.4444444444444444,
             "#bd3786"
            ],
            [
             0.5555555555555556,
             "#d8576b"
            ],
            [
             0.6666666666666666,
             "#ed7953"
            ],
            [
             0.7777777777777778,
             "#fb9f3a"
            ],
            [
             0.8888888888888888,
             "#fdca26"
            ],
            [
             1,
             "#f0f921"
            ]
           ],
           "sequentialminus": [
            [
             0,
             "#0d0887"
            ],
            [
             0.1111111111111111,
             "#46039f"
            ],
            [
             0.2222222222222222,
             "#7201a8"
            ],
            [
             0.3333333333333333,
             "#9c179e"
            ],
            [
             0.4444444444444444,
             "#bd3786"
            ],
            [
             0.5555555555555556,
             "#d8576b"
            ],
            [
             0.6666666666666666,
             "#ed7953"
            ],
            [
             0.7777777777777778,
             "#fb9f3a"
            ],
            [
             0.8888888888888888,
             "#fdca26"
            ],
            [
             1,
             "#f0f921"
            ]
           ]
          },
          "colorway": [
           "#636efa",
           "#EF553B",
           "#00cc96",
           "#ab63fa",
           "#FFA15A",
           "#19d3f3",
           "#FF6692",
           "#B6E880",
           "#FF97FF",
           "#FECB52"
          ],
          "font": {
           "color": "#2a3f5f"
          },
          "geo": {
           "bgcolor": "white",
           "lakecolor": "white",
           "landcolor": "#E5ECF6",
           "showlakes": true,
           "showland": true,
           "subunitcolor": "white"
          },
          "hoverlabel": {
           "align": "left"
          },
          "hovermode": "closest",
          "mapbox": {
           "style": "light"
          },
          "paper_bgcolor": "white",
          "plot_bgcolor": "#E5ECF6",
          "polar": {
           "angularaxis": {
            "gridcolor": "white",
            "linecolor": "white",
            "ticks": ""
           },
           "bgcolor": "#E5ECF6",
           "radialaxis": {
            "gridcolor": "white",
            "linecolor": "white",
            "ticks": ""
           }
          },
          "scene": {
           "xaxis": {
            "backgroundcolor": "#E5ECF6",
            "gridcolor": "white",
            "gridwidth": 2,
            "linecolor": "white",
            "showbackground": true,
            "ticks": "",
            "zerolinecolor": "white"
           },
           "yaxis": {
            "backgroundcolor": "#E5ECF6",
            "gridcolor": "white",
            "gridwidth": 2,
            "linecolor": "white",
            "showbackground": true,
            "ticks": "",
            "zerolinecolor": "white"
           },
           "zaxis": {
            "backgroundcolor": "#E5ECF6",
            "gridcolor": "white",
            "gridwidth": 2,
            "linecolor": "white",
            "showbackground": true,
            "ticks": "",
            "zerolinecolor": "white"
           }
          },
          "shapedefaults": {
           "line": {
            "color": "#2a3f5f"
           }
          },
          "ternary": {
           "aaxis": {
            "gridcolor": "white",
            "linecolor": "white",
            "ticks": ""
           },
           "baxis": {
            "gridcolor": "white",
            "linecolor": "white",
            "ticks": ""
           },
           "bgcolor": "#E5ECF6",
           "caxis": {
            "gridcolor": "white",
            "linecolor": "white",
            "ticks": ""
           }
          },
          "title": {
           "x": 0.05
          },
          "xaxis": {
           "automargin": true,
           "gridcolor": "white",
           "linecolor": "white",
           "ticks": "",
           "title": {
            "standoff": 15
           },
           "zerolinecolor": "white",
           "zerolinewidth": 2
          },
          "yaxis": {
           "automargin": true,
           "gridcolor": "white",
           "linecolor": "white",
           "ticks": "",
           "title": {
            "standoff": 15
           },
           "zerolinecolor": "white",
           "zerolinewidth": 2
          }
         }
        },
        "title": {
         "font": {
          "color": "#4D5663"
         }
        },
        "xaxis": {
         "gridcolor": "#E1E5ED",
         "showgrid": true,
         "tickfont": {
          "color": "#4D5663"
         },
         "title": {
          "font": {
           "color": "#4D5663"
          },
          "text": ""
         },
         "zerolinecolor": "#E1E5ED"
        },
        "yaxis": {
         "gridcolor": "#E1E5ED",
         "showgrid": true,
         "tickfont": {
          "color": "#4D5663"
         },
         "title": {
          "font": {
           "color": "#4D5663"
          },
          "text": ""
         },
         "zerolinecolor": "#E1E5ED"
        }
       }
      },
      "text/html": [
       "<div>                            <div id=\"4ded7e27-1239-4f83-b8b0-b59d8f53a2ab\" class=\"plotly-graph-div\" style=\"height:525px; width:100%;\"></div>            <script type=\"text/javascript\">                require([\"plotly\"], function(Plotly) {                    window.PLOTLYENV=window.PLOTLYENV || {};\n",
       "                    window.PLOTLYENV.BASE_URL='https://plot.ly';                                    if (document.getElementById(\"4ded7e27-1239-4f83-b8b0-b59d8f53a2ab\")) {                    Plotly.newPlot(                        \"4ded7e27-1239-4f83-b8b0-b59d8f53a2ab\",                        [{\"marker\":{\"color\":[\"rgb(255, 153, 51)\",\"rgb(55, 128, 191)\",\"rgb(50, 171, 96)\",\"rgb(128, 0, 128)\",\"rgb(219, 64, 82)\",\"rgb(0, 128, 128)\",\"rgb(255, 255, 51)\",\"rgb(128, 128, 0)\",\"rgb(251, 128, 114)\",\"rgb(128, 177, 211)\"],\"line\":{\"width\":1.3},\"size\":[82,64,83,40,55,55,40,76,17,71,59,25,63,67,45,39,17,30,76,45,112,45,27,63,75,79,60,13,72,73,88,81,55,36,70,60,56,24,94,86,29,68,30,88,59,25,79,37,109,65,39,65,98,54,82,87,67,67,37,97,32,67,64,81,52,94,74,12,65,70,90,52,69,79,47,33,70,37,50,83,71,23,30,63,80,91,50,94,19,41,39,36,77,91,59,84,47,47,63,85],\"symbol\":\"circle\"},\"mode\":\"markers\",\"text\":\"\",\"x\":[-0.6715841140505145,-0.015693512274722023,-1.2377868022190277,0.02503655607096757,-0.14529398503449995,-1.0551956430573703,0.23233137831534484,-0.2956574504198168,-0.5577910399776433,1.3738652338159894,-2.9623175823727816,1.4904430345297184,1.039183339678253,-0.7113259936440596,-1.1842573167447745,0.08276897728234352,0.329475561063558,0.4884573064355324,0.33170945240886557,-1.623491342611854,-0.2787006945859761,0.3451219421823229,-0.8463179724936395,1.198615884615791,-1.21520995130495,0.08357517582237833,-0.9168333966717761,0.14444471685492827,-0.7587977901216573,-0.5716253932588715,-0.5155445307260258,0.039690930351866376,0.45206315536669267,0.25822078314915525,0.6795014499531823,-0.5258381951483264,-0.5831900803018422,0.9433672570698973,-1.2172033264702742,0.4070804402188379,0.9984241995599689,0.17547655482258462,-0.4864382830689831,-1.1725144840193726,1.2159970426643887,2.2007383884166125,-1.447909129888451,-1.2405381762638814,0.08017130631382811,-2.4146038180313445,0.24500705463654993,1.0955121238600343,0.07840931223258185,-1.0910806569187692,0.8837375823403211,-0.6788158992187295,-0.11096246412127025,-0.18905143074917843,-0.18057514475557498,0.6162366738892845,0.16758644721112217,-1.552022094532808,-0.15980187798785894,0.684059048953964,0.08319961960883286,-0.1393646482722601,-2.504160913360558,0.5878659446965919,1.635811129335889,1.9114127993924863,-0.7805028079982012,0.1596568880233185,0.04155434974831334,1.0035541939648416,0.8908357638671642,0.1327051615657846,-0.3952116467445707,0.7864341312472358,0.38666747641392035,0.14471853623258493,1.431655710690944,-0.11781504624255924,1.4974434253457516,-0.7964145225371747,-1.3699600853577067,-0.9618089897181643,-0.827111687389078,-0.7046529758368414,0.8828852015707367,-0.706753026854823,-1.390935846156628,-1.0817460195694732,0.9059710010262795,1.6281493928309418,-1.5741581898416985,-1.1456360795171043,0.5647014328630369,1.4079302677481942,0.7015348136215821,0.2996814140958031],\"y\":[2.2584707094043437,-0.7302799304607928,-0.2639441560358485,-1.6907250644742915,0.1254040074044843,1.3653684572122151,-0.8993710510320301,1.3637219597500265,-0.9949884716772304,1.3124196810371618,0.13120330179599704,0.24421489269566785,-0.27027514734432023,2.4192473141037873,0.07051174070187619,1.1454944026229976,1.3978441309027008,-0.8020321670729008,0.23465940010652886,0.27772437241707726,-0.023704226665142523,1.0647734889326985,-0.1299940741540082,-0.8947487564886276,-0.8601967942699728,-0.31182841235252173,0.7008025244702615,1.462640550182099,-0.7168406874680995,-0.533752063962401,-0.3383209072280021,2.141940772311467,-0.2179188511702646,0.7234207747726848,-1.539763104939272,-0.208167932281236,-0.7514823675298156,0.035625121367857726,0.9241782089734557,0.25995515135379726,0.8840298645904345,1.621531593225492,-1.0862693306485376,-0.9298244982592239,1.0305804958400764,-0.3028330445145502,-0.3412703213179675,0.24259140471291563,0.7725146061486692,-0.5627322260108164,-1.3362173833170023,-0.8364666429820613,-1.8649422541480647,-0.04000503321453959,-0.516321928580932,0.08082616339686961,1.3944373699957966,-0.17216818877174742,-0.5934447292701355,0.10764914753318927,-0.2667606811527233,-1.0162205575249617,-0.1144380817846967,1.4406345038428472,-0.7425514219222027,-1.0606788949699955,-1.586021525034324,-0.12104202346651638,0.8521010224489876,-0.9966586709814385,-0.7121334921084088,-0.4637882083535036,-0.11250665600437545,-0.8411356640052431,-0.7045662925272004,-0.6948250878248523,0.5000878197913172,-0.3528712808109637,-0.09557363709951629,0.11364046061839493,-1.015457474819926,0.36528363055720064,0.6711251693871432,0.7601384575280092,0.4321696477454787,0.6833655360978901,1.7310669374017902,0.4262696812048567,-0.2656194098492696,1.5645661055838156,-0.033652820429172794,-1.0858452674326182,-0.9708252180947552,1.771751835446405,-0.7925116693718385,-1.3470060707018487,0.006208722375716201,-1.499857075979689,-0.8887702919102793,-0.43945889066964533],\"type\":\"scatter\"}],                        {\"legend\":{\"bgcolor\":\"#F5F6F9\",\"font\":{\"color\":\"#4D5663\"}},\"paper_bgcolor\":\"#F5F6F9\",\"plot_bgcolor\":\"#F5F6F9\",\"template\":{\"data\":{\"barpolar\":[{\"marker\":{\"line\":{\"color\":\"#E5ECF6\",\"width\":0.5},\"pattern\":{\"fillmode\":\"overlay\",\"size\":10,\"solidity\":0.2}},\"type\":\"barpolar\"}],\"bar\":[{\"error_x\":{\"color\":\"#2a3f5f\"},\"error_y\":{\"color\":\"#2a3f5f\"},\"marker\":{\"line\":{\"color\":\"#E5ECF6\",\"width\":0.5},\"pattern\":{\"fillmode\":\"overlay\",\"size\":10,\"solidity\":0.2}},\"type\":\"bar\"}],\"carpet\":[{\"aaxis\":{\"endlinecolor\":\"#2a3f5f\",\"gridcolor\":\"white\",\"linecolor\":\"white\",\"minorgridcolor\":\"white\",\"startlinecolor\":\"#2a3f5f\"},\"baxis\":{\"endlinecolor\":\"#2a3f5f\",\"gridcolor\":\"white\",\"linecolor\":\"white\",\"minorgridcolor\":\"white\",\"startlinecolor\":\"#2a3f5f\"},\"type\":\"carpet\"}],\"choropleth\":[{\"colorbar\":{\"outlinewidth\":0,\"ticks\":\"\"},\"type\":\"choropleth\"}],\"contourcarpet\":[{\"colorbar\":{\"outlinewidth\":0,\"ticks\":\"\"},\"type\":\"contourcarpet\"}],\"contour\":[{\"colorbar\":{\"outlinewidth\":0,\"ticks\":\"\"},\"colorscale\":[[0.0,\"#0d0887\"],[0.1111111111111111,\"#46039f\"],[0.2222222222222222,\"#7201a8\"],[0.3333333333333333,\"#9c179e\"],[0.4444444444444444,\"#bd3786\"],[0.5555555555555556,\"#d8576b\"],[0.6666666666666666,\"#ed7953\"],[0.7777777777777778,\"#fb9f3a\"],[0.8888888888888888,\"#fdca26\"],[1.0,\"#f0f921\"]],\"type\":\"contour\"}],\"heatmapgl\":[{\"colorbar\":{\"outlinewidth\":0,\"ticks\":\"\"},\"colorscale\":[[0.0,\"#0d0887\"],[0.1111111111111111,\"#46039f\"],[0.2222222222222222,\"#7201a8\"],[0.3333333333333333,\"#9c179e\"],[0.4444444444444444,\"#bd3786\"],[0.5555555555555556,\"#d8576b\"],[0.6666666666666666,\"#ed7953\"],[0.7777777777777778,\"#fb9f3a\"],[0.8888888888888888,\"#fdca26\"],[1.0,\"#f0f921\"]],\"type\":\"heatmapgl\"}],\"heatmap\":[{\"colorbar\":{\"outlinewidth\":0,\"ticks\":\"\"},\"colorscale\":[[0.0,\"#0d0887\"],[0.1111111111111111,\"#46039f\"],[0.2222222222222222,\"#7201a8\"],[0.3333333333333333,\"#9c179e\"],[0.4444444444444444,\"#bd3786\"],[0.5555555555555556,\"#d8576b\"],[0.6666666666666666,\"#ed7953\"],[0.7777777777777778,\"#fb9f3a\"],[0.8888888888888888,\"#fdca26\"],[1.0,\"#f0f921\"]],\"type\":\"heatmap\"}],\"histogram2dcontour\":[{\"colorbar\":{\"outlinewidth\":0,\"ticks\":\"\"},\"colorscale\":[[0.0,\"#0d0887\"],[0.1111111111111111,\"#46039f\"],[0.2222222222222222,\"#7201a8\"],[0.3333333333333333,\"#9c179e\"],[0.4444444444444444,\"#bd3786\"],[0.5555555555555556,\"#d8576b\"],[0.6666666666666666,\"#ed7953\"],[0.7777777777777778,\"#fb9f3a\"],[0.8888888888888888,\"#fdca26\"],[1.0,\"#f0f921\"]],\"type\":\"histogram2dcontour\"}],\"histogram2d\":[{\"colorbar\":{\"outlinewidth\":0,\"ticks\":\"\"},\"colorscale\":[[0.0,\"#0d0887\"],[0.1111111111111111,\"#46039f\"],[0.2222222222222222,\"#7201a8\"],[0.3333333333333333,\"#9c179e\"],[0.4444444444444444,\"#bd3786\"],[0.5555555555555556,\"#d8576b\"],[0.6666666666666666,\"#ed7953\"],[0.7777777777777778,\"#fb9f3a\"],[0.8888888888888888,\"#fdca26\"],[1.0,\"#f0f921\"]],\"type\":\"histogram2d\"}],\"histogram\":[{\"marker\":{\"pattern\":{\"fillmode\":\"overlay\",\"size\":10,\"solidity\":0.2}},\"type\":\"histogram\"}],\"mesh3d\":[{\"colorbar\":{\"outlinewidth\":0,\"ticks\":\"\"},\"type\":\"mesh3d\"}],\"parcoords\":[{\"line\":{\"colorbar\":{\"outlinewidth\":0,\"ticks\":\"\"}},\"type\":\"parcoords\"}],\"pie\":[{\"automargin\":true,\"type\":\"pie\"}],\"scatter3d\":[{\"line\":{\"colorbar\":{\"outlinewidth\":0,\"ticks\":\"\"}},\"marker\":{\"colorbar\":{\"outlinewidth\":0,\"ticks\":\"\"}},\"type\":\"scatter3d\"}],\"scattercarpet\":[{\"marker\":{\"colorbar\":{\"outlinewidth\":0,\"ticks\":\"\"}},\"type\":\"scattercarpet\"}],\"scattergeo\":[{\"marker\":{\"colorbar\":{\"outlinewidth\":0,\"ticks\":\"\"}},\"type\":\"scattergeo\"}],\"scattergl\":[{\"marker\":{\"colorbar\":{\"outlinewidth\":0,\"ticks\":\"\"}},\"type\":\"scattergl\"}],\"scattermapbox\":[{\"marker\":{\"colorbar\":{\"outlinewidth\":0,\"ticks\":\"\"}},\"type\":\"scattermapbox\"}],\"scatterpolargl\":[{\"marker\":{\"colorbar\":{\"outlinewidth\":0,\"ticks\":\"\"}},\"type\":\"scatterpolargl\"}],\"scatterpolar\":[{\"marker\":{\"colorbar\":{\"outlinewidth\":0,\"ticks\":\"\"}},\"type\":\"scatterpolar\"}],\"scatter\":[{\"marker\":{\"colorbar\":{\"outlinewidth\":0,\"ticks\":\"\"}},\"type\":\"scatter\"}],\"scatterternary\":[{\"marker\":{\"colorbar\":{\"outlinewidth\":0,\"ticks\":\"\"}},\"type\":\"scatterternary\"}],\"surface\":[{\"colorbar\":{\"outlinewidth\":0,\"ticks\":\"\"},\"colorscale\":[[0.0,\"#0d0887\"],[0.1111111111111111,\"#46039f\"],[0.2222222222222222,\"#7201a8\"],[0.3333333333333333,\"#9c179e\"],[0.4444444444444444,\"#bd3786\"],[0.5555555555555556,\"#d8576b\"],[0.6666666666666666,\"#ed7953\"],[0.7777777777777778,\"#fb9f3a\"],[0.8888888888888888,\"#fdca26\"],[1.0,\"#f0f921\"]],\"type\":\"surface\"}],\"table\":[{\"cells\":{\"fill\":{\"color\":\"#EBF0F8\"},\"line\":{\"color\":\"white\"}},\"header\":{\"fill\":{\"color\":\"#C8D4E3\"},\"line\":{\"color\":\"white\"}},\"type\":\"table\"}]},\"layout\":{\"annotationdefaults\":{\"arrowcolor\":\"#2a3f5f\",\"arrowhead\":0,\"arrowwidth\":1},\"autotypenumbers\":\"strict\",\"coloraxis\":{\"colorbar\":{\"outlinewidth\":0,\"ticks\":\"\"}},\"colorscale\":{\"diverging\":[[0,\"#8e0152\"],[0.1,\"#c51b7d\"],[0.2,\"#de77ae\"],[0.3,\"#f1b6da\"],[0.4,\"#fde0ef\"],[0.5,\"#f7f7f7\"],[0.6,\"#e6f5d0\"],[0.7,\"#b8e186\"],[0.8,\"#7fbc41\"],[0.9,\"#4d9221\"],[1,\"#276419\"]],\"sequential\":[[0.0,\"#0d0887\"],[0.1111111111111111,\"#46039f\"],[0.2222222222222222,\"#7201a8\"],[0.3333333333333333,\"#9c179e\"],[0.4444444444444444,\"#bd3786\"],[0.5555555555555556,\"#d8576b\"],[0.6666666666666666,\"#ed7953\"],[0.7777777777777778,\"#fb9f3a\"],[0.8888888888888888,\"#fdca26\"],[1.0,\"#f0f921\"]],\"sequentialminus\":[[0.0,\"#0d0887\"],[0.1111111111111111,\"#46039f\"],[0.2222222222222222,\"#7201a8\"],[0.3333333333333333,\"#9c179e\"],[0.4444444444444444,\"#bd3786\"],[0.5555555555555556,\"#d8576b\"],[0.6666666666666666,\"#ed7953\"],[0.7777777777777778,\"#fb9f3a\"],[0.8888888888888888,\"#fdca26\"],[1.0,\"#f0f921\"]]},\"colorway\":[\"#636efa\",\"#EF553B\",\"#00cc96\",\"#ab63fa\",\"#FFA15A\",\"#19d3f3\",\"#FF6692\",\"#B6E880\",\"#FF97FF\",\"#FECB52\"],\"font\":{\"color\":\"#2a3f5f\"},\"geo\":{\"bgcolor\":\"white\",\"lakecolor\":\"white\",\"landcolor\":\"#E5ECF6\",\"showlakes\":true,\"showland\":true,\"subunitcolor\":\"white\"},\"hoverlabel\":{\"align\":\"left\"},\"hovermode\":\"closest\",\"mapbox\":{\"style\":\"light\"},\"paper_bgcolor\":\"white\",\"plot_bgcolor\":\"#E5ECF6\",\"polar\":{\"angularaxis\":{\"gridcolor\":\"white\",\"linecolor\":\"white\",\"ticks\":\"\"},\"bgcolor\":\"#E5ECF6\",\"radialaxis\":{\"gridcolor\":\"white\",\"linecolor\":\"white\",\"ticks\":\"\"}},\"scene\":{\"xaxis\":{\"backgroundcolor\":\"#E5ECF6\",\"gridcolor\":\"white\",\"gridwidth\":2,\"linecolor\":\"white\",\"showbackground\":true,\"ticks\":\"\",\"zerolinecolor\":\"white\"},\"yaxis\":{\"backgroundcolor\":\"#E5ECF6\",\"gridcolor\":\"white\",\"gridwidth\":2,\"linecolor\":\"white\",\"showbackground\":true,\"ticks\":\"\",\"zerolinecolor\":\"white\"},\"zaxis\":{\"backgroundcolor\":\"#E5ECF6\",\"gridcolor\":\"white\",\"gridwidth\":2,\"linecolor\":\"white\",\"showbackground\":true,\"ticks\":\"\",\"zerolinecolor\":\"white\"}},\"shapedefaults\":{\"line\":{\"color\":\"#2a3f5f\"}},\"ternary\":{\"aaxis\":{\"gridcolor\":\"white\",\"linecolor\":\"white\",\"ticks\":\"\"},\"baxis\":{\"gridcolor\":\"white\",\"linecolor\":\"white\",\"ticks\":\"\"},\"bgcolor\":\"#E5ECF6\",\"caxis\":{\"gridcolor\":\"white\",\"linecolor\":\"white\",\"ticks\":\"\"}},\"title\":{\"x\":0.05},\"xaxis\":{\"automargin\":true,\"gridcolor\":\"white\",\"linecolor\":\"white\",\"ticks\":\"\",\"title\":{\"standoff\":15},\"zerolinecolor\":\"white\",\"zerolinewidth\":2},\"yaxis\":{\"automargin\":true,\"gridcolor\":\"white\",\"linecolor\":\"white\",\"ticks\":\"\",\"title\":{\"standoff\":15},\"zerolinecolor\":\"white\",\"zerolinewidth\":2}}},\"title\":{\"font\":{\"color\":\"#4D5663\"}},\"xaxis\":{\"gridcolor\":\"#E1E5ED\",\"showgrid\":true,\"tickfont\":{\"color\":\"#4D5663\"},\"title\":{\"font\":{\"color\":\"#4D5663\"},\"text\":\"\"},\"zerolinecolor\":\"#E1E5ED\"},\"yaxis\":{\"gridcolor\":\"#E1E5ED\",\"showgrid\":true,\"tickfont\":{\"color\":\"#4D5663\"},\"title\":{\"font\":{\"color\":\"#4D5663\"},\"text\":\"\"},\"zerolinecolor\":\"#E1E5ED\"}},                        {\"showLink\": true, \"linkText\": \"Export to plot.ly\", \"plotlyServerURL\": \"https://plot.ly\", \"responsive\": true}                    ).then(function(){\n",
       "                            \n",
       "var gd = document.getElementById('4ded7e27-1239-4f83-b8b0-b59d8f53a2ab');\n",
       "var x = new MutationObserver(function (mutations, observer) {{\n",
       "        var display = window.getComputedStyle(gd).display;\n",
       "        if (!display || display === 'none') {{\n",
       "            console.log([gd, 'removed!']);\n",
       "            Plotly.purge(gd);\n",
       "            observer.disconnect();\n",
       "        }}\n",
       "}});\n",
       "\n",
       "// Listen for the removal of the full notebook cells\n",
       "var notebookContainer = gd.closest('#notebook-container');\n",
       "if (notebookContainer) {{\n",
       "    x.observe(notebookContainer, {childList: true});\n",
       "}}\n",
       "\n",
       "// Listen for the clearing of the current output cell\n",
       "var outputEl = gd.closest('.output');\n",
       "if (outputEl) {{\n",
       "    x.observe(outputEl, {childList: true});\n",
       "}}\n",
       "\n",
       "                        })                };                });            </script>        </div>"
      ]
     },
     "metadata": {},
     "output_type": "display_data"
    }
   ],
   "source": [
    "df.iplot(kind=\"bubble\", x=\"A\", y=\"B\", size=\"C\")"
   ]
  },
  {
   "cell_type": "code",
   "execution_count": 46,
   "id": "f96ebc1a",
   "metadata": {},
   "outputs": [
    {
     "data": {
      "application/vnd.plotly.v1+json": {
       "config": {
        "linkText": "Export to plot.ly",
        "plotlyServerURL": "https://plot.ly",
        "showLink": true
       },
       "data": [
        {
         "histfunc": "count",
         "histnorm": "",
         "marker": {
          "color": "rgba(255, 153, 51, 1.0)",
          "line": {
           "color": "#4D5663",
           "width": 1.3
          }
         },
         "name": "A",
         "nbinsx": 10,
         "opacity": 0.8,
         "orientation": "v",
         "type": "histogram",
         "x": [
          -0.6715841140505145,
          -0.015693512274722023,
          -1.2377868022190277,
          0.02503655607096757,
          -0.14529398503449995,
          -1.0551956430573703,
          0.23233137831534484,
          -0.2956574504198168,
          -0.5577910399776433,
          1.3738652338159894,
          -2.9623175823727816,
          1.4904430345297184,
          1.039183339678253,
          -0.7113259936440596,
          -1.1842573167447745,
          0.08276897728234352,
          0.329475561063558,
          0.4884573064355324,
          0.33170945240886557,
          -1.623491342611854,
          -0.2787006945859761,
          0.3451219421823229,
          -0.8463179724936395,
          1.198615884615791,
          -1.21520995130495,
          0.08357517582237833,
          -0.9168333966717761,
          0.14444471685492827,
          -0.7587977901216573,
          -0.5716253932588715,
          -0.5155445307260258,
          0.039690930351866376,
          0.45206315536669267,
          0.25822078314915525,
          0.6795014499531823,
          -0.5258381951483264,
          -0.5831900803018422,
          0.9433672570698973,
          -1.2172033264702742,
          0.4070804402188379,
          0.9984241995599689,
          0.17547655482258462,
          -0.4864382830689831,
          -1.1725144840193726,
          1.2159970426643887,
          2.2007383884166125,
          -1.447909129888451,
          -1.2405381762638814,
          0.08017130631382811,
          -2.4146038180313445,
          0.24500705463654993,
          1.0955121238600343,
          0.07840931223258185,
          -1.0910806569187692,
          0.8837375823403211,
          -0.6788158992187295,
          -0.11096246412127025,
          -0.18905143074917843,
          -0.18057514475557498,
          0.6162366738892845,
          0.16758644721112217,
          -1.552022094532808,
          -0.15980187798785894,
          0.684059048953964,
          0.08319961960883286,
          -0.1393646482722601,
          -2.504160913360558,
          0.5878659446965919,
          1.635811129335889,
          1.9114127993924863,
          -0.7805028079982012,
          0.1596568880233185,
          0.04155434974831334,
          1.0035541939648416,
          0.8908357638671642,
          0.1327051615657846,
          -0.3952116467445707,
          0.7864341312472358,
          0.38666747641392035,
          0.14471853623258493,
          1.431655710690944,
          -0.11781504624255924,
          1.4974434253457516,
          -0.7964145225371747,
          -1.3699600853577067,
          -0.9618089897181643,
          -0.827111687389078,
          -0.7046529758368414,
          0.8828852015707367,
          -0.706753026854823,
          -1.390935846156628,
          -1.0817460195694732,
          0.9059710010262795,
          1.6281493928309418,
          -1.5741581898416985,
          -1.1456360795171043,
          0.5647014328630369,
          1.4079302677481942,
          0.7015348136215821,
          0.2996814140958031
         ],
         "xaxis": "x",
         "yaxis": "y"
        },
        {
         "line": {
          "color": "rgba(128, 128, 128, 1.0)",
          "dash": "solid",
          "shape": "linear",
          "width": 1.3
         },
         "marker": {
          "size": 2,
          "symbol": "circle"
         },
         "mode": "markers",
         "name": "A",
         "text": "",
         "type": "scatter",
         "x": [
          2.2584707094043437,
          -0.7302799304607928,
          -0.2639441560358485,
          -1.6907250644742915,
          0.1254040074044843,
          1.3653684572122151,
          -0.8993710510320301,
          1.3637219597500265,
          -0.9949884716772304,
          1.3124196810371618,
          0.13120330179599704,
          0.24421489269566785,
          -0.27027514734432023,
          2.4192473141037873,
          0.07051174070187619,
          1.1454944026229976,
          1.3978441309027008,
          -0.8020321670729008,
          0.23465940010652886,
          0.27772437241707726,
          -0.023704226665142523,
          1.0647734889326985,
          -0.1299940741540082,
          -0.8947487564886276,
          -0.8601967942699728,
          -0.31182841235252173,
          0.7008025244702615,
          1.462640550182099,
          -0.7168406874680995,
          -0.533752063962401,
          -0.3383209072280021,
          2.141940772311467,
          -0.2179188511702646,
          0.7234207747726848,
          -1.539763104939272,
          -0.208167932281236,
          -0.7514823675298156,
          0.035625121367857726,
          0.9241782089734557,
          0.25995515135379726,
          0.8840298645904345,
          1.621531593225492,
          -1.0862693306485376,
          -0.9298244982592239,
          1.0305804958400764,
          -0.3028330445145502,
          -0.3412703213179675,
          0.24259140471291563,
          0.7725146061486692,
          -0.5627322260108164,
          -1.3362173833170023,
          -0.8364666429820613,
          -1.8649422541480647,
          -0.04000503321453959,
          -0.516321928580932,
          0.08082616339686961,
          1.3944373699957966,
          -0.17216818877174742,
          -0.5934447292701355,
          0.10764914753318927,
          -0.2667606811527233,
          -1.0162205575249617,
          -0.1144380817846967,
          1.4406345038428472,
          -0.7425514219222027,
          -1.0606788949699955,
          -1.586021525034324,
          -0.12104202346651638,
          0.8521010224489876,
          -0.9966586709814385,
          -0.7121334921084088,
          -0.4637882083535036,
          -0.11250665600437545,
          -0.8411356640052431,
          -0.7045662925272004,
          -0.6948250878248523,
          0.5000878197913172,
          -0.3528712808109637,
          -0.09557363709951629,
          0.11364046061839493,
          -1.015457474819926,
          0.36528363055720064,
          0.6711251693871432,
          0.7601384575280092,
          0.4321696477454787,
          0.6833655360978901,
          1.7310669374017902,
          0.4262696812048567,
          -0.2656194098492696,
          1.5645661055838156,
          -0.033652820429172794,
          -1.0858452674326182,
          -0.9708252180947552,
          1.771751835446405,
          -0.7925116693718385,
          -1.3470060707018487,
          0.006208722375716201,
          -1.499857075979689,
          -0.8887702919102793,
          -0.43945889066964533
         ],
         "xaxis": "x2",
         "y": [
          -0.6715841140505145,
          -0.015693512274722023,
          -1.2377868022190277,
          0.02503655607096757,
          -0.14529398503449995,
          -1.0551956430573703,
          0.23233137831534484,
          -0.2956574504198168,
          -0.5577910399776433,
          1.3738652338159894,
          -2.9623175823727816,
          1.4904430345297184,
          1.039183339678253,
          -0.7113259936440596,
          -1.1842573167447745,
          0.08276897728234352,
          0.329475561063558,
          0.4884573064355324,
          0.33170945240886557,
          -1.623491342611854,
          -0.2787006945859761,
          0.3451219421823229,
          -0.8463179724936395,
          1.198615884615791,
          -1.21520995130495,
          0.08357517582237833,
          -0.9168333966717761,
          0.14444471685492827,
          -0.7587977901216573,
          -0.5716253932588715,
          -0.5155445307260258,
          0.039690930351866376,
          0.45206315536669267,
          0.25822078314915525,
          0.6795014499531823,
          -0.5258381951483264,
          -0.5831900803018422,
          0.9433672570698973,
          -1.2172033264702742,
          0.4070804402188379,
          0.9984241995599689,
          0.17547655482258462,
          -0.4864382830689831,
          -1.1725144840193726,
          1.2159970426643887,
          2.2007383884166125,
          -1.447909129888451,
          -1.2405381762638814,
          0.08017130631382811,
          -2.4146038180313445,
          0.24500705463654993,
          1.0955121238600343,
          0.07840931223258185,
          -1.0910806569187692,
          0.8837375823403211,
          -0.6788158992187295,
          -0.11096246412127025,
          -0.18905143074917843,
          -0.18057514475557498,
          0.6162366738892845,
          0.16758644721112217,
          -1.552022094532808,
          -0.15980187798785894,
          0.684059048953964,
          0.08319961960883286,
          -0.1393646482722601,
          -2.504160913360558,
          0.5878659446965919,
          1.635811129335889,
          1.9114127993924863,
          -0.7805028079982012,
          0.1596568880233185,
          0.04155434974831334,
          1.0035541939648416,
          0.8908357638671642,
          0.1327051615657846,
          -0.3952116467445707,
          0.7864341312472358,
          0.38666747641392035,
          0.14471853623258493,
          1.431655710690944,
          -0.11781504624255924,
          1.4974434253457516,
          -0.7964145225371747,
          -1.3699600853577067,
          -0.9618089897181643,
          -0.827111687389078,
          -0.7046529758368414,
          0.8828852015707367,
          -0.706753026854823,
          -1.390935846156628,
          -1.0817460195694732,
          0.9059710010262795,
          1.6281493928309418,
          -1.5741581898416985,
          -1.1456360795171043,
          0.5647014328630369,
          1.4079302677481942,
          0.7015348136215821,
          0.2996814140958031
         ],
         "yaxis": "y2"
        },
        {
         "line": {
          "color": "rgba(128, 128, 128, 1.0)",
          "dash": "solid",
          "shape": "linear",
          "width": 1.3
         },
         "marker": {
          "size": 2,
          "symbol": "circle"
         },
         "mode": "markers",
         "name": "A",
         "text": "",
         "type": "scatter",
         "x": [
          0.9715485590504849,
          0.17805578079037374,
          1.0226214736510901,
          -0.8694381195156575,
          -0.2316616538513763,
          -0.23514648178048406,
          -0.9084366733358773,
          0.7082960893309674,
          -1.9153067609093344,
          0.49221579376002955,
          -0.05003965714440723,
          -1.5680370294502035,
          0.14448221072270265,
          0.3073580790559129,
          -0.6840199805478799,
          -0.9381329948562944,
          -1.9087349212901707,
          -1.3269052489638635,
          0.7081186471450253,
          -0.6756607826885137,
          2.309573885547715,
          -0.6744408554771967,
          -1.4535000664961162,
          0.15164881301305483,
          0.6961187255522358,
          0.8725241037169394,
          0.01979758044591536,
          -2.0999640292701853,
          0.5247366656699252,
          0.5773432872959063,
          1.277207740501427,
          0.9583546716298691,
          -0.2331429642108506,
          -1.0527977933110753,
          0.45463559994258035,
          0.0011469180817339204,
          -0.1939706845144443,
          -1.6231410749321515,
          1.532026544518872,
          1.1603622659164887,
          -1.3804331823497566,
          0.36900899034704016,
          -1.3417912842517399,
          1.2395811511921635,
          -0.021129116765842865,
          -1.557394979474704,
          0.870542918565471,
          -1.0155395128582034,
          2.200040684246524,
          0.23668204943963497,
          -0.9497257565370577,
          0.2211962306990893,
          1.7023136503709666,
          -0.2737581003282735,
          1.00249312945178,
          1.211561846991026,
          0.3219714204720471,
          0.2996112156365192,
          -1.0321357177428103,
          1.6807342640809886,
          -1.2506099480148745,
          0.33464862133670836,
          0.1898629938142908,
          0.9675282440215491,
          -0.3537828166578415,
          1.5126369413241667,
          0.6176407204564663,
          -2.163546102762687,
          0.2478291332533252,
          0.455503278492527,
          1.3607904406045999,
          -0.3425062352366064,
          0.4030918801177125,
          0.8520217405723798,
          -0.5534302121023642,
          -1.1974868026525782,
          0.4460212772296304,
          -1.0305096922042194,
          -0.4515010192496534,
          1.0174930183935191,
          0.5053496144030297,
          -1.6408859443445472,
          -1.3365466135761324,
          0.13205516684893642,
          0.9030577153865585,
          1.4137698249332808,
          -0.44152078212550944,
          1.5099785124243106,
          -1.8088220005603304,
          -0.8505127001965405,
          -0.930186014824073,
          -1.0502128999293106,
          0.7582441720151186,
          1.3916847146647193,
          -0.0316486389386445,
          1.0649078768796696,
          -0.5623862247786948,
          -0.5834027047758633,
          0.16086133678899775,
          1.1244623697081284
         ],
         "xaxis": "x3",
         "y": [
          -0.6715841140505145,
          -0.015693512274722023,
          -1.2377868022190277,
          0.02503655607096757,
          -0.14529398503449995,
          -1.0551956430573703,
          0.23233137831534484,
          -0.2956574504198168,
          -0.5577910399776433,
          1.3738652338159894,
          -2.9623175823727816,
          1.4904430345297184,
          1.039183339678253,
          -0.7113259936440596,
          -1.1842573167447745,
          0.08276897728234352,
          0.329475561063558,
          0.4884573064355324,
          0.33170945240886557,
          -1.623491342611854,
          -0.2787006945859761,
          0.3451219421823229,
          -0.8463179724936395,
          1.198615884615791,
          -1.21520995130495,
          0.08357517582237833,
          -0.9168333966717761,
          0.14444471685492827,
          -0.7587977901216573,
          -0.5716253932588715,
          -0.5155445307260258,
          0.039690930351866376,
          0.45206315536669267,
          0.25822078314915525,
          0.6795014499531823,
          -0.5258381951483264,
          -0.5831900803018422,
          0.9433672570698973,
          -1.2172033264702742,
          0.4070804402188379,
          0.9984241995599689,
          0.17547655482258462,
          -0.4864382830689831,
          -1.1725144840193726,
          1.2159970426643887,
          2.2007383884166125,
          -1.447909129888451,
          -1.2405381762638814,
          0.08017130631382811,
          -2.4146038180313445,
          0.24500705463654993,
          1.0955121238600343,
          0.07840931223258185,
          -1.0910806569187692,
          0.8837375823403211,
          -0.6788158992187295,
          -0.11096246412127025,
          -0.18905143074917843,
          -0.18057514475557498,
          0.6162366738892845,
          0.16758644721112217,
          -1.552022094532808,
          -0.15980187798785894,
          0.684059048953964,
          0.08319961960883286,
          -0.1393646482722601,
          -2.504160913360558,
          0.5878659446965919,
          1.635811129335889,
          1.9114127993924863,
          -0.7805028079982012,
          0.1596568880233185,
          0.04155434974831334,
          1.0035541939648416,
          0.8908357638671642,
          0.1327051615657846,
          -0.3952116467445707,
          0.7864341312472358,
          0.38666747641392035,
          0.14471853623258493,
          1.431655710690944,
          -0.11781504624255924,
          1.4974434253457516,
          -0.7964145225371747,
          -1.3699600853577067,
          -0.9618089897181643,
          -0.827111687389078,
          -0.7046529758368414,
          0.8828852015707367,
          -0.706753026854823,
          -1.390935846156628,
          -1.0817460195694732,
          0.9059710010262795,
          1.6281493928309418,
          -1.5741581898416985,
          -1.1456360795171043,
          0.5647014328630369,
          1.4079302677481942,
          0.7015348136215821,
          0.2996814140958031
         ],
         "yaxis": "y3"
        },
        {
         "line": {
          "color": "rgba(128, 128, 128, 1.0)",
          "dash": "solid",
          "shape": "linear",
          "width": 1.3
         },
         "marker": {
          "size": 2,
          "symbol": "circle"
         },
         "mode": "markers",
         "name": "A",
         "text": "",
         "type": "scatter",
         "x": [
          1.2788671126878617,
          0.5463490627005372,
          -0.8458274852088671,
          1.891968284906087,
          0.027129520621435557,
          0.9076544818601713,
          1.1428718918578358,
          -0.3596387227045708,
          0.2500227533355477,
          -0.07322678785550782,
          -0.20911214212065374,
          0.523723621573591,
          0.4259764247672888,
          -1.1968758184322306,
          -0.8054767941949154,
          1.8900072380345485,
          0.8452113436466301,
          -0.25414609073347877,
          0.03570855246577367,
          0.14575503135915918,
          2.189428173696937,
          -0.07187860253400183,
          -0.7418466311463111,
          -0.505340193235467,
          -0.4959876377616374,
          -0.21749317450560904,
          0.10492539817008403,
          -0.059598361653984966,
          -0.884962776942417,
          1.3091537990351603,
          1.7323272249030568,
          -1.1585055113970915,
          -1.4797572809249315,
          1.5501511744148435,
          -0.40991876351239337,
          -0.09463390578367643,
          -0.4961731048584968,
          -0.12116479609004391,
          1.5429867747832684,
          2.083823626126322,
          -1.3405618577286778,
          -0.013274360478629371,
          1.4704827400113714,
          -0.09230518925486603,
          -0.1814328005222361,
          1.1937710999811717,
          -0.17038391795488023,
          0.40313263628071977,
          -0.37281732453145733,
          0.3707495163122737,
          0.30920736594324405,
          -0.5702771593764394,
          0.49741067835785063,
          0.3251355812421022,
          0.26196593782269134,
          0.8972217561696456,
          0.21324090680672533,
          -0.592522484752052,
          0.3189074515402922,
          0.46513692270318635,
          -0.2758476538032941,
          0.7688813450982438,
          -0.3319192869248297,
          -1.0340902467079396,
          -0.47875869327376647,
          0.4948476815535337,
          0.5958264226747494,
          0.6503139300524439,
          -1.4830468087573092,
          -0.6463031033931556,
          -0.30555585754444564,
          0.21901772500633013,
          0.6548728016080407,
          1.1596515508110465,
          -0.9449083897526811,
          -0.8559496144959297,
          1.1764890071657674,
          -2.7626589596873967,
          0.34726352104614705,
          -2.0534746469817633,
          -0.0778792691985187,
          -0.79091489232892,
          -1.783799382189531,
          0.876754632425876,
          -0.5064195302925444,
          -0.5587688290364335,
          -0.10191596449244297,
          1.1109009231629037,
          1.3054030990977499,
          1.706073511150618,
          -0.8962883920903764,
          1.1202847972825045,
          -1.6472410388756322,
          -1.6999419548084038,
          0.9423173222319073,
          1.3259604804878835,
          1.1463039571620701,
          0.16192374138738494,
          -0.4302555224507472,
          1.2522124410555802
         ],
         "xaxis": "x4",
         "y": [
          -0.6715841140505145,
          -0.015693512274722023,
          -1.2377868022190277,
          0.02503655607096757,
          -0.14529398503449995,
          -1.0551956430573703,
          0.23233137831534484,
          -0.2956574504198168,
          -0.5577910399776433,
          1.3738652338159894,
          -2.9623175823727816,
          1.4904430345297184,
          1.039183339678253,
          -0.7113259936440596,
          -1.1842573167447745,
          0.08276897728234352,
          0.329475561063558,
          0.4884573064355324,
          0.33170945240886557,
          -1.623491342611854,
          -0.2787006945859761,
          0.3451219421823229,
          -0.8463179724936395,
          1.198615884615791,
          -1.21520995130495,
          0.08357517582237833,
          -0.9168333966717761,
          0.14444471685492827,
          -0.7587977901216573,
          -0.5716253932588715,
          -0.5155445307260258,
          0.039690930351866376,
          0.45206315536669267,
          0.25822078314915525,
          0.6795014499531823,
          -0.5258381951483264,
          -0.5831900803018422,
          0.9433672570698973,
          -1.2172033264702742,
          0.4070804402188379,
          0.9984241995599689,
          0.17547655482258462,
          -0.4864382830689831,
          -1.1725144840193726,
          1.2159970426643887,
          2.2007383884166125,
          -1.447909129888451,
          -1.2405381762638814,
          0.08017130631382811,
          -2.4146038180313445,
          0.24500705463654993,
          1.0955121238600343,
          0.07840931223258185,
          -1.0910806569187692,
          0.8837375823403211,
          -0.6788158992187295,
          -0.11096246412127025,
          -0.18905143074917843,
          -0.18057514475557498,
          0.6162366738892845,
          0.16758644721112217,
          -1.552022094532808,
          -0.15980187798785894,
          0.684059048953964,
          0.08319961960883286,
          -0.1393646482722601,
          -2.504160913360558,
          0.5878659446965919,
          1.635811129335889,
          1.9114127993924863,
          -0.7805028079982012,
          0.1596568880233185,
          0.04155434974831334,
          1.0035541939648416,
          0.8908357638671642,
          0.1327051615657846,
          -0.3952116467445707,
          0.7864341312472358,
          0.38666747641392035,
          0.14471853623258493,
          1.431655710690944,
          -0.11781504624255924,
          1.4974434253457516,
          -0.7964145225371747,
          -1.3699600853577067,
          -0.9618089897181643,
          -0.827111687389078,
          -0.7046529758368414,
          0.8828852015707367,
          -0.706753026854823,
          -1.390935846156628,
          -1.0817460195694732,
          0.9059710010262795,
          1.6281493928309418,
          -1.5741581898416985,
          -1.1456360795171043,
          0.5647014328630369,
          1.4079302677481942,
          0.7015348136215821,
          0.2996814140958031
         ],
         "yaxis": "y4"
        },
        {
         "line": {
          "color": "rgba(128, 128, 128, 1.0)",
          "dash": "solid",
          "shape": "linear",
          "width": 1.3
         },
         "marker": {
          "size": 2,
          "symbol": "circle"
         },
         "mode": "markers",
         "name": "B",
         "text": "",
         "type": "scatter",
         "x": [
          -0.6715841140505145,
          -0.015693512274722023,
          -1.2377868022190277,
          0.02503655607096757,
          -0.14529398503449995,
          -1.0551956430573703,
          0.23233137831534484,
          -0.2956574504198168,
          -0.5577910399776433,
          1.3738652338159894,
          -2.9623175823727816,
          1.4904430345297184,
          1.039183339678253,
          -0.7113259936440596,
          -1.1842573167447745,
          0.08276897728234352,
          0.329475561063558,
          0.4884573064355324,
          0.33170945240886557,
          -1.623491342611854,
          -0.2787006945859761,
          0.3451219421823229,
          -0.8463179724936395,
          1.198615884615791,
          -1.21520995130495,
          0.08357517582237833,
          -0.9168333966717761,
          0.14444471685492827,
          -0.7587977901216573,
          -0.5716253932588715,
          -0.5155445307260258,
          0.039690930351866376,
          0.45206315536669267,
          0.25822078314915525,
          0.6795014499531823,
          -0.5258381951483264,
          -0.5831900803018422,
          0.9433672570698973,
          -1.2172033264702742,
          0.4070804402188379,
          0.9984241995599689,
          0.17547655482258462,
          -0.4864382830689831,
          -1.1725144840193726,
          1.2159970426643887,
          2.2007383884166125,
          -1.447909129888451,
          -1.2405381762638814,
          0.08017130631382811,
          -2.4146038180313445,
          0.24500705463654993,
          1.0955121238600343,
          0.07840931223258185,
          -1.0910806569187692,
          0.8837375823403211,
          -0.6788158992187295,
          -0.11096246412127025,
          -0.18905143074917843,
          -0.18057514475557498,
          0.6162366738892845,
          0.16758644721112217,
          -1.552022094532808,
          -0.15980187798785894,
          0.684059048953964,
          0.08319961960883286,
          -0.1393646482722601,
          -2.504160913360558,
          0.5878659446965919,
          1.635811129335889,
          1.9114127993924863,
          -0.7805028079982012,
          0.1596568880233185,
          0.04155434974831334,
          1.0035541939648416,
          0.8908357638671642,
          0.1327051615657846,
          -0.3952116467445707,
          0.7864341312472358,
          0.38666747641392035,
          0.14471853623258493,
          1.431655710690944,
          -0.11781504624255924,
          1.4974434253457516,
          -0.7964145225371747,
          -1.3699600853577067,
          -0.9618089897181643,
          -0.827111687389078,
          -0.7046529758368414,
          0.8828852015707367,
          -0.706753026854823,
          -1.390935846156628,
          -1.0817460195694732,
          0.9059710010262795,
          1.6281493928309418,
          -1.5741581898416985,
          -1.1456360795171043,
          0.5647014328630369,
          1.4079302677481942,
          0.7015348136215821,
          0.2996814140958031
         ],
         "xaxis": "x5",
         "y": [
          2.2584707094043437,
          -0.7302799304607928,
          -0.2639441560358485,
          -1.6907250644742915,
          0.1254040074044843,
          1.3653684572122151,
          -0.8993710510320301,
          1.3637219597500265,
          -0.9949884716772304,
          1.3124196810371618,
          0.13120330179599704,
          0.24421489269566785,
          -0.27027514734432023,
          2.4192473141037873,
          0.07051174070187619,
          1.1454944026229976,
          1.3978441309027008,
          -0.8020321670729008,
          0.23465940010652886,
          0.27772437241707726,
          -0.023704226665142523,
          1.0647734889326985,
          -0.1299940741540082,
          -0.8947487564886276,
          -0.8601967942699728,
          -0.31182841235252173,
          0.7008025244702615,
          1.462640550182099,
          -0.7168406874680995,
          -0.533752063962401,
          -0.3383209072280021,
          2.141940772311467,
          -0.2179188511702646,
          0.7234207747726848,
          -1.539763104939272,
          -0.208167932281236,
          -0.7514823675298156,
          0.035625121367857726,
          0.9241782089734557,
          0.25995515135379726,
          0.8840298645904345,
          1.621531593225492,
          -1.0862693306485376,
          -0.9298244982592239,
          1.0305804958400764,
          -0.3028330445145502,
          -0.3412703213179675,
          0.24259140471291563,
          0.7725146061486692,
          -0.5627322260108164,
          -1.3362173833170023,
          -0.8364666429820613,
          -1.8649422541480647,
          -0.04000503321453959,
          -0.516321928580932,
          0.08082616339686961,
          1.3944373699957966,
          -0.17216818877174742,
          -0.5934447292701355,
          0.10764914753318927,
          -0.2667606811527233,
          -1.0162205575249617,
          -0.1144380817846967,
          1.4406345038428472,
          -0.7425514219222027,
          -1.0606788949699955,
          -1.586021525034324,
          -0.12104202346651638,
          0.8521010224489876,
          -0.9966586709814385,
          -0.7121334921084088,
          -0.4637882083535036,
          -0.11250665600437545,
          -0.8411356640052431,
          -0.7045662925272004,
          -0.6948250878248523,
          0.5000878197913172,
          -0.3528712808109637,
          -0.09557363709951629,
          0.11364046061839493,
          -1.015457474819926,
          0.36528363055720064,
          0.6711251693871432,
          0.7601384575280092,
          0.4321696477454787,
          0.6833655360978901,
          1.7310669374017902,
          0.4262696812048567,
          -0.2656194098492696,
          1.5645661055838156,
          -0.033652820429172794,
          -1.0858452674326182,
          -0.9708252180947552,
          1.771751835446405,
          -0.7925116693718385,
          -1.3470060707018487,
          0.006208722375716201,
          -1.499857075979689,
          -0.8887702919102793,
          -0.43945889066964533
         ],
         "yaxis": "y5"
        },
        {
         "histfunc": "count",
         "histnorm": "",
         "marker": {
          "color": "rgba(55, 128, 191, 1.0)",
          "line": {
           "color": "#4D5663",
           "width": 1.3
          }
         },
         "name": "B",
         "nbinsx": 10,
         "opacity": 0.8,
         "orientation": "v",
         "type": "histogram",
         "x": [
          2.2584707094043437,
          -0.7302799304607928,
          -0.2639441560358485,
          -1.6907250644742915,
          0.1254040074044843,
          1.3653684572122151,
          -0.8993710510320301,
          1.3637219597500265,
          -0.9949884716772304,
          1.3124196810371618,
          0.13120330179599704,
          0.24421489269566785,
          -0.27027514734432023,
          2.4192473141037873,
          0.07051174070187619,
          1.1454944026229976,
          1.3978441309027008,
          -0.8020321670729008,
          0.23465940010652886,
          0.27772437241707726,
          -0.023704226665142523,
          1.0647734889326985,
          -0.1299940741540082,
          -0.8947487564886276,
          -0.8601967942699728,
          -0.31182841235252173,
          0.7008025244702615,
          1.462640550182099,
          -0.7168406874680995,
          -0.533752063962401,
          -0.3383209072280021,
          2.141940772311467,
          -0.2179188511702646,
          0.7234207747726848,
          -1.539763104939272,
          -0.208167932281236,
          -0.7514823675298156,
          0.035625121367857726,
          0.9241782089734557,
          0.25995515135379726,
          0.8840298645904345,
          1.621531593225492,
          -1.0862693306485376,
          -0.9298244982592239,
          1.0305804958400764,
          -0.3028330445145502,
          -0.3412703213179675,
          0.24259140471291563,
          0.7725146061486692,
          -0.5627322260108164,
          -1.3362173833170023,
          -0.8364666429820613,
          -1.8649422541480647,
          -0.04000503321453959,
          -0.516321928580932,
          0.08082616339686961,
          1.3944373699957966,
          -0.17216818877174742,
          -0.5934447292701355,
          0.10764914753318927,
          -0.2667606811527233,
          -1.0162205575249617,
          -0.1144380817846967,
          1.4406345038428472,
          -0.7425514219222027,
          -1.0606788949699955,
          -1.586021525034324,
          -0.12104202346651638,
          0.8521010224489876,
          -0.9966586709814385,
          -0.7121334921084088,
          -0.4637882083535036,
          -0.11250665600437545,
          -0.8411356640052431,
          -0.7045662925272004,
          -0.6948250878248523,
          0.5000878197913172,
          -0.3528712808109637,
          -0.09557363709951629,
          0.11364046061839493,
          -1.015457474819926,
          0.36528363055720064,
          0.6711251693871432,
          0.7601384575280092,
          0.4321696477454787,
          0.6833655360978901,
          1.7310669374017902,
          0.4262696812048567,
          -0.2656194098492696,
          1.5645661055838156,
          -0.033652820429172794,
          -1.0858452674326182,
          -0.9708252180947552,
          1.771751835446405,
          -0.7925116693718385,
          -1.3470060707018487,
          0.006208722375716201,
          -1.499857075979689,
          -0.8887702919102793,
          -0.43945889066964533
         ],
         "xaxis": "x6",
         "yaxis": "y6"
        },
        {
         "line": {
          "color": "rgba(128, 128, 128, 1.0)",
          "dash": "solid",
          "shape": "linear",
          "width": 1.3
         },
         "marker": {
          "size": 2,
          "symbol": "circle"
         },
         "mode": "markers",
         "name": "B",
         "text": "",
         "type": "scatter",
         "x": [
          0.9715485590504849,
          0.17805578079037374,
          1.0226214736510901,
          -0.8694381195156575,
          -0.2316616538513763,
          -0.23514648178048406,
          -0.9084366733358773,
          0.7082960893309674,
          -1.9153067609093344,
          0.49221579376002955,
          -0.05003965714440723,
          -1.5680370294502035,
          0.14448221072270265,
          0.3073580790559129,
          -0.6840199805478799,
          -0.9381329948562944,
          -1.9087349212901707,
          -1.3269052489638635,
          0.7081186471450253,
          -0.6756607826885137,
          2.309573885547715,
          -0.6744408554771967,
          -1.4535000664961162,
          0.15164881301305483,
          0.6961187255522358,
          0.8725241037169394,
          0.01979758044591536,
          -2.0999640292701853,
          0.5247366656699252,
          0.5773432872959063,
          1.277207740501427,
          0.9583546716298691,
          -0.2331429642108506,
          -1.0527977933110753,
          0.45463559994258035,
          0.0011469180817339204,
          -0.1939706845144443,
          -1.6231410749321515,
          1.532026544518872,
          1.1603622659164887,
          -1.3804331823497566,
          0.36900899034704016,
          -1.3417912842517399,
          1.2395811511921635,
          -0.021129116765842865,
          -1.557394979474704,
          0.870542918565471,
          -1.0155395128582034,
          2.200040684246524,
          0.23668204943963497,
          -0.9497257565370577,
          0.2211962306990893,
          1.7023136503709666,
          -0.2737581003282735,
          1.00249312945178,
          1.211561846991026,
          0.3219714204720471,
          0.2996112156365192,
          -1.0321357177428103,
          1.6807342640809886,
          -1.2506099480148745,
          0.33464862133670836,
          0.1898629938142908,
          0.9675282440215491,
          -0.3537828166578415,
          1.5126369413241667,
          0.6176407204564663,
          -2.163546102762687,
          0.2478291332533252,
          0.455503278492527,
          1.3607904406045999,
          -0.3425062352366064,
          0.4030918801177125,
          0.8520217405723798,
          -0.5534302121023642,
          -1.1974868026525782,
          0.4460212772296304,
          -1.0305096922042194,
          -0.4515010192496534,
          1.0174930183935191,
          0.5053496144030297,
          -1.6408859443445472,
          -1.3365466135761324,
          0.13205516684893642,
          0.9030577153865585,
          1.4137698249332808,
          -0.44152078212550944,
          1.5099785124243106,
          -1.8088220005603304,
          -0.8505127001965405,
          -0.930186014824073,
          -1.0502128999293106,
          0.7582441720151186,
          1.3916847146647193,
          -0.0316486389386445,
          1.0649078768796696,
          -0.5623862247786948,
          -0.5834027047758633,
          0.16086133678899775,
          1.1244623697081284
         ],
         "xaxis": "x7",
         "y": [
          2.2584707094043437,
          -0.7302799304607928,
          -0.2639441560358485,
          -1.6907250644742915,
          0.1254040074044843,
          1.3653684572122151,
          -0.8993710510320301,
          1.3637219597500265,
          -0.9949884716772304,
          1.3124196810371618,
          0.13120330179599704,
          0.24421489269566785,
          -0.27027514734432023,
          2.4192473141037873,
          0.07051174070187619,
          1.1454944026229976,
          1.3978441309027008,
          -0.8020321670729008,
          0.23465940010652886,
          0.27772437241707726,
          -0.023704226665142523,
          1.0647734889326985,
          -0.1299940741540082,
          -0.8947487564886276,
          -0.8601967942699728,
          -0.31182841235252173,
          0.7008025244702615,
          1.462640550182099,
          -0.7168406874680995,
          -0.533752063962401,
          -0.3383209072280021,
          2.141940772311467,
          -0.2179188511702646,
          0.7234207747726848,
          -1.539763104939272,
          -0.208167932281236,
          -0.7514823675298156,
          0.035625121367857726,
          0.9241782089734557,
          0.25995515135379726,
          0.8840298645904345,
          1.621531593225492,
          -1.0862693306485376,
          -0.9298244982592239,
          1.0305804958400764,
          -0.3028330445145502,
          -0.3412703213179675,
          0.24259140471291563,
          0.7725146061486692,
          -0.5627322260108164,
          -1.3362173833170023,
          -0.8364666429820613,
          -1.8649422541480647,
          -0.04000503321453959,
          -0.516321928580932,
          0.08082616339686961,
          1.3944373699957966,
          -0.17216818877174742,
          -0.5934447292701355,
          0.10764914753318927,
          -0.2667606811527233,
          -1.0162205575249617,
          -0.1144380817846967,
          1.4406345038428472,
          -0.7425514219222027,
          -1.0606788949699955,
          -1.586021525034324,
          -0.12104202346651638,
          0.8521010224489876,
          -0.9966586709814385,
          -0.7121334921084088,
          -0.4637882083535036,
          -0.11250665600437545,
          -0.8411356640052431,
          -0.7045662925272004,
          -0.6948250878248523,
          0.5000878197913172,
          -0.3528712808109637,
          -0.09557363709951629,
          0.11364046061839493,
          -1.015457474819926,
          0.36528363055720064,
          0.6711251693871432,
          0.7601384575280092,
          0.4321696477454787,
          0.6833655360978901,
          1.7310669374017902,
          0.4262696812048567,
          -0.2656194098492696,
          1.5645661055838156,
          -0.033652820429172794,
          -1.0858452674326182,
          -0.9708252180947552,
          1.771751835446405,
          -0.7925116693718385,
          -1.3470060707018487,
          0.006208722375716201,
          -1.499857075979689,
          -0.8887702919102793,
          -0.43945889066964533
         ],
         "yaxis": "y7"
        },
        {
         "line": {
          "color": "rgba(128, 128, 128, 1.0)",
          "dash": "solid",
          "shape": "linear",
          "width": 1.3
         },
         "marker": {
          "size": 2,
          "symbol": "circle"
         },
         "mode": "markers",
         "name": "B",
         "text": "",
         "type": "scatter",
         "x": [
          1.2788671126878617,
          0.5463490627005372,
          -0.8458274852088671,
          1.891968284906087,
          0.027129520621435557,
          0.9076544818601713,
          1.1428718918578358,
          -0.3596387227045708,
          0.2500227533355477,
          -0.07322678785550782,
          -0.20911214212065374,
          0.523723621573591,
          0.4259764247672888,
          -1.1968758184322306,
          -0.8054767941949154,
          1.8900072380345485,
          0.8452113436466301,
          -0.25414609073347877,
          0.03570855246577367,
          0.14575503135915918,
          2.189428173696937,
          -0.07187860253400183,
          -0.7418466311463111,
          -0.505340193235467,
          -0.4959876377616374,
          -0.21749317450560904,
          0.10492539817008403,
          -0.059598361653984966,
          -0.884962776942417,
          1.3091537990351603,
          1.7323272249030568,
          -1.1585055113970915,
          -1.4797572809249315,
          1.5501511744148435,
          -0.40991876351239337,
          -0.09463390578367643,
          -0.4961731048584968,
          -0.12116479609004391,
          1.5429867747832684,
          2.083823626126322,
          -1.3405618577286778,
          -0.013274360478629371,
          1.4704827400113714,
          -0.09230518925486603,
          -0.1814328005222361,
          1.1937710999811717,
          -0.17038391795488023,
          0.40313263628071977,
          -0.37281732453145733,
          0.3707495163122737,
          0.30920736594324405,
          -0.5702771593764394,
          0.49741067835785063,
          0.3251355812421022,
          0.26196593782269134,
          0.8972217561696456,
          0.21324090680672533,
          -0.592522484752052,
          0.3189074515402922,
          0.46513692270318635,
          -0.2758476538032941,
          0.7688813450982438,
          -0.3319192869248297,
          -1.0340902467079396,
          -0.47875869327376647,
          0.4948476815535337,
          0.5958264226747494,
          0.6503139300524439,
          -1.4830468087573092,
          -0.6463031033931556,
          -0.30555585754444564,
          0.21901772500633013,
          0.6548728016080407,
          1.1596515508110465,
          -0.9449083897526811,
          -0.8559496144959297,
          1.1764890071657674,
          -2.7626589596873967,
          0.34726352104614705,
          -2.0534746469817633,
          -0.0778792691985187,
          -0.79091489232892,
          -1.783799382189531,
          0.876754632425876,
          -0.5064195302925444,
          -0.5587688290364335,
          -0.10191596449244297,
          1.1109009231629037,
          1.3054030990977499,
          1.706073511150618,
          -0.8962883920903764,
          1.1202847972825045,
          -1.6472410388756322,
          -1.6999419548084038,
          0.9423173222319073,
          1.3259604804878835,
          1.1463039571620701,
          0.16192374138738494,
          -0.4302555224507472,
          1.2522124410555802
         ],
         "xaxis": "x8",
         "y": [
          2.2584707094043437,
          -0.7302799304607928,
          -0.2639441560358485,
          -1.6907250644742915,
          0.1254040074044843,
          1.3653684572122151,
          -0.8993710510320301,
          1.3637219597500265,
          -0.9949884716772304,
          1.3124196810371618,
          0.13120330179599704,
          0.24421489269566785,
          -0.27027514734432023,
          2.4192473141037873,
          0.07051174070187619,
          1.1454944026229976,
          1.3978441309027008,
          -0.8020321670729008,
          0.23465940010652886,
          0.27772437241707726,
          -0.023704226665142523,
          1.0647734889326985,
          -0.1299940741540082,
          -0.8947487564886276,
          -0.8601967942699728,
          -0.31182841235252173,
          0.7008025244702615,
          1.462640550182099,
          -0.7168406874680995,
          -0.533752063962401,
          -0.3383209072280021,
          2.141940772311467,
          -0.2179188511702646,
          0.7234207747726848,
          -1.539763104939272,
          -0.208167932281236,
          -0.7514823675298156,
          0.035625121367857726,
          0.9241782089734557,
          0.25995515135379726,
          0.8840298645904345,
          1.621531593225492,
          -1.0862693306485376,
          -0.9298244982592239,
          1.0305804958400764,
          -0.3028330445145502,
          -0.3412703213179675,
          0.24259140471291563,
          0.7725146061486692,
          -0.5627322260108164,
          -1.3362173833170023,
          -0.8364666429820613,
          -1.8649422541480647,
          -0.04000503321453959,
          -0.516321928580932,
          0.08082616339686961,
          1.3944373699957966,
          -0.17216818877174742,
          -0.5934447292701355,
          0.10764914753318927,
          -0.2667606811527233,
          -1.0162205575249617,
          -0.1144380817846967,
          1.4406345038428472,
          -0.7425514219222027,
          -1.0606788949699955,
          -1.586021525034324,
          -0.12104202346651638,
          0.8521010224489876,
          -0.9966586709814385,
          -0.7121334921084088,
          -0.4637882083535036,
          -0.11250665600437545,
          -0.8411356640052431,
          -0.7045662925272004,
          -0.6948250878248523,
          0.5000878197913172,
          -0.3528712808109637,
          -0.09557363709951629,
          0.11364046061839493,
          -1.015457474819926,
          0.36528363055720064,
          0.6711251693871432,
          0.7601384575280092,
          0.4321696477454787,
          0.6833655360978901,
          1.7310669374017902,
          0.4262696812048567,
          -0.2656194098492696,
          1.5645661055838156,
          -0.033652820429172794,
          -1.0858452674326182,
          -0.9708252180947552,
          1.771751835446405,
          -0.7925116693718385,
          -1.3470060707018487,
          0.006208722375716201,
          -1.499857075979689,
          -0.8887702919102793,
          -0.43945889066964533
         ],
         "yaxis": "y8"
        },
        {
         "line": {
          "color": "rgba(128, 128, 128, 1.0)",
          "dash": "solid",
          "shape": "linear",
          "width": 1.3
         },
         "marker": {
          "size": 2,
          "symbol": "circle"
         },
         "mode": "markers",
         "name": "C",
         "text": "",
         "type": "scatter",
         "x": [
          -0.6715841140505145,
          -0.015693512274722023,
          -1.2377868022190277,
          0.02503655607096757,
          -0.14529398503449995,
          -1.0551956430573703,
          0.23233137831534484,
          -0.2956574504198168,
          -0.5577910399776433,
          1.3738652338159894,
          -2.9623175823727816,
          1.4904430345297184,
          1.039183339678253,
          -0.7113259936440596,
          -1.1842573167447745,
          0.08276897728234352,
          0.329475561063558,
          0.4884573064355324,
          0.33170945240886557,
          -1.623491342611854,
          -0.2787006945859761,
          0.3451219421823229,
          -0.8463179724936395,
          1.198615884615791,
          -1.21520995130495,
          0.08357517582237833,
          -0.9168333966717761,
          0.14444471685492827,
          -0.7587977901216573,
          -0.5716253932588715,
          -0.5155445307260258,
          0.039690930351866376,
          0.45206315536669267,
          0.25822078314915525,
          0.6795014499531823,
          -0.5258381951483264,
          -0.5831900803018422,
          0.9433672570698973,
          -1.2172033264702742,
          0.4070804402188379,
          0.9984241995599689,
          0.17547655482258462,
          -0.4864382830689831,
          -1.1725144840193726,
          1.2159970426643887,
          2.2007383884166125,
          -1.447909129888451,
          -1.2405381762638814,
          0.08017130631382811,
          -2.4146038180313445,
          0.24500705463654993,
          1.0955121238600343,
          0.07840931223258185,
          -1.0910806569187692,
          0.8837375823403211,
          -0.6788158992187295,
          -0.11096246412127025,
          -0.18905143074917843,
          -0.18057514475557498,
          0.6162366738892845,
          0.16758644721112217,
          -1.552022094532808,
          -0.15980187798785894,
          0.684059048953964,
          0.08319961960883286,
          -0.1393646482722601,
          -2.504160913360558,
          0.5878659446965919,
          1.635811129335889,
          1.9114127993924863,
          -0.7805028079982012,
          0.1596568880233185,
          0.04155434974831334,
          1.0035541939648416,
          0.8908357638671642,
          0.1327051615657846,
          -0.3952116467445707,
          0.7864341312472358,
          0.38666747641392035,
          0.14471853623258493,
          1.431655710690944,
          -0.11781504624255924,
          1.4974434253457516,
          -0.7964145225371747,
          -1.3699600853577067,
          -0.9618089897181643,
          -0.827111687389078,
          -0.7046529758368414,
          0.8828852015707367,
          -0.706753026854823,
          -1.390935846156628,
          -1.0817460195694732,
          0.9059710010262795,
          1.6281493928309418,
          -1.5741581898416985,
          -1.1456360795171043,
          0.5647014328630369,
          1.4079302677481942,
          0.7015348136215821,
          0.2996814140958031
         ],
         "xaxis": "x9",
         "y": [
          0.9715485590504849,
          0.17805578079037374,
          1.0226214736510901,
          -0.8694381195156575,
          -0.2316616538513763,
          -0.23514648178048406,
          -0.9084366733358773,
          0.7082960893309674,
          -1.9153067609093344,
          0.49221579376002955,
          -0.05003965714440723,
          -1.5680370294502035,
          0.14448221072270265,
          0.3073580790559129,
          -0.6840199805478799,
          -0.9381329948562944,
          -1.9087349212901707,
          -1.3269052489638635,
          0.7081186471450253,
          -0.6756607826885137,
          2.309573885547715,
          -0.6744408554771967,
          -1.4535000664961162,
          0.15164881301305483,
          0.6961187255522358,
          0.8725241037169394,
          0.01979758044591536,
          -2.0999640292701853,
          0.5247366656699252,
          0.5773432872959063,
          1.277207740501427,
          0.9583546716298691,
          -0.2331429642108506,
          -1.0527977933110753,
          0.45463559994258035,
          0.0011469180817339204,
          -0.1939706845144443,
          -1.6231410749321515,
          1.532026544518872,
          1.1603622659164887,
          -1.3804331823497566,
          0.36900899034704016,
          -1.3417912842517399,
          1.2395811511921635,
          -0.021129116765842865,
          -1.557394979474704,
          0.870542918565471,
          -1.0155395128582034,
          2.200040684246524,
          0.23668204943963497,
          -0.9497257565370577,
          0.2211962306990893,
          1.7023136503709666,
          -0.2737581003282735,
          1.00249312945178,
          1.211561846991026,
          0.3219714204720471,
          0.2996112156365192,
          -1.0321357177428103,
          1.6807342640809886,
          -1.2506099480148745,
          0.33464862133670836,
          0.1898629938142908,
          0.9675282440215491,
          -0.3537828166578415,
          1.5126369413241667,
          0.6176407204564663,
          -2.163546102762687,
          0.2478291332533252,
          0.455503278492527,
          1.3607904406045999,
          -0.3425062352366064,
          0.4030918801177125,
          0.8520217405723798,
          -0.5534302121023642,
          -1.1974868026525782,
          0.4460212772296304,
          -1.0305096922042194,
          -0.4515010192496534,
          1.0174930183935191,
          0.5053496144030297,
          -1.6408859443445472,
          -1.3365466135761324,
          0.13205516684893642,
          0.9030577153865585,
          1.4137698249332808,
          -0.44152078212550944,
          1.5099785124243106,
          -1.8088220005603304,
          -0.8505127001965405,
          -0.930186014824073,
          -1.0502128999293106,
          0.7582441720151186,
          1.3916847146647193,
          -0.0316486389386445,
          1.0649078768796696,
          -0.5623862247786948,
          -0.5834027047758633,
          0.16086133678899775,
          1.1244623697081284
         ],
         "yaxis": "y9"
        },
        {
         "line": {
          "color": "rgba(128, 128, 128, 1.0)",
          "dash": "solid",
          "shape": "linear",
          "width": 1.3
         },
         "marker": {
          "size": 2,
          "symbol": "circle"
         },
         "mode": "markers",
         "name": "C",
         "text": "",
         "type": "scatter",
         "x": [
          2.2584707094043437,
          -0.7302799304607928,
          -0.2639441560358485,
          -1.6907250644742915,
          0.1254040074044843,
          1.3653684572122151,
          -0.8993710510320301,
          1.3637219597500265,
          -0.9949884716772304,
          1.3124196810371618,
          0.13120330179599704,
          0.24421489269566785,
          -0.27027514734432023,
          2.4192473141037873,
          0.07051174070187619,
          1.1454944026229976,
          1.3978441309027008,
          -0.8020321670729008,
          0.23465940010652886,
          0.27772437241707726,
          -0.023704226665142523,
          1.0647734889326985,
          -0.1299940741540082,
          -0.8947487564886276,
          -0.8601967942699728,
          -0.31182841235252173,
          0.7008025244702615,
          1.462640550182099,
          -0.7168406874680995,
          -0.533752063962401,
          -0.3383209072280021,
          2.141940772311467,
          -0.2179188511702646,
          0.7234207747726848,
          -1.539763104939272,
          -0.208167932281236,
          -0.7514823675298156,
          0.035625121367857726,
          0.9241782089734557,
          0.25995515135379726,
          0.8840298645904345,
          1.621531593225492,
          -1.0862693306485376,
          -0.9298244982592239,
          1.0305804958400764,
          -0.3028330445145502,
          -0.3412703213179675,
          0.24259140471291563,
          0.7725146061486692,
          -0.5627322260108164,
          -1.3362173833170023,
          -0.8364666429820613,
          -1.8649422541480647,
          -0.04000503321453959,
          -0.516321928580932,
          0.08082616339686961,
          1.3944373699957966,
          -0.17216818877174742,
          -0.5934447292701355,
          0.10764914753318927,
          -0.2667606811527233,
          -1.0162205575249617,
          -0.1144380817846967,
          1.4406345038428472,
          -0.7425514219222027,
          -1.0606788949699955,
          -1.586021525034324,
          -0.12104202346651638,
          0.8521010224489876,
          -0.9966586709814385,
          -0.7121334921084088,
          -0.4637882083535036,
          -0.11250665600437545,
          -0.8411356640052431,
          -0.7045662925272004,
          -0.6948250878248523,
          0.5000878197913172,
          -0.3528712808109637,
          -0.09557363709951629,
          0.11364046061839493,
          -1.015457474819926,
          0.36528363055720064,
          0.6711251693871432,
          0.7601384575280092,
          0.4321696477454787,
          0.6833655360978901,
          1.7310669374017902,
          0.4262696812048567,
          -0.2656194098492696,
          1.5645661055838156,
          -0.033652820429172794,
          -1.0858452674326182,
          -0.9708252180947552,
          1.771751835446405,
          -0.7925116693718385,
          -1.3470060707018487,
          0.006208722375716201,
          -1.499857075979689,
          -0.8887702919102793,
          -0.43945889066964533
         ],
         "xaxis": "x10",
         "y": [
          0.9715485590504849,
          0.17805578079037374,
          1.0226214736510901,
          -0.8694381195156575,
          -0.2316616538513763,
          -0.23514648178048406,
          -0.9084366733358773,
          0.7082960893309674,
          -1.9153067609093344,
          0.49221579376002955,
          -0.05003965714440723,
          -1.5680370294502035,
          0.14448221072270265,
          0.3073580790559129,
          -0.6840199805478799,
          -0.9381329948562944,
          -1.9087349212901707,
          -1.3269052489638635,
          0.7081186471450253,
          -0.6756607826885137,
          2.309573885547715,
          -0.6744408554771967,
          -1.4535000664961162,
          0.15164881301305483,
          0.6961187255522358,
          0.8725241037169394,
          0.01979758044591536,
          -2.0999640292701853,
          0.5247366656699252,
          0.5773432872959063,
          1.277207740501427,
          0.9583546716298691,
          -0.2331429642108506,
          -1.0527977933110753,
          0.45463559994258035,
          0.0011469180817339204,
          -0.1939706845144443,
          -1.6231410749321515,
          1.532026544518872,
          1.1603622659164887,
          -1.3804331823497566,
          0.36900899034704016,
          -1.3417912842517399,
          1.2395811511921635,
          -0.021129116765842865,
          -1.557394979474704,
          0.870542918565471,
          -1.0155395128582034,
          2.200040684246524,
          0.23668204943963497,
          -0.9497257565370577,
          0.2211962306990893,
          1.7023136503709666,
          -0.2737581003282735,
          1.00249312945178,
          1.211561846991026,
          0.3219714204720471,
          0.2996112156365192,
          -1.0321357177428103,
          1.6807342640809886,
          -1.2506099480148745,
          0.33464862133670836,
          0.1898629938142908,
          0.9675282440215491,
          -0.3537828166578415,
          1.5126369413241667,
          0.6176407204564663,
          -2.163546102762687,
          0.2478291332533252,
          0.455503278492527,
          1.3607904406045999,
          -0.3425062352366064,
          0.4030918801177125,
          0.8520217405723798,
          -0.5534302121023642,
          -1.1974868026525782,
          0.4460212772296304,
          -1.0305096922042194,
          -0.4515010192496534,
          1.0174930183935191,
          0.5053496144030297,
          -1.6408859443445472,
          -1.3365466135761324,
          0.13205516684893642,
          0.9030577153865585,
          1.4137698249332808,
          -0.44152078212550944,
          1.5099785124243106,
          -1.8088220005603304,
          -0.8505127001965405,
          -0.930186014824073,
          -1.0502128999293106,
          0.7582441720151186,
          1.3916847146647193,
          -0.0316486389386445,
          1.0649078768796696,
          -0.5623862247786948,
          -0.5834027047758633,
          0.16086133678899775,
          1.1244623697081284
         ],
         "yaxis": "y10"
        },
        {
         "histfunc": "count",
         "histnorm": "",
         "marker": {
          "color": "rgba(50, 171, 96, 1.0)",
          "line": {
           "color": "#4D5663",
           "width": 1.3
          }
         },
         "name": "C",
         "nbinsx": 10,
         "opacity": 0.8,
         "orientation": "v",
         "type": "histogram",
         "x": [
          0.9715485590504849,
          0.17805578079037374,
          1.0226214736510901,
          -0.8694381195156575,
          -0.2316616538513763,
          -0.23514648178048406,
          -0.9084366733358773,
          0.7082960893309674,
          -1.9153067609093344,
          0.49221579376002955,
          -0.05003965714440723,
          -1.5680370294502035,
          0.14448221072270265,
          0.3073580790559129,
          -0.6840199805478799,
          -0.9381329948562944,
          -1.9087349212901707,
          -1.3269052489638635,
          0.7081186471450253,
          -0.6756607826885137,
          2.309573885547715,
          -0.6744408554771967,
          -1.4535000664961162,
          0.15164881301305483,
          0.6961187255522358,
          0.8725241037169394,
          0.01979758044591536,
          -2.0999640292701853,
          0.5247366656699252,
          0.5773432872959063,
          1.277207740501427,
          0.9583546716298691,
          -0.2331429642108506,
          -1.0527977933110753,
          0.45463559994258035,
          0.0011469180817339204,
          -0.1939706845144443,
          -1.6231410749321515,
          1.532026544518872,
          1.1603622659164887,
          -1.3804331823497566,
          0.36900899034704016,
          -1.3417912842517399,
          1.2395811511921635,
          -0.021129116765842865,
          -1.557394979474704,
          0.870542918565471,
          -1.0155395128582034,
          2.200040684246524,
          0.23668204943963497,
          -0.9497257565370577,
          0.2211962306990893,
          1.7023136503709666,
          -0.2737581003282735,
          1.00249312945178,
          1.211561846991026,
          0.3219714204720471,
          0.2996112156365192,
          -1.0321357177428103,
          1.6807342640809886,
          -1.2506099480148745,
          0.33464862133670836,
          0.1898629938142908,
          0.9675282440215491,
          -0.3537828166578415,
          1.5126369413241667,
          0.6176407204564663,
          -2.163546102762687,
          0.2478291332533252,
          0.455503278492527,
          1.3607904406045999,
          -0.3425062352366064,
          0.4030918801177125,
          0.8520217405723798,
          -0.5534302121023642,
          -1.1974868026525782,
          0.4460212772296304,
          -1.0305096922042194,
          -0.4515010192496534,
          1.0174930183935191,
          0.5053496144030297,
          -1.6408859443445472,
          -1.3365466135761324,
          0.13205516684893642,
          0.9030577153865585,
          1.4137698249332808,
          -0.44152078212550944,
          1.5099785124243106,
          -1.8088220005603304,
          -0.8505127001965405,
          -0.930186014824073,
          -1.0502128999293106,
          0.7582441720151186,
          1.3916847146647193,
          -0.0316486389386445,
          1.0649078768796696,
          -0.5623862247786948,
          -0.5834027047758633,
          0.16086133678899775,
          1.1244623697081284
         ],
         "xaxis": "x11",
         "yaxis": "y11"
        },
        {
         "line": {
          "color": "rgba(128, 128, 128, 1.0)",
          "dash": "solid",
          "shape": "linear",
          "width": 1.3
         },
         "marker": {
          "size": 2,
          "symbol": "circle"
         },
         "mode": "markers",
         "name": "C",
         "text": "",
         "type": "scatter",
         "x": [
          1.2788671126878617,
          0.5463490627005372,
          -0.8458274852088671,
          1.891968284906087,
          0.027129520621435557,
          0.9076544818601713,
          1.1428718918578358,
          -0.3596387227045708,
          0.2500227533355477,
          -0.07322678785550782,
          -0.20911214212065374,
          0.523723621573591,
          0.4259764247672888,
          -1.1968758184322306,
          -0.8054767941949154,
          1.8900072380345485,
          0.8452113436466301,
          -0.25414609073347877,
          0.03570855246577367,
          0.14575503135915918,
          2.189428173696937,
          -0.07187860253400183,
          -0.7418466311463111,
          -0.505340193235467,
          -0.4959876377616374,
          -0.21749317450560904,
          0.10492539817008403,
          -0.059598361653984966,
          -0.884962776942417,
          1.3091537990351603,
          1.7323272249030568,
          -1.1585055113970915,
          -1.4797572809249315,
          1.5501511744148435,
          -0.40991876351239337,
          -0.09463390578367643,
          -0.4961731048584968,
          -0.12116479609004391,
          1.5429867747832684,
          2.083823626126322,
          -1.3405618577286778,
          -0.013274360478629371,
          1.4704827400113714,
          -0.09230518925486603,
          -0.1814328005222361,
          1.1937710999811717,
          -0.17038391795488023,
          0.40313263628071977,
          -0.37281732453145733,
          0.3707495163122737,
          0.30920736594324405,
          -0.5702771593764394,
          0.49741067835785063,
          0.3251355812421022,
          0.26196593782269134,
          0.8972217561696456,
          0.21324090680672533,
          -0.592522484752052,
          0.3189074515402922,
          0.46513692270318635,
          -0.2758476538032941,
          0.7688813450982438,
          -0.3319192869248297,
          -1.0340902467079396,
          -0.47875869327376647,
          0.4948476815535337,
          0.5958264226747494,
          0.6503139300524439,
          -1.4830468087573092,
          -0.6463031033931556,
          -0.30555585754444564,
          0.21901772500633013,
          0.6548728016080407,
          1.1596515508110465,
          -0.9449083897526811,
          -0.8559496144959297,
          1.1764890071657674,
          -2.7626589596873967,
          0.34726352104614705,
          -2.0534746469817633,
          -0.0778792691985187,
          -0.79091489232892,
          -1.783799382189531,
          0.876754632425876,
          -0.5064195302925444,
          -0.5587688290364335,
          -0.10191596449244297,
          1.1109009231629037,
          1.3054030990977499,
          1.706073511150618,
          -0.8962883920903764,
          1.1202847972825045,
          -1.6472410388756322,
          -1.6999419548084038,
          0.9423173222319073,
          1.3259604804878835,
          1.1463039571620701,
          0.16192374138738494,
          -0.4302555224507472,
          1.2522124410555802
         ],
         "xaxis": "x12",
         "y": [
          0.9715485590504849,
          0.17805578079037374,
          1.0226214736510901,
          -0.8694381195156575,
          -0.2316616538513763,
          -0.23514648178048406,
          -0.9084366733358773,
          0.7082960893309674,
          -1.9153067609093344,
          0.49221579376002955,
          -0.05003965714440723,
          -1.5680370294502035,
          0.14448221072270265,
          0.3073580790559129,
          -0.6840199805478799,
          -0.9381329948562944,
          -1.9087349212901707,
          -1.3269052489638635,
          0.7081186471450253,
          -0.6756607826885137,
          2.309573885547715,
          -0.6744408554771967,
          -1.4535000664961162,
          0.15164881301305483,
          0.6961187255522358,
          0.8725241037169394,
          0.01979758044591536,
          -2.0999640292701853,
          0.5247366656699252,
          0.5773432872959063,
          1.277207740501427,
          0.9583546716298691,
          -0.2331429642108506,
          -1.0527977933110753,
          0.45463559994258035,
          0.0011469180817339204,
          -0.1939706845144443,
          -1.6231410749321515,
          1.532026544518872,
          1.1603622659164887,
          -1.3804331823497566,
          0.36900899034704016,
          -1.3417912842517399,
          1.2395811511921635,
          -0.021129116765842865,
          -1.557394979474704,
          0.870542918565471,
          -1.0155395128582034,
          2.200040684246524,
          0.23668204943963497,
          -0.9497257565370577,
          0.2211962306990893,
          1.7023136503709666,
          -0.2737581003282735,
          1.00249312945178,
          1.211561846991026,
          0.3219714204720471,
          0.2996112156365192,
          -1.0321357177428103,
          1.6807342640809886,
          -1.2506099480148745,
          0.33464862133670836,
          0.1898629938142908,
          0.9675282440215491,
          -0.3537828166578415,
          1.5126369413241667,
          0.6176407204564663,
          -2.163546102762687,
          0.2478291332533252,
          0.455503278492527,
          1.3607904406045999,
          -0.3425062352366064,
          0.4030918801177125,
          0.8520217405723798,
          -0.5534302121023642,
          -1.1974868026525782,
          0.4460212772296304,
          -1.0305096922042194,
          -0.4515010192496534,
          1.0174930183935191,
          0.5053496144030297,
          -1.6408859443445472,
          -1.3365466135761324,
          0.13205516684893642,
          0.9030577153865585,
          1.4137698249332808,
          -0.44152078212550944,
          1.5099785124243106,
          -1.8088220005603304,
          -0.8505127001965405,
          -0.930186014824073,
          -1.0502128999293106,
          0.7582441720151186,
          1.3916847146647193,
          -0.0316486389386445,
          1.0649078768796696,
          -0.5623862247786948,
          -0.5834027047758633,
          0.16086133678899775,
          1.1244623697081284
         ],
         "yaxis": "y12"
        },
        {
         "line": {
          "color": "rgba(128, 128, 128, 1.0)",
          "dash": "solid",
          "shape": "linear",
          "width": 1.3
         },
         "marker": {
          "size": 2,
          "symbol": "circle"
         },
         "mode": "markers",
         "name": "D",
         "text": "",
         "type": "scatter",
         "x": [
          -0.6715841140505145,
          -0.015693512274722023,
          -1.2377868022190277,
          0.02503655607096757,
          -0.14529398503449995,
          -1.0551956430573703,
          0.23233137831534484,
          -0.2956574504198168,
          -0.5577910399776433,
          1.3738652338159894,
          -2.9623175823727816,
          1.4904430345297184,
          1.039183339678253,
          -0.7113259936440596,
          -1.1842573167447745,
          0.08276897728234352,
          0.329475561063558,
          0.4884573064355324,
          0.33170945240886557,
          -1.623491342611854,
          -0.2787006945859761,
          0.3451219421823229,
          -0.8463179724936395,
          1.198615884615791,
          -1.21520995130495,
          0.08357517582237833,
          -0.9168333966717761,
          0.14444471685492827,
          -0.7587977901216573,
          -0.5716253932588715,
          -0.5155445307260258,
          0.039690930351866376,
          0.45206315536669267,
          0.25822078314915525,
          0.6795014499531823,
          -0.5258381951483264,
          -0.5831900803018422,
          0.9433672570698973,
          -1.2172033264702742,
          0.4070804402188379,
          0.9984241995599689,
          0.17547655482258462,
          -0.4864382830689831,
          -1.1725144840193726,
          1.2159970426643887,
          2.2007383884166125,
          -1.447909129888451,
          -1.2405381762638814,
          0.08017130631382811,
          -2.4146038180313445,
          0.24500705463654993,
          1.0955121238600343,
          0.07840931223258185,
          -1.0910806569187692,
          0.8837375823403211,
          -0.6788158992187295,
          -0.11096246412127025,
          -0.18905143074917843,
          -0.18057514475557498,
          0.6162366738892845,
          0.16758644721112217,
          -1.552022094532808,
          -0.15980187798785894,
          0.684059048953964,
          0.08319961960883286,
          -0.1393646482722601,
          -2.504160913360558,
          0.5878659446965919,
          1.635811129335889,
          1.9114127993924863,
          -0.7805028079982012,
          0.1596568880233185,
          0.04155434974831334,
          1.0035541939648416,
          0.8908357638671642,
          0.1327051615657846,
          -0.3952116467445707,
          0.7864341312472358,
          0.38666747641392035,
          0.14471853623258493,
          1.431655710690944,
          -0.11781504624255924,
          1.4974434253457516,
          -0.7964145225371747,
          -1.3699600853577067,
          -0.9618089897181643,
          -0.827111687389078,
          -0.7046529758368414,
          0.8828852015707367,
          -0.706753026854823,
          -1.390935846156628,
          -1.0817460195694732,
          0.9059710010262795,
          1.6281493928309418,
          -1.5741581898416985,
          -1.1456360795171043,
          0.5647014328630369,
          1.4079302677481942,
          0.7015348136215821,
          0.2996814140958031
         ],
         "xaxis": "x13",
         "y": [
          1.2788671126878617,
          0.5463490627005372,
          -0.8458274852088671,
          1.891968284906087,
          0.027129520621435557,
          0.9076544818601713,
          1.1428718918578358,
          -0.3596387227045708,
          0.2500227533355477,
          -0.07322678785550782,
          -0.20911214212065374,
          0.523723621573591,
          0.4259764247672888,
          -1.1968758184322306,
          -0.8054767941949154,
          1.8900072380345485,
          0.8452113436466301,
          -0.25414609073347877,
          0.03570855246577367,
          0.14575503135915918,
          2.189428173696937,
          -0.07187860253400183,
          -0.7418466311463111,
          -0.505340193235467,
          -0.4959876377616374,
          -0.21749317450560904,
          0.10492539817008403,
          -0.059598361653984966,
          -0.884962776942417,
          1.3091537990351603,
          1.7323272249030568,
          -1.1585055113970915,
          -1.4797572809249315,
          1.5501511744148435,
          -0.40991876351239337,
          -0.09463390578367643,
          -0.4961731048584968,
          -0.12116479609004391,
          1.5429867747832684,
          2.083823626126322,
          -1.3405618577286778,
          -0.013274360478629371,
          1.4704827400113714,
          -0.09230518925486603,
          -0.1814328005222361,
          1.1937710999811717,
          -0.17038391795488023,
          0.40313263628071977,
          -0.37281732453145733,
          0.3707495163122737,
          0.30920736594324405,
          -0.5702771593764394,
          0.49741067835785063,
          0.3251355812421022,
          0.26196593782269134,
          0.8972217561696456,
          0.21324090680672533,
          -0.592522484752052,
          0.3189074515402922,
          0.46513692270318635,
          -0.2758476538032941,
          0.7688813450982438,
          -0.3319192869248297,
          -1.0340902467079396,
          -0.47875869327376647,
          0.4948476815535337,
          0.5958264226747494,
          0.6503139300524439,
          -1.4830468087573092,
          -0.6463031033931556,
          -0.30555585754444564,
          0.21901772500633013,
          0.6548728016080407,
          1.1596515508110465,
          -0.9449083897526811,
          -0.8559496144959297,
          1.1764890071657674,
          -2.7626589596873967,
          0.34726352104614705,
          -2.0534746469817633,
          -0.0778792691985187,
          -0.79091489232892,
          -1.783799382189531,
          0.876754632425876,
          -0.5064195302925444,
          -0.5587688290364335,
          -0.10191596449244297,
          1.1109009231629037,
          1.3054030990977499,
          1.706073511150618,
          -0.8962883920903764,
          1.1202847972825045,
          -1.6472410388756322,
          -1.6999419548084038,
          0.9423173222319073,
          1.3259604804878835,
          1.1463039571620701,
          0.16192374138738494,
          -0.4302555224507472,
          1.2522124410555802
         ],
         "yaxis": "y13"
        },
        {
         "line": {
          "color": "rgba(128, 128, 128, 1.0)",
          "dash": "solid",
          "shape": "linear",
          "width": 1.3
         },
         "marker": {
          "size": 2,
          "symbol": "circle"
         },
         "mode": "markers",
         "name": "D",
         "text": "",
         "type": "scatter",
         "x": [
          2.2584707094043437,
          -0.7302799304607928,
          -0.2639441560358485,
          -1.6907250644742915,
          0.1254040074044843,
          1.3653684572122151,
          -0.8993710510320301,
          1.3637219597500265,
          -0.9949884716772304,
          1.3124196810371618,
          0.13120330179599704,
          0.24421489269566785,
          -0.27027514734432023,
          2.4192473141037873,
          0.07051174070187619,
          1.1454944026229976,
          1.3978441309027008,
          -0.8020321670729008,
          0.23465940010652886,
          0.27772437241707726,
          -0.023704226665142523,
          1.0647734889326985,
          -0.1299940741540082,
          -0.8947487564886276,
          -0.8601967942699728,
          -0.31182841235252173,
          0.7008025244702615,
          1.462640550182099,
          -0.7168406874680995,
          -0.533752063962401,
          -0.3383209072280021,
          2.141940772311467,
          -0.2179188511702646,
          0.7234207747726848,
          -1.539763104939272,
          -0.208167932281236,
          -0.7514823675298156,
          0.035625121367857726,
          0.9241782089734557,
          0.25995515135379726,
          0.8840298645904345,
          1.621531593225492,
          -1.0862693306485376,
          -0.9298244982592239,
          1.0305804958400764,
          -0.3028330445145502,
          -0.3412703213179675,
          0.24259140471291563,
          0.7725146061486692,
          -0.5627322260108164,
          -1.3362173833170023,
          -0.8364666429820613,
          -1.8649422541480647,
          -0.04000503321453959,
          -0.516321928580932,
          0.08082616339686961,
          1.3944373699957966,
          -0.17216818877174742,
          -0.5934447292701355,
          0.10764914753318927,
          -0.2667606811527233,
          -1.0162205575249617,
          -0.1144380817846967,
          1.4406345038428472,
          -0.7425514219222027,
          -1.0606788949699955,
          -1.586021525034324,
          -0.12104202346651638,
          0.8521010224489876,
          -0.9966586709814385,
          -0.7121334921084088,
          -0.4637882083535036,
          -0.11250665600437545,
          -0.8411356640052431,
          -0.7045662925272004,
          -0.6948250878248523,
          0.5000878197913172,
          -0.3528712808109637,
          -0.09557363709951629,
          0.11364046061839493,
          -1.015457474819926,
          0.36528363055720064,
          0.6711251693871432,
          0.7601384575280092,
          0.4321696477454787,
          0.6833655360978901,
          1.7310669374017902,
          0.4262696812048567,
          -0.2656194098492696,
          1.5645661055838156,
          -0.033652820429172794,
          -1.0858452674326182,
          -0.9708252180947552,
          1.771751835446405,
          -0.7925116693718385,
          -1.3470060707018487,
          0.006208722375716201,
          -1.499857075979689,
          -0.8887702919102793,
          -0.43945889066964533
         ],
         "xaxis": "x14",
         "y": [
          1.2788671126878617,
          0.5463490627005372,
          -0.8458274852088671,
          1.891968284906087,
          0.027129520621435557,
          0.9076544818601713,
          1.1428718918578358,
          -0.3596387227045708,
          0.2500227533355477,
          -0.07322678785550782,
          -0.20911214212065374,
          0.523723621573591,
          0.4259764247672888,
          -1.1968758184322306,
          -0.8054767941949154,
          1.8900072380345485,
          0.8452113436466301,
          -0.25414609073347877,
          0.03570855246577367,
          0.14575503135915918,
          2.189428173696937,
          -0.07187860253400183,
          -0.7418466311463111,
          -0.505340193235467,
          -0.4959876377616374,
          -0.21749317450560904,
          0.10492539817008403,
          -0.059598361653984966,
          -0.884962776942417,
          1.3091537990351603,
          1.7323272249030568,
          -1.1585055113970915,
          -1.4797572809249315,
          1.5501511744148435,
          -0.40991876351239337,
          -0.09463390578367643,
          -0.4961731048584968,
          -0.12116479609004391,
          1.5429867747832684,
          2.083823626126322,
          -1.3405618577286778,
          -0.013274360478629371,
          1.4704827400113714,
          -0.09230518925486603,
          -0.1814328005222361,
          1.1937710999811717,
          -0.17038391795488023,
          0.40313263628071977,
          -0.37281732453145733,
          0.3707495163122737,
          0.30920736594324405,
          -0.5702771593764394,
          0.49741067835785063,
          0.3251355812421022,
          0.26196593782269134,
          0.8972217561696456,
          0.21324090680672533,
          -0.592522484752052,
          0.3189074515402922,
          0.46513692270318635,
          -0.2758476538032941,
          0.7688813450982438,
          -0.3319192869248297,
          -1.0340902467079396,
          -0.47875869327376647,
          0.4948476815535337,
          0.5958264226747494,
          0.6503139300524439,
          -1.4830468087573092,
          -0.6463031033931556,
          -0.30555585754444564,
          0.21901772500633013,
          0.6548728016080407,
          1.1596515508110465,
          -0.9449083897526811,
          -0.8559496144959297,
          1.1764890071657674,
          -2.7626589596873967,
          0.34726352104614705,
          -2.0534746469817633,
          -0.0778792691985187,
          -0.79091489232892,
          -1.783799382189531,
          0.876754632425876,
          -0.5064195302925444,
          -0.5587688290364335,
          -0.10191596449244297,
          1.1109009231629037,
          1.3054030990977499,
          1.706073511150618,
          -0.8962883920903764,
          1.1202847972825045,
          -1.6472410388756322,
          -1.6999419548084038,
          0.9423173222319073,
          1.3259604804878835,
          1.1463039571620701,
          0.16192374138738494,
          -0.4302555224507472,
          1.2522124410555802
         ],
         "yaxis": "y14"
        },
        {
         "line": {
          "color": "rgba(128, 128, 128, 1.0)",
          "dash": "solid",
          "shape": "linear",
          "width": 1.3
         },
         "marker": {
          "size": 2,
          "symbol": "circle"
         },
         "mode": "markers",
         "name": "D",
         "text": "",
         "type": "scatter",
         "x": [
          0.9715485590504849,
          0.17805578079037374,
          1.0226214736510901,
          -0.8694381195156575,
          -0.2316616538513763,
          -0.23514648178048406,
          -0.9084366733358773,
          0.7082960893309674,
          -1.9153067609093344,
          0.49221579376002955,
          -0.05003965714440723,
          -1.5680370294502035,
          0.14448221072270265,
          0.3073580790559129,
          -0.6840199805478799,
          -0.9381329948562944,
          -1.9087349212901707,
          -1.3269052489638635,
          0.7081186471450253,
          -0.6756607826885137,
          2.309573885547715,
          -0.6744408554771967,
          -1.4535000664961162,
          0.15164881301305483,
          0.6961187255522358,
          0.8725241037169394,
          0.01979758044591536,
          -2.0999640292701853,
          0.5247366656699252,
          0.5773432872959063,
          1.277207740501427,
          0.9583546716298691,
          -0.2331429642108506,
          -1.0527977933110753,
          0.45463559994258035,
          0.0011469180817339204,
          -0.1939706845144443,
          -1.6231410749321515,
          1.532026544518872,
          1.1603622659164887,
          -1.3804331823497566,
          0.36900899034704016,
          -1.3417912842517399,
          1.2395811511921635,
          -0.021129116765842865,
          -1.557394979474704,
          0.870542918565471,
          -1.0155395128582034,
          2.200040684246524,
          0.23668204943963497,
          -0.9497257565370577,
          0.2211962306990893,
          1.7023136503709666,
          -0.2737581003282735,
          1.00249312945178,
          1.211561846991026,
          0.3219714204720471,
          0.2996112156365192,
          -1.0321357177428103,
          1.6807342640809886,
          -1.2506099480148745,
          0.33464862133670836,
          0.1898629938142908,
          0.9675282440215491,
          -0.3537828166578415,
          1.5126369413241667,
          0.6176407204564663,
          -2.163546102762687,
          0.2478291332533252,
          0.455503278492527,
          1.3607904406045999,
          -0.3425062352366064,
          0.4030918801177125,
          0.8520217405723798,
          -0.5534302121023642,
          -1.1974868026525782,
          0.4460212772296304,
          -1.0305096922042194,
          -0.4515010192496534,
          1.0174930183935191,
          0.5053496144030297,
          -1.6408859443445472,
          -1.3365466135761324,
          0.13205516684893642,
          0.9030577153865585,
          1.4137698249332808,
          -0.44152078212550944,
          1.5099785124243106,
          -1.8088220005603304,
          -0.8505127001965405,
          -0.930186014824073,
          -1.0502128999293106,
          0.7582441720151186,
          1.3916847146647193,
          -0.0316486389386445,
          1.0649078768796696,
          -0.5623862247786948,
          -0.5834027047758633,
          0.16086133678899775,
          1.1244623697081284
         ],
         "xaxis": "x15",
         "y": [
          1.2788671126878617,
          0.5463490627005372,
          -0.8458274852088671,
          1.891968284906087,
          0.027129520621435557,
          0.9076544818601713,
          1.1428718918578358,
          -0.3596387227045708,
          0.2500227533355477,
          -0.07322678785550782,
          -0.20911214212065374,
          0.523723621573591,
          0.4259764247672888,
          -1.1968758184322306,
          -0.8054767941949154,
          1.8900072380345485,
          0.8452113436466301,
          -0.25414609073347877,
          0.03570855246577367,
          0.14575503135915918,
          2.189428173696937,
          -0.07187860253400183,
          -0.7418466311463111,
          -0.505340193235467,
          -0.4959876377616374,
          -0.21749317450560904,
          0.10492539817008403,
          -0.059598361653984966,
          -0.884962776942417,
          1.3091537990351603,
          1.7323272249030568,
          -1.1585055113970915,
          -1.4797572809249315,
          1.5501511744148435,
          -0.40991876351239337,
          -0.09463390578367643,
          -0.4961731048584968,
          -0.12116479609004391,
          1.5429867747832684,
          2.083823626126322,
          -1.3405618577286778,
          -0.013274360478629371,
          1.4704827400113714,
          -0.09230518925486603,
          -0.1814328005222361,
          1.1937710999811717,
          -0.17038391795488023,
          0.40313263628071977,
          -0.37281732453145733,
          0.3707495163122737,
          0.30920736594324405,
          -0.5702771593764394,
          0.49741067835785063,
          0.3251355812421022,
          0.26196593782269134,
          0.8972217561696456,
          0.21324090680672533,
          -0.592522484752052,
          0.3189074515402922,
          0.46513692270318635,
          -0.2758476538032941,
          0.7688813450982438,
          -0.3319192869248297,
          -1.0340902467079396,
          -0.47875869327376647,
          0.4948476815535337,
          0.5958264226747494,
          0.6503139300524439,
          -1.4830468087573092,
          -0.6463031033931556,
          -0.30555585754444564,
          0.21901772500633013,
          0.6548728016080407,
          1.1596515508110465,
          -0.9449083897526811,
          -0.8559496144959297,
          1.1764890071657674,
          -2.7626589596873967,
          0.34726352104614705,
          -2.0534746469817633,
          -0.0778792691985187,
          -0.79091489232892,
          -1.783799382189531,
          0.876754632425876,
          -0.5064195302925444,
          -0.5587688290364335,
          -0.10191596449244297,
          1.1109009231629037,
          1.3054030990977499,
          1.706073511150618,
          -0.8962883920903764,
          1.1202847972825045,
          -1.6472410388756322,
          -1.6999419548084038,
          0.9423173222319073,
          1.3259604804878835,
          1.1463039571620701,
          0.16192374138738494,
          -0.4302555224507472,
          1.2522124410555802
         ],
         "yaxis": "y15"
        },
        {
         "histfunc": "count",
         "histnorm": "",
         "marker": {
          "color": "rgba(128, 0, 128, 1.0)",
          "line": {
           "color": "#4D5663",
           "width": 1.3
          }
         },
         "name": "D",
         "nbinsx": 10,
         "opacity": 0.8,
         "orientation": "v",
         "type": "histogram",
         "x": [
          1.2788671126878617,
          0.5463490627005372,
          -0.8458274852088671,
          1.891968284906087,
          0.027129520621435557,
          0.9076544818601713,
          1.1428718918578358,
          -0.3596387227045708,
          0.2500227533355477,
          -0.07322678785550782,
          -0.20911214212065374,
          0.523723621573591,
          0.4259764247672888,
          -1.1968758184322306,
          -0.8054767941949154,
          1.8900072380345485,
          0.8452113436466301,
          -0.25414609073347877,
          0.03570855246577367,
          0.14575503135915918,
          2.189428173696937,
          -0.07187860253400183,
          -0.7418466311463111,
          -0.505340193235467,
          -0.4959876377616374,
          -0.21749317450560904,
          0.10492539817008403,
          -0.059598361653984966,
          -0.884962776942417,
          1.3091537990351603,
          1.7323272249030568,
          -1.1585055113970915,
          -1.4797572809249315,
          1.5501511744148435,
          -0.40991876351239337,
          -0.09463390578367643,
          -0.4961731048584968,
          -0.12116479609004391,
          1.5429867747832684,
          2.083823626126322,
          -1.3405618577286778,
          -0.013274360478629371,
          1.4704827400113714,
          -0.09230518925486603,
          -0.1814328005222361,
          1.1937710999811717,
          -0.17038391795488023,
          0.40313263628071977,
          -0.37281732453145733,
          0.3707495163122737,
          0.30920736594324405,
          -0.5702771593764394,
          0.49741067835785063,
          0.3251355812421022,
          0.26196593782269134,
          0.8972217561696456,
          0.21324090680672533,
          -0.592522484752052,
          0.3189074515402922,
          0.46513692270318635,
          -0.2758476538032941,
          0.7688813450982438,
          -0.3319192869248297,
          -1.0340902467079396,
          -0.47875869327376647,
          0.4948476815535337,
          0.5958264226747494,
          0.6503139300524439,
          -1.4830468087573092,
          -0.6463031033931556,
          -0.30555585754444564,
          0.21901772500633013,
          0.6548728016080407,
          1.1596515508110465,
          -0.9449083897526811,
          -0.8559496144959297,
          1.1764890071657674,
          -2.7626589596873967,
          0.34726352104614705,
          -2.0534746469817633,
          -0.0778792691985187,
          -0.79091489232892,
          -1.783799382189531,
          0.876754632425876,
          -0.5064195302925444,
          -0.5587688290364335,
          -0.10191596449244297,
          1.1109009231629037,
          1.3054030990977499,
          1.706073511150618,
          -0.8962883920903764,
          1.1202847972825045,
          -1.6472410388756322,
          -1.6999419548084038,
          0.9423173222319073,
          1.3259604804878835,
          1.1463039571620701,
          0.16192374138738494,
          -0.4302555224507472,
          1.2522124410555802
         ],
         "xaxis": "x16",
         "yaxis": "y16"
        }
       ],
       "layout": {
        "bargap": 0.02,
        "legend": {
         "bgcolor": "#F5F6F9",
         "font": {
          "color": "#4D5663"
         }
        },
        "paper_bgcolor": "#F5F6F9",
        "plot_bgcolor": "#F5F6F9",
        "showlegend": false,
        "template": {
         "data": {
          "bar": [
           {
            "error_x": {
             "color": "#2a3f5f"
            },
            "error_y": {
             "color": "#2a3f5f"
            },
            "marker": {
             "line": {
              "color": "#E5ECF6",
              "width": 0.5
             },
             "pattern": {
              "fillmode": "overlay",
              "size": 10,
              "solidity": 0.2
             }
            },
            "type": "bar"
           }
          ],
          "barpolar": [
           {
            "marker": {
             "line": {
              "color": "#E5ECF6",
              "width": 0.5
             },
             "pattern": {
              "fillmode": "overlay",
              "size": 10,
              "solidity": 0.2
             }
            },
            "type": "barpolar"
           }
          ],
          "carpet": [
           {
            "aaxis": {
             "endlinecolor": "#2a3f5f",
             "gridcolor": "white",
             "linecolor": "white",
             "minorgridcolor": "white",
             "startlinecolor": "#2a3f5f"
            },
            "baxis": {
             "endlinecolor": "#2a3f5f",
             "gridcolor": "white",
             "linecolor": "white",
             "minorgridcolor": "white",
             "startlinecolor": "#2a3f5f"
            },
            "type": "carpet"
           }
          ],
          "choropleth": [
           {
            "colorbar": {
             "outlinewidth": 0,
             "ticks": ""
            },
            "type": "choropleth"
           }
          ],
          "contour": [
           {
            "colorbar": {
             "outlinewidth": 0,
             "ticks": ""
            },
            "colorscale": [
             [
              0,
              "#0d0887"
             ],
             [
              0.1111111111111111,
              "#46039f"
             ],
             [
              0.2222222222222222,
              "#7201a8"
             ],
             [
              0.3333333333333333,
              "#9c179e"
             ],
             [
              0.4444444444444444,
              "#bd3786"
             ],
             [
              0.5555555555555556,
              "#d8576b"
             ],
             [
              0.6666666666666666,
              "#ed7953"
             ],
             [
              0.7777777777777778,
              "#fb9f3a"
             ],
             [
              0.8888888888888888,
              "#fdca26"
             ],
             [
              1,
              "#f0f921"
             ]
            ],
            "type": "contour"
           }
          ],
          "contourcarpet": [
           {
            "colorbar": {
             "outlinewidth": 0,
             "ticks": ""
            },
            "type": "contourcarpet"
           }
          ],
          "heatmap": [
           {
            "colorbar": {
             "outlinewidth": 0,
             "ticks": ""
            },
            "colorscale": [
             [
              0,
              "#0d0887"
             ],
             [
              0.1111111111111111,
              "#46039f"
             ],
             [
              0.2222222222222222,
              "#7201a8"
             ],
             [
              0.3333333333333333,
              "#9c179e"
             ],
             [
              0.4444444444444444,
              "#bd3786"
             ],
             [
              0.5555555555555556,
              "#d8576b"
             ],
             [
              0.6666666666666666,
              "#ed7953"
             ],
             [
              0.7777777777777778,
              "#fb9f3a"
             ],
             [
              0.8888888888888888,
              "#fdca26"
             ],
             [
              1,
              "#f0f921"
             ]
            ],
            "type": "heatmap"
           }
          ],
          "heatmapgl": [
           {
            "colorbar": {
             "outlinewidth": 0,
             "ticks": ""
            },
            "colorscale": [
             [
              0,
              "#0d0887"
             ],
             [
              0.1111111111111111,
              "#46039f"
             ],
             [
              0.2222222222222222,
              "#7201a8"
             ],
             [
              0.3333333333333333,
              "#9c179e"
             ],
             [
              0.4444444444444444,
              "#bd3786"
             ],
             [
              0.5555555555555556,
              "#d8576b"
             ],
             [
              0.6666666666666666,
              "#ed7953"
             ],
             [
              0.7777777777777778,
              "#fb9f3a"
             ],
             [
              0.8888888888888888,
              "#fdca26"
             ],
             [
              1,
              "#f0f921"
             ]
            ],
            "type": "heatmapgl"
           }
          ],
          "histogram": [
           {
            "marker": {
             "pattern": {
              "fillmode": "overlay",
              "size": 10,
              "solidity": 0.2
             }
            },
            "type": "histogram"
           }
          ],
          "histogram2d": [
           {
            "colorbar": {
             "outlinewidth": 0,
             "ticks": ""
            },
            "colorscale": [
             [
              0,
              "#0d0887"
             ],
             [
              0.1111111111111111,
              "#46039f"
             ],
             [
              0.2222222222222222,
              "#7201a8"
             ],
             [
              0.3333333333333333,
              "#9c179e"
             ],
             [
              0.4444444444444444,
              "#bd3786"
             ],
             [
              0.5555555555555556,
              "#d8576b"
             ],
             [
              0.6666666666666666,
              "#ed7953"
             ],
             [
              0.7777777777777778,
              "#fb9f3a"
             ],
             [
              0.8888888888888888,
              "#fdca26"
             ],
             [
              1,
              "#f0f921"
             ]
            ],
            "type": "histogram2d"
           }
          ],
          "histogram2dcontour": [
           {
            "colorbar": {
             "outlinewidth": 0,
             "ticks": ""
            },
            "colorscale": [
             [
              0,
              "#0d0887"
             ],
             [
              0.1111111111111111,
              "#46039f"
             ],
             [
              0.2222222222222222,
              "#7201a8"
             ],
             [
              0.3333333333333333,
              "#9c179e"
             ],
             [
              0.4444444444444444,
              "#bd3786"
             ],
             [
              0.5555555555555556,
              "#d8576b"
             ],
             [
              0.6666666666666666,
              "#ed7953"
             ],
             [
              0.7777777777777778,
              "#fb9f3a"
             ],
             [
              0.8888888888888888,
              "#fdca26"
             ],
             [
              1,
              "#f0f921"
             ]
            ],
            "type": "histogram2dcontour"
           }
          ],
          "mesh3d": [
           {
            "colorbar": {
             "outlinewidth": 0,
             "ticks": ""
            },
            "type": "mesh3d"
           }
          ],
          "parcoords": [
           {
            "line": {
             "colorbar": {
              "outlinewidth": 0,
              "ticks": ""
             }
            },
            "type": "parcoords"
           }
          ],
          "pie": [
           {
            "automargin": true,
            "type": "pie"
           }
          ],
          "scatter": [
           {
            "marker": {
             "colorbar": {
              "outlinewidth": 0,
              "ticks": ""
             }
            },
            "type": "scatter"
           }
          ],
          "scatter3d": [
           {
            "line": {
             "colorbar": {
              "outlinewidth": 0,
              "ticks": ""
             }
            },
            "marker": {
             "colorbar": {
              "outlinewidth": 0,
              "ticks": ""
             }
            },
            "type": "scatter3d"
           }
          ],
          "scattercarpet": [
           {
            "marker": {
             "colorbar": {
              "outlinewidth": 0,
              "ticks": ""
             }
            },
            "type": "scattercarpet"
           }
          ],
          "scattergeo": [
           {
            "marker": {
             "colorbar": {
              "outlinewidth": 0,
              "ticks": ""
             }
            },
            "type": "scattergeo"
           }
          ],
          "scattergl": [
           {
            "marker": {
             "colorbar": {
              "outlinewidth": 0,
              "ticks": ""
             }
            },
            "type": "scattergl"
           }
          ],
          "scattermapbox": [
           {
            "marker": {
             "colorbar": {
              "outlinewidth": 0,
              "ticks": ""
             }
            },
            "type": "scattermapbox"
           }
          ],
          "scatterpolar": [
           {
            "marker": {
             "colorbar": {
              "outlinewidth": 0,
              "ticks": ""
             }
            },
            "type": "scatterpolar"
           }
          ],
          "scatterpolargl": [
           {
            "marker": {
             "colorbar": {
              "outlinewidth": 0,
              "ticks": ""
             }
            },
            "type": "scatterpolargl"
           }
          ],
          "scatterternary": [
           {
            "marker": {
             "colorbar": {
              "outlinewidth": 0,
              "ticks": ""
             }
            },
            "type": "scatterternary"
           }
          ],
          "surface": [
           {
            "colorbar": {
             "outlinewidth": 0,
             "ticks": ""
            },
            "colorscale": [
             [
              0,
              "#0d0887"
             ],
             [
              0.1111111111111111,
              "#46039f"
             ],
             [
              0.2222222222222222,
              "#7201a8"
             ],
             [
              0.3333333333333333,
              "#9c179e"
             ],
             [
              0.4444444444444444,
              "#bd3786"
             ],
             [
              0.5555555555555556,
              "#d8576b"
             ],
             [
              0.6666666666666666,
              "#ed7953"
             ],
             [
              0.7777777777777778,
              "#fb9f3a"
             ],
             [
              0.8888888888888888,
              "#fdca26"
             ],
             [
              1,
              "#f0f921"
             ]
            ],
            "type": "surface"
           }
          ],
          "table": [
           {
            "cells": {
             "fill": {
              "color": "#EBF0F8"
             },
             "line": {
              "color": "white"
             }
            },
            "header": {
             "fill": {
              "color": "#C8D4E3"
             },
             "line": {
              "color": "white"
             }
            },
            "type": "table"
           }
          ]
         },
         "layout": {
          "annotationdefaults": {
           "arrowcolor": "#2a3f5f",
           "arrowhead": 0,
           "arrowwidth": 1
          },
          "autotypenumbers": "strict",
          "coloraxis": {
           "colorbar": {
            "outlinewidth": 0,
            "ticks": ""
           }
          },
          "colorscale": {
           "diverging": [
            [
             0,
             "#8e0152"
            ],
            [
             0.1,
             "#c51b7d"
            ],
            [
             0.2,
             "#de77ae"
            ],
            [
             0.3,
             "#f1b6da"
            ],
            [
             0.4,
             "#fde0ef"
            ],
            [
             0.5,
             "#f7f7f7"
            ],
            [
             0.6,
             "#e6f5d0"
            ],
            [
             0.7,
             "#b8e186"
            ],
            [
             0.8,
             "#7fbc41"
            ],
            [
             0.9,
             "#4d9221"
            ],
            [
             1,
             "#276419"
            ]
           ],
           "sequential": [
            [
             0,
             "#0d0887"
            ],
            [
             0.1111111111111111,
             "#46039f"
            ],
            [
             0.2222222222222222,
             "#7201a8"
            ],
            [
             0.3333333333333333,
             "#9c179e"
            ],
            [
             0.4444444444444444,
             "#bd3786"
            ],
            [
             0.5555555555555556,
             "#d8576b"
            ],
            [
             0.6666666666666666,
             "#ed7953"
            ],
            [
             0.7777777777777778,
             "#fb9f3a"
            ],
            [
             0.8888888888888888,
             "#fdca26"
            ],
            [
             1,
             "#f0f921"
            ]
           ],
           "sequentialminus": [
            [
             0,
             "#0d0887"
            ],
            [
             0.1111111111111111,
             "#46039f"
            ],
            [
             0.2222222222222222,
             "#7201a8"
            ],
            [
             0.3333333333333333,
             "#9c179e"
            ],
            [
             0.4444444444444444,
             "#bd3786"
            ],
            [
             0.5555555555555556,
             "#d8576b"
            ],
            [
             0.6666666666666666,
             "#ed7953"
            ],
            [
             0.7777777777777778,
             "#fb9f3a"
            ],
            [
             0.8888888888888888,
             "#fdca26"
            ],
            [
             1,
             "#f0f921"
            ]
           ]
          },
          "colorway": [
           "#636efa",
           "#EF553B",
           "#00cc96",
           "#ab63fa",
           "#FFA15A",
           "#19d3f3",
           "#FF6692",
           "#B6E880",
           "#FF97FF",
           "#FECB52"
          ],
          "font": {
           "color": "#2a3f5f"
          },
          "geo": {
           "bgcolor": "white",
           "lakecolor": "white",
           "landcolor": "#E5ECF6",
           "showlakes": true,
           "showland": true,
           "subunitcolor": "white"
          },
          "hoverlabel": {
           "align": "left"
          },
          "hovermode": "closest",
          "mapbox": {
           "style": "light"
          },
          "paper_bgcolor": "white",
          "plot_bgcolor": "#E5ECF6",
          "polar": {
           "angularaxis": {
            "gridcolor": "white",
            "linecolor": "white",
            "ticks": ""
           },
           "bgcolor": "#E5ECF6",
           "radialaxis": {
            "gridcolor": "white",
            "linecolor": "white",
            "ticks": ""
           }
          },
          "scene": {
           "xaxis": {
            "backgroundcolor": "#E5ECF6",
            "gridcolor": "white",
            "gridwidth": 2,
            "linecolor": "white",
            "showbackground": true,
            "ticks": "",
            "zerolinecolor": "white"
           },
           "yaxis": {
            "backgroundcolor": "#E5ECF6",
            "gridcolor": "white",
            "gridwidth": 2,
            "linecolor": "white",
            "showbackground": true,
            "ticks": "",
            "zerolinecolor": "white"
           },
           "zaxis": {
            "backgroundcolor": "#E5ECF6",
            "gridcolor": "white",
            "gridwidth": 2,
            "linecolor": "white",
            "showbackground": true,
            "ticks": "",
            "zerolinecolor": "white"
           }
          },
          "shapedefaults": {
           "line": {
            "color": "#2a3f5f"
           }
          },
          "ternary": {
           "aaxis": {
            "gridcolor": "white",
            "linecolor": "white",
            "ticks": ""
           },
           "baxis": {
            "gridcolor": "white",
            "linecolor": "white",
            "ticks": ""
           },
           "bgcolor": "#E5ECF6",
           "caxis": {
            "gridcolor": "white",
            "linecolor": "white",
            "ticks": ""
           }
          },
          "title": {
           "x": 0.05
          },
          "xaxis": {
           "automargin": true,
           "gridcolor": "white",
           "linecolor": "white",
           "ticks": "",
           "title": {
            "standoff": 15
           },
           "zerolinecolor": "white",
           "zerolinewidth": 2
          },
          "yaxis": {
           "automargin": true,
           "gridcolor": "white",
           "linecolor": "white",
           "ticks": "",
           "title": {
            "standoff": 15
           },
           "zerolinecolor": "white",
           "zerolinewidth": 2
          }
         }
        },
        "title": {
         "font": {
          "color": "#4D5663"
         }
        },
        "xaxis": {
         "anchor": "y",
         "domain": [
          0,
          0.2125
         ],
         "gridcolor": "#E1E5ED",
         "showgrid": false,
         "tickfont": {
          "color": "#4D5663"
         },
         "title": {
          "font": {
           "color": "#4D5663"
          },
          "text": ""
         },
         "zerolinecolor": "#E1E5ED"
        },
        "xaxis10": {
         "anchor": "y10",
         "domain": [
          0.2625,
          0.475
         ],
         "gridcolor": "#E1E5ED",
         "showgrid": false,
         "tickfont": {
          "color": "#4D5663"
         },
         "title": {
          "font": {
           "color": "#4D5663"
          },
          "text": ""
         },
         "zerolinecolor": "#E1E5ED"
        },
        "xaxis11": {
         "anchor": "y11",
         "domain": [
          0.525,
          0.7375
         ],
         "gridcolor": "#E1E5ED",
         "showgrid": false,
         "tickfont": {
          "color": "#4D5663"
         },
         "title": {
          "font": {
           "color": "#4D5663"
          },
          "text": ""
         },
         "zerolinecolor": "#E1E5ED"
        },
        "xaxis12": {
         "anchor": "y12",
         "domain": [
          0.7875,
          1
         ],
         "gridcolor": "#E1E5ED",
         "showgrid": false,
         "tickfont": {
          "color": "#4D5663"
         },
         "title": {
          "font": {
           "color": "#4D5663"
          },
          "text": ""
         },
         "zerolinecolor": "#E1E5ED"
        },
        "xaxis13": {
         "anchor": "y13",
         "domain": [
          0,
          0.2125
         ],
         "gridcolor": "#E1E5ED",
         "showgrid": false,
         "tickfont": {
          "color": "#4D5663"
         },
         "title": {
          "font": {
           "color": "#4D5663"
          },
          "text": ""
         },
         "zerolinecolor": "#E1E5ED"
        },
        "xaxis14": {
         "anchor": "y14",
         "domain": [
          0.2625,
          0.475
         ],
         "gridcolor": "#E1E5ED",
         "showgrid": false,
         "tickfont": {
          "color": "#4D5663"
         },
         "title": {
          "font": {
           "color": "#4D5663"
          },
          "text": ""
         },
         "zerolinecolor": "#E1E5ED"
        },
        "xaxis15": {
         "anchor": "y15",
         "domain": [
          0.525,
          0.7375
         ],
         "gridcolor": "#E1E5ED",
         "showgrid": false,
         "tickfont": {
          "color": "#4D5663"
         },
         "title": {
          "font": {
           "color": "#4D5663"
          },
          "text": ""
         },
         "zerolinecolor": "#E1E5ED"
        },
        "xaxis16": {
         "anchor": "y16",
         "domain": [
          0.7875,
          1
         ],
         "gridcolor": "#E1E5ED",
         "showgrid": false,
         "tickfont": {
          "color": "#4D5663"
         },
         "title": {
          "font": {
           "color": "#4D5663"
          },
          "text": ""
         },
         "zerolinecolor": "#E1E5ED"
        },
        "xaxis2": {
         "anchor": "y2",
         "domain": [
          0.2625,
          0.475
         ],
         "gridcolor": "#E1E5ED",
         "showgrid": false,
         "tickfont": {
          "color": "#4D5663"
         },
         "title": {
          "font": {
           "color": "#4D5663"
          },
          "text": ""
         },
         "zerolinecolor": "#E1E5ED"
        },
        "xaxis3": {
         "anchor": "y3",
         "domain": [
          0.525,
          0.7375
         ],
         "gridcolor": "#E1E5ED",
         "showgrid": false,
         "tickfont": {
          "color": "#4D5663"
         },
         "title": {
          "font": {
           "color": "#4D5663"
          },
          "text": ""
         },
         "zerolinecolor": "#E1E5ED"
        },
        "xaxis4": {
         "anchor": "y4",
         "domain": [
          0.7875,
          1
         ],
         "gridcolor": "#E1E5ED",
         "showgrid": false,
         "tickfont": {
          "color": "#4D5663"
         },
         "title": {
          "font": {
           "color": "#4D5663"
          },
          "text": ""
         },
         "zerolinecolor": "#E1E5ED"
        },
        "xaxis5": {
         "anchor": "y5",
         "domain": [
          0,
          0.2125
         ],
         "gridcolor": "#E1E5ED",
         "showgrid": false,
         "tickfont": {
          "color": "#4D5663"
         },
         "title": {
          "font": {
           "color": "#4D5663"
          },
          "text": ""
         },
         "zerolinecolor": "#E1E5ED"
        },
        "xaxis6": {
         "anchor": "y6",
         "domain": [
          0.2625,
          0.475
         ],
         "gridcolor": "#E1E5ED",
         "showgrid": false,
         "tickfont": {
          "color": "#4D5663"
         },
         "title": {
          "font": {
           "color": "#4D5663"
          },
          "text": ""
         },
         "zerolinecolor": "#E1E5ED"
        },
        "xaxis7": {
         "anchor": "y7",
         "domain": [
          0.525,
          0.7375
         ],
         "gridcolor": "#E1E5ED",
         "showgrid": false,
         "tickfont": {
          "color": "#4D5663"
         },
         "title": {
          "font": {
           "color": "#4D5663"
          },
          "text": ""
         },
         "zerolinecolor": "#E1E5ED"
        },
        "xaxis8": {
         "anchor": "y8",
         "domain": [
          0.7875,
          1
         ],
         "gridcolor": "#E1E5ED",
         "showgrid": false,
         "tickfont": {
          "color": "#4D5663"
         },
         "title": {
          "font": {
           "color": "#4D5663"
          },
          "text": ""
         },
         "zerolinecolor": "#E1E5ED"
        },
        "xaxis9": {
         "anchor": "y9",
         "domain": [
          0,
          0.2125
         ],
         "gridcolor": "#E1E5ED",
         "showgrid": false,
         "tickfont": {
          "color": "#4D5663"
         },
         "title": {
          "font": {
           "color": "#4D5663"
          },
          "text": ""
         },
         "zerolinecolor": "#E1E5ED"
        },
        "yaxis": {
         "anchor": "x",
         "domain": [
          0.8025,
          1
         ],
         "gridcolor": "#E1E5ED",
         "showgrid": false,
         "tickfont": {
          "color": "#4D5663"
         },
         "title": {
          "font": {
           "color": "#4D5663"
          },
          "text": ""
         },
         "zerolinecolor": "#E1E5ED"
        },
        "yaxis10": {
         "anchor": "x10",
         "domain": [
          0.2675,
          0.465
         ],
         "gridcolor": "#E1E5ED",
         "showgrid": false,
         "tickfont": {
          "color": "#4D5663"
         },
         "title": {
          "font": {
           "color": "#4D5663"
          },
          "text": ""
         },
         "zerolinecolor": "#E1E5ED"
        },
        "yaxis11": {
         "anchor": "x11",
         "domain": [
          0.2675,
          0.465
         ],
         "gridcolor": "#E1E5ED",
         "showgrid": false,
         "tickfont": {
          "color": "#4D5663"
         },
         "title": {
          "font": {
           "color": "#4D5663"
          },
          "text": ""
         },
         "zerolinecolor": "#E1E5ED"
        },
        "yaxis12": {
         "anchor": "x12",
         "domain": [
          0.2675,
          0.465
         ],
         "gridcolor": "#E1E5ED",
         "showgrid": false,
         "tickfont": {
          "color": "#4D5663"
         },
         "title": {
          "font": {
           "color": "#4D5663"
          },
          "text": ""
         },
         "zerolinecolor": "#E1E5ED"
        },
        "yaxis13": {
         "anchor": "x13",
         "domain": [
          0,
          0.1975
         ],
         "gridcolor": "#E1E5ED",
         "showgrid": false,
         "tickfont": {
          "color": "#4D5663"
         },
         "title": {
          "font": {
           "color": "#4D5663"
          },
          "text": ""
         },
         "zerolinecolor": "#E1E5ED"
        },
        "yaxis14": {
         "anchor": "x14",
         "domain": [
          0,
          0.1975
         ],
         "gridcolor": "#E1E5ED",
         "showgrid": false,
         "tickfont": {
          "color": "#4D5663"
         },
         "title": {
          "font": {
           "color": "#4D5663"
          },
          "text": ""
         },
         "zerolinecolor": "#E1E5ED"
        },
        "yaxis15": {
         "anchor": "x15",
         "domain": [
          0,
          0.1975
         ],
         "gridcolor": "#E1E5ED",
         "showgrid": false,
         "tickfont": {
          "color": "#4D5663"
         },
         "title": {
          "font": {
           "color": "#4D5663"
          },
          "text": ""
         },
         "zerolinecolor": "#E1E5ED"
        },
        "yaxis16": {
         "anchor": "x16",
         "domain": [
          0,
          0.1975
         ],
         "gridcolor": "#E1E5ED",
         "showgrid": false,
         "tickfont": {
          "color": "#4D5663"
         },
         "title": {
          "font": {
           "color": "#4D5663"
          },
          "text": ""
         },
         "zerolinecolor": "#E1E5ED"
        },
        "yaxis2": {
         "anchor": "x2",
         "domain": [
          0.8025,
          1
         ],
         "gridcolor": "#E1E5ED",
         "showgrid": false,
         "tickfont": {
          "color": "#4D5663"
         },
         "title": {
          "font": {
           "color": "#4D5663"
          },
          "text": ""
         },
         "zerolinecolor": "#E1E5ED"
        },
        "yaxis3": {
         "anchor": "x3",
         "domain": [
          0.8025,
          1
         ],
         "gridcolor": "#E1E5ED",
         "showgrid": false,
         "tickfont": {
          "color": "#4D5663"
         },
         "title": {
          "font": {
           "color": "#4D5663"
          },
          "text": ""
         },
         "zerolinecolor": "#E1E5ED"
        },
        "yaxis4": {
         "anchor": "x4",
         "domain": [
          0.8025,
          1
         ],
         "gridcolor": "#E1E5ED",
         "showgrid": false,
         "tickfont": {
          "color": "#4D5663"
         },
         "title": {
          "font": {
           "color": "#4D5663"
          },
          "text": ""
         },
         "zerolinecolor": "#E1E5ED"
        },
        "yaxis5": {
         "anchor": "x5",
         "domain": [
          0.535,
          0.7325
         ],
         "gridcolor": "#E1E5ED",
         "showgrid": false,
         "tickfont": {
          "color": "#4D5663"
         },
         "title": {
          "font": {
           "color": "#4D5663"
          },
          "text": ""
         },
         "zerolinecolor": "#E1E5ED"
        },
        "yaxis6": {
         "anchor": "x6",
         "domain": [
          0.535,
          0.7325
         ],
         "gridcolor": "#E1E5ED",
         "showgrid": false,
         "tickfont": {
          "color": "#4D5663"
         },
         "title": {
          "font": {
           "color": "#4D5663"
          },
          "text": ""
         },
         "zerolinecolor": "#E1E5ED"
        },
        "yaxis7": {
         "anchor": "x7",
         "domain": [
          0.535,
          0.7325
         ],
         "gridcolor": "#E1E5ED",
         "showgrid": false,
         "tickfont": {
          "color": "#4D5663"
         },
         "title": {
          "font": {
           "color": "#4D5663"
          },
          "text": ""
         },
         "zerolinecolor": "#E1E5ED"
        },
        "yaxis8": {
         "anchor": "x8",
         "domain": [
          0.535,
          0.7325
         ],
         "gridcolor": "#E1E5ED",
         "showgrid": false,
         "tickfont": {
          "color": "#4D5663"
         },
         "title": {
          "font": {
           "color": "#4D5663"
          },
          "text": ""
         },
         "zerolinecolor": "#E1E5ED"
        },
        "yaxis9": {
         "anchor": "x9",
         "domain": [
          0.2675,
          0.465
         ],
         "gridcolor": "#E1E5ED",
         "showgrid": false,
         "tickfont": {
          "color": "#4D5663"
         },
         "title": {
          "font": {
           "color": "#4D5663"
          },
          "text": ""
         },
         "zerolinecolor": "#E1E5ED"
        }
       }
      },
      "text/html": [
       "<div>                            <div id=\"2234b360-3465-491a-84a7-3b477a02791a\" class=\"plotly-graph-div\" style=\"height:525px; width:100%;\"></div>            <script type=\"text/javascript\">                require([\"plotly\"], function(Plotly) {                    window.PLOTLYENV=window.PLOTLYENV || {};\n",
       "                    window.PLOTLYENV.BASE_URL='https://plot.ly';                                    if (document.getElementById(\"2234b360-3465-491a-84a7-3b477a02791a\")) {                    Plotly.newPlot(                        \"2234b360-3465-491a-84a7-3b477a02791a\",                        [{\"histfunc\":\"count\",\"histnorm\":\"\",\"marker\":{\"color\":\"rgba(255, 153, 51, 1.0)\",\"line\":{\"color\":\"#4D5663\",\"width\":1.3}},\"name\":\"A\",\"nbinsx\":10,\"opacity\":0.8,\"orientation\":\"v\",\"x\":[-0.6715841140505145,-0.015693512274722023,-1.2377868022190277,0.02503655607096757,-0.14529398503449995,-1.0551956430573703,0.23233137831534484,-0.2956574504198168,-0.5577910399776433,1.3738652338159894,-2.9623175823727816,1.4904430345297184,1.039183339678253,-0.7113259936440596,-1.1842573167447745,0.08276897728234352,0.329475561063558,0.4884573064355324,0.33170945240886557,-1.623491342611854,-0.2787006945859761,0.3451219421823229,-0.8463179724936395,1.198615884615791,-1.21520995130495,0.08357517582237833,-0.9168333966717761,0.14444471685492827,-0.7587977901216573,-0.5716253932588715,-0.5155445307260258,0.039690930351866376,0.45206315536669267,0.25822078314915525,0.6795014499531823,-0.5258381951483264,-0.5831900803018422,0.9433672570698973,-1.2172033264702742,0.4070804402188379,0.9984241995599689,0.17547655482258462,-0.4864382830689831,-1.1725144840193726,1.2159970426643887,2.2007383884166125,-1.447909129888451,-1.2405381762638814,0.08017130631382811,-2.4146038180313445,0.24500705463654993,1.0955121238600343,0.07840931223258185,-1.0910806569187692,0.8837375823403211,-0.6788158992187295,-0.11096246412127025,-0.18905143074917843,-0.18057514475557498,0.6162366738892845,0.16758644721112217,-1.552022094532808,-0.15980187798785894,0.684059048953964,0.08319961960883286,-0.1393646482722601,-2.504160913360558,0.5878659446965919,1.635811129335889,1.9114127993924863,-0.7805028079982012,0.1596568880233185,0.04155434974831334,1.0035541939648416,0.8908357638671642,0.1327051615657846,-0.3952116467445707,0.7864341312472358,0.38666747641392035,0.14471853623258493,1.431655710690944,-0.11781504624255924,1.4974434253457516,-0.7964145225371747,-1.3699600853577067,-0.9618089897181643,-0.827111687389078,-0.7046529758368414,0.8828852015707367,-0.706753026854823,-1.390935846156628,-1.0817460195694732,0.9059710010262795,1.6281493928309418,-1.5741581898416985,-1.1456360795171043,0.5647014328630369,1.4079302677481942,0.7015348136215821,0.2996814140958031],\"xaxis\":\"x\",\"yaxis\":\"y\",\"type\":\"histogram\"},{\"line\":{\"color\":\"rgba(128, 128, 128, 1.0)\",\"dash\":\"solid\",\"shape\":\"linear\",\"width\":1.3},\"marker\":{\"size\":2,\"symbol\":\"circle\"},\"mode\":\"markers\",\"name\":\"A\",\"text\":\"\",\"x\":[2.2584707094043437,-0.7302799304607928,-0.2639441560358485,-1.6907250644742915,0.1254040074044843,1.3653684572122151,-0.8993710510320301,1.3637219597500265,-0.9949884716772304,1.3124196810371618,0.13120330179599704,0.24421489269566785,-0.27027514734432023,2.4192473141037873,0.07051174070187619,1.1454944026229976,1.3978441309027008,-0.8020321670729008,0.23465940010652886,0.27772437241707726,-0.023704226665142523,1.0647734889326985,-0.1299940741540082,-0.8947487564886276,-0.8601967942699728,-0.31182841235252173,0.7008025244702615,1.462640550182099,-0.7168406874680995,-0.533752063962401,-0.3383209072280021,2.141940772311467,-0.2179188511702646,0.7234207747726848,-1.539763104939272,-0.208167932281236,-0.7514823675298156,0.035625121367857726,0.9241782089734557,0.25995515135379726,0.8840298645904345,1.621531593225492,-1.0862693306485376,-0.9298244982592239,1.0305804958400764,-0.3028330445145502,-0.3412703213179675,0.24259140471291563,0.7725146061486692,-0.5627322260108164,-1.3362173833170023,-0.8364666429820613,-1.8649422541480647,-0.04000503321453959,-0.516321928580932,0.08082616339686961,1.3944373699957966,-0.17216818877174742,-0.5934447292701355,0.10764914753318927,-0.2667606811527233,-1.0162205575249617,-0.1144380817846967,1.4406345038428472,-0.7425514219222027,-1.0606788949699955,-1.586021525034324,-0.12104202346651638,0.8521010224489876,-0.9966586709814385,-0.7121334921084088,-0.4637882083535036,-0.11250665600437545,-0.8411356640052431,-0.7045662925272004,-0.6948250878248523,0.5000878197913172,-0.3528712808109637,-0.09557363709951629,0.11364046061839493,-1.015457474819926,0.36528363055720064,0.6711251693871432,0.7601384575280092,0.4321696477454787,0.6833655360978901,1.7310669374017902,0.4262696812048567,-0.2656194098492696,1.5645661055838156,-0.033652820429172794,-1.0858452674326182,-0.9708252180947552,1.771751835446405,-0.7925116693718385,-1.3470060707018487,0.006208722375716201,-1.499857075979689,-0.8887702919102793,-0.43945889066964533],\"xaxis\":\"x2\",\"y\":[-0.6715841140505145,-0.015693512274722023,-1.2377868022190277,0.02503655607096757,-0.14529398503449995,-1.0551956430573703,0.23233137831534484,-0.2956574504198168,-0.5577910399776433,1.3738652338159894,-2.9623175823727816,1.4904430345297184,1.039183339678253,-0.7113259936440596,-1.1842573167447745,0.08276897728234352,0.329475561063558,0.4884573064355324,0.33170945240886557,-1.623491342611854,-0.2787006945859761,0.3451219421823229,-0.8463179724936395,1.198615884615791,-1.21520995130495,0.08357517582237833,-0.9168333966717761,0.14444471685492827,-0.7587977901216573,-0.5716253932588715,-0.5155445307260258,0.039690930351866376,0.45206315536669267,0.25822078314915525,0.6795014499531823,-0.5258381951483264,-0.5831900803018422,0.9433672570698973,-1.2172033264702742,0.4070804402188379,0.9984241995599689,0.17547655482258462,-0.4864382830689831,-1.1725144840193726,1.2159970426643887,2.2007383884166125,-1.447909129888451,-1.2405381762638814,0.08017130631382811,-2.4146038180313445,0.24500705463654993,1.0955121238600343,0.07840931223258185,-1.0910806569187692,0.8837375823403211,-0.6788158992187295,-0.11096246412127025,-0.18905143074917843,-0.18057514475557498,0.6162366738892845,0.16758644721112217,-1.552022094532808,-0.15980187798785894,0.684059048953964,0.08319961960883286,-0.1393646482722601,-2.504160913360558,0.5878659446965919,1.635811129335889,1.9114127993924863,-0.7805028079982012,0.1596568880233185,0.04155434974831334,1.0035541939648416,0.8908357638671642,0.1327051615657846,-0.3952116467445707,0.7864341312472358,0.38666747641392035,0.14471853623258493,1.431655710690944,-0.11781504624255924,1.4974434253457516,-0.7964145225371747,-1.3699600853577067,-0.9618089897181643,-0.827111687389078,-0.7046529758368414,0.8828852015707367,-0.706753026854823,-1.390935846156628,-1.0817460195694732,0.9059710010262795,1.6281493928309418,-1.5741581898416985,-1.1456360795171043,0.5647014328630369,1.4079302677481942,0.7015348136215821,0.2996814140958031],\"yaxis\":\"y2\",\"type\":\"scatter\"},{\"line\":{\"color\":\"rgba(128, 128, 128, 1.0)\",\"dash\":\"solid\",\"shape\":\"linear\",\"width\":1.3},\"marker\":{\"size\":2,\"symbol\":\"circle\"},\"mode\":\"markers\",\"name\":\"A\",\"text\":\"\",\"x\":[0.9715485590504849,0.17805578079037374,1.0226214736510901,-0.8694381195156575,-0.2316616538513763,-0.23514648178048406,-0.9084366733358773,0.7082960893309674,-1.9153067609093344,0.49221579376002955,-0.05003965714440723,-1.5680370294502035,0.14448221072270265,0.3073580790559129,-0.6840199805478799,-0.9381329948562944,-1.9087349212901707,-1.3269052489638635,0.7081186471450253,-0.6756607826885137,2.309573885547715,-0.6744408554771967,-1.4535000664961162,0.15164881301305483,0.6961187255522358,0.8725241037169394,0.01979758044591536,-2.0999640292701853,0.5247366656699252,0.5773432872959063,1.277207740501427,0.9583546716298691,-0.2331429642108506,-1.0527977933110753,0.45463559994258035,0.0011469180817339204,-0.1939706845144443,-1.6231410749321515,1.532026544518872,1.1603622659164887,-1.3804331823497566,0.36900899034704016,-1.3417912842517399,1.2395811511921635,-0.021129116765842865,-1.557394979474704,0.870542918565471,-1.0155395128582034,2.200040684246524,0.23668204943963497,-0.9497257565370577,0.2211962306990893,1.7023136503709666,-0.2737581003282735,1.00249312945178,1.211561846991026,0.3219714204720471,0.2996112156365192,-1.0321357177428103,1.6807342640809886,-1.2506099480148745,0.33464862133670836,0.1898629938142908,0.9675282440215491,-0.3537828166578415,1.5126369413241667,0.6176407204564663,-2.163546102762687,0.2478291332533252,0.455503278492527,1.3607904406045999,-0.3425062352366064,0.4030918801177125,0.8520217405723798,-0.5534302121023642,-1.1974868026525782,0.4460212772296304,-1.0305096922042194,-0.4515010192496534,1.0174930183935191,0.5053496144030297,-1.6408859443445472,-1.3365466135761324,0.13205516684893642,0.9030577153865585,1.4137698249332808,-0.44152078212550944,1.5099785124243106,-1.8088220005603304,-0.8505127001965405,-0.930186014824073,-1.0502128999293106,0.7582441720151186,1.3916847146647193,-0.0316486389386445,1.0649078768796696,-0.5623862247786948,-0.5834027047758633,0.16086133678899775,1.1244623697081284],\"xaxis\":\"x3\",\"y\":[-0.6715841140505145,-0.015693512274722023,-1.2377868022190277,0.02503655607096757,-0.14529398503449995,-1.0551956430573703,0.23233137831534484,-0.2956574504198168,-0.5577910399776433,1.3738652338159894,-2.9623175823727816,1.4904430345297184,1.039183339678253,-0.7113259936440596,-1.1842573167447745,0.08276897728234352,0.329475561063558,0.4884573064355324,0.33170945240886557,-1.623491342611854,-0.2787006945859761,0.3451219421823229,-0.8463179724936395,1.198615884615791,-1.21520995130495,0.08357517582237833,-0.9168333966717761,0.14444471685492827,-0.7587977901216573,-0.5716253932588715,-0.5155445307260258,0.039690930351866376,0.45206315536669267,0.25822078314915525,0.6795014499531823,-0.5258381951483264,-0.5831900803018422,0.9433672570698973,-1.2172033264702742,0.4070804402188379,0.9984241995599689,0.17547655482258462,-0.4864382830689831,-1.1725144840193726,1.2159970426643887,2.2007383884166125,-1.447909129888451,-1.2405381762638814,0.08017130631382811,-2.4146038180313445,0.24500705463654993,1.0955121238600343,0.07840931223258185,-1.0910806569187692,0.8837375823403211,-0.6788158992187295,-0.11096246412127025,-0.18905143074917843,-0.18057514475557498,0.6162366738892845,0.16758644721112217,-1.552022094532808,-0.15980187798785894,0.684059048953964,0.08319961960883286,-0.1393646482722601,-2.504160913360558,0.5878659446965919,1.635811129335889,1.9114127993924863,-0.7805028079982012,0.1596568880233185,0.04155434974831334,1.0035541939648416,0.8908357638671642,0.1327051615657846,-0.3952116467445707,0.7864341312472358,0.38666747641392035,0.14471853623258493,1.431655710690944,-0.11781504624255924,1.4974434253457516,-0.7964145225371747,-1.3699600853577067,-0.9618089897181643,-0.827111687389078,-0.7046529758368414,0.8828852015707367,-0.706753026854823,-1.390935846156628,-1.0817460195694732,0.9059710010262795,1.6281493928309418,-1.5741581898416985,-1.1456360795171043,0.5647014328630369,1.4079302677481942,0.7015348136215821,0.2996814140958031],\"yaxis\":\"y3\",\"type\":\"scatter\"},{\"line\":{\"color\":\"rgba(128, 128, 128, 1.0)\",\"dash\":\"solid\",\"shape\":\"linear\",\"width\":1.3},\"marker\":{\"size\":2,\"symbol\":\"circle\"},\"mode\":\"markers\",\"name\":\"A\",\"text\":\"\",\"x\":[1.2788671126878617,0.5463490627005372,-0.8458274852088671,1.891968284906087,0.027129520621435557,0.9076544818601713,1.1428718918578358,-0.3596387227045708,0.2500227533355477,-0.07322678785550782,-0.20911214212065374,0.523723621573591,0.4259764247672888,-1.1968758184322306,-0.8054767941949154,1.8900072380345485,0.8452113436466301,-0.25414609073347877,0.03570855246577367,0.14575503135915918,2.189428173696937,-0.07187860253400183,-0.7418466311463111,-0.505340193235467,-0.4959876377616374,-0.21749317450560904,0.10492539817008403,-0.059598361653984966,-0.884962776942417,1.3091537990351603,1.7323272249030568,-1.1585055113970915,-1.4797572809249315,1.5501511744148435,-0.40991876351239337,-0.09463390578367643,-0.4961731048584968,-0.12116479609004391,1.5429867747832684,2.083823626126322,-1.3405618577286778,-0.013274360478629371,1.4704827400113714,-0.09230518925486603,-0.1814328005222361,1.1937710999811717,-0.17038391795488023,0.40313263628071977,-0.37281732453145733,0.3707495163122737,0.30920736594324405,-0.5702771593764394,0.49741067835785063,0.3251355812421022,0.26196593782269134,0.8972217561696456,0.21324090680672533,-0.592522484752052,0.3189074515402922,0.46513692270318635,-0.2758476538032941,0.7688813450982438,-0.3319192869248297,-1.0340902467079396,-0.47875869327376647,0.4948476815535337,0.5958264226747494,0.6503139300524439,-1.4830468087573092,-0.6463031033931556,-0.30555585754444564,0.21901772500633013,0.6548728016080407,1.1596515508110465,-0.9449083897526811,-0.8559496144959297,1.1764890071657674,-2.7626589596873967,0.34726352104614705,-2.0534746469817633,-0.0778792691985187,-0.79091489232892,-1.783799382189531,0.876754632425876,-0.5064195302925444,-0.5587688290364335,-0.10191596449244297,1.1109009231629037,1.3054030990977499,1.706073511150618,-0.8962883920903764,1.1202847972825045,-1.6472410388756322,-1.6999419548084038,0.9423173222319073,1.3259604804878835,1.1463039571620701,0.16192374138738494,-0.4302555224507472,1.2522124410555802],\"xaxis\":\"x4\",\"y\":[-0.6715841140505145,-0.015693512274722023,-1.2377868022190277,0.02503655607096757,-0.14529398503449995,-1.0551956430573703,0.23233137831534484,-0.2956574504198168,-0.5577910399776433,1.3738652338159894,-2.9623175823727816,1.4904430345297184,1.039183339678253,-0.7113259936440596,-1.1842573167447745,0.08276897728234352,0.329475561063558,0.4884573064355324,0.33170945240886557,-1.623491342611854,-0.2787006945859761,0.3451219421823229,-0.8463179724936395,1.198615884615791,-1.21520995130495,0.08357517582237833,-0.9168333966717761,0.14444471685492827,-0.7587977901216573,-0.5716253932588715,-0.5155445307260258,0.039690930351866376,0.45206315536669267,0.25822078314915525,0.6795014499531823,-0.5258381951483264,-0.5831900803018422,0.9433672570698973,-1.2172033264702742,0.4070804402188379,0.9984241995599689,0.17547655482258462,-0.4864382830689831,-1.1725144840193726,1.2159970426643887,2.2007383884166125,-1.447909129888451,-1.2405381762638814,0.08017130631382811,-2.4146038180313445,0.24500705463654993,1.0955121238600343,0.07840931223258185,-1.0910806569187692,0.8837375823403211,-0.6788158992187295,-0.11096246412127025,-0.18905143074917843,-0.18057514475557498,0.6162366738892845,0.16758644721112217,-1.552022094532808,-0.15980187798785894,0.684059048953964,0.08319961960883286,-0.1393646482722601,-2.504160913360558,0.5878659446965919,1.635811129335889,1.9114127993924863,-0.7805028079982012,0.1596568880233185,0.04155434974831334,1.0035541939648416,0.8908357638671642,0.1327051615657846,-0.3952116467445707,0.7864341312472358,0.38666747641392035,0.14471853623258493,1.431655710690944,-0.11781504624255924,1.4974434253457516,-0.7964145225371747,-1.3699600853577067,-0.9618089897181643,-0.827111687389078,-0.7046529758368414,0.8828852015707367,-0.706753026854823,-1.390935846156628,-1.0817460195694732,0.9059710010262795,1.6281493928309418,-1.5741581898416985,-1.1456360795171043,0.5647014328630369,1.4079302677481942,0.7015348136215821,0.2996814140958031],\"yaxis\":\"y4\",\"type\":\"scatter\"},{\"line\":{\"color\":\"rgba(128, 128, 128, 1.0)\",\"dash\":\"solid\",\"shape\":\"linear\",\"width\":1.3},\"marker\":{\"size\":2,\"symbol\":\"circle\"},\"mode\":\"markers\",\"name\":\"B\",\"text\":\"\",\"x\":[-0.6715841140505145,-0.015693512274722023,-1.2377868022190277,0.02503655607096757,-0.14529398503449995,-1.0551956430573703,0.23233137831534484,-0.2956574504198168,-0.5577910399776433,1.3738652338159894,-2.9623175823727816,1.4904430345297184,1.039183339678253,-0.7113259936440596,-1.1842573167447745,0.08276897728234352,0.329475561063558,0.4884573064355324,0.33170945240886557,-1.623491342611854,-0.2787006945859761,0.3451219421823229,-0.8463179724936395,1.198615884615791,-1.21520995130495,0.08357517582237833,-0.9168333966717761,0.14444471685492827,-0.7587977901216573,-0.5716253932588715,-0.5155445307260258,0.039690930351866376,0.45206315536669267,0.25822078314915525,0.6795014499531823,-0.5258381951483264,-0.5831900803018422,0.9433672570698973,-1.2172033264702742,0.4070804402188379,0.9984241995599689,0.17547655482258462,-0.4864382830689831,-1.1725144840193726,1.2159970426643887,2.2007383884166125,-1.447909129888451,-1.2405381762638814,0.08017130631382811,-2.4146038180313445,0.24500705463654993,1.0955121238600343,0.07840931223258185,-1.0910806569187692,0.8837375823403211,-0.6788158992187295,-0.11096246412127025,-0.18905143074917843,-0.18057514475557498,0.6162366738892845,0.16758644721112217,-1.552022094532808,-0.15980187798785894,0.684059048953964,0.08319961960883286,-0.1393646482722601,-2.504160913360558,0.5878659446965919,1.635811129335889,1.9114127993924863,-0.7805028079982012,0.1596568880233185,0.04155434974831334,1.0035541939648416,0.8908357638671642,0.1327051615657846,-0.3952116467445707,0.7864341312472358,0.38666747641392035,0.14471853623258493,1.431655710690944,-0.11781504624255924,1.4974434253457516,-0.7964145225371747,-1.3699600853577067,-0.9618089897181643,-0.827111687389078,-0.7046529758368414,0.8828852015707367,-0.706753026854823,-1.390935846156628,-1.0817460195694732,0.9059710010262795,1.6281493928309418,-1.5741581898416985,-1.1456360795171043,0.5647014328630369,1.4079302677481942,0.7015348136215821,0.2996814140958031],\"xaxis\":\"x5\",\"y\":[2.2584707094043437,-0.7302799304607928,-0.2639441560358485,-1.6907250644742915,0.1254040074044843,1.3653684572122151,-0.8993710510320301,1.3637219597500265,-0.9949884716772304,1.3124196810371618,0.13120330179599704,0.24421489269566785,-0.27027514734432023,2.4192473141037873,0.07051174070187619,1.1454944026229976,1.3978441309027008,-0.8020321670729008,0.23465940010652886,0.27772437241707726,-0.023704226665142523,1.0647734889326985,-0.1299940741540082,-0.8947487564886276,-0.8601967942699728,-0.31182841235252173,0.7008025244702615,1.462640550182099,-0.7168406874680995,-0.533752063962401,-0.3383209072280021,2.141940772311467,-0.2179188511702646,0.7234207747726848,-1.539763104939272,-0.208167932281236,-0.7514823675298156,0.035625121367857726,0.9241782089734557,0.25995515135379726,0.8840298645904345,1.621531593225492,-1.0862693306485376,-0.9298244982592239,1.0305804958400764,-0.3028330445145502,-0.3412703213179675,0.24259140471291563,0.7725146061486692,-0.5627322260108164,-1.3362173833170023,-0.8364666429820613,-1.8649422541480647,-0.04000503321453959,-0.516321928580932,0.08082616339686961,1.3944373699957966,-0.17216818877174742,-0.5934447292701355,0.10764914753318927,-0.2667606811527233,-1.0162205575249617,-0.1144380817846967,1.4406345038428472,-0.7425514219222027,-1.0606788949699955,-1.586021525034324,-0.12104202346651638,0.8521010224489876,-0.9966586709814385,-0.7121334921084088,-0.4637882083535036,-0.11250665600437545,-0.8411356640052431,-0.7045662925272004,-0.6948250878248523,0.5000878197913172,-0.3528712808109637,-0.09557363709951629,0.11364046061839493,-1.015457474819926,0.36528363055720064,0.6711251693871432,0.7601384575280092,0.4321696477454787,0.6833655360978901,1.7310669374017902,0.4262696812048567,-0.2656194098492696,1.5645661055838156,-0.033652820429172794,-1.0858452674326182,-0.9708252180947552,1.771751835446405,-0.7925116693718385,-1.3470060707018487,0.006208722375716201,-1.499857075979689,-0.8887702919102793,-0.43945889066964533],\"yaxis\":\"y5\",\"type\":\"scatter\"},{\"histfunc\":\"count\",\"histnorm\":\"\",\"marker\":{\"color\":\"rgba(55, 128, 191, 1.0)\",\"line\":{\"color\":\"#4D5663\",\"width\":1.3}},\"name\":\"B\",\"nbinsx\":10,\"opacity\":0.8,\"orientation\":\"v\",\"x\":[2.2584707094043437,-0.7302799304607928,-0.2639441560358485,-1.6907250644742915,0.1254040074044843,1.3653684572122151,-0.8993710510320301,1.3637219597500265,-0.9949884716772304,1.3124196810371618,0.13120330179599704,0.24421489269566785,-0.27027514734432023,2.4192473141037873,0.07051174070187619,1.1454944026229976,1.3978441309027008,-0.8020321670729008,0.23465940010652886,0.27772437241707726,-0.023704226665142523,1.0647734889326985,-0.1299940741540082,-0.8947487564886276,-0.8601967942699728,-0.31182841235252173,0.7008025244702615,1.462640550182099,-0.7168406874680995,-0.533752063962401,-0.3383209072280021,2.141940772311467,-0.2179188511702646,0.7234207747726848,-1.539763104939272,-0.208167932281236,-0.7514823675298156,0.035625121367857726,0.9241782089734557,0.25995515135379726,0.8840298645904345,1.621531593225492,-1.0862693306485376,-0.9298244982592239,1.0305804958400764,-0.3028330445145502,-0.3412703213179675,0.24259140471291563,0.7725146061486692,-0.5627322260108164,-1.3362173833170023,-0.8364666429820613,-1.8649422541480647,-0.04000503321453959,-0.516321928580932,0.08082616339686961,1.3944373699957966,-0.17216818877174742,-0.5934447292701355,0.10764914753318927,-0.2667606811527233,-1.0162205575249617,-0.1144380817846967,1.4406345038428472,-0.7425514219222027,-1.0606788949699955,-1.586021525034324,-0.12104202346651638,0.8521010224489876,-0.9966586709814385,-0.7121334921084088,-0.4637882083535036,-0.11250665600437545,-0.8411356640052431,-0.7045662925272004,-0.6948250878248523,0.5000878197913172,-0.3528712808109637,-0.09557363709951629,0.11364046061839493,-1.015457474819926,0.36528363055720064,0.6711251693871432,0.7601384575280092,0.4321696477454787,0.6833655360978901,1.7310669374017902,0.4262696812048567,-0.2656194098492696,1.5645661055838156,-0.033652820429172794,-1.0858452674326182,-0.9708252180947552,1.771751835446405,-0.7925116693718385,-1.3470060707018487,0.006208722375716201,-1.499857075979689,-0.8887702919102793,-0.43945889066964533],\"xaxis\":\"x6\",\"yaxis\":\"y6\",\"type\":\"histogram\"},{\"line\":{\"color\":\"rgba(128, 128, 128, 1.0)\",\"dash\":\"solid\",\"shape\":\"linear\",\"width\":1.3},\"marker\":{\"size\":2,\"symbol\":\"circle\"},\"mode\":\"markers\",\"name\":\"B\",\"text\":\"\",\"x\":[0.9715485590504849,0.17805578079037374,1.0226214736510901,-0.8694381195156575,-0.2316616538513763,-0.23514648178048406,-0.9084366733358773,0.7082960893309674,-1.9153067609093344,0.49221579376002955,-0.05003965714440723,-1.5680370294502035,0.14448221072270265,0.3073580790559129,-0.6840199805478799,-0.9381329948562944,-1.9087349212901707,-1.3269052489638635,0.7081186471450253,-0.6756607826885137,2.309573885547715,-0.6744408554771967,-1.4535000664961162,0.15164881301305483,0.6961187255522358,0.8725241037169394,0.01979758044591536,-2.0999640292701853,0.5247366656699252,0.5773432872959063,1.277207740501427,0.9583546716298691,-0.2331429642108506,-1.0527977933110753,0.45463559994258035,0.0011469180817339204,-0.1939706845144443,-1.6231410749321515,1.532026544518872,1.1603622659164887,-1.3804331823497566,0.36900899034704016,-1.3417912842517399,1.2395811511921635,-0.021129116765842865,-1.557394979474704,0.870542918565471,-1.0155395128582034,2.200040684246524,0.23668204943963497,-0.9497257565370577,0.2211962306990893,1.7023136503709666,-0.2737581003282735,1.00249312945178,1.211561846991026,0.3219714204720471,0.2996112156365192,-1.0321357177428103,1.6807342640809886,-1.2506099480148745,0.33464862133670836,0.1898629938142908,0.9675282440215491,-0.3537828166578415,1.5126369413241667,0.6176407204564663,-2.163546102762687,0.2478291332533252,0.455503278492527,1.3607904406045999,-0.3425062352366064,0.4030918801177125,0.8520217405723798,-0.5534302121023642,-1.1974868026525782,0.4460212772296304,-1.0305096922042194,-0.4515010192496534,1.0174930183935191,0.5053496144030297,-1.6408859443445472,-1.3365466135761324,0.13205516684893642,0.9030577153865585,1.4137698249332808,-0.44152078212550944,1.5099785124243106,-1.8088220005603304,-0.8505127001965405,-0.930186014824073,-1.0502128999293106,0.7582441720151186,1.3916847146647193,-0.0316486389386445,1.0649078768796696,-0.5623862247786948,-0.5834027047758633,0.16086133678899775,1.1244623697081284],\"xaxis\":\"x7\",\"y\":[2.2584707094043437,-0.7302799304607928,-0.2639441560358485,-1.6907250644742915,0.1254040074044843,1.3653684572122151,-0.8993710510320301,1.3637219597500265,-0.9949884716772304,1.3124196810371618,0.13120330179599704,0.24421489269566785,-0.27027514734432023,2.4192473141037873,0.07051174070187619,1.1454944026229976,1.3978441309027008,-0.8020321670729008,0.23465940010652886,0.27772437241707726,-0.023704226665142523,1.0647734889326985,-0.1299940741540082,-0.8947487564886276,-0.8601967942699728,-0.31182841235252173,0.7008025244702615,1.462640550182099,-0.7168406874680995,-0.533752063962401,-0.3383209072280021,2.141940772311467,-0.2179188511702646,0.7234207747726848,-1.539763104939272,-0.208167932281236,-0.7514823675298156,0.035625121367857726,0.9241782089734557,0.25995515135379726,0.8840298645904345,1.621531593225492,-1.0862693306485376,-0.9298244982592239,1.0305804958400764,-0.3028330445145502,-0.3412703213179675,0.24259140471291563,0.7725146061486692,-0.5627322260108164,-1.3362173833170023,-0.8364666429820613,-1.8649422541480647,-0.04000503321453959,-0.516321928580932,0.08082616339686961,1.3944373699957966,-0.17216818877174742,-0.5934447292701355,0.10764914753318927,-0.2667606811527233,-1.0162205575249617,-0.1144380817846967,1.4406345038428472,-0.7425514219222027,-1.0606788949699955,-1.586021525034324,-0.12104202346651638,0.8521010224489876,-0.9966586709814385,-0.7121334921084088,-0.4637882083535036,-0.11250665600437545,-0.8411356640052431,-0.7045662925272004,-0.6948250878248523,0.5000878197913172,-0.3528712808109637,-0.09557363709951629,0.11364046061839493,-1.015457474819926,0.36528363055720064,0.6711251693871432,0.7601384575280092,0.4321696477454787,0.6833655360978901,1.7310669374017902,0.4262696812048567,-0.2656194098492696,1.5645661055838156,-0.033652820429172794,-1.0858452674326182,-0.9708252180947552,1.771751835446405,-0.7925116693718385,-1.3470060707018487,0.006208722375716201,-1.499857075979689,-0.8887702919102793,-0.43945889066964533],\"yaxis\":\"y7\",\"type\":\"scatter\"},{\"line\":{\"color\":\"rgba(128, 128, 128, 1.0)\",\"dash\":\"solid\",\"shape\":\"linear\",\"width\":1.3},\"marker\":{\"size\":2,\"symbol\":\"circle\"},\"mode\":\"markers\",\"name\":\"B\",\"text\":\"\",\"x\":[1.2788671126878617,0.5463490627005372,-0.8458274852088671,1.891968284906087,0.027129520621435557,0.9076544818601713,1.1428718918578358,-0.3596387227045708,0.2500227533355477,-0.07322678785550782,-0.20911214212065374,0.523723621573591,0.4259764247672888,-1.1968758184322306,-0.8054767941949154,1.8900072380345485,0.8452113436466301,-0.25414609073347877,0.03570855246577367,0.14575503135915918,2.189428173696937,-0.07187860253400183,-0.7418466311463111,-0.505340193235467,-0.4959876377616374,-0.21749317450560904,0.10492539817008403,-0.059598361653984966,-0.884962776942417,1.3091537990351603,1.7323272249030568,-1.1585055113970915,-1.4797572809249315,1.5501511744148435,-0.40991876351239337,-0.09463390578367643,-0.4961731048584968,-0.12116479609004391,1.5429867747832684,2.083823626126322,-1.3405618577286778,-0.013274360478629371,1.4704827400113714,-0.09230518925486603,-0.1814328005222361,1.1937710999811717,-0.17038391795488023,0.40313263628071977,-0.37281732453145733,0.3707495163122737,0.30920736594324405,-0.5702771593764394,0.49741067835785063,0.3251355812421022,0.26196593782269134,0.8972217561696456,0.21324090680672533,-0.592522484752052,0.3189074515402922,0.46513692270318635,-0.2758476538032941,0.7688813450982438,-0.3319192869248297,-1.0340902467079396,-0.47875869327376647,0.4948476815535337,0.5958264226747494,0.6503139300524439,-1.4830468087573092,-0.6463031033931556,-0.30555585754444564,0.21901772500633013,0.6548728016080407,1.1596515508110465,-0.9449083897526811,-0.8559496144959297,1.1764890071657674,-2.7626589596873967,0.34726352104614705,-2.0534746469817633,-0.0778792691985187,-0.79091489232892,-1.783799382189531,0.876754632425876,-0.5064195302925444,-0.5587688290364335,-0.10191596449244297,1.1109009231629037,1.3054030990977499,1.706073511150618,-0.8962883920903764,1.1202847972825045,-1.6472410388756322,-1.6999419548084038,0.9423173222319073,1.3259604804878835,1.1463039571620701,0.16192374138738494,-0.4302555224507472,1.2522124410555802],\"xaxis\":\"x8\",\"y\":[2.2584707094043437,-0.7302799304607928,-0.2639441560358485,-1.6907250644742915,0.1254040074044843,1.3653684572122151,-0.8993710510320301,1.3637219597500265,-0.9949884716772304,1.3124196810371618,0.13120330179599704,0.24421489269566785,-0.27027514734432023,2.4192473141037873,0.07051174070187619,1.1454944026229976,1.3978441309027008,-0.8020321670729008,0.23465940010652886,0.27772437241707726,-0.023704226665142523,1.0647734889326985,-0.1299940741540082,-0.8947487564886276,-0.8601967942699728,-0.31182841235252173,0.7008025244702615,1.462640550182099,-0.7168406874680995,-0.533752063962401,-0.3383209072280021,2.141940772311467,-0.2179188511702646,0.7234207747726848,-1.539763104939272,-0.208167932281236,-0.7514823675298156,0.035625121367857726,0.9241782089734557,0.25995515135379726,0.8840298645904345,1.621531593225492,-1.0862693306485376,-0.9298244982592239,1.0305804958400764,-0.3028330445145502,-0.3412703213179675,0.24259140471291563,0.7725146061486692,-0.5627322260108164,-1.3362173833170023,-0.8364666429820613,-1.8649422541480647,-0.04000503321453959,-0.516321928580932,0.08082616339686961,1.3944373699957966,-0.17216818877174742,-0.5934447292701355,0.10764914753318927,-0.2667606811527233,-1.0162205575249617,-0.1144380817846967,1.4406345038428472,-0.7425514219222027,-1.0606788949699955,-1.586021525034324,-0.12104202346651638,0.8521010224489876,-0.9966586709814385,-0.7121334921084088,-0.4637882083535036,-0.11250665600437545,-0.8411356640052431,-0.7045662925272004,-0.6948250878248523,0.5000878197913172,-0.3528712808109637,-0.09557363709951629,0.11364046061839493,-1.015457474819926,0.36528363055720064,0.6711251693871432,0.7601384575280092,0.4321696477454787,0.6833655360978901,1.7310669374017902,0.4262696812048567,-0.2656194098492696,1.5645661055838156,-0.033652820429172794,-1.0858452674326182,-0.9708252180947552,1.771751835446405,-0.7925116693718385,-1.3470060707018487,0.006208722375716201,-1.499857075979689,-0.8887702919102793,-0.43945889066964533],\"yaxis\":\"y8\",\"type\":\"scatter\"},{\"line\":{\"color\":\"rgba(128, 128, 128, 1.0)\",\"dash\":\"solid\",\"shape\":\"linear\",\"width\":1.3},\"marker\":{\"size\":2,\"symbol\":\"circle\"},\"mode\":\"markers\",\"name\":\"C\",\"text\":\"\",\"x\":[-0.6715841140505145,-0.015693512274722023,-1.2377868022190277,0.02503655607096757,-0.14529398503449995,-1.0551956430573703,0.23233137831534484,-0.2956574504198168,-0.5577910399776433,1.3738652338159894,-2.9623175823727816,1.4904430345297184,1.039183339678253,-0.7113259936440596,-1.1842573167447745,0.08276897728234352,0.329475561063558,0.4884573064355324,0.33170945240886557,-1.623491342611854,-0.2787006945859761,0.3451219421823229,-0.8463179724936395,1.198615884615791,-1.21520995130495,0.08357517582237833,-0.9168333966717761,0.14444471685492827,-0.7587977901216573,-0.5716253932588715,-0.5155445307260258,0.039690930351866376,0.45206315536669267,0.25822078314915525,0.6795014499531823,-0.5258381951483264,-0.5831900803018422,0.9433672570698973,-1.2172033264702742,0.4070804402188379,0.9984241995599689,0.17547655482258462,-0.4864382830689831,-1.1725144840193726,1.2159970426643887,2.2007383884166125,-1.447909129888451,-1.2405381762638814,0.08017130631382811,-2.4146038180313445,0.24500705463654993,1.0955121238600343,0.07840931223258185,-1.0910806569187692,0.8837375823403211,-0.6788158992187295,-0.11096246412127025,-0.18905143074917843,-0.18057514475557498,0.6162366738892845,0.16758644721112217,-1.552022094532808,-0.15980187798785894,0.684059048953964,0.08319961960883286,-0.1393646482722601,-2.504160913360558,0.5878659446965919,1.635811129335889,1.9114127993924863,-0.7805028079982012,0.1596568880233185,0.04155434974831334,1.0035541939648416,0.8908357638671642,0.1327051615657846,-0.3952116467445707,0.7864341312472358,0.38666747641392035,0.14471853623258493,1.431655710690944,-0.11781504624255924,1.4974434253457516,-0.7964145225371747,-1.3699600853577067,-0.9618089897181643,-0.827111687389078,-0.7046529758368414,0.8828852015707367,-0.706753026854823,-1.390935846156628,-1.0817460195694732,0.9059710010262795,1.6281493928309418,-1.5741581898416985,-1.1456360795171043,0.5647014328630369,1.4079302677481942,0.7015348136215821,0.2996814140958031],\"xaxis\":\"x9\",\"y\":[0.9715485590504849,0.17805578079037374,1.0226214736510901,-0.8694381195156575,-0.2316616538513763,-0.23514648178048406,-0.9084366733358773,0.7082960893309674,-1.9153067609093344,0.49221579376002955,-0.05003965714440723,-1.5680370294502035,0.14448221072270265,0.3073580790559129,-0.6840199805478799,-0.9381329948562944,-1.9087349212901707,-1.3269052489638635,0.7081186471450253,-0.6756607826885137,2.309573885547715,-0.6744408554771967,-1.4535000664961162,0.15164881301305483,0.6961187255522358,0.8725241037169394,0.01979758044591536,-2.0999640292701853,0.5247366656699252,0.5773432872959063,1.277207740501427,0.9583546716298691,-0.2331429642108506,-1.0527977933110753,0.45463559994258035,0.0011469180817339204,-0.1939706845144443,-1.6231410749321515,1.532026544518872,1.1603622659164887,-1.3804331823497566,0.36900899034704016,-1.3417912842517399,1.2395811511921635,-0.021129116765842865,-1.557394979474704,0.870542918565471,-1.0155395128582034,2.200040684246524,0.23668204943963497,-0.9497257565370577,0.2211962306990893,1.7023136503709666,-0.2737581003282735,1.00249312945178,1.211561846991026,0.3219714204720471,0.2996112156365192,-1.0321357177428103,1.6807342640809886,-1.2506099480148745,0.33464862133670836,0.1898629938142908,0.9675282440215491,-0.3537828166578415,1.5126369413241667,0.6176407204564663,-2.163546102762687,0.2478291332533252,0.455503278492527,1.3607904406045999,-0.3425062352366064,0.4030918801177125,0.8520217405723798,-0.5534302121023642,-1.1974868026525782,0.4460212772296304,-1.0305096922042194,-0.4515010192496534,1.0174930183935191,0.5053496144030297,-1.6408859443445472,-1.3365466135761324,0.13205516684893642,0.9030577153865585,1.4137698249332808,-0.44152078212550944,1.5099785124243106,-1.8088220005603304,-0.8505127001965405,-0.930186014824073,-1.0502128999293106,0.7582441720151186,1.3916847146647193,-0.0316486389386445,1.0649078768796696,-0.5623862247786948,-0.5834027047758633,0.16086133678899775,1.1244623697081284],\"yaxis\":\"y9\",\"type\":\"scatter\"},{\"line\":{\"color\":\"rgba(128, 128, 128, 1.0)\",\"dash\":\"solid\",\"shape\":\"linear\",\"width\":1.3},\"marker\":{\"size\":2,\"symbol\":\"circle\"},\"mode\":\"markers\",\"name\":\"C\",\"text\":\"\",\"x\":[2.2584707094043437,-0.7302799304607928,-0.2639441560358485,-1.6907250644742915,0.1254040074044843,1.3653684572122151,-0.8993710510320301,1.3637219597500265,-0.9949884716772304,1.3124196810371618,0.13120330179599704,0.24421489269566785,-0.27027514734432023,2.4192473141037873,0.07051174070187619,1.1454944026229976,1.3978441309027008,-0.8020321670729008,0.23465940010652886,0.27772437241707726,-0.023704226665142523,1.0647734889326985,-0.1299940741540082,-0.8947487564886276,-0.8601967942699728,-0.31182841235252173,0.7008025244702615,1.462640550182099,-0.7168406874680995,-0.533752063962401,-0.3383209072280021,2.141940772311467,-0.2179188511702646,0.7234207747726848,-1.539763104939272,-0.208167932281236,-0.7514823675298156,0.035625121367857726,0.9241782089734557,0.25995515135379726,0.8840298645904345,1.621531593225492,-1.0862693306485376,-0.9298244982592239,1.0305804958400764,-0.3028330445145502,-0.3412703213179675,0.24259140471291563,0.7725146061486692,-0.5627322260108164,-1.3362173833170023,-0.8364666429820613,-1.8649422541480647,-0.04000503321453959,-0.516321928580932,0.08082616339686961,1.3944373699957966,-0.17216818877174742,-0.5934447292701355,0.10764914753318927,-0.2667606811527233,-1.0162205575249617,-0.1144380817846967,1.4406345038428472,-0.7425514219222027,-1.0606788949699955,-1.586021525034324,-0.12104202346651638,0.8521010224489876,-0.9966586709814385,-0.7121334921084088,-0.4637882083535036,-0.11250665600437545,-0.8411356640052431,-0.7045662925272004,-0.6948250878248523,0.5000878197913172,-0.3528712808109637,-0.09557363709951629,0.11364046061839493,-1.015457474819926,0.36528363055720064,0.6711251693871432,0.7601384575280092,0.4321696477454787,0.6833655360978901,1.7310669374017902,0.4262696812048567,-0.2656194098492696,1.5645661055838156,-0.033652820429172794,-1.0858452674326182,-0.9708252180947552,1.771751835446405,-0.7925116693718385,-1.3470060707018487,0.006208722375716201,-1.499857075979689,-0.8887702919102793,-0.43945889066964533],\"xaxis\":\"x10\",\"y\":[0.9715485590504849,0.17805578079037374,1.0226214736510901,-0.8694381195156575,-0.2316616538513763,-0.23514648178048406,-0.9084366733358773,0.7082960893309674,-1.9153067609093344,0.49221579376002955,-0.05003965714440723,-1.5680370294502035,0.14448221072270265,0.3073580790559129,-0.6840199805478799,-0.9381329948562944,-1.9087349212901707,-1.3269052489638635,0.7081186471450253,-0.6756607826885137,2.309573885547715,-0.6744408554771967,-1.4535000664961162,0.15164881301305483,0.6961187255522358,0.8725241037169394,0.01979758044591536,-2.0999640292701853,0.5247366656699252,0.5773432872959063,1.277207740501427,0.9583546716298691,-0.2331429642108506,-1.0527977933110753,0.45463559994258035,0.0011469180817339204,-0.1939706845144443,-1.6231410749321515,1.532026544518872,1.1603622659164887,-1.3804331823497566,0.36900899034704016,-1.3417912842517399,1.2395811511921635,-0.021129116765842865,-1.557394979474704,0.870542918565471,-1.0155395128582034,2.200040684246524,0.23668204943963497,-0.9497257565370577,0.2211962306990893,1.7023136503709666,-0.2737581003282735,1.00249312945178,1.211561846991026,0.3219714204720471,0.2996112156365192,-1.0321357177428103,1.6807342640809886,-1.2506099480148745,0.33464862133670836,0.1898629938142908,0.9675282440215491,-0.3537828166578415,1.5126369413241667,0.6176407204564663,-2.163546102762687,0.2478291332533252,0.455503278492527,1.3607904406045999,-0.3425062352366064,0.4030918801177125,0.8520217405723798,-0.5534302121023642,-1.1974868026525782,0.4460212772296304,-1.0305096922042194,-0.4515010192496534,1.0174930183935191,0.5053496144030297,-1.6408859443445472,-1.3365466135761324,0.13205516684893642,0.9030577153865585,1.4137698249332808,-0.44152078212550944,1.5099785124243106,-1.8088220005603304,-0.8505127001965405,-0.930186014824073,-1.0502128999293106,0.7582441720151186,1.3916847146647193,-0.0316486389386445,1.0649078768796696,-0.5623862247786948,-0.5834027047758633,0.16086133678899775,1.1244623697081284],\"yaxis\":\"y10\",\"type\":\"scatter\"},{\"histfunc\":\"count\",\"histnorm\":\"\",\"marker\":{\"color\":\"rgba(50, 171, 96, 1.0)\",\"line\":{\"color\":\"#4D5663\",\"width\":1.3}},\"name\":\"C\",\"nbinsx\":10,\"opacity\":0.8,\"orientation\":\"v\",\"x\":[0.9715485590504849,0.17805578079037374,1.0226214736510901,-0.8694381195156575,-0.2316616538513763,-0.23514648178048406,-0.9084366733358773,0.7082960893309674,-1.9153067609093344,0.49221579376002955,-0.05003965714440723,-1.5680370294502035,0.14448221072270265,0.3073580790559129,-0.6840199805478799,-0.9381329948562944,-1.9087349212901707,-1.3269052489638635,0.7081186471450253,-0.6756607826885137,2.309573885547715,-0.6744408554771967,-1.4535000664961162,0.15164881301305483,0.6961187255522358,0.8725241037169394,0.01979758044591536,-2.0999640292701853,0.5247366656699252,0.5773432872959063,1.277207740501427,0.9583546716298691,-0.2331429642108506,-1.0527977933110753,0.45463559994258035,0.0011469180817339204,-0.1939706845144443,-1.6231410749321515,1.532026544518872,1.1603622659164887,-1.3804331823497566,0.36900899034704016,-1.3417912842517399,1.2395811511921635,-0.021129116765842865,-1.557394979474704,0.870542918565471,-1.0155395128582034,2.200040684246524,0.23668204943963497,-0.9497257565370577,0.2211962306990893,1.7023136503709666,-0.2737581003282735,1.00249312945178,1.211561846991026,0.3219714204720471,0.2996112156365192,-1.0321357177428103,1.6807342640809886,-1.2506099480148745,0.33464862133670836,0.1898629938142908,0.9675282440215491,-0.3537828166578415,1.5126369413241667,0.6176407204564663,-2.163546102762687,0.2478291332533252,0.455503278492527,1.3607904406045999,-0.3425062352366064,0.4030918801177125,0.8520217405723798,-0.5534302121023642,-1.1974868026525782,0.4460212772296304,-1.0305096922042194,-0.4515010192496534,1.0174930183935191,0.5053496144030297,-1.6408859443445472,-1.3365466135761324,0.13205516684893642,0.9030577153865585,1.4137698249332808,-0.44152078212550944,1.5099785124243106,-1.8088220005603304,-0.8505127001965405,-0.930186014824073,-1.0502128999293106,0.7582441720151186,1.3916847146647193,-0.0316486389386445,1.0649078768796696,-0.5623862247786948,-0.5834027047758633,0.16086133678899775,1.1244623697081284],\"xaxis\":\"x11\",\"yaxis\":\"y11\",\"type\":\"histogram\"},{\"line\":{\"color\":\"rgba(128, 128, 128, 1.0)\",\"dash\":\"solid\",\"shape\":\"linear\",\"width\":1.3},\"marker\":{\"size\":2,\"symbol\":\"circle\"},\"mode\":\"markers\",\"name\":\"C\",\"text\":\"\",\"x\":[1.2788671126878617,0.5463490627005372,-0.8458274852088671,1.891968284906087,0.027129520621435557,0.9076544818601713,1.1428718918578358,-0.3596387227045708,0.2500227533355477,-0.07322678785550782,-0.20911214212065374,0.523723621573591,0.4259764247672888,-1.1968758184322306,-0.8054767941949154,1.8900072380345485,0.8452113436466301,-0.25414609073347877,0.03570855246577367,0.14575503135915918,2.189428173696937,-0.07187860253400183,-0.7418466311463111,-0.505340193235467,-0.4959876377616374,-0.21749317450560904,0.10492539817008403,-0.059598361653984966,-0.884962776942417,1.3091537990351603,1.7323272249030568,-1.1585055113970915,-1.4797572809249315,1.5501511744148435,-0.40991876351239337,-0.09463390578367643,-0.4961731048584968,-0.12116479609004391,1.5429867747832684,2.083823626126322,-1.3405618577286778,-0.013274360478629371,1.4704827400113714,-0.09230518925486603,-0.1814328005222361,1.1937710999811717,-0.17038391795488023,0.40313263628071977,-0.37281732453145733,0.3707495163122737,0.30920736594324405,-0.5702771593764394,0.49741067835785063,0.3251355812421022,0.26196593782269134,0.8972217561696456,0.21324090680672533,-0.592522484752052,0.3189074515402922,0.46513692270318635,-0.2758476538032941,0.7688813450982438,-0.3319192869248297,-1.0340902467079396,-0.47875869327376647,0.4948476815535337,0.5958264226747494,0.6503139300524439,-1.4830468087573092,-0.6463031033931556,-0.30555585754444564,0.21901772500633013,0.6548728016080407,1.1596515508110465,-0.9449083897526811,-0.8559496144959297,1.1764890071657674,-2.7626589596873967,0.34726352104614705,-2.0534746469817633,-0.0778792691985187,-0.79091489232892,-1.783799382189531,0.876754632425876,-0.5064195302925444,-0.5587688290364335,-0.10191596449244297,1.1109009231629037,1.3054030990977499,1.706073511150618,-0.8962883920903764,1.1202847972825045,-1.6472410388756322,-1.6999419548084038,0.9423173222319073,1.3259604804878835,1.1463039571620701,0.16192374138738494,-0.4302555224507472,1.2522124410555802],\"xaxis\":\"x12\",\"y\":[0.9715485590504849,0.17805578079037374,1.0226214736510901,-0.8694381195156575,-0.2316616538513763,-0.23514648178048406,-0.9084366733358773,0.7082960893309674,-1.9153067609093344,0.49221579376002955,-0.05003965714440723,-1.5680370294502035,0.14448221072270265,0.3073580790559129,-0.6840199805478799,-0.9381329948562944,-1.9087349212901707,-1.3269052489638635,0.7081186471450253,-0.6756607826885137,2.309573885547715,-0.6744408554771967,-1.4535000664961162,0.15164881301305483,0.6961187255522358,0.8725241037169394,0.01979758044591536,-2.0999640292701853,0.5247366656699252,0.5773432872959063,1.277207740501427,0.9583546716298691,-0.2331429642108506,-1.0527977933110753,0.45463559994258035,0.0011469180817339204,-0.1939706845144443,-1.6231410749321515,1.532026544518872,1.1603622659164887,-1.3804331823497566,0.36900899034704016,-1.3417912842517399,1.2395811511921635,-0.021129116765842865,-1.557394979474704,0.870542918565471,-1.0155395128582034,2.200040684246524,0.23668204943963497,-0.9497257565370577,0.2211962306990893,1.7023136503709666,-0.2737581003282735,1.00249312945178,1.211561846991026,0.3219714204720471,0.2996112156365192,-1.0321357177428103,1.6807342640809886,-1.2506099480148745,0.33464862133670836,0.1898629938142908,0.9675282440215491,-0.3537828166578415,1.5126369413241667,0.6176407204564663,-2.163546102762687,0.2478291332533252,0.455503278492527,1.3607904406045999,-0.3425062352366064,0.4030918801177125,0.8520217405723798,-0.5534302121023642,-1.1974868026525782,0.4460212772296304,-1.0305096922042194,-0.4515010192496534,1.0174930183935191,0.5053496144030297,-1.6408859443445472,-1.3365466135761324,0.13205516684893642,0.9030577153865585,1.4137698249332808,-0.44152078212550944,1.5099785124243106,-1.8088220005603304,-0.8505127001965405,-0.930186014824073,-1.0502128999293106,0.7582441720151186,1.3916847146647193,-0.0316486389386445,1.0649078768796696,-0.5623862247786948,-0.5834027047758633,0.16086133678899775,1.1244623697081284],\"yaxis\":\"y12\",\"type\":\"scatter\"},{\"line\":{\"color\":\"rgba(128, 128, 128, 1.0)\",\"dash\":\"solid\",\"shape\":\"linear\",\"width\":1.3},\"marker\":{\"size\":2,\"symbol\":\"circle\"},\"mode\":\"markers\",\"name\":\"D\",\"text\":\"\",\"x\":[-0.6715841140505145,-0.015693512274722023,-1.2377868022190277,0.02503655607096757,-0.14529398503449995,-1.0551956430573703,0.23233137831534484,-0.2956574504198168,-0.5577910399776433,1.3738652338159894,-2.9623175823727816,1.4904430345297184,1.039183339678253,-0.7113259936440596,-1.1842573167447745,0.08276897728234352,0.329475561063558,0.4884573064355324,0.33170945240886557,-1.623491342611854,-0.2787006945859761,0.3451219421823229,-0.8463179724936395,1.198615884615791,-1.21520995130495,0.08357517582237833,-0.9168333966717761,0.14444471685492827,-0.7587977901216573,-0.5716253932588715,-0.5155445307260258,0.039690930351866376,0.45206315536669267,0.25822078314915525,0.6795014499531823,-0.5258381951483264,-0.5831900803018422,0.9433672570698973,-1.2172033264702742,0.4070804402188379,0.9984241995599689,0.17547655482258462,-0.4864382830689831,-1.1725144840193726,1.2159970426643887,2.2007383884166125,-1.447909129888451,-1.2405381762638814,0.08017130631382811,-2.4146038180313445,0.24500705463654993,1.0955121238600343,0.07840931223258185,-1.0910806569187692,0.8837375823403211,-0.6788158992187295,-0.11096246412127025,-0.18905143074917843,-0.18057514475557498,0.6162366738892845,0.16758644721112217,-1.552022094532808,-0.15980187798785894,0.684059048953964,0.08319961960883286,-0.1393646482722601,-2.504160913360558,0.5878659446965919,1.635811129335889,1.9114127993924863,-0.7805028079982012,0.1596568880233185,0.04155434974831334,1.0035541939648416,0.8908357638671642,0.1327051615657846,-0.3952116467445707,0.7864341312472358,0.38666747641392035,0.14471853623258493,1.431655710690944,-0.11781504624255924,1.4974434253457516,-0.7964145225371747,-1.3699600853577067,-0.9618089897181643,-0.827111687389078,-0.7046529758368414,0.8828852015707367,-0.706753026854823,-1.390935846156628,-1.0817460195694732,0.9059710010262795,1.6281493928309418,-1.5741581898416985,-1.1456360795171043,0.5647014328630369,1.4079302677481942,0.7015348136215821,0.2996814140958031],\"xaxis\":\"x13\",\"y\":[1.2788671126878617,0.5463490627005372,-0.8458274852088671,1.891968284906087,0.027129520621435557,0.9076544818601713,1.1428718918578358,-0.3596387227045708,0.2500227533355477,-0.07322678785550782,-0.20911214212065374,0.523723621573591,0.4259764247672888,-1.1968758184322306,-0.8054767941949154,1.8900072380345485,0.8452113436466301,-0.25414609073347877,0.03570855246577367,0.14575503135915918,2.189428173696937,-0.07187860253400183,-0.7418466311463111,-0.505340193235467,-0.4959876377616374,-0.21749317450560904,0.10492539817008403,-0.059598361653984966,-0.884962776942417,1.3091537990351603,1.7323272249030568,-1.1585055113970915,-1.4797572809249315,1.5501511744148435,-0.40991876351239337,-0.09463390578367643,-0.4961731048584968,-0.12116479609004391,1.5429867747832684,2.083823626126322,-1.3405618577286778,-0.013274360478629371,1.4704827400113714,-0.09230518925486603,-0.1814328005222361,1.1937710999811717,-0.17038391795488023,0.40313263628071977,-0.37281732453145733,0.3707495163122737,0.30920736594324405,-0.5702771593764394,0.49741067835785063,0.3251355812421022,0.26196593782269134,0.8972217561696456,0.21324090680672533,-0.592522484752052,0.3189074515402922,0.46513692270318635,-0.2758476538032941,0.7688813450982438,-0.3319192869248297,-1.0340902467079396,-0.47875869327376647,0.4948476815535337,0.5958264226747494,0.6503139300524439,-1.4830468087573092,-0.6463031033931556,-0.30555585754444564,0.21901772500633013,0.6548728016080407,1.1596515508110465,-0.9449083897526811,-0.8559496144959297,1.1764890071657674,-2.7626589596873967,0.34726352104614705,-2.0534746469817633,-0.0778792691985187,-0.79091489232892,-1.783799382189531,0.876754632425876,-0.5064195302925444,-0.5587688290364335,-0.10191596449244297,1.1109009231629037,1.3054030990977499,1.706073511150618,-0.8962883920903764,1.1202847972825045,-1.6472410388756322,-1.6999419548084038,0.9423173222319073,1.3259604804878835,1.1463039571620701,0.16192374138738494,-0.4302555224507472,1.2522124410555802],\"yaxis\":\"y13\",\"type\":\"scatter\"},{\"line\":{\"color\":\"rgba(128, 128, 128, 1.0)\",\"dash\":\"solid\",\"shape\":\"linear\",\"width\":1.3},\"marker\":{\"size\":2,\"symbol\":\"circle\"},\"mode\":\"markers\",\"name\":\"D\",\"text\":\"\",\"x\":[2.2584707094043437,-0.7302799304607928,-0.2639441560358485,-1.6907250644742915,0.1254040074044843,1.3653684572122151,-0.8993710510320301,1.3637219597500265,-0.9949884716772304,1.3124196810371618,0.13120330179599704,0.24421489269566785,-0.27027514734432023,2.4192473141037873,0.07051174070187619,1.1454944026229976,1.3978441309027008,-0.8020321670729008,0.23465940010652886,0.27772437241707726,-0.023704226665142523,1.0647734889326985,-0.1299940741540082,-0.8947487564886276,-0.8601967942699728,-0.31182841235252173,0.7008025244702615,1.462640550182099,-0.7168406874680995,-0.533752063962401,-0.3383209072280021,2.141940772311467,-0.2179188511702646,0.7234207747726848,-1.539763104939272,-0.208167932281236,-0.7514823675298156,0.035625121367857726,0.9241782089734557,0.25995515135379726,0.8840298645904345,1.621531593225492,-1.0862693306485376,-0.9298244982592239,1.0305804958400764,-0.3028330445145502,-0.3412703213179675,0.24259140471291563,0.7725146061486692,-0.5627322260108164,-1.3362173833170023,-0.8364666429820613,-1.8649422541480647,-0.04000503321453959,-0.516321928580932,0.08082616339686961,1.3944373699957966,-0.17216818877174742,-0.5934447292701355,0.10764914753318927,-0.2667606811527233,-1.0162205575249617,-0.1144380817846967,1.4406345038428472,-0.7425514219222027,-1.0606788949699955,-1.586021525034324,-0.12104202346651638,0.8521010224489876,-0.9966586709814385,-0.7121334921084088,-0.4637882083535036,-0.11250665600437545,-0.8411356640052431,-0.7045662925272004,-0.6948250878248523,0.5000878197913172,-0.3528712808109637,-0.09557363709951629,0.11364046061839493,-1.015457474819926,0.36528363055720064,0.6711251693871432,0.7601384575280092,0.4321696477454787,0.6833655360978901,1.7310669374017902,0.4262696812048567,-0.2656194098492696,1.5645661055838156,-0.033652820429172794,-1.0858452674326182,-0.9708252180947552,1.771751835446405,-0.7925116693718385,-1.3470060707018487,0.006208722375716201,-1.499857075979689,-0.8887702919102793,-0.43945889066964533],\"xaxis\":\"x14\",\"y\":[1.2788671126878617,0.5463490627005372,-0.8458274852088671,1.891968284906087,0.027129520621435557,0.9076544818601713,1.1428718918578358,-0.3596387227045708,0.2500227533355477,-0.07322678785550782,-0.20911214212065374,0.523723621573591,0.4259764247672888,-1.1968758184322306,-0.8054767941949154,1.8900072380345485,0.8452113436466301,-0.25414609073347877,0.03570855246577367,0.14575503135915918,2.189428173696937,-0.07187860253400183,-0.7418466311463111,-0.505340193235467,-0.4959876377616374,-0.21749317450560904,0.10492539817008403,-0.059598361653984966,-0.884962776942417,1.3091537990351603,1.7323272249030568,-1.1585055113970915,-1.4797572809249315,1.5501511744148435,-0.40991876351239337,-0.09463390578367643,-0.4961731048584968,-0.12116479609004391,1.5429867747832684,2.083823626126322,-1.3405618577286778,-0.013274360478629371,1.4704827400113714,-0.09230518925486603,-0.1814328005222361,1.1937710999811717,-0.17038391795488023,0.40313263628071977,-0.37281732453145733,0.3707495163122737,0.30920736594324405,-0.5702771593764394,0.49741067835785063,0.3251355812421022,0.26196593782269134,0.8972217561696456,0.21324090680672533,-0.592522484752052,0.3189074515402922,0.46513692270318635,-0.2758476538032941,0.7688813450982438,-0.3319192869248297,-1.0340902467079396,-0.47875869327376647,0.4948476815535337,0.5958264226747494,0.6503139300524439,-1.4830468087573092,-0.6463031033931556,-0.30555585754444564,0.21901772500633013,0.6548728016080407,1.1596515508110465,-0.9449083897526811,-0.8559496144959297,1.1764890071657674,-2.7626589596873967,0.34726352104614705,-2.0534746469817633,-0.0778792691985187,-0.79091489232892,-1.783799382189531,0.876754632425876,-0.5064195302925444,-0.5587688290364335,-0.10191596449244297,1.1109009231629037,1.3054030990977499,1.706073511150618,-0.8962883920903764,1.1202847972825045,-1.6472410388756322,-1.6999419548084038,0.9423173222319073,1.3259604804878835,1.1463039571620701,0.16192374138738494,-0.4302555224507472,1.2522124410555802],\"yaxis\":\"y14\",\"type\":\"scatter\"},{\"line\":{\"color\":\"rgba(128, 128, 128, 1.0)\",\"dash\":\"solid\",\"shape\":\"linear\",\"width\":1.3},\"marker\":{\"size\":2,\"symbol\":\"circle\"},\"mode\":\"markers\",\"name\":\"D\",\"text\":\"\",\"x\":[0.9715485590504849,0.17805578079037374,1.0226214736510901,-0.8694381195156575,-0.2316616538513763,-0.23514648178048406,-0.9084366733358773,0.7082960893309674,-1.9153067609093344,0.49221579376002955,-0.05003965714440723,-1.5680370294502035,0.14448221072270265,0.3073580790559129,-0.6840199805478799,-0.9381329948562944,-1.9087349212901707,-1.3269052489638635,0.7081186471450253,-0.6756607826885137,2.309573885547715,-0.6744408554771967,-1.4535000664961162,0.15164881301305483,0.6961187255522358,0.8725241037169394,0.01979758044591536,-2.0999640292701853,0.5247366656699252,0.5773432872959063,1.277207740501427,0.9583546716298691,-0.2331429642108506,-1.0527977933110753,0.45463559994258035,0.0011469180817339204,-0.1939706845144443,-1.6231410749321515,1.532026544518872,1.1603622659164887,-1.3804331823497566,0.36900899034704016,-1.3417912842517399,1.2395811511921635,-0.021129116765842865,-1.557394979474704,0.870542918565471,-1.0155395128582034,2.200040684246524,0.23668204943963497,-0.9497257565370577,0.2211962306990893,1.7023136503709666,-0.2737581003282735,1.00249312945178,1.211561846991026,0.3219714204720471,0.2996112156365192,-1.0321357177428103,1.6807342640809886,-1.2506099480148745,0.33464862133670836,0.1898629938142908,0.9675282440215491,-0.3537828166578415,1.5126369413241667,0.6176407204564663,-2.163546102762687,0.2478291332533252,0.455503278492527,1.3607904406045999,-0.3425062352366064,0.4030918801177125,0.8520217405723798,-0.5534302121023642,-1.1974868026525782,0.4460212772296304,-1.0305096922042194,-0.4515010192496534,1.0174930183935191,0.5053496144030297,-1.6408859443445472,-1.3365466135761324,0.13205516684893642,0.9030577153865585,1.4137698249332808,-0.44152078212550944,1.5099785124243106,-1.8088220005603304,-0.8505127001965405,-0.930186014824073,-1.0502128999293106,0.7582441720151186,1.3916847146647193,-0.0316486389386445,1.0649078768796696,-0.5623862247786948,-0.5834027047758633,0.16086133678899775,1.1244623697081284],\"xaxis\":\"x15\",\"y\":[1.2788671126878617,0.5463490627005372,-0.8458274852088671,1.891968284906087,0.027129520621435557,0.9076544818601713,1.1428718918578358,-0.3596387227045708,0.2500227533355477,-0.07322678785550782,-0.20911214212065374,0.523723621573591,0.4259764247672888,-1.1968758184322306,-0.8054767941949154,1.8900072380345485,0.8452113436466301,-0.25414609073347877,0.03570855246577367,0.14575503135915918,2.189428173696937,-0.07187860253400183,-0.7418466311463111,-0.505340193235467,-0.4959876377616374,-0.21749317450560904,0.10492539817008403,-0.059598361653984966,-0.884962776942417,1.3091537990351603,1.7323272249030568,-1.1585055113970915,-1.4797572809249315,1.5501511744148435,-0.40991876351239337,-0.09463390578367643,-0.4961731048584968,-0.12116479609004391,1.5429867747832684,2.083823626126322,-1.3405618577286778,-0.013274360478629371,1.4704827400113714,-0.09230518925486603,-0.1814328005222361,1.1937710999811717,-0.17038391795488023,0.40313263628071977,-0.37281732453145733,0.3707495163122737,0.30920736594324405,-0.5702771593764394,0.49741067835785063,0.3251355812421022,0.26196593782269134,0.8972217561696456,0.21324090680672533,-0.592522484752052,0.3189074515402922,0.46513692270318635,-0.2758476538032941,0.7688813450982438,-0.3319192869248297,-1.0340902467079396,-0.47875869327376647,0.4948476815535337,0.5958264226747494,0.6503139300524439,-1.4830468087573092,-0.6463031033931556,-0.30555585754444564,0.21901772500633013,0.6548728016080407,1.1596515508110465,-0.9449083897526811,-0.8559496144959297,1.1764890071657674,-2.7626589596873967,0.34726352104614705,-2.0534746469817633,-0.0778792691985187,-0.79091489232892,-1.783799382189531,0.876754632425876,-0.5064195302925444,-0.5587688290364335,-0.10191596449244297,1.1109009231629037,1.3054030990977499,1.706073511150618,-0.8962883920903764,1.1202847972825045,-1.6472410388756322,-1.6999419548084038,0.9423173222319073,1.3259604804878835,1.1463039571620701,0.16192374138738494,-0.4302555224507472,1.2522124410555802],\"yaxis\":\"y15\",\"type\":\"scatter\"},{\"histfunc\":\"count\",\"histnorm\":\"\",\"marker\":{\"color\":\"rgba(128, 0, 128, 1.0)\",\"line\":{\"color\":\"#4D5663\",\"width\":1.3}},\"name\":\"D\",\"nbinsx\":10,\"opacity\":0.8,\"orientation\":\"v\",\"x\":[1.2788671126878617,0.5463490627005372,-0.8458274852088671,1.891968284906087,0.027129520621435557,0.9076544818601713,1.1428718918578358,-0.3596387227045708,0.2500227533355477,-0.07322678785550782,-0.20911214212065374,0.523723621573591,0.4259764247672888,-1.1968758184322306,-0.8054767941949154,1.8900072380345485,0.8452113436466301,-0.25414609073347877,0.03570855246577367,0.14575503135915918,2.189428173696937,-0.07187860253400183,-0.7418466311463111,-0.505340193235467,-0.4959876377616374,-0.21749317450560904,0.10492539817008403,-0.059598361653984966,-0.884962776942417,1.3091537990351603,1.7323272249030568,-1.1585055113970915,-1.4797572809249315,1.5501511744148435,-0.40991876351239337,-0.09463390578367643,-0.4961731048584968,-0.12116479609004391,1.5429867747832684,2.083823626126322,-1.3405618577286778,-0.013274360478629371,1.4704827400113714,-0.09230518925486603,-0.1814328005222361,1.1937710999811717,-0.17038391795488023,0.40313263628071977,-0.37281732453145733,0.3707495163122737,0.30920736594324405,-0.5702771593764394,0.49741067835785063,0.3251355812421022,0.26196593782269134,0.8972217561696456,0.21324090680672533,-0.592522484752052,0.3189074515402922,0.46513692270318635,-0.2758476538032941,0.7688813450982438,-0.3319192869248297,-1.0340902467079396,-0.47875869327376647,0.4948476815535337,0.5958264226747494,0.6503139300524439,-1.4830468087573092,-0.6463031033931556,-0.30555585754444564,0.21901772500633013,0.6548728016080407,1.1596515508110465,-0.9449083897526811,-0.8559496144959297,1.1764890071657674,-2.7626589596873967,0.34726352104614705,-2.0534746469817633,-0.0778792691985187,-0.79091489232892,-1.783799382189531,0.876754632425876,-0.5064195302925444,-0.5587688290364335,-0.10191596449244297,1.1109009231629037,1.3054030990977499,1.706073511150618,-0.8962883920903764,1.1202847972825045,-1.6472410388756322,-1.6999419548084038,0.9423173222319073,1.3259604804878835,1.1463039571620701,0.16192374138738494,-0.4302555224507472,1.2522124410555802],\"xaxis\":\"x16\",\"yaxis\":\"y16\",\"type\":\"histogram\"}],                        {\"bargap\":0.02,\"legend\":{\"bgcolor\":\"#F5F6F9\",\"font\":{\"color\":\"#4D5663\"}},\"paper_bgcolor\":\"#F5F6F9\",\"plot_bgcolor\":\"#F5F6F9\",\"showlegend\":false,\"template\":{\"data\":{\"barpolar\":[{\"marker\":{\"line\":{\"color\":\"#E5ECF6\",\"width\":0.5},\"pattern\":{\"fillmode\":\"overlay\",\"size\":10,\"solidity\":0.2}},\"type\":\"barpolar\"}],\"bar\":[{\"error_x\":{\"color\":\"#2a3f5f\"},\"error_y\":{\"color\":\"#2a3f5f\"},\"marker\":{\"line\":{\"color\":\"#E5ECF6\",\"width\":0.5},\"pattern\":{\"fillmode\":\"overlay\",\"size\":10,\"solidity\":0.2}},\"type\":\"bar\"}],\"carpet\":[{\"aaxis\":{\"endlinecolor\":\"#2a3f5f\",\"gridcolor\":\"white\",\"linecolor\":\"white\",\"minorgridcolor\":\"white\",\"startlinecolor\":\"#2a3f5f\"},\"baxis\":{\"endlinecolor\":\"#2a3f5f\",\"gridcolor\":\"white\",\"linecolor\":\"white\",\"minorgridcolor\":\"white\",\"startlinecolor\":\"#2a3f5f\"},\"type\":\"carpet\"}],\"choropleth\":[{\"colorbar\":{\"outlinewidth\":0,\"ticks\":\"\"},\"type\":\"choropleth\"}],\"contourcarpet\":[{\"colorbar\":{\"outlinewidth\":0,\"ticks\":\"\"},\"type\":\"contourcarpet\"}],\"contour\":[{\"colorbar\":{\"outlinewidth\":0,\"ticks\":\"\"},\"colorscale\":[[0.0,\"#0d0887\"],[0.1111111111111111,\"#46039f\"],[0.2222222222222222,\"#7201a8\"],[0.3333333333333333,\"#9c179e\"],[0.4444444444444444,\"#bd3786\"],[0.5555555555555556,\"#d8576b\"],[0.6666666666666666,\"#ed7953\"],[0.7777777777777778,\"#fb9f3a\"],[0.8888888888888888,\"#fdca26\"],[1.0,\"#f0f921\"]],\"type\":\"contour\"}],\"heatmapgl\":[{\"colorbar\":{\"outlinewidth\":0,\"ticks\":\"\"},\"colorscale\":[[0.0,\"#0d0887\"],[0.1111111111111111,\"#46039f\"],[0.2222222222222222,\"#7201a8\"],[0.3333333333333333,\"#9c179e\"],[0.4444444444444444,\"#bd3786\"],[0.5555555555555556,\"#d8576b\"],[0.6666666666666666,\"#ed7953\"],[0.7777777777777778,\"#fb9f3a\"],[0.8888888888888888,\"#fdca26\"],[1.0,\"#f0f921\"]],\"type\":\"heatmapgl\"}],\"heatmap\":[{\"colorbar\":{\"outlinewidth\":0,\"ticks\":\"\"},\"colorscale\":[[0.0,\"#0d0887\"],[0.1111111111111111,\"#46039f\"],[0.2222222222222222,\"#7201a8\"],[0.3333333333333333,\"#9c179e\"],[0.4444444444444444,\"#bd3786\"],[0.5555555555555556,\"#d8576b\"],[0.6666666666666666,\"#ed7953\"],[0.7777777777777778,\"#fb9f3a\"],[0.8888888888888888,\"#fdca26\"],[1.0,\"#f0f921\"]],\"type\":\"heatmap\"}],\"histogram2dcontour\":[{\"colorbar\":{\"outlinewidth\":0,\"ticks\":\"\"},\"colorscale\":[[0.0,\"#0d0887\"],[0.1111111111111111,\"#46039f\"],[0.2222222222222222,\"#7201a8\"],[0.3333333333333333,\"#9c179e\"],[0.4444444444444444,\"#bd3786\"],[0.5555555555555556,\"#d8576b\"],[0.6666666666666666,\"#ed7953\"],[0.7777777777777778,\"#fb9f3a\"],[0.8888888888888888,\"#fdca26\"],[1.0,\"#f0f921\"]],\"type\":\"histogram2dcontour\"}],\"histogram2d\":[{\"colorbar\":{\"outlinewidth\":0,\"ticks\":\"\"},\"colorscale\":[[0.0,\"#0d0887\"],[0.1111111111111111,\"#46039f\"],[0.2222222222222222,\"#7201a8\"],[0.3333333333333333,\"#9c179e\"],[0.4444444444444444,\"#bd3786\"],[0.5555555555555556,\"#d8576b\"],[0.6666666666666666,\"#ed7953\"],[0.7777777777777778,\"#fb9f3a\"],[0.8888888888888888,\"#fdca26\"],[1.0,\"#f0f921\"]],\"type\":\"histogram2d\"}],\"histogram\":[{\"marker\":{\"pattern\":{\"fillmode\":\"overlay\",\"size\":10,\"solidity\":0.2}},\"type\":\"histogram\"}],\"mesh3d\":[{\"colorbar\":{\"outlinewidth\":0,\"ticks\":\"\"},\"type\":\"mesh3d\"}],\"parcoords\":[{\"line\":{\"colorbar\":{\"outlinewidth\":0,\"ticks\":\"\"}},\"type\":\"parcoords\"}],\"pie\":[{\"automargin\":true,\"type\":\"pie\"}],\"scatter3d\":[{\"line\":{\"colorbar\":{\"outlinewidth\":0,\"ticks\":\"\"}},\"marker\":{\"colorbar\":{\"outlinewidth\":0,\"ticks\":\"\"}},\"type\":\"scatter3d\"}],\"scattercarpet\":[{\"marker\":{\"colorbar\":{\"outlinewidth\":0,\"ticks\":\"\"}},\"type\":\"scattercarpet\"}],\"scattergeo\":[{\"marker\":{\"colorbar\":{\"outlinewidth\":0,\"ticks\":\"\"}},\"type\":\"scattergeo\"}],\"scattergl\":[{\"marker\":{\"colorbar\":{\"outlinewidth\":0,\"ticks\":\"\"}},\"type\":\"scattergl\"}],\"scattermapbox\":[{\"marker\":{\"colorbar\":{\"outlinewidth\":0,\"ticks\":\"\"}},\"type\":\"scattermapbox\"}],\"scatterpolargl\":[{\"marker\":{\"colorbar\":{\"outlinewidth\":0,\"ticks\":\"\"}},\"type\":\"scatterpolargl\"}],\"scatterpolar\":[{\"marker\":{\"colorbar\":{\"outlinewidth\":0,\"ticks\":\"\"}},\"type\":\"scatterpolar\"}],\"scatter\":[{\"marker\":{\"colorbar\":{\"outlinewidth\":0,\"ticks\":\"\"}},\"type\":\"scatter\"}],\"scatterternary\":[{\"marker\":{\"colorbar\":{\"outlinewidth\":0,\"ticks\":\"\"}},\"type\":\"scatterternary\"}],\"surface\":[{\"colorbar\":{\"outlinewidth\":0,\"ticks\":\"\"},\"colorscale\":[[0.0,\"#0d0887\"],[0.1111111111111111,\"#46039f\"],[0.2222222222222222,\"#7201a8\"],[0.3333333333333333,\"#9c179e\"],[0.4444444444444444,\"#bd3786\"],[0.5555555555555556,\"#d8576b\"],[0.6666666666666666,\"#ed7953\"],[0.7777777777777778,\"#fb9f3a\"],[0.8888888888888888,\"#fdca26\"],[1.0,\"#f0f921\"]],\"type\":\"surface\"}],\"table\":[{\"cells\":{\"fill\":{\"color\":\"#EBF0F8\"},\"line\":{\"color\":\"white\"}},\"header\":{\"fill\":{\"color\":\"#C8D4E3\"},\"line\":{\"color\":\"white\"}},\"type\":\"table\"}]},\"layout\":{\"annotationdefaults\":{\"arrowcolor\":\"#2a3f5f\",\"arrowhead\":0,\"arrowwidth\":1},\"autotypenumbers\":\"strict\",\"coloraxis\":{\"colorbar\":{\"outlinewidth\":0,\"ticks\":\"\"}},\"colorscale\":{\"diverging\":[[0,\"#8e0152\"],[0.1,\"#c51b7d\"],[0.2,\"#de77ae\"],[0.3,\"#f1b6da\"],[0.4,\"#fde0ef\"],[0.5,\"#f7f7f7\"],[0.6,\"#e6f5d0\"],[0.7,\"#b8e186\"],[0.8,\"#7fbc41\"],[0.9,\"#4d9221\"],[1,\"#276419\"]],\"sequential\":[[0.0,\"#0d0887\"],[0.1111111111111111,\"#46039f\"],[0.2222222222222222,\"#7201a8\"],[0.3333333333333333,\"#9c179e\"],[0.4444444444444444,\"#bd3786\"],[0.5555555555555556,\"#d8576b\"],[0.6666666666666666,\"#ed7953\"],[0.7777777777777778,\"#fb9f3a\"],[0.8888888888888888,\"#fdca26\"],[1.0,\"#f0f921\"]],\"sequentialminus\":[[0.0,\"#0d0887\"],[0.1111111111111111,\"#46039f\"],[0.2222222222222222,\"#7201a8\"],[0.3333333333333333,\"#9c179e\"],[0.4444444444444444,\"#bd3786\"],[0.5555555555555556,\"#d8576b\"],[0.6666666666666666,\"#ed7953\"],[0.7777777777777778,\"#fb9f3a\"],[0.8888888888888888,\"#fdca26\"],[1.0,\"#f0f921\"]]},\"colorway\":[\"#636efa\",\"#EF553B\",\"#00cc96\",\"#ab63fa\",\"#FFA15A\",\"#19d3f3\",\"#FF6692\",\"#B6E880\",\"#FF97FF\",\"#FECB52\"],\"font\":{\"color\":\"#2a3f5f\"},\"geo\":{\"bgcolor\":\"white\",\"lakecolor\":\"white\",\"landcolor\":\"#E5ECF6\",\"showlakes\":true,\"showland\":true,\"subunitcolor\":\"white\"},\"hoverlabel\":{\"align\":\"left\"},\"hovermode\":\"closest\",\"mapbox\":{\"style\":\"light\"},\"paper_bgcolor\":\"white\",\"plot_bgcolor\":\"#E5ECF6\",\"polar\":{\"angularaxis\":{\"gridcolor\":\"white\",\"linecolor\":\"white\",\"ticks\":\"\"},\"bgcolor\":\"#E5ECF6\",\"radialaxis\":{\"gridcolor\":\"white\",\"linecolor\":\"white\",\"ticks\":\"\"}},\"scene\":{\"xaxis\":{\"backgroundcolor\":\"#E5ECF6\",\"gridcolor\":\"white\",\"gridwidth\":2,\"linecolor\":\"white\",\"showbackground\":true,\"ticks\":\"\",\"zerolinecolor\":\"white\"},\"yaxis\":{\"backgroundcolor\":\"#E5ECF6\",\"gridcolor\":\"white\",\"gridwidth\":2,\"linecolor\":\"white\",\"showbackground\":true,\"ticks\":\"\",\"zerolinecolor\":\"white\"},\"zaxis\":{\"backgroundcolor\":\"#E5ECF6\",\"gridcolor\":\"white\",\"gridwidth\":2,\"linecolor\":\"white\",\"showbackground\":true,\"ticks\":\"\",\"zerolinecolor\":\"white\"}},\"shapedefaults\":{\"line\":{\"color\":\"#2a3f5f\"}},\"ternary\":{\"aaxis\":{\"gridcolor\":\"white\",\"linecolor\":\"white\",\"ticks\":\"\"},\"baxis\":{\"gridcolor\":\"white\",\"linecolor\":\"white\",\"ticks\":\"\"},\"bgcolor\":\"#E5ECF6\",\"caxis\":{\"gridcolor\":\"white\",\"linecolor\":\"white\",\"ticks\":\"\"}},\"title\":{\"x\":0.05},\"xaxis\":{\"automargin\":true,\"gridcolor\":\"white\",\"linecolor\":\"white\",\"ticks\":\"\",\"title\":{\"standoff\":15},\"zerolinecolor\":\"white\",\"zerolinewidth\":2},\"yaxis\":{\"automargin\":true,\"gridcolor\":\"white\",\"linecolor\":\"white\",\"ticks\":\"\",\"title\":{\"standoff\":15},\"zerolinecolor\":\"white\",\"zerolinewidth\":2}}},\"title\":{\"font\":{\"color\":\"#4D5663\"}},\"xaxis\":{\"anchor\":\"y\",\"domain\":[0.0,0.2125],\"gridcolor\":\"#E1E5ED\",\"showgrid\":false,\"tickfont\":{\"color\":\"#4D5663\"},\"title\":{\"font\":{\"color\":\"#4D5663\"},\"text\":\"\"},\"zerolinecolor\":\"#E1E5ED\"},\"yaxis\":{\"anchor\":\"x\",\"domain\":[0.8025,1.0],\"gridcolor\":\"#E1E5ED\",\"showgrid\":false,\"tickfont\":{\"color\":\"#4D5663\"},\"title\":{\"font\":{\"color\":\"#4D5663\"},\"text\":\"\"},\"zerolinecolor\":\"#E1E5ED\"},\"xaxis2\":{\"anchor\":\"y2\",\"domain\":[0.2625,0.475],\"gridcolor\":\"#E1E5ED\",\"showgrid\":false,\"tickfont\":{\"color\":\"#4D5663\"},\"title\":{\"font\":{\"color\":\"#4D5663\"},\"text\":\"\"},\"zerolinecolor\":\"#E1E5ED\"},\"yaxis2\":{\"anchor\":\"x2\",\"domain\":[0.8025,1.0],\"gridcolor\":\"#E1E5ED\",\"showgrid\":false,\"tickfont\":{\"color\":\"#4D5663\"},\"title\":{\"font\":{\"color\":\"#4D5663\"},\"text\":\"\"},\"zerolinecolor\":\"#E1E5ED\"},\"xaxis3\":{\"anchor\":\"y3\",\"domain\":[0.525,0.7375],\"gridcolor\":\"#E1E5ED\",\"showgrid\":false,\"tickfont\":{\"color\":\"#4D5663\"},\"title\":{\"font\":{\"color\":\"#4D5663\"},\"text\":\"\"},\"zerolinecolor\":\"#E1E5ED\"},\"yaxis3\":{\"anchor\":\"x3\",\"domain\":[0.8025,1.0],\"gridcolor\":\"#E1E5ED\",\"showgrid\":false,\"tickfont\":{\"color\":\"#4D5663\"},\"title\":{\"font\":{\"color\":\"#4D5663\"},\"text\":\"\"},\"zerolinecolor\":\"#E1E5ED\"},\"xaxis4\":{\"anchor\":\"y4\",\"domain\":[0.7875,1.0],\"gridcolor\":\"#E1E5ED\",\"showgrid\":false,\"tickfont\":{\"color\":\"#4D5663\"},\"title\":{\"font\":{\"color\":\"#4D5663\"},\"text\":\"\"},\"zerolinecolor\":\"#E1E5ED\"},\"yaxis4\":{\"anchor\":\"x4\",\"domain\":[0.8025,1.0],\"gridcolor\":\"#E1E5ED\",\"showgrid\":false,\"tickfont\":{\"color\":\"#4D5663\"},\"title\":{\"font\":{\"color\":\"#4D5663\"},\"text\":\"\"},\"zerolinecolor\":\"#E1E5ED\"},\"xaxis5\":{\"anchor\":\"y5\",\"domain\":[0.0,0.2125],\"gridcolor\":\"#E1E5ED\",\"showgrid\":false,\"tickfont\":{\"color\":\"#4D5663\"},\"title\":{\"font\":{\"color\":\"#4D5663\"},\"text\":\"\"},\"zerolinecolor\":\"#E1E5ED\"},\"yaxis5\":{\"anchor\":\"x5\",\"domain\":[0.535,0.7325],\"gridcolor\":\"#E1E5ED\",\"showgrid\":false,\"tickfont\":{\"color\":\"#4D5663\"},\"title\":{\"font\":{\"color\":\"#4D5663\"},\"text\":\"\"},\"zerolinecolor\":\"#E1E5ED\"},\"xaxis6\":{\"anchor\":\"y6\",\"domain\":[0.2625,0.475],\"gridcolor\":\"#E1E5ED\",\"showgrid\":false,\"tickfont\":{\"color\":\"#4D5663\"},\"title\":{\"font\":{\"color\":\"#4D5663\"},\"text\":\"\"},\"zerolinecolor\":\"#E1E5ED\"},\"yaxis6\":{\"anchor\":\"x6\",\"domain\":[0.535,0.7325],\"gridcolor\":\"#E1E5ED\",\"showgrid\":false,\"tickfont\":{\"color\":\"#4D5663\"},\"title\":{\"font\":{\"color\":\"#4D5663\"},\"text\":\"\"},\"zerolinecolor\":\"#E1E5ED\"},\"xaxis7\":{\"anchor\":\"y7\",\"domain\":[0.525,0.7375],\"gridcolor\":\"#E1E5ED\",\"showgrid\":false,\"tickfont\":{\"color\":\"#4D5663\"},\"title\":{\"font\":{\"color\":\"#4D5663\"},\"text\":\"\"},\"zerolinecolor\":\"#E1E5ED\"},\"yaxis7\":{\"anchor\":\"x7\",\"domain\":[0.535,0.7325],\"gridcolor\":\"#E1E5ED\",\"showgrid\":false,\"tickfont\":{\"color\":\"#4D5663\"},\"title\":{\"font\":{\"color\":\"#4D5663\"},\"text\":\"\"},\"zerolinecolor\":\"#E1E5ED\"},\"xaxis8\":{\"anchor\":\"y8\",\"domain\":[0.7875,1.0],\"gridcolor\":\"#E1E5ED\",\"showgrid\":false,\"tickfont\":{\"color\":\"#4D5663\"},\"title\":{\"font\":{\"color\":\"#4D5663\"},\"text\":\"\"},\"zerolinecolor\":\"#E1E5ED\"},\"yaxis8\":{\"anchor\":\"x8\",\"domain\":[0.535,0.7325],\"gridcolor\":\"#E1E5ED\",\"showgrid\":false,\"tickfont\":{\"color\":\"#4D5663\"},\"title\":{\"font\":{\"color\":\"#4D5663\"},\"text\":\"\"},\"zerolinecolor\":\"#E1E5ED\"},\"xaxis9\":{\"anchor\":\"y9\",\"domain\":[0.0,0.2125],\"gridcolor\":\"#E1E5ED\",\"showgrid\":false,\"tickfont\":{\"color\":\"#4D5663\"},\"title\":{\"font\":{\"color\":\"#4D5663\"},\"text\":\"\"},\"zerolinecolor\":\"#E1E5ED\"},\"yaxis9\":{\"anchor\":\"x9\",\"domain\":[0.2675,0.465],\"gridcolor\":\"#E1E5ED\",\"showgrid\":false,\"tickfont\":{\"color\":\"#4D5663\"},\"title\":{\"font\":{\"color\":\"#4D5663\"},\"text\":\"\"},\"zerolinecolor\":\"#E1E5ED\"},\"xaxis10\":{\"anchor\":\"y10\",\"domain\":[0.2625,0.475],\"gridcolor\":\"#E1E5ED\",\"showgrid\":false,\"tickfont\":{\"color\":\"#4D5663\"},\"title\":{\"font\":{\"color\":\"#4D5663\"},\"text\":\"\"},\"zerolinecolor\":\"#E1E5ED\"},\"yaxis10\":{\"anchor\":\"x10\",\"domain\":[0.2675,0.465],\"gridcolor\":\"#E1E5ED\",\"showgrid\":false,\"tickfont\":{\"color\":\"#4D5663\"},\"title\":{\"font\":{\"color\":\"#4D5663\"},\"text\":\"\"},\"zerolinecolor\":\"#E1E5ED\"},\"xaxis11\":{\"anchor\":\"y11\",\"domain\":[0.525,0.7375],\"gridcolor\":\"#E1E5ED\",\"showgrid\":false,\"tickfont\":{\"color\":\"#4D5663\"},\"title\":{\"font\":{\"color\":\"#4D5663\"},\"text\":\"\"},\"zerolinecolor\":\"#E1E5ED\"},\"yaxis11\":{\"anchor\":\"x11\",\"domain\":[0.2675,0.465],\"gridcolor\":\"#E1E5ED\",\"showgrid\":false,\"tickfont\":{\"color\":\"#4D5663\"},\"title\":{\"font\":{\"color\":\"#4D5663\"},\"text\":\"\"},\"zerolinecolor\":\"#E1E5ED\"},\"xaxis12\":{\"anchor\":\"y12\",\"domain\":[0.7875,1.0],\"gridcolor\":\"#E1E5ED\",\"showgrid\":false,\"tickfont\":{\"color\":\"#4D5663\"},\"title\":{\"font\":{\"color\":\"#4D5663\"},\"text\":\"\"},\"zerolinecolor\":\"#E1E5ED\"},\"yaxis12\":{\"anchor\":\"x12\",\"domain\":[0.2675,0.465],\"gridcolor\":\"#E1E5ED\",\"showgrid\":false,\"tickfont\":{\"color\":\"#4D5663\"},\"title\":{\"font\":{\"color\":\"#4D5663\"},\"text\":\"\"},\"zerolinecolor\":\"#E1E5ED\"},\"xaxis13\":{\"anchor\":\"y13\",\"domain\":[0.0,0.2125],\"gridcolor\":\"#E1E5ED\",\"showgrid\":false,\"tickfont\":{\"color\":\"#4D5663\"},\"title\":{\"font\":{\"color\":\"#4D5663\"},\"text\":\"\"},\"zerolinecolor\":\"#E1E5ED\"},\"yaxis13\":{\"anchor\":\"x13\",\"domain\":[0.0,0.1975],\"gridcolor\":\"#E1E5ED\",\"showgrid\":false,\"tickfont\":{\"color\":\"#4D5663\"},\"title\":{\"font\":{\"color\":\"#4D5663\"},\"text\":\"\"},\"zerolinecolor\":\"#E1E5ED\"},\"xaxis14\":{\"anchor\":\"y14\",\"domain\":[0.2625,0.475],\"gridcolor\":\"#E1E5ED\",\"showgrid\":false,\"tickfont\":{\"color\":\"#4D5663\"},\"title\":{\"font\":{\"color\":\"#4D5663\"},\"text\":\"\"},\"zerolinecolor\":\"#E1E5ED\"},\"yaxis14\":{\"anchor\":\"x14\",\"domain\":[0.0,0.1975],\"gridcolor\":\"#E1E5ED\",\"showgrid\":false,\"tickfont\":{\"color\":\"#4D5663\"},\"title\":{\"font\":{\"color\":\"#4D5663\"},\"text\":\"\"},\"zerolinecolor\":\"#E1E5ED\"},\"xaxis15\":{\"anchor\":\"y15\",\"domain\":[0.525,0.7375],\"gridcolor\":\"#E1E5ED\",\"showgrid\":false,\"tickfont\":{\"color\":\"#4D5663\"},\"title\":{\"font\":{\"color\":\"#4D5663\"},\"text\":\"\"},\"zerolinecolor\":\"#E1E5ED\"},\"yaxis15\":{\"anchor\":\"x15\",\"domain\":[0.0,0.1975],\"gridcolor\":\"#E1E5ED\",\"showgrid\":false,\"tickfont\":{\"color\":\"#4D5663\"},\"title\":{\"font\":{\"color\":\"#4D5663\"},\"text\":\"\"},\"zerolinecolor\":\"#E1E5ED\"},\"xaxis16\":{\"anchor\":\"y16\",\"domain\":[0.7875,1.0],\"gridcolor\":\"#E1E5ED\",\"showgrid\":false,\"tickfont\":{\"color\":\"#4D5663\"},\"title\":{\"font\":{\"color\":\"#4D5663\"},\"text\":\"\"},\"zerolinecolor\":\"#E1E5ED\"},\"yaxis16\":{\"anchor\":\"x16\",\"domain\":[0.0,0.1975],\"gridcolor\":\"#E1E5ED\",\"showgrid\":false,\"tickfont\":{\"color\":\"#4D5663\"},\"title\":{\"font\":{\"color\":\"#4D5663\"},\"text\":\"\"},\"zerolinecolor\":\"#E1E5ED\"}},                        {\"showLink\": true, \"linkText\": \"Export to plot.ly\", \"plotlyServerURL\": \"https://plot.ly\", \"responsive\": true}                    ).then(function(){\n",
       "                            \n",
       "var gd = document.getElementById('2234b360-3465-491a-84a7-3b477a02791a');\n",
       "var x = new MutationObserver(function (mutations, observer) {{\n",
       "        var display = window.getComputedStyle(gd).display;\n",
       "        if (!display || display === 'none') {{\n",
       "            console.log([gd, 'removed!']);\n",
       "            Plotly.purge(gd);\n",
       "            observer.disconnect();\n",
       "        }}\n",
       "}});\n",
       "\n",
       "// Listen for the removal of the full notebook cells\n",
       "var notebookContainer = gd.closest('#notebook-container');\n",
       "if (notebookContainer) {{\n",
       "    x.observe(notebookContainer, {childList: true});\n",
       "}}\n",
       "\n",
       "// Listen for the clearing of the current output cell\n",
       "var outputEl = gd.closest('.output');\n",
       "if (outputEl) {{\n",
       "    x.observe(outputEl, {childList: true});\n",
       "}}\n",
       "\n",
       "                        })                };                });            </script>        </div>"
      ]
     },
     "metadata": {},
     "output_type": "display_data"
    }
   ],
   "source": [
    "df.scatter_matrix()"
   ]
  },
  {
   "cell_type": "code",
   "execution_count": null,
   "id": "5d8f49b2",
   "metadata": {},
   "outputs": [],
   "source": []
  }
 ],
 "metadata": {
  "kernelspec": {
   "display_name": "Python 3 (ipykernel)",
   "language": "python",
   "name": "python3"
  },
  "language_info": {
   "codemirror_mode": {
    "name": "ipython",
    "version": 3
   },
   "file_extension": ".py",
   "mimetype": "text/x-python",
   "name": "python",
   "nbconvert_exporter": "python",
   "pygments_lexer": "ipython3",
   "version": "3.9.12"
  }
 },
 "nbformat": 4,
 "nbformat_minor": 5
}
