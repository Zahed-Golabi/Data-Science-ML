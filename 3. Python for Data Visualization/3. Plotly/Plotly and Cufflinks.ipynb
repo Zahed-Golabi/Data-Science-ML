{
 "cells": [
  {
   "cell_type": "markdown",
   "id": "90c6be79",
   "metadata": {},
   "source": [
    "<h1> Plotly and Cufflinks </h1>\n",
    "\n",
    "- Plotly is an interactive visualizaion library\n",
    "- Cufflinks connects plotly with pandas\n",
    "- Before we we explore these libraries you'll need to install them."
   ]
  },
  {
   "cell_type": "markdown",
   "id": "d1ca6b6e",
   "metadata": {},
   "source": [
    "<b> ```pip install plotly``` </b>"
   ]
  },
  {
   "cell_type": "markdown",
   "id": "485ce030",
   "metadata": {},
   "source": [
    "<b>```pip install cufflinks```</b>"
   ]
  },
  {
   "cell_type": "code",
   "execution_count": 5,
   "id": "85ecc6fe",
   "metadata": {},
   "outputs": [],
   "source": [
    "import numpy as np\n",
    "import pandas as pd\n",
    "%matplotlib inline"
   ]
  },
  {
   "cell_type": "code",
   "execution_count": 6,
   "id": "815bf04e",
   "metadata": {},
   "outputs": [],
   "source": [
    "from plotly import __version__"
   ]
  },
  {
   "cell_type": "code",
   "execution_count": 7,
   "id": "d4c0ab87",
   "metadata": {},
   "outputs": [],
   "source": [
    "import cufflinks as cf"
   ]
  },
  {
   "cell_type": "code",
   "execution_count": 8,
   "id": "78fce3f2",
   "metadata": {},
   "outputs": [],
   "source": [
    "from plotly.offline import download_plotlyjs, init_notebook_mode, plot,iplot"
   ]
  },
  {
   "cell_type": "code",
   "execution_count": 9,
   "id": "0e92ee07",
   "metadata": {},
   "outputs": [
    {
     "data": {
      "text/html": [
       "        <script type=\"text/javascript\">\n",
       "        window.PlotlyConfig = {MathJaxConfig: 'local'};\n",
       "        if (window.MathJax) {MathJax.Hub.Config({SVG: {font: \"STIX-Web\"}});}\n",
       "        if (typeof require !== 'undefined') {\n",
       "        require.undef(\"plotly\");\n",
       "        requirejs.config({\n",
       "            paths: {\n",
       "                'plotly': ['https://cdn.plot.ly/plotly-2.9.0.min']\n",
       "            }\n",
       "        });\n",
       "        require(['plotly'], function(Plotly) {\n",
       "            window._Plotly = Plotly;\n",
       "        });\n",
       "        }\n",
       "        </script>\n",
       "        "
      ]
     },
     "metadata": {},
     "output_type": "display_data"
    }
   ],
   "source": [
    "init_notebook_mode(connected=True)"
   ]
  },
  {
   "cell_type": "code",
   "execution_count": 10,
   "id": "dd30841c",
   "metadata": {},
   "outputs": [
    {
     "data": {
      "text/html": [
       "        <script type=\"text/javascript\">\n",
       "        window.PlotlyConfig = {MathJaxConfig: 'local'};\n",
       "        if (window.MathJax) {MathJax.Hub.Config({SVG: {font: \"STIX-Web\"}});}\n",
       "        if (typeof require !== 'undefined') {\n",
       "        require.undef(\"plotly\");\n",
       "        requirejs.config({\n",
       "            paths: {\n",
       "                'plotly': ['https://cdn.plot.ly/plotly-2.9.0.min']\n",
       "            }\n",
       "        });\n",
       "        require(['plotly'], function(Plotly) {\n",
       "            window._Plotly = Plotly;\n",
       "        });\n",
       "        }\n",
       "        </script>\n",
       "        "
      ]
     },
     "metadata": {},
     "output_type": "display_data"
    }
   ],
   "source": [
    "cf.go_offline()"
   ]
  },
  {
   "cell_type": "code",
   "execution_count": 11,
   "id": "8fdb8acd",
   "metadata": {},
   "outputs": [],
   "source": [
    "# DATA\n",
    "df1 = pd.DataFrame(np.random.randn(100,4), columns=\"A B C D\".split())"
   ]
  },
  {
   "cell_type": "code",
   "execution_count": 12,
   "id": "4f28febf",
   "metadata": {},
   "outputs": [],
   "source": [
    "df2 = pd.DataFrame({\"Category\":[\"A\",\"B\",\"C\"], \"Values\":[32,43,50]})"
   ]
  },
  {
   "cell_type": "code",
   "execution_count": 13,
   "id": "ac93d30f",
   "metadata": {},
   "outputs": [
    {
     "data": {
      "text/html": [
       "<div>\n",
       "<style scoped>\n",
       "    .dataframe tbody tr th:only-of-type {\n",
       "        vertical-align: middle;\n",
       "    }\n",
       "\n",
       "    .dataframe tbody tr th {\n",
       "        vertical-align: top;\n",
       "    }\n",
       "\n",
       "    .dataframe thead th {\n",
       "        text-align: right;\n",
       "    }\n",
       "</style>\n",
       "<table border=\"1\" class=\"dataframe\">\n",
       "  <thead>\n",
       "    <tr style=\"text-align: right;\">\n",
       "      <th></th>\n",
       "      <th>Category</th>\n",
       "      <th>Values</th>\n",
       "    </tr>\n",
       "  </thead>\n",
       "  <tbody>\n",
       "    <tr>\n",
       "      <th>0</th>\n",
       "      <td>A</td>\n",
       "      <td>32</td>\n",
       "    </tr>\n",
       "    <tr>\n",
       "      <th>1</th>\n",
       "      <td>B</td>\n",
       "      <td>43</td>\n",
       "    </tr>\n",
       "    <tr>\n",
       "      <th>2</th>\n",
       "      <td>C</td>\n",
       "      <td>50</td>\n",
       "    </tr>\n",
       "  </tbody>\n",
       "</table>\n",
       "</div>"
      ],
      "text/plain": [
       "  Category  Values\n",
       "0        A      32\n",
       "1        B      43\n",
       "2        C      50"
      ]
     },
     "execution_count": 13,
     "metadata": {},
     "output_type": "execute_result"
    }
   ],
   "source": [
    "df2"
   ]
  },
  {
   "cell_type": "code",
   "execution_count": 15,
   "id": "4a2b70be",
   "metadata": {},
   "outputs": [
    {
     "data": {
      "text/plain": [
       "<AxesSubplot:>"
      ]
     },
     "execution_count": 15,
     "metadata": {},
     "output_type": "execute_result"
    },
    {
     "data": {
      "image/png": "[encoded data removed]",
      "text/plain": [
       "<Figure size 432x288 with 1 Axes>"
      ]
     },
     "metadata": {
      "needs_background": "light"
     },
     "output_type": "display_data"
    }
   ],
   "source": [
    "df1.plot()"
   ]
  },
  {
   "cell_type": "code",
   "execution_count": 16,
   "id": "34c21d54",
   "metadata": {},
   "outputs": [
    {
     "data": {
      "application/vnd.plotly.v1+json": {
       "config": {
        "linkText": "Export to plot.ly",
        "plotlyServerURL": "https://plot.ly",
        "showLink": true
       },
       "data": [
        {
         "line": {
          "color": "rgba(255, 153, 51, 1.0)",
          "dash": "solid",
          "shape": "linear",
          "width": 1.3
         },
         "mode": "lines",
         "name": "A",
         "text": "",
         "type": "scatter",
         "x": [
          0,
          1,
          2,
          3,
          4,
          5,
          6,
          7,
          8,
          9,
          10,
          11,
          12,
          13,
          14,
          15,
          16,
          17,
          18,
          19,
          20,
          21,
          22,
          23,
          24,
          25,
          26,
          27,
          28,
          29,
          30,
          31,
          32,
          33,
          34,
          35,
          36,
          37,
          38,
          39,
          40,
          41,
          42,
          43,
          44,
          45,
          46,
          47,
          48,
          49,
          50,
          51,
          52,
          53,
          54,
          55,
          56,
          57,
          58,
          59,
          60,
          61,
          62,
          63,
          64,
          65,
          66,
          67,
          68,
          69,
          70,
          71,
          72,
          73,
          74,
          75,
          76,
          77,
          78,
          79,
          80,
          81,
          82,
          83,
          84,
          85,
          86,
          87,
          88,
          89,
          90,
          91,
          92,
          93,
          94,
          95,
          96,
          97,
          98,
          99
         ],
         "y": [
          -1.309527744420406,
          -0.43461471341730906,
          -0.6595622762097307,
          -1.8087704558636009,
          -0.21507624397672268,
          -0.38856874633371274,
          0.39323640994019327,
          -1.5768836282447465,
          0.22178931809236666,
          -0.9431156572498557,
          -1.9102029239374554,
          -0.477769555673728,
          -1.089425538238347,
          -1.0357538495845635,
          1.2252166381530092,
          0.37107402061163053,
          -1.158252094622077,
          1.3695745789888654,
          -1.01825182367802,
          -1.7722468986897701,
          -0.2168013554876337,
          0.4755191701253149,
          -0.31047009102309275,
          -1.1396124818852957,
          -0.6999173593661061,
          -1.1371155062620095,
          -0.4910949440770942,
          -1.3621373445513156,
          1.0766873032479476,
          0.525928465473397,
          0.18338106944618113,
          -0.1505291458789072,
          1.8846432497944905,
          1.0605122306404768,
          -0.962144311117594,
          -0.1476914461688686,
          0.7205523460441676,
          -1.7892639026055361,
          -1.0548281912697273,
          1.7356821752881395,
          0.7623513817996954,
          0.3727625957984767,
          0.44451049023253525,
          1.4676975285083917,
          0.4814662048334038,
          0.6221661115520754,
          0.2370320573531419,
          -0.7473679255146413,
          0.6347836687579423,
          1.2138547818174472,
          -1.1115098285811436,
          -0.741420524794404,
          -1.7765108665886487,
          0.810113366475899,
          0.47669154362011024,
          -0.4134257725397369,
          0.765857785416105,
          -0.965188219950402,
          -1.4789137379581754,
          -0.6434993507816088,
          1.1172937554301525,
          -0.495694212475232,
          -0.387836058015111,
          -1.5016648314212626,
          0.1203043588212254,
          1.2088376698736039,
          -0.07194726263107164,
          0.15389399355134598,
          -0.6401244083647915,
          -0.08273948253381846,
          -1.3592394732882558,
          -1.9885105671375787,
          0.038505035218103376,
          -1.24448668315206,
          1.0295590758843345,
          0.33682960031944126,
          0.016429352896183677,
          -0.8237702468602085,
          -0.18449476647468116,
          1.3095212684401376,
          1.3587986132723278,
          -0.6051067858004684,
          -1.6266419057988017,
          1.0042132470590117,
          -0.941415138673278,
          -0.22540308480569024,
          1.3745114441408741,
          0.9480792162916354,
          -0.6327623894459151,
          -0.4249154919293121,
          0.6437607373691273,
          -0.023221467246056046,
          -0.11276162648807049,
          -1.4583110545841829,
          1.2612779604538449,
          1.3478794165153494,
          -0.380129484919786,
          1.451947890281281,
          -1.1301928995517123,
          -1.9753921455165973
         ]
        },
        {
         "line": {
          "color": "rgba(55, 128, 191, 1.0)",
          "dash": "solid",
          "shape": "linear",
          "width": 1.3
         },
         "mode": "lines",
         "name": "B",
         "text": "",
         "type": "scatter",
         "x": [
          0,
          1,
          2,
          3,
          4,
          5,
          6,
          7,
          8,
          9,
          10,
          11,
          12,
          13,
          14,
          15,
          16,
          17,
          18,
          19,
          20,
          21,
          22,
          23,
          24,
          25,
          26,
          27,
          28,
          29,
          30,
          31,
          32,
          33,
          34,
          35,
          36,
          37,
          38,
          39,
          40,
          41,
          42,
          43,
          44,
          45,
          46,
          47,
          48,
          49,
          50,
          51,
          52,
          53,
          54,
          55,
          56,
          57,
          58,
          59,
          60,
          61,
          62,
          63,
          64,
          65,
          66,
          67,
          68,
          69,
          70,
          71,
          72,
          73,
          74,
          75,
          76,
          77,
          78,
          79,
          80,
          81,
          82,
          83,
          84,
          85,
          86,
          87,
          88,
          89,
          90,
          91,
          92,
          93,
          94,
          95,
          96,
          97,
          98,
          99
         ],
         "y": [
          -0.3135045106961009,
          0.27106706687477644,
          0.6119471965110417,
          0.3009908952710065,
          -1.7296433552727768,
          -0.8395951219175694,
          0.16250707660228472,
          0.5055405458960701,
          -0.832888025408523,
          0.9109193800627438,
          -0.26573228768153007,
          -1.048508086534288,
          2.3935354905650352,
          -0.6120845323882204,
          0.2794630660004881,
          1.627451053655647,
          -0.6851014265020644,
          -0.05563959335930016,
          -0.135370377466742,
          1.1825219023457476,
          0.09104646907592046,
          -0.23291348461501518,
          0.7536213073112578,
          0.4852510554975916,
          -0.11598911508126203,
          1.0968318367465173,
          0.18417105335675082,
          -1.3013280121311601,
          -1.5523879941424124,
          -0.32369753741302265,
          0.12823504654106158,
          0.3235706409631143,
          -0.39016583384232667,
          -1.3483469875160243,
          -0.8778043256258503,
          -0.6566745979642085,
          -0.8717450588581389,
          -0.6555475573355242,
          1.1869681326633754,
          -1.6754949879668986,
          -1.0166574270487643,
          0.30084494827373853,
          -0.5569631288734428,
          -0.567768653274891,
          -1.240819396653744,
          0.07056845771157615,
          1.7622707398041684,
          0.18529340390041166,
          -0.9353562273967888,
          -0.6885393911334184,
          1.5338969581422393,
          1.5892838914058174,
          -1.614263003322591,
          -0.15402669237130096,
          1.159444826889843,
          0.08959925841560044,
          -0.7533113996854893,
          1.905234347898969,
          0.7307657905729821,
          -0.29285654487137897,
          1.7069381234928882,
          0.5380807773841841,
          -0.633045084982813,
          -1.7779188737619718,
          1.4017987066713467,
          -0.08474720608466335,
          0.8776521766497231,
          0.4641730284714228,
          0.45125150792532565,
          0.060392922247830425,
          0.8784203727592276,
          -0.1688059199189494,
          -1.0896619947083495,
          0.0171159299839232,
          0.08104028200629111,
          2.1271586379364784,
          -0.976903741909578,
          1.1376357527698266,
          -0.00012090109272308358,
          1.6484473114720377,
          -1.0772133462637432,
          -0.9150194793716977,
          -0.13908916224241138,
          1.420245945456923,
          -0.8638449427158882,
          0.35946872217060843,
          0.353760398347842,
          -0.034214007117311096,
          0.42062282065593914,
          -0.4119607557910614,
          -2.246530449988816,
          0.6572380023859556,
          1.5371929318791877,
          0.7047641075968462,
          0.2758760032749365,
          0.3641139356290369,
          -1.7452790367604647,
          0.7507657464946539,
          0.7660509128626469,
          -1.918014533068927
         ]
        },
        {
         "line": {
          "color": "rgba(50, 171, 96, 1.0)",
          "dash": "solid",
          "shape": "linear",
          "width": 1.3
         },
         "mode": "lines",
         "name": "C",
         "text": "",
         "type": "scatter",
         "x": [
          0,
          1,
          2,
          3,
          4,
          5,
          6,
          7,
          8,
          9,
          10,
          11,
          12,
          13,
          14,
          15,
          16,
          17,
          18,
          19,
          20,
          21,
          22,
          23,
          24,
          25,
          26,
          27,
          28,
          29,
          30,
          31,
          32,
          33,
          34,
          35,
          36,
          37,
          38,
          39,
          40,
          41,
          42,
          43,
          44,
          45,
          46,
          47,
          48,
          49,
          50,
          51,
          52,
          53,
          54,
          55,
          56,
          57,
          58,
          59,
          60,
          61,
          62,
          63,
          64,
          65,
          66,
          67,
          68,
          69,
          70,
          71,
          72,
          73,
          74,
          75,
          76,
          77,
          78,
          79,
          80,
          81,
          82,
          83,
          84,
          85,
          86,
          87,
          88,
          89,
          90,
          91,
          92,
          93,
          94,
          95,
          96,
          97,
          98,
          99
         ],
         "y": [
          -0.2575191113048818,
          1.320500761745751,
          0.5393212069591781,
          0.04219896750035622,
          1.698198936943047,
          0.5028199669499871,
          -0.1498454934058726,
          0.9633475163625961,
          -1.339015637048091,
          -0.6182770329783752,
          -0.33591206203027124,
          -0.18188932275864927,
          -0.5454887664402375,
          -0.6883932246837449,
          -0.30489076816095145,
          -1.0100830280007966,
          -1.0655391492630855,
          -0.12015197749752969,
          0.5860522797870924,
          0.4192151567643949,
          -1.3353733919720032,
          -0.031402120800871076,
          -2.1335260348390843,
          -0.3441969850120935,
          -1.7542223093498468,
          -0.295042033863205,
          -0.18863870771689262,
          1.552840719836552,
          -0.4316870464612591,
          -0.7613274261883847,
          0.14947076189898487,
          0.48595016476934905,
          -0.7926945550247574,
          0.7731965931118994,
          -0.6883938465753762,
          -2.225079507875566,
          0.5423950945731457,
          -0.34085758855813325,
          1.7417998243184183,
          -0.338719869712993,
          -1.2565129037379519,
          -0.4862357073192635,
          -0.26247542513880223,
          1.371966678906609,
          0.06204981495579611,
          0.1435830366946529,
          -0.09818086024700041,
          -1.0065206400186884,
          0.8816406316046609,
          1.365273883971452,
          -0.3084988064482174,
          -1.0107121741822607,
          0.13115805878508405,
          1.4331106094227337,
          0.1347015805384705,
          -1.2873072839233077,
          0.4520970966083857,
          -1.2803743865230197,
          1.1250400099747564,
          -0.26260192722481174,
          2.7583588538460173,
          0.3145755605376287,
          0.6148574032845244,
          -0.2865467255124006,
          -0.5077597544678613,
          0.34207611262169624,
          0.1176418668857983,
          0.6599108232966143,
          0.20697791306697302,
          -1.5497405311923949,
          -1.2399904990512816,
          -0.5418927010115602,
          -0.006076378393536418,
          1.396970316349856,
          0.29841528419805907,
          -0.5186695251409451,
          2.5370307553948255,
          1.4138531800659624,
          0.850227769881565,
          -0.5589241218200475,
          0.9370408392367986,
          -0.9036863474832941,
          -1.2731512830332214,
          0.43070386279979206,
          1.004596274576969,
          0.30830106177054645,
          0.15488032937692175,
          -1.0238457042133868,
          -1.0118295214957163,
          0.08967082143098096,
          -0.9042923514152782,
          -0.7405311429356125,
          -0.8425526874977495,
          1.1428674009459987,
          -1.1631122871541602,
          -0.47384436477048175,
          -1.0361201255211805,
          1.2289487011273375,
          -0.4323744236158504,
          -0.12486789140963928
         ]
        },
        {
         "line": {
          "color": "rgba(128, 0, 128, 1.0)",
          "dash": "solid",
          "shape": "linear",
          "width": 1.3
         },
         "mode": "lines",
         "name": "D",
         "text": "",
         "type": "scatter",
         "x": [
          0,
          1,
          2,
          3,
          4,
          5,
          6,
          7,
          8,
          9,
          10,
          11,
          12,
          13,
          14,
          15,
          16,
          17,
          18,
          19,
          20,
          21,
          22,
          23,
          24,
          25,
          26,
          27,
          28,
          29,
          30,
          31,
          32,
          33,
          34,
          35,
          36,
          37,
          38,
          39,
          40,
          41,
          42,
          43,
          44,
          45,
          46,
          47,
          48,
          49,
          50,
          51,
          52,
          53,
          54,
          55,
          56,
          57,
          58,
          59,
          60,
          61,
          62,
          63,
          64,
          65,
          66,
          67,
          68,
          69,
          70,
          71,
          72,
          73,
          74,
          75,
          76,
          77,
          78,
          79,
          80,
          81,
          82,
          83,
          84,
          85,
          86,
          87,
          88,
          89,
          90,
          91,
          92,
          93,
          94,
          95,
          96,
          97,
          98,
          99
         ],
         "y": [
          0.9233664551727817,
          0.2187068108806523,
          0.11865198024420574,
          -1.5579186623042052,
          -0.4672071562814396,
          3.0066626935308456,
          -0.32655014387269754,
          0.10772210250884771,
          0.8844221038072054,
          1.7722565392187368,
          1.184992792776857,
          0.2108781835560796,
          -1.1148099764931805,
          -4.345427928625704e-05,
          -1.983953129359126,
          -0.9649214601388116,
          -0.22125091561265933,
          1.2273455531899071,
          -0.0575385070370791,
          -0.11781601230391926,
          1.9166344516297773,
          -1.0970613676362393,
          0.43934146242854094,
          1.2762258985477217,
          0.07447449662748581,
          3.0919869419630976,
          0.5973122040456079,
          -0.7050905523339075,
          -0.4999112205302632,
          -0.03493124465617314,
          -0.7617881698096332,
          1.3797053254926674,
          -0.2215403633239477,
          0.6925481305262045,
          0.06167550672697119,
          -0.40963611935775956,
          0.35893243125669266,
          -0.41745743030591087,
          0.03015429313705,
          0.15602988591660222,
          -0.26787146265085654,
          -0.41417028686894974,
          1.5609792080758211,
          1.194969375259976,
          -0.6551383967781365,
          -1.755053789996685,
          1.5159309217952428,
          -1.28875100441881,
          -0.911926164600893,
          -0.5474702131804486,
          0.4047143059595249,
          -0.43079197819212006,
          0.08797226941624581,
          -0.6908029115601726,
          0.7242905167980132,
          0.23214396422851524,
          0.7247353002278414,
          1.9452025367983576,
          -0.6546861016814408,
          -0.6799974252683934,
          -0.5317611724410563,
          1.4405271470855314,
          1.1115247500755756,
          0.589893192958994,
          0.4824437508914874,
          1.377178678619452,
          -0.6862284977820776,
          0.13642842203149558,
          -0.8947830787665288,
          -1.2215509521492065,
          -0.9851235704440013,
          0.2769495490795035,
          -0.5492866868876993,
          -0.45589525253369273,
          -0.49258897950070984,
          -0.2268613593796678,
          -1.0595067963615048,
          -1.163113884097818,
          -2.131695933566539,
          0.42063353723874125,
          1.5399342918829222,
          -0.6831121602536194,
          0.7561167662337182,
          -1.1136598817381878,
          0.026303240811561608,
          -0.11853482107150998,
          -0.7999930888845683,
          0.6608875939920911,
          -0.4310373559079466,
          -0.6088333250428458,
          -0.8584547980700439,
          -0.18485197733031306,
          0.7591281136316559,
          0.4505866865518529,
          0.39346588693495527,
          0.2764004766793301,
          0.2849159220159852,
          0.2464470334073424,
          -1.9666741818132207,
          -0.11656813004260916
         ]
        }
       ],
       "layout": {
        "legend": {
         "bgcolor": "#F5F6F9",
         "font": {
          "color": "#4D5663"
         }
        },
        "paper_bgcolor": "#F5F6F9",
        "plot_bgcolor": "#F5F6F9",
        "template": {
         "data": {
          "bar": [
           {
            "error_x": {
             "color": "#2a3f5f"
            },
            "error_y": {
             "color": "#2a3f5f"
            },
            "marker": {
             "line": {
              "color": "#E5ECF6",
              "width": 0.5
             },
             "pattern": {
              "fillmode": "overlay",
              "size": 10,
              "solidity": 0.2
             }
            },
            "type": "bar"
           }
          ],
          "barpolar": [
           {
            "marker": {
             "line": {
              "color": "#E5ECF6",
              "width": 0.5
             },
             "pattern": {
              "fillmode": "overlay",
              "size": 10,
              "solidity": 0.2
             }
            },
            "type": "barpolar"
           }
          ],
          "carpet": [
           {
            "aaxis": {
             "endlinecolor": "#2a3f5f",
             "gridcolor": "white",
             "linecolor": "white",
             "minorgridcolor": "white",
             "startlinecolor": "#2a3f5f"
            },
            "baxis": {
             "endlinecolor": "#2a3f5f",
             "gridcolor": "white",
             "linecolor": "white",
             "minorgridcolor": "white",
             "startlinecolor": "#2a3f5f"
            },
            "type": "carpet"
           }
          ],
          "choropleth": [
           {
            "colorbar": {
             "outlinewidth": 0,
             "ticks": ""
            },
            "type": "choropleth"
           }
          ],
          "contour": [
           {
            "colorbar": {
             "outlinewidth": 0,
             "ticks": ""
            },
            "colorscale": [
             [
              0,
              "#0d0887"
             ],
             [
              0.1111111111111111,
              "#46039f"
             ],
             [
              0.2222222222222222,
              "#7201a8"
             ],
             [
              0.3333333333333333,
              "#9c179e"
             ],
             [
              0.4444444444444444,
              "#bd3786"
             ],
             [
              0.5555555555555556,
              "#d8576b"
             ],
             [
              0.6666666666666666,
              "#ed7953"
             ],
             [
              0.7777777777777778,
              "#fb9f3a"
             ],
             [
              0.8888888888888888,
              "#fdca26"
             ],
             [
              1,
              "#f0f921"
             ]
            ],
            "type": "contour"
           }
          ],
          "contourcarpet": [
           {
            "colorbar": {
             "outlinewidth": 0,
             "ticks": ""
            },
            "type": "contourcarpet"
           }
          ],
          "heatmap": [
           {
            "colorbar": {
             "outlinewidth": 0,
             "ticks": ""
            },
            "colorscale": [
             [
              0,
              "#0d0887"
             ],
             [
              0.1111111111111111,
              "#46039f"
             ],
             [
              0.2222222222222222,
              "#7201a8"
             ],
             [
              0.3333333333333333,
              "#9c179e"
             ],
             [
              0.4444444444444444,
              "#bd3786"
             ],
             [
              0.5555555555555556,
              "#d8576b"
             ],
             [
              0.6666666666666666,
              "#ed7953"
             ],
             [
              0.7777777777777778,
              "#fb9f3a"
             ],
             [
              0.8888888888888888,
              "#fdca26"
             ],
             [
              1,
              "#f0f921"
             ]
            ],
            "type": "heatmap"
           }
          ],
          "heatmapgl": [
           {
            "colorbar": {
             "outlinewidth": 0,
             "ticks": ""
            },
            "colorscale": [
             [
              0,
              "#0d0887"
             ],
             [
              0.1111111111111111,
              "#46039f"
             ],
             [
              0.2222222222222222,
              "#7201a8"
             ],
             [
              0.3333333333333333,
              "#9c179e"
             ],
             [
              0.4444444444444444,
              "#bd3786"
             ],
             [
              0.5555555555555556,
              "#d8576b"
             ],
             [
              0.6666666666666666,
              "#ed7953"
             ],
             [
              0.7777777777777778,
              "#fb9f3a"
             ],
             [
              0.8888888888888888,
              "#fdca26"
             ],
             [
              1,
              "#f0f921"
             ]
            ],
            "type": "heatmapgl"
           }
          ],
          "histogram": [
           {
            "marker": {
             "pattern": {
              "fillmode": "overlay",
              "size": 10,
              "solidity": 0.2
             }
            },
            "type": "histogram"
           }
          ],
          "histogram2d": [
           {
            "colorbar": {
             "outlinewidth": 0,
             "ticks": ""
            },
            "colorscale": [
             [
              0,
              "#0d0887"
             ],
             [
              0.1111111111111111,
              "#46039f"
             ],
             [
              0.2222222222222222,
              "#7201a8"
             ],
             [
              0.3333333333333333,
              "#9c179e"
             ],
             [
              0.4444444444444444,
              "#bd3786"
             ],
             [
              0.5555555555555556,
              "#d8576b"
             ],
             [
              0.6666666666666666,
              "#ed7953"
             ],
             [
              0.7777777777777778,
              "#fb9f3a"
             ],
             [
              0.8888888888888888,
              "#fdca26"
             ],
             [
              1,
              "#f0f921"
             ]
            ],
            "type": "histogram2d"
           }
          ],
          "histogram2dcontour": [
           {
            "colorbar": {
             "outlinewidth": 0,
             "ticks": ""
            },
            "colorscale": [
             [
              0,
              "#0d0887"
             ],
             [
              0.1111111111111111,
              "#46039f"
             ],
             [
              0.2222222222222222,
              "#7201a8"
             ],
             [
              0.3333333333333333,
              "#9c179e"
             ],
             [
              0.4444444444444444,
              "#bd3786"
             ],
             [
              0.5555555555555556,
              "#d8576b"
             ],
             [
              0.6666666666666666,
              "#ed7953"
             ],
             [
              0.7777777777777778,
              "#fb9f3a"
             ],
             [
              0.8888888888888888,
              "#fdca26"
             ],
             [
              1,
              "#f0f921"
             ]
            ],
            "type": "histogram2dcontour"
           }
          ],
          "mesh3d": [
           {
            "colorbar": {
             "outlinewidth": 0,
             "ticks": ""
            },
            "type": "mesh3d"
           }
          ],
          "parcoords": [
           {
            "line": {
             "colorbar": {
              "outlinewidth": 0,
              "ticks": ""
             }
            },
            "type": "parcoords"
           }
          ],
          "pie": [
           {
            "automargin": true,
            "type": "pie"
           }
          ],
          "scatter": [
           {
            "marker": {
             "colorbar": {
              "outlinewidth": 0,
              "ticks": ""
             }
            },
            "type": "scatter"
           }
          ],
          "scatter3d": [
           {
            "line": {
             "colorbar": {
              "outlinewidth": 0,
              "ticks": ""
             }
            },
            "marker": {
             "colorbar": {
              "outlinewidth": 0,
              "ticks": ""
             }
            },
            "type": "scatter3d"
           }
          ],
          "scattercarpet": [
           {
            "marker": {
             "colorbar": {
              "outlinewidth": 0,
              "ticks": ""
             }
            },
            "type": "scattercarpet"
           }
          ],
          "scattergeo": [
           {
            "marker": {
             "colorbar": {
              "outlinewidth": 0,
              "ticks": ""
             }
            },
            "type": "scattergeo"
           }
          ],
          "scattergl": [
           {
            "marker": {
             "colorbar": {
              "outlinewidth": 0,
              "ticks": ""
             }
            },
            "type": "scattergl"
           }
          ],
          "scattermapbox": [
           {
            "marker": {
             "colorbar": {
              "outlinewidth": 0,
              "ticks": ""
             }
            },
            "type": "scattermapbox"
           }
          ],
          "scatterpolar": [
           {
            "marker": {
             "colorbar": {
              "outlinewidth": 0,
              "ticks": ""
             }
            },
            "type": "scatterpolar"
           }
          ],
          "scatterpolargl": [
           {
            "marker": {
             "colorbar": {
              "outlinewidth": 0,
              "ticks": ""
             }
            },
            "type": "scatterpolargl"
           }
          ],
          "scatterternary": [
           {
            "marker": {
             "colorbar": {
              "outlinewidth": 0,
              "ticks": ""
             }
            },
            "type": "scatterternary"
           }
          ],
          "surface": [
           {
            "colorbar": {
             "outlinewidth": 0,
             "ticks": ""
            },
            "colorscale": [
             [
              0,
              "#0d0887"
             ],
             [
              0.1111111111111111,
              "#46039f"
             ],
             [
              0.2222222222222222,
              "#7201a8"
             ],
             [
              0.3333333333333333,
              "#9c179e"
             ],
             [
              0.4444444444444444,
              "#bd3786"
             ],
             [
              0.5555555555555556,
              "#d8576b"
             ],
             [
              0.6666666666666666,
              "#ed7953"
             ],
             [
              0.7777777777777778,
              "#fb9f3a"
             ],
             [
              0.8888888888888888,
              "#fdca26"
             ],
             [
              1,
              "#f0f921"
             ]
            ],
            "type": "surface"
           }
          ],
          "table": [
           {
            "cells": {
             "fill": {
              "color": "#EBF0F8"
             },
             "line": {
              "color": "white"
             }
            },
            "header": {
             "fill": {
              "color": "#C8D4E3"
             },
             "line": {
              "color": "white"
             }
            },
            "type": "table"
           }
          ]
         },
         "layout": {
          "annotationdefaults": {
           "arrowcolor": "#2a3f5f",
           "arrowhead": 0,
           "arrowwidth": 1
          },
          "autotypenumbers": "strict",
          "coloraxis": {
           "colorbar": {
            "outlinewidth": 0,
            "ticks": ""
           }
          },
          "colorscale": {
           "diverging": [
            [
             0,
             "#8e0152"
            ],
            [
             0.1,
             "#c51b7d"
            ],
            [
             0.2,
             "#de77ae"
            ],
            [
             0.3,
             "#f1b6da"
            ],
            [
             0.4,
             "#fde0ef"
            ],
            [
             0.5,
             "#f7f7f7"
            ],
            [
             0.6,
             "#e6f5d0"
            ],
            [
             0.7,
             "#b8e186"
            ],
            [
             0.8,
             "#7fbc41"
            ],
            [
             0.9,
             "#4d9221"
            ],
            [
             1,
             "#276419"
            ]
           ],
           "sequential": [
            [
             0,
             "#0d0887"
            ],
            [
             0.1111111111111111,
             "#46039f"
            ],
            [
             0.2222222222222222,
             "#7201a8"
            ],
            [
             0.3333333333333333,
             "#9c179e"
            ],
            [
             0.4444444444444444,
             "#bd3786"
            ],
            [
             0.5555555555555556,
             "#d8576b"
            ],
            [
             0.6666666666666666,
             "#ed7953"
            ],
            [
             0.7777777777777778,
             "#fb9f3a"
            ],
            [
             0.8888888888888888,
             "#fdca26"
            ],
            [
             1,
             "#f0f921"
            ]
           ],
           "sequentialminus": [
            [
             0,
             "#0d0887"
            ],
            [
             0.1111111111111111,
             "#46039f"
            ],
            [
             0.2222222222222222,
             "#7201a8"
            ],
            [
             0.3333333333333333,
             "#9c179e"
            ],
            [
             0.4444444444444444,
             "#bd3786"
            ],
            [
             0.5555555555555556,
             "#d8576b"
            ],
            [
             0.6666666666666666,
             "#ed7953"
            ],
            [
             0.7777777777777778,
             "#fb9f3a"
            ],
            [
             0.8888888888888888,
             "#fdca26"
            ],
            [
             1,
             "#f0f921"
            ]
           ]
          },
          "colorway": [
           "#636efa",
           "#EF553B",
           "#00cc96",
           "#ab63fa",
           "#FFA15A",
           "#19d3f3",
           "#FF6692",
           "#B6E880",
           "#FF97FF",
           "#FECB52"
          ],
          "font": {
           "color": "#2a3f5f"
          },
          "geo": {
           "bgcolor": "white",
           "lakecolor": "white",
           "landcolor": "#E5ECF6",
           "showlakes": true,
           "showland": true,
           "subunitcolor": "white"
          },
          "hoverlabel": {
           "align": "left"
          },
          "hovermode": "closest",
          "mapbox": {
           "style": "light"
          },
          "paper_bgcolor": "white",
          "plot_bgcolor": "#E5ECF6",
          "polar": {
           "angularaxis": {
            "gridcolor": "white",
            "linecolor": "white",
            "ticks": ""
           },
           "bgcolor": "#E5ECF6",
           "radialaxis": {
            "gridcolor": "white",
            "linecolor": "white",
            "ticks": ""
           }
          },
          "scene": {
           "xaxis": {
            "backgroundcolor": "#E5ECF6",
            "gridcolor": "white",
            "gridwidth": 2,
            "linecolor": "white",
            "showbackground": true,
            "ticks": "",
            "zerolinecolor": "white"
           },
           "yaxis": {
            "backgroundcolor": "#E5ECF6",
            "gridcolor": "white",
            "gridwidth": 2,
            "linecolor": "white",
            "showbackground": true,
            "ticks": "",
            "zerolinecolor": "white"
           },
           "zaxis": {
            "backgroundcolor": "#E5ECF6",
            "gridcolor": "white",
            "gridwidth": 2,
            "linecolor": "white",
            "showbackground": true,
            "ticks": "",
            "zerolinecolor": "white"
           }
          },
          "shapedefaults": {
           "line": {
            "color": "#2a3f5f"
           }
          },
          "ternary": {
           "aaxis": {
            "gridcolor": "white",
            "linecolor": "white",
            "ticks": ""
           },
           "baxis": {
            "gridcolor": "white",
            "linecolor": "white",
            "ticks": ""
           },
           "bgcolor": "#E5ECF6",
           "caxis": {
            "gridcolor": "white",
            "linecolor": "white",
            "ticks": ""
           }
          },
          "title": {
           "x": 0.05
          },
          "xaxis": {
           "automargin": true,
           "gridcolor": "white",
           "linecolor": "white",
           "ticks": "",
           "title": {
            "standoff": 15
           },
           "zerolinecolor": "white",
           "zerolinewidth": 2
          },
          "yaxis": {
           "automargin": true,
           "gridcolor": "white",
           "linecolor": "white",
           "ticks": "",
           "title": {
            "standoff": 15
           },
           "zerolinecolor": "white",
           "zerolinewidth": 2
          }
         }
        },
        "title": {
         "font": {
          "color": "#4D5663"
         }
        },
        "xaxis": {
         "gridcolor": "#E1E5ED",
         "showgrid": true,
         "tickfont": {
          "color": "#4D5663"
         },
         "title": {
          "font": {
           "color": "#4D5663"
          },
          "text": ""
         },
         "zerolinecolor": "#E1E5ED"
        },
        "yaxis": {
         "gridcolor": "#E1E5ED",
         "showgrid": true,
         "tickfont": {
          "color": "#4D5663"
         },
         "title": {
          "font": {
           "color": "#4D5663"
          },
          "text": ""
         },
         "zerolinecolor": "#E1E5ED"
        }
       }
      },
      "text/html": [
       "<div>                            <div id=\"953f2f0c-0970-4117-ae5e-f797a5de132e\" class=\"plotly-graph-div\" style=\"height:525px; width:100%;\"></div>            <script type=\"text/javascript\">                require([\"plotly\"], function(Plotly) {                    window.PLOTLYENV=window.PLOTLYENV || {};\n",
       "                    window.PLOTLYENV.BASE_URL='https://plot.ly';                                    if (document.getElementById(\"953f2f0c-0970-4117-ae5e-f797a5de132e\")) {                    Plotly.newPlot(                        \"953f2f0c-0970-4117-ae5e-f797a5de132e\",                        [{\"line\":{\"color\":\"rgba(255, 153, 51, 1.0)\",\"dash\":\"solid\",\"shape\":\"linear\",\"width\":1.3},\"mode\":\"lines\",\"name\":\"A\",\"text\":\"\",\"x\":[0,1,2,3,4,5,6,7,8,9,10,11,12,13,14,15,16,17,18,19,20,21,22,23,24,25,26,27,28,29,30,31,32,33,34,35,36,37,38,39,40,41,42,43,44,45,46,47,48,49,50,51,52,53,54,55,56,57,58,59,60,61,62,63,64,65,66,67,68,69,70,71,72,73,74,75,76,77,78,79,80,81,82,83,84,85,86,87,88,89,90,91,92,93,94,95,96,97,98,99],\"y\":[-1.309527744420406,-0.43461471341730906,-0.6595622762097307,-1.8087704558636009,-0.21507624397672268,-0.38856874633371274,0.39323640994019327,-1.5768836282447465,0.22178931809236666,-0.9431156572498557,-1.9102029239374554,-0.477769555673728,-1.089425538238347,-1.0357538495845635,1.2252166381530092,0.37107402061163053,-1.158252094622077,1.3695745789888654,-1.01825182367802,-1.7722468986897701,-0.2168013554876337,0.4755191701253149,-0.31047009102309275,-1.1396124818852957,-0.6999173593661061,-1.1371155062620095,-0.4910949440770942,-1.3621373445513156,1.0766873032479476,0.525928465473397,0.18338106944618113,-0.1505291458789072,1.8846432497944905,1.0605122306404768,-0.962144311117594,-0.1476914461688686,0.7205523460441676,-1.7892639026055361,-1.0548281912697273,1.7356821752881395,0.7623513817996954,0.3727625957984767,0.44451049023253525,1.4676975285083917,0.4814662048334038,0.6221661115520754,0.2370320573531419,-0.7473679255146413,0.6347836687579423,1.2138547818174472,-1.1115098285811436,-0.741420524794404,-1.7765108665886487,0.810113366475899,0.47669154362011024,-0.4134257725397369,0.765857785416105,-0.965188219950402,-1.4789137379581754,-0.6434993507816088,1.1172937554301525,-0.495694212475232,-0.387836058015111,-1.5016648314212626,0.1203043588212254,1.2088376698736039,-0.07194726263107164,0.15389399355134598,-0.6401244083647915,-0.08273948253381846,-1.3592394732882558,-1.9885105671375787,0.038505035218103376,-1.24448668315206,1.0295590758843345,0.33682960031944126,0.016429352896183677,-0.8237702468602085,-0.18449476647468116,1.3095212684401376,1.3587986132723278,-0.6051067858004684,-1.6266419057988017,1.0042132470590117,-0.941415138673278,-0.22540308480569024,1.3745114441408741,0.9480792162916354,-0.6327623894459151,-0.4249154919293121,0.6437607373691273,-0.023221467246056046,-0.11276162648807049,-1.4583110545841829,1.2612779604538449,1.3478794165153494,-0.380129484919786,1.451947890281281,-1.1301928995517123,-1.9753921455165973],\"type\":\"scatter\"},{\"line\":{\"color\":\"rgba(55, 128, 191, 1.0)\",\"dash\":\"solid\",\"shape\":\"linear\",\"width\":1.3},\"mode\":\"lines\",\"name\":\"B\",\"text\":\"\",\"x\":[0,1,2,3,4,5,6,7,8,9,10,11,12,13,14,15,16,17,18,19,20,21,22,23,24,25,26,27,28,29,30,31,32,33,34,35,36,37,38,39,40,41,42,43,44,45,46,47,48,49,50,51,52,53,54,55,56,57,58,59,60,61,62,63,64,65,66,67,68,69,70,71,72,73,74,75,76,77,78,79,80,81,82,83,84,85,86,87,88,89,90,91,92,93,94,95,96,97,98,99],\"y\":[-0.3135045106961009,0.27106706687477644,0.6119471965110417,0.3009908952710065,-1.7296433552727768,-0.8395951219175694,0.16250707660228472,0.5055405458960701,-0.832888025408523,0.9109193800627438,-0.26573228768153007,-1.048508086534288,2.3935354905650352,-0.6120845323882204,0.2794630660004881,1.627451053655647,-0.6851014265020644,-0.05563959335930016,-0.135370377466742,1.1825219023457476,0.09104646907592046,-0.23291348461501518,0.7536213073112578,0.4852510554975916,-0.11598911508126203,1.0968318367465173,0.18417105335675082,-1.3013280121311601,-1.5523879941424124,-0.32369753741302265,0.12823504654106158,0.3235706409631143,-0.39016583384232667,-1.3483469875160243,-0.8778043256258503,-0.6566745979642085,-0.8717450588581389,-0.6555475573355242,1.1869681326633754,-1.6754949879668986,-1.0166574270487643,0.30084494827373853,-0.5569631288734428,-0.567768653274891,-1.240819396653744,0.07056845771157615,1.7622707398041684,0.18529340390041166,-0.9353562273967888,-0.6885393911334184,1.5338969581422393,1.5892838914058174,-1.614263003322591,-0.15402669237130096,1.159444826889843,0.08959925841560044,-0.7533113996854893,1.905234347898969,0.7307657905729821,-0.29285654487137897,1.7069381234928882,0.5380807773841841,-0.633045084982813,-1.7779188737619718,1.4017987066713467,-0.08474720608466335,0.8776521766497231,0.4641730284714228,0.45125150792532565,0.060392922247830425,0.8784203727592276,-0.1688059199189494,-1.0896619947083495,0.0171159299839232,0.08104028200629111,2.1271586379364784,-0.976903741909578,1.1376357527698266,-0.00012090109272308358,1.6484473114720377,-1.0772133462637432,-0.9150194793716977,-0.13908916224241138,1.420245945456923,-0.8638449427158882,0.35946872217060843,0.353760398347842,-0.034214007117311096,0.42062282065593914,-0.4119607557910614,-2.246530449988816,0.6572380023859556,1.5371929318791877,0.7047641075968462,0.2758760032749365,0.3641139356290369,-1.7452790367604647,0.7507657464946539,0.7660509128626469,-1.918014533068927],\"type\":\"scatter\"},{\"line\":{\"color\":\"rgba(50, 171, 96, 1.0)\",\"dash\":\"solid\",\"shape\":\"linear\",\"width\":1.3},\"mode\":\"lines\",\"name\":\"C\",\"text\":\"\",\"x\":[0,1,2,3,4,5,6,7,8,9,10,11,12,13,14,15,16,17,18,19,20,21,22,23,24,25,26,27,28,29,30,31,32,33,34,35,36,37,38,39,40,41,42,43,44,45,46,47,48,49,50,51,52,53,54,55,56,57,58,59,60,61,62,63,64,65,66,67,68,69,70,71,72,73,74,75,76,77,78,79,80,81,82,83,84,85,86,87,88,89,90,91,92,93,94,95,96,97,98,99],\"y\":[-0.2575191113048818,1.320500761745751,0.5393212069591781,0.04219896750035622,1.698198936943047,0.5028199669499871,-0.1498454934058726,0.9633475163625961,-1.339015637048091,-0.6182770329783752,-0.33591206203027124,-0.18188932275864927,-0.5454887664402375,-0.6883932246837449,-0.30489076816095145,-1.0100830280007966,-1.0655391492630855,-0.12015197749752969,0.5860522797870924,0.4192151567643949,-1.3353733919720032,-0.031402120800871076,-2.1335260348390843,-0.3441969850120935,-1.7542223093498468,-0.295042033863205,-0.18863870771689262,1.552840719836552,-0.4316870464612591,-0.7613274261883847,0.14947076189898487,0.48595016476934905,-0.7926945550247574,0.7731965931118994,-0.6883938465753762,-2.225079507875566,0.5423950945731457,-0.34085758855813325,1.7417998243184183,-0.338719869712993,-1.2565129037379519,-0.4862357073192635,-0.26247542513880223,1.371966678906609,0.06204981495579611,0.1435830366946529,-0.09818086024700041,-1.0065206400186884,0.8816406316046609,1.365273883971452,-0.3084988064482174,-1.0107121741822607,0.13115805878508405,1.4331106094227337,0.1347015805384705,-1.2873072839233077,0.4520970966083857,-1.2803743865230197,1.1250400099747564,-0.26260192722481174,2.7583588538460173,0.3145755605376287,0.6148574032845244,-0.2865467255124006,-0.5077597544678613,0.34207611262169624,0.1176418668857983,0.6599108232966143,0.20697791306697302,-1.5497405311923949,-1.2399904990512816,-0.5418927010115602,-0.006076378393536418,1.396970316349856,0.29841528419805907,-0.5186695251409451,2.5370307553948255,1.4138531800659624,0.850227769881565,-0.5589241218200475,0.9370408392367986,-0.9036863474832941,-1.2731512830332214,0.43070386279979206,1.004596274576969,0.30830106177054645,0.15488032937692175,-1.0238457042133868,-1.0118295214957163,0.08967082143098096,-0.9042923514152782,-0.7405311429356125,-0.8425526874977495,1.1428674009459987,-1.1631122871541602,-0.47384436477048175,-1.0361201255211805,1.2289487011273375,-0.4323744236158504,-0.12486789140963928],\"type\":\"scatter\"},{\"line\":{\"color\":\"rgba(128, 0, 128, 1.0)\",\"dash\":\"solid\",\"shape\":\"linear\",\"width\":1.3},\"mode\":\"lines\",\"name\":\"D\",\"text\":\"\",\"x\":[0,1,2,3,4,5,6,7,8,9,10,11,12,13,14,15,16,17,18,19,20,21,22,23,24,25,26,27,28,29,30,31,32,33,34,35,36,37,38,39,40,41,42,43,44,45,46,47,48,49,50,51,52,53,54,55,56,57,58,59,60,61,62,63,64,65,66,67,68,69,70,71,72,73,74,75,76,77,78,79,80,81,82,83,84,85,86,87,88,89,90,91,92,93,94,95,96,97,98,99],\"y\":[0.9233664551727817,0.2187068108806523,0.11865198024420574,-1.5579186623042052,-0.4672071562814396,3.0066626935308456,-0.32655014387269754,0.10772210250884771,0.8844221038072054,1.7722565392187368,1.184992792776857,0.2108781835560796,-1.1148099764931805,-4.345427928625704e-05,-1.983953129359126,-0.9649214601388116,-0.22125091561265933,1.2273455531899071,-0.0575385070370791,-0.11781601230391926,1.9166344516297773,-1.0970613676362393,0.43934146242854094,1.2762258985477217,0.07447449662748581,3.0919869419630976,0.5973122040456079,-0.7050905523339075,-0.4999112205302632,-0.03493124465617314,-0.7617881698096332,1.3797053254926674,-0.2215403633239477,0.6925481305262045,0.06167550672697119,-0.40963611935775956,0.35893243125669266,-0.41745743030591087,0.03015429313705,0.15602988591660222,-0.26787146265085654,-0.41417028686894974,1.5609792080758211,1.194969375259976,-0.6551383967781365,-1.755053789996685,1.5159309217952428,-1.28875100441881,-0.911926164600893,-0.5474702131804486,0.4047143059595249,-0.43079197819212006,0.08797226941624581,-0.6908029115601726,0.7242905167980132,0.23214396422851524,0.7247353002278414,1.9452025367983576,-0.6546861016814408,-0.6799974252683934,-0.5317611724410563,1.4405271470855314,1.1115247500755756,0.589893192958994,0.4824437508914874,1.377178678619452,-0.6862284977820776,0.13642842203149558,-0.8947830787665288,-1.2215509521492065,-0.9851235704440013,0.2769495490795035,-0.5492866868876993,-0.45589525253369273,-0.49258897950070984,-0.2268613593796678,-1.0595067963615048,-1.163113884097818,-2.131695933566539,0.42063353723874125,1.5399342918829222,-0.6831121602536194,0.7561167662337182,-1.1136598817381878,0.026303240811561608,-0.11853482107150998,-0.7999930888845683,0.6608875939920911,-0.4310373559079466,-0.6088333250428458,-0.8584547980700439,-0.18485197733031306,0.7591281136316559,0.4505866865518529,0.39346588693495527,0.2764004766793301,0.2849159220159852,0.2464470334073424,-1.9666741818132207,-0.11656813004260916],\"type\":\"scatter\"}],                        {\"legend\":{\"bgcolor\":\"#F5F6F9\",\"font\":{\"color\":\"#4D5663\"}},\"paper_bgcolor\":\"#F5F6F9\",\"plot_bgcolor\":\"#F5F6F9\",\"template\":{\"data\":{\"barpolar\":[{\"marker\":{\"line\":{\"color\":\"#E5ECF6\",\"width\":0.5},\"pattern\":{\"fillmode\":\"overlay\",\"size\":10,\"solidity\":0.2}},\"type\":\"barpolar\"}],\"bar\":[{\"error_x\":{\"color\":\"#2a3f5f\"},\"error_y\":{\"color\":\"#2a3f5f\"},\"marker\":{\"line\":{\"color\":\"#E5ECF6\",\"width\":0.5},\"pattern\":{\"fillmode\":\"overlay\",\"size\":10,\"solidity\":0.2}},\"type\":\"bar\"}],\"carpet\":[{\"aaxis\":{\"endlinecolor\":\"#2a3f5f\",\"gridcolor\":\"white\",\"linecolor\":\"white\",\"minorgridcolor\":\"white\",\"startlinecolor\":\"#2a3f5f\"},\"baxis\":{\"endlinecolor\":\"#2a3f5f\",\"gridcolor\":\"white\",\"linecolor\":\"white\",\"minorgridcolor\":\"white\",\"startlinecolor\":\"#2a3f5f\"},\"type\":\"carpet\"}],\"choropleth\":[{\"colorbar\":{\"outlinewidth\":0,\"ticks\":\"\"},\"type\":\"choropleth\"}],\"contourcarpet\":[{\"colorbar\":{\"outlinewidth\":0,\"ticks\":\"\"},\"type\":\"contourcarpet\"}],\"contour\":[{\"colorbar\":{\"outlinewidth\":0,\"ticks\":\"\"},\"colorscale\":[[0.0,\"#0d0887\"],[0.1111111111111111,\"#46039f\"],[0.2222222222222222,\"#7201a8\"],[0.3333333333333333,\"#9c179e\"],[0.4444444444444444,\"#bd3786\"],[0.5555555555555556,\"#d8576b\"],[0.6666666666666666,\"#ed7953\"],[0.7777777777777778,\"#fb9f3a\"],[0.8888888888888888,\"#fdca26\"],[1.0,\"#f0f921\"]],\"type\":\"contour\"}],\"heatmapgl\":[{\"colorbar\":{\"outlinewidth\":0,\"ticks\":\"\"},\"colorscale\":[[0.0,\"#0d0887\"],[0.1111111111111111,\"#46039f\"],[0.2222222222222222,\"#7201a8\"],[0.3333333333333333,\"#9c179e\"],[0.4444444444444444,\"#bd3786\"],[0.5555555555555556,\"#d8576b\"],[0.6666666666666666,\"#ed7953\"],[0.7777777777777778,\"#fb9f3a\"],[0.8888888888888888,\"#fdca26\"],[1.0,\"#f0f921\"]],\"type\":\"heatmapgl\"}],\"heatmap\":[{\"colorbar\":{\"outlinewidth\":0,\"ticks\":\"\"},\"colorscale\":[[0.0,\"#0d0887\"],[0.1111111111111111,\"#46039f\"],[0.2222222222222222,\"#7201a8\"],[0.3333333333333333,\"#9c179e\"],[0.4444444444444444,\"#bd3786\"],[0.5555555555555556,\"#d8576b\"],[0.6666666666666666,\"#ed7953\"],[0.7777777777777778,\"#fb9f3a\"],[0.8888888888888888,\"#fdca26\"],[1.0,\"#f0f921\"]],\"type\":\"heatmap\"}],\"histogram2dcontour\":[{\"colorbar\":{\"outlinewidth\":0,\"ticks\":\"\"},\"colorscale\":[[0.0,\"#0d0887\"],[0.1111111111111111,\"#46039f\"],[0.2222222222222222,\"#7201a8\"],[0.3333333333333333,\"#9c179e\"],[0.4444444444444444,\"#bd3786\"],[0.5555555555555556,\"#d8576b\"],[0.6666666666666666,\"#ed7953\"],[0.7777777777777778,\"#fb9f3a\"],[0.8888888888888888,\"#fdca26\"],[1.0,\"#f0f921\"]],\"type\":\"histogram2dcontour\"}],\"histogram2d\":[{\"colorbar\":{\"outlinewidth\":0,\"ticks\":\"\"},\"colorscale\":[[0.0,\"#0d0887\"],[0.1111111111111111,\"#46039f\"],[0.2222222222222222,\"#7201a8\"],[0.3333333333333333,\"#9c179e\"],[0.4444444444444444,\"#bd3786\"],[0.5555555555555556,\"#d8576b\"],[0.6666666666666666,\"#ed7953\"],[0.7777777777777778,\"#fb9f3a\"],[0.8888888888888888,\"#fdca26\"],[1.0,\"#f0f921\"]],\"type\":\"histogram2d\"}],\"histogram\":[{\"marker\":{\"pattern\":{\"fillmode\":\"overlay\",\"size\":10,\"solidity\":0.2}},\"type\":\"histogram\"}],\"mesh3d\":[{\"colorbar\":{\"outlinewidth\":0,\"ticks\":\"\"},\"type\":\"mesh3d\"}],\"parcoords\":[{\"line\":{\"colorbar\":{\"outlinewidth\":0,\"ticks\":\"\"}},\"type\":\"parcoords\"}],\"pie\":[{\"automargin\":true,\"type\":\"pie\"}],\"scatter3d\":[{\"line\":{\"colorbar\":{\"outlinewidth\":0,\"ticks\":\"\"}},\"marker\":{\"colorbar\":{\"outlinewidth\":0,\"ticks\":\"\"}},\"type\":\"scatter3d\"}],\"scattercarpet\":[{\"marker\":{\"colorbar\":{\"outlinewidth\":0,\"ticks\":\"\"}},\"type\":\"scattercarpet\"}],\"scattergeo\":[{\"marker\":{\"colorbar\":{\"outlinewidth\":0,\"ticks\":\"\"}},\"type\":\"scattergeo\"}],\"scattergl\":[{\"marker\":{\"colorbar\":{\"outlinewidth\":0,\"ticks\":\"\"}},\"type\":\"scattergl\"}],\"scattermapbox\":[{\"marker\":{\"colorbar\":{\"outlinewidth\":0,\"ticks\":\"\"}},\"type\":\"scattermapbox\"}],\"scatterpolargl\":[{\"marker\":{\"colorbar\":{\"outlinewidth\":0,\"ticks\":\"\"}},\"type\":\"scatterpolargl\"}],\"scatterpolar\":[{\"marker\":{\"colorbar\":{\"outlinewidth\":0,\"ticks\":\"\"}},\"type\":\"scatterpolar\"}],\"scatter\":[{\"marker\":{\"colorbar\":{\"outlinewidth\":0,\"ticks\":\"\"}},\"type\":\"scatter\"}],\"scatterternary\":[{\"marker\":{\"colorbar\":{\"outlinewidth\":0,\"ticks\":\"\"}},\"type\":\"scatterternary\"}],\"surface\":[{\"colorbar\":{\"outlinewidth\":0,\"ticks\":\"\"},\"colorscale\":[[0.0,\"#0d0887\"],[0.1111111111111111,\"#46039f\"],[0.2222222222222222,\"#7201a8\"],[0.3333333333333333,\"#9c179e\"],[0.4444444444444444,\"#bd3786\"],[0.5555555555555556,\"#d8576b\"],[0.6666666666666666,\"#ed7953\"],[0.7777777777777778,\"#fb9f3a\"],[0.8888888888888888,\"#fdca26\"],[1.0,\"#f0f921\"]],\"type\":\"surface\"}],\"table\":[{\"cells\":{\"fill\":{\"color\":\"#EBF0F8\"},\"line\":{\"color\":\"white\"}},\"header\":{\"fill\":{\"color\":\"#C8D4E3\"},\"line\":{\"color\":\"white\"}},\"type\":\"table\"}]},\"layout\":{\"annotationdefaults\":{\"arrowcolor\":\"#2a3f5f\",\"arrowhead\":0,\"arrowwidth\":1},\"autotypenumbers\":\"strict\",\"coloraxis\":{\"colorbar\":{\"outlinewidth\":0,\"ticks\":\"\"}},\"colorscale\":{\"diverging\":[[0,\"#8e0152\"],[0.1,\"#c51b7d\"],[0.2,\"#de77ae\"],[0.3,\"#f1b6da\"],[0.4,\"#fde0ef\"],[0.5,\"#f7f7f7\"],[0.6,\"#e6f5d0\"],[0.7,\"#b8e186\"],[0.8,\"#7fbc41\"],[0.9,\"#4d9221\"],[1,\"#276419\"]],\"sequential\":[[0.0,\"#0d0887\"],[0.1111111111111111,\"#46039f\"],[0.2222222222222222,\"#7201a8\"],[0.3333333333333333,\"#9c179e\"],[0.4444444444444444,\"#bd3786\"],[0.5555555555555556,\"#d8576b\"],[0.6666666666666666,\"#ed7953\"],[0.7777777777777778,\"#fb9f3a\"],[0.8888888888888888,\"#fdca26\"],[1.0,\"#f0f921\"]],\"sequentialminus\":[[0.0,\"#0d0887\"],[0.1111111111111111,\"#46039f\"],[0.2222222222222222,\"#7201a8\"],[0.3333333333333333,\"#9c179e\"],[0.4444444444444444,\"#bd3786\"],[0.5555555555555556,\"#d8576b\"],[0.6666666666666666,\"#ed7953\"],[0.7777777777777778,\"#fb9f3a\"],[0.8888888888888888,\"#fdca26\"],[1.0,\"#f0f921\"]]},\"colorway\":[\"#636efa\",\"#EF553B\",\"#00cc96\",\"#ab63fa\",\"#FFA15A\",\"#19d3f3\",\"#FF6692\",\"#B6E880\",\"#FF97FF\",\"#FECB52\"],\"font\":{\"color\":\"#2a3f5f\"},\"geo\":{\"bgcolor\":\"white\",\"lakecolor\":\"white\",\"landcolor\":\"#E5ECF6\",\"showlakes\":true,\"showland\":true,\"subunitcolor\":\"white\"},\"hoverlabel\":{\"align\":\"left\"},\"hovermode\":\"closest\",\"mapbox\":{\"style\":\"light\"},\"paper_bgcolor\":\"white\",\"plot_bgcolor\":\"#E5ECF6\",\"polar\":{\"angularaxis\":{\"gridcolor\":\"white\",\"linecolor\":\"white\",\"ticks\":\"\"},\"bgcolor\":\"#E5ECF6\",\"radialaxis\":{\"gridcolor\":\"white\",\"linecolor\":\"white\",\"ticks\":\"\"}},\"scene\":{\"xaxis\":{\"backgroundcolor\":\"#E5ECF6\",\"gridcolor\":\"white\",\"gridwidth\":2,\"linecolor\":\"white\",\"showbackground\":true,\"ticks\":\"\",\"zerolinecolor\":\"white\"},\"yaxis\":{\"backgroundcolor\":\"#E5ECF6\",\"gridcolor\":\"white\",\"gridwidth\":2,\"linecolor\":\"white\",\"showbackground\":true,\"ticks\":\"\",\"zerolinecolor\":\"white\"},\"zaxis\":{\"backgroundcolor\":\"#E5ECF6\",\"gridcolor\":\"white\",\"gridwidth\":2,\"linecolor\":\"white\",\"showbackground\":true,\"ticks\":\"\",\"zerolinecolor\":\"white\"}},\"shapedefaults\":{\"line\":{\"color\":\"#2a3f5f\"}},\"ternary\":{\"aaxis\":{\"gridcolor\":\"white\",\"linecolor\":\"white\",\"ticks\":\"\"},\"baxis\":{\"gridcolor\":\"white\",\"linecolor\":\"white\",\"ticks\":\"\"},\"bgcolor\":\"#E5ECF6\",\"caxis\":{\"gridcolor\":\"white\",\"linecolor\":\"white\",\"ticks\":\"\"}},\"title\":{\"x\":0.05},\"xaxis\":{\"automargin\":true,\"gridcolor\":\"white\",\"linecolor\":\"white\",\"ticks\":\"\",\"title\":{\"standoff\":15},\"zerolinecolor\":\"white\",\"zerolinewidth\":2},\"yaxis\":{\"automargin\":true,\"gridcolor\":\"white\",\"linecolor\":\"white\",\"ticks\":\"\",\"title\":{\"standoff\":15},\"zerolinecolor\":\"white\",\"zerolinewidth\":2}}},\"title\":{\"font\":{\"color\":\"#4D5663\"}},\"xaxis\":{\"gridcolor\":\"#E1E5ED\",\"showgrid\":true,\"tickfont\":{\"color\":\"#4D5663\"},\"title\":{\"font\":{\"color\":\"#4D5663\"},\"text\":\"\"},\"zerolinecolor\":\"#E1E5ED\"},\"yaxis\":{\"gridcolor\":\"#E1E5ED\",\"showgrid\":true,\"tickfont\":{\"color\":\"#4D5663\"},\"title\":{\"font\":{\"color\":\"#4D5663\"},\"text\":\"\"},\"zerolinecolor\":\"#E1E5ED\"}},                        {\"showLink\": true, \"linkText\": \"Export to plot.ly\", \"plotlyServerURL\": \"https://plot.ly\", \"responsive\": true}                    ).then(function(){\n",
       "                            \n",
       "var gd = document.getElementById('953f2f0c-0970-4117-ae5e-f797a5de132e');\n",
       "var x = new MutationObserver(function (mutations, observer) {{\n",
       "        var display = window.getComputedStyle(gd).display;\n",
       "        if (!display || display === 'none') {{\n",
       "            console.log([gd, 'removed!']);\n",
       "            Plotly.purge(gd);\n",
       "            observer.disconnect();\n",
       "        }}\n",
       "}});\n",
       "\n",
       "// Listen for the removal of the full notebook cells\n",
       "var notebookContainer = gd.closest('#notebook-container');\n",
       "if (notebookContainer) {{\n",
       "    x.observe(notebookContainer, {childList: true});\n",
       "}}\n",
       "\n",
       "// Listen for the clearing of the current output cell\n",
       "var outputEl = gd.closest('.output');\n",
       "if (outputEl) {{\n",
       "    x.observe(outputEl, {childList: true});\n",
       "}}\n",
       "\n",
       "                        })                };                });            </script>        </div>"
      ]
     },
     "metadata": {},
     "output_type": "display_data"
    }
   ],
   "source": [
    "df1.iplot()"
   ]
  },
  {
   "cell_type": "code",
   "execution_count": 18,
   "id": "03341a16",
   "metadata": {},
   "outputs": [
    {
     "data": {
      "application/vnd.plotly.v1+json": {
       "config": {
        "linkText": "Export to plot.ly",
        "plotlyServerURL": "https://plot.ly",
        "showLink": true
       },
       "data": [
        {
         "line": {
          "color": "rgba(255, 153, 51, 1.0)",
          "dash": "solid",
          "shape": "linear",
          "width": 1.3
         },
         "marker": {
          "size": 12,
          "symbol": "circle"
         },
         "mode": "markers",
         "name": "B",
         "text": "",
         "type": "scatter",
         "x": [
          -1.309527744420406,
          -0.43461471341730906,
          -0.6595622762097307,
          -1.8087704558636009,
          -0.21507624397672268,
          -0.38856874633371274,
          0.39323640994019327,
          -1.5768836282447465,
          0.22178931809236666,
          -0.9431156572498557,
          -1.9102029239374554,
          -0.477769555673728,
          -1.089425538238347,
          -1.0357538495845635,
          1.2252166381530092,
          0.37107402061163053,
          -1.158252094622077,
          1.3695745789888654,
          -1.01825182367802,
          -1.7722468986897701,
          -0.2168013554876337,
          0.4755191701253149,
          -0.31047009102309275,
          -1.1396124818852957,
          -0.6999173593661061,
          -1.1371155062620095,
          -0.4910949440770942,
          -1.3621373445513156,
          1.0766873032479476,
          0.525928465473397,
          0.18338106944618113,
          -0.1505291458789072,
          1.8846432497944905,
          1.0605122306404768,
          -0.962144311117594,
          -0.1476914461688686,
          0.7205523460441676,
          -1.7892639026055361,
          -1.0548281912697273,
          1.7356821752881395,
          0.7623513817996954,
          0.3727625957984767,
          0.44451049023253525,
          1.4676975285083917,
          0.4814662048334038,
          0.6221661115520754,
          0.2370320573531419,
          -0.7473679255146413,
          0.6347836687579423,
          1.2138547818174472,
          -1.1115098285811436,
          -0.741420524794404,
          -1.7765108665886487,
          0.810113366475899,
          0.47669154362011024,
          -0.4134257725397369,
          0.765857785416105,
          -0.965188219950402,
          -1.4789137379581754,
          -0.6434993507816088,
          1.1172937554301525,
          -0.495694212475232,
          -0.387836058015111,
          -1.5016648314212626,
          0.1203043588212254,
          1.2088376698736039,
          -0.07194726263107164,
          0.15389399355134598,
          -0.6401244083647915,
          -0.08273948253381846,
          -1.3592394732882558,
          -1.9885105671375787,
          0.038505035218103376,
          -1.24448668315206,
          1.0295590758843345,
          0.33682960031944126,
          0.016429352896183677,
          -0.8237702468602085,
          -0.18449476647468116,
          1.3095212684401376,
          1.3587986132723278,
          -0.6051067858004684,
          -1.6266419057988017,
          1.0042132470590117,
          -0.941415138673278,
          -0.22540308480569024,
          1.3745114441408741,
          0.9480792162916354,
          -0.6327623894459151,
          -0.4249154919293121,
          0.6437607373691273,
          -0.023221467246056046,
          -0.11276162648807049,
          -1.4583110545841829,
          1.2612779604538449,
          1.3478794165153494,
          -0.380129484919786,
          1.451947890281281,
          -1.1301928995517123,
          -1.9753921455165973
         ],
         "y": [
          -0.3135045106961009,
          0.27106706687477644,
          0.6119471965110417,
          0.3009908952710065,
          -1.7296433552727768,
          -0.8395951219175694,
          0.16250707660228472,
          0.5055405458960701,
          -0.832888025408523,
          0.9109193800627438,
          -0.26573228768153007,
          -1.048508086534288,
          2.3935354905650352,
          -0.6120845323882204,
          0.2794630660004881,
          1.627451053655647,
          -0.6851014265020644,
          -0.05563959335930016,
          -0.135370377466742,
          1.1825219023457476,
          0.09104646907592046,
          -0.23291348461501518,
          0.7536213073112578,
          0.4852510554975916,
          -0.11598911508126203,
          1.0968318367465173,
          0.18417105335675082,
          -1.3013280121311601,
          -1.5523879941424124,
          -0.32369753741302265,
          0.12823504654106158,
          0.3235706409631143,
          -0.39016583384232667,
          -1.3483469875160243,
          -0.8778043256258503,
          -0.6566745979642085,
          -0.8717450588581389,
          -0.6555475573355242,
          1.1869681326633754,
          -1.6754949879668986,
          -1.0166574270487643,
          0.30084494827373853,
          -0.5569631288734428,
          -0.567768653274891,
          -1.240819396653744,
          0.07056845771157615,
          1.7622707398041684,
          0.18529340390041166,
          -0.9353562273967888,
          -0.6885393911334184,
          1.5338969581422393,
          1.5892838914058174,
          -1.614263003322591,
          -0.15402669237130096,
          1.159444826889843,
          0.08959925841560044,
          -0.7533113996854893,
          1.905234347898969,
          0.7307657905729821,
          -0.29285654487137897,
          1.7069381234928882,
          0.5380807773841841,
          -0.633045084982813,
          -1.7779188737619718,
          1.4017987066713467,
          -0.08474720608466335,
          0.8776521766497231,
          0.4641730284714228,
          0.45125150792532565,
          0.060392922247830425,
          0.8784203727592276,
          -0.1688059199189494,
          -1.0896619947083495,
          0.0171159299839232,
          0.08104028200629111,
          2.1271586379364784,
          -0.976903741909578,
          1.1376357527698266,
          -0.00012090109272308358,
          1.6484473114720377,
          -1.0772133462637432,
          -0.9150194793716977,
          -0.13908916224241138,
          1.420245945456923,
          -0.8638449427158882,
          0.35946872217060843,
          0.353760398347842,
          -0.034214007117311096,
          0.42062282065593914,
          -0.4119607557910614,
          -2.246530449988816,
          0.6572380023859556,
          1.5371929318791877,
          0.7047641075968462,
          0.2758760032749365,
          0.3641139356290369,
          -1.7452790367604647,
          0.7507657464946539,
          0.7660509128626469,
          -1.918014533068927
         ]
        }
       ],
       "layout": {
        "legend": {
         "bgcolor": "#F5F6F9",
         "font": {
          "color": "#4D5663"
         }
        },
        "paper_bgcolor": "#F5F6F9",
        "plot_bgcolor": "#F5F6F9",
        "template": {
         "data": {
          "bar": [
           {
            "error_x": {
             "color": "#2a3f5f"
            },
            "error_y": {
             "color": "#2a3f5f"
            },
            "marker": {
             "line": {
              "color": "#E5ECF6",
              "width": 0.5
             },
             "pattern": {
              "fillmode": "overlay",
              "size": 10,
              "solidity": 0.2
             }
            },
            "type": "bar"
           }
          ],
          "barpolar": [
           {
            "marker": {
             "line": {
              "color": "#E5ECF6",
              "width": 0.5
             },
             "pattern": {
              "fillmode": "overlay",
              "size": 10,
              "solidity": 0.2
             }
            },
            "type": "barpolar"
           }
          ],
          "carpet": [
           {
            "aaxis": {
             "endlinecolor": "#2a3f5f",
             "gridcolor": "white",
             "linecolor": "white",
             "minorgridcolor": "white",
             "startlinecolor": "#2a3f5f"
            },
            "baxis": {
             "endlinecolor": "#2a3f5f",
             "gridcolor": "white",
             "linecolor": "white",
             "minorgridcolor": "white",
             "startlinecolor": "#2a3f5f"
            },
            "type": "carpet"
           }
          ],
          "choropleth": [
           {
            "colorbar": {
             "outlinewidth": 0,
             "ticks": ""
            },
            "type": "choropleth"
           }
          ],
          "contour": [
           {
            "colorbar": {
             "outlinewidth": 0,
             "ticks": ""
            },
            "colorscale": [
             [
              0,
              "#0d0887"
             ],
             [
              0.1111111111111111,
              "#46039f"
             ],
             [
              0.2222222222222222,
              "#7201a8"
             ],
             [
              0.3333333333333333,
              "#9c179e"
             ],
             [
              0.4444444444444444,
              "#bd3786"
             ],
             [
              0.5555555555555556,
              "#d8576b"
             ],
             [
              0.6666666666666666,
              "#ed7953"
             ],
             [
              0.7777777777777778,
              "#fb9f3a"
             ],
             [
              0.8888888888888888,
              "#fdca26"
             ],
             [
              1,
              "#f0f921"
             ]
            ],
            "type": "contour"
           }
          ],
          "contourcarpet": [
           {
            "colorbar": {
             "outlinewidth": 0,
             "ticks": ""
            },
            "type": "contourcarpet"
           }
          ],
          "heatmap": [
           {
            "colorbar": {
             "outlinewidth": 0,
             "ticks": ""
            },
            "colorscale": [
             [
              0,
              "#0d0887"
             ],
             [
              0.1111111111111111,
              "#46039f"
             ],
             [
              0.2222222222222222,
              "#7201a8"
             ],
             [
              0.3333333333333333,
              "#9c179e"
             ],
             [
              0.4444444444444444,
              "#bd3786"
             ],
             [
              0.5555555555555556,
              "#d8576b"
             ],
             [
              0.6666666666666666,
              "#ed7953"
             ],
             [
              0.7777777777777778,
              "#fb9f3a"
             ],
             [
              0.8888888888888888,
              "#fdca26"
             ],
             [
              1,
              "#f0f921"
             ]
            ],
            "type": "heatmap"
           }
          ],
          "heatmapgl": [
           {
            "colorbar": {
             "outlinewidth": 0,
             "ticks": ""
            },
            "colorscale": [
             [
              0,
              "#0d0887"
             ],
             [
              0.1111111111111111,
              "#46039f"
             ],
             [
              0.2222222222222222,
              "#7201a8"
             ],
             [
              0.3333333333333333,
              "#9c179e"
             ],
             [
              0.4444444444444444,
              "#bd3786"
             ],
             [
              0.5555555555555556,
              "#d8576b"
             ],
             [
              0.6666666666666666,
              "#ed7953"
             ],
             [
              0.7777777777777778,
              "#fb9f3a"
             ],
             [
              0.8888888888888888,
              "#fdca26"
             ],
             [
              1,
              "#f0f921"
             ]
            ],
            "type": "heatmapgl"
           }
          ],
          "histogram": [
           {
            "marker": {
             "pattern": {
              "fillmode": "overlay",
              "size": 10,
              "solidity": 0.2
             }
            },
            "type": "histogram"
           }
          ],
          "histogram2d": [
           {
            "colorbar": {
             "outlinewidth": 0,
             "ticks": ""
            },
            "colorscale": [
             [
              0,
              "#0d0887"
             ],
             [
              0.1111111111111111,
              "#46039f"
             ],
             [
              0.2222222222222222,
              "#7201a8"
             ],
             [
              0.3333333333333333,
              "#9c179e"
             ],
             [
              0.4444444444444444,
              "#bd3786"
             ],
             [
              0.5555555555555556,
              "#d8576b"
             ],
             [
              0.6666666666666666,
              "#ed7953"
             ],
             [
              0.7777777777777778,
              "#fb9f3a"
             ],
             [
              0.8888888888888888,
              "#fdca26"
             ],
             [
              1,
              "#f0f921"
             ]
            ],
            "type": "histogram2d"
           }
          ],
          "histogram2dcontour": [
           {
            "colorbar": {
             "outlinewidth": 0,
             "ticks": ""
            },
            "colorscale": [
             [
              0,
              "#0d0887"
             ],
             [
              0.1111111111111111,
              "#46039f"
             ],
             [
              0.2222222222222222,
              "#7201a8"
             ],
             [
              0.3333333333333333,
              "#9c179e"
             ],
             [
              0.4444444444444444,
              "#bd3786"
             ],
             [
              0.5555555555555556,
              "#d8576b"
             ],
             [
              0.6666666666666666,
              "#ed7953"
             ],
             [
              0.7777777777777778,
              "#fb9f3a"
             ],
             [
              0.8888888888888888,
              "#fdca26"
             ],
             [
              1,
              "#f0f921"
             ]
            ],
            "type": "histogram2dcontour"
           }
          ],
          "mesh3d": [
           {
            "colorbar": {
             "outlinewidth": 0,
             "ticks": ""
            },
            "type": "mesh3d"
           }
          ],
          "parcoords": [
           {
            "line": {
             "colorbar": {
              "outlinewidth": 0,
              "ticks": ""
             }
            },
            "type": "parcoords"
           }
          ],
          "pie": [
           {
            "automargin": true,
            "type": "pie"
           }
          ],
          "scatter": [
           {
            "marker": {
             "colorbar": {
              "outlinewidth": 0,
              "ticks": ""
             }
            },
            "type": "scatter"
           }
          ],
          "scatter3d": [
           {
            "line": {
             "colorbar": {
              "outlinewidth": 0,
              "ticks": ""
             }
            },
            "marker": {
             "colorbar": {
              "outlinewidth": 0,
              "ticks": ""
             }
            },
            "type": "scatter3d"
           }
          ],
          "scattercarpet": [
           {
            "marker": {
             "colorbar": {
              "outlinewidth": 0,
              "ticks": ""
             }
            },
            "type": "scattercarpet"
           }
          ],
          "scattergeo": [
           {
            "marker": {
             "colorbar": {
              "outlinewidth": 0,
              "ticks": ""
             }
            },
            "type": "scattergeo"
           }
          ],
          "scattergl": [
           {
            "marker": {
             "colorbar": {
              "outlinewidth": 0,
              "ticks": ""
             }
            },
            "type": "scattergl"
           }
          ],
          "scattermapbox": [
           {
            "marker": {
             "colorbar": {
              "outlinewidth": 0,
              "ticks": ""
             }
            },
            "type": "scattermapbox"
           }
          ],
          "scatterpolar": [
           {
            "marker": {
             "colorbar": {
              "outlinewidth": 0,
              "ticks": ""
             }
            },
            "type": "scatterpolar"
           }
          ],
          "scatterpolargl": [
           {
            "marker": {
             "colorbar": {
              "outlinewidth": 0,
              "ticks": ""
             }
            },
            "type": "scatterpolargl"
           }
          ],
          "scatterternary": [
           {
            "marker": {
             "colorbar": {
              "outlinewidth": 0,
              "ticks": ""
             }
            },
            "type": "scatterternary"
           }
          ],
          "surface": [
           {
            "colorbar": {
             "outlinewidth": 0,
             "ticks": ""
            },
            "colorscale": [
             [
              0,
              "#0d0887"
             ],
             [
              0.1111111111111111,
              "#46039f"
             ],
             [
              0.2222222222222222,
              "#7201a8"
             ],
             [
              0.3333333333333333,
              "#9c179e"
             ],
             [
              0.4444444444444444,
              "#bd3786"
             ],
             [
              0.5555555555555556,
              "#d8576b"
             ],
             [
              0.6666666666666666,
              "#ed7953"
             ],
             [
              0.7777777777777778,
              "#fb9f3a"
             ],
             [
              0.8888888888888888,
              "#fdca26"
             ],
             [
              1,
              "#f0f921"
             ]
            ],
            "type": "surface"
           }
          ],
          "table": [
           {
            "cells": {
             "fill": {
              "color": "#EBF0F8"
             },
             "line": {
              "color": "white"
             }
            },
            "header": {
             "fill": {
              "color": "#C8D4E3"
             },
             "line": {
              "color": "white"
             }
            },
            "type": "table"
           }
          ]
         },
         "layout": {
          "annotationdefaults": {
           "arrowcolor": "#2a3f5f",
           "arrowhead": 0,
           "arrowwidth": 1
          },
          "autotypenumbers": "strict",
          "coloraxis": {
           "colorbar": {
            "outlinewidth": 0,
            "ticks": ""
           }
          },
          "colorscale": {
           "diverging": [
            [
             0,
             "#8e0152"
            ],
            [
             0.1,
             "#c51b7d"
            ],
            [
             0.2,
             "#de77ae"
            ],
            [
             0.3,
             "#f1b6da"
            ],
            [
             0.4,
             "#fde0ef"
            ],
            [
             0.5,
             "#f7f7f7"
            ],
            [
             0.6,
             "#e6f5d0"
            ],
            [
             0.7,
             "#b8e186"
            ],
            [
             0.8,
             "#7fbc41"
            ],
            [
             0.9,
             "#4d9221"
            ],
            [
             1,
             "#276419"
            ]
           ],
           "sequential": [
            [
             0,
             "#0d0887"
            ],
            [
             0.1111111111111111,
             "#46039f"
            ],
            [
             0.2222222222222222,
             "#7201a8"
            ],
            [
             0.3333333333333333,
             "#9c179e"
            ],
            [
             0.4444444444444444,
             "#bd3786"
            ],
            [
             0.5555555555555556,
             "#d8576b"
            ],
            [
             0.6666666666666666,
             "#ed7953"
            ],
            [
             0.7777777777777778,
             "#fb9f3a"
            ],
            [
             0.8888888888888888,
             "#fdca26"
            ],
            [
             1,
             "#f0f921"
            ]
           ],
           "sequentialminus": [
            [
             0,
             "#0d0887"
            ],
            [
             0.1111111111111111,
             "#46039f"
            ],
            [
             0.2222222222222222,
             "#7201a8"
            ],
            [
             0.3333333333333333,
             "#9c179e"
            ],
            [
             0.4444444444444444,
             "#bd3786"
            ],
            [
             0.5555555555555556,
             "#d8576b"
            ],
            [
             0.6666666666666666,
             "#ed7953"
            ],
            [
             0.7777777777777778,
             "#fb9f3a"
            ],
            [
             0.8888888888888888,
             "#fdca26"
            ],
            [
             1,
             "#f0f921"
            ]
           ]
          },
          "colorway": [
           "#636efa",
           "#EF553B",
           "#00cc96",
           "#ab63fa",
           "#FFA15A",
           "#19d3f3",
           "#FF6692",
           "#B6E880",
           "#FF97FF",
           "#FECB52"
          ],
          "font": {
           "color": "#2a3f5f"
          },
          "geo": {
           "bgcolor": "white",
           "lakecolor": "white",
           "landcolor": "#E5ECF6",
           "showlakes": true,
           "showland": true,
           "subunitcolor": "white"
          },
          "hoverlabel": {
           "align": "left"
          },
          "hovermode": "closest",
          "mapbox": {
           "style": "light"
          },
          "paper_bgcolor": "white",
          "plot_bgcolor": "#E5ECF6",
          "polar": {
           "angularaxis": {
            "gridcolor": "white",
            "linecolor": "white",
            "ticks": ""
           },
           "bgcolor": "#E5ECF6",
           "radialaxis": {
            "gridcolor": "white",
            "linecolor": "white",
            "ticks": ""
           }
          },
          "scene": {
           "xaxis": {
            "backgroundcolor": "#E5ECF6",
            "gridcolor": "white",
            "gridwidth": 2,
            "linecolor": "white",
            "showbackground": true,
            "ticks": "",
            "zerolinecolor": "white"
           },
           "yaxis": {
            "backgroundcolor": "#E5ECF6",
            "gridcolor": "white",
            "gridwidth": 2,
            "linecolor": "white",
            "showbackground": true,
            "ticks": "",
            "zerolinecolor": "white"
           },
           "zaxis": {
            "backgroundcolor": "#E5ECF6",
            "gridcolor": "white",
            "gridwidth": 2,
            "linecolor": "white",
            "showbackground": true,
            "ticks": "",
            "zerolinecolor": "white"
           }
          },
          "shapedefaults": {
           "line": {
            "color": "#2a3f5f"
           }
          },
          "ternary": {
           "aaxis": {
            "gridcolor": "white",
            "linecolor": "white",
            "ticks": ""
           },
           "baxis": {
            "gridcolor": "white",
            "linecolor": "white",
            "ticks": ""
           },
           "bgcolor": "#E5ECF6",
           "caxis": {
            "gridcolor": "white",
            "linecolor": "white",
            "ticks": ""
           }
          },
          "title": {
           "x": 0.05
          },
          "xaxis": {
           "automargin": true,
           "gridcolor": "white",
           "linecolor": "white",
           "ticks": "",
           "title": {
            "standoff": 15
           },
           "zerolinecolor": "white",
           "zerolinewidth": 2
          },
          "yaxis": {
           "automargin": true,
           "gridcolor": "white",
           "linecolor": "white",
           "ticks": "",
           "title": {
            "standoff": 15
           },
           "zerolinecolor": "white",
           "zerolinewidth": 2
          }
         }
        },
        "title": {
         "font": {
          "color": "#4D5663"
         }
        },
        "xaxis": {
         "gridcolor": "#E1E5ED",
         "showgrid": true,
         "tickfont": {
          "color": "#4D5663"
         },
         "title": {
          "font": {
           "color": "#4D5663"
          },
          "text": ""
         },
         "zerolinecolor": "#E1E5ED"
        },
        "yaxis": {
         "gridcolor": "#E1E5ED",
         "showgrid": true,
         "tickfont": {
          "color": "#4D5663"
         },
         "title": {
          "font": {
           "color": "#4D5663"
          },
          "text": ""
         },
         "zerolinecolor": "#E1E5ED"
        }
       }
      },
      "text/html": [
       "<div>                            <div id=\"b67bbcf2-d658-4631-94f4-4babb4251f7b\" class=\"plotly-graph-div\" style=\"height:525px; width:100%;\"></div>            <script type=\"text/javascript\">                require([\"plotly\"], function(Plotly) {                    window.PLOTLYENV=window.PLOTLYENV || {};\n",
       "                    window.PLOTLYENV.BASE_URL='https://plot.ly';                                    if (document.getElementById(\"b67bbcf2-d658-4631-94f4-4babb4251f7b\")) {                    Plotly.newPlot(                        \"b67bbcf2-d658-4631-94f4-4babb4251f7b\",                        [{\"line\":{\"color\":\"rgba(255, 153, 51, 1.0)\",\"dash\":\"solid\",\"shape\":\"linear\",\"width\":1.3},\"marker\":{\"size\":12,\"symbol\":\"circle\"},\"mode\":\"markers\",\"name\":\"B\",\"text\":\"\",\"x\":[-1.309527744420406,-0.43461471341730906,-0.6595622762097307,-1.8087704558636009,-0.21507624397672268,-0.38856874633371274,0.39323640994019327,-1.5768836282447465,0.22178931809236666,-0.9431156572498557,-1.9102029239374554,-0.477769555673728,-1.089425538238347,-1.0357538495845635,1.2252166381530092,0.37107402061163053,-1.158252094622077,1.3695745789888654,-1.01825182367802,-1.7722468986897701,-0.2168013554876337,0.4755191701253149,-0.31047009102309275,-1.1396124818852957,-0.6999173593661061,-1.1371155062620095,-0.4910949440770942,-1.3621373445513156,1.0766873032479476,0.525928465473397,0.18338106944618113,-0.1505291458789072,1.8846432497944905,1.0605122306404768,-0.962144311117594,-0.1476914461688686,0.7205523460441676,-1.7892639026055361,-1.0548281912697273,1.7356821752881395,0.7623513817996954,0.3727625957984767,0.44451049023253525,1.4676975285083917,0.4814662048334038,0.6221661115520754,0.2370320573531419,-0.7473679255146413,0.6347836687579423,1.2138547818174472,-1.1115098285811436,-0.741420524794404,-1.7765108665886487,0.810113366475899,0.47669154362011024,-0.4134257725397369,0.765857785416105,-0.965188219950402,-1.4789137379581754,-0.6434993507816088,1.1172937554301525,-0.495694212475232,-0.387836058015111,-1.5016648314212626,0.1203043588212254,1.2088376698736039,-0.07194726263107164,0.15389399355134598,-0.6401244083647915,-0.08273948253381846,-1.3592394732882558,-1.9885105671375787,0.038505035218103376,-1.24448668315206,1.0295590758843345,0.33682960031944126,0.016429352896183677,-0.8237702468602085,-0.18449476647468116,1.3095212684401376,1.3587986132723278,-0.6051067858004684,-1.6266419057988017,1.0042132470590117,-0.941415138673278,-0.22540308480569024,1.3745114441408741,0.9480792162916354,-0.6327623894459151,-0.4249154919293121,0.6437607373691273,-0.023221467246056046,-0.11276162648807049,-1.4583110545841829,1.2612779604538449,1.3478794165153494,-0.380129484919786,1.451947890281281,-1.1301928995517123,-1.9753921455165973],\"y\":[-0.3135045106961009,0.27106706687477644,0.6119471965110417,0.3009908952710065,-1.7296433552727768,-0.8395951219175694,0.16250707660228472,0.5055405458960701,-0.832888025408523,0.9109193800627438,-0.26573228768153007,-1.048508086534288,2.3935354905650352,-0.6120845323882204,0.2794630660004881,1.627451053655647,-0.6851014265020644,-0.05563959335930016,-0.135370377466742,1.1825219023457476,0.09104646907592046,-0.23291348461501518,0.7536213073112578,0.4852510554975916,-0.11598911508126203,1.0968318367465173,0.18417105335675082,-1.3013280121311601,-1.5523879941424124,-0.32369753741302265,0.12823504654106158,0.3235706409631143,-0.39016583384232667,-1.3483469875160243,-0.8778043256258503,-0.6566745979642085,-0.8717450588581389,-0.6555475573355242,1.1869681326633754,-1.6754949879668986,-1.0166574270487643,0.30084494827373853,-0.5569631288734428,-0.567768653274891,-1.240819396653744,0.07056845771157615,1.7622707398041684,0.18529340390041166,-0.9353562273967888,-0.6885393911334184,1.5338969581422393,1.5892838914058174,-1.614263003322591,-0.15402669237130096,1.159444826889843,0.08959925841560044,-0.7533113996854893,1.905234347898969,0.7307657905729821,-0.29285654487137897,1.7069381234928882,0.5380807773841841,-0.633045084982813,-1.7779188737619718,1.4017987066713467,-0.08474720608466335,0.8776521766497231,0.4641730284714228,0.45125150792532565,0.060392922247830425,0.8784203727592276,-0.1688059199189494,-1.0896619947083495,0.0171159299839232,0.08104028200629111,2.1271586379364784,-0.976903741909578,1.1376357527698266,-0.00012090109272308358,1.6484473114720377,-1.0772133462637432,-0.9150194793716977,-0.13908916224241138,1.420245945456923,-0.8638449427158882,0.35946872217060843,0.353760398347842,-0.034214007117311096,0.42062282065593914,-0.4119607557910614,-2.246530449988816,0.6572380023859556,1.5371929318791877,0.7047641075968462,0.2758760032749365,0.3641139356290369,-1.7452790367604647,0.7507657464946539,0.7660509128626469,-1.918014533068927],\"type\":\"scatter\"}],                        {\"legend\":{\"bgcolor\":\"#F5F6F9\",\"font\":{\"color\":\"#4D5663\"}},\"paper_bgcolor\":\"#F5F6F9\",\"plot_bgcolor\":\"#F5F6F9\",\"template\":{\"data\":{\"barpolar\":[{\"marker\":{\"line\":{\"color\":\"#E5ECF6\",\"width\":0.5},\"pattern\":{\"fillmode\":\"overlay\",\"size\":10,\"solidity\":0.2}},\"type\":\"barpolar\"}],\"bar\":[{\"error_x\":{\"color\":\"#2a3f5f\"},\"error_y\":{\"color\":\"#2a3f5f\"},\"marker\":{\"line\":{\"color\":\"#E5ECF6\",\"width\":0.5},\"pattern\":{\"fillmode\":\"overlay\",\"size\":10,\"solidity\":0.2}},\"type\":\"bar\"}],\"carpet\":[{\"aaxis\":{\"endlinecolor\":\"#2a3f5f\",\"gridcolor\":\"white\",\"linecolor\":\"white\",\"minorgridcolor\":\"white\",\"startlinecolor\":\"#2a3f5f\"},\"baxis\":{\"endlinecolor\":\"#2a3f5f\",\"gridcolor\":\"white\",\"linecolor\":\"white\",\"minorgridcolor\":\"white\",\"startlinecolor\":\"#2a3f5f\"},\"type\":\"carpet\"}],\"choropleth\":[{\"colorbar\":{\"outlinewidth\":0,\"ticks\":\"\"},\"type\":\"choropleth\"}],\"contourcarpet\":[{\"colorbar\":{\"outlinewidth\":0,\"ticks\":\"\"},\"type\":\"contourcarpet\"}],\"contour\":[{\"colorbar\":{\"outlinewidth\":0,\"ticks\":\"\"},\"colorscale\":[[0.0,\"#0d0887\"],[0.1111111111111111,\"#46039f\"],[0.2222222222222222,\"#7201a8\"],[0.3333333333333333,\"#9c179e\"],[0.4444444444444444,\"#bd3786\"],[0.5555555555555556,\"#d8576b\"],[0.6666666666666666,\"#ed7953\"],[0.7777777777777778,\"#fb9f3a\"],[0.8888888888888888,\"#fdca26\"],[1.0,\"#f0f921\"]],\"type\":\"contour\"}],\"heatmapgl\":[{\"colorbar\":{\"outlinewidth\":0,\"ticks\":\"\"},\"colorscale\":[[0.0,\"#0d0887\"],[0.1111111111111111,\"#46039f\"],[0.2222222222222222,\"#7201a8\"],[0.3333333333333333,\"#9c179e\"],[0.4444444444444444,\"#bd3786\"],[0.5555555555555556,\"#d8576b\"],[0.6666666666666666,\"#ed7953\"],[0.7777777777777778,\"#fb9f3a\"],[0.8888888888888888,\"#fdca26\"],[1.0,\"#f0f921\"]],\"type\":\"heatmapgl\"}],\"heatmap\":[{\"colorbar\":{\"outlinewidth\":0,\"ticks\":\"\"},\"colorscale\":[[0.0,\"#0d0887\"],[0.1111111111111111,\"#46039f\"],[0.2222222222222222,\"#7201a8\"],[0.3333333333333333,\"#9c179e\"],[0.4444444444444444,\"#bd3786\"],[0.5555555555555556,\"#d8576b\"],[0.6666666666666666,\"#ed7953\"],[0.7777777777777778,\"#fb9f3a\"],[0.8888888888888888,\"#fdca26\"],[1.0,\"#f0f921\"]],\"type\":\"heatmap\"}],\"histogram2dcontour\":[{\"colorbar\":{\"outlinewidth\":0,\"ticks\":\"\"},\"colorscale\":[[0.0,\"#0d0887\"],[0.1111111111111111,\"#46039f\"],[0.2222222222222222,\"#7201a8\"],[0.3333333333333333,\"#9c179e\"],[0.4444444444444444,\"#bd3786\"],[0.5555555555555556,\"#d8576b\"],[0.6666666666666666,\"#ed7953\"],[0.7777777777777778,\"#fb9f3a\"],[0.8888888888888888,\"#fdca26\"],[1.0,\"#f0f921\"]],\"type\":\"histogram2dcontour\"}],\"histogram2d\":[{\"colorbar\":{\"outlinewidth\":0,\"ticks\":\"\"},\"colorscale\":[[0.0,\"#0d0887\"],[0.1111111111111111,\"#46039f\"],[0.2222222222222222,\"#7201a8\"],[0.3333333333333333,\"#9c179e\"],[0.4444444444444444,\"#bd3786\"],[0.5555555555555556,\"#d8576b\"],[0.6666666666666666,\"#ed7953\"],[0.7777777777777778,\"#fb9f3a\"],[0.8888888888888888,\"#fdca26\"],[1.0,\"#f0f921\"]],\"type\":\"histogram2d\"}],\"histogram\":[{\"marker\":{\"pattern\":{\"fillmode\":\"overlay\",\"size\":10,\"solidity\":0.2}},\"type\":\"histogram\"}],\"mesh3d\":[{\"colorbar\":{\"outlinewidth\":0,\"ticks\":\"\"},\"type\":\"mesh3d\"}],\"parcoords\":[{\"line\":{\"colorbar\":{\"outlinewidth\":0,\"ticks\":\"\"}},\"type\":\"parcoords\"}],\"pie\":[{\"automargin\":true,\"type\":\"pie\"}],\"scatter3d\":[{\"line\":{\"colorbar\":{\"outlinewidth\":0,\"ticks\":\"\"}},\"marker\":{\"colorbar\":{\"outlinewidth\":0,\"ticks\":\"\"}},\"type\":\"scatter3d\"}],\"scattercarpet\":[{\"marker\":{\"colorbar\":{\"outlinewidth\":0,\"ticks\":\"\"}},\"type\":\"scattercarpet\"}],\"scattergeo\":[{\"marker\":{\"colorbar\":{\"outlinewidth\":0,\"ticks\":\"\"}},\"type\":\"scattergeo\"}],\"scattergl\":[{\"marker\":{\"colorbar\":{\"outlinewidth\":0,\"ticks\":\"\"}},\"type\":\"scattergl\"}],\"scattermapbox\":[{\"marker\":{\"colorbar\":{\"outlinewidth\":0,\"ticks\":\"\"}},\"type\":\"scattermapbox\"}],\"scatterpolargl\":[{\"marker\":{\"colorbar\":{\"outlinewidth\":0,\"ticks\":\"\"}},\"type\":\"scatterpolargl\"}],\"scatterpolar\":[{\"marker\":{\"colorbar\":{\"outlinewidth\":0,\"ticks\":\"\"}},\"type\":\"scatterpolar\"}],\"scatter\":[{\"marker\":{\"colorbar\":{\"outlinewidth\":0,\"ticks\":\"\"}},\"type\":\"scatter\"}],\"scatterternary\":[{\"marker\":{\"colorbar\":{\"outlinewidth\":0,\"ticks\":\"\"}},\"type\":\"scatterternary\"}],\"surface\":[{\"colorbar\":{\"outlinewidth\":0,\"ticks\":\"\"},\"colorscale\":[[0.0,\"#0d0887\"],[0.1111111111111111,\"#46039f\"],[0.2222222222222222,\"#7201a8\"],[0.3333333333333333,\"#9c179e\"],[0.4444444444444444,\"#bd3786\"],[0.5555555555555556,\"#d8576b\"],[0.6666666666666666,\"#ed7953\"],[0.7777777777777778,\"#fb9f3a\"],[0.8888888888888888,\"#fdca26\"],[1.0,\"#f0f921\"]],\"type\":\"surface\"}],\"table\":[{\"cells\":{\"fill\":{\"color\":\"#EBF0F8\"},\"line\":{\"color\":\"white\"}},\"header\":{\"fill\":{\"color\":\"#C8D4E3\"},\"line\":{\"color\":\"white\"}},\"type\":\"table\"}]},\"layout\":{\"annotationdefaults\":{\"arrowcolor\":\"#2a3f5f\",\"arrowhead\":0,\"arrowwidth\":1},\"autotypenumbers\":\"strict\",\"coloraxis\":{\"colorbar\":{\"outlinewidth\":0,\"ticks\":\"\"}},\"colorscale\":{\"diverging\":[[0,\"#8e0152\"],[0.1,\"#c51b7d\"],[0.2,\"#de77ae\"],[0.3,\"#f1b6da\"],[0.4,\"#fde0ef\"],[0.5,\"#f7f7f7\"],[0.6,\"#e6f5d0\"],[0.7,\"#b8e186\"],[0.8,\"#7fbc41\"],[0.9,\"#4d9221\"],[1,\"#276419\"]],\"sequential\":[[0.0,\"#0d0887\"],[0.1111111111111111,\"#46039f\"],[0.2222222222222222,\"#7201a8\"],[0.3333333333333333,\"#9c179e\"],[0.4444444444444444,\"#bd3786\"],[0.5555555555555556,\"#d8576b\"],[0.6666666666666666,\"#ed7953\"],[0.7777777777777778,\"#fb9f3a\"],[0.8888888888888888,\"#fdca26\"],[1.0,\"#f0f921\"]],\"sequentialminus\":[[0.0,\"#0d0887\"],[0.1111111111111111,\"#46039f\"],[0.2222222222222222,\"#7201a8\"],[0.3333333333333333,\"#9c179e\"],[0.4444444444444444,\"#bd3786\"],[0.5555555555555556,\"#d8576b\"],[0.6666666666666666,\"#ed7953\"],[0.7777777777777778,\"#fb9f3a\"],[0.8888888888888888,\"#fdca26\"],[1.0,\"#f0f921\"]]},\"colorway\":[\"#636efa\",\"#EF553B\",\"#00cc96\",\"#ab63fa\",\"#FFA15A\",\"#19d3f3\",\"#FF6692\",\"#B6E880\",\"#FF97FF\",\"#FECB52\"],\"font\":{\"color\":\"#2a3f5f\"},\"geo\":{\"bgcolor\":\"white\",\"lakecolor\":\"white\",\"landcolor\":\"#E5ECF6\",\"showlakes\":true,\"showland\":true,\"subunitcolor\":\"white\"},\"hoverlabel\":{\"align\":\"left\"},\"hovermode\":\"closest\",\"mapbox\":{\"style\":\"light\"},\"paper_bgcolor\":\"white\",\"plot_bgcolor\":\"#E5ECF6\",\"polar\":{\"angularaxis\":{\"gridcolor\":\"white\",\"linecolor\":\"white\",\"ticks\":\"\"},\"bgcolor\":\"#E5ECF6\",\"radialaxis\":{\"gridcolor\":\"white\",\"linecolor\":\"white\",\"ticks\":\"\"}},\"scene\":{\"xaxis\":{\"backgroundcolor\":\"#E5ECF6\",\"gridcolor\":\"white\",\"gridwidth\":2,\"linecolor\":\"white\",\"showbackground\":true,\"ticks\":\"\",\"zerolinecolor\":\"white\"},\"yaxis\":{\"backgroundcolor\":\"#E5ECF6\",\"gridcolor\":\"white\",\"gridwidth\":2,\"linecolor\":\"white\",\"showbackground\":true,\"ticks\":\"\",\"zerolinecolor\":\"white\"},\"zaxis\":{\"backgroundcolor\":\"#E5ECF6\",\"gridcolor\":\"white\",\"gridwidth\":2,\"linecolor\":\"white\",\"showbackground\":true,\"ticks\":\"\",\"zerolinecolor\":\"white\"}},\"shapedefaults\":{\"line\":{\"color\":\"#2a3f5f\"}},\"ternary\":{\"aaxis\":{\"gridcolor\":\"white\",\"linecolor\":\"white\",\"ticks\":\"\"},\"baxis\":{\"gridcolor\":\"white\",\"linecolor\":\"white\",\"ticks\":\"\"},\"bgcolor\":\"#E5ECF6\",\"caxis\":{\"gridcolor\":\"white\",\"linecolor\":\"white\",\"ticks\":\"\"}},\"title\":{\"x\":0.05},\"xaxis\":{\"automargin\":true,\"gridcolor\":\"white\",\"linecolor\":\"white\",\"ticks\":\"\",\"title\":{\"standoff\":15},\"zerolinecolor\":\"white\",\"zerolinewidth\":2},\"yaxis\":{\"automargin\":true,\"gridcolor\":\"white\",\"linecolor\":\"white\",\"ticks\":\"\",\"title\":{\"standoff\":15},\"zerolinecolor\":\"white\",\"zerolinewidth\":2}}},\"title\":{\"font\":{\"color\":\"#4D5663\"}},\"xaxis\":{\"gridcolor\":\"#E1E5ED\",\"showgrid\":true,\"tickfont\":{\"color\":\"#4D5663\"},\"title\":{\"font\":{\"color\":\"#4D5663\"},\"text\":\"\"},\"zerolinecolor\":\"#E1E5ED\"},\"yaxis\":{\"gridcolor\":\"#E1E5ED\",\"showgrid\":true,\"tickfont\":{\"color\":\"#4D5663\"},\"title\":{\"font\":{\"color\":\"#4D5663\"},\"text\":\"\"},\"zerolinecolor\":\"#E1E5ED\"}},                        {\"showLink\": true, \"linkText\": \"Export to plot.ly\", \"plotlyServerURL\": \"https://plot.ly\", \"responsive\": true}                    ).then(function(){\n",
       "                            \n",
       "var gd = document.getElementById('b67bbcf2-d658-4631-94f4-4babb4251f7b');\n",
       "var x = new MutationObserver(function (mutations, observer) {{\n",
       "        var display = window.getComputedStyle(gd).display;\n",
       "        if (!display || display === 'none') {{\n",
       "            console.log([gd, 'removed!']);\n",
       "            Plotly.purge(gd);\n",
       "            observer.disconnect();\n",
       "        }}\n",
       "}});\n",
       "\n",
       "// Listen for the removal of the full notebook cells\n",
       "var notebookContainer = gd.closest('#notebook-container');\n",
       "if (notebookContainer) {{\n",
       "    x.observe(notebookContainer, {childList: true});\n",
       "}}\n",
       "\n",
       "// Listen for the clearing of the current output cell\n",
       "var outputEl = gd.closest('.output');\n",
       "if (outputEl) {{\n",
       "    x.observe(outputEl, {childList: true});\n",
       "}}\n",
       "\n",
       "                        })                };                });            </script>        </div>"
      ]
     },
     "metadata": {},
     "output_type": "display_data"
    }
   ],
   "source": [
    "df1.iplot(kind=\"scatter\", x=\"A\", y=\"B\", mode=\"markers\")"
   ]
  },
  {
   "cell_type": "code",
   "execution_count": 19,
   "id": "b8fe4b55",
   "metadata": {},
   "outputs": [
    {
     "data": {
      "application/vnd.plotly.v1+json": {
       "config": {
        "linkText": "Export to plot.ly",
        "plotlyServerURL": "https://plot.ly",
        "showLink": true
       },
       "data": [
        {
         "marker": {
          "color": "rgba(255, 153, 51, 0.6)",
          "line": {
           "color": "rgba(255, 153, 51, 1.0)",
           "width": 1
          }
         },
         "name": "Values",
         "orientation": "v",
         "text": "",
         "type": "bar",
         "x": [
          "A",
          "B",
          "C"
         ],
         "y": [
          32,
          43,
          50
         ]
        }
       ],
       "layout": {
        "legend": {
         "bgcolor": "#F5F6F9",
         "font": {
          "color": "#4D5663"
         }
        },
        "paper_bgcolor": "#F5F6F9",
        "plot_bgcolor": "#F5F6F9",
        "template": {
         "data": {
          "bar": [
           {
            "error_x": {
             "color": "#2a3f5f"
            },
            "error_y": {
             "color": "#2a3f5f"
            },
            "marker": {
             "line": {
              "color": "#E5ECF6",
              "width": 0.5
             },
             "pattern": {
              "fillmode": "overlay",
              "size": 10,
              "solidity": 0.2
             }
            },
            "type": "bar"
           }
          ],
          "barpolar": [
           {
            "marker": {
             "line": {
              "color": "#E5ECF6",
              "width": 0.5
             },
             "pattern": {
              "fillmode": "overlay",
              "size": 10,
              "solidity": 0.2
             }
            },
            "type": "barpolar"
           }
          ],
          "carpet": [
           {
            "aaxis": {
             "endlinecolor": "#2a3f5f",
             "gridcolor": "white",
             "linecolor": "white",
             "minorgridcolor": "white",
             "startlinecolor": "#2a3f5f"
            },
            "baxis": {
             "endlinecolor": "#2a3f5f",
             "gridcolor": "white",
             "linecolor": "white",
             "minorgridcolor": "white",
             "startlinecolor": "#2a3f5f"
            },
            "type": "carpet"
           }
          ],
          "choropleth": [
           {
            "colorbar": {
             "outlinewidth": 0,
             "ticks": ""
            },
            "type": "choropleth"
           }
          ],
          "contour": [
           {
            "colorbar": {
             "outlinewidth": 0,
             "ticks": ""
            },
            "colorscale": [
             [
              0,
              "#0d0887"
             ],
             [
              0.1111111111111111,
              "#46039f"
             ],
             [
              0.2222222222222222,
              "#7201a8"
             ],
             [
              0.3333333333333333,
              "#9c179e"
             ],
             [
              0.4444444444444444,
              "#bd3786"
             ],
             [
              0.5555555555555556,
              "#d8576b"
             ],
             [
              0.6666666666666666,
              "#ed7953"
             ],
             [
              0.7777777777777778,
              "#fb9f3a"
             ],
             [
              0.8888888888888888,
              "#fdca26"
             ],
             [
              1,
              "#f0f921"
             ]
            ],
            "type": "contour"
           }
          ],
          "contourcarpet": [
           {
            "colorbar": {
             "outlinewidth": 0,
             "ticks": ""
            },
            "type": "contourcarpet"
           }
          ],
          "heatmap": [
           {
            "colorbar": {
             "outlinewidth": 0,
             "ticks": ""
            },
            "colorscale": [
             [
              0,
              "#0d0887"
             ],
             [
              0.1111111111111111,
              "#46039f"
             ],
             [
              0.2222222222222222,
              "#7201a8"
             ],
             [
              0.3333333333333333,
              "#9c179e"
             ],
             [
              0.4444444444444444,
              "#bd3786"
             ],
             [
              0.5555555555555556,
              "#d8576b"
             ],
             [
              0.6666666666666666,
              "#ed7953"
             ],
             [
              0.7777777777777778,
              "#fb9f3a"
             ],
             [
              0.8888888888888888,
              "#fdca26"
             ],
             [
              1,
              "#f0f921"
             ]
            ],
            "type": "heatmap"
           }
          ],
          "heatmapgl": [
           {
            "colorbar": {
             "outlinewidth": 0,
             "ticks": ""
            },
            "colorscale": [
             [
              0,
              "#0d0887"
             ],
             [
              0.1111111111111111,
              "#46039f"
             ],
             [
              0.2222222222222222,
              "#7201a8"
             ],
             [
              0.3333333333333333,
              "#9c179e"
             ],
             [
              0.4444444444444444,
              "#bd3786"
             ],
             [
              0.5555555555555556,
              "#d8576b"
             ],
             [
              0.6666666666666666,
              "#ed7953"
             ],
             [
              0.7777777777777778,
              "#fb9f3a"
             ],
             [
              0.8888888888888888,
              "#fdca26"
             ],
             [
              1,
              "#f0f921"
             ]
            ],
            "type": "heatmapgl"
           }
          ],
          "histogram": [
           {
            "marker": {
             "pattern": {
              "fillmode": "overlay",
              "size": 10,
              "solidity": 0.2
             }
            },
            "type": "histogram"
           }
          ],
          "histogram2d": [
           {
            "colorbar": {
             "outlinewidth": 0,
             "ticks": ""
            },
            "colorscale": [
             [
              0,
              "#0d0887"
             ],
             [
              0.1111111111111111,
              "#46039f"
             ],
             [
              0.2222222222222222,
              "#7201a8"
             ],
             [
              0.3333333333333333,
              "#9c179e"
             ],
             [
              0.4444444444444444,
              "#bd3786"
             ],
             [
              0.5555555555555556,
              "#d8576b"
             ],
             [
              0.6666666666666666,
              "#ed7953"
             ],
             [
              0.7777777777777778,
              "#fb9f3a"
             ],
             [
              0.8888888888888888,
              "#fdca26"
             ],
             [
              1,
              "#f0f921"
             ]
            ],
            "type": "histogram2d"
           }
          ],
          "histogram2dcontour": [
           {
            "colorbar": {
             "outlinewidth": 0,
             "ticks": ""
            },
            "colorscale": [
             [
              0,
              "#0d0887"
             ],
             [
              0.1111111111111111,
              "#46039f"
             ],
             [
              0.2222222222222222,
              "#7201a8"
             ],
             [
              0.3333333333333333,
              "#9c179e"
             ],
             [
              0.4444444444444444,
              "#bd3786"
             ],
             [
              0.5555555555555556,
              "#d8576b"
             ],
             [
              0.6666666666666666,
              "#ed7953"
             ],
             [
              0.7777777777777778,
              "#fb9f3a"
             ],
             [
              0.8888888888888888,
              "#fdca26"
             ],
             [
              1,
              "#f0f921"
             ]
            ],
            "type": "histogram2dcontour"
           }
          ],
          "mesh3d": [
           {
            "colorbar": {
             "outlinewidth": 0,
             "ticks": ""
            },
            "type": "mesh3d"
           }
          ],
          "parcoords": [
           {
            "line": {
             "colorbar": {
              "outlinewidth": 0,
              "ticks": ""
             }
            },
            "type": "parcoords"
           }
          ],
          "pie": [
           {
            "automargin": true,
            "type": "pie"
           }
          ],
          "scatter": [
           {
            "marker": {
             "colorbar": {
              "outlinewidth": 0,
              "ticks": ""
             }
            },
            "type": "scatter"
           }
          ],
          "scatter3d": [
           {
            "line": {
             "colorbar": {
              "outlinewidth": 0,
              "ticks": ""
             }
            },
            "marker": {
             "colorbar": {
              "outlinewidth": 0,
              "ticks": ""
             }
            },
            "type": "scatter3d"
           }
          ],
          "scattercarpet": [
           {
            "marker": {
             "colorbar": {
              "outlinewidth": 0,
              "ticks": ""
             }
            },
            "type": "scattercarpet"
           }
          ],
          "scattergeo": [
           {
            "marker": {
             "colorbar": {
              "outlinewidth": 0,
              "ticks": ""
             }
            },
            "type": "scattergeo"
           }
          ],
          "scattergl": [
           {
            "marker": {
             "colorbar": {
              "outlinewidth": 0,
              "ticks": ""
             }
            },
            "type": "scattergl"
           }
          ],
          "scattermapbox": [
           {
            "marker": {
             "colorbar": {
              "outlinewidth": 0,
              "ticks": ""
             }
            },
            "type": "scattermapbox"
           }
          ],
          "scatterpolar": [
           {
            "marker": {
             "colorbar": {
              "outlinewidth": 0,
              "ticks": ""
             }
            },
            "type": "scatterpolar"
           }
          ],
          "scatterpolargl": [
           {
            "marker": {
             "colorbar": {
              "outlinewidth": 0,
              "ticks": ""
             }
            },
            "type": "scatterpolargl"
           }
          ],
          "scatterternary": [
           {
            "marker": {
             "colorbar": {
              "outlinewidth": 0,
              "ticks": ""
             }
            },
            "type": "scatterternary"
           }
          ],
          "surface": [
           {
            "colorbar": {
             "outlinewidth": 0,
             "ticks": ""
            },
            "colorscale": [
             [
              0,
              "#0d0887"
             ],
             [
              0.1111111111111111,
              "#46039f"
             ],
             [
              0.2222222222222222,
              "#7201a8"
             ],
             [
              0.3333333333333333,
              "#9c179e"
             ],
             [
              0.4444444444444444,
              "#bd3786"
             ],
             [
              0.5555555555555556,
              "#d8576b"
             ],
             [
              0.6666666666666666,
              "#ed7953"
             ],
             [
              0.7777777777777778,
              "#fb9f3a"
             ],
             [
              0.8888888888888888,
              "#fdca26"
             ],
             [
              1,
              "#f0f921"
             ]
            ],
            "type": "surface"
           }
          ],
          "table": [
           {
            "cells": {
             "fill": {
              "color": "#EBF0F8"
             },
             "line": {
              "color": "white"
             }
            },
            "header": {
             "fill": {
              "color": "#C8D4E3"
             },
             "line": {
              "color": "white"
             }
            },
            "type": "table"
           }
          ]
         },
         "layout": {
          "annotationdefaults": {
           "arrowcolor": "#2a3f5f",
           "arrowhead": 0,
           "arrowwidth": 1
          },
          "autotypenumbers": "strict",
          "coloraxis": {
           "colorbar": {
            "outlinewidth": 0,
            "ticks": ""
           }
          },
          "colorscale": {
           "diverging": [
            [
             0,
             "#8e0152"
            ],
            [
             0.1,
             "#c51b7d"
            ],
            [
             0.2,
             "#de77ae"
            ],
            [
             0.3,
             "#f1b6da"
            ],
            [
             0.4,
             "#fde0ef"
            ],
            [
             0.5,
             "#f7f7f7"
            ],
            [
             0.6,
             "#e6f5d0"
            ],
            [
             0.7,
             "#b8e186"
            ],
            [
             0.8,
             "#7fbc41"
            ],
            [
             0.9,
             "#4d9221"
            ],
            [
             1,
             "#276419"
            ]
           ],
           "sequential": [
            [
             0,
             "#0d0887"
            ],
            [
             0.1111111111111111,
             "#46039f"
            ],
            [
             0.2222222222222222,
             "#7201a8"
            ],
            [
             0.3333333333333333,
             "#9c179e"
            ],
            [
             0.4444444444444444,
             "#bd3786"
            ],
            [
             0.5555555555555556,
             "#d8576b"
            ],
            [
             0.6666666666666666,
             "#ed7953"
            ],
            [
             0.7777777777777778,
             "#fb9f3a"
            ],
            [
             0.8888888888888888,
             "#fdca26"
            ],
            [
             1,
             "#f0f921"
            ]
           ],
           "sequentialminus": [
            [
             0,
             "#0d0887"
            ],
            [
             0.1111111111111111,
             "#46039f"
            ],
            [
             0.2222222222222222,
             "#7201a8"
            ],
            [
             0.3333333333333333,
             "#9c179e"
            ],
            [
             0.4444444444444444,
             "#bd3786"
            ],
            [
             0.5555555555555556,
             "#d8576b"
            ],
            [
             0.6666666666666666,
             "#ed7953"
            ],
            [
             0.7777777777777778,
             "#fb9f3a"
            ],
            [
             0.8888888888888888,
             "#fdca26"
            ],
            [
             1,
             "#f0f921"
            ]
           ]
          },
          "colorway": [
           "#636efa",
           "#EF553B",
           "#00cc96",
           "#ab63fa",
           "#FFA15A",
           "#19d3f3",
           "#FF6692",
           "#B6E880",
           "#FF97FF",
           "#FECB52"
          ],
          "font": {
           "color": "#2a3f5f"
          },
          "geo": {
           "bgcolor": "white",
           "lakecolor": "white",
           "landcolor": "#E5ECF6",
           "showlakes": true,
           "showland": true,
           "subunitcolor": "white"
          },
          "hoverlabel": {
           "align": "left"
          },
          "hovermode": "closest",
          "mapbox": {
           "style": "light"
          },
          "paper_bgcolor": "white",
          "plot_bgcolor": "#E5ECF6",
          "polar": {
           "angularaxis": {
            "gridcolor": "white",
            "linecolor": "white",
            "ticks": ""
           },
           "bgcolor": "#E5ECF6",
           "radialaxis": {
            "gridcolor": "white",
            "linecolor": "white",
            "ticks": ""
           }
          },
          "scene": {
           "xaxis": {
            "backgroundcolor": "#E5ECF6",
            "gridcolor": "white",
            "gridwidth": 2,
            "linecolor": "white",
            "showbackground": true,
            "ticks": "",
            "zerolinecolor": "white"
           },
           "yaxis": {
            "backgroundcolor": "#E5ECF6",
            "gridcolor": "white",
            "gridwidth": 2,
            "linecolor": "white",
            "showbackground": true,
            "ticks": "",
            "zerolinecolor": "white"
           },
           "zaxis": {
            "backgroundcolor": "#E5ECF6",
            "gridcolor": "white",
            "gridwidth": 2,
            "linecolor": "white",
            "showbackground": true,
            "ticks": "",
            "zerolinecolor": "white"
           }
          },
          "shapedefaults": {
           "line": {
            "color": "#2a3f5f"
           }
          },
          "ternary": {
           "aaxis": {
            "gridcolor": "white",
            "linecolor": "white",
            "ticks": ""
           },
           "baxis": {
            "gridcolor": "white",
            "linecolor": "white",
            "ticks": ""
           },
           "bgcolor": "#E5ECF6",
           "caxis": {
            "gridcolor": "white",
            "linecolor": "white",
            "ticks": ""
           }
          },
          "title": {
           "x": 0.05
          },
          "xaxis": {
           "automargin": true,
           "gridcolor": "white",
           "linecolor": "white",
           "ticks": "",
           "title": {
            "standoff": 15
           },
           "zerolinecolor": "white",
           "zerolinewidth": 2
          },
          "yaxis": {
           "automargin": true,
           "gridcolor": "white",
           "linecolor": "white",
           "ticks": "",
           "title": {
            "standoff": 15
           },
           "zerolinecolor": "white",
           "zerolinewidth": 2
          }
         }
        },
        "title": {
         "font": {
          "color": "#4D5663"
         }
        },
        "xaxis": {
         "gridcolor": "#E1E5ED",
         "showgrid": true,
         "tickfont": {
          "color": "#4D5663"
         },
         "title": {
          "font": {
           "color": "#4D5663"
          },
          "text": ""
         },
         "zerolinecolor": "#E1E5ED"
        },
        "yaxis": {
         "gridcolor": "#E1E5ED",
         "showgrid": true,
         "tickfont": {
          "color": "#4D5663"
         },
         "title": {
          "font": {
           "color": "#4D5663"
          },
          "text": ""
         },
         "zerolinecolor": "#E1E5ED"
        }
       }
      },
      "text/html": [
       "<div>                            <div id=\"8d960d39-c7e1-4372-9615-34e170fd25a4\" class=\"plotly-graph-div\" style=\"height:525px; width:100%;\"></div>            <script type=\"text/javascript\">                require([\"plotly\"], function(Plotly) {                    window.PLOTLYENV=window.PLOTLYENV || {};\n",
       "                    window.PLOTLYENV.BASE_URL='https://plot.ly';                                    if (document.getElementById(\"8d960d39-c7e1-4372-9615-34e170fd25a4\")) {                    Plotly.newPlot(                        \"8d960d39-c7e1-4372-9615-34e170fd25a4\",                        [{\"marker\":{\"color\":\"rgba(255, 153, 51, 0.6)\",\"line\":{\"color\":\"rgba(255, 153, 51, 1.0)\",\"width\":1}},\"name\":\"Values\",\"orientation\":\"v\",\"text\":\"\",\"x\":[\"A\",\"B\",\"C\"],\"y\":[32,43,50],\"type\":\"bar\"}],                        {\"legend\":{\"bgcolor\":\"#F5F6F9\",\"font\":{\"color\":\"#4D5663\"}},\"paper_bgcolor\":\"#F5F6F9\",\"plot_bgcolor\":\"#F5F6F9\",\"template\":{\"data\":{\"barpolar\":[{\"marker\":{\"line\":{\"color\":\"#E5ECF6\",\"width\":0.5},\"pattern\":{\"fillmode\":\"overlay\",\"size\":10,\"solidity\":0.2}},\"type\":\"barpolar\"}],\"bar\":[{\"error_x\":{\"color\":\"#2a3f5f\"},\"error_y\":{\"color\":\"#2a3f5f\"},\"marker\":{\"line\":{\"color\":\"#E5ECF6\",\"width\":0.5},\"pattern\":{\"fillmode\":\"overlay\",\"size\":10,\"solidity\":0.2}},\"type\":\"bar\"}],\"carpet\":[{\"aaxis\":{\"endlinecolor\":\"#2a3f5f\",\"gridcolor\":\"white\",\"linecolor\":\"white\",\"minorgridcolor\":\"white\",\"startlinecolor\":\"#2a3f5f\"},\"baxis\":{\"endlinecolor\":\"#2a3f5f\",\"gridcolor\":\"white\",\"linecolor\":\"white\",\"minorgridcolor\":\"white\",\"startlinecolor\":\"#2a3f5f\"},\"type\":\"carpet\"}],\"choropleth\":[{\"colorbar\":{\"outlinewidth\":0,\"ticks\":\"\"},\"type\":\"choropleth\"}],\"contourcarpet\":[{\"colorbar\":{\"outlinewidth\":0,\"ticks\":\"\"},\"type\":\"contourcarpet\"}],\"contour\":[{\"colorbar\":{\"outlinewidth\":0,\"ticks\":\"\"},\"colorscale\":[[0.0,\"#0d0887\"],[0.1111111111111111,\"#46039f\"],[0.2222222222222222,\"#7201a8\"],[0.3333333333333333,\"#9c179e\"],[0.4444444444444444,\"#bd3786\"],[0.5555555555555556,\"#d8576b\"],[0.6666666666666666,\"#ed7953\"],[0.7777777777777778,\"#fb9f3a\"],[0.8888888888888888,\"#fdca26\"],[1.0,\"#f0f921\"]],\"type\":\"contour\"}],\"heatmapgl\":[{\"colorbar\":{\"outlinewidth\":0,\"ticks\":\"\"},\"colorscale\":[[0.0,\"#0d0887\"],[0.1111111111111111,\"#46039f\"],[0.2222222222222222,\"#7201a8\"],[0.3333333333333333,\"#9c179e\"],[0.4444444444444444,\"#bd3786\"],[0.5555555555555556,\"#d8576b\"],[0.6666666666666666,\"#ed7953\"],[0.7777777777777778,\"#fb9f3a\"],[0.8888888888888888,\"#fdca26\"],[1.0,\"#f0f921\"]],\"type\":\"heatmapgl\"}],\"heatmap\":[{\"colorbar\":{\"outlinewidth\":0,\"ticks\":\"\"},\"colorscale\":[[0.0,\"#0d0887\"],[0.1111111111111111,\"#46039f\"],[0.2222222222222222,\"#7201a8\"],[0.3333333333333333,\"#9c179e\"],[0.4444444444444444,\"#bd3786\"],[0.5555555555555556,\"#d8576b\"],[0.6666666666666666,\"#ed7953\"],[0.7777777777777778,\"#fb9f3a\"],[0.8888888888888888,\"#fdca26\"],[1.0,\"#f0f921\"]],\"type\":\"heatmap\"}],\"histogram2dcontour\":[{\"colorbar\":{\"outlinewidth\":0,\"ticks\":\"\"},\"colorscale\":[[0.0,\"#0d0887\"],[0.1111111111111111,\"#46039f\"],[0.2222222222222222,\"#7201a8\"],[0.3333333333333333,\"#9c179e\"],[0.4444444444444444,\"#bd3786\"],[0.5555555555555556,\"#d8576b\"],[0.6666666666666666,\"#ed7953\"],[0.7777777777777778,\"#fb9f3a\"],[0.8888888888888888,\"#fdca26\"],[1.0,\"#f0f921\"]],\"type\":\"histogram2dcontour\"}],\"histogram2d\":[{\"colorbar\":{\"outlinewidth\":0,\"ticks\":\"\"},\"colorscale\":[[0.0,\"#0d0887\"],[0.1111111111111111,\"#46039f\"],[0.2222222222222222,\"#7201a8\"],[0.3333333333333333,\"#9c179e\"],[0.4444444444444444,\"#bd3786\"],[0.5555555555555556,\"#d8576b\"],[0.6666666666666666,\"#ed7953\"],[0.7777777777777778,\"#fb9f3a\"],[0.8888888888888888,\"#fdca26\"],[1.0,\"#f0f921\"]],\"type\":\"histogram2d\"}],\"histogram\":[{\"marker\":{\"pattern\":{\"fillmode\":\"overlay\",\"size\":10,\"solidity\":0.2}},\"type\":\"histogram\"}],\"mesh3d\":[{\"colorbar\":{\"outlinewidth\":0,\"ticks\":\"\"},\"type\":\"mesh3d\"}],\"parcoords\":[{\"line\":{\"colorbar\":{\"outlinewidth\":0,\"ticks\":\"\"}},\"type\":\"parcoords\"}],\"pie\":[{\"automargin\":true,\"type\":\"pie\"}],\"scatter3d\":[{\"line\":{\"colorbar\":{\"outlinewidth\":0,\"ticks\":\"\"}},\"marker\":{\"colorbar\":{\"outlinewidth\":0,\"ticks\":\"\"}},\"type\":\"scatter3d\"}],\"scattercarpet\":[{\"marker\":{\"colorbar\":{\"outlinewidth\":0,\"ticks\":\"\"}},\"type\":\"scattercarpet\"}],\"scattergeo\":[{\"marker\":{\"colorbar\":{\"outlinewidth\":0,\"ticks\":\"\"}},\"type\":\"scattergeo\"}],\"scattergl\":[{\"marker\":{\"colorbar\":{\"outlinewidth\":0,\"ticks\":\"\"}},\"type\":\"scattergl\"}],\"scattermapbox\":[{\"marker\":{\"colorbar\":{\"outlinewidth\":0,\"ticks\":\"\"}},\"type\":\"scattermapbox\"}],\"scatterpolargl\":[{\"marker\":{\"colorbar\":{\"outlinewidth\":0,\"ticks\":\"\"}},\"type\":\"scatterpolargl\"}],\"scatterpolar\":[{\"marker\":{\"colorbar\":{\"outlinewidth\":0,\"ticks\":\"\"}},\"type\":\"scatterpolar\"}],\"scatter\":[{\"marker\":{\"colorbar\":{\"outlinewidth\":0,\"ticks\":\"\"}},\"type\":\"scatter\"}],\"scatterternary\":[{\"marker\":{\"colorbar\":{\"outlinewidth\":0,\"ticks\":\"\"}},\"type\":\"scatterternary\"}],\"surface\":[{\"colorbar\":{\"outlinewidth\":0,\"ticks\":\"\"},\"colorscale\":[[0.0,\"#0d0887\"],[0.1111111111111111,\"#46039f\"],[0.2222222222222222,\"#7201a8\"],[0.3333333333333333,\"#9c179e\"],[0.4444444444444444,\"#bd3786\"],[0.5555555555555556,\"#d8576b\"],[0.6666666666666666,\"#ed7953\"],[0.7777777777777778,\"#fb9f3a\"],[0.8888888888888888,\"#fdca26\"],[1.0,\"#f0f921\"]],\"type\":\"surface\"}],\"table\":[{\"cells\":{\"fill\":{\"color\":\"#EBF0F8\"},\"line\":{\"color\":\"white\"}},\"header\":{\"fill\":{\"color\":\"#C8D4E3\"},\"line\":{\"color\":\"white\"}},\"type\":\"table\"}]},\"layout\":{\"annotationdefaults\":{\"arrowcolor\":\"#2a3f5f\",\"arrowhead\":0,\"arrowwidth\":1},\"autotypenumbers\":\"strict\",\"coloraxis\":{\"colorbar\":{\"outlinewidth\":0,\"ticks\":\"\"}},\"colorscale\":{\"diverging\":[[0,\"#8e0152\"],[0.1,\"#c51b7d\"],[0.2,\"#de77ae\"],[0.3,\"#f1b6da\"],[0.4,\"#fde0ef\"],[0.5,\"#f7f7f7\"],[0.6,\"#e6f5d0\"],[0.7,\"#b8e186\"],[0.8,\"#7fbc41\"],[0.9,\"#4d9221\"],[1,\"#276419\"]],\"sequential\":[[0.0,\"#0d0887\"],[0.1111111111111111,\"#46039f\"],[0.2222222222222222,\"#7201a8\"],[0.3333333333333333,\"#9c179e\"],[0.4444444444444444,\"#bd3786\"],[0.5555555555555556,\"#d8576b\"],[0.6666666666666666,\"#ed7953\"],[0.7777777777777778,\"#fb9f3a\"],[0.8888888888888888,\"#fdca26\"],[1.0,\"#f0f921\"]],\"sequentialminus\":[[0.0,\"#0d0887\"],[0.1111111111111111,\"#46039f\"],[0.2222222222222222,\"#7201a8\"],[0.3333333333333333,\"#9c179e\"],[0.4444444444444444,\"#bd3786\"],[0.5555555555555556,\"#d8576b\"],[0.6666666666666666,\"#ed7953\"],[0.7777777777777778,\"#fb9f3a\"],[0.8888888888888888,\"#fdca26\"],[1.0,\"#f0f921\"]]},\"colorway\":[\"#636efa\",\"#EF553B\",\"#00cc96\",\"#ab63fa\",\"#FFA15A\",\"#19d3f3\",\"#FF6692\",\"#B6E880\",\"#FF97FF\",\"#FECB52\"],\"font\":{\"color\":\"#2a3f5f\"},\"geo\":{\"bgcolor\":\"white\",\"lakecolor\":\"white\",\"landcolor\":\"#E5ECF6\",\"showlakes\":true,\"showland\":true,\"subunitcolor\":\"white\"},\"hoverlabel\":{\"align\":\"left\"},\"hovermode\":\"closest\",\"mapbox\":{\"style\":\"light\"},\"paper_bgcolor\":\"white\",\"plot_bgcolor\":\"#E5ECF6\",\"polar\":{\"angularaxis\":{\"gridcolor\":\"white\",\"linecolor\":\"white\",\"ticks\":\"\"},\"bgcolor\":\"#E5ECF6\",\"radialaxis\":{\"gridcolor\":\"white\",\"linecolor\":\"white\",\"ticks\":\"\"}},\"scene\":{\"xaxis\":{\"backgroundcolor\":\"#E5ECF6\",\"gridcolor\":\"white\",\"gridwidth\":2,\"linecolor\":\"white\",\"showbackground\":true,\"ticks\":\"\",\"zerolinecolor\":\"white\"},\"yaxis\":{\"backgroundcolor\":\"#E5ECF6\",\"gridcolor\":\"white\",\"gridwidth\":2,\"linecolor\":\"white\",\"showbackground\":true,\"ticks\":\"\",\"zerolinecolor\":\"white\"},\"zaxis\":{\"backgroundcolor\":\"#E5ECF6\",\"gridcolor\":\"white\",\"gridwidth\":2,\"linecolor\":\"white\",\"showbackground\":true,\"ticks\":\"\",\"zerolinecolor\":\"white\"}},\"shapedefaults\":{\"line\":{\"color\":\"#2a3f5f\"}},\"ternary\":{\"aaxis\":{\"gridcolor\":\"white\",\"linecolor\":\"white\",\"ticks\":\"\"},\"baxis\":{\"gridcolor\":\"white\",\"linecolor\":\"white\",\"ticks\":\"\"},\"bgcolor\":\"#E5ECF6\",\"caxis\":{\"gridcolor\":\"white\",\"linecolor\":\"white\",\"ticks\":\"\"}},\"title\":{\"x\":0.05},\"xaxis\":{\"automargin\":true,\"gridcolor\":\"white\",\"linecolor\":\"white\",\"ticks\":\"\",\"title\":{\"standoff\":15},\"zerolinecolor\":\"white\",\"zerolinewidth\":2},\"yaxis\":{\"automargin\":true,\"gridcolor\":\"white\",\"linecolor\":\"white\",\"ticks\":\"\",\"title\":{\"standoff\":15},\"zerolinecolor\":\"white\",\"zerolinewidth\":2}}},\"title\":{\"font\":{\"color\":\"#4D5663\"}},\"xaxis\":{\"gridcolor\":\"#E1E5ED\",\"showgrid\":true,\"tickfont\":{\"color\":\"#4D5663\"},\"title\":{\"font\":{\"color\":\"#4D5663\"},\"text\":\"\"},\"zerolinecolor\":\"#E1E5ED\"},\"yaxis\":{\"gridcolor\":\"#E1E5ED\",\"showgrid\":true,\"tickfont\":{\"color\":\"#4D5663\"},\"title\":{\"font\":{\"color\":\"#4D5663\"},\"text\":\"\"},\"zerolinecolor\":\"#E1E5ED\"}},                        {\"showLink\": true, \"linkText\": \"Export to plot.ly\", \"plotlyServerURL\": \"https://plot.ly\", \"responsive\": true}                    ).then(function(){\n",
       "                            \n",
       "var gd = document.getElementById('8d960d39-c7e1-4372-9615-34e170fd25a4');\n",
       "var x = new MutationObserver(function (mutations, observer) {{\n",
       "        var display = window.getComputedStyle(gd).display;\n",
       "        if (!display || display === 'none') {{\n",
       "            console.log([gd, 'removed!']);\n",
       "            Plotly.purge(gd);\n",
       "            observer.disconnect();\n",
       "        }}\n",
       "}});\n",
       "\n",
       "// Listen for the removal of the full notebook cells\n",
       "var notebookContainer = gd.closest('#notebook-container');\n",
       "if (notebookContainer) {{\n",
       "    x.observe(notebookContainer, {childList: true});\n",
       "}}\n",
       "\n",
       "// Listen for the clearing of the current output cell\n",
       "var outputEl = gd.closest('.output');\n",
       "if (outputEl) {{\n",
       "    x.observe(outputEl, {childList: true});\n",
       "}}\n",
       "\n",
       "                        })                };                });            </script>        </div>"
      ]
     },
     "metadata": {},
     "output_type": "display_data"
    }
   ],
   "source": [
    "df2.iplot(kind=\"bar\", x=\"Category\", y=\"Values\")"
   ]
  },
  {
   "cell_type": "code",
   "execution_count": 20,
   "id": "054c8cfa",
   "metadata": {},
   "outputs": [
    {
     "data": {
      "application/vnd.plotly.v1+json": {
       "config": {
        "linkText": "Export to plot.ly",
        "plotlyServerURL": "https://plot.ly",
        "showLink": true
       },
       "data": [
        {
         "marker": {
          "color": "rgba(255, 153, 51, 0.6)",
          "line": {
           "color": "rgba(255, 153, 51, 1.0)",
           "width": 1
          }
         },
         "name": "A",
         "orientation": "v",
         "text": "",
         "type": "bar",
         "x": [
          0,
          1,
          2,
          3,
          4,
          5,
          6,
          7,
          8,
          9,
          10,
          11,
          12,
          13,
          14,
          15,
          16,
          17,
          18,
          19,
          20,
          21,
          22,
          23,
          24,
          25,
          26,
          27,
          28,
          29,
          30,
          31,
          32,
          33,
          34,
          35,
          36,
          37,
          38,
          39,
          40,
          41,
          42,
          43,
          44,
          45,
          46,
          47,
          48,
          49,
          50,
          51,
          52,
          53,
          54,
          55,
          56,
          57,
          58,
          59,
          60,
          61,
          62,
          63,
          64,
          65,
          66,
          67,
          68,
          69,
          70,
          71,
          72,
          73,
          74,
          75,
          76,
          77,
          78,
          79,
          80,
          81,
          82,
          83,
          84,
          85,
          86,
          87,
          88,
          89,
          90,
          91,
          92,
          93,
          94,
          95,
          96,
          97,
          98,
          99
         ],
         "y": [
          -1.309527744420406,
          -0.43461471341730906,
          -0.6595622762097307,
          -1.8087704558636009,
          -0.21507624397672268,
          -0.38856874633371274,
          0.39323640994019327,
          -1.5768836282447465,
          0.22178931809236666,
          -0.9431156572498557,
          -1.9102029239374554,
          -0.477769555673728,
          -1.089425538238347,
          -1.0357538495845635,
          1.2252166381530092,
          0.37107402061163053,
          -1.158252094622077,
          1.3695745789888654,
          -1.01825182367802,
          -1.7722468986897701,
          -0.2168013554876337,
          0.4755191701253149,
          -0.31047009102309275,
          -1.1396124818852957,
          -0.6999173593661061,
          -1.1371155062620095,
          -0.4910949440770942,
          -1.3621373445513156,
          1.0766873032479476,
          0.525928465473397,
          0.18338106944618113,
          -0.1505291458789072,
          1.8846432497944905,
          1.0605122306404768,
          -0.962144311117594,
          -0.1476914461688686,
          0.7205523460441676,
          -1.7892639026055361,
          -1.0548281912697273,
          1.7356821752881395,
          0.7623513817996954,
          0.3727625957984767,
          0.44451049023253525,
          1.4676975285083917,
          0.4814662048334038,
          0.6221661115520754,
          0.2370320573531419,
          -0.7473679255146413,
          0.6347836687579423,
          1.2138547818174472,
          -1.1115098285811436,
          -0.741420524794404,
          -1.7765108665886487,
          0.810113366475899,
          0.47669154362011024,
          -0.4134257725397369,
          0.765857785416105,
          -0.965188219950402,
          -1.4789137379581754,
          -0.6434993507816088,
          1.1172937554301525,
          -0.495694212475232,
          -0.387836058015111,
          -1.5016648314212626,
          0.1203043588212254,
          1.2088376698736039,
          -0.07194726263107164,
          0.15389399355134598,
          -0.6401244083647915,
          -0.08273948253381846,
          -1.3592394732882558,
          -1.9885105671375787,
          0.038505035218103376,
          -1.24448668315206,
          1.0295590758843345,
          0.33682960031944126,
          0.016429352896183677,
          -0.8237702468602085,
          -0.18449476647468116,
          1.3095212684401376,
          1.3587986132723278,
          -0.6051067858004684,
          -1.6266419057988017,
          1.0042132470590117,
          -0.941415138673278,
          -0.22540308480569024,
          1.3745114441408741,
          0.9480792162916354,
          -0.6327623894459151,
          -0.4249154919293121,
          0.6437607373691273,
          -0.023221467246056046,
          -0.11276162648807049,
          -1.4583110545841829,
          1.2612779604538449,
          1.3478794165153494,
          -0.380129484919786,
          1.451947890281281,
          -1.1301928995517123,
          -1.9753921455165973
         ]
        },
        {
         "marker": {
          "color": "rgba(55, 128, 191, 0.6)",
          "line": {
           "color": "rgba(55, 128, 191, 1.0)",
           "width": 1
          }
         },
         "name": "B",
         "orientation": "v",
         "text": "",
         "type": "bar",
         "x": [
          0,
          1,
          2,
          3,
          4,
          5,
          6,
          7,
          8,
          9,
          10,
          11,
          12,
          13,
          14,
          15,
          16,
          17,
          18,
          19,
          20,
          21,
          22,
          23,
          24,
          25,
          26,
          27,
          28,
          29,
          30,
          31,
          32,
          33,
          34,
          35,
          36,
          37,
          38,
          39,
          40,
          41,
          42,
          43,
          44,
          45,
          46,
          47,
          48,
          49,
          50,
          51,
          52,
          53,
          54,
          55,
          56,
          57,
          58,
          59,
          60,
          61,
          62,
          63,
          64,
          65,
          66,
          67,
          68,
          69,
          70,
          71,
          72,
          73,
          74,
          75,
          76,
          77,
          78,
          79,
          80,
          81,
          82,
          83,
          84,
          85,
          86,
          87,
          88,
          89,
          90,
          91,
          92,
          93,
          94,
          95,
          96,
          97,
          98,
          99
         ],
         "y": [
          -0.3135045106961009,
          0.27106706687477644,
          0.6119471965110417,
          0.3009908952710065,
          -1.7296433552727768,
          -0.8395951219175694,
          0.16250707660228472,
          0.5055405458960701,
          -0.832888025408523,
          0.9109193800627438,
          -0.26573228768153007,
          -1.048508086534288,
          2.3935354905650352,
          -0.6120845323882204,
          0.2794630660004881,
          1.627451053655647,
          -0.6851014265020644,
          -0.05563959335930016,
          -0.135370377466742,
          1.1825219023457476,
          0.09104646907592046,
          -0.23291348461501518,
          0.7536213073112578,
          0.4852510554975916,
          -0.11598911508126203,
          1.0968318367465173,
          0.18417105335675082,
          -1.3013280121311601,
          -1.5523879941424124,
          -0.32369753741302265,
          0.12823504654106158,
          0.3235706409631143,
          -0.39016583384232667,
          -1.3483469875160243,
          -0.8778043256258503,
          -0.6566745979642085,
          -0.8717450588581389,
          -0.6555475573355242,
          1.1869681326633754,
          -1.6754949879668986,
          -1.0166574270487643,
          0.30084494827373853,
          -0.5569631288734428,
          -0.567768653274891,
          -1.240819396653744,
          0.07056845771157615,
          1.7622707398041684,
          0.18529340390041166,
          -0.9353562273967888,
          -0.6885393911334184,
          1.5338969581422393,
          1.5892838914058174,
          -1.614263003322591,
          -0.15402669237130096,
          1.159444826889843,
          0.08959925841560044,
          -0.7533113996854893,
          1.905234347898969,
          0.7307657905729821,
          -0.29285654487137897,
          1.7069381234928882,
          0.5380807773841841,
          -0.633045084982813,
          -1.7779188737619718,
          1.4017987066713467,
          -0.08474720608466335,
          0.8776521766497231,
          0.4641730284714228,
          0.45125150792532565,
          0.060392922247830425,
          0.8784203727592276,
          -0.1688059199189494,
          -1.0896619947083495,
          0.0171159299839232,
          0.08104028200629111,
          2.1271586379364784,
          -0.976903741909578,
          1.1376357527698266,
          -0.00012090109272308358,
          1.6484473114720377,
          -1.0772133462637432,
          -0.9150194793716977,
          -0.13908916224241138,
          1.420245945456923,
          -0.8638449427158882,
          0.35946872217060843,
          0.353760398347842,
          -0.034214007117311096,
          0.42062282065593914,
          -0.4119607557910614,
          -2.246530449988816,
          0.6572380023859556,
          1.5371929318791877,
          0.7047641075968462,
          0.2758760032749365,
          0.3641139356290369,
          -1.7452790367604647,
          0.7507657464946539,
          0.7660509128626469,
          -1.918014533068927
         ]
        },
        {
         "marker": {
          "color": "rgba(50, 171, 96, 0.6)",
          "line": {
           "color": "rgba(50, 171, 96, 1.0)",
           "width": 1
          }
         },
         "name": "C",
         "orientation": "v",
         "text": "",
         "type": "bar",
         "x": [
          0,
          1,
          2,
          3,
          4,
          5,
          6,
          7,
          8,
          9,
          10,
          11,
          12,
          13,
          14,
          15,
          16,
          17,
          18,
          19,
          20,
          21,
          22,
          23,
          24,
          25,
          26,
          27,
          28,
          29,
          30,
          31,
          32,
          33,
          34,
          35,
          36,
          37,
          38,
          39,
          40,
          41,
          42,
          43,
          44,
          45,
          46,
          47,
          48,
          49,
          50,
          51,
          52,
          53,
          54,
          55,
          56,
          57,
          58,
          59,
          60,
          61,
          62,
          63,
          64,
          65,
          66,
          67,
          68,
          69,
          70,
          71,
          72,
          73,
          74,
          75,
          76,
          77,
          78,
          79,
          80,
          81,
          82,
          83,
          84,
          85,
          86,
          87,
          88,
          89,
          90,
          91,
          92,
          93,
          94,
          95,
          96,
          97,
          98,
          99
         ],
         "y": [
          -0.2575191113048818,
          1.320500761745751,
          0.5393212069591781,
          0.04219896750035622,
          1.698198936943047,
          0.5028199669499871,
          -0.1498454934058726,
          0.9633475163625961,
          -1.339015637048091,
          -0.6182770329783752,
          -0.33591206203027124,
          -0.18188932275864927,
          -0.5454887664402375,
          -0.6883932246837449,
          -0.30489076816095145,
          -1.0100830280007966,
          -1.0655391492630855,
          -0.12015197749752969,
          0.5860522797870924,
          0.4192151567643949,
          -1.3353733919720032,
          -0.031402120800871076,
          -2.1335260348390843,
          -0.3441969850120935,
          -1.7542223093498468,
          -0.295042033863205,
          -0.18863870771689262,
          1.552840719836552,
          -0.4316870464612591,
          -0.7613274261883847,
          0.14947076189898487,
          0.48595016476934905,
          -0.7926945550247574,
          0.7731965931118994,
          -0.6883938465753762,
          -2.225079507875566,
          0.5423950945731457,
          -0.34085758855813325,
          1.7417998243184183,
          -0.338719869712993,
          -1.2565129037379519,
          -0.4862357073192635,
          -0.26247542513880223,
          1.371966678906609,
          0.06204981495579611,
          0.1435830366946529,
          -0.09818086024700041,
          -1.0065206400186884,
          0.8816406316046609,
          1.365273883971452,
          -0.3084988064482174,
          -1.0107121741822607,
          0.13115805878508405,
          1.4331106094227337,
          0.1347015805384705,
          -1.2873072839233077,
          0.4520970966083857,
          -1.2803743865230197,
          1.1250400099747564,
          -0.26260192722481174,
          2.7583588538460173,
          0.3145755605376287,
          0.6148574032845244,
          -0.2865467255124006,
          -0.5077597544678613,
          0.34207611262169624,
          0.1176418668857983,
          0.6599108232966143,
          0.20697791306697302,
          -1.5497405311923949,
          -1.2399904990512816,
          -0.5418927010115602,
          -0.006076378393536418,
          1.396970316349856,
          0.29841528419805907,
          -0.5186695251409451,
          2.5370307553948255,
          1.4138531800659624,
          0.850227769881565,
          -0.5589241218200475,
          0.9370408392367986,
          -0.9036863474832941,
          -1.2731512830332214,
          0.43070386279979206,
          1.004596274576969,
          0.30830106177054645,
          0.15488032937692175,
          -1.0238457042133868,
          -1.0118295214957163,
          0.08967082143098096,
          -0.9042923514152782,
          -0.7405311429356125,
          -0.8425526874977495,
          1.1428674009459987,
          -1.1631122871541602,
          -0.47384436477048175,
          -1.0361201255211805,
          1.2289487011273375,
          -0.4323744236158504,
          -0.12486789140963928
         ]
        },
        {
         "marker": {
          "color": "rgba(128, 0, 128, 0.6)",
          "line": {
           "color": "rgba(128, 0, 128, 1.0)",
           "width": 1
          }
         },
         "name": "D",
         "orientation": "v",
         "text": "",
         "type": "bar",
         "x": [
          0,
          1,
          2,
          3,
          4,
          5,
          6,
          7,
          8,
          9,
          10,
          11,
          12,
          13,
          14,
          15,
          16,
          17,
          18,
          19,
          20,
          21,
          22,
          23,
          24,
          25,
          26,
          27,
          28,
          29,
          30,
          31,
          32,
          33,
          34,
          35,
          36,
          37,
          38,
          39,
          40,
          41,
          42,
          43,
          44,
          45,
          46,
          47,
          48,
          49,
          50,
          51,
          52,
          53,
          54,
          55,
          56,
          57,
          58,
          59,
          60,
          61,
          62,
          63,
          64,
          65,
          66,
          67,
          68,
          69,
          70,
          71,
          72,
          73,
          74,
          75,
          76,
          77,
          78,
          79,
          80,
          81,
          82,
          83,
          84,
          85,
          86,
          87,
          88,
          89,
          90,
          91,
          92,
          93,
          94,
          95,
          96,
          97,
          98,
          99
         ],
         "y": [
          0.9233664551727817,
          0.2187068108806523,
          0.11865198024420574,
          -1.5579186623042052,
          -0.4672071562814396,
          3.0066626935308456,
          -0.32655014387269754,
          0.10772210250884771,
          0.8844221038072054,
          1.7722565392187368,
          1.184992792776857,
          0.2108781835560796,
          -1.1148099764931805,
          -4.345427928625704e-05,
          -1.983953129359126,
          -0.9649214601388116,
          -0.22125091561265933,
          1.2273455531899071,
          -0.0575385070370791,
          -0.11781601230391926,
          1.9166344516297773,
          -1.0970613676362393,
          0.43934146242854094,
          1.2762258985477217,
          0.07447449662748581,
          3.0919869419630976,
          0.5973122040456079,
          -0.7050905523339075,
          -0.4999112205302632,
          -0.03493124465617314,
          -0.7617881698096332,
          1.3797053254926674,
          -0.2215403633239477,
          0.6925481305262045,
          0.06167550672697119,
          -0.40963611935775956,
          0.35893243125669266,
          -0.41745743030591087,
          0.03015429313705,
          0.15602988591660222,
          -0.26787146265085654,
          -0.41417028686894974,
          1.5609792080758211,
          1.194969375259976,
          -0.6551383967781365,
          -1.755053789996685,
          1.5159309217952428,
          -1.28875100441881,
          -0.911926164600893,
          -0.5474702131804486,
          0.4047143059595249,
          -0.43079197819212006,
          0.08797226941624581,
          -0.6908029115601726,
          0.7242905167980132,
          0.23214396422851524,
          0.7247353002278414,
          1.9452025367983576,
          -0.6546861016814408,
          -0.6799974252683934,
          -0.5317611724410563,
          1.4405271470855314,
          1.1115247500755756,
          0.589893192958994,
          0.4824437508914874,
          1.377178678619452,
          -0.6862284977820776,
          0.13642842203149558,
          -0.8947830787665288,
          -1.2215509521492065,
          -0.9851235704440013,
          0.2769495490795035,
          -0.5492866868876993,
          -0.45589525253369273,
          -0.49258897950070984,
          -0.2268613593796678,
          -1.0595067963615048,
          -1.163113884097818,
          -2.131695933566539,
          0.42063353723874125,
          1.5399342918829222,
          -0.6831121602536194,
          0.7561167662337182,
          -1.1136598817381878,
          0.026303240811561608,
          -0.11853482107150998,
          -0.7999930888845683,
          0.6608875939920911,
          -0.4310373559079466,
          -0.6088333250428458,
          -0.8584547980700439,
          -0.18485197733031306,
          0.7591281136316559,
          0.4505866865518529,
          0.39346588693495527,
          0.2764004766793301,
          0.2849159220159852,
          0.2464470334073424,
          -1.9666741818132207,
          -0.11656813004260916
         ]
        }
       ],
       "layout": {
        "legend": {
         "bgcolor": "#F5F6F9",
         "font": {
          "color": "#4D5663"
         }
        },
        "paper_bgcolor": "#F5F6F9",
        "plot_bgcolor": "#F5F6F9",
        "template": {
         "data": {
          "bar": [
           {
            "error_x": {
             "color": "#2a3f5f"
            },
            "error_y": {
             "color": "#2a3f5f"
            },
            "marker": {
             "line": {
              "color": "#E5ECF6",
              "width": 0.5
             },
             "pattern": {
              "fillmode": "overlay",
              "size": 10,
              "solidity": 0.2
             }
            },
            "type": "bar"
           }
          ],
          "barpolar": [
           {
            "marker": {
             "line": {
              "color": "#E5ECF6",
              "width": 0.5
             },
             "pattern": {
              "fillmode": "overlay",
              "size": 10,
              "solidity": 0.2
             }
            },
            "type": "barpolar"
           }
          ],
          "carpet": [
           {
            "aaxis": {
             "endlinecolor": "#2a3f5f",
             "gridcolor": "white",
             "linecolor": "white",
             "minorgridcolor": "white",
             "startlinecolor": "#2a3f5f"
            },
            "baxis": {
             "endlinecolor": "#2a3f5f",
             "gridcolor": "white",
             "linecolor": "white",
             "minorgridcolor": "white",
             "startlinecolor": "#2a3f5f"
            },
            "type": "carpet"
           }
          ],
          "choropleth": [
           {
            "colorbar": {
             "outlinewidth": 0,
             "ticks": ""
            },
            "type": "choropleth"
           }
          ],
          "contour": [
           {
            "colorbar": {
             "outlinewidth": 0,
             "ticks": ""
            },
            "colorscale": [
             [
              0,
              "#0d0887"
             ],
             [
              0.1111111111111111,
              "#46039f"
             ],
             [
              0.2222222222222222,
              "#7201a8"
             ],
             [
              0.3333333333333333,
              "#9c179e"
             ],
             [
              0.4444444444444444,
              "#bd3786"
             ],
             [
              0.5555555555555556,
              "#d8576b"
             ],
             [
              0.6666666666666666,
              "#ed7953"
             ],
             [
              0.7777777777777778,
              "#fb9f3a"
             ],
             [
              0.8888888888888888,
              "#fdca26"
             ],
             [
              1,
              "#f0f921"
             ]
            ],
            "type": "contour"
           }
          ],
          "contourcarpet": [
           {
            "colorbar": {
             "outlinewidth": 0,
             "ticks": ""
            },
            "type": "contourcarpet"
           }
          ],
          "heatmap": [
           {
            "colorbar": {
             "outlinewidth": 0,
             "ticks": ""
            },
            "colorscale": [
             [
              0,
              "#0d0887"
             ],
             [
              0.1111111111111111,
              "#46039f"
             ],
             [
              0.2222222222222222,
              "#7201a8"
             ],
             [
              0.3333333333333333,
              "#9c179e"
             ],
             [
              0.4444444444444444,
              "#bd3786"
             ],
             [
              0.5555555555555556,
              "#d8576b"
             ],
             [
              0.6666666666666666,
              "#ed7953"
             ],
             [
              0.7777777777777778,
              "#fb9f3a"
             ],
             [
              0.8888888888888888,
              "#fdca26"
             ],
             [
              1,
              "#f0f921"
             ]
            ],
            "type": "heatmap"
           }
          ],
          "heatmapgl": [
           {
            "colorbar": {
             "outlinewidth": 0,
             "ticks": ""
            },
            "colorscale": [
             [
              0,
              "#0d0887"
             ],
             [
              0.1111111111111111,
              "#46039f"
             ],
             [
              0.2222222222222222,
              "#7201a8"
             ],
             [
              0.3333333333333333,
              "#9c179e"
             ],
             [
              0.4444444444444444,
              "#bd3786"
             ],
             [
              0.5555555555555556,
              "#d8576b"
             ],
             [
              0.6666666666666666,
              "#ed7953"
             ],
             [
              0.7777777777777778,
              "#fb9f3a"
             ],
             [
              0.8888888888888888,
              "#fdca26"
             ],
             [
              1,
              "#f0f921"
             ]
            ],
            "type": "heatmapgl"
           }
          ],
          "histogram": [
           {
            "marker": {
             "pattern": {
              "fillmode": "overlay",
              "size": 10,
              "solidity": 0.2
             }
            },
            "type": "histogram"
           }
          ],
          "histogram2d": [
           {
            "colorbar": {
             "outlinewidth": 0,
             "ticks": ""
            },
            "colorscale": [
             [
              0,
              "#0d0887"
             ],
             [
              0.1111111111111111,
              "#46039f"
             ],
             [
              0.2222222222222222,
              "#7201a8"
             ],
             [
              0.3333333333333333,
              "#9c179e"
             ],
             [
              0.4444444444444444,
              "#bd3786"
             ],
             [
              0.5555555555555556,
              "#d8576b"
             ],
             [
              0.6666666666666666,
              "#ed7953"
             ],
             [
              0.7777777777777778,
              "#fb9f3a"
             ],
             [
              0.8888888888888888,
              "#fdca26"
             ],
             [
              1,
              "#f0f921"
             ]
            ],
            "type": "histogram2d"
           }
          ],
          "histogram2dcontour": [
           {
            "colorbar": {
             "outlinewidth": 0,
             "ticks": ""
            },
            "colorscale": [
             [
              0,
              "#0d0887"
             ],
             [
              0.1111111111111111,
              "#46039f"
             ],
             [
              0.2222222222222222,
              "#7201a8"
             ],
             [
              0.3333333333333333,
              "#9c179e"
             ],
             [
              0.4444444444444444,
              "#bd3786"
             ],
             [
              0.5555555555555556,
              "#d8576b"
             ],
             [
              0.6666666666666666,
              "#ed7953"
             ],
             [
              0.7777777777777778,
              "#fb9f3a"
             ],
             [
              0.8888888888888888,
              "#fdca26"
             ],
             [
              1,
              "#f0f921"
             ]
            ],
            "type": "histogram2dcontour"
           }
          ],
          "mesh3d": [
           {
            "colorbar": {
             "outlinewidth": 0,
             "ticks": ""
            },
            "type": "mesh3d"
           }
          ],
          "parcoords": [
           {
            "line": {
             "colorbar": {
              "outlinewidth": 0,
              "ticks": ""
             }
            },
            "type": "parcoords"
           }
          ],
          "pie": [
           {
            "automargin": true,
            "type": "pie"
           }
          ],
          "scatter": [
           {
            "marker": {
             "colorbar": {
              "outlinewidth": 0,
              "ticks": ""
             }
            },
            "type": "scatter"
           }
          ],
          "scatter3d": [
           {
            "line": {
             "colorbar": {
              "outlinewidth": 0,
              "ticks": ""
             }
            },
            "marker": {
             "colorbar": {
              "outlinewidth": 0,
              "ticks": ""
             }
            },
            "type": "scatter3d"
           }
          ],
          "scattercarpet": [
           {
            "marker": {
             "colorbar": {
              "outlinewidth": 0,
              "ticks": ""
             }
            },
            "type": "scattercarpet"
           }
          ],
          "scattergeo": [
           {
            "marker": {
             "colorbar": {
              "outlinewidth": 0,
              "ticks": ""
             }
            },
            "type": "scattergeo"
           }
          ],
          "scattergl": [
           {
            "marker": {
             "colorbar": {
              "outlinewidth": 0,
              "ticks": ""
             }
            },
            "type": "scattergl"
           }
          ],
          "scattermapbox": [
           {
            "marker": {
             "colorbar": {
              "outlinewidth": 0,
              "ticks": ""
             }
            },
            "type": "scattermapbox"
           }
          ],
          "scatterpolar": [
           {
            "marker": {
             "colorbar": {
              "outlinewidth": 0,
              "ticks": ""
             }
            },
            "type": "scatterpolar"
           }
          ],
          "scatterpolargl": [
           {
            "marker": {
             "colorbar": {
              "outlinewidth": 0,
              "ticks": ""
             }
            },
            "type": "scatterpolargl"
           }
          ],
          "scatterternary": [
           {
            "marker": {
             "colorbar": {
              "outlinewidth": 0,
              "ticks": ""
             }
            },
            "type": "scatterternary"
           }
          ],
          "surface": [
           {
            "colorbar": {
             "outlinewidth": 0,
             "ticks": ""
            },
            "colorscale": [
             [
              0,
              "#0d0887"
             ],
             [
              0.1111111111111111,
              "#46039f"
             ],
             [
              0.2222222222222222,
              "#7201a8"
             ],
             [
              0.3333333333333333,
              "#9c179e"
             ],
             [
              0.4444444444444444,
              "#bd3786"
             ],
             [
              0.5555555555555556,
              "#d8576b"
             ],
             [
              0.6666666666666666,
              "#ed7953"
             ],
             [
              0.7777777777777778,
              "#fb9f3a"
             ],
             [
              0.8888888888888888,
              "#fdca26"
             ],
             [
              1,
              "#f0f921"
             ]
            ],
            "type": "surface"
           }
          ],
          "table": [
           {
            "cells": {
             "fill": {
              "color": "#EBF0F8"
             },
             "line": {
              "color": "white"
             }
            },
            "header": {
             "fill": {
              "color": "#C8D4E3"
             },
             "line": {
              "color": "white"
             }
            },
            "type": "table"
           }
          ]
         },
         "layout": {
          "annotationdefaults": {
           "arrowcolor": "#2a3f5f",
           "arrowhead": 0,
           "arrowwidth": 1
          },
          "autotypenumbers": "strict",
          "coloraxis": {
           "colorbar": {
            "outlinewidth": 0,
            "ticks": ""
           }
          },
          "colorscale": {
           "diverging": [
            [
             0,
             "#8e0152"
            ],
            [
             0.1,
             "#c51b7d"
            ],
            [
             0.2,
             "#de77ae"
            ],
            [
             0.3,
             "#f1b6da"
            ],
            [
             0.4,
             "#fde0ef"
            ],
            [
             0.5,
             "#f7f7f7"
            ],
            [
             0.6,
             "#e6f5d0"
            ],
            [
             0.7,
             "#b8e186"
            ],
            [
             0.8,
             "#7fbc41"
            ],
            [
             0.9,
             "#4d9221"
            ],
            [
             1,
             "#276419"
            ]
           ],
           "sequential": [
            [
             0,
             "#0d0887"
            ],
            [
             0.1111111111111111,
             "#46039f"
            ],
            [
             0.2222222222222222,
             "#7201a8"
            ],
            [
             0.3333333333333333,
             "#9c179e"
            ],
            [
             0.4444444444444444,
             "#bd3786"
            ],
            [
             0.5555555555555556,
             "#d8576b"
            ],
            [
             0.6666666666666666,
             "#ed7953"
            ],
            [
             0.7777777777777778,
             "#fb9f3a"
            ],
            [
             0.8888888888888888,
             "#fdca26"
            ],
            [
             1,
             "#f0f921"
            ]
           ],
           "sequentialminus": [
            [
             0,
             "#0d0887"
            ],
            [
             0.1111111111111111,
             "#46039f"
            ],
            [
             0.2222222222222222,
             "#7201a8"
            ],
            [
             0.3333333333333333,
             "#9c179e"
            ],
            [
             0.4444444444444444,
             "#bd3786"
            ],
            [
             0.5555555555555556,
             "#d8576b"
            ],
            [
             0.6666666666666666,
             "#ed7953"
            ],
            [
             0.7777777777777778,
             "#fb9f3a"
            ],
            [
             0.8888888888888888,
             "#fdca26"
            ],
            [
             1,
             "#f0f921"
            ]
           ]
          },
          "colorway": [
           "#636efa",
           "#EF553B",
           "#00cc96",
           "#ab63fa",
           "#FFA15A",
           "#19d3f3",
           "#FF6692",
           "#B6E880",
           "#FF97FF",
           "#FECB52"
          ],
          "font": {
           "color": "#2a3f5f"
          },
          "geo": {
           "bgcolor": "white",
           "lakecolor": "white",
           "landcolor": "#E5ECF6",
           "showlakes": true,
           "showland": true,
           "subunitcolor": "white"
          },
          "hoverlabel": {
           "align": "left"
          },
          "hovermode": "closest",
          "mapbox": {
           "style": "light"
          },
          "paper_bgcolor": "white",
          "plot_bgcolor": "#E5ECF6",
          "polar": {
           "angularaxis": {
            "gridcolor": "white",
            "linecolor": "white",
            "ticks": ""
           },
           "bgcolor": "#E5ECF6",
           "radialaxis": {
            "gridcolor": "white",
            "linecolor": "white",
            "ticks": ""
           }
          },
          "scene": {
           "xaxis": {
            "backgroundcolor": "#E5ECF6",
            "gridcolor": "white",
            "gridwidth": 2,
            "linecolor": "white",
            "showbackground": true,
            "ticks": "",
            "zerolinecolor": "white"
           },
           "yaxis": {
            "backgroundcolor": "#E5ECF6",
            "gridcolor": "white",
            "gridwidth": 2,
            "linecolor": "white",
            "showbackground": true,
            "ticks": "",
            "zerolinecolor": "white"
           },
           "zaxis": {
            "backgroundcolor": "#E5ECF6",
            "gridcolor": "white",
            "gridwidth": 2,
            "linecolor": "white",
            "showbackground": true,
            "ticks": "",
            "zerolinecolor": "white"
           }
          },
          "shapedefaults": {
           "line": {
            "color": "#2a3f5f"
           }
          },
          "ternary": {
           "aaxis": {
            "gridcolor": "white",
            "linecolor": "white",
            "ticks": ""
           },
           "baxis": {
            "gridcolor": "white",
            "linecolor": "white",
            "ticks": ""
           },
           "bgcolor": "#E5ECF6",
           "caxis": {
            "gridcolor": "white",
            "linecolor": "white",
            "ticks": ""
           }
          },
          "title": {
           "x": 0.05
          },
          "xaxis": {
           "automargin": true,
           "gridcolor": "white",
           "linecolor": "white",
           "ticks": "",
           "title": {
            "standoff": 15
           },
           "zerolinecolor": "white",
           "zerolinewidth": 2
          },
          "yaxis": {
           "automargin": true,
           "gridcolor": "white",
           "linecolor": "white",
           "ticks": "",
           "title": {
            "standoff": 15
           },
           "zerolinecolor": "white",
           "zerolinewidth": 2
          }
         }
        },
        "title": {
         "font": {
          "color": "#4D5663"
         }
        },
        "xaxis": {
         "gridcolor": "#E1E5ED",
         "showgrid": true,
         "tickfont": {
          "color": "#4D5663"
         },
         "title": {
          "font": {
           "color": "#4D5663"
          },
          "text": ""
         },
         "zerolinecolor": "#E1E5ED"
        },
        "yaxis": {
         "gridcolor": "#E1E5ED",
         "showgrid": true,
         "tickfont": {
          "color": "#4D5663"
         },
         "title": {
          "font": {
           "color": "#4D5663"
          },
          "text": ""
         },
         "zerolinecolor": "#E1E5ED"
        }
       }
      },
      "text/html": [
       "<div>                            <div id=\"726431bd-7e26-4a33-8d67-0eb814f68e87\" class=\"plotly-graph-div\" style=\"height:525px; width:100%;\"></div>            <script type=\"text/javascript\">                require([\"plotly\"], function(Plotly) {                    window.PLOTLYENV=window.PLOTLYENV || {};\n",
       "                    window.PLOTLYENV.BASE_URL='https://plot.ly';                                    if (document.getElementById(\"726431bd-7e26-4a33-8d67-0eb814f68e87\")) {                    Plotly.newPlot(                        \"726431bd-7e26-4a33-8d67-0eb814f68e87\",                        [{\"marker\":{\"color\":\"rgba(255, 153, 51, 0.6)\",\"line\":{\"color\":\"rgba(255, 153, 51, 1.0)\",\"width\":1}},\"name\":\"A\",\"orientation\":\"v\",\"text\":\"\",\"x\":[0,1,2,3,4,5,6,7,8,9,10,11,12,13,14,15,16,17,18,19,20,21,22,23,24,25,26,27,28,29,30,31,32,33,34,35,36,37,38,39,40,41,42,43,44,45,46,47,48,49,50,51,52,53,54,55,56,57,58,59,60,61,62,63,64,65,66,67,68,69,70,71,72,73,74,75,76,77,78,79,80,81,82,83,84,85,86,87,88,89,90,91,92,93,94,95,96,97,98,99],\"y\":[-1.309527744420406,-0.43461471341730906,-0.6595622762097307,-1.8087704558636009,-0.21507624397672268,-0.38856874633371274,0.39323640994019327,-1.5768836282447465,0.22178931809236666,-0.9431156572498557,-1.9102029239374554,-0.477769555673728,-1.089425538238347,-1.0357538495845635,1.2252166381530092,0.37107402061163053,-1.158252094622077,1.3695745789888654,-1.01825182367802,-1.7722468986897701,-0.2168013554876337,0.4755191701253149,-0.31047009102309275,-1.1396124818852957,-0.6999173593661061,-1.1371155062620095,-0.4910949440770942,-1.3621373445513156,1.0766873032479476,0.525928465473397,0.18338106944618113,-0.1505291458789072,1.8846432497944905,1.0605122306404768,-0.962144311117594,-0.1476914461688686,0.7205523460441676,-1.7892639026055361,-1.0548281912697273,1.7356821752881395,0.7623513817996954,0.3727625957984767,0.44451049023253525,1.4676975285083917,0.4814662048334038,0.6221661115520754,0.2370320573531419,-0.7473679255146413,0.6347836687579423,1.2138547818174472,-1.1115098285811436,-0.741420524794404,-1.7765108665886487,0.810113366475899,0.47669154362011024,-0.4134257725397369,0.765857785416105,-0.965188219950402,-1.4789137379581754,-0.6434993507816088,1.1172937554301525,-0.495694212475232,-0.387836058015111,-1.5016648314212626,0.1203043588212254,1.2088376698736039,-0.07194726263107164,0.15389399355134598,-0.6401244083647915,-0.08273948253381846,-1.3592394732882558,-1.9885105671375787,0.038505035218103376,-1.24448668315206,1.0295590758843345,0.33682960031944126,0.016429352896183677,-0.8237702468602085,-0.18449476647468116,1.3095212684401376,1.3587986132723278,-0.6051067858004684,-1.6266419057988017,1.0042132470590117,-0.941415138673278,-0.22540308480569024,1.3745114441408741,0.9480792162916354,-0.6327623894459151,-0.4249154919293121,0.6437607373691273,-0.023221467246056046,-0.11276162648807049,-1.4583110545841829,1.2612779604538449,1.3478794165153494,-0.380129484919786,1.451947890281281,-1.1301928995517123,-1.9753921455165973],\"type\":\"bar\"},{\"marker\":{\"color\":\"rgba(55, 128, 191, 0.6)\",\"line\":{\"color\":\"rgba(55, 128, 191, 1.0)\",\"width\":1}},\"name\":\"B\",\"orientation\":\"v\",\"text\":\"\",\"x\":[0,1,2,3,4,5,6,7,8,9,10,11,12,13,14,15,16,17,18,19,20,21,22,23,24,25,26,27,28,29,30,31,32,33,34,35,36,37,38,39,40,41,42,43,44,45,46,47,48,49,50,51,52,53,54,55,56,57,58,59,60,61,62,63,64,65,66,67,68,69,70,71,72,73,74,75,76,77,78,79,80,81,82,83,84,85,86,87,88,89,90,91,92,93,94,95,96,97,98,99],\"y\":[-0.3135045106961009,0.27106706687477644,0.6119471965110417,0.3009908952710065,-1.7296433552727768,-0.8395951219175694,0.16250707660228472,0.5055405458960701,-0.832888025408523,0.9109193800627438,-0.26573228768153007,-1.048508086534288,2.3935354905650352,-0.6120845323882204,0.2794630660004881,1.627451053655647,-0.6851014265020644,-0.05563959335930016,-0.135370377466742,1.1825219023457476,0.09104646907592046,-0.23291348461501518,0.7536213073112578,0.4852510554975916,-0.11598911508126203,1.0968318367465173,0.18417105335675082,-1.3013280121311601,-1.5523879941424124,-0.32369753741302265,0.12823504654106158,0.3235706409631143,-0.39016583384232667,-1.3483469875160243,-0.8778043256258503,-0.6566745979642085,-0.8717450588581389,-0.6555475573355242,1.1869681326633754,-1.6754949879668986,-1.0166574270487643,0.30084494827373853,-0.5569631288734428,-0.567768653274891,-1.240819396653744,0.07056845771157615,1.7622707398041684,0.18529340390041166,-0.9353562273967888,-0.6885393911334184,1.5338969581422393,1.5892838914058174,-1.614263003322591,-0.15402669237130096,1.159444826889843,0.08959925841560044,-0.7533113996854893,1.905234347898969,0.7307657905729821,-0.29285654487137897,1.7069381234928882,0.5380807773841841,-0.633045084982813,-1.7779188737619718,1.4017987066713467,-0.08474720608466335,0.8776521766497231,0.4641730284714228,0.45125150792532565,0.060392922247830425,0.8784203727592276,-0.1688059199189494,-1.0896619947083495,0.0171159299839232,0.08104028200629111,2.1271586379364784,-0.976903741909578,1.1376357527698266,-0.00012090109272308358,1.6484473114720377,-1.0772133462637432,-0.9150194793716977,-0.13908916224241138,1.420245945456923,-0.8638449427158882,0.35946872217060843,0.353760398347842,-0.034214007117311096,0.42062282065593914,-0.4119607557910614,-2.246530449988816,0.6572380023859556,1.5371929318791877,0.7047641075968462,0.2758760032749365,0.3641139356290369,-1.7452790367604647,0.7507657464946539,0.7660509128626469,-1.918014533068927],\"type\":\"bar\"},{\"marker\":{\"color\":\"rgba(50, 171, 96, 0.6)\",\"line\":{\"color\":\"rgba(50, 171, 96, 1.0)\",\"width\":1}},\"name\":\"C\",\"orientation\":\"v\",\"text\":\"\",\"x\":[0,1,2,3,4,5,6,7,8,9,10,11,12,13,14,15,16,17,18,19,20,21,22,23,24,25,26,27,28,29,30,31,32,33,34,35,36,37,38,39,40,41,42,43,44,45,46,47,48,49,50,51,52,53,54,55,56,57,58,59,60,61,62,63,64,65,66,67,68,69,70,71,72,73,74,75,76,77,78,79,80,81,82,83,84,85,86,87,88,89,90,91,92,93,94,95,96,97,98,99],\"y\":[-0.2575191113048818,1.320500761745751,0.5393212069591781,0.04219896750035622,1.698198936943047,0.5028199669499871,-0.1498454934058726,0.9633475163625961,-1.339015637048091,-0.6182770329783752,-0.33591206203027124,-0.18188932275864927,-0.5454887664402375,-0.6883932246837449,-0.30489076816095145,-1.0100830280007966,-1.0655391492630855,-0.12015197749752969,0.5860522797870924,0.4192151567643949,-1.3353733919720032,-0.031402120800871076,-2.1335260348390843,-0.3441969850120935,-1.7542223093498468,-0.295042033863205,-0.18863870771689262,1.552840719836552,-0.4316870464612591,-0.7613274261883847,0.14947076189898487,0.48595016476934905,-0.7926945550247574,0.7731965931118994,-0.6883938465753762,-2.225079507875566,0.5423950945731457,-0.34085758855813325,1.7417998243184183,-0.338719869712993,-1.2565129037379519,-0.4862357073192635,-0.26247542513880223,1.371966678906609,0.06204981495579611,0.1435830366946529,-0.09818086024700041,-1.0065206400186884,0.8816406316046609,1.365273883971452,-0.3084988064482174,-1.0107121741822607,0.13115805878508405,1.4331106094227337,0.1347015805384705,-1.2873072839233077,0.4520970966083857,-1.2803743865230197,1.1250400099747564,-0.26260192722481174,2.7583588538460173,0.3145755605376287,0.6148574032845244,-0.2865467255124006,-0.5077597544678613,0.34207611262169624,0.1176418668857983,0.6599108232966143,0.20697791306697302,-1.5497405311923949,-1.2399904990512816,-0.5418927010115602,-0.006076378393536418,1.396970316349856,0.29841528419805907,-0.5186695251409451,2.5370307553948255,1.4138531800659624,0.850227769881565,-0.5589241218200475,0.9370408392367986,-0.9036863474832941,-1.2731512830332214,0.43070386279979206,1.004596274576969,0.30830106177054645,0.15488032937692175,-1.0238457042133868,-1.0118295214957163,0.08967082143098096,-0.9042923514152782,-0.7405311429356125,-0.8425526874977495,1.1428674009459987,-1.1631122871541602,-0.47384436477048175,-1.0361201255211805,1.2289487011273375,-0.4323744236158504,-0.12486789140963928],\"type\":\"bar\"},{\"marker\":{\"color\":\"rgba(128, 0, 128, 0.6)\",\"line\":{\"color\":\"rgba(128, 0, 128, 1.0)\",\"width\":1}},\"name\":\"D\",\"orientation\":\"v\",\"text\":\"\",\"x\":[0,1,2,3,4,5,6,7,8,9,10,11,12,13,14,15,16,17,18,19,20,21,22,23,24,25,26,27,28,29,30,31,32,33,34,35,36,37,38,39,40,41,42,43,44,45,46,47,48,49,50,51,52,53,54,55,56,57,58,59,60,61,62,63,64,65,66,67,68,69,70,71,72,73,74,75,76,77,78,79,80,81,82,83,84,85,86,87,88,89,90,91,92,93,94,95,96,97,98,99],\"y\":[0.9233664551727817,0.2187068108806523,0.11865198024420574,-1.5579186623042052,-0.4672071562814396,3.0066626935308456,-0.32655014387269754,0.10772210250884771,0.8844221038072054,1.7722565392187368,1.184992792776857,0.2108781835560796,-1.1148099764931805,-4.345427928625704e-05,-1.983953129359126,-0.9649214601388116,-0.22125091561265933,1.2273455531899071,-0.0575385070370791,-0.11781601230391926,1.9166344516297773,-1.0970613676362393,0.43934146242854094,1.2762258985477217,0.07447449662748581,3.0919869419630976,0.5973122040456079,-0.7050905523339075,-0.4999112205302632,-0.03493124465617314,-0.7617881698096332,1.3797053254926674,-0.2215403633239477,0.6925481305262045,0.06167550672697119,-0.40963611935775956,0.35893243125669266,-0.41745743030591087,0.03015429313705,0.15602988591660222,-0.26787146265085654,-0.41417028686894974,1.5609792080758211,1.194969375259976,-0.6551383967781365,-1.755053789996685,1.5159309217952428,-1.28875100441881,-0.911926164600893,-0.5474702131804486,0.4047143059595249,-0.43079197819212006,0.08797226941624581,-0.6908029115601726,0.7242905167980132,0.23214396422851524,0.7247353002278414,1.9452025367983576,-0.6546861016814408,-0.6799974252683934,-0.5317611724410563,1.4405271470855314,1.1115247500755756,0.589893192958994,0.4824437508914874,1.377178678619452,-0.6862284977820776,0.13642842203149558,-0.8947830787665288,-1.2215509521492065,-0.9851235704440013,0.2769495490795035,-0.5492866868876993,-0.45589525253369273,-0.49258897950070984,-0.2268613593796678,-1.0595067963615048,-1.163113884097818,-2.131695933566539,0.42063353723874125,1.5399342918829222,-0.6831121602536194,0.7561167662337182,-1.1136598817381878,0.026303240811561608,-0.11853482107150998,-0.7999930888845683,0.6608875939920911,-0.4310373559079466,-0.6088333250428458,-0.8584547980700439,-0.18485197733031306,0.7591281136316559,0.4505866865518529,0.39346588693495527,0.2764004766793301,0.2849159220159852,0.2464470334073424,-1.9666741818132207,-0.11656813004260916],\"type\":\"bar\"}],                        {\"legend\":{\"bgcolor\":\"#F5F6F9\",\"font\":{\"color\":\"#4D5663\"}},\"paper_bgcolor\":\"#F5F6F9\",\"plot_bgcolor\":\"#F5F6F9\",\"template\":{\"data\":{\"barpolar\":[{\"marker\":{\"line\":{\"color\":\"#E5ECF6\",\"width\":0.5},\"pattern\":{\"fillmode\":\"overlay\",\"size\":10,\"solidity\":0.2}},\"type\":\"barpolar\"}],\"bar\":[{\"error_x\":{\"color\":\"#2a3f5f\"},\"error_y\":{\"color\":\"#2a3f5f\"},\"marker\":{\"line\":{\"color\":\"#E5ECF6\",\"width\":0.5},\"pattern\":{\"fillmode\":\"overlay\",\"size\":10,\"solidity\":0.2}},\"type\":\"bar\"}],\"carpet\":[{\"aaxis\":{\"endlinecolor\":\"#2a3f5f\",\"gridcolor\":\"white\",\"linecolor\":\"white\",\"minorgridcolor\":\"white\",\"startlinecolor\":\"#2a3f5f\"},\"baxis\":{\"endlinecolor\":\"#2a3f5f\",\"gridcolor\":\"white\",\"linecolor\":\"white\",\"minorgridcolor\":\"white\",\"startlinecolor\":\"#2a3f5f\"},\"type\":\"carpet\"}],\"choropleth\":[{\"colorbar\":{\"outlinewidth\":0,\"ticks\":\"\"},\"type\":\"choropleth\"}],\"contourcarpet\":[{\"colorbar\":{\"outlinewidth\":0,\"ticks\":\"\"},\"type\":\"contourcarpet\"}],\"contour\":[{\"colorbar\":{\"outlinewidth\":0,\"ticks\":\"\"},\"colorscale\":[[0.0,\"#0d0887\"],[0.1111111111111111,\"#46039f\"],[0.2222222222222222,\"#7201a8\"],[0.3333333333333333,\"#9c179e\"],[0.4444444444444444,\"#bd3786\"],[0.5555555555555556,\"#d8576b\"],[0.6666666666666666,\"#ed7953\"],[0.7777777777777778,\"#fb9f3a\"],[0.8888888888888888,\"#fdca26\"],[1.0,\"#f0f921\"]],\"type\":\"contour\"}],\"heatmapgl\":[{\"colorbar\":{\"outlinewidth\":0,\"ticks\":\"\"},\"colorscale\":[[0.0,\"#0d0887\"],[0.1111111111111111,\"#46039f\"],[0.2222222222222222,\"#7201a8\"],[0.3333333333333333,\"#9c179e\"],[0.4444444444444444,\"#bd3786\"],[0.5555555555555556,\"#d8576b\"],[0.6666666666666666,\"#ed7953\"],[0.7777777777777778,\"#fb9f3a\"],[0.8888888888888888,\"#fdca26\"],[1.0,\"#f0f921\"]],\"type\":\"heatmapgl\"}],\"heatmap\":[{\"colorbar\":{\"outlinewidth\":0,\"ticks\":\"\"},\"colorscale\":[[0.0,\"#0d0887\"],[0.1111111111111111,\"#46039f\"],[0.2222222222222222,\"#7201a8\"],[0.3333333333333333,\"#9c179e\"],[0.4444444444444444,\"#bd3786\"],[0.5555555555555556,\"#d8576b\"],[0.6666666666666666,\"#ed7953\"],[0.7777777777777778,\"#fb9f3a\"],[0.8888888888888888,\"#fdca26\"],[1.0,\"#f0f921\"]],\"type\":\"heatmap\"}],\"histogram2dcontour\":[{\"colorbar\":{\"outlinewidth\":0,\"ticks\":\"\"},\"colorscale\":[[0.0,\"#0d0887\"],[0.1111111111111111,\"#46039f\"],[0.2222222222222222,\"#7201a8\"],[0.3333333333333333,\"#9c179e\"],[0.4444444444444444,\"#bd3786\"],[0.5555555555555556,\"#d8576b\"],[0.6666666666666666,\"#ed7953\"],[0.7777777777777778,\"#fb9f3a\"],[0.8888888888888888,\"#fdca26\"],[1.0,\"#f0f921\"]],\"type\":\"histogram2dcontour\"}],\"histogram2d\":[{\"colorbar\":{\"outlinewidth\":0,\"ticks\":\"\"},\"colorscale\":[[0.0,\"#0d0887\"],[0.1111111111111111,\"#46039f\"],[0.2222222222222222,\"#7201a8\"],[0.3333333333333333,\"#9c179e\"],[0.4444444444444444,\"#bd3786\"],[0.5555555555555556,\"#d8576b\"],[0.6666666666666666,\"#ed7953\"],[0.7777777777777778,\"#fb9f3a\"],[0.8888888888888888,\"#fdca26\"],[1.0,\"#f0f921\"]],\"type\":\"histogram2d\"}],\"histogram\":[{\"marker\":{\"pattern\":{\"fillmode\":\"overlay\",\"size\":10,\"solidity\":0.2}},\"type\":\"histogram\"}],\"mesh3d\":[{\"colorbar\":{\"outlinewidth\":0,\"ticks\":\"\"},\"type\":\"mesh3d\"}],\"parcoords\":[{\"line\":{\"colorbar\":{\"outlinewidth\":0,\"ticks\":\"\"}},\"type\":\"parcoords\"}],\"pie\":[{\"automargin\":true,\"type\":\"pie\"}],\"scatter3d\":[{\"line\":{\"colorbar\":{\"outlinewidth\":0,\"ticks\":\"\"}},\"marker\":{\"colorbar\":{\"outlinewidth\":0,\"ticks\":\"\"}},\"type\":\"scatter3d\"}],\"scattercarpet\":[{\"marker\":{\"colorbar\":{\"outlinewidth\":0,\"ticks\":\"\"}},\"type\":\"scattercarpet\"}],\"scattergeo\":[{\"marker\":{\"colorbar\":{\"outlinewidth\":0,\"ticks\":\"\"}},\"type\":\"scattergeo\"}],\"scattergl\":[{\"marker\":{\"colorbar\":{\"outlinewidth\":0,\"ticks\":\"\"}},\"type\":\"scattergl\"}],\"scattermapbox\":[{\"marker\":{\"colorbar\":{\"outlinewidth\":0,\"ticks\":\"\"}},\"type\":\"scattermapbox\"}],\"scatterpolargl\":[{\"marker\":{\"colorbar\":{\"outlinewidth\":0,\"ticks\":\"\"}},\"type\":\"scatterpolargl\"}],\"scatterpolar\":[{\"marker\":{\"colorbar\":{\"outlinewidth\":0,\"ticks\":\"\"}},\"type\":\"scatterpolar\"}],\"scatter\":[{\"marker\":{\"colorbar\":{\"outlinewidth\":0,\"ticks\":\"\"}},\"type\":\"scatter\"}],\"scatterternary\":[{\"marker\":{\"colorbar\":{\"outlinewidth\":0,\"ticks\":\"\"}},\"type\":\"scatterternary\"}],\"surface\":[{\"colorbar\":{\"outlinewidth\":0,\"ticks\":\"\"},\"colorscale\":[[0.0,\"#0d0887\"],[0.1111111111111111,\"#46039f\"],[0.2222222222222222,\"#7201a8\"],[0.3333333333333333,\"#9c179e\"],[0.4444444444444444,\"#bd3786\"],[0.5555555555555556,\"#d8576b\"],[0.6666666666666666,\"#ed7953\"],[0.7777777777777778,\"#fb9f3a\"],[0.8888888888888888,\"#fdca26\"],[1.0,\"#f0f921\"]],\"type\":\"surface\"}],\"table\":[{\"cells\":{\"fill\":{\"color\":\"#EBF0F8\"},\"line\":{\"color\":\"white\"}},\"header\":{\"fill\":{\"color\":\"#C8D4E3\"},\"line\":{\"color\":\"white\"}},\"type\":\"table\"}]},\"layout\":{\"annotationdefaults\":{\"arrowcolor\":\"#2a3f5f\",\"arrowhead\":0,\"arrowwidth\":1},\"autotypenumbers\":\"strict\",\"coloraxis\":{\"colorbar\":{\"outlinewidth\":0,\"ticks\":\"\"}},\"colorscale\":{\"diverging\":[[0,\"#8e0152\"],[0.1,\"#c51b7d\"],[0.2,\"#de77ae\"],[0.3,\"#f1b6da\"],[0.4,\"#fde0ef\"],[0.5,\"#f7f7f7\"],[0.6,\"#e6f5d0\"],[0.7,\"#b8e186\"],[0.8,\"#7fbc41\"],[0.9,\"#4d9221\"],[1,\"#276419\"]],\"sequential\":[[0.0,\"#0d0887\"],[0.1111111111111111,\"#46039f\"],[0.2222222222222222,\"#7201a8\"],[0.3333333333333333,\"#9c179e\"],[0.4444444444444444,\"#bd3786\"],[0.5555555555555556,\"#d8576b\"],[0.6666666666666666,\"#ed7953\"],[0.7777777777777778,\"#fb9f3a\"],[0.8888888888888888,\"#fdca26\"],[1.0,\"#f0f921\"]],\"sequentialminus\":[[0.0,\"#0d0887\"],[0.1111111111111111,\"#46039f\"],[0.2222222222222222,\"#7201a8\"],[0.3333333333333333,\"#9c179e\"],[0.4444444444444444,\"#bd3786\"],[0.5555555555555556,\"#d8576b\"],[0.6666666666666666,\"#ed7953\"],[0.7777777777777778,\"#fb9f3a\"],[0.8888888888888888,\"#fdca26\"],[1.0,\"#f0f921\"]]},\"colorway\":[\"#636efa\",\"#EF553B\",\"#00cc96\",\"#ab63fa\",\"#FFA15A\",\"#19d3f3\",\"#FF6692\",\"#B6E880\",\"#FF97FF\",\"#FECB52\"],\"font\":{\"color\":\"#2a3f5f\"},\"geo\":{\"bgcolor\":\"white\",\"lakecolor\":\"white\",\"landcolor\":\"#E5ECF6\",\"showlakes\":true,\"showland\":true,\"subunitcolor\":\"white\"},\"hoverlabel\":{\"align\":\"left\"},\"hovermode\":\"closest\",\"mapbox\":{\"style\":\"light\"},\"paper_bgcolor\":\"white\",\"plot_bgcolor\":\"#E5ECF6\",\"polar\":{\"angularaxis\":{\"gridcolor\":\"white\",\"linecolor\":\"white\",\"ticks\":\"\"},\"bgcolor\":\"#E5ECF6\",\"radialaxis\":{\"gridcolor\":\"white\",\"linecolor\":\"white\",\"ticks\":\"\"}},\"scene\":{\"xaxis\":{\"backgroundcolor\":\"#E5ECF6\",\"gridcolor\":\"white\",\"gridwidth\":2,\"linecolor\":\"white\",\"showbackground\":true,\"ticks\":\"\",\"zerolinecolor\":\"white\"},\"yaxis\":{\"backgroundcolor\":\"#E5ECF6\",\"gridcolor\":\"white\",\"gridwidth\":2,\"linecolor\":\"white\",\"showbackground\":true,\"ticks\":\"\",\"zerolinecolor\":\"white\"},\"zaxis\":{\"backgroundcolor\":\"#E5ECF6\",\"gridcolor\":\"white\",\"gridwidth\":2,\"linecolor\":\"white\",\"showbackground\":true,\"ticks\":\"\",\"zerolinecolor\":\"white\"}},\"shapedefaults\":{\"line\":{\"color\":\"#2a3f5f\"}},\"ternary\":{\"aaxis\":{\"gridcolor\":\"white\",\"linecolor\":\"white\",\"ticks\":\"\"},\"baxis\":{\"gridcolor\":\"white\",\"linecolor\":\"white\",\"ticks\":\"\"},\"bgcolor\":\"#E5ECF6\",\"caxis\":{\"gridcolor\":\"white\",\"linecolor\":\"white\",\"ticks\":\"\"}},\"title\":{\"x\":0.05},\"xaxis\":{\"automargin\":true,\"gridcolor\":\"white\",\"linecolor\":\"white\",\"ticks\":\"\",\"title\":{\"standoff\":15},\"zerolinecolor\":\"white\",\"zerolinewidth\":2},\"yaxis\":{\"automargin\":true,\"gridcolor\":\"white\",\"linecolor\":\"white\",\"ticks\":\"\",\"title\":{\"standoff\":15},\"zerolinecolor\":\"white\",\"zerolinewidth\":2}}},\"title\":{\"font\":{\"color\":\"#4D5663\"}},\"xaxis\":{\"gridcolor\":\"#E1E5ED\",\"showgrid\":true,\"tickfont\":{\"color\":\"#4D5663\"},\"title\":{\"font\":{\"color\":\"#4D5663\"},\"text\":\"\"},\"zerolinecolor\":\"#E1E5ED\"},\"yaxis\":{\"gridcolor\":\"#E1E5ED\",\"showgrid\":true,\"tickfont\":{\"color\":\"#4D5663\"},\"title\":{\"font\":{\"color\":\"#4D5663\"},\"text\":\"\"},\"zerolinecolor\":\"#E1E5ED\"}},                        {\"showLink\": true, \"linkText\": \"Export to plot.ly\", \"plotlyServerURL\": \"https://plot.ly\", \"responsive\": true}                    ).then(function(){\n",
       "                            \n",
       "var gd = document.getElementById('726431bd-7e26-4a33-8d67-0eb814f68e87');\n",
       "var x = new MutationObserver(function (mutations, observer) {{\n",
       "        var display = window.getComputedStyle(gd).display;\n",
       "        if (!display || display === 'none') {{\n",
       "            console.log([gd, 'removed!']);\n",
       "            Plotly.purge(gd);\n",
       "            observer.disconnect();\n",
       "        }}\n",
       "}});\n",
       "\n",
       "// Listen for the removal of the full notebook cells\n",
       "var notebookContainer = gd.closest('#notebook-container');\n",
       "if (notebookContainer) {{\n",
       "    x.observe(notebookContainer, {childList: true});\n",
       "}}\n",
       "\n",
       "// Listen for the clearing of the current output cell\n",
       "var outputEl = gd.closest('.output');\n",
       "if (outputEl) {{\n",
       "    x.observe(outputEl, {childList: true});\n",
       "}}\n",
       "\n",
       "                        })                };                });            </script>        </div>"
      ]
     },
     "metadata": {},
     "output_type": "display_data"
    }
   ],
   "source": [
    "df1.iplot(kind=\"bar\")"
   ]
  },
  {
   "cell_type": "code",
   "execution_count": 21,
   "id": "4c8c49a2",
   "metadata": {},
   "outputs": [
    {
     "data": {
      "application/vnd.plotly.v1+json": {
       "config": {
        "linkText": "Export to plot.ly",
        "plotlyServerURL": "https://plot.ly",
        "showLink": true
       },
       "data": [
        {
         "marker": {
          "color": "rgba(255, 153, 51, 0.6)",
          "line": {
           "color": "rgba(255, 153, 51, 1.0)",
           "width": 1
          }
         },
         "name": "None",
         "orientation": "v",
         "text": "",
         "type": "bar",
         "x": [
          "A",
          "B",
          "C",
          "D"
         ],
         "y": [
          100,
          100,
          100,
          100
         ]
        }
       ],
       "layout": {
        "legend": {
         "bgcolor": "#F5F6F9",
         "font": {
          "color": "#4D5663"
         }
        },
        "paper_bgcolor": "#F5F6F9",
        "plot_bgcolor": "#F5F6F9",
        "template": {
         "data": {
          "bar": [
           {
            "error_x": {
             "color": "#2a3f5f"
            },
            "error_y": {
             "color": "#2a3f5f"
            },
            "marker": {
             "line": {
              "color": "#E5ECF6",
              "width": 0.5
             },
             "pattern": {
              "fillmode": "overlay",
              "size": 10,
              "solidity": 0.2
             }
            },
            "type": "bar"
           }
          ],
          "barpolar": [
           {
            "marker": {
             "line": {
              "color": "#E5ECF6",
              "width": 0.5
             },
             "pattern": {
              "fillmode": "overlay",
              "size": 10,
              "solidity": 0.2
             }
            },
            "type": "barpolar"
           }
          ],
          "carpet": [
           {
            "aaxis": {
             "endlinecolor": "#2a3f5f",
             "gridcolor": "white",
             "linecolor": "white",
             "minorgridcolor": "white",
             "startlinecolor": "#2a3f5f"
            },
            "baxis": {
             "endlinecolor": "#2a3f5f",
             "gridcolor": "white",
             "linecolor": "white",
             "minorgridcolor": "white",
             "startlinecolor": "#2a3f5f"
            },
            "type": "carpet"
           }
          ],
          "choropleth": [
           {
            "colorbar": {
             "outlinewidth": 0,
             "ticks": ""
            },
            "type": "choropleth"
           }
          ],
          "contour": [
           {
            "colorbar": {
             "outlinewidth": 0,
             "ticks": ""
            },
            "colorscale": [
             [
              0,
              "#0d0887"
             ],
             [
              0.1111111111111111,
              "#46039f"
             ],
             [
              0.2222222222222222,
              "#7201a8"
             ],
             [
              0.3333333333333333,
              "#9c179e"
             ],
             [
              0.4444444444444444,
              "#bd3786"
             ],
             [
              0.5555555555555556,
              "#d8576b"
             ],
             [
              0.6666666666666666,
              "#ed7953"
             ],
             [
              0.7777777777777778,
              "#fb9f3a"
             ],
             [
              0.8888888888888888,
              "#fdca26"
             ],
             [
              1,
              "#f0f921"
             ]
            ],
            "type": "contour"
           }
          ],
          "contourcarpet": [
           {
            "colorbar": {
             "outlinewidth": 0,
             "ticks": ""
            },
            "type": "contourcarpet"
           }
          ],
          "heatmap": [
           {
            "colorbar": {
             "outlinewidth": 0,
             "ticks": ""
            },
            "colorscale": [
             [
              0,
              "#0d0887"
             ],
             [
              0.1111111111111111,
              "#46039f"
             ],
             [
              0.2222222222222222,
              "#7201a8"
             ],
             [
              0.3333333333333333,
              "#9c179e"
             ],
             [
              0.4444444444444444,
              "#bd3786"
             ],
             [
              0.5555555555555556,
              "#d8576b"
             ],
             [
              0.6666666666666666,
              "#ed7953"
             ],
             [
              0.7777777777777778,
              "#fb9f3a"
             ],
             [
              0.8888888888888888,
              "#fdca26"
             ],
             [
              1,
              "#f0f921"
             ]
            ],
            "type": "heatmap"
           }
          ],
          "heatmapgl": [
           {
            "colorbar": {
             "outlinewidth": 0,
             "ticks": ""
            },
            "colorscale": [
             [
              0,
              "#0d0887"
             ],
             [
              0.1111111111111111,
              "#46039f"
             ],
             [
              0.2222222222222222,
              "#7201a8"
             ],
             [
              0.3333333333333333,
              "#9c179e"
             ],
             [
              0.4444444444444444,
              "#bd3786"
             ],
             [
              0.5555555555555556,
              "#d8576b"
             ],
             [
              0.6666666666666666,
              "#ed7953"
             ],
             [
              0.7777777777777778,
              "#fb9f3a"
             ],
             [
              0.8888888888888888,
              "#fdca26"
             ],
             [
              1,
              "#f0f921"
             ]
            ],
            "type": "heatmapgl"
           }
          ],
          "histogram": [
           {
            "marker": {
             "pattern": {
              "fillmode": "overlay",
              "size": 10,
              "solidity": 0.2
             }
            },
            "type": "histogram"
           }
          ],
          "histogram2d": [
           {
            "colorbar": {
             "outlinewidth": 0,
             "ticks": ""
            },
            "colorscale": [
             [
              0,
              "#0d0887"
             ],
             [
              0.1111111111111111,
              "#46039f"
             ],
             [
              0.2222222222222222,
              "#7201a8"
             ],
             [
              0.3333333333333333,
              "#9c179e"
             ],
             [
              0.4444444444444444,
              "#bd3786"
             ],
             [
              0.5555555555555556,
              "#d8576b"
             ],
             [
              0.6666666666666666,
              "#ed7953"
             ],
             [
              0.7777777777777778,
              "#fb9f3a"
             ],
             [
              0.8888888888888888,
              "#fdca26"
             ],
             [
              1,
              "#f0f921"
             ]
            ],
            "type": "histogram2d"
           }
          ],
          "histogram2dcontour": [
           {
            "colorbar": {
             "outlinewidth": 0,
             "ticks": ""
            },
            "colorscale": [
             [
              0,
              "#0d0887"
             ],
             [
              0.1111111111111111,
              "#46039f"
             ],
             [
              0.2222222222222222,
              "#7201a8"
             ],
             [
              0.3333333333333333,
              "#9c179e"
             ],
             [
              0.4444444444444444,
              "#bd3786"
             ],
             [
              0.5555555555555556,
              "#d8576b"
             ],
             [
              0.6666666666666666,
              "#ed7953"
             ],
             [
              0.7777777777777778,
              "#fb9f3a"
             ],
             [
              0.8888888888888888,
              "#fdca26"
             ],
             [
              1,
              "#f0f921"
             ]
            ],
            "type": "histogram2dcontour"
           }
          ],
          "mesh3d": [
           {
            "colorbar": {
             "outlinewidth": 0,
             "ticks": ""
            },
            "type": "mesh3d"
           }
          ],
          "parcoords": [
           {
            "line": {
             "colorbar": {
              "outlinewidth": 0,
              "ticks": ""
             }
            },
            "type": "parcoords"
           }
          ],
          "pie": [
           {
            "automargin": true,
            "type": "pie"
           }
          ],
          "scatter": [
           {
            "marker": {
             "colorbar": {
              "outlinewidth": 0,
              "ticks": ""
             }
            },
            "type": "scatter"
           }
          ],
          "scatter3d": [
           {
            "line": {
             "colorbar": {
              "outlinewidth": 0,
              "ticks": ""
             }
            },
            "marker": {
             "colorbar": {
              "outlinewidth": 0,
              "ticks": ""
             }
            },
            "type": "scatter3d"
           }
          ],
          "scattercarpet": [
           {
            "marker": {
             "colorbar": {
              "outlinewidth": 0,
              "ticks": ""
             }
            },
            "type": "scattercarpet"
           }
          ],
          "scattergeo": [
           {
            "marker": {
             "colorbar": {
              "outlinewidth": 0,
              "ticks": ""
             }
            },
            "type": "scattergeo"
           }
          ],
          "scattergl": [
           {
            "marker": {
             "colorbar": {
              "outlinewidth": 0,
              "ticks": ""
             }
            },
            "type": "scattergl"
           }
          ],
          "scattermapbox": [
           {
            "marker": {
             "colorbar": {
              "outlinewidth": 0,
              "ticks": ""
             }
            },
            "type": "scattermapbox"
           }
          ],
          "scatterpolar": [
           {
            "marker": {
             "colorbar": {
              "outlinewidth": 0,
              "ticks": ""
             }
            },
            "type": "scatterpolar"
           }
          ],
          "scatterpolargl": [
           {
            "marker": {
             "colorbar": {
              "outlinewidth": 0,
              "ticks": ""
             }
            },
            "type": "scatterpolargl"
           }
          ],
          "scatterternary": [
           {
            "marker": {
             "colorbar": {
              "outlinewidth": 0,
              "ticks": ""
             }
            },
            "type": "scatterternary"
           }
          ],
          "surface": [
           {
            "colorbar": {
             "outlinewidth": 0,
             "ticks": ""
            },
            "colorscale": [
             [
              0,
              "#0d0887"
             ],
             [
              0.1111111111111111,
              "#46039f"
             ],
             [
              0.2222222222222222,
              "#7201a8"
             ],
             [
              0.3333333333333333,
              "#9c179e"
             ],
             [
              0.4444444444444444,
              "#bd3786"
             ],
             [
              0.5555555555555556,
              "#d8576b"
             ],
             [
              0.6666666666666666,
              "#ed7953"
             ],
             [
              0.7777777777777778,
              "#fb9f3a"
             ],
             [
              0.8888888888888888,
              "#fdca26"
             ],
             [
              1,
              "#f0f921"
             ]
            ],
            "type": "surface"
           }
          ],
          "table": [
           {
            "cells": {
             "fill": {
              "color": "#EBF0F8"
             },
             "line": {
              "color": "white"
             }
            },
            "header": {
             "fill": {
              "color": "#C8D4E3"
             },
             "line": {
              "color": "white"
             }
            },
            "type": "table"
           }
          ]
         },
         "layout": {
          "annotationdefaults": {
           "arrowcolor": "#2a3f5f",
           "arrowhead": 0,
           "arrowwidth": 1
          },
          "autotypenumbers": "strict",
          "coloraxis": {
           "colorbar": {
            "outlinewidth": 0,
            "ticks": ""
           }
          },
          "colorscale": {
           "diverging": [
            [
             0,
             "#8e0152"
            ],
            [
             0.1,
             "#c51b7d"
            ],
            [
             0.2,
             "#de77ae"
            ],
            [
             0.3,
             "#f1b6da"
            ],
            [
             0.4,
             "#fde0ef"
            ],
            [
             0.5,
             "#f7f7f7"
            ],
            [
             0.6,
             "#e6f5d0"
            ],
            [
             0.7,
             "#b8e186"
            ],
            [
             0.8,
             "#7fbc41"
            ],
            [
             0.9,
             "#4d9221"
            ],
            [
             1,
             "#276419"
            ]
           ],
           "sequential": [
            [
             0,
             "#0d0887"
            ],
            [
             0.1111111111111111,
             "#46039f"
            ],
            [
             0.2222222222222222,
             "#7201a8"
            ],
            [
             0.3333333333333333,
             "#9c179e"
            ],
            [
             0.4444444444444444,
             "#bd3786"
            ],
            [
             0.5555555555555556,
             "#d8576b"
            ],
            [
             0.6666666666666666,
             "#ed7953"
            ],
            [
             0.7777777777777778,
             "#fb9f3a"
            ],
            [
             0.8888888888888888,
             "#fdca26"
            ],
            [
             1,
             "#f0f921"
            ]
           ],
           "sequentialminus": [
            [
             0,
             "#0d0887"
            ],
            [
             0.1111111111111111,
             "#46039f"
            ],
            [
             0.2222222222222222,
             "#7201a8"
            ],
            [
             0.3333333333333333,
             "#9c179e"
            ],
            [
             0.4444444444444444,
             "#bd3786"
            ],
            [
             0.5555555555555556,
             "#d8576b"
            ],
            [
             0.6666666666666666,
             "#ed7953"
            ],
            [
             0.7777777777777778,
             "#fb9f3a"
            ],
            [
             0.8888888888888888,
             "#fdca26"
            ],
            [
             1,
             "#f0f921"
            ]
           ]
          },
          "colorway": [
           "#636efa",
           "#EF553B",
           "#00cc96",
           "#ab63fa",
           "#FFA15A",
           "#19d3f3",
           "#FF6692",
           "#B6E880",
           "#FF97FF",
           "#FECB52"
          ],
          "font": {
           "color": "#2a3f5f"
          },
          "geo": {
           "bgcolor": "white",
           "lakecolor": "white",
           "landcolor": "#E5ECF6",
           "showlakes": true,
           "showland": true,
           "subunitcolor": "white"
          },
          "hoverlabel": {
           "align": "left"
          },
          "hovermode": "closest",
          "mapbox": {
           "style": "light"
          },
          "paper_bgcolor": "white",
          "plot_bgcolor": "#E5ECF6",
          "polar": {
           "angularaxis": {
            "gridcolor": "white",
            "linecolor": "white",
            "ticks": ""
           },
           "bgcolor": "#E5ECF6",
           "radialaxis": {
            "gridcolor": "white",
            "linecolor": "white",
            "ticks": ""
           }
          },
          "scene": {
           "xaxis": {
            "backgroundcolor": "#E5ECF6",
            "gridcolor": "white",
            "gridwidth": 2,
            "linecolor": "white",
            "showbackground": true,
            "ticks": "",
            "zerolinecolor": "white"
           },
           "yaxis": {
            "backgroundcolor": "#E5ECF6",
            "gridcolor": "white",
            "gridwidth": 2,
            "linecolor": "white",
            "showbackground": true,
            "ticks": "",
            "zerolinecolor": "white"
           },
           "zaxis": {
            "backgroundcolor": "#E5ECF6",
            "gridcolor": "white",
            "gridwidth": 2,
            "linecolor": "white",
            "showbackground": true,
            "ticks": "",
            "zerolinecolor": "white"
           }
          },
          "shapedefaults": {
           "line": {
            "color": "#2a3f5f"
           }
          },
          "ternary": {
           "aaxis": {
            "gridcolor": "white",
            "linecolor": "white",
            "ticks": ""
           },
           "baxis": {
            "gridcolor": "white",
            "linecolor": "white",
            "ticks": ""
           },
           "bgcolor": "#E5ECF6",
           "caxis": {
            "gridcolor": "white",
            "linecolor": "white",
            "ticks": ""
           }
          },
          "title": {
           "x": 0.05
          },
          "xaxis": {
           "automargin": true,
           "gridcolor": "white",
           "linecolor": "white",
           "ticks": "",
           "title": {
            "standoff": 15
           },
           "zerolinecolor": "white",
           "zerolinewidth": 2
          },
          "yaxis": {
           "automargin": true,
           "gridcolor": "white",
           "linecolor": "white",
           "ticks": "",
           "title": {
            "standoff": 15
           },
           "zerolinecolor": "white",
           "zerolinewidth": 2
          }
         }
        },
        "title": {
         "font": {
          "color": "#4D5663"
         }
        },
        "xaxis": {
         "gridcolor": "#E1E5ED",
         "showgrid": true,
         "tickfont": {
          "color": "#4D5663"
         },
         "title": {
          "font": {
           "color": "#4D5663"
          },
          "text": ""
         },
         "zerolinecolor": "#E1E5ED"
        },
        "yaxis": {
         "gridcolor": "#E1E5ED",
         "showgrid": true,
         "tickfont": {
          "color": "#4D5663"
         },
         "title": {
          "font": {
           "color": "#4D5663"
          },
          "text": ""
         },
         "zerolinecolor": "#E1E5ED"
        }
       }
      },
      "text/html": [
       "<div>                            <div id=\"e8fecb94-d932-4fd6-bade-b5c302acd1f8\" class=\"plotly-graph-div\" style=\"height:525px; width:100%;\"></div>            <script type=\"text/javascript\">                require([\"plotly\"], function(Plotly) {                    window.PLOTLYENV=window.PLOTLYENV || {};\n",
       "                    window.PLOTLYENV.BASE_URL='https://plot.ly';                                    if (document.getElementById(\"e8fecb94-d932-4fd6-bade-b5c302acd1f8\")) {                    Plotly.newPlot(                        \"e8fecb94-d932-4fd6-bade-b5c302acd1f8\",                        [{\"marker\":{\"color\":\"rgba(255, 153, 51, 0.6)\",\"line\":{\"color\":\"rgba(255, 153, 51, 1.0)\",\"width\":1}},\"name\":\"None\",\"orientation\":\"v\",\"text\":\"\",\"x\":[\"A\",\"B\",\"C\",\"D\"],\"y\":[100,100,100,100],\"type\":\"bar\"}],                        {\"legend\":{\"bgcolor\":\"#F5F6F9\",\"font\":{\"color\":\"#4D5663\"}},\"paper_bgcolor\":\"#F5F6F9\",\"plot_bgcolor\":\"#F5F6F9\",\"template\":{\"data\":{\"barpolar\":[{\"marker\":{\"line\":{\"color\":\"#E5ECF6\",\"width\":0.5},\"pattern\":{\"fillmode\":\"overlay\",\"size\":10,\"solidity\":0.2}},\"type\":\"barpolar\"}],\"bar\":[{\"error_x\":{\"color\":\"#2a3f5f\"},\"error_y\":{\"color\":\"#2a3f5f\"},\"marker\":{\"line\":{\"color\":\"#E5ECF6\",\"width\":0.5},\"pattern\":{\"fillmode\":\"overlay\",\"size\":10,\"solidity\":0.2}},\"type\":\"bar\"}],\"carpet\":[{\"aaxis\":{\"endlinecolor\":\"#2a3f5f\",\"gridcolor\":\"white\",\"linecolor\":\"white\",\"minorgridcolor\":\"white\",\"startlinecolor\":\"#2a3f5f\"},\"baxis\":{\"endlinecolor\":\"#2a3f5f\",\"gridcolor\":\"white\",\"linecolor\":\"white\",\"minorgridcolor\":\"white\",\"startlinecolor\":\"#2a3f5f\"},\"type\":\"carpet\"}],\"choropleth\":[{\"colorbar\":{\"outlinewidth\":0,\"ticks\":\"\"},\"type\":\"choropleth\"}],\"contourcarpet\":[{\"colorbar\":{\"outlinewidth\":0,\"ticks\":\"\"},\"type\":\"contourcarpet\"}],\"contour\":[{\"colorbar\":{\"outlinewidth\":0,\"ticks\":\"\"},\"colorscale\":[[0.0,\"#0d0887\"],[0.1111111111111111,\"#46039f\"],[0.2222222222222222,\"#7201a8\"],[0.3333333333333333,\"#9c179e\"],[0.4444444444444444,\"#bd3786\"],[0.5555555555555556,\"#d8576b\"],[0.6666666666666666,\"#ed7953\"],[0.7777777777777778,\"#fb9f3a\"],[0.8888888888888888,\"#fdca26\"],[1.0,\"#f0f921\"]],\"type\":\"contour\"}],\"heatmapgl\":[{\"colorbar\":{\"outlinewidth\":0,\"ticks\":\"\"},\"colorscale\":[[0.0,\"#0d0887\"],[0.1111111111111111,\"#46039f\"],[0.2222222222222222,\"#7201a8\"],[0.3333333333333333,\"#9c179e\"],[0.4444444444444444,\"#bd3786\"],[0.5555555555555556,\"#d8576b\"],[0.6666666666666666,\"#ed7953\"],[0.7777777777777778,\"#fb9f3a\"],[0.8888888888888888,\"#fdca26\"],[1.0,\"#f0f921\"]],\"type\":\"heatmapgl\"}],\"heatmap\":[{\"colorbar\":{\"outlinewidth\":0,\"ticks\":\"\"},\"colorscale\":[[0.0,\"#0d0887\"],[0.1111111111111111,\"#46039f\"],[0.2222222222222222,\"#7201a8\"],[0.3333333333333333,\"#9c179e\"],[0.4444444444444444,\"#bd3786\"],[0.5555555555555556,\"#d8576b\"],[0.6666666666666666,\"#ed7953\"],[0.7777777777777778,\"#fb9f3a\"],[0.8888888888888888,\"#fdca26\"],[1.0,\"#f0f921\"]],\"type\":\"heatmap\"}],\"histogram2dcontour\":[{\"colorbar\":{\"outlinewidth\":0,\"ticks\":\"\"},\"colorscale\":[[0.0,\"#0d0887\"],[0.1111111111111111,\"#46039f\"],[0.2222222222222222,\"#7201a8\"],[0.3333333333333333,\"#9c179e\"],[0.4444444444444444,\"#bd3786\"],[0.5555555555555556,\"#d8576b\"],[0.6666666666666666,\"#ed7953\"],[0.7777777777777778,\"#fb9f3a\"],[0.8888888888888888,\"#fdca26\"],[1.0,\"#f0f921\"]],\"type\":\"histogram2dcontour\"}],\"histogram2d\":[{\"colorbar\":{\"outlinewidth\":0,\"ticks\":\"\"},\"colorscale\":[[0.0,\"#0d0887\"],[0.1111111111111111,\"#46039f\"],[0.2222222222222222,\"#7201a8\"],[0.3333333333333333,\"#9c179e\"],[0.4444444444444444,\"#bd3786\"],[0.5555555555555556,\"#d8576b\"],[0.6666666666666666,\"#ed7953\"],[0.7777777777777778,\"#fb9f3a\"],[0.8888888888888888,\"#fdca26\"],[1.0,\"#f0f921\"]],\"type\":\"histogram2d\"}],\"histogram\":[{\"marker\":{\"pattern\":{\"fillmode\":\"overlay\",\"size\":10,\"solidity\":0.2}},\"type\":\"histogram\"}],\"mesh3d\":[{\"colorbar\":{\"outlinewidth\":0,\"ticks\":\"\"},\"type\":\"mesh3d\"}],\"parcoords\":[{\"line\":{\"colorbar\":{\"outlinewidth\":0,\"ticks\":\"\"}},\"type\":\"parcoords\"}],\"pie\":[{\"automargin\":true,\"type\":\"pie\"}],\"scatter3d\":[{\"line\":{\"colorbar\":{\"outlinewidth\":0,\"ticks\":\"\"}},\"marker\":{\"colorbar\":{\"outlinewidth\":0,\"ticks\":\"\"}},\"type\":\"scatter3d\"}],\"scattercarpet\":[{\"marker\":{\"colorbar\":{\"outlinewidth\":0,\"ticks\":\"\"}},\"type\":\"scattercarpet\"}],\"scattergeo\":[{\"marker\":{\"colorbar\":{\"outlinewidth\":0,\"ticks\":\"\"}},\"type\":\"scattergeo\"}],\"scattergl\":[{\"marker\":{\"colorbar\":{\"outlinewidth\":0,\"ticks\":\"\"}},\"type\":\"scattergl\"}],\"scattermapbox\":[{\"marker\":{\"colorbar\":{\"outlinewidth\":0,\"ticks\":\"\"}},\"type\":\"scattermapbox\"}],\"scatterpolargl\":[{\"marker\":{\"colorbar\":{\"outlinewidth\":0,\"ticks\":\"\"}},\"type\":\"scatterpolargl\"}],\"scatterpolar\":[{\"marker\":{\"colorbar\":{\"outlinewidth\":0,\"ticks\":\"\"}},\"type\":\"scatterpolar\"}],\"scatter\":[{\"marker\":{\"colorbar\":{\"outlinewidth\":0,\"ticks\":\"\"}},\"type\":\"scatter\"}],\"scatterternary\":[{\"marker\":{\"colorbar\":{\"outlinewidth\":0,\"ticks\":\"\"}},\"type\":\"scatterternary\"}],\"surface\":[{\"colorbar\":{\"outlinewidth\":0,\"ticks\":\"\"},\"colorscale\":[[0.0,\"#0d0887\"],[0.1111111111111111,\"#46039f\"],[0.2222222222222222,\"#7201a8\"],[0.3333333333333333,\"#9c179e\"],[0.4444444444444444,\"#bd3786\"],[0.5555555555555556,\"#d8576b\"],[0.6666666666666666,\"#ed7953\"],[0.7777777777777778,\"#fb9f3a\"],[0.8888888888888888,\"#fdca26\"],[1.0,\"#f0f921\"]],\"type\":\"surface\"}],\"table\":[{\"cells\":{\"fill\":{\"color\":\"#EBF0F8\"},\"line\":{\"color\":\"white\"}},\"header\":{\"fill\":{\"color\":\"#C8D4E3\"},\"line\":{\"color\":\"white\"}},\"type\":\"table\"}]},\"layout\":{\"annotationdefaults\":{\"arrowcolor\":\"#2a3f5f\",\"arrowhead\":0,\"arrowwidth\":1},\"autotypenumbers\":\"strict\",\"coloraxis\":{\"colorbar\":{\"outlinewidth\":0,\"ticks\":\"\"}},\"colorscale\":{\"diverging\":[[0,\"#8e0152\"],[0.1,\"#c51b7d\"],[0.2,\"#de77ae\"],[0.3,\"#f1b6da\"],[0.4,\"#fde0ef\"],[0.5,\"#f7f7f7\"],[0.6,\"#e6f5d0\"],[0.7,\"#b8e186\"],[0.8,\"#7fbc41\"],[0.9,\"#4d9221\"],[1,\"#276419\"]],\"sequential\":[[0.0,\"#0d0887\"],[0.1111111111111111,\"#46039f\"],[0.2222222222222222,\"#7201a8\"],[0.3333333333333333,\"#9c179e\"],[0.4444444444444444,\"#bd3786\"],[0.5555555555555556,\"#d8576b\"],[0.6666666666666666,\"#ed7953\"],[0.7777777777777778,\"#fb9f3a\"],[0.8888888888888888,\"#fdca26\"],[1.0,\"#f0f921\"]],\"sequentialminus\":[[0.0,\"#0d0887\"],[0.1111111111111111,\"#46039f\"],[0.2222222222222222,\"#7201a8\"],[0.3333333333333333,\"#9c179e\"],[0.4444444444444444,\"#bd3786\"],[0.5555555555555556,\"#d8576b\"],[0.6666666666666666,\"#ed7953\"],[0.7777777777777778,\"#fb9f3a\"],[0.8888888888888888,\"#fdca26\"],[1.0,\"#f0f921\"]]},\"colorway\":[\"#636efa\",\"#EF553B\",\"#00cc96\",\"#ab63fa\",\"#FFA15A\",\"#19d3f3\",\"#FF6692\",\"#B6E880\",\"#FF97FF\",\"#FECB52\"],\"font\":{\"color\":\"#2a3f5f\"},\"geo\":{\"bgcolor\":\"white\",\"lakecolor\":\"white\",\"landcolor\":\"#E5ECF6\",\"showlakes\":true,\"showland\":true,\"subunitcolor\":\"white\"},\"hoverlabel\":{\"align\":\"left\"},\"hovermode\":\"closest\",\"mapbox\":{\"style\":\"light\"},\"paper_bgcolor\":\"white\",\"plot_bgcolor\":\"#E5ECF6\",\"polar\":{\"angularaxis\":{\"gridcolor\":\"white\",\"linecolor\":\"white\",\"ticks\":\"\"},\"bgcolor\":\"#E5ECF6\",\"radialaxis\":{\"gridcolor\":\"white\",\"linecolor\":\"white\",\"ticks\":\"\"}},\"scene\":{\"xaxis\":{\"backgroundcolor\":\"#E5ECF6\",\"gridcolor\":\"white\",\"gridwidth\":2,\"linecolor\":\"white\",\"showbackground\":true,\"ticks\":\"\",\"zerolinecolor\":\"white\"},\"yaxis\":{\"backgroundcolor\":\"#E5ECF6\",\"gridcolor\":\"white\",\"gridwidth\":2,\"linecolor\":\"white\",\"showbackground\":true,\"ticks\":\"\",\"zerolinecolor\":\"white\"},\"zaxis\":{\"backgroundcolor\":\"#E5ECF6\",\"gridcolor\":\"white\",\"gridwidth\":2,\"linecolor\":\"white\",\"showbackground\":true,\"ticks\":\"\",\"zerolinecolor\":\"white\"}},\"shapedefaults\":{\"line\":{\"color\":\"#2a3f5f\"}},\"ternary\":{\"aaxis\":{\"gridcolor\":\"white\",\"linecolor\":\"white\",\"ticks\":\"\"},\"baxis\":{\"gridcolor\":\"white\",\"linecolor\":\"white\",\"ticks\":\"\"},\"bgcolor\":\"#E5ECF6\",\"caxis\":{\"gridcolor\":\"white\",\"linecolor\":\"white\",\"ticks\":\"\"}},\"title\":{\"x\":0.05},\"xaxis\":{\"automargin\":true,\"gridcolor\":\"white\",\"linecolor\":\"white\",\"ticks\":\"\",\"title\":{\"standoff\":15},\"zerolinecolor\":\"white\",\"zerolinewidth\":2},\"yaxis\":{\"automargin\":true,\"gridcolor\":\"white\",\"linecolor\":\"white\",\"ticks\":\"\",\"title\":{\"standoff\":15},\"zerolinecolor\":\"white\",\"zerolinewidth\":2}}},\"title\":{\"font\":{\"color\":\"#4D5663\"}},\"xaxis\":{\"gridcolor\":\"#E1E5ED\",\"showgrid\":true,\"tickfont\":{\"color\":\"#4D5663\"},\"title\":{\"font\":{\"color\":\"#4D5663\"},\"text\":\"\"},\"zerolinecolor\":\"#E1E5ED\"},\"yaxis\":{\"gridcolor\":\"#E1E5ED\",\"showgrid\":true,\"tickfont\":{\"color\":\"#4D5663\"},\"title\":{\"font\":{\"color\":\"#4D5663\"},\"text\":\"\"},\"zerolinecolor\":\"#E1E5ED\"}},                        {\"showLink\": true, \"linkText\": \"Export to plot.ly\", \"plotlyServerURL\": \"https://plot.ly\", \"responsive\": true}                    ).then(function(){\n",
       "                            \n",
       "var gd = document.getElementById('e8fecb94-d932-4fd6-bade-b5c302acd1f8');\n",
       "var x = new MutationObserver(function (mutations, observer) {{\n",
       "        var display = window.getComputedStyle(gd).display;\n",
       "        if (!display || display === 'none') {{\n",
       "            console.log([gd, 'removed!']);\n",
       "            Plotly.purge(gd);\n",
       "            observer.disconnect();\n",
       "        }}\n",
       "}});\n",
       "\n",
       "// Listen for the removal of the full notebook cells\n",
       "var notebookContainer = gd.closest('#notebook-container');\n",
       "if (notebookContainer) {{\n",
       "    x.observe(notebookContainer, {childList: true});\n",
       "}}\n",
       "\n",
       "// Listen for the clearing of the current output cell\n",
       "var outputEl = gd.closest('.output');\n",
       "if (outputEl) {{\n",
       "    x.observe(outputEl, {childList: true});\n",
       "}}\n",
       "\n",
       "                        })                };                });            </script>        </div>"
      ]
     },
     "metadata": {},
     "output_type": "display_data"
    }
   ],
   "source": [
    "df1.count().iplot(kind=\"bar\")"
   ]
  },
  {
   "cell_type": "code",
   "execution_count": 22,
   "id": "deb80986",
   "metadata": {},
   "outputs": [
    {
     "data": {
      "application/vnd.plotly.v1+json": {
       "config": {
        "linkText": "Export to plot.ly",
        "plotlyServerURL": "https://plot.ly",
        "showLink": true
       },
       "data": [
        {
         "marker": {
          "color": "rgba(255, 153, 51, 0.6)",
          "line": {
           "color": "rgba(255, 153, 51, 1.0)",
           "width": 1
          }
         },
         "name": "None",
         "orientation": "v",
         "text": "",
         "type": "bar",
         "x": [
          "A",
          "B",
          "C",
          "D"
         ],
         "y": [
          -17.19949879582655,
          2.3999527853507168,
          -5.451560995743656,
          2.8145281769677584
         ]
        }
       ],
       "layout": {
        "legend": {
         "bgcolor": "#F5F6F9",
         "font": {
          "color": "#4D5663"
         }
        },
        "paper_bgcolor": "#F5F6F9",
        "plot_bgcolor": "#F5F6F9",
        "template": {
         "data": {
          "bar": [
           {
            "error_x": {
             "color": "#2a3f5f"
            },
            "error_y": {
             "color": "#2a3f5f"
            },
            "marker": {
             "line": {
              "color": "#E5ECF6",
              "width": 0.5
             },
             "pattern": {
              "fillmode": "overlay",
              "size": 10,
              "solidity": 0.2
             }
            },
            "type": "bar"
           }
          ],
          "barpolar": [
           {
            "marker": {
             "line": {
              "color": "#E5ECF6",
              "width": 0.5
             },
             "pattern": {
              "fillmode": "overlay",
              "size": 10,
              "solidity": 0.2
             }
            },
            "type": "barpolar"
           }
          ],
          "carpet": [
           {
            "aaxis": {
             "endlinecolor": "#2a3f5f",
             "gridcolor": "white",
             "linecolor": "white",
             "minorgridcolor": "white",
             "startlinecolor": "#2a3f5f"
            },
            "baxis": {
             "endlinecolor": "#2a3f5f",
             "gridcolor": "white",
             "linecolor": "white",
             "minorgridcolor": "white",
             "startlinecolor": "#2a3f5f"
            },
            "type": "carpet"
           }
          ],
          "choropleth": [
           {
            "colorbar": {
             "outlinewidth": 0,
             "ticks": ""
            },
            "type": "choropleth"
           }
          ],
          "contour": [
           {
            "colorbar": {
             "outlinewidth": 0,
             "ticks": ""
            },
            "colorscale": [
             [
              0,
              "#0d0887"
             ],
             [
              0.1111111111111111,
              "#46039f"
             ],
             [
              0.2222222222222222,
              "#7201a8"
             ],
             [
              0.3333333333333333,
              "#9c179e"
             ],
             [
              0.4444444444444444,
              "#bd3786"
             ],
             [
              0.5555555555555556,
              "#d8576b"
             ],
             [
              0.6666666666666666,
              "#ed7953"
             ],
             [
              0.7777777777777778,
              "#fb9f3a"
             ],
             [
              0.8888888888888888,
              "#fdca26"
             ],
             [
              1,
              "#f0f921"
             ]
            ],
            "type": "contour"
           }
          ],
          "contourcarpet": [
           {
            "colorbar": {
             "outlinewidth": 0,
             "ticks": ""
            },
            "type": "contourcarpet"
           }
          ],
          "heatmap": [
           {
            "colorbar": {
             "outlinewidth": 0,
             "ticks": ""
            },
            "colorscale": [
             [
              0,
              "#0d0887"
             ],
             [
              0.1111111111111111,
              "#46039f"
             ],
             [
              0.2222222222222222,
              "#7201a8"
             ],
             [
              0.3333333333333333,
              "#9c179e"
             ],
             [
              0.4444444444444444,
              "#bd3786"
             ],
             [
              0.5555555555555556,
              "#d8576b"
             ],
             [
              0.6666666666666666,
              "#ed7953"
             ],
             [
              0.7777777777777778,
              "#fb9f3a"
             ],
             [
              0.8888888888888888,
              "#fdca26"
             ],
             [
              1,
              "#f0f921"
             ]
            ],
            "type": "heatmap"
           }
          ],
          "heatmapgl": [
           {
            "colorbar": {
             "outlinewidth": 0,
             "ticks": ""
            },
            "colorscale": [
             [
              0,
              "#0d0887"
             ],
             [
              0.1111111111111111,
              "#46039f"
             ],
             [
              0.2222222222222222,
              "#7201a8"
             ],
             [
              0.3333333333333333,
              "#9c179e"
             ],
             [
              0.4444444444444444,
              "#bd3786"
             ],
             [
              0.5555555555555556,
              "#d8576b"
             ],
             [
              0.6666666666666666,
              "#ed7953"
             ],
             [
              0.7777777777777778,
              "#fb9f3a"
             ],
             [
              0.8888888888888888,
              "#fdca26"
             ],
             [
              1,
              "#f0f921"
             ]
            ],
            "type": "heatmapgl"
           }
          ],
          "histogram": [
           {
            "marker": {
             "pattern": {
              "fillmode": "overlay",
              "size": 10,
              "solidity": 0.2
             }
            },
            "type": "histogram"
           }
          ],
          "histogram2d": [
           {
            "colorbar": {
             "outlinewidth": 0,
             "ticks": ""
            },
            "colorscale": [
             [
              0,
              "#0d0887"
             ],
             [
              0.1111111111111111,
              "#46039f"
             ],
             [
              0.2222222222222222,
              "#7201a8"
             ],
             [
              0.3333333333333333,
              "#9c179e"
             ],
             [
              0.4444444444444444,
              "#bd3786"
             ],
             [
              0.5555555555555556,
              "#d8576b"
             ],
             [
              0.6666666666666666,
              "#ed7953"
             ],
             [
              0.7777777777777778,
              "#fb9f3a"
             ],
             [
              0.8888888888888888,
              "#fdca26"
             ],
             [
              1,
              "#f0f921"
             ]
            ],
            "type": "histogram2d"
           }
          ],
          "histogram2dcontour": [
           {
            "colorbar": {
             "outlinewidth": 0,
             "ticks": ""
            },
            "colorscale": [
             [
              0,
              "#0d0887"
             ],
             [
              0.1111111111111111,
              "#46039f"
             ],
             [
              0.2222222222222222,
              "#7201a8"
             ],
             [
              0.3333333333333333,
              "#9c179e"
             ],
             [
              0.4444444444444444,
              "#bd3786"
             ],
             [
              0.5555555555555556,
              "#d8576b"
             ],
             [
              0.6666666666666666,
              "#ed7953"
             ],
             [
              0.7777777777777778,
              "#fb9f3a"
             ],
             [
              0.8888888888888888,
              "#fdca26"
             ],
             [
              1,
              "#f0f921"
             ]
            ],
            "type": "histogram2dcontour"
           }
          ],
          "mesh3d": [
           {
            "colorbar": {
             "outlinewidth": 0,
             "ticks": ""
            },
            "type": "mesh3d"
           }
          ],
          "parcoords": [
           {
            "line": {
             "colorbar": {
              "outlinewidth": 0,
              "ticks": ""
             }
            },
            "type": "parcoords"
           }
          ],
          "pie": [
           {
            "automargin": true,
            "type": "pie"
           }
          ],
          "scatter": [
           {
            "marker": {
             "colorbar": {
              "outlinewidth": 0,
              "ticks": ""
             }
            },
            "type": "scatter"
           }
          ],
          "scatter3d": [
           {
            "line": {
             "colorbar": {
              "outlinewidth": 0,
              "ticks": ""
             }
            },
            "marker": {
             "colorbar": {
              "outlinewidth": 0,
              "ticks": ""
             }
            },
            "type": "scatter3d"
           }
          ],
          "scattercarpet": [
           {
            "marker": {
             "colorbar": {
              "outlinewidth": 0,
              "ticks": ""
             }
            },
            "type": "scattercarpet"
           }
          ],
          "scattergeo": [
           {
            "marker": {
             "colorbar": {
              "outlinewidth": 0,
              "ticks": ""
             }
            },
            "type": "scattergeo"
           }
          ],
          "scattergl": [
           {
            "marker": {
             "colorbar": {
              "outlinewidth": 0,
              "ticks": ""
             }
            },
            "type": "scattergl"
           }
          ],
          "scattermapbox": [
           {
            "marker": {
             "colorbar": {
              "outlinewidth": 0,
              "ticks": ""
             }
            },
            "type": "scattermapbox"
           }
          ],
          "scatterpolar": [
           {
            "marker": {
             "colorbar": {
              "outlinewidth": 0,
              "ticks": ""
             }
            },
            "type": "scatterpolar"
           }
          ],
          "scatterpolargl": [
           {
            "marker": {
             "colorbar": {
              "outlinewidth": 0,
              "ticks": ""
             }
            },
            "type": "scatterpolargl"
           }
          ],
          "scatterternary": [
           {
            "marker": {
             "colorbar": {
              "outlinewidth": 0,
              "ticks": ""
             }
            },
            "type": "scatterternary"
           }
          ],
          "surface": [
           {
            "colorbar": {
             "outlinewidth": 0,
             "ticks": ""
            },
            "colorscale": [
             [
              0,
              "#0d0887"
             ],
             [
              0.1111111111111111,
              "#46039f"
             ],
             [
              0.2222222222222222,
              "#7201a8"
             ],
             [
              0.3333333333333333,
              "#9c179e"
             ],
             [
              0.4444444444444444,
              "#bd3786"
             ],
             [
              0.5555555555555556,
              "#d8576b"
             ],
             [
              0.6666666666666666,
              "#ed7953"
             ],
             [
              0.7777777777777778,
              "#fb9f3a"
             ],
             [
              0.8888888888888888,
              "#fdca26"
             ],
             [
              1,
              "#f0f921"
             ]
            ],
            "type": "surface"
           }
          ],
          "table": [
           {
            "cells": {
             "fill": {
              "color": "#EBF0F8"
             },
             "line": {
              "color": "white"
             }
            },
            "header": {
             "fill": {
              "color": "#C8D4E3"
             },
             "line": {
              "color": "white"
             }
            },
            "type": "table"
           }
          ]
         },
         "layout": {
          "annotationdefaults": {
           "arrowcolor": "#2a3f5f",
           "arrowhead": 0,
           "arrowwidth": 1
          },
          "autotypenumbers": "strict",
          "coloraxis": {
           "colorbar": {
            "outlinewidth": 0,
            "ticks": ""
           }
          },
          "colorscale": {
           "diverging": [
            [
             0,
             "#8e0152"
            ],
            [
             0.1,
             "#c51b7d"
            ],
            [
             0.2,
             "#de77ae"
            ],
            [
             0.3,
             "#f1b6da"
            ],
            [
             0.4,
             "#fde0ef"
            ],
            [
             0.5,
             "#f7f7f7"
            ],
            [
             0.6,
             "#e6f5d0"
            ],
            [
             0.7,
             "#b8e186"
            ],
            [
             0.8,
             "#7fbc41"
            ],
            [
             0.9,
             "#4d9221"
            ],
            [
             1,
             "#276419"
            ]
           ],
           "sequential": [
            [
             0,
             "#0d0887"
            ],
            [
             0.1111111111111111,
             "#46039f"
            ],
            [
             0.2222222222222222,
             "#7201a8"
            ],
            [
             0.3333333333333333,
             "#9c179e"
            ],
            [
             0.4444444444444444,
             "#bd3786"
            ],
            [
             0.5555555555555556,
             "#d8576b"
            ],
            [
             0.6666666666666666,
             "#ed7953"
            ],
            [
             0.7777777777777778,
             "#fb9f3a"
            ],
            [
             0.8888888888888888,
             "#fdca26"
            ],
            [
             1,
             "#f0f921"
            ]
           ],
           "sequentialminus": [
            [
             0,
             "#0d0887"
            ],
            [
             0.1111111111111111,
             "#46039f"
            ],
            [
             0.2222222222222222,
             "#7201a8"
            ],
            [
             0.3333333333333333,
             "#9c179e"
            ],
            [
             0.4444444444444444,
             "#bd3786"
            ],
            [
             0.5555555555555556,
             "#d8576b"
            ],
            [
             0.6666666666666666,
             "#ed7953"
            ],
            [
             0.7777777777777778,
             "#fb9f3a"
            ],
            [
             0.8888888888888888,
             "#fdca26"
            ],
            [
             1,
             "#f0f921"
            ]
           ]
          },
          "colorway": [
           "#636efa",
           "#EF553B",
           "#00cc96",
           "#ab63fa",
           "#FFA15A",
           "#19d3f3",
           "#FF6692",
           "#B6E880",
           "#FF97FF",
           "#FECB52"
          ],
          "font": {
           "color": "#2a3f5f"
          },
          "geo": {
           "bgcolor": "white",
           "lakecolor": "white",
           "landcolor": "#E5ECF6",
           "showlakes": true,
           "showland": true,
           "subunitcolor": "white"
          },
          "hoverlabel": {
           "align": "left"
          },
          "hovermode": "closest",
          "mapbox": {
           "style": "light"
          },
          "paper_bgcolor": "white",
          "plot_bgcolor": "#E5ECF6",
          "polar": {
           "angularaxis": {
            "gridcolor": "white",
            "linecolor": "white",
            "ticks": ""
           },
           "bgcolor": "#E5ECF6",
           "radialaxis": {
            "gridcolor": "white",
            "linecolor": "white",
            "ticks": ""
           }
          },
          "scene": {
           "xaxis": {
            "backgroundcolor": "#E5ECF6",
            "gridcolor": "white",
            "gridwidth": 2,
            "linecolor": "white",
            "showbackground": true,
            "ticks": "",
            "zerolinecolor": "white"
           },
           "yaxis": {
            "backgroundcolor": "#E5ECF6",
            "gridcolor": "white",
            "gridwidth": 2,
            "linecolor": "white",
            "showbackground": true,
            "ticks": "",
            "zerolinecolor": "white"
           },
           "zaxis": {
            "backgroundcolor": "#E5ECF6",
            "gridcolor": "white",
            "gridwidth": 2,
            "linecolor": "white",
            "showbackground": true,
            "ticks": "",
            "zerolinecolor": "white"
           }
          },
          "shapedefaults": {
           "line": {
            "color": "#2a3f5f"
           }
          },
          "ternary": {
           "aaxis": {
            "gridcolor": "white",
            "linecolor": "white",
            "ticks": ""
           },
           "baxis": {
            "gridcolor": "white",
            "linecolor": "white",
            "ticks": ""
           },
           "bgcolor": "#E5ECF6",
           "caxis": {
            "gridcolor": "white",
            "linecolor": "white",
            "ticks": ""
           }
          },
          "title": {
           "x": 0.05
          },
          "xaxis": {
           "automargin": true,
           "gridcolor": "white",
           "linecolor": "white",
           "ticks": "",
           "title": {
            "standoff": 15
           },
           "zerolinecolor": "white",
           "zerolinewidth": 2
          },
          "yaxis": {
           "automargin": true,
           "gridcolor": "white",
           "linecolor": "white",
           "ticks": "",
           "title": {
            "standoff": 15
           },
           "zerolinecolor": "white",
           "zerolinewidth": 2
          }
         }
        },
        "title": {
         "font": {
          "color": "#4D5663"
         }
        },
        "xaxis": {
         "gridcolor": "#E1E5ED",
         "showgrid": true,
         "tickfont": {
          "color": "#4D5663"
         },
         "title": {
          "font": {
           "color": "#4D5663"
          },
          "text": ""
         },
         "zerolinecolor": "#E1E5ED"
        },
        "yaxis": {
         "gridcolor": "#E1E5ED",
         "showgrid": true,
         "tickfont": {
          "color": "#4D5663"
         },
         "title": {
          "font": {
           "color": "#4D5663"
          },
          "text": ""
         },
         "zerolinecolor": "#E1E5ED"
        }
       }
      },
      "text/html": [
       "<div>                            <div id=\"2e36a556-26ee-47ab-965d-e09038739461\" class=\"plotly-graph-div\" style=\"height:525px; width:100%;\"></div>            <script type=\"text/javascript\">                require([\"plotly\"], function(Plotly) {                    window.PLOTLYENV=window.PLOTLYENV || {};\n",
       "                    window.PLOTLYENV.BASE_URL='https://plot.ly';                                    if (document.getElementById(\"2e36a556-26ee-47ab-965d-e09038739461\")) {                    Plotly.newPlot(                        \"2e36a556-26ee-47ab-965d-e09038739461\",                        [{\"marker\":{\"color\":\"rgba(255, 153, 51, 0.6)\",\"line\":{\"color\":\"rgba(255, 153, 51, 1.0)\",\"width\":1}},\"name\":\"None\",\"orientation\":\"v\",\"text\":\"\",\"x\":[\"A\",\"B\",\"C\",\"D\"],\"y\":[-17.19949879582655,2.3999527853507168,-5.451560995743656,2.8145281769677584],\"type\":\"bar\"}],                        {\"legend\":{\"bgcolor\":\"#F5F6F9\",\"font\":{\"color\":\"#4D5663\"}},\"paper_bgcolor\":\"#F5F6F9\",\"plot_bgcolor\":\"#F5F6F9\",\"template\":{\"data\":{\"barpolar\":[{\"marker\":{\"line\":{\"color\":\"#E5ECF6\",\"width\":0.5},\"pattern\":{\"fillmode\":\"overlay\",\"size\":10,\"solidity\":0.2}},\"type\":\"barpolar\"}],\"bar\":[{\"error_x\":{\"color\":\"#2a3f5f\"},\"error_y\":{\"color\":\"#2a3f5f\"},\"marker\":{\"line\":{\"color\":\"#E5ECF6\",\"width\":0.5},\"pattern\":{\"fillmode\":\"overlay\",\"size\":10,\"solidity\":0.2}},\"type\":\"bar\"}],\"carpet\":[{\"aaxis\":{\"endlinecolor\":\"#2a3f5f\",\"gridcolor\":\"white\",\"linecolor\":\"white\",\"minorgridcolor\":\"white\",\"startlinecolor\":\"#2a3f5f\"},\"baxis\":{\"endlinecolor\":\"#2a3f5f\",\"gridcolor\":\"white\",\"linecolor\":\"white\",\"minorgridcolor\":\"white\",\"startlinecolor\":\"#2a3f5f\"},\"type\":\"carpet\"}],\"choropleth\":[{\"colorbar\":{\"outlinewidth\":0,\"ticks\":\"\"},\"type\":\"choropleth\"}],\"contourcarpet\":[{\"colorbar\":{\"outlinewidth\":0,\"ticks\":\"\"},\"type\":\"contourcarpet\"}],\"contour\":[{\"colorbar\":{\"outlinewidth\":0,\"ticks\":\"\"},\"colorscale\":[[0.0,\"#0d0887\"],[0.1111111111111111,\"#46039f\"],[0.2222222222222222,\"#7201a8\"],[0.3333333333333333,\"#9c179e\"],[0.4444444444444444,\"#bd3786\"],[0.5555555555555556,\"#d8576b\"],[0.6666666666666666,\"#ed7953\"],[0.7777777777777778,\"#fb9f3a\"],[0.8888888888888888,\"#fdca26\"],[1.0,\"#f0f921\"]],\"type\":\"contour\"}],\"heatmapgl\":[{\"colorbar\":{\"outlinewidth\":0,\"ticks\":\"\"},\"colorscale\":[[0.0,\"#0d0887\"],[0.1111111111111111,\"#46039f\"],[0.2222222222222222,\"#7201a8\"],[0.3333333333333333,\"#9c179e\"],[0.4444444444444444,\"#bd3786\"],[0.5555555555555556,\"#d8576b\"],[0.6666666666666666,\"#ed7953\"],[0.7777777777777778,\"#fb9f3a\"],[0.8888888888888888,\"#fdca26\"],[1.0,\"#f0f921\"]],\"type\":\"heatmapgl\"}],\"heatmap\":[{\"colorbar\":{\"outlinewidth\":0,\"ticks\":\"\"},\"colorscale\":[[0.0,\"#0d0887\"],[0.1111111111111111,\"#46039f\"],[0.2222222222222222,\"#7201a8\"],[0.3333333333333333,\"#9c179e\"],[0.4444444444444444,\"#bd3786\"],[0.5555555555555556,\"#d8576b\"],[0.6666666666666666,\"#ed7953\"],[0.7777777777777778,\"#fb9f3a\"],[0.8888888888888888,\"#fdca26\"],[1.0,\"#f0f921\"]],\"type\":\"heatmap\"}],\"histogram2dcontour\":[{\"colorbar\":{\"outlinewidth\":0,\"ticks\":\"\"},\"colorscale\":[[0.0,\"#0d0887\"],[0.1111111111111111,\"#46039f\"],[0.2222222222222222,\"#7201a8\"],[0.3333333333333333,\"#9c179e\"],[0.4444444444444444,\"#bd3786\"],[0.5555555555555556,\"#d8576b\"],[0.6666666666666666,\"#ed7953\"],[0.7777777777777778,\"#fb9f3a\"],[0.8888888888888888,\"#fdca26\"],[1.0,\"#f0f921\"]],\"type\":\"histogram2dcontour\"}],\"histogram2d\":[{\"colorbar\":{\"outlinewidth\":0,\"ticks\":\"\"},\"colorscale\":[[0.0,\"#0d0887\"],[0.1111111111111111,\"#46039f\"],[0.2222222222222222,\"#7201a8\"],[0.3333333333333333,\"#9c179e\"],[0.4444444444444444,\"#bd3786\"],[0.5555555555555556,\"#d8576b\"],[0.6666666666666666,\"#ed7953\"],[0.7777777777777778,\"#fb9f3a\"],[0.8888888888888888,\"#fdca26\"],[1.0,\"#f0f921\"]],\"type\":\"histogram2d\"}],\"histogram\":[{\"marker\":{\"pattern\":{\"fillmode\":\"overlay\",\"size\":10,\"solidity\":0.2}},\"type\":\"histogram\"}],\"mesh3d\":[{\"colorbar\":{\"outlinewidth\":0,\"ticks\":\"\"},\"type\":\"mesh3d\"}],\"parcoords\":[{\"line\":{\"colorbar\":{\"outlinewidth\":0,\"ticks\":\"\"}},\"type\":\"parcoords\"}],\"pie\":[{\"automargin\":true,\"type\":\"pie\"}],\"scatter3d\":[{\"line\":{\"colorbar\":{\"outlinewidth\":0,\"ticks\":\"\"}},\"marker\":{\"colorbar\":{\"outlinewidth\":0,\"ticks\":\"\"}},\"type\":\"scatter3d\"}],\"scattercarpet\":[{\"marker\":{\"colorbar\":{\"outlinewidth\":0,\"ticks\":\"\"}},\"type\":\"scattercarpet\"}],\"scattergeo\":[{\"marker\":{\"colorbar\":{\"outlinewidth\":0,\"ticks\":\"\"}},\"type\":\"scattergeo\"}],\"scattergl\":[{\"marker\":{\"colorbar\":{\"outlinewidth\":0,\"ticks\":\"\"}},\"type\":\"scattergl\"}],\"scattermapbox\":[{\"marker\":{\"colorbar\":{\"outlinewidth\":0,\"ticks\":\"\"}},\"type\":\"scattermapbox\"}],\"scatterpolargl\":[{\"marker\":{\"colorbar\":{\"outlinewidth\":0,\"ticks\":\"\"}},\"type\":\"scatterpolargl\"}],\"scatterpolar\":[{\"marker\":{\"colorbar\":{\"outlinewidth\":0,\"ticks\":\"\"}},\"type\":\"scatterpolar\"}],\"scatter\":[{\"marker\":{\"colorbar\":{\"outlinewidth\":0,\"ticks\":\"\"}},\"type\":\"scatter\"}],\"scatterternary\":[{\"marker\":{\"colorbar\":{\"outlinewidth\":0,\"ticks\":\"\"}},\"type\":\"scatterternary\"}],\"surface\":[{\"colorbar\":{\"outlinewidth\":0,\"ticks\":\"\"},\"colorscale\":[[0.0,\"#0d0887\"],[0.1111111111111111,\"#46039f\"],[0.2222222222222222,\"#7201a8\"],[0.3333333333333333,\"#9c179e\"],[0.4444444444444444,\"#bd3786\"],[0.5555555555555556,\"#d8576b\"],[0.6666666666666666,\"#ed7953\"],[0.7777777777777778,\"#fb9f3a\"],[0.8888888888888888,\"#fdca26\"],[1.0,\"#f0f921\"]],\"type\":\"surface\"}],\"table\":[{\"cells\":{\"fill\":{\"color\":\"#EBF0F8\"},\"line\":{\"color\":\"white\"}},\"header\":{\"fill\":{\"color\":\"#C8D4E3\"},\"line\":{\"color\":\"white\"}},\"type\":\"table\"}]},\"layout\":{\"annotationdefaults\":{\"arrowcolor\":\"#2a3f5f\",\"arrowhead\":0,\"arrowwidth\":1},\"autotypenumbers\":\"strict\",\"coloraxis\":{\"colorbar\":{\"outlinewidth\":0,\"ticks\":\"\"}},\"colorscale\":{\"diverging\":[[0,\"#8e0152\"],[0.1,\"#c51b7d\"],[0.2,\"#de77ae\"],[0.3,\"#f1b6da\"],[0.4,\"#fde0ef\"],[0.5,\"#f7f7f7\"],[0.6,\"#e6f5d0\"],[0.7,\"#b8e186\"],[0.8,\"#7fbc41\"],[0.9,\"#4d9221\"],[1,\"#276419\"]],\"sequential\":[[0.0,\"#0d0887\"],[0.1111111111111111,\"#46039f\"],[0.2222222222222222,\"#7201a8\"],[0.3333333333333333,\"#9c179e\"],[0.4444444444444444,\"#bd3786\"],[0.5555555555555556,\"#d8576b\"],[0.6666666666666666,\"#ed7953\"],[0.7777777777777778,\"#fb9f3a\"],[0.8888888888888888,\"#fdca26\"],[1.0,\"#f0f921\"]],\"sequentialminus\":[[0.0,\"#0d0887\"],[0.1111111111111111,\"#46039f\"],[0.2222222222222222,\"#7201a8\"],[0.3333333333333333,\"#9c179e\"],[0.4444444444444444,\"#bd3786\"],[0.5555555555555556,\"#d8576b\"],[0.6666666666666666,\"#ed7953\"],[0.7777777777777778,\"#fb9f3a\"],[0.8888888888888888,\"#fdca26\"],[1.0,\"#f0f921\"]]},\"colorway\":[\"#636efa\",\"#EF553B\",\"#00cc96\",\"#ab63fa\",\"#FFA15A\",\"#19d3f3\",\"#FF6692\",\"#B6E880\",\"#FF97FF\",\"#FECB52\"],\"font\":{\"color\":\"#2a3f5f\"},\"geo\":{\"bgcolor\":\"white\",\"lakecolor\":\"white\",\"landcolor\":\"#E5ECF6\",\"showlakes\":true,\"showland\":true,\"subunitcolor\":\"white\"},\"hoverlabel\":{\"align\":\"left\"},\"hovermode\":\"closest\",\"mapbox\":{\"style\":\"light\"},\"paper_bgcolor\":\"white\",\"plot_bgcolor\":\"#E5ECF6\",\"polar\":{\"angularaxis\":{\"gridcolor\":\"white\",\"linecolor\":\"white\",\"ticks\":\"\"},\"bgcolor\":\"#E5ECF6\",\"radialaxis\":{\"gridcolor\":\"white\",\"linecolor\":\"white\",\"ticks\":\"\"}},\"scene\":{\"xaxis\":{\"backgroundcolor\":\"#E5ECF6\",\"gridcolor\":\"white\",\"gridwidth\":2,\"linecolor\":\"white\",\"showbackground\":true,\"ticks\":\"\",\"zerolinecolor\":\"white\"},\"yaxis\":{\"backgroundcolor\":\"#E5ECF6\",\"gridcolor\":\"white\",\"gridwidth\":2,\"linecolor\":\"white\",\"showbackground\":true,\"ticks\":\"\",\"zerolinecolor\":\"white\"},\"zaxis\":{\"backgroundcolor\":\"#E5ECF6\",\"gridcolor\":\"white\",\"gridwidth\":2,\"linecolor\":\"white\",\"showbackground\":true,\"ticks\":\"\",\"zerolinecolor\":\"white\"}},\"shapedefaults\":{\"line\":{\"color\":\"#2a3f5f\"}},\"ternary\":{\"aaxis\":{\"gridcolor\":\"white\",\"linecolor\":\"white\",\"ticks\":\"\"},\"baxis\":{\"gridcolor\":\"white\",\"linecolor\":\"white\",\"ticks\":\"\"},\"bgcolor\":\"#E5ECF6\",\"caxis\":{\"gridcolor\":\"white\",\"linecolor\":\"white\",\"ticks\":\"\"}},\"title\":{\"x\":0.05},\"xaxis\":{\"automargin\":true,\"gridcolor\":\"white\",\"linecolor\":\"white\",\"ticks\":\"\",\"title\":{\"standoff\":15},\"zerolinecolor\":\"white\",\"zerolinewidth\":2},\"yaxis\":{\"automargin\":true,\"gridcolor\":\"white\",\"linecolor\":\"white\",\"ticks\":\"\",\"title\":{\"standoff\":15},\"zerolinecolor\":\"white\",\"zerolinewidth\":2}}},\"title\":{\"font\":{\"color\":\"#4D5663\"}},\"xaxis\":{\"gridcolor\":\"#E1E5ED\",\"showgrid\":true,\"tickfont\":{\"color\":\"#4D5663\"},\"title\":{\"font\":{\"color\":\"#4D5663\"},\"text\":\"\"},\"zerolinecolor\":\"#E1E5ED\"},\"yaxis\":{\"gridcolor\":\"#E1E5ED\",\"showgrid\":true,\"tickfont\":{\"color\":\"#4D5663\"},\"title\":{\"font\":{\"color\":\"#4D5663\"},\"text\":\"\"},\"zerolinecolor\":\"#E1E5ED\"}},                        {\"showLink\": true, \"linkText\": \"Export to plot.ly\", \"plotlyServerURL\": \"https://plot.ly\", \"responsive\": true}                    ).then(function(){\n",
       "                            \n",
       "var gd = document.getElementById('2e36a556-26ee-47ab-965d-e09038739461');\n",
       "var x = new MutationObserver(function (mutations, observer) {{\n",
       "        var display = window.getComputedStyle(gd).display;\n",
       "        if (!display || display === 'none') {{\n",
       "            console.log([gd, 'removed!']);\n",
       "            Plotly.purge(gd);\n",
       "            observer.disconnect();\n",
       "        }}\n",
       "}});\n",
       "\n",
       "// Listen for the removal of the full notebook cells\n",
       "var notebookContainer = gd.closest('#notebook-container');\n",
       "if (notebookContainer) {{\n",
       "    x.observe(notebookContainer, {childList: true});\n",
       "}}\n",
       "\n",
       "// Listen for the clearing of the current output cell\n",
       "var outputEl = gd.closest('.output');\n",
       "if (outputEl) {{\n",
       "    x.observe(outputEl, {childList: true});\n",
       "}}\n",
       "\n",
       "                        })                };                });            </script>        </div>"
      ]
     },
     "metadata": {},
     "output_type": "display_data"
    }
   ],
   "source": [
    " df1.sum().iplot(kind=\"bar\")"
   ]
  },
  {
   "cell_type": "code",
   "execution_count": 24,
   "id": "9bc20140",
   "metadata": {},
   "outputs": [
    {
     "data": {
      "application/vnd.plotly.v1+json": {
       "config": {
        "linkText": "Export to plot.ly",
        "plotlyServerURL": "https://plot.ly",
        "showLink": true
       },
       "data": [
        {
         "boxpoints": false,
         "line": {
          "width": 1.3
         },
         "marker": {
          "color": "rgba(255, 153, 51, 1.0)"
         },
         "name": "A",
         "orientation": "v",
         "type": "box",
         "y": [
          -1.309527744420406,
          -0.43461471341730906,
          -0.6595622762097307,
          -1.8087704558636009,
          -0.21507624397672268,
          -0.38856874633371274,
          0.39323640994019327,
          -1.5768836282447465,
          0.22178931809236666,
          -0.9431156572498557,
          -1.9102029239374554,
          -0.477769555673728,
          -1.089425538238347,
          -1.0357538495845635,
          1.2252166381530092,
          0.37107402061163053,
          -1.158252094622077,
          1.3695745789888654,
          -1.01825182367802,
          -1.7722468986897701,
          -0.2168013554876337,
          0.4755191701253149,
          -0.31047009102309275,
          -1.1396124818852957,
          -0.6999173593661061,
          -1.1371155062620095,
          -0.4910949440770942,
          -1.3621373445513156,
          1.0766873032479476,
          0.525928465473397,
          0.18338106944618113,
          -0.1505291458789072,
          1.8846432497944905,
          1.0605122306404768,
          -0.962144311117594,
          -0.1476914461688686,
          0.7205523460441676,
          -1.7892639026055361,
          -1.0548281912697273,
          1.7356821752881395,
          0.7623513817996954,
          0.3727625957984767,
          0.44451049023253525,
          1.4676975285083917,
          0.4814662048334038,
          0.6221661115520754,
          0.2370320573531419,
          -0.7473679255146413,
          0.6347836687579423,
          1.2138547818174472,
          -1.1115098285811436,
          -0.741420524794404,
          -1.7765108665886487,
          0.810113366475899,
          0.47669154362011024,
          -0.4134257725397369,
          0.765857785416105,
          -0.965188219950402,
          -1.4789137379581754,
          -0.6434993507816088,
          1.1172937554301525,
          -0.495694212475232,
          -0.387836058015111,
          -1.5016648314212626,
          0.1203043588212254,
          1.2088376698736039,
          -0.07194726263107164,
          0.15389399355134598,
          -0.6401244083647915,
          -0.08273948253381846,
          -1.3592394732882558,
          -1.9885105671375787,
          0.038505035218103376,
          -1.24448668315206,
          1.0295590758843345,
          0.33682960031944126,
          0.016429352896183677,
          -0.8237702468602085,
          -0.18449476647468116,
          1.3095212684401376,
          1.3587986132723278,
          -0.6051067858004684,
          -1.6266419057988017,
          1.0042132470590117,
          -0.941415138673278,
          -0.22540308480569024,
          1.3745114441408741,
          0.9480792162916354,
          -0.6327623894459151,
          -0.4249154919293121,
          0.6437607373691273,
          -0.023221467246056046,
          -0.11276162648807049,
          -1.4583110545841829,
          1.2612779604538449,
          1.3478794165153494,
          -0.380129484919786,
          1.451947890281281,
          -1.1301928995517123,
          -1.9753921455165973
         ]
        },
        {
         "boxpoints": false,
         "line": {
          "width": 1.3
         },
         "marker": {
          "color": "rgba(55, 128, 191, 1.0)"
         },
         "name": "B",
         "orientation": "v",
         "type": "box",
         "y": [
          -0.3135045106961009,
          0.27106706687477644,
          0.6119471965110417,
          0.3009908952710065,
          -1.7296433552727768,
          -0.8395951219175694,
          0.16250707660228472,
          0.5055405458960701,
          -0.832888025408523,
          0.9109193800627438,
          -0.26573228768153007,
          -1.048508086534288,
          2.3935354905650352,
          -0.6120845323882204,
          0.2794630660004881,
          1.627451053655647,
          -0.6851014265020644,
          -0.05563959335930016,
          -0.135370377466742,
          1.1825219023457476,
          0.09104646907592046,
          -0.23291348461501518,
          0.7536213073112578,
          0.4852510554975916,
          -0.11598911508126203,
          1.0968318367465173,
          0.18417105335675082,
          -1.3013280121311601,
          -1.5523879941424124,
          -0.32369753741302265,
          0.12823504654106158,
          0.3235706409631143,
          -0.39016583384232667,
          -1.3483469875160243,
          -0.8778043256258503,
          -0.6566745979642085,
          -0.8717450588581389,
          -0.6555475573355242,
          1.1869681326633754,
          -1.6754949879668986,
          -1.0166574270487643,
          0.30084494827373853,
          -0.5569631288734428,
          -0.567768653274891,
          -1.240819396653744,
          0.07056845771157615,
          1.7622707398041684,
          0.18529340390041166,
          -0.9353562273967888,
          -0.6885393911334184,
          1.5338969581422393,
          1.5892838914058174,
          -1.614263003322591,
          -0.15402669237130096,
          1.159444826889843,
          0.08959925841560044,
          -0.7533113996854893,
          1.905234347898969,
          0.7307657905729821,
          -0.29285654487137897,
          1.7069381234928882,
          0.5380807773841841,
          -0.633045084982813,
          -1.7779188737619718,
          1.4017987066713467,
          -0.08474720608466335,
          0.8776521766497231,
          0.4641730284714228,
          0.45125150792532565,
          0.060392922247830425,
          0.8784203727592276,
          -0.1688059199189494,
          -1.0896619947083495,
          0.0171159299839232,
          0.08104028200629111,
          2.1271586379364784,
          -0.976903741909578,
          1.1376357527698266,
          -0.00012090109272308358,
          1.6484473114720377,
          -1.0772133462637432,
          -0.9150194793716977,
          -0.13908916224241138,
          1.420245945456923,
          -0.8638449427158882,
          0.35946872217060843,
          0.353760398347842,
          -0.034214007117311096,
          0.42062282065593914,
          -0.4119607557910614,
          -2.246530449988816,
          0.6572380023859556,
          1.5371929318791877,
          0.7047641075968462,
          0.2758760032749365,
          0.3641139356290369,
          -1.7452790367604647,
          0.7507657464946539,
          0.7660509128626469,
          -1.918014533068927
         ]
        },
        {
         "boxpoints": false,
         "line": {
          "width": 1.3
         },
         "marker": {
          "color": "rgba(50, 171, 96, 1.0)"
         },
         "name": "C",
         "orientation": "v",
         "type": "box",
         "y": [
          -0.2575191113048818,
          1.320500761745751,
          0.5393212069591781,
          0.04219896750035622,
          1.698198936943047,
          0.5028199669499871,
          -0.1498454934058726,
          0.9633475163625961,
          -1.339015637048091,
          -0.6182770329783752,
          -0.33591206203027124,
          -0.18188932275864927,
          -0.5454887664402375,
          -0.6883932246837449,
          -0.30489076816095145,
          -1.0100830280007966,
          -1.0655391492630855,
          -0.12015197749752969,
          0.5860522797870924,
          0.4192151567643949,
          -1.3353733919720032,
          -0.031402120800871076,
          -2.1335260348390843,
          -0.3441969850120935,
          -1.7542223093498468,
          -0.295042033863205,
          -0.18863870771689262,
          1.552840719836552,
          -0.4316870464612591,
          -0.7613274261883847,
          0.14947076189898487,
          0.48595016476934905,
          -0.7926945550247574,
          0.7731965931118994,
          -0.6883938465753762,
          -2.225079507875566,
          0.5423950945731457,
          -0.34085758855813325,
          1.7417998243184183,
          -0.338719869712993,
          -1.2565129037379519,
          -0.4862357073192635,
          -0.26247542513880223,
          1.371966678906609,
          0.06204981495579611,
          0.1435830366946529,
          -0.09818086024700041,
          -1.0065206400186884,
          0.8816406316046609,
          1.365273883971452,
          -0.3084988064482174,
          -1.0107121741822607,
          0.13115805878508405,
          1.4331106094227337,
          0.1347015805384705,
          -1.2873072839233077,
          0.4520970966083857,
          -1.2803743865230197,
          1.1250400099747564,
          -0.26260192722481174,
          2.7583588538460173,
          0.3145755605376287,
          0.6148574032845244,
          -0.2865467255124006,
          -0.5077597544678613,
          0.34207611262169624,
          0.1176418668857983,
          0.6599108232966143,
          0.20697791306697302,
          -1.5497405311923949,
          -1.2399904990512816,
          -0.5418927010115602,
          -0.006076378393536418,
          1.396970316349856,
          0.29841528419805907,
          -0.5186695251409451,
          2.5370307553948255,
          1.4138531800659624,
          0.850227769881565,
          -0.5589241218200475,
          0.9370408392367986,
          -0.9036863474832941,
          -1.2731512830332214,
          0.43070386279979206,
          1.004596274576969,
          0.30830106177054645,
          0.15488032937692175,
          -1.0238457042133868,
          -1.0118295214957163,
          0.08967082143098096,
          -0.9042923514152782,
          -0.7405311429356125,
          -0.8425526874977495,
          1.1428674009459987,
          -1.1631122871541602,
          -0.47384436477048175,
          -1.0361201255211805,
          1.2289487011273375,
          -0.4323744236158504,
          -0.12486789140963928
         ]
        },
        {
         "boxpoints": false,
         "line": {
          "width": 1.3
         },
         "marker": {
          "color": "rgba(128, 0, 128, 1.0)"
         },
         "name": "D",
         "orientation": "v",
         "type": "box",
         "y": [
          0.9233664551727817,
          0.2187068108806523,
          0.11865198024420574,
          -1.5579186623042052,
          -0.4672071562814396,
          3.0066626935308456,
          -0.32655014387269754,
          0.10772210250884771,
          0.8844221038072054,
          1.7722565392187368,
          1.184992792776857,
          0.2108781835560796,
          -1.1148099764931805,
          -4.345427928625704e-05,
          -1.983953129359126,
          -0.9649214601388116,
          -0.22125091561265933,
          1.2273455531899071,
          -0.0575385070370791,
          -0.11781601230391926,
          1.9166344516297773,
          -1.0970613676362393,
          0.43934146242854094,
          1.2762258985477217,
          0.07447449662748581,
          3.0919869419630976,
          0.5973122040456079,
          -0.7050905523339075,
          -0.4999112205302632,
          -0.03493124465617314,
          -0.7617881698096332,
          1.3797053254926674,
          -0.2215403633239477,
          0.6925481305262045,
          0.06167550672697119,
          -0.40963611935775956,
          0.35893243125669266,
          -0.41745743030591087,
          0.03015429313705,
          0.15602988591660222,
          -0.26787146265085654,
          -0.41417028686894974,
          1.5609792080758211,
          1.194969375259976,
          -0.6551383967781365,
          -1.755053789996685,
          1.5159309217952428,
          -1.28875100441881,
          -0.911926164600893,
          -0.5474702131804486,
          0.4047143059595249,
          -0.43079197819212006,
          0.08797226941624581,
          -0.6908029115601726,
          0.7242905167980132,
          0.23214396422851524,
          0.7247353002278414,
          1.9452025367983576,
          -0.6546861016814408,
          -0.6799974252683934,
          -0.5317611724410563,
          1.4405271470855314,
          1.1115247500755756,
          0.589893192958994,
          0.4824437508914874,
          1.377178678619452,
          -0.6862284977820776,
          0.13642842203149558,
          -0.8947830787665288,
          -1.2215509521492065,
          -0.9851235704440013,
          0.2769495490795035,
          -0.5492866868876993,
          -0.45589525253369273,
          -0.49258897950070984,
          -0.2268613593796678,
          -1.0595067963615048,
          -1.163113884097818,
          -2.131695933566539,
          0.42063353723874125,
          1.5399342918829222,
          -0.6831121602536194,
          0.7561167662337182,
          -1.1136598817381878,
          0.026303240811561608,
          -0.11853482107150998,
          -0.7999930888845683,
          0.6608875939920911,
          -0.4310373559079466,
          -0.6088333250428458,
          -0.8584547980700439,
          -0.18485197733031306,
          0.7591281136316559,
          0.4505866865518529,
          0.39346588693495527,
          0.2764004766793301,
          0.2849159220159852,
          0.2464470334073424,
          -1.9666741818132207,
          -0.11656813004260916
         ]
        }
       ],
       "layout": {
        "legend": {
         "bgcolor": "#F5F6F9",
         "font": {
          "color": "#4D5663"
         }
        },
        "paper_bgcolor": "#F5F6F9",
        "plot_bgcolor": "#F5F6F9",
        "template": {
         "data": {
          "bar": [
           {
            "error_x": {
             "color": "#2a3f5f"
            },
            "error_y": {
             "color": "#2a3f5f"
            },
            "marker": {
             "line": {
              "color": "#E5ECF6",
              "width": 0.5
             },
             "pattern": {
              "fillmode": "overlay",
              "size": 10,
              "solidity": 0.2
             }
            },
            "type": "bar"
           }
          ],
          "barpolar": [
           {
            "marker": {
             "line": {
              "color": "#E5ECF6",
              "width": 0.5
             },
             "pattern": {
              "fillmode": "overlay",
              "size": 10,
              "solidity": 0.2
             }
            },
            "type": "barpolar"
           }
          ],
          "carpet": [
           {
            "aaxis": {
             "endlinecolor": "#2a3f5f",
             "gridcolor": "white",
             "linecolor": "white",
             "minorgridcolor": "white",
             "startlinecolor": "#2a3f5f"
            },
            "baxis": {
             "endlinecolor": "#2a3f5f",
             "gridcolor": "white",
             "linecolor": "white",
             "minorgridcolor": "white",
             "startlinecolor": "#2a3f5f"
            },
            "type": "carpet"
           }
          ],
          "choropleth": [
           {
            "colorbar": {
             "outlinewidth": 0,
             "ticks": ""
            },
            "type": "choropleth"
           }
          ],
          "contour": [
           {
            "colorbar": {
             "outlinewidth": 0,
             "ticks": ""
            },
            "colorscale": [
             [
              0,
              "#0d0887"
             ],
             [
              0.1111111111111111,
              "#46039f"
             ],
             [
              0.2222222222222222,
              "#7201a8"
             ],
             [
              0.3333333333333333,
              "#9c179e"
             ],
             [
              0.4444444444444444,
              "#bd3786"
             ],
             [
              0.5555555555555556,
              "#d8576b"
             ],
             [
              0.6666666666666666,
              "#ed7953"
             ],
             [
              0.7777777777777778,
              "#fb9f3a"
             ],
             [
              0.8888888888888888,
              "#fdca26"
             ],
             [
              1,
              "#f0f921"
             ]
            ],
            "type": "contour"
           }
          ],
          "contourcarpet": [
           {
            "colorbar": {
             "outlinewidth": 0,
             "ticks": ""
            },
            "type": "contourcarpet"
           }
          ],
          "heatmap": [
           {
            "colorbar": {
             "outlinewidth": 0,
             "ticks": ""
            },
            "colorscale": [
             [
              0,
              "#0d0887"
             ],
             [
              0.1111111111111111,
              "#46039f"
             ],
             [
              0.2222222222222222,
              "#7201a8"
             ],
             [
              0.3333333333333333,
              "#9c179e"
             ],
             [
              0.4444444444444444,
              "#bd3786"
             ],
             [
              0.5555555555555556,
              "#d8576b"
             ],
             [
              0.6666666666666666,
              "#ed7953"
             ],
             [
              0.7777777777777778,
              "#fb9f3a"
             ],
             [
              0.8888888888888888,
              "#fdca26"
             ],
             [
              1,
              "#f0f921"
             ]
            ],
            "type": "heatmap"
           }
          ],
          "heatmapgl": [
           {
            "colorbar": {
             "outlinewidth": 0,
             "ticks": ""
            },
            "colorscale": [
             [
              0,
              "#0d0887"
             ],
             [
              0.1111111111111111,
              "#46039f"
             ],
             [
              0.2222222222222222,
              "#7201a8"
             ],
             [
              0.3333333333333333,
              "#9c179e"
             ],
             [
              0.4444444444444444,
              "#bd3786"
             ],
             [
              0.5555555555555556,
              "#d8576b"
             ],
             [
              0.6666666666666666,
              "#ed7953"
             ],
             [
              0.7777777777777778,
              "#fb9f3a"
             ],
             [
              0.8888888888888888,
              "#fdca26"
             ],
             [
              1,
              "#f0f921"
             ]
            ],
            "type": "heatmapgl"
           }
          ],
          "histogram": [
           {
            "marker": {
             "pattern": {
              "fillmode": "overlay",
              "size": 10,
              "solidity": 0.2
             }
            },
            "type": "histogram"
           }
          ],
          "histogram2d": [
           {
            "colorbar": {
             "outlinewidth": 0,
             "ticks": ""
            },
            "colorscale": [
             [
              0,
              "#0d0887"
             ],
             [
              0.1111111111111111,
              "#46039f"
             ],
             [
              0.2222222222222222,
              "#7201a8"
             ],
             [
              0.3333333333333333,
              "#9c179e"
             ],
             [
              0.4444444444444444,
              "#bd3786"
             ],
             [
              0.5555555555555556,
              "#d8576b"
             ],
             [
              0.6666666666666666,
              "#ed7953"
             ],
             [
              0.7777777777777778,
              "#fb9f3a"
             ],
             [
              0.8888888888888888,
              "#fdca26"
             ],
             [
              1,
              "#f0f921"
             ]
            ],
            "type": "histogram2d"
           }
          ],
          "histogram2dcontour": [
           {
            "colorbar": {
             "outlinewidth": 0,
             "ticks": ""
            },
            "colorscale": [
             [
              0,
              "#0d0887"
             ],
             [
              0.1111111111111111,
              "#46039f"
             ],
             [
              0.2222222222222222,
              "#7201a8"
             ],
             [
              0.3333333333333333,
              "#9c179e"
             ],
             [
              0.4444444444444444,
              "#bd3786"
             ],
             [
              0.5555555555555556,
              "#d8576b"
             ],
             [
              0.6666666666666666,
              "#ed7953"
             ],
             [
              0.7777777777777778,
              "#fb9f3a"
             ],
             [
              0.8888888888888888,
              "#fdca26"
             ],
             [
              1,
              "#f0f921"
             ]
            ],
            "type": "histogram2dcontour"
           }
          ],
          "mesh3d": [
           {
            "colorbar": {
             "outlinewidth": 0,
             "ticks": ""
            },
            "type": "mesh3d"
           }
          ],
          "parcoords": [
           {
            "line": {
             "colorbar": {
              "outlinewidth": 0,
              "ticks": ""
             }
            },
            "type": "parcoords"
           }
          ],
          "pie": [
           {
            "automargin": true,
            "type": "pie"
           }
          ],
          "scatter": [
           {
            "marker": {
             "colorbar": {
              "outlinewidth": 0,
              "ticks": ""
             }
            },
            "type": "scatter"
           }
          ],
          "scatter3d": [
           {
            "line": {
             "colorbar": {
              "outlinewidth": 0,
              "ticks": ""
             }
            },
            "marker": {
             "colorbar": {
              "outlinewidth": 0,
              "ticks": ""
             }
            },
            "type": "scatter3d"
           }
          ],
          "scattercarpet": [
           {
            "marker": {
             "colorbar": {
              "outlinewidth": 0,
              "ticks": ""
             }
            },
            "type": "scattercarpet"
           }
          ],
          "scattergeo": [
           {
            "marker": {
             "colorbar": {
              "outlinewidth": 0,
              "ticks": ""
             }
            },
            "type": "scattergeo"
           }
          ],
          "scattergl": [
           {
            "marker": {
             "colorbar": {
              "outlinewidth": 0,
              "ticks": ""
             }
            },
            "type": "scattergl"
           }
          ],
          "scattermapbox": [
           {
            "marker": {
             "colorbar": {
              "outlinewidth": 0,
              "ticks": ""
             }
            },
            "type": "scattermapbox"
           }
          ],
          "scatterpolar": [
           {
            "marker": {
             "colorbar": {
              "outlinewidth": 0,
              "ticks": ""
             }
            },
            "type": "scatterpolar"
           }
          ],
          "scatterpolargl": [
           {
            "marker": {
             "colorbar": {
              "outlinewidth": 0,
              "ticks": ""
             }
            },
            "type": "scatterpolargl"
           }
          ],
          "scatterternary": [
           {
            "marker": {
             "colorbar": {
              "outlinewidth": 0,
              "ticks": ""
             }
            },
            "type": "scatterternary"
           }
          ],
          "surface": [
           {
            "colorbar": {
             "outlinewidth": 0,
             "ticks": ""
            },
            "colorscale": [
             [
              0,
              "#0d0887"
             ],
             [
              0.1111111111111111,
              "#46039f"
             ],
             [
              0.2222222222222222,
              "#7201a8"
             ],
             [
              0.3333333333333333,
              "#9c179e"
             ],
             [
              0.4444444444444444,
              "#bd3786"
             ],
             [
              0.5555555555555556,
              "#d8576b"
             ],
             [
              0.6666666666666666,
              "#ed7953"
             ],
             [
              0.7777777777777778,
              "#fb9f3a"
             ],
             [
              0.8888888888888888,
              "#fdca26"
             ],
             [
              1,
              "#f0f921"
             ]
            ],
            "type": "surface"
           }
          ],
          "table": [
           {
            "cells": {
             "fill": {
              "color": "#EBF0F8"
             },
             "line": {
              "color": "white"
             }
            },
            "header": {
             "fill": {
              "color": "#C8D4E3"
             },
             "line": {
              "color": "white"
             }
            },
            "type": "table"
           }
          ]
         },
         "layout": {
          "annotationdefaults": {
           "arrowcolor": "#2a3f5f",
           "arrowhead": 0,
           "arrowwidth": 1
          },
          "autotypenumbers": "strict",
          "coloraxis": {
           "colorbar": {
            "outlinewidth": 0,
            "ticks": ""
           }
          },
          "colorscale": {
           "diverging": [
            [
             0,
             "#8e0152"
            ],
            [
             0.1,
             "#c51b7d"
            ],
            [
             0.2,
             "#de77ae"
            ],
            [
             0.3,
             "#f1b6da"
            ],
            [
             0.4,
             "#fde0ef"
            ],
            [
             0.5,
             "#f7f7f7"
            ],
            [
             0.6,
             "#e6f5d0"
            ],
            [
             0.7,
             "#b8e186"
            ],
            [
             0.8,
             "#7fbc41"
            ],
            [
             0.9,
             "#4d9221"
            ],
            [
             1,
             "#276419"
            ]
           ],
           "sequential": [
            [
             0,
             "#0d0887"
            ],
            [
             0.1111111111111111,
             "#46039f"
            ],
            [
             0.2222222222222222,
             "#7201a8"
            ],
            [
             0.3333333333333333,
             "#9c179e"
            ],
            [
             0.4444444444444444,
             "#bd3786"
            ],
            [
             0.5555555555555556,
             "#d8576b"
            ],
            [
             0.6666666666666666,
             "#ed7953"
            ],
            [
             0.7777777777777778,
             "#fb9f3a"
            ],
            [
             0.8888888888888888,
             "#fdca26"
            ],
            [
             1,
             "#f0f921"
            ]
           ],
           "sequentialminus": [
            [
             0,
             "#0d0887"
            ],
            [
             0.1111111111111111,
             "#46039f"
            ],
            [
             0.2222222222222222,
             "#7201a8"
            ],
            [
             0.3333333333333333,
             "#9c179e"
            ],
            [
             0.4444444444444444,
             "#bd3786"
            ],
            [
             0.5555555555555556,
             "#d8576b"
            ],
            [
             0.6666666666666666,
             "#ed7953"
            ],
            [
             0.7777777777777778,
             "#fb9f3a"
            ],
            [
             0.8888888888888888,
             "#fdca26"
            ],
            [
             1,
             "#f0f921"
            ]
           ]
          },
          "colorway": [
           "#636efa",
           "#EF553B",
           "#00cc96",
           "#ab63fa",
           "#FFA15A",
           "#19d3f3",
           "#FF6692",
           "#B6E880",
           "#FF97FF",
           "#FECB52"
          ],
          "font": {
           "color": "#2a3f5f"
          },
          "geo": {
           "bgcolor": "white",
           "lakecolor": "white",
           "landcolor": "#E5ECF6",
           "showlakes": true,
           "showland": true,
           "subunitcolor": "white"
          },
          "hoverlabel": {
           "align": "left"
          },
          "hovermode": "closest",
          "mapbox": {
           "style": "light"
          },
          "paper_bgcolor": "white",
          "plot_bgcolor": "#E5ECF6",
          "polar": {
           "angularaxis": {
            "gridcolor": "white",
            "linecolor": "white",
            "ticks": ""
           },
           "bgcolor": "#E5ECF6",
           "radialaxis": {
            "gridcolor": "white",
            "linecolor": "white",
            "ticks": ""
           }
          },
          "scene": {
           "xaxis": {
            "backgroundcolor": "#E5ECF6",
            "gridcolor": "white",
            "gridwidth": 2,
            "linecolor": "white",
            "showbackground": true,
            "ticks": "",
            "zerolinecolor": "white"
           },
           "yaxis": {
            "backgroundcolor": "#E5ECF6",
            "gridcolor": "white",
            "gridwidth": 2,
            "linecolor": "white",
            "showbackground": true,
            "ticks": "",
            "zerolinecolor": "white"
           },
           "zaxis": {
            "backgroundcolor": "#E5ECF6",
            "gridcolor": "white",
            "gridwidth": 2,
            "linecolor": "white",
            "showbackground": true,
            "ticks": "",
            "zerolinecolor": "white"
           }
          },
          "shapedefaults": {
           "line": {
            "color": "#2a3f5f"
           }
          },
          "ternary": {
           "aaxis": {
            "gridcolor": "white",
            "linecolor": "white",
            "ticks": ""
           },
           "baxis": {
            "gridcolor": "white",
            "linecolor": "white",
            "ticks": ""
           },
           "bgcolor": "#E5ECF6",
           "caxis": {
            "gridcolor": "white",
            "linecolor": "white",
            "ticks": ""
           }
          },
          "title": {
           "x": 0.05
          },
          "xaxis": {
           "automargin": true,
           "gridcolor": "white",
           "linecolor": "white",
           "ticks": "",
           "title": {
            "standoff": 15
           },
           "zerolinecolor": "white",
           "zerolinewidth": 2
          },
          "yaxis": {
           "automargin": true,
           "gridcolor": "white",
           "linecolor": "white",
           "ticks": "",
           "title": {
            "standoff": 15
           },
           "zerolinecolor": "white",
           "zerolinewidth": 2
          }
         }
        },
        "title": {
         "font": {
          "color": "#4D5663"
         }
        },
        "xaxis": {
         "gridcolor": "#E1E5ED",
         "showgrid": true,
         "tickfont": {
          "color": "#4D5663"
         },
         "title": {
          "font": {
           "color": "#4D5663"
          },
          "text": ""
         },
         "zerolinecolor": "#E1E5ED"
        },
        "yaxis": {
         "gridcolor": "#E1E5ED",
         "showgrid": true,
         "tickfont": {
          "color": "#4D5663"
         },
         "title": {
          "font": {
           "color": "#4D5663"
          },
          "text": ""
         },
         "zerolinecolor": "#E1E5ED"
        }
       }
      },
      "text/html": [
       "<div>                            <div id=\"b82b3023-21fa-4fd5-8ef4-1200578795ba\" class=\"plotly-graph-div\" style=\"height:525px; width:100%;\"></div>            <script type=\"text/javascript\">                require([\"plotly\"], function(Plotly) {                    window.PLOTLYENV=window.PLOTLYENV || {};\n",
       "                    window.PLOTLYENV.BASE_URL='https://plot.ly';                                    if (document.getElementById(\"b82b3023-21fa-4fd5-8ef4-1200578795ba\")) {                    Plotly.newPlot(                        \"b82b3023-21fa-4fd5-8ef4-1200578795ba\",                        [{\"boxpoints\":false,\"line\":{\"width\":1.3},\"marker\":{\"color\":\"rgba(255, 153, 51, 1.0)\"},\"name\":\"A\",\"orientation\":\"v\",\"y\":[-1.309527744420406,-0.43461471341730906,-0.6595622762097307,-1.8087704558636009,-0.21507624397672268,-0.38856874633371274,0.39323640994019327,-1.5768836282447465,0.22178931809236666,-0.9431156572498557,-1.9102029239374554,-0.477769555673728,-1.089425538238347,-1.0357538495845635,1.2252166381530092,0.37107402061163053,-1.158252094622077,1.3695745789888654,-1.01825182367802,-1.7722468986897701,-0.2168013554876337,0.4755191701253149,-0.31047009102309275,-1.1396124818852957,-0.6999173593661061,-1.1371155062620095,-0.4910949440770942,-1.3621373445513156,1.0766873032479476,0.525928465473397,0.18338106944618113,-0.1505291458789072,1.8846432497944905,1.0605122306404768,-0.962144311117594,-0.1476914461688686,0.7205523460441676,-1.7892639026055361,-1.0548281912697273,1.7356821752881395,0.7623513817996954,0.3727625957984767,0.44451049023253525,1.4676975285083917,0.4814662048334038,0.6221661115520754,0.2370320573531419,-0.7473679255146413,0.6347836687579423,1.2138547818174472,-1.1115098285811436,-0.741420524794404,-1.7765108665886487,0.810113366475899,0.47669154362011024,-0.4134257725397369,0.765857785416105,-0.965188219950402,-1.4789137379581754,-0.6434993507816088,1.1172937554301525,-0.495694212475232,-0.387836058015111,-1.5016648314212626,0.1203043588212254,1.2088376698736039,-0.07194726263107164,0.15389399355134598,-0.6401244083647915,-0.08273948253381846,-1.3592394732882558,-1.9885105671375787,0.038505035218103376,-1.24448668315206,1.0295590758843345,0.33682960031944126,0.016429352896183677,-0.8237702468602085,-0.18449476647468116,1.3095212684401376,1.3587986132723278,-0.6051067858004684,-1.6266419057988017,1.0042132470590117,-0.941415138673278,-0.22540308480569024,1.3745114441408741,0.9480792162916354,-0.6327623894459151,-0.4249154919293121,0.6437607373691273,-0.023221467246056046,-0.11276162648807049,-1.4583110545841829,1.2612779604538449,1.3478794165153494,-0.380129484919786,1.451947890281281,-1.1301928995517123,-1.9753921455165973],\"type\":\"box\"},{\"boxpoints\":false,\"line\":{\"width\":1.3},\"marker\":{\"color\":\"rgba(55, 128, 191, 1.0)\"},\"name\":\"B\",\"orientation\":\"v\",\"y\":[-0.3135045106961009,0.27106706687477644,0.6119471965110417,0.3009908952710065,-1.7296433552727768,-0.8395951219175694,0.16250707660228472,0.5055405458960701,-0.832888025408523,0.9109193800627438,-0.26573228768153007,-1.048508086534288,2.3935354905650352,-0.6120845323882204,0.2794630660004881,1.627451053655647,-0.6851014265020644,-0.05563959335930016,-0.135370377466742,1.1825219023457476,0.09104646907592046,-0.23291348461501518,0.7536213073112578,0.4852510554975916,-0.11598911508126203,1.0968318367465173,0.18417105335675082,-1.3013280121311601,-1.5523879941424124,-0.32369753741302265,0.12823504654106158,0.3235706409631143,-0.39016583384232667,-1.3483469875160243,-0.8778043256258503,-0.6566745979642085,-0.8717450588581389,-0.6555475573355242,1.1869681326633754,-1.6754949879668986,-1.0166574270487643,0.30084494827373853,-0.5569631288734428,-0.567768653274891,-1.240819396653744,0.07056845771157615,1.7622707398041684,0.18529340390041166,-0.9353562273967888,-0.6885393911334184,1.5338969581422393,1.5892838914058174,-1.614263003322591,-0.15402669237130096,1.159444826889843,0.08959925841560044,-0.7533113996854893,1.905234347898969,0.7307657905729821,-0.29285654487137897,1.7069381234928882,0.5380807773841841,-0.633045084982813,-1.7779188737619718,1.4017987066713467,-0.08474720608466335,0.8776521766497231,0.4641730284714228,0.45125150792532565,0.060392922247830425,0.8784203727592276,-0.1688059199189494,-1.0896619947083495,0.0171159299839232,0.08104028200629111,2.1271586379364784,-0.976903741909578,1.1376357527698266,-0.00012090109272308358,1.6484473114720377,-1.0772133462637432,-0.9150194793716977,-0.13908916224241138,1.420245945456923,-0.8638449427158882,0.35946872217060843,0.353760398347842,-0.034214007117311096,0.42062282065593914,-0.4119607557910614,-2.246530449988816,0.6572380023859556,1.5371929318791877,0.7047641075968462,0.2758760032749365,0.3641139356290369,-1.7452790367604647,0.7507657464946539,0.7660509128626469,-1.918014533068927],\"type\":\"box\"},{\"boxpoints\":false,\"line\":{\"width\":1.3},\"marker\":{\"color\":\"rgba(50, 171, 96, 1.0)\"},\"name\":\"C\",\"orientation\":\"v\",\"y\":[-0.2575191113048818,1.320500761745751,0.5393212069591781,0.04219896750035622,1.698198936943047,0.5028199669499871,-0.1498454934058726,0.9633475163625961,-1.339015637048091,-0.6182770329783752,-0.33591206203027124,-0.18188932275864927,-0.5454887664402375,-0.6883932246837449,-0.30489076816095145,-1.0100830280007966,-1.0655391492630855,-0.12015197749752969,0.5860522797870924,0.4192151567643949,-1.3353733919720032,-0.031402120800871076,-2.1335260348390843,-0.3441969850120935,-1.7542223093498468,-0.295042033863205,-0.18863870771689262,1.552840719836552,-0.4316870464612591,-0.7613274261883847,0.14947076189898487,0.48595016476934905,-0.7926945550247574,0.7731965931118994,-0.6883938465753762,-2.225079507875566,0.5423950945731457,-0.34085758855813325,1.7417998243184183,-0.338719869712993,-1.2565129037379519,-0.4862357073192635,-0.26247542513880223,1.371966678906609,0.06204981495579611,0.1435830366946529,-0.09818086024700041,-1.0065206400186884,0.8816406316046609,1.365273883971452,-0.3084988064482174,-1.0107121741822607,0.13115805878508405,1.4331106094227337,0.1347015805384705,-1.2873072839233077,0.4520970966083857,-1.2803743865230197,1.1250400099747564,-0.26260192722481174,2.7583588538460173,0.3145755605376287,0.6148574032845244,-0.2865467255124006,-0.5077597544678613,0.34207611262169624,0.1176418668857983,0.6599108232966143,0.20697791306697302,-1.5497405311923949,-1.2399904990512816,-0.5418927010115602,-0.006076378393536418,1.396970316349856,0.29841528419805907,-0.5186695251409451,2.5370307553948255,1.4138531800659624,0.850227769881565,-0.5589241218200475,0.9370408392367986,-0.9036863474832941,-1.2731512830332214,0.43070386279979206,1.004596274576969,0.30830106177054645,0.15488032937692175,-1.0238457042133868,-1.0118295214957163,0.08967082143098096,-0.9042923514152782,-0.7405311429356125,-0.8425526874977495,1.1428674009459987,-1.1631122871541602,-0.47384436477048175,-1.0361201255211805,1.2289487011273375,-0.4323744236158504,-0.12486789140963928],\"type\":\"box\"},{\"boxpoints\":false,\"line\":{\"width\":1.3},\"marker\":{\"color\":\"rgba(128, 0, 128, 1.0)\"},\"name\":\"D\",\"orientation\":\"v\",\"y\":[0.9233664551727817,0.2187068108806523,0.11865198024420574,-1.5579186623042052,-0.4672071562814396,3.0066626935308456,-0.32655014387269754,0.10772210250884771,0.8844221038072054,1.7722565392187368,1.184992792776857,0.2108781835560796,-1.1148099764931805,-4.345427928625704e-05,-1.983953129359126,-0.9649214601388116,-0.22125091561265933,1.2273455531899071,-0.0575385070370791,-0.11781601230391926,1.9166344516297773,-1.0970613676362393,0.43934146242854094,1.2762258985477217,0.07447449662748581,3.0919869419630976,0.5973122040456079,-0.7050905523339075,-0.4999112205302632,-0.03493124465617314,-0.7617881698096332,1.3797053254926674,-0.2215403633239477,0.6925481305262045,0.06167550672697119,-0.40963611935775956,0.35893243125669266,-0.41745743030591087,0.03015429313705,0.15602988591660222,-0.26787146265085654,-0.41417028686894974,1.5609792080758211,1.194969375259976,-0.6551383967781365,-1.755053789996685,1.5159309217952428,-1.28875100441881,-0.911926164600893,-0.5474702131804486,0.4047143059595249,-0.43079197819212006,0.08797226941624581,-0.6908029115601726,0.7242905167980132,0.23214396422851524,0.7247353002278414,1.9452025367983576,-0.6546861016814408,-0.6799974252683934,-0.5317611724410563,1.4405271470855314,1.1115247500755756,0.589893192958994,0.4824437508914874,1.377178678619452,-0.6862284977820776,0.13642842203149558,-0.8947830787665288,-1.2215509521492065,-0.9851235704440013,0.2769495490795035,-0.5492866868876993,-0.45589525253369273,-0.49258897950070984,-0.2268613593796678,-1.0595067963615048,-1.163113884097818,-2.131695933566539,0.42063353723874125,1.5399342918829222,-0.6831121602536194,0.7561167662337182,-1.1136598817381878,0.026303240811561608,-0.11853482107150998,-0.7999930888845683,0.6608875939920911,-0.4310373559079466,-0.6088333250428458,-0.8584547980700439,-0.18485197733031306,0.7591281136316559,0.4505866865518529,0.39346588693495527,0.2764004766793301,0.2849159220159852,0.2464470334073424,-1.9666741818132207,-0.11656813004260916],\"type\":\"box\"}],                        {\"legend\":{\"bgcolor\":\"#F5F6F9\",\"font\":{\"color\":\"#4D5663\"}},\"paper_bgcolor\":\"#F5F6F9\",\"plot_bgcolor\":\"#F5F6F9\",\"template\":{\"data\":{\"barpolar\":[{\"marker\":{\"line\":{\"color\":\"#E5ECF6\",\"width\":0.5},\"pattern\":{\"fillmode\":\"overlay\",\"size\":10,\"solidity\":0.2}},\"type\":\"barpolar\"}],\"bar\":[{\"error_x\":{\"color\":\"#2a3f5f\"},\"error_y\":{\"color\":\"#2a3f5f\"},\"marker\":{\"line\":{\"color\":\"#E5ECF6\",\"width\":0.5},\"pattern\":{\"fillmode\":\"overlay\",\"size\":10,\"solidity\":0.2}},\"type\":\"bar\"}],\"carpet\":[{\"aaxis\":{\"endlinecolor\":\"#2a3f5f\",\"gridcolor\":\"white\",\"linecolor\":\"white\",\"minorgridcolor\":\"white\",\"startlinecolor\":\"#2a3f5f\"},\"baxis\":{\"endlinecolor\":\"#2a3f5f\",\"gridcolor\":\"white\",\"linecolor\":\"white\",\"minorgridcolor\":\"white\",\"startlinecolor\":\"#2a3f5f\"},\"type\":\"carpet\"}],\"choropleth\":[{\"colorbar\":{\"outlinewidth\":0,\"ticks\":\"\"},\"type\":\"choropleth\"}],\"contourcarpet\":[{\"colorbar\":{\"outlinewidth\":0,\"ticks\":\"\"},\"type\":\"contourcarpet\"}],\"contour\":[{\"colorbar\":{\"outlinewidth\":0,\"ticks\":\"\"},\"colorscale\":[[0.0,\"#0d0887\"],[0.1111111111111111,\"#46039f\"],[0.2222222222222222,\"#7201a8\"],[0.3333333333333333,\"#9c179e\"],[0.4444444444444444,\"#bd3786\"],[0.5555555555555556,\"#d8576b\"],[0.6666666666666666,\"#ed7953\"],[0.7777777777777778,\"#fb9f3a\"],[0.8888888888888888,\"#fdca26\"],[1.0,\"#f0f921\"]],\"type\":\"contour\"}],\"heatmapgl\":[{\"colorbar\":{\"outlinewidth\":0,\"ticks\":\"\"},\"colorscale\":[[0.0,\"#0d0887\"],[0.1111111111111111,\"#46039f\"],[0.2222222222222222,\"#7201a8\"],[0.3333333333333333,\"#9c179e\"],[0.4444444444444444,\"#bd3786\"],[0.5555555555555556,\"#d8576b\"],[0.6666666666666666,\"#ed7953\"],[0.7777777777777778,\"#fb9f3a\"],[0.8888888888888888,\"#fdca26\"],[1.0,\"#f0f921\"]],\"type\":\"heatmapgl\"}],\"heatmap\":[{\"colorbar\":{\"outlinewidth\":0,\"ticks\":\"\"},\"colorscale\":[[0.0,\"#0d0887\"],[0.1111111111111111,\"#46039f\"],[0.2222222222222222,\"#7201a8\"],[0.3333333333333333,\"#9c179e\"],[0.4444444444444444,\"#bd3786\"],[0.5555555555555556,\"#d8576b\"],[0.6666666666666666,\"#ed7953\"],[0.7777777777777778,\"#fb9f3a\"],[0.8888888888888888,\"#fdca26\"],[1.0,\"#f0f921\"]],\"type\":\"heatmap\"}],\"histogram2dcontour\":[{\"colorbar\":{\"outlinewidth\":0,\"ticks\":\"\"},\"colorscale\":[[0.0,\"#0d0887\"],[0.1111111111111111,\"#46039f\"],[0.2222222222222222,\"#7201a8\"],[0.3333333333333333,\"#9c179e\"],[0.4444444444444444,\"#bd3786\"],[0.5555555555555556,\"#d8576b\"],[0.6666666666666666,\"#ed7953\"],[0.7777777777777778,\"#fb9f3a\"],[0.8888888888888888,\"#fdca26\"],[1.0,\"#f0f921\"]],\"type\":\"histogram2dcontour\"}],\"histogram2d\":[{\"colorbar\":{\"outlinewidth\":0,\"ticks\":\"\"},\"colorscale\":[[0.0,\"#0d0887\"],[0.1111111111111111,\"#46039f\"],[0.2222222222222222,\"#7201a8\"],[0.3333333333333333,\"#9c179e\"],[0.4444444444444444,\"#bd3786\"],[0.5555555555555556,\"#d8576b\"],[0.6666666666666666,\"#ed7953\"],[0.7777777777777778,\"#fb9f3a\"],[0.8888888888888888,\"#fdca26\"],[1.0,\"#f0f921\"]],\"type\":\"histogram2d\"}],\"histogram\":[{\"marker\":{\"pattern\":{\"fillmode\":\"overlay\",\"size\":10,\"solidity\":0.2}},\"type\":\"histogram\"}],\"mesh3d\":[{\"colorbar\":{\"outlinewidth\":0,\"ticks\":\"\"},\"type\":\"mesh3d\"}],\"parcoords\":[{\"line\":{\"colorbar\":{\"outlinewidth\":0,\"ticks\":\"\"}},\"type\":\"parcoords\"}],\"pie\":[{\"automargin\":true,\"type\":\"pie\"}],\"scatter3d\":[{\"line\":{\"colorbar\":{\"outlinewidth\":0,\"ticks\":\"\"}},\"marker\":{\"colorbar\":{\"outlinewidth\":0,\"ticks\":\"\"}},\"type\":\"scatter3d\"}],\"scattercarpet\":[{\"marker\":{\"colorbar\":{\"outlinewidth\":0,\"ticks\":\"\"}},\"type\":\"scattercarpet\"}],\"scattergeo\":[{\"marker\":{\"colorbar\":{\"outlinewidth\":0,\"ticks\":\"\"}},\"type\":\"scattergeo\"}],\"scattergl\":[{\"marker\":{\"colorbar\":{\"outlinewidth\":0,\"ticks\":\"\"}},\"type\":\"scattergl\"}],\"scattermapbox\":[{\"marker\":{\"colorbar\":{\"outlinewidth\":0,\"ticks\":\"\"}},\"type\":\"scattermapbox\"}],\"scatterpolargl\":[{\"marker\":{\"colorbar\":{\"outlinewidth\":0,\"ticks\":\"\"}},\"type\":\"scatterpolargl\"}],\"scatterpolar\":[{\"marker\":{\"colorbar\":{\"outlinewidth\":0,\"ticks\":\"\"}},\"type\":\"scatterpolar\"}],\"scatter\":[{\"marker\":{\"colorbar\":{\"outlinewidth\":0,\"ticks\":\"\"}},\"type\":\"scatter\"}],\"scatterternary\":[{\"marker\":{\"colorbar\":{\"outlinewidth\":0,\"ticks\":\"\"}},\"type\":\"scatterternary\"}],\"surface\":[{\"colorbar\":{\"outlinewidth\":0,\"ticks\":\"\"},\"colorscale\":[[0.0,\"#0d0887\"],[0.1111111111111111,\"#46039f\"],[0.2222222222222222,\"#7201a8\"],[0.3333333333333333,\"#9c179e\"],[0.4444444444444444,\"#bd3786\"],[0.5555555555555556,\"#d8576b\"],[0.6666666666666666,\"#ed7953\"],[0.7777777777777778,\"#fb9f3a\"],[0.8888888888888888,\"#fdca26\"],[1.0,\"#f0f921\"]],\"type\":\"surface\"}],\"table\":[{\"cells\":{\"fill\":{\"color\":\"#EBF0F8\"},\"line\":{\"color\":\"white\"}},\"header\":{\"fill\":{\"color\":\"#C8D4E3\"},\"line\":{\"color\":\"white\"}},\"type\":\"table\"}]},\"layout\":{\"annotationdefaults\":{\"arrowcolor\":\"#2a3f5f\",\"arrowhead\":0,\"arrowwidth\":1},\"autotypenumbers\":\"strict\",\"coloraxis\":{\"colorbar\":{\"outlinewidth\":0,\"ticks\":\"\"}},\"colorscale\":{\"diverging\":[[0,\"#8e0152\"],[0.1,\"#c51b7d\"],[0.2,\"#de77ae\"],[0.3,\"#f1b6da\"],[0.4,\"#fde0ef\"],[0.5,\"#f7f7f7\"],[0.6,\"#e6f5d0\"],[0.7,\"#b8e186\"],[0.8,\"#7fbc41\"],[0.9,\"#4d9221\"],[1,\"#276419\"]],\"sequential\":[[0.0,\"#0d0887\"],[0.1111111111111111,\"#46039f\"],[0.2222222222222222,\"#7201a8\"],[0.3333333333333333,\"#9c179e\"],[0.4444444444444444,\"#bd3786\"],[0.5555555555555556,\"#d8576b\"],[0.6666666666666666,\"#ed7953\"],[0.7777777777777778,\"#fb9f3a\"],[0.8888888888888888,\"#fdca26\"],[1.0,\"#f0f921\"]],\"sequentialminus\":[[0.0,\"#0d0887\"],[0.1111111111111111,\"#46039f\"],[0.2222222222222222,\"#7201a8\"],[0.3333333333333333,\"#9c179e\"],[0.4444444444444444,\"#bd3786\"],[0.5555555555555556,\"#d8576b\"],[0.6666666666666666,\"#ed7953\"],[0.7777777777777778,\"#fb9f3a\"],[0.8888888888888888,\"#fdca26\"],[1.0,\"#f0f921\"]]},\"colorway\":[\"#636efa\",\"#EF553B\",\"#00cc96\",\"#ab63fa\",\"#FFA15A\",\"#19d3f3\",\"#FF6692\",\"#B6E880\",\"#FF97FF\",\"#FECB52\"],\"font\":{\"color\":\"#2a3f5f\"},\"geo\":{\"bgcolor\":\"white\",\"lakecolor\":\"white\",\"landcolor\":\"#E5ECF6\",\"showlakes\":true,\"showland\":true,\"subunitcolor\":\"white\"},\"hoverlabel\":{\"align\":\"left\"},\"hovermode\":\"closest\",\"mapbox\":{\"style\":\"light\"},\"paper_bgcolor\":\"white\",\"plot_bgcolor\":\"#E5ECF6\",\"polar\":{\"angularaxis\":{\"gridcolor\":\"white\",\"linecolor\":\"white\",\"ticks\":\"\"},\"bgcolor\":\"#E5ECF6\",\"radialaxis\":{\"gridcolor\":\"white\",\"linecolor\":\"white\",\"ticks\":\"\"}},\"scene\":{\"xaxis\":{\"backgroundcolor\":\"#E5ECF6\",\"gridcolor\":\"white\",\"gridwidth\":2,\"linecolor\":\"white\",\"showbackground\":true,\"ticks\":\"\",\"zerolinecolor\":\"white\"},\"yaxis\":{\"backgroundcolor\":\"#E5ECF6\",\"gridcolor\":\"white\",\"gridwidth\":2,\"linecolor\":\"white\",\"showbackground\":true,\"ticks\":\"\",\"zerolinecolor\":\"white\"},\"zaxis\":{\"backgroundcolor\":\"#E5ECF6\",\"gridcolor\":\"white\",\"gridwidth\":2,\"linecolor\":\"white\",\"showbackground\":true,\"ticks\":\"\",\"zerolinecolor\":\"white\"}},\"shapedefaults\":{\"line\":{\"color\":\"#2a3f5f\"}},\"ternary\":{\"aaxis\":{\"gridcolor\":\"white\",\"linecolor\":\"white\",\"ticks\":\"\"},\"baxis\":{\"gridcolor\":\"white\",\"linecolor\":\"white\",\"ticks\":\"\"},\"bgcolor\":\"#E5ECF6\",\"caxis\":{\"gridcolor\":\"white\",\"linecolor\":\"white\",\"ticks\":\"\"}},\"title\":{\"x\":0.05},\"xaxis\":{\"automargin\":true,\"gridcolor\":\"white\",\"linecolor\":\"white\",\"ticks\":\"\",\"title\":{\"standoff\":15},\"zerolinecolor\":\"white\",\"zerolinewidth\":2},\"yaxis\":{\"automargin\":true,\"gridcolor\":\"white\",\"linecolor\":\"white\",\"ticks\":\"\",\"title\":{\"standoff\":15},\"zerolinecolor\":\"white\",\"zerolinewidth\":2}}},\"title\":{\"font\":{\"color\":\"#4D5663\"}},\"xaxis\":{\"gridcolor\":\"#E1E5ED\",\"showgrid\":true,\"tickfont\":{\"color\":\"#4D5663\"},\"title\":{\"font\":{\"color\":\"#4D5663\"},\"text\":\"\"},\"zerolinecolor\":\"#E1E5ED\"},\"yaxis\":{\"gridcolor\":\"#E1E5ED\",\"showgrid\":true,\"tickfont\":{\"color\":\"#4D5663\"},\"title\":{\"font\":{\"color\":\"#4D5663\"},\"text\":\"\"},\"zerolinecolor\":\"#E1E5ED\"}},                        {\"showLink\": true, \"linkText\": \"Export to plot.ly\", \"plotlyServerURL\": \"https://plot.ly\", \"responsive\": true}                    ).then(function(){\n",
       "                            \n",
       "var gd = document.getElementById('b82b3023-21fa-4fd5-8ef4-1200578795ba');\n",
       "var x = new MutationObserver(function (mutations, observer) {{\n",
       "        var display = window.getComputedStyle(gd).display;\n",
       "        if (!display || display === 'none') {{\n",
       "            console.log([gd, 'removed!']);\n",
       "            Plotly.purge(gd);\n",
       "            observer.disconnect();\n",
       "        }}\n",
       "}});\n",
       "\n",
       "// Listen for the removal of the full notebook cells\n",
       "var notebookContainer = gd.closest('#notebook-container');\n",
       "if (notebookContainer) {{\n",
       "    x.observe(notebookContainer, {childList: true});\n",
       "}}\n",
       "\n",
       "// Listen for the clearing of the current output cell\n",
       "var outputEl = gd.closest('.output');\n",
       "if (outputEl) {{\n",
       "    x.observe(outputEl, {childList: true});\n",
       "}}\n",
       "\n",
       "                        })                };                });            </script>        </div>"
      ]
     },
     "metadata": {},
     "output_type": "display_data"
    }
   ],
   "source": [
    "df1.iplot(kind=\"box\")"
   ]
  },
  {
   "cell_type": "code",
   "execution_count": 25,
   "id": "5d2b330b",
   "metadata": {},
   "outputs": [],
   "source": [
    "df3 = pd.DataFrame({\"x\":[1,2,3,4,5], \"y\":[10,20,30,20,10], \"z\":[500,400,300,200,100]})"
   ]
  },
  {
   "cell_type": "code",
   "execution_count": 26,
   "id": "28810ca5",
   "metadata": {},
   "outputs": [
    {
     "data": {
      "text/html": [
       "<div>\n",
       "<style scoped>\n",
       "    .dataframe tbody tr th:only-of-type {\n",
       "        vertical-align: middle;\n",
       "    }\n",
       "\n",
       "    .dataframe tbody tr th {\n",
       "        vertical-align: top;\n",
       "    }\n",
       "\n",
       "    .dataframe thead th {\n",
       "        text-align: right;\n",
       "    }\n",
       "</style>\n",
       "<table border=\"1\" class=\"dataframe\">\n",
       "  <thead>\n",
       "    <tr style=\"text-align: right;\">\n",
       "      <th></th>\n",
       "      <th>x</th>\n",
       "      <th>y</th>\n",
       "      <th>z</th>\n",
       "    </tr>\n",
       "  </thead>\n",
       "  <tbody>\n",
       "    <tr>\n",
       "      <th>0</th>\n",
       "      <td>1</td>\n",
       "      <td>10</td>\n",
       "      <td>500</td>\n",
       "    </tr>\n",
       "    <tr>\n",
       "      <th>1</th>\n",
       "      <td>2</td>\n",
       "      <td>20</td>\n",
       "      <td>400</td>\n",
       "    </tr>\n",
       "    <tr>\n",
       "      <th>2</th>\n",
       "      <td>3</td>\n",
       "      <td>30</td>\n",
       "      <td>300</td>\n",
       "    </tr>\n",
       "    <tr>\n",
       "      <th>3</th>\n",
       "      <td>4</td>\n",
       "      <td>20</td>\n",
       "      <td>200</td>\n",
       "    </tr>\n",
       "    <tr>\n",
       "      <th>4</th>\n",
       "      <td>5</td>\n",
       "      <td>10</td>\n",
       "      <td>100</td>\n",
       "    </tr>\n",
       "  </tbody>\n",
       "</table>\n",
       "</div>"
      ],
      "text/plain": [
       "   x   y    z\n",
       "0  1  10  500\n",
       "1  2  20  400\n",
       "2  3  30  300\n",
       "3  4  20  200\n",
       "4  5  10  100"
      ]
     },
     "execution_count": 26,
     "metadata": {},
     "output_type": "execute_result"
    }
   ],
   "source": [
    "df3"
   ]
  },
  {
   "cell_type": "code",
   "execution_count": 27,
   "id": "f3dfc515",
   "metadata": {},
   "outputs": [
    {
     "data": {
      "application/vnd.plotly.v1+json": {
       "config": {
        "linkText": "Export to plot.ly",
        "plotlyServerURL": "https://plot.ly",
        "showLink": true
       },
       "data": [
        {
         "colorscale": [
          [
           0,
           "rgb(255, 153, 51)"
          ],
          [
           0.1111111111111111,
           "rgb(55, 128, 191)"
          ],
          [
           0.2222222222222222,
           "rgb(50, 171, 96)"
          ],
          [
           0.3333333333333333,
           "rgb(128, 0, 128)"
          ],
          [
           0.4444444444444444,
           "rgb(219, 64, 82)"
          ],
          [
           0.5555555555555556,
           "rgb(0, 128, 128)"
          ],
          [
           0.6666666666666666,
           "rgb(255, 255, 51)"
          ],
          [
           0.7777777777777778,
           "rgb(128, 128, 0)"
          ],
          [
           0.8888888888888888,
           "rgb(251, 128, 114)"
          ],
          [
           1,
           "rgb(128, 177, 211)"
          ]
         ],
         "type": "surface",
         "x": [
          0,
          1,
          2,
          3,
          4
         ],
         "y": [
          "x",
          "y",
          "z"
         ],
         "z": [
          [
           1,
           2,
           3,
           4,
           5
          ],
          [
           10,
           20,
           30,
           20,
           10
          ],
          [
           500,
           400,
           300,
           200,
           100
          ]
         ]
        }
       ],
       "layout": {
        "legend": {
         "bgcolor": "#F5F6F9",
         "font": {
          "color": "#4D5663"
         }
        },
        "paper_bgcolor": "#F5F6F9",
        "plot_bgcolor": "#F5F6F9",
        "template": {
         "data": {
          "bar": [
           {
            "error_x": {
             "color": "#2a3f5f"
            },
            "error_y": {
             "color": "#2a3f5f"
            },
            "marker": {
             "line": {
              "color": "#E5ECF6",
              "width": 0.5
             },
             "pattern": {
              "fillmode": "overlay",
              "size": 10,
              "solidity": 0.2
             }
            },
            "type": "bar"
           }
          ],
          "barpolar": [
           {
            "marker": {
             "line": {
              "color": "#E5ECF6",
              "width": 0.5
             },
             "pattern": {
              "fillmode": "overlay",
              "size": 10,
              "solidity": 0.2
             }
            },
            "type": "barpolar"
           }
          ],
          "carpet": [
           {
            "aaxis": {
             "endlinecolor": "#2a3f5f",
             "gridcolor": "white",
             "linecolor": "white",
             "minorgridcolor": "white",
             "startlinecolor": "#2a3f5f"
            },
            "baxis": {
             "endlinecolor": "#2a3f5f",
             "gridcolor": "white",
             "linecolor": "white",
             "minorgridcolor": "white",
             "startlinecolor": "#2a3f5f"
            },
            "type": "carpet"
           }
          ],
          "choropleth": [
           {
            "colorbar": {
             "outlinewidth": 0,
             "ticks": ""
            },
            "type": "choropleth"
           }
          ],
          "contour": [
           {
            "colorbar": {
             "outlinewidth": 0,
             "ticks": ""
            },
            "colorscale": [
             [
              0,
              "#0d0887"
             ],
             [
              0.1111111111111111,
              "#46039f"
             ],
             [
              0.2222222222222222,
              "#7201a8"
             ],
             [
              0.3333333333333333,
              "#9c179e"
             ],
             [
              0.4444444444444444,
              "#bd3786"
             ],
             [
              0.5555555555555556,
              "#d8576b"
             ],
             [
              0.6666666666666666,
              "#ed7953"
             ],
             [
              0.7777777777777778,
              "#fb9f3a"
             ],
             [
              0.8888888888888888,
              "#fdca26"
             ],
             [
              1,
              "#f0f921"
             ]
            ],
            "type": "contour"
           }
          ],
          "contourcarpet": [
           {
            "colorbar": {
             "outlinewidth": 0,
             "ticks": ""
            },
            "type": "contourcarpet"
           }
          ],
          "heatmap": [
           {
            "colorbar": {
             "outlinewidth": 0,
             "ticks": ""
            },
            "colorscale": [
             [
              0,
              "#0d0887"
             ],
             [
              0.1111111111111111,
              "#46039f"
             ],
             [
              0.2222222222222222,
              "#7201a8"
             ],
             [
              0.3333333333333333,
              "#9c179e"
             ],
             [
              0.4444444444444444,
              "#bd3786"
             ],
             [
              0.5555555555555556,
              "#d8576b"
             ],
             [
              0.6666666666666666,
              "#ed7953"
             ],
             [
              0.7777777777777778,
              "#fb9f3a"
             ],
             [
              0.8888888888888888,
              "#fdca26"
             ],
             [
              1,
              "#f0f921"
             ]
            ],
            "type": "heatmap"
           }
          ],
          "heatmapgl": [
           {
            "colorbar": {
             "outlinewidth": 0,
             "ticks": ""
            },
            "colorscale": [
             [
              0,
              "#0d0887"
             ],
             [
              0.1111111111111111,
              "#46039f"
             ],
             [
              0.2222222222222222,
              "#7201a8"
             ],
             [
              0.3333333333333333,
              "#9c179e"
             ],
             [
              0.4444444444444444,
              "#bd3786"
             ],
             [
              0.5555555555555556,
              "#d8576b"
             ],
             [
              0.6666666666666666,
              "#ed7953"
             ],
             [
              0.7777777777777778,
              "#fb9f3a"
             ],
             [
              0.8888888888888888,
              "#fdca26"
             ],
             [
              1,
              "#f0f921"
             ]
            ],
            "type": "heatmapgl"
           }
          ],
          "histogram": [
           {
            "marker": {
             "pattern": {
              "fillmode": "overlay",
              "size": 10,
              "solidity": 0.2
             }
            },
            "type": "histogram"
           }
          ],
          "histogram2d": [
           {
            "colorbar": {
             "outlinewidth": 0,
             "ticks": ""
            },
            "colorscale": [
             [
              0,
              "#0d0887"
             ],
             [
              0.1111111111111111,
              "#46039f"
             ],
             [
              0.2222222222222222,
              "#7201a8"
             ],
             [
              0.3333333333333333,
              "#9c179e"
             ],
             [
              0.4444444444444444,
              "#bd3786"
             ],
             [
              0.5555555555555556,
              "#d8576b"
             ],
             [
              0.6666666666666666,
              "#ed7953"
             ],
             [
              0.7777777777777778,
              "#fb9f3a"
             ],
             [
              0.8888888888888888,
              "#fdca26"
             ],
             [
              1,
              "#f0f921"
             ]
            ],
            "type": "histogram2d"
           }
          ],
          "histogram2dcontour": [
           {
            "colorbar": {
             "outlinewidth": 0,
             "ticks": ""
            },
            "colorscale": [
             [
              0,
              "#0d0887"
             ],
             [
              0.1111111111111111,
              "#46039f"
             ],
             [
              0.2222222222222222,
              "#7201a8"
             ],
             [
              0.3333333333333333,
              "#9c179e"
             ],
             [
              0.4444444444444444,
              "#bd3786"
             ],
             [
              0.5555555555555556,
              "#d8576b"
             ],
             [
              0.6666666666666666,
              "#ed7953"
             ],
             [
              0.7777777777777778,
              "#fb9f3a"
             ],
             [
              0.8888888888888888,
              "#fdca26"
             ],
             [
              1,
              "#f0f921"
             ]
            ],
            "type": "histogram2dcontour"
           }
          ],
          "mesh3d": [
           {
            "colorbar": {
             "outlinewidth": 0,
             "ticks": ""
            },
            "type": "mesh3d"
           }
          ],
          "parcoords": [
           {
            "line": {
             "colorbar": {
              "outlinewidth": 0,
              "ticks": ""
             }
            },
            "type": "parcoords"
           }
          ],
          "pie": [
           {
            "automargin": true,
            "type": "pie"
           }
          ],
          "scatter": [
           {
            "marker": {
             "colorbar": {
              "outlinewidth": 0,
              "ticks": ""
             }
            },
            "type": "scatter"
           }
          ],
          "scatter3d": [
           {
            "line": {
             "colorbar": {
              "outlinewidth": 0,
              "ticks": ""
             }
            },
            "marker": {
             "colorbar": {
              "outlinewidth": 0,
              "ticks": ""
             }
            },
            "type": "scatter3d"
           }
          ],
          "scattercarpet": [
           {
            "marker": {
             "colorbar": {
              "outlinewidth": 0,
              "ticks": ""
             }
            },
            "type": "scattercarpet"
           }
          ],
          "scattergeo": [
           {
            "marker": {
             "colorbar": {
              "outlinewidth": 0,
              "ticks": ""
             }
            },
            "type": "scattergeo"
           }
          ],
          "scattergl": [
           {
            "marker": {
             "colorbar": {
              "outlinewidth": 0,
              "ticks": ""
             }
            },
            "type": "scattergl"
           }
          ],
          "scattermapbox": [
           {
            "marker": {
             "colorbar": {
              "outlinewidth": 0,
              "ticks": ""
             }
            },
            "type": "scattermapbox"
           }
          ],
          "scatterpolar": [
           {
            "marker": {
             "colorbar": {
              "outlinewidth": 0,
              "ticks": ""
             }
            },
            "type": "scatterpolar"
           }
          ],
          "scatterpolargl": [
           {
            "marker": {
             "colorbar": {
              "outlinewidth": 0,
              "ticks": ""
             }
            },
            "type": "scatterpolargl"
           }
          ],
          "scatterternary": [
           {
            "marker": {
             "colorbar": {
              "outlinewidth": 0,
              "ticks": ""
             }
            },
            "type": "scatterternary"
           }
          ],
          "surface": [
           {
            "colorbar": {
             "outlinewidth": 0,
             "ticks": ""
            },
            "colorscale": [
             [
              0,
              "#0d0887"
             ],
             [
              0.1111111111111111,
              "#46039f"
             ],
             [
              0.2222222222222222,
              "#7201a8"
             ],
             [
              0.3333333333333333,
              "#9c179e"
             ],
             [
              0.4444444444444444,
              "#bd3786"
             ],
             [
              0.5555555555555556,
              "#d8576b"
             ],
             [
              0.6666666666666666,
              "#ed7953"
             ],
             [
              0.7777777777777778,
              "#fb9f3a"
             ],
             [
              0.8888888888888888,
              "#fdca26"
             ],
             [
              1,
              "#f0f921"
             ]
            ],
            "type": "surface"
           }
          ],
          "table": [
           {
            "cells": {
             "fill": {
              "color": "#EBF0F8"
             },
             "line": {
              "color": "white"
             }
            },
            "header": {
             "fill": {
              "color": "#C8D4E3"
             },
             "line": {
              "color": "white"
             }
            },
            "type": "table"
           }
          ]
         },
         "layout": {
          "annotationdefaults": {
           "arrowcolor": "#2a3f5f",
           "arrowhead": 0,
           "arrowwidth": 1
          },
          "autotypenumbers": "strict",
          "coloraxis": {
           "colorbar": {
            "outlinewidth": 0,
            "ticks": ""
           }
          },
          "colorscale": {
           "diverging": [
            [
             0,
             "#8e0152"
            ],
            [
             0.1,
             "#c51b7d"
            ],
            [
             0.2,
             "#de77ae"
            ],
            [
             0.3,
             "#f1b6da"
            ],
            [
             0.4,
             "#fde0ef"
            ],
            [
             0.5,
             "#f7f7f7"
            ],
            [
             0.6,
             "#e6f5d0"
            ],
            [
             0.7,
             "#b8e186"
            ],
            [
             0.8,
             "#7fbc41"
            ],
            [
             0.9,
             "#4d9221"
            ],
            [
             1,
             "#276419"
            ]
           ],
           "sequential": [
            [
             0,
             "#0d0887"
            ],
            [
             0.1111111111111111,
             "#46039f"
            ],
            [
             0.2222222222222222,
             "#7201a8"
            ],
            [
             0.3333333333333333,
             "#9c179e"
            ],
            [
             0.4444444444444444,
             "#bd3786"
            ],
            [
             0.5555555555555556,
             "#d8576b"
            ],
            [
             0.6666666666666666,
             "#ed7953"
            ],
            [
             0.7777777777777778,
             "#fb9f3a"
            ],
            [
             0.8888888888888888,
             "#fdca26"
            ],
            [
             1,
             "#f0f921"
            ]
           ],
           "sequentialminus": [
            [
             0,
             "#0d0887"
            ],
            [
             0.1111111111111111,
             "#46039f"
            ],
            [
             0.2222222222222222,
             "#7201a8"
            ],
            [
             0.3333333333333333,
             "#9c179e"
            ],
            [
             0.4444444444444444,
             "#bd3786"
            ],
            [
             0.5555555555555556,
             "#d8576b"
            ],
            [
             0.6666666666666666,
             "#ed7953"
            ],
            [
             0.7777777777777778,
             "#fb9f3a"
            ],
            [
             0.8888888888888888,
             "#fdca26"
            ],
            [
             1,
             "#f0f921"
            ]
           ]
          },
          "colorway": [
           "#636efa",
           "#EF553B",
           "#00cc96",
           "#ab63fa",
           "#FFA15A",
           "#19d3f3",
           "#FF6692",
           "#B6E880",
           "#FF97FF",
           "#FECB52"
          ],
          "font": {
           "color": "#2a3f5f"
          },
          "geo": {
           "bgcolor": "white",
           "lakecolor": "white",
           "landcolor": "#E5ECF6",
           "showlakes": true,
           "showland": true,
           "subunitcolor": "white"
          },
          "hoverlabel": {
           "align": "left"
          },
          "hovermode": "closest",
          "mapbox": {
           "style": "light"
          },
          "paper_bgcolor": "white",
          "plot_bgcolor": "#E5ECF6",
          "polar": {
           "angularaxis": {
            "gridcolor": "white",
            "linecolor": "white",
            "ticks": ""
           },
           "bgcolor": "#E5ECF6",
           "radialaxis": {
            "gridcolor": "white",
            "linecolor": "white",
            "ticks": ""
           }
          },
          "scene": {
           "xaxis": {
            "backgroundcolor": "#E5ECF6",
            "gridcolor": "white",
            "gridwidth": 2,
            "linecolor": "white",
            "showbackground": true,
            "ticks": "",
            "zerolinecolor": "white"
           },
           "yaxis": {
            "backgroundcolor": "#E5ECF6",
            "gridcolor": "white",
            "gridwidth": 2,
            "linecolor": "white",
            "showbackground": true,
            "ticks": "",
            "zerolinecolor": "white"
           },
           "zaxis": {
            "backgroundcolor": "#E5ECF6",
            "gridcolor": "white",
            "gridwidth": 2,
            "linecolor": "white",
            "showbackground": true,
            "ticks": "",
            "zerolinecolor": "white"
           }
          },
          "shapedefaults": {
           "line": {
            "color": "#2a3f5f"
           }
          },
          "ternary": {
           "aaxis": {
            "gridcolor": "white",
            "linecolor": "white",
            "ticks": ""
           },
           "baxis": {
            "gridcolor": "white",
            "linecolor": "white",
            "ticks": ""
           },
           "bgcolor": "#E5ECF6",
           "caxis": {
            "gridcolor": "white",
            "linecolor": "white",
            "ticks": ""
           }
          },
          "title": {
           "x": 0.05
          },
          "xaxis": {
           "automargin": true,
           "gridcolor": "white",
           "linecolor": "white",
           "ticks": "",
           "title": {
            "standoff": 15
           },
           "zerolinecolor": "white",
           "zerolinewidth": 2
          },
          "yaxis": {
           "automargin": true,
           "gridcolor": "white",
           "linecolor": "white",
           "ticks": "",
           "title": {
            "standoff": 15
           },
           "zerolinecolor": "white",
           "zerolinewidth": 2
          }
         }
        },
        "title": {
         "font": {
          "color": "#4D5663"
         }
        },
        "xaxis": {
         "gridcolor": "#E1E5ED",
         "showgrid": true,
         "tickfont": {
          "color": "#4D5663"
         },
         "title": {
          "font": {
           "color": "#4D5663"
          },
          "text": ""
         },
         "zerolinecolor": "#E1E5ED"
        },
        "yaxis": {
         "gridcolor": "#E1E5ED",
         "showgrid": true,
         "tickfont": {
          "color": "#4D5663"
         },
         "title": {
          "font": {
           "color": "#4D5663"
          },
          "text": ""
         },
         "zerolinecolor": "#E1E5ED"
        }
       }
      },
      "text/html": [
       "<div>                            <div id=\"ac4b8a6d-f0cf-41bf-9bce-8bb42340c95f\" class=\"plotly-graph-div\" style=\"height:525px; width:100%;\"></div>            <script type=\"text/javascript\">                require([\"plotly\"], function(Plotly) {                    window.PLOTLYENV=window.PLOTLYENV || {};\n",
       "                    window.PLOTLYENV.BASE_URL='https://plot.ly';                                    if (document.getElementById(\"ac4b8a6d-f0cf-41bf-9bce-8bb42340c95f\")) {                    Plotly.newPlot(                        \"ac4b8a6d-f0cf-41bf-9bce-8bb42340c95f\",                        [{\"colorscale\":[[0.0,\"rgb(255, 153, 51)\"],[0.1111111111111111,\"rgb(55, 128, 191)\"],[0.2222222222222222,\"rgb(50, 171, 96)\"],[0.3333333333333333,\"rgb(128, 0, 128)\"],[0.4444444444444444,\"rgb(219, 64, 82)\"],[0.5555555555555556,\"rgb(0, 128, 128)\"],[0.6666666666666666,\"rgb(255, 255, 51)\"],[0.7777777777777778,\"rgb(128, 128, 0)\"],[0.8888888888888888,\"rgb(251, 128, 114)\"],[1.0,\"rgb(128, 177, 211)\"]],\"x\":[0,1,2,3,4],\"y\":[\"x\",\"y\",\"z\"],\"z\":[[1,2,3,4,5],[10,20,30,20,10],[500,400,300,200,100]],\"type\":\"surface\"}],                        {\"legend\":{\"bgcolor\":\"#F5F6F9\",\"font\":{\"color\":\"#4D5663\"}},\"paper_bgcolor\":\"#F5F6F9\",\"plot_bgcolor\":\"#F5F6F9\",\"template\":{\"data\":{\"barpolar\":[{\"marker\":{\"line\":{\"color\":\"#E5ECF6\",\"width\":0.5},\"pattern\":{\"fillmode\":\"overlay\",\"size\":10,\"solidity\":0.2}},\"type\":\"barpolar\"}],\"bar\":[{\"error_x\":{\"color\":\"#2a3f5f\"},\"error_y\":{\"color\":\"#2a3f5f\"},\"marker\":{\"line\":{\"color\":\"#E5ECF6\",\"width\":0.5},\"pattern\":{\"fillmode\":\"overlay\",\"size\":10,\"solidity\":0.2}},\"type\":\"bar\"}],\"carpet\":[{\"aaxis\":{\"endlinecolor\":\"#2a3f5f\",\"gridcolor\":\"white\",\"linecolor\":\"white\",\"minorgridcolor\":\"white\",\"startlinecolor\":\"#2a3f5f\"},\"baxis\":{\"endlinecolor\":\"#2a3f5f\",\"gridcolor\":\"white\",\"linecolor\":\"white\",\"minorgridcolor\":\"white\",\"startlinecolor\":\"#2a3f5f\"},\"type\":\"carpet\"}],\"choropleth\":[{\"colorbar\":{\"outlinewidth\":0,\"ticks\":\"\"},\"type\":\"choropleth\"}],\"contourcarpet\":[{\"colorbar\":{\"outlinewidth\":0,\"ticks\":\"\"},\"type\":\"contourcarpet\"}],\"contour\":[{\"colorbar\":{\"outlinewidth\":0,\"ticks\":\"\"},\"colorscale\":[[0.0,\"#0d0887\"],[0.1111111111111111,\"#46039f\"],[0.2222222222222222,\"#7201a8\"],[0.3333333333333333,\"#9c179e\"],[0.4444444444444444,\"#bd3786\"],[0.5555555555555556,\"#d8576b\"],[0.6666666666666666,\"#ed7953\"],[0.7777777777777778,\"#fb9f3a\"],[0.8888888888888888,\"#fdca26\"],[1.0,\"#f0f921\"]],\"type\":\"contour\"}],\"heatmapgl\":[{\"colorbar\":{\"outlinewidth\":0,\"ticks\":\"\"},\"colorscale\":[[0.0,\"#0d0887\"],[0.1111111111111111,\"#46039f\"],[0.2222222222222222,\"#7201a8\"],[0.3333333333333333,\"#9c179e\"],[0.4444444444444444,\"#bd3786\"],[0.5555555555555556,\"#d8576b\"],[0.6666666666666666,\"#ed7953\"],[0.7777777777777778,\"#fb9f3a\"],[0.8888888888888888,\"#fdca26\"],[1.0,\"#f0f921\"]],\"type\":\"heatmapgl\"}],\"heatmap\":[{\"colorbar\":{\"outlinewidth\":0,\"ticks\":\"\"},\"colorscale\":[[0.0,\"#0d0887\"],[0.1111111111111111,\"#46039f\"],[0.2222222222222222,\"#7201a8\"],[0.3333333333333333,\"#9c179e\"],[0.4444444444444444,\"#bd3786\"],[0.5555555555555556,\"#d8576b\"],[0.6666666666666666,\"#ed7953\"],[0.7777777777777778,\"#fb9f3a\"],[0.8888888888888888,\"#fdca26\"],[1.0,\"#f0f921\"]],\"type\":\"heatmap\"}],\"histogram2dcontour\":[{\"colorbar\":{\"outlinewidth\":0,\"ticks\":\"\"},\"colorscale\":[[0.0,\"#0d0887\"],[0.1111111111111111,\"#46039f\"],[0.2222222222222222,\"#7201a8\"],[0.3333333333333333,\"#9c179e\"],[0.4444444444444444,\"#bd3786\"],[0.5555555555555556,\"#d8576b\"],[0.6666666666666666,\"#ed7953\"],[0.7777777777777778,\"#fb9f3a\"],[0.8888888888888888,\"#fdca26\"],[1.0,\"#f0f921\"]],\"type\":\"histogram2dcontour\"}],\"histogram2d\":[{\"colorbar\":{\"outlinewidth\":0,\"ticks\":\"\"},\"colorscale\":[[0.0,\"#0d0887\"],[0.1111111111111111,\"#46039f\"],[0.2222222222222222,\"#7201a8\"],[0.3333333333333333,\"#9c179e\"],[0.4444444444444444,\"#bd3786\"],[0.5555555555555556,\"#d8576b\"],[0.6666666666666666,\"#ed7953\"],[0.7777777777777778,\"#fb9f3a\"],[0.8888888888888888,\"#fdca26\"],[1.0,\"#f0f921\"]],\"type\":\"histogram2d\"}],\"histogram\":[{\"marker\":{\"pattern\":{\"fillmode\":\"overlay\",\"size\":10,\"solidity\":0.2}},\"type\":\"histogram\"}],\"mesh3d\":[{\"colorbar\":{\"outlinewidth\":0,\"ticks\":\"\"},\"type\":\"mesh3d\"}],\"parcoords\":[{\"line\":{\"colorbar\":{\"outlinewidth\":0,\"ticks\":\"\"}},\"type\":\"parcoords\"}],\"pie\":[{\"automargin\":true,\"type\":\"pie\"}],\"scatter3d\":[{\"line\":{\"colorbar\":{\"outlinewidth\":0,\"ticks\":\"\"}},\"marker\":{\"colorbar\":{\"outlinewidth\":0,\"ticks\":\"\"}},\"type\":\"scatter3d\"}],\"scattercarpet\":[{\"marker\":{\"colorbar\":{\"outlinewidth\":0,\"ticks\":\"\"}},\"type\":\"scattercarpet\"}],\"scattergeo\":[{\"marker\":{\"colorbar\":{\"outlinewidth\":0,\"ticks\":\"\"}},\"type\":\"scattergeo\"}],\"scattergl\":[{\"marker\":{\"colorbar\":{\"outlinewidth\":0,\"ticks\":\"\"}},\"type\":\"scattergl\"}],\"scattermapbox\":[{\"marker\":{\"colorbar\":{\"outlinewidth\":0,\"ticks\":\"\"}},\"type\":\"scattermapbox\"}],\"scatterpolargl\":[{\"marker\":{\"colorbar\":{\"outlinewidth\":0,\"ticks\":\"\"}},\"type\":\"scatterpolargl\"}],\"scatterpolar\":[{\"marker\":{\"colorbar\":{\"outlinewidth\":0,\"ticks\":\"\"}},\"type\":\"scatterpolar\"}],\"scatter\":[{\"marker\":{\"colorbar\":{\"outlinewidth\":0,\"ticks\":\"\"}},\"type\":\"scatter\"}],\"scatterternary\":[{\"marker\":{\"colorbar\":{\"outlinewidth\":0,\"ticks\":\"\"}},\"type\":\"scatterternary\"}],\"surface\":[{\"colorbar\":{\"outlinewidth\":0,\"ticks\":\"\"},\"colorscale\":[[0.0,\"#0d0887\"],[0.1111111111111111,\"#46039f\"],[0.2222222222222222,\"#7201a8\"],[0.3333333333333333,\"#9c179e\"],[0.4444444444444444,\"#bd3786\"],[0.5555555555555556,\"#d8576b\"],[0.6666666666666666,\"#ed7953\"],[0.7777777777777778,\"#fb9f3a\"],[0.8888888888888888,\"#fdca26\"],[1.0,\"#f0f921\"]],\"type\":\"surface\"}],\"table\":[{\"cells\":{\"fill\":{\"color\":\"#EBF0F8\"},\"line\":{\"color\":\"white\"}},\"header\":{\"fill\":{\"color\":\"#C8D4E3\"},\"line\":{\"color\":\"white\"}},\"type\":\"table\"}]},\"layout\":{\"annotationdefaults\":{\"arrowcolor\":\"#2a3f5f\",\"arrowhead\":0,\"arrowwidth\":1},\"autotypenumbers\":\"strict\",\"coloraxis\":{\"colorbar\":{\"outlinewidth\":0,\"ticks\":\"\"}},\"colorscale\":{\"diverging\":[[0,\"#8e0152\"],[0.1,\"#c51b7d\"],[0.2,\"#de77ae\"],[0.3,\"#f1b6da\"],[0.4,\"#fde0ef\"],[0.5,\"#f7f7f7\"],[0.6,\"#e6f5d0\"],[0.7,\"#b8e186\"],[0.8,\"#7fbc41\"],[0.9,\"#4d9221\"],[1,\"#276419\"]],\"sequential\":[[0.0,\"#0d0887\"],[0.1111111111111111,\"#46039f\"],[0.2222222222222222,\"#7201a8\"],[0.3333333333333333,\"#9c179e\"],[0.4444444444444444,\"#bd3786\"],[0.5555555555555556,\"#d8576b\"],[0.6666666666666666,\"#ed7953\"],[0.7777777777777778,\"#fb9f3a\"],[0.8888888888888888,\"#fdca26\"],[1.0,\"#f0f921\"]],\"sequentialminus\":[[0.0,\"#0d0887\"],[0.1111111111111111,\"#46039f\"],[0.2222222222222222,\"#7201a8\"],[0.3333333333333333,\"#9c179e\"],[0.4444444444444444,\"#bd3786\"],[0.5555555555555556,\"#d8576b\"],[0.6666666666666666,\"#ed7953\"],[0.7777777777777778,\"#fb9f3a\"],[0.8888888888888888,\"#fdca26\"],[1.0,\"#f0f921\"]]},\"colorway\":[\"#636efa\",\"#EF553B\",\"#00cc96\",\"#ab63fa\",\"#FFA15A\",\"#19d3f3\",\"#FF6692\",\"#B6E880\",\"#FF97FF\",\"#FECB52\"],\"font\":{\"color\":\"#2a3f5f\"},\"geo\":{\"bgcolor\":\"white\",\"lakecolor\":\"white\",\"landcolor\":\"#E5ECF6\",\"showlakes\":true,\"showland\":true,\"subunitcolor\":\"white\"},\"hoverlabel\":{\"align\":\"left\"},\"hovermode\":\"closest\",\"mapbox\":{\"style\":\"light\"},\"paper_bgcolor\":\"white\",\"plot_bgcolor\":\"#E5ECF6\",\"polar\":{\"angularaxis\":{\"gridcolor\":\"white\",\"linecolor\":\"white\",\"ticks\":\"\"},\"bgcolor\":\"#E5ECF6\",\"radialaxis\":{\"gridcolor\":\"white\",\"linecolor\":\"white\",\"ticks\":\"\"}},\"scene\":{\"xaxis\":{\"backgroundcolor\":\"#E5ECF6\",\"gridcolor\":\"white\",\"gridwidth\":2,\"linecolor\":\"white\",\"showbackground\":true,\"ticks\":\"\",\"zerolinecolor\":\"white\"},\"yaxis\":{\"backgroundcolor\":\"#E5ECF6\",\"gridcolor\":\"white\",\"gridwidth\":2,\"linecolor\":\"white\",\"showbackground\":true,\"ticks\":\"\",\"zerolinecolor\":\"white\"},\"zaxis\":{\"backgroundcolor\":\"#E5ECF6\",\"gridcolor\":\"white\",\"gridwidth\":2,\"linecolor\":\"white\",\"showbackground\":true,\"ticks\":\"\",\"zerolinecolor\":\"white\"}},\"shapedefaults\":{\"line\":{\"color\":\"#2a3f5f\"}},\"ternary\":{\"aaxis\":{\"gridcolor\":\"white\",\"linecolor\":\"white\",\"ticks\":\"\"},\"baxis\":{\"gridcolor\":\"white\",\"linecolor\":\"white\",\"ticks\":\"\"},\"bgcolor\":\"#E5ECF6\",\"caxis\":{\"gridcolor\":\"white\",\"linecolor\":\"white\",\"ticks\":\"\"}},\"title\":{\"x\":0.05},\"xaxis\":{\"automargin\":true,\"gridcolor\":\"white\",\"linecolor\":\"white\",\"ticks\":\"\",\"title\":{\"standoff\":15},\"zerolinecolor\":\"white\",\"zerolinewidth\":2},\"yaxis\":{\"automargin\":true,\"gridcolor\":\"white\",\"linecolor\":\"white\",\"ticks\":\"\",\"title\":{\"standoff\":15},\"zerolinecolor\":\"white\",\"zerolinewidth\":2}}},\"title\":{\"font\":{\"color\":\"#4D5663\"}},\"xaxis\":{\"gridcolor\":\"#E1E5ED\",\"showgrid\":true,\"tickfont\":{\"color\":\"#4D5663\"},\"title\":{\"font\":{\"color\":\"#4D5663\"},\"text\":\"\"},\"zerolinecolor\":\"#E1E5ED\"},\"yaxis\":{\"gridcolor\":\"#E1E5ED\",\"showgrid\":true,\"tickfont\":{\"color\":\"#4D5663\"},\"title\":{\"font\":{\"color\":\"#4D5663\"},\"text\":\"\"},\"zerolinecolor\":\"#E1E5ED\"}},                        {\"showLink\": true, \"linkText\": \"Export to plot.ly\", \"plotlyServerURL\": \"https://plot.ly\", \"responsive\": true}                    ).then(function(){\n",
       "                            \n",
       "var gd = document.getElementById('ac4b8a6d-f0cf-41bf-9bce-8bb42340c95f');\n",
       "var x = new MutationObserver(function (mutations, observer) {{\n",
       "        var display = window.getComputedStyle(gd).display;\n",
       "        if (!display || display === 'none') {{\n",
       "            console.log([gd, 'removed!']);\n",
       "            Plotly.purge(gd);\n",
       "            observer.disconnect();\n",
       "        }}\n",
       "}});\n",
       "\n",
       "// Listen for the removal of the full notebook cells\n",
       "var notebookContainer = gd.closest('#notebook-container');\n",
       "if (notebookContainer) {{\n",
       "    x.observe(notebookContainer, {childList: true});\n",
       "}}\n",
       "\n",
       "// Listen for the clearing of the current output cell\n",
       "var outputEl = gd.closest('.output');\n",
       "if (outputEl) {{\n",
       "    x.observe(outputEl, {childList: true});\n",
       "}}\n",
       "\n",
       "                        })                };                });            </script>        </div>"
      ]
     },
     "metadata": {},
     "output_type": "display_data"
    }
   ],
   "source": [
    "df3.iplot(kind=\"surface\")"
   ]
  },
  {
   "cell_type": "code",
   "execution_count": 28,
   "id": "6be6ee35",
   "metadata": {},
   "outputs": [],
   "source": [
    "df4 = pd.DataFrame({\"x\":[1,2,3,4,5], \"y\":[10,20,30,20,10], \"z\":[5,4,3,2,1]})"
   ]
  },
  {
   "cell_type": "code",
   "execution_count": 29,
   "id": "9f6dcd59",
   "metadata": {},
   "outputs": [
    {
     "data": {
      "application/vnd.plotly.v1+json": {
       "config": {
        "linkText": "Export to plot.ly",
        "plotlyServerURL": "https://plot.ly",
        "showLink": true
       },
       "data": [
        {
         "colorscale": [
          [
           0,
           "rgb(255, 153, 51)"
          ],
          [
           0.1111111111111111,
           "rgb(55, 128, 191)"
          ],
          [
           0.2222222222222222,
           "rgb(50, 171, 96)"
          ],
          [
           0.3333333333333333,
           "rgb(128, 0, 128)"
          ],
          [
           0.4444444444444444,
           "rgb(219, 64, 82)"
          ],
          [
           0.5555555555555556,
           "rgb(0, 128, 128)"
          ],
          [
           0.6666666666666666,
           "rgb(255, 255, 51)"
          ],
          [
           0.7777777777777778,
           "rgb(128, 128, 0)"
          ],
          [
           0.8888888888888888,
           "rgb(251, 128, 114)"
          ],
          [
           1,
           "rgb(128, 177, 211)"
          ]
         ],
         "type": "surface",
         "x": [
          0,
          1,
          2,
          3,
          4
         ],
         "y": [
          "x",
          "y",
          "z"
         ],
         "z": [
          [
           1,
           2,
           3,
           4,
           5
          ],
          [
           10,
           20,
           30,
           20,
           10
          ],
          [
           5,
           4,
           3,
           2,
           1
          ]
         ]
        }
       ],
       "layout": {
        "legend": {
         "bgcolor": "#F5F6F9",
         "font": {
          "color": "#4D5663"
         }
        },
        "paper_bgcolor": "#F5F6F9",
        "plot_bgcolor": "#F5F6F9",
        "template": {
         "data": {
          "bar": [
           {
            "error_x": {
             "color": "#2a3f5f"
            },
            "error_y": {
             "color": "#2a3f5f"
            },
            "marker": {
             "line": {
              "color": "#E5ECF6",
              "width": 0.5
             },
             "pattern": {
              "fillmode": "overlay",
              "size": 10,
              "solidity": 0.2
             }
            },
            "type": "bar"
           }
          ],
          "barpolar": [
           {
            "marker": {
             "line": {
              "color": "#E5ECF6",
              "width": 0.5
             },
             "pattern": {
              "fillmode": "overlay",
              "size": 10,
              "solidity": 0.2
             }
            },
            "type": "barpolar"
           }
          ],
          "carpet": [
           {
            "aaxis": {
             "endlinecolor": "#2a3f5f",
             "gridcolor": "white",
             "linecolor": "white",
             "minorgridcolor": "white",
             "startlinecolor": "#2a3f5f"
            },
            "baxis": {
             "endlinecolor": "#2a3f5f",
             "gridcolor": "white",
             "linecolor": "white",
             "minorgridcolor": "white",
             "startlinecolor": "#2a3f5f"
            },
            "type": "carpet"
           }
          ],
          "choropleth": [
           {
            "colorbar": {
             "outlinewidth": 0,
             "ticks": ""
            },
            "type": "choropleth"
           }
          ],
          "contour": [
           {
            "colorbar": {
             "outlinewidth": 0,
             "ticks": ""
            },
            "colorscale": [
             [
              0,
              "#0d0887"
             ],
             [
              0.1111111111111111,
              "#46039f"
             ],
             [
              0.2222222222222222,
              "#7201a8"
             ],
             [
              0.3333333333333333,
              "#9c179e"
             ],
             [
              0.4444444444444444,
              "#bd3786"
             ],
             [
              0.5555555555555556,
              "#d8576b"
             ],
             [
              0.6666666666666666,
              "#ed7953"
             ],
             [
              0.7777777777777778,
              "#fb9f3a"
             ],
             [
              0.8888888888888888,
              "#fdca26"
             ],
             [
              1,
              "#f0f921"
             ]
            ],
            "type": "contour"
           }
          ],
          "contourcarpet": [
           {
            "colorbar": {
             "outlinewidth": 0,
             "ticks": ""
            },
            "type": "contourcarpet"
           }
          ],
          "heatmap": [
           {
            "colorbar": {
             "outlinewidth": 0,
             "ticks": ""
            },
            "colorscale": [
             [
              0,
              "#0d0887"
             ],
             [
              0.1111111111111111,
              "#46039f"
             ],
             [
              0.2222222222222222,
              "#7201a8"
             ],
             [
              0.3333333333333333,
              "#9c179e"
             ],
             [
              0.4444444444444444,
              "#bd3786"
             ],
             [
              0.5555555555555556,
              "#d8576b"
             ],
             [
              0.6666666666666666,
              "#ed7953"
             ],
             [
              0.7777777777777778,
              "#fb9f3a"
             ],
             [
              0.8888888888888888,
              "#fdca26"
             ],
             [
              1,
              "#f0f921"
             ]
            ],
            "type": "heatmap"
           }
          ],
          "heatmapgl": [
           {
            "colorbar": {
             "outlinewidth": 0,
             "ticks": ""
            },
            "colorscale": [
             [
              0,
              "#0d0887"
             ],
             [
              0.1111111111111111,
              "#46039f"
             ],
             [
              0.2222222222222222,
              "#7201a8"
             ],
             [
              0.3333333333333333,
              "#9c179e"
             ],
             [
              0.4444444444444444,
              "#bd3786"
             ],
             [
              0.5555555555555556,
              "#d8576b"
             ],
             [
              0.6666666666666666,
              "#ed7953"
             ],
             [
              0.7777777777777778,
              "#fb9f3a"
             ],
             [
              0.8888888888888888,
              "#fdca26"
             ],
             [
              1,
              "#f0f921"
             ]
            ],
            "type": "heatmapgl"
           }
          ],
          "histogram": [
           {
            "marker": {
             "pattern": {
              "fillmode": "overlay",
              "size": 10,
              "solidity": 0.2
             }
            },
            "type": "histogram"
           }
          ],
          "histogram2d": [
           {
            "colorbar": {
             "outlinewidth": 0,
             "ticks": ""
            },
            "colorscale": [
             [
              0,
              "#0d0887"
             ],
             [
              0.1111111111111111,
              "#46039f"
             ],
             [
              0.2222222222222222,
              "#7201a8"
             ],
             [
              0.3333333333333333,
              "#9c179e"
             ],
             [
              0.4444444444444444,
              "#bd3786"
             ],
             [
              0.5555555555555556,
              "#d8576b"
             ],
             [
              0.6666666666666666,
              "#ed7953"
             ],
             [
              0.7777777777777778,
              "#fb9f3a"
             ],
             [
              0.8888888888888888,
              "#fdca26"
             ],
             [
              1,
              "#f0f921"
             ]
            ],
            "type": "histogram2d"
           }
          ],
          "histogram2dcontour": [
           {
            "colorbar": {
             "outlinewidth": 0,
             "ticks": ""
            },
            "colorscale": [
             [
              0,
              "#0d0887"
             ],
             [
              0.1111111111111111,
              "#46039f"
             ],
             [
              0.2222222222222222,
              "#7201a8"
             ],
             [
              0.3333333333333333,
              "#9c179e"
             ],
             [
              0.4444444444444444,
              "#bd3786"
             ],
             [
              0.5555555555555556,
              "#d8576b"
             ],
             [
              0.6666666666666666,
              "#ed7953"
             ],
             [
              0.7777777777777778,
              "#fb9f3a"
             ],
             [
              0.8888888888888888,
              "#fdca26"
             ],
             [
              1,
              "#f0f921"
             ]
            ],
            "type": "histogram2dcontour"
           }
          ],
          "mesh3d": [
           {
            "colorbar": {
             "outlinewidth": 0,
             "ticks": ""
            },
            "type": "mesh3d"
           }
          ],
          "parcoords": [
           {
            "line": {
             "colorbar": {
              "outlinewidth": 0,
              "ticks": ""
             }
            },
            "type": "parcoords"
           }
          ],
          "pie": [
           {
            "automargin": true,
            "type": "pie"
           }
          ],
          "scatter": [
           {
            "marker": {
             "colorbar": {
              "outlinewidth": 0,
              "ticks": ""
             }
            },
            "type": "scatter"
           }
          ],
          "scatter3d": [
           {
            "line": {
             "colorbar": {
              "outlinewidth": 0,
              "ticks": ""
             }
            },
            "marker": {
             "colorbar": {
              "outlinewidth": 0,
              "ticks": ""
             }
            },
            "type": "scatter3d"
           }
          ],
          "scattercarpet": [
           {
            "marker": {
             "colorbar": {
              "outlinewidth": 0,
              "ticks": ""
             }
            },
            "type": "scattercarpet"
           }
          ],
          "scattergeo": [
           {
            "marker": {
             "colorbar": {
              "outlinewidth": 0,
              "ticks": ""
             }
            },
            "type": "scattergeo"
           }
          ],
          "scattergl": [
           {
            "marker": {
             "colorbar": {
              "outlinewidth": 0,
              "ticks": ""
             }
            },
            "type": "scattergl"
           }
          ],
          "scattermapbox": [
           {
            "marker": {
             "colorbar": {
              "outlinewidth": 0,
              "ticks": ""
             }
            },
            "type": "scattermapbox"
           }
          ],
          "scatterpolar": [
           {
            "marker": {
             "colorbar": {
              "outlinewidth": 0,
              "ticks": ""
             }
            },
            "type": "scatterpolar"
           }
          ],
          "scatterpolargl": [
           {
            "marker": {
             "colorbar": {
              "outlinewidth": 0,
              "ticks": ""
             }
            },
            "type": "scatterpolargl"
           }
          ],
          "scatterternary": [
           {
            "marker": {
             "colorbar": {
              "outlinewidth": 0,
              "ticks": ""
             }
            },
            "type": "scatterternary"
           }
          ],
          "surface": [
           {
            "colorbar": {
             "outlinewidth": 0,
             "ticks": ""
            },
            "colorscale": [
             [
              0,
              "#0d0887"
             ],
             [
              0.1111111111111111,
              "#46039f"
             ],
             [
              0.2222222222222222,
              "#7201a8"
             ],
             [
              0.3333333333333333,
              "#9c179e"
             ],
             [
              0.4444444444444444,
              "#bd3786"
             ],
             [
              0.5555555555555556,
              "#d8576b"
             ],
             [
              0.6666666666666666,
              "#ed7953"
             ],
             [
              0.7777777777777778,
              "#fb9f3a"
             ],
             [
              0.8888888888888888,
              "#fdca26"
             ],
             [
              1,
              "#f0f921"
             ]
            ],
            "type": "surface"
           }
          ],
          "table": [
           {
            "cells": {
             "fill": {
              "color": "#EBF0F8"
             },
             "line": {
              "color": "white"
             }
            },
            "header": {
             "fill": {
              "color": "#C8D4E3"
             },
             "line": {
              "color": "white"
             }
            },
            "type": "table"
           }
          ]
         },
         "layout": {
          "annotationdefaults": {
           "arrowcolor": "#2a3f5f",
           "arrowhead": 0,
           "arrowwidth": 1
          },
          "autotypenumbers": "strict",
          "coloraxis": {
           "colorbar": {
            "outlinewidth": 0,
            "ticks": ""
           }
          },
          "colorscale": {
           "diverging": [
            [
             0,
             "#8e0152"
            ],
            [
             0.1,
             "#c51b7d"
            ],
            [
             0.2,
             "#de77ae"
            ],
            [
             0.3,
             "#f1b6da"
            ],
            [
             0.4,
             "#fde0ef"
            ],
            [
             0.5,
             "#f7f7f7"
            ],
            [
             0.6,
             "#e6f5d0"
            ],
            [
             0.7,
             "#b8e186"
            ],
            [
             0.8,
             "#7fbc41"
            ],
            [
             0.9,
             "#4d9221"
            ],
            [
             1,
             "#276419"
            ]
           ],
           "sequential": [
            [
             0,
             "#0d0887"
            ],
            [
             0.1111111111111111,
             "#46039f"
            ],
            [
             0.2222222222222222,
             "#7201a8"
            ],
            [
             0.3333333333333333,
             "#9c179e"
            ],
            [
             0.4444444444444444,
             "#bd3786"
            ],
            [
             0.5555555555555556,
             "#d8576b"
            ],
            [
             0.6666666666666666,
             "#ed7953"
            ],
            [
             0.7777777777777778,
             "#fb9f3a"
            ],
            [
             0.8888888888888888,
             "#fdca26"
            ],
            [
             1,
             "#f0f921"
            ]
           ],
           "sequentialminus": [
            [
             0,
             "#0d0887"
            ],
            [
             0.1111111111111111,
             "#46039f"
            ],
            [
             0.2222222222222222,
             "#7201a8"
            ],
            [
             0.3333333333333333,
             "#9c179e"
            ],
            [
             0.4444444444444444,
             "#bd3786"
            ],
            [
             0.5555555555555556,
             "#d8576b"
            ],
            [
             0.6666666666666666,
             "#ed7953"
            ],
            [
             0.7777777777777778,
             "#fb9f3a"
            ],
            [
             0.8888888888888888,
             "#fdca26"
            ],
            [
             1,
             "#f0f921"
            ]
           ]
          },
          "colorway": [
           "#636efa",
           "#EF553B",
           "#00cc96",
           "#ab63fa",
           "#FFA15A",
           "#19d3f3",
           "#FF6692",
           "#B6E880",
           "#FF97FF",
           "#FECB52"
          ],
          "font": {
           "color": "#2a3f5f"
          },
          "geo": {
           "bgcolor": "white",
           "lakecolor": "white",
           "landcolor": "#E5ECF6",
           "showlakes": true,
           "showland": true,
           "subunitcolor": "white"
          },
          "hoverlabel": {
           "align": "left"
          },
          "hovermode": "closest",
          "mapbox": {
           "style": "light"
          },
          "paper_bgcolor": "white",
          "plot_bgcolor": "#E5ECF6",
          "polar": {
           "angularaxis": {
            "gridcolor": "white",
            "linecolor": "white",
            "ticks": ""
           },
           "bgcolor": "#E5ECF6",
           "radialaxis": {
            "gridcolor": "white",
            "linecolor": "white",
            "ticks": ""
           }
          },
          "scene": {
           "xaxis": {
            "backgroundcolor": "#E5ECF6",
            "gridcolor": "white",
            "gridwidth": 2,
            "linecolor": "white",
            "showbackground": true,
            "ticks": "",
            "zerolinecolor": "white"
           },
           "yaxis": {
            "backgroundcolor": "#E5ECF6",
            "gridcolor": "white",
            "gridwidth": 2,
            "linecolor": "white",
            "showbackground": true,
            "ticks": "",
            "zerolinecolor": "white"
           },
           "zaxis": {
            "backgroundcolor": "#E5ECF6",
            "gridcolor": "white",
            "gridwidth": 2,
            "linecolor": "white",
            "showbackground": true,
            "ticks": "",
            "zerolinecolor": "white"
           }
          },
          "shapedefaults": {
           "line": {
            "color": "#2a3f5f"
           }
          },
          "ternary": {
           "aaxis": {
            "gridcolor": "white",
            "linecolor": "white",
            "ticks": ""
           },
           "baxis": {
            "gridcolor": "white",
            "linecolor": "white",
            "ticks": ""
           },
           "bgcolor": "#E5ECF6",
           "caxis": {
            "gridcolor": "white",
            "linecolor": "white",
            "ticks": ""
           }
          },
          "title": {
           "x": 0.05
          },
          "xaxis": {
           "automargin": true,
           "gridcolor": "white",
           "linecolor": "white",
           "ticks": "",
           "title": {
            "standoff": 15
           },
           "zerolinecolor": "white",
           "zerolinewidth": 2
          },
          "yaxis": {
           "automargin": true,
           "gridcolor": "white",
           "linecolor": "white",
           "ticks": "",
           "title": {
            "standoff": 15
           },
           "zerolinecolor": "white",
           "zerolinewidth": 2
          }
         }
        },
        "title": {
         "font": {
          "color": "#4D5663"
         }
        },
        "xaxis": {
         "gridcolor": "#E1E5ED",
         "showgrid": true,
         "tickfont": {
          "color": "#4D5663"
         },
         "title": {
          "font": {
           "color": "#4D5663"
          },
          "text": ""
         },
         "zerolinecolor": "#E1E5ED"
        },
        "yaxis": {
         "gridcolor": "#E1E5ED",
         "showgrid": true,
         "tickfont": {
          "color": "#4D5663"
         },
         "title": {
          "font": {
           "color": "#4D5663"
          },
          "text": ""
         },
         "zerolinecolor": "#E1E5ED"
        }
       }
      },
      "text/html": [
       "<div>                            <div id=\"ba7471ec-0dde-4b83-bd04-8c06bfd7d597\" class=\"plotly-graph-div\" style=\"height:525px; width:100%;\"></div>            <script type=\"text/javascript\">                require([\"plotly\"], function(Plotly) {                    window.PLOTLYENV=window.PLOTLYENV || {};\n",
       "                    window.PLOTLYENV.BASE_URL='https://plot.ly';                                    if (document.getElementById(\"ba7471ec-0dde-4b83-bd04-8c06bfd7d597\")) {                    Plotly.newPlot(                        \"ba7471ec-0dde-4b83-bd04-8c06bfd7d597\",                        [{\"colorscale\":[[0.0,\"rgb(255, 153, 51)\"],[0.1111111111111111,\"rgb(55, 128, 191)\"],[0.2222222222222222,\"rgb(50, 171, 96)\"],[0.3333333333333333,\"rgb(128, 0, 128)\"],[0.4444444444444444,\"rgb(219, 64, 82)\"],[0.5555555555555556,\"rgb(0, 128, 128)\"],[0.6666666666666666,\"rgb(255, 255, 51)\"],[0.7777777777777778,\"rgb(128, 128, 0)\"],[0.8888888888888888,\"rgb(251, 128, 114)\"],[1.0,\"rgb(128, 177, 211)\"]],\"x\":[0,1,2,3,4],\"y\":[\"x\",\"y\",\"z\"],\"z\":[[1,2,3,4,5],[10,20,30,20,10],[5,4,3,2,1]],\"type\":\"surface\"}],                        {\"legend\":{\"bgcolor\":\"#F5F6F9\",\"font\":{\"color\":\"#4D5663\"}},\"paper_bgcolor\":\"#F5F6F9\",\"plot_bgcolor\":\"#F5F6F9\",\"template\":{\"data\":{\"barpolar\":[{\"marker\":{\"line\":{\"color\":\"#E5ECF6\",\"width\":0.5},\"pattern\":{\"fillmode\":\"overlay\",\"size\":10,\"solidity\":0.2}},\"type\":\"barpolar\"}],\"bar\":[{\"error_x\":{\"color\":\"#2a3f5f\"},\"error_y\":{\"color\":\"#2a3f5f\"},\"marker\":{\"line\":{\"color\":\"#E5ECF6\",\"width\":0.5},\"pattern\":{\"fillmode\":\"overlay\",\"size\":10,\"solidity\":0.2}},\"type\":\"bar\"}],\"carpet\":[{\"aaxis\":{\"endlinecolor\":\"#2a3f5f\",\"gridcolor\":\"white\",\"linecolor\":\"white\",\"minorgridcolor\":\"white\",\"startlinecolor\":\"#2a3f5f\"},\"baxis\":{\"endlinecolor\":\"#2a3f5f\",\"gridcolor\":\"white\",\"linecolor\":\"white\",\"minorgridcolor\":\"white\",\"startlinecolor\":\"#2a3f5f\"},\"type\":\"carpet\"}],\"choropleth\":[{\"colorbar\":{\"outlinewidth\":0,\"ticks\":\"\"},\"type\":\"choropleth\"}],\"contourcarpet\":[{\"colorbar\":{\"outlinewidth\":0,\"ticks\":\"\"},\"type\":\"contourcarpet\"}],\"contour\":[{\"colorbar\":{\"outlinewidth\":0,\"ticks\":\"\"},\"colorscale\":[[0.0,\"#0d0887\"],[0.1111111111111111,\"#46039f\"],[0.2222222222222222,\"#7201a8\"],[0.3333333333333333,\"#9c179e\"],[0.4444444444444444,\"#bd3786\"],[0.5555555555555556,\"#d8576b\"],[0.6666666666666666,\"#ed7953\"],[0.7777777777777778,\"#fb9f3a\"],[0.8888888888888888,\"#fdca26\"],[1.0,\"#f0f921\"]],\"type\":\"contour\"}],\"heatmapgl\":[{\"colorbar\":{\"outlinewidth\":0,\"ticks\":\"\"},\"colorscale\":[[0.0,\"#0d0887\"],[0.1111111111111111,\"#46039f\"],[0.2222222222222222,\"#7201a8\"],[0.3333333333333333,\"#9c179e\"],[0.4444444444444444,\"#bd3786\"],[0.5555555555555556,\"#d8576b\"],[0.6666666666666666,\"#ed7953\"],[0.7777777777777778,\"#fb9f3a\"],[0.8888888888888888,\"#fdca26\"],[1.0,\"#f0f921\"]],\"type\":\"heatmapgl\"}],\"heatmap\":[{\"colorbar\":{\"outlinewidth\":0,\"ticks\":\"\"},\"colorscale\":[[0.0,\"#0d0887\"],[0.1111111111111111,\"#46039f\"],[0.2222222222222222,\"#7201a8\"],[0.3333333333333333,\"#9c179e\"],[0.4444444444444444,\"#bd3786\"],[0.5555555555555556,\"#d8576b\"],[0.6666666666666666,\"#ed7953\"],[0.7777777777777778,\"#fb9f3a\"],[0.8888888888888888,\"#fdca26\"],[1.0,\"#f0f921\"]],\"type\":\"heatmap\"}],\"histogram2dcontour\":[{\"colorbar\":{\"outlinewidth\":0,\"ticks\":\"\"},\"colorscale\":[[0.0,\"#0d0887\"],[0.1111111111111111,\"#46039f\"],[0.2222222222222222,\"#7201a8\"],[0.3333333333333333,\"#9c179e\"],[0.4444444444444444,\"#bd3786\"],[0.5555555555555556,\"#d8576b\"],[0.6666666666666666,\"#ed7953\"],[0.7777777777777778,\"#fb9f3a\"],[0.8888888888888888,\"#fdca26\"],[1.0,\"#f0f921\"]],\"type\":\"histogram2dcontour\"}],\"histogram2d\":[{\"colorbar\":{\"outlinewidth\":0,\"ticks\":\"\"},\"colorscale\":[[0.0,\"#0d0887\"],[0.1111111111111111,\"#46039f\"],[0.2222222222222222,\"#7201a8\"],[0.3333333333333333,\"#9c179e\"],[0.4444444444444444,\"#bd3786\"],[0.5555555555555556,\"#d8576b\"],[0.6666666666666666,\"#ed7953\"],[0.7777777777777778,\"#fb9f3a\"],[0.8888888888888888,\"#fdca26\"],[1.0,\"#f0f921\"]],\"type\":\"histogram2d\"}],\"histogram\":[{\"marker\":{\"pattern\":{\"fillmode\":\"overlay\",\"size\":10,\"solidity\":0.2}},\"type\":\"histogram\"}],\"mesh3d\":[{\"colorbar\":{\"outlinewidth\":0,\"ticks\":\"\"},\"type\":\"mesh3d\"}],\"parcoords\":[{\"line\":{\"colorbar\":{\"outlinewidth\":0,\"ticks\":\"\"}},\"type\":\"parcoords\"}],\"pie\":[{\"automargin\":true,\"type\":\"pie\"}],\"scatter3d\":[{\"line\":{\"colorbar\":{\"outlinewidth\":0,\"ticks\":\"\"}},\"marker\":{\"colorbar\":{\"outlinewidth\":0,\"ticks\":\"\"}},\"type\":\"scatter3d\"}],\"scattercarpet\":[{\"marker\":{\"colorbar\":{\"outlinewidth\":0,\"ticks\":\"\"}},\"type\":\"scattercarpet\"}],\"scattergeo\":[{\"marker\":{\"colorbar\":{\"outlinewidth\":0,\"ticks\":\"\"}},\"type\":\"scattergeo\"}],\"scattergl\":[{\"marker\":{\"colorbar\":{\"outlinewidth\":0,\"ticks\":\"\"}},\"type\":\"scattergl\"}],\"scattermapbox\":[{\"marker\":{\"colorbar\":{\"outlinewidth\":0,\"ticks\":\"\"}},\"type\":\"scattermapbox\"}],\"scatterpolargl\":[{\"marker\":{\"colorbar\":{\"outlinewidth\":0,\"ticks\":\"\"}},\"type\":\"scatterpolargl\"}],\"scatterpolar\":[{\"marker\":{\"colorbar\":{\"outlinewidth\":0,\"ticks\":\"\"}},\"type\":\"scatterpolar\"}],\"scatter\":[{\"marker\":{\"colorbar\":{\"outlinewidth\":0,\"ticks\":\"\"}},\"type\":\"scatter\"}],\"scatterternary\":[{\"marker\":{\"colorbar\":{\"outlinewidth\":0,\"ticks\":\"\"}},\"type\":\"scatterternary\"}],\"surface\":[{\"colorbar\":{\"outlinewidth\":0,\"ticks\":\"\"},\"colorscale\":[[0.0,\"#0d0887\"],[0.1111111111111111,\"#46039f\"],[0.2222222222222222,\"#7201a8\"],[0.3333333333333333,\"#9c179e\"],[0.4444444444444444,\"#bd3786\"],[0.5555555555555556,\"#d8576b\"],[0.6666666666666666,\"#ed7953\"],[0.7777777777777778,\"#fb9f3a\"],[0.8888888888888888,\"#fdca26\"],[1.0,\"#f0f921\"]],\"type\":\"surface\"}],\"table\":[{\"cells\":{\"fill\":{\"color\":\"#EBF0F8\"},\"line\":{\"color\":\"white\"}},\"header\":{\"fill\":{\"color\":\"#C8D4E3\"},\"line\":{\"color\":\"white\"}},\"type\":\"table\"}]},\"layout\":{\"annotationdefaults\":{\"arrowcolor\":\"#2a3f5f\",\"arrowhead\":0,\"arrowwidth\":1},\"autotypenumbers\":\"strict\",\"coloraxis\":{\"colorbar\":{\"outlinewidth\":0,\"ticks\":\"\"}},\"colorscale\":{\"diverging\":[[0,\"#8e0152\"],[0.1,\"#c51b7d\"],[0.2,\"#de77ae\"],[0.3,\"#f1b6da\"],[0.4,\"#fde0ef\"],[0.5,\"#f7f7f7\"],[0.6,\"#e6f5d0\"],[0.7,\"#b8e186\"],[0.8,\"#7fbc41\"],[0.9,\"#4d9221\"],[1,\"#276419\"]],\"sequential\":[[0.0,\"#0d0887\"],[0.1111111111111111,\"#46039f\"],[0.2222222222222222,\"#7201a8\"],[0.3333333333333333,\"#9c179e\"],[0.4444444444444444,\"#bd3786\"],[0.5555555555555556,\"#d8576b\"],[0.6666666666666666,\"#ed7953\"],[0.7777777777777778,\"#fb9f3a\"],[0.8888888888888888,\"#fdca26\"],[1.0,\"#f0f921\"]],\"sequentialminus\":[[0.0,\"#0d0887\"],[0.1111111111111111,\"#46039f\"],[0.2222222222222222,\"#7201a8\"],[0.3333333333333333,\"#9c179e\"],[0.4444444444444444,\"#bd3786\"],[0.5555555555555556,\"#d8576b\"],[0.6666666666666666,\"#ed7953\"],[0.7777777777777778,\"#fb9f3a\"],[0.8888888888888888,\"#fdca26\"],[1.0,\"#f0f921\"]]},\"colorway\":[\"#636efa\",\"#EF553B\",\"#00cc96\",\"#ab63fa\",\"#FFA15A\",\"#19d3f3\",\"#FF6692\",\"#B6E880\",\"#FF97FF\",\"#FECB52\"],\"font\":{\"color\":\"#2a3f5f\"},\"geo\":{\"bgcolor\":\"white\",\"lakecolor\":\"white\",\"landcolor\":\"#E5ECF6\",\"showlakes\":true,\"showland\":true,\"subunitcolor\":\"white\"},\"hoverlabel\":{\"align\":\"left\"},\"hovermode\":\"closest\",\"mapbox\":{\"style\":\"light\"},\"paper_bgcolor\":\"white\",\"plot_bgcolor\":\"#E5ECF6\",\"polar\":{\"angularaxis\":{\"gridcolor\":\"white\",\"linecolor\":\"white\",\"ticks\":\"\"},\"bgcolor\":\"#E5ECF6\",\"radialaxis\":{\"gridcolor\":\"white\",\"linecolor\":\"white\",\"ticks\":\"\"}},\"scene\":{\"xaxis\":{\"backgroundcolor\":\"#E5ECF6\",\"gridcolor\":\"white\",\"gridwidth\":2,\"linecolor\":\"white\",\"showbackground\":true,\"ticks\":\"\",\"zerolinecolor\":\"white\"},\"yaxis\":{\"backgroundcolor\":\"#E5ECF6\",\"gridcolor\":\"white\",\"gridwidth\":2,\"linecolor\":\"white\",\"showbackground\":true,\"ticks\":\"\",\"zerolinecolor\":\"white\"},\"zaxis\":{\"backgroundcolor\":\"#E5ECF6\",\"gridcolor\":\"white\",\"gridwidth\":2,\"linecolor\":\"white\",\"showbackground\":true,\"ticks\":\"\",\"zerolinecolor\":\"white\"}},\"shapedefaults\":{\"line\":{\"color\":\"#2a3f5f\"}},\"ternary\":{\"aaxis\":{\"gridcolor\":\"white\",\"linecolor\":\"white\",\"ticks\":\"\"},\"baxis\":{\"gridcolor\":\"white\",\"linecolor\":\"white\",\"ticks\":\"\"},\"bgcolor\":\"#E5ECF6\",\"caxis\":{\"gridcolor\":\"white\",\"linecolor\":\"white\",\"ticks\":\"\"}},\"title\":{\"x\":0.05},\"xaxis\":{\"automargin\":true,\"gridcolor\":\"white\",\"linecolor\":\"white\",\"ticks\":\"\",\"title\":{\"standoff\":15},\"zerolinecolor\":\"white\",\"zerolinewidth\":2},\"yaxis\":{\"automargin\":true,\"gridcolor\":\"white\",\"linecolor\":\"white\",\"ticks\":\"\",\"title\":{\"standoff\":15},\"zerolinecolor\":\"white\",\"zerolinewidth\":2}}},\"title\":{\"font\":{\"color\":\"#4D5663\"}},\"xaxis\":{\"gridcolor\":\"#E1E5ED\",\"showgrid\":true,\"tickfont\":{\"color\":\"#4D5663\"},\"title\":{\"font\":{\"color\":\"#4D5663\"},\"text\":\"\"},\"zerolinecolor\":\"#E1E5ED\"},\"yaxis\":{\"gridcolor\":\"#E1E5ED\",\"showgrid\":true,\"tickfont\":{\"color\":\"#4D5663\"},\"title\":{\"font\":{\"color\":\"#4D5663\"},\"text\":\"\"},\"zerolinecolor\":\"#E1E5ED\"}},                        {\"showLink\": true, \"linkText\": \"Export to plot.ly\", \"plotlyServerURL\": \"https://plot.ly\", \"responsive\": true}                    ).then(function(){\n",
       "                            \n",
       "var gd = document.getElementById('ba7471ec-0dde-4b83-bd04-8c06bfd7d597');\n",
       "var x = new MutationObserver(function (mutations, observer) {{\n",
       "        var display = window.getComputedStyle(gd).display;\n",
       "        if (!display || display === 'none') {{\n",
       "            console.log([gd, 'removed!']);\n",
       "            Plotly.purge(gd);\n",
       "            observer.disconnect();\n",
       "        }}\n",
       "}});\n",
       "\n",
       "// Listen for the removal of the full notebook cells\n",
       "var notebookContainer = gd.closest('#notebook-container');\n",
       "if (notebookContainer) {{\n",
       "    x.observe(notebookContainer, {childList: true});\n",
       "}}\n",
       "\n",
       "// Listen for the clearing of the current output cell\n",
       "var outputEl = gd.closest('.output');\n",
       "if (outputEl) {{\n",
       "    x.observe(outputEl, {childList: true});\n",
       "}}\n",
       "\n",
       "                        })                };                });            </script>        </div>"
      ]
     },
     "metadata": {},
     "output_type": "display_data"
    }
   ],
   "source": [
    "df4.iplot(kind=\"surface\")"
   ]
  },
  {
   "cell_type": "code",
   "execution_count": 31,
   "id": "03a81782",
   "metadata": {},
   "outputs": [
    {
     "data": {
      "application/vnd.plotly.v1+json": {
       "config": {
        "linkText": "Export to plot.ly",
        "plotlyServerURL": "https://plot.ly",
        "showLink": true
       },
       "data": [
        {
         "histfunc": "count",
         "histnorm": "",
         "marker": {
          "color": "rgba(255, 153, 51, 1.0)",
          "line": {
           "color": "#4D5663",
           "width": 1.3
          }
         },
         "name": "A",
         "opacity": 0.8,
         "orientation": "v",
         "type": "histogram",
         "x": [
          -1.309527744420406,
          -0.43461471341730906,
          -0.6595622762097307,
          -1.8087704558636009,
          -0.21507624397672268,
          -0.38856874633371274,
          0.39323640994019327,
          -1.5768836282447465,
          0.22178931809236666,
          -0.9431156572498557,
          -1.9102029239374554,
          -0.477769555673728,
          -1.089425538238347,
          -1.0357538495845635,
          1.2252166381530092,
          0.37107402061163053,
          -1.158252094622077,
          1.3695745789888654,
          -1.01825182367802,
          -1.7722468986897701,
          -0.2168013554876337,
          0.4755191701253149,
          -0.31047009102309275,
          -1.1396124818852957,
          -0.6999173593661061,
          -1.1371155062620095,
          -0.4910949440770942,
          -1.3621373445513156,
          1.0766873032479476,
          0.525928465473397,
          0.18338106944618113,
          -0.1505291458789072,
          1.8846432497944905,
          1.0605122306404768,
          -0.962144311117594,
          -0.1476914461688686,
          0.7205523460441676,
          -1.7892639026055361,
          -1.0548281912697273,
          1.7356821752881395,
          0.7623513817996954,
          0.3727625957984767,
          0.44451049023253525,
          1.4676975285083917,
          0.4814662048334038,
          0.6221661115520754,
          0.2370320573531419,
          -0.7473679255146413,
          0.6347836687579423,
          1.2138547818174472,
          -1.1115098285811436,
          -0.741420524794404,
          -1.7765108665886487,
          0.810113366475899,
          0.47669154362011024,
          -0.4134257725397369,
          0.765857785416105,
          -0.965188219950402,
          -1.4789137379581754,
          -0.6434993507816088,
          1.1172937554301525,
          -0.495694212475232,
          -0.387836058015111,
          -1.5016648314212626,
          0.1203043588212254,
          1.2088376698736039,
          -0.07194726263107164,
          0.15389399355134598,
          -0.6401244083647915,
          -0.08273948253381846,
          -1.3592394732882558,
          -1.9885105671375787,
          0.038505035218103376,
          -1.24448668315206,
          1.0295590758843345,
          0.33682960031944126,
          0.016429352896183677,
          -0.8237702468602085,
          -0.18449476647468116,
          1.3095212684401376,
          1.3587986132723278,
          -0.6051067858004684,
          -1.6266419057988017,
          1.0042132470590117,
          -0.941415138673278,
          -0.22540308480569024,
          1.3745114441408741,
          0.9480792162916354,
          -0.6327623894459151,
          -0.4249154919293121,
          0.6437607373691273,
          -0.023221467246056046,
          -0.11276162648807049,
          -1.4583110545841829,
          1.2612779604538449,
          1.3478794165153494,
          -0.380129484919786,
          1.451947890281281,
          -1.1301928995517123,
          -1.9753921455165973
         ]
        }
       ],
       "layout": {
        "barmode": "overlay",
        "legend": {
         "bgcolor": "#F5F6F9",
         "font": {
          "color": "#4D5663"
         }
        },
        "paper_bgcolor": "#F5F6F9",
        "plot_bgcolor": "#F5F6F9",
        "template": {
         "data": {
          "bar": [
           {
            "error_x": {
             "color": "#2a3f5f"
            },
            "error_y": {
             "color": "#2a3f5f"
            },
            "marker": {
             "line": {
              "color": "#E5ECF6",
              "width": 0.5
             },
             "pattern": {
              "fillmode": "overlay",
              "size": 10,
              "solidity": 0.2
             }
            },
            "type": "bar"
           }
          ],
          "barpolar": [
           {
            "marker": {
             "line": {
              "color": "#E5ECF6",
              "width": 0.5
             },
             "pattern": {
              "fillmode": "overlay",
              "size": 10,
              "solidity": 0.2
             }
            },
            "type": "barpolar"
           }
          ],
          "carpet": [
           {
            "aaxis": {
             "endlinecolor": "#2a3f5f",
             "gridcolor": "white",
             "linecolor": "white",
             "minorgridcolor": "white",
             "startlinecolor": "#2a3f5f"
            },
            "baxis": {
             "endlinecolor": "#2a3f5f",
             "gridcolor": "white",
             "linecolor": "white",
             "minorgridcolor": "white",
             "startlinecolor": "#2a3f5f"
            },
            "type": "carpet"
           }
          ],
          "choropleth": [
           {
            "colorbar": {
             "outlinewidth": 0,
             "ticks": ""
            },
            "type": "choropleth"
           }
          ],
          "contour": [
           {
            "colorbar": {
             "outlinewidth": 0,
             "ticks": ""
            },
            "colorscale": [
             [
              0,
              "#0d0887"
             ],
             [
              0.1111111111111111,
              "#46039f"
             ],
             [
              0.2222222222222222,
              "#7201a8"
             ],
             [
              0.3333333333333333,
              "#9c179e"
             ],
             [
              0.4444444444444444,
              "#bd3786"
             ],
             [
              0.5555555555555556,
              "#d8576b"
             ],
             [
              0.6666666666666666,
              "#ed7953"
             ],
             [
              0.7777777777777778,
              "#fb9f3a"
             ],
             [
              0.8888888888888888,
              "#fdca26"
             ],
             [
              1,
              "#f0f921"
             ]
            ],
            "type": "contour"
           }
          ],
          "contourcarpet": [
           {
            "colorbar": {
             "outlinewidth": 0,
             "ticks": ""
            },
            "type": "contourcarpet"
           }
          ],
          "heatmap": [
           {
            "colorbar": {
             "outlinewidth": 0,
             "ticks": ""
            },
            "colorscale": [
             [
              0,
              "#0d0887"
             ],
             [
              0.1111111111111111,
              "#46039f"
             ],
             [
              0.2222222222222222,
              "#7201a8"
             ],
             [
              0.3333333333333333,
              "#9c179e"
             ],
             [
              0.4444444444444444,
              "#bd3786"
             ],
             [
              0.5555555555555556,
              "#d8576b"
             ],
             [
              0.6666666666666666,
              "#ed7953"
             ],
             [
              0.7777777777777778,
              "#fb9f3a"
             ],
             [
              0.8888888888888888,
              "#fdca26"
             ],
             [
              1,
              "#f0f921"
             ]
            ],
            "type": "heatmap"
           }
          ],
          "heatmapgl": [
           {
            "colorbar": {
             "outlinewidth": 0,
             "ticks": ""
            },
            "colorscale": [
             [
              0,
              "#0d0887"
             ],
             [
              0.1111111111111111,
              "#46039f"
             ],
             [
              0.2222222222222222,
              "#7201a8"
             ],
             [
              0.3333333333333333,
              "#9c179e"
             ],
             [
              0.4444444444444444,
              "#bd3786"
             ],
             [
              0.5555555555555556,
              "#d8576b"
             ],
             [
              0.6666666666666666,
              "#ed7953"
             ],
             [
              0.7777777777777778,
              "#fb9f3a"
             ],
             [
              0.8888888888888888,
              "#fdca26"
             ],
             [
              1,
              "#f0f921"
             ]
            ],
            "type": "heatmapgl"
           }
          ],
          "histogram": [
           {
            "marker": {
             "pattern": {
              "fillmode": "overlay",
              "size": 10,
              "solidity": 0.2
             }
            },
            "type": "histogram"
           }
          ],
          "histogram2d": [
           {
            "colorbar": {
             "outlinewidth": 0,
             "ticks": ""
            },
            "colorscale": [
             [
              0,
              "#0d0887"
             ],
             [
              0.1111111111111111,
              "#46039f"
             ],
             [
              0.2222222222222222,
              "#7201a8"
             ],
             [
              0.3333333333333333,
              "#9c179e"
             ],
             [
              0.4444444444444444,
              "#bd3786"
             ],
             [
              0.5555555555555556,
              "#d8576b"
             ],
             [
              0.6666666666666666,
              "#ed7953"
             ],
             [
              0.7777777777777778,
              "#fb9f3a"
             ],
             [
              0.8888888888888888,
              "#fdca26"
             ],
             [
              1,
              "#f0f921"
             ]
            ],
            "type": "histogram2d"
           }
          ],
          "histogram2dcontour": [
           {
            "colorbar": {
             "outlinewidth": 0,
             "ticks": ""
            },
            "colorscale": [
             [
              0,
              "#0d0887"
             ],
             [
              0.1111111111111111,
              "#46039f"
             ],
             [
              0.2222222222222222,
              "#7201a8"
             ],
             [
              0.3333333333333333,
              "#9c179e"
             ],
             [
              0.4444444444444444,
              "#bd3786"
             ],
             [
              0.5555555555555556,
              "#d8576b"
             ],
             [
              0.6666666666666666,
              "#ed7953"
             ],
             [
              0.7777777777777778,
              "#fb9f3a"
             ],
             [
              0.8888888888888888,
              "#fdca26"
             ],
             [
              1,
              "#f0f921"
             ]
            ],
            "type": "histogram2dcontour"
           }
          ],
          "mesh3d": [
           {
            "colorbar": {
             "outlinewidth": 0,
             "ticks": ""
            },
            "type": "mesh3d"
           }
          ],
          "parcoords": [
           {
            "line": {
             "colorbar": {
              "outlinewidth": 0,
              "ticks": ""
             }
            },
            "type": "parcoords"
           }
          ],
          "pie": [
           {
            "automargin": true,
            "type": "pie"
           }
          ],
          "scatter": [
           {
            "marker": {
             "colorbar": {
              "outlinewidth": 0,
              "ticks": ""
             }
            },
            "type": "scatter"
           }
          ],
          "scatter3d": [
           {
            "line": {
             "colorbar": {
              "outlinewidth": 0,
              "ticks": ""
             }
            },
            "marker": {
             "colorbar": {
              "outlinewidth": 0,
              "ticks": ""
             }
            },
            "type": "scatter3d"
           }
          ],
          "scattercarpet": [
           {
            "marker": {
             "colorbar": {
              "outlinewidth": 0,
              "ticks": ""
             }
            },
            "type": "scattercarpet"
           }
          ],
          "scattergeo": [
           {
            "marker": {
             "colorbar": {
              "outlinewidth": 0,
              "ticks": ""
             }
            },
            "type": "scattergeo"
           }
          ],
          "scattergl": [
           {
            "marker": {
             "colorbar": {
              "outlinewidth": 0,
              "ticks": ""
             }
            },
            "type": "scattergl"
           }
          ],
          "scattermapbox": [
           {
            "marker": {
             "colorbar": {
              "outlinewidth": 0,
              "ticks": ""
             }
            },
            "type": "scattermapbox"
           }
          ],
          "scatterpolar": [
           {
            "marker": {
             "colorbar": {
              "outlinewidth": 0,
              "ticks": ""
             }
            },
            "type": "scatterpolar"
           }
          ],
          "scatterpolargl": [
           {
            "marker": {
             "colorbar": {
              "outlinewidth": 0,
              "ticks": ""
             }
            },
            "type": "scatterpolargl"
           }
          ],
          "scatterternary": [
           {
            "marker": {
             "colorbar": {
              "outlinewidth": 0,
              "ticks": ""
             }
            },
            "type": "scatterternary"
           }
          ],
          "surface": [
           {
            "colorbar": {
             "outlinewidth": 0,
             "ticks": ""
            },
            "colorscale": [
             [
              0,
              "#0d0887"
             ],
             [
              0.1111111111111111,
              "#46039f"
             ],
             [
              0.2222222222222222,
              "#7201a8"
             ],
             [
              0.3333333333333333,
              "#9c179e"
             ],
             [
              0.4444444444444444,
              "#bd3786"
             ],
             [
              0.5555555555555556,
              "#d8576b"
             ],
             [
              0.6666666666666666,
              "#ed7953"
             ],
             [
              0.7777777777777778,
              "#fb9f3a"
             ],
             [
              0.8888888888888888,
              "#fdca26"
             ],
             [
              1,
              "#f0f921"
             ]
            ],
            "type": "surface"
           }
          ],
          "table": [
           {
            "cells": {
             "fill": {
              "color": "#EBF0F8"
             },
             "line": {
              "color": "white"
             }
            },
            "header": {
             "fill": {
              "color": "#C8D4E3"
             },
             "line": {
              "color": "white"
             }
            },
            "type": "table"
           }
          ]
         },
         "layout": {
          "annotationdefaults": {
           "arrowcolor": "#2a3f5f",
           "arrowhead": 0,
           "arrowwidth": 1
          },
          "autotypenumbers": "strict",
          "coloraxis": {
           "colorbar": {
            "outlinewidth": 0,
            "ticks": ""
           }
          },
          "colorscale": {
           "diverging": [
            [
             0,
             "#8e0152"
            ],
            [
             0.1,
             "#c51b7d"
            ],
            [
             0.2,
             "#de77ae"
            ],
            [
             0.3,
             "#f1b6da"
            ],
            [
             0.4,
             "#fde0ef"
            ],
            [
             0.5,
             "#f7f7f7"
            ],
            [
             0.6,
             "#e6f5d0"
            ],
            [
             0.7,
             "#b8e186"
            ],
            [
             0.8,
             "#7fbc41"
            ],
            [
             0.9,
             "#4d9221"
            ],
            [
             1,
             "#276419"
            ]
           ],
           "sequential": [
            [
             0,
             "#0d0887"
            ],
            [
             0.1111111111111111,
             "#46039f"
            ],
            [
             0.2222222222222222,
             "#7201a8"
            ],
            [
             0.3333333333333333,
             "#9c179e"
            ],
            [
             0.4444444444444444,
             "#bd3786"
            ],
            [
             0.5555555555555556,
             "#d8576b"
            ],
            [
             0.6666666666666666,
             "#ed7953"
            ],
            [
             0.7777777777777778,
             "#fb9f3a"
            ],
            [
             0.8888888888888888,
             "#fdca26"
            ],
            [
             1,
             "#f0f921"
            ]
           ],
           "sequentialminus": [
            [
             0,
             "#0d0887"
            ],
            [
             0.1111111111111111,
             "#46039f"
            ],
            [
             0.2222222222222222,
             "#7201a8"
            ],
            [
             0.3333333333333333,
             "#9c179e"
            ],
            [
             0.4444444444444444,
             "#bd3786"
            ],
            [
             0.5555555555555556,
             "#d8576b"
            ],
            [
             0.6666666666666666,
             "#ed7953"
            ],
            [
             0.7777777777777778,
             "#fb9f3a"
            ],
            [
             0.8888888888888888,
             "#fdca26"
            ],
            [
             1,
             "#f0f921"
            ]
           ]
          },
          "colorway": [
           "#636efa",
           "#EF553B",
           "#00cc96",
           "#ab63fa",
           "#FFA15A",
           "#19d3f3",
           "#FF6692",
           "#B6E880",
           "#FF97FF",
           "#FECB52"
          ],
          "font": {
           "color": "#2a3f5f"
          },
          "geo": {
           "bgcolor": "white",
           "lakecolor": "white",
           "landcolor": "#E5ECF6",
           "showlakes": true,
           "showland": true,
           "subunitcolor": "white"
          },
          "hoverlabel": {
           "align": "left"
          },
          "hovermode": "closest",
          "mapbox": {
           "style": "light"
          },
          "paper_bgcolor": "white",
          "plot_bgcolor": "#E5ECF6",
          "polar": {
           "angularaxis": {
            "gridcolor": "white",
            "linecolor": "white",
            "ticks": ""
           },
           "bgcolor": "#E5ECF6",
           "radialaxis": {
            "gridcolor": "white",
            "linecolor": "white",
            "ticks": ""
           }
          },
          "scene": {
           "xaxis": {
            "backgroundcolor": "#E5ECF6",
            "gridcolor": "white",
            "gridwidth": 2,
            "linecolor": "white",
            "showbackground": true,
            "ticks": "",
            "zerolinecolor": "white"
           },
           "yaxis": {
            "backgroundcolor": "#E5ECF6",
            "gridcolor": "white",
            "gridwidth": 2,
            "linecolor": "white",
            "showbackground": true,
            "ticks": "",
            "zerolinecolor": "white"
           },
           "zaxis": {
            "backgroundcolor": "#E5ECF6",
            "gridcolor": "white",
            "gridwidth": 2,
            "linecolor": "white",
            "showbackground": true,
            "ticks": "",
            "zerolinecolor": "white"
           }
          },
          "shapedefaults": {
           "line": {
            "color": "#2a3f5f"
           }
          },
          "ternary": {
           "aaxis": {
            "gridcolor": "white",
            "linecolor": "white",
            "ticks": ""
           },
           "baxis": {
            "gridcolor": "white",
            "linecolor": "white",
            "ticks": ""
           },
           "bgcolor": "#E5ECF6",
           "caxis": {
            "gridcolor": "white",
            "linecolor": "white",
            "ticks": ""
           }
          },
          "title": {
           "x": 0.05
          },
          "xaxis": {
           "automargin": true,
           "gridcolor": "white",
           "linecolor": "white",
           "ticks": "",
           "title": {
            "standoff": 15
           },
           "zerolinecolor": "white",
           "zerolinewidth": 2
          },
          "yaxis": {
           "automargin": true,
           "gridcolor": "white",
           "linecolor": "white",
           "ticks": "",
           "title": {
            "standoff": 15
           },
           "zerolinecolor": "white",
           "zerolinewidth": 2
          }
         }
        },
        "title": {
         "font": {
          "color": "#4D5663"
         }
        },
        "xaxis": {
         "gridcolor": "#E1E5ED",
         "showgrid": true,
         "tickfont": {
          "color": "#4D5663"
         },
         "title": {
          "font": {
           "color": "#4D5663"
          },
          "text": ""
         },
         "zerolinecolor": "#E1E5ED"
        },
        "yaxis": {
         "gridcolor": "#E1E5ED",
         "showgrid": true,
         "tickfont": {
          "color": "#4D5663"
         },
         "title": {
          "font": {
           "color": "#4D5663"
          },
          "text": ""
         },
         "zerolinecolor": "#E1E5ED"
        }
       }
      },
      "text/html": [
       "<div>                            <div id=\"cf685041-2209-4c67-952d-622552a5a4ea\" class=\"plotly-graph-div\" style=\"height:525px; width:100%;\"></div>            <script type=\"text/javascript\">                require([\"plotly\"], function(Plotly) {                    window.PLOTLYENV=window.PLOTLYENV || {};\n",
       "                    window.PLOTLYENV.BASE_URL='https://plot.ly';                                    if (document.getElementById(\"cf685041-2209-4c67-952d-622552a5a4ea\")) {                    Plotly.newPlot(                        \"cf685041-2209-4c67-952d-622552a5a4ea\",                        [{\"histfunc\":\"count\",\"histnorm\":\"\",\"marker\":{\"color\":\"rgba(255, 153, 51, 1.0)\",\"line\":{\"color\":\"#4D5663\",\"width\":1.3}},\"name\":\"A\",\"opacity\":0.8,\"orientation\":\"v\",\"x\":[-1.309527744420406,-0.43461471341730906,-0.6595622762097307,-1.8087704558636009,-0.21507624397672268,-0.38856874633371274,0.39323640994019327,-1.5768836282447465,0.22178931809236666,-0.9431156572498557,-1.9102029239374554,-0.477769555673728,-1.089425538238347,-1.0357538495845635,1.2252166381530092,0.37107402061163053,-1.158252094622077,1.3695745789888654,-1.01825182367802,-1.7722468986897701,-0.2168013554876337,0.4755191701253149,-0.31047009102309275,-1.1396124818852957,-0.6999173593661061,-1.1371155062620095,-0.4910949440770942,-1.3621373445513156,1.0766873032479476,0.525928465473397,0.18338106944618113,-0.1505291458789072,1.8846432497944905,1.0605122306404768,-0.962144311117594,-0.1476914461688686,0.7205523460441676,-1.7892639026055361,-1.0548281912697273,1.7356821752881395,0.7623513817996954,0.3727625957984767,0.44451049023253525,1.4676975285083917,0.4814662048334038,0.6221661115520754,0.2370320573531419,-0.7473679255146413,0.6347836687579423,1.2138547818174472,-1.1115098285811436,-0.741420524794404,-1.7765108665886487,0.810113366475899,0.47669154362011024,-0.4134257725397369,0.765857785416105,-0.965188219950402,-1.4789137379581754,-0.6434993507816088,1.1172937554301525,-0.495694212475232,-0.387836058015111,-1.5016648314212626,0.1203043588212254,1.2088376698736039,-0.07194726263107164,0.15389399355134598,-0.6401244083647915,-0.08273948253381846,-1.3592394732882558,-1.9885105671375787,0.038505035218103376,-1.24448668315206,1.0295590758843345,0.33682960031944126,0.016429352896183677,-0.8237702468602085,-0.18449476647468116,1.3095212684401376,1.3587986132723278,-0.6051067858004684,-1.6266419057988017,1.0042132470590117,-0.941415138673278,-0.22540308480569024,1.3745114441408741,0.9480792162916354,-0.6327623894459151,-0.4249154919293121,0.6437607373691273,-0.023221467246056046,-0.11276162648807049,-1.4583110545841829,1.2612779604538449,1.3478794165153494,-0.380129484919786,1.451947890281281,-1.1301928995517123,-1.9753921455165973],\"type\":\"histogram\"}],                        {\"barmode\":\"overlay\",\"legend\":{\"bgcolor\":\"#F5F6F9\",\"font\":{\"color\":\"#4D5663\"}},\"paper_bgcolor\":\"#F5F6F9\",\"plot_bgcolor\":\"#F5F6F9\",\"template\":{\"data\":{\"barpolar\":[{\"marker\":{\"line\":{\"color\":\"#E5ECF6\",\"width\":0.5},\"pattern\":{\"fillmode\":\"overlay\",\"size\":10,\"solidity\":0.2}},\"type\":\"barpolar\"}],\"bar\":[{\"error_x\":{\"color\":\"#2a3f5f\"},\"error_y\":{\"color\":\"#2a3f5f\"},\"marker\":{\"line\":{\"color\":\"#E5ECF6\",\"width\":0.5},\"pattern\":{\"fillmode\":\"overlay\",\"size\":10,\"solidity\":0.2}},\"type\":\"bar\"}],\"carpet\":[{\"aaxis\":{\"endlinecolor\":\"#2a3f5f\",\"gridcolor\":\"white\",\"linecolor\":\"white\",\"minorgridcolor\":\"white\",\"startlinecolor\":\"#2a3f5f\"},\"baxis\":{\"endlinecolor\":\"#2a3f5f\",\"gridcolor\":\"white\",\"linecolor\":\"white\",\"minorgridcolor\":\"white\",\"startlinecolor\":\"#2a3f5f\"},\"type\":\"carpet\"}],\"choropleth\":[{\"colorbar\":{\"outlinewidth\":0,\"ticks\":\"\"},\"type\":\"choropleth\"}],\"contourcarpet\":[{\"colorbar\":{\"outlinewidth\":0,\"ticks\":\"\"},\"type\":\"contourcarpet\"}],\"contour\":[{\"colorbar\":{\"outlinewidth\":0,\"ticks\":\"\"},\"colorscale\":[[0.0,\"#0d0887\"],[0.1111111111111111,\"#46039f\"],[0.2222222222222222,\"#7201a8\"],[0.3333333333333333,\"#9c179e\"],[0.4444444444444444,\"#bd3786\"],[0.5555555555555556,\"#d8576b\"],[0.6666666666666666,\"#ed7953\"],[0.7777777777777778,\"#fb9f3a\"],[0.8888888888888888,\"#fdca26\"],[1.0,\"#f0f921\"]],\"type\":\"contour\"}],\"heatmapgl\":[{\"colorbar\":{\"outlinewidth\":0,\"ticks\":\"\"},\"colorscale\":[[0.0,\"#0d0887\"],[0.1111111111111111,\"#46039f\"],[0.2222222222222222,\"#7201a8\"],[0.3333333333333333,\"#9c179e\"],[0.4444444444444444,\"#bd3786\"],[0.5555555555555556,\"#d8576b\"],[0.6666666666666666,\"#ed7953\"],[0.7777777777777778,\"#fb9f3a\"],[0.8888888888888888,\"#fdca26\"],[1.0,\"#f0f921\"]],\"type\":\"heatmapgl\"}],\"heatmap\":[{\"colorbar\":{\"outlinewidth\":0,\"ticks\":\"\"},\"colorscale\":[[0.0,\"#0d0887\"],[0.1111111111111111,\"#46039f\"],[0.2222222222222222,\"#7201a8\"],[0.3333333333333333,\"#9c179e\"],[0.4444444444444444,\"#bd3786\"],[0.5555555555555556,\"#d8576b\"],[0.6666666666666666,\"#ed7953\"],[0.7777777777777778,\"#fb9f3a\"],[0.8888888888888888,\"#fdca26\"],[1.0,\"#f0f921\"]],\"type\":\"heatmap\"}],\"histogram2dcontour\":[{\"colorbar\":{\"outlinewidth\":0,\"ticks\":\"\"},\"colorscale\":[[0.0,\"#0d0887\"],[0.1111111111111111,\"#46039f\"],[0.2222222222222222,\"#7201a8\"],[0.3333333333333333,\"#9c179e\"],[0.4444444444444444,\"#bd3786\"],[0.5555555555555556,\"#d8576b\"],[0.6666666666666666,\"#ed7953\"],[0.7777777777777778,\"#fb9f3a\"],[0.8888888888888888,\"#fdca26\"],[1.0,\"#f0f921\"]],\"type\":\"histogram2dcontour\"}],\"histogram2d\":[{\"colorbar\":{\"outlinewidth\":0,\"ticks\":\"\"},\"colorscale\":[[0.0,\"#0d0887\"],[0.1111111111111111,\"#46039f\"],[0.2222222222222222,\"#7201a8\"],[0.3333333333333333,\"#9c179e\"],[0.4444444444444444,\"#bd3786\"],[0.5555555555555556,\"#d8576b\"],[0.6666666666666666,\"#ed7953\"],[0.7777777777777778,\"#fb9f3a\"],[0.8888888888888888,\"#fdca26\"],[1.0,\"#f0f921\"]],\"type\":\"histogram2d\"}],\"histogram\":[{\"marker\":{\"pattern\":{\"fillmode\":\"overlay\",\"size\":10,\"solidity\":0.2}},\"type\":\"histogram\"}],\"mesh3d\":[{\"colorbar\":{\"outlinewidth\":0,\"ticks\":\"\"},\"type\":\"mesh3d\"}],\"parcoords\":[{\"line\":{\"colorbar\":{\"outlinewidth\":0,\"ticks\":\"\"}},\"type\":\"parcoords\"}],\"pie\":[{\"automargin\":true,\"type\":\"pie\"}],\"scatter3d\":[{\"line\":{\"colorbar\":{\"outlinewidth\":0,\"ticks\":\"\"}},\"marker\":{\"colorbar\":{\"outlinewidth\":0,\"ticks\":\"\"}},\"type\":\"scatter3d\"}],\"scattercarpet\":[{\"marker\":{\"colorbar\":{\"outlinewidth\":0,\"ticks\":\"\"}},\"type\":\"scattercarpet\"}],\"scattergeo\":[{\"marker\":{\"colorbar\":{\"outlinewidth\":0,\"ticks\":\"\"}},\"type\":\"scattergeo\"}],\"scattergl\":[{\"marker\":{\"colorbar\":{\"outlinewidth\":0,\"ticks\":\"\"}},\"type\":\"scattergl\"}],\"scattermapbox\":[{\"marker\":{\"colorbar\":{\"outlinewidth\":0,\"ticks\":\"\"}},\"type\":\"scattermapbox\"}],\"scatterpolargl\":[{\"marker\":{\"colorbar\":{\"outlinewidth\":0,\"ticks\":\"\"}},\"type\":\"scatterpolargl\"}],\"scatterpolar\":[{\"marker\":{\"colorbar\":{\"outlinewidth\":0,\"ticks\":\"\"}},\"type\":\"scatterpolar\"}],\"scatter\":[{\"marker\":{\"colorbar\":{\"outlinewidth\":0,\"ticks\":\"\"}},\"type\":\"scatter\"}],\"scatterternary\":[{\"marker\":{\"colorbar\":{\"outlinewidth\":0,\"ticks\":\"\"}},\"type\":\"scatterternary\"}],\"surface\":[{\"colorbar\":{\"outlinewidth\":0,\"ticks\":\"\"},\"colorscale\":[[0.0,\"#0d0887\"],[0.1111111111111111,\"#46039f\"],[0.2222222222222222,\"#7201a8\"],[0.3333333333333333,\"#9c179e\"],[0.4444444444444444,\"#bd3786\"],[0.5555555555555556,\"#d8576b\"],[0.6666666666666666,\"#ed7953\"],[0.7777777777777778,\"#fb9f3a\"],[0.8888888888888888,\"#fdca26\"],[1.0,\"#f0f921\"]],\"type\":\"surface\"}],\"table\":[{\"cells\":{\"fill\":{\"color\":\"#EBF0F8\"},\"line\":{\"color\":\"white\"}},\"header\":{\"fill\":{\"color\":\"#C8D4E3\"},\"line\":{\"color\":\"white\"}},\"type\":\"table\"}]},\"layout\":{\"annotationdefaults\":{\"arrowcolor\":\"#2a3f5f\",\"arrowhead\":0,\"arrowwidth\":1},\"autotypenumbers\":\"strict\",\"coloraxis\":{\"colorbar\":{\"outlinewidth\":0,\"ticks\":\"\"}},\"colorscale\":{\"diverging\":[[0,\"#8e0152\"],[0.1,\"#c51b7d\"],[0.2,\"#de77ae\"],[0.3,\"#f1b6da\"],[0.4,\"#fde0ef\"],[0.5,\"#f7f7f7\"],[0.6,\"#e6f5d0\"],[0.7,\"#b8e186\"],[0.8,\"#7fbc41\"],[0.9,\"#4d9221\"],[1,\"#276419\"]],\"sequential\":[[0.0,\"#0d0887\"],[0.1111111111111111,\"#46039f\"],[0.2222222222222222,\"#7201a8\"],[0.3333333333333333,\"#9c179e\"],[0.4444444444444444,\"#bd3786\"],[0.5555555555555556,\"#d8576b\"],[0.6666666666666666,\"#ed7953\"],[0.7777777777777778,\"#fb9f3a\"],[0.8888888888888888,\"#fdca26\"],[1.0,\"#f0f921\"]],\"sequentialminus\":[[0.0,\"#0d0887\"],[0.1111111111111111,\"#46039f\"],[0.2222222222222222,\"#7201a8\"],[0.3333333333333333,\"#9c179e\"],[0.4444444444444444,\"#bd3786\"],[0.5555555555555556,\"#d8576b\"],[0.6666666666666666,\"#ed7953\"],[0.7777777777777778,\"#fb9f3a\"],[0.8888888888888888,\"#fdca26\"],[1.0,\"#f0f921\"]]},\"colorway\":[\"#636efa\",\"#EF553B\",\"#00cc96\",\"#ab63fa\",\"#FFA15A\",\"#19d3f3\",\"#FF6692\",\"#B6E880\",\"#FF97FF\",\"#FECB52\"],\"font\":{\"color\":\"#2a3f5f\"},\"geo\":{\"bgcolor\":\"white\",\"lakecolor\":\"white\",\"landcolor\":\"#E5ECF6\",\"showlakes\":true,\"showland\":true,\"subunitcolor\":\"white\"},\"hoverlabel\":{\"align\":\"left\"},\"hovermode\":\"closest\",\"mapbox\":{\"style\":\"light\"},\"paper_bgcolor\":\"white\",\"plot_bgcolor\":\"#E5ECF6\",\"polar\":{\"angularaxis\":{\"gridcolor\":\"white\",\"linecolor\":\"white\",\"ticks\":\"\"},\"bgcolor\":\"#E5ECF6\",\"radialaxis\":{\"gridcolor\":\"white\",\"linecolor\":\"white\",\"ticks\":\"\"}},\"scene\":{\"xaxis\":{\"backgroundcolor\":\"#E5ECF6\",\"gridcolor\":\"white\",\"gridwidth\":2,\"linecolor\":\"white\",\"showbackground\":true,\"ticks\":\"\",\"zerolinecolor\":\"white\"},\"yaxis\":{\"backgroundcolor\":\"#E5ECF6\",\"gridcolor\":\"white\",\"gridwidth\":2,\"linecolor\":\"white\",\"showbackground\":true,\"ticks\":\"\",\"zerolinecolor\":\"white\"},\"zaxis\":{\"backgroundcolor\":\"#E5ECF6\",\"gridcolor\":\"white\",\"gridwidth\":2,\"linecolor\":\"white\",\"showbackground\":true,\"ticks\":\"\",\"zerolinecolor\":\"white\"}},\"shapedefaults\":{\"line\":{\"color\":\"#2a3f5f\"}},\"ternary\":{\"aaxis\":{\"gridcolor\":\"white\",\"linecolor\":\"white\",\"ticks\":\"\"},\"baxis\":{\"gridcolor\":\"white\",\"linecolor\":\"white\",\"ticks\":\"\"},\"bgcolor\":\"#E5ECF6\",\"caxis\":{\"gridcolor\":\"white\",\"linecolor\":\"white\",\"ticks\":\"\"}},\"title\":{\"x\":0.05},\"xaxis\":{\"automargin\":true,\"gridcolor\":\"white\",\"linecolor\":\"white\",\"ticks\":\"\",\"title\":{\"standoff\":15},\"zerolinecolor\":\"white\",\"zerolinewidth\":2},\"yaxis\":{\"automargin\":true,\"gridcolor\":\"white\",\"linecolor\":\"white\",\"ticks\":\"\",\"title\":{\"standoff\":15},\"zerolinecolor\":\"white\",\"zerolinewidth\":2}}},\"title\":{\"font\":{\"color\":\"#4D5663\"}},\"xaxis\":{\"gridcolor\":\"#E1E5ED\",\"showgrid\":true,\"tickfont\":{\"color\":\"#4D5663\"},\"title\":{\"font\":{\"color\":\"#4D5663\"},\"text\":\"\"},\"zerolinecolor\":\"#E1E5ED\"},\"yaxis\":{\"gridcolor\":\"#E1E5ED\",\"showgrid\":true,\"tickfont\":{\"color\":\"#4D5663\"},\"title\":{\"font\":{\"color\":\"#4D5663\"},\"text\":\"\"},\"zerolinecolor\":\"#E1E5ED\"}},                        {\"showLink\": true, \"linkText\": \"Export to plot.ly\", \"plotlyServerURL\": \"https://plot.ly\", \"responsive\": true}                    ).then(function(){\n",
       "                            \n",
       "var gd = document.getElementById('cf685041-2209-4c67-952d-622552a5a4ea');\n",
       "var x = new MutationObserver(function (mutations, observer) {{\n",
       "        var display = window.getComputedStyle(gd).display;\n",
       "        if (!display || display === 'none') {{\n",
       "            console.log([gd, 'removed!']);\n",
       "            Plotly.purge(gd);\n",
       "            observer.disconnect();\n",
       "        }}\n",
       "}});\n",
       "\n",
       "// Listen for the removal of the full notebook cells\n",
       "var notebookContainer = gd.closest('#notebook-container');\n",
       "if (notebookContainer) {{\n",
       "    x.observe(notebookContainer, {childList: true});\n",
       "}}\n",
       "\n",
       "// Listen for the clearing of the current output cell\n",
       "var outputEl = gd.closest('.output');\n",
       "if (outputEl) {{\n",
       "    x.observe(outputEl, {childList: true});\n",
       "}}\n",
       "\n",
       "                        })                };                });            </script>        </div>"
      ]
     },
     "metadata": {},
     "output_type": "display_data"
    }
   ],
   "source": [
    "df1[\"A\"].iplot(kind=\"hist\")"
   ]
  },
  {
   "cell_type": "code",
   "execution_count": 32,
   "id": "de3d0f71",
   "metadata": {},
   "outputs": [
    {
     "data": {
      "application/vnd.plotly.v1+json": {
       "config": {
        "linkText": "Export to plot.ly",
        "plotlyServerURL": "https://plot.ly",
        "showLink": true
       },
       "data": [
        {
         "histfunc": "count",
         "histnorm": "",
         "marker": {
          "color": "rgba(255, 153, 51, 1.0)",
          "line": {
           "color": "#4D5663",
           "width": 1.3
          }
         },
         "name": "A",
         "nbinsx": 45,
         "opacity": 0.8,
         "orientation": "v",
         "type": "histogram",
         "x": [
          -1.309527744420406,
          -0.43461471341730906,
          -0.6595622762097307,
          -1.8087704558636009,
          -0.21507624397672268,
          -0.38856874633371274,
          0.39323640994019327,
          -1.5768836282447465,
          0.22178931809236666,
          -0.9431156572498557,
          -1.9102029239374554,
          -0.477769555673728,
          -1.089425538238347,
          -1.0357538495845635,
          1.2252166381530092,
          0.37107402061163053,
          -1.158252094622077,
          1.3695745789888654,
          -1.01825182367802,
          -1.7722468986897701,
          -0.2168013554876337,
          0.4755191701253149,
          -0.31047009102309275,
          -1.1396124818852957,
          -0.6999173593661061,
          -1.1371155062620095,
          -0.4910949440770942,
          -1.3621373445513156,
          1.0766873032479476,
          0.525928465473397,
          0.18338106944618113,
          -0.1505291458789072,
          1.8846432497944905,
          1.0605122306404768,
          -0.962144311117594,
          -0.1476914461688686,
          0.7205523460441676,
          -1.7892639026055361,
          -1.0548281912697273,
          1.7356821752881395,
          0.7623513817996954,
          0.3727625957984767,
          0.44451049023253525,
          1.4676975285083917,
          0.4814662048334038,
          0.6221661115520754,
          0.2370320573531419,
          -0.7473679255146413,
          0.6347836687579423,
          1.2138547818174472,
          -1.1115098285811436,
          -0.741420524794404,
          -1.7765108665886487,
          0.810113366475899,
          0.47669154362011024,
          -0.4134257725397369,
          0.765857785416105,
          -0.965188219950402,
          -1.4789137379581754,
          -0.6434993507816088,
          1.1172937554301525,
          -0.495694212475232,
          -0.387836058015111,
          -1.5016648314212626,
          0.1203043588212254,
          1.2088376698736039,
          -0.07194726263107164,
          0.15389399355134598,
          -0.6401244083647915,
          -0.08273948253381846,
          -1.3592394732882558,
          -1.9885105671375787,
          0.038505035218103376,
          -1.24448668315206,
          1.0295590758843345,
          0.33682960031944126,
          0.016429352896183677,
          -0.8237702468602085,
          -0.18449476647468116,
          1.3095212684401376,
          1.3587986132723278,
          -0.6051067858004684,
          -1.6266419057988017,
          1.0042132470590117,
          -0.941415138673278,
          -0.22540308480569024,
          1.3745114441408741,
          0.9480792162916354,
          -0.6327623894459151,
          -0.4249154919293121,
          0.6437607373691273,
          -0.023221467246056046,
          -0.11276162648807049,
          -1.4583110545841829,
          1.2612779604538449,
          1.3478794165153494,
          -0.380129484919786,
          1.451947890281281,
          -1.1301928995517123,
          -1.9753921455165973
         ]
        }
       ],
       "layout": {
        "barmode": "overlay",
        "legend": {
         "bgcolor": "#F5F6F9",
         "font": {
          "color": "#4D5663"
         }
        },
        "paper_bgcolor": "#F5F6F9",
        "plot_bgcolor": "#F5F6F9",
        "template": {
         "data": {
          "bar": [
           {
            "error_x": {
             "color": "#2a3f5f"
            },
            "error_y": {
             "color": "#2a3f5f"
            },
            "marker": {
             "line": {
              "color": "#E5ECF6",
              "width": 0.5
             },
             "pattern": {
              "fillmode": "overlay",
              "size": 10,
              "solidity": 0.2
             }
            },
            "type": "bar"
           }
          ],
          "barpolar": [
           {
            "marker": {
             "line": {
              "color": "#E5ECF6",
              "width": 0.5
             },
             "pattern": {
              "fillmode": "overlay",
              "size": 10,
              "solidity": 0.2
             }
            },
            "type": "barpolar"
           }
          ],
          "carpet": [
           {
            "aaxis": {
             "endlinecolor": "#2a3f5f",
             "gridcolor": "white",
             "linecolor": "white",
             "minorgridcolor": "white",
             "startlinecolor": "#2a3f5f"
            },
            "baxis": {
             "endlinecolor": "#2a3f5f",
             "gridcolor": "white",
             "linecolor": "white",
             "minorgridcolor": "white",
             "startlinecolor": "#2a3f5f"
            },
            "type": "carpet"
           }
          ],
          "choropleth": [
           {
            "colorbar": {
             "outlinewidth": 0,
             "ticks": ""
            },
            "type": "choropleth"
           }
          ],
          "contour": [
           {
            "colorbar": {
             "outlinewidth": 0,
             "ticks": ""
            },
            "colorscale": [
             [
              0,
              "#0d0887"
             ],
             [
              0.1111111111111111,
              "#46039f"
             ],
             [
              0.2222222222222222,
              "#7201a8"
             ],
             [
              0.3333333333333333,
              "#9c179e"
             ],
             [
              0.4444444444444444,
              "#bd3786"
             ],
             [
              0.5555555555555556,
              "#d8576b"
             ],
             [
              0.6666666666666666,
              "#ed7953"
             ],
             [
              0.7777777777777778,
              "#fb9f3a"
             ],
             [
              0.8888888888888888,
              "#fdca26"
             ],
             [
              1,
              "#f0f921"
             ]
            ],
            "type": "contour"
           }
          ],
          "contourcarpet": [
           {
            "colorbar": {
             "outlinewidth": 0,
             "ticks": ""
            },
            "type": "contourcarpet"
           }
          ],
          "heatmap": [
           {
            "colorbar": {
             "outlinewidth": 0,
             "ticks": ""
            },
            "colorscale": [
             [
              0,
              "#0d0887"
             ],
             [
              0.1111111111111111,
              "#46039f"
             ],
             [
              0.2222222222222222,
              "#7201a8"
             ],
             [
              0.3333333333333333,
              "#9c179e"
             ],
             [
              0.4444444444444444,
              "#bd3786"
             ],
             [
              0.5555555555555556,
              "#d8576b"
             ],
             [
              0.6666666666666666,
              "#ed7953"
             ],
             [
              0.7777777777777778,
              "#fb9f3a"
             ],
             [
              0.8888888888888888,
              "#fdca26"
             ],
             [
              1,
              "#f0f921"
             ]
            ],
            "type": "heatmap"
           }
          ],
          "heatmapgl": [
           {
            "colorbar": {
             "outlinewidth": 0,
             "ticks": ""
            },
            "colorscale": [
             [
              0,
              "#0d0887"
             ],
             [
              0.1111111111111111,
              "#46039f"
             ],
             [
              0.2222222222222222,
              "#7201a8"
             ],
             [
              0.3333333333333333,
              "#9c179e"
             ],
             [
              0.4444444444444444,
              "#bd3786"
             ],
             [
              0.5555555555555556,
              "#d8576b"
             ],
             [
              0.6666666666666666,
              "#ed7953"
             ],
             [
              0.7777777777777778,
              "#fb9f3a"
             ],
             [
              0.8888888888888888,
              "#fdca26"
             ],
             [
              1,
              "#f0f921"
             ]
            ],
            "type": "heatmapgl"
           }
          ],
          "histogram": [
           {
            "marker": {
             "pattern": {
              "fillmode": "overlay",
              "size": 10,
              "solidity": 0.2
             }
            },
            "type": "histogram"
           }
          ],
          "histogram2d": [
           {
            "colorbar": {
             "outlinewidth": 0,
             "ticks": ""
            },
            "colorscale": [
             [
              0,
              "#0d0887"
             ],
             [
              0.1111111111111111,
              "#46039f"
             ],
             [
              0.2222222222222222,
              "#7201a8"
             ],
             [
              0.3333333333333333,
              "#9c179e"
             ],
             [
              0.4444444444444444,
              "#bd3786"
             ],
             [
              0.5555555555555556,
              "#d8576b"
             ],
             [
              0.6666666666666666,
              "#ed7953"
             ],
             [
              0.7777777777777778,
              "#fb9f3a"
             ],
             [
              0.8888888888888888,
              "#fdca26"
             ],
             [
              1,
              "#f0f921"
             ]
            ],
            "type": "histogram2d"
           }
          ],
          "histogram2dcontour": [
           {
            "colorbar": {
             "outlinewidth": 0,
             "ticks": ""
            },
            "colorscale": [
             [
              0,
              "#0d0887"
             ],
             [
              0.1111111111111111,
              "#46039f"
             ],
             [
              0.2222222222222222,
              "#7201a8"
             ],
             [
              0.3333333333333333,
              "#9c179e"
             ],
             [
              0.4444444444444444,
              "#bd3786"
             ],
             [
              0.5555555555555556,
              "#d8576b"
             ],
             [
              0.6666666666666666,
              "#ed7953"
             ],
             [
              0.7777777777777778,
              "#fb9f3a"
             ],
             [
              0.8888888888888888,
              "#fdca26"
             ],
             [
              1,
              "#f0f921"
             ]
            ],
            "type": "histogram2dcontour"
           }
          ],
          "mesh3d": [
           {
            "colorbar": {
             "outlinewidth": 0,
             "ticks": ""
            },
            "type": "mesh3d"
           }
          ],
          "parcoords": [
           {
            "line": {
             "colorbar": {
              "outlinewidth": 0,
              "ticks": ""
             }
            },
            "type": "parcoords"
           }
          ],
          "pie": [
           {
            "automargin": true,
            "type": "pie"
           }
          ],
          "scatter": [
           {
            "marker": {
             "colorbar": {
              "outlinewidth": 0,
              "ticks": ""
             }
            },
            "type": "scatter"
           }
          ],
          "scatter3d": [
           {
            "line": {
             "colorbar": {
              "outlinewidth": 0,
              "ticks": ""
             }
            },
            "marker": {
             "colorbar": {
              "outlinewidth": 0,
              "ticks": ""
             }
            },
            "type": "scatter3d"
           }
          ],
          "scattercarpet": [
           {
            "marker": {
             "colorbar": {
              "outlinewidth": 0,
              "ticks": ""
             }
            },
            "type": "scattercarpet"
           }
          ],
          "scattergeo": [
           {
            "marker": {
             "colorbar": {
              "outlinewidth": 0,
              "ticks": ""
             }
            },
            "type": "scattergeo"
           }
          ],
          "scattergl": [
           {
            "marker": {
             "colorbar": {
              "outlinewidth": 0,
              "ticks": ""
             }
            },
            "type": "scattergl"
           }
          ],
          "scattermapbox": [
           {
            "marker": {
             "colorbar": {
              "outlinewidth": 0,
              "ticks": ""
             }
            },
            "type": "scattermapbox"
           }
          ],
          "scatterpolar": [
           {
            "marker": {
             "colorbar": {
              "outlinewidth": 0,
              "ticks": ""
             }
            },
            "type": "scatterpolar"
           }
          ],
          "scatterpolargl": [
           {
            "marker": {
             "colorbar": {
              "outlinewidth": 0,
              "ticks": ""
             }
            },
            "type": "scatterpolargl"
           }
          ],
          "scatterternary": [
           {
            "marker": {
             "colorbar": {
              "outlinewidth": 0,
              "ticks": ""
             }
            },
            "type": "scatterternary"
           }
          ],
          "surface": [
           {
            "colorbar": {
             "outlinewidth": 0,
             "ticks": ""
            },
            "colorscale": [
             [
              0,
              "#0d0887"
             ],
             [
              0.1111111111111111,
              "#46039f"
             ],
             [
              0.2222222222222222,
              "#7201a8"
             ],
             [
              0.3333333333333333,
              "#9c179e"
             ],
             [
              0.4444444444444444,
              "#bd3786"
             ],
             [
              0.5555555555555556,
              "#d8576b"
             ],
             [
              0.6666666666666666,
              "#ed7953"
             ],
             [
              0.7777777777777778,
              "#fb9f3a"
             ],
             [
              0.8888888888888888,
              "#fdca26"
             ],
             [
              1,
              "#f0f921"
             ]
            ],
            "type": "surface"
           }
          ],
          "table": [
           {
            "cells": {
             "fill": {
              "color": "#EBF0F8"
             },
             "line": {
              "color": "white"
             }
            },
            "header": {
             "fill": {
              "color": "#C8D4E3"
             },
             "line": {
              "color": "white"
             }
            },
            "type": "table"
           }
          ]
         },
         "layout": {
          "annotationdefaults": {
           "arrowcolor": "#2a3f5f",
           "arrowhead": 0,
           "arrowwidth": 1
          },
          "autotypenumbers": "strict",
          "coloraxis": {
           "colorbar": {
            "outlinewidth": 0,
            "ticks": ""
           }
          },
          "colorscale": {
           "diverging": [
            [
             0,
             "#8e0152"
            ],
            [
             0.1,
             "#c51b7d"
            ],
            [
             0.2,
             "#de77ae"
            ],
            [
             0.3,
             "#f1b6da"
            ],
            [
             0.4,
             "#fde0ef"
            ],
            [
             0.5,
             "#f7f7f7"
            ],
            [
             0.6,
             "#e6f5d0"
            ],
            [
             0.7,
             "#b8e186"
            ],
            [
             0.8,
             "#7fbc41"
            ],
            [
             0.9,
             "#4d9221"
            ],
            [
             1,
             "#276419"
            ]
           ],
           "sequential": [
            [
             0,
             "#0d0887"
            ],
            [
             0.1111111111111111,
             "#46039f"
            ],
            [
             0.2222222222222222,
             "#7201a8"
            ],
            [
             0.3333333333333333,
             "#9c179e"
            ],
            [
             0.4444444444444444,
             "#bd3786"
            ],
            [
             0.5555555555555556,
             "#d8576b"
            ],
            [
             0.6666666666666666,
             "#ed7953"
            ],
            [
             0.7777777777777778,
             "#fb9f3a"
            ],
            [
             0.8888888888888888,
             "#fdca26"
            ],
            [
             1,
             "#f0f921"
            ]
           ],
           "sequentialminus": [
            [
             0,
             "#0d0887"
            ],
            [
             0.1111111111111111,
             "#46039f"
            ],
            [
             0.2222222222222222,
             "#7201a8"
            ],
            [
             0.3333333333333333,
             "#9c179e"
            ],
            [
             0.4444444444444444,
             "#bd3786"
            ],
            [
             0.5555555555555556,
             "#d8576b"
            ],
            [
             0.6666666666666666,
             "#ed7953"
            ],
            [
             0.7777777777777778,
             "#fb9f3a"
            ],
            [
             0.8888888888888888,
             "#fdca26"
            ],
            [
             1,
             "#f0f921"
            ]
           ]
          },
          "colorway": [
           "#636efa",
           "#EF553B",
           "#00cc96",
           "#ab63fa",
           "#FFA15A",
           "#19d3f3",
           "#FF6692",
           "#B6E880",
           "#FF97FF",
           "#FECB52"
          ],
          "font": {
           "color": "#2a3f5f"
          },
          "geo": {
           "bgcolor": "white",
           "lakecolor": "white",
           "landcolor": "#E5ECF6",
           "showlakes": true,
           "showland": true,
           "subunitcolor": "white"
          },
          "hoverlabel": {
           "align": "left"
          },
          "hovermode": "closest",
          "mapbox": {
           "style": "light"
          },
          "paper_bgcolor": "white",
          "plot_bgcolor": "#E5ECF6",
          "polar": {
           "angularaxis": {
            "gridcolor": "white",
            "linecolor": "white",
            "ticks": ""
           },
           "bgcolor": "#E5ECF6",
           "radialaxis": {
            "gridcolor": "white",
            "linecolor": "white",
            "ticks": ""
           }
          },
          "scene": {
           "xaxis": {
            "backgroundcolor": "#E5ECF6",
            "gridcolor": "white",
            "gridwidth": 2,
            "linecolor": "white",
            "showbackground": true,
            "ticks": "",
            "zerolinecolor": "white"
           },
           "yaxis": {
            "backgroundcolor": "#E5ECF6",
            "gridcolor": "white",
            "gridwidth": 2,
            "linecolor": "white",
            "showbackground": true,
            "ticks": "",
            "zerolinecolor": "white"
           },
           "zaxis": {
            "backgroundcolor": "#E5ECF6",
            "gridcolor": "white",
            "gridwidth": 2,
            "linecolor": "white",
            "showbackground": true,
            "ticks": "",
            "zerolinecolor": "white"
           }
          },
          "shapedefaults": {
           "line": {
            "color": "#2a3f5f"
           }
          },
          "ternary": {
           "aaxis": {
            "gridcolor": "white",
            "linecolor": "white",
            "ticks": ""
           },
           "baxis": {
            "gridcolor": "white",
            "linecolor": "white",
            "ticks": ""
           },
           "bgcolor": "#E5ECF6",
           "caxis": {
            "gridcolor": "white",
            "linecolor": "white",
            "ticks": ""
           }
          },
          "title": {
           "x": 0.05
          },
          "xaxis": {
           "automargin": true,
           "gridcolor": "white",
           "linecolor": "white",
           "ticks": "",
           "title": {
            "standoff": 15
           },
           "zerolinecolor": "white",
           "zerolinewidth": 2
          },
          "yaxis": {
           "automargin": true,
           "gridcolor": "white",
           "linecolor": "white",
           "ticks": "",
           "title": {
            "standoff": 15
           },
           "zerolinecolor": "white",
           "zerolinewidth": 2
          }
         }
        },
        "title": {
         "font": {
          "color": "#4D5663"
         }
        },
        "xaxis": {
         "gridcolor": "#E1E5ED",
         "showgrid": true,
         "tickfont": {
          "color": "#4D5663"
         },
         "title": {
          "font": {
           "color": "#4D5663"
          },
          "text": ""
         },
         "zerolinecolor": "#E1E5ED"
        },
        "yaxis": {
         "gridcolor": "#E1E5ED",
         "showgrid": true,
         "tickfont": {
          "color": "#4D5663"
         },
         "title": {
          "font": {
           "color": "#4D5663"
          },
          "text": ""
         },
         "zerolinecolor": "#E1E5ED"
        }
       }
      },
      "text/html": [
       "<div>                            <div id=\"77c28d5b-9dc9-425f-8926-282f721245f3\" class=\"plotly-graph-div\" style=\"height:525px; width:100%;\"></div>            <script type=\"text/javascript\">                require([\"plotly\"], function(Plotly) {                    window.PLOTLYENV=window.PLOTLYENV || {};\n",
       "                    window.PLOTLYENV.BASE_URL='https://plot.ly';                                    if (document.getElementById(\"77c28d5b-9dc9-425f-8926-282f721245f3\")) {                    Plotly.newPlot(                        \"77c28d5b-9dc9-425f-8926-282f721245f3\",                        [{\"histfunc\":\"count\",\"histnorm\":\"\",\"marker\":{\"color\":\"rgba(255, 153, 51, 1.0)\",\"line\":{\"color\":\"#4D5663\",\"width\":1.3}},\"name\":\"A\",\"nbinsx\":45,\"opacity\":0.8,\"orientation\":\"v\",\"x\":[-1.309527744420406,-0.43461471341730906,-0.6595622762097307,-1.8087704558636009,-0.21507624397672268,-0.38856874633371274,0.39323640994019327,-1.5768836282447465,0.22178931809236666,-0.9431156572498557,-1.9102029239374554,-0.477769555673728,-1.089425538238347,-1.0357538495845635,1.2252166381530092,0.37107402061163053,-1.158252094622077,1.3695745789888654,-1.01825182367802,-1.7722468986897701,-0.2168013554876337,0.4755191701253149,-0.31047009102309275,-1.1396124818852957,-0.6999173593661061,-1.1371155062620095,-0.4910949440770942,-1.3621373445513156,1.0766873032479476,0.525928465473397,0.18338106944618113,-0.1505291458789072,1.8846432497944905,1.0605122306404768,-0.962144311117594,-0.1476914461688686,0.7205523460441676,-1.7892639026055361,-1.0548281912697273,1.7356821752881395,0.7623513817996954,0.3727625957984767,0.44451049023253525,1.4676975285083917,0.4814662048334038,0.6221661115520754,0.2370320573531419,-0.7473679255146413,0.6347836687579423,1.2138547818174472,-1.1115098285811436,-0.741420524794404,-1.7765108665886487,0.810113366475899,0.47669154362011024,-0.4134257725397369,0.765857785416105,-0.965188219950402,-1.4789137379581754,-0.6434993507816088,1.1172937554301525,-0.495694212475232,-0.387836058015111,-1.5016648314212626,0.1203043588212254,1.2088376698736039,-0.07194726263107164,0.15389399355134598,-0.6401244083647915,-0.08273948253381846,-1.3592394732882558,-1.9885105671375787,0.038505035218103376,-1.24448668315206,1.0295590758843345,0.33682960031944126,0.016429352896183677,-0.8237702468602085,-0.18449476647468116,1.3095212684401376,1.3587986132723278,-0.6051067858004684,-1.6266419057988017,1.0042132470590117,-0.941415138673278,-0.22540308480569024,1.3745114441408741,0.9480792162916354,-0.6327623894459151,-0.4249154919293121,0.6437607373691273,-0.023221467246056046,-0.11276162648807049,-1.4583110545841829,1.2612779604538449,1.3478794165153494,-0.380129484919786,1.451947890281281,-1.1301928995517123,-1.9753921455165973],\"type\":\"histogram\"}],                        {\"barmode\":\"overlay\",\"legend\":{\"bgcolor\":\"#F5F6F9\",\"font\":{\"color\":\"#4D5663\"}},\"paper_bgcolor\":\"#F5F6F9\",\"plot_bgcolor\":\"#F5F6F9\",\"template\":{\"data\":{\"barpolar\":[{\"marker\":{\"line\":{\"color\":\"#E5ECF6\",\"width\":0.5},\"pattern\":{\"fillmode\":\"overlay\",\"size\":10,\"solidity\":0.2}},\"type\":\"barpolar\"}],\"bar\":[{\"error_x\":{\"color\":\"#2a3f5f\"},\"error_y\":{\"color\":\"#2a3f5f\"},\"marker\":{\"line\":{\"color\":\"#E5ECF6\",\"width\":0.5},\"pattern\":{\"fillmode\":\"overlay\",\"size\":10,\"solidity\":0.2}},\"type\":\"bar\"}],\"carpet\":[{\"aaxis\":{\"endlinecolor\":\"#2a3f5f\",\"gridcolor\":\"white\",\"linecolor\":\"white\",\"minorgridcolor\":\"white\",\"startlinecolor\":\"#2a3f5f\"},\"baxis\":{\"endlinecolor\":\"#2a3f5f\",\"gridcolor\":\"white\",\"linecolor\":\"white\",\"minorgridcolor\":\"white\",\"startlinecolor\":\"#2a3f5f\"},\"type\":\"carpet\"}],\"choropleth\":[{\"colorbar\":{\"outlinewidth\":0,\"ticks\":\"\"},\"type\":\"choropleth\"}],\"contourcarpet\":[{\"colorbar\":{\"outlinewidth\":0,\"ticks\":\"\"},\"type\":\"contourcarpet\"}],\"contour\":[{\"colorbar\":{\"outlinewidth\":0,\"ticks\":\"\"},\"colorscale\":[[0.0,\"#0d0887\"],[0.1111111111111111,\"#46039f\"],[0.2222222222222222,\"#7201a8\"],[0.3333333333333333,\"#9c179e\"],[0.4444444444444444,\"#bd3786\"],[0.5555555555555556,\"#d8576b\"],[0.6666666666666666,\"#ed7953\"],[0.7777777777777778,\"#fb9f3a\"],[0.8888888888888888,\"#fdca26\"],[1.0,\"#f0f921\"]],\"type\":\"contour\"}],\"heatmapgl\":[{\"colorbar\":{\"outlinewidth\":0,\"ticks\":\"\"},\"colorscale\":[[0.0,\"#0d0887\"],[0.1111111111111111,\"#46039f\"],[0.2222222222222222,\"#7201a8\"],[0.3333333333333333,\"#9c179e\"],[0.4444444444444444,\"#bd3786\"],[0.5555555555555556,\"#d8576b\"],[0.6666666666666666,\"#ed7953\"],[0.7777777777777778,\"#fb9f3a\"],[0.8888888888888888,\"#fdca26\"],[1.0,\"#f0f921\"]],\"type\":\"heatmapgl\"}],\"heatmap\":[{\"colorbar\":{\"outlinewidth\":0,\"ticks\":\"\"},\"colorscale\":[[0.0,\"#0d0887\"],[0.1111111111111111,\"#46039f\"],[0.2222222222222222,\"#7201a8\"],[0.3333333333333333,\"#9c179e\"],[0.4444444444444444,\"#bd3786\"],[0.5555555555555556,\"#d8576b\"],[0.6666666666666666,\"#ed7953\"],[0.7777777777777778,\"#fb9f3a\"],[0.8888888888888888,\"#fdca26\"],[1.0,\"#f0f921\"]],\"type\":\"heatmap\"}],\"histogram2dcontour\":[{\"colorbar\":{\"outlinewidth\":0,\"ticks\":\"\"},\"colorscale\":[[0.0,\"#0d0887\"],[0.1111111111111111,\"#46039f\"],[0.2222222222222222,\"#7201a8\"],[0.3333333333333333,\"#9c179e\"],[0.4444444444444444,\"#bd3786\"],[0.5555555555555556,\"#d8576b\"],[0.6666666666666666,\"#ed7953\"],[0.7777777777777778,\"#fb9f3a\"],[0.8888888888888888,\"#fdca26\"],[1.0,\"#f0f921\"]],\"type\":\"histogram2dcontour\"}],\"histogram2d\":[{\"colorbar\":{\"outlinewidth\":0,\"ticks\":\"\"},\"colorscale\":[[0.0,\"#0d0887\"],[0.1111111111111111,\"#46039f\"],[0.2222222222222222,\"#7201a8\"],[0.3333333333333333,\"#9c179e\"],[0.4444444444444444,\"#bd3786\"],[0.5555555555555556,\"#d8576b\"],[0.6666666666666666,\"#ed7953\"],[0.7777777777777778,\"#fb9f3a\"],[0.8888888888888888,\"#fdca26\"],[1.0,\"#f0f921\"]],\"type\":\"histogram2d\"}],\"histogram\":[{\"marker\":{\"pattern\":{\"fillmode\":\"overlay\",\"size\":10,\"solidity\":0.2}},\"type\":\"histogram\"}],\"mesh3d\":[{\"colorbar\":{\"outlinewidth\":0,\"ticks\":\"\"},\"type\":\"mesh3d\"}],\"parcoords\":[{\"line\":{\"colorbar\":{\"outlinewidth\":0,\"ticks\":\"\"}},\"type\":\"parcoords\"}],\"pie\":[{\"automargin\":true,\"type\":\"pie\"}],\"scatter3d\":[{\"line\":{\"colorbar\":{\"outlinewidth\":0,\"ticks\":\"\"}},\"marker\":{\"colorbar\":{\"outlinewidth\":0,\"ticks\":\"\"}},\"type\":\"scatter3d\"}],\"scattercarpet\":[{\"marker\":{\"colorbar\":{\"outlinewidth\":0,\"ticks\":\"\"}},\"type\":\"scattercarpet\"}],\"scattergeo\":[{\"marker\":{\"colorbar\":{\"outlinewidth\":0,\"ticks\":\"\"}},\"type\":\"scattergeo\"}],\"scattergl\":[{\"marker\":{\"colorbar\":{\"outlinewidth\":0,\"ticks\":\"\"}},\"type\":\"scattergl\"}],\"scattermapbox\":[{\"marker\":{\"colorbar\":{\"outlinewidth\":0,\"ticks\":\"\"}},\"type\":\"scattermapbox\"}],\"scatterpolargl\":[{\"marker\":{\"colorbar\":{\"outlinewidth\":0,\"ticks\":\"\"}},\"type\":\"scatterpolargl\"}],\"scatterpolar\":[{\"marker\":{\"colorbar\":{\"outlinewidth\":0,\"ticks\":\"\"}},\"type\":\"scatterpolar\"}],\"scatter\":[{\"marker\":{\"colorbar\":{\"outlinewidth\":0,\"ticks\":\"\"}},\"type\":\"scatter\"}],\"scatterternary\":[{\"marker\":{\"colorbar\":{\"outlinewidth\":0,\"ticks\":\"\"}},\"type\":\"scatterternary\"}],\"surface\":[{\"colorbar\":{\"outlinewidth\":0,\"ticks\":\"\"},\"colorscale\":[[0.0,\"#0d0887\"],[0.1111111111111111,\"#46039f\"],[0.2222222222222222,\"#7201a8\"],[0.3333333333333333,\"#9c179e\"],[0.4444444444444444,\"#bd3786\"],[0.5555555555555556,\"#d8576b\"],[0.6666666666666666,\"#ed7953\"],[0.7777777777777778,\"#fb9f3a\"],[0.8888888888888888,\"#fdca26\"],[1.0,\"#f0f921\"]],\"type\":\"surface\"}],\"table\":[{\"cells\":{\"fill\":{\"color\":\"#EBF0F8\"},\"line\":{\"color\":\"white\"}},\"header\":{\"fill\":{\"color\":\"#C8D4E3\"},\"line\":{\"color\":\"white\"}},\"type\":\"table\"}]},\"layout\":{\"annotationdefaults\":{\"arrowcolor\":\"#2a3f5f\",\"arrowhead\":0,\"arrowwidth\":1},\"autotypenumbers\":\"strict\",\"coloraxis\":{\"colorbar\":{\"outlinewidth\":0,\"ticks\":\"\"}},\"colorscale\":{\"diverging\":[[0,\"#8e0152\"],[0.1,\"#c51b7d\"],[0.2,\"#de77ae\"],[0.3,\"#f1b6da\"],[0.4,\"#fde0ef\"],[0.5,\"#f7f7f7\"],[0.6,\"#e6f5d0\"],[0.7,\"#b8e186\"],[0.8,\"#7fbc41\"],[0.9,\"#4d9221\"],[1,\"#276419\"]],\"sequential\":[[0.0,\"#0d0887\"],[0.1111111111111111,\"#46039f\"],[0.2222222222222222,\"#7201a8\"],[0.3333333333333333,\"#9c179e\"],[0.4444444444444444,\"#bd3786\"],[0.5555555555555556,\"#d8576b\"],[0.6666666666666666,\"#ed7953\"],[0.7777777777777778,\"#fb9f3a\"],[0.8888888888888888,\"#fdca26\"],[1.0,\"#f0f921\"]],\"sequentialminus\":[[0.0,\"#0d0887\"],[0.1111111111111111,\"#46039f\"],[0.2222222222222222,\"#7201a8\"],[0.3333333333333333,\"#9c179e\"],[0.4444444444444444,\"#bd3786\"],[0.5555555555555556,\"#d8576b\"],[0.6666666666666666,\"#ed7953\"],[0.7777777777777778,\"#fb9f3a\"],[0.8888888888888888,\"#fdca26\"],[1.0,\"#f0f921\"]]},\"colorway\":[\"#636efa\",\"#EF553B\",\"#00cc96\",\"#ab63fa\",\"#FFA15A\",\"#19d3f3\",\"#FF6692\",\"#B6E880\",\"#FF97FF\",\"#FECB52\"],\"font\":{\"color\":\"#2a3f5f\"},\"geo\":{\"bgcolor\":\"white\",\"lakecolor\":\"white\",\"landcolor\":\"#E5ECF6\",\"showlakes\":true,\"showland\":true,\"subunitcolor\":\"white\"},\"hoverlabel\":{\"align\":\"left\"},\"hovermode\":\"closest\",\"mapbox\":{\"style\":\"light\"},\"paper_bgcolor\":\"white\",\"plot_bgcolor\":\"#E5ECF6\",\"polar\":{\"angularaxis\":{\"gridcolor\":\"white\",\"linecolor\":\"white\",\"ticks\":\"\"},\"bgcolor\":\"#E5ECF6\",\"radialaxis\":{\"gridcolor\":\"white\",\"linecolor\":\"white\",\"ticks\":\"\"}},\"scene\":{\"xaxis\":{\"backgroundcolor\":\"#E5ECF6\",\"gridcolor\":\"white\",\"gridwidth\":2,\"linecolor\":\"white\",\"showbackground\":true,\"ticks\":\"\",\"zerolinecolor\":\"white\"},\"yaxis\":{\"backgroundcolor\":\"#E5ECF6\",\"gridcolor\":\"white\",\"gridwidth\":2,\"linecolor\":\"white\",\"showbackground\":true,\"ticks\":\"\",\"zerolinecolor\":\"white\"},\"zaxis\":{\"backgroundcolor\":\"#E5ECF6\",\"gridcolor\":\"white\",\"gridwidth\":2,\"linecolor\":\"white\",\"showbackground\":true,\"ticks\":\"\",\"zerolinecolor\":\"white\"}},\"shapedefaults\":{\"line\":{\"color\":\"#2a3f5f\"}},\"ternary\":{\"aaxis\":{\"gridcolor\":\"white\",\"linecolor\":\"white\",\"ticks\":\"\"},\"baxis\":{\"gridcolor\":\"white\",\"linecolor\":\"white\",\"ticks\":\"\"},\"bgcolor\":\"#E5ECF6\",\"caxis\":{\"gridcolor\":\"white\",\"linecolor\":\"white\",\"ticks\":\"\"}},\"title\":{\"x\":0.05},\"xaxis\":{\"automargin\":true,\"gridcolor\":\"white\",\"linecolor\":\"white\",\"ticks\":\"\",\"title\":{\"standoff\":15},\"zerolinecolor\":\"white\",\"zerolinewidth\":2},\"yaxis\":{\"automargin\":true,\"gridcolor\":\"white\",\"linecolor\":\"white\",\"ticks\":\"\",\"title\":{\"standoff\":15},\"zerolinecolor\":\"white\",\"zerolinewidth\":2}}},\"title\":{\"font\":{\"color\":\"#4D5663\"}},\"xaxis\":{\"gridcolor\":\"#E1E5ED\",\"showgrid\":true,\"tickfont\":{\"color\":\"#4D5663\"},\"title\":{\"font\":{\"color\":\"#4D5663\"},\"text\":\"\"},\"zerolinecolor\":\"#E1E5ED\"},\"yaxis\":{\"gridcolor\":\"#E1E5ED\",\"showgrid\":true,\"tickfont\":{\"color\":\"#4D5663\"},\"title\":{\"font\":{\"color\":\"#4D5663\"},\"text\":\"\"},\"zerolinecolor\":\"#E1E5ED\"}},                        {\"showLink\": true, \"linkText\": \"Export to plot.ly\", \"plotlyServerURL\": \"https://plot.ly\", \"responsive\": true}                    ).then(function(){\n",
       "                            \n",
       "var gd = document.getElementById('77c28d5b-9dc9-425f-8926-282f721245f3');\n",
       "var x = new MutationObserver(function (mutations, observer) {{\n",
       "        var display = window.getComputedStyle(gd).display;\n",
       "        if (!display || display === 'none') {{\n",
       "            console.log([gd, 'removed!']);\n",
       "            Plotly.purge(gd);\n",
       "            observer.disconnect();\n",
       "        }}\n",
       "}});\n",
       "\n",
       "// Listen for the removal of the full notebook cells\n",
       "var notebookContainer = gd.closest('#notebook-container');\n",
       "if (notebookContainer) {{\n",
       "    x.observe(notebookContainer, {childList: true});\n",
       "}}\n",
       "\n",
       "// Listen for the clearing of the current output cell\n",
       "var outputEl = gd.closest('.output');\n",
       "if (outputEl) {{\n",
       "    x.observe(outputEl, {childList: true});\n",
       "}}\n",
       "\n",
       "                        })                };                });            </script>        </div>"
      ]
     },
     "metadata": {},
     "output_type": "display_data"
    }
   ],
   "source": [
    "df1[\"A\"].iplot(kind=\"hist\", bins=45)"
   ]
  },
  {
   "cell_type": "code",
   "execution_count": 33,
   "id": "7de7aff7",
   "metadata": {},
   "outputs": [
    {
     "data": {
      "application/vnd.plotly.v1+json": {
       "config": {
        "linkText": "Export to plot.ly",
        "plotlyServerURL": "https://plot.ly",
        "showLink": true
       },
       "data": [
        {
         "histfunc": "count",
         "histnorm": "",
         "marker": {
          "color": "rgba(255, 153, 51, 1.0)",
          "line": {
           "color": "#4D5663",
           "width": 1.3
          }
         },
         "name": "A",
         "opacity": 0.8,
         "orientation": "v",
         "type": "histogram",
         "x": [
          -1.309527744420406,
          -0.43461471341730906,
          -0.6595622762097307,
          -1.8087704558636009,
          -0.21507624397672268,
          -0.38856874633371274,
          0.39323640994019327,
          -1.5768836282447465,
          0.22178931809236666,
          -0.9431156572498557,
          -1.9102029239374554,
          -0.477769555673728,
          -1.089425538238347,
          -1.0357538495845635,
          1.2252166381530092,
          0.37107402061163053,
          -1.158252094622077,
          1.3695745789888654,
          -1.01825182367802,
          -1.7722468986897701,
          -0.2168013554876337,
          0.4755191701253149,
          -0.31047009102309275,
          -1.1396124818852957,
          -0.6999173593661061,
          -1.1371155062620095,
          -0.4910949440770942,
          -1.3621373445513156,
          1.0766873032479476,
          0.525928465473397,
          0.18338106944618113,
          -0.1505291458789072,
          1.8846432497944905,
          1.0605122306404768,
          -0.962144311117594,
          -0.1476914461688686,
          0.7205523460441676,
          -1.7892639026055361,
          -1.0548281912697273,
          1.7356821752881395,
          0.7623513817996954,
          0.3727625957984767,
          0.44451049023253525,
          1.4676975285083917,
          0.4814662048334038,
          0.6221661115520754,
          0.2370320573531419,
          -0.7473679255146413,
          0.6347836687579423,
          1.2138547818174472,
          -1.1115098285811436,
          -0.741420524794404,
          -1.7765108665886487,
          0.810113366475899,
          0.47669154362011024,
          -0.4134257725397369,
          0.765857785416105,
          -0.965188219950402,
          -1.4789137379581754,
          -0.6434993507816088,
          1.1172937554301525,
          -0.495694212475232,
          -0.387836058015111,
          -1.5016648314212626,
          0.1203043588212254,
          1.2088376698736039,
          -0.07194726263107164,
          0.15389399355134598,
          -0.6401244083647915,
          -0.08273948253381846,
          -1.3592394732882558,
          -1.9885105671375787,
          0.038505035218103376,
          -1.24448668315206,
          1.0295590758843345,
          0.33682960031944126,
          0.016429352896183677,
          -0.8237702468602085,
          -0.18449476647468116,
          1.3095212684401376,
          1.3587986132723278,
          -0.6051067858004684,
          -1.6266419057988017,
          1.0042132470590117,
          -0.941415138673278,
          -0.22540308480569024,
          1.3745114441408741,
          0.9480792162916354,
          -0.6327623894459151,
          -0.4249154919293121,
          0.6437607373691273,
          -0.023221467246056046,
          -0.11276162648807049,
          -1.4583110545841829,
          1.2612779604538449,
          1.3478794165153494,
          -0.380129484919786,
          1.451947890281281,
          -1.1301928995517123,
          -1.9753921455165973
         ]
        },
        {
         "histfunc": "count",
         "histnorm": "",
         "marker": {
          "color": "rgba(55, 128, 191, 1.0)",
          "line": {
           "color": "#4D5663",
           "width": 1.3
          }
         },
         "name": "B",
         "opacity": 0.8,
         "orientation": "v",
         "type": "histogram",
         "x": [
          -0.3135045106961009,
          0.27106706687477644,
          0.6119471965110417,
          0.3009908952710065,
          -1.7296433552727768,
          -0.8395951219175694,
          0.16250707660228472,
          0.5055405458960701,
          -0.832888025408523,
          0.9109193800627438,
          -0.26573228768153007,
          -1.048508086534288,
          2.3935354905650352,
          -0.6120845323882204,
          0.2794630660004881,
          1.627451053655647,
          -0.6851014265020644,
          -0.05563959335930016,
          -0.135370377466742,
          1.1825219023457476,
          0.09104646907592046,
          -0.23291348461501518,
          0.7536213073112578,
          0.4852510554975916,
          -0.11598911508126203,
          1.0968318367465173,
          0.18417105335675082,
          -1.3013280121311601,
          -1.5523879941424124,
          -0.32369753741302265,
          0.12823504654106158,
          0.3235706409631143,
          -0.39016583384232667,
          -1.3483469875160243,
          -0.8778043256258503,
          -0.6566745979642085,
          -0.8717450588581389,
          -0.6555475573355242,
          1.1869681326633754,
          -1.6754949879668986,
          -1.0166574270487643,
          0.30084494827373853,
          -0.5569631288734428,
          -0.567768653274891,
          -1.240819396653744,
          0.07056845771157615,
          1.7622707398041684,
          0.18529340390041166,
          -0.9353562273967888,
          -0.6885393911334184,
          1.5338969581422393,
          1.5892838914058174,
          -1.614263003322591,
          -0.15402669237130096,
          1.159444826889843,
          0.08959925841560044,
          -0.7533113996854893,
          1.905234347898969,
          0.7307657905729821,
          -0.29285654487137897,
          1.7069381234928882,
          0.5380807773841841,
          -0.633045084982813,
          -1.7779188737619718,
          1.4017987066713467,
          -0.08474720608466335,
          0.8776521766497231,
          0.4641730284714228,
          0.45125150792532565,
          0.060392922247830425,
          0.8784203727592276,
          -0.1688059199189494,
          -1.0896619947083495,
          0.0171159299839232,
          0.08104028200629111,
          2.1271586379364784,
          -0.976903741909578,
          1.1376357527698266,
          -0.00012090109272308358,
          1.6484473114720377,
          -1.0772133462637432,
          -0.9150194793716977,
          -0.13908916224241138,
          1.420245945456923,
          -0.8638449427158882,
          0.35946872217060843,
          0.353760398347842,
          -0.034214007117311096,
          0.42062282065593914,
          -0.4119607557910614,
          -2.246530449988816,
          0.6572380023859556,
          1.5371929318791877,
          0.7047641075968462,
          0.2758760032749365,
          0.3641139356290369,
          -1.7452790367604647,
          0.7507657464946539,
          0.7660509128626469,
          -1.918014533068927
         ]
        },
        {
         "histfunc": "count",
         "histnorm": "",
         "marker": {
          "color": "rgba(50, 171, 96, 1.0)",
          "line": {
           "color": "#4D5663",
           "width": 1.3
          }
         },
         "name": "C",
         "opacity": 0.8,
         "orientation": "v",
         "type": "histogram",
         "x": [
          -0.2575191113048818,
          1.320500761745751,
          0.5393212069591781,
          0.04219896750035622,
          1.698198936943047,
          0.5028199669499871,
          -0.1498454934058726,
          0.9633475163625961,
          -1.339015637048091,
          -0.6182770329783752,
          -0.33591206203027124,
          -0.18188932275864927,
          -0.5454887664402375,
          -0.6883932246837449,
          -0.30489076816095145,
          -1.0100830280007966,
          -1.0655391492630855,
          -0.12015197749752969,
          0.5860522797870924,
          0.4192151567643949,
          -1.3353733919720032,
          -0.031402120800871076,
          -2.1335260348390843,
          -0.3441969850120935,
          -1.7542223093498468,
          -0.295042033863205,
          -0.18863870771689262,
          1.552840719836552,
          -0.4316870464612591,
          -0.7613274261883847,
          0.14947076189898487,
          0.48595016476934905,
          -0.7926945550247574,
          0.7731965931118994,
          -0.6883938465753762,
          -2.225079507875566,
          0.5423950945731457,
          -0.34085758855813325,
          1.7417998243184183,
          -0.338719869712993,
          -1.2565129037379519,
          -0.4862357073192635,
          -0.26247542513880223,
          1.371966678906609,
          0.06204981495579611,
          0.1435830366946529,
          -0.09818086024700041,
          -1.0065206400186884,
          0.8816406316046609,
          1.365273883971452,
          -0.3084988064482174,
          -1.0107121741822607,
          0.13115805878508405,
          1.4331106094227337,
          0.1347015805384705,
          -1.2873072839233077,
          0.4520970966083857,
          -1.2803743865230197,
          1.1250400099747564,
          -0.26260192722481174,
          2.7583588538460173,
          0.3145755605376287,
          0.6148574032845244,
          -0.2865467255124006,
          -0.5077597544678613,
          0.34207611262169624,
          0.1176418668857983,
          0.6599108232966143,
          0.20697791306697302,
          -1.5497405311923949,
          -1.2399904990512816,
          -0.5418927010115602,
          -0.006076378393536418,
          1.396970316349856,
          0.29841528419805907,
          -0.5186695251409451,
          2.5370307553948255,
          1.4138531800659624,
          0.850227769881565,
          -0.5589241218200475,
          0.9370408392367986,
          -0.9036863474832941,
          -1.2731512830332214,
          0.43070386279979206,
          1.004596274576969,
          0.30830106177054645,
          0.15488032937692175,
          -1.0238457042133868,
          -1.0118295214957163,
          0.08967082143098096,
          -0.9042923514152782,
          -0.7405311429356125,
          -0.8425526874977495,
          1.1428674009459987,
          -1.1631122871541602,
          -0.47384436477048175,
          -1.0361201255211805,
          1.2289487011273375,
          -0.4323744236158504,
          -0.12486789140963928
         ]
        },
        {
         "histfunc": "count",
         "histnorm": "",
         "marker": {
          "color": "rgba(128, 0, 128, 1.0)",
          "line": {
           "color": "#4D5663",
           "width": 1.3
          }
         },
         "name": "D",
         "opacity": 0.8,
         "orientation": "v",
         "type": "histogram",
         "x": [
          0.9233664551727817,
          0.2187068108806523,
          0.11865198024420574,
          -1.5579186623042052,
          -0.4672071562814396,
          3.0066626935308456,
          -0.32655014387269754,
          0.10772210250884771,
          0.8844221038072054,
          1.7722565392187368,
          1.184992792776857,
          0.2108781835560796,
          -1.1148099764931805,
          -4.345427928625704e-05,
          -1.983953129359126,
          -0.9649214601388116,
          -0.22125091561265933,
          1.2273455531899071,
          -0.0575385070370791,
          -0.11781601230391926,
          1.9166344516297773,
          -1.0970613676362393,
          0.43934146242854094,
          1.2762258985477217,
          0.07447449662748581,
          3.0919869419630976,
          0.5973122040456079,
          -0.7050905523339075,
          -0.4999112205302632,
          -0.03493124465617314,
          -0.7617881698096332,
          1.3797053254926674,
          -0.2215403633239477,
          0.6925481305262045,
          0.06167550672697119,
          -0.40963611935775956,
          0.35893243125669266,
          -0.41745743030591087,
          0.03015429313705,
          0.15602988591660222,
          -0.26787146265085654,
          -0.41417028686894974,
          1.5609792080758211,
          1.194969375259976,
          -0.6551383967781365,
          -1.755053789996685,
          1.5159309217952428,
          -1.28875100441881,
          -0.911926164600893,
          -0.5474702131804486,
          0.4047143059595249,
          -0.43079197819212006,
          0.08797226941624581,
          -0.6908029115601726,
          0.7242905167980132,
          0.23214396422851524,
          0.7247353002278414,
          1.9452025367983576,
          -0.6546861016814408,
          -0.6799974252683934,
          -0.5317611724410563,
          1.4405271470855314,
          1.1115247500755756,
          0.589893192958994,
          0.4824437508914874,
          1.377178678619452,
          -0.6862284977820776,
          0.13642842203149558,
          -0.8947830787665288,
          -1.2215509521492065,
          -0.9851235704440013,
          0.2769495490795035,
          -0.5492866868876993,
          -0.45589525253369273,
          -0.49258897950070984,
          -0.2268613593796678,
          -1.0595067963615048,
          -1.163113884097818,
          -2.131695933566539,
          0.42063353723874125,
          1.5399342918829222,
          -0.6831121602536194,
          0.7561167662337182,
          -1.1136598817381878,
          0.026303240811561608,
          -0.11853482107150998,
          -0.7999930888845683,
          0.6608875939920911,
          -0.4310373559079466,
          -0.6088333250428458,
          -0.8584547980700439,
          -0.18485197733031306,
          0.7591281136316559,
          0.4505866865518529,
          0.39346588693495527,
          0.2764004766793301,
          0.2849159220159852,
          0.2464470334073424,
          -1.9666741818132207,
          -0.11656813004260916
         ]
        }
       ],
       "layout": {
        "barmode": "overlay",
        "legend": {
         "bgcolor": "#F5F6F9",
         "font": {
          "color": "#4D5663"
         }
        },
        "paper_bgcolor": "#F5F6F9",
        "plot_bgcolor": "#F5F6F9",
        "template": {
         "data": {
          "bar": [
           {
            "error_x": {
             "color": "#2a3f5f"
            },
            "error_y": {
             "color": "#2a3f5f"
            },
            "marker": {
             "line": {
              "color": "#E5ECF6",
              "width": 0.5
             },
             "pattern": {
              "fillmode": "overlay",
              "size": 10,
              "solidity": 0.2
             }
            },
            "type": "bar"
           }
          ],
          "barpolar": [
           {
            "marker": {
             "line": {
              "color": "#E5ECF6",
              "width": 0.5
             },
             "pattern": {
              "fillmode": "overlay",
              "size": 10,
              "solidity": 0.2
             }
            },
            "type": "barpolar"
           }
          ],
          "carpet": [
           {
            "aaxis": {
             "endlinecolor": "#2a3f5f",
             "gridcolor": "white",
             "linecolor": "white",
             "minorgridcolor": "white",
             "startlinecolor": "#2a3f5f"
            },
            "baxis": {
             "endlinecolor": "#2a3f5f",
             "gridcolor": "white",
             "linecolor": "white",
             "minorgridcolor": "white",
             "startlinecolor": "#2a3f5f"
            },
            "type": "carpet"
           }
          ],
          "choropleth": [
           {
            "colorbar": {
             "outlinewidth": 0,
             "ticks": ""
            },
            "type": "choropleth"
           }
          ],
          "contour": [
           {
            "colorbar": {
             "outlinewidth": 0,
             "ticks": ""
            },
            "colorscale": [
             [
              0,
              "#0d0887"
             ],
             [
              0.1111111111111111,
              "#46039f"
             ],
             [
              0.2222222222222222,
              "#7201a8"
             ],
             [
              0.3333333333333333,
              "#9c179e"
             ],
             [
              0.4444444444444444,
              "#bd3786"
             ],
             [
              0.5555555555555556,
              "#d8576b"
             ],
             [
              0.6666666666666666,
              "#ed7953"
             ],
             [
              0.7777777777777778,
              "#fb9f3a"
             ],
             [
              0.8888888888888888,
              "#fdca26"
             ],
             [
              1,
              "#f0f921"
             ]
            ],
            "type": "contour"
           }
          ],
          "contourcarpet": [
           {
            "colorbar": {
             "outlinewidth": 0,
             "ticks": ""
            },
            "type": "contourcarpet"
           }
          ],
          "heatmap": [
           {
            "colorbar": {
             "outlinewidth": 0,
             "ticks": ""
            },
            "colorscale": [
             [
              0,
              "#0d0887"
             ],
             [
              0.1111111111111111,
              "#46039f"
             ],
             [
              0.2222222222222222,
              "#7201a8"
             ],
             [
              0.3333333333333333,
              "#9c179e"
             ],
             [
              0.4444444444444444,
              "#bd3786"
             ],
             [
              0.5555555555555556,
              "#d8576b"
             ],
             [
              0.6666666666666666,
              "#ed7953"
             ],
             [
              0.7777777777777778,
              "#fb9f3a"
             ],
             [
              0.8888888888888888,
              "#fdca26"
             ],
             [
              1,
              "#f0f921"
             ]
            ],
            "type": "heatmap"
           }
          ],
          "heatmapgl": [
           {
            "colorbar": {
             "outlinewidth": 0,
             "ticks": ""
            },
            "colorscale": [
             [
              0,
              "#0d0887"
             ],
             [
              0.1111111111111111,
              "#46039f"
             ],
             [
              0.2222222222222222,
              "#7201a8"
             ],
             [
              0.3333333333333333,
              "#9c179e"
             ],
             [
              0.4444444444444444,
              "#bd3786"
             ],
             [
              0.5555555555555556,
              "#d8576b"
             ],
             [
              0.6666666666666666,
              "#ed7953"
             ],
             [
              0.7777777777777778,
              "#fb9f3a"
             ],
             [
              0.8888888888888888,
              "#fdca26"
             ],
             [
              1,
              "#f0f921"
             ]
            ],
            "type": "heatmapgl"
           }
          ],
          "histogram": [
           {
            "marker": {
             "pattern": {
              "fillmode": "overlay",
              "size": 10,
              "solidity": 0.2
             }
            },
            "type": "histogram"
           }
          ],
          "histogram2d": [
           {
            "colorbar": {
             "outlinewidth": 0,
             "ticks": ""
            },
            "colorscale": [
             [
              0,
              "#0d0887"
             ],
             [
              0.1111111111111111,
              "#46039f"
             ],
             [
              0.2222222222222222,
              "#7201a8"
             ],
             [
              0.3333333333333333,
              "#9c179e"
             ],
             [
              0.4444444444444444,
              "#bd3786"
             ],
             [
              0.5555555555555556,
              "#d8576b"
             ],
             [
              0.6666666666666666,
              "#ed7953"
             ],
             [
              0.7777777777777778,
              "#fb9f3a"
             ],
             [
              0.8888888888888888,
              "#fdca26"
             ],
             [
              1,
              "#f0f921"
             ]
            ],
            "type": "histogram2d"
           }
          ],
          "histogram2dcontour": [
           {
            "colorbar": {
             "outlinewidth": 0,
             "ticks": ""
            },
            "colorscale": [
             [
              0,
              "#0d0887"
             ],
             [
              0.1111111111111111,
              "#46039f"
             ],
             [
              0.2222222222222222,
              "#7201a8"
             ],
             [
              0.3333333333333333,
              "#9c179e"
             ],
             [
              0.4444444444444444,
              "#bd3786"
             ],
             [
              0.5555555555555556,
              "#d8576b"
             ],
             [
              0.6666666666666666,
              "#ed7953"
             ],
             [
              0.7777777777777778,
              "#fb9f3a"
             ],
             [
              0.8888888888888888,
              "#fdca26"
             ],
             [
              1,
              "#f0f921"
             ]
            ],
            "type": "histogram2dcontour"
           }
          ],
          "mesh3d": [
           {
            "colorbar": {
             "outlinewidth": 0,
             "ticks": ""
            },
            "type": "mesh3d"
           }
          ],
          "parcoords": [
           {
            "line": {
             "colorbar": {
              "outlinewidth": 0,
              "ticks": ""
             }
            },
            "type": "parcoords"
           }
          ],
          "pie": [
           {
            "automargin": true,
            "type": "pie"
           }
          ],
          "scatter": [
           {
            "marker": {
             "colorbar": {
              "outlinewidth": 0,
              "ticks": ""
             }
            },
            "type": "scatter"
           }
          ],
          "scatter3d": [
           {
            "line": {
             "colorbar": {
              "outlinewidth": 0,
              "ticks": ""
             }
            },
            "marker": {
             "colorbar": {
              "outlinewidth": 0,
              "ticks": ""
             }
            },
            "type": "scatter3d"
           }
          ],
          "scattercarpet": [
           {
            "marker": {
             "colorbar": {
              "outlinewidth": 0,
              "ticks": ""
             }
            },
            "type": "scattercarpet"
           }
          ],
          "scattergeo": [
           {
            "marker": {
             "colorbar": {
              "outlinewidth": 0,
              "ticks": ""
             }
            },
            "type": "scattergeo"
           }
          ],
          "scattergl": [
           {
            "marker": {
             "colorbar": {
              "outlinewidth": 0,
              "ticks": ""
             }
            },
            "type": "scattergl"
           }
          ],
          "scattermapbox": [
           {
            "marker": {
             "colorbar": {
              "outlinewidth": 0,
              "ticks": ""
             }
            },
            "type": "scattermapbox"
           }
          ],
          "scatterpolar": [
           {
            "marker": {
             "colorbar": {
              "outlinewidth": 0,
              "ticks": ""
             }
            },
            "type": "scatterpolar"
           }
          ],
          "scatterpolargl": [
           {
            "marker": {
             "colorbar": {
              "outlinewidth": 0,
              "ticks": ""
             }
            },
            "type": "scatterpolargl"
           }
          ],
          "scatterternary": [
           {
            "marker": {
             "colorbar": {
              "outlinewidth": 0,
              "ticks": ""
             }
            },
            "type": "scatterternary"
           }
          ],
          "surface": [
           {
            "colorbar": {
             "outlinewidth": 0,
             "ticks": ""
            },
            "colorscale": [
             [
              0,
              "#0d0887"
             ],
             [
              0.1111111111111111,
              "#46039f"
             ],
             [
              0.2222222222222222,
              "#7201a8"
             ],
             [
              0.3333333333333333,
              "#9c179e"
             ],
             [
              0.4444444444444444,
              "#bd3786"
             ],
             [
              0.5555555555555556,
              "#d8576b"
             ],
             [
              0.6666666666666666,
              "#ed7953"
             ],
             [
              0.7777777777777778,
              "#fb9f3a"
             ],
             [
              0.8888888888888888,
              "#fdca26"
             ],
             [
              1,
              "#f0f921"
             ]
            ],
            "type": "surface"
           }
          ],
          "table": [
           {
            "cells": {
             "fill": {
              "color": "#EBF0F8"
             },
             "line": {
              "color": "white"
             }
            },
            "header": {
             "fill": {
              "color": "#C8D4E3"
             },
             "line": {
              "color": "white"
             }
            },
            "type": "table"
           }
          ]
         },
         "layout": {
          "annotationdefaults": {
           "arrowcolor": "#2a3f5f",
           "arrowhead": 0,
           "arrowwidth": 1
          },
          "autotypenumbers": "strict",
          "coloraxis": {
           "colorbar": {
            "outlinewidth": 0,
            "ticks": ""
           }
          },
          "colorscale": {
           "diverging": [
            [
             0,
             "#8e0152"
            ],
            [
             0.1,
             "#c51b7d"
            ],
            [
             0.2,
             "#de77ae"
            ],
            [
             0.3,
             "#f1b6da"
            ],
            [
             0.4,
             "#fde0ef"
            ],
            [
             0.5,
             "#f7f7f7"
            ],
            [
             0.6,
             "#e6f5d0"
            ],
            [
             0.7,
             "#b8e186"
            ],
            [
             0.8,
             "#7fbc41"
            ],
            [
             0.9,
             "#4d9221"
            ],
            [
             1,
             "#276419"
            ]
           ],
           "sequential": [
            [
             0,
             "#0d0887"
            ],
            [
             0.1111111111111111,
             "#46039f"
            ],
            [
             0.2222222222222222,
             "#7201a8"
            ],
            [
             0.3333333333333333,
             "#9c179e"
            ],
            [
             0.4444444444444444,
             "#bd3786"
            ],
            [
             0.5555555555555556,
             "#d8576b"
            ],
            [
             0.6666666666666666,
             "#ed7953"
            ],
            [
             0.7777777777777778,
             "#fb9f3a"
            ],
            [
             0.8888888888888888,
             "#fdca26"
            ],
            [
             1,
             "#f0f921"
            ]
           ],
           "sequentialminus": [
            [
             0,
             "#0d0887"
            ],
            [
             0.1111111111111111,
             "#46039f"
            ],
            [
             0.2222222222222222,
             "#7201a8"
            ],
            [
             0.3333333333333333,
             "#9c179e"
            ],
            [
             0.4444444444444444,
             "#bd3786"
            ],
            [
             0.5555555555555556,
             "#d8576b"
            ],
            [
             0.6666666666666666,
             "#ed7953"
            ],
            [
             0.7777777777777778,
             "#fb9f3a"
            ],
            [
             0.8888888888888888,
             "#fdca26"
            ],
            [
             1,
             "#f0f921"
            ]
           ]
          },
          "colorway": [
           "#636efa",
           "#EF553B",
           "#00cc96",
           "#ab63fa",
           "#FFA15A",
           "#19d3f3",
           "#FF6692",
           "#B6E880",
           "#FF97FF",
           "#FECB52"
          ],
          "font": {
           "color": "#2a3f5f"
          },
          "geo": {
           "bgcolor": "white",
           "lakecolor": "white",
           "landcolor": "#E5ECF6",
           "showlakes": true,
           "showland": true,
           "subunitcolor": "white"
          },
          "hoverlabel": {
           "align": "left"
          },
          "hovermode": "closest",
          "mapbox": {
           "style": "light"
          },
          "paper_bgcolor": "white",
          "plot_bgcolor": "#E5ECF6",
          "polar": {
           "angularaxis": {
            "gridcolor": "white",
            "linecolor": "white",
            "ticks": ""
           },
           "bgcolor": "#E5ECF6",
           "radialaxis": {
            "gridcolor": "white",
            "linecolor": "white",
            "ticks": ""
           }
          },
          "scene": {
           "xaxis": {
            "backgroundcolor": "#E5ECF6",
            "gridcolor": "white",
            "gridwidth": 2,
            "linecolor": "white",
            "showbackground": true,
            "ticks": "",
            "zerolinecolor": "white"
           },
           "yaxis": {
            "backgroundcolor": "#E5ECF6",
            "gridcolor": "white",
            "gridwidth": 2,
            "linecolor": "white",
            "showbackground": true,
            "ticks": "",
            "zerolinecolor": "white"
           },
           "zaxis": {
            "backgroundcolor": "#E5ECF6",
            "gridcolor": "white",
            "gridwidth": 2,
            "linecolor": "white",
            "showbackground": true,
            "ticks": "",
            "zerolinecolor": "white"
           }
          },
          "shapedefaults": {
           "line": {
            "color": "#2a3f5f"
           }
          },
          "ternary": {
           "aaxis": {
            "gridcolor": "white",
            "linecolor": "white",
            "ticks": ""
           },
           "baxis": {
            "gridcolor": "white",
            "linecolor": "white",
            "ticks": ""
           },
           "bgcolor": "#E5ECF6",
           "caxis": {
            "gridcolor": "white",
            "linecolor": "white",
            "ticks": ""
           }
          },
          "title": {
           "x": 0.05
          },
          "xaxis": {
           "automargin": true,
           "gridcolor": "white",
           "linecolor": "white",
           "ticks": "",
           "title": {
            "standoff": 15
           },
           "zerolinecolor": "white",
           "zerolinewidth": 2
          },
          "yaxis": {
           "automargin": true,
           "gridcolor": "white",
           "linecolor": "white",
           "ticks": "",
           "title": {
            "standoff": 15
           },
           "zerolinecolor": "white",
           "zerolinewidth": 2
          }
         }
        },
        "title": {
         "font": {
          "color": "#4D5663"
         }
        },
        "xaxis": {
         "gridcolor": "#E1E5ED",
         "showgrid": true,
         "tickfont": {
          "color": "#4D5663"
         },
         "title": {
          "font": {
           "color": "#4D5663"
          },
          "text": ""
         },
         "zerolinecolor": "#E1E5ED"
        },
        "yaxis": {
         "gridcolor": "#E1E5ED",
         "showgrid": true,
         "tickfont": {
          "color": "#4D5663"
         },
         "title": {
          "font": {
           "color": "#4D5663"
          },
          "text": ""
         },
         "zerolinecolor": "#E1E5ED"
        }
       }
      },
      "text/html": [
       "<div>                            <div id=\"dc69adc9-6637-47e1-9115-11d2611598a5\" class=\"plotly-graph-div\" style=\"height:525px; width:100%;\"></div>            <script type=\"text/javascript\">                require([\"plotly\"], function(Plotly) {                    window.PLOTLYENV=window.PLOTLYENV || {};\n",
       "                    window.PLOTLYENV.BASE_URL='https://plot.ly';                                    if (document.getElementById(\"dc69adc9-6637-47e1-9115-11d2611598a5\")) {                    Plotly.newPlot(                        \"dc69adc9-6637-47e1-9115-11d2611598a5\",                        [{\"histfunc\":\"count\",\"histnorm\":\"\",\"marker\":{\"color\":\"rgba(255, 153, 51, 1.0)\",\"line\":{\"color\":\"#4D5663\",\"width\":1.3}},\"name\":\"A\",\"opacity\":0.8,\"orientation\":\"v\",\"x\":[-1.309527744420406,-0.43461471341730906,-0.6595622762097307,-1.8087704558636009,-0.21507624397672268,-0.38856874633371274,0.39323640994019327,-1.5768836282447465,0.22178931809236666,-0.9431156572498557,-1.9102029239374554,-0.477769555673728,-1.089425538238347,-1.0357538495845635,1.2252166381530092,0.37107402061163053,-1.158252094622077,1.3695745789888654,-1.01825182367802,-1.7722468986897701,-0.2168013554876337,0.4755191701253149,-0.31047009102309275,-1.1396124818852957,-0.6999173593661061,-1.1371155062620095,-0.4910949440770942,-1.3621373445513156,1.0766873032479476,0.525928465473397,0.18338106944618113,-0.1505291458789072,1.8846432497944905,1.0605122306404768,-0.962144311117594,-0.1476914461688686,0.7205523460441676,-1.7892639026055361,-1.0548281912697273,1.7356821752881395,0.7623513817996954,0.3727625957984767,0.44451049023253525,1.4676975285083917,0.4814662048334038,0.6221661115520754,0.2370320573531419,-0.7473679255146413,0.6347836687579423,1.2138547818174472,-1.1115098285811436,-0.741420524794404,-1.7765108665886487,0.810113366475899,0.47669154362011024,-0.4134257725397369,0.765857785416105,-0.965188219950402,-1.4789137379581754,-0.6434993507816088,1.1172937554301525,-0.495694212475232,-0.387836058015111,-1.5016648314212626,0.1203043588212254,1.2088376698736039,-0.07194726263107164,0.15389399355134598,-0.6401244083647915,-0.08273948253381846,-1.3592394732882558,-1.9885105671375787,0.038505035218103376,-1.24448668315206,1.0295590758843345,0.33682960031944126,0.016429352896183677,-0.8237702468602085,-0.18449476647468116,1.3095212684401376,1.3587986132723278,-0.6051067858004684,-1.6266419057988017,1.0042132470590117,-0.941415138673278,-0.22540308480569024,1.3745114441408741,0.9480792162916354,-0.6327623894459151,-0.4249154919293121,0.6437607373691273,-0.023221467246056046,-0.11276162648807049,-1.4583110545841829,1.2612779604538449,1.3478794165153494,-0.380129484919786,1.451947890281281,-1.1301928995517123,-1.9753921455165973],\"type\":\"histogram\"},{\"histfunc\":\"count\",\"histnorm\":\"\",\"marker\":{\"color\":\"rgba(55, 128, 191, 1.0)\",\"line\":{\"color\":\"#4D5663\",\"width\":1.3}},\"name\":\"B\",\"opacity\":0.8,\"orientation\":\"v\",\"x\":[-0.3135045106961009,0.27106706687477644,0.6119471965110417,0.3009908952710065,-1.7296433552727768,-0.8395951219175694,0.16250707660228472,0.5055405458960701,-0.832888025408523,0.9109193800627438,-0.26573228768153007,-1.048508086534288,2.3935354905650352,-0.6120845323882204,0.2794630660004881,1.627451053655647,-0.6851014265020644,-0.05563959335930016,-0.135370377466742,1.1825219023457476,0.09104646907592046,-0.23291348461501518,0.7536213073112578,0.4852510554975916,-0.11598911508126203,1.0968318367465173,0.18417105335675082,-1.3013280121311601,-1.5523879941424124,-0.32369753741302265,0.12823504654106158,0.3235706409631143,-0.39016583384232667,-1.3483469875160243,-0.8778043256258503,-0.6566745979642085,-0.8717450588581389,-0.6555475573355242,1.1869681326633754,-1.6754949879668986,-1.0166574270487643,0.30084494827373853,-0.5569631288734428,-0.567768653274891,-1.240819396653744,0.07056845771157615,1.7622707398041684,0.18529340390041166,-0.9353562273967888,-0.6885393911334184,1.5338969581422393,1.5892838914058174,-1.614263003322591,-0.15402669237130096,1.159444826889843,0.08959925841560044,-0.7533113996854893,1.905234347898969,0.7307657905729821,-0.29285654487137897,1.7069381234928882,0.5380807773841841,-0.633045084982813,-1.7779188737619718,1.4017987066713467,-0.08474720608466335,0.8776521766497231,0.4641730284714228,0.45125150792532565,0.060392922247830425,0.8784203727592276,-0.1688059199189494,-1.0896619947083495,0.0171159299839232,0.08104028200629111,2.1271586379364784,-0.976903741909578,1.1376357527698266,-0.00012090109272308358,1.6484473114720377,-1.0772133462637432,-0.9150194793716977,-0.13908916224241138,1.420245945456923,-0.8638449427158882,0.35946872217060843,0.353760398347842,-0.034214007117311096,0.42062282065593914,-0.4119607557910614,-2.246530449988816,0.6572380023859556,1.5371929318791877,0.7047641075968462,0.2758760032749365,0.3641139356290369,-1.7452790367604647,0.7507657464946539,0.7660509128626469,-1.918014533068927],\"type\":\"histogram\"},{\"histfunc\":\"count\",\"histnorm\":\"\",\"marker\":{\"color\":\"rgba(50, 171, 96, 1.0)\",\"line\":{\"color\":\"#4D5663\",\"width\":1.3}},\"name\":\"C\",\"opacity\":0.8,\"orientation\":\"v\",\"x\":[-0.2575191113048818,1.320500761745751,0.5393212069591781,0.04219896750035622,1.698198936943047,0.5028199669499871,-0.1498454934058726,0.9633475163625961,-1.339015637048091,-0.6182770329783752,-0.33591206203027124,-0.18188932275864927,-0.5454887664402375,-0.6883932246837449,-0.30489076816095145,-1.0100830280007966,-1.0655391492630855,-0.12015197749752969,0.5860522797870924,0.4192151567643949,-1.3353733919720032,-0.031402120800871076,-2.1335260348390843,-0.3441969850120935,-1.7542223093498468,-0.295042033863205,-0.18863870771689262,1.552840719836552,-0.4316870464612591,-0.7613274261883847,0.14947076189898487,0.48595016476934905,-0.7926945550247574,0.7731965931118994,-0.6883938465753762,-2.225079507875566,0.5423950945731457,-0.34085758855813325,1.7417998243184183,-0.338719869712993,-1.2565129037379519,-0.4862357073192635,-0.26247542513880223,1.371966678906609,0.06204981495579611,0.1435830366946529,-0.09818086024700041,-1.0065206400186884,0.8816406316046609,1.365273883971452,-0.3084988064482174,-1.0107121741822607,0.13115805878508405,1.4331106094227337,0.1347015805384705,-1.2873072839233077,0.4520970966083857,-1.2803743865230197,1.1250400099747564,-0.26260192722481174,2.7583588538460173,0.3145755605376287,0.6148574032845244,-0.2865467255124006,-0.5077597544678613,0.34207611262169624,0.1176418668857983,0.6599108232966143,0.20697791306697302,-1.5497405311923949,-1.2399904990512816,-0.5418927010115602,-0.006076378393536418,1.396970316349856,0.29841528419805907,-0.5186695251409451,2.5370307553948255,1.4138531800659624,0.850227769881565,-0.5589241218200475,0.9370408392367986,-0.9036863474832941,-1.2731512830332214,0.43070386279979206,1.004596274576969,0.30830106177054645,0.15488032937692175,-1.0238457042133868,-1.0118295214957163,0.08967082143098096,-0.9042923514152782,-0.7405311429356125,-0.8425526874977495,1.1428674009459987,-1.1631122871541602,-0.47384436477048175,-1.0361201255211805,1.2289487011273375,-0.4323744236158504,-0.12486789140963928],\"type\":\"histogram\"},{\"histfunc\":\"count\",\"histnorm\":\"\",\"marker\":{\"color\":\"rgba(128, 0, 128, 1.0)\",\"line\":{\"color\":\"#4D5663\",\"width\":1.3}},\"name\":\"D\",\"opacity\":0.8,\"orientation\":\"v\",\"x\":[0.9233664551727817,0.2187068108806523,0.11865198024420574,-1.5579186623042052,-0.4672071562814396,3.0066626935308456,-0.32655014387269754,0.10772210250884771,0.8844221038072054,1.7722565392187368,1.184992792776857,0.2108781835560796,-1.1148099764931805,-4.345427928625704e-05,-1.983953129359126,-0.9649214601388116,-0.22125091561265933,1.2273455531899071,-0.0575385070370791,-0.11781601230391926,1.9166344516297773,-1.0970613676362393,0.43934146242854094,1.2762258985477217,0.07447449662748581,3.0919869419630976,0.5973122040456079,-0.7050905523339075,-0.4999112205302632,-0.03493124465617314,-0.7617881698096332,1.3797053254926674,-0.2215403633239477,0.6925481305262045,0.06167550672697119,-0.40963611935775956,0.35893243125669266,-0.41745743030591087,0.03015429313705,0.15602988591660222,-0.26787146265085654,-0.41417028686894974,1.5609792080758211,1.194969375259976,-0.6551383967781365,-1.755053789996685,1.5159309217952428,-1.28875100441881,-0.911926164600893,-0.5474702131804486,0.4047143059595249,-0.43079197819212006,0.08797226941624581,-0.6908029115601726,0.7242905167980132,0.23214396422851524,0.7247353002278414,1.9452025367983576,-0.6546861016814408,-0.6799974252683934,-0.5317611724410563,1.4405271470855314,1.1115247500755756,0.589893192958994,0.4824437508914874,1.377178678619452,-0.6862284977820776,0.13642842203149558,-0.8947830787665288,-1.2215509521492065,-0.9851235704440013,0.2769495490795035,-0.5492866868876993,-0.45589525253369273,-0.49258897950070984,-0.2268613593796678,-1.0595067963615048,-1.163113884097818,-2.131695933566539,0.42063353723874125,1.5399342918829222,-0.6831121602536194,0.7561167662337182,-1.1136598817381878,0.026303240811561608,-0.11853482107150998,-0.7999930888845683,0.6608875939920911,-0.4310373559079466,-0.6088333250428458,-0.8584547980700439,-0.18485197733031306,0.7591281136316559,0.4505866865518529,0.39346588693495527,0.2764004766793301,0.2849159220159852,0.2464470334073424,-1.9666741818132207,-0.11656813004260916],\"type\":\"histogram\"}],                        {\"barmode\":\"overlay\",\"legend\":{\"bgcolor\":\"#F5F6F9\",\"font\":{\"color\":\"#4D5663\"}},\"paper_bgcolor\":\"#F5F6F9\",\"plot_bgcolor\":\"#F5F6F9\",\"template\":{\"data\":{\"barpolar\":[{\"marker\":{\"line\":{\"color\":\"#E5ECF6\",\"width\":0.5},\"pattern\":{\"fillmode\":\"overlay\",\"size\":10,\"solidity\":0.2}},\"type\":\"barpolar\"}],\"bar\":[{\"error_x\":{\"color\":\"#2a3f5f\"},\"error_y\":{\"color\":\"#2a3f5f\"},\"marker\":{\"line\":{\"color\":\"#E5ECF6\",\"width\":0.5},\"pattern\":{\"fillmode\":\"overlay\",\"size\":10,\"solidity\":0.2}},\"type\":\"bar\"}],\"carpet\":[{\"aaxis\":{\"endlinecolor\":\"#2a3f5f\",\"gridcolor\":\"white\",\"linecolor\":\"white\",\"minorgridcolor\":\"white\",\"startlinecolor\":\"#2a3f5f\"},\"baxis\":{\"endlinecolor\":\"#2a3f5f\",\"gridcolor\":\"white\",\"linecolor\":\"white\",\"minorgridcolor\":\"white\",\"startlinecolor\":\"#2a3f5f\"},\"type\":\"carpet\"}],\"choropleth\":[{\"colorbar\":{\"outlinewidth\":0,\"ticks\":\"\"},\"type\":\"choropleth\"}],\"contourcarpet\":[{\"colorbar\":{\"outlinewidth\":0,\"ticks\":\"\"},\"type\":\"contourcarpet\"}],\"contour\":[{\"colorbar\":{\"outlinewidth\":0,\"ticks\":\"\"},\"colorscale\":[[0.0,\"#0d0887\"],[0.1111111111111111,\"#46039f\"],[0.2222222222222222,\"#7201a8\"],[0.3333333333333333,\"#9c179e\"],[0.4444444444444444,\"#bd3786\"],[0.5555555555555556,\"#d8576b\"],[0.6666666666666666,\"#ed7953\"],[0.7777777777777778,\"#fb9f3a\"],[0.8888888888888888,\"#fdca26\"],[1.0,\"#f0f921\"]],\"type\":\"contour\"}],\"heatmapgl\":[{\"colorbar\":{\"outlinewidth\":0,\"ticks\":\"\"},\"colorscale\":[[0.0,\"#0d0887\"],[0.1111111111111111,\"#46039f\"],[0.2222222222222222,\"#7201a8\"],[0.3333333333333333,\"#9c179e\"],[0.4444444444444444,\"#bd3786\"],[0.5555555555555556,\"#d8576b\"],[0.6666666666666666,\"#ed7953\"],[0.7777777777777778,\"#fb9f3a\"],[0.8888888888888888,\"#fdca26\"],[1.0,\"#f0f921\"]],\"type\":\"heatmapgl\"}],\"heatmap\":[{\"colorbar\":{\"outlinewidth\":0,\"ticks\":\"\"},\"colorscale\":[[0.0,\"#0d0887\"],[0.1111111111111111,\"#46039f\"],[0.2222222222222222,\"#7201a8\"],[0.3333333333333333,\"#9c179e\"],[0.4444444444444444,\"#bd3786\"],[0.5555555555555556,\"#d8576b\"],[0.6666666666666666,\"#ed7953\"],[0.7777777777777778,\"#fb9f3a\"],[0.8888888888888888,\"#fdca26\"],[1.0,\"#f0f921\"]],\"type\":\"heatmap\"}],\"histogram2dcontour\":[{\"colorbar\":{\"outlinewidth\":0,\"ticks\":\"\"},\"colorscale\":[[0.0,\"#0d0887\"],[0.1111111111111111,\"#46039f\"],[0.2222222222222222,\"#7201a8\"],[0.3333333333333333,\"#9c179e\"],[0.4444444444444444,\"#bd3786\"],[0.5555555555555556,\"#d8576b\"],[0.6666666666666666,\"#ed7953\"],[0.7777777777777778,\"#fb9f3a\"],[0.8888888888888888,\"#fdca26\"],[1.0,\"#f0f921\"]],\"type\":\"histogram2dcontour\"}],\"histogram2d\":[{\"colorbar\":{\"outlinewidth\":0,\"ticks\":\"\"},\"colorscale\":[[0.0,\"#0d0887\"],[0.1111111111111111,\"#46039f\"],[0.2222222222222222,\"#7201a8\"],[0.3333333333333333,\"#9c179e\"],[0.4444444444444444,\"#bd3786\"],[0.5555555555555556,\"#d8576b\"],[0.6666666666666666,\"#ed7953\"],[0.7777777777777778,\"#fb9f3a\"],[0.8888888888888888,\"#fdca26\"],[1.0,\"#f0f921\"]],\"type\":\"histogram2d\"}],\"histogram\":[{\"marker\":{\"pattern\":{\"fillmode\":\"overlay\",\"size\":10,\"solidity\":0.2}},\"type\":\"histogram\"}],\"mesh3d\":[{\"colorbar\":{\"outlinewidth\":0,\"ticks\":\"\"},\"type\":\"mesh3d\"}],\"parcoords\":[{\"line\":{\"colorbar\":{\"outlinewidth\":0,\"ticks\":\"\"}},\"type\":\"parcoords\"}],\"pie\":[{\"automargin\":true,\"type\":\"pie\"}],\"scatter3d\":[{\"line\":{\"colorbar\":{\"outlinewidth\":0,\"ticks\":\"\"}},\"marker\":{\"colorbar\":{\"outlinewidth\":0,\"ticks\":\"\"}},\"type\":\"scatter3d\"}],\"scattercarpet\":[{\"marker\":{\"colorbar\":{\"outlinewidth\":0,\"ticks\":\"\"}},\"type\":\"scattercarpet\"}],\"scattergeo\":[{\"marker\":{\"colorbar\":{\"outlinewidth\":0,\"ticks\":\"\"}},\"type\":\"scattergeo\"}],\"scattergl\":[{\"marker\":{\"colorbar\":{\"outlinewidth\":0,\"ticks\":\"\"}},\"type\":\"scattergl\"}],\"scattermapbox\":[{\"marker\":{\"colorbar\":{\"outlinewidth\":0,\"ticks\":\"\"}},\"type\":\"scattermapbox\"}],\"scatterpolargl\":[{\"marker\":{\"colorbar\":{\"outlinewidth\":0,\"ticks\":\"\"}},\"type\":\"scatterpolargl\"}],\"scatterpolar\":[{\"marker\":{\"colorbar\":{\"outlinewidth\":0,\"ticks\":\"\"}},\"type\":\"scatterpolar\"}],\"scatter\":[{\"marker\":{\"colorbar\":{\"outlinewidth\":0,\"ticks\":\"\"}},\"type\":\"scatter\"}],\"scatterternary\":[{\"marker\":{\"colorbar\":{\"outlinewidth\":0,\"ticks\":\"\"}},\"type\":\"scatterternary\"}],\"surface\":[{\"colorbar\":{\"outlinewidth\":0,\"ticks\":\"\"},\"colorscale\":[[0.0,\"#0d0887\"],[0.1111111111111111,\"#46039f\"],[0.2222222222222222,\"#7201a8\"],[0.3333333333333333,\"#9c179e\"],[0.4444444444444444,\"#bd3786\"],[0.5555555555555556,\"#d8576b\"],[0.6666666666666666,\"#ed7953\"],[0.7777777777777778,\"#fb9f3a\"],[0.8888888888888888,\"#fdca26\"],[1.0,\"#f0f921\"]],\"type\":\"surface\"}],\"table\":[{\"cells\":{\"fill\":{\"color\":\"#EBF0F8\"},\"line\":{\"color\":\"white\"}},\"header\":{\"fill\":{\"color\":\"#C8D4E3\"},\"line\":{\"color\":\"white\"}},\"type\":\"table\"}]},\"layout\":{\"annotationdefaults\":{\"arrowcolor\":\"#2a3f5f\",\"arrowhead\":0,\"arrowwidth\":1},\"autotypenumbers\":\"strict\",\"coloraxis\":{\"colorbar\":{\"outlinewidth\":0,\"ticks\":\"\"}},\"colorscale\":{\"diverging\":[[0,\"#8e0152\"],[0.1,\"#c51b7d\"],[0.2,\"#de77ae\"],[0.3,\"#f1b6da\"],[0.4,\"#fde0ef\"],[0.5,\"#f7f7f7\"],[0.6,\"#e6f5d0\"],[0.7,\"#b8e186\"],[0.8,\"#7fbc41\"],[0.9,\"#4d9221\"],[1,\"#276419\"]],\"sequential\":[[0.0,\"#0d0887\"],[0.1111111111111111,\"#46039f\"],[0.2222222222222222,\"#7201a8\"],[0.3333333333333333,\"#9c179e\"],[0.4444444444444444,\"#bd3786\"],[0.5555555555555556,\"#d8576b\"],[0.6666666666666666,\"#ed7953\"],[0.7777777777777778,\"#fb9f3a\"],[0.8888888888888888,\"#fdca26\"],[1.0,\"#f0f921\"]],\"sequentialminus\":[[0.0,\"#0d0887\"],[0.1111111111111111,\"#46039f\"],[0.2222222222222222,\"#7201a8\"],[0.3333333333333333,\"#9c179e\"],[0.4444444444444444,\"#bd3786\"],[0.5555555555555556,\"#d8576b\"],[0.6666666666666666,\"#ed7953\"],[0.7777777777777778,\"#fb9f3a\"],[0.8888888888888888,\"#fdca26\"],[1.0,\"#f0f921\"]]},\"colorway\":[\"#636efa\",\"#EF553B\",\"#00cc96\",\"#ab63fa\",\"#FFA15A\",\"#19d3f3\",\"#FF6692\",\"#B6E880\",\"#FF97FF\",\"#FECB52\"],\"font\":{\"color\":\"#2a3f5f\"},\"geo\":{\"bgcolor\":\"white\",\"lakecolor\":\"white\",\"landcolor\":\"#E5ECF6\",\"showlakes\":true,\"showland\":true,\"subunitcolor\":\"white\"},\"hoverlabel\":{\"align\":\"left\"},\"hovermode\":\"closest\",\"mapbox\":{\"style\":\"light\"},\"paper_bgcolor\":\"white\",\"plot_bgcolor\":\"#E5ECF6\",\"polar\":{\"angularaxis\":{\"gridcolor\":\"white\",\"linecolor\":\"white\",\"ticks\":\"\"},\"bgcolor\":\"#E5ECF6\",\"radialaxis\":{\"gridcolor\":\"white\",\"linecolor\":\"white\",\"ticks\":\"\"}},\"scene\":{\"xaxis\":{\"backgroundcolor\":\"#E5ECF6\",\"gridcolor\":\"white\",\"gridwidth\":2,\"linecolor\":\"white\",\"showbackground\":true,\"ticks\":\"\",\"zerolinecolor\":\"white\"},\"yaxis\":{\"backgroundcolor\":\"#E5ECF6\",\"gridcolor\":\"white\",\"gridwidth\":2,\"linecolor\":\"white\",\"showbackground\":true,\"ticks\":\"\",\"zerolinecolor\":\"white\"},\"zaxis\":{\"backgroundcolor\":\"#E5ECF6\",\"gridcolor\":\"white\",\"gridwidth\":2,\"linecolor\":\"white\",\"showbackground\":true,\"ticks\":\"\",\"zerolinecolor\":\"white\"}},\"shapedefaults\":{\"line\":{\"color\":\"#2a3f5f\"}},\"ternary\":{\"aaxis\":{\"gridcolor\":\"white\",\"linecolor\":\"white\",\"ticks\":\"\"},\"baxis\":{\"gridcolor\":\"white\",\"linecolor\":\"white\",\"ticks\":\"\"},\"bgcolor\":\"#E5ECF6\",\"caxis\":{\"gridcolor\":\"white\",\"linecolor\":\"white\",\"ticks\":\"\"}},\"title\":{\"x\":0.05},\"xaxis\":{\"automargin\":true,\"gridcolor\":\"white\",\"linecolor\":\"white\",\"ticks\":\"\",\"title\":{\"standoff\":15},\"zerolinecolor\":\"white\",\"zerolinewidth\":2},\"yaxis\":{\"automargin\":true,\"gridcolor\":\"white\",\"linecolor\":\"white\",\"ticks\":\"\",\"title\":{\"standoff\":15},\"zerolinecolor\":\"white\",\"zerolinewidth\":2}}},\"title\":{\"font\":{\"color\":\"#4D5663\"}},\"xaxis\":{\"gridcolor\":\"#E1E5ED\",\"showgrid\":true,\"tickfont\":{\"color\":\"#4D5663\"},\"title\":{\"font\":{\"color\":\"#4D5663\"},\"text\":\"\"},\"zerolinecolor\":\"#E1E5ED\"},\"yaxis\":{\"gridcolor\":\"#E1E5ED\",\"showgrid\":true,\"tickfont\":{\"color\":\"#4D5663\"},\"title\":{\"font\":{\"color\":\"#4D5663\"},\"text\":\"\"},\"zerolinecolor\":\"#E1E5ED\"}},                        {\"showLink\": true, \"linkText\": \"Export to plot.ly\", \"plotlyServerURL\": \"https://plot.ly\", \"responsive\": true}                    ).then(function(){\n",
       "                            \n",
       "var gd = document.getElementById('dc69adc9-6637-47e1-9115-11d2611598a5');\n",
       "var x = new MutationObserver(function (mutations, observer) {{\n",
       "        var display = window.getComputedStyle(gd).display;\n",
       "        if (!display || display === 'none') {{\n",
       "            console.log([gd, 'removed!']);\n",
       "            Plotly.purge(gd);\n",
       "            observer.disconnect();\n",
       "        }}\n",
       "}});\n",
       "\n",
       "// Listen for the removal of the full notebook cells\n",
       "var notebookContainer = gd.closest('#notebook-container');\n",
       "if (notebookContainer) {{\n",
       "    x.observe(notebookContainer, {childList: true});\n",
       "}}\n",
       "\n",
       "// Listen for the clearing of the current output cell\n",
       "var outputEl = gd.closest('.output');\n",
       "if (outputEl) {{\n",
       "    x.observe(outputEl, {childList: true});\n",
       "}}\n",
       "\n",
       "                        })                };                });            </script>        </div>"
      ]
     },
     "metadata": {},
     "output_type": "display_data"
    }
   ],
   "source": [
    "df1.iplot(kind=\"hist\")"
   ]
  },
  {
   "cell_type": "code",
   "execution_count": 35,
   "id": "9a6dca08",
   "metadata": {},
   "outputs": [
    {
     "name": "stderr",
     "output_type": "stream",
     "text": [
      "C:\\Users\\IT Center\\AppData\\Roaming\\Python\\Python39\\site-packages\\cufflinks\\plotlytools.py:849: FutureWarning:\n",
      "\n",
      "The pandas.np module is deprecated and will be removed from pandas in a future version. Import numpy directly instead.\n",
      "\n",
      "C:\\Users\\IT Center\\AppData\\Roaming\\Python\\Python39\\site-packages\\cufflinks\\plotlytools.py:850: FutureWarning:\n",
      "\n",
      "The pandas.np module is deprecated and will be removed from pandas in a future version. Import numpy directly instead.\n",
      "\n"
     ]
    },
    {
     "data": {
      "application/vnd.plotly.v1+json": {
       "config": {
        "linkText": "Export to plot.ly",
        "plotlyServerURL": "https://plot.ly",
        "showLink": true
       },
       "data": [
        {
         "line": {
          "color": "rgba(255, 153, 51, 1.0)",
          "dash": "solid",
          "shape": "linear",
          "width": 1.3
         },
         "mode": "lines",
         "name": "A",
         "text": "",
         "type": "scatter",
         "x": [
          0,
          1,
          2,
          3,
          4,
          5,
          6,
          7,
          8,
          9,
          10,
          11,
          12,
          13,
          14,
          15,
          16,
          17,
          18,
          19,
          20,
          21,
          22,
          23,
          24,
          25,
          26,
          27,
          28,
          29,
          30,
          31,
          32,
          33,
          34,
          35,
          36,
          37,
          38,
          39,
          40,
          41,
          42,
          43,
          44,
          45,
          46,
          47,
          48,
          49,
          50,
          51,
          52,
          53,
          54,
          55,
          56,
          57,
          58,
          59,
          60,
          61,
          62,
          63,
          64,
          65,
          66,
          67,
          68,
          69,
          70,
          71,
          72,
          73,
          74,
          75,
          76,
          77,
          78,
          79,
          80,
          81,
          82,
          83,
          84,
          85,
          86,
          87,
          88,
          89,
          90,
          91,
          92,
          93,
          94,
          95,
          96,
          97,
          98,
          99
         ],
         "y": [
          -1.309527744420406,
          -0.43461471341730906,
          -0.6595622762097307,
          -1.8087704558636009,
          -0.21507624397672268,
          -0.38856874633371274,
          0.39323640994019327,
          -1.5768836282447465,
          0.22178931809236666,
          -0.9431156572498557,
          -1.9102029239374554,
          -0.477769555673728,
          -1.089425538238347,
          -1.0357538495845635,
          1.2252166381530092,
          0.37107402061163053,
          -1.158252094622077,
          1.3695745789888654,
          -1.01825182367802,
          -1.7722468986897701,
          -0.2168013554876337,
          0.4755191701253149,
          -0.31047009102309275,
          -1.1396124818852957,
          -0.6999173593661061,
          -1.1371155062620095,
          -0.4910949440770942,
          -1.3621373445513156,
          1.0766873032479476,
          0.525928465473397,
          0.18338106944618113,
          -0.1505291458789072,
          1.8846432497944905,
          1.0605122306404768,
          -0.962144311117594,
          -0.1476914461688686,
          0.7205523460441676,
          -1.7892639026055361,
          -1.0548281912697273,
          1.7356821752881395,
          0.7623513817996954,
          0.3727625957984767,
          0.44451049023253525,
          1.4676975285083917,
          0.4814662048334038,
          0.6221661115520754,
          0.2370320573531419,
          -0.7473679255146413,
          0.6347836687579423,
          1.2138547818174472,
          -1.1115098285811436,
          -0.741420524794404,
          -1.7765108665886487,
          0.810113366475899,
          0.47669154362011024,
          -0.4134257725397369,
          0.765857785416105,
          -0.965188219950402,
          -1.4789137379581754,
          -0.6434993507816088,
          1.1172937554301525,
          -0.495694212475232,
          -0.387836058015111,
          -1.5016648314212626,
          0.1203043588212254,
          1.2088376698736039,
          -0.07194726263107164,
          0.15389399355134598,
          -0.6401244083647915,
          -0.08273948253381846,
          -1.3592394732882558,
          -1.9885105671375787,
          0.038505035218103376,
          -1.24448668315206,
          1.0295590758843345,
          0.33682960031944126,
          0.016429352896183677,
          -0.8237702468602085,
          -0.18449476647468116,
          1.3095212684401376,
          1.3587986132723278,
          -0.6051067858004684,
          -1.6266419057988017,
          1.0042132470590117,
          -0.941415138673278,
          -0.22540308480569024,
          1.3745114441408741,
          0.9480792162916354,
          -0.6327623894459151,
          -0.4249154919293121,
          0.6437607373691273,
          -0.023221467246056046,
          -0.11276162648807049,
          -1.4583110545841829,
          1.2612779604538449,
          1.3478794165153494,
          -0.380129484919786,
          1.451947890281281,
          -1.1301928995517123,
          -1.9753921455165973
         ]
        },
        {
         "line": {
          "color": "rgba(55, 128, 191, 1.0)",
          "dash": "solid",
          "shape": "linear",
          "width": 1.3
         },
         "mode": "lines",
         "name": "B",
         "text": "",
         "type": "scatter",
         "x": [
          0,
          1,
          2,
          3,
          4,
          5,
          6,
          7,
          8,
          9,
          10,
          11,
          12,
          13,
          14,
          15,
          16,
          17,
          18,
          19,
          20,
          21,
          22,
          23,
          24,
          25,
          26,
          27,
          28,
          29,
          30,
          31,
          32,
          33,
          34,
          35,
          36,
          37,
          38,
          39,
          40,
          41,
          42,
          43,
          44,
          45,
          46,
          47,
          48,
          49,
          50,
          51,
          52,
          53,
          54,
          55,
          56,
          57,
          58,
          59,
          60,
          61,
          62,
          63,
          64,
          65,
          66,
          67,
          68,
          69,
          70,
          71,
          72,
          73,
          74,
          75,
          76,
          77,
          78,
          79,
          80,
          81,
          82,
          83,
          84,
          85,
          86,
          87,
          88,
          89,
          90,
          91,
          92,
          93,
          94,
          95,
          96,
          97,
          98,
          99
         ],
         "y": [
          -0.3135045106961009,
          0.27106706687477644,
          0.6119471965110417,
          0.3009908952710065,
          -1.7296433552727768,
          -0.8395951219175694,
          0.16250707660228472,
          0.5055405458960701,
          -0.832888025408523,
          0.9109193800627438,
          -0.26573228768153007,
          -1.048508086534288,
          2.3935354905650352,
          -0.6120845323882204,
          0.2794630660004881,
          1.627451053655647,
          -0.6851014265020644,
          -0.05563959335930016,
          -0.135370377466742,
          1.1825219023457476,
          0.09104646907592046,
          -0.23291348461501518,
          0.7536213073112578,
          0.4852510554975916,
          -0.11598911508126203,
          1.0968318367465173,
          0.18417105335675082,
          -1.3013280121311601,
          -1.5523879941424124,
          -0.32369753741302265,
          0.12823504654106158,
          0.3235706409631143,
          -0.39016583384232667,
          -1.3483469875160243,
          -0.8778043256258503,
          -0.6566745979642085,
          -0.8717450588581389,
          -0.6555475573355242,
          1.1869681326633754,
          -1.6754949879668986,
          -1.0166574270487643,
          0.30084494827373853,
          -0.5569631288734428,
          -0.567768653274891,
          -1.240819396653744,
          0.07056845771157615,
          1.7622707398041684,
          0.18529340390041166,
          -0.9353562273967888,
          -0.6885393911334184,
          1.5338969581422393,
          1.5892838914058174,
          -1.614263003322591,
          -0.15402669237130096,
          1.159444826889843,
          0.08959925841560044,
          -0.7533113996854893,
          1.905234347898969,
          0.7307657905729821,
          -0.29285654487137897,
          1.7069381234928882,
          0.5380807773841841,
          -0.633045084982813,
          -1.7779188737619718,
          1.4017987066713467,
          -0.08474720608466335,
          0.8776521766497231,
          0.4641730284714228,
          0.45125150792532565,
          0.060392922247830425,
          0.8784203727592276,
          -0.1688059199189494,
          -1.0896619947083495,
          0.0171159299839232,
          0.08104028200629111,
          2.1271586379364784,
          -0.976903741909578,
          1.1376357527698266,
          -0.00012090109272308358,
          1.6484473114720377,
          -1.0772133462637432,
          -0.9150194793716977,
          -0.13908916224241138,
          1.420245945456923,
          -0.8638449427158882,
          0.35946872217060843,
          0.353760398347842,
          -0.034214007117311096,
          0.42062282065593914,
          -0.4119607557910614,
          -2.246530449988816,
          0.6572380023859556,
          1.5371929318791877,
          0.7047641075968462,
          0.2758760032749365,
          0.3641139356290369,
          -1.7452790367604647,
          0.7507657464946539,
          0.7660509128626469,
          -1.918014533068927
         ]
        },
        {
         "connectgaps": false,
         "fill": "tozeroy",
         "line": {
          "color": "green",
          "dash": "solid",
          "shape": "linear",
          "width": 0.5
         },
         "mode": "lines",
         "name": "Spread",
         "showlegend": false,
         "type": "scatter",
         "x": [
          0,
          1,
          2,
          3,
          4,
          5,
          6,
          7,
          8,
          9,
          10,
          11,
          12,
          13,
          14,
          15,
          16,
          17,
          18,
          19,
          20,
          21,
          22,
          23,
          24,
          25,
          26,
          27,
          28,
          29,
          30,
          31,
          32,
          33,
          34,
          35,
          36,
          37,
          38,
          39,
          40,
          41,
          42,
          43,
          44,
          45,
          46,
          47,
          48,
          49,
          50,
          51,
          52,
          53,
          54,
          55,
          56,
          57,
          58,
          59,
          60,
          61,
          62,
          63,
          64,
          65,
          66,
          67,
          68,
          69,
          70,
          71,
          72,
          73,
          74,
          75,
          76,
          77,
          78,
          79,
          80,
          81,
          82,
          83,
          84,
          85,
          86,
          87,
          88,
          89,
          90,
          91,
          92,
          93,
          94,
          95,
          96,
          97,
          98,
          99
         ],
         "xaxis": "x2",
         "y": [
          "",
          "",
          "",
          "",
          1.5145671112960541,
          0.4510263755838566,
          0.23072933333790854,
          "",
          1.0546773435008896,
          "",
          "",
          0.5707385308605599,
          "",
          "",
          0.9457535721525211,
          "",
          "",
          1.4252141723481655,
          "",
          "",
          "",
          0.7084326547403301,
          "",
          "",
          "",
          "",
          "",
          "",
          2.6290752973903597,
          0.8496260028864197,
          0.05514602290511955,
          "",
          2.2748090836368173,
          2.4088592181565014,
          "",
          0.5089831517953398,
          1.5922974049023066,
          "",
          "",
          3.4111771632550383,
          1.7790088088484597,
          0.07191764752473817,
          1.001473619105978,
          2.0354661817832826,
          1.7222856014871477,
          0.5515976538404992,
          "",
          "",
          1.570139896154731,
          1.9023941729508658,
          "",
          "",
          "",
          0.9641400588472,
          "",
          "",
          1.5191691851015943,
          "",
          "",
          "",
          "",
          "",
          0.24520902696770197,
          0.27625404234070916,
          "",
          1.2935848759582673,
          "",
          "",
          "",
          "",
          "",
          "",
          1.1281670299264528,
          "",
          0.9485187938780434,
          "",
          0.9933330948057616,
          "",
          "",
          "",
          2.4360119595360707,
          0.3099126935712293,
          "",
          "",
          "",
          "",
          1.0207510457930322,
          0.9822932234089465,
          "",
          "",
          2.8902911873579433,
          "",
          "",
          "",
          0.9854019571789083,
          0.9837654808863125,
          1.3651495518406787,
          0.7011821437866271,
          "",
          ""
         ],
         "yaxis": "y2"
        },
        {
         "connectgaps": false,
         "fill": "tozeroy",
         "line": {
          "color": "red",
          "dash": "solid",
          "shape": "linear",
          "width": 0.5
         },
         "mode": "lines",
         "name": "Spread",
         "showlegend": false,
         "type": "scatter",
         "x": [
          0,
          1,
          2,
          3,
          4,
          5,
          6,
          7,
          8,
          9,
          10,
          11,
          12,
          13,
          14,
          15,
          16,
          17,
          18,
          19,
          20,
          21,
          22,
          23,
          24,
          25,
          26,
          27,
          28,
          29,
          30,
          31,
          32,
          33,
          34,
          35,
          36,
          37,
          38,
          39,
          40,
          41,
          42,
          43,
          44,
          45,
          46,
          47,
          48,
          49,
          50,
          51,
          52,
          53,
          54,
          55,
          56,
          57,
          58,
          59,
          60,
          61,
          62,
          63,
          64,
          65,
          66,
          67,
          68,
          69,
          70,
          71,
          72,
          73,
          74,
          75,
          76,
          77,
          78,
          79,
          80,
          81,
          82,
          83,
          84,
          85,
          86,
          87,
          88,
          89,
          90,
          91,
          92,
          93,
          94,
          95,
          96,
          97,
          98,
          99
         ],
         "xaxis": "x2",
         "y": [
          -0.9960232337243051,
          -0.7056817802920855,
          -1.2715094727207723,
          -2.1097613511346074,
          "",
          "",
          "",
          -2.0824241741408165,
          "",
          -1.8540350373125993,
          -1.6444706362559254,
          "",
          -3.4829610288033823,
          -0.42366931719634315,
          "",
          -1.2563770330440165,
          -0.4731506681200125,
          "",
          -0.8828814462112781,
          -2.9547688010355175,
          -0.3078478245635542,
          "",
          -1.0640913983343505,
          -1.6248635373828875,
          -0.5839282442848441,
          -2.233947343008527,
          -0.6752659974338451,
          -0.060809332420155515,
          "",
          "",
          "",
          -0.4740997868420215,
          "",
          "",
          -0.08433998549174371,
          "",
          "",
          -1.1337163452700119,
          -2.2417963239331025,
          "",
          "",
          "",
          "",
          "",
          "",
          "",
          -1.5252386824510265,
          -0.932661329415053,
          "",
          "",
          -2.645406786723383,
          -2.3307044162002213,
          -0.16224786326605756,
          "",
          -0.6827532832697327,
          -0.5030250309553373,
          "",
          -2.870422567849371,
          -2.2096795285311575,
          -0.35064280591022984,
          -0.5896443680627357,
          -1.0337749898594162,
          "",
          "",
          -1.2814943478501213,
          "",
          -0.9495994392807947,
          -0.3102790349200768,
          -1.091375916290117,
          -0.1431324047816489,
          -2.2376598460474835,
          -1.8197046472186293,
          "",
          -1.2616026131359832,
          "",
          -1.790329037617037,
          "",
          -1.9614059996300353,
          -0.18437386538195807,
          -0.3389260430319001,
          "",
          "",
          -1.4875527435563904,
          -0.41603269839791124,
          -0.07757019595738979,
          -0.5848718069762987,
          "",
          "",
          -1.0533852101018542,
          -0.012954736138250711,
          "",
          -0.6804594696320116,
          -1.6499545583672581,
          -2.163075162181029,
          "",
          "",
          "",
          "",
          -1.8962438124143592,
          -0.057377612447670145
         ],
         "yaxis": "y2"
        }
       ],
       "layout": {
        "hovermode": "x",
        "legend": {
         "bgcolor": "#F5F6F9",
         "font": {
          "color": "#4D5663"
         }
        },
        "paper_bgcolor": "#F5F6F9",
        "plot_bgcolor": "#F5F6F9",
        "template": {
         "data": {
          "bar": [
           {
            "error_x": {
             "color": "#2a3f5f"
            },
            "error_y": {
             "color": "#2a3f5f"
            },
            "marker": {
             "line": {
              "color": "#E5ECF6",
              "width": 0.5
             },
             "pattern": {
              "fillmode": "overlay",
              "size": 10,
              "solidity": 0.2
             }
            },
            "type": "bar"
           }
          ],
          "barpolar": [
           {
            "marker": {
             "line": {
              "color": "#E5ECF6",
              "width": 0.5
             },
             "pattern": {
              "fillmode": "overlay",
              "size": 10,
              "solidity": 0.2
             }
            },
            "type": "barpolar"
           }
          ],
          "carpet": [
           {
            "aaxis": {
             "endlinecolor": "#2a3f5f",
             "gridcolor": "white",
             "linecolor": "white",
             "minorgridcolor": "white",
             "startlinecolor": "#2a3f5f"
            },
            "baxis": {
             "endlinecolor": "#2a3f5f",
             "gridcolor": "white",
             "linecolor": "white",
             "minorgridcolor": "white",
             "startlinecolor": "#2a3f5f"
            },
            "type": "carpet"
           }
          ],
          "choropleth": [
           {
            "colorbar": {
             "outlinewidth": 0,
             "ticks": ""
            },
            "type": "choropleth"
           }
          ],
          "contour": [
           {
            "colorbar": {
             "outlinewidth": 0,
             "ticks": ""
            },
            "colorscale": [
             [
              0,
              "#0d0887"
             ],
             [
              0.1111111111111111,
              "#46039f"
             ],
             [
              0.2222222222222222,
              "#7201a8"
             ],
             [
              0.3333333333333333,
              "#9c179e"
             ],
             [
              0.4444444444444444,
              "#bd3786"
             ],
             [
              0.5555555555555556,
              "#d8576b"
             ],
             [
              0.6666666666666666,
              "#ed7953"
             ],
             [
              0.7777777777777778,
              "#fb9f3a"
             ],
             [
              0.8888888888888888,
              "#fdca26"
             ],
             [
              1,
              "#f0f921"
             ]
            ],
            "type": "contour"
           }
          ],
          "contourcarpet": [
           {
            "colorbar": {
             "outlinewidth": 0,
             "ticks": ""
            },
            "type": "contourcarpet"
           }
          ],
          "heatmap": [
           {
            "colorbar": {
             "outlinewidth": 0,
             "ticks": ""
            },
            "colorscale": [
             [
              0,
              "#0d0887"
             ],
             [
              0.1111111111111111,
              "#46039f"
             ],
             [
              0.2222222222222222,
              "#7201a8"
             ],
             [
              0.3333333333333333,
              "#9c179e"
             ],
             [
              0.4444444444444444,
              "#bd3786"
             ],
             [
              0.5555555555555556,
              "#d8576b"
             ],
             [
              0.6666666666666666,
              "#ed7953"
             ],
             [
              0.7777777777777778,
              "#fb9f3a"
             ],
             [
              0.8888888888888888,
              "#fdca26"
             ],
             [
              1,
              "#f0f921"
             ]
            ],
            "type": "heatmap"
           }
          ],
          "heatmapgl": [
           {
            "colorbar": {
             "outlinewidth": 0,
             "ticks": ""
            },
            "colorscale": [
             [
              0,
              "#0d0887"
             ],
             [
              0.1111111111111111,
              "#46039f"
             ],
             [
              0.2222222222222222,
              "#7201a8"
             ],
             [
              0.3333333333333333,
              "#9c179e"
             ],
             [
              0.4444444444444444,
              "#bd3786"
             ],
             [
              0.5555555555555556,
              "#d8576b"
             ],
             [
              0.6666666666666666,
              "#ed7953"
             ],
             [
              0.7777777777777778,
              "#fb9f3a"
             ],
             [
              0.8888888888888888,
              "#fdca26"
             ],
             [
              1,
              "#f0f921"
             ]
            ],
            "type": "heatmapgl"
           }
          ],
          "histogram": [
           {
            "marker": {
             "pattern": {
              "fillmode": "overlay",
              "size": 10,
              "solidity": 0.2
             }
            },
            "type": "histogram"
           }
          ],
          "histogram2d": [
           {
            "colorbar": {
             "outlinewidth": 0,
             "ticks": ""
            },
            "colorscale": [
             [
              0,
              "#0d0887"
             ],
             [
              0.1111111111111111,
              "#46039f"
             ],
             [
              0.2222222222222222,
              "#7201a8"
             ],
             [
              0.3333333333333333,
              "#9c179e"
             ],
             [
              0.4444444444444444,
              "#bd3786"
             ],
             [
              0.5555555555555556,
              "#d8576b"
             ],
             [
              0.6666666666666666,
              "#ed7953"
             ],
             [
              0.7777777777777778,
              "#fb9f3a"
             ],
             [
              0.8888888888888888,
              "#fdca26"
             ],
             [
              1,
              "#f0f921"
             ]
            ],
            "type": "histogram2d"
           }
          ],
          "histogram2dcontour": [
           {
            "colorbar": {
             "outlinewidth": 0,
             "ticks": ""
            },
            "colorscale": [
             [
              0,
              "#0d0887"
             ],
             [
              0.1111111111111111,
              "#46039f"
             ],
             [
              0.2222222222222222,
              "#7201a8"
             ],
             [
              0.3333333333333333,
              "#9c179e"
             ],
             [
              0.4444444444444444,
              "#bd3786"
             ],
             [
              0.5555555555555556,
              "#d8576b"
             ],
             [
              0.6666666666666666,
              "#ed7953"
             ],
             [
              0.7777777777777778,
              "#fb9f3a"
             ],
             [
              0.8888888888888888,
              "#fdca26"
             ],
             [
              1,
              "#f0f921"
             ]
            ],
            "type": "histogram2dcontour"
           }
          ],
          "mesh3d": [
           {
            "colorbar": {
             "outlinewidth": 0,
             "ticks": ""
            },
            "type": "mesh3d"
           }
          ],
          "parcoords": [
           {
            "line": {
             "colorbar": {
              "outlinewidth": 0,
              "ticks": ""
             }
            },
            "type": "parcoords"
           }
          ],
          "pie": [
           {
            "automargin": true,
            "type": "pie"
           }
          ],
          "scatter": [
           {
            "marker": {
             "colorbar": {
              "outlinewidth": 0,
              "ticks": ""
             }
            },
            "type": "scatter"
           }
          ],
          "scatter3d": [
           {
            "line": {
             "colorbar": {
              "outlinewidth": 0,
              "ticks": ""
             }
            },
            "marker": {
             "colorbar": {
              "outlinewidth": 0,
              "ticks": ""
             }
            },
            "type": "scatter3d"
           }
          ],
          "scattercarpet": [
           {
            "marker": {
             "colorbar": {
              "outlinewidth": 0,
              "ticks": ""
             }
            },
            "type": "scattercarpet"
           }
          ],
          "scattergeo": [
           {
            "marker": {
             "colorbar": {
              "outlinewidth": 0,
              "ticks": ""
             }
            },
            "type": "scattergeo"
           }
          ],
          "scattergl": [
           {
            "marker": {
             "colorbar": {
              "outlinewidth": 0,
              "ticks": ""
             }
            },
            "type": "scattergl"
           }
          ],
          "scattermapbox": [
           {
            "marker": {
             "colorbar": {
              "outlinewidth": 0,
              "ticks": ""
             }
            },
            "type": "scattermapbox"
           }
          ],
          "scatterpolar": [
           {
            "marker": {
             "colorbar": {
              "outlinewidth": 0,
              "ticks": ""
             }
            },
            "type": "scatterpolar"
           }
          ],
          "scatterpolargl": [
           {
            "marker": {
             "colorbar": {
              "outlinewidth": 0,
              "ticks": ""
             }
            },
            "type": "scatterpolargl"
           }
          ],
          "scatterternary": [
           {
            "marker": {
             "colorbar": {
              "outlinewidth": 0,
              "ticks": ""
             }
            },
            "type": "scatterternary"
           }
          ],
          "surface": [
           {
            "colorbar": {
             "outlinewidth": 0,
             "ticks": ""
            },
            "colorscale": [
             [
              0,
              "#0d0887"
             ],
             [
              0.1111111111111111,
              "#46039f"
             ],
             [
              0.2222222222222222,
              "#7201a8"
             ],
             [
              0.3333333333333333,
              "#9c179e"
             ],
             [
              0.4444444444444444,
              "#bd3786"
             ],
             [
              0.5555555555555556,
              "#d8576b"
             ],
             [
              0.6666666666666666,
              "#ed7953"
             ],
             [
              0.7777777777777778,
              "#fb9f3a"
             ],
             [
              0.8888888888888888,
              "#fdca26"
             ],
             [
              1,
              "#f0f921"
             ]
            ],
            "type": "surface"
           }
          ],
          "table": [
           {
            "cells": {
             "fill": {
              "color": "#EBF0F8"
             },
             "line": {
              "color": "white"
             }
            },
            "header": {
             "fill": {
              "color": "#C8D4E3"
             },
             "line": {
              "color": "white"
             }
            },
            "type": "table"
           }
          ]
         },
         "layout": {
          "annotationdefaults": {
           "arrowcolor": "#2a3f5f",
           "arrowhead": 0,
           "arrowwidth": 1
          },
          "autotypenumbers": "strict",
          "coloraxis": {
           "colorbar": {
            "outlinewidth": 0,
            "ticks": ""
           }
          },
          "colorscale": {
           "diverging": [
            [
             0,
             "#8e0152"
            ],
            [
             0.1,
             "#c51b7d"
            ],
            [
             0.2,
             "#de77ae"
            ],
            [
             0.3,
             "#f1b6da"
            ],
            [
             0.4,
             "#fde0ef"
            ],
            [
             0.5,
             "#f7f7f7"
            ],
            [
             0.6,
             "#e6f5d0"
            ],
            [
             0.7,
             "#b8e186"
            ],
            [
             0.8,
             "#7fbc41"
            ],
            [
             0.9,
             "#4d9221"
            ],
            [
             1,
             "#276419"
            ]
           ],
           "sequential": [
            [
             0,
             "#0d0887"
            ],
            [
             0.1111111111111111,
             "#46039f"
            ],
            [
             0.2222222222222222,
             "#7201a8"
            ],
            [
             0.3333333333333333,
             "#9c179e"
            ],
            [
             0.4444444444444444,
             "#bd3786"
            ],
            [
             0.5555555555555556,
             "#d8576b"
            ],
            [
             0.6666666666666666,
             "#ed7953"
            ],
            [
             0.7777777777777778,
             "#fb9f3a"
            ],
            [
             0.8888888888888888,
             "#fdca26"
            ],
            [
             1,
             "#f0f921"
            ]
           ],
           "sequentialminus": [
            [
             0,
             "#0d0887"
            ],
            [
             0.1111111111111111,
             "#46039f"
            ],
            [
             0.2222222222222222,
             "#7201a8"
            ],
            [
             0.3333333333333333,
             "#9c179e"
            ],
            [
             0.4444444444444444,
             "#bd3786"
            ],
            [
             0.5555555555555556,
             "#d8576b"
            ],
            [
             0.6666666666666666,
             "#ed7953"
            ],
            [
             0.7777777777777778,
             "#fb9f3a"
            ],
            [
             0.8888888888888888,
             "#fdca26"
            ],
            [
             1,
             "#f0f921"
            ]
           ]
          },
          "colorway": [
           "#636efa",
           "#EF553B",
           "#00cc96",
           "#ab63fa",
           "#FFA15A",
           "#19d3f3",
           "#FF6692",
           "#B6E880",
           "#FF97FF",
           "#FECB52"
          ],
          "font": {
           "color": "#2a3f5f"
          },
          "geo": {
           "bgcolor": "white",
           "lakecolor": "white",
           "landcolor": "#E5ECF6",
           "showlakes": true,
           "showland": true,
           "subunitcolor": "white"
          },
          "hoverlabel": {
           "align": "left"
          },
          "hovermode": "closest",
          "mapbox": {
           "style": "light"
          },
          "paper_bgcolor": "white",
          "plot_bgcolor": "#E5ECF6",
          "polar": {
           "angularaxis": {
            "gridcolor": "white",
            "linecolor": "white",
            "ticks": ""
           },
           "bgcolor": "#E5ECF6",
           "radialaxis": {
            "gridcolor": "white",
            "linecolor": "white",
            "ticks": ""
           }
          },
          "scene": {
           "xaxis": {
            "backgroundcolor": "#E5ECF6",
            "gridcolor": "white",
            "gridwidth": 2,
            "linecolor": "white",
            "showbackground": true,
            "ticks": "",
            "zerolinecolor": "white"
           },
           "yaxis": {
            "backgroundcolor": "#E5ECF6",
            "gridcolor": "white",
            "gridwidth": 2,
            "linecolor": "white",
            "showbackground": true,
            "ticks": "",
            "zerolinecolor": "white"
           },
           "zaxis": {
            "backgroundcolor": "#E5ECF6",
            "gridcolor": "white",
            "gridwidth": 2,
            "linecolor": "white",
            "showbackground": true,
            "ticks": "",
            "zerolinecolor": "white"
           }
          },
          "shapedefaults": {
           "line": {
            "color": "#2a3f5f"
           }
          },
          "ternary": {
           "aaxis": {
            "gridcolor": "white",
            "linecolor": "white",
            "ticks": ""
           },
           "baxis": {
            "gridcolor": "white",
            "linecolor": "white",
            "ticks": ""
           },
           "bgcolor": "#E5ECF6",
           "caxis": {
            "gridcolor": "white",
            "linecolor": "white",
            "ticks": ""
           }
          },
          "title": {
           "x": 0.05
          },
          "xaxis": {
           "automargin": true,
           "gridcolor": "white",
           "linecolor": "white",
           "ticks": "",
           "title": {
            "standoff": 15
           },
           "zerolinecolor": "white",
           "zerolinewidth": 2
          },
          "yaxis": {
           "automargin": true,
           "gridcolor": "white",
           "linecolor": "white",
           "ticks": "",
           "title": {
            "standoff": 15
           },
           "zerolinecolor": "white",
           "zerolinewidth": 2
          }
         }
        },
        "title": {
         "font": {
          "color": "#4D5663"
         }
        },
        "xaxis": {
         "gridcolor": "#E1E5ED",
         "showgrid": true,
         "tickfont": {
          "color": "#4D5663"
         },
         "title": {
          "font": {
           "color": "#4D5663"
          },
          "text": ""
         },
         "zerolinecolor": "#E1E5ED"
        },
        "xaxis2": {
         "anchor": "y2",
         "gridcolor": "#E1E5ED",
         "showgrid": true,
         "showticklabels": false,
         "tickfont": {
          "color": "#4D5663"
         },
         "title": {
          "font": {
           "color": "#4D5663"
          },
          "text": ""
         },
         "zerolinecolor": "#E1E5ED"
        },
        "yaxis": {
         "domain": [
          0.3,
          1
         ],
         "gridcolor": "#E1E5ED",
         "showgrid": true,
         "tickfont": {
          "color": "#4D5663"
         },
         "title": {
          "font": {
           "color": "#4D5663"
          },
          "text": ""
         },
         "zerolinecolor": "#E1E5ED"
        },
        "yaxis2": {
         "domain": [
          0,
          0.25
         ],
         "gridcolor": "#E1E5ED",
         "showgrid": true,
         "tickfont": {
          "color": "#4D5663"
         },
         "title": {
          "font": {
           "color": "#4D5663"
          },
          "text": "Spread"
         },
         "zerolinecolor": "#E1E5ED"
        }
       }
      },
      "text/html": [
       "<div>                            <div id=\"f1931033-610a-44ef-8e73-9491126a36a9\" class=\"plotly-graph-div\" style=\"height:525px; width:100%;\"></div>            <script type=\"text/javascript\">                require([\"plotly\"], function(Plotly) {                    window.PLOTLYENV=window.PLOTLYENV || {};\n",
       "                    window.PLOTLYENV.BASE_URL='https://plot.ly';                                    if (document.getElementById(\"f1931033-610a-44ef-8e73-9491126a36a9\")) {                    Plotly.newPlot(                        \"f1931033-610a-44ef-8e73-9491126a36a9\",                        [{\"line\":{\"color\":\"rgba(255, 153, 51, 1.0)\",\"dash\":\"solid\",\"shape\":\"linear\",\"width\":1.3},\"mode\":\"lines\",\"name\":\"A\",\"text\":\"\",\"x\":[0,1,2,3,4,5,6,7,8,9,10,11,12,13,14,15,16,17,18,19,20,21,22,23,24,25,26,27,28,29,30,31,32,33,34,35,36,37,38,39,40,41,42,43,44,45,46,47,48,49,50,51,52,53,54,55,56,57,58,59,60,61,62,63,64,65,66,67,68,69,70,71,72,73,74,75,76,77,78,79,80,81,82,83,84,85,86,87,88,89,90,91,92,93,94,95,96,97,98,99],\"y\":[-1.309527744420406,-0.43461471341730906,-0.6595622762097307,-1.8087704558636009,-0.21507624397672268,-0.38856874633371274,0.39323640994019327,-1.5768836282447465,0.22178931809236666,-0.9431156572498557,-1.9102029239374554,-0.477769555673728,-1.089425538238347,-1.0357538495845635,1.2252166381530092,0.37107402061163053,-1.158252094622077,1.3695745789888654,-1.01825182367802,-1.7722468986897701,-0.2168013554876337,0.4755191701253149,-0.31047009102309275,-1.1396124818852957,-0.6999173593661061,-1.1371155062620095,-0.4910949440770942,-1.3621373445513156,1.0766873032479476,0.525928465473397,0.18338106944618113,-0.1505291458789072,1.8846432497944905,1.0605122306404768,-0.962144311117594,-0.1476914461688686,0.7205523460441676,-1.7892639026055361,-1.0548281912697273,1.7356821752881395,0.7623513817996954,0.3727625957984767,0.44451049023253525,1.4676975285083917,0.4814662048334038,0.6221661115520754,0.2370320573531419,-0.7473679255146413,0.6347836687579423,1.2138547818174472,-1.1115098285811436,-0.741420524794404,-1.7765108665886487,0.810113366475899,0.47669154362011024,-0.4134257725397369,0.765857785416105,-0.965188219950402,-1.4789137379581754,-0.6434993507816088,1.1172937554301525,-0.495694212475232,-0.387836058015111,-1.5016648314212626,0.1203043588212254,1.2088376698736039,-0.07194726263107164,0.15389399355134598,-0.6401244083647915,-0.08273948253381846,-1.3592394732882558,-1.9885105671375787,0.038505035218103376,-1.24448668315206,1.0295590758843345,0.33682960031944126,0.016429352896183677,-0.8237702468602085,-0.18449476647468116,1.3095212684401376,1.3587986132723278,-0.6051067858004684,-1.6266419057988017,1.0042132470590117,-0.941415138673278,-0.22540308480569024,1.3745114441408741,0.9480792162916354,-0.6327623894459151,-0.4249154919293121,0.6437607373691273,-0.023221467246056046,-0.11276162648807049,-1.4583110545841829,1.2612779604538449,1.3478794165153494,-0.380129484919786,1.451947890281281,-1.1301928995517123,-1.9753921455165973],\"type\":\"scatter\"},{\"line\":{\"color\":\"rgba(55, 128, 191, 1.0)\",\"dash\":\"solid\",\"shape\":\"linear\",\"width\":1.3},\"mode\":\"lines\",\"name\":\"B\",\"text\":\"\",\"x\":[0,1,2,3,4,5,6,7,8,9,10,11,12,13,14,15,16,17,18,19,20,21,22,23,24,25,26,27,28,29,30,31,32,33,34,35,36,37,38,39,40,41,42,43,44,45,46,47,48,49,50,51,52,53,54,55,56,57,58,59,60,61,62,63,64,65,66,67,68,69,70,71,72,73,74,75,76,77,78,79,80,81,82,83,84,85,86,87,88,89,90,91,92,93,94,95,96,97,98,99],\"y\":[-0.3135045106961009,0.27106706687477644,0.6119471965110417,0.3009908952710065,-1.7296433552727768,-0.8395951219175694,0.16250707660228472,0.5055405458960701,-0.832888025408523,0.9109193800627438,-0.26573228768153007,-1.048508086534288,2.3935354905650352,-0.6120845323882204,0.2794630660004881,1.627451053655647,-0.6851014265020644,-0.05563959335930016,-0.135370377466742,1.1825219023457476,0.09104646907592046,-0.23291348461501518,0.7536213073112578,0.4852510554975916,-0.11598911508126203,1.0968318367465173,0.18417105335675082,-1.3013280121311601,-1.5523879941424124,-0.32369753741302265,0.12823504654106158,0.3235706409631143,-0.39016583384232667,-1.3483469875160243,-0.8778043256258503,-0.6566745979642085,-0.8717450588581389,-0.6555475573355242,1.1869681326633754,-1.6754949879668986,-1.0166574270487643,0.30084494827373853,-0.5569631288734428,-0.567768653274891,-1.240819396653744,0.07056845771157615,1.7622707398041684,0.18529340390041166,-0.9353562273967888,-0.6885393911334184,1.5338969581422393,1.5892838914058174,-1.614263003322591,-0.15402669237130096,1.159444826889843,0.08959925841560044,-0.7533113996854893,1.905234347898969,0.7307657905729821,-0.29285654487137897,1.7069381234928882,0.5380807773841841,-0.633045084982813,-1.7779188737619718,1.4017987066713467,-0.08474720608466335,0.8776521766497231,0.4641730284714228,0.45125150792532565,0.060392922247830425,0.8784203727592276,-0.1688059199189494,-1.0896619947083495,0.0171159299839232,0.08104028200629111,2.1271586379364784,-0.976903741909578,1.1376357527698266,-0.00012090109272308358,1.6484473114720377,-1.0772133462637432,-0.9150194793716977,-0.13908916224241138,1.420245945456923,-0.8638449427158882,0.35946872217060843,0.353760398347842,-0.034214007117311096,0.42062282065593914,-0.4119607557910614,-2.246530449988816,0.6572380023859556,1.5371929318791877,0.7047641075968462,0.2758760032749365,0.3641139356290369,-1.7452790367604647,0.7507657464946539,0.7660509128626469,-1.918014533068927],\"type\":\"scatter\"},{\"connectgaps\":false,\"fill\":\"tozeroy\",\"line\":{\"color\":\"green\",\"dash\":\"solid\",\"shape\":\"linear\",\"width\":0.5},\"mode\":\"lines\",\"name\":\"Spread\",\"showlegend\":false,\"x\":[0,1,2,3,4,5,6,7,8,9,10,11,12,13,14,15,16,17,18,19,20,21,22,23,24,25,26,27,28,29,30,31,32,33,34,35,36,37,38,39,40,41,42,43,44,45,46,47,48,49,50,51,52,53,54,55,56,57,58,59,60,61,62,63,64,65,66,67,68,69,70,71,72,73,74,75,76,77,78,79,80,81,82,83,84,85,86,87,88,89,90,91,92,93,94,95,96,97,98,99],\"xaxis\":\"x2\",\"y\":[\"\",\"\",\"\",\"\",1.5145671112960541,0.4510263755838566,0.23072933333790854,\"\",1.0546773435008896,\"\",\"\",0.5707385308605599,\"\",\"\",0.9457535721525211,\"\",\"\",1.4252141723481655,\"\",\"\",\"\",0.7084326547403301,\"\",\"\",\"\",\"\",\"\",\"\",2.6290752973903597,0.8496260028864197,0.05514602290511955,\"\",2.2748090836368173,2.4088592181565014,\"\",0.5089831517953398,1.5922974049023066,\"\",\"\",3.4111771632550383,1.7790088088484597,0.07191764752473817,1.001473619105978,2.0354661817832826,1.7222856014871477,0.5515976538404992,\"\",\"\",1.570139896154731,1.9023941729508658,\"\",\"\",\"\",0.9641400588472,\"\",\"\",1.5191691851015943,\"\",\"\",\"\",\"\",\"\",0.24520902696770197,0.27625404234070916,\"\",1.2935848759582673,\"\",\"\",\"\",\"\",\"\",\"\",1.1281670299264528,\"\",0.9485187938780434,\"\",0.9933330948057616,\"\",\"\",\"\",2.4360119595360707,0.3099126935712293,\"\",\"\",\"\",\"\",1.0207510457930322,0.9822932234089465,\"\",\"\",2.8902911873579433,\"\",\"\",\"\",0.9854019571789083,0.9837654808863125,1.3651495518406787,0.7011821437866271,\"\",\"\"],\"yaxis\":\"y2\",\"type\":\"scatter\"},{\"connectgaps\":false,\"fill\":\"tozeroy\",\"line\":{\"color\":\"red\",\"dash\":\"solid\",\"shape\":\"linear\",\"width\":0.5},\"mode\":\"lines\",\"name\":\"Spread\",\"showlegend\":false,\"x\":[0,1,2,3,4,5,6,7,8,9,10,11,12,13,14,15,16,17,18,19,20,21,22,23,24,25,26,27,28,29,30,31,32,33,34,35,36,37,38,39,40,41,42,43,44,45,46,47,48,49,50,51,52,53,54,55,56,57,58,59,60,61,62,63,64,65,66,67,68,69,70,71,72,73,74,75,76,77,78,79,80,81,82,83,84,85,86,87,88,89,90,91,92,93,94,95,96,97,98,99],\"xaxis\":\"x2\",\"y\":[-0.9960232337243051,-0.7056817802920855,-1.2715094727207723,-2.1097613511346074,\"\",\"\",\"\",-2.0824241741408165,\"\",-1.8540350373125993,-1.6444706362559254,\"\",-3.4829610288033823,-0.42366931719634315,\"\",-1.2563770330440165,-0.4731506681200125,\"\",-0.8828814462112781,-2.9547688010355175,-0.3078478245635542,\"\",-1.0640913983343505,-1.6248635373828875,-0.5839282442848441,-2.233947343008527,-0.6752659974338451,-0.060809332420155515,\"\",\"\",\"\",-0.4740997868420215,\"\",\"\",-0.08433998549174371,\"\",\"\",-1.1337163452700119,-2.2417963239331025,\"\",\"\",\"\",\"\",\"\",\"\",\"\",-1.5252386824510265,-0.932661329415053,\"\",\"\",-2.645406786723383,-2.3307044162002213,-0.16224786326605756,\"\",-0.6827532832697327,-0.5030250309553373,\"\",-2.870422567849371,-2.2096795285311575,-0.35064280591022984,-0.5896443680627357,-1.0337749898594162,\"\",\"\",-1.2814943478501213,\"\",-0.9495994392807947,-0.3102790349200768,-1.091375916290117,-0.1431324047816489,-2.2376598460474835,-1.8197046472186293,\"\",-1.2616026131359832,\"\",-1.790329037617037,\"\",-1.9614059996300353,-0.18437386538195807,-0.3389260430319001,\"\",\"\",-1.4875527435563904,-0.41603269839791124,-0.07757019595738979,-0.5848718069762987,\"\",\"\",-1.0533852101018542,-0.012954736138250711,\"\",-0.6804594696320116,-1.6499545583672581,-2.163075162181029,\"\",\"\",\"\",\"\",-1.8962438124143592,-0.057377612447670145],\"yaxis\":\"y2\",\"type\":\"scatter\"}],                        {\"hovermode\":\"x\",\"legend\":{\"bgcolor\":\"#F5F6F9\",\"font\":{\"color\":\"#4D5663\"}},\"paper_bgcolor\":\"#F5F6F9\",\"plot_bgcolor\":\"#F5F6F9\",\"template\":{\"data\":{\"barpolar\":[{\"marker\":{\"line\":{\"color\":\"#E5ECF6\",\"width\":0.5},\"pattern\":{\"fillmode\":\"overlay\",\"size\":10,\"solidity\":0.2}},\"type\":\"barpolar\"}],\"bar\":[{\"error_x\":{\"color\":\"#2a3f5f\"},\"error_y\":{\"color\":\"#2a3f5f\"},\"marker\":{\"line\":{\"color\":\"#E5ECF6\",\"width\":0.5},\"pattern\":{\"fillmode\":\"overlay\",\"size\":10,\"solidity\":0.2}},\"type\":\"bar\"}],\"carpet\":[{\"aaxis\":{\"endlinecolor\":\"#2a3f5f\",\"gridcolor\":\"white\",\"linecolor\":\"white\",\"minorgridcolor\":\"white\",\"startlinecolor\":\"#2a3f5f\"},\"baxis\":{\"endlinecolor\":\"#2a3f5f\",\"gridcolor\":\"white\",\"linecolor\":\"white\",\"minorgridcolor\":\"white\",\"startlinecolor\":\"#2a3f5f\"},\"type\":\"carpet\"}],\"choropleth\":[{\"colorbar\":{\"outlinewidth\":0,\"ticks\":\"\"},\"type\":\"choropleth\"}],\"contourcarpet\":[{\"colorbar\":{\"outlinewidth\":0,\"ticks\":\"\"},\"type\":\"contourcarpet\"}],\"contour\":[{\"colorbar\":{\"outlinewidth\":0,\"ticks\":\"\"},\"colorscale\":[[0.0,\"#0d0887\"],[0.1111111111111111,\"#46039f\"],[0.2222222222222222,\"#7201a8\"],[0.3333333333333333,\"#9c179e\"],[0.4444444444444444,\"#bd3786\"],[0.5555555555555556,\"#d8576b\"],[0.6666666666666666,\"#ed7953\"],[0.7777777777777778,\"#fb9f3a\"],[0.8888888888888888,\"#fdca26\"],[1.0,\"#f0f921\"]],\"type\":\"contour\"}],\"heatmapgl\":[{\"colorbar\":{\"outlinewidth\":0,\"ticks\":\"\"},\"colorscale\":[[0.0,\"#0d0887\"],[0.1111111111111111,\"#46039f\"],[0.2222222222222222,\"#7201a8\"],[0.3333333333333333,\"#9c179e\"],[0.4444444444444444,\"#bd3786\"],[0.5555555555555556,\"#d8576b\"],[0.6666666666666666,\"#ed7953\"],[0.7777777777777778,\"#fb9f3a\"],[0.8888888888888888,\"#fdca26\"],[1.0,\"#f0f921\"]],\"type\":\"heatmapgl\"}],\"heatmap\":[{\"colorbar\":{\"outlinewidth\":0,\"ticks\":\"\"},\"colorscale\":[[0.0,\"#0d0887\"],[0.1111111111111111,\"#46039f\"],[0.2222222222222222,\"#7201a8\"],[0.3333333333333333,\"#9c179e\"],[0.4444444444444444,\"#bd3786\"],[0.5555555555555556,\"#d8576b\"],[0.6666666666666666,\"#ed7953\"],[0.7777777777777778,\"#fb9f3a\"],[0.8888888888888888,\"#fdca26\"],[1.0,\"#f0f921\"]],\"type\":\"heatmap\"}],\"histogram2dcontour\":[{\"colorbar\":{\"outlinewidth\":0,\"ticks\":\"\"},\"colorscale\":[[0.0,\"#0d0887\"],[0.1111111111111111,\"#46039f\"],[0.2222222222222222,\"#7201a8\"],[0.3333333333333333,\"#9c179e\"],[0.4444444444444444,\"#bd3786\"],[0.5555555555555556,\"#d8576b\"],[0.6666666666666666,\"#ed7953\"],[0.7777777777777778,\"#fb9f3a\"],[0.8888888888888888,\"#fdca26\"],[1.0,\"#f0f921\"]],\"type\":\"histogram2dcontour\"}],\"histogram2d\":[{\"colorbar\":{\"outlinewidth\":0,\"ticks\":\"\"},\"colorscale\":[[0.0,\"#0d0887\"],[0.1111111111111111,\"#46039f\"],[0.2222222222222222,\"#7201a8\"],[0.3333333333333333,\"#9c179e\"],[0.4444444444444444,\"#bd3786\"],[0.5555555555555556,\"#d8576b\"],[0.6666666666666666,\"#ed7953\"],[0.7777777777777778,\"#fb9f3a\"],[0.8888888888888888,\"#fdca26\"],[1.0,\"#f0f921\"]],\"type\":\"histogram2d\"}],\"histogram\":[{\"marker\":{\"pattern\":{\"fillmode\":\"overlay\",\"size\":10,\"solidity\":0.2}},\"type\":\"histogram\"}],\"mesh3d\":[{\"colorbar\":{\"outlinewidth\":0,\"ticks\":\"\"},\"type\":\"mesh3d\"}],\"parcoords\":[{\"line\":{\"colorbar\":{\"outlinewidth\":0,\"ticks\":\"\"}},\"type\":\"parcoords\"}],\"pie\":[{\"automargin\":true,\"type\":\"pie\"}],\"scatter3d\":[{\"line\":{\"colorbar\":{\"outlinewidth\":0,\"ticks\":\"\"}},\"marker\":{\"colorbar\":{\"outlinewidth\":0,\"ticks\":\"\"}},\"type\":\"scatter3d\"}],\"scattercarpet\":[{\"marker\":{\"colorbar\":{\"outlinewidth\":0,\"ticks\":\"\"}},\"type\":\"scattercarpet\"}],\"scattergeo\":[{\"marker\":{\"colorbar\":{\"outlinewidth\":0,\"ticks\":\"\"}},\"type\":\"scattergeo\"}],\"scattergl\":[{\"marker\":{\"colorbar\":{\"outlinewidth\":0,\"ticks\":\"\"}},\"type\":\"scattergl\"}],\"scattermapbox\":[{\"marker\":{\"colorbar\":{\"outlinewidth\":0,\"ticks\":\"\"}},\"type\":\"scattermapbox\"}],\"scatterpolargl\":[{\"marker\":{\"colorbar\":{\"outlinewidth\":0,\"ticks\":\"\"}},\"type\":\"scatterpolargl\"}],\"scatterpolar\":[{\"marker\":{\"colorbar\":{\"outlinewidth\":0,\"ticks\":\"\"}},\"type\":\"scatterpolar\"}],\"scatter\":[{\"marker\":{\"colorbar\":{\"outlinewidth\":0,\"ticks\":\"\"}},\"type\":\"scatter\"}],\"scatterternary\":[{\"marker\":{\"colorbar\":{\"outlinewidth\":0,\"ticks\":\"\"}},\"type\":\"scatterternary\"}],\"surface\":[{\"colorbar\":{\"outlinewidth\":0,\"ticks\":\"\"},\"colorscale\":[[0.0,\"#0d0887\"],[0.1111111111111111,\"#46039f\"],[0.2222222222222222,\"#7201a8\"],[0.3333333333333333,\"#9c179e\"],[0.4444444444444444,\"#bd3786\"],[0.5555555555555556,\"#d8576b\"],[0.6666666666666666,\"#ed7953\"],[0.7777777777777778,\"#fb9f3a\"],[0.8888888888888888,\"#fdca26\"],[1.0,\"#f0f921\"]],\"type\":\"surface\"}],\"table\":[{\"cells\":{\"fill\":{\"color\":\"#EBF0F8\"},\"line\":{\"color\":\"white\"}},\"header\":{\"fill\":{\"color\":\"#C8D4E3\"},\"line\":{\"color\":\"white\"}},\"type\":\"table\"}]},\"layout\":{\"annotationdefaults\":{\"arrowcolor\":\"#2a3f5f\",\"arrowhead\":0,\"arrowwidth\":1},\"autotypenumbers\":\"strict\",\"coloraxis\":{\"colorbar\":{\"outlinewidth\":0,\"ticks\":\"\"}},\"colorscale\":{\"diverging\":[[0,\"#8e0152\"],[0.1,\"#c51b7d\"],[0.2,\"#de77ae\"],[0.3,\"#f1b6da\"],[0.4,\"#fde0ef\"],[0.5,\"#f7f7f7\"],[0.6,\"#e6f5d0\"],[0.7,\"#b8e186\"],[0.8,\"#7fbc41\"],[0.9,\"#4d9221\"],[1,\"#276419\"]],\"sequential\":[[0.0,\"#0d0887\"],[0.1111111111111111,\"#46039f\"],[0.2222222222222222,\"#7201a8\"],[0.3333333333333333,\"#9c179e\"],[0.4444444444444444,\"#bd3786\"],[0.5555555555555556,\"#d8576b\"],[0.6666666666666666,\"#ed7953\"],[0.7777777777777778,\"#fb9f3a\"],[0.8888888888888888,\"#fdca26\"],[1.0,\"#f0f921\"]],\"sequentialminus\":[[0.0,\"#0d0887\"],[0.1111111111111111,\"#46039f\"],[0.2222222222222222,\"#7201a8\"],[0.3333333333333333,\"#9c179e\"],[0.4444444444444444,\"#bd3786\"],[0.5555555555555556,\"#d8576b\"],[0.6666666666666666,\"#ed7953\"],[0.7777777777777778,\"#fb9f3a\"],[0.8888888888888888,\"#fdca26\"],[1.0,\"#f0f921\"]]},\"colorway\":[\"#636efa\",\"#EF553B\",\"#00cc96\",\"#ab63fa\",\"#FFA15A\",\"#19d3f3\",\"#FF6692\",\"#B6E880\",\"#FF97FF\",\"#FECB52\"],\"font\":{\"color\":\"#2a3f5f\"},\"geo\":{\"bgcolor\":\"white\",\"lakecolor\":\"white\",\"landcolor\":\"#E5ECF6\",\"showlakes\":true,\"showland\":true,\"subunitcolor\":\"white\"},\"hoverlabel\":{\"align\":\"left\"},\"hovermode\":\"closest\",\"mapbox\":{\"style\":\"light\"},\"paper_bgcolor\":\"white\",\"plot_bgcolor\":\"#E5ECF6\",\"polar\":{\"angularaxis\":{\"gridcolor\":\"white\",\"linecolor\":\"white\",\"ticks\":\"\"},\"bgcolor\":\"#E5ECF6\",\"radialaxis\":{\"gridcolor\":\"white\",\"linecolor\":\"white\",\"ticks\":\"\"}},\"scene\":{\"xaxis\":{\"backgroundcolor\":\"#E5ECF6\",\"gridcolor\":\"white\",\"gridwidth\":2,\"linecolor\":\"white\",\"showbackground\":true,\"ticks\":\"\",\"zerolinecolor\":\"white\"},\"yaxis\":{\"backgroundcolor\":\"#E5ECF6\",\"gridcolor\":\"white\",\"gridwidth\":2,\"linecolor\":\"white\",\"showbackground\":true,\"ticks\":\"\",\"zerolinecolor\":\"white\"},\"zaxis\":{\"backgroundcolor\":\"#E5ECF6\",\"gridcolor\":\"white\",\"gridwidth\":2,\"linecolor\":\"white\",\"showbackground\":true,\"ticks\":\"\",\"zerolinecolor\":\"white\"}},\"shapedefaults\":{\"line\":{\"color\":\"#2a3f5f\"}},\"ternary\":{\"aaxis\":{\"gridcolor\":\"white\",\"linecolor\":\"white\",\"ticks\":\"\"},\"baxis\":{\"gridcolor\":\"white\",\"linecolor\":\"white\",\"ticks\":\"\"},\"bgcolor\":\"#E5ECF6\",\"caxis\":{\"gridcolor\":\"white\",\"linecolor\":\"white\",\"ticks\":\"\"}},\"title\":{\"x\":0.05},\"xaxis\":{\"automargin\":true,\"gridcolor\":\"white\",\"linecolor\":\"white\",\"ticks\":\"\",\"title\":{\"standoff\":15},\"zerolinecolor\":\"white\",\"zerolinewidth\":2},\"yaxis\":{\"automargin\":true,\"gridcolor\":\"white\",\"linecolor\":\"white\",\"ticks\":\"\",\"title\":{\"standoff\":15},\"zerolinecolor\":\"white\",\"zerolinewidth\":2}}},\"title\":{\"font\":{\"color\":\"#4D5663\"}},\"xaxis\":{\"gridcolor\":\"#E1E5ED\",\"showgrid\":true,\"tickfont\":{\"color\":\"#4D5663\"},\"title\":{\"font\":{\"color\":\"#4D5663\"},\"text\":\"\"},\"zerolinecolor\":\"#E1E5ED\"},\"yaxis\":{\"domain\":[0.3,1],\"gridcolor\":\"#E1E5ED\",\"showgrid\":true,\"tickfont\":{\"color\":\"#4D5663\"},\"title\":{\"font\":{\"color\":\"#4D5663\"},\"text\":\"\"},\"zerolinecolor\":\"#E1E5ED\"},\"yaxis2\":{\"domain\":[0,0.25],\"gridcolor\":\"#E1E5ED\",\"showgrid\":true,\"tickfont\":{\"color\":\"#4D5663\"},\"title\":{\"font\":{\"color\":\"#4D5663\"},\"text\":\"Spread\"},\"zerolinecolor\":\"#E1E5ED\"},\"xaxis2\":{\"anchor\":\"y2\",\"gridcolor\":\"#E1E5ED\",\"showgrid\":true,\"showticklabels\":false,\"tickfont\":{\"color\":\"#4D5663\"},\"title\":{\"font\":{\"color\":\"#4D5663\"},\"text\":\"\"},\"zerolinecolor\":\"#E1E5ED\"}},                        {\"showLink\": true, \"linkText\": \"Export to plot.ly\", \"plotlyServerURL\": \"https://plot.ly\", \"responsive\": true}                    ).then(function(){\n",
       "                            \n",
       "var gd = document.getElementById('f1931033-610a-44ef-8e73-9491126a36a9');\n",
       "var x = new MutationObserver(function (mutations, observer) {{\n",
       "        var display = window.getComputedStyle(gd).display;\n",
       "        if (!display || display === 'none') {{\n",
       "            console.log([gd, 'removed!']);\n",
       "            Plotly.purge(gd);\n",
       "            observer.disconnect();\n",
       "        }}\n",
       "}});\n",
       "\n",
       "// Listen for the removal of the full notebook cells\n",
       "var notebookContainer = gd.closest('#notebook-container');\n",
       "if (notebookContainer) {{\n",
       "    x.observe(notebookContainer, {childList: true});\n",
       "}}\n",
       "\n",
       "// Listen for the clearing of the current output cell\n",
       "var outputEl = gd.closest('.output');\n",
       "if (outputEl) {{\n",
       "    x.observe(outputEl, {childList: true});\n",
       "}}\n",
       "\n",
       "                        })                };                });            </script>        </div>"
      ]
     },
     "metadata": {},
     "output_type": "display_data"
    }
   ],
   "source": [
    "df1[[\"A\",\"B\"]].iplot(kind=\"spread\")"
   ]
  },
  {
   "cell_type": "code",
   "execution_count": 37,
   "id": "b883cc6e",
   "metadata": {},
   "outputs": [
    {
     "data": {
      "application/vnd.plotly.v1+json": {
       "config": {
        "linkText": "Export to plot.ly",
        "plotlyServerURL": "https://plot.ly",
        "showLink": true
       },
       "data": [
        {
         "marker": {
          "color": [
           "rgb(255, 153, 51)",
           "rgb(55, 128, 191)",
           "rgb(50, 171, 96)",
           "rgb(128, 0, 128)",
           "rgb(219, 64, 82)",
           "rgb(0, 128, 128)",
           "rgb(255, 255, 51)",
           "rgb(128, 128, 0)",
           "rgb(251, 128, 114)",
           "rgb(128, 177, 211)"
          ],
          "line": {
           "width": 1.3
          },
          "size": [
           51,
           83,
           67,
           57,
           90,
           66,
           53,
           75,
           29,
           44,
           49,
           52,
           45,
           42,
           50,
           36,
           35,
           54,
           68,
           65,
           29,
           56,
           13,
           49,
           21,
           50,
           52,
           87,
           47,
           41,
           59,
           66,
           40,
           72,
           42,
           12,
           67,
           49,
           91,
           49,
           31,
           46,
           51,
           84,
           57,
           59,
           54,
           36,
           74,
           84,
           50,
           36,
           59,
           85,
           59,
           30,
           65,
           30,
           79,
           51,
           112,
           62,
           68,
           50,
           46,
           63,
           59,
           69,
           60,
           25,
           31,
           45,
           56,
           84,
           62,
           46,
           107,
           85,
           73,
           45,
           75,
           38,
           31,
           65,
           76,
           62,
           59,
           36,
           36,
           58,
           38,
           41,
           39,
           79,
           33,
           47,
           35,
           81,
           47,
           54
          ],
          "symbol": "circle"
         },
         "mode": "markers",
         "text": "",
         "type": "scatter",
         "x": [
          -1.309527744420406,
          -0.43461471341730906,
          -0.6595622762097307,
          -1.8087704558636009,
          -0.21507624397672268,
          -0.38856874633371274,
          0.39323640994019327,
          -1.5768836282447465,
          0.22178931809236666,
          -0.9431156572498557,
          -1.9102029239374554,
          -0.477769555673728,
          -1.089425538238347,
          -1.0357538495845635,
          1.2252166381530092,
          0.37107402061163053,
          -1.158252094622077,
          1.3695745789888654,
          -1.01825182367802,
          -1.7722468986897701,
          -0.2168013554876337,
          0.4755191701253149,
          -0.31047009102309275,
          -1.1396124818852957,
          -0.6999173593661061,
          -1.1371155062620095,
          -0.4910949440770942,
          -1.3621373445513156,
          1.0766873032479476,
          0.525928465473397,
          0.18338106944618113,
          -0.1505291458789072,
          1.8846432497944905,
          1.0605122306404768,
          -0.962144311117594,
          -0.1476914461688686,
          0.7205523460441676,
          -1.7892639026055361,
          -1.0548281912697273,
          1.7356821752881395,
          0.7623513817996954,
          0.3727625957984767,
          0.44451049023253525,
          1.4676975285083917,
          0.4814662048334038,
          0.6221661115520754,
          0.2370320573531419,
          -0.7473679255146413,
          0.6347836687579423,
          1.2138547818174472,
          -1.1115098285811436,
          -0.741420524794404,
          -1.7765108665886487,
          0.810113366475899,
          0.47669154362011024,
          -0.4134257725397369,
          0.765857785416105,
          -0.965188219950402,
          -1.4789137379581754,
          -0.6434993507816088,
          1.1172937554301525,
          -0.495694212475232,
          -0.387836058015111,
          -1.5016648314212626,
          0.1203043588212254,
          1.2088376698736039,
          -0.07194726263107164,
          0.15389399355134598,
          -0.6401244083647915,
          -0.08273948253381846,
          -1.3592394732882558,
          -1.9885105671375787,
          0.038505035218103376,
          -1.24448668315206,
          1.0295590758843345,
          0.33682960031944126,
          0.016429352896183677,
          -0.8237702468602085,
          -0.18449476647468116,
          1.3095212684401376,
          1.3587986132723278,
          -0.6051067858004684,
          -1.6266419057988017,
          1.0042132470590117,
          -0.941415138673278,
          -0.22540308480569024,
          1.3745114441408741,
          0.9480792162916354,
          -0.6327623894459151,
          -0.4249154919293121,
          0.6437607373691273,
          -0.023221467246056046,
          -0.11276162648807049,
          -1.4583110545841829,
          1.2612779604538449,
          1.3478794165153494,
          -0.380129484919786,
          1.451947890281281,
          -1.1301928995517123,
          -1.9753921455165973
         ],
         "y": [
          -0.3135045106961009,
          0.27106706687477644,
          0.6119471965110417,
          0.3009908952710065,
          -1.7296433552727768,
          -0.8395951219175694,
          0.16250707660228472,
          0.5055405458960701,
          -0.832888025408523,
          0.9109193800627438,
          -0.26573228768153007,
          -1.048508086534288,
          2.3935354905650352,
          -0.6120845323882204,
          0.2794630660004881,
          1.627451053655647,
          -0.6851014265020644,
          -0.05563959335930016,
          -0.135370377466742,
          1.1825219023457476,
          0.09104646907592046,
          -0.23291348461501518,
          0.7536213073112578,
          0.4852510554975916,
          -0.11598911508126203,
          1.0968318367465173,
          0.18417105335675082,
          -1.3013280121311601,
          -1.5523879941424124,
          -0.32369753741302265,
          0.12823504654106158,
          0.3235706409631143,
          -0.39016583384232667,
          -1.3483469875160243,
          -0.8778043256258503,
          -0.6566745979642085,
          -0.8717450588581389,
          -0.6555475573355242,
          1.1869681326633754,
          -1.6754949879668986,
          -1.0166574270487643,
          0.30084494827373853,
          -0.5569631288734428,
          -0.567768653274891,
          -1.240819396653744,
          0.07056845771157615,
          1.7622707398041684,
          0.18529340390041166,
          -0.9353562273967888,
          -0.6885393911334184,
          1.5338969581422393,
          1.5892838914058174,
          -1.614263003322591,
          -0.15402669237130096,
          1.159444826889843,
          0.08959925841560044,
          -0.7533113996854893,
          1.905234347898969,
          0.7307657905729821,
          -0.29285654487137897,
          1.7069381234928882,
          0.5380807773841841,
          -0.633045084982813,
          -1.7779188737619718,
          1.4017987066713467,
          -0.08474720608466335,
          0.8776521766497231,
          0.4641730284714228,
          0.45125150792532565,
          0.060392922247830425,
          0.8784203727592276,
          -0.1688059199189494,
          -1.0896619947083495,
          0.0171159299839232,
          0.08104028200629111,
          2.1271586379364784,
          -0.976903741909578,
          1.1376357527698266,
          -0.00012090109272308358,
          1.6484473114720377,
          -1.0772133462637432,
          -0.9150194793716977,
          -0.13908916224241138,
          1.420245945456923,
          -0.8638449427158882,
          0.35946872217060843,
          0.353760398347842,
          -0.034214007117311096,
          0.42062282065593914,
          -0.4119607557910614,
          -2.246530449988816,
          0.6572380023859556,
          1.5371929318791877,
          0.7047641075968462,
          0.2758760032749365,
          0.3641139356290369,
          -1.7452790367604647,
          0.7507657464946539,
          0.7660509128626469,
          -1.918014533068927
         ]
        }
       ],
       "layout": {
        "legend": {
         "bgcolor": "#F5F6F9",
         "font": {
          "color": "#4D5663"
         }
        },
        "paper_bgcolor": "#F5F6F9",
        "plot_bgcolor": "#F5F6F9",
        "template": {
         "data": {
          "bar": [
           {
            "error_x": {
             "color": "#2a3f5f"
            },
            "error_y": {
             "color": "#2a3f5f"
            },
            "marker": {
             "line": {
              "color": "#E5ECF6",
              "width": 0.5
             },
             "pattern": {
              "fillmode": "overlay",
              "size": 10,
              "solidity": 0.2
             }
            },
            "type": "bar"
           }
          ],
          "barpolar": [
           {
            "marker": {
             "line": {
              "color": "#E5ECF6",
              "width": 0.5
             },
             "pattern": {
              "fillmode": "overlay",
              "size": 10,
              "solidity": 0.2
             }
            },
            "type": "barpolar"
           }
          ],
          "carpet": [
           {
            "aaxis": {
             "endlinecolor": "#2a3f5f",
             "gridcolor": "white",
             "linecolor": "white",
             "minorgridcolor": "white",
             "startlinecolor": "#2a3f5f"
            },
            "baxis": {
             "endlinecolor": "#2a3f5f",
             "gridcolor": "white",
             "linecolor": "white",
             "minorgridcolor": "white",
             "startlinecolor": "#2a3f5f"
            },
            "type": "carpet"
           }
          ],
          "choropleth": [
           {
            "colorbar": {
             "outlinewidth": 0,
             "ticks": ""
            },
            "type": "choropleth"
           }
          ],
          "contour": [
           {
            "colorbar": {
             "outlinewidth": 0,
             "ticks": ""
            },
            "colorscale": [
             [
              0,
              "#0d0887"
             ],
             [
              0.1111111111111111,
              "#46039f"
             ],
             [
              0.2222222222222222,
              "#7201a8"
             ],
             [
              0.3333333333333333,
              "#9c179e"
             ],
             [
              0.4444444444444444,
              "#bd3786"
             ],
             [
              0.5555555555555556,
              "#d8576b"
             ],
             [
              0.6666666666666666,
              "#ed7953"
             ],
             [
              0.7777777777777778,
              "#fb9f3a"
             ],
             [
              0.8888888888888888,
              "#fdca26"
             ],
             [
              1,
              "#f0f921"
             ]
            ],
            "type": "contour"
           }
          ],
          "contourcarpet": [
           {
            "colorbar": {
             "outlinewidth": 0,
             "ticks": ""
            },
            "type": "contourcarpet"
           }
          ],
          "heatmap": [
           {
            "colorbar": {
             "outlinewidth": 0,
             "ticks": ""
            },
            "colorscale": [
             [
              0,
              "#0d0887"
             ],
             [
              0.1111111111111111,
              "#46039f"
             ],
             [
              0.2222222222222222,
              "#7201a8"
             ],
             [
              0.3333333333333333,
              "#9c179e"
             ],
             [
              0.4444444444444444,
              "#bd3786"
             ],
             [
              0.5555555555555556,
              "#d8576b"
             ],
             [
              0.6666666666666666,
              "#ed7953"
             ],
             [
              0.7777777777777778,
              "#fb9f3a"
             ],
             [
              0.8888888888888888,
              "#fdca26"
             ],
             [
              1,
              "#f0f921"
             ]
            ],
            "type": "heatmap"
           }
          ],
          "heatmapgl": [
           {
            "colorbar": {
             "outlinewidth": 0,
             "ticks": ""
            },
            "colorscale": [
             [
              0,
              "#0d0887"
             ],
             [
              0.1111111111111111,
              "#46039f"
             ],
             [
              0.2222222222222222,
              "#7201a8"
             ],
             [
              0.3333333333333333,
              "#9c179e"
             ],
             [
              0.4444444444444444,
              "#bd3786"
             ],
             [
              0.5555555555555556,
              "#d8576b"
             ],
             [
              0.6666666666666666,
              "#ed7953"
             ],
             [
              0.7777777777777778,
              "#fb9f3a"
             ],
             [
              0.8888888888888888,
              "#fdca26"
             ],
             [
              1,
              "#f0f921"
             ]
            ],
            "type": "heatmapgl"
           }
          ],
          "histogram": [
           {
            "marker": {
             "pattern": {
              "fillmode": "overlay",
              "size": 10,
              "solidity": 0.2
             }
            },
            "type": "histogram"
           }
          ],
          "histogram2d": [
           {
            "colorbar": {
             "outlinewidth": 0,
             "ticks": ""
            },
            "colorscale": [
             [
              0,
              "#0d0887"
             ],
             [
              0.1111111111111111,
              "#46039f"
             ],
             [
              0.2222222222222222,
              "#7201a8"
             ],
             [
              0.3333333333333333,
              "#9c179e"
             ],
             [
              0.4444444444444444,
              "#bd3786"
             ],
             [
              0.5555555555555556,
              "#d8576b"
             ],
             [
              0.6666666666666666,
              "#ed7953"
             ],
             [
              0.7777777777777778,
              "#fb9f3a"
             ],
             [
              0.8888888888888888,
              "#fdca26"
             ],
             [
              1,
              "#f0f921"
             ]
            ],
            "type": "histogram2d"
           }
          ],
          "histogram2dcontour": [
           {
            "colorbar": {
             "outlinewidth": 0,
             "ticks": ""
            },
            "colorscale": [
             [
              0,
              "#0d0887"
             ],
             [
              0.1111111111111111,
              "#46039f"
             ],
             [
              0.2222222222222222,
              "#7201a8"
             ],
             [
              0.3333333333333333,
              "#9c179e"
             ],
             [
              0.4444444444444444,
              "#bd3786"
             ],
             [
              0.5555555555555556,
              "#d8576b"
             ],
             [
              0.6666666666666666,
              "#ed7953"
             ],
             [
              0.7777777777777778,
              "#fb9f3a"
             ],
             [
              0.8888888888888888,
              "#fdca26"
             ],
             [
              1,
              "#f0f921"
             ]
            ],
            "type": "histogram2dcontour"
           }
          ],
          "mesh3d": [
           {
            "colorbar": {
             "outlinewidth": 0,
             "ticks": ""
            },
            "type": "mesh3d"
           }
          ],
          "parcoords": [
           {
            "line": {
             "colorbar": {
              "outlinewidth": 0,
              "ticks": ""
             }
            },
            "type": "parcoords"
           }
          ],
          "pie": [
           {
            "automargin": true,
            "type": "pie"
           }
          ],
          "scatter": [
           {
            "marker": {
             "colorbar": {
              "outlinewidth": 0,
              "ticks": ""
             }
            },
            "type": "scatter"
           }
          ],
          "scatter3d": [
           {
            "line": {
             "colorbar": {
              "outlinewidth": 0,
              "ticks": ""
             }
            },
            "marker": {
             "colorbar": {
              "outlinewidth": 0,
              "ticks": ""
             }
            },
            "type": "scatter3d"
           }
          ],
          "scattercarpet": [
           {
            "marker": {
             "colorbar": {
              "outlinewidth": 0,
              "ticks": ""
             }
            },
            "type": "scattercarpet"
           }
          ],
          "scattergeo": [
           {
            "marker": {
             "colorbar": {
              "outlinewidth": 0,
              "ticks": ""
             }
            },
            "type": "scattergeo"
           }
          ],
          "scattergl": [
           {
            "marker": {
             "colorbar": {
              "outlinewidth": 0,
              "ticks": ""
             }
            },
            "type": "scattergl"
           }
          ],
          "scattermapbox": [
           {
            "marker": {
             "colorbar": {
              "outlinewidth": 0,
              "ticks": ""
             }
            },
            "type": "scattermapbox"
           }
          ],
          "scatterpolar": [
           {
            "marker": {
             "colorbar": {
              "outlinewidth": 0,
              "ticks": ""
             }
            },
            "type": "scatterpolar"
           }
          ],
          "scatterpolargl": [
           {
            "marker": {
             "colorbar": {
              "outlinewidth": 0,
              "ticks": ""
             }
            },
            "type": "scatterpolargl"
           }
          ],
          "scatterternary": [
           {
            "marker": {
             "colorbar": {
              "outlinewidth": 0,
              "ticks": ""
             }
            },
            "type": "scatterternary"
           }
          ],
          "surface": [
           {
            "colorbar": {
             "outlinewidth": 0,
             "ticks": ""
            },
            "colorscale": [
             [
              0,
              "#0d0887"
             ],
             [
              0.1111111111111111,
              "#46039f"
             ],
             [
              0.2222222222222222,
              "#7201a8"
             ],
             [
              0.3333333333333333,
              "#9c179e"
             ],
             [
              0.4444444444444444,
              "#bd3786"
             ],
             [
              0.5555555555555556,
              "#d8576b"
             ],
             [
              0.6666666666666666,
              "#ed7953"
             ],
             [
              0.7777777777777778,
              "#fb9f3a"
             ],
             [
              0.8888888888888888,
              "#fdca26"
             ],
             [
              1,
              "#f0f921"
             ]
            ],
            "type": "surface"
           }
          ],
          "table": [
           {
            "cells": {
             "fill": {
              "color": "#EBF0F8"
             },
             "line": {
              "color": "white"
             }
            },
            "header": {
             "fill": {
              "color": "#C8D4E3"
             },
             "line": {
              "color": "white"
             }
            },
            "type": "table"
           }
          ]
         },
         "layout": {
          "annotationdefaults": {
           "arrowcolor": "#2a3f5f",
           "arrowhead": 0,
           "arrowwidth": 1
          },
          "autotypenumbers": "strict",
          "coloraxis": {
           "colorbar": {
            "outlinewidth": 0,
            "ticks": ""
           }
          },
          "colorscale": {
           "diverging": [
            [
             0,
             "#8e0152"
            ],
            [
             0.1,
             "#c51b7d"
            ],
            [
             0.2,
             "#de77ae"
            ],
            [
             0.3,
             "#f1b6da"
            ],
            [
             0.4,
             "#fde0ef"
            ],
            [
             0.5,
             "#f7f7f7"
            ],
            [
             0.6,
             "#e6f5d0"
            ],
            [
             0.7,
             "#b8e186"
            ],
            [
             0.8,
             "#7fbc41"
            ],
            [
             0.9,
             "#4d9221"
            ],
            [
             1,
             "#276419"
            ]
           ],
           "sequential": [
            [
             0,
             "#0d0887"
            ],
            [
             0.1111111111111111,
             "#46039f"
            ],
            [
             0.2222222222222222,
             "#7201a8"
            ],
            [
             0.3333333333333333,
             "#9c179e"
            ],
            [
             0.4444444444444444,
             "#bd3786"
            ],
            [
             0.5555555555555556,
             "#d8576b"
            ],
            [
             0.6666666666666666,
             "#ed7953"
            ],
            [
             0.7777777777777778,
             "#fb9f3a"
            ],
            [
             0.8888888888888888,
             "#fdca26"
            ],
            [
             1,
             "#f0f921"
            ]
           ],
           "sequentialminus": [
            [
             0,
             "#0d0887"
            ],
            [
             0.1111111111111111,
             "#46039f"
            ],
            [
             0.2222222222222222,
             "#7201a8"
            ],
            [
             0.3333333333333333,
             "#9c179e"
            ],
            [
             0.4444444444444444,
             "#bd3786"
            ],
            [
             0.5555555555555556,
             "#d8576b"
            ],
            [
             0.6666666666666666,
             "#ed7953"
            ],
            [
             0.7777777777777778,
             "#fb9f3a"
            ],
            [
             0.8888888888888888,
             "#fdca26"
            ],
            [
             1,
             "#f0f921"
            ]
           ]
          },
          "colorway": [
           "#636efa",
           "#EF553B",
           "#00cc96",
           "#ab63fa",
           "#FFA15A",
           "#19d3f3",
           "#FF6692",
           "#B6E880",
           "#FF97FF",
           "#FECB52"
          ],
          "font": {
           "color": "#2a3f5f"
          },
          "geo": {
           "bgcolor": "white",
           "lakecolor": "white",
           "landcolor": "#E5ECF6",
           "showlakes": true,
           "showland": true,
           "subunitcolor": "white"
          },
          "hoverlabel": {
           "align": "left"
          },
          "hovermode": "closest",
          "mapbox": {
           "style": "light"
          },
          "paper_bgcolor": "white",
          "plot_bgcolor": "#E5ECF6",
          "polar": {
           "angularaxis": {
            "gridcolor": "white",
            "linecolor": "white",
            "ticks": ""
           },
           "bgcolor": "#E5ECF6",
           "radialaxis": {
            "gridcolor": "white",
            "linecolor": "white",
            "ticks": ""
           }
          },
          "scene": {
           "xaxis": {
            "backgroundcolor": "#E5ECF6",
            "gridcolor": "white",
            "gridwidth": 2,
            "linecolor": "white",
            "showbackground": true,
            "ticks": "",
            "zerolinecolor": "white"
           },
           "yaxis": {
            "backgroundcolor": "#E5ECF6",
            "gridcolor": "white",
            "gridwidth": 2,
            "linecolor": "white",
            "showbackground": true,
            "ticks": "",
            "zerolinecolor": "white"
           },
           "zaxis": {
            "backgroundcolor": "#E5ECF6",
            "gridcolor": "white",
            "gridwidth": 2,
            "linecolor": "white",
            "showbackground": true,
            "ticks": "",
            "zerolinecolor": "white"
           }
          },
          "shapedefaults": {
           "line": {
            "color": "#2a3f5f"
           }
          },
          "ternary": {
           "aaxis": {
            "gridcolor": "white",
            "linecolor": "white",
            "ticks": ""
           },
           "baxis": {
            "gridcolor": "white",
            "linecolor": "white",
            "ticks": ""
           },
           "bgcolor": "#E5ECF6",
           "caxis": {
            "gridcolor": "white",
            "linecolor": "white",
            "ticks": ""
           }
          },
          "title": {
           "x": 0.05
          },
          "xaxis": {
           "automargin": true,
           "gridcolor": "white",
           "linecolor": "white",
           "ticks": "",
           "title": {
            "standoff": 15
           },
           "zerolinecolor": "white",
           "zerolinewidth": 2
          },
          "yaxis": {
           "automargin": true,
           "gridcolor": "white",
           "linecolor": "white",
           "ticks": "",
           "title": {
            "standoff": 15
           },
           "zerolinecolor": "white",
           "zerolinewidth": 2
          }
         }
        },
        "title": {
         "font": {
          "color": "#4D5663"
         }
        },
        "xaxis": {
         "gridcolor": "#E1E5ED",
         "showgrid": true,
         "tickfont": {
          "color": "#4D5663"
         },
         "title": {
          "font": {
           "color": "#4D5663"
          },
          "text": ""
         },
         "zerolinecolor": "#E1E5ED"
        },
        "yaxis": {
         "gridcolor": "#E1E5ED",
         "showgrid": true,
         "tickfont": {
          "color": "#4D5663"
         },
         "title": {
          "font": {
           "color": "#4D5663"
          },
          "text": ""
         },
         "zerolinecolor": "#E1E5ED"
        }
       }
      },
      "text/html": [
       "<div>                            <div id=\"5e956e7d-a2a4-43bc-888c-eb249b9bba98\" class=\"plotly-graph-div\" style=\"height:525px; width:100%;\"></div>            <script type=\"text/javascript\">                require([\"plotly\"], function(Plotly) {                    window.PLOTLYENV=window.PLOTLYENV || {};\n",
       "                    window.PLOTLYENV.BASE_URL='https://plot.ly';                                    if (document.getElementById(\"5e956e7d-a2a4-43bc-888c-eb249b9bba98\")) {                    Plotly.newPlot(                        \"5e956e7d-a2a4-43bc-888c-eb249b9bba98\",                        [{\"marker\":{\"color\":[\"rgb(255, 153, 51)\",\"rgb(55, 128, 191)\",\"rgb(50, 171, 96)\",\"rgb(128, 0, 128)\",\"rgb(219, 64, 82)\",\"rgb(0, 128, 128)\",\"rgb(255, 255, 51)\",\"rgb(128, 128, 0)\",\"rgb(251, 128, 114)\",\"rgb(128, 177, 211)\"],\"line\":{\"width\":1.3},\"size\":[51,83,67,57,90,66,53,75,29,44,49,52,45,42,50,36,35,54,68,65,29,56,13,49,21,50,52,87,47,41,59,66,40,72,42,12,67,49,91,49,31,46,51,84,57,59,54,36,74,84,50,36,59,85,59,30,65,30,79,51,112,62,68,50,46,63,59,69,60,25,31,45,56,84,62,46,107,85,73,45,75,38,31,65,76,62,59,36,36,58,38,41,39,79,33,47,35,81,47,54],\"symbol\":\"circle\"},\"mode\":\"markers\",\"text\":\"\",\"x\":[-1.309527744420406,-0.43461471341730906,-0.6595622762097307,-1.8087704558636009,-0.21507624397672268,-0.38856874633371274,0.39323640994019327,-1.5768836282447465,0.22178931809236666,-0.9431156572498557,-1.9102029239374554,-0.477769555673728,-1.089425538238347,-1.0357538495845635,1.2252166381530092,0.37107402061163053,-1.158252094622077,1.3695745789888654,-1.01825182367802,-1.7722468986897701,-0.2168013554876337,0.4755191701253149,-0.31047009102309275,-1.1396124818852957,-0.6999173593661061,-1.1371155062620095,-0.4910949440770942,-1.3621373445513156,1.0766873032479476,0.525928465473397,0.18338106944618113,-0.1505291458789072,1.8846432497944905,1.0605122306404768,-0.962144311117594,-0.1476914461688686,0.7205523460441676,-1.7892639026055361,-1.0548281912697273,1.7356821752881395,0.7623513817996954,0.3727625957984767,0.44451049023253525,1.4676975285083917,0.4814662048334038,0.6221661115520754,0.2370320573531419,-0.7473679255146413,0.6347836687579423,1.2138547818174472,-1.1115098285811436,-0.741420524794404,-1.7765108665886487,0.810113366475899,0.47669154362011024,-0.4134257725397369,0.765857785416105,-0.965188219950402,-1.4789137379581754,-0.6434993507816088,1.1172937554301525,-0.495694212475232,-0.387836058015111,-1.5016648314212626,0.1203043588212254,1.2088376698736039,-0.07194726263107164,0.15389399355134598,-0.6401244083647915,-0.08273948253381846,-1.3592394732882558,-1.9885105671375787,0.038505035218103376,-1.24448668315206,1.0295590758843345,0.33682960031944126,0.016429352896183677,-0.8237702468602085,-0.18449476647468116,1.3095212684401376,1.3587986132723278,-0.6051067858004684,-1.6266419057988017,1.0042132470590117,-0.941415138673278,-0.22540308480569024,1.3745114441408741,0.9480792162916354,-0.6327623894459151,-0.4249154919293121,0.6437607373691273,-0.023221467246056046,-0.11276162648807049,-1.4583110545841829,1.2612779604538449,1.3478794165153494,-0.380129484919786,1.451947890281281,-1.1301928995517123,-1.9753921455165973],\"y\":[-0.3135045106961009,0.27106706687477644,0.6119471965110417,0.3009908952710065,-1.7296433552727768,-0.8395951219175694,0.16250707660228472,0.5055405458960701,-0.832888025408523,0.9109193800627438,-0.26573228768153007,-1.048508086534288,2.3935354905650352,-0.6120845323882204,0.2794630660004881,1.627451053655647,-0.6851014265020644,-0.05563959335930016,-0.135370377466742,1.1825219023457476,0.09104646907592046,-0.23291348461501518,0.7536213073112578,0.4852510554975916,-0.11598911508126203,1.0968318367465173,0.18417105335675082,-1.3013280121311601,-1.5523879941424124,-0.32369753741302265,0.12823504654106158,0.3235706409631143,-0.39016583384232667,-1.3483469875160243,-0.8778043256258503,-0.6566745979642085,-0.8717450588581389,-0.6555475573355242,1.1869681326633754,-1.6754949879668986,-1.0166574270487643,0.30084494827373853,-0.5569631288734428,-0.567768653274891,-1.240819396653744,0.07056845771157615,1.7622707398041684,0.18529340390041166,-0.9353562273967888,-0.6885393911334184,1.5338969581422393,1.5892838914058174,-1.614263003322591,-0.15402669237130096,1.159444826889843,0.08959925841560044,-0.7533113996854893,1.905234347898969,0.7307657905729821,-0.29285654487137897,1.7069381234928882,0.5380807773841841,-0.633045084982813,-1.7779188737619718,1.4017987066713467,-0.08474720608466335,0.8776521766497231,0.4641730284714228,0.45125150792532565,0.060392922247830425,0.8784203727592276,-0.1688059199189494,-1.0896619947083495,0.0171159299839232,0.08104028200629111,2.1271586379364784,-0.976903741909578,1.1376357527698266,-0.00012090109272308358,1.6484473114720377,-1.0772133462637432,-0.9150194793716977,-0.13908916224241138,1.420245945456923,-0.8638449427158882,0.35946872217060843,0.353760398347842,-0.034214007117311096,0.42062282065593914,-0.4119607557910614,-2.246530449988816,0.6572380023859556,1.5371929318791877,0.7047641075968462,0.2758760032749365,0.3641139356290369,-1.7452790367604647,0.7507657464946539,0.7660509128626469,-1.918014533068927],\"type\":\"scatter\"}],                        {\"legend\":{\"bgcolor\":\"#F5F6F9\",\"font\":{\"color\":\"#4D5663\"}},\"paper_bgcolor\":\"#F5F6F9\",\"plot_bgcolor\":\"#F5F6F9\",\"template\":{\"data\":{\"barpolar\":[{\"marker\":{\"line\":{\"color\":\"#E5ECF6\",\"width\":0.5},\"pattern\":{\"fillmode\":\"overlay\",\"size\":10,\"solidity\":0.2}},\"type\":\"barpolar\"}],\"bar\":[{\"error_x\":{\"color\":\"#2a3f5f\"},\"error_y\":{\"color\":\"#2a3f5f\"},\"marker\":{\"line\":{\"color\":\"#E5ECF6\",\"width\":0.5},\"pattern\":{\"fillmode\":\"overlay\",\"size\":10,\"solidity\":0.2}},\"type\":\"bar\"}],\"carpet\":[{\"aaxis\":{\"endlinecolor\":\"#2a3f5f\",\"gridcolor\":\"white\",\"linecolor\":\"white\",\"minorgridcolor\":\"white\",\"startlinecolor\":\"#2a3f5f\"},\"baxis\":{\"endlinecolor\":\"#2a3f5f\",\"gridcolor\":\"white\",\"linecolor\":\"white\",\"minorgridcolor\":\"white\",\"startlinecolor\":\"#2a3f5f\"},\"type\":\"carpet\"}],\"choropleth\":[{\"colorbar\":{\"outlinewidth\":0,\"ticks\":\"\"},\"type\":\"choropleth\"}],\"contourcarpet\":[{\"colorbar\":{\"outlinewidth\":0,\"ticks\":\"\"},\"type\":\"contourcarpet\"}],\"contour\":[{\"colorbar\":{\"outlinewidth\":0,\"ticks\":\"\"},\"colorscale\":[[0.0,\"#0d0887\"],[0.1111111111111111,\"#46039f\"],[0.2222222222222222,\"#7201a8\"],[0.3333333333333333,\"#9c179e\"],[0.4444444444444444,\"#bd3786\"],[0.5555555555555556,\"#d8576b\"],[0.6666666666666666,\"#ed7953\"],[0.7777777777777778,\"#fb9f3a\"],[0.8888888888888888,\"#fdca26\"],[1.0,\"#f0f921\"]],\"type\":\"contour\"}],\"heatmapgl\":[{\"colorbar\":{\"outlinewidth\":0,\"ticks\":\"\"},\"colorscale\":[[0.0,\"#0d0887\"],[0.1111111111111111,\"#46039f\"],[0.2222222222222222,\"#7201a8\"],[0.3333333333333333,\"#9c179e\"],[0.4444444444444444,\"#bd3786\"],[0.5555555555555556,\"#d8576b\"],[0.6666666666666666,\"#ed7953\"],[0.7777777777777778,\"#fb9f3a\"],[0.8888888888888888,\"#fdca26\"],[1.0,\"#f0f921\"]],\"type\":\"heatmapgl\"}],\"heatmap\":[{\"colorbar\":{\"outlinewidth\":0,\"ticks\":\"\"},\"colorscale\":[[0.0,\"#0d0887\"],[0.1111111111111111,\"#46039f\"],[0.2222222222222222,\"#7201a8\"],[0.3333333333333333,\"#9c179e\"],[0.4444444444444444,\"#bd3786\"],[0.5555555555555556,\"#d8576b\"],[0.6666666666666666,\"#ed7953\"],[0.7777777777777778,\"#fb9f3a\"],[0.8888888888888888,\"#fdca26\"],[1.0,\"#f0f921\"]],\"type\":\"heatmap\"}],\"histogram2dcontour\":[{\"colorbar\":{\"outlinewidth\":0,\"ticks\":\"\"},\"colorscale\":[[0.0,\"#0d0887\"],[0.1111111111111111,\"#46039f\"],[0.2222222222222222,\"#7201a8\"],[0.3333333333333333,\"#9c179e\"],[0.4444444444444444,\"#bd3786\"],[0.5555555555555556,\"#d8576b\"],[0.6666666666666666,\"#ed7953\"],[0.7777777777777778,\"#fb9f3a\"],[0.8888888888888888,\"#fdca26\"],[1.0,\"#f0f921\"]],\"type\":\"histogram2dcontour\"}],\"histogram2d\":[{\"colorbar\":{\"outlinewidth\":0,\"ticks\":\"\"},\"colorscale\":[[0.0,\"#0d0887\"],[0.1111111111111111,\"#46039f\"],[0.2222222222222222,\"#7201a8\"],[0.3333333333333333,\"#9c179e\"],[0.4444444444444444,\"#bd3786\"],[0.5555555555555556,\"#d8576b\"],[0.6666666666666666,\"#ed7953\"],[0.7777777777777778,\"#fb9f3a\"],[0.8888888888888888,\"#fdca26\"],[1.0,\"#f0f921\"]],\"type\":\"histogram2d\"}],\"histogram\":[{\"marker\":{\"pattern\":{\"fillmode\":\"overlay\",\"size\":10,\"solidity\":0.2}},\"type\":\"histogram\"}],\"mesh3d\":[{\"colorbar\":{\"outlinewidth\":0,\"ticks\":\"\"},\"type\":\"mesh3d\"}],\"parcoords\":[{\"line\":{\"colorbar\":{\"outlinewidth\":0,\"ticks\":\"\"}},\"type\":\"parcoords\"}],\"pie\":[{\"automargin\":true,\"type\":\"pie\"}],\"scatter3d\":[{\"line\":{\"colorbar\":{\"outlinewidth\":0,\"ticks\":\"\"}},\"marker\":{\"colorbar\":{\"outlinewidth\":0,\"ticks\":\"\"}},\"type\":\"scatter3d\"}],\"scattercarpet\":[{\"marker\":{\"colorbar\":{\"outlinewidth\":0,\"ticks\":\"\"}},\"type\":\"scattercarpet\"}],\"scattergeo\":[{\"marker\":{\"colorbar\":{\"outlinewidth\":0,\"ticks\":\"\"}},\"type\":\"scattergeo\"}],\"scattergl\":[{\"marker\":{\"colorbar\":{\"outlinewidth\":0,\"ticks\":\"\"}},\"type\":\"scattergl\"}],\"scattermapbox\":[{\"marker\":{\"colorbar\":{\"outlinewidth\":0,\"ticks\":\"\"}},\"type\":\"scattermapbox\"}],\"scatterpolargl\":[{\"marker\":{\"colorbar\":{\"outlinewidth\":0,\"ticks\":\"\"}},\"type\":\"scatterpolargl\"}],\"scatterpolar\":[{\"marker\":{\"colorbar\":{\"outlinewidth\":0,\"ticks\":\"\"}},\"type\":\"scatterpolar\"}],\"scatter\":[{\"marker\":{\"colorbar\":{\"outlinewidth\":0,\"ticks\":\"\"}},\"type\":\"scatter\"}],\"scatterternary\":[{\"marker\":{\"colorbar\":{\"outlinewidth\":0,\"ticks\":\"\"}},\"type\":\"scatterternary\"}],\"surface\":[{\"colorbar\":{\"outlinewidth\":0,\"ticks\":\"\"},\"colorscale\":[[0.0,\"#0d0887\"],[0.1111111111111111,\"#46039f\"],[0.2222222222222222,\"#7201a8\"],[0.3333333333333333,\"#9c179e\"],[0.4444444444444444,\"#bd3786\"],[0.5555555555555556,\"#d8576b\"],[0.6666666666666666,\"#ed7953\"],[0.7777777777777778,\"#fb9f3a\"],[0.8888888888888888,\"#fdca26\"],[1.0,\"#f0f921\"]],\"type\":\"surface\"}],\"table\":[{\"cells\":{\"fill\":{\"color\":\"#EBF0F8\"},\"line\":{\"color\":\"white\"}},\"header\":{\"fill\":{\"color\":\"#C8D4E3\"},\"line\":{\"color\":\"white\"}},\"type\":\"table\"}]},\"layout\":{\"annotationdefaults\":{\"arrowcolor\":\"#2a3f5f\",\"arrowhead\":0,\"arrowwidth\":1},\"autotypenumbers\":\"strict\",\"coloraxis\":{\"colorbar\":{\"outlinewidth\":0,\"ticks\":\"\"}},\"colorscale\":{\"diverging\":[[0,\"#8e0152\"],[0.1,\"#c51b7d\"],[0.2,\"#de77ae\"],[0.3,\"#f1b6da\"],[0.4,\"#fde0ef\"],[0.5,\"#f7f7f7\"],[0.6,\"#e6f5d0\"],[0.7,\"#b8e186\"],[0.8,\"#7fbc41\"],[0.9,\"#4d9221\"],[1,\"#276419\"]],\"sequential\":[[0.0,\"#0d0887\"],[0.1111111111111111,\"#46039f\"],[0.2222222222222222,\"#7201a8\"],[0.3333333333333333,\"#9c179e\"],[0.4444444444444444,\"#bd3786\"],[0.5555555555555556,\"#d8576b\"],[0.6666666666666666,\"#ed7953\"],[0.7777777777777778,\"#fb9f3a\"],[0.8888888888888888,\"#fdca26\"],[1.0,\"#f0f921\"]],\"sequentialminus\":[[0.0,\"#0d0887\"],[0.1111111111111111,\"#46039f\"],[0.2222222222222222,\"#7201a8\"],[0.3333333333333333,\"#9c179e\"],[0.4444444444444444,\"#bd3786\"],[0.5555555555555556,\"#d8576b\"],[0.6666666666666666,\"#ed7953\"],[0.7777777777777778,\"#fb9f3a\"],[0.8888888888888888,\"#fdca26\"],[1.0,\"#f0f921\"]]},\"colorway\":[\"#636efa\",\"#EF553B\",\"#00cc96\",\"#ab63fa\",\"#FFA15A\",\"#19d3f3\",\"#FF6692\",\"#B6E880\",\"#FF97FF\",\"#FECB52\"],\"font\":{\"color\":\"#2a3f5f\"},\"geo\":{\"bgcolor\":\"white\",\"lakecolor\":\"white\",\"landcolor\":\"#E5ECF6\",\"showlakes\":true,\"showland\":true,\"subunitcolor\":\"white\"},\"hoverlabel\":{\"align\":\"left\"},\"hovermode\":\"closest\",\"mapbox\":{\"style\":\"light\"},\"paper_bgcolor\":\"white\",\"plot_bgcolor\":\"#E5ECF6\",\"polar\":{\"angularaxis\":{\"gridcolor\":\"white\",\"linecolor\":\"white\",\"ticks\":\"\"},\"bgcolor\":\"#E5ECF6\",\"radialaxis\":{\"gridcolor\":\"white\",\"linecolor\":\"white\",\"ticks\":\"\"}},\"scene\":{\"xaxis\":{\"backgroundcolor\":\"#E5ECF6\",\"gridcolor\":\"white\",\"gridwidth\":2,\"linecolor\":\"white\",\"showbackground\":true,\"ticks\":\"\",\"zerolinecolor\":\"white\"},\"yaxis\":{\"backgroundcolor\":\"#E5ECF6\",\"gridcolor\":\"white\",\"gridwidth\":2,\"linecolor\":\"white\",\"showbackground\":true,\"ticks\":\"\",\"zerolinecolor\":\"white\"},\"zaxis\":{\"backgroundcolor\":\"#E5ECF6\",\"gridcolor\":\"white\",\"gridwidth\":2,\"linecolor\":\"white\",\"showbackground\":true,\"ticks\":\"\",\"zerolinecolor\":\"white\"}},\"shapedefaults\":{\"line\":{\"color\":\"#2a3f5f\"}},\"ternary\":{\"aaxis\":{\"gridcolor\":\"white\",\"linecolor\":\"white\",\"ticks\":\"\"},\"baxis\":{\"gridcolor\":\"white\",\"linecolor\":\"white\",\"ticks\":\"\"},\"bgcolor\":\"#E5ECF6\",\"caxis\":{\"gridcolor\":\"white\",\"linecolor\":\"white\",\"ticks\":\"\"}},\"title\":{\"x\":0.05},\"xaxis\":{\"automargin\":true,\"gridcolor\":\"white\",\"linecolor\":\"white\",\"ticks\":\"\",\"title\":{\"standoff\":15},\"zerolinecolor\":\"white\",\"zerolinewidth\":2},\"yaxis\":{\"automargin\":true,\"gridcolor\":\"white\",\"linecolor\":\"white\",\"ticks\":\"\",\"title\":{\"standoff\":15},\"zerolinecolor\":\"white\",\"zerolinewidth\":2}}},\"title\":{\"font\":{\"color\":\"#4D5663\"}},\"xaxis\":{\"gridcolor\":\"#E1E5ED\",\"showgrid\":true,\"tickfont\":{\"color\":\"#4D5663\"},\"title\":{\"font\":{\"color\":\"#4D5663\"},\"text\":\"\"},\"zerolinecolor\":\"#E1E5ED\"},\"yaxis\":{\"gridcolor\":\"#E1E5ED\",\"showgrid\":true,\"tickfont\":{\"color\":\"#4D5663\"},\"title\":{\"font\":{\"color\":\"#4D5663\"},\"text\":\"\"},\"zerolinecolor\":\"#E1E5ED\"}},                        {\"showLink\": true, \"linkText\": \"Export to plot.ly\", \"plotlyServerURL\": \"https://plot.ly\", \"responsive\": true}                    ).then(function(){\n",
       "                            \n",
       "var gd = document.getElementById('5e956e7d-a2a4-43bc-888c-eb249b9bba98');\n",
       "var x = new MutationObserver(function (mutations, observer) {{\n",
       "        var display = window.getComputedStyle(gd).display;\n",
       "        if (!display || display === 'none') {{\n",
       "            console.log([gd, 'removed!']);\n",
       "            Plotly.purge(gd);\n",
       "            observer.disconnect();\n",
       "        }}\n",
       "}});\n",
       "\n",
       "// Listen for the removal of the full notebook cells\n",
       "var notebookContainer = gd.closest('#notebook-container');\n",
       "if (notebookContainer) {{\n",
       "    x.observe(notebookContainer, {childList: true});\n",
       "}}\n",
       "\n",
       "// Listen for the clearing of the current output cell\n",
       "var outputEl = gd.closest('.output');\n",
       "if (outputEl) {{\n",
       "    x.observe(outputEl, {childList: true});\n",
       "}}\n",
       "\n",
       "                        })                };                });            </script>        </div>"
      ]
     },
     "metadata": {},
     "output_type": "display_data"
    }
   ],
   "source": [
    "df1.iplot(kind=\"bubble\", x=\"A\", y=\"B\", size=\"C\")"
   ]
  },
  {
   "cell_type": "code",
   "execution_count": 38,
   "id": "f96ebc1a",
   "metadata": {},
   "outputs": [
    {
     "data": {
      "application/vnd.plotly.v1+json": {
       "config": {
        "linkText": "Export to plot.ly",
        "plotlyServerURL": "https://plot.ly",
        "showLink": true
       },
       "data": [
        {
         "histfunc": "count",
         "histnorm": "",
         "marker": {
          "color": "rgba(255, 153, 51, 1.0)",
          "line": {
           "color": "#4D5663",
           "width": 1.3
          }
         },
         "name": "A",
         "nbinsx": 10,
         "opacity": 0.8,
         "orientation": "v",
         "type": "histogram",
         "x": [
          -1.309527744420406,
          -0.43461471341730906,
          -0.6595622762097307,
          -1.8087704558636009,
          -0.21507624397672268,
          -0.38856874633371274,
          0.39323640994019327,
          -1.5768836282447465,
          0.22178931809236666,
          -0.9431156572498557,
          -1.9102029239374554,
          -0.477769555673728,
          -1.089425538238347,
          -1.0357538495845635,
          1.2252166381530092,
          0.37107402061163053,
          -1.158252094622077,
          1.3695745789888654,
          -1.01825182367802,
          -1.7722468986897701,
          -0.2168013554876337,
          0.4755191701253149,
          -0.31047009102309275,
          -1.1396124818852957,
          -0.6999173593661061,
          -1.1371155062620095,
          -0.4910949440770942,
          -1.3621373445513156,
          1.0766873032479476,
          0.525928465473397,
          0.18338106944618113,
          -0.1505291458789072,
          1.8846432497944905,
          1.0605122306404768,
          -0.962144311117594,
          -0.1476914461688686,
          0.7205523460441676,
          -1.7892639026055361,
          -1.0548281912697273,
          1.7356821752881395,
          0.7623513817996954,
          0.3727625957984767,
          0.44451049023253525,
          1.4676975285083917,
          0.4814662048334038,
          0.6221661115520754,
          0.2370320573531419,
          -0.7473679255146413,
          0.6347836687579423,
          1.2138547818174472,
          -1.1115098285811436,
          -0.741420524794404,
          -1.7765108665886487,
          0.810113366475899,
          0.47669154362011024,
          -0.4134257725397369,
          0.765857785416105,
          -0.965188219950402,
          -1.4789137379581754,
          -0.6434993507816088,
          1.1172937554301525,
          -0.495694212475232,
          -0.387836058015111,
          -1.5016648314212626,
          0.1203043588212254,
          1.2088376698736039,
          -0.07194726263107164,
          0.15389399355134598,
          -0.6401244083647915,
          -0.08273948253381846,
          -1.3592394732882558,
          -1.9885105671375787,
          0.038505035218103376,
          -1.24448668315206,
          1.0295590758843345,
          0.33682960031944126,
          0.016429352896183677,
          -0.8237702468602085,
          -0.18449476647468116,
          1.3095212684401376,
          1.3587986132723278,
          -0.6051067858004684,
          -1.6266419057988017,
          1.0042132470590117,
          -0.941415138673278,
          -0.22540308480569024,
          1.3745114441408741,
          0.9480792162916354,
          -0.6327623894459151,
          -0.4249154919293121,
          0.6437607373691273,
          -0.023221467246056046,
          -0.11276162648807049,
          -1.4583110545841829,
          1.2612779604538449,
          1.3478794165153494,
          -0.380129484919786,
          1.451947890281281,
          -1.1301928995517123,
          -1.9753921455165973
         ],
         "xaxis": "x",
         "yaxis": "y"
        },
        {
         "line": {
          "color": "rgba(128, 128, 128, 1.0)",
          "dash": "solid",
          "shape": "linear",
          "width": 1.3
         },
         "marker": {
          "size": 2,
          "symbol": "circle"
         },
         "mode": "markers",
         "name": "A",
         "text": "",
         "type": "scatter",
         "x": [
          -0.3135045106961009,
          0.27106706687477644,
          0.6119471965110417,
          0.3009908952710065,
          -1.7296433552727768,
          -0.8395951219175694,
          0.16250707660228472,
          0.5055405458960701,
          -0.832888025408523,
          0.9109193800627438,
          -0.26573228768153007,
          -1.048508086534288,
          2.3935354905650352,
          -0.6120845323882204,
          0.2794630660004881,
          1.627451053655647,
          -0.6851014265020644,
          -0.05563959335930016,
          -0.135370377466742,
          1.1825219023457476,
          0.09104646907592046,
          -0.23291348461501518,
          0.7536213073112578,
          0.4852510554975916,
          -0.11598911508126203,
          1.0968318367465173,
          0.18417105335675082,
          -1.3013280121311601,
          -1.5523879941424124,
          -0.32369753741302265,
          0.12823504654106158,
          0.3235706409631143,
          -0.39016583384232667,
          -1.3483469875160243,
          -0.8778043256258503,
          -0.6566745979642085,
          -0.8717450588581389,
          -0.6555475573355242,
          1.1869681326633754,
          -1.6754949879668986,
          -1.0166574270487643,
          0.30084494827373853,
          -0.5569631288734428,
          -0.567768653274891,
          -1.240819396653744,
          0.07056845771157615,
          1.7622707398041684,
          0.18529340390041166,
          -0.9353562273967888,
          -0.6885393911334184,
          1.5338969581422393,
          1.5892838914058174,
          -1.614263003322591,
          -0.15402669237130096,
          1.159444826889843,
          0.08959925841560044,
          -0.7533113996854893,
          1.905234347898969,
          0.7307657905729821,
          -0.29285654487137897,
          1.7069381234928882,
          0.5380807773841841,
          -0.633045084982813,
          -1.7779188737619718,
          1.4017987066713467,
          -0.08474720608466335,
          0.8776521766497231,
          0.4641730284714228,
          0.45125150792532565,
          0.060392922247830425,
          0.8784203727592276,
          -0.1688059199189494,
          -1.0896619947083495,
          0.0171159299839232,
          0.08104028200629111,
          2.1271586379364784,
          -0.976903741909578,
          1.1376357527698266,
          -0.00012090109272308358,
          1.6484473114720377,
          -1.0772133462637432,
          -0.9150194793716977,
          -0.13908916224241138,
          1.420245945456923,
          -0.8638449427158882,
          0.35946872217060843,
          0.353760398347842,
          -0.034214007117311096,
          0.42062282065593914,
          -0.4119607557910614,
          -2.246530449988816,
          0.6572380023859556,
          1.5371929318791877,
          0.7047641075968462,
          0.2758760032749365,
          0.3641139356290369,
          -1.7452790367604647,
          0.7507657464946539,
          0.7660509128626469,
          -1.918014533068927
         ],
         "xaxis": "x2",
         "y": [
          -1.309527744420406,
          -0.43461471341730906,
          -0.6595622762097307,
          -1.8087704558636009,
          -0.21507624397672268,
          -0.38856874633371274,
          0.39323640994019327,
          -1.5768836282447465,
          0.22178931809236666,
          -0.9431156572498557,
          -1.9102029239374554,
          -0.477769555673728,
          -1.089425538238347,
          -1.0357538495845635,
          1.2252166381530092,
          0.37107402061163053,
          -1.158252094622077,
          1.3695745789888654,
          -1.01825182367802,
          -1.7722468986897701,
          -0.2168013554876337,
          0.4755191701253149,
          -0.31047009102309275,
          -1.1396124818852957,
          -0.6999173593661061,
          -1.1371155062620095,
          -0.4910949440770942,
          -1.3621373445513156,
          1.0766873032479476,
          0.525928465473397,
          0.18338106944618113,
          -0.1505291458789072,
          1.8846432497944905,
          1.0605122306404768,
          -0.962144311117594,
          -0.1476914461688686,
          0.7205523460441676,
          -1.7892639026055361,
          -1.0548281912697273,
          1.7356821752881395,
          0.7623513817996954,
          0.3727625957984767,
          0.44451049023253525,
          1.4676975285083917,
          0.4814662048334038,
          0.6221661115520754,
          0.2370320573531419,
          -0.7473679255146413,
          0.6347836687579423,
          1.2138547818174472,
          -1.1115098285811436,
          -0.741420524794404,
          -1.7765108665886487,
          0.810113366475899,
          0.47669154362011024,
          -0.4134257725397369,
          0.765857785416105,
          -0.965188219950402,
          -1.4789137379581754,
          -0.6434993507816088,
          1.1172937554301525,
          -0.495694212475232,
          -0.387836058015111,
          -1.5016648314212626,
          0.1203043588212254,
          1.2088376698736039,
          -0.07194726263107164,
          0.15389399355134598,
          -0.6401244083647915,
          -0.08273948253381846,
          -1.3592394732882558,
          -1.9885105671375787,
          0.038505035218103376,
          -1.24448668315206,
          1.0295590758843345,
          0.33682960031944126,
          0.016429352896183677,
          -0.8237702468602085,
          -0.18449476647468116,
          1.3095212684401376,
          1.3587986132723278,
          -0.6051067858004684,
          -1.6266419057988017,
          1.0042132470590117,
          -0.941415138673278,
          -0.22540308480569024,
          1.3745114441408741,
          0.9480792162916354,
          -0.6327623894459151,
          -0.4249154919293121,
          0.6437607373691273,
          -0.023221467246056046,
          -0.11276162648807049,
          -1.4583110545841829,
          1.2612779604538449,
          1.3478794165153494,
          -0.380129484919786,
          1.451947890281281,
          -1.1301928995517123,
          -1.9753921455165973
         ],
         "yaxis": "y2"
        },
        {
         "line": {
          "color": "rgba(128, 128, 128, 1.0)",
          "dash": "solid",
          "shape": "linear",
          "width": 1.3
         },
         "marker": {
          "size": 2,
          "symbol": "circle"
         },
         "mode": "markers",
         "name": "A",
         "text": "",
         "type": "scatter",
         "x": [
          -0.2575191113048818,
          1.320500761745751,
          0.5393212069591781,
          0.04219896750035622,
          1.698198936943047,
          0.5028199669499871,
          -0.1498454934058726,
          0.9633475163625961,
          -1.339015637048091,
          -0.6182770329783752,
          -0.33591206203027124,
          -0.18188932275864927,
          -0.5454887664402375,
          -0.6883932246837449,
          -0.30489076816095145,
          -1.0100830280007966,
          -1.0655391492630855,
          -0.12015197749752969,
          0.5860522797870924,
          0.4192151567643949,
          -1.3353733919720032,
          -0.031402120800871076,
          -2.1335260348390843,
          -0.3441969850120935,
          -1.7542223093498468,
          -0.295042033863205,
          -0.18863870771689262,
          1.552840719836552,
          -0.4316870464612591,
          -0.7613274261883847,
          0.14947076189898487,
          0.48595016476934905,
          -0.7926945550247574,
          0.7731965931118994,
          -0.6883938465753762,
          -2.225079507875566,
          0.5423950945731457,
          -0.34085758855813325,
          1.7417998243184183,
          -0.338719869712993,
          -1.2565129037379519,
          -0.4862357073192635,
          -0.26247542513880223,
          1.371966678906609,
          0.06204981495579611,
          0.1435830366946529,
          -0.09818086024700041,
          -1.0065206400186884,
          0.8816406316046609,
          1.365273883971452,
          -0.3084988064482174,
          -1.0107121741822607,
          0.13115805878508405,
          1.4331106094227337,
          0.1347015805384705,
          -1.2873072839233077,
          0.4520970966083857,
          -1.2803743865230197,
          1.1250400099747564,
          -0.26260192722481174,
          2.7583588538460173,
          0.3145755605376287,
          0.6148574032845244,
          -0.2865467255124006,
          -0.5077597544678613,
          0.34207611262169624,
          0.1176418668857983,
          0.6599108232966143,
          0.20697791306697302,
          -1.5497405311923949,
          -1.2399904990512816,
          -0.5418927010115602,
          -0.006076378393536418,
          1.396970316349856,
          0.29841528419805907,
          -0.5186695251409451,
          2.5370307553948255,
          1.4138531800659624,
          0.850227769881565,
          -0.5589241218200475,
          0.9370408392367986,
          -0.9036863474832941,
          -1.2731512830332214,
          0.43070386279979206,
          1.004596274576969,
          0.30830106177054645,
          0.15488032937692175,
          -1.0238457042133868,
          -1.0118295214957163,
          0.08967082143098096,
          -0.9042923514152782,
          -0.7405311429356125,
          -0.8425526874977495,
          1.1428674009459987,
          -1.1631122871541602,
          -0.47384436477048175,
          -1.0361201255211805,
          1.2289487011273375,
          -0.4323744236158504,
          -0.12486789140963928
         ],
         "xaxis": "x3",
         "y": [
          -1.309527744420406,
          -0.43461471341730906,
          -0.6595622762097307,
          -1.8087704558636009,
          -0.21507624397672268,
          -0.38856874633371274,
          0.39323640994019327,
          -1.5768836282447465,
          0.22178931809236666,
          -0.9431156572498557,
          -1.9102029239374554,
          -0.477769555673728,
          -1.089425538238347,
          -1.0357538495845635,
          1.2252166381530092,
          0.37107402061163053,
          -1.158252094622077,
          1.3695745789888654,
          -1.01825182367802,
          -1.7722468986897701,
          -0.2168013554876337,
          0.4755191701253149,
          -0.31047009102309275,
          -1.1396124818852957,
          -0.6999173593661061,
          -1.1371155062620095,
          -0.4910949440770942,
          -1.3621373445513156,
          1.0766873032479476,
          0.525928465473397,
          0.18338106944618113,
          -0.1505291458789072,
          1.8846432497944905,
          1.0605122306404768,
          -0.962144311117594,
          -0.1476914461688686,
          0.7205523460441676,
          -1.7892639026055361,
          -1.0548281912697273,
          1.7356821752881395,
          0.7623513817996954,
          0.3727625957984767,
          0.44451049023253525,
          1.4676975285083917,
          0.4814662048334038,
          0.6221661115520754,
          0.2370320573531419,
          -0.7473679255146413,
          0.6347836687579423,
          1.2138547818174472,
          -1.1115098285811436,
          -0.741420524794404,
          -1.7765108665886487,
          0.810113366475899,
          0.47669154362011024,
          -0.4134257725397369,
          0.765857785416105,
          -0.965188219950402,
          -1.4789137379581754,
          -0.6434993507816088,
          1.1172937554301525,
          -0.495694212475232,
          -0.387836058015111,
          -1.5016648314212626,
          0.1203043588212254,
          1.2088376698736039,
          -0.07194726263107164,
          0.15389399355134598,
          -0.6401244083647915,
          -0.08273948253381846,
          -1.3592394732882558,
          -1.9885105671375787,
          0.038505035218103376,
          -1.24448668315206,
          1.0295590758843345,
          0.33682960031944126,
          0.016429352896183677,
          -0.8237702468602085,
          -0.18449476647468116,
          1.3095212684401376,
          1.3587986132723278,
          -0.6051067858004684,
          -1.6266419057988017,
          1.0042132470590117,
          -0.941415138673278,
          -0.22540308480569024,
          1.3745114441408741,
          0.9480792162916354,
          -0.6327623894459151,
          -0.4249154919293121,
          0.6437607373691273,
          -0.023221467246056046,
          -0.11276162648807049,
          -1.4583110545841829,
          1.2612779604538449,
          1.3478794165153494,
          -0.380129484919786,
          1.451947890281281,
          -1.1301928995517123,
          -1.9753921455165973
         ],
         "yaxis": "y3"
        },
        {
         "line": {
          "color": "rgba(128, 128, 128, 1.0)",
          "dash": "solid",
          "shape": "linear",
          "width": 1.3
         },
         "marker": {
          "size": 2,
          "symbol": "circle"
         },
         "mode": "markers",
         "name": "A",
         "text": "",
         "type": "scatter",
         "x": [
          0.9233664551727817,
          0.2187068108806523,
          0.11865198024420574,
          -1.5579186623042052,
          -0.4672071562814396,
          3.0066626935308456,
          -0.32655014387269754,
          0.10772210250884771,
          0.8844221038072054,
          1.7722565392187368,
          1.184992792776857,
          0.2108781835560796,
          -1.1148099764931805,
          -4.345427928625704e-05,
          -1.983953129359126,
          -0.9649214601388116,
          -0.22125091561265933,
          1.2273455531899071,
          -0.0575385070370791,
          -0.11781601230391926,
          1.9166344516297773,
          -1.0970613676362393,
          0.43934146242854094,
          1.2762258985477217,
          0.07447449662748581,
          3.0919869419630976,
          0.5973122040456079,
          -0.7050905523339075,
          -0.4999112205302632,
          -0.03493124465617314,
          -0.7617881698096332,
          1.3797053254926674,
          -0.2215403633239477,
          0.6925481305262045,
          0.06167550672697119,
          -0.40963611935775956,
          0.35893243125669266,
          -0.41745743030591087,
          0.03015429313705,
          0.15602988591660222,
          -0.26787146265085654,
          -0.41417028686894974,
          1.5609792080758211,
          1.194969375259976,
          -0.6551383967781365,
          -1.755053789996685,
          1.5159309217952428,
          -1.28875100441881,
          -0.911926164600893,
          -0.5474702131804486,
          0.4047143059595249,
          -0.43079197819212006,
          0.08797226941624581,
          -0.6908029115601726,
          0.7242905167980132,
          0.23214396422851524,
          0.7247353002278414,
          1.9452025367983576,
          -0.6546861016814408,
          -0.6799974252683934,
          -0.5317611724410563,
          1.4405271470855314,
          1.1115247500755756,
          0.589893192958994,
          0.4824437508914874,
          1.377178678619452,
          -0.6862284977820776,
          0.13642842203149558,
          -0.8947830787665288,
          -1.2215509521492065,
          -0.9851235704440013,
          0.2769495490795035,
          -0.5492866868876993,
          -0.45589525253369273,
          -0.49258897950070984,
          -0.2268613593796678,
          -1.0595067963615048,
          -1.163113884097818,
          -2.131695933566539,
          0.42063353723874125,
          1.5399342918829222,
          -0.6831121602536194,
          0.7561167662337182,
          -1.1136598817381878,
          0.026303240811561608,
          -0.11853482107150998,
          -0.7999930888845683,
          0.6608875939920911,
          -0.4310373559079466,
          -0.6088333250428458,
          -0.8584547980700439,
          -0.18485197733031306,
          0.7591281136316559,
          0.4505866865518529,
          0.39346588693495527,
          0.2764004766793301,
          0.2849159220159852,
          0.2464470334073424,
          -1.9666741818132207,
          -0.11656813004260916
         ],
         "xaxis": "x4",
         "y": [
          -1.309527744420406,
          -0.43461471341730906,
          -0.6595622762097307,
          -1.8087704558636009,
          -0.21507624397672268,
          -0.38856874633371274,
          0.39323640994019327,
          -1.5768836282447465,
          0.22178931809236666,
          -0.9431156572498557,
          -1.9102029239374554,
          -0.477769555673728,
          -1.089425538238347,
          -1.0357538495845635,
          1.2252166381530092,
          0.37107402061163053,
          -1.158252094622077,
          1.3695745789888654,
          -1.01825182367802,
          -1.7722468986897701,
          -0.2168013554876337,
          0.4755191701253149,
          -0.31047009102309275,
          -1.1396124818852957,
          -0.6999173593661061,
          -1.1371155062620095,
          -0.4910949440770942,
          -1.3621373445513156,
          1.0766873032479476,
          0.525928465473397,
          0.18338106944618113,
          -0.1505291458789072,
          1.8846432497944905,
          1.0605122306404768,
          -0.962144311117594,
          -0.1476914461688686,
          0.7205523460441676,
          -1.7892639026055361,
          -1.0548281912697273,
          1.7356821752881395,
          0.7623513817996954,
          0.3727625957984767,
          0.44451049023253525,
          1.4676975285083917,
          0.4814662048334038,
          0.6221661115520754,
          0.2370320573531419,
          -0.7473679255146413,
          0.6347836687579423,
          1.2138547818174472,
          -1.1115098285811436,
          -0.741420524794404,
          -1.7765108665886487,
          0.810113366475899,
          0.47669154362011024,
          -0.4134257725397369,
          0.765857785416105,
          -0.965188219950402,
          -1.4789137379581754,
          -0.6434993507816088,
          1.1172937554301525,
          -0.495694212475232,
          -0.387836058015111,
          -1.5016648314212626,
          0.1203043588212254,
          1.2088376698736039,
          -0.07194726263107164,
          0.15389399355134598,
          -0.6401244083647915,
          -0.08273948253381846,
          -1.3592394732882558,
          -1.9885105671375787,
          0.038505035218103376,
          -1.24448668315206,
          1.0295590758843345,
          0.33682960031944126,
          0.016429352896183677,
          -0.8237702468602085,
          -0.18449476647468116,
          1.3095212684401376,
          1.3587986132723278,
          -0.6051067858004684,
          -1.6266419057988017,
          1.0042132470590117,
          -0.941415138673278,
          -0.22540308480569024,
          1.3745114441408741,
          0.9480792162916354,
          -0.6327623894459151,
          -0.4249154919293121,
          0.6437607373691273,
          -0.023221467246056046,
          -0.11276162648807049,
          -1.4583110545841829,
          1.2612779604538449,
          1.3478794165153494,
          -0.380129484919786,
          1.451947890281281,
          -1.1301928995517123,
          -1.9753921455165973
         ],
         "yaxis": "y4"
        },
        {
         "line": {
          "color": "rgba(128, 128, 128, 1.0)",
          "dash": "solid",
          "shape": "linear",
          "width": 1.3
         },
         "marker": {
          "size": 2,
          "symbol": "circle"
         },
         "mode": "markers",
         "name": "B",
         "text": "",
         "type": "scatter",
         "x": [
          -1.309527744420406,
          -0.43461471341730906,
          -0.6595622762097307,
          -1.8087704558636009,
          -0.21507624397672268,
          -0.38856874633371274,
          0.39323640994019327,
          -1.5768836282447465,
          0.22178931809236666,
          -0.9431156572498557,
          -1.9102029239374554,
          -0.477769555673728,
          -1.089425538238347,
          -1.0357538495845635,
          1.2252166381530092,
          0.37107402061163053,
          -1.158252094622077,
          1.3695745789888654,
          -1.01825182367802,
          -1.7722468986897701,
          -0.2168013554876337,
          0.4755191701253149,
          -0.31047009102309275,
          -1.1396124818852957,
          -0.6999173593661061,
          -1.1371155062620095,
          -0.4910949440770942,
          -1.3621373445513156,
          1.0766873032479476,
          0.525928465473397,
          0.18338106944618113,
          -0.1505291458789072,
          1.8846432497944905,
          1.0605122306404768,
          -0.962144311117594,
          -0.1476914461688686,
          0.7205523460441676,
          -1.7892639026055361,
          -1.0548281912697273,
          1.7356821752881395,
          0.7623513817996954,
          0.3727625957984767,
          0.44451049023253525,
          1.4676975285083917,
          0.4814662048334038,
          0.6221661115520754,
          0.2370320573531419,
          -0.7473679255146413,
          0.6347836687579423,
          1.2138547818174472,
          -1.1115098285811436,
          -0.741420524794404,
          -1.7765108665886487,
          0.810113366475899,
          0.47669154362011024,
          -0.4134257725397369,
          0.765857785416105,
          -0.965188219950402,
          -1.4789137379581754,
          -0.6434993507816088,
          1.1172937554301525,
          -0.495694212475232,
          -0.387836058015111,
          -1.5016648314212626,
          0.1203043588212254,
          1.2088376698736039,
          -0.07194726263107164,
          0.15389399355134598,
          -0.6401244083647915,
          -0.08273948253381846,
          -1.3592394732882558,
          -1.9885105671375787,
          0.038505035218103376,
          -1.24448668315206,
          1.0295590758843345,
          0.33682960031944126,
          0.016429352896183677,
          -0.8237702468602085,
          -0.18449476647468116,
          1.3095212684401376,
          1.3587986132723278,
          -0.6051067858004684,
          -1.6266419057988017,
          1.0042132470590117,
          -0.941415138673278,
          -0.22540308480569024,
          1.3745114441408741,
          0.9480792162916354,
          -0.6327623894459151,
          -0.4249154919293121,
          0.6437607373691273,
          -0.023221467246056046,
          -0.11276162648807049,
          -1.4583110545841829,
          1.2612779604538449,
          1.3478794165153494,
          -0.380129484919786,
          1.451947890281281,
          -1.1301928995517123,
          -1.9753921455165973
         ],
         "xaxis": "x5",
         "y": [
          -0.3135045106961009,
          0.27106706687477644,
          0.6119471965110417,
          0.3009908952710065,
          -1.7296433552727768,
          -0.8395951219175694,
          0.16250707660228472,
          0.5055405458960701,
          -0.832888025408523,
          0.9109193800627438,
          -0.26573228768153007,
          -1.048508086534288,
          2.3935354905650352,
          -0.6120845323882204,
          0.2794630660004881,
          1.627451053655647,
          -0.6851014265020644,
          -0.05563959335930016,
          -0.135370377466742,
          1.1825219023457476,
          0.09104646907592046,
          -0.23291348461501518,
          0.7536213073112578,
          0.4852510554975916,
          -0.11598911508126203,
          1.0968318367465173,
          0.18417105335675082,
          -1.3013280121311601,
          -1.5523879941424124,
          -0.32369753741302265,
          0.12823504654106158,
          0.3235706409631143,
          -0.39016583384232667,
          -1.3483469875160243,
          -0.8778043256258503,
          -0.6566745979642085,
          -0.8717450588581389,
          -0.6555475573355242,
          1.1869681326633754,
          -1.6754949879668986,
          -1.0166574270487643,
          0.30084494827373853,
          -0.5569631288734428,
          -0.567768653274891,
          -1.240819396653744,
          0.07056845771157615,
          1.7622707398041684,
          0.18529340390041166,
          -0.9353562273967888,
          -0.6885393911334184,
          1.5338969581422393,
          1.5892838914058174,
          -1.614263003322591,
          -0.15402669237130096,
          1.159444826889843,
          0.08959925841560044,
          -0.7533113996854893,
          1.905234347898969,
          0.7307657905729821,
          -0.29285654487137897,
          1.7069381234928882,
          0.5380807773841841,
          -0.633045084982813,
          -1.7779188737619718,
          1.4017987066713467,
          -0.08474720608466335,
          0.8776521766497231,
          0.4641730284714228,
          0.45125150792532565,
          0.060392922247830425,
          0.8784203727592276,
          -0.1688059199189494,
          -1.0896619947083495,
          0.0171159299839232,
          0.08104028200629111,
          2.1271586379364784,
          -0.976903741909578,
          1.1376357527698266,
          -0.00012090109272308358,
          1.6484473114720377,
          -1.0772133462637432,
          -0.9150194793716977,
          -0.13908916224241138,
          1.420245945456923,
          -0.8638449427158882,
          0.35946872217060843,
          0.353760398347842,
          -0.034214007117311096,
          0.42062282065593914,
          -0.4119607557910614,
          -2.246530449988816,
          0.6572380023859556,
          1.5371929318791877,
          0.7047641075968462,
          0.2758760032749365,
          0.3641139356290369,
          -1.7452790367604647,
          0.7507657464946539,
          0.7660509128626469,
          -1.918014533068927
         ],
         "yaxis": "y5"
        },
        {
         "histfunc": "count",
         "histnorm": "",
         "marker": {
          "color": "rgba(55, 128, 191, 1.0)",
          "line": {
           "color": "#4D5663",
           "width": 1.3
          }
         },
         "name": "B",
         "nbinsx": 10,
         "opacity": 0.8,
         "orientation": "v",
         "type": "histogram",
         "x": [
          -0.3135045106961009,
          0.27106706687477644,
          0.6119471965110417,
          0.3009908952710065,
          -1.7296433552727768,
          -0.8395951219175694,
          0.16250707660228472,
          0.5055405458960701,
          -0.832888025408523,
          0.9109193800627438,
          -0.26573228768153007,
          -1.048508086534288,
          2.3935354905650352,
          -0.6120845323882204,
          0.2794630660004881,
          1.627451053655647,
          -0.6851014265020644,
          -0.05563959335930016,
          -0.135370377466742,
          1.1825219023457476,
          0.09104646907592046,
          -0.23291348461501518,
          0.7536213073112578,
          0.4852510554975916,
          -0.11598911508126203,
          1.0968318367465173,
          0.18417105335675082,
          -1.3013280121311601,
          -1.5523879941424124,
          -0.32369753741302265,
          0.12823504654106158,
          0.3235706409631143,
          -0.39016583384232667,
          -1.3483469875160243,
          -0.8778043256258503,
          -0.6566745979642085,
          -0.8717450588581389,
          -0.6555475573355242,
          1.1869681326633754,
          -1.6754949879668986,
          -1.0166574270487643,
          0.30084494827373853,
          -0.5569631288734428,
          -0.567768653274891,
          -1.240819396653744,
          0.07056845771157615,
          1.7622707398041684,
          0.18529340390041166,
          -0.9353562273967888,
          -0.6885393911334184,
          1.5338969581422393,
          1.5892838914058174,
          -1.614263003322591,
          -0.15402669237130096,
          1.159444826889843,
          0.08959925841560044,
          -0.7533113996854893,
          1.905234347898969,
          0.7307657905729821,
          -0.29285654487137897,
          1.7069381234928882,
          0.5380807773841841,
          -0.633045084982813,
          -1.7779188737619718,
          1.4017987066713467,
          -0.08474720608466335,
          0.8776521766497231,
          0.4641730284714228,
          0.45125150792532565,
          0.060392922247830425,
          0.8784203727592276,
          -0.1688059199189494,
          -1.0896619947083495,
          0.0171159299839232,
          0.08104028200629111,
          2.1271586379364784,
          -0.976903741909578,
          1.1376357527698266,
          -0.00012090109272308358,
          1.6484473114720377,
          -1.0772133462637432,
          -0.9150194793716977,
          -0.13908916224241138,
          1.420245945456923,
          -0.8638449427158882,
          0.35946872217060843,
          0.353760398347842,
          -0.034214007117311096,
          0.42062282065593914,
          -0.4119607557910614,
          -2.246530449988816,
          0.6572380023859556,
          1.5371929318791877,
          0.7047641075968462,
          0.2758760032749365,
          0.3641139356290369,
          -1.7452790367604647,
          0.7507657464946539,
          0.7660509128626469,
          -1.918014533068927
         ],
         "xaxis": "x6",
         "yaxis": "y6"
        },
        {
         "line": {
          "color": "rgba(128, 128, 128, 1.0)",
          "dash": "solid",
          "shape": "linear",
          "width": 1.3
         },
         "marker": {
          "size": 2,
          "symbol": "circle"
         },
         "mode": "markers",
         "name": "B",
         "text": "",
         "type": "scatter",
         "x": [
          -0.2575191113048818,
          1.320500761745751,
          0.5393212069591781,
          0.04219896750035622,
          1.698198936943047,
          0.5028199669499871,
          -0.1498454934058726,
          0.9633475163625961,
          -1.339015637048091,
          -0.6182770329783752,
          -0.33591206203027124,
          -0.18188932275864927,
          -0.5454887664402375,
          -0.6883932246837449,
          -0.30489076816095145,
          -1.0100830280007966,
          -1.0655391492630855,
          -0.12015197749752969,
          0.5860522797870924,
          0.4192151567643949,
          -1.3353733919720032,
          -0.031402120800871076,
          -2.1335260348390843,
          -0.3441969850120935,
          -1.7542223093498468,
          -0.295042033863205,
          -0.18863870771689262,
          1.552840719836552,
          -0.4316870464612591,
          -0.7613274261883847,
          0.14947076189898487,
          0.48595016476934905,
          -0.7926945550247574,
          0.7731965931118994,
          -0.6883938465753762,
          -2.225079507875566,
          0.5423950945731457,
          -0.34085758855813325,
          1.7417998243184183,
          -0.338719869712993,
          -1.2565129037379519,
          -0.4862357073192635,
          -0.26247542513880223,
          1.371966678906609,
          0.06204981495579611,
          0.1435830366946529,
          -0.09818086024700041,
          -1.0065206400186884,
          0.8816406316046609,
          1.365273883971452,
          -0.3084988064482174,
          -1.0107121741822607,
          0.13115805878508405,
          1.4331106094227337,
          0.1347015805384705,
          -1.2873072839233077,
          0.4520970966083857,
          -1.2803743865230197,
          1.1250400099747564,
          -0.26260192722481174,
          2.7583588538460173,
          0.3145755605376287,
          0.6148574032845244,
          -0.2865467255124006,
          -0.5077597544678613,
          0.34207611262169624,
          0.1176418668857983,
          0.6599108232966143,
          0.20697791306697302,
          -1.5497405311923949,
          -1.2399904990512816,
          -0.5418927010115602,
          -0.006076378393536418,
          1.396970316349856,
          0.29841528419805907,
          -0.5186695251409451,
          2.5370307553948255,
          1.4138531800659624,
          0.850227769881565,
          -0.5589241218200475,
          0.9370408392367986,
          -0.9036863474832941,
          -1.2731512830332214,
          0.43070386279979206,
          1.004596274576969,
          0.30830106177054645,
          0.15488032937692175,
          -1.0238457042133868,
          -1.0118295214957163,
          0.08967082143098096,
          -0.9042923514152782,
          -0.7405311429356125,
          -0.8425526874977495,
          1.1428674009459987,
          -1.1631122871541602,
          -0.47384436477048175,
          -1.0361201255211805,
          1.2289487011273375,
          -0.4323744236158504,
          -0.12486789140963928
         ],
         "xaxis": "x7",
         "y": [
          -0.3135045106961009,
          0.27106706687477644,
          0.6119471965110417,
          0.3009908952710065,
          -1.7296433552727768,
          -0.8395951219175694,
          0.16250707660228472,
          0.5055405458960701,
          -0.832888025408523,
          0.9109193800627438,
          -0.26573228768153007,
          -1.048508086534288,
          2.3935354905650352,
          -0.6120845323882204,
          0.2794630660004881,
          1.627451053655647,
          -0.6851014265020644,
          -0.05563959335930016,
          -0.135370377466742,
          1.1825219023457476,
          0.09104646907592046,
          -0.23291348461501518,
          0.7536213073112578,
          0.4852510554975916,
          -0.11598911508126203,
          1.0968318367465173,
          0.18417105335675082,
          -1.3013280121311601,
          -1.5523879941424124,
          -0.32369753741302265,
          0.12823504654106158,
          0.3235706409631143,
          -0.39016583384232667,
          -1.3483469875160243,
          -0.8778043256258503,
          -0.6566745979642085,
          -0.8717450588581389,
          -0.6555475573355242,
          1.1869681326633754,
          -1.6754949879668986,
          -1.0166574270487643,
          0.30084494827373853,
          -0.5569631288734428,
          -0.567768653274891,
          -1.240819396653744,
          0.07056845771157615,
          1.7622707398041684,
          0.18529340390041166,
          -0.9353562273967888,
          -0.6885393911334184,
          1.5338969581422393,
          1.5892838914058174,
          -1.614263003322591,
          -0.15402669237130096,
          1.159444826889843,
          0.08959925841560044,
          -0.7533113996854893,
          1.905234347898969,
          0.7307657905729821,
          -0.29285654487137897,
          1.7069381234928882,
          0.5380807773841841,
          -0.633045084982813,
          -1.7779188737619718,
          1.4017987066713467,
          -0.08474720608466335,
          0.8776521766497231,
          0.4641730284714228,
          0.45125150792532565,
          0.060392922247830425,
          0.8784203727592276,
          -0.1688059199189494,
          -1.0896619947083495,
          0.0171159299839232,
          0.08104028200629111,
          2.1271586379364784,
          -0.976903741909578,
          1.1376357527698266,
          -0.00012090109272308358,
          1.6484473114720377,
          -1.0772133462637432,
          -0.9150194793716977,
          -0.13908916224241138,
          1.420245945456923,
          -0.8638449427158882,
          0.35946872217060843,
          0.353760398347842,
          -0.034214007117311096,
          0.42062282065593914,
          -0.4119607557910614,
          -2.246530449988816,
          0.6572380023859556,
          1.5371929318791877,
          0.7047641075968462,
          0.2758760032749365,
          0.3641139356290369,
          -1.7452790367604647,
          0.7507657464946539,
          0.7660509128626469,
          -1.918014533068927
         ],
         "yaxis": "y7"
        },
        {
         "line": {
          "color": "rgba(128, 128, 128, 1.0)",
          "dash": "solid",
          "shape": "linear",
          "width": 1.3
         },
         "marker": {
          "size": 2,
          "symbol": "circle"
         },
         "mode": "markers",
         "name": "B",
         "text": "",
         "type": "scatter",
         "x": [
          0.9233664551727817,
          0.2187068108806523,
          0.11865198024420574,
          -1.5579186623042052,
          -0.4672071562814396,
          3.0066626935308456,
          -0.32655014387269754,
          0.10772210250884771,
          0.8844221038072054,
          1.7722565392187368,
          1.184992792776857,
          0.2108781835560796,
          -1.1148099764931805,
          -4.345427928625704e-05,
          -1.983953129359126,
          -0.9649214601388116,
          -0.22125091561265933,
          1.2273455531899071,
          -0.0575385070370791,
          -0.11781601230391926,
          1.9166344516297773,
          -1.0970613676362393,
          0.43934146242854094,
          1.2762258985477217,
          0.07447449662748581,
          3.0919869419630976,
          0.5973122040456079,
          -0.7050905523339075,
          -0.4999112205302632,
          -0.03493124465617314,
          -0.7617881698096332,
          1.3797053254926674,
          -0.2215403633239477,
          0.6925481305262045,
          0.06167550672697119,
          -0.40963611935775956,
          0.35893243125669266,
          -0.41745743030591087,
          0.03015429313705,
          0.15602988591660222,
          -0.26787146265085654,
          -0.41417028686894974,
          1.5609792080758211,
          1.194969375259976,
          -0.6551383967781365,
          -1.755053789996685,
          1.5159309217952428,
          -1.28875100441881,
          -0.911926164600893,
          -0.5474702131804486,
          0.4047143059595249,
          -0.43079197819212006,
          0.08797226941624581,
          -0.6908029115601726,
          0.7242905167980132,
          0.23214396422851524,
          0.7247353002278414,
          1.9452025367983576,
          -0.6546861016814408,
          -0.6799974252683934,
          -0.5317611724410563,
          1.4405271470855314,
          1.1115247500755756,
          0.589893192958994,
          0.4824437508914874,
          1.377178678619452,
          -0.6862284977820776,
          0.13642842203149558,
          -0.8947830787665288,
          -1.2215509521492065,
          -0.9851235704440013,
          0.2769495490795035,
          -0.5492866868876993,
          -0.45589525253369273,
          -0.49258897950070984,
          -0.2268613593796678,
          -1.0595067963615048,
          -1.163113884097818,
          -2.131695933566539,
          0.42063353723874125,
          1.5399342918829222,
          -0.6831121602536194,
          0.7561167662337182,
          -1.1136598817381878,
          0.026303240811561608,
          -0.11853482107150998,
          -0.7999930888845683,
          0.6608875939920911,
          -0.4310373559079466,
          -0.6088333250428458,
          -0.8584547980700439,
          -0.18485197733031306,
          0.7591281136316559,
          0.4505866865518529,
          0.39346588693495527,
          0.2764004766793301,
          0.2849159220159852,
          0.2464470334073424,
          -1.9666741818132207,
          -0.11656813004260916
         ],
         "xaxis": "x8",
         "y": [
          -0.3135045106961009,
          0.27106706687477644,
          0.6119471965110417,
          0.3009908952710065,
          -1.7296433552727768,
          -0.8395951219175694,
          0.16250707660228472,
          0.5055405458960701,
          -0.832888025408523,
          0.9109193800627438,
          -0.26573228768153007,
          -1.048508086534288,
          2.3935354905650352,
          -0.6120845323882204,
          0.2794630660004881,
          1.627451053655647,
          -0.6851014265020644,
          -0.05563959335930016,
          -0.135370377466742,
          1.1825219023457476,
          0.09104646907592046,
          -0.23291348461501518,
          0.7536213073112578,
          0.4852510554975916,
          -0.11598911508126203,
          1.0968318367465173,
          0.18417105335675082,
          -1.3013280121311601,
          -1.5523879941424124,
          -0.32369753741302265,
          0.12823504654106158,
          0.3235706409631143,
          -0.39016583384232667,
          -1.3483469875160243,
          -0.8778043256258503,
          -0.6566745979642085,
          -0.8717450588581389,
          -0.6555475573355242,
          1.1869681326633754,
          -1.6754949879668986,
          -1.0166574270487643,
          0.30084494827373853,
          -0.5569631288734428,
          -0.567768653274891,
          -1.240819396653744,
          0.07056845771157615,
          1.7622707398041684,
          0.18529340390041166,
          -0.9353562273967888,
          -0.6885393911334184,
          1.5338969581422393,
          1.5892838914058174,
          -1.614263003322591,
          -0.15402669237130096,
          1.159444826889843,
          0.08959925841560044,
          -0.7533113996854893,
          1.905234347898969,
          0.7307657905729821,
          -0.29285654487137897,
          1.7069381234928882,
          0.5380807773841841,
          -0.633045084982813,
          -1.7779188737619718,
          1.4017987066713467,
          -0.08474720608466335,
          0.8776521766497231,
          0.4641730284714228,
          0.45125150792532565,
          0.060392922247830425,
          0.8784203727592276,
          -0.1688059199189494,
          -1.0896619947083495,
          0.0171159299839232,
          0.08104028200629111,
          2.1271586379364784,
          -0.976903741909578,
          1.1376357527698266,
          -0.00012090109272308358,
          1.6484473114720377,
          -1.0772133462637432,
          -0.9150194793716977,
          -0.13908916224241138,
          1.420245945456923,
          -0.8638449427158882,
          0.35946872217060843,
          0.353760398347842,
          -0.034214007117311096,
          0.42062282065593914,
          -0.4119607557910614,
          -2.246530449988816,
          0.6572380023859556,
          1.5371929318791877,
          0.7047641075968462,
          0.2758760032749365,
          0.3641139356290369,
          -1.7452790367604647,
          0.7507657464946539,
          0.7660509128626469,
          -1.918014533068927
         ],
         "yaxis": "y8"
        },
        {
         "line": {
          "color": "rgba(128, 128, 128, 1.0)",
          "dash": "solid",
          "shape": "linear",
          "width": 1.3
         },
         "marker": {
          "size": 2,
          "symbol": "circle"
         },
         "mode": "markers",
         "name": "C",
         "text": "",
         "type": "scatter",
         "x": [
          -1.309527744420406,
          -0.43461471341730906,
          -0.6595622762097307,
          -1.8087704558636009,
          -0.21507624397672268,
          -0.38856874633371274,
          0.39323640994019327,
          -1.5768836282447465,
          0.22178931809236666,
          -0.9431156572498557,
          -1.9102029239374554,
          -0.477769555673728,
          -1.089425538238347,
          -1.0357538495845635,
          1.2252166381530092,
          0.37107402061163053,
          -1.158252094622077,
          1.3695745789888654,
          -1.01825182367802,
          -1.7722468986897701,
          -0.2168013554876337,
          0.4755191701253149,
          -0.31047009102309275,
          -1.1396124818852957,
          -0.6999173593661061,
          -1.1371155062620095,
          -0.4910949440770942,
          -1.3621373445513156,
          1.0766873032479476,
          0.525928465473397,
          0.18338106944618113,
          -0.1505291458789072,
          1.8846432497944905,
          1.0605122306404768,
          -0.962144311117594,
          -0.1476914461688686,
          0.7205523460441676,
          -1.7892639026055361,
          -1.0548281912697273,
          1.7356821752881395,
          0.7623513817996954,
          0.3727625957984767,
          0.44451049023253525,
          1.4676975285083917,
          0.4814662048334038,
          0.6221661115520754,
          0.2370320573531419,
          -0.7473679255146413,
          0.6347836687579423,
          1.2138547818174472,
          -1.1115098285811436,
          -0.741420524794404,
          -1.7765108665886487,
          0.810113366475899,
          0.47669154362011024,
          -0.4134257725397369,
          0.765857785416105,
          -0.965188219950402,
          -1.4789137379581754,
          -0.6434993507816088,
          1.1172937554301525,
          -0.495694212475232,
          -0.387836058015111,
          -1.5016648314212626,
          0.1203043588212254,
          1.2088376698736039,
          -0.07194726263107164,
          0.15389399355134598,
          -0.6401244083647915,
          -0.08273948253381846,
          -1.3592394732882558,
          -1.9885105671375787,
          0.038505035218103376,
          -1.24448668315206,
          1.0295590758843345,
          0.33682960031944126,
          0.016429352896183677,
          -0.8237702468602085,
          -0.18449476647468116,
          1.3095212684401376,
          1.3587986132723278,
          -0.6051067858004684,
          -1.6266419057988017,
          1.0042132470590117,
          -0.941415138673278,
          -0.22540308480569024,
          1.3745114441408741,
          0.9480792162916354,
          -0.6327623894459151,
          -0.4249154919293121,
          0.6437607373691273,
          -0.023221467246056046,
          -0.11276162648807049,
          -1.4583110545841829,
          1.2612779604538449,
          1.3478794165153494,
          -0.380129484919786,
          1.451947890281281,
          -1.1301928995517123,
          -1.9753921455165973
         ],
         "xaxis": "x9",
         "y": [
          -0.2575191113048818,
          1.320500761745751,
          0.5393212069591781,
          0.04219896750035622,
          1.698198936943047,
          0.5028199669499871,
          -0.1498454934058726,
          0.9633475163625961,
          -1.339015637048091,
          -0.6182770329783752,
          -0.33591206203027124,
          -0.18188932275864927,
          -0.5454887664402375,
          -0.6883932246837449,
          -0.30489076816095145,
          -1.0100830280007966,
          -1.0655391492630855,
          -0.12015197749752969,
          0.5860522797870924,
          0.4192151567643949,
          -1.3353733919720032,
          -0.031402120800871076,
          -2.1335260348390843,
          -0.3441969850120935,
          -1.7542223093498468,
          -0.295042033863205,
          -0.18863870771689262,
          1.552840719836552,
          -0.4316870464612591,
          -0.7613274261883847,
          0.14947076189898487,
          0.48595016476934905,
          -0.7926945550247574,
          0.7731965931118994,
          -0.6883938465753762,
          -2.225079507875566,
          0.5423950945731457,
          -0.34085758855813325,
          1.7417998243184183,
          -0.338719869712993,
          -1.2565129037379519,
          -0.4862357073192635,
          -0.26247542513880223,
          1.371966678906609,
          0.06204981495579611,
          0.1435830366946529,
          -0.09818086024700041,
          -1.0065206400186884,
          0.8816406316046609,
          1.365273883971452,
          -0.3084988064482174,
          -1.0107121741822607,
          0.13115805878508405,
          1.4331106094227337,
          0.1347015805384705,
          -1.2873072839233077,
          0.4520970966083857,
          -1.2803743865230197,
          1.1250400099747564,
          -0.26260192722481174,
          2.7583588538460173,
          0.3145755605376287,
          0.6148574032845244,
          -0.2865467255124006,
          -0.5077597544678613,
          0.34207611262169624,
          0.1176418668857983,
          0.6599108232966143,
          0.20697791306697302,
          -1.5497405311923949,
          -1.2399904990512816,
          -0.5418927010115602,
          -0.006076378393536418,
          1.396970316349856,
          0.29841528419805907,
          -0.5186695251409451,
          2.5370307553948255,
          1.4138531800659624,
          0.850227769881565,
          -0.5589241218200475,
          0.9370408392367986,
          -0.9036863474832941,
          -1.2731512830332214,
          0.43070386279979206,
          1.004596274576969,
          0.30830106177054645,
          0.15488032937692175,
          -1.0238457042133868,
          -1.0118295214957163,
          0.08967082143098096,
          -0.9042923514152782,
          -0.7405311429356125,
          -0.8425526874977495,
          1.1428674009459987,
          -1.1631122871541602,
          -0.47384436477048175,
          -1.0361201255211805,
          1.2289487011273375,
          -0.4323744236158504,
          -0.12486789140963928
         ],
         "yaxis": "y9"
        },
        {
         "line": {
          "color": "rgba(128, 128, 128, 1.0)",
          "dash": "solid",
          "shape": "linear",
          "width": 1.3
         },
         "marker": {
          "size": 2,
          "symbol": "circle"
         },
         "mode": "markers",
         "name": "C",
         "text": "",
         "type": "scatter",
         "x": [
          -0.3135045106961009,
          0.27106706687477644,
          0.6119471965110417,
          0.3009908952710065,
          -1.7296433552727768,
          -0.8395951219175694,
          0.16250707660228472,
          0.5055405458960701,
          -0.832888025408523,
          0.9109193800627438,
          -0.26573228768153007,
          -1.048508086534288,
          2.3935354905650352,
          -0.6120845323882204,
          0.2794630660004881,
          1.627451053655647,
          -0.6851014265020644,
          -0.05563959335930016,
          -0.135370377466742,
          1.1825219023457476,
          0.09104646907592046,
          -0.23291348461501518,
          0.7536213073112578,
          0.4852510554975916,
          -0.11598911508126203,
          1.0968318367465173,
          0.18417105335675082,
          -1.3013280121311601,
          -1.5523879941424124,
          -0.32369753741302265,
          0.12823504654106158,
          0.3235706409631143,
          -0.39016583384232667,
          -1.3483469875160243,
          -0.8778043256258503,
          -0.6566745979642085,
          -0.8717450588581389,
          -0.6555475573355242,
          1.1869681326633754,
          -1.6754949879668986,
          -1.0166574270487643,
          0.30084494827373853,
          -0.5569631288734428,
          -0.567768653274891,
          -1.240819396653744,
          0.07056845771157615,
          1.7622707398041684,
          0.18529340390041166,
          -0.9353562273967888,
          -0.6885393911334184,
          1.5338969581422393,
          1.5892838914058174,
          -1.614263003322591,
          -0.15402669237130096,
          1.159444826889843,
          0.08959925841560044,
          -0.7533113996854893,
          1.905234347898969,
          0.7307657905729821,
          -0.29285654487137897,
          1.7069381234928882,
          0.5380807773841841,
          -0.633045084982813,
          -1.7779188737619718,
          1.4017987066713467,
          -0.08474720608466335,
          0.8776521766497231,
          0.4641730284714228,
          0.45125150792532565,
          0.060392922247830425,
          0.8784203727592276,
          -0.1688059199189494,
          -1.0896619947083495,
          0.0171159299839232,
          0.08104028200629111,
          2.1271586379364784,
          -0.976903741909578,
          1.1376357527698266,
          -0.00012090109272308358,
          1.6484473114720377,
          -1.0772133462637432,
          -0.9150194793716977,
          -0.13908916224241138,
          1.420245945456923,
          -0.8638449427158882,
          0.35946872217060843,
          0.353760398347842,
          -0.034214007117311096,
          0.42062282065593914,
          -0.4119607557910614,
          -2.246530449988816,
          0.6572380023859556,
          1.5371929318791877,
          0.7047641075968462,
          0.2758760032749365,
          0.3641139356290369,
          -1.7452790367604647,
          0.7507657464946539,
          0.7660509128626469,
          -1.918014533068927
         ],
         "xaxis": "x10",
         "y": [
          -0.2575191113048818,
          1.320500761745751,
          0.5393212069591781,
          0.04219896750035622,
          1.698198936943047,
          0.5028199669499871,
          -0.1498454934058726,
          0.9633475163625961,
          -1.339015637048091,
          -0.6182770329783752,
          -0.33591206203027124,
          -0.18188932275864927,
          -0.5454887664402375,
          -0.6883932246837449,
          -0.30489076816095145,
          -1.0100830280007966,
          -1.0655391492630855,
          -0.12015197749752969,
          0.5860522797870924,
          0.4192151567643949,
          -1.3353733919720032,
          -0.031402120800871076,
          -2.1335260348390843,
          -0.3441969850120935,
          -1.7542223093498468,
          -0.295042033863205,
          -0.18863870771689262,
          1.552840719836552,
          -0.4316870464612591,
          -0.7613274261883847,
          0.14947076189898487,
          0.48595016476934905,
          -0.7926945550247574,
          0.7731965931118994,
          -0.6883938465753762,
          -2.225079507875566,
          0.5423950945731457,
          -0.34085758855813325,
          1.7417998243184183,
          -0.338719869712993,
          -1.2565129037379519,
          -0.4862357073192635,
          -0.26247542513880223,
          1.371966678906609,
          0.06204981495579611,
          0.1435830366946529,
          -0.09818086024700041,
          -1.0065206400186884,
          0.8816406316046609,
          1.365273883971452,
          -0.3084988064482174,
          -1.0107121741822607,
          0.13115805878508405,
          1.4331106094227337,
          0.1347015805384705,
          -1.2873072839233077,
          0.4520970966083857,
          -1.2803743865230197,
          1.1250400099747564,
          -0.26260192722481174,
          2.7583588538460173,
          0.3145755605376287,
          0.6148574032845244,
          -0.2865467255124006,
          -0.5077597544678613,
          0.34207611262169624,
          0.1176418668857983,
          0.6599108232966143,
          0.20697791306697302,
          -1.5497405311923949,
          -1.2399904990512816,
          -0.5418927010115602,
          -0.006076378393536418,
          1.396970316349856,
          0.29841528419805907,
          -0.5186695251409451,
          2.5370307553948255,
          1.4138531800659624,
          0.850227769881565,
          -0.5589241218200475,
          0.9370408392367986,
          -0.9036863474832941,
          -1.2731512830332214,
          0.43070386279979206,
          1.004596274576969,
          0.30830106177054645,
          0.15488032937692175,
          -1.0238457042133868,
          -1.0118295214957163,
          0.08967082143098096,
          -0.9042923514152782,
          -0.7405311429356125,
          -0.8425526874977495,
          1.1428674009459987,
          -1.1631122871541602,
          -0.47384436477048175,
          -1.0361201255211805,
          1.2289487011273375,
          -0.4323744236158504,
          -0.12486789140963928
         ],
         "yaxis": "y10"
        },
        {
         "histfunc": "count",
         "histnorm": "",
         "marker": {
          "color": "rgba(50, 171, 96, 1.0)",
          "line": {
           "color": "#4D5663",
           "width": 1.3
          }
         },
         "name": "C",
         "nbinsx": 10,
         "opacity": 0.8,
         "orientation": "v",
         "type": "histogram",
         "x": [
          -0.2575191113048818,
          1.320500761745751,
          0.5393212069591781,
          0.04219896750035622,
          1.698198936943047,
          0.5028199669499871,
          -0.1498454934058726,
          0.9633475163625961,
          -1.339015637048091,
          -0.6182770329783752,
          -0.33591206203027124,
          -0.18188932275864927,
          -0.5454887664402375,
          -0.6883932246837449,
          -0.30489076816095145,
          -1.0100830280007966,
          -1.0655391492630855,
          -0.12015197749752969,
          0.5860522797870924,
          0.4192151567643949,
          -1.3353733919720032,
          -0.031402120800871076,
          -2.1335260348390843,
          -0.3441969850120935,
          -1.7542223093498468,
          -0.295042033863205,
          -0.18863870771689262,
          1.552840719836552,
          -0.4316870464612591,
          -0.7613274261883847,
          0.14947076189898487,
          0.48595016476934905,
          -0.7926945550247574,
          0.7731965931118994,
          -0.6883938465753762,
          -2.225079507875566,
          0.5423950945731457,
          -0.34085758855813325,
          1.7417998243184183,
          -0.338719869712993,
          -1.2565129037379519,
          -0.4862357073192635,
          -0.26247542513880223,
          1.371966678906609,
          0.06204981495579611,
          0.1435830366946529,
          -0.09818086024700041,
          -1.0065206400186884,
          0.8816406316046609,
          1.365273883971452,
          -0.3084988064482174,
          -1.0107121741822607,
          0.13115805878508405,
          1.4331106094227337,
          0.1347015805384705,
          -1.2873072839233077,
          0.4520970966083857,
          -1.2803743865230197,
          1.1250400099747564,
          -0.26260192722481174,
          2.7583588538460173,
          0.3145755605376287,
          0.6148574032845244,
          -0.2865467255124006,
          -0.5077597544678613,
          0.34207611262169624,
          0.1176418668857983,
          0.6599108232966143,
          0.20697791306697302,
          -1.5497405311923949,
          -1.2399904990512816,
          -0.5418927010115602,
          -0.006076378393536418,
          1.396970316349856,
          0.29841528419805907,
          -0.5186695251409451,
          2.5370307553948255,
          1.4138531800659624,
          0.850227769881565,
          -0.5589241218200475,
          0.9370408392367986,
          -0.9036863474832941,
          -1.2731512830332214,
          0.43070386279979206,
          1.004596274576969,
          0.30830106177054645,
          0.15488032937692175,
          -1.0238457042133868,
          -1.0118295214957163,
          0.08967082143098096,
          -0.9042923514152782,
          -0.7405311429356125,
          -0.8425526874977495,
          1.1428674009459987,
          -1.1631122871541602,
          -0.47384436477048175,
          -1.0361201255211805,
          1.2289487011273375,
          -0.4323744236158504,
          -0.12486789140963928
         ],
         "xaxis": "x11",
         "yaxis": "y11"
        },
        {
         "line": {
          "color": "rgba(128, 128, 128, 1.0)",
          "dash": "solid",
          "shape": "linear",
          "width": 1.3
         },
         "marker": {
          "size": 2,
          "symbol": "circle"
         },
         "mode": "markers",
         "name": "C",
         "text": "",
         "type": "scatter",
         "x": [
          0.9233664551727817,
          0.2187068108806523,
          0.11865198024420574,
          -1.5579186623042052,
          -0.4672071562814396,
          3.0066626935308456,
          -0.32655014387269754,
          0.10772210250884771,
          0.8844221038072054,
          1.7722565392187368,
          1.184992792776857,
          0.2108781835560796,
          -1.1148099764931805,
          -4.345427928625704e-05,
          -1.983953129359126,
          -0.9649214601388116,
          -0.22125091561265933,
          1.2273455531899071,
          -0.0575385070370791,
          -0.11781601230391926,
          1.9166344516297773,
          -1.0970613676362393,
          0.43934146242854094,
          1.2762258985477217,
          0.07447449662748581,
          3.0919869419630976,
          0.5973122040456079,
          -0.7050905523339075,
          -0.4999112205302632,
          -0.03493124465617314,
          -0.7617881698096332,
          1.3797053254926674,
          -0.2215403633239477,
          0.6925481305262045,
          0.06167550672697119,
          -0.40963611935775956,
          0.35893243125669266,
          -0.41745743030591087,
          0.03015429313705,
          0.15602988591660222,
          -0.26787146265085654,
          -0.41417028686894974,
          1.5609792080758211,
          1.194969375259976,
          -0.6551383967781365,
          -1.755053789996685,
          1.5159309217952428,
          -1.28875100441881,
          -0.911926164600893,
          -0.5474702131804486,
          0.4047143059595249,
          -0.43079197819212006,
          0.08797226941624581,
          -0.6908029115601726,
          0.7242905167980132,
          0.23214396422851524,
          0.7247353002278414,
          1.9452025367983576,
          -0.6546861016814408,
          -0.6799974252683934,
          -0.5317611724410563,
          1.4405271470855314,
          1.1115247500755756,
          0.589893192958994,
          0.4824437508914874,
          1.377178678619452,
          -0.6862284977820776,
          0.13642842203149558,
          -0.8947830787665288,
          -1.2215509521492065,
          -0.9851235704440013,
          0.2769495490795035,
          -0.5492866868876993,
          -0.45589525253369273,
          -0.49258897950070984,
          -0.2268613593796678,
          -1.0595067963615048,
          -1.163113884097818,
          -2.131695933566539,
          0.42063353723874125,
          1.5399342918829222,
          -0.6831121602536194,
          0.7561167662337182,
          -1.1136598817381878,
          0.026303240811561608,
          -0.11853482107150998,
          -0.7999930888845683,
          0.6608875939920911,
          -0.4310373559079466,
          -0.6088333250428458,
          -0.8584547980700439,
          -0.18485197733031306,
          0.7591281136316559,
          0.4505866865518529,
          0.39346588693495527,
          0.2764004766793301,
          0.2849159220159852,
          0.2464470334073424,
          -1.9666741818132207,
          -0.11656813004260916
         ],
         "xaxis": "x12",
         "y": [
          -0.2575191113048818,
          1.320500761745751,
          0.5393212069591781,
          0.04219896750035622,
          1.698198936943047,
          0.5028199669499871,
          -0.1498454934058726,
          0.9633475163625961,
          -1.339015637048091,
          -0.6182770329783752,
          -0.33591206203027124,
          -0.18188932275864927,
          -0.5454887664402375,
          -0.6883932246837449,
          -0.30489076816095145,
          -1.0100830280007966,
          -1.0655391492630855,
          -0.12015197749752969,
          0.5860522797870924,
          0.4192151567643949,
          -1.3353733919720032,
          -0.031402120800871076,
          -2.1335260348390843,
          -0.3441969850120935,
          -1.7542223093498468,
          -0.295042033863205,
          -0.18863870771689262,
          1.552840719836552,
          -0.4316870464612591,
          -0.7613274261883847,
          0.14947076189898487,
          0.48595016476934905,
          -0.7926945550247574,
          0.7731965931118994,
          -0.6883938465753762,
          -2.225079507875566,
          0.5423950945731457,
          -0.34085758855813325,
          1.7417998243184183,
          -0.338719869712993,
          -1.2565129037379519,
          -0.4862357073192635,
          -0.26247542513880223,
          1.371966678906609,
          0.06204981495579611,
          0.1435830366946529,
          -0.09818086024700041,
          -1.0065206400186884,
          0.8816406316046609,
          1.365273883971452,
          -0.3084988064482174,
          -1.0107121741822607,
          0.13115805878508405,
          1.4331106094227337,
          0.1347015805384705,
          -1.2873072839233077,
          0.4520970966083857,
          -1.2803743865230197,
          1.1250400099747564,
          -0.26260192722481174,
          2.7583588538460173,
          0.3145755605376287,
          0.6148574032845244,
          -0.2865467255124006,
          -0.5077597544678613,
          0.34207611262169624,
          0.1176418668857983,
          0.6599108232966143,
          0.20697791306697302,
          -1.5497405311923949,
          -1.2399904990512816,
          -0.5418927010115602,
          -0.006076378393536418,
          1.396970316349856,
          0.29841528419805907,
          -0.5186695251409451,
          2.5370307553948255,
          1.4138531800659624,
          0.850227769881565,
          -0.5589241218200475,
          0.9370408392367986,
          -0.9036863474832941,
          -1.2731512830332214,
          0.43070386279979206,
          1.004596274576969,
          0.30830106177054645,
          0.15488032937692175,
          -1.0238457042133868,
          -1.0118295214957163,
          0.08967082143098096,
          -0.9042923514152782,
          -0.7405311429356125,
          -0.8425526874977495,
          1.1428674009459987,
          -1.1631122871541602,
          -0.47384436477048175,
          -1.0361201255211805,
          1.2289487011273375,
          -0.4323744236158504,
          -0.12486789140963928
         ],
         "yaxis": "y12"
        },
        {
         "line": {
          "color": "rgba(128, 128, 128, 1.0)",
          "dash": "solid",
          "shape": "linear",
          "width": 1.3
         },
         "marker": {
          "size": 2,
          "symbol": "circle"
         },
         "mode": "markers",
         "name": "D",
         "text": "",
         "type": "scatter",
         "x": [
          -1.309527744420406,
          -0.43461471341730906,
          -0.6595622762097307,
          -1.8087704558636009,
          -0.21507624397672268,
          -0.38856874633371274,
          0.39323640994019327,
          -1.5768836282447465,
          0.22178931809236666,
          -0.9431156572498557,
          -1.9102029239374554,
          -0.477769555673728,
          -1.089425538238347,
          -1.0357538495845635,
          1.2252166381530092,
          0.37107402061163053,
          -1.158252094622077,
          1.3695745789888654,
          -1.01825182367802,
          -1.7722468986897701,
          -0.2168013554876337,
          0.4755191701253149,
          -0.31047009102309275,
          -1.1396124818852957,
          -0.6999173593661061,
          -1.1371155062620095,
          -0.4910949440770942,
          -1.3621373445513156,
          1.0766873032479476,
          0.525928465473397,
          0.18338106944618113,
          -0.1505291458789072,
          1.8846432497944905,
          1.0605122306404768,
          -0.962144311117594,
          -0.1476914461688686,
          0.7205523460441676,
          -1.7892639026055361,
          -1.0548281912697273,
          1.7356821752881395,
          0.7623513817996954,
          0.3727625957984767,
          0.44451049023253525,
          1.4676975285083917,
          0.4814662048334038,
          0.6221661115520754,
          0.2370320573531419,
          -0.7473679255146413,
          0.6347836687579423,
          1.2138547818174472,
          -1.1115098285811436,
          -0.741420524794404,
          -1.7765108665886487,
          0.810113366475899,
          0.47669154362011024,
          -0.4134257725397369,
          0.765857785416105,
          -0.965188219950402,
          -1.4789137379581754,
          -0.6434993507816088,
          1.1172937554301525,
          -0.495694212475232,
          -0.387836058015111,
          -1.5016648314212626,
          0.1203043588212254,
          1.2088376698736039,
          -0.07194726263107164,
          0.15389399355134598,
          -0.6401244083647915,
          -0.08273948253381846,
          -1.3592394732882558,
          -1.9885105671375787,
          0.038505035218103376,
          -1.24448668315206,
          1.0295590758843345,
          0.33682960031944126,
          0.016429352896183677,
          -0.8237702468602085,
          -0.18449476647468116,
          1.3095212684401376,
          1.3587986132723278,
          -0.6051067858004684,
          -1.6266419057988017,
          1.0042132470590117,
          -0.941415138673278,
          -0.22540308480569024,
          1.3745114441408741,
          0.9480792162916354,
          -0.6327623894459151,
          -0.4249154919293121,
          0.6437607373691273,
          -0.023221467246056046,
          -0.11276162648807049,
          -1.4583110545841829,
          1.2612779604538449,
          1.3478794165153494,
          -0.380129484919786,
          1.451947890281281,
          -1.1301928995517123,
          -1.9753921455165973
         ],
         "xaxis": "x13",
         "y": [
          0.9233664551727817,
          0.2187068108806523,
          0.11865198024420574,
          -1.5579186623042052,
          -0.4672071562814396,
          3.0066626935308456,
          -0.32655014387269754,
          0.10772210250884771,
          0.8844221038072054,
          1.7722565392187368,
          1.184992792776857,
          0.2108781835560796,
          -1.1148099764931805,
          -4.345427928625704e-05,
          -1.983953129359126,
          -0.9649214601388116,
          -0.22125091561265933,
          1.2273455531899071,
          -0.0575385070370791,
          -0.11781601230391926,
          1.9166344516297773,
          -1.0970613676362393,
          0.43934146242854094,
          1.2762258985477217,
          0.07447449662748581,
          3.0919869419630976,
          0.5973122040456079,
          -0.7050905523339075,
          -0.4999112205302632,
          -0.03493124465617314,
          -0.7617881698096332,
          1.3797053254926674,
          -0.2215403633239477,
          0.6925481305262045,
          0.06167550672697119,
          -0.40963611935775956,
          0.35893243125669266,
          -0.41745743030591087,
          0.03015429313705,
          0.15602988591660222,
          -0.26787146265085654,
          -0.41417028686894974,
          1.5609792080758211,
          1.194969375259976,
          -0.6551383967781365,
          -1.755053789996685,
          1.5159309217952428,
          -1.28875100441881,
          -0.911926164600893,
          -0.5474702131804486,
          0.4047143059595249,
          -0.43079197819212006,
          0.08797226941624581,
          -0.6908029115601726,
          0.7242905167980132,
          0.23214396422851524,
          0.7247353002278414,
          1.9452025367983576,
          -0.6546861016814408,
          -0.6799974252683934,
          -0.5317611724410563,
          1.4405271470855314,
          1.1115247500755756,
          0.589893192958994,
          0.4824437508914874,
          1.377178678619452,
          -0.6862284977820776,
          0.13642842203149558,
          -0.8947830787665288,
          -1.2215509521492065,
          -0.9851235704440013,
          0.2769495490795035,
          -0.5492866868876993,
          -0.45589525253369273,
          -0.49258897950070984,
          -0.2268613593796678,
          -1.0595067963615048,
          -1.163113884097818,
          -2.131695933566539,
          0.42063353723874125,
          1.5399342918829222,
          -0.6831121602536194,
          0.7561167662337182,
          -1.1136598817381878,
          0.026303240811561608,
          -0.11853482107150998,
          -0.7999930888845683,
          0.6608875939920911,
          -0.4310373559079466,
          -0.6088333250428458,
          -0.8584547980700439,
          -0.18485197733031306,
          0.7591281136316559,
          0.4505866865518529,
          0.39346588693495527,
          0.2764004766793301,
          0.2849159220159852,
          0.2464470334073424,
          -1.9666741818132207,
          -0.11656813004260916
         ],
         "yaxis": "y13"
        },
        {
         "line": {
          "color": "rgba(128, 128, 128, 1.0)",
          "dash": "solid",
          "shape": "linear",
          "width": 1.3
         },
         "marker": {
          "size": 2,
          "symbol": "circle"
         },
         "mode": "markers",
         "name": "D",
         "text": "",
         "type": "scatter",
         "x": [
          -0.3135045106961009,
          0.27106706687477644,
          0.6119471965110417,
          0.3009908952710065,
          -1.7296433552727768,
          -0.8395951219175694,
          0.16250707660228472,
          0.5055405458960701,
          -0.832888025408523,
          0.9109193800627438,
          -0.26573228768153007,
          -1.048508086534288,
          2.3935354905650352,
          -0.6120845323882204,
          0.2794630660004881,
          1.627451053655647,
          -0.6851014265020644,
          -0.05563959335930016,
          -0.135370377466742,
          1.1825219023457476,
          0.09104646907592046,
          -0.23291348461501518,
          0.7536213073112578,
          0.4852510554975916,
          -0.11598911508126203,
          1.0968318367465173,
          0.18417105335675082,
          -1.3013280121311601,
          -1.5523879941424124,
          -0.32369753741302265,
          0.12823504654106158,
          0.3235706409631143,
          -0.39016583384232667,
          -1.3483469875160243,
          -0.8778043256258503,
          -0.6566745979642085,
          -0.8717450588581389,
          -0.6555475573355242,
          1.1869681326633754,
          -1.6754949879668986,
          -1.0166574270487643,
          0.30084494827373853,
          -0.5569631288734428,
          -0.567768653274891,
          -1.240819396653744,
          0.07056845771157615,
          1.7622707398041684,
          0.18529340390041166,
          -0.9353562273967888,
          -0.6885393911334184,
          1.5338969581422393,
          1.5892838914058174,
          -1.614263003322591,
          -0.15402669237130096,
          1.159444826889843,
          0.08959925841560044,
          -0.7533113996854893,
          1.905234347898969,
          0.7307657905729821,
          -0.29285654487137897,
          1.7069381234928882,
          0.5380807773841841,
          -0.633045084982813,
          -1.7779188737619718,
          1.4017987066713467,
          -0.08474720608466335,
          0.8776521766497231,
          0.4641730284714228,
          0.45125150792532565,
          0.060392922247830425,
          0.8784203727592276,
          -0.1688059199189494,
          -1.0896619947083495,
          0.0171159299839232,
          0.08104028200629111,
          2.1271586379364784,
          -0.976903741909578,
          1.1376357527698266,
          -0.00012090109272308358,
          1.6484473114720377,
          -1.0772133462637432,
          -0.9150194793716977,
          -0.13908916224241138,
          1.420245945456923,
          -0.8638449427158882,
          0.35946872217060843,
          0.353760398347842,
          -0.034214007117311096,
          0.42062282065593914,
          -0.4119607557910614,
          -2.246530449988816,
          0.6572380023859556,
          1.5371929318791877,
          0.7047641075968462,
          0.2758760032749365,
          0.3641139356290369,
          -1.7452790367604647,
          0.7507657464946539,
          0.7660509128626469,
          -1.918014533068927
         ],
         "xaxis": "x14",
         "y": [
          0.9233664551727817,
          0.2187068108806523,
          0.11865198024420574,
          -1.5579186623042052,
          -0.4672071562814396,
          3.0066626935308456,
          -0.32655014387269754,
          0.10772210250884771,
          0.8844221038072054,
          1.7722565392187368,
          1.184992792776857,
          0.2108781835560796,
          -1.1148099764931805,
          -4.345427928625704e-05,
          -1.983953129359126,
          -0.9649214601388116,
          -0.22125091561265933,
          1.2273455531899071,
          -0.0575385070370791,
          -0.11781601230391926,
          1.9166344516297773,
          -1.0970613676362393,
          0.43934146242854094,
          1.2762258985477217,
          0.07447449662748581,
          3.0919869419630976,
          0.5973122040456079,
          -0.7050905523339075,
          -0.4999112205302632,
          -0.03493124465617314,
          -0.7617881698096332,
          1.3797053254926674,
          -0.2215403633239477,
          0.6925481305262045,
          0.06167550672697119,
          -0.40963611935775956,
          0.35893243125669266,
          -0.41745743030591087,
          0.03015429313705,
          0.15602988591660222,
          -0.26787146265085654,
          -0.41417028686894974,
          1.5609792080758211,
          1.194969375259976,
          -0.6551383967781365,
          -1.755053789996685,
          1.5159309217952428,
          -1.28875100441881,
          -0.911926164600893,
          -0.5474702131804486,
          0.4047143059595249,
          -0.43079197819212006,
          0.08797226941624581,
          -0.6908029115601726,
          0.7242905167980132,
          0.23214396422851524,
          0.7247353002278414,
          1.9452025367983576,
          -0.6546861016814408,
          -0.6799974252683934,
          -0.5317611724410563,
          1.4405271470855314,
          1.1115247500755756,
          0.589893192958994,
          0.4824437508914874,
          1.377178678619452,
          -0.6862284977820776,
          0.13642842203149558,
          -0.8947830787665288,
          -1.2215509521492065,
          -0.9851235704440013,
          0.2769495490795035,
          -0.5492866868876993,
          -0.45589525253369273,
          -0.49258897950070984,
          -0.2268613593796678,
          -1.0595067963615048,
          -1.163113884097818,
          -2.131695933566539,
          0.42063353723874125,
          1.5399342918829222,
          -0.6831121602536194,
          0.7561167662337182,
          -1.1136598817381878,
          0.026303240811561608,
          -0.11853482107150998,
          -0.7999930888845683,
          0.6608875939920911,
          -0.4310373559079466,
          -0.6088333250428458,
          -0.8584547980700439,
          -0.18485197733031306,
          0.7591281136316559,
          0.4505866865518529,
          0.39346588693495527,
          0.2764004766793301,
          0.2849159220159852,
          0.2464470334073424,
          -1.9666741818132207,
          -0.11656813004260916
         ],
         "yaxis": "y14"
        },
        {
         "line": {
          "color": "rgba(128, 128, 128, 1.0)",
          "dash": "solid",
          "shape": "linear",
          "width": 1.3
         },
         "marker": {
          "size": 2,
          "symbol": "circle"
         },
         "mode": "markers",
         "name": "D",
         "text": "",
         "type": "scatter",
         "x": [
          -0.2575191113048818,
          1.320500761745751,
          0.5393212069591781,
          0.04219896750035622,
          1.698198936943047,
          0.5028199669499871,
          -0.1498454934058726,
          0.9633475163625961,
          -1.339015637048091,
          -0.6182770329783752,
          -0.33591206203027124,
          -0.18188932275864927,
          -0.5454887664402375,
          -0.6883932246837449,
          -0.30489076816095145,
          -1.0100830280007966,
          -1.0655391492630855,
          -0.12015197749752969,
          0.5860522797870924,
          0.4192151567643949,
          -1.3353733919720032,
          -0.031402120800871076,
          -2.1335260348390843,
          -0.3441969850120935,
          -1.7542223093498468,
          -0.295042033863205,
          -0.18863870771689262,
          1.552840719836552,
          -0.4316870464612591,
          -0.7613274261883847,
          0.14947076189898487,
          0.48595016476934905,
          -0.7926945550247574,
          0.7731965931118994,
          -0.6883938465753762,
          -2.225079507875566,
          0.5423950945731457,
          -0.34085758855813325,
          1.7417998243184183,
          -0.338719869712993,
          -1.2565129037379519,
          -0.4862357073192635,
          -0.26247542513880223,
          1.371966678906609,
          0.06204981495579611,
          0.1435830366946529,
          -0.09818086024700041,
          -1.0065206400186884,
          0.8816406316046609,
          1.365273883971452,
          -0.3084988064482174,
          -1.0107121741822607,
          0.13115805878508405,
          1.4331106094227337,
          0.1347015805384705,
          -1.2873072839233077,
          0.4520970966083857,
          -1.2803743865230197,
          1.1250400099747564,
          -0.26260192722481174,
          2.7583588538460173,
          0.3145755605376287,
          0.6148574032845244,
          -0.2865467255124006,
          -0.5077597544678613,
          0.34207611262169624,
          0.1176418668857983,
          0.6599108232966143,
          0.20697791306697302,
          -1.5497405311923949,
          -1.2399904990512816,
          -0.5418927010115602,
          -0.006076378393536418,
          1.396970316349856,
          0.29841528419805907,
          -0.5186695251409451,
          2.5370307553948255,
          1.4138531800659624,
          0.850227769881565,
          -0.5589241218200475,
          0.9370408392367986,
          -0.9036863474832941,
          -1.2731512830332214,
          0.43070386279979206,
          1.004596274576969,
          0.30830106177054645,
          0.15488032937692175,
          -1.0238457042133868,
          -1.0118295214957163,
          0.08967082143098096,
          -0.9042923514152782,
          -0.7405311429356125,
          -0.8425526874977495,
          1.1428674009459987,
          -1.1631122871541602,
          -0.47384436477048175,
          -1.0361201255211805,
          1.2289487011273375,
          -0.4323744236158504,
          -0.12486789140963928
         ],
         "xaxis": "x15",
         "y": [
          0.9233664551727817,
          0.2187068108806523,
          0.11865198024420574,
          -1.5579186623042052,
          -0.4672071562814396,
          3.0066626935308456,
          -0.32655014387269754,
          0.10772210250884771,
          0.8844221038072054,
          1.7722565392187368,
          1.184992792776857,
          0.2108781835560796,
          -1.1148099764931805,
          -4.345427928625704e-05,
          -1.983953129359126,
          -0.9649214601388116,
          -0.22125091561265933,
          1.2273455531899071,
          -0.0575385070370791,
          -0.11781601230391926,
          1.9166344516297773,
          -1.0970613676362393,
          0.43934146242854094,
          1.2762258985477217,
          0.07447449662748581,
          3.0919869419630976,
          0.5973122040456079,
          -0.7050905523339075,
          -0.4999112205302632,
          -0.03493124465617314,
          -0.7617881698096332,
          1.3797053254926674,
          -0.2215403633239477,
          0.6925481305262045,
          0.06167550672697119,
          -0.40963611935775956,
          0.35893243125669266,
          -0.41745743030591087,
          0.03015429313705,
          0.15602988591660222,
          -0.26787146265085654,
          -0.41417028686894974,
          1.5609792080758211,
          1.194969375259976,
          -0.6551383967781365,
          -1.755053789996685,
          1.5159309217952428,
          -1.28875100441881,
          -0.911926164600893,
          -0.5474702131804486,
          0.4047143059595249,
          -0.43079197819212006,
          0.08797226941624581,
          -0.6908029115601726,
          0.7242905167980132,
          0.23214396422851524,
          0.7247353002278414,
          1.9452025367983576,
          -0.6546861016814408,
          -0.6799974252683934,
          -0.5317611724410563,
          1.4405271470855314,
          1.1115247500755756,
          0.589893192958994,
          0.4824437508914874,
          1.377178678619452,
          -0.6862284977820776,
          0.13642842203149558,
          -0.8947830787665288,
          -1.2215509521492065,
          -0.9851235704440013,
          0.2769495490795035,
          -0.5492866868876993,
          -0.45589525253369273,
          -0.49258897950070984,
          -0.2268613593796678,
          -1.0595067963615048,
          -1.163113884097818,
          -2.131695933566539,
          0.42063353723874125,
          1.5399342918829222,
          -0.6831121602536194,
          0.7561167662337182,
          -1.1136598817381878,
          0.026303240811561608,
          -0.11853482107150998,
          -0.7999930888845683,
          0.6608875939920911,
          -0.4310373559079466,
          -0.6088333250428458,
          -0.8584547980700439,
          -0.18485197733031306,
          0.7591281136316559,
          0.4505866865518529,
          0.39346588693495527,
          0.2764004766793301,
          0.2849159220159852,
          0.2464470334073424,
          -1.9666741818132207,
          -0.11656813004260916
         ],
         "yaxis": "y15"
        },
        {
         "histfunc": "count",
         "histnorm": "",
         "marker": {
          "color": "rgba(128, 0, 128, 1.0)",
          "line": {
           "color": "#4D5663",
           "width": 1.3
          }
         },
         "name": "D",
         "nbinsx": 10,
         "opacity": 0.8,
         "orientation": "v",
         "type": "histogram",
         "x": [
          0.9233664551727817,
          0.2187068108806523,
          0.11865198024420574,
          -1.5579186623042052,
          -0.4672071562814396,
          3.0066626935308456,
          -0.32655014387269754,
          0.10772210250884771,
          0.8844221038072054,
          1.7722565392187368,
          1.184992792776857,
          0.2108781835560796,
          -1.1148099764931805,
          -4.345427928625704e-05,
          -1.983953129359126,
          -0.9649214601388116,
          -0.22125091561265933,
          1.2273455531899071,
          -0.0575385070370791,
          -0.11781601230391926,
          1.9166344516297773,
          -1.0970613676362393,
          0.43934146242854094,
          1.2762258985477217,
          0.07447449662748581,
          3.0919869419630976,
          0.5973122040456079,
          -0.7050905523339075,
          -0.4999112205302632,
          -0.03493124465617314,
          -0.7617881698096332,
          1.3797053254926674,
          -0.2215403633239477,
          0.6925481305262045,
          0.06167550672697119,
          -0.40963611935775956,
          0.35893243125669266,
          -0.41745743030591087,
          0.03015429313705,
          0.15602988591660222,
          -0.26787146265085654,
          -0.41417028686894974,
          1.5609792080758211,
          1.194969375259976,
          -0.6551383967781365,
          -1.755053789996685,
          1.5159309217952428,
          -1.28875100441881,
          -0.911926164600893,
          -0.5474702131804486,
          0.4047143059595249,
          -0.43079197819212006,
          0.08797226941624581,
          -0.6908029115601726,
          0.7242905167980132,
          0.23214396422851524,
          0.7247353002278414,
          1.9452025367983576,
          -0.6546861016814408,
          -0.6799974252683934,
          -0.5317611724410563,
          1.4405271470855314,
          1.1115247500755756,
          0.589893192958994,
          0.4824437508914874,
          1.377178678619452,
          -0.6862284977820776,
          0.13642842203149558,
          -0.8947830787665288,
          -1.2215509521492065,
          -0.9851235704440013,
          0.2769495490795035,
          -0.5492866868876993,
          -0.45589525253369273,
          -0.49258897950070984,
          -0.2268613593796678,
          -1.0595067963615048,
          -1.163113884097818,
          -2.131695933566539,
          0.42063353723874125,
          1.5399342918829222,
          -0.6831121602536194,
          0.7561167662337182,
          -1.1136598817381878,
          0.026303240811561608,
          -0.11853482107150998,
          -0.7999930888845683,
          0.6608875939920911,
          -0.4310373559079466,
          -0.6088333250428458,
          -0.8584547980700439,
          -0.18485197733031306,
          0.7591281136316559,
          0.4505866865518529,
          0.39346588693495527,
          0.2764004766793301,
          0.2849159220159852,
          0.2464470334073424,
          -1.9666741818132207,
          -0.11656813004260916
         ],
         "xaxis": "x16",
         "yaxis": "y16"
        }
       ],
       "layout": {
        "bargap": 0.02,
        "legend": {
         "bgcolor": "#F5F6F9",
         "font": {
          "color": "#4D5663"
         }
        },
        "paper_bgcolor": "#F5F6F9",
        "plot_bgcolor": "#F5F6F9",
        "showlegend": false,
        "template": {
         "data": {
          "bar": [
           {
            "error_x": {
             "color": "#2a3f5f"
            },
            "error_y": {
             "color": "#2a3f5f"
            },
            "marker": {
             "line": {
              "color": "#E5ECF6",
              "width": 0.5
             },
             "pattern": {
              "fillmode": "overlay",
              "size": 10,
              "solidity": 0.2
             }
            },
            "type": "bar"
           }
          ],
          "barpolar": [
           {
            "marker": {
             "line": {
              "color": "#E5ECF6",
              "width": 0.5
             },
             "pattern": {
              "fillmode": "overlay",
              "size": 10,
              "solidity": 0.2
             }
            },
            "type": "barpolar"
           }
          ],
          "carpet": [
           {
            "aaxis": {
             "endlinecolor": "#2a3f5f",
             "gridcolor": "white",
             "linecolor": "white",
             "minorgridcolor": "white",
             "startlinecolor": "#2a3f5f"
            },
            "baxis": {
             "endlinecolor": "#2a3f5f",
             "gridcolor": "white",
             "linecolor": "white",
             "minorgridcolor": "white",
             "startlinecolor": "#2a3f5f"
            },
            "type": "carpet"
           }
          ],
          "choropleth": [
           {
            "colorbar": {
             "outlinewidth": 0,
             "ticks": ""
            },
            "type": "choropleth"
           }
          ],
          "contour": [
           {
            "colorbar": {
             "outlinewidth": 0,
             "ticks": ""
            },
            "colorscale": [
             [
              0,
              "#0d0887"
             ],
             [
              0.1111111111111111,
              "#46039f"
             ],
             [
              0.2222222222222222,
              "#7201a8"
             ],
             [
              0.3333333333333333,
              "#9c179e"
             ],
             [
              0.4444444444444444,
              "#bd3786"
             ],
             [
              0.5555555555555556,
              "#d8576b"
             ],
             [
              0.6666666666666666,
              "#ed7953"
             ],
             [
              0.7777777777777778,
              "#fb9f3a"
             ],
             [
              0.8888888888888888,
              "#fdca26"
             ],
             [
              1,
              "#f0f921"
             ]
            ],
            "type": "contour"
           }
          ],
          "contourcarpet": [
           {
            "colorbar": {
             "outlinewidth": 0,
             "ticks": ""
            },
            "type": "contourcarpet"
           }
          ],
          "heatmap": [
           {
            "colorbar": {
             "outlinewidth": 0,
             "ticks": ""
            },
            "colorscale": [
             [
              0,
              "#0d0887"
             ],
             [
              0.1111111111111111,
              "#46039f"
             ],
             [
              0.2222222222222222,
              "#7201a8"
             ],
             [
              0.3333333333333333,
              "#9c179e"
             ],
             [
              0.4444444444444444,
              "#bd3786"
             ],
             [
              0.5555555555555556,
              "#d8576b"
             ],
             [
              0.6666666666666666,
              "#ed7953"
             ],
             [
              0.7777777777777778,
              "#fb9f3a"
             ],
             [
              0.8888888888888888,
              "#fdca26"
             ],
             [
              1,
              "#f0f921"
             ]
            ],
            "type": "heatmap"
           }
          ],
          "heatmapgl": [
           {
            "colorbar": {
             "outlinewidth": 0,
             "ticks": ""
            },
            "colorscale": [
             [
              0,
              "#0d0887"
             ],
             [
              0.1111111111111111,
              "#46039f"
             ],
             [
              0.2222222222222222,
              "#7201a8"
             ],
             [
              0.3333333333333333,
              "#9c179e"
             ],
             [
              0.4444444444444444,
              "#bd3786"
             ],
             [
              0.5555555555555556,
              "#d8576b"
             ],
             [
              0.6666666666666666,
              "#ed7953"
             ],
             [
              0.7777777777777778,
              "#fb9f3a"
             ],
             [
              0.8888888888888888,
              "#fdca26"
             ],
             [
              1,
              "#f0f921"
             ]
            ],
            "type": "heatmapgl"
           }
          ],
          "histogram": [
           {
            "marker": {
             "pattern": {
              "fillmode": "overlay",
              "size": 10,
              "solidity": 0.2
             }
            },
            "type": "histogram"
           }
          ],
          "histogram2d": [
           {
            "colorbar": {
             "outlinewidth": 0,
             "ticks": ""
            },
            "colorscale": [
             [
              0,
              "#0d0887"
             ],
             [
              0.1111111111111111,
              "#46039f"
             ],
             [
              0.2222222222222222,
              "#7201a8"
             ],
             [
              0.3333333333333333,
              "#9c179e"
             ],
             [
              0.4444444444444444,
              "#bd3786"
             ],
             [
              0.5555555555555556,
              "#d8576b"
             ],
             [
              0.6666666666666666,
              "#ed7953"
             ],
             [
              0.7777777777777778,
              "#fb9f3a"
             ],
             [
              0.8888888888888888,
              "#fdca26"
             ],
             [
              1,
              "#f0f921"
             ]
            ],
            "type": "histogram2d"
           }
          ],
          "histogram2dcontour": [
           {
            "colorbar": {
             "outlinewidth": 0,
             "ticks": ""
            },
            "colorscale": [
             [
              0,
              "#0d0887"
             ],
             [
              0.1111111111111111,
              "#46039f"
             ],
             [
              0.2222222222222222,
              "#7201a8"
             ],
             [
              0.3333333333333333,
              "#9c179e"
             ],
             [
              0.4444444444444444,
              "#bd3786"
             ],
             [
              0.5555555555555556,
              "#d8576b"
             ],
             [
              0.6666666666666666,
              "#ed7953"
             ],
             [
              0.7777777777777778,
              "#fb9f3a"
             ],
             [
              0.8888888888888888,
              "#fdca26"
             ],
             [
              1,
              "#f0f921"
             ]
            ],
            "type": "histogram2dcontour"
           }
          ],
          "mesh3d": [
           {
            "colorbar": {
             "outlinewidth": 0,
             "ticks": ""
            },
            "type": "mesh3d"
           }
          ],
          "parcoords": [
           {
            "line": {
             "colorbar": {
              "outlinewidth": 0,
              "ticks": ""
             }
            },
            "type": "parcoords"
           }
          ],
          "pie": [
           {
            "automargin": true,
            "type": "pie"
           }
          ],
          "scatter": [
           {
            "marker": {
             "colorbar": {
              "outlinewidth": 0,
              "ticks": ""
             }
            },
            "type": "scatter"
           }
          ],
          "scatter3d": [
           {
            "line": {
             "colorbar": {
              "outlinewidth": 0,
              "ticks": ""
             }
            },
            "marker": {
             "colorbar": {
              "outlinewidth": 0,
              "ticks": ""
             }
            },
            "type": "scatter3d"
           }
          ],
          "scattercarpet": [
           {
            "marker": {
             "colorbar": {
              "outlinewidth": 0,
              "ticks": ""
             }
            },
            "type": "scattercarpet"
           }
          ],
          "scattergeo": [
           {
            "marker": {
             "colorbar": {
              "outlinewidth": 0,
              "ticks": ""
             }
            },
            "type": "scattergeo"
           }
          ],
          "scattergl": [
           {
            "marker": {
             "colorbar": {
              "outlinewidth": 0,
              "ticks": ""
             }
            },
            "type": "scattergl"
           }
          ],
          "scattermapbox": [
           {
            "marker": {
             "colorbar": {
              "outlinewidth": 0,
              "ticks": ""
             }
            },
            "type": "scattermapbox"
           }
          ],
          "scatterpolar": [
           {
            "marker": {
             "colorbar": {
              "outlinewidth": 0,
              "ticks": ""
             }
            },
            "type": "scatterpolar"
           }
          ],
          "scatterpolargl": [
           {
            "marker": {
             "colorbar": {
              "outlinewidth": 0,
              "ticks": ""
             }
            },
            "type": "scatterpolargl"
           }
          ],
          "scatterternary": [
           {
            "marker": {
             "colorbar": {
              "outlinewidth": 0,
              "ticks": ""
             }
            },
            "type": "scatterternary"
           }
          ],
          "surface": [
           {
            "colorbar": {
             "outlinewidth": 0,
             "ticks": ""
            },
            "colorscale": [
             [
              0,
              "#0d0887"
             ],
             [
              0.1111111111111111,
              "#46039f"
             ],
             [
              0.2222222222222222,
              "#7201a8"
             ],
             [
              0.3333333333333333,
              "#9c179e"
             ],
             [
              0.4444444444444444,
              "#bd3786"
             ],
             [
              0.5555555555555556,
              "#d8576b"
             ],
             [
              0.6666666666666666,
              "#ed7953"
             ],
             [
              0.7777777777777778,
              "#fb9f3a"
             ],
             [
              0.8888888888888888,
              "#fdca26"
             ],
             [
              1,
              "#f0f921"
             ]
            ],
            "type": "surface"
           }
          ],
          "table": [
           {
            "cells": {
             "fill": {
              "color": "#EBF0F8"
             },
             "line": {
              "color": "white"
             }
            },
            "header": {
             "fill": {
              "color": "#C8D4E3"
             },
             "line": {
              "color": "white"
             }
            },
            "type": "table"
           }
          ]
         },
         "layout": {
          "annotationdefaults": {
           "arrowcolor": "#2a3f5f",
           "arrowhead": 0,
           "arrowwidth": 1
          },
          "autotypenumbers": "strict",
          "coloraxis": {
           "colorbar": {
            "outlinewidth": 0,
            "ticks": ""
           }
          },
          "colorscale": {
           "diverging": [
            [
             0,
             "#8e0152"
            ],
            [
             0.1,
             "#c51b7d"
            ],
            [
             0.2,
             "#de77ae"
            ],
            [
             0.3,
             "#f1b6da"
            ],
            [
             0.4,
             "#fde0ef"
            ],
            [
             0.5,
             "#f7f7f7"
            ],
            [
             0.6,
             "#e6f5d0"
            ],
            [
             0.7,
             "#b8e186"
            ],
            [
             0.8,
             "#7fbc41"
            ],
            [
             0.9,
             "#4d9221"
            ],
            [
             1,
             "#276419"
            ]
           ],
           "sequential": [
            [
             0,
             "#0d0887"
            ],
            [
             0.1111111111111111,
             "#46039f"
            ],
            [
             0.2222222222222222,
             "#7201a8"
            ],
            [
             0.3333333333333333,
             "#9c179e"
            ],
            [
             0.4444444444444444,
             "#bd3786"
            ],
            [
             0.5555555555555556,
             "#d8576b"
            ],
            [
             0.6666666666666666,
             "#ed7953"
            ],
            [
             0.7777777777777778,
             "#fb9f3a"
            ],
            [
             0.8888888888888888,
             "#fdca26"
            ],
            [
             1,
             "#f0f921"
            ]
           ],
           "sequentialminus": [
            [
             0,
             "#0d0887"
            ],
            [
             0.1111111111111111,
             "#46039f"
            ],
            [
             0.2222222222222222,
             "#7201a8"
            ],
            [
             0.3333333333333333,
             "#9c179e"
            ],
            [
             0.4444444444444444,
             "#bd3786"
            ],
            [
             0.5555555555555556,
             "#d8576b"
            ],
            [
             0.6666666666666666,
             "#ed7953"
            ],
            [
             0.7777777777777778,
             "#fb9f3a"
            ],
            [
             0.8888888888888888,
             "#fdca26"
            ],
            [
             1,
             "#f0f921"
            ]
           ]
          },
          "colorway": [
           "#636efa",
           "#EF553B",
           "#00cc96",
           "#ab63fa",
           "#FFA15A",
           "#19d3f3",
           "#FF6692",
           "#B6E880",
           "#FF97FF",
           "#FECB52"
          ],
          "font": {
           "color": "#2a3f5f"
          },
          "geo": {
           "bgcolor": "white",
           "lakecolor": "white",
           "landcolor": "#E5ECF6",
           "showlakes": true,
           "showland": true,
           "subunitcolor": "white"
          },
          "hoverlabel": {
           "align": "left"
          },
          "hovermode": "closest",
          "mapbox": {
           "style": "light"
          },
          "paper_bgcolor": "white",
          "plot_bgcolor": "#E5ECF6",
          "polar": {
           "angularaxis": {
            "gridcolor": "white",
            "linecolor": "white",
            "ticks": ""
           },
           "bgcolor": "#E5ECF6",
           "radialaxis": {
            "gridcolor": "white",
            "linecolor": "white",
            "ticks": ""
           }
          },
          "scene": {
           "xaxis": {
            "backgroundcolor": "#E5ECF6",
            "gridcolor": "white",
            "gridwidth": 2,
            "linecolor": "white",
            "showbackground": true,
            "ticks": "",
            "zerolinecolor": "white"
           },
           "yaxis": {
            "backgroundcolor": "#E5ECF6",
            "gridcolor": "white",
            "gridwidth": 2,
            "linecolor": "white",
            "showbackground": true,
            "ticks": "",
            "zerolinecolor": "white"
           },
           "zaxis": {
            "backgroundcolor": "#E5ECF6",
            "gridcolor": "white",
            "gridwidth": 2,
            "linecolor": "white",
            "showbackground": true,
            "ticks": "",
            "zerolinecolor": "white"
           }
          },
          "shapedefaults": {
           "line": {
            "color": "#2a3f5f"
           }
          },
          "ternary": {
           "aaxis": {
            "gridcolor": "white",
            "linecolor": "white",
            "ticks": ""
           },
           "baxis": {
            "gridcolor": "white",
            "linecolor": "white",
            "ticks": ""
           },
           "bgcolor": "#E5ECF6",
           "caxis": {
            "gridcolor": "white",
            "linecolor": "white",
            "ticks": ""
           }
          },
          "title": {
           "x": 0.05
          },
          "xaxis": {
           "automargin": true,
           "gridcolor": "white",
           "linecolor": "white",
           "ticks": "",
           "title": {
            "standoff": 15
           },
           "zerolinecolor": "white",
           "zerolinewidth": 2
          },
          "yaxis": {
           "automargin": true,
           "gridcolor": "white",
           "linecolor": "white",
           "ticks": "",
           "title": {
            "standoff": 15
           },
           "zerolinecolor": "white",
           "zerolinewidth": 2
          }
         }
        },
        "title": {
         "font": {
          "color": "#4D5663"
         }
        },
        "xaxis": {
         "anchor": "y",
         "domain": [
          0,
          0.2125
         ],
         "gridcolor": "#E1E5ED",
         "showgrid": false,
         "tickfont": {
          "color": "#4D5663"
         },
         "title": {
          "font": {
           "color": "#4D5663"
          },
          "text": ""
         },
         "zerolinecolor": "#E1E5ED"
        },
        "xaxis10": {
         "anchor": "y10",
         "domain": [
          0.2625,
          0.475
         ],
         "gridcolor": "#E1E5ED",
         "showgrid": false,
         "tickfont": {
          "color": "#4D5663"
         },
         "title": {
          "font": {
           "color": "#4D5663"
          },
          "text": ""
         },
         "zerolinecolor": "#E1E5ED"
        },
        "xaxis11": {
         "anchor": "y11",
         "domain": [
          0.525,
          0.7375
         ],
         "gridcolor": "#E1E5ED",
         "showgrid": false,
         "tickfont": {
          "color": "#4D5663"
         },
         "title": {
          "font": {
           "color": "#4D5663"
          },
          "text": ""
         },
         "zerolinecolor": "#E1E5ED"
        },
        "xaxis12": {
         "anchor": "y12",
         "domain": [
          0.7875,
          1
         ],
         "gridcolor": "#E1E5ED",
         "showgrid": false,
         "tickfont": {
          "color": "#4D5663"
         },
         "title": {
          "font": {
           "color": "#4D5663"
          },
          "text": ""
         },
         "zerolinecolor": "#E1E5ED"
        },
        "xaxis13": {
         "anchor": "y13",
         "domain": [
          0,
          0.2125
         ],
         "gridcolor": "#E1E5ED",
         "showgrid": false,
         "tickfont": {
          "color": "#4D5663"
         },
         "title": {
          "font": {
           "color": "#4D5663"
          },
          "text": ""
         },
         "zerolinecolor": "#E1E5ED"
        },
        "xaxis14": {
         "anchor": "y14",
         "domain": [
          0.2625,
          0.475
         ],
         "gridcolor": "#E1E5ED",
         "showgrid": false,
         "tickfont": {
          "color": "#4D5663"
         },
         "title": {
          "font": {
           "color": "#4D5663"
          },
          "text": ""
         },
         "zerolinecolor": "#E1E5ED"
        },
        "xaxis15": {
         "anchor": "y15",
         "domain": [
          0.525,
          0.7375
         ],
         "gridcolor": "#E1E5ED",
         "showgrid": false,
         "tickfont": {
          "color": "#4D5663"
         },
         "title": {
          "font": {
           "color": "#4D5663"
          },
          "text": ""
         },
         "zerolinecolor": "#E1E5ED"
        },
        "xaxis16": {
         "anchor": "y16",
         "domain": [
          0.7875,
          1
         ],
         "gridcolor": "#E1E5ED",
         "showgrid": false,
         "tickfont": {
          "color": "#4D5663"
         },
         "title": {
          "font": {
           "color": "#4D5663"
          },
          "text": ""
         },
         "zerolinecolor": "#E1E5ED"
        },
        "xaxis2": {
         "anchor": "y2",
         "domain": [
          0.2625,
          0.475
         ],
         "gridcolor": "#E1E5ED",
         "showgrid": false,
         "tickfont": {
          "color": "#4D5663"
         },
         "title": {
          "font": {
           "color": "#4D5663"
          },
          "text": ""
         },
         "zerolinecolor": "#E1E5ED"
        },
        "xaxis3": {
         "anchor": "y3",
         "domain": [
          0.525,
          0.7375
         ],
         "gridcolor": "#E1E5ED",
         "showgrid": false,
         "tickfont": {
          "color": "#4D5663"
         },
         "title": {
          "font": {
           "color": "#4D5663"
          },
          "text": ""
         },
         "zerolinecolor": "#E1E5ED"
        },
        "xaxis4": {
         "anchor": "y4",
         "domain": [
          0.7875,
          1
         ],
         "gridcolor": "#E1E5ED",
         "showgrid": false,
         "tickfont": {
          "color": "#4D5663"
         },
         "title": {
          "font": {
           "color": "#4D5663"
          },
          "text": ""
         },
         "zerolinecolor": "#E1E5ED"
        },
        "xaxis5": {
         "anchor": "y5",
         "domain": [
          0,
          0.2125
         ],
         "gridcolor": "#E1E5ED",
         "showgrid": false,
         "tickfont": {
          "color": "#4D5663"
         },
         "title": {
          "font": {
           "color": "#4D5663"
          },
          "text": ""
         },
         "zerolinecolor": "#E1E5ED"
        },
        "xaxis6": {
         "anchor": "y6",
         "domain": [
          0.2625,
          0.475
         ],
         "gridcolor": "#E1E5ED",
         "showgrid": false,
         "tickfont": {
          "color": "#4D5663"
         },
         "title": {
          "font": {
           "color": "#4D5663"
          },
          "text": ""
         },
         "zerolinecolor": "#E1E5ED"
        },
        "xaxis7": {
         "anchor": "y7",
         "domain": [
          0.525,
          0.7375
         ],
         "gridcolor": "#E1E5ED",
         "showgrid": false,
         "tickfont": {
          "color": "#4D5663"
         },
         "title": {
          "font": {
           "color": "#4D5663"
          },
          "text": ""
         },
         "zerolinecolor": "#E1E5ED"
        },
        "xaxis8": {
         "anchor": "y8",
         "domain": [
          0.7875,
          1
         ],
         "gridcolor": "#E1E5ED",
         "showgrid": false,
         "tickfont": {
          "color": "#4D5663"
         },
         "title": {
          "font": {
           "color": "#4D5663"
          },
          "text": ""
         },
         "zerolinecolor": "#E1E5ED"
        },
        "xaxis9": {
         "anchor": "y9",
         "domain": [
          0,
          0.2125
         ],
         "gridcolor": "#E1E5ED",
         "showgrid": false,
         "tickfont": {
          "color": "#4D5663"
         },
         "title": {
          "font": {
           "color": "#4D5663"
          },
          "text": ""
         },
         "zerolinecolor": "#E1E5ED"
        },
        "yaxis": {
         "anchor": "x",
         "domain": [
          0.8025,
          1
         ],
         "gridcolor": "#E1E5ED",
         "showgrid": false,
         "tickfont": {
          "color": "#4D5663"
         },
         "title": {
          "font": {
           "color": "#4D5663"
          },
          "text": ""
         },
         "zerolinecolor": "#E1E5ED"
        },
        "yaxis10": {
         "anchor": "x10",
         "domain": [
          0.2675,
          0.465
         ],
         "gridcolor": "#E1E5ED",
         "showgrid": false,
         "tickfont": {
          "color": "#4D5663"
         },
         "title": {
          "font": {
           "color": "#4D5663"
          },
          "text": ""
         },
         "zerolinecolor": "#E1E5ED"
        },
        "yaxis11": {
         "anchor": "x11",
         "domain": [
          0.2675,
          0.465
         ],
         "gridcolor": "#E1E5ED",
         "showgrid": false,
         "tickfont": {
          "color": "#4D5663"
         },
         "title": {
          "font": {
           "color": "#4D5663"
          },
          "text": ""
         },
         "zerolinecolor": "#E1E5ED"
        },
        "yaxis12": {
         "anchor": "x12",
         "domain": [
          0.2675,
          0.465
         ],
         "gridcolor": "#E1E5ED",
         "showgrid": false,
         "tickfont": {
          "color": "#4D5663"
         },
         "title": {
          "font": {
           "color": "#4D5663"
          },
          "text": ""
         },
         "zerolinecolor": "#E1E5ED"
        },
        "yaxis13": {
         "anchor": "x13",
         "domain": [
          0,
          0.1975
         ],
         "gridcolor": "#E1E5ED",
         "showgrid": false,
         "tickfont": {
          "color": "#4D5663"
         },
         "title": {
          "font": {
           "color": "#4D5663"
          },
          "text": ""
         },
         "zerolinecolor": "#E1E5ED"
        },
        "yaxis14": {
         "anchor": "x14",
         "domain": [
          0,
          0.1975
         ],
         "gridcolor": "#E1E5ED",
         "showgrid": false,
         "tickfont": {
          "color": "#4D5663"
         },
         "title": {
          "font": {
           "color": "#4D5663"
          },
          "text": ""
         },
         "zerolinecolor": "#E1E5ED"
        },
        "yaxis15": {
         "anchor": "x15",
         "domain": [
          0,
          0.1975
         ],
         "gridcolor": "#E1E5ED",
         "showgrid": false,
         "tickfont": {
          "color": "#4D5663"
         },
         "title": {
          "font": {
           "color": "#4D5663"
          },
          "text": ""
         },
         "zerolinecolor": "#E1E5ED"
        },
        "yaxis16": {
         "anchor": "x16",
         "domain": [
          0,
          0.1975
         ],
         "gridcolor": "#E1E5ED",
         "showgrid": false,
         "tickfont": {
          "color": "#4D5663"
         },
         "title": {
          "font": {
           "color": "#4D5663"
          },
          "text": ""
         },
         "zerolinecolor": "#E1E5ED"
        },
        "yaxis2": {
         "anchor": "x2",
         "domain": [
          0.8025,
          1
         ],
         "gridcolor": "#E1E5ED",
         "showgrid": false,
         "tickfont": {
          "color": "#4D5663"
         },
         "title": {
          "font": {
           "color": "#4D5663"
          },
          "text": ""
         },
         "zerolinecolor": "#E1E5ED"
        },
        "yaxis3": {
         "anchor": "x3",
         "domain": [
          0.8025,
          1
         ],
         "gridcolor": "#E1E5ED",
         "showgrid": false,
         "tickfont": {
          "color": "#4D5663"
         },
         "title": {
          "font": {
           "color": "#4D5663"
          },
          "text": ""
         },
         "zerolinecolor": "#E1E5ED"
        },
        "yaxis4": {
         "anchor": "x4",
         "domain": [
          0.8025,
          1
         ],
         "gridcolor": "#E1E5ED",
         "showgrid": false,
         "tickfont": {
          "color": "#4D5663"
         },
         "title": {
          "font": {
           "color": "#4D5663"
          },
          "text": ""
         },
         "zerolinecolor": "#E1E5ED"
        },
        "yaxis5": {
         "anchor": "x5",
         "domain": [
          0.535,
          0.7325
         ],
         "gridcolor": "#E1E5ED",
         "showgrid": false,
         "tickfont": {
          "color": "#4D5663"
         },
         "title": {
          "font": {
           "color": "#4D5663"
          },
          "text": ""
         },
         "zerolinecolor": "#E1E5ED"
        },
        "yaxis6": {
         "anchor": "x6",
         "domain": [
          0.535,
          0.7325
         ],
         "gridcolor": "#E1E5ED",
         "showgrid": false,
         "tickfont": {
          "color": "#4D5663"
         },
         "title": {
          "font": {
           "color": "#4D5663"
          },
          "text": ""
         },
         "zerolinecolor": "#E1E5ED"
        },
        "yaxis7": {
         "anchor": "x7",
         "domain": [
          0.535,
          0.7325
         ],
         "gridcolor": "#E1E5ED",
         "showgrid": false,
         "tickfont": {
          "color": "#4D5663"
         },
         "title": {
          "font": {
           "color": "#4D5663"
          },
          "text": ""
         },
         "zerolinecolor": "#E1E5ED"
        },
        "yaxis8": {
         "anchor": "x8",
         "domain": [
          0.535,
          0.7325
         ],
         "gridcolor": "#E1E5ED",
         "showgrid": false,
         "tickfont": {
          "color": "#4D5663"
         },
         "title": {
          "font": {
           "color": "#4D5663"
          },
          "text": ""
         },
         "zerolinecolor": "#E1E5ED"
        },
        "yaxis9": {
         "anchor": "x9",
         "domain": [
          0.2675,
          0.465
         ],
         "gridcolor": "#E1E5ED",
         "showgrid": false,
         "tickfont": {
          "color": "#4D5663"
         },
         "title": {
          "font": {
           "color": "#4D5663"
          },
          "text": ""
         },
         "zerolinecolor": "#E1E5ED"
        }
       }
      },
      "text/html": [
       "<div>                            <div id=\"9306fee0-b93b-4852-b3c8-8a2a91d3a091\" class=\"plotly-graph-div\" style=\"height:525px; width:100%;\"></div>            <script type=\"text/javascript\">                require([\"plotly\"], function(Plotly) {                    window.PLOTLYENV=window.PLOTLYENV || {};\n",
       "                    window.PLOTLYENV.BASE_URL='https://plot.ly';                                    if (document.getElementById(\"9306fee0-b93b-4852-b3c8-8a2a91d3a091\")) {                    Plotly.newPlot(                        \"9306fee0-b93b-4852-b3c8-8a2a91d3a091\",                        [{\"histfunc\":\"count\",\"histnorm\":\"\",\"marker\":{\"color\":\"rgba(255, 153, 51, 1.0)\",\"line\":{\"color\":\"#4D5663\",\"width\":1.3}},\"name\":\"A\",\"nbinsx\":10,\"opacity\":0.8,\"orientation\":\"v\",\"x\":[-1.309527744420406,-0.43461471341730906,-0.6595622762097307,-1.8087704558636009,-0.21507624397672268,-0.38856874633371274,0.39323640994019327,-1.5768836282447465,0.22178931809236666,-0.9431156572498557,-1.9102029239374554,-0.477769555673728,-1.089425538238347,-1.0357538495845635,1.2252166381530092,0.37107402061163053,-1.158252094622077,1.3695745789888654,-1.01825182367802,-1.7722468986897701,-0.2168013554876337,0.4755191701253149,-0.31047009102309275,-1.1396124818852957,-0.6999173593661061,-1.1371155062620095,-0.4910949440770942,-1.3621373445513156,1.0766873032479476,0.525928465473397,0.18338106944618113,-0.1505291458789072,1.8846432497944905,1.0605122306404768,-0.962144311117594,-0.1476914461688686,0.7205523460441676,-1.7892639026055361,-1.0548281912697273,1.7356821752881395,0.7623513817996954,0.3727625957984767,0.44451049023253525,1.4676975285083917,0.4814662048334038,0.6221661115520754,0.2370320573531419,-0.7473679255146413,0.6347836687579423,1.2138547818174472,-1.1115098285811436,-0.741420524794404,-1.7765108665886487,0.810113366475899,0.47669154362011024,-0.4134257725397369,0.765857785416105,-0.965188219950402,-1.4789137379581754,-0.6434993507816088,1.1172937554301525,-0.495694212475232,-0.387836058015111,-1.5016648314212626,0.1203043588212254,1.2088376698736039,-0.07194726263107164,0.15389399355134598,-0.6401244083647915,-0.08273948253381846,-1.3592394732882558,-1.9885105671375787,0.038505035218103376,-1.24448668315206,1.0295590758843345,0.33682960031944126,0.016429352896183677,-0.8237702468602085,-0.18449476647468116,1.3095212684401376,1.3587986132723278,-0.6051067858004684,-1.6266419057988017,1.0042132470590117,-0.941415138673278,-0.22540308480569024,1.3745114441408741,0.9480792162916354,-0.6327623894459151,-0.4249154919293121,0.6437607373691273,-0.023221467246056046,-0.11276162648807049,-1.4583110545841829,1.2612779604538449,1.3478794165153494,-0.380129484919786,1.451947890281281,-1.1301928995517123,-1.9753921455165973],\"xaxis\":\"x\",\"yaxis\":\"y\",\"type\":\"histogram\"},{\"line\":{\"color\":\"rgba(128, 128, 128, 1.0)\",\"dash\":\"solid\",\"shape\":\"linear\",\"width\":1.3},\"marker\":{\"size\":2,\"symbol\":\"circle\"},\"mode\":\"markers\",\"name\":\"A\",\"text\":\"\",\"x\":[-0.3135045106961009,0.27106706687477644,0.6119471965110417,0.3009908952710065,-1.7296433552727768,-0.8395951219175694,0.16250707660228472,0.5055405458960701,-0.832888025408523,0.9109193800627438,-0.26573228768153007,-1.048508086534288,2.3935354905650352,-0.6120845323882204,0.2794630660004881,1.627451053655647,-0.6851014265020644,-0.05563959335930016,-0.135370377466742,1.1825219023457476,0.09104646907592046,-0.23291348461501518,0.7536213073112578,0.4852510554975916,-0.11598911508126203,1.0968318367465173,0.18417105335675082,-1.3013280121311601,-1.5523879941424124,-0.32369753741302265,0.12823504654106158,0.3235706409631143,-0.39016583384232667,-1.3483469875160243,-0.8778043256258503,-0.6566745979642085,-0.8717450588581389,-0.6555475573355242,1.1869681326633754,-1.6754949879668986,-1.0166574270487643,0.30084494827373853,-0.5569631288734428,-0.567768653274891,-1.240819396653744,0.07056845771157615,1.7622707398041684,0.18529340390041166,-0.9353562273967888,-0.6885393911334184,1.5338969581422393,1.5892838914058174,-1.614263003322591,-0.15402669237130096,1.159444826889843,0.08959925841560044,-0.7533113996854893,1.905234347898969,0.7307657905729821,-0.29285654487137897,1.7069381234928882,0.5380807773841841,-0.633045084982813,-1.7779188737619718,1.4017987066713467,-0.08474720608466335,0.8776521766497231,0.4641730284714228,0.45125150792532565,0.060392922247830425,0.8784203727592276,-0.1688059199189494,-1.0896619947083495,0.0171159299839232,0.08104028200629111,2.1271586379364784,-0.976903741909578,1.1376357527698266,-0.00012090109272308358,1.6484473114720377,-1.0772133462637432,-0.9150194793716977,-0.13908916224241138,1.420245945456923,-0.8638449427158882,0.35946872217060843,0.353760398347842,-0.034214007117311096,0.42062282065593914,-0.4119607557910614,-2.246530449988816,0.6572380023859556,1.5371929318791877,0.7047641075968462,0.2758760032749365,0.3641139356290369,-1.7452790367604647,0.7507657464946539,0.7660509128626469,-1.918014533068927],\"xaxis\":\"x2\",\"y\":[-1.309527744420406,-0.43461471341730906,-0.6595622762097307,-1.8087704558636009,-0.21507624397672268,-0.38856874633371274,0.39323640994019327,-1.5768836282447465,0.22178931809236666,-0.9431156572498557,-1.9102029239374554,-0.477769555673728,-1.089425538238347,-1.0357538495845635,1.2252166381530092,0.37107402061163053,-1.158252094622077,1.3695745789888654,-1.01825182367802,-1.7722468986897701,-0.2168013554876337,0.4755191701253149,-0.31047009102309275,-1.1396124818852957,-0.6999173593661061,-1.1371155062620095,-0.4910949440770942,-1.3621373445513156,1.0766873032479476,0.525928465473397,0.18338106944618113,-0.1505291458789072,1.8846432497944905,1.0605122306404768,-0.962144311117594,-0.1476914461688686,0.7205523460441676,-1.7892639026055361,-1.0548281912697273,1.7356821752881395,0.7623513817996954,0.3727625957984767,0.44451049023253525,1.4676975285083917,0.4814662048334038,0.6221661115520754,0.2370320573531419,-0.7473679255146413,0.6347836687579423,1.2138547818174472,-1.1115098285811436,-0.741420524794404,-1.7765108665886487,0.810113366475899,0.47669154362011024,-0.4134257725397369,0.765857785416105,-0.965188219950402,-1.4789137379581754,-0.6434993507816088,1.1172937554301525,-0.495694212475232,-0.387836058015111,-1.5016648314212626,0.1203043588212254,1.2088376698736039,-0.07194726263107164,0.15389399355134598,-0.6401244083647915,-0.08273948253381846,-1.3592394732882558,-1.9885105671375787,0.038505035218103376,-1.24448668315206,1.0295590758843345,0.33682960031944126,0.016429352896183677,-0.8237702468602085,-0.18449476647468116,1.3095212684401376,1.3587986132723278,-0.6051067858004684,-1.6266419057988017,1.0042132470590117,-0.941415138673278,-0.22540308480569024,1.3745114441408741,0.9480792162916354,-0.6327623894459151,-0.4249154919293121,0.6437607373691273,-0.023221467246056046,-0.11276162648807049,-1.4583110545841829,1.2612779604538449,1.3478794165153494,-0.380129484919786,1.451947890281281,-1.1301928995517123,-1.9753921455165973],\"yaxis\":\"y2\",\"type\":\"scatter\"},{\"line\":{\"color\":\"rgba(128, 128, 128, 1.0)\",\"dash\":\"solid\",\"shape\":\"linear\",\"width\":1.3},\"marker\":{\"size\":2,\"symbol\":\"circle\"},\"mode\":\"markers\",\"name\":\"A\",\"text\":\"\",\"x\":[-0.2575191113048818,1.320500761745751,0.5393212069591781,0.04219896750035622,1.698198936943047,0.5028199669499871,-0.1498454934058726,0.9633475163625961,-1.339015637048091,-0.6182770329783752,-0.33591206203027124,-0.18188932275864927,-0.5454887664402375,-0.6883932246837449,-0.30489076816095145,-1.0100830280007966,-1.0655391492630855,-0.12015197749752969,0.5860522797870924,0.4192151567643949,-1.3353733919720032,-0.031402120800871076,-2.1335260348390843,-0.3441969850120935,-1.7542223093498468,-0.295042033863205,-0.18863870771689262,1.552840719836552,-0.4316870464612591,-0.7613274261883847,0.14947076189898487,0.48595016476934905,-0.7926945550247574,0.7731965931118994,-0.6883938465753762,-2.225079507875566,0.5423950945731457,-0.34085758855813325,1.7417998243184183,-0.338719869712993,-1.2565129037379519,-0.4862357073192635,-0.26247542513880223,1.371966678906609,0.06204981495579611,0.1435830366946529,-0.09818086024700041,-1.0065206400186884,0.8816406316046609,1.365273883971452,-0.3084988064482174,-1.0107121741822607,0.13115805878508405,1.4331106094227337,0.1347015805384705,-1.2873072839233077,0.4520970966083857,-1.2803743865230197,1.1250400099747564,-0.26260192722481174,2.7583588538460173,0.3145755605376287,0.6148574032845244,-0.2865467255124006,-0.5077597544678613,0.34207611262169624,0.1176418668857983,0.6599108232966143,0.20697791306697302,-1.5497405311923949,-1.2399904990512816,-0.5418927010115602,-0.006076378393536418,1.396970316349856,0.29841528419805907,-0.5186695251409451,2.5370307553948255,1.4138531800659624,0.850227769881565,-0.5589241218200475,0.9370408392367986,-0.9036863474832941,-1.2731512830332214,0.43070386279979206,1.004596274576969,0.30830106177054645,0.15488032937692175,-1.0238457042133868,-1.0118295214957163,0.08967082143098096,-0.9042923514152782,-0.7405311429356125,-0.8425526874977495,1.1428674009459987,-1.1631122871541602,-0.47384436477048175,-1.0361201255211805,1.2289487011273375,-0.4323744236158504,-0.12486789140963928],\"xaxis\":\"x3\",\"y\":[-1.309527744420406,-0.43461471341730906,-0.6595622762097307,-1.8087704558636009,-0.21507624397672268,-0.38856874633371274,0.39323640994019327,-1.5768836282447465,0.22178931809236666,-0.9431156572498557,-1.9102029239374554,-0.477769555673728,-1.089425538238347,-1.0357538495845635,1.2252166381530092,0.37107402061163053,-1.158252094622077,1.3695745789888654,-1.01825182367802,-1.7722468986897701,-0.2168013554876337,0.4755191701253149,-0.31047009102309275,-1.1396124818852957,-0.6999173593661061,-1.1371155062620095,-0.4910949440770942,-1.3621373445513156,1.0766873032479476,0.525928465473397,0.18338106944618113,-0.1505291458789072,1.8846432497944905,1.0605122306404768,-0.962144311117594,-0.1476914461688686,0.7205523460441676,-1.7892639026055361,-1.0548281912697273,1.7356821752881395,0.7623513817996954,0.3727625957984767,0.44451049023253525,1.4676975285083917,0.4814662048334038,0.6221661115520754,0.2370320573531419,-0.7473679255146413,0.6347836687579423,1.2138547818174472,-1.1115098285811436,-0.741420524794404,-1.7765108665886487,0.810113366475899,0.47669154362011024,-0.4134257725397369,0.765857785416105,-0.965188219950402,-1.4789137379581754,-0.6434993507816088,1.1172937554301525,-0.495694212475232,-0.387836058015111,-1.5016648314212626,0.1203043588212254,1.2088376698736039,-0.07194726263107164,0.15389399355134598,-0.6401244083647915,-0.08273948253381846,-1.3592394732882558,-1.9885105671375787,0.038505035218103376,-1.24448668315206,1.0295590758843345,0.33682960031944126,0.016429352896183677,-0.8237702468602085,-0.18449476647468116,1.3095212684401376,1.3587986132723278,-0.6051067858004684,-1.6266419057988017,1.0042132470590117,-0.941415138673278,-0.22540308480569024,1.3745114441408741,0.9480792162916354,-0.6327623894459151,-0.4249154919293121,0.6437607373691273,-0.023221467246056046,-0.11276162648807049,-1.4583110545841829,1.2612779604538449,1.3478794165153494,-0.380129484919786,1.451947890281281,-1.1301928995517123,-1.9753921455165973],\"yaxis\":\"y3\",\"type\":\"scatter\"},{\"line\":{\"color\":\"rgba(128, 128, 128, 1.0)\",\"dash\":\"solid\",\"shape\":\"linear\",\"width\":1.3},\"marker\":{\"size\":2,\"symbol\":\"circle\"},\"mode\":\"markers\",\"name\":\"A\",\"text\":\"\",\"x\":[0.9233664551727817,0.2187068108806523,0.11865198024420574,-1.5579186623042052,-0.4672071562814396,3.0066626935308456,-0.32655014387269754,0.10772210250884771,0.8844221038072054,1.7722565392187368,1.184992792776857,0.2108781835560796,-1.1148099764931805,-4.345427928625704e-05,-1.983953129359126,-0.9649214601388116,-0.22125091561265933,1.2273455531899071,-0.0575385070370791,-0.11781601230391926,1.9166344516297773,-1.0970613676362393,0.43934146242854094,1.2762258985477217,0.07447449662748581,3.0919869419630976,0.5973122040456079,-0.7050905523339075,-0.4999112205302632,-0.03493124465617314,-0.7617881698096332,1.3797053254926674,-0.2215403633239477,0.6925481305262045,0.06167550672697119,-0.40963611935775956,0.35893243125669266,-0.41745743030591087,0.03015429313705,0.15602988591660222,-0.26787146265085654,-0.41417028686894974,1.5609792080758211,1.194969375259976,-0.6551383967781365,-1.755053789996685,1.5159309217952428,-1.28875100441881,-0.911926164600893,-0.5474702131804486,0.4047143059595249,-0.43079197819212006,0.08797226941624581,-0.6908029115601726,0.7242905167980132,0.23214396422851524,0.7247353002278414,1.9452025367983576,-0.6546861016814408,-0.6799974252683934,-0.5317611724410563,1.4405271470855314,1.1115247500755756,0.589893192958994,0.4824437508914874,1.377178678619452,-0.6862284977820776,0.13642842203149558,-0.8947830787665288,-1.2215509521492065,-0.9851235704440013,0.2769495490795035,-0.5492866868876993,-0.45589525253369273,-0.49258897950070984,-0.2268613593796678,-1.0595067963615048,-1.163113884097818,-2.131695933566539,0.42063353723874125,1.5399342918829222,-0.6831121602536194,0.7561167662337182,-1.1136598817381878,0.026303240811561608,-0.11853482107150998,-0.7999930888845683,0.6608875939920911,-0.4310373559079466,-0.6088333250428458,-0.8584547980700439,-0.18485197733031306,0.7591281136316559,0.4505866865518529,0.39346588693495527,0.2764004766793301,0.2849159220159852,0.2464470334073424,-1.9666741818132207,-0.11656813004260916],\"xaxis\":\"x4\",\"y\":[-1.309527744420406,-0.43461471341730906,-0.6595622762097307,-1.8087704558636009,-0.21507624397672268,-0.38856874633371274,0.39323640994019327,-1.5768836282447465,0.22178931809236666,-0.9431156572498557,-1.9102029239374554,-0.477769555673728,-1.089425538238347,-1.0357538495845635,1.2252166381530092,0.37107402061163053,-1.158252094622077,1.3695745789888654,-1.01825182367802,-1.7722468986897701,-0.2168013554876337,0.4755191701253149,-0.31047009102309275,-1.1396124818852957,-0.6999173593661061,-1.1371155062620095,-0.4910949440770942,-1.3621373445513156,1.0766873032479476,0.525928465473397,0.18338106944618113,-0.1505291458789072,1.8846432497944905,1.0605122306404768,-0.962144311117594,-0.1476914461688686,0.7205523460441676,-1.7892639026055361,-1.0548281912697273,1.7356821752881395,0.7623513817996954,0.3727625957984767,0.44451049023253525,1.4676975285083917,0.4814662048334038,0.6221661115520754,0.2370320573531419,-0.7473679255146413,0.6347836687579423,1.2138547818174472,-1.1115098285811436,-0.741420524794404,-1.7765108665886487,0.810113366475899,0.47669154362011024,-0.4134257725397369,0.765857785416105,-0.965188219950402,-1.4789137379581754,-0.6434993507816088,1.1172937554301525,-0.495694212475232,-0.387836058015111,-1.5016648314212626,0.1203043588212254,1.2088376698736039,-0.07194726263107164,0.15389399355134598,-0.6401244083647915,-0.08273948253381846,-1.3592394732882558,-1.9885105671375787,0.038505035218103376,-1.24448668315206,1.0295590758843345,0.33682960031944126,0.016429352896183677,-0.8237702468602085,-0.18449476647468116,1.3095212684401376,1.3587986132723278,-0.6051067858004684,-1.6266419057988017,1.0042132470590117,-0.941415138673278,-0.22540308480569024,1.3745114441408741,0.9480792162916354,-0.6327623894459151,-0.4249154919293121,0.6437607373691273,-0.023221467246056046,-0.11276162648807049,-1.4583110545841829,1.2612779604538449,1.3478794165153494,-0.380129484919786,1.451947890281281,-1.1301928995517123,-1.9753921455165973],\"yaxis\":\"y4\",\"type\":\"scatter\"},{\"line\":{\"color\":\"rgba(128, 128, 128, 1.0)\",\"dash\":\"solid\",\"shape\":\"linear\",\"width\":1.3},\"marker\":{\"size\":2,\"symbol\":\"circle\"},\"mode\":\"markers\",\"name\":\"B\",\"text\":\"\",\"x\":[-1.309527744420406,-0.43461471341730906,-0.6595622762097307,-1.8087704558636009,-0.21507624397672268,-0.38856874633371274,0.39323640994019327,-1.5768836282447465,0.22178931809236666,-0.9431156572498557,-1.9102029239374554,-0.477769555673728,-1.089425538238347,-1.0357538495845635,1.2252166381530092,0.37107402061163053,-1.158252094622077,1.3695745789888654,-1.01825182367802,-1.7722468986897701,-0.2168013554876337,0.4755191701253149,-0.31047009102309275,-1.1396124818852957,-0.6999173593661061,-1.1371155062620095,-0.4910949440770942,-1.3621373445513156,1.0766873032479476,0.525928465473397,0.18338106944618113,-0.1505291458789072,1.8846432497944905,1.0605122306404768,-0.962144311117594,-0.1476914461688686,0.7205523460441676,-1.7892639026055361,-1.0548281912697273,1.7356821752881395,0.7623513817996954,0.3727625957984767,0.44451049023253525,1.4676975285083917,0.4814662048334038,0.6221661115520754,0.2370320573531419,-0.7473679255146413,0.6347836687579423,1.2138547818174472,-1.1115098285811436,-0.741420524794404,-1.7765108665886487,0.810113366475899,0.47669154362011024,-0.4134257725397369,0.765857785416105,-0.965188219950402,-1.4789137379581754,-0.6434993507816088,1.1172937554301525,-0.495694212475232,-0.387836058015111,-1.5016648314212626,0.1203043588212254,1.2088376698736039,-0.07194726263107164,0.15389399355134598,-0.6401244083647915,-0.08273948253381846,-1.3592394732882558,-1.9885105671375787,0.038505035218103376,-1.24448668315206,1.0295590758843345,0.33682960031944126,0.016429352896183677,-0.8237702468602085,-0.18449476647468116,1.3095212684401376,1.3587986132723278,-0.6051067858004684,-1.6266419057988017,1.0042132470590117,-0.941415138673278,-0.22540308480569024,1.3745114441408741,0.9480792162916354,-0.6327623894459151,-0.4249154919293121,0.6437607373691273,-0.023221467246056046,-0.11276162648807049,-1.4583110545841829,1.2612779604538449,1.3478794165153494,-0.380129484919786,1.451947890281281,-1.1301928995517123,-1.9753921455165973],\"xaxis\":\"x5\",\"y\":[-0.3135045106961009,0.27106706687477644,0.6119471965110417,0.3009908952710065,-1.7296433552727768,-0.8395951219175694,0.16250707660228472,0.5055405458960701,-0.832888025408523,0.9109193800627438,-0.26573228768153007,-1.048508086534288,2.3935354905650352,-0.6120845323882204,0.2794630660004881,1.627451053655647,-0.6851014265020644,-0.05563959335930016,-0.135370377466742,1.1825219023457476,0.09104646907592046,-0.23291348461501518,0.7536213073112578,0.4852510554975916,-0.11598911508126203,1.0968318367465173,0.18417105335675082,-1.3013280121311601,-1.5523879941424124,-0.32369753741302265,0.12823504654106158,0.3235706409631143,-0.39016583384232667,-1.3483469875160243,-0.8778043256258503,-0.6566745979642085,-0.8717450588581389,-0.6555475573355242,1.1869681326633754,-1.6754949879668986,-1.0166574270487643,0.30084494827373853,-0.5569631288734428,-0.567768653274891,-1.240819396653744,0.07056845771157615,1.7622707398041684,0.18529340390041166,-0.9353562273967888,-0.6885393911334184,1.5338969581422393,1.5892838914058174,-1.614263003322591,-0.15402669237130096,1.159444826889843,0.08959925841560044,-0.7533113996854893,1.905234347898969,0.7307657905729821,-0.29285654487137897,1.7069381234928882,0.5380807773841841,-0.633045084982813,-1.7779188737619718,1.4017987066713467,-0.08474720608466335,0.8776521766497231,0.4641730284714228,0.45125150792532565,0.060392922247830425,0.8784203727592276,-0.1688059199189494,-1.0896619947083495,0.0171159299839232,0.08104028200629111,2.1271586379364784,-0.976903741909578,1.1376357527698266,-0.00012090109272308358,1.6484473114720377,-1.0772133462637432,-0.9150194793716977,-0.13908916224241138,1.420245945456923,-0.8638449427158882,0.35946872217060843,0.353760398347842,-0.034214007117311096,0.42062282065593914,-0.4119607557910614,-2.246530449988816,0.6572380023859556,1.5371929318791877,0.7047641075968462,0.2758760032749365,0.3641139356290369,-1.7452790367604647,0.7507657464946539,0.7660509128626469,-1.918014533068927],\"yaxis\":\"y5\",\"type\":\"scatter\"},{\"histfunc\":\"count\",\"histnorm\":\"\",\"marker\":{\"color\":\"rgba(55, 128, 191, 1.0)\",\"line\":{\"color\":\"#4D5663\",\"width\":1.3}},\"name\":\"B\",\"nbinsx\":10,\"opacity\":0.8,\"orientation\":\"v\",\"x\":[-0.3135045106961009,0.27106706687477644,0.6119471965110417,0.3009908952710065,-1.7296433552727768,-0.8395951219175694,0.16250707660228472,0.5055405458960701,-0.832888025408523,0.9109193800627438,-0.26573228768153007,-1.048508086534288,2.3935354905650352,-0.6120845323882204,0.2794630660004881,1.627451053655647,-0.6851014265020644,-0.05563959335930016,-0.135370377466742,1.1825219023457476,0.09104646907592046,-0.23291348461501518,0.7536213073112578,0.4852510554975916,-0.11598911508126203,1.0968318367465173,0.18417105335675082,-1.3013280121311601,-1.5523879941424124,-0.32369753741302265,0.12823504654106158,0.3235706409631143,-0.39016583384232667,-1.3483469875160243,-0.8778043256258503,-0.6566745979642085,-0.8717450588581389,-0.6555475573355242,1.1869681326633754,-1.6754949879668986,-1.0166574270487643,0.30084494827373853,-0.5569631288734428,-0.567768653274891,-1.240819396653744,0.07056845771157615,1.7622707398041684,0.18529340390041166,-0.9353562273967888,-0.6885393911334184,1.5338969581422393,1.5892838914058174,-1.614263003322591,-0.15402669237130096,1.159444826889843,0.08959925841560044,-0.7533113996854893,1.905234347898969,0.7307657905729821,-0.29285654487137897,1.7069381234928882,0.5380807773841841,-0.633045084982813,-1.7779188737619718,1.4017987066713467,-0.08474720608466335,0.8776521766497231,0.4641730284714228,0.45125150792532565,0.060392922247830425,0.8784203727592276,-0.1688059199189494,-1.0896619947083495,0.0171159299839232,0.08104028200629111,2.1271586379364784,-0.976903741909578,1.1376357527698266,-0.00012090109272308358,1.6484473114720377,-1.0772133462637432,-0.9150194793716977,-0.13908916224241138,1.420245945456923,-0.8638449427158882,0.35946872217060843,0.353760398347842,-0.034214007117311096,0.42062282065593914,-0.4119607557910614,-2.246530449988816,0.6572380023859556,1.5371929318791877,0.7047641075968462,0.2758760032749365,0.3641139356290369,-1.7452790367604647,0.7507657464946539,0.7660509128626469,-1.918014533068927],\"xaxis\":\"x6\",\"yaxis\":\"y6\",\"type\":\"histogram\"},{\"line\":{\"color\":\"rgba(128, 128, 128, 1.0)\",\"dash\":\"solid\",\"shape\":\"linear\",\"width\":1.3},\"marker\":{\"size\":2,\"symbol\":\"circle\"},\"mode\":\"markers\",\"name\":\"B\",\"text\":\"\",\"x\":[-0.2575191113048818,1.320500761745751,0.5393212069591781,0.04219896750035622,1.698198936943047,0.5028199669499871,-0.1498454934058726,0.9633475163625961,-1.339015637048091,-0.6182770329783752,-0.33591206203027124,-0.18188932275864927,-0.5454887664402375,-0.6883932246837449,-0.30489076816095145,-1.0100830280007966,-1.0655391492630855,-0.12015197749752969,0.5860522797870924,0.4192151567643949,-1.3353733919720032,-0.031402120800871076,-2.1335260348390843,-0.3441969850120935,-1.7542223093498468,-0.295042033863205,-0.18863870771689262,1.552840719836552,-0.4316870464612591,-0.7613274261883847,0.14947076189898487,0.48595016476934905,-0.7926945550247574,0.7731965931118994,-0.6883938465753762,-2.225079507875566,0.5423950945731457,-0.34085758855813325,1.7417998243184183,-0.338719869712993,-1.2565129037379519,-0.4862357073192635,-0.26247542513880223,1.371966678906609,0.06204981495579611,0.1435830366946529,-0.09818086024700041,-1.0065206400186884,0.8816406316046609,1.365273883971452,-0.3084988064482174,-1.0107121741822607,0.13115805878508405,1.4331106094227337,0.1347015805384705,-1.2873072839233077,0.4520970966083857,-1.2803743865230197,1.1250400099747564,-0.26260192722481174,2.7583588538460173,0.3145755605376287,0.6148574032845244,-0.2865467255124006,-0.5077597544678613,0.34207611262169624,0.1176418668857983,0.6599108232966143,0.20697791306697302,-1.5497405311923949,-1.2399904990512816,-0.5418927010115602,-0.006076378393536418,1.396970316349856,0.29841528419805907,-0.5186695251409451,2.5370307553948255,1.4138531800659624,0.850227769881565,-0.5589241218200475,0.9370408392367986,-0.9036863474832941,-1.2731512830332214,0.43070386279979206,1.004596274576969,0.30830106177054645,0.15488032937692175,-1.0238457042133868,-1.0118295214957163,0.08967082143098096,-0.9042923514152782,-0.7405311429356125,-0.8425526874977495,1.1428674009459987,-1.1631122871541602,-0.47384436477048175,-1.0361201255211805,1.2289487011273375,-0.4323744236158504,-0.12486789140963928],\"xaxis\":\"x7\",\"y\":[-0.3135045106961009,0.27106706687477644,0.6119471965110417,0.3009908952710065,-1.7296433552727768,-0.8395951219175694,0.16250707660228472,0.5055405458960701,-0.832888025408523,0.9109193800627438,-0.26573228768153007,-1.048508086534288,2.3935354905650352,-0.6120845323882204,0.2794630660004881,1.627451053655647,-0.6851014265020644,-0.05563959335930016,-0.135370377466742,1.1825219023457476,0.09104646907592046,-0.23291348461501518,0.7536213073112578,0.4852510554975916,-0.11598911508126203,1.0968318367465173,0.18417105335675082,-1.3013280121311601,-1.5523879941424124,-0.32369753741302265,0.12823504654106158,0.3235706409631143,-0.39016583384232667,-1.3483469875160243,-0.8778043256258503,-0.6566745979642085,-0.8717450588581389,-0.6555475573355242,1.1869681326633754,-1.6754949879668986,-1.0166574270487643,0.30084494827373853,-0.5569631288734428,-0.567768653274891,-1.240819396653744,0.07056845771157615,1.7622707398041684,0.18529340390041166,-0.9353562273967888,-0.6885393911334184,1.5338969581422393,1.5892838914058174,-1.614263003322591,-0.15402669237130096,1.159444826889843,0.08959925841560044,-0.7533113996854893,1.905234347898969,0.7307657905729821,-0.29285654487137897,1.7069381234928882,0.5380807773841841,-0.633045084982813,-1.7779188737619718,1.4017987066713467,-0.08474720608466335,0.8776521766497231,0.4641730284714228,0.45125150792532565,0.060392922247830425,0.8784203727592276,-0.1688059199189494,-1.0896619947083495,0.0171159299839232,0.08104028200629111,2.1271586379364784,-0.976903741909578,1.1376357527698266,-0.00012090109272308358,1.6484473114720377,-1.0772133462637432,-0.9150194793716977,-0.13908916224241138,1.420245945456923,-0.8638449427158882,0.35946872217060843,0.353760398347842,-0.034214007117311096,0.42062282065593914,-0.4119607557910614,-2.246530449988816,0.6572380023859556,1.5371929318791877,0.7047641075968462,0.2758760032749365,0.3641139356290369,-1.7452790367604647,0.7507657464946539,0.7660509128626469,-1.918014533068927],\"yaxis\":\"y7\",\"type\":\"scatter\"},{\"line\":{\"color\":\"rgba(128, 128, 128, 1.0)\",\"dash\":\"solid\",\"shape\":\"linear\",\"width\":1.3},\"marker\":{\"size\":2,\"symbol\":\"circle\"},\"mode\":\"markers\",\"name\":\"B\",\"text\":\"\",\"x\":[0.9233664551727817,0.2187068108806523,0.11865198024420574,-1.5579186623042052,-0.4672071562814396,3.0066626935308456,-0.32655014387269754,0.10772210250884771,0.8844221038072054,1.7722565392187368,1.184992792776857,0.2108781835560796,-1.1148099764931805,-4.345427928625704e-05,-1.983953129359126,-0.9649214601388116,-0.22125091561265933,1.2273455531899071,-0.0575385070370791,-0.11781601230391926,1.9166344516297773,-1.0970613676362393,0.43934146242854094,1.2762258985477217,0.07447449662748581,3.0919869419630976,0.5973122040456079,-0.7050905523339075,-0.4999112205302632,-0.03493124465617314,-0.7617881698096332,1.3797053254926674,-0.2215403633239477,0.6925481305262045,0.06167550672697119,-0.40963611935775956,0.35893243125669266,-0.41745743030591087,0.03015429313705,0.15602988591660222,-0.26787146265085654,-0.41417028686894974,1.5609792080758211,1.194969375259976,-0.6551383967781365,-1.755053789996685,1.5159309217952428,-1.28875100441881,-0.911926164600893,-0.5474702131804486,0.4047143059595249,-0.43079197819212006,0.08797226941624581,-0.6908029115601726,0.7242905167980132,0.23214396422851524,0.7247353002278414,1.9452025367983576,-0.6546861016814408,-0.6799974252683934,-0.5317611724410563,1.4405271470855314,1.1115247500755756,0.589893192958994,0.4824437508914874,1.377178678619452,-0.6862284977820776,0.13642842203149558,-0.8947830787665288,-1.2215509521492065,-0.9851235704440013,0.2769495490795035,-0.5492866868876993,-0.45589525253369273,-0.49258897950070984,-0.2268613593796678,-1.0595067963615048,-1.163113884097818,-2.131695933566539,0.42063353723874125,1.5399342918829222,-0.6831121602536194,0.7561167662337182,-1.1136598817381878,0.026303240811561608,-0.11853482107150998,-0.7999930888845683,0.6608875939920911,-0.4310373559079466,-0.6088333250428458,-0.8584547980700439,-0.18485197733031306,0.7591281136316559,0.4505866865518529,0.39346588693495527,0.2764004766793301,0.2849159220159852,0.2464470334073424,-1.9666741818132207,-0.11656813004260916],\"xaxis\":\"x8\",\"y\":[-0.3135045106961009,0.27106706687477644,0.6119471965110417,0.3009908952710065,-1.7296433552727768,-0.8395951219175694,0.16250707660228472,0.5055405458960701,-0.832888025408523,0.9109193800627438,-0.26573228768153007,-1.048508086534288,2.3935354905650352,-0.6120845323882204,0.2794630660004881,1.627451053655647,-0.6851014265020644,-0.05563959335930016,-0.135370377466742,1.1825219023457476,0.09104646907592046,-0.23291348461501518,0.7536213073112578,0.4852510554975916,-0.11598911508126203,1.0968318367465173,0.18417105335675082,-1.3013280121311601,-1.5523879941424124,-0.32369753741302265,0.12823504654106158,0.3235706409631143,-0.39016583384232667,-1.3483469875160243,-0.8778043256258503,-0.6566745979642085,-0.8717450588581389,-0.6555475573355242,1.1869681326633754,-1.6754949879668986,-1.0166574270487643,0.30084494827373853,-0.5569631288734428,-0.567768653274891,-1.240819396653744,0.07056845771157615,1.7622707398041684,0.18529340390041166,-0.9353562273967888,-0.6885393911334184,1.5338969581422393,1.5892838914058174,-1.614263003322591,-0.15402669237130096,1.159444826889843,0.08959925841560044,-0.7533113996854893,1.905234347898969,0.7307657905729821,-0.29285654487137897,1.7069381234928882,0.5380807773841841,-0.633045084982813,-1.7779188737619718,1.4017987066713467,-0.08474720608466335,0.8776521766497231,0.4641730284714228,0.45125150792532565,0.060392922247830425,0.8784203727592276,-0.1688059199189494,-1.0896619947083495,0.0171159299839232,0.08104028200629111,2.1271586379364784,-0.976903741909578,1.1376357527698266,-0.00012090109272308358,1.6484473114720377,-1.0772133462637432,-0.9150194793716977,-0.13908916224241138,1.420245945456923,-0.8638449427158882,0.35946872217060843,0.353760398347842,-0.034214007117311096,0.42062282065593914,-0.4119607557910614,-2.246530449988816,0.6572380023859556,1.5371929318791877,0.7047641075968462,0.2758760032749365,0.3641139356290369,-1.7452790367604647,0.7507657464946539,0.7660509128626469,-1.918014533068927],\"yaxis\":\"y8\",\"type\":\"scatter\"},{\"line\":{\"color\":\"rgba(128, 128, 128, 1.0)\",\"dash\":\"solid\",\"shape\":\"linear\",\"width\":1.3},\"marker\":{\"size\":2,\"symbol\":\"circle\"},\"mode\":\"markers\",\"name\":\"C\",\"text\":\"\",\"x\":[-1.309527744420406,-0.43461471341730906,-0.6595622762097307,-1.8087704558636009,-0.21507624397672268,-0.38856874633371274,0.39323640994019327,-1.5768836282447465,0.22178931809236666,-0.9431156572498557,-1.9102029239374554,-0.477769555673728,-1.089425538238347,-1.0357538495845635,1.2252166381530092,0.37107402061163053,-1.158252094622077,1.3695745789888654,-1.01825182367802,-1.7722468986897701,-0.2168013554876337,0.4755191701253149,-0.31047009102309275,-1.1396124818852957,-0.6999173593661061,-1.1371155062620095,-0.4910949440770942,-1.3621373445513156,1.0766873032479476,0.525928465473397,0.18338106944618113,-0.1505291458789072,1.8846432497944905,1.0605122306404768,-0.962144311117594,-0.1476914461688686,0.7205523460441676,-1.7892639026055361,-1.0548281912697273,1.7356821752881395,0.7623513817996954,0.3727625957984767,0.44451049023253525,1.4676975285083917,0.4814662048334038,0.6221661115520754,0.2370320573531419,-0.7473679255146413,0.6347836687579423,1.2138547818174472,-1.1115098285811436,-0.741420524794404,-1.7765108665886487,0.810113366475899,0.47669154362011024,-0.4134257725397369,0.765857785416105,-0.965188219950402,-1.4789137379581754,-0.6434993507816088,1.1172937554301525,-0.495694212475232,-0.387836058015111,-1.5016648314212626,0.1203043588212254,1.2088376698736039,-0.07194726263107164,0.15389399355134598,-0.6401244083647915,-0.08273948253381846,-1.3592394732882558,-1.9885105671375787,0.038505035218103376,-1.24448668315206,1.0295590758843345,0.33682960031944126,0.016429352896183677,-0.8237702468602085,-0.18449476647468116,1.3095212684401376,1.3587986132723278,-0.6051067858004684,-1.6266419057988017,1.0042132470590117,-0.941415138673278,-0.22540308480569024,1.3745114441408741,0.9480792162916354,-0.6327623894459151,-0.4249154919293121,0.6437607373691273,-0.023221467246056046,-0.11276162648807049,-1.4583110545841829,1.2612779604538449,1.3478794165153494,-0.380129484919786,1.451947890281281,-1.1301928995517123,-1.9753921455165973],\"xaxis\":\"x9\",\"y\":[-0.2575191113048818,1.320500761745751,0.5393212069591781,0.04219896750035622,1.698198936943047,0.5028199669499871,-0.1498454934058726,0.9633475163625961,-1.339015637048091,-0.6182770329783752,-0.33591206203027124,-0.18188932275864927,-0.5454887664402375,-0.6883932246837449,-0.30489076816095145,-1.0100830280007966,-1.0655391492630855,-0.12015197749752969,0.5860522797870924,0.4192151567643949,-1.3353733919720032,-0.031402120800871076,-2.1335260348390843,-0.3441969850120935,-1.7542223093498468,-0.295042033863205,-0.18863870771689262,1.552840719836552,-0.4316870464612591,-0.7613274261883847,0.14947076189898487,0.48595016476934905,-0.7926945550247574,0.7731965931118994,-0.6883938465753762,-2.225079507875566,0.5423950945731457,-0.34085758855813325,1.7417998243184183,-0.338719869712993,-1.2565129037379519,-0.4862357073192635,-0.26247542513880223,1.371966678906609,0.06204981495579611,0.1435830366946529,-0.09818086024700041,-1.0065206400186884,0.8816406316046609,1.365273883971452,-0.3084988064482174,-1.0107121741822607,0.13115805878508405,1.4331106094227337,0.1347015805384705,-1.2873072839233077,0.4520970966083857,-1.2803743865230197,1.1250400099747564,-0.26260192722481174,2.7583588538460173,0.3145755605376287,0.6148574032845244,-0.2865467255124006,-0.5077597544678613,0.34207611262169624,0.1176418668857983,0.6599108232966143,0.20697791306697302,-1.5497405311923949,-1.2399904990512816,-0.5418927010115602,-0.006076378393536418,1.396970316349856,0.29841528419805907,-0.5186695251409451,2.5370307553948255,1.4138531800659624,0.850227769881565,-0.5589241218200475,0.9370408392367986,-0.9036863474832941,-1.2731512830332214,0.43070386279979206,1.004596274576969,0.30830106177054645,0.15488032937692175,-1.0238457042133868,-1.0118295214957163,0.08967082143098096,-0.9042923514152782,-0.7405311429356125,-0.8425526874977495,1.1428674009459987,-1.1631122871541602,-0.47384436477048175,-1.0361201255211805,1.2289487011273375,-0.4323744236158504,-0.12486789140963928],\"yaxis\":\"y9\",\"type\":\"scatter\"},{\"line\":{\"color\":\"rgba(128, 128, 128, 1.0)\",\"dash\":\"solid\",\"shape\":\"linear\",\"width\":1.3},\"marker\":{\"size\":2,\"symbol\":\"circle\"},\"mode\":\"markers\",\"name\":\"C\",\"text\":\"\",\"x\":[-0.3135045106961009,0.27106706687477644,0.6119471965110417,0.3009908952710065,-1.7296433552727768,-0.8395951219175694,0.16250707660228472,0.5055405458960701,-0.832888025408523,0.9109193800627438,-0.26573228768153007,-1.048508086534288,2.3935354905650352,-0.6120845323882204,0.2794630660004881,1.627451053655647,-0.6851014265020644,-0.05563959335930016,-0.135370377466742,1.1825219023457476,0.09104646907592046,-0.23291348461501518,0.7536213073112578,0.4852510554975916,-0.11598911508126203,1.0968318367465173,0.18417105335675082,-1.3013280121311601,-1.5523879941424124,-0.32369753741302265,0.12823504654106158,0.3235706409631143,-0.39016583384232667,-1.3483469875160243,-0.8778043256258503,-0.6566745979642085,-0.8717450588581389,-0.6555475573355242,1.1869681326633754,-1.6754949879668986,-1.0166574270487643,0.30084494827373853,-0.5569631288734428,-0.567768653274891,-1.240819396653744,0.07056845771157615,1.7622707398041684,0.18529340390041166,-0.9353562273967888,-0.6885393911334184,1.5338969581422393,1.5892838914058174,-1.614263003322591,-0.15402669237130096,1.159444826889843,0.08959925841560044,-0.7533113996854893,1.905234347898969,0.7307657905729821,-0.29285654487137897,1.7069381234928882,0.5380807773841841,-0.633045084982813,-1.7779188737619718,1.4017987066713467,-0.08474720608466335,0.8776521766497231,0.4641730284714228,0.45125150792532565,0.060392922247830425,0.8784203727592276,-0.1688059199189494,-1.0896619947083495,0.0171159299839232,0.08104028200629111,2.1271586379364784,-0.976903741909578,1.1376357527698266,-0.00012090109272308358,1.6484473114720377,-1.0772133462637432,-0.9150194793716977,-0.13908916224241138,1.420245945456923,-0.8638449427158882,0.35946872217060843,0.353760398347842,-0.034214007117311096,0.42062282065593914,-0.4119607557910614,-2.246530449988816,0.6572380023859556,1.5371929318791877,0.7047641075968462,0.2758760032749365,0.3641139356290369,-1.7452790367604647,0.7507657464946539,0.7660509128626469,-1.918014533068927],\"xaxis\":\"x10\",\"y\":[-0.2575191113048818,1.320500761745751,0.5393212069591781,0.04219896750035622,1.698198936943047,0.5028199669499871,-0.1498454934058726,0.9633475163625961,-1.339015637048091,-0.6182770329783752,-0.33591206203027124,-0.18188932275864927,-0.5454887664402375,-0.6883932246837449,-0.30489076816095145,-1.0100830280007966,-1.0655391492630855,-0.12015197749752969,0.5860522797870924,0.4192151567643949,-1.3353733919720032,-0.031402120800871076,-2.1335260348390843,-0.3441969850120935,-1.7542223093498468,-0.295042033863205,-0.18863870771689262,1.552840719836552,-0.4316870464612591,-0.7613274261883847,0.14947076189898487,0.48595016476934905,-0.7926945550247574,0.7731965931118994,-0.6883938465753762,-2.225079507875566,0.5423950945731457,-0.34085758855813325,1.7417998243184183,-0.338719869712993,-1.2565129037379519,-0.4862357073192635,-0.26247542513880223,1.371966678906609,0.06204981495579611,0.1435830366946529,-0.09818086024700041,-1.0065206400186884,0.8816406316046609,1.365273883971452,-0.3084988064482174,-1.0107121741822607,0.13115805878508405,1.4331106094227337,0.1347015805384705,-1.2873072839233077,0.4520970966083857,-1.2803743865230197,1.1250400099747564,-0.26260192722481174,2.7583588538460173,0.3145755605376287,0.6148574032845244,-0.2865467255124006,-0.5077597544678613,0.34207611262169624,0.1176418668857983,0.6599108232966143,0.20697791306697302,-1.5497405311923949,-1.2399904990512816,-0.5418927010115602,-0.006076378393536418,1.396970316349856,0.29841528419805907,-0.5186695251409451,2.5370307553948255,1.4138531800659624,0.850227769881565,-0.5589241218200475,0.9370408392367986,-0.9036863474832941,-1.2731512830332214,0.43070386279979206,1.004596274576969,0.30830106177054645,0.15488032937692175,-1.0238457042133868,-1.0118295214957163,0.08967082143098096,-0.9042923514152782,-0.7405311429356125,-0.8425526874977495,1.1428674009459987,-1.1631122871541602,-0.47384436477048175,-1.0361201255211805,1.2289487011273375,-0.4323744236158504,-0.12486789140963928],\"yaxis\":\"y10\",\"type\":\"scatter\"},{\"histfunc\":\"count\",\"histnorm\":\"\",\"marker\":{\"color\":\"rgba(50, 171, 96, 1.0)\",\"line\":{\"color\":\"#4D5663\",\"width\":1.3}},\"name\":\"C\",\"nbinsx\":10,\"opacity\":0.8,\"orientation\":\"v\",\"x\":[-0.2575191113048818,1.320500761745751,0.5393212069591781,0.04219896750035622,1.698198936943047,0.5028199669499871,-0.1498454934058726,0.9633475163625961,-1.339015637048091,-0.6182770329783752,-0.33591206203027124,-0.18188932275864927,-0.5454887664402375,-0.6883932246837449,-0.30489076816095145,-1.0100830280007966,-1.0655391492630855,-0.12015197749752969,0.5860522797870924,0.4192151567643949,-1.3353733919720032,-0.031402120800871076,-2.1335260348390843,-0.3441969850120935,-1.7542223093498468,-0.295042033863205,-0.18863870771689262,1.552840719836552,-0.4316870464612591,-0.7613274261883847,0.14947076189898487,0.48595016476934905,-0.7926945550247574,0.7731965931118994,-0.6883938465753762,-2.225079507875566,0.5423950945731457,-0.34085758855813325,1.7417998243184183,-0.338719869712993,-1.2565129037379519,-0.4862357073192635,-0.26247542513880223,1.371966678906609,0.06204981495579611,0.1435830366946529,-0.09818086024700041,-1.0065206400186884,0.8816406316046609,1.365273883971452,-0.3084988064482174,-1.0107121741822607,0.13115805878508405,1.4331106094227337,0.1347015805384705,-1.2873072839233077,0.4520970966083857,-1.2803743865230197,1.1250400099747564,-0.26260192722481174,2.7583588538460173,0.3145755605376287,0.6148574032845244,-0.2865467255124006,-0.5077597544678613,0.34207611262169624,0.1176418668857983,0.6599108232966143,0.20697791306697302,-1.5497405311923949,-1.2399904990512816,-0.5418927010115602,-0.006076378393536418,1.396970316349856,0.29841528419805907,-0.5186695251409451,2.5370307553948255,1.4138531800659624,0.850227769881565,-0.5589241218200475,0.9370408392367986,-0.9036863474832941,-1.2731512830332214,0.43070386279979206,1.004596274576969,0.30830106177054645,0.15488032937692175,-1.0238457042133868,-1.0118295214957163,0.08967082143098096,-0.9042923514152782,-0.7405311429356125,-0.8425526874977495,1.1428674009459987,-1.1631122871541602,-0.47384436477048175,-1.0361201255211805,1.2289487011273375,-0.4323744236158504,-0.12486789140963928],\"xaxis\":\"x11\",\"yaxis\":\"y11\",\"type\":\"histogram\"},{\"line\":{\"color\":\"rgba(128, 128, 128, 1.0)\",\"dash\":\"solid\",\"shape\":\"linear\",\"width\":1.3},\"marker\":{\"size\":2,\"symbol\":\"circle\"},\"mode\":\"markers\",\"name\":\"C\",\"text\":\"\",\"x\":[0.9233664551727817,0.2187068108806523,0.11865198024420574,-1.5579186623042052,-0.4672071562814396,3.0066626935308456,-0.32655014387269754,0.10772210250884771,0.8844221038072054,1.7722565392187368,1.184992792776857,0.2108781835560796,-1.1148099764931805,-4.345427928625704e-05,-1.983953129359126,-0.9649214601388116,-0.22125091561265933,1.2273455531899071,-0.0575385070370791,-0.11781601230391926,1.9166344516297773,-1.0970613676362393,0.43934146242854094,1.2762258985477217,0.07447449662748581,3.0919869419630976,0.5973122040456079,-0.7050905523339075,-0.4999112205302632,-0.03493124465617314,-0.7617881698096332,1.3797053254926674,-0.2215403633239477,0.6925481305262045,0.06167550672697119,-0.40963611935775956,0.35893243125669266,-0.41745743030591087,0.03015429313705,0.15602988591660222,-0.26787146265085654,-0.41417028686894974,1.5609792080758211,1.194969375259976,-0.6551383967781365,-1.755053789996685,1.5159309217952428,-1.28875100441881,-0.911926164600893,-0.5474702131804486,0.4047143059595249,-0.43079197819212006,0.08797226941624581,-0.6908029115601726,0.7242905167980132,0.23214396422851524,0.7247353002278414,1.9452025367983576,-0.6546861016814408,-0.6799974252683934,-0.5317611724410563,1.4405271470855314,1.1115247500755756,0.589893192958994,0.4824437508914874,1.377178678619452,-0.6862284977820776,0.13642842203149558,-0.8947830787665288,-1.2215509521492065,-0.9851235704440013,0.2769495490795035,-0.5492866868876993,-0.45589525253369273,-0.49258897950070984,-0.2268613593796678,-1.0595067963615048,-1.163113884097818,-2.131695933566539,0.42063353723874125,1.5399342918829222,-0.6831121602536194,0.7561167662337182,-1.1136598817381878,0.026303240811561608,-0.11853482107150998,-0.7999930888845683,0.6608875939920911,-0.4310373559079466,-0.6088333250428458,-0.8584547980700439,-0.18485197733031306,0.7591281136316559,0.4505866865518529,0.39346588693495527,0.2764004766793301,0.2849159220159852,0.2464470334073424,-1.9666741818132207,-0.11656813004260916],\"xaxis\":\"x12\",\"y\":[-0.2575191113048818,1.320500761745751,0.5393212069591781,0.04219896750035622,1.698198936943047,0.5028199669499871,-0.1498454934058726,0.9633475163625961,-1.339015637048091,-0.6182770329783752,-0.33591206203027124,-0.18188932275864927,-0.5454887664402375,-0.6883932246837449,-0.30489076816095145,-1.0100830280007966,-1.0655391492630855,-0.12015197749752969,0.5860522797870924,0.4192151567643949,-1.3353733919720032,-0.031402120800871076,-2.1335260348390843,-0.3441969850120935,-1.7542223093498468,-0.295042033863205,-0.18863870771689262,1.552840719836552,-0.4316870464612591,-0.7613274261883847,0.14947076189898487,0.48595016476934905,-0.7926945550247574,0.7731965931118994,-0.6883938465753762,-2.225079507875566,0.5423950945731457,-0.34085758855813325,1.7417998243184183,-0.338719869712993,-1.2565129037379519,-0.4862357073192635,-0.26247542513880223,1.371966678906609,0.06204981495579611,0.1435830366946529,-0.09818086024700041,-1.0065206400186884,0.8816406316046609,1.365273883971452,-0.3084988064482174,-1.0107121741822607,0.13115805878508405,1.4331106094227337,0.1347015805384705,-1.2873072839233077,0.4520970966083857,-1.2803743865230197,1.1250400099747564,-0.26260192722481174,2.7583588538460173,0.3145755605376287,0.6148574032845244,-0.2865467255124006,-0.5077597544678613,0.34207611262169624,0.1176418668857983,0.6599108232966143,0.20697791306697302,-1.5497405311923949,-1.2399904990512816,-0.5418927010115602,-0.006076378393536418,1.396970316349856,0.29841528419805907,-0.5186695251409451,2.5370307553948255,1.4138531800659624,0.850227769881565,-0.5589241218200475,0.9370408392367986,-0.9036863474832941,-1.2731512830332214,0.43070386279979206,1.004596274576969,0.30830106177054645,0.15488032937692175,-1.0238457042133868,-1.0118295214957163,0.08967082143098096,-0.9042923514152782,-0.7405311429356125,-0.8425526874977495,1.1428674009459987,-1.1631122871541602,-0.47384436477048175,-1.0361201255211805,1.2289487011273375,-0.4323744236158504,-0.12486789140963928],\"yaxis\":\"y12\",\"type\":\"scatter\"},{\"line\":{\"color\":\"rgba(128, 128, 128, 1.0)\",\"dash\":\"solid\",\"shape\":\"linear\",\"width\":1.3},\"marker\":{\"size\":2,\"symbol\":\"circle\"},\"mode\":\"markers\",\"name\":\"D\",\"text\":\"\",\"x\":[-1.309527744420406,-0.43461471341730906,-0.6595622762097307,-1.8087704558636009,-0.21507624397672268,-0.38856874633371274,0.39323640994019327,-1.5768836282447465,0.22178931809236666,-0.9431156572498557,-1.9102029239374554,-0.477769555673728,-1.089425538238347,-1.0357538495845635,1.2252166381530092,0.37107402061163053,-1.158252094622077,1.3695745789888654,-1.01825182367802,-1.7722468986897701,-0.2168013554876337,0.4755191701253149,-0.31047009102309275,-1.1396124818852957,-0.6999173593661061,-1.1371155062620095,-0.4910949440770942,-1.3621373445513156,1.0766873032479476,0.525928465473397,0.18338106944618113,-0.1505291458789072,1.8846432497944905,1.0605122306404768,-0.962144311117594,-0.1476914461688686,0.7205523460441676,-1.7892639026055361,-1.0548281912697273,1.7356821752881395,0.7623513817996954,0.3727625957984767,0.44451049023253525,1.4676975285083917,0.4814662048334038,0.6221661115520754,0.2370320573531419,-0.7473679255146413,0.6347836687579423,1.2138547818174472,-1.1115098285811436,-0.741420524794404,-1.7765108665886487,0.810113366475899,0.47669154362011024,-0.4134257725397369,0.765857785416105,-0.965188219950402,-1.4789137379581754,-0.6434993507816088,1.1172937554301525,-0.495694212475232,-0.387836058015111,-1.5016648314212626,0.1203043588212254,1.2088376698736039,-0.07194726263107164,0.15389399355134598,-0.6401244083647915,-0.08273948253381846,-1.3592394732882558,-1.9885105671375787,0.038505035218103376,-1.24448668315206,1.0295590758843345,0.33682960031944126,0.016429352896183677,-0.8237702468602085,-0.18449476647468116,1.3095212684401376,1.3587986132723278,-0.6051067858004684,-1.6266419057988017,1.0042132470590117,-0.941415138673278,-0.22540308480569024,1.3745114441408741,0.9480792162916354,-0.6327623894459151,-0.4249154919293121,0.6437607373691273,-0.023221467246056046,-0.11276162648807049,-1.4583110545841829,1.2612779604538449,1.3478794165153494,-0.380129484919786,1.451947890281281,-1.1301928995517123,-1.9753921455165973],\"xaxis\":\"x13\",\"y\":[0.9233664551727817,0.2187068108806523,0.11865198024420574,-1.5579186623042052,-0.4672071562814396,3.0066626935308456,-0.32655014387269754,0.10772210250884771,0.8844221038072054,1.7722565392187368,1.184992792776857,0.2108781835560796,-1.1148099764931805,-4.345427928625704e-05,-1.983953129359126,-0.9649214601388116,-0.22125091561265933,1.2273455531899071,-0.0575385070370791,-0.11781601230391926,1.9166344516297773,-1.0970613676362393,0.43934146242854094,1.2762258985477217,0.07447449662748581,3.0919869419630976,0.5973122040456079,-0.7050905523339075,-0.4999112205302632,-0.03493124465617314,-0.7617881698096332,1.3797053254926674,-0.2215403633239477,0.6925481305262045,0.06167550672697119,-0.40963611935775956,0.35893243125669266,-0.41745743030591087,0.03015429313705,0.15602988591660222,-0.26787146265085654,-0.41417028686894974,1.5609792080758211,1.194969375259976,-0.6551383967781365,-1.755053789996685,1.5159309217952428,-1.28875100441881,-0.911926164600893,-0.5474702131804486,0.4047143059595249,-0.43079197819212006,0.08797226941624581,-0.6908029115601726,0.7242905167980132,0.23214396422851524,0.7247353002278414,1.9452025367983576,-0.6546861016814408,-0.6799974252683934,-0.5317611724410563,1.4405271470855314,1.1115247500755756,0.589893192958994,0.4824437508914874,1.377178678619452,-0.6862284977820776,0.13642842203149558,-0.8947830787665288,-1.2215509521492065,-0.9851235704440013,0.2769495490795035,-0.5492866868876993,-0.45589525253369273,-0.49258897950070984,-0.2268613593796678,-1.0595067963615048,-1.163113884097818,-2.131695933566539,0.42063353723874125,1.5399342918829222,-0.6831121602536194,0.7561167662337182,-1.1136598817381878,0.026303240811561608,-0.11853482107150998,-0.7999930888845683,0.6608875939920911,-0.4310373559079466,-0.6088333250428458,-0.8584547980700439,-0.18485197733031306,0.7591281136316559,0.4505866865518529,0.39346588693495527,0.2764004766793301,0.2849159220159852,0.2464470334073424,-1.9666741818132207,-0.11656813004260916],\"yaxis\":\"y13\",\"type\":\"scatter\"},{\"line\":{\"color\":\"rgba(128, 128, 128, 1.0)\",\"dash\":\"solid\",\"shape\":\"linear\",\"width\":1.3},\"marker\":{\"size\":2,\"symbol\":\"circle\"},\"mode\":\"markers\",\"name\":\"D\",\"text\":\"\",\"x\":[-0.3135045106961009,0.27106706687477644,0.6119471965110417,0.3009908952710065,-1.7296433552727768,-0.8395951219175694,0.16250707660228472,0.5055405458960701,-0.832888025408523,0.9109193800627438,-0.26573228768153007,-1.048508086534288,2.3935354905650352,-0.6120845323882204,0.2794630660004881,1.627451053655647,-0.6851014265020644,-0.05563959335930016,-0.135370377466742,1.1825219023457476,0.09104646907592046,-0.23291348461501518,0.7536213073112578,0.4852510554975916,-0.11598911508126203,1.0968318367465173,0.18417105335675082,-1.3013280121311601,-1.5523879941424124,-0.32369753741302265,0.12823504654106158,0.3235706409631143,-0.39016583384232667,-1.3483469875160243,-0.8778043256258503,-0.6566745979642085,-0.8717450588581389,-0.6555475573355242,1.1869681326633754,-1.6754949879668986,-1.0166574270487643,0.30084494827373853,-0.5569631288734428,-0.567768653274891,-1.240819396653744,0.07056845771157615,1.7622707398041684,0.18529340390041166,-0.9353562273967888,-0.6885393911334184,1.5338969581422393,1.5892838914058174,-1.614263003322591,-0.15402669237130096,1.159444826889843,0.08959925841560044,-0.7533113996854893,1.905234347898969,0.7307657905729821,-0.29285654487137897,1.7069381234928882,0.5380807773841841,-0.633045084982813,-1.7779188737619718,1.4017987066713467,-0.08474720608466335,0.8776521766497231,0.4641730284714228,0.45125150792532565,0.060392922247830425,0.8784203727592276,-0.1688059199189494,-1.0896619947083495,0.0171159299839232,0.08104028200629111,2.1271586379364784,-0.976903741909578,1.1376357527698266,-0.00012090109272308358,1.6484473114720377,-1.0772133462637432,-0.9150194793716977,-0.13908916224241138,1.420245945456923,-0.8638449427158882,0.35946872217060843,0.353760398347842,-0.034214007117311096,0.42062282065593914,-0.4119607557910614,-2.246530449988816,0.6572380023859556,1.5371929318791877,0.7047641075968462,0.2758760032749365,0.3641139356290369,-1.7452790367604647,0.7507657464946539,0.7660509128626469,-1.918014533068927],\"xaxis\":\"x14\",\"y\":[0.9233664551727817,0.2187068108806523,0.11865198024420574,-1.5579186623042052,-0.4672071562814396,3.0066626935308456,-0.32655014387269754,0.10772210250884771,0.8844221038072054,1.7722565392187368,1.184992792776857,0.2108781835560796,-1.1148099764931805,-4.345427928625704e-05,-1.983953129359126,-0.9649214601388116,-0.22125091561265933,1.2273455531899071,-0.0575385070370791,-0.11781601230391926,1.9166344516297773,-1.0970613676362393,0.43934146242854094,1.2762258985477217,0.07447449662748581,3.0919869419630976,0.5973122040456079,-0.7050905523339075,-0.4999112205302632,-0.03493124465617314,-0.7617881698096332,1.3797053254926674,-0.2215403633239477,0.6925481305262045,0.06167550672697119,-0.40963611935775956,0.35893243125669266,-0.41745743030591087,0.03015429313705,0.15602988591660222,-0.26787146265085654,-0.41417028686894974,1.5609792080758211,1.194969375259976,-0.6551383967781365,-1.755053789996685,1.5159309217952428,-1.28875100441881,-0.911926164600893,-0.5474702131804486,0.4047143059595249,-0.43079197819212006,0.08797226941624581,-0.6908029115601726,0.7242905167980132,0.23214396422851524,0.7247353002278414,1.9452025367983576,-0.6546861016814408,-0.6799974252683934,-0.5317611724410563,1.4405271470855314,1.1115247500755756,0.589893192958994,0.4824437508914874,1.377178678619452,-0.6862284977820776,0.13642842203149558,-0.8947830787665288,-1.2215509521492065,-0.9851235704440013,0.2769495490795035,-0.5492866868876993,-0.45589525253369273,-0.49258897950070984,-0.2268613593796678,-1.0595067963615048,-1.163113884097818,-2.131695933566539,0.42063353723874125,1.5399342918829222,-0.6831121602536194,0.7561167662337182,-1.1136598817381878,0.026303240811561608,-0.11853482107150998,-0.7999930888845683,0.6608875939920911,-0.4310373559079466,-0.6088333250428458,-0.8584547980700439,-0.18485197733031306,0.7591281136316559,0.4505866865518529,0.39346588693495527,0.2764004766793301,0.2849159220159852,0.2464470334073424,-1.9666741818132207,-0.11656813004260916],\"yaxis\":\"y14\",\"type\":\"scatter\"},{\"line\":{\"color\":\"rgba(128, 128, 128, 1.0)\",\"dash\":\"solid\",\"shape\":\"linear\",\"width\":1.3},\"marker\":{\"size\":2,\"symbol\":\"circle\"},\"mode\":\"markers\",\"name\":\"D\",\"text\":\"\",\"x\":[-0.2575191113048818,1.320500761745751,0.5393212069591781,0.04219896750035622,1.698198936943047,0.5028199669499871,-0.1498454934058726,0.9633475163625961,-1.339015637048091,-0.6182770329783752,-0.33591206203027124,-0.18188932275864927,-0.5454887664402375,-0.6883932246837449,-0.30489076816095145,-1.0100830280007966,-1.0655391492630855,-0.12015197749752969,0.5860522797870924,0.4192151567643949,-1.3353733919720032,-0.031402120800871076,-2.1335260348390843,-0.3441969850120935,-1.7542223093498468,-0.295042033863205,-0.18863870771689262,1.552840719836552,-0.4316870464612591,-0.7613274261883847,0.14947076189898487,0.48595016476934905,-0.7926945550247574,0.7731965931118994,-0.6883938465753762,-2.225079507875566,0.5423950945731457,-0.34085758855813325,1.7417998243184183,-0.338719869712993,-1.2565129037379519,-0.4862357073192635,-0.26247542513880223,1.371966678906609,0.06204981495579611,0.1435830366946529,-0.09818086024700041,-1.0065206400186884,0.8816406316046609,1.365273883971452,-0.3084988064482174,-1.0107121741822607,0.13115805878508405,1.4331106094227337,0.1347015805384705,-1.2873072839233077,0.4520970966083857,-1.2803743865230197,1.1250400099747564,-0.26260192722481174,2.7583588538460173,0.3145755605376287,0.6148574032845244,-0.2865467255124006,-0.5077597544678613,0.34207611262169624,0.1176418668857983,0.6599108232966143,0.20697791306697302,-1.5497405311923949,-1.2399904990512816,-0.5418927010115602,-0.006076378393536418,1.396970316349856,0.29841528419805907,-0.5186695251409451,2.5370307553948255,1.4138531800659624,0.850227769881565,-0.5589241218200475,0.9370408392367986,-0.9036863474832941,-1.2731512830332214,0.43070386279979206,1.004596274576969,0.30830106177054645,0.15488032937692175,-1.0238457042133868,-1.0118295214957163,0.08967082143098096,-0.9042923514152782,-0.7405311429356125,-0.8425526874977495,1.1428674009459987,-1.1631122871541602,-0.47384436477048175,-1.0361201255211805,1.2289487011273375,-0.4323744236158504,-0.12486789140963928],\"xaxis\":\"x15\",\"y\":[0.9233664551727817,0.2187068108806523,0.11865198024420574,-1.5579186623042052,-0.4672071562814396,3.0066626935308456,-0.32655014387269754,0.10772210250884771,0.8844221038072054,1.7722565392187368,1.184992792776857,0.2108781835560796,-1.1148099764931805,-4.345427928625704e-05,-1.983953129359126,-0.9649214601388116,-0.22125091561265933,1.2273455531899071,-0.0575385070370791,-0.11781601230391926,1.9166344516297773,-1.0970613676362393,0.43934146242854094,1.2762258985477217,0.07447449662748581,3.0919869419630976,0.5973122040456079,-0.7050905523339075,-0.4999112205302632,-0.03493124465617314,-0.7617881698096332,1.3797053254926674,-0.2215403633239477,0.6925481305262045,0.06167550672697119,-0.40963611935775956,0.35893243125669266,-0.41745743030591087,0.03015429313705,0.15602988591660222,-0.26787146265085654,-0.41417028686894974,1.5609792080758211,1.194969375259976,-0.6551383967781365,-1.755053789996685,1.5159309217952428,-1.28875100441881,-0.911926164600893,-0.5474702131804486,0.4047143059595249,-0.43079197819212006,0.08797226941624581,-0.6908029115601726,0.7242905167980132,0.23214396422851524,0.7247353002278414,1.9452025367983576,-0.6546861016814408,-0.6799974252683934,-0.5317611724410563,1.4405271470855314,1.1115247500755756,0.589893192958994,0.4824437508914874,1.377178678619452,-0.6862284977820776,0.13642842203149558,-0.8947830787665288,-1.2215509521492065,-0.9851235704440013,0.2769495490795035,-0.5492866868876993,-0.45589525253369273,-0.49258897950070984,-0.2268613593796678,-1.0595067963615048,-1.163113884097818,-2.131695933566539,0.42063353723874125,1.5399342918829222,-0.6831121602536194,0.7561167662337182,-1.1136598817381878,0.026303240811561608,-0.11853482107150998,-0.7999930888845683,0.6608875939920911,-0.4310373559079466,-0.6088333250428458,-0.8584547980700439,-0.18485197733031306,0.7591281136316559,0.4505866865518529,0.39346588693495527,0.2764004766793301,0.2849159220159852,0.2464470334073424,-1.9666741818132207,-0.11656813004260916],\"yaxis\":\"y15\",\"type\":\"scatter\"},{\"histfunc\":\"count\",\"histnorm\":\"\",\"marker\":{\"color\":\"rgba(128, 0, 128, 1.0)\",\"line\":{\"color\":\"#4D5663\",\"width\":1.3}},\"name\":\"D\",\"nbinsx\":10,\"opacity\":0.8,\"orientation\":\"v\",\"x\":[0.9233664551727817,0.2187068108806523,0.11865198024420574,-1.5579186623042052,-0.4672071562814396,3.0066626935308456,-0.32655014387269754,0.10772210250884771,0.8844221038072054,1.7722565392187368,1.184992792776857,0.2108781835560796,-1.1148099764931805,-4.345427928625704e-05,-1.983953129359126,-0.9649214601388116,-0.22125091561265933,1.2273455531899071,-0.0575385070370791,-0.11781601230391926,1.9166344516297773,-1.0970613676362393,0.43934146242854094,1.2762258985477217,0.07447449662748581,3.0919869419630976,0.5973122040456079,-0.7050905523339075,-0.4999112205302632,-0.03493124465617314,-0.7617881698096332,1.3797053254926674,-0.2215403633239477,0.6925481305262045,0.06167550672697119,-0.40963611935775956,0.35893243125669266,-0.41745743030591087,0.03015429313705,0.15602988591660222,-0.26787146265085654,-0.41417028686894974,1.5609792080758211,1.194969375259976,-0.6551383967781365,-1.755053789996685,1.5159309217952428,-1.28875100441881,-0.911926164600893,-0.5474702131804486,0.4047143059595249,-0.43079197819212006,0.08797226941624581,-0.6908029115601726,0.7242905167980132,0.23214396422851524,0.7247353002278414,1.9452025367983576,-0.6546861016814408,-0.6799974252683934,-0.5317611724410563,1.4405271470855314,1.1115247500755756,0.589893192958994,0.4824437508914874,1.377178678619452,-0.6862284977820776,0.13642842203149558,-0.8947830787665288,-1.2215509521492065,-0.9851235704440013,0.2769495490795035,-0.5492866868876993,-0.45589525253369273,-0.49258897950070984,-0.2268613593796678,-1.0595067963615048,-1.163113884097818,-2.131695933566539,0.42063353723874125,1.5399342918829222,-0.6831121602536194,0.7561167662337182,-1.1136598817381878,0.026303240811561608,-0.11853482107150998,-0.7999930888845683,0.6608875939920911,-0.4310373559079466,-0.6088333250428458,-0.8584547980700439,-0.18485197733031306,0.7591281136316559,0.4505866865518529,0.39346588693495527,0.2764004766793301,0.2849159220159852,0.2464470334073424,-1.9666741818132207,-0.11656813004260916],\"xaxis\":\"x16\",\"yaxis\":\"y16\",\"type\":\"histogram\"}],                        {\"bargap\":0.02,\"legend\":{\"bgcolor\":\"#F5F6F9\",\"font\":{\"color\":\"#4D5663\"}},\"paper_bgcolor\":\"#F5F6F9\",\"plot_bgcolor\":\"#F5F6F9\",\"showlegend\":false,\"template\":{\"data\":{\"barpolar\":[{\"marker\":{\"line\":{\"color\":\"#E5ECF6\",\"width\":0.5},\"pattern\":{\"fillmode\":\"overlay\",\"size\":10,\"solidity\":0.2}},\"type\":\"barpolar\"}],\"bar\":[{\"error_x\":{\"color\":\"#2a3f5f\"},\"error_y\":{\"color\":\"#2a3f5f\"},\"marker\":{\"line\":{\"color\":\"#E5ECF6\",\"width\":0.5},\"pattern\":{\"fillmode\":\"overlay\",\"size\":10,\"solidity\":0.2}},\"type\":\"bar\"}],\"carpet\":[{\"aaxis\":{\"endlinecolor\":\"#2a3f5f\",\"gridcolor\":\"white\",\"linecolor\":\"white\",\"minorgridcolor\":\"white\",\"startlinecolor\":\"#2a3f5f\"},\"baxis\":{\"endlinecolor\":\"#2a3f5f\",\"gridcolor\":\"white\",\"linecolor\":\"white\",\"minorgridcolor\":\"white\",\"startlinecolor\":\"#2a3f5f\"},\"type\":\"carpet\"}],\"choropleth\":[{\"colorbar\":{\"outlinewidth\":0,\"ticks\":\"\"},\"type\":\"choropleth\"}],\"contourcarpet\":[{\"colorbar\":{\"outlinewidth\":0,\"ticks\":\"\"},\"type\":\"contourcarpet\"}],\"contour\":[{\"colorbar\":{\"outlinewidth\":0,\"ticks\":\"\"},\"colorscale\":[[0.0,\"#0d0887\"],[0.1111111111111111,\"#46039f\"],[0.2222222222222222,\"#7201a8\"],[0.3333333333333333,\"#9c179e\"],[0.4444444444444444,\"#bd3786\"],[0.5555555555555556,\"#d8576b\"],[0.6666666666666666,\"#ed7953\"],[0.7777777777777778,\"#fb9f3a\"],[0.8888888888888888,\"#fdca26\"],[1.0,\"#f0f921\"]],\"type\":\"contour\"}],\"heatmapgl\":[{\"colorbar\":{\"outlinewidth\":0,\"ticks\":\"\"},\"colorscale\":[[0.0,\"#0d0887\"],[0.1111111111111111,\"#46039f\"],[0.2222222222222222,\"#7201a8\"],[0.3333333333333333,\"#9c179e\"],[0.4444444444444444,\"#bd3786\"],[0.5555555555555556,\"#d8576b\"],[0.6666666666666666,\"#ed7953\"],[0.7777777777777778,\"#fb9f3a\"],[0.8888888888888888,\"#fdca26\"],[1.0,\"#f0f921\"]],\"type\":\"heatmapgl\"}],\"heatmap\":[{\"colorbar\":{\"outlinewidth\":0,\"ticks\":\"\"},\"colorscale\":[[0.0,\"#0d0887\"],[0.1111111111111111,\"#46039f\"],[0.2222222222222222,\"#7201a8\"],[0.3333333333333333,\"#9c179e\"],[0.4444444444444444,\"#bd3786\"],[0.5555555555555556,\"#d8576b\"],[0.6666666666666666,\"#ed7953\"],[0.7777777777777778,\"#fb9f3a\"],[0.8888888888888888,\"#fdca26\"],[1.0,\"#f0f921\"]],\"type\":\"heatmap\"}],\"histogram2dcontour\":[{\"colorbar\":{\"outlinewidth\":0,\"ticks\":\"\"},\"colorscale\":[[0.0,\"#0d0887\"],[0.1111111111111111,\"#46039f\"],[0.2222222222222222,\"#7201a8\"],[0.3333333333333333,\"#9c179e\"],[0.4444444444444444,\"#bd3786\"],[0.5555555555555556,\"#d8576b\"],[0.6666666666666666,\"#ed7953\"],[0.7777777777777778,\"#fb9f3a\"],[0.8888888888888888,\"#fdca26\"],[1.0,\"#f0f921\"]],\"type\":\"histogram2dcontour\"}],\"histogram2d\":[{\"colorbar\":{\"outlinewidth\":0,\"ticks\":\"\"},\"colorscale\":[[0.0,\"#0d0887\"],[0.1111111111111111,\"#46039f\"],[0.2222222222222222,\"#7201a8\"],[0.3333333333333333,\"#9c179e\"],[0.4444444444444444,\"#bd3786\"],[0.5555555555555556,\"#d8576b\"],[0.6666666666666666,\"#ed7953\"],[0.7777777777777778,\"#fb9f3a\"],[0.8888888888888888,\"#fdca26\"],[1.0,\"#f0f921\"]],\"type\":\"histogram2d\"}],\"histogram\":[{\"marker\":{\"pattern\":{\"fillmode\":\"overlay\",\"size\":10,\"solidity\":0.2}},\"type\":\"histogram\"}],\"mesh3d\":[{\"colorbar\":{\"outlinewidth\":0,\"ticks\":\"\"},\"type\":\"mesh3d\"}],\"parcoords\":[{\"line\":{\"colorbar\":{\"outlinewidth\":0,\"ticks\":\"\"}},\"type\":\"parcoords\"}],\"pie\":[{\"automargin\":true,\"type\":\"pie\"}],\"scatter3d\":[{\"line\":{\"colorbar\":{\"outlinewidth\":0,\"ticks\":\"\"}},\"marker\":{\"colorbar\":{\"outlinewidth\":0,\"ticks\":\"\"}},\"type\":\"scatter3d\"}],\"scattercarpet\":[{\"marker\":{\"colorbar\":{\"outlinewidth\":0,\"ticks\":\"\"}},\"type\":\"scattercarpet\"}],\"scattergeo\":[{\"marker\":{\"colorbar\":{\"outlinewidth\":0,\"ticks\":\"\"}},\"type\":\"scattergeo\"}],\"scattergl\":[{\"marker\":{\"colorbar\":{\"outlinewidth\":0,\"ticks\":\"\"}},\"type\":\"scattergl\"}],\"scattermapbox\":[{\"marker\":{\"colorbar\":{\"outlinewidth\":0,\"ticks\":\"\"}},\"type\":\"scattermapbox\"}],\"scatterpolargl\":[{\"marker\":{\"colorbar\":{\"outlinewidth\":0,\"ticks\":\"\"}},\"type\":\"scatterpolargl\"}],\"scatterpolar\":[{\"marker\":{\"colorbar\":{\"outlinewidth\":0,\"ticks\":\"\"}},\"type\":\"scatterpolar\"}],\"scatter\":[{\"marker\":{\"colorbar\":{\"outlinewidth\":0,\"ticks\":\"\"}},\"type\":\"scatter\"}],\"scatterternary\":[{\"marker\":{\"colorbar\":{\"outlinewidth\":0,\"ticks\":\"\"}},\"type\":\"scatterternary\"}],\"surface\":[{\"colorbar\":{\"outlinewidth\":0,\"ticks\":\"\"},\"colorscale\":[[0.0,\"#0d0887\"],[0.1111111111111111,\"#46039f\"],[0.2222222222222222,\"#7201a8\"],[0.3333333333333333,\"#9c179e\"],[0.4444444444444444,\"#bd3786\"],[0.5555555555555556,\"#d8576b\"],[0.6666666666666666,\"#ed7953\"],[0.7777777777777778,\"#fb9f3a\"],[0.8888888888888888,\"#fdca26\"],[1.0,\"#f0f921\"]],\"type\":\"surface\"}],\"table\":[{\"cells\":{\"fill\":{\"color\":\"#EBF0F8\"},\"line\":{\"color\":\"white\"}},\"header\":{\"fill\":{\"color\":\"#C8D4E3\"},\"line\":{\"color\":\"white\"}},\"type\":\"table\"}]},\"layout\":{\"annotationdefaults\":{\"arrowcolor\":\"#2a3f5f\",\"arrowhead\":0,\"arrowwidth\":1},\"autotypenumbers\":\"strict\",\"coloraxis\":{\"colorbar\":{\"outlinewidth\":0,\"ticks\":\"\"}},\"colorscale\":{\"diverging\":[[0,\"#8e0152\"],[0.1,\"#c51b7d\"],[0.2,\"#de77ae\"],[0.3,\"#f1b6da\"],[0.4,\"#fde0ef\"],[0.5,\"#f7f7f7\"],[0.6,\"#e6f5d0\"],[0.7,\"#b8e186\"],[0.8,\"#7fbc41\"],[0.9,\"#4d9221\"],[1,\"#276419\"]],\"sequential\":[[0.0,\"#0d0887\"],[0.1111111111111111,\"#46039f\"],[0.2222222222222222,\"#7201a8\"],[0.3333333333333333,\"#9c179e\"],[0.4444444444444444,\"#bd3786\"],[0.5555555555555556,\"#d8576b\"],[0.6666666666666666,\"#ed7953\"],[0.7777777777777778,\"#fb9f3a\"],[0.8888888888888888,\"#fdca26\"],[1.0,\"#f0f921\"]],\"sequentialminus\":[[0.0,\"#0d0887\"],[0.1111111111111111,\"#46039f\"],[0.2222222222222222,\"#7201a8\"],[0.3333333333333333,\"#9c179e\"],[0.4444444444444444,\"#bd3786\"],[0.5555555555555556,\"#d8576b\"],[0.6666666666666666,\"#ed7953\"],[0.7777777777777778,\"#fb9f3a\"],[0.8888888888888888,\"#fdca26\"],[1.0,\"#f0f921\"]]},\"colorway\":[\"#636efa\",\"#EF553B\",\"#00cc96\",\"#ab63fa\",\"#FFA15A\",\"#19d3f3\",\"#FF6692\",\"#B6E880\",\"#FF97FF\",\"#FECB52\"],\"font\":{\"color\":\"#2a3f5f\"},\"geo\":{\"bgcolor\":\"white\",\"lakecolor\":\"white\",\"landcolor\":\"#E5ECF6\",\"showlakes\":true,\"showland\":true,\"subunitcolor\":\"white\"},\"hoverlabel\":{\"align\":\"left\"},\"hovermode\":\"closest\",\"mapbox\":{\"style\":\"light\"},\"paper_bgcolor\":\"white\",\"plot_bgcolor\":\"#E5ECF6\",\"polar\":{\"angularaxis\":{\"gridcolor\":\"white\",\"linecolor\":\"white\",\"ticks\":\"\"},\"bgcolor\":\"#E5ECF6\",\"radialaxis\":{\"gridcolor\":\"white\",\"linecolor\":\"white\",\"ticks\":\"\"}},\"scene\":{\"xaxis\":{\"backgroundcolor\":\"#E5ECF6\",\"gridcolor\":\"white\",\"gridwidth\":2,\"linecolor\":\"white\",\"showbackground\":true,\"ticks\":\"\",\"zerolinecolor\":\"white\"},\"yaxis\":{\"backgroundcolor\":\"#E5ECF6\",\"gridcolor\":\"white\",\"gridwidth\":2,\"linecolor\":\"white\",\"showbackground\":true,\"ticks\":\"\",\"zerolinecolor\":\"white\"},\"zaxis\":{\"backgroundcolor\":\"#E5ECF6\",\"gridcolor\":\"white\",\"gridwidth\":2,\"linecolor\":\"white\",\"showbackground\":true,\"ticks\":\"\",\"zerolinecolor\":\"white\"}},\"shapedefaults\":{\"line\":{\"color\":\"#2a3f5f\"}},\"ternary\":{\"aaxis\":{\"gridcolor\":\"white\",\"linecolor\":\"white\",\"ticks\":\"\"},\"baxis\":{\"gridcolor\":\"white\",\"linecolor\":\"white\",\"ticks\":\"\"},\"bgcolor\":\"#E5ECF6\",\"caxis\":{\"gridcolor\":\"white\",\"linecolor\":\"white\",\"ticks\":\"\"}},\"title\":{\"x\":0.05},\"xaxis\":{\"automargin\":true,\"gridcolor\":\"white\",\"linecolor\":\"white\",\"ticks\":\"\",\"title\":{\"standoff\":15},\"zerolinecolor\":\"white\",\"zerolinewidth\":2},\"yaxis\":{\"automargin\":true,\"gridcolor\":\"white\",\"linecolor\":\"white\",\"ticks\":\"\",\"title\":{\"standoff\":15},\"zerolinecolor\":\"white\",\"zerolinewidth\":2}}},\"title\":{\"font\":{\"color\":\"#4D5663\"}},\"xaxis\":{\"anchor\":\"y\",\"domain\":[0.0,0.2125],\"gridcolor\":\"#E1E5ED\",\"showgrid\":false,\"tickfont\":{\"color\":\"#4D5663\"},\"title\":{\"font\":{\"color\":\"#4D5663\"},\"text\":\"\"},\"zerolinecolor\":\"#E1E5ED\"},\"yaxis\":{\"anchor\":\"x\",\"domain\":[0.8025,1.0],\"gridcolor\":\"#E1E5ED\",\"showgrid\":false,\"tickfont\":{\"color\":\"#4D5663\"},\"title\":{\"font\":{\"color\":\"#4D5663\"},\"text\":\"\"},\"zerolinecolor\":\"#E1E5ED\"},\"xaxis2\":{\"anchor\":\"y2\",\"domain\":[0.2625,0.475],\"gridcolor\":\"#E1E5ED\",\"showgrid\":false,\"tickfont\":{\"color\":\"#4D5663\"},\"title\":{\"font\":{\"color\":\"#4D5663\"},\"text\":\"\"},\"zerolinecolor\":\"#E1E5ED\"},\"yaxis2\":{\"anchor\":\"x2\",\"domain\":[0.8025,1.0],\"gridcolor\":\"#E1E5ED\",\"showgrid\":false,\"tickfont\":{\"color\":\"#4D5663\"},\"title\":{\"font\":{\"color\":\"#4D5663\"},\"text\":\"\"},\"zerolinecolor\":\"#E1E5ED\"},\"xaxis3\":{\"anchor\":\"y3\",\"domain\":[0.525,0.7375],\"gridcolor\":\"#E1E5ED\",\"showgrid\":false,\"tickfont\":{\"color\":\"#4D5663\"},\"title\":{\"font\":{\"color\":\"#4D5663\"},\"text\":\"\"},\"zerolinecolor\":\"#E1E5ED\"},\"yaxis3\":{\"anchor\":\"x3\",\"domain\":[0.8025,1.0],\"gridcolor\":\"#E1E5ED\",\"showgrid\":false,\"tickfont\":{\"color\":\"#4D5663\"},\"title\":{\"font\":{\"color\":\"#4D5663\"},\"text\":\"\"},\"zerolinecolor\":\"#E1E5ED\"},\"xaxis4\":{\"anchor\":\"y4\",\"domain\":[0.7875,1.0],\"gridcolor\":\"#E1E5ED\",\"showgrid\":false,\"tickfont\":{\"color\":\"#4D5663\"},\"title\":{\"font\":{\"color\":\"#4D5663\"},\"text\":\"\"},\"zerolinecolor\":\"#E1E5ED\"},\"yaxis4\":{\"anchor\":\"x4\",\"domain\":[0.8025,1.0],\"gridcolor\":\"#E1E5ED\",\"showgrid\":false,\"tickfont\":{\"color\":\"#4D5663\"},\"title\":{\"font\":{\"color\":\"#4D5663\"},\"text\":\"\"},\"zerolinecolor\":\"#E1E5ED\"},\"xaxis5\":{\"anchor\":\"y5\",\"domain\":[0.0,0.2125],\"gridcolor\":\"#E1E5ED\",\"showgrid\":false,\"tickfont\":{\"color\":\"#4D5663\"},\"title\":{\"font\":{\"color\":\"#4D5663\"},\"text\":\"\"},\"zerolinecolor\":\"#E1E5ED\"},\"yaxis5\":{\"anchor\":\"x5\",\"domain\":[0.535,0.7325],\"gridcolor\":\"#E1E5ED\",\"showgrid\":false,\"tickfont\":{\"color\":\"#4D5663\"},\"title\":{\"font\":{\"color\":\"#4D5663\"},\"text\":\"\"},\"zerolinecolor\":\"#E1E5ED\"},\"xaxis6\":{\"anchor\":\"y6\",\"domain\":[0.2625,0.475],\"gridcolor\":\"#E1E5ED\",\"showgrid\":false,\"tickfont\":{\"color\":\"#4D5663\"},\"title\":{\"font\":{\"color\":\"#4D5663\"},\"text\":\"\"},\"zerolinecolor\":\"#E1E5ED\"},\"yaxis6\":{\"anchor\":\"x6\",\"domain\":[0.535,0.7325],\"gridcolor\":\"#E1E5ED\",\"showgrid\":false,\"tickfont\":{\"color\":\"#4D5663\"},\"title\":{\"font\":{\"color\":\"#4D5663\"},\"text\":\"\"},\"zerolinecolor\":\"#E1E5ED\"},\"xaxis7\":{\"anchor\":\"y7\",\"domain\":[0.525,0.7375],\"gridcolor\":\"#E1E5ED\",\"showgrid\":false,\"tickfont\":{\"color\":\"#4D5663\"},\"title\":{\"font\":{\"color\":\"#4D5663\"},\"text\":\"\"},\"zerolinecolor\":\"#E1E5ED\"},\"yaxis7\":{\"anchor\":\"x7\",\"domain\":[0.535,0.7325],\"gridcolor\":\"#E1E5ED\",\"showgrid\":false,\"tickfont\":{\"color\":\"#4D5663\"},\"title\":{\"font\":{\"color\":\"#4D5663\"},\"text\":\"\"},\"zerolinecolor\":\"#E1E5ED\"},\"xaxis8\":{\"anchor\":\"y8\",\"domain\":[0.7875,1.0],\"gridcolor\":\"#E1E5ED\",\"showgrid\":false,\"tickfont\":{\"color\":\"#4D5663\"},\"title\":{\"font\":{\"color\":\"#4D5663\"},\"text\":\"\"},\"zerolinecolor\":\"#E1E5ED\"},\"yaxis8\":{\"anchor\":\"x8\",\"domain\":[0.535,0.7325],\"gridcolor\":\"#E1E5ED\",\"showgrid\":false,\"tickfont\":{\"color\":\"#4D5663\"},\"title\":{\"font\":{\"color\":\"#4D5663\"},\"text\":\"\"},\"zerolinecolor\":\"#E1E5ED\"},\"xaxis9\":{\"anchor\":\"y9\",\"domain\":[0.0,0.2125],\"gridcolor\":\"#E1E5ED\",\"showgrid\":false,\"tickfont\":{\"color\":\"#4D5663\"},\"title\":{\"font\":{\"color\":\"#4D5663\"},\"text\":\"\"},\"zerolinecolor\":\"#E1E5ED\"},\"yaxis9\":{\"anchor\":\"x9\",\"domain\":[0.2675,0.465],\"gridcolor\":\"#E1E5ED\",\"showgrid\":false,\"tickfont\":{\"color\":\"#4D5663\"},\"title\":{\"font\":{\"color\":\"#4D5663\"},\"text\":\"\"},\"zerolinecolor\":\"#E1E5ED\"},\"xaxis10\":{\"anchor\":\"y10\",\"domain\":[0.2625,0.475],\"gridcolor\":\"#E1E5ED\",\"showgrid\":false,\"tickfont\":{\"color\":\"#4D5663\"},\"title\":{\"font\":{\"color\":\"#4D5663\"},\"text\":\"\"},\"zerolinecolor\":\"#E1E5ED\"},\"yaxis10\":{\"anchor\":\"x10\",\"domain\":[0.2675,0.465],\"gridcolor\":\"#E1E5ED\",\"showgrid\":false,\"tickfont\":{\"color\":\"#4D5663\"},\"title\":{\"font\":{\"color\":\"#4D5663\"},\"text\":\"\"},\"zerolinecolor\":\"#E1E5ED\"},\"xaxis11\":{\"anchor\":\"y11\",\"domain\":[0.525,0.7375],\"gridcolor\":\"#E1E5ED\",\"showgrid\":false,\"tickfont\":{\"color\":\"#4D5663\"},\"title\":{\"font\":{\"color\":\"#4D5663\"},\"text\":\"\"},\"zerolinecolor\":\"#E1E5ED\"},\"yaxis11\":{\"anchor\":\"x11\",\"domain\":[0.2675,0.465],\"gridcolor\":\"#E1E5ED\",\"showgrid\":false,\"tickfont\":{\"color\":\"#4D5663\"},\"title\":{\"font\":{\"color\":\"#4D5663\"},\"text\":\"\"},\"zerolinecolor\":\"#E1E5ED\"},\"xaxis12\":{\"anchor\":\"y12\",\"domain\":[0.7875,1.0],\"gridcolor\":\"#E1E5ED\",\"showgrid\":false,\"tickfont\":{\"color\":\"#4D5663\"},\"title\":{\"font\":{\"color\":\"#4D5663\"},\"text\":\"\"},\"zerolinecolor\":\"#E1E5ED\"},\"yaxis12\":{\"anchor\":\"x12\",\"domain\":[0.2675,0.465],\"gridcolor\":\"#E1E5ED\",\"showgrid\":false,\"tickfont\":{\"color\":\"#4D5663\"},\"title\":{\"font\":{\"color\":\"#4D5663\"},\"text\":\"\"},\"zerolinecolor\":\"#E1E5ED\"},\"xaxis13\":{\"anchor\":\"y13\",\"domain\":[0.0,0.2125],\"gridcolor\":\"#E1E5ED\",\"showgrid\":false,\"tickfont\":{\"color\":\"#4D5663\"},\"title\":{\"font\":{\"color\":\"#4D5663\"},\"text\":\"\"},\"zerolinecolor\":\"#E1E5ED\"},\"yaxis13\":{\"anchor\":\"x13\",\"domain\":[0.0,0.1975],\"gridcolor\":\"#E1E5ED\",\"showgrid\":false,\"tickfont\":{\"color\":\"#4D5663\"},\"title\":{\"font\":{\"color\":\"#4D5663\"},\"text\":\"\"},\"zerolinecolor\":\"#E1E5ED\"},\"xaxis14\":{\"anchor\":\"y14\",\"domain\":[0.2625,0.475],\"gridcolor\":\"#E1E5ED\",\"showgrid\":false,\"tickfont\":{\"color\":\"#4D5663\"},\"title\":{\"font\":{\"color\":\"#4D5663\"},\"text\":\"\"},\"zerolinecolor\":\"#E1E5ED\"},\"yaxis14\":{\"anchor\":\"x14\",\"domain\":[0.0,0.1975],\"gridcolor\":\"#E1E5ED\",\"showgrid\":false,\"tickfont\":{\"color\":\"#4D5663\"},\"title\":{\"font\":{\"color\":\"#4D5663\"},\"text\":\"\"},\"zerolinecolor\":\"#E1E5ED\"},\"xaxis15\":{\"anchor\":\"y15\",\"domain\":[0.525,0.7375],\"gridcolor\":\"#E1E5ED\",\"showgrid\":false,\"tickfont\":{\"color\":\"#4D5663\"},\"title\":{\"font\":{\"color\":\"#4D5663\"},\"text\":\"\"},\"zerolinecolor\":\"#E1E5ED\"},\"yaxis15\":{\"anchor\":\"x15\",\"domain\":[0.0,0.1975],\"gridcolor\":\"#E1E5ED\",\"showgrid\":false,\"tickfont\":{\"color\":\"#4D5663\"},\"title\":{\"font\":{\"color\":\"#4D5663\"},\"text\":\"\"},\"zerolinecolor\":\"#E1E5ED\"},\"xaxis16\":{\"anchor\":\"y16\",\"domain\":[0.7875,1.0],\"gridcolor\":\"#E1E5ED\",\"showgrid\":false,\"tickfont\":{\"color\":\"#4D5663\"},\"title\":{\"font\":{\"color\":\"#4D5663\"},\"text\":\"\"},\"zerolinecolor\":\"#E1E5ED\"},\"yaxis16\":{\"anchor\":\"x16\",\"domain\":[0.0,0.1975],\"gridcolor\":\"#E1E5ED\",\"showgrid\":false,\"tickfont\":{\"color\":\"#4D5663\"},\"title\":{\"font\":{\"color\":\"#4D5663\"},\"text\":\"\"},\"zerolinecolor\":\"#E1E5ED\"}},                        {\"showLink\": true, \"linkText\": \"Export to plot.ly\", \"plotlyServerURL\": \"https://plot.ly\", \"responsive\": true}                    ).then(function(){\n",
       "                            \n",
       "var gd = document.getElementById('9306fee0-b93b-4852-b3c8-8a2a91d3a091');\n",
       "var x = new MutationObserver(function (mutations, observer) {{\n",
       "        var display = window.getComputedStyle(gd).display;\n",
       "        if (!display || display === 'none') {{\n",
       "            console.log([gd, 'removed!']);\n",
       "            Plotly.purge(gd);\n",
       "            observer.disconnect();\n",
       "        }}\n",
       "}});\n",
       "\n",
       "// Listen for the removal of the full notebook cells\n",
       "var notebookContainer = gd.closest('#notebook-container');\n",
       "if (notebookContainer) {{\n",
       "    x.observe(notebookContainer, {childList: true});\n",
       "}}\n",
       "\n",
       "// Listen for the clearing of the current output cell\n",
       "var outputEl = gd.closest('.output');\n",
       "if (outputEl) {{\n",
       "    x.observe(outputEl, {childList: true});\n",
       "}}\n",
       "\n",
       "                        })                };                });            </script>        </div>"
      ]
     },
     "metadata": {},
     "output_type": "display_data"
    }
   ],
   "source": [
    "df1.scatter_matrix()"
   ]
  },
  {
   "cell_type": "code",
   "execution_count": null,
   "id": "5d8f49b2",
   "metadata": {},
   "outputs": [],
   "source": []
  }
 ],
 "metadata": {
  "kernelspec": {
   "display_name": "Python 3 (ipykernel)",
   "language": "python",
   "name": "python3"
  },
  "language_info": {
   "codemirror_mode": {
    "name": "ipython",
    "version": 3
   },
   "file_extension": ".py",
   "mimetype": "text/x-python",
   "name": "python",
   "nbconvert_exporter": "python",
   "pygments_lexer": "ipython3",
   "version": "3.9.12"
  }
 },
 "nbformat": 4,
 "nbformat_minor": 5
}
