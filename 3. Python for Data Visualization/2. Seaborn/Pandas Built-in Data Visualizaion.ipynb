{
 "cells": [
  {
   "cell_type": "markdown",
   "id": "92885015",
   "metadata": {},
   "source": [
    "<h1> Pandas Built-in Data Visualizaion </h1>"
   ]
  },
  {
   "cell_type": "code",
   "execution_count": 81,
   "id": "15bb82dc",
   "metadata": {},
   "outputs": [],
   "source": [
    "import numpy as np\n",
    "import pandas as pd\n",
    "import seaborn as sns\n",
    "import matplotlib.pyplot as plt"
   ]
  },
  {
   "cell_type": "code",
   "execution_count": 82,
   "id": "85f282d1",
   "metadata": {},
   "outputs": [],
   "source": [
    "df1 = pd.DataFrame({\"Date\":[\"2000-01-01\",\"2000-01-02\",\"2000-01-03\",\n",
    "                           \"2000-01-04\", \"2000-01-05\"], \"A\":list(np.random.randn(5)),\n",
    "                   \"B\":list(np.random.randn(5)),\n",
    "                   \"C\":list(np.random.randn(5)),\n",
    "                   \"D\":list(np.random.randn(5))})"
   ]
  },
  {
   "cell_type": "code",
   "execution_count": 83,
   "id": "6b506a76",
   "metadata": {},
   "outputs": [
    {
     "data": {
      "text/html": [
       "<div>\n",
       "<style scoped>\n",
       "    .dataframe tbody tr th:only-of-type {\n",
       "        vertical-align: middle;\n",
       "    }\n",
       "\n",
       "    .dataframe tbody tr th {\n",
       "        vertical-align: top;\n",
       "    }\n",
       "\n",
       "    .dataframe thead th {\n",
       "        text-align: right;\n",
       "    }\n",
       "</style>\n",
       "<table border=\"1\" class=\"dataframe\">\n",
       "  <thead>\n",
       "    <tr style=\"text-align: right;\">\n",
       "      <th></th>\n",
       "      <th>Date</th>\n",
       "      <th>A</th>\n",
       "      <th>B</th>\n",
       "      <th>C</th>\n",
       "      <th>D</th>\n",
       "    </tr>\n",
       "  </thead>\n",
       "  <tbody>\n",
       "    <tr>\n",
       "      <th>0</th>\n",
       "      <td>2000-01-01</td>\n",
       "      <td>-0.164857</td>\n",
       "      <td>0.067974</td>\n",
       "      <td>0.940262</td>\n",
       "      <td>0.073689</td>\n",
       "    </tr>\n",
       "    <tr>\n",
       "      <th>1</th>\n",
       "      <td>2000-01-02</td>\n",
       "      <td>-0.485249</td>\n",
       "      <td>1.857449</td>\n",
       "      <td>-0.973601</td>\n",
       "      <td>1.526916</td>\n",
       "    </tr>\n",
       "    <tr>\n",
       "      <th>2</th>\n",
       "      <td>2000-01-03</td>\n",
       "      <td>-0.632214</td>\n",
       "      <td>0.015088</td>\n",
       "      <td>0.079724</td>\n",
       "      <td>-0.806280</td>\n",
       "    </tr>\n",
       "    <tr>\n",
       "      <th>3</th>\n",
       "      <td>2000-01-04</td>\n",
       "      <td>-1.610577</td>\n",
       "      <td>-0.719998</td>\n",
       "      <td>1.545719</td>\n",
       "      <td>0.711751</td>\n",
       "    </tr>\n",
       "    <tr>\n",
       "      <th>4</th>\n",
       "      <td>2000-01-05</td>\n",
       "      <td>0.726551</td>\n",
       "      <td>0.775757</td>\n",
       "      <td>1.590852</td>\n",
       "      <td>1.280457</td>\n",
       "    </tr>\n",
       "  </tbody>\n",
       "</table>\n",
       "</div>"
      ],
      "text/plain": [
       "         Date         A         B         C         D\n",
       "0  2000-01-01 -0.164857  0.067974  0.940262  0.073689\n",
       "1  2000-01-02 -0.485249  1.857449 -0.973601  1.526916\n",
       "2  2000-01-03 -0.632214  0.015088  0.079724 -0.806280\n",
       "3  2000-01-04 -1.610577 -0.719998  1.545719  0.711751\n",
       "4  2000-01-05  0.726551  0.775757  1.590852  1.280457"
      ]
     },
     "execution_count": 83,
     "metadata": {},
     "output_type": "execute_result"
    }
   ],
   "source": [
    "df1"
   ]
  },
  {
   "cell_type": "code",
   "execution_count": 84,
   "id": "85016bab",
   "metadata": {},
   "outputs": [],
   "source": [
    "df1.set_index(df1[\"Date\"], inplace=True, drop=True)"
   ]
  },
  {
   "cell_type": "code",
   "execution_count": 85,
   "id": "663b2634",
   "metadata": {},
   "outputs": [
    {
     "data": {
      "text/html": [
       "<div>\n",
       "<style scoped>\n",
       "    .dataframe tbody tr th:only-of-type {\n",
       "        vertical-align: middle;\n",
       "    }\n",
       "\n",
       "    .dataframe tbody tr th {\n",
       "        vertical-align: top;\n",
       "    }\n",
       "\n",
       "    .dataframe thead th {\n",
       "        text-align: right;\n",
       "    }\n",
       "</style>\n",
       "<table border=\"1\" class=\"dataframe\">\n",
       "  <thead>\n",
       "    <tr style=\"text-align: right;\">\n",
       "      <th></th>\n",
       "      <th>Date</th>\n",
       "      <th>A</th>\n",
       "      <th>B</th>\n",
       "      <th>C</th>\n",
       "      <th>D</th>\n",
       "    </tr>\n",
       "    <tr>\n",
       "      <th>Date</th>\n",
       "      <th></th>\n",
       "      <th></th>\n",
       "      <th></th>\n",
       "      <th></th>\n",
       "      <th></th>\n",
       "    </tr>\n",
       "  </thead>\n",
       "  <tbody>\n",
       "    <tr>\n",
       "      <th>2000-01-01</th>\n",
       "      <td>2000-01-01</td>\n",
       "      <td>-0.164857</td>\n",
       "      <td>0.067974</td>\n",
       "      <td>0.940262</td>\n",
       "      <td>0.073689</td>\n",
       "    </tr>\n",
       "    <tr>\n",
       "      <th>2000-01-02</th>\n",
       "      <td>2000-01-02</td>\n",
       "      <td>-0.485249</td>\n",
       "      <td>1.857449</td>\n",
       "      <td>-0.973601</td>\n",
       "      <td>1.526916</td>\n",
       "    </tr>\n",
       "    <tr>\n",
       "      <th>2000-01-03</th>\n",
       "      <td>2000-01-03</td>\n",
       "      <td>-0.632214</td>\n",
       "      <td>0.015088</td>\n",
       "      <td>0.079724</td>\n",
       "      <td>-0.806280</td>\n",
       "    </tr>\n",
       "    <tr>\n",
       "      <th>2000-01-04</th>\n",
       "      <td>2000-01-04</td>\n",
       "      <td>-1.610577</td>\n",
       "      <td>-0.719998</td>\n",
       "      <td>1.545719</td>\n",
       "      <td>0.711751</td>\n",
       "    </tr>\n",
       "    <tr>\n",
       "      <th>2000-01-05</th>\n",
       "      <td>2000-01-05</td>\n",
       "      <td>0.726551</td>\n",
       "      <td>0.775757</td>\n",
       "      <td>1.590852</td>\n",
       "      <td>1.280457</td>\n",
       "    </tr>\n",
       "  </tbody>\n",
       "</table>\n",
       "</div>"
      ],
      "text/plain": [
       "                  Date         A         B         C         D\n",
       "Date                                                          \n",
       "2000-01-01  2000-01-01 -0.164857  0.067974  0.940262  0.073689\n",
       "2000-01-02  2000-01-02 -0.485249  1.857449 -0.973601  1.526916\n",
       "2000-01-03  2000-01-03 -0.632214  0.015088  0.079724 -0.806280\n",
       "2000-01-04  2000-01-04 -1.610577 -0.719998  1.545719  0.711751\n",
       "2000-01-05  2000-01-05  0.726551  0.775757  1.590852  1.280457"
      ]
     },
     "execution_count": 85,
     "metadata": {},
     "output_type": "execute_result"
    }
   ],
   "source": [
    "df1"
   ]
  },
  {
   "cell_type": "code",
   "execution_count": 86,
   "id": "2ea900fc",
   "metadata": {},
   "outputs": [],
   "source": [
    "df1 = df1.drop(\"Date\", axis=1)"
   ]
  },
  {
   "cell_type": "code",
   "execution_count": 87,
   "id": "093fd770",
   "metadata": {},
   "outputs": [
    {
     "data": {
      "text/html": [
       "<div>\n",
       "<style scoped>\n",
       "    .dataframe tbody tr th:only-of-type {\n",
       "        vertical-align: middle;\n",
       "    }\n",
       "\n",
       "    .dataframe tbody tr th {\n",
       "        vertical-align: top;\n",
       "    }\n",
       "\n",
       "    .dataframe thead th {\n",
       "        text-align: right;\n",
       "    }\n",
       "</style>\n",
       "<table border=\"1\" class=\"dataframe\">\n",
       "  <thead>\n",
       "    <tr style=\"text-align: right;\">\n",
       "      <th></th>\n",
       "      <th>A</th>\n",
       "      <th>B</th>\n",
       "      <th>C</th>\n",
       "      <th>D</th>\n",
       "    </tr>\n",
       "    <tr>\n",
       "      <th>Date</th>\n",
       "      <th></th>\n",
       "      <th></th>\n",
       "      <th></th>\n",
       "      <th></th>\n",
       "    </tr>\n",
       "  </thead>\n",
       "  <tbody>\n",
       "    <tr>\n",
       "      <th>2000-01-01</th>\n",
       "      <td>-0.164857</td>\n",
       "      <td>0.067974</td>\n",
       "      <td>0.940262</td>\n",
       "      <td>0.073689</td>\n",
       "    </tr>\n",
       "    <tr>\n",
       "      <th>2000-01-02</th>\n",
       "      <td>-0.485249</td>\n",
       "      <td>1.857449</td>\n",
       "      <td>-0.973601</td>\n",
       "      <td>1.526916</td>\n",
       "    </tr>\n",
       "    <tr>\n",
       "      <th>2000-01-03</th>\n",
       "      <td>-0.632214</td>\n",
       "      <td>0.015088</td>\n",
       "      <td>0.079724</td>\n",
       "      <td>-0.806280</td>\n",
       "    </tr>\n",
       "    <tr>\n",
       "      <th>2000-01-04</th>\n",
       "      <td>-1.610577</td>\n",
       "      <td>-0.719998</td>\n",
       "      <td>1.545719</td>\n",
       "      <td>0.711751</td>\n",
       "    </tr>\n",
       "    <tr>\n",
       "      <th>2000-01-05</th>\n",
       "      <td>0.726551</td>\n",
       "      <td>0.775757</td>\n",
       "      <td>1.590852</td>\n",
       "      <td>1.280457</td>\n",
       "    </tr>\n",
       "  </tbody>\n",
       "</table>\n",
       "</div>"
      ],
      "text/plain": [
       "                   A         B         C         D\n",
       "Date                                              \n",
       "2000-01-01 -0.164857  0.067974  0.940262  0.073689\n",
       "2000-01-02 -0.485249  1.857449 -0.973601  1.526916\n",
       "2000-01-03 -0.632214  0.015088  0.079724 -0.806280\n",
       "2000-01-04 -1.610577 -0.719998  1.545719  0.711751\n",
       "2000-01-05  0.726551  0.775757  1.590852  1.280457"
      ]
     },
     "execution_count": 87,
     "metadata": {},
     "output_type": "execute_result"
    }
   ],
   "source": [
    "df1"
   ]
  },
  {
   "cell_type": "code",
   "execution_count": 88,
   "id": "a58d4341",
   "metadata": {},
   "outputs": [
    {
     "data": {
      "text/plain": [
       "Index(['2000-01-01', '2000-01-02', '2000-01-03', '2000-01-04', '2000-01-05'], dtype='object', name='Date')"
      ]
     },
     "execution_count": 88,
     "metadata": {},
     "output_type": "execute_result"
    }
   ],
   "source": [
    "df1.index"
   ]
  },
  {
   "cell_type": "code",
   "execution_count": 89,
   "id": "b9c0a6c4",
   "metadata": {},
   "outputs": [
    {
     "data": {
      "text/plain": [
       "A   -0.164857\n",
       "B    0.067974\n",
       "C    0.940262\n",
       "D    0.073689\n",
       "Name: 2000-01-01, dtype: float64"
      ]
     },
     "execution_count": 89,
     "metadata": {},
     "output_type": "execute_result"
    }
   ],
   "source": [
    "df1.loc[\"2000-01-01\"]"
   ]
  },
  {
   "cell_type": "code",
   "execution_count": 90,
   "id": "32fd48d5",
   "metadata": {},
   "outputs": [],
   "source": [
    "arr_1 = np.array(np.random.rand(30,4))"
   ]
  },
  {
   "cell_type": "code",
   "execution_count": 91,
   "id": "c699f3b0",
   "metadata": {},
   "outputs": [
    {
     "data": {
      "text/plain": [
       "array([[0.46832283, 0.94559628, 0.14990585, 0.67145899],\n",
       "       [0.12601019, 0.66948744, 0.85043464, 0.92954385],\n",
       "       [0.29582343, 0.57648268, 0.33003521, 0.2841457 ],\n",
       "       [0.61751757, 0.76535719, 0.84256818, 0.62548741],\n",
       "       [0.56820542, 0.50733424, 0.82959022, 0.64801558],\n",
       "       [0.00582699, 0.35279336, 0.9789039 , 0.85969676],\n",
       "       [0.86436581, 0.17382114, 0.23961411, 0.08393639],\n",
       "       [0.0158328 , 0.76690267, 0.38371042, 0.24449807],\n",
       "       [0.77299892, 0.22579018, 0.77371106, 0.52611092],\n",
       "       [0.3465825 , 0.24263033, 0.14261793, 0.40800499],\n",
       "       [0.14639412, 0.45101346, 0.76424971, 0.62637777],\n",
       "       [0.25118323, 0.57237955, 0.582523  , 0.35807353],\n",
       "       [0.97963873, 0.00182594, 0.91896309, 0.51853953],\n",
       "       [0.58928816, 0.46839008, 0.33074455, 0.79529115],\n",
       "       [0.3394568 , 0.12233572, 0.08615098, 0.85483846],\n",
       "       [0.1594524 , 0.20902241, 0.48473173, 0.80941759],\n",
       "       [0.96966203, 0.02594371, 0.53056964, 0.72758663],\n",
       "       [0.66779428, 0.24098469, 0.43047977, 0.30992559],\n",
       "       [0.84572365, 0.20152783, 0.18930188, 0.76539216],\n",
       "       [0.61873829, 0.5227425 , 0.97329555, 0.46620768],\n",
       "       [0.0147419 , 0.95859952, 0.88877211, 0.97987135],\n",
       "       [0.1565332 , 0.81929643, 0.08427167, 0.56638595],\n",
       "       [0.20436232, 0.29552069, 0.59264994, 0.20161356],\n",
       "       [0.18548967, 0.61245049, 0.16053565, 0.02256259],\n",
       "       [0.11392645, 0.27205799, 0.04080506, 0.14398778],\n",
       "       [0.67653795, 0.60972758, 0.1250274 , 0.75719057],\n",
       "       [0.42279039, 0.02156192, 0.97007341, 0.57494401],\n",
       "       [0.80250527, 0.86849932, 0.18876428, 0.04829868],\n",
       "       [0.44948673, 0.42569685, 0.6622976 , 0.71439965],\n",
       "       [0.71396389, 0.39851489, 0.07266793, 0.3225771 ]])"
      ]
     },
     "execution_count": 91,
     "metadata": {},
     "output_type": "execute_result"
    }
   ],
   "source": [
    "arr_1"
   ]
  },
  {
   "cell_type": "code",
   "execution_count": 92,
   "id": "94807b0d",
   "metadata": {},
   "outputs": [],
   "source": [
    "df2 = pd.DataFrame(arr_1, columns=[\"a\",\"b\",\"c\",\"d\"])"
   ]
  },
  {
   "cell_type": "code",
   "execution_count": 93,
   "id": "1143b239",
   "metadata": {},
   "outputs": [
    {
     "data": {
      "text/html": [
       "<div>\n",
       "<style scoped>\n",
       "    .dataframe tbody tr th:only-of-type {\n",
       "        vertical-align: middle;\n",
       "    }\n",
       "\n",
       "    .dataframe tbody tr th {\n",
       "        vertical-align: top;\n",
       "    }\n",
       "\n",
       "    .dataframe thead th {\n",
       "        text-align: right;\n",
       "    }\n",
       "</style>\n",
       "<table border=\"1\" class=\"dataframe\">\n",
       "  <thead>\n",
       "    <tr style=\"text-align: right;\">\n",
       "      <th></th>\n",
       "      <th>a</th>\n",
       "      <th>b</th>\n",
       "      <th>c</th>\n",
       "      <th>d</th>\n",
       "    </tr>\n",
       "  </thead>\n",
       "  <tbody>\n",
       "    <tr>\n",
       "      <th>0</th>\n",
       "      <td>0.468323</td>\n",
       "      <td>0.945596</td>\n",
       "      <td>0.149906</td>\n",
       "      <td>0.671459</td>\n",
       "    </tr>\n",
       "    <tr>\n",
       "      <th>1</th>\n",
       "      <td>0.126010</td>\n",
       "      <td>0.669487</td>\n",
       "      <td>0.850435</td>\n",
       "      <td>0.929544</td>\n",
       "    </tr>\n",
       "    <tr>\n",
       "      <th>2</th>\n",
       "      <td>0.295823</td>\n",
       "      <td>0.576483</td>\n",
       "      <td>0.330035</td>\n",
       "      <td>0.284146</td>\n",
       "    </tr>\n",
       "    <tr>\n",
       "      <th>3</th>\n",
       "      <td>0.617518</td>\n",
       "      <td>0.765357</td>\n",
       "      <td>0.842568</td>\n",
       "      <td>0.625487</td>\n",
       "    </tr>\n",
       "    <tr>\n",
       "      <th>4</th>\n",
       "      <td>0.568205</td>\n",
       "      <td>0.507334</td>\n",
       "      <td>0.829590</td>\n",
       "      <td>0.648016</td>\n",
       "    </tr>\n",
       "    <tr>\n",
       "      <th>5</th>\n",
       "      <td>0.005827</td>\n",
       "      <td>0.352793</td>\n",
       "      <td>0.978904</td>\n",
       "      <td>0.859697</td>\n",
       "    </tr>\n",
       "    <tr>\n",
       "      <th>6</th>\n",
       "      <td>0.864366</td>\n",
       "      <td>0.173821</td>\n",
       "      <td>0.239614</td>\n",
       "      <td>0.083936</td>\n",
       "    </tr>\n",
       "    <tr>\n",
       "      <th>7</th>\n",
       "      <td>0.015833</td>\n",
       "      <td>0.766903</td>\n",
       "      <td>0.383710</td>\n",
       "      <td>0.244498</td>\n",
       "    </tr>\n",
       "    <tr>\n",
       "      <th>8</th>\n",
       "      <td>0.772999</td>\n",
       "      <td>0.225790</td>\n",
       "      <td>0.773711</td>\n",
       "      <td>0.526111</td>\n",
       "    </tr>\n",
       "    <tr>\n",
       "      <th>9</th>\n",
       "      <td>0.346583</td>\n",
       "      <td>0.242630</td>\n",
       "      <td>0.142618</td>\n",
       "      <td>0.408005</td>\n",
       "    </tr>\n",
       "    <tr>\n",
       "      <th>10</th>\n",
       "      <td>0.146394</td>\n",
       "      <td>0.451013</td>\n",
       "      <td>0.764250</td>\n",
       "      <td>0.626378</td>\n",
       "    </tr>\n",
       "    <tr>\n",
       "      <th>11</th>\n",
       "      <td>0.251183</td>\n",
       "      <td>0.572380</td>\n",
       "      <td>0.582523</td>\n",
       "      <td>0.358074</td>\n",
       "    </tr>\n",
       "    <tr>\n",
       "      <th>12</th>\n",
       "      <td>0.979639</td>\n",
       "      <td>0.001826</td>\n",
       "      <td>0.918963</td>\n",
       "      <td>0.518540</td>\n",
       "    </tr>\n",
       "    <tr>\n",
       "      <th>13</th>\n",
       "      <td>0.589288</td>\n",
       "      <td>0.468390</td>\n",
       "      <td>0.330745</td>\n",
       "      <td>0.795291</td>\n",
       "    </tr>\n",
       "    <tr>\n",
       "      <th>14</th>\n",
       "      <td>0.339457</td>\n",
       "      <td>0.122336</td>\n",
       "      <td>0.086151</td>\n",
       "      <td>0.854838</td>\n",
       "    </tr>\n",
       "    <tr>\n",
       "      <th>15</th>\n",
       "      <td>0.159452</td>\n",
       "      <td>0.209022</td>\n",
       "      <td>0.484732</td>\n",
       "      <td>0.809418</td>\n",
       "    </tr>\n",
       "    <tr>\n",
       "      <th>16</th>\n",
       "      <td>0.969662</td>\n",
       "      <td>0.025944</td>\n",
       "      <td>0.530570</td>\n",
       "      <td>0.727587</td>\n",
       "    </tr>\n",
       "    <tr>\n",
       "      <th>17</th>\n",
       "      <td>0.667794</td>\n",
       "      <td>0.240985</td>\n",
       "      <td>0.430480</td>\n",
       "      <td>0.309926</td>\n",
       "    </tr>\n",
       "    <tr>\n",
       "      <th>18</th>\n",
       "      <td>0.845724</td>\n",
       "      <td>0.201528</td>\n",
       "      <td>0.189302</td>\n",
       "      <td>0.765392</td>\n",
       "    </tr>\n",
       "    <tr>\n",
       "      <th>19</th>\n",
       "      <td>0.618738</td>\n",
       "      <td>0.522742</td>\n",
       "      <td>0.973296</td>\n",
       "      <td>0.466208</td>\n",
       "    </tr>\n",
       "    <tr>\n",
       "      <th>20</th>\n",
       "      <td>0.014742</td>\n",
       "      <td>0.958600</td>\n",
       "      <td>0.888772</td>\n",
       "      <td>0.979871</td>\n",
       "    </tr>\n",
       "    <tr>\n",
       "      <th>21</th>\n",
       "      <td>0.156533</td>\n",
       "      <td>0.819296</td>\n",
       "      <td>0.084272</td>\n",
       "      <td>0.566386</td>\n",
       "    </tr>\n",
       "    <tr>\n",
       "      <th>22</th>\n",
       "      <td>0.204362</td>\n",
       "      <td>0.295521</td>\n",
       "      <td>0.592650</td>\n",
       "      <td>0.201614</td>\n",
       "    </tr>\n",
       "    <tr>\n",
       "      <th>23</th>\n",
       "      <td>0.185490</td>\n",
       "      <td>0.612450</td>\n",
       "      <td>0.160536</td>\n",
       "      <td>0.022563</td>\n",
       "    </tr>\n",
       "    <tr>\n",
       "      <th>24</th>\n",
       "      <td>0.113926</td>\n",
       "      <td>0.272058</td>\n",
       "      <td>0.040805</td>\n",
       "      <td>0.143988</td>\n",
       "    </tr>\n",
       "    <tr>\n",
       "      <th>25</th>\n",
       "      <td>0.676538</td>\n",
       "      <td>0.609728</td>\n",
       "      <td>0.125027</td>\n",
       "      <td>0.757191</td>\n",
       "    </tr>\n",
       "    <tr>\n",
       "      <th>26</th>\n",
       "      <td>0.422790</td>\n",
       "      <td>0.021562</td>\n",
       "      <td>0.970073</td>\n",
       "      <td>0.574944</td>\n",
       "    </tr>\n",
       "    <tr>\n",
       "      <th>27</th>\n",
       "      <td>0.802505</td>\n",
       "      <td>0.868499</td>\n",
       "      <td>0.188764</td>\n",
       "      <td>0.048299</td>\n",
       "    </tr>\n",
       "    <tr>\n",
       "      <th>28</th>\n",
       "      <td>0.449487</td>\n",
       "      <td>0.425697</td>\n",
       "      <td>0.662298</td>\n",
       "      <td>0.714400</td>\n",
       "    </tr>\n",
       "    <tr>\n",
       "      <th>29</th>\n",
       "      <td>0.713964</td>\n",
       "      <td>0.398515</td>\n",
       "      <td>0.072668</td>\n",
       "      <td>0.322577</td>\n",
       "    </tr>\n",
       "  </tbody>\n",
       "</table>\n",
       "</div>"
      ],
      "text/plain": [
       "           a         b         c         d\n",
       "0   0.468323  0.945596  0.149906  0.671459\n",
       "1   0.126010  0.669487  0.850435  0.929544\n",
       "2   0.295823  0.576483  0.330035  0.284146\n",
       "3   0.617518  0.765357  0.842568  0.625487\n",
       "4   0.568205  0.507334  0.829590  0.648016\n",
       "5   0.005827  0.352793  0.978904  0.859697\n",
       "6   0.864366  0.173821  0.239614  0.083936\n",
       "7   0.015833  0.766903  0.383710  0.244498\n",
       "8   0.772999  0.225790  0.773711  0.526111\n",
       "9   0.346583  0.242630  0.142618  0.408005\n",
       "10  0.146394  0.451013  0.764250  0.626378\n",
       "11  0.251183  0.572380  0.582523  0.358074\n",
       "12  0.979639  0.001826  0.918963  0.518540\n",
       "13  0.589288  0.468390  0.330745  0.795291\n",
       "14  0.339457  0.122336  0.086151  0.854838\n",
       "15  0.159452  0.209022  0.484732  0.809418\n",
       "16  0.969662  0.025944  0.530570  0.727587\n",
       "17  0.667794  0.240985  0.430480  0.309926\n",
       "18  0.845724  0.201528  0.189302  0.765392\n",
       "19  0.618738  0.522742  0.973296  0.466208\n",
       "20  0.014742  0.958600  0.888772  0.979871\n",
       "21  0.156533  0.819296  0.084272  0.566386\n",
       "22  0.204362  0.295521  0.592650  0.201614\n",
       "23  0.185490  0.612450  0.160536  0.022563\n",
       "24  0.113926  0.272058  0.040805  0.143988\n",
       "25  0.676538  0.609728  0.125027  0.757191\n",
       "26  0.422790  0.021562  0.970073  0.574944\n",
       "27  0.802505  0.868499  0.188764  0.048299\n",
       "28  0.449487  0.425697  0.662298  0.714400\n",
       "29  0.713964  0.398515  0.072668  0.322577"
      ]
     },
     "execution_count": 93,
     "metadata": {},
     "output_type": "execute_result"
    }
   ],
   "source": [
    "df2"
   ]
  },
  {
   "cell_type": "code",
   "execution_count": 94,
   "id": "4c20aee3",
   "metadata": {},
   "outputs": [
    {
     "data": {
      "text/plain": [
       "<AxesSubplot:>"
      ]
     },
     "execution_count": 94,
     "metadata": {},
     "output_type": "execute_result"
    },
    {
     "data": {
      "image/png": "[encoded data removed]",
      "text/plain": [
       "<Figure size 432x288 with 1 Axes>"
      ]
     },
     "metadata": {
      "needs_background": "light"
     },
     "output_type": "display_data"
    }
   ],
   "source": [
    "df1[\"A\"].hist(bins=30)"
   ]
  },
  {
   "cell_type": "code",
   "execution_count": 97,
   "id": "230e8380",
   "metadata": {},
   "outputs": [
    {
     "data": {
      "text/plain": [
       "<AxesSubplot:ylabel='Frequency'>"
      ]
     },
     "execution_count": 97,
     "metadata": {},
     "output_type": "execute_result"
    },
    {
     "data": {
      "image/png": "[encoded data removed]",
      "text/plain": [
       "<Figure size 432x288 with 1 Axes>"
      ]
     },
     "metadata": {},
     "output_type": "display_data"
    }
   ],
   "source": [
    "plt.style.use(\"ggplot\")\n",
    "df2[\"a\"].plot(kind=\"hist\")"
   ]
  },
  {
   "cell_type": "code",
   "execution_count": 98,
   "id": "f46f702a",
   "metadata": {},
   "outputs": [
    {
     "data": {
      "text/plain": [
       "<AxesSubplot:ylabel='Frequency'>"
      ]
     },
     "execution_count": 98,
     "metadata": {},
     "output_type": "execute_result"
    },
    {
     "data": {
      "image/png": "[encoded data removed]",
      "text/plain": [
       "<Figure size 432x288 with 1 Axes>"
      ]
     },
     "metadata": {},
     "output_type": "display_data"
    }
   ],
   "source": [
    "df2[\"a\"].plot.hist()"
   ]
  },
  {
   "cell_type": "code",
   "execution_count": 57,
   "id": "6b2ea97a",
   "metadata": {},
   "outputs": [
    {
     "data": {
      "text/html": [
       "<div>\n",
       "<style scoped>\n",
       "    .dataframe tbody tr th:only-of-type {\n",
       "        vertical-align: middle;\n",
       "    }\n",
       "\n",
       "    .dataframe tbody tr th {\n",
       "        vertical-align: top;\n",
       "    }\n",
       "\n",
       "    .dataframe thead th {\n",
       "        text-align: right;\n",
       "    }\n",
       "</style>\n",
       "<table border=\"1\" class=\"dataframe\">\n",
       "  <thead>\n",
       "    <tr style=\"text-align: right;\">\n",
       "      <th></th>\n",
       "      <th>a</th>\n",
       "      <th>b</th>\n",
       "      <th>c</th>\n",
       "      <th>d</th>\n",
       "    </tr>\n",
       "  </thead>\n",
       "  <tbody>\n",
       "    <tr>\n",
       "      <th>0</th>\n",
       "      <td>0.581252</td>\n",
       "      <td>0.637591</td>\n",
       "      <td>0.918250</td>\n",
       "      <td>0.590357</td>\n",
       "    </tr>\n",
       "    <tr>\n",
       "      <th>1</th>\n",
       "      <td>0.854074</td>\n",
       "      <td>0.764068</td>\n",
       "      <td>0.405086</td>\n",
       "      <td>0.605125</td>\n",
       "    </tr>\n",
       "    <tr>\n",
       "      <th>2</th>\n",
       "      <td>0.546815</td>\n",
       "      <td>0.317013</td>\n",
       "      <td>0.283841</td>\n",
       "      <td>0.684127</td>\n",
       "    </tr>\n",
       "    <tr>\n",
       "      <th>3</th>\n",
       "      <td>0.703737</td>\n",
       "      <td>0.995550</td>\n",
       "      <td>0.500669</td>\n",
       "      <td>0.590738</td>\n",
       "    </tr>\n",
       "    <tr>\n",
       "      <th>4</th>\n",
       "      <td>0.814872</td>\n",
       "      <td>0.791352</td>\n",
       "      <td>0.851778</td>\n",
       "      <td>0.396996</td>\n",
       "    </tr>\n",
       "  </tbody>\n",
       "</table>\n",
       "</div>"
      ],
      "text/plain": [
       "          a         b         c         d\n",
       "0  0.581252  0.637591  0.918250  0.590357\n",
       "1  0.854074  0.764068  0.405086  0.605125\n",
       "2  0.546815  0.317013  0.283841  0.684127\n",
       "3  0.703737  0.995550  0.500669  0.590738\n",
       "4  0.814872  0.791352  0.851778  0.396996"
      ]
     },
     "execution_count": 57,
     "metadata": {},
     "output_type": "execute_result"
    }
   ],
   "source": [
    "df2.head()"
   ]
  },
  {
   "cell_type": "code",
   "execution_count": 99,
   "id": "853e6881",
   "metadata": {},
   "outputs": [
    {
     "data": {
      "text/plain": [
       "<AxesSubplot:>"
      ]
     },
     "execution_count": 99,
     "metadata": {},
     "output_type": "execute_result"
    },
    {
     "data": {
      "image/png": "[encoded data removed]",
      "text/plain": [
       "<Figure size 432x288 with 1 Axes>"
      ]
     },
     "metadata": {},
     "output_type": "display_data"
    }
   ],
   "source": [
    "df2.plot.area()"
   ]
  },
  {
   "cell_type": "code",
   "execution_count": 100,
   "id": "99ec80d1",
   "metadata": {},
   "outputs": [
    {
     "data": {
      "text/plain": [
       "<AxesSubplot:>"
      ]
     },
     "execution_count": 100,
     "metadata": {},
     "output_type": "execute_result"
    },
    {
     "data": {
      "image/png": "[encoded data removed]",
      "text/plain": [
       "<Figure size 432x288 with 1 Axes>"
      ]
     },
     "metadata": {},
     "output_type": "display_data"
    }
   ],
   "source": [
    "df2.plot.bar()"
   ]
  },
  {
   "cell_type": "code",
   "execution_count": 101,
   "id": "2b5f4355",
   "metadata": {},
   "outputs": [
    {
     "data": {
      "text/plain": [
       "<AxesSubplot:>"
      ]
     },
     "execution_count": 101,
     "metadata": {},
     "output_type": "execute_result"
    },
    {
     "data": {
      "image/png": "[encoded data removed]",
      "text/plain": [
       "<Figure size 432x288 with 1 Axes>"
      ]
     },
     "metadata": {},
     "output_type": "display_data"
    }
   ],
   "source": [
    "df2.plot.bar(stacked=True)"
   ]
  },
  {
   "cell_type": "code",
   "execution_count": 102,
   "id": "84c73cc3",
   "metadata": {},
   "outputs": [
    {
     "data": {
      "text/plain": [
       "<AxesSubplot:ylabel='Frequency'>"
      ]
     },
     "execution_count": 102,
     "metadata": {},
     "output_type": "execute_result"
    },
    {
     "data": {
      "image/png": "[encoded data removed]",
      "text/plain": [
       "<Figure size 432x288 with 1 Axes>"
      ]
     },
     "metadata": {},
     "output_type": "display_data"
    }
   ],
   "source": [
    "df2[\"a\"].plot.hist()"
   ]
  },
  {
   "cell_type": "code",
   "execution_count": 103,
   "id": "392b0984",
   "metadata": {},
   "outputs": [
    {
     "data": {
      "text/plain": [
       "<AxesSubplot:xlabel='A', ylabel='B'>"
      ]
     },
     "execution_count": 103,
     "metadata": {},
     "output_type": "execute_result"
    },
    {
     "data": {
      "image/png": "[encoded data removed]",
      "text/plain": [
       "<Figure size 432x288 with 2 Axes>"
      ]
     },
     "metadata": {},
     "output_type": "display_data"
    }
   ],
   "source": [
    "df1.plot.scatter(x=\"A\", y=\"B\", c=\"C\", cmap=\"coolwarm\")"
   ]
  },
  {
   "cell_type": "code",
   "execution_count": 104,
   "id": "8c25930a",
   "metadata": {},
   "outputs": [
    {
     "name": "stderr",
     "output_type": "stream",
     "text": [
      "C:\\ProgramData\\Anaconda3\\lib\\site-packages\\matplotlib\\collections.py:982: RuntimeWarning: invalid value encountered in sqrt\n",
      "  scale = np.sqrt(self._sizes) * dpi / 72.0 * self._factor\n"
     ]
    },
    {
     "data": {
      "text/plain": [
       "<AxesSubplot:xlabel='A', ylabel='B'>"
      ]
     },
     "execution_count": 104,
     "metadata": {},
     "output_type": "execute_result"
    },
    {
     "data": {
      "image/png": "[encoded data removed]",
      "text/plain": [
       "<Figure size 432x288 with 1 Axes>"
      ]
     },
     "metadata": {},
     "output_type": "display_data"
    }
   ],
   "source": [
    "df1.plot.scatter(x=\"A\", y=\"B\", s=df1[\"C\"]*100)"
   ]
  },
  {
   "cell_type": "code",
   "execution_count": 105,
   "id": "6f0be8df",
   "metadata": {},
   "outputs": [
    {
     "data": {
      "text/plain": [
       "<AxesSubplot:>"
      ]
     },
     "execution_count": 105,
     "metadata": {},
     "output_type": "execute_result"
    },
    {
     "data": {
      "image/png": "[encoded data removed]",
      "text/plain": [
       "<Figure size 432x288 with 1 Axes>"
      ]
     },
     "metadata": {},
     "output_type": "display_data"
    }
   ],
   "source": [
    "df2.plot.box()"
   ]
  },
  {
   "cell_type": "code",
   "execution_count": 106,
   "id": "37177ee3",
   "metadata": {},
   "outputs": [],
   "source": [
    "df = pd.DataFrame(np.random.randn(1000,2), columns=[\"A\",\"B\"])"
   ]
  },
  {
   "cell_type": "code",
   "execution_count": 107,
   "id": "01c2f6b4",
   "metadata": {},
   "outputs": [
    {
     "data": {
      "text/html": [
       "<div>\n",
       "<style scoped>\n",
       "    .dataframe tbody tr th:only-of-type {\n",
       "        vertical-align: middle;\n",
       "    }\n",
       "\n",
       "    .dataframe tbody tr th {\n",
       "        vertical-align: top;\n",
       "    }\n",
       "\n",
       "    .dataframe thead th {\n",
       "        text-align: right;\n",
       "    }\n",
       "</style>\n",
       "<table border=\"1\" class=\"dataframe\">\n",
       "  <thead>\n",
       "    <tr style=\"text-align: right;\">\n",
       "      <th></th>\n",
       "      <th>A</th>\n",
       "      <th>B</th>\n",
       "    </tr>\n",
       "  </thead>\n",
       "  <tbody>\n",
       "    <tr>\n",
       "      <th>0</th>\n",
       "      <td>0.623894</td>\n",
       "      <td>-0.266447</td>\n",
       "    </tr>\n",
       "    <tr>\n",
       "      <th>1</th>\n",
       "      <td>0.723470</td>\n",
       "      <td>-0.075421</td>\n",
       "    </tr>\n",
       "    <tr>\n",
       "      <th>2</th>\n",
       "      <td>0.188614</td>\n",
       "      <td>0.018051</td>\n",
       "    </tr>\n",
       "    <tr>\n",
       "      <th>3</th>\n",
       "      <td>0.318907</td>\n",
       "      <td>0.188029</td>\n",
       "    </tr>\n",
       "    <tr>\n",
       "      <th>4</th>\n",
       "      <td>0.581159</td>\n",
       "      <td>1.156572</td>\n",
       "    </tr>\n",
       "  </tbody>\n",
       "</table>\n",
       "</div>"
      ],
      "text/plain": [
       "          A         B\n",
       "0  0.623894 -0.266447\n",
       "1  0.723470 -0.075421\n",
       "2  0.188614  0.018051\n",
       "3  0.318907  0.188029\n",
       "4  0.581159  1.156572"
      ]
     },
     "execution_count": 107,
     "metadata": {},
     "output_type": "execute_result"
    }
   ],
   "source": [
    "df.head()"
   ]
  },
  {
   "cell_type": "code",
   "execution_count": 108,
   "id": "150b00e9",
   "metadata": {},
   "outputs": [
    {
     "data": {
      "text/plain": [
       "<AxesSubplot:xlabel='A', ylabel='B'>"
      ]
     },
     "execution_count": 108,
     "metadata": {},
     "output_type": "execute_result"
    },
    {
     "data": {
      "image/png": "[encoded data removed]",
      "text/plain": [
       "<Figure size 432x288 with 2 Axes>"
      ]
     },
     "metadata": {},
     "output_type": "display_data"
    }
   ],
   "source": [
    "df.plot.hexbin(x=\"A\", y=\"B\", gridsize=25)"
   ]
  },
  {
   "cell_type": "code",
   "execution_count": 109,
   "id": "3bf4b057",
   "metadata": {},
   "outputs": [
    {
     "data": {
      "text/plain": [
       "<AxesSubplot:xlabel='A', ylabel='B'>"
      ]
     },
     "execution_count": 109,
     "metadata": {},
     "output_type": "execute_result"
    },
    {
     "data": {
      "image/png": "[encoded data removed]",
      "text/plain": [
       "<Figure size 432x288 with 2 Axes>"
      ]
     },
     "metadata": {},
     "output_type": "display_data"
    }
   ],
   "source": [
    "df.plot.hexbin(x=\"A\", y=\"B\", gridsize=25, cmap=\"coolwarm\")"
   ]
  },
  {
   "cell_type": "code",
   "execution_count": 110,
   "id": "dd131ce6",
   "metadata": {},
   "outputs": [
    {
     "data": {
      "text/plain": [
       "<AxesSubplot:ylabel='Density'>"
      ]
     },
     "execution_count": 110,
     "metadata": {},
     "output_type": "execute_result"
    },
    {
     "data": {
      "image/png": "[encoded data removed]",
      "text/plain": [
       "<Figure size 432x288 with 1 Axes>"
      ]
     },
     "metadata": {},
     "output_type": "display_data"
    }
   ],
   "source": [
    "df[\"A\"].plot.kde()"
   ]
  },
  {
   "cell_type": "code",
   "execution_count": null,
   "id": "aa076378",
   "metadata": {},
   "outputs": [],
   "source": []
  }
 ],
 "metadata": {
  "kernelspec": {
   "display_name": "Python 3 (ipykernel)",
   "language": "python",
   "name": "python3"
  },
  "language_info": {
   "codemirror_mode": {
    "name": "ipython",
    "version": 3
   },
   "file_extension": ".py",
   "mimetype": "text/x-python",
   "name": "python",
   "nbconvert_exporter": "python",
   "pygments_lexer": "ipython3",
   "version": "3.9.12"
  }
 },
 "nbformat": 4,
 "nbformat_minor": 5
}
