{
 "cells": [
  {
   "cell_type": "markdown",
   "id": "f8dfe3b4",
   "metadata": {},
   "source": [
    "<h1> Logistic Regression </h1>"
   ]
  },
  {
   "cell_type": "markdown",
   "id": "aaec7e5f",
   "metadata": {},
   "source": [
    "- We want to learn about Logistic Regression as a method for Classification\n",
    "- Some examples of classification problems:\n",
    "  - Spam versus \"Ham\" emails\n",
    "  - Loan Default (yes/no)\n",
    "  - Disease Diagnosis\n",
    "- Above were all examples of Binary Classification"
   ]
  },
  {
   "cell_type": "markdown",
   "id": "86680045",
   "metadata": {},
   "source": [
    "- Although the name may be confusing at first, Logistic Regression allows us to solve classification problems, where we are trying to predict discrete categories.\n",
    "- The convention for binary classification is to have two classes 0 and 1.\n",
    "- We can't use a normal linear regression model on binary groups. It won't lead to a good fit.\n"
   ]
  },
  {
   "cell_type": "markdown",
   "id": "d1509866",
   "metadata": {},
   "source": [
    "<h2> Sigmoid Function </h2>\n",
    "\n",
    "The Sigmoid (aka Logistic) Function takes in any value and outputs it to be between 0 and 1."
   ]
  },
  {
   "cell_type": "code",
   "execution_count": 28,
   "id": "b5c51fbb",
   "metadata": {},
   "outputs": [],
   "source": [
    "import numpy as np\n",
    "import matplotlib.pyplot as plt"
   ]
  },
  {
   "cell_type": "code",
   "execution_count": 42,
   "id": "154b4086",
   "metadata": {},
   "outputs": [],
   "source": [
    "def sigmoid(z):\n",
    "    \n",
    "    return 1/(1 + np.power(np.e,-z))"
   ]
  },
  {
   "cell_type": "code",
   "execution_count": 22,
   "id": "8f63e848",
   "metadata": {},
   "outputs": [
    {
     "data": {
      "text/plain": [
       "0.5"
      ]
     },
     "execution_count": 22,
     "metadata": {},
     "output_type": "execute_result"
    }
   ],
   "source": [
    "sigmoid(0)"
   ]
  },
  {
   "cell_type": "code",
   "execution_count": 23,
   "id": "05c6e0c6",
   "metadata": {},
   "outputs": [],
   "source": [
    "X = np.linspace(-10,+10,20)"
   ]
  },
  {
   "cell_type": "code",
   "execution_count": 35,
   "id": "f13a598c",
   "metadata": {},
   "outputs": [
    {
     "data": {
      "text/plain": [
       "20"
      ]
     },
     "execution_count": 35,
     "metadata": {},
     "output_type": "execute_result"
    }
   ],
   "source": [
    "X.size"
   ]
  },
  {
   "cell_type": "code",
   "execution_count": 24,
   "id": "d97cdf88",
   "metadata": {},
   "outputs": [],
   "source": [
    "y = sigmoid(X)"
   ]
  },
  {
   "cell_type": "code",
   "execution_count": 40,
   "id": "5f3bf007",
   "metadata": {},
   "outputs": [
    {
     "data": {
      "text/plain": [
       "<matplotlib.legend.Legend at 0x1783127dd60>"
      ]
     },
     "execution_count": 40,
     "metadata": {},
     "output_type": "execute_result"
    },
    {
     "data": {
      "image/png": "[encoded data removed]",
      "text/plain": [
       "<Figure size 432x288 with 1 Axes>"
      ]
     },
     "metadata": {
      "needs_background": "light"
     },
     "output_type": "display_data"
    }
   ],
   "source": [
    "plt.plot(X, y, color=\"r\", lw=2, ls=\"--\", label=\"sigmoid\")\n",
    "plt.plot(X, [.50 for i in range(X.size)], color=\"b\", label=\"cutoff point\")\n",
    "plt.xlabel(\"z\")\n",
    "plt.title(\"Sigmoid Function\")\n",
    "plt.legend()"
   ]
  },
  {
   "cell_type": "markdown",
   "id": "9984875f",
   "metadata": {},
   "source": [
    "y = b0 + b1X           # Linear Regression"
   ]
  },
  {
   "cell_type": "markdown",
   "id": "1fc54f49",
   "metadata": {},
   "source": [
    "p = 1/(1+e^-(y))"
   ]
  },
  {
   "cell_type": "markdown",
   "id": "621f2b84",
   "metadata": {},
   "source": [
    "- We can set a cutoff point at 0.5, anthing below it results in class 0, anything above is class 1."
   ]
  },
  {
   "cell_type": "markdown",
   "id": "fa4fc695",
   "metadata": {},
   "source": [
    "- We use the logistic function to output a value ranging from 0 to 1.<br>\n",
    "- Basee off of this probability we assign a class."
   ]
  },
  {
   "cell_type": "markdown",
   "id": "afa6bb0c",
   "metadata": {},
   "source": [
    "<h2> Model Evaluation </h2>\n",
    "\n",
    "- After you train a Logistic Regression model on some training data, you will evaluate your model's performance on some test data.\n",
    "- You can use a confusion matrix to evaluate classification models."
   ]
  },
  {
   "cell_type": "markdown",
   "id": "435b5e4d",
   "metadata": {},
   "source": [
    "- True Positive\n",
    "- True Negative\n",
    "- False Positive\n",
    "- False Negative"
   ]
  },
  {
   "cell_type": "markdown",
   "id": "d3e314a5",
   "metadata": {},
   "source": [
    "<h3> Accuracy </h3>"
   ]
  },
  {
   "cell_type": "markdown",
   "id": "863704b8",
   "metadata": {},
   "source": [
    "(TP+TN)/total"
   ]
  },
  {
   "cell_type": "markdown",
   "id": "0c12cff0",
   "metadata": {},
   "source": [
    "<h3> Misclassification Rate (Error Rate):</h3>\n",
    " \n",
    "How often is it wrong?"
   ]
  },
  {
   "cell_type": "markdown",
   "id": "ac61900e",
   "metadata": {},
   "source": [
    "(FP+FN)/total"
   ]
  },
  {
   "cell_type": "code",
   "execution_count": null,
   "id": "28b5ac92",
   "metadata": {},
   "outputs": [],
   "source": [
    " "
   ]
  }
 ],
 "metadata": {
  "kernelspec": {
   "display_name": "Python 3 (ipykernel)",
   "language": "python",
   "name": "python3"
  },
  "language_info": {
   "codemirror_mode": {
    "name": "ipython",
    "version": 3
   },
   "file_extension": ".py",
   "mimetype": "text/x-python",
   "name": "python",
   "nbconvert_exporter": "python",
   "pygments_lexer": "ipython3",
   "version": "3.9.12"
  }
 },
 "nbformat": 4,
 "nbformat_minor": 5
}
