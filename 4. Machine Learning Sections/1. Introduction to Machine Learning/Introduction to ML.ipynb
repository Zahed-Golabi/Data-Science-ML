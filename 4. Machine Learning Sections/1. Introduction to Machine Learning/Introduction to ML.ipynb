{
 "cells": [
  {
   "cell_type": "markdown",
   "id": "522dc8ad",
   "metadata": {},
   "source": [
    "<h1> What is Machine Learning </h1>"
   ]
  },
  {
   "cell_type": "markdown",
   "id": "edc3b371",
   "metadata": {},
   "source": [
    "- Machine Learning is a method of data analysis that automates analytical model building\n",
    "- Using algorithms that iteratively learn form data, machine learning allows computers to find hidden insights without being explicitly programmed where to look."
   ]
  },
  {
   "cell_type": "markdown",
   "id": "daa5a088",
   "metadata": {},
   "source": [
    "<h2> What is it used for? </h2>\n",
    "\n",
    "- Fraud detection\n",
    "- Web search results\n",
    "- Real-time ads on web pages\n",
    "- Credit scoring and text-best offers\n",
    "- Prediction of equipment failures\n",
    "- New pricing models\n",
    "- Network intrusion detection\n",
    "- Recommendation Engines\n",
    "- Customer Segmentation\n",
    "- Text Sentiment Analysis\n",
    "- Predicting Customer Churn\n",
    "- Pattern and Image recognition\n",
    "- Email spam filtering\n",
    "- Financial Modeling\n",
    "---\n",
    "---"
   ]
  },
  {
   "cell_type": "markdown",
   "id": "ab57071b",
   "metadata": {},
   "source": [
    "<h2> Machine Learning Process</h2>"
   ]
  },
  {
   "cell_type": "markdown",
   "id": "6c059b29",
   "metadata": {},
   "source": [
    "<img src=\"ML process.png\" />"
   ]
  },
  {
   "cell_type": "markdown",
   "id": "1ed5643f",
   "metadata": {},
   "source": [
    "<h3> There are 3 main types of Machine Learning algorithms</h3>\n",
    "\n",
    "- Supervised Learning\n",
    "- Unsupervised Learning\n",
    "- Reinforcement Learning"
   ]
  },
  {
   "cell_type": "markdown",
   "id": "8324a5cd",
   "metadata": {},
   "source": [
    "<h4> Supervised Learning </h4>\n",
    "    \n",
    "- You have labeled data and are trying to perdict a label based off of known features<br>\n",
    "<h4> Unsupervised Learning </h4>\n",
    "    \n",
    "- You have unlabeled data and are trying to group together similar data points based off of features <br>\n",
    "<h4> Reinforcement Learning</h4>\n",
    "    \n",
    "- Algorithms learns to perform an action from experence\n",
    "    \n",
    "---\n",
    "---"
   ]
  },
  {
   "cell_type": "markdown",
   "id": "5f881ee4",
   "metadata": {},
   "source": [
    "<h3> Supervised Learning </h3>\n",
    "\n",
    "- Through methods like classification, regression, prediction and gradient boostin, supervised learning uses patters to predict the values of the label on additional unlabeled data.\n",
    "- Supervised learning is commonly used in applications where historical data predicts likely future events.\n"
   ]
  },
  {
   "cell_type": "markdown",
   "id": "12da5432",
   "metadata": {},
   "source": [
    "- For example , it can anticipate when credit card transactions are likely to be fraudulent or which insurance customer is likely to file a claim.\n",
    "- Or it can attempt to predict the price of a house based on different features for houses for which we have historical price data."
   ]
  },
  {
   "cell_type": "markdown",
   "id": "e2c258c1",
   "metadata": {},
   "source": [
    "---"
   ]
  },
  {
   "cell_type": "markdown",
   "id": "484e160c",
   "metadata": {},
   "source": [
    "<h3> Supervised Learning </h3>\n",
    "\n",
    "- Unsupervised learning is used against data that has no historical labels.\n",
    "- The system is not told the \"right answer\". The algorithm must figure out what is being show.\n",
    "- The goal is to explore the data and find some structure within."
   ]
  },
  {
   "cell_type": "markdown",
   "id": "fb9da1bf",
   "metadata": {},
   "source": [
    "- Or it can find the main attributes that separate customer segments frome each other.\n",
    "- Popular techniques include self-organizing maps, nearest-neighbor mapping, k-means clustering and singular value decomposition.\n",
    "- These algorithms are also used to segment text topics, recommend items and identify data outliers."
   ]
  },
  {
   "cell_type": "markdown",
   "id": "ce3e1ca2",
   "metadata": {},
   "source": [
    "foo <font color='blue'>bar</font> foo"
   ]
  },
  {
   "cell_type": "markdown",
   "id": "92af2b38",
   "metadata": {},
   "source": [
    "- <font color=\"green\">These algorithms are also used to segment text topics, recommend items and identify data outliers.</font>"
   ]
  },
  {
   "cell_type": "markdown",
   "id": "9e006c3c",
   "metadata": {},
   "source": [
    "---\n",
    "---"
   ]
  },
  {
   "cell_type": "markdown",
   "id": "3fac4ae4",
   "metadata": {},
   "source": [
    "<h3> Reinforcement Learning </h3>\n",
    "\n",
    "- Is often used for robotics, gaming and navigation.\n",
    "- With reinforcement learning, the algorithm discovers through trial and error which actions yield the greatest rewards.\n"
   ]
  },
  {
   "cell_type": "markdown",
   "id": "3c66123e",
   "metadata": {},
   "source": [
    "- This type of learning has three primary components: The agent(the learner or decision maker), the environment (everythin the agent interacts with) and actions (what the agent can do)\n",
    "- The objective is for the agent to choose actions that maximize the expected reward over a given amount of time."
   ]
  },
  {
   "cell_type": "markdown",
   "id": "e4226c18",
   "metadata": {},
   "source": [
    "- The goal in inforcement learning is to learn the best policy."
   ]
  },
  {
   "cell_type": "markdown",
   "id": "4aa9f0b4",
   "metadata": {},
   "source": [
    "<h4> We will be using the scikit learn package.</h4>\n",
    "\n",
    "You'll need to install it using;<br>\n",
    "\n",
    "```conda install scikit-learn```<br>\n",
    "or<br>\n",
    "```pip install scikit-learn```\n"
   ]
  },
  {
   "cell_type": "code",
   "execution_count": 2,
   "id": "1d9b5f6c",
   "metadata": {},
   "outputs": [],
   "source": [
    "import sklearn"
   ]
  },
  {
   "cell_type": "code",
   "execution_count": 3,
   "id": "c0fddca1",
   "metadata": {},
   "outputs": [],
   "source": [
    "from sklearn.linear_model import LinearRegression"
   ]
  },
  {
   "cell_type": "markdown",
   "id": "1d30d1e6",
   "metadata": {},
   "source": [
    "<b><font color=\"red\"> Estimator parameters </font> All the parameters of an estimator can be set when it is instantiated, and have suitable default values.</b>"
   ]
  },
  {
   "cell_type": "code",
   "execution_count": 4,
   "id": "c635be6c",
   "metadata": {},
   "outputs": [],
   "source": [
    "model = LinearRegression(normalize=True)"
   ]
  },
  {
   "cell_type": "code",
   "execution_count": 5,
   "id": "9272a182",
   "metadata": {},
   "outputs": [
    {
     "name": "stdout",
     "output_type": "stream",
     "text": [
      "LinearRegression(normalize=True)\n"
     ]
    }
   ],
   "source": [
    "print(model)"
   ]
  },
  {
   "cell_type": "code",
   "execution_count": 6,
   "id": "4a003bb1",
   "metadata": {},
   "outputs": [],
   "source": [
    "from sklearn.model_selection import train_test_split"
   ]
  },
  {
   "cell_type": "code",
   "execution_count": 7,
   "id": "97ac0ed1",
   "metadata": {},
   "outputs": [],
   "source": [
    "import numpy as np\n"
   ]
  },
  {
   "cell_type": "code",
   "execution_count": 8,
   "id": "5ea4c325",
   "metadata": {},
   "outputs": [],
   "source": [
    "X = np.arange(10).reshape((5,2))"
   ]
  },
  {
   "cell_type": "code",
   "execution_count": 9,
   "id": "8c61efcd",
   "metadata": {},
   "outputs": [],
   "source": [
    "y = range(5)"
   ]
  },
  {
   "cell_type": "code",
   "execution_count": 10,
   "id": "1c265978",
   "metadata": {},
   "outputs": [
    {
     "data": {
      "text/plain": [
       "[0, 1, 2, 3, 4]"
      ]
     },
     "execution_count": 10,
     "metadata": {},
     "output_type": "execute_result"
    }
   ],
   "source": [
    "list(y)"
   ]
  },
  {
   "cell_type": "code",
   "execution_count": 13,
   "id": "b975e884",
   "metadata": {},
   "outputs": [],
   "source": [
    "X_train, X_test, y_train, y_test = train_test_split(X, y, test_size=0.3, shuffle=True)"
   ]
  },
  {
   "cell_type": "code",
   "execution_count": 14,
   "id": "c5550781",
   "metadata": {},
   "outputs": [
    {
     "data": {
      "text/plain": [
       "array([[6, 7],\n",
       "       [2, 3],\n",
       "       [0, 1]])"
      ]
     },
     "execution_count": 14,
     "metadata": {},
     "output_type": "execute_result"
    }
   ],
   "source": [
    "X_train"
   ]
  },
  {
   "cell_type": "code",
   "execution_count": 15,
   "id": "07d43a80",
   "metadata": {},
   "outputs": [
    {
     "data": {
      "text/plain": [
       "[2, 4]"
      ]
     },
     "execution_count": 15,
     "metadata": {},
     "output_type": "execute_result"
    }
   ],
   "source": [
    "y_test"
   ]
  },
  {
   "cell_type": "code",
   "execution_count": 16,
   "id": "80ffb3ed",
   "metadata": {},
   "outputs": [
    {
     "data": {
      "text/plain": [
       "[3, 1, 0]"
      ]
     },
     "execution_count": 16,
     "metadata": {},
     "output_type": "execute_result"
    }
   ],
   "source": [
    "y_train"
   ]
  },
  {
   "cell_type": "code",
   "execution_count": 17,
   "id": "d24f2134",
   "metadata": {},
   "outputs": [
    {
     "data": {
      "text/plain": [
       "array([[4, 5],\n",
       "       [8, 9]])"
      ]
     },
     "execution_count": 17,
     "metadata": {},
     "output_type": "execute_result"
    }
   ],
   "source": [
    "X_test"
   ]
  },
  {
   "cell_type": "code",
   "execution_count": 18,
   "id": "3dff3fed",
   "metadata": {},
   "outputs": [
    {
     "name": "stderr",
     "output_type": "stream",
     "text": [
      "C:\\ProgramData\\Anaconda3\\lib\\site-packages\\sklearn\\linear_model\\_base.py:141: FutureWarning: 'normalize' was deprecated in version 1.0 and will be removed in 1.2.\n",
      "If you wish to scale the data, use Pipeline with a StandardScaler in a preprocessing stage. To reproduce the previous behavior:\n",
      "\n",
      "from sklearn.pipeline import make_pipeline\n",
      "\n",
      "model = make_pipeline(StandardScaler(with_mean=False), LinearRegression())\n",
      "\n",
      "If you wish to pass a sample_weight parameter, you need to pass it as a fit parameter to each step of the pipeline as follows:\n",
      "\n",
      "kwargs = {s[0] + '__sample_weight': sample_weight for s in model.steps}\n",
      "model.fit(X, y, **kwargs)\n",
      "\n",
      "\n",
      "  warnings.warn(\n"
     ]
    },
    {
     "data": {
      "text/plain": [
       "LinearRegression(normalize=True)"
      ]
     },
     "execution_count": 18,
     "metadata": {},
     "output_type": "execute_result"
    }
   ],
   "source": [
    "model.fit(X_train, y_train)"
   ]
  },
  {
   "cell_type": "code",
   "execution_count": 19,
   "id": "51faf6ba",
   "metadata": {},
   "outputs": [],
   "source": [
    "predictions = model.predict(X_test)"
   ]
  },
  {
   "cell_type": "code",
   "execution_count": 20,
   "id": "c6598939",
   "metadata": {},
   "outputs": [
    {
     "data": {
      "text/plain": [
       "array([2., 4.])"
      ]
     },
     "execution_count": 20,
     "metadata": {},
     "output_type": "execute_result"
    }
   ],
   "source": [
    "predictions"
   ]
  },
  {
   "cell_type": "code",
   "execution_count": 21,
   "id": "3a9760fc",
   "metadata": {},
   "outputs": [
    {
     "data": {
      "text/plain": [
       "[2, 4]"
      ]
     },
     "execution_count": 21,
     "metadata": {},
     "output_type": "execute_result"
    }
   ],
   "source": [
    "y_test"
   ]
  },
  {
   "cell_type": "code",
   "execution_count": 23,
   "id": "29db0ce1",
   "metadata": {},
   "outputs": [
    {
     "data": {
      "text/plain": [
       "1.0"
      ]
     },
     "execution_count": 23,
     "metadata": {},
     "output_type": "execute_result"
    }
   ],
   "source": [
    "model.score(X,y)"
   ]
  },
  {
   "cell_type": "code",
   "execution_count": null,
   "id": "8b2a8926",
   "metadata": {},
   "outputs": [],
   "source": []
  }
 ],
 "metadata": {
  "kernelspec": {
   "display_name": "Python 3 (ipykernel)",
   "language": "python",
   "name": "python3"
  },
  "language_info": {
   "codemirror_mode": {
    "name": "ipython",
    "version": 3
   },
   "file_extension": ".py",
   "mimetype": "text/x-python",
   "name": "python",
   "nbconvert_exporter": "python",
   "pygments_lexer": "ipython3",
   "version": "3.9.12"
  }
 },
 "nbformat": 4,
 "nbformat_minor": 5
}
