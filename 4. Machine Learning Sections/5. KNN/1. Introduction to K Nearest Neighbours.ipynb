{
 "cells": [
  {
   "cell_type": "markdown",
   "id": "7cce8ad8",
   "metadata": {},
   "source": [
    "<h1> K Nearest Neighbours</h1>"
   ]
  },
  {
   "cell_type": "markdown",
   "id": "1d2b7dee",
   "metadata": {},
   "source": [
    "- K Nearest Neighbours is a classification algorithm that operates on a very simple principle\n",
    "- It is best shown through example\n",
    "- Imagine we had some imaginary data on Dogs and Horses, with heights and weights"
   ]
  },
  {
   "cell_type": "markdown",
   "id": "456805e6",
   "metadata": {},
   "source": [
    "<h2> Training Algorithm:</h2>\n",
    "    1. Store all the Data\n",
    "\n",
    "Prediction Algorithm:\n",
    "1. Calculate the distance from x to all points in your data\n",
    "2. Sort the points in your data by increasing distance from x\n",
    "3. predict the majority label of the \"k\" closest points\n"
   ]
  },
  {
   "cell_type": "markdown",
   "id": "d064ea44",
   "metadata": {},
   "source": [
    "Choosing a K will affect what class a new point is assigned to:"
   ]
  },
  {
   "cell_type": "markdown",
   "id": "497f7602",
   "metadata": {},
   "source": [
    "<img src=\"KNN.JPG\">"
   ]
  },
  {
   "cell_type": "markdown",
   "id": "0b111cbf",
   "metadata": {},
   "source": [
    "<h3> Pros </h3>\n",
    "\n",
    "- Very simple\n",
    "- Training is trivial \n",
    "- Works with any number of classes\n",
    "- Easy to add more data\n",
    "- Few parameters\n",
    "    - K\n",
    "    - Distance Metric"
   ]
  },
  {
   "cell_type": "markdown",
   "id": "9d9e8a68",
   "metadata": {},
   "source": [
    "<h3> Cons </h3>\n",
    "\n",
    "- High Prediction Cost (worse for large data sets)\n",
    "- Not good with high dimensional data\n",
    "- Categorical Features don't work well"
   ]
  },
  {
   "cell_type": "code",
   "execution_count": null,
   "id": "feb05dbd",
   "metadata": {},
   "outputs": [],
   "source": [
    " "
   ]
  }
 ],
 "metadata": {
  "kernelspec": {
   "display_name": "Python 3 (ipykernel)",
   "language": "python",
   "name": "python3"
  },
  "language_info": {
   "codemirror_mode": {
    "name": "ipython",
    "version": 3
   },
   "file_extension": ".py",
   "mimetype": "text/x-python",
   "name": "python",
   "nbconvert_exporter": "python",
   "pygments_lexer": "ipython3",
   "version": "3.9.12"
  }
 },
 "nbformat": 4,
 "nbformat_minor": 5
}
